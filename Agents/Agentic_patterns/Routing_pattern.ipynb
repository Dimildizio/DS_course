{
  "nbformat": 4,
  "nbformat_minor": 0,
  "metadata": {
    "colab": {
      "provenance": [],
      "authorship_tag": "ABX9TyOgb5v8wxV3UrQTjiJ0GMQQ",
      "include_colab_link": true
    },
    "kernelspec": {
      "name": "python3",
      "display_name": "Python 3"
    },
    "language_info": {
      "name": "python"
    },
    "widgets": {
      "application/vnd.jupyter.widget-state+json": {
        "dd35a426623845d194db94359213b9c4": {
          "model_module": "@jupyter-widgets/controls",
          "model_name": "HBoxModel",
          "model_module_version": "1.5.0",
          "state": {
            "_dom_classes": [],
            "_model_module": "@jupyter-widgets/controls",
            "_model_module_version": "1.5.0",
            "_model_name": "HBoxModel",
            "_view_count": null,
            "_view_module": "@jupyter-widgets/controls",
            "_view_module_version": "1.5.0",
            "_view_name": "HBoxView",
            "box_style": "",
            "children": [
              "IPY_MODEL_d84a54de1f184d84985ad812149e7f85",
              "IPY_MODEL_e9c7acd34e5245f5b4415e7b6eaa6e8a",
              "IPY_MODEL_2fcf822eae6244aea048dc13bbc44b61"
            ],
            "layout": "IPY_MODEL_ffd901881aba43a2b4ac98c558ee1fe6"
          }
        },
        "d84a54de1f184d84985ad812149e7f85": {
          "model_module": "@jupyter-widgets/controls",
          "model_name": "HTMLModel",
          "model_module_version": "1.5.0",
          "state": {
            "_dom_classes": [],
            "_model_module": "@jupyter-widgets/controls",
            "_model_module_version": "1.5.0",
            "_model_name": "HTMLModel",
            "_view_count": null,
            "_view_module": "@jupyter-widgets/controls",
            "_view_module_version": "1.5.0",
            "_view_name": "HTMLView",
            "description": "",
            "description_tooltip": null,
            "layout": "IPY_MODEL_77fed83234064362884a7db51b0cf1ed",
            "placeholder": "​",
            "style": "IPY_MODEL_87ed96b7d5fe4e8d96f433ca45d15a5e",
            "value": "modules.json: 100%"
          }
        },
        "e9c7acd34e5245f5b4415e7b6eaa6e8a": {
          "model_module": "@jupyter-widgets/controls",
          "model_name": "FloatProgressModel",
          "model_module_version": "1.5.0",
          "state": {
            "_dom_classes": [],
            "_model_module": "@jupyter-widgets/controls",
            "_model_module_version": "1.5.0",
            "_model_name": "FloatProgressModel",
            "_view_count": null,
            "_view_module": "@jupyter-widgets/controls",
            "_view_module_version": "1.5.0",
            "_view_name": "ProgressView",
            "bar_style": "success",
            "description": "",
            "description_tooltip": null,
            "layout": "IPY_MODEL_fa90b71cfd9e43b18685edc7e1f977b5",
            "max": 349,
            "min": 0,
            "orientation": "horizontal",
            "style": "IPY_MODEL_7ce13392d4934f8ca35f5a27d508712c",
            "value": 349
          }
        },
        "2fcf822eae6244aea048dc13bbc44b61": {
          "model_module": "@jupyter-widgets/controls",
          "model_name": "HTMLModel",
          "model_module_version": "1.5.0",
          "state": {
            "_dom_classes": [],
            "_model_module": "@jupyter-widgets/controls",
            "_model_module_version": "1.5.0",
            "_model_name": "HTMLModel",
            "_view_count": null,
            "_view_module": "@jupyter-widgets/controls",
            "_view_module_version": "1.5.0",
            "_view_name": "HTMLView",
            "description": "",
            "description_tooltip": null,
            "layout": "IPY_MODEL_3f5522a40317415cb398fa6b4f023322",
            "placeholder": "​",
            "style": "IPY_MODEL_ada4d484ab9940c5a40fb300b836c1f4",
            "value": " 349/349 [00:00&lt;00:00, 24.5kB/s]"
          }
        },
        "ffd901881aba43a2b4ac98c558ee1fe6": {
          "model_module": "@jupyter-widgets/base",
          "model_name": "LayoutModel",
          "model_module_version": "1.2.0",
          "state": {
            "_model_module": "@jupyter-widgets/base",
            "_model_module_version": "1.2.0",
            "_model_name": "LayoutModel",
            "_view_count": null,
            "_view_module": "@jupyter-widgets/base",
            "_view_module_version": "1.2.0",
            "_view_name": "LayoutView",
            "align_content": null,
            "align_items": null,
            "align_self": null,
            "border": null,
            "bottom": null,
            "display": null,
            "flex": null,
            "flex_flow": null,
            "grid_area": null,
            "grid_auto_columns": null,
            "grid_auto_flow": null,
            "grid_auto_rows": null,
            "grid_column": null,
            "grid_gap": null,
            "grid_row": null,
            "grid_template_areas": null,
            "grid_template_columns": null,
            "grid_template_rows": null,
            "height": null,
            "justify_content": null,
            "justify_items": null,
            "left": null,
            "margin": null,
            "max_height": null,
            "max_width": null,
            "min_height": null,
            "min_width": null,
            "object_fit": null,
            "object_position": null,
            "order": null,
            "overflow": null,
            "overflow_x": null,
            "overflow_y": null,
            "padding": null,
            "right": null,
            "top": null,
            "visibility": null,
            "width": null
          }
        },
        "77fed83234064362884a7db51b0cf1ed": {
          "model_module": "@jupyter-widgets/base",
          "model_name": "LayoutModel",
          "model_module_version": "1.2.0",
          "state": {
            "_model_module": "@jupyter-widgets/base",
            "_model_module_version": "1.2.0",
            "_model_name": "LayoutModel",
            "_view_count": null,
            "_view_module": "@jupyter-widgets/base",
            "_view_module_version": "1.2.0",
            "_view_name": "LayoutView",
            "align_content": null,
            "align_items": null,
            "align_self": null,
            "border": null,
            "bottom": null,
            "display": null,
            "flex": null,
            "flex_flow": null,
            "grid_area": null,
            "grid_auto_columns": null,
            "grid_auto_flow": null,
            "grid_auto_rows": null,
            "grid_column": null,
            "grid_gap": null,
            "grid_row": null,
            "grid_template_areas": null,
            "grid_template_columns": null,
            "grid_template_rows": null,
            "height": null,
            "justify_content": null,
            "justify_items": null,
            "left": null,
            "margin": null,
            "max_height": null,
            "max_width": null,
            "min_height": null,
            "min_width": null,
            "object_fit": null,
            "object_position": null,
            "order": null,
            "overflow": null,
            "overflow_x": null,
            "overflow_y": null,
            "padding": null,
            "right": null,
            "top": null,
            "visibility": null,
            "width": null
          }
        },
        "87ed96b7d5fe4e8d96f433ca45d15a5e": {
          "model_module": "@jupyter-widgets/controls",
          "model_name": "DescriptionStyleModel",
          "model_module_version": "1.5.0",
          "state": {
            "_model_module": "@jupyter-widgets/controls",
            "_model_module_version": "1.5.0",
            "_model_name": "DescriptionStyleModel",
            "_view_count": null,
            "_view_module": "@jupyter-widgets/base",
            "_view_module_version": "1.2.0",
            "_view_name": "StyleView",
            "description_width": ""
          }
        },
        "fa90b71cfd9e43b18685edc7e1f977b5": {
          "model_module": "@jupyter-widgets/base",
          "model_name": "LayoutModel",
          "model_module_version": "1.2.0",
          "state": {
            "_model_module": "@jupyter-widgets/base",
            "_model_module_version": "1.2.0",
            "_model_name": "LayoutModel",
            "_view_count": null,
            "_view_module": "@jupyter-widgets/base",
            "_view_module_version": "1.2.0",
            "_view_name": "LayoutView",
            "align_content": null,
            "align_items": null,
            "align_self": null,
            "border": null,
            "bottom": null,
            "display": null,
            "flex": null,
            "flex_flow": null,
            "grid_area": null,
            "grid_auto_columns": null,
            "grid_auto_flow": null,
            "grid_auto_rows": null,
            "grid_column": null,
            "grid_gap": null,
            "grid_row": null,
            "grid_template_areas": null,
            "grid_template_columns": null,
            "grid_template_rows": null,
            "height": null,
            "justify_content": null,
            "justify_items": null,
            "left": null,
            "margin": null,
            "max_height": null,
            "max_width": null,
            "min_height": null,
            "min_width": null,
            "object_fit": null,
            "object_position": null,
            "order": null,
            "overflow": null,
            "overflow_x": null,
            "overflow_y": null,
            "padding": null,
            "right": null,
            "top": null,
            "visibility": null,
            "width": null
          }
        },
        "7ce13392d4934f8ca35f5a27d508712c": {
          "model_module": "@jupyter-widgets/controls",
          "model_name": "ProgressStyleModel",
          "model_module_version": "1.5.0",
          "state": {
            "_model_module": "@jupyter-widgets/controls",
            "_model_module_version": "1.5.0",
            "_model_name": "ProgressStyleModel",
            "_view_count": null,
            "_view_module": "@jupyter-widgets/base",
            "_view_module_version": "1.2.0",
            "_view_name": "StyleView",
            "bar_color": null,
            "description_width": ""
          }
        },
        "3f5522a40317415cb398fa6b4f023322": {
          "model_module": "@jupyter-widgets/base",
          "model_name": "LayoutModel",
          "model_module_version": "1.2.0",
          "state": {
            "_model_module": "@jupyter-widgets/base",
            "_model_module_version": "1.2.0",
            "_model_name": "LayoutModel",
            "_view_count": null,
            "_view_module": "@jupyter-widgets/base",
            "_view_module_version": "1.2.0",
            "_view_name": "LayoutView",
            "align_content": null,
            "align_items": null,
            "align_self": null,
            "border": null,
            "bottom": null,
            "display": null,
            "flex": null,
            "flex_flow": null,
            "grid_area": null,
            "grid_auto_columns": null,
            "grid_auto_flow": null,
            "grid_auto_rows": null,
            "grid_column": null,
            "grid_gap": null,
            "grid_row": null,
            "grid_template_areas": null,
            "grid_template_columns": null,
            "grid_template_rows": null,
            "height": null,
            "justify_content": null,
            "justify_items": null,
            "left": null,
            "margin": null,
            "max_height": null,
            "max_width": null,
            "min_height": null,
            "min_width": null,
            "object_fit": null,
            "object_position": null,
            "order": null,
            "overflow": null,
            "overflow_x": null,
            "overflow_y": null,
            "padding": null,
            "right": null,
            "top": null,
            "visibility": null,
            "width": null
          }
        },
        "ada4d484ab9940c5a40fb300b836c1f4": {
          "model_module": "@jupyter-widgets/controls",
          "model_name": "DescriptionStyleModel",
          "model_module_version": "1.5.0",
          "state": {
            "_model_module": "@jupyter-widgets/controls",
            "_model_module_version": "1.5.0",
            "_model_name": "DescriptionStyleModel",
            "_view_count": null,
            "_view_module": "@jupyter-widgets/base",
            "_view_module_version": "1.2.0",
            "_view_name": "StyleView",
            "description_width": ""
          }
        },
        "2773c0c8ff454e1ead1cbd44c8174df9": {
          "model_module": "@jupyter-widgets/controls",
          "model_name": "HBoxModel",
          "model_module_version": "1.5.0",
          "state": {
            "_dom_classes": [],
            "_model_module": "@jupyter-widgets/controls",
            "_model_module_version": "1.5.0",
            "_model_name": "HBoxModel",
            "_view_count": null,
            "_view_module": "@jupyter-widgets/controls",
            "_view_module_version": "1.5.0",
            "_view_name": "HBoxView",
            "box_style": "",
            "children": [
              "IPY_MODEL_501687b3d122465ab04a3665ce6078e4",
              "IPY_MODEL_75178a91a05a4887b2209ce9aa0a69ca",
              "IPY_MODEL_6e2b55d9f8884344869cf28f9f1e3365"
            ],
            "layout": "IPY_MODEL_fbe7c32f73074773a8065e84dd1572d5"
          }
        },
        "501687b3d122465ab04a3665ce6078e4": {
          "model_module": "@jupyter-widgets/controls",
          "model_name": "HTMLModel",
          "model_module_version": "1.5.0",
          "state": {
            "_dom_classes": [],
            "_model_module": "@jupyter-widgets/controls",
            "_model_module_version": "1.5.0",
            "_model_name": "HTMLModel",
            "_view_count": null,
            "_view_module": "@jupyter-widgets/controls",
            "_view_module_version": "1.5.0",
            "_view_name": "HTMLView",
            "description": "",
            "description_tooltip": null,
            "layout": "IPY_MODEL_1ac9a6cdf7ff45a592f4802a317fed11",
            "placeholder": "​",
            "style": "IPY_MODEL_9de95976f36e487788c57431e3a403f6",
            "value": "config_sentence_transformers.json: 100%"
          }
        },
        "75178a91a05a4887b2209ce9aa0a69ca": {
          "model_module": "@jupyter-widgets/controls",
          "model_name": "FloatProgressModel",
          "model_module_version": "1.5.0",
          "state": {
            "_dom_classes": [],
            "_model_module": "@jupyter-widgets/controls",
            "_model_module_version": "1.5.0",
            "_model_name": "FloatProgressModel",
            "_view_count": null,
            "_view_module": "@jupyter-widgets/controls",
            "_view_module_version": "1.5.0",
            "_view_name": "ProgressView",
            "bar_style": "success",
            "description": "",
            "description_tooltip": null,
            "layout": "IPY_MODEL_cbe76b0cc4884231bc0062fa7b29893c",
            "max": 116,
            "min": 0,
            "orientation": "horizontal",
            "style": "IPY_MODEL_f85930531eb0415e81f9c6d24b52758b",
            "value": 116
          }
        },
        "6e2b55d9f8884344869cf28f9f1e3365": {
          "model_module": "@jupyter-widgets/controls",
          "model_name": "HTMLModel",
          "model_module_version": "1.5.0",
          "state": {
            "_dom_classes": [],
            "_model_module": "@jupyter-widgets/controls",
            "_model_module_version": "1.5.0",
            "_model_name": "HTMLModel",
            "_view_count": null,
            "_view_module": "@jupyter-widgets/controls",
            "_view_module_version": "1.5.0",
            "_view_name": "HTMLView",
            "description": "",
            "description_tooltip": null,
            "layout": "IPY_MODEL_9bdefa0036a44f1e9460cffabbd0072b",
            "placeholder": "​",
            "style": "IPY_MODEL_58e01d13b45141749c8ff30248504fb5",
            "value": " 116/116 [00:00&lt;00:00, 7.96kB/s]"
          }
        },
        "fbe7c32f73074773a8065e84dd1572d5": {
          "model_module": "@jupyter-widgets/base",
          "model_name": "LayoutModel",
          "model_module_version": "1.2.0",
          "state": {
            "_model_module": "@jupyter-widgets/base",
            "_model_module_version": "1.2.0",
            "_model_name": "LayoutModel",
            "_view_count": null,
            "_view_module": "@jupyter-widgets/base",
            "_view_module_version": "1.2.0",
            "_view_name": "LayoutView",
            "align_content": null,
            "align_items": null,
            "align_self": null,
            "border": null,
            "bottom": null,
            "display": null,
            "flex": null,
            "flex_flow": null,
            "grid_area": null,
            "grid_auto_columns": null,
            "grid_auto_flow": null,
            "grid_auto_rows": null,
            "grid_column": null,
            "grid_gap": null,
            "grid_row": null,
            "grid_template_areas": null,
            "grid_template_columns": null,
            "grid_template_rows": null,
            "height": null,
            "justify_content": null,
            "justify_items": null,
            "left": null,
            "margin": null,
            "max_height": null,
            "max_width": null,
            "min_height": null,
            "min_width": null,
            "object_fit": null,
            "object_position": null,
            "order": null,
            "overflow": null,
            "overflow_x": null,
            "overflow_y": null,
            "padding": null,
            "right": null,
            "top": null,
            "visibility": null,
            "width": null
          }
        },
        "1ac9a6cdf7ff45a592f4802a317fed11": {
          "model_module": "@jupyter-widgets/base",
          "model_name": "LayoutModel",
          "model_module_version": "1.2.0",
          "state": {
            "_model_module": "@jupyter-widgets/base",
            "_model_module_version": "1.2.0",
            "_model_name": "LayoutModel",
            "_view_count": null,
            "_view_module": "@jupyter-widgets/base",
            "_view_module_version": "1.2.0",
            "_view_name": "LayoutView",
            "align_content": null,
            "align_items": null,
            "align_self": null,
            "border": null,
            "bottom": null,
            "display": null,
            "flex": null,
            "flex_flow": null,
            "grid_area": null,
            "grid_auto_columns": null,
            "grid_auto_flow": null,
            "grid_auto_rows": null,
            "grid_column": null,
            "grid_gap": null,
            "grid_row": null,
            "grid_template_areas": null,
            "grid_template_columns": null,
            "grid_template_rows": null,
            "height": null,
            "justify_content": null,
            "justify_items": null,
            "left": null,
            "margin": null,
            "max_height": null,
            "max_width": null,
            "min_height": null,
            "min_width": null,
            "object_fit": null,
            "object_position": null,
            "order": null,
            "overflow": null,
            "overflow_x": null,
            "overflow_y": null,
            "padding": null,
            "right": null,
            "top": null,
            "visibility": null,
            "width": null
          }
        },
        "9de95976f36e487788c57431e3a403f6": {
          "model_module": "@jupyter-widgets/controls",
          "model_name": "DescriptionStyleModel",
          "model_module_version": "1.5.0",
          "state": {
            "_model_module": "@jupyter-widgets/controls",
            "_model_module_version": "1.5.0",
            "_model_name": "DescriptionStyleModel",
            "_view_count": null,
            "_view_module": "@jupyter-widgets/base",
            "_view_module_version": "1.2.0",
            "_view_name": "StyleView",
            "description_width": ""
          }
        },
        "cbe76b0cc4884231bc0062fa7b29893c": {
          "model_module": "@jupyter-widgets/base",
          "model_name": "LayoutModel",
          "model_module_version": "1.2.0",
          "state": {
            "_model_module": "@jupyter-widgets/base",
            "_model_module_version": "1.2.0",
            "_model_name": "LayoutModel",
            "_view_count": null,
            "_view_module": "@jupyter-widgets/base",
            "_view_module_version": "1.2.0",
            "_view_name": "LayoutView",
            "align_content": null,
            "align_items": null,
            "align_self": null,
            "border": null,
            "bottom": null,
            "display": null,
            "flex": null,
            "flex_flow": null,
            "grid_area": null,
            "grid_auto_columns": null,
            "grid_auto_flow": null,
            "grid_auto_rows": null,
            "grid_column": null,
            "grid_gap": null,
            "grid_row": null,
            "grid_template_areas": null,
            "grid_template_columns": null,
            "grid_template_rows": null,
            "height": null,
            "justify_content": null,
            "justify_items": null,
            "left": null,
            "margin": null,
            "max_height": null,
            "max_width": null,
            "min_height": null,
            "min_width": null,
            "object_fit": null,
            "object_position": null,
            "order": null,
            "overflow": null,
            "overflow_x": null,
            "overflow_y": null,
            "padding": null,
            "right": null,
            "top": null,
            "visibility": null,
            "width": null
          }
        },
        "f85930531eb0415e81f9c6d24b52758b": {
          "model_module": "@jupyter-widgets/controls",
          "model_name": "ProgressStyleModel",
          "model_module_version": "1.5.0",
          "state": {
            "_model_module": "@jupyter-widgets/controls",
            "_model_module_version": "1.5.0",
            "_model_name": "ProgressStyleModel",
            "_view_count": null,
            "_view_module": "@jupyter-widgets/base",
            "_view_module_version": "1.2.0",
            "_view_name": "StyleView",
            "bar_color": null,
            "description_width": ""
          }
        },
        "9bdefa0036a44f1e9460cffabbd0072b": {
          "model_module": "@jupyter-widgets/base",
          "model_name": "LayoutModel",
          "model_module_version": "1.2.0",
          "state": {
            "_model_module": "@jupyter-widgets/base",
            "_model_module_version": "1.2.0",
            "_model_name": "LayoutModel",
            "_view_count": null,
            "_view_module": "@jupyter-widgets/base",
            "_view_module_version": "1.2.0",
            "_view_name": "LayoutView",
            "align_content": null,
            "align_items": null,
            "align_self": null,
            "border": null,
            "bottom": null,
            "display": null,
            "flex": null,
            "flex_flow": null,
            "grid_area": null,
            "grid_auto_columns": null,
            "grid_auto_flow": null,
            "grid_auto_rows": null,
            "grid_column": null,
            "grid_gap": null,
            "grid_row": null,
            "grid_template_areas": null,
            "grid_template_columns": null,
            "grid_template_rows": null,
            "height": null,
            "justify_content": null,
            "justify_items": null,
            "left": null,
            "margin": null,
            "max_height": null,
            "max_width": null,
            "min_height": null,
            "min_width": null,
            "object_fit": null,
            "object_position": null,
            "order": null,
            "overflow": null,
            "overflow_x": null,
            "overflow_y": null,
            "padding": null,
            "right": null,
            "top": null,
            "visibility": null,
            "width": null
          }
        },
        "58e01d13b45141749c8ff30248504fb5": {
          "model_module": "@jupyter-widgets/controls",
          "model_name": "DescriptionStyleModel",
          "model_module_version": "1.5.0",
          "state": {
            "_model_module": "@jupyter-widgets/controls",
            "_model_module_version": "1.5.0",
            "_model_name": "DescriptionStyleModel",
            "_view_count": null,
            "_view_module": "@jupyter-widgets/base",
            "_view_module_version": "1.2.0",
            "_view_name": "StyleView",
            "description_width": ""
          }
        },
        "5c3d09b448a04803aacb6bccda34ab73": {
          "model_module": "@jupyter-widgets/controls",
          "model_name": "HBoxModel",
          "model_module_version": "1.5.0",
          "state": {
            "_dom_classes": [],
            "_model_module": "@jupyter-widgets/controls",
            "_model_module_version": "1.5.0",
            "_model_name": "HBoxModel",
            "_view_count": null,
            "_view_module": "@jupyter-widgets/controls",
            "_view_module_version": "1.5.0",
            "_view_name": "HBoxView",
            "box_style": "",
            "children": [
              "IPY_MODEL_72f19d836d0e40e49d77f0cf95692ff5",
              "IPY_MODEL_64ac8234811e41a5b2316ce9af7634bf",
              "IPY_MODEL_72751ea94227466d9a6edadbae55cbf4"
            ],
            "layout": "IPY_MODEL_ab4a3c6389c44a5e8d0ab502a0391c95"
          }
        },
        "72f19d836d0e40e49d77f0cf95692ff5": {
          "model_module": "@jupyter-widgets/controls",
          "model_name": "HTMLModel",
          "model_module_version": "1.5.0",
          "state": {
            "_dom_classes": [],
            "_model_module": "@jupyter-widgets/controls",
            "_model_module_version": "1.5.0",
            "_model_name": "HTMLModel",
            "_view_count": null,
            "_view_module": "@jupyter-widgets/controls",
            "_view_module_version": "1.5.0",
            "_view_name": "HTMLView",
            "description": "",
            "description_tooltip": null,
            "layout": "IPY_MODEL_525aab6dcb524132a749cc44a69c7a60",
            "placeholder": "​",
            "style": "IPY_MODEL_ca3fa59228a6477f8319d921cae369cd",
            "value": "README.md: "
          }
        },
        "64ac8234811e41a5b2316ce9af7634bf": {
          "model_module": "@jupyter-widgets/controls",
          "model_name": "FloatProgressModel",
          "model_module_version": "1.5.0",
          "state": {
            "_dom_classes": [],
            "_model_module": "@jupyter-widgets/controls",
            "_model_module_version": "1.5.0",
            "_model_name": "FloatProgressModel",
            "_view_count": null,
            "_view_module": "@jupyter-widgets/controls",
            "_view_module_version": "1.5.0",
            "_view_name": "ProgressView",
            "bar_style": "success",
            "description": "",
            "description_tooltip": null,
            "layout": "IPY_MODEL_6c80a0c8d2474ca8a65e6bc5e4abc581",
            "max": 1,
            "min": 0,
            "orientation": "horizontal",
            "style": "IPY_MODEL_0da03bb485034a6ea6ed6b63905adc25",
            "value": 1
          }
        },
        "72751ea94227466d9a6edadbae55cbf4": {
          "model_module": "@jupyter-widgets/controls",
          "model_name": "HTMLModel",
          "model_module_version": "1.5.0",
          "state": {
            "_dom_classes": [],
            "_model_module": "@jupyter-widgets/controls",
            "_model_module_version": "1.5.0",
            "_model_name": "HTMLModel",
            "_view_count": null,
            "_view_module": "@jupyter-widgets/controls",
            "_view_module_version": "1.5.0",
            "_view_name": "HTMLView",
            "description": "",
            "description_tooltip": null,
            "layout": "IPY_MODEL_5acaa1723621403ba9ceeb04411b2586",
            "placeholder": "​",
            "style": "IPY_MODEL_5c40cd3581944182abd0db98958c3421",
            "value": " 10.5k/? [00:00&lt;00:00, 800kB/s]"
          }
        },
        "ab4a3c6389c44a5e8d0ab502a0391c95": {
          "model_module": "@jupyter-widgets/base",
          "model_name": "LayoutModel",
          "model_module_version": "1.2.0",
          "state": {
            "_model_module": "@jupyter-widgets/base",
            "_model_module_version": "1.2.0",
            "_model_name": "LayoutModel",
            "_view_count": null,
            "_view_module": "@jupyter-widgets/base",
            "_view_module_version": "1.2.0",
            "_view_name": "LayoutView",
            "align_content": null,
            "align_items": null,
            "align_self": null,
            "border": null,
            "bottom": null,
            "display": null,
            "flex": null,
            "flex_flow": null,
            "grid_area": null,
            "grid_auto_columns": null,
            "grid_auto_flow": null,
            "grid_auto_rows": null,
            "grid_column": null,
            "grid_gap": null,
            "grid_row": null,
            "grid_template_areas": null,
            "grid_template_columns": null,
            "grid_template_rows": null,
            "height": null,
            "justify_content": null,
            "justify_items": null,
            "left": null,
            "margin": null,
            "max_height": null,
            "max_width": null,
            "min_height": null,
            "min_width": null,
            "object_fit": null,
            "object_position": null,
            "order": null,
            "overflow": null,
            "overflow_x": null,
            "overflow_y": null,
            "padding": null,
            "right": null,
            "top": null,
            "visibility": null,
            "width": null
          }
        },
        "525aab6dcb524132a749cc44a69c7a60": {
          "model_module": "@jupyter-widgets/base",
          "model_name": "LayoutModel",
          "model_module_version": "1.2.0",
          "state": {
            "_model_module": "@jupyter-widgets/base",
            "_model_module_version": "1.2.0",
            "_model_name": "LayoutModel",
            "_view_count": null,
            "_view_module": "@jupyter-widgets/base",
            "_view_module_version": "1.2.0",
            "_view_name": "LayoutView",
            "align_content": null,
            "align_items": null,
            "align_self": null,
            "border": null,
            "bottom": null,
            "display": null,
            "flex": null,
            "flex_flow": null,
            "grid_area": null,
            "grid_auto_columns": null,
            "grid_auto_flow": null,
            "grid_auto_rows": null,
            "grid_column": null,
            "grid_gap": null,
            "grid_row": null,
            "grid_template_areas": null,
            "grid_template_columns": null,
            "grid_template_rows": null,
            "height": null,
            "justify_content": null,
            "justify_items": null,
            "left": null,
            "margin": null,
            "max_height": null,
            "max_width": null,
            "min_height": null,
            "min_width": null,
            "object_fit": null,
            "object_position": null,
            "order": null,
            "overflow": null,
            "overflow_x": null,
            "overflow_y": null,
            "padding": null,
            "right": null,
            "top": null,
            "visibility": null,
            "width": null
          }
        },
        "ca3fa59228a6477f8319d921cae369cd": {
          "model_module": "@jupyter-widgets/controls",
          "model_name": "DescriptionStyleModel",
          "model_module_version": "1.5.0",
          "state": {
            "_model_module": "@jupyter-widgets/controls",
            "_model_module_version": "1.5.0",
            "_model_name": "DescriptionStyleModel",
            "_view_count": null,
            "_view_module": "@jupyter-widgets/base",
            "_view_module_version": "1.2.0",
            "_view_name": "StyleView",
            "description_width": ""
          }
        },
        "6c80a0c8d2474ca8a65e6bc5e4abc581": {
          "model_module": "@jupyter-widgets/base",
          "model_name": "LayoutModel",
          "model_module_version": "1.2.0",
          "state": {
            "_model_module": "@jupyter-widgets/base",
            "_model_module_version": "1.2.0",
            "_model_name": "LayoutModel",
            "_view_count": null,
            "_view_module": "@jupyter-widgets/base",
            "_view_module_version": "1.2.0",
            "_view_name": "LayoutView",
            "align_content": null,
            "align_items": null,
            "align_self": null,
            "border": null,
            "bottom": null,
            "display": null,
            "flex": null,
            "flex_flow": null,
            "grid_area": null,
            "grid_auto_columns": null,
            "grid_auto_flow": null,
            "grid_auto_rows": null,
            "grid_column": null,
            "grid_gap": null,
            "grid_row": null,
            "grid_template_areas": null,
            "grid_template_columns": null,
            "grid_template_rows": null,
            "height": null,
            "justify_content": null,
            "justify_items": null,
            "left": null,
            "margin": null,
            "max_height": null,
            "max_width": null,
            "min_height": null,
            "min_width": null,
            "object_fit": null,
            "object_position": null,
            "order": null,
            "overflow": null,
            "overflow_x": null,
            "overflow_y": null,
            "padding": null,
            "right": null,
            "top": null,
            "visibility": null,
            "width": "20px"
          }
        },
        "0da03bb485034a6ea6ed6b63905adc25": {
          "model_module": "@jupyter-widgets/controls",
          "model_name": "ProgressStyleModel",
          "model_module_version": "1.5.0",
          "state": {
            "_model_module": "@jupyter-widgets/controls",
            "_model_module_version": "1.5.0",
            "_model_name": "ProgressStyleModel",
            "_view_count": null,
            "_view_module": "@jupyter-widgets/base",
            "_view_module_version": "1.2.0",
            "_view_name": "StyleView",
            "bar_color": null,
            "description_width": ""
          }
        },
        "5acaa1723621403ba9ceeb04411b2586": {
          "model_module": "@jupyter-widgets/base",
          "model_name": "LayoutModel",
          "model_module_version": "1.2.0",
          "state": {
            "_model_module": "@jupyter-widgets/base",
            "_model_module_version": "1.2.0",
            "_model_name": "LayoutModel",
            "_view_count": null,
            "_view_module": "@jupyter-widgets/base",
            "_view_module_version": "1.2.0",
            "_view_name": "LayoutView",
            "align_content": null,
            "align_items": null,
            "align_self": null,
            "border": null,
            "bottom": null,
            "display": null,
            "flex": null,
            "flex_flow": null,
            "grid_area": null,
            "grid_auto_columns": null,
            "grid_auto_flow": null,
            "grid_auto_rows": null,
            "grid_column": null,
            "grid_gap": null,
            "grid_row": null,
            "grid_template_areas": null,
            "grid_template_columns": null,
            "grid_template_rows": null,
            "height": null,
            "justify_content": null,
            "justify_items": null,
            "left": null,
            "margin": null,
            "max_height": null,
            "max_width": null,
            "min_height": null,
            "min_width": null,
            "object_fit": null,
            "object_position": null,
            "order": null,
            "overflow": null,
            "overflow_x": null,
            "overflow_y": null,
            "padding": null,
            "right": null,
            "top": null,
            "visibility": null,
            "width": null
          }
        },
        "5c40cd3581944182abd0db98958c3421": {
          "model_module": "@jupyter-widgets/controls",
          "model_name": "DescriptionStyleModel",
          "model_module_version": "1.5.0",
          "state": {
            "_model_module": "@jupyter-widgets/controls",
            "_model_module_version": "1.5.0",
            "_model_name": "DescriptionStyleModel",
            "_view_count": null,
            "_view_module": "@jupyter-widgets/base",
            "_view_module_version": "1.2.0",
            "_view_name": "StyleView",
            "description_width": ""
          }
        },
        "043a7439eda94d1490af405755a2cea2": {
          "model_module": "@jupyter-widgets/controls",
          "model_name": "HBoxModel",
          "model_module_version": "1.5.0",
          "state": {
            "_dom_classes": [],
            "_model_module": "@jupyter-widgets/controls",
            "_model_module_version": "1.5.0",
            "_model_name": "HBoxModel",
            "_view_count": null,
            "_view_module": "@jupyter-widgets/controls",
            "_view_module_version": "1.5.0",
            "_view_name": "HBoxView",
            "box_style": "",
            "children": [
              "IPY_MODEL_85b0c9ccbef5477f806f77b4f81e8132",
              "IPY_MODEL_e060664b3e4f4eaca9fd49b14242c789",
              "IPY_MODEL_ce0f21575c394149a1dc80febaa28367"
            ],
            "layout": "IPY_MODEL_b4dae4b28bd2467994c756eee380d21a"
          }
        },
        "85b0c9ccbef5477f806f77b4f81e8132": {
          "model_module": "@jupyter-widgets/controls",
          "model_name": "HTMLModel",
          "model_module_version": "1.5.0",
          "state": {
            "_dom_classes": [],
            "_model_module": "@jupyter-widgets/controls",
            "_model_module_version": "1.5.0",
            "_model_name": "HTMLModel",
            "_view_count": null,
            "_view_module": "@jupyter-widgets/controls",
            "_view_module_version": "1.5.0",
            "_view_name": "HTMLView",
            "description": "",
            "description_tooltip": null,
            "layout": "IPY_MODEL_2b52836b86154324950f22d2369fde73",
            "placeholder": "​",
            "style": "IPY_MODEL_40e9f9d3f700492c91c0ac80128b89f5",
            "value": "sentence_bert_config.json: 100%"
          }
        },
        "e060664b3e4f4eaca9fd49b14242c789": {
          "model_module": "@jupyter-widgets/controls",
          "model_name": "FloatProgressModel",
          "model_module_version": "1.5.0",
          "state": {
            "_dom_classes": [],
            "_model_module": "@jupyter-widgets/controls",
            "_model_module_version": "1.5.0",
            "_model_name": "FloatProgressModel",
            "_view_count": null,
            "_view_module": "@jupyter-widgets/controls",
            "_view_module_version": "1.5.0",
            "_view_name": "ProgressView",
            "bar_style": "success",
            "description": "",
            "description_tooltip": null,
            "layout": "IPY_MODEL_ce737b2747294bdba24a123834a61882",
            "max": 53,
            "min": 0,
            "orientation": "horizontal",
            "style": "IPY_MODEL_a853abb7a22b46ad8d835b9b4c45da91",
            "value": 53
          }
        },
        "ce0f21575c394149a1dc80febaa28367": {
          "model_module": "@jupyter-widgets/controls",
          "model_name": "HTMLModel",
          "model_module_version": "1.5.0",
          "state": {
            "_dom_classes": [],
            "_model_module": "@jupyter-widgets/controls",
            "_model_module_version": "1.5.0",
            "_model_name": "HTMLModel",
            "_view_count": null,
            "_view_module": "@jupyter-widgets/controls",
            "_view_module_version": "1.5.0",
            "_view_name": "HTMLView",
            "description": "",
            "description_tooltip": null,
            "layout": "IPY_MODEL_bf27bd41026f45eba8250949d4916ddf",
            "placeholder": "​",
            "style": "IPY_MODEL_2b2af42b0d574556a43132f9a3d8696e",
            "value": " 53.0/53.0 [00:00&lt;00:00, 4.53kB/s]"
          }
        },
        "b4dae4b28bd2467994c756eee380d21a": {
          "model_module": "@jupyter-widgets/base",
          "model_name": "LayoutModel",
          "model_module_version": "1.2.0",
          "state": {
            "_model_module": "@jupyter-widgets/base",
            "_model_module_version": "1.2.0",
            "_model_name": "LayoutModel",
            "_view_count": null,
            "_view_module": "@jupyter-widgets/base",
            "_view_module_version": "1.2.0",
            "_view_name": "LayoutView",
            "align_content": null,
            "align_items": null,
            "align_self": null,
            "border": null,
            "bottom": null,
            "display": null,
            "flex": null,
            "flex_flow": null,
            "grid_area": null,
            "grid_auto_columns": null,
            "grid_auto_flow": null,
            "grid_auto_rows": null,
            "grid_column": null,
            "grid_gap": null,
            "grid_row": null,
            "grid_template_areas": null,
            "grid_template_columns": null,
            "grid_template_rows": null,
            "height": null,
            "justify_content": null,
            "justify_items": null,
            "left": null,
            "margin": null,
            "max_height": null,
            "max_width": null,
            "min_height": null,
            "min_width": null,
            "object_fit": null,
            "object_position": null,
            "order": null,
            "overflow": null,
            "overflow_x": null,
            "overflow_y": null,
            "padding": null,
            "right": null,
            "top": null,
            "visibility": null,
            "width": null
          }
        },
        "2b52836b86154324950f22d2369fde73": {
          "model_module": "@jupyter-widgets/base",
          "model_name": "LayoutModel",
          "model_module_version": "1.2.0",
          "state": {
            "_model_module": "@jupyter-widgets/base",
            "_model_module_version": "1.2.0",
            "_model_name": "LayoutModel",
            "_view_count": null,
            "_view_module": "@jupyter-widgets/base",
            "_view_module_version": "1.2.0",
            "_view_name": "LayoutView",
            "align_content": null,
            "align_items": null,
            "align_self": null,
            "border": null,
            "bottom": null,
            "display": null,
            "flex": null,
            "flex_flow": null,
            "grid_area": null,
            "grid_auto_columns": null,
            "grid_auto_flow": null,
            "grid_auto_rows": null,
            "grid_column": null,
            "grid_gap": null,
            "grid_row": null,
            "grid_template_areas": null,
            "grid_template_columns": null,
            "grid_template_rows": null,
            "height": null,
            "justify_content": null,
            "justify_items": null,
            "left": null,
            "margin": null,
            "max_height": null,
            "max_width": null,
            "min_height": null,
            "min_width": null,
            "object_fit": null,
            "object_position": null,
            "order": null,
            "overflow": null,
            "overflow_x": null,
            "overflow_y": null,
            "padding": null,
            "right": null,
            "top": null,
            "visibility": null,
            "width": null
          }
        },
        "40e9f9d3f700492c91c0ac80128b89f5": {
          "model_module": "@jupyter-widgets/controls",
          "model_name": "DescriptionStyleModel",
          "model_module_version": "1.5.0",
          "state": {
            "_model_module": "@jupyter-widgets/controls",
            "_model_module_version": "1.5.0",
            "_model_name": "DescriptionStyleModel",
            "_view_count": null,
            "_view_module": "@jupyter-widgets/base",
            "_view_module_version": "1.2.0",
            "_view_name": "StyleView",
            "description_width": ""
          }
        },
        "ce737b2747294bdba24a123834a61882": {
          "model_module": "@jupyter-widgets/base",
          "model_name": "LayoutModel",
          "model_module_version": "1.2.0",
          "state": {
            "_model_module": "@jupyter-widgets/base",
            "_model_module_version": "1.2.0",
            "_model_name": "LayoutModel",
            "_view_count": null,
            "_view_module": "@jupyter-widgets/base",
            "_view_module_version": "1.2.0",
            "_view_name": "LayoutView",
            "align_content": null,
            "align_items": null,
            "align_self": null,
            "border": null,
            "bottom": null,
            "display": null,
            "flex": null,
            "flex_flow": null,
            "grid_area": null,
            "grid_auto_columns": null,
            "grid_auto_flow": null,
            "grid_auto_rows": null,
            "grid_column": null,
            "grid_gap": null,
            "grid_row": null,
            "grid_template_areas": null,
            "grid_template_columns": null,
            "grid_template_rows": null,
            "height": null,
            "justify_content": null,
            "justify_items": null,
            "left": null,
            "margin": null,
            "max_height": null,
            "max_width": null,
            "min_height": null,
            "min_width": null,
            "object_fit": null,
            "object_position": null,
            "order": null,
            "overflow": null,
            "overflow_x": null,
            "overflow_y": null,
            "padding": null,
            "right": null,
            "top": null,
            "visibility": null,
            "width": null
          }
        },
        "a853abb7a22b46ad8d835b9b4c45da91": {
          "model_module": "@jupyter-widgets/controls",
          "model_name": "ProgressStyleModel",
          "model_module_version": "1.5.0",
          "state": {
            "_model_module": "@jupyter-widgets/controls",
            "_model_module_version": "1.5.0",
            "_model_name": "ProgressStyleModel",
            "_view_count": null,
            "_view_module": "@jupyter-widgets/base",
            "_view_module_version": "1.2.0",
            "_view_name": "StyleView",
            "bar_color": null,
            "description_width": ""
          }
        },
        "bf27bd41026f45eba8250949d4916ddf": {
          "model_module": "@jupyter-widgets/base",
          "model_name": "LayoutModel",
          "model_module_version": "1.2.0",
          "state": {
            "_model_module": "@jupyter-widgets/base",
            "_model_module_version": "1.2.0",
            "_model_name": "LayoutModel",
            "_view_count": null,
            "_view_module": "@jupyter-widgets/base",
            "_view_module_version": "1.2.0",
            "_view_name": "LayoutView",
            "align_content": null,
            "align_items": null,
            "align_self": null,
            "border": null,
            "bottom": null,
            "display": null,
            "flex": null,
            "flex_flow": null,
            "grid_area": null,
            "grid_auto_columns": null,
            "grid_auto_flow": null,
            "grid_auto_rows": null,
            "grid_column": null,
            "grid_gap": null,
            "grid_row": null,
            "grid_template_areas": null,
            "grid_template_columns": null,
            "grid_template_rows": null,
            "height": null,
            "justify_content": null,
            "justify_items": null,
            "left": null,
            "margin": null,
            "max_height": null,
            "max_width": null,
            "min_height": null,
            "min_width": null,
            "object_fit": null,
            "object_position": null,
            "order": null,
            "overflow": null,
            "overflow_x": null,
            "overflow_y": null,
            "padding": null,
            "right": null,
            "top": null,
            "visibility": null,
            "width": null
          }
        },
        "2b2af42b0d574556a43132f9a3d8696e": {
          "model_module": "@jupyter-widgets/controls",
          "model_name": "DescriptionStyleModel",
          "model_module_version": "1.5.0",
          "state": {
            "_model_module": "@jupyter-widgets/controls",
            "_model_module_version": "1.5.0",
            "_model_name": "DescriptionStyleModel",
            "_view_count": null,
            "_view_module": "@jupyter-widgets/base",
            "_view_module_version": "1.2.0",
            "_view_name": "StyleView",
            "description_width": ""
          }
        },
        "009d755f79484baebb9fe973cd71729b": {
          "model_module": "@jupyter-widgets/controls",
          "model_name": "HBoxModel",
          "model_module_version": "1.5.0",
          "state": {
            "_dom_classes": [],
            "_model_module": "@jupyter-widgets/controls",
            "_model_module_version": "1.5.0",
            "_model_name": "HBoxModel",
            "_view_count": null,
            "_view_module": "@jupyter-widgets/controls",
            "_view_module_version": "1.5.0",
            "_view_name": "HBoxView",
            "box_style": "",
            "children": [
              "IPY_MODEL_60d7426697fd40128d501d47155b8ef8",
              "IPY_MODEL_c3a7214cc4054c61846f658ef8eb966f",
              "IPY_MODEL_dc3724eb42264ffb9f948ca4d1f13ed6"
            ],
            "layout": "IPY_MODEL_e64fbaf3b8d6423b99e8a35f934da33a"
          }
        },
        "60d7426697fd40128d501d47155b8ef8": {
          "model_module": "@jupyter-widgets/controls",
          "model_name": "HTMLModel",
          "model_module_version": "1.5.0",
          "state": {
            "_dom_classes": [],
            "_model_module": "@jupyter-widgets/controls",
            "_model_module_version": "1.5.0",
            "_model_name": "HTMLModel",
            "_view_count": null,
            "_view_module": "@jupyter-widgets/controls",
            "_view_module_version": "1.5.0",
            "_view_name": "HTMLView",
            "description": "",
            "description_tooltip": null,
            "layout": "IPY_MODEL_610c94ad510945c7822f42ee3a05bca3",
            "placeholder": "​",
            "style": "IPY_MODEL_e920ab261d8544b0a40d72441b205858",
            "value": "config.json: 100%"
          }
        },
        "c3a7214cc4054c61846f658ef8eb966f": {
          "model_module": "@jupyter-widgets/controls",
          "model_name": "FloatProgressModel",
          "model_module_version": "1.5.0",
          "state": {
            "_dom_classes": [],
            "_model_module": "@jupyter-widgets/controls",
            "_model_module_version": "1.5.0",
            "_model_name": "FloatProgressModel",
            "_view_count": null,
            "_view_module": "@jupyter-widgets/controls",
            "_view_module_version": "1.5.0",
            "_view_name": "ProgressView",
            "bar_style": "success",
            "description": "",
            "description_tooltip": null,
            "layout": "IPY_MODEL_fac4525e22994defac7204a08a0ab19e",
            "max": 612,
            "min": 0,
            "orientation": "horizontal",
            "style": "IPY_MODEL_755e8bf8eafb448ea185ceab45b1cacc",
            "value": 612
          }
        },
        "dc3724eb42264ffb9f948ca4d1f13ed6": {
          "model_module": "@jupyter-widgets/controls",
          "model_name": "HTMLModel",
          "model_module_version": "1.5.0",
          "state": {
            "_dom_classes": [],
            "_model_module": "@jupyter-widgets/controls",
            "_model_module_version": "1.5.0",
            "_model_name": "HTMLModel",
            "_view_count": null,
            "_view_module": "@jupyter-widgets/controls",
            "_view_module_version": "1.5.0",
            "_view_name": "HTMLView",
            "description": "",
            "description_tooltip": null,
            "layout": "IPY_MODEL_626209cc4b0e4d4a8491bb5176653c7a",
            "placeholder": "​",
            "style": "IPY_MODEL_72c26aa402504c22a51a5fcc069f18e9",
            "value": " 612/612 [00:00&lt;00:00, 33.3kB/s]"
          }
        },
        "e64fbaf3b8d6423b99e8a35f934da33a": {
          "model_module": "@jupyter-widgets/base",
          "model_name": "LayoutModel",
          "model_module_version": "1.2.0",
          "state": {
            "_model_module": "@jupyter-widgets/base",
            "_model_module_version": "1.2.0",
            "_model_name": "LayoutModel",
            "_view_count": null,
            "_view_module": "@jupyter-widgets/base",
            "_view_module_version": "1.2.0",
            "_view_name": "LayoutView",
            "align_content": null,
            "align_items": null,
            "align_self": null,
            "border": null,
            "bottom": null,
            "display": null,
            "flex": null,
            "flex_flow": null,
            "grid_area": null,
            "grid_auto_columns": null,
            "grid_auto_flow": null,
            "grid_auto_rows": null,
            "grid_column": null,
            "grid_gap": null,
            "grid_row": null,
            "grid_template_areas": null,
            "grid_template_columns": null,
            "grid_template_rows": null,
            "height": null,
            "justify_content": null,
            "justify_items": null,
            "left": null,
            "margin": null,
            "max_height": null,
            "max_width": null,
            "min_height": null,
            "min_width": null,
            "object_fit": null,
            "object_position": null,
            "order": null,
            "overflow": null,
            "overflow_x": null,
            "overflow_y": null,
            "padding": null,
            "right": null,
            "top": null,
            "visibility": null,
            "width": null
          }
        },
        "610c94ad510945c7822f42ee3a05bca3": {
          "model_module": "@jupyter-widgets/base",
          "model_name": "LayoutModel",
          "model_module_version": "1.2.0",
          "state": {
            "_model_module": "@jupyter-widgets/base",
            "_model_module_version": "1.2.0",
            "_model_name": "LayoutModel",
            "_view_count": null,
            "_view_module": "@jupyter-widgets/base",
            "_view_module_version": "1.2.0",
            "_view_name": "LayoutView",
            "align_content": null,
            "align_items": null,
            "align_self": null,
            "border": null,
            "bottom": null,
            "display": null,
            "flex": null,
            "flex_flow": null,
            "grid_area": null,
            "grid_auto_columns": null,
            "grid_auto_flow": null,
            "grid_auto_rows": null,
            "grid_column": null,
            "grid_gap": null,
            "grid_row": null,
            "grid_template_areas": null,
            "grid_template_columns": null,
            "grid_template_rows": null,
            "height": null,
            "justify_content": null,
            "justify_items": null,
            "left": null,
            "margin": null,
            "max_height": null,
            "max_width": null,
            "min_height": null,
            "min_width": null,
            "object_fit": null,
            "object_position": null,
            "order": null,
            "overflow": null,
            "overflow_x": null,
            "overflow_y": null,
            "padding": null,
            "right": null,
            "top": null,
            "visibility": null,
            "width": null
          }
        },
        "e920ab261d8544b0a40d72441b205858": {
          "model_module": "@jupyter-widgets/controls",
          "model_name": "DescriptionStyleModel",
          "model_module_version": "1.5.0",
          "state": {
            "_model_module": "@jupyter-widgets/controls",
            "_model_module_version": "1.5.0",
            "_model_name": "DescriptionStyleModel",
            "_view_count": null,
            "_view_module": "@jupyter-widgets/base",
            "_view_module_version": "1.2.0",
            "_view_name": "StyleView",
            "description_width": ""
          }
        },
        "fac4525e22994defac7204a08a0ab19e": {
          "model_module": "@jupyter-widgets/base",
          "model_name": "LayoutModel",
          "model_module_version": "1.2.0",
          "state": {
            "_model_module": "@jupyter-widgets/base",
            "_model_module_version": "1.2.0",
            "_model_name": "LayoutModel",
            "_view_count": null,
            "_view_module": "@jupyter-widgets/base",
            "_view_module_version": "1.2.0",
            "_view_name": "LayoutView",
            "align_content": null,
            "align_items": null,
            "align_self": null,
            "border": null,
            "bottom": null,
            "display": null,
            "flex": null,
            "flex_flow": null,
            "grid_area": null,
            "grid_auto_columns": null,
            "grid_auto_flow": null,
            "grid_auto_rows": null,
            "grid_column": null,
            "grid_gap": null,
            "grid_row": null,
            "grid_template_areas": null,
            "grid_template_columns": null,
            "grid_template_rows": null,
            "height": null,
            "justify_content": null,
            "justify_items": null,
            "left": null,
            "margin": null,
            "max_height": null,
            "max_width": null,
            "min_height": null,
            "min_width": null,
            "object_fit": null,
            "object_position": null,
            "order": null,
            "overflow": null,
            "overflow_x": null,
            "overflow_y": null,
            "padding": null,
            "right": null,
            "top": null,
            "visibility": null,
            "width": null
          }
        },
        "755e8bf8eafb448ea185ceab45b1cacc": {
          "model_module": "@jupyter-widgets/controls",
          "model_name": "ProgressStyleModel",
          "model_module_version": "1.5.0",
          "state": {
            "_model_module": "@jupyter-widgets/controls",
            "_model_module_version": "1.5.0",
            "_model_name": "ProgressStyleModel",
            "_view_count": null,
            "_view_module": "@jupyter-widgets/base",
            "_view_module_version": "1.2.0",
            "_view_name": "StyleView",
            "bar_color": null,
            "description_width": ""
          }
        },
        "626209cc4b0e4d4a8491bb5176653c7a": {
          "model_module": "@jupyter-widgets/base",
          "model_name": "LayoutModel",
          "model_module_version": "1.2.0",
          "state": {
            "_model_module": "@jupyter-widgets/base",
            "_model_module_version": "1.2.0",
            "_model_name": "LayoutModel",
            "_view_count": null,
            "_view_module": "@jupyter-widgets/base",
            "_view_module_version": "1.2.0",
            "_view_name": "LayoutView",
            "align_content": null,
            "align_items": null,
            "align_self": null,
            "border": null,
            "bottom": null,
            "display": null,
            "flex": null,
            "flex_flow": null,
            "grid_area": null,
            "grid_auto_columns": null,
            "grid_auto_flow": null,
            "grid_auto_rows": null,
            "grid_column": null,
            "grid_gap": null,
            "grid_row": null,
            "grid_template_areas": null,
            "grid_template_columns": null,
            "grid_template_rows": null,
            "height": null,
            "justify_content": null,
            "justify_items": null,
            "left": null,
            "margin": null,
            "max_height": null,
            "max_width": null,
            "min_height": null,
            "min_width": null,
            "object_fit": null,
            "object_position": null,
            "order": null,
            "overflow": null,
            "overflow_x": null,
            "overflow_y": null,
            "padding": null,
            "right": null,
            "top": null,
            "visibility": null,
            "width": null
          }
        },
        "72c26aa402504c22a51a5fcc069f18e9": {
          "model_module": "@jupyter-widgets/controls",
          "model_name": "DescriptionStyleModel",
          "model_module_version": "1.5.0",
          "state": {
            "_model_module": "@jupyter-widgets/controls",
            "_model_module_version": "1.5.0",
            "_model_name": "DescriptionStyleModel",
            "_view_count": null,
            "_view_module": "@jupyter-widgets/base",
            "_view_module_version": "1.2.0",
            "_view_name": "StyleView",
            "description_width": ""
          }
        },
        "95a7929268314431ad6c94be23f101f7": {
          "model_module": "@jupyter-widgets/controls",
          "model_name": "HBoxModel",
          "model_module_version": "1.5.0",
          "state": {
            "_dom_classes": [],
            "_model_module": "@jupyter-widgets/controls",
            "_model_module_version": "1.5.0",
            "_model_name": "HBoxModel",
            "_view_count": null,
            "_view_module": "@jupyter-widgets/controls",
            "_view_module_version": "1.5.0",
            "_view_name": "HBoxView",
            "box_style": "",
            "children": [
              "IPY_MODEL_f1b0a2beaa2948d49ede43b9e28b0cd4",
              "IPY_MODEL_ee928a5ef8d04a27a285db8f0430026d",
              "IPY_MODEL_181834385a87469b9ddb927e4d4c3616"
            ],
            "layout": "IPY_MODEL_076ee86c99ba4d39abf11f30a0eec593"
          }
        },
        "f1b0a2beaa2948d49ede43b9e28b0cd4": {
          "model_module": "@jupyter-widgets/controls",
          "model_name": "HTMLModel",
          "model_module_version": "1.5.0",
          "state": {
            "_dom_classes": [],
            "_model_module": "@jupyter-widgets/controls",
            "_model_module_version": "1.5.0",
            "_model_name": "HTMLModel",
            "_view_count": null,
            "_view_module": "@jupyter-widgets/controls",
            "_view_module_version": "1.5.0",
            "_view_name": "HTMLView",
            "description": "",
            "description_tooltip": null,
            "layout": "IPY_MODEL_57cc067d4f5b4763b7b5511f47ac5b5e",
            "placeholder": "​",
            "style": "IPY_MODEL_d25e591ec4fa43edb53e0c69e0b744de",
            "value": "model.safetensors: 100%"
          }
        },
        "ee928a5ef8d04a27a285db8f0430026d": {
          "model_module": "@jupyter-widgets/controls",
          "model_name": "FloatProgressModel",
          "model_module_version": "1.5.0",
          "state": {
            "_dom_classes": [],
            "_model_module": "@jupyter-widgets/controls",
            "_model_module_version": "1.5.0",
            "_model_name": "FloatProgressModel",
            "_view_count": null,
            "_view_module": "@jupyter-widgets/controls",
            "_view_module_version": "1.5.0",
            "_view_name": "ProgressView",
            "bar_style": "success",
            "description": "",
            "description_tooltip": null,
            "layout": "IPY_MODEL_180766225fd24368b4d56ac44f1d4efd",
            "max": 90868376,
            "min": 0,
            "orientation": "horizontal",
            "style": "IPY_MODEL_0df147ae94e24382a37e2e944570084a",
            "value": 90868376
          }
        },
        "181834385a87469b9ddb927e4d4c3616": {
          "model_module": "@jupyter-widgets/controls",
          "model_name": "HTMLModel",
          "model_module_version": "1.5.0",
          "state": {
            "_dom_classes": [],
            "_model_module": "@jupyter-widgets/controls",
            "_model_module_version": "1.5.0",
            "_model_name": "HTMLModel",
            "_view_count": null,
            "_view_module": "@jupyter-widgets/controls",
            "_view_module_version": "1.5.0",
            "_view_name": "HTMLView",
            "description": "",
            "description_tooltip": null,
            "layout": "IPY_MODEL_bb497928e287487bb033765ed8de2dae",
            "placeholder": "​",
            "style": "IPY_MODEL_7be0e17aa5074f74a5887392b923a078",
            "value": " 90.9M/90.9M [00:01&lt;00:00, 95.9MB/s]"
          }
        },
        "076ee86c99ba4d39abf11f30a0eec593": {
          "model_module": "@jupyter-widgets/base",
          "model_name": "LayoutModel",
          "model_module_version": "1.2.0",
          "state": {
            "_model_module": "@jupyter-widgets/base",
            "_model_module_version": "1.2.0",
            "_model_name": "LayoutModel",
            "_view_count": null,
            "_view_module": "@jupyter-widgets/base",
            "_view_module_version": "1.2.0",
            "_view_name": "LayoutView",
            "align_content": null,
            "align_items": null,
            "align_self": null,
            "border": null,
            "bottom": null,
            "display": null,
            "flex": null,
            "flex_flow": null,
            "grid_area": null,
            "grid_auto_columns": null,
            "grid_auto_flow": null,
            "grid_auto_rows": null,
            "grid_column": null,
            "grid_gap": null,
            "grid_row": null,
            "grid_template_areas": null,
            "grid_template_columns": null,
            "grid_template_rows": null,
            "height": null,
            "justify_content": null,
            "justify_items": null,
            "left": null,
            "margin": null,
            "max_height": null,
            "max_width": null,
            "min_height": null,
            "min_width": null,
            "object_fit": null,
            "object_position": null,
            "order": null,
            "overflow": null,
            "overflow_x": null,
            "overflow_y": null,
            "padding": null,
            "right": null,
            "top": null,
            "visibility": null,
            "width": null
          }
        },
        "57cc067d4f5b4763b7b5511f47ac5b5e": {
          "model_module": "@jupyter-widgets/base",
          "model_name": "LayoutModel",
          "model_module_version": "1.2.0",
          "state": {
            "_model_module": "@jupyter-widgets/base",
            "_model_module_version": "1.2.0",
            "_model_name": "LayoutModel",
            "_view_count": null,
            "_view_module": "@jupyter-widgets/base",
            "_view_module_version": "1.2.0",
            "_view_name": "LayoutView",
            "align_content": null,
            "align_items": null,
            "align_self": null,
            "border": null,
            "bottom": null,
            "display": null,
            "flex": null,
            "flex_flow": null,
            "grid_area": null,
            "grid_auto_columns": null,
            "grid_auto_flow": null,
            "grid_auto_rows": null,
            "grid_column": null,
            "grid_gap": null,
            "grid_row": null,
            "grid_template_areas": null,
            "grid_template_columns": null,
            "grid_template_rows": null,
            "height": null,
            "justify_content": null,
            "justify_items": null,
            "left": null,
            "margin": null,
            "max_height": null,
            "max_width": null,
            "min_height": null,
            "min_width": null,
            "object_fit": null,
            "object_position": null,
            "order": null,
            "overflow": null,
            "overflow_x": null,
            "overflow_y": null,
            "padding": null,
            "right": null,
            "top": null,
            "visibility": null,
            "width": null
          }
        },
        "d25e591ec4fa43edb53e0c69e0b744de": {
          "model_module": "@jupyter-widgets/controls",
          "model_name": "DescriptionStyleModel",
          "model_module_version": "1.5.0",
          "state": {
            "_model_module": "@jupyter-widgets/controls",
            "_model_module_version": "1.5.0",
            "_model_name": "DescriptionStyleModel",
            "_view_count": null,
            "_view_module": "@jupyter-widgets/base",
            "_view_module_version": "1.2.0",
            "_view_name": "StyleView",
            "description_width": ""
          }
        },
        "180766225fd24368b4d56ac44f1d4efd": {
          "model_module": "@jupyter-widgets/base",
          "model_name": "LayoutModel",
          "model_module_version": "1.2.0",
          "state": {
            "_model_module": "@jupyter-widgets/base",
            "_model_module_version": "1.2.0",
            "_model_name": "LayoutModel",
            "_view_count": null,
            "_view_module": "@jupyter-widgets/base",
            "_view_module_version": "1.2.0",
            "_view_name": "LayoutView",
            "align_content": null,
            "align_items": null,
            "align_self": null,
            "border": null,
            "bottom": null,
            "display": null,
            "flex": null,
            "flex_flow": null,
            "grid_area": null,
            "grid_auto_columns": null,
            "grid_auto_flow": null,
            "grid_auto_rows": null,
            "grid_column": null,
            "grid_gap": null,
            "grid_row": null,
            "grid_template_areas": null,
            "grid_template_columns": null,
            "grid_template_rows": null,
            "height": null,
            "justify_content": null,
            "justify_items": null,
            "left": null,
            "margin": null,
            "max_height": null,
            "max_width": null,
            "min_height": null,
            "min_width": null,
            "object_fit": null,
            "object_position": null,
            "order": null,
            "overflow": null,
            "overflow_x": null,
            "overflow_y": null,
            "padding": null,
            "right": null,
            "top": null,
            "visibility": null,
            "width": null
          }
        },
        "0df147ae94e24382a37e2e944570084a": {
          "model_module": "@jupyter-widgets/controls",
          "model_name": "ProgressStyleModel",
          "model_module_version": "1.5.0",
          "state": {
            "_model_module": "@jupyter-widgets/controls",
            "_model_module_version": "1.5.0",
            "_model_name": "ProgressStyleModel",
            "_view_count": null,
            "_view_module": "@jupyter-widgets/base",
            "_view_module_version": "1.2.0",
            "_view_name": "StyleView",
            "bar_color": null,
            "description_width": ""
          }
        },
        "bb497928e287487bb033765ed8de2dae": {
          "model_module": "@jupyter-widgets/base",
          "model_name": "LayoutModel",
          "model_module_version": "1.2.0",
          "state": {
            "_model_module": "@jupyter-widgets/base",
            "_model_module_version": "1.2.0",
            "_model_name": "LayoutModel",
            "_view_count": null,
            "_view_module": "@jupyter-widgets/base",
            "_view_module_version": "1.2.0",
            "_view_name": "LayoutView",
            "align_content": null,
            "align_items": null,
            "align_self": null,
            "border": null,
            "bottom": null,
            "display": null,
            "flex": null,
            "flex_flow": null,
            "grid_area": null,
            "grid_auto_columns": null,
            "grid_auto_flow": null,
            "grid_auto_rows": null,
            "grid_column": null,
            "grid_gap": null,
            "grid_row": null,
            "grid_template_areas": null,
            "grid_template_columns": null,
            "grid_template_rows": null,
            "height": null,
            "justify_content": null,
            "justify_items": null,
            "left": null,
            "margin": null,
            "max_height": null,
            "max_width": null,
            "min_height": null,
            "min_width": null,
            "object_fit": null,
            "object_position": null,
            "order": null,
            "overflow": null,
            "overflow_x": null,
            "overflow_y": null,
            "padding": null,
            "right": null,
            "top": null,
            "visibility": null,
            "width": null
          }
        },
        "7be0e17aa5074f74a5887392b923a078": {
          "model_module": "@jupyter-widgets/controls",
          "model_name": "DescriptionStyleModel",
          "model_module_version": "1.5.0",
          "state": {
            "_model_module": "@jupyter-widgets/controls",
            "_model_module_version": "1.5.0",
            "_model_name": "DescriptionStyleModel",
            "_view_count": null,
            "_view_module": "@jupyter-widgets/base",
            "_view_module_version": "1.2.0",
            "_view_name": "StyleView",
            "description_width": ""
          }
        },
        "9554942c100b4e9ca53c073d4e080462": {
          "model_module": "@jupyter-widgets/controls",
          "model_name": "HBoxModel",
          "model_module_version": "1.5.0",
          "state": {
            "_dom_classes": [],
            "_model_module": "@jupyter-widgets/controls",
            "_model_module_version": "1.5.0",
            "_model_name": "HBoxModel",
            "_view_count": null,
            "_view_module": "@jupyter-widgets/controls",
            "_view_module_version": "1.5.0",
            "_view_name": "HBoxView",
            "box_style": "",
            "children": [
              "IPY_MODEL_f45a0f5a74794a378c72f2708a8b9a1c",
              "IPY_MODEL_60c64c3134fe465eb490d6027e4fd706",
              "IPY_MODEL_a09c028d04c746d6b4e05e2418039ac1"
            ],
            "layout": "IPY_MODEL_83031a4d946e4cf5865cb4c0ea13d00d"
          }
        },
        "f45a0f5a74794a378c72f2708a8b9a1c": {
          "model_module": "@jupyter-widgets/controls",
          "model_name": "HTMLModel",
          "model_module_version": "1.5.0",
          "state": {
            "_dom_classes": [],
            "_model_module": "@jupyter-widgets/controls",
            "_model_module_version": "1.5.0",
            "_model_name": "HTMLModel",
            "_view_count": null,
            "_view_module": "@jupyter-widgets/controls",
            "_view_module_version": "1.5.0",
            "_view_name": "HTMLView",
            "description": "",
            "description_tooltip": null,
            "layout": "IPY_MODEL_5953a62ff9684b00a0964851af04b162",
            "placeholder": "​",
            "style": "IPY_MODEL_d9868e6e01b44ddaaead32fc5833a571",
            "value": "tokenizer_config.json: 100%"
          }
        },
        "60c64c3134fe465eb490d6027e4fd706": {
          "model_module": "@jupyter-widgets/controls",
          "model_name": "FloatProgressModel",
          "model_module_version": "1.5.0",
          "state": {
            "_dom_classes": [],
            "_model_module": "@jupyter-widgets/controls",
            "_model_module_version": "1.5.0",
            "_model_name": "FloatProgressModel",
            "_view_count": null,
            "_view_module": "@jupyter-widgets/controls",
            "_view_module_version": "1.5.0",
            "_view_name": "ProgressView",
            "bar_style": "success",
            "description": "",
            "description_tooltip": null,
            "layout": "IPY_MODEL_4b3382606da24c48aa616666aab9bf46",
            "max": 350,
            "min": 0,
            "orientation": "horizontal",
            "style": "IPY_MODEL_99489ba07f854fb7af28442be62d3e0f",
            "value": 350
          }
        },
        "a09c028d04c746d6b4e05e2418039ac1": {
          "model_module": "@jupyter-widgets/controls",
          "model_name": "HTMLModel",
          "model_module_version": "1.5.0",
          "state": {
            "_dom_classes": [],
            "_model_module": "@jupyter-widgets/controls",
            "_model_module_version": "1.5.0",
            "_model_name": "HTMLModel",
            "_view_count": null,
            "_view_module": "@jupyter-widgets/controls",
            "_view_module_version": "1.5.0",
            "_view_name": "HTMLView",
            "description": "",
            "description_tooltip": null,
            "layout": "IPY_MODEL_c2269858e41141b484e360c19ec18c41",
            "placeholder": "​",
            "style": "IPY_MODEL_42186945d15b42909017be8f2e1e0d28",
            "value": " 350/350 [00:00&lt;00:00, 26.1kB/s]"
          }
        },
        "83031a4d946e4cf5865cb4c0ea13d00d": {
          "model_module": "@jupyter-widgets/base",
          "model_name": "LayoutModel",
          "model_module_version": "1.2.0",
          "state": {
            "_model_module": "@jupyter-widgets/base",
            "_model_module_version": "1.2.0",
            "_model_name": "LayoutModel",
            "_view_count": null,
            "_view_module": "@jupyter-widgets/base",
            "_view_module_version": "1.2.0",
            "_view_name": "LayoutView",
            "align_content": null,
            "align_items": null,
            "align_self": null,
            "border": null,
            "bottom": null,
            "display": null,
            "flex": null,
            "flex_flow": null,
            "grid_area": null,
            "grid_auto_columns": null,
            "grid_auto_flow": null,
            "grid_auto_rows": null,
            "grid_column": null,
            "grid_gap": null,
            "grid_row": null,
            "grid_template_areas": null,
            "grid_template_columns": null,
            "grid_template_rows": null,
            "height": null,
            "justify_content": null,
            "justify_items": null,
            "left": null,
            "margin": null,
            "max_height": null,
            "max_width": null,
            "min_height": null,
            "min_width": null,
            "object_fit": null,
            "object_position": null,
            "order": null,
            "overflow": null,
            "overflow_x": null,
            "overflow_y": null,
            "padding": null,
            "right": null,
            "top": null,
            "visibility": null,
            "width": null
          }
        },
        "5953a62ff9684b00a0964851af04b162": {
          "model_module": "@jupyter-widgets/base",
          "model_name": "LayoutModel",
          "model_module_version": "1.2.0",
          "state": {
            "_model_module": "@jupyter-widgets/base",
            "_model_module_version": "1.2.0",
            "_model_name": "LayoutModel",
            "_view_count": null,
            "_view_module": "@jupyter-widgets/base",
            "_view_module_version": "1.2.0",
            "_view_name": "LayoutView",
            "align_content": null,
            "align_items": null,
            "align_self": null,
            "border": null,
            "bottom": null,
            "display": null,
            "flex": null,
            "flex_flow": null,
            "grid_area": null,
            "grid_auto_columns": null,
            "grid_auto_flow": null,
            "grid_auto_rows": null,
            "grid_column": null,
            "grid_gap": null,
            "grid_row": null,
            "grid_template_areas": null,
            "grid_template_columns": null,
            "grid_template_rows": null,
            "height": null,
            "justify_content": null,
            "justify_items": null,
            "left": null,
            "margin": null,
            "max_height": null,
            "max_width": null,
            "min_height": null,
            "min_width": null,
            "object_fit": null,
            "object_position": null,
            "order": null,
            "overflow": null,
            "overflow_x": null,
            "overflow_y": null,
            "padding": null,
            "right": null,
            "top": null,
            "visibility": null,
            "width": null
          }
        },
        "d9868e6e01b44ddaaead32fc5833a571": {
          "model_module": "@jupyter-widgets/controls",
          "model_name": "DescriptionStyleModel",
          "model_module_version": "1.5.0",
          "state": {
            "_model_module": "@jupyter-widgets/controls",
            "_model_module_version": "1.5.0",
            "_model_name": "DescriptionStyleModel",
            "_view_count": null,
            "_view_module": "@jupyter-widgets/base",
            "_view_module_version": "1.2.0",
            "_view_name": "StyleView",
            "description_width": ""
          }
        },
        "4b3382606da24c48aa616666aab9bf46": {
          "model_module": "@jupyter-widgets/base",
          "model_name": "LayoutModel",
          "model_module_version": "1.2.0",
          "state": {
            "_model_module": "@jupyter-widgets/base",
            "_model_module_version": "1.2.0",
            "_model_name": "LayoutModel",
            "_view_count": null,
            "_view_module": "@jupyter-widgets/base",
            "_view_module_version": "1.2.0",
            "_view_name": "LayoutView",
            "align_content": null,
            "align_items": null,
            "align_self": null,
            "border": null,
            "bottom": null,
            "display": null,
            "flex": null,
            "flex_flow": null,
            "grid_area": null,
            "grid_auto_columns": null,
            "grid_auto_flow": null,
            "grid_auto_rows": null,
            "grid_column": null,
            "grid_gap": null,
            "grid_row": null,
            "grid_template_areas": null,
            "grid_template_columns": null,
            "grid_template_rows": null,
            "height": null,
            "justify_content": null,
            "justify_items": null,
            "left": null,
            "margin": null,
            "max_height": null,
            "max_width": null,
            "min_height": null,
            "min_width": null,
            "object_fit": null,
            "object_position": null,
            "order": null,
            "overflow": null,
            "overflow_x": null,
            "overflow_y": null,
            "padding": null,
            "right": null,
            "top": null,
            "visibility": null,
            "width": null
          }
        },
        "99489ba07f854fb7af28442be62d3e0f": {
          "model_module": "@jupyter-widgets/controls",
          "model_name": "ProgressStyleModel",
          "model_module_version": "1.5.0",
          "state": {
            "_model_module": "@jupyter-widgets/controls",
            "_model_module_version": "1.5.0",
            "_model_name": "ProgressStyleModel",
            "_view_count": null,
            "_view_module": "@jupyter-widgets/base",
            "_view_module_version": "1.2.0",
            "_view_name": "StyleView",
            "bar_color": null,
            "description_width": ""
          }
        },
        "c2269858e41141b484e360c19ec18c41": {
          "model_module": "@jupyter-widgets/base",
          "model_name": "LayoutModel",
          "model_module_version": "1.2.0",
          "state": {
            "_model_module": "@jupyter-widgets/base",
            "_model_module_version": "1.2.0",
            "_model_name": "LayoutModel",
            "_view_count": null,
            "_view_module": "@jupyter-widgets/base",
            "_view_module_version": "1.2.0",
            "_view_name": "LayoutView",
            "align_content": null,
            "align_items": null,
            "align_self": null,
            "border": null,
            "bottom": null,
            "display": null,
            "flex": null,
            "flex_flow": null,
            "grid_area": null,
            "grid_auto_columns": null,
            "grid_auto_flow": null,
            "grid_auto_rows": null,
            "grid_column": null,
            "grid_gap": null,
            "grid_row": null,
            "grid_template_areas": null,
            "grid_template_columns": null,
            "grid_template_rows": null,
            "height": null,
            "justify_content": null,
            "justify_items": null,
            "left": null,
            "margin": null,
            "max_height": null,
            "max_width": null,
            "min_height": null,
            "min_width": null,
            "object_fit": null,
            "object_position": null,
            "order": null,
            "overflow": null,
            "overflow_x": null,
            "overflow_y": null,
            "padding": null,
            "right": null,
            "top": null,
            "visibility": null,
            "width": null
          }
        },
        "42186945d15b42909017be8f2e1e0d28": {
          "model_module": "@jupyter-widgets/controls",
          "model_name": "DescriptionStyleModel",
          "model_module_version": "1.5.0",
          "state": {
            "_model_module": "@jupyter-widgets/controls",
            "_model_module_version": "1.5.0",
            "_model_name": "DescriptionStyleModel",
            "_view_count": null,
            "_view_module": "@jupyter-widgets/base",
            "_view_module_version": "1.2.0",
            "_view_name": "StyleView",
            "description_width": ""
          }
        },
        "8b8c2daf3219455ea2b718dbfb88148e": {
          "model_module": "@jupyter-widgets/controls",
          "model_name": "HBoxModel",
          "model_module_version": "1.5.0",
          "state": {
            "_dom_classes": [],
            "_model_module": "@jupyter-widgets/controls",
            "_model_module_version": "1.5.0",
            "_model_name": "HBoxModel",
            "_view_count": null,
            "_view_module": "@jupyter-widgets/controls",
            "_view_module_version": "1.5.0",
            "_view_name": "HBoxView",
            "box_style": "",
            "children": [
              "IPY_MODEL_5b00102958b844caa7cea0b6887f3b2e",
              "IPY_MODEL_e439d8318eaa400c92841b8123e99119",
              "IPY_MODEL_033f734375b649269d5b64a1b6277fda"
            ],
            "layout": "IPY_MODEL_ee927ec077c446308f02570e7d3c64e8"
          }
        },
        "5b00102958b844caa7cea0b6887f3b2e": {
          "model_module": "@jupyter-widgets/controls",
          "model_name": "HTMLModel",
          "model_module_version": "1.5.0",
          "state": {
            "_dom_classes": [],
            "_model_module": "@jupyter-widgets/controls",
            "_model_module_version": "1.5.0",
            "_model_name": "HTMLModel",
            "_view_count": null,
            "_view_module": "@jupyter-widgets/controls",
            "_view_module_version": "1.5.0",
            "_view_name": "HTMLView",
            "description": "",
            "description_tooltip": null,
            "layout": "IPY_MODEL_04fd541af1f14a9bae09dfb41f89d9aa",
            "placeholder": "​",
            "style": "IPY_MODEL_68eeec4d26cf4cc6a7883a60912d1a0e",
            "value": "vocab.txt: "
          }
        },
        "e439d8318eaa400c92841b8123e99119": {
          "model_module": "@jupyter-widgets/controls",
          "model_name": "FloatProgressModel",
          "model_module_version": "1.5.0",
          "state": {
            "_dom_classes": [],
            "_model_module": "@jupyter-widgets/controls",
            "_model_module_version": "1.5.0",
            "_model_name": "FloatProgressModel",
            "_view_count": null,
            "_view_module": "@jupyter-widgets/controls",
            "_view_module_version": "1.5.0",
            "_view_name": "ProgressView",
            "bar_style": "success",
            "description": "",
            "description_tooltip": null,
            "layout": "IPY_MODEL_f877444ddb1e40f18961bfc4d75369e3",
            "max": 1,
            "min": 0,
            "orientation": "horizontal",
            "style": "IPY_MODEL_a77cd4bf4a5f43d1affe12dfb3ac67fe",
            "value": 1
          }
        },
        "033f734375b649269d5b64a1b6277fda": {
          "model_module": "@jupyter-widgets/controls",
          "model_name": "HTMLModel",
          "model_module_version": "1.5.0",
          "state": {
            "_dom_classes": [],
            "_model_module": "@jupyter-widgets/controls",
            "_model_module_version": "1.5.0",
            "_model_name": "HTMLModel",
            "_view_count": null,
            "_view_module": "@jupyter-widgets/controls",
            "_view_module_version": "1.5.0",
            "_view_name": "HTMLView",
            "description": "",
            "description_tooltip": null,
            "layout": "IPY_MODEL_83875232ad2c42b2a482d316ee151011",
            "placeholder": "​",
            "style": "IPY_MODEL_9f940c213b484d90a04f851f2d4d19c2",
            "value": " 232k/? [00:00&lt;00:00, 5.93MB/s]"
          }
        },
        "ee927ec077c446308f02570e7d3c64e8": {
          "model_module": "@jupyter-widgets/base",
          "model_name": "LayoutModel",
          "model_module_version": "1.2.0",
          "state": {
            "_model_module": "@jupyter-widgets/base",
            "_model_module_version": "1.2.0",
            "_model_name": "LayoutModel",
            "_view_count": null,
            "_view_module": "@jupyter-widgets/base",
            "_view_module_version": "1.2.0",
            "_view_name": "LayoutView",
            "align_content": null,
            "align_items": null,
            "align_self": null,
            "border": null,
            "bottom": null,
            "display": null,
            "flex": null,
            "flex_flow": null,
            "grid_area": null,
            "grid_auto_columns": null,
            "grid_auto_flow": null,
            "grid_auto_rows": null,
            "grid_column": null,
            "grid_gap": null,
            "grid_row": null,
            "grid_template_areas": null,
            "grid_template_columns": null,
            "grid_template_rows": null,
            "height": null,
            "justify_content": null,
            "justify_items": null,
            "left": null,
            "margin": null,
            "max_height": null,
            "max_width": null,
            "min_height": null,
            "min_width": null,
            "object_fit": null,
            "object_position": null,
            "order": null,
            "overflow": null,
            "overflow_x": null,
            "overflow_y": null,
            "padding": null,
            "right": null,
            "top": null,
            "visibility": null,
            "width": null
          }
        },
        "04fd541af1f14a9bae09dfb41f89d9aa": {
          "model_module": "@jupyter-widgets/base",
          "model_name": "LayoutModel",
          "model_module_version": "1.2.0",
          "state": {
            "_model_module": "@jupyter-widgets/base",
            "_model_module_version": "1.2.0",
            "_model_name": "LayoutModel",
            "_view_count": null,
            "_view_module": "@jupyter-widgets/base",
            "_view_module_version": "1.2.0",
            "_view_name": "LayoutView",
            "align_content": null,
            "align_items": null,
            "align_self": null,
            "border": null,
            "bottom": null,
            "display": null,
            "flex": null,
            "flex_flow": null,
            "grid_area": null,
            "grid_auto_columns": null,
            "grid_auto_flow": null,
            "grid_auto_rows": null,
            "grid_column": null,
            "grid_gap": null,
            "grid_row": null,
            "grid_template_areas": null,
            "grid_template_columns": null,
            "grid_template_rows": null,
            "height": null,
            "justify_content": null,
            "justify_items": null,
            "left": null,
            "margin": null,
            "max_height": null,
            "max_width": null,
            "min_height": null,
            "min_width": null,
            "object_fit": null,
            "object_position": null,
            "order": null,
            "overflow": null,
            "overflow_x": null,
            "overflow_y": null,
            "padding": null,
            "right": null,
            "top": null,
            "visibility": null,
            "width": null
          }
        },
        "68eeec4d26cf4cc6a7883a60912d1a0e": {
          "model_module": "@jupyter-widgets/controls",
          "model_name": "DescriptionStyleModel",
          "model_module_version": "1.5.0",
          "state": {
            "_model_module": "@jupyter-widgets/controls",
            "_model_module_version": "1.5.0",
            "_model_name": "DescriptionStyleModel",
            "_view_count": null,
            "_view_module": "@jupyter-widgets/base",
            "_view_module_version": "1.2.0",
            "_view_name": "StyleView",
            "description_width": ""
          }
        },
        "f877444ddb1e40f18961bfc4d75369e3": {
          "model_module": "@jupyter-widgets/base",
          "model_name": "LayoutModel",
          "model_module_version": "1.2.0",
          "state": {
            "_model_module": "@jupyter-widgets/base",
            "_model_module_version": "1.2.0",
            "_model_name": "LayoutModel",
            "_view_count": null,
            "_view_module": "@jupyter-widgets/base",
            "_view_module_version": "1.2.0",
            "_view_name": "LayoutView",
            "align_content": null,
            "align_items": null,
            "align_self": null,
            "border": null,
            "bottom": null,
            "display": null,
            "flex": null,
            "flex_flow": null,
            "grid_area": null,
            "grid_auto_columns": null,
            "grid_auto_flow": null,
            "grid_auto_rows": null,
            "grid_column": null,
            "grid_gap": null,
            "grid_row": null,
            "grid_template_areas": null,
            "grid_template_columns": null,
            "grid_template_rows": null,
            "height": null,
            "justify_content": null,
            "justify_items": null,
            "left": null,
            "margin": null,
            "max_height": null,
            "max_width": null,
            "min_height": null,
            "min_width": null,
            "object_fit": null,
            "object_position": null,
            "order": null,
            "overflow": null,
            "overflow_x": null,
            "overflow_y": null,
            "padding": null,
            "right": null,
            "top": null,
            "visibility": null,
            "width": "20px"
          }
        },
        "a77cd4bf4a5f43d1affe12dfb3ac67fe": {
          "model_module": "@jupyter-widgets/controls",
          "model_name": "ProgressStyleModel",
          "model_module_version": "1.5.0",
          "state": {
            "_model_module": "@jupyter-widgets/controls",
            "_model_module_version": "1.5.0",
            "_model_name": "ProgressStyleModel",
            "_view_count": null,
            "_view_module": "@jupyter-widgets/base",
            "_view_module_version": "1.2.0",
            "_view_name": "StyleView",
            "bar_color": null,
            "description_width": ""
          }
        },
        "83875232ad2c42b2a482d316ee151011": {
          "model_module": "@jupyter-widgets/base",
          "model_name": "LayoutModel",
          "model_module_version": "1.2.0",
          "state": {
            "_model_module": "@jupyter-widgets/base",
            "_model_module_version": "1.2.0",
            "_model_name": "LayoutModel",
            "_view_count": null,
            "_view_module": "@jupyter-widgets/base",
            "_view_module_version": "1.2.0",
            "_view_name": "LayoutView",
            "align_content": null,
            "align_items": null,
            "align_self": null,
            "border": null,
            "bottom": null,
            "display": null,
            "flex": null,
            "flex_flow": null,
            "grid_area": null,
            "grid_auto_columns": null,
            "grid_auto_flow": null,
            "grid_auto_rows": null,
            "grid_column": null,
            "grid_gap": null,
            "grid_row": null,
            "grid_template_areas": null,
            "grid_template_columns": null,
            "grid_template_rows": null,
            "height": null,
            "justify_content": null,
            "justify_items": null,
            "left": null,
            "margin": null,
            "max_height": null,
            "max_width": null,
            "min_height": null,
            "min_width": null,
            "object_fit": null,
            "object_position": null,
            "order": null,
            "overflow": null,
            "overflow_x": null,
            "overflow_y": null,
            "padding": null,
            "right": null,
            "top": null,
            "visibility": null,
            "width": null
          }
        },
        "9f940c213b484d90a04f851f2d4d19c2": {
          "model_module": "@jupyter-widgets/controls",
          "model_name": "DescriptionStyleModel",
          "model_module_version": "1.5.0",
          "state": {
            "_model_module": "@jupyter-widgets/controls",
            "_model_module_version": "1.5.0",
            "_model_name": "DescriptionStyleModel",
            "_view_count": null,
            "_view_module": "@jupyter-widgets/base",
            "_view_module_version": "1.2.0",
            "_view_name": "StyleView",
            "description_width": ""
          }
        },
        "be987a442eb74b7f9d070c5a54859ab0": {
          "model_module": "@jupyter-widgets/controls",
          "model_name": "HBoxModel",
          "model_module_version": "1.5.0",
          "state": {
            "_dom_classes": [],
            "_model_module": "@jupyter-widgets/controls",
            "_model_module_version": "1.5.0",
            "_model_name": "HBoxModel",
            "_view_count": null,
            "_view_module": "@jupyter-widgets/controls",
            "_view_module_version": "1.5.0",
            "_view_name": "HBoxView",
            "box_style": "",
            "children": [
              "IPY_MODEL_ca73156bb4184a8c85882002db4af9ae",
              "IPY_MODEL_8a99fd3b7cbc4a4f8c1961f7233529b6",
              "IPY_MODEL_9332ad936e97464c9aeef0198d96fcd6"
            ],
            "layout": "IPY_MODEL_8e124faa67ae46bd84e49cb330bfdf2a"
          }
        },
        "ca73156bb4184a8c85882002db4af9ae": {
          "model_module": "@jupyter-widgets/controls",
          "model_name": "HTMLModel",
          "model_module_version": "1.5.0",
          "state": {
            "_dom_classes": [],
            "_model_module": "@jupyter-widgets/controls",
            "_model_module_version": "1.5.0",
            "_model_name": "HTMLModel",
            "_view_count": null,
            "_view_module": "@jupyter-widgets/controls",
            "_view_module_version": "1.5.0",
            "_view_name": "HTMLView",
            "description": "",
            "description_tooltip": null,
            "layout": "IPY_MODEL_112c2755621d42e4854973e625804a69",
            "placeholder": "​",
            "style": "IPY_MODEL_56cde880c76440efbe25be4d9d67461d",
            "value": "tokenizer.json: "
          }
        },
        "8a99fd3b7cbc4a4f8c1961f7233529b6": {
          "model_module": "@jupyter-widgets/controls",
          "model_name": "FloatProgressModel",
          "model_module_version": "1.5.0",
          "state": {
            "_dom_classes": [],
            "_model_module": "@jupyter-widgets/controls",
            "_model_module_version": "1.5.0",
            "_model_name": "FloatProgressModel",
            "_view_count": null,
            "_view_module": "@jupyter-widgets/controls",
            "_view_module_version": "1.5.0",
            "_view_name": "ProgressView",
            "bar_style": "success",
            "description": "",
            "description_tooltip": null,
            "layout": "IPY_MODEL_715aa0ee84c6434c837fad564993cd0d",
            "max": 1,
            "min": 0,
            "orientation": "horizontal",
            "style": "IPY_MODEL_33f39661ec1e45dbbbdfd8762c21aec3",
            "value": 1
          }
        },
        "9332ad936e97464c9aeef0198d96fcd6": {
          "model_module": "@jupyter-widgets/controls",
          "model_name": "HTMLModel",
          "model_module_version": "1.5.0",
          "state": {
            "_dom_classes": [],
            "_model_module": "@jupyter-widgets/controls",
            "_model_module_version": "1.5.0",
            "_model_name": "HTMLModel",
            "_view_count": null,
            "_view_module": "@jupyter-widgets/controls",
            "_view_module_version": "1.5.0",
            "_view_name": "HTMLView",
            "description": "",
            "description_tooltip": null,
            "layout": "IPY_MODEL_eab93c57192c43d2a2821f7eba3d6d51",
            "placeholder": "​",
            "style": "IPY_MODEL_cab0bf3e0f3546558f4df69355ddf3bb",
            "value": " 466k/? [00:00&lt;00:00, 19.5MB/s]"
          }
        },
        "8e124faa67ae46bd84e49cb330bfdf2a": {
          "model_module": "@jupyter-widgets/base",
          "model_name": "LayoutModel",
          "model_module_version": "1.2.0",
          "state": {
            "_model_module": "@jupyter-widgets/base",
            "_model_module_version": "1.2.0",
            "_model_name": "LayoutModel",
            "_view_count": null,
            "_view_module": "@jupyter-widgets/base",
            "_view_module_version": "1.2.0",
            "_view_name": "LayoutView",
            "align_content": null,
            "align_items": null,
            "align_self": null,
            "border": null,
            "bottom": null,
            "display": null,
            "flex": null,
            "flex_flow": null,
            "grid_area": null,
            "grid_auto_columns": null,
            "grid_auto_flow": null,
            "grid_auto_rows": null,
            "grid_column": null,
            "grid_gap": null,
            "grid_row": null,
            "grid_template_areas": null,
            "grid_template_columns": null,
            "grid_template_rows": null,
            "height": null,
            "justify_content": null,
            "justify_items": null,
            "left": null,
            "margin": null,
            "max_height": null,
            "max_width": null,
            "min_height": null,
            "min_width": null,
            "object_fit": null,
            "object_position": null,
            "order": null,
            "overflow": null,
            "overflow_x": null,
            "overflow_y": null,
            "padding": null,
            "right": null,
            "top": null,
            "visibility": null,
            "width": null
          }
        },
        "112c2755621d42e4854973e625804a69": {
          "model_module": "@jupyter-widgets/base",
          "model_name": "LayoutModel",
          "model_module_version": "1.2.0",
          "state": {
            "_model_module": "@jupyter-widgets/base",
            "_model_module_version": "1.2.0",
            "_model_name": "LayoutModel",
            "_view_count": null,
            "_view_module": "@jupyter-widgets/base",
            "_view_module_version": "1.2.0",
            "_view_name": "LayoutView",
            "align_content": null,
            "align_items": null,
            "align_self": null,
            "border": null,
            "bottom": null,
            "display": null,
            "flex": null,
            "flex_flow": null,
            "grid_area": null,
            "grid_auto_columns": null,
            "grid_auto_flow": null,
            "grid_auto_rows": null,
            "grid_column": null,
            "grid_gap": null,
            "grid_row": null,
            "grid_template_areas": null,
            "grid_template_columns": null,
            "grid_template_rows": null,
            "height": null,
            "justify_content": null,
            "justify_items": null,
            "left": null,
            "margin": null,
            "max_height": null,
            "max_width": null,
            "min_height": null,
            "min_width": null,
            "object_fit": null,
            "object_position": null,
            "order": null,
            "overflow": null,
            "overflow_x": null,
            "overflow_y": null,
            "padding": null,
            "right": null,
            "top": null,
            "visibility": null,
            "width": null
          }
        },
        "56cde880c76440efbe25be4d9d67461d": {
          "model_module": "@jupyter-widgets/controls",
          "model_name": "DescriptionStyleModel",
          "model_module_version": "1.5.0",
          "state": {
            "_model_module": "@jupyter-widgets/controls",
            "_model_module_version": "1.5.0",
            "_model_name": "DescriptionStyleModel",
            "_view_count": null,
            "_view_module": "@jupyter-widgets/base",
            "_view_module_version": "1.2.0",
            "_view_name": "StyleView",
            "description_width": ""
          }
        },
        "715aa0ee84c6434c837fad564993cd0d": {
          "model_module": "@jupyter-widgets/base",
          "model_name": "LayoutModel",
          "model_module_version": "1.2.0",
          "state": {
            "_model_module": "@jupyter-widgets/base",
            "_model_module_version": "1.2.0",
            "_model_name": "LayoutModel",
            "_view_count": null,
            "_view_module": "@jupyter-widgets/base",
            "_view_module_version": "1.2.0",
            "_view_name": "LayoutView",
            "align_content": null,
            "align_items": null,
            "align_self": null,
            "border": null,
            "bottom": null,
            "display": null,
            "flex": null,
            "flex_flow": null,
            "grid_area": null,
            "grid_auto_columns": null,
            "grid_auto_flow": null,
            "grid_auto_rows": null,
            "grid_column": null,
            "grid_gap": null,
            "grid_row": null,
            "grid_template_areas": null,
            "grid_template_columns": null,
            "grid_template_rows": null,
            "height": null,
            "justify_content": null,
            "justify_items": null,
            "left": null,
            "margin": null,
            "max_height": null,
            "max_width": null,
            "min_height": null,
            "min_width": null,
            "object_fit": null,
            "object_position": null,
            "order": null,
            "overflow": null,
            "overflow_x": null,
            "overflow_y": null,
            "padding": null,
            "right": null,
            "top": null,
            "visibility": null,
            "width": "20px"
          }
        },
        "33f39661ec1e45dbbbdfd8762c21aec3": {
          "model_module": "@jupyter-widgets/controls",
          "model_name": "ProgressStyleModel",
          "model_module_version": "1.5.0",
          "state": {
            "_model_module": "@jupyter-widgets/controls",
            "_model_module_version": "1.5.0",
            "_model_name": "ProgressStyleModel",
            "_view_count": null,
            "_view_module": "@jupyter-widgets/base",
            "_view_module_version": "1.2.0",
            "_view_name": "StyleView",
            "bar_color": null,
            "description_width": ""
          }
        },
        "eab93c57192c43d2a2821f7eba3d6d51": {
          "model_module": "@jupyter-widgets/base",
          "model_name": "LayoutModel",
          "model_module_version": "1.2.0",
          "state": {
            "_model_module": "@jupyter-widgets/base",
            "_model_module_version": "1.2.0",
            "_model_name": "LayoutModel",
            "_view_count": null,
            "_view_module": "@jupyter-widgets/base",
            "_view_module_version": "1.2.0",
            "_view_name": "LayoutView",
            "align_content": null,
            "align_items": null,
            "align_self": null,
            "border": null,
            "bottom": null,
            "display": null,
            "flex": null,
            "flex_flow": null,
            "grid_area": null,
            "grid_auto_columns": null,
            "grid_auto_flow": null,
            "grid_auto_rows": null,
            "grid_column": null,
            "grid_gap": null,
            "grid_row": null,
            "grid_template_areas": null,
            "grid_template_columns": null,
            "grid_template_rows": null,
            "height": null,
            "justify_content": null,
            "justify_items": null,
            "left": null,
            "margin": null,
            "max_height": null,
            "max_width": null,
            "min_height": null,
            "min_width": null,
            "object_fit": null,
            "object_position": null,
            "order": null,
            "overflow": null,
            "overflow_x": null,
            "overflow_y": null,
            "padding": null,
            "right": null,
            "top": null,
            "visibility": null,
            "width": null
          }
        },
        "cab0bf3e0f3546558f4df69355ddf3bb": {
          "model_module": "@jupyter-widgets/controls",
          "model_name": "DescriptionStyleModel",
          "model_module_version": "1.5.0",
          "state": {
            "_model_module": "@jupyter-widgets/controls",
            "_model_module_version": "1.5.0",
            "_model_name": "DescriptionStyleModel",
            "_view_count": null,
            "_view_module": "@jupyter-widgets/base",
            "_view_module_version": "1.2.0",
            "_view_name": "StyleView",
            "description_width": ""
          }
        },
        "0ef7302174fe4edcafa9711af4a274ac": {
          "model_module": "@jupyter-widgets/controls",
          "model_name": "HBoxModel",
          "model_module_version": "1.5.0",
          "state": {
            "_dom_classes": [],
            "_model_module": "@jupyter-widgets/controls",
            "_model_module_version": "1.5.0",
            "_model_name": "HBoxModel",
            "_view_count": null,
            "_view_module": "@jupyter-widgets/controls",
            "_view_module_version": "1.5.0",
            "_view_name": "HBoxView",
            "box_style": "",
            "children": [
              "IPY_MODEL_7fdbb51afda84975b70e169d1071eed4",
              "IPY_MODEL_bb64e0d9d45e4feb8f06dd79f9eacc1b",
              "IPY_MODEL_308bbd326cde40b2bb1ac2811d3667fd"
            ],
            "layout": "IPY_MODEL_6aca8b6365db4ff58d24fc6044ec0c0d"
          }
        },
        "7fdbb51afda84975b70e169d1071eed4": {
          "model_module": "@jupyter-widgets/controls",
          "model_name": "HTMLModel",
          "model_module_version": "1.5.0",
          "state": {
            "_dom_classes": [],
            "_model_module": "@jupyter-widgets/controls",
            "_model_module_version": "1.5.0",
            "_model_name": "HTMLModel",
            "_view_count": null,
            "_view_module": "@jupyter-widgets/controls",
            "_view_module_version": "1.5.0",
            "_view_name": "HTMLView",
            "description": "",
            "description_tooltip": null,
            "layout": "IPY_MODEL_73eebba6748046b3b79f1d9c78796798",
            "placeholder": "​",
            "style": "IPY_MODEL_3c087baf95d64b8c92cd0e52a30ecc80",
            "value": "special_tokens_map.json: 100%"
          }
        },
        "bb64e0d9d45e4feb8f06dd79f9eacc1b": {
          "model_module": "@jupyter-widgets/controls",
          "model_name": "FloatProgressModel",
          "model_module_version": "1.5.0",
          "state": {
            "_dom_classes": [],
            "_model_module": "@jupyter-widgets/controls",
            "_model_module_version": "1.5.0",
            "_model_name": "FloatProgressModel",
            "_view_count": null,
            "_view_module": "@jupyter-widgets/controls",
            "_view_module_version": "1.5.0",
            "_view_name": "ProgressView",
            "bar_style": "success",
            "description": "",
            "description_tooltip": null,
            "layout": "IPY_MODEL_fbb1aadde6b04003a729dd03f7743a40",
            "max": 112,
            "min": 0,
            "orientation": "horizontal",
            "style": "IPY_MODEL_dd567f2013024f36a9e4103ccc07fbf9",
            "value": 112
          }
        },
        "308bbd326cde40b2bb1ac2811d3667fd": {
          "model_module": "@jupyter-widgets/controls",
          "model_name": "HTMLModel",
          "model_module_version": "1.5.0",
          "state": {
            "_dom_classes": [],
            "_model_module": "@jupyter-widgets/controls",
            "_model_module_version": "1.5.0",
            "_model_name": "HTMLModel",
            "_view_count": null,
            "_view_module": "@jupyter-widgets/controls",
            "_view_module_version": "1.5.0",
            "_view_name": "HTMLView",
            "description": "",
            "description_tooltip": null,
            "layout": "IPY_MODEL_c0b97608dedd439da335dcdc96958190",
            "placeholder": "​",
            "style": "IPY_MODEL_100e09901e7d4b73981d7e80b4024e4b",
            "value": " 112/112 [00:00&lt;00:00, 9.71kB/s]"
          }
        },
        "6aca8b6365db4ff58d24fc6044ec0c0d": {
          "model_module": "@jupyter-widgets/base",
          "model_name": "LayoutModel",
          "model_module_version": "1.2.0",
          "state": {
            "_model_module": "@jupyter-widgets/base",
            "_model_module_version": "1.2.0",
            "_model_name": "LayoutModel",
            "_view_count": null,
            "_view_module": "@jupyter-widgets/base",
            "_view_module_version": "1.2.0",
            "_view_name": "LayoutView",
            "align_content": null,
            "align_items": null,
            "align_self": null,
            "border": null,
            "bottom": null,
            "display": null,
            "flex": null,
            "flex_flow": null,
            "grid_area": null,
            "grid_auto_columns": null,
            "grid_auto_flow": null,
            "grid_auto_rows": null,
            "grid_column": null,
            "grid_gap": null,
            "grid_row": null,
            "grid_template_areas": null,
            "grid_template_columns": null,
            "grid_template_rows": null,
            "height": null,
            "justify_content": null,
            "justify_items": null,
            "left": null,
            "margin": null,
            "max_height": null,
            "max_width": null,
            "min_height": null,
            "min_width": null,
            "object_fit": null,
            "object_position": null,
            "order": null,
            "overflow": null,
            "overflow_x": null,
            "overflow_y": null,
            "padding": null,
            "right": null,
            "top": null,
            "visibility": null,
            "width": null
          }
        },
        "73eebba6748046b3b79f1d9c78796798": {
          "model_module": "@jupyter-widgets/base",
          "model_name": "LayoutModel",
          "model_module_version": "1.2.0",
          "state": {
            "_model_module": "@jupyter-widgets/base",
            "_model_module_version": "1.2.0",
            "_model_name": "LayoutModel",
            "_view_count": null,
            "_view_module": "@jupyter-widgets/base",
            "_view_module_version": "1.2.0",
            "_view_name": "LayoutView",
            "align_content": null,
            "align_items": null,
            "align_self": null,
            "border": null,
            "bottom": null,
            "display": null,
            "flex": null,
            "flex_flow": null,
            "grid_area": null,
            "grid_auto_columns": null,
            "grid_auto_flow": null,
            "grid_auto_rows": null,
            "grid_column": null,
            "grid_gap": null,
            "grid_row": null,
            "grid_template_areas": null,
            "grid_template_columns": null,
            "grid_template_rows": null,
            "height": null,
            "justify_content": null,
            "justify_items": null,
            "left": null,
            "margin": null,
            "max_height": null,
            "max_width": null,
            "min_height": null,
            "min_width": null,
            "object_fit": null,
            "object_position": null,
            "order": null,
            "overflow": null,
            "overflow_x": null,
            "overflow_y": null,
            "padding": null,
            "right": null,
            "top": null,
            "visibility": null,
            "width": null
          }
        },
        "3c087baf95d64b8c92cd0e52a30ecc80": {
          "model_module": "@jupyter-widgets/controls",
          "model_name": "DescriptionStyleModel",
          "model_module_version": "1.5.0",
          "state": {
            "_model_module": "@jupyter-widgets/controls",
            "_model_module_version": "1.5.0",
            "_model_name": "DescriptionStyleModel",
            "_view_count": null,
            "_view_module": "@jupyter-widgets/base",
            "_view_module_version": "1.2.0",
            "_view_name": "StyleView",
            "description_width": ""
          }
        },
        "fbb1aadde6b04003a729dd03f7743a40": {
          "model_module": "@jupyter-widgets/base",
          "model_name": "LayoutModel",
          "model_module_version": "1.2.0",
          "state": {
            "_model_module": "@jupyter-widgets/base",
            "_model_module_version": "1.2.0",
            "_model_name": "LayoutModel",
            "_view_count": null,
            "_view_module": "@jupyter-widgets/base",
            "_view_module_version": "1.2.0",
            "_view_name": "LayoutView",
            "align_content": null,
            "align_items": null,
            "align_self": null,
            "border": null,
            "bottom": null,
            "display": null,
            "flex": null,
            "flex_flow": null,
            "grid_area": null,
            "grid_auto_columns": null,
            "grid_auto_flow": null,
            "grid_auto_rows": null,
            "grid_column": null,
            "grid_gap": null,
            "grid_row": null,
            "grid_template_areas": null,
            "grid_template_columns": null,
            "grid_template_rows": null,
            "height": null,
            "justify_content": null,
            "justify_items": null,
            "left": null,
            "margin": null,
            "max_height": null,
            "max_width": null,
            "min_height": null,
            "min_width": null,
            "object_fit": null,
            "object_position": null,
            "order": null,
            "overflow": null,
            "overflow_x": null,
            "overflow_y": null,
            "padding": null,
            "right": null,
            "top": null,
            "visibility": null,
            "width": null
          }
        },
        "dd567f2013024f36a9e4103ccc07fbf9": {
          "model_module": "@jupyter-widgets/controls",
          "model_name": "ProgressStyleModel",
          "model_module_version": "1.5.0",
          "state": {
            "_model_module": "@jupyter-widgets/controls",
            "_model_module_version": "1.5.0",
            "_model_name": "ProgressStyleModel",
            "_view_count": null,
            "_view_module": "@jupyter-widgets/base",
            "_view_module_version": "1.2.0",
            "_view_name": "StyleView",
            "bar_color": null,
            "description_width": ""
          }
        },
        "c0b97608dedd439da335dcdc96958190": {
          "model_module": "@jupyter-widgets/base",
          "model_name": "LayoutModel",
          "model_module_version": "1.2.0",
          "state": {
            "_model_module": "@jupyter-widgets/base",
            "_model_module_version": "1.2.0",
            "_model_name": "LayoutModel",
            "_view_count": null,
            "_view_module": "@jupyter-widgets/base",
            "_view_module_version": "1.2.0",
            "_view_name": "LayoutView",
            "align_content": null,
            "align_items": null,
            "align_self": null,
            "border": null,
            "bottom": null,
            "display": null,
            "flex": null,
            "flex_flow": null,
            "grid_area": null,
            "grid_auto_columns": null,
            "grid_auto_flow": null,
            "grid_auto_rows": null,
            "grid_column": null,
            "grid_gap": null,
            "grid_row": null,
            "grid_template_areas": null,
            "grid_template_columns": null,
            "grid_template_rows": null,
            "height": null,
            "justify_content": null,
            "justify_items": null,
            "left": null,
            "margin": null,
            "max_height": null,
            "max_width": null,
            "min_height": null,
            "min_width": null,
            "object_fit": null,
            "object_position": null,
            "order": null,
            "overflow": null,
            "overflow_x": null,
            "overflow_y": null,
            "padding": null,
            "right": null,
            "top": null,
            "visibility": null,
            "width": null
          }
        },
        "100e09901e7d4b73981d7e80b4024e4b": {
          "model_module": "@jupyter-widgets/controls",
          "model_name": "DescriptionStyleModel",
          "model_module_version": "1.5.0",
          "state": {
            "_model_module": "@jupyter-widgets/controls",
            "_model_module_version": "1.5.0",
            "_model_name": "DescriptionStyleModel",
            "_view_count": null,
            "_view_module": "@jupyter-widgets/base",
            "_view_module_version": "1.2.0",
            "_view_name": "StyleView",
            "description_width": ""
          }
        },
        "4ce9315851054447938f977fbef86885": {
          "model_module": "@jupyter-widgets/controls",
          "model_name": "HBoxModel",
          "model_module_version": "1.5.0",
          "state": {
            "_dom_classes": [],
            "_model_module": "@jupyter-widgets/controls",
            "_model_module_version": "1.5.0",
            "_model_name": "HBoxModel",
            "_view_count": null,
            "_view_module": "@jupyter-widgets/controls",
            "_view_module_version": "1.5.0",
            "_view_name": "HBoxView",
            "box_style": "",
            "children": [
              "IPY_MODEL_dfa71e1f2eb843789c515fa323dde0e5",
              "IPY_MODEL_27ddfa92407f4633a29aa7c76a2cb44b",
              "IPY_MODEL_cf0253d85b934a61bc0529e0a221105b"
            ],
            "layout": "IPY_MODEL_3781dcca3ff543f5900852148779eba8"
          }
        },
        "dfa71e1f2eb843789c515fa323dde0e5": {
          "model_module": "@jupyter-widgets/controls",
          "model_name": "HTMLModel",
          "model_module_version": "1.5.0",
          "state": {
            "_dom_classes": [],
            "_model_module": "@jupyter-widgets/controls",
            "_model_module_version": "1.5.0",
            "_model_name": "HTMLModel",
            "_view_count": null,
            "_view_module": "@jupyter-widgets/controls",
            "_view_module_version": "1.5.0",
            "_view_name": "HTMLView",
            "description": "",
            "description_tooltip": null,
            "layout": "IPY_MODEL_cdf9e8f5da744cf7a6f8ce9ed2aba2f0",
            "placeholder": "​",
            "style": "IPY_MODEL_d665f11cca554231adb24afe97a9d7d1",
            "value": "config.json: 100%"
          }
        },
        "27ddfa92407f4633a29aa7c76a2cb44b": {
          "model_module": "@jupyter-widgets/controls",
          "model_name": "FloatProgressModel",
          "model_module_version": "1.5.0",
          "state": {
            "_dom_classes": [],
            "_model_module": "@jupyter-widgets/controls",
            "_model_module_version": "1.5.0",
            "_model_name": "FloatProgressModel",
            "_view_count": null,
            "_view_module": "@jupyter-widgets/controls",
            "_view_module_version": "1.5.0",
            "_view_name": "ProgressView",
            "bar_style": "success",
            "description": "",
            "description_tooltip": null,
            "layout": "IPY_MODEL_473c96b8b43144e5b94fe55f4d9782f1",
            "max": 190,
            "min": 0,
            "orientation": "horizontal",
            "style": "IPY_MODEL_73b4865ed0054aafa69230098a1cb8f0",
            "value": 190
          }
        },
        "cf0253d85b934a61bc0529e0a221105b": {
          "model_module": "@jupyter-widgets/controls",
          "model_name": "HTMLModel",
          "model_module_version": "1.5.0",
          "state": {
            "_dom_classes": [],
            "_model_module": "@jupyter-widgets/controls",
            "_model_module_version": "1.5.0",
            "_model_name": "HTMLModel",
            "_view_count": null,
            "_view_module": "@jupyter-widgets/controls",
            "_view_module_version": "1.5.0",
            "_view_name": "HTMLView",
            "description": "",
            "description_tooltip": null,
            "layout": "IPY_MODEL_d08ffee2305c4450b4df4ff0df7c48bd",
            "placeholder": "​",
            "style": "IPY_MODEL_a8f0102fd1d44b129c102301b5ab7ef9",
            "value": " 190/190 [00:00&lt;00:00, 17.3kB/s]"
          }
        },
        "3781dcca3ff543f5900852148779eba8": {
          "model_module": "@jupyter-widgets/base",
          "model_name": "LayoutModel",
          "model_module_version": "1.2.0",
          "state": {
            "_model_module": "@jupyter-widgets/base",
            "_model_module_version": "1.2.0",
            "_model_name": "LayoutModel",
            "_view_count": null,
            "_view_module": "@jupyter-widgets/base",
            "_view_module_version": "1.2.0",
            "_view_name": "LayoutView",
            "align_content": null,
            "align_items": null,
            "align_self": null,
            "border": null,
            "bottom": null,
            "display": null,
            "flex": null,
            "flex_flow": null,
            "grid_area": null,
            "grid_auto_columns": null,
            "grid_auto_flow": null,
            "grid_auto_rows": null,
            "grid_column": null,
            "grid_gap": null,
            "grid_row": null,
            "grid_template_areas": null,
            "grid_template_columns": null,
            "grid_template_rows": null,
            "height": null,
            "justify_content": null,
            "justify_items": null,
            "left": null,
            "margin": null,
            "max_height": null,
            "max_width": null,
            "min_height": null,
            "min_width": null,
            "object_fit": null,
            "object_position": null,
            "order": null,
            "overflow": null,
            "overflow_x": null,
            "overflow_y": null,
            "padding": null,
            "right": null,
            "top": null,
            "visibility": null,
            "width": null
          }
        },
        "cdf9e8f5da744cf7a6f8ce9ed2aba2f0": {
          "model_module": "@jupyter-widgets/base",
          "model_name": "LayoutModel",
          "model_module_version": "1.2.0",
          "state": {
            "_model_module": "@jupyter-widgets/base",
            "_model_module_version": "1.2.0",
            "_model_name": "LayoutModel",
            "_view_count": null,
            "_view_module": "@jupyter-widgets/base",
            "_view_module_version": "1.2.0",
            "_view_name": "LayoutView",
            "align_content": null,
            "align_items": null,
            "align_self": null,
            "border": null,
            "bottom": null,
            "display": null,
            "flex": null,
            "flex_flow": null,
            "grid_area": null,
            "grid_auto_columns": null,
            "grid_auto_flow": null,
            "grid_auto_rows": null,
            "grid_column": null,
            "grid_gap": null,
            "grid_row": null,
            "grid_template_areas": null,
            "grid_template_columns": null,
            "grid_template_rows": null,
            "height": null,
            "justify_content": null,
            "justify_items": null,
            "left": null,
            "margin": null,
            "max_height": null,
            "max_width": null,
            "min_height": null,
            "min_width": null,
            "object_fit": null,
            "object_position": null,
            "order": null,
            "overflow": null,
            "overflow_x": null,
            "overflow_y": null,
            "padding": null,
            "right": null,
            "top": null,
            "visibility": null,
            "width": null
          }
        },
        "d665f11cca554231adb24afe97a9d7d1": {
          "model_module": "@jupyter-widgets/controls",
          "model_name": "DescriptionStyleModel",
          "model_module_version": "1.5.0",
          "state": {
            "_model_module": "@jupyter-widgets/controls",
            "_model_module_version": "1.5.0",
            "_model_name": "DescriptionStyleModel",
            "_view_count": null,
            "_view_module": "@jupyter-widgets/base",
            "_view_module_version": "1.2.0",
            "_view_name": "StyleView",
            "description_width": ""
          }
        },
        "473c96b8b43144e5b94fe55f4d9782f1": {
          "model_module": "@jupyter-widgets/base",
          "model_name": "LayoutModel",
          "model_module_version": "1.2.0",
          "state": {
            "_model_module": "@jupyter-widgets/base",
            "_model_module_version": "1.2.0",
            "_model_name": "LayoutModel",
            "_view_count": null,
            "_view_module": "@jupyter-widgets/base",
            "_view_module_version": "1.2.0",
            "_view_name": "LayoutView",
            "align_content": null,
            "align_items": null,
            "align_self": null,
            "border": null,
            "bottom": null,
            "display": null,
            "flex": null,
            "flex_flow": null,
            "grid_area": null,
            "grid_auto_columns": null,
            "grid_auto_flow": null,
            "grid_auto_rows": null,
            "grid_column": null,
            "grid_gap": null,
            "grid_row": null,
            "grid_template_areas": null,
            "grid_template_columns": null,
            "grid_template_rows": null,
            "height": null,
            "justify_content": null,
            "justify_items": null,
            "left": null,
            "margin": null,
            "max_height": null,
            "max_width": null,
            "min_height": null,
            "min_width": null,
            "object_fit": null,
            "object_position": null,
            "order": null,
            "overflow": null,
            "overflow_x": null,
            "overflow_y": null,
            "padding": null,
            "right": null,
            "top": null,
            "visibility": null,
            "width": null
          }
        },
        "73b4865ed0054aafa69230098a1cb8f0": {
          "model_module": "@jupyter-widgets/controls",
          "model_name": "ProgressStyleModel",
          "model_module_version": "1.5.0",
          "state": {
            "_model_module": "@jupyter-widgets/controls",
            "_model_module_version": "1.5.0",
            "_model_name": "ProgressStyleModel",
            "_view_count": null,
            "_view_module": "@jupyter-widgets/base",
            "_view_module_version": "1.2.0",
            "_view_name": "StyleView",
            "bar_color": null,
            "description_width": ""
          }
        },
        "d08ffee2305c4450b4df4ff0df7c48bd": {
          "model_module": "@jupyter-widgets/base",
          "model_name": "LayoutModel",
          "model_module_version": "1.2.0",
          "state": {
            "_model_module": "@jupyter-widgets/base",
            "_model_module_version": "1.2.0",
            "_model_name": "LayoutModel",
            "_view_count": null,
            "_view_module": "@jupyter-widgets/base",
            "_view_module_version": "1.2.0",
            "_view_name": "LayoutView",
            "align_content": null,
            "align_items": null,
            "align_self": null,
            "border": null,
            "bottom": null,
            "display": null,
            "flex": null,
            "flex_flow": null,
            "grid_area": null,
            "grid_auto_columns": null,
            "grid_auto_flow": null,
            "grid_auto_rows": null,
            "grid_column": null,
            "grid_gap": null,
            "grid_row": null,
            "grid_template_areas": null,
            "grid_template_columns": null,
            "grid_template_rows": null,
            "height": null,
            "justify_content": null,
            "justify_items": null,
            "left": null,
            "margin": null,
            "max_height": null,
            "max_width": null,
            "min_height": null,
            "min_width": null,
            "object_fit": null,
            "object_position": null,
            "order": null,
            "overflow": null,
            "overflow_x": null,
            "overflow_y": null,
            "padding": null,
            "right": null,
            "top": null,
            "visibility": null,
            "width": null
          }
        },
        "a8f0102fd1d44b129c102301b5ab7ef9": {
          "model_module": "@jupyter-widgets/controls",
          "model_name": "DescriptionStyleModel",
          "model_module_version": "1.5.0",
          "state": {
            "_model_module": "@jupyter-widgets/controls",
            "_model_module_version": "1.5.0",
            "_model_name": "DescriptionStyleModel",
            "_view_count": null,
            "_view_module": "@jupyter-widgets/base",
            "_view_module_version": "1.2.0",
            "_view_name": "StyleView",
            "description_width": ""
          }
        }
      }
    }
  },
  "cells": [
    {
      "cell_type": "markdown",
      "metadata": {
        "id": "view-in-github",
        "colab_type": "text"
      },
      "source": [
        "<a href=\"https://colab.research.google.com/github/Dimildizio/DS_course/blob/main/Agents/Agentic_patterns/Routing_pattern.ipynb\" target=\"_parent\"><img src=\"https://colab.research.google.com/assets/colab-badge.svg\" alt=\"Open In Colab\"/></a>"
      ]
    },
    {
      "cell_type": "markdown",
      "source": [
        "# Routing Pattern\n",
        "\n",
        "**Core AI pattern:** chooses the right path (prompt, tool, model, or chain) for each input.\n",
        "\n",
        "Boosts accuracy, lowers cost/latency, and keeps outputs consistent by **sending different problems to different specialists**.\n",
        "\n",
        "Essential for agents that must decide what to do next before doing it.\n",
        "\n",
        "Building block for tool-use, multi-expert systems, and safe fallbacks."
      ],
      "metadata": {
        "id": "HYRjFKph4V99"
      }
    },
    {
      "cell_type": "markdown",
      "source": [
        "## Theory"
      ],
      "metadata": {
        "id": "P_FxUTv_4jGq"
      }
    },
    {
      "cell_type": "markdown",
      "source": [
        "### What is it?\n",
        "\n",
        "A **router** inspects an input and **dispatches** it **to** the best **handler**:\n",
        "\n",
        "- Different prompts (e.g., “SQL Expert” vs “Email Writer”)\n",
        "\n",
        "- Different tools (calculator, web search, vector DB)\n",
        "\n",
        "- Different models (small/cheap vs large/accurate)\n",
        "\n",
        "- Different sub-chains (RAG flow vs generation-only, etc)\n",
        "\n",
        "The router can be **rule-based, ML/embedding-based, LLM-as-classifier, or hybrid.**"
      ],
      "metadata": {
        "id": "FfmWFEO748NM"
      }
    },
    {
      "cell_type": "markdown",
      "source": [
        "### Why It Matters?\n",
        "\n",
        "**One-size-fits-all prompts** waste tokens and **underperform** because:\n",
        "\n",
        "- Tasks have heterogeneous structure and constraints.\n",
        "\n",
        "- Some cases need tools, others don't.\n",
        "\n",
        "- Many inputs are easy (use small model), some are hard (escalate).\n",
        "\n",
        "- Safety/compliance may require blocking or escalation.\n",
        "\n",
        "\n",
        "#### Routing improves:\n",
        "\n",
        "- Accuracy: expert prompts beat generic ones.\n",
        "\n",
        "- Cost/Latency: cheap paths for easy cases; heavy paths only when needed.\n",
        "\n",
        "- Safety: detect disallowed/PII-sensitive inputs and abstain or handoff."
      ],
      "metadata": {
        "id": "jya-a87A5QIb"
      }
    },
    {
      "cell_type": "markdown",
      "source": [
        "### Key Components\n",
        "\n",
        "**Classifier / Gating**\n",
        "\n",
        "- Rules: regex/keywords, heuristics, schema checks.\n",
        "- Embeddings/ML: nearest-neighbor to labeled routes, lightweight classifiers.\n",
        "- LLM-as-Router: single JSON decision (route, confidence, rationale).\n",
        "- Hybrid: rules first (fast/safe), then LLM when uncertain.\n",
        "\n",
        "**Targets (Experts)**\n",
        "\n",
        "- Prompts, tools, models, or full chains with clear contracts (input/output schema).\n",
        "\n",
        "**Unification Layer**\n",
        "\n",
        "- Normalize outputs across branches (e.g., a common JSON envelope) so downstream code stays simple.\n",
        "\n",
        "**Confidence & Fallbacks**\n",
        "\n",
        "- Thresholds, tie-breakers, \"unknown/abstain,\" human-in-the-loop, or a generalist path.\n",
        "\n",
        "**Observability**\n",
        "\n",
        "- Route logs, confusion matrix, coverage/precision, cost & latency per route.\n",
        "\n",
        "**Policy & Safety**\n",
        "\n",
        "- Guardrails pre- and post-route (blocklists, PII detection, content policies)."
      ],
      "metadata": {
        "id": "ofuiD9845yI3"
      }
    },
    {
      "cell_type": "markdown",
      "source": [
        "### Practical Use Cases\n",
        "\n",
        "- Customer support triage: billing vs tech vs account -> distinct prompts/RAG corpora.\n",
        "- Code assistant: detect language (Py/JS/SQL) -> language-specific prompts & unit-testers.\n",
        "- Doc extraction: detect doc type (invoice, receipt, ID) -> specialized parsers/schemata as tool.\n",
        "- RAG index selection: pick the right knowledge base or retriever per query.\n",
        "- Tool choice (I'd say most obvious): math -> calculator; current events -> web; entity lookup -> DB.\n",
        "- Multilingual: route by language to locale-tuned prompts/models.\n",
        "- Security: alert/IOC triage -> malware vs phishing vs misconfig paths; escalate unknowns."
      ],
      "metadata": {
        "id": "cYZupEgJ6VWT"
      }
    },
    {
      "cell_type": "markdown",
      "source": [
        "### Tricks, pieces of advice and things to consider\n",
        "\n",
        "**Design choice**: Rules vs ML/embeddings vs LLM-as-router\n",
        "\n",
        "- Rules (regex/heuristics): Fast, cheap, transparent.\n",
        "- ML / Embeddings classifier: Train a lightweight model (or use nearest-neighbor on embeddings) to map inputs -> routes.\n",
        "- LLM-as-router: Ask an LLM to return `{route: \"...\", confidence: 0–1, rationale: \"...\"}`, however in practice LLM would likely return 0.3 for not sure, 0.9 for high confidence so it really feels binary\n",
        "- Hybrid (in practice wins in most cases): Rules first (block obvious, fast wins) -> embeddings/ML if uncertain -> LLM only when confidence is low or case is novel.\n",
        "\n",
        "**Contract**: Keep branch outputs schema-aligned.\n",
        "\n",
        "- What: Every branch should return the same envelope so downstream code doesn’t care which path ran.\n",
        "- Why: Simplifies integration, logging, and evaluation.\n",
        "- How: Validate with Pydantic (or Marshmallow) and reject/repair non-conforming outputs.\n",
        "\n",
        "\n",
        "**Safety**: Always include block/abstain and human handoff. The router must be able to say \"don't answer\" and escalate.\n",
        "\n",
        "- Blocklist / policy gates (pre-route): `disallowed content -> {route:\"blocked\", reason:\"pii_detected\"}`.\n",
        "- Abstain on low-confidence: If `confidence < threshold -> {route:\"abstain\"}` and trigger fallback (generalist model) or human triage.\n",
        "- Post-route checks: Scan generated outputs (hallucination detector, SQL safety linter). If fails -> auto-revise or escalate.\n",
        "- Metadata to keep: `reason`, `policy_category`, `recommended_action: \"escalate|revise|drop\"`.\n",
        "-Obviously do not forget to escalate and return.\n",
        "For example:\n",
        "```\n",
        "{ \"route\":\"abstain\", \"confidence\":0.42, \"reason\":\"ambiguous intent\", \"handoff\":\"human_security_analyst\" }\n",
        "```\n",
        "\n",
        "**Ops**: Track route quality and adjust thresholds, cache easy decisions.\n",
        "\n",
        "Treat routing like a model-measure and tune it.\n",
        "\n",
        "- Metrics to log\n",
        "\n",
        "  - Coverage per route (% of traffic).\n",
        "  - Accuracy/Success per route (task-specific score).\n",
        "  - Confusion matrix (where the router picked A but ground truth was B).\n",
        "  - Latency & cost per route.\n",
        "  - Abstain rate and escalation outcomes.\n",
        "\n",
        "- Threshold tuning\n",
        "\n",
        "  - Pick confidence threshold per route to maximize a cost-aware objective. (Might be tricky to choose how).\n",
        "\n",
        "- Caching\n",
        "\n",
        "  - ALWAYS take into account KV-cache since depending on context window it could eat way more vRAM than the model itself. Use KV budgets, eviction tiers, and route-aware policies to keep VRAM stable. Alternatives to KV-cache - prefix KV cache (bounded), response cache (exact matches), retrieval/embedding cache (to reduce prompt length next time).\n",
        "  - Cache final answers and shared prefixes, not full user contexts.\n",
        "  - Normalize input -> compute a routing key (for example hash of lemmatized text).\n",
        "  - If seen before with high confidence, reuse route (and even final answer if safe).\n",
        "  - Great for FAQs and repeated queries -> slashes latency/cost.\n",
        "\n"
      ],
      "metadata": {
        "id": "28nHEt2-7LDV"
      }
    },
    {
      "cell_type": "markdown",
      "source": [
        "## TL;DR\n",
        "\n",
        "**What**: A decision layer that routes inputs to the best expert path.\n",
        "\n",
        "**Why**: Higher accuracy with lower cost/latency and better safety.\n",
        "\n",
        "**Rule of Thumb**: Use routing when tasks are heterogeneous, tools/models differ by case, or you need abstain/escalation behavior."
      ],
      "metadata": {
        "id": "ijLt7ury6xO6"
      }
    },
    {
      "cell_type": "markdown",
      "source": [
        "## Practice"
      ],
      "metadata": {
        "id": "upixbTSBQUwx"
      }
    },
    {
      "cell_type": "markdown",
      "source": [
        "### Set up"
      ],
      "metadata": {
        "id": "GgV_CPHDRNJ7"
      }
    },
    {
      "cell_type": "code",
      "source": [
        "!pip install -q langgraph"
      ],
      "metadata": {
        "colab": {
          "base_uri": "https://localhost:8080/"
        },
        "id": "K7m25q415HRr",
        "outputId": "1fca4146-c6c4-4b49-d446-d442d373c81e"
      },
      "execution_count": 2,
      "outputs": [
        {
          "output_type": "stream",
          "name": "stdout",
          "text": [
            "\u001b[?25l     \u001b[90m━━━━━━━━━━━━━━━━━━━━━━━━━━━━━━━━━━━━━━━━\u001b[0m \u001b[32m0.0/43.7 kB\u001b[0m \u001b[31m?\u001b[0m eta \u001b[36m-:--:--\u001b[0m\r\u001b[2K     \u001b[90m━━━━━━━━━━━━━━━━━━━━━━━━━━━━━━━━━━━━━━━━\u001b[0m \u001b[32m43.7/43.7 kB\u001b[0m \u001b[31m1.5 MB/s\u001b[0m eta \u001b[36m0:00:00\u001b[0m\n",
            "\u001b[2K   \u001b[90m━━━━━━━━━━━━━━━━━━━━━━━━━━━━━━━━━━━━━━━━\u001b[0m \u001b[32m153.3/153.3 kB\u001b[0m \u001b[31m5.4 MB/s\u001b[0m eta \u001b[36m0:00:00\u001b[0m\n",
            "\u001b[2K   \u001b[90m━━━━━━━━━━━━━━━━━━━━━━━━━━━━━━━━━━━━━━━━\u001b[0m \u001b[32m43.9/43.9 kB\u001b[0m \u001b[31m2.8 MB/s\u001b[0m eta \u001b[36m0:00:00\u001b[0m\n",
            "\u001b[2K   \u001b[90m━━━━━━━━━━━━━━━━━━━━━━━━━━━━━━━━━━━━━━━━\u001b[0m \u001b[32m56.1/56.1 kB\u001b[0m \u001b[31m4.1 MB/s\u001b[0m eta \u001b[36m0:00:00\u001b[0m\n",
            "\u001b[2K   \u001b[90m━━━━━━━━━━━━━━━━━━━━━━━━━━━━━━━━━━━━━━━━\u001b[0m \u001b[32m216.7/216.7 kB\u001b[0m \u001b[31m11.0 MB/s\u001b[0m eta \u001b[36m0:00:00\u001b[0m\n",
            "\u001b[?25h"
          ]
        }
      ]
    },
    {
      "cell_type": "code",
      "source": [
        "import os\n",
        "import json\n",
        "import re\n",
        "import requests\n",
        "import time\n",
        "import math\n",
        "import hashlib\n",
        "import string\n",
        "import requests\n",
        "import numpy as np\n",
        "\n",
        "from typing import TypedDict, Optional\n",
        "\n",
        "from google.colab import userdata\n",
        "from langgraph.graph import StateGraph, END\n",
        "from pydantic import BaseModel, Field\n",
        "from sentence_transformers import SentenceTransformer\n",
        "from sklearn.metrics.pairwise import cosine_similarity\n",
        "\n",
        "\n",
        "OPENROUTER_API_KEY = userdata.get('openrouter')\n",
        "\n",
        "BASE_URL = \"https://openrouter.ai/api/v1/chat/completions\"\n",
        "HEADERS = {\"Authorization\": f\"Bearer {OPENROUTER_API_KEY}\"}\n",
        "\n",
        "MODEL_ROUTER = \"qwen/qwen3-30b-a3b:free\"\n",
        "MODEL_ROUTER_2 = \"nvidia/nemotron-nano-9b-v2:free\"\n",
        "MODEL_EXPERT = \"mistralai/mistral-small-3.2-24b-instruct:free\"\n"
      ],
      "metadata": {
        "id": "71Ya-52cQXov"
      },
      "execution_count": 3,
      "outputs": []
    },
    {
      "cell_type": "markdown",
      "source": [
        "#### Dataset example"
      ],
      "metadata": {
        "id": "vN9ww89WRWsw"
      }
    },
    {
      "cell_type": "code",
      "source": [
        "TEST_ALERTS = [\n",
        "  (\"phishing\", \"\"\"User reports email urging immediate password reset. Link goes to login-acme-security[.]com, DKIM fails. Message requests MFA backup codes.\"\"\"),\n",
        "  (\"malware\", \"\"\"EDR flagged PowerShell: iwr hxxp://185.203.116.44/upd.ps1 -o C:\\\\Users\\\\Public\\\\upd.ps1; start-process. File hash 9f2c...e12. Beacon-like 60s jitter.\"\"\"),\n",
        "  (\"misconfig\", \"\"\"CloudTrail shows s3://acme-data set to public-read. No IOCs; finding is CIS-3.1 noncompliance.\"\"\"),\n",
        "  (\"blocked\", \"\"\"Email contains full card: 4111-1111-1111-1111 exp 12/27. Requesting storage in helpdesk ticket.\"\"\"),\n",
        "  (\"unknown\", \"\"\"Potential lateral movement from srv-db-03 to srv-erp-02. Insufficient details to classify.\"\"\")]\n"
      ],
      "metadata": {
        "id": "ALoDoRXORbK6"
      },
      "execution_count": 5,
      "outputs": []
    },
    {
      "cell_type": "markdown",
      "source": [
        "### Call func"
      ],
      "metadata": {
        "id": "yI_4pgKtRRYB"
      }
    },
    {
      "cell_type": "code",
      "source": [
        "def call(model, messages, **kw):\n",
        "    payload = {\"model\": model, \"messages\": messages, **kw}\n",
        "    r = requests.post(BASE_URL, headers=HEADERS, json=payload, timeout=20)\n",
        "    r.raise_for_status()\n",
        "    return r.json()[\"choices\"][0][\"message\"][\"content\"]"
      ],
      "metadata": {
        "id": "OdcvBOgSRDVo"
      },
      "execution_count": 6,
      "outputs": []
    },
    {
      "cell_type": "markdown",
      "source": [
        "### Unified Envelope\n",
        "\n",
        "\n",
        "No matter which branch the router takes (phishing, malware, misconfig, blocked, abstain), the output has the same structure.\n",
        "\n",
        "\n",
        "Fields:\n",
        "\n",
        "> route – which path was chosen.\n",
        "\n",
        "> answer – the expert’s text output.\n",
        "\n",
        "> data – extra structured information (e.g. list of IOCs).\n",
        "\n",
        "> citations – sources or references.\n",
        "\n",
        "> confidence – how sure we are.\n",
        "\n",
        "> extras – additional metadata (reason, handoff, etc).\n",
        "\n",
        "> error – error messages if something went wrong.\n",
        "\n",
        "> schema_version – versioning for compatibility."
      ],
      "metadata": {
        "id": "JDkqbF5qvEBz"
      }
    },
    {
      "cell_type": "code",
      "source": [
        "class Envelope(BaseModel):\n",
        "    route: str\n",
        "    answer: str\n",
        "    data: dict = Field(default_factory=dict)\n",
        "    citations: list[str] = Field(default_factory=list)\n",
        "    confidence: float = 0.0\n",
        "    extras: dict = Field(default_factory=dict)\n",
        "    error: str | None = None\n",
        "    schema_version: str = \"1.0\"\n"
      ],
      "metadata": {
        "id": "Nej9-98f4j5C"
      },
      "execution_count": 7,
      "outputs": []
    },
    {
      "cell_type": "markdown",
      "source": [
        "### LAB 1: Heuristic Rules Router as a Graph Node\n",
        "\n",
        "First layer of Routing\n",
        "\n",
        "**Skill**: Rules/regex gating + building LangGraph node and edge.\n",
        "\n",
        "**Goal**: Classify alerts with simple heuristics and return (route, confidence, reason).\n",
        "\n",
        "#### **Task**\n",
        "\n",
        "- Implement rules_router(alert_text).\n",
        "- Build a minimal LangGraph with a single node rules_node and a terminal.\n",
        "- Run the graph on TEST_ALERTS and note misroutes/abstains.\n",
        "\n",
        "\n",
        "#### **Explanation**\n",
        "\n",
        "- We put a pre-route safety gate into rules to block PII right away (fast & safe).\n",
        "- Routing is like airport security: simple metal detectors first, then more advanced scans if needed.\n",
        "- We return a structured decision to keep later steps consistent.\n",
        "- A single-node graph is trivial, but forces you into explicit control flow, which will pay off as we add branches.\n",
        "\n",
        "\n",
        "#### **Whats and Why's**\n",
        "\n",
        "- Define possible routes -> phishing, malware, misconfig, abstain (not sure), blocked (policy violation).\n",
        "\n",
        "- Write basic rules (regex + keywords) -> if we see signs of credit card numbers -> block, if we see \"reset password\" -> phishing; if \"powershell\" → malware; if \"public-read\" -> misconfig.\n",
        "\n",
        "- Build a routing node in a LangGraph -> this wraps the rules into a reusable step in a graph of decisions.\n",
        "\n",
        "Heuristics would be a first Layer in **Hybrid Router**\n",
        "- Rules catch the obvious 60-70% of cases, and we only escalate the tricky ones."
      ],
      "metadata": {
        "id": "j0IkAKw343Iq"
      }
    },
    {
      "cell_type": "markdown",
      "source": [
        "#### Define RouteState\n",
        "\n",
        "A StateGraph is a directed graph where each node is a function that takes some state (a Python dict/TypedDict) and returns updated state. Basically carry the alert and the routing decision.\n",
        "\n",
        "Here, RouteState defines what fields we track (text, decision).\n",
        "\n"
      ],
      "metadata": {
        "id": "M_1Uy97K79hb"
      }
    },
    {
      "cell_type": "code",
      "source": [
        "class RouteState(TypedDict):\n",
        "    text: str\n",
        "    decision: Optional[dict]"
      ],
      "metadata": {
        "id": "buXbr-wl7vNp"
      },
      "execution_count": 8,
      "outputs": []
    },
    {
      "cell_type": "markdown",
      "source": [
        "#### Define rules"
      ],
      "metadata": {
        "id": "whXbG3HJ8EIl"
      }
    },
    {
      "cell_type": "code",
      "source": [
        "ROUTES = [\"phishing\",\"malware\",\"misconfig\",\"abstain\",\"blocked\"]\n",
        "\n",
        "\n",
        "def rules_node(state: RouteState):\n",
        "    return {\"decision\": rules_router(state[\"text\"])}\n",
        "\n",
        "\n",
        "def rules_router(text: str): # very basic router rules\n",
        "    t = text.lower()\n",
        "    # Pre-route blocklist (crude CC number)\n",
        "    if re.search(r\"\\b(?:\\d[ -]*?){13,16}\\b\", t):\n",
        "        return {\"route\":\"blocked\",\"confidence\":0.99,\"reason\":\"pii_detected:card\"}\n",
        "    # Phishing\n",
        "    if any(k in t for k in [\"dkim fails\",\"reset password\",\"mfa backup codes\"]) or \"login-\" in t:\n",
        "        return {\"route\":\"phishing\",\"confidence\":0.8,\"reason\":\"email_auth_signals\"}\n",
        "    # Malware\n",
        "    if any(k in t for k in [\"powershell\",\"beacon\",\"hxxp://\",\"upd.ps1\",\"hash \"]):\n",
        "        return {\"route\":\"malware\",\"confidence\":0.8,\"reason\":\"edr_iocs\"}\n",
        "    # Misconfig\n",
        "    if any(k in t for k in [\"public-read\",\"cis-\",\"0.0.0.0/0\",\"open bucket\",\"exposed s3\"]):\n",
        "        return {\"route\":\"misconfig\",\"confidence\":0.75,\"reason\":\"cloud_misconfig\"}\n",
        "    return {\"route\":\"abstain\",\"confidence\":0.4,\"reason\":\"insufficient_rules\"}\n"
      ],
      "metadata": {
        "id": "RqFzZbXk43dL"
      },
      "execution_count": 9,
      "outputs": []
    },
    {
      "cell_type": "markdown",
      "source": [
        "#### Flow"
      ],
      "metadata": {
        "id": "bMxzdIgeLmuP"
      }
    },
    {
      "cell_type": "markdown",
      "source": [
        "```scss\n",
        "   (Entry)\n",
        "     │\n",
        "     ▼\n",
        " [ rules_node ]  --decision-->  END\n",
        "\n",
        "```"
      ],
      "metadata": {
        "id": "Ih2JNBHVLjiB"
      }
    },
    {
      "cell_type": "markdown",
      "source": [
        "#### LangGraph recap\n",
        "\n",
        "**Node**\n",
        "\n",
        "A `node` is a function wrapped into the graph.\n",
        "\n",
        "In `rules_node` defined above when the graph hits the `rules` node, it executes `rules_node` and *updates the state* with a new decision.\n",
        "\n",
        "**Entry point**\n",
        "\n",
        "Is where the graph starts when we run it.\n",
        "\n",
        "Every run starts by going through the `rules` node (that execute `rules_node`).\n",
        "\n",
        "**Edges**\n",
        "\n",
        "Edge connects two nodes: after rules, go to `END`.\n",
        "\n",
        "`END` is a special built-in that tells to stop and return the final state.\n",
        "\n",
        "So in this first graph below here, it's a straight pipeline: `start → rules → END.`\n",
        "\n",
        "**Invoking**\n",
        "\n",
        "`g.compile()` below turns the graph definition into an executable object (*app1*).\n",
        "\n",
        "`.invoke(state)` runs the graph with an initial state.\n",
        "\n",
        "The graph will:\n",
        "\n",
        "1. Start at the entry point (rules)\n",
        "2. Run the node function (rules_node)\n",
        "3. Follow the edges/conditionals (in further labs) until it reaches END\n",
        "4. Return the final state dictionary\n",
        "\n",
        "\n",
        "Eventhough we use `.invoke` in several other libraries to call ML/LLM models, here `.invoke` is not necessary a call to LLM, it **just runs the workflow.**\n",
        "\n",
        "*WHAT* it calls *depends on what's inside the nodes*."
      ],
      "metadata": {
        "id": "PgrBDDOwH6z3"
      }
    },
    {
      "cell_type": "code",
      "source": [
        "g = StateGraph(RouteState)\n",
        "g.add_node(\"rules\", rules_node)\n",
        "g.set_entry_point(\"rules\")\n",
        "g.add_edge(\"rules\", END)\n",
        "app1 = g.compile()"
      ],
      "metadata": {
        "id": "X6F8vjau7otO"
      },
      "execution_count": 10,
      "outputs": []
    },
    {
      "cell_type": "code",
      "source": [
        "# Don't forget - no llm included yet, only heuristics\n",
        "for label, text in TEST_ALERTS:\n",
        "    out = app1.invoke({\"text\": text, \"decision\": None})\n",
        "    print(label, \"->\", out[\"decision\"])"
      ],
      "metadata": {
        "colab": {
          "base_uri": "https://localhost:8080/"
        },
        "id": "t3x0Btk-8OFt",
        "outputId": "15cdaaeb-e8cb-4364-ecb8-2c220e98b6ee"
      },
      "execution_count": 11,
      "outputs": [
        {
          "output_type": "stream",
          "name": "stdout",
          "text": [
            "phishing -> {'route': 'phishing', 'confidence': 0.8, 'reason': 'email_auth_signals'}\n",
            "malware -> {'route': 'malware', 'confidence': 0.8, 'reason': 'edr_iocs'}\n",
            "misconfig -> {'route': 'misconfig', 'confidence': 0.75, 'reason': 'cloud_misconfig'}\n",
            "blocked -> {'route': 'blocked', 'confidence': 0.99, 'reason': 'pii_detected:card'}\n",
            "unknown -> {'route': 'abstain', 'confidence': 0.4, 'reason': 'insufficient_rules'}\n"
          ]
        }
      ]
    },
    {
      "cell_type": "markdown",
      "source": [
        "### Lab 2: Embedding Router\n",
        "\n",
        "We use cos similarity of embeddings (vector representation of infromation) **ML gating** to handle the cases rules can't catch, while still keeping things efficient and controlled."
      ],
      "metadata": {
        "id": "_uvLR8ZN-0mm"
      }
    },
    {
      "cell_type": "markdown",
      "source": [
        "**Skill**: ML/embeddings gating when rules abstain.\n",
        "\n",
        "**Goal**: Add an embed node that runs only if rules return abstain.\n",
        "\n",
        "#### **Task**\n",
        "\n",
        "- Create embed_router(text) using sentence-transformers + cosine NN.\n",
        "\n",
        "- Extend the graph: rules -> (abstain?) -> embed -> END.\n",
        "\n",
        "- Tune a **threshold**, log which alerts were saved by embeddings.\n",
        "\n",
        "#### **Explanation**\n",
        "\n",
        "- Embeddings catch semantic matches rules miss, improving coverage with low cost.\n",
        "\n",
        "- Threshold here just an adjustable parameter to change the system's behavior. Too low - more `FP` results, too high - more `FN`.\n",
        "\n",
        "- The decision pipeline approaches `Rules → (if abstain) → Embeddings → (if abstain) → LLM`\n"
      ],
      "metadata": {
        "id": "sbSnUc7RC82P"
      }
    },
    {
      "cell_type": "markdown",
      "source": [
        "#### **Whats and why's**\n",
        "We've built a rules router: simple regex and keyword checks, as a disadvantage we got that if the text doesn't match these rules, the system just says `abstain`.\n",
        "\n",
        "Since we take SOC work as our case example, alerts often come in with varied wording. A phishing email might say `update credentials` instead of `reset password` and I cannot even caout the number of `Verify you are not a robot` variants of fake Cloudflare checkbox I've encountered.\n",
        "\n",
        "So here we add embeddings. You could have worked with them in preprocessing text before feeding to the input layer of LLM, using in RAG for vector DB or generally in NLP tasks and may other. Think of them as vector fingerprints of text: semantically similar phrases land close together in space, basically its clusterization. With embeddings + nearest-neighbor, our router can catch these meaning-level matches.\n",
        "\n",
        "**What are we doing here?**\n",
        "\n",
        "- We define **exemplars**: short example alerts for each category (phishing, malware, misconfig).\n",
        "\n",
        "- We encode them and the new alert with a sentence transformer.\n",
        "- We measure embedding using **cosine similarity** to see which exemplar is closest.\n",
        "- If the similarity is above a **threshold**, we route to that category. If not, we still abstain. If threshold too low -> false positives, too high -> too many abstains.\n",
        "- This way, rules handle the obvious cases, and embeddings 'rescue' the fuzzy ones - expanding coverage without going full LLM *yet*.\n"
      ],
      "metadata": {
        "id": "pZE13dVs-3Vf"
      }
    },
    {
      "cell_type": "markdown",
      "source": [
        "#### Flow\n",
        "\n",
        "\n",
        "```sql\n",
        "\n",
        "   (Entry)\n",
        "     │\n",
        "     ▼\n",
        " [ rules_node ]\n",
        "     │\n",
        "     ├── if route ≠ \"abstain\" ──> END\n",
        "     │\n",
        "     └── if route == \"abstain\"\n",
        "                │\n",
        "                ▼\n",
        "         [ embed_node ] ──decision──> END\n",
        "\n",
        "```"
      ],
      "metadata": {
        "id": "BCFotUosLwRZ"
      }
    },
    {
      "cell_type": "markdown",
      "source": [
        "#### Create Examplars\n",
        "Short rules for categories - we need those to compare our alert with embeddings of those"
      ],
      "metadata": {
        "id": "qm6kpVAfFZiI"
      }
    },
    {
      "cell_type": "code",
      "source": [
        "EXEMPLARS = {\n",
        " \"phishing\": [\n",
        "   \"email asks to reset password via external domain; dkim or dmarc failed; requests mfa backup codes\",\n",
        "   \"login page clone credential harvest with lookalike domain\"\n",
        " ],\n",
        " \"malware\": [\n",
        "   \"edr detects powershell downloads script from external ip; c2 beacons with jitter\",\n",
        "   \"suspicious executable hash and persistence with callbacks\"\n",
        " ],\n",
        " \"misconfig\": [\n",
        "   \"s3 bucket public-read exposure cis noncompliance\",\n",
        "   \"security group allows 0.0.0.0/0 on ssh\"\n",
        " ]\n",
        "}"
      ],
      "metadata": {
        "id": "4Rdz8MwoFLCT"
      },
      "execution_count": 12,
      "outputs": []
    },
    {
      "cell_type": "markdown",
      "source": [
        "#### Get emb model and convet text to embs"
      ],
      "metadata": {
        "id": "QTpqCG2KFXNi"
      }
    },
    {
      "cell_type": "code",
      "source": [
        "embed_model = SentenceTransformer(\"sentence-transformers/all-MiniLM-L6-v2\")  # model to convert text to embedding\n",
        "\n",
        "EX_VECS = {k: embed_model.encode(v) for k,v in EXEMPLARS.items()} # getting embs\n"
      ],
      "metadata": {
        "colab": {
          "base_uri": "https://localhost:8080/",
          "height": 369,
          "referenced_widgets": [
            "dd35a426623845d194db94359213b9c4",
            "d84a54de1f184d84985ad812149e7f85",
            "e9c7acd34e5245f5b4415e7b6eaa6e8a",
            "2fcf822eae6244aea048dc13bbc44b61",
            "ffd901881aba43a2b4ac98c558ee1fe6",
            "77fed83234064362884a7db51b0cf1ed",
            "87ed96b7d5fe4e8d96f433ca45d15a5e",
            "fa90b71cfd9e43b18685edc7e1f977b5",
            "7ce13392d4934f8ca35f5a27d508712c",
            "3f5522a40317415cb398fa6b4f023322",
            "ada4d484ab9940c5a40fb300b836c1f4",
            "2773c0c8ff454e1ead1cbd44c8174df9",
            "501687b3d122465ab04a3665ce6078e4",
            "75178a91a05a4887b2209ce9aa0a69ca",
            "6e2b55d9f8884344869cf28f9f1e3365",
            "fbe7c32f73074773a8065e84dd1572d5",
            "1ac9a6cdf7ff45a592f4802a317fed11",
            "9de95976f36e487788c57431e3a403f6",
            "cbe76b0cc4884231bc0062fa7b29893c",
            "f85930531eb0415e81f9c6d24b52758b",
            "9bdefa0036a44f1e9460cffabbd0072b",
            "58e01d13b45141749c8ff30248504fb5",
            "5c3d09b448a04803aacb6bccda34ab73",
            "72f19d836d0e40e49d77f0cf95692ff5",
            "64ac8234811e41a5b2316ce9af7634bf",
            "72751ea94227466d9a6edadbae55cbf4",
            "ab4a3c6389c44a5e8d0ab502a0391c95",
            "525aab6dcb524132a749cc44a69c7a60",
            "ca3fa59228a6477f8319d921cae369cd",
            "6c80a0c8d2474ca8a65e6bc5e4abc581",
            "0da03bb485034a6ea6ed6b63905adc25",
            "5acaa1723621403ba9ceeb04411b2586",
            "5c40cd3581944182abd0db98958c3421",
            "043a7439eda94d1490af405755a2cea2",
            "85b0c9ccbef5477f806f77b4f81e8132",
            "e060664b3e4f4eaca9fd49b14242c789",
            "ce0f21575c394149a1dc80febaa28367",
            "b4dae4b28bd2467994c756eee380d21a",
            "2b52836b86154324950f22d2369fde73",
            "40e9f9d3f700492c91c0ac80128b89f5",
            "ce737b2747294bdba24a123834a61882",
            "a853abb7a22b46ad8d835b9b4c45da91",
            "bf27bd41026f45eba8250949d4916ddf",
            "2b2af42b0d574556a43132f9a3d8696e",
            "009d755f79484baebb9fe973cd71729b",
            "60d7426697fd40128d501d47155b8ef8",
            "c3a7214cc4054c61846f658ef8eb966f",
            "dc3724eb42264ffb9f948ca4d1f13ed6",
            "e64fbaf3b8d6423b99e8a35f934da33a",
            "610c94ad510945c7822f42ee3a05bca3",
            "e920ab261d8544b0a40d72441b205858",
            "fac4525e22994defac7204a08a0ab19e",
            "755e8bf8eafb448ea185ceab45b1cacc",
            "626209cc4b0e4d4a8491bb5176653c7a",
            "72c26aa402504c22a51a5fcc069f18e9",
            "95a7929268314431ad6c94be23f101f7",
            "f1b0a2beaa2948d49ede43b9e28b0cd4",
            "ee928a5ef8d04a27a285db8f0430026d",
            "181834385a87469b9ddb927e4d4c3616",
            "076ee86c99ba4d39abf11f30a0eec593",
            "57cc067d4f5b4763b7b5511f47ac5b5e",
            "d25e591ec4fa43edb53e0c69e0b744de",
            "180766225fd24368b4d56ac44f1d4efd",
            "0df147ae94e24382a37e2e944570084a",
            "bb497928e287487bb033765ed8de2dae",
            "7be0e17aa5074f74a5887392b923a078",
            "9554942c100b4e9ca53c073d4e080462",
            "f45a0f5a74794a378c72f2708a8b9a1c",
            "60c64c3134fe465eb490d6027e4fd706",
            "a09c028d04c746d6b4e05e2418039ac1",
            "83031a4d946e4cf5865cb4c0ea13d00d",
            "5953a62ff9684b00a0964851af04b162",
            "d9868e6e01b44ddaaead32fc5833a571",
            "4b3382606da24c48aa616666aab9bf46",
            "99489ba07f854fb7af28442be62d3e0f",
            "c2269858e41141b484e360c19ec18c41",
            "42186945d15b42909017be8f2e1e0d28",
            "8b8c2daf3219455ea2b718dbfb88148e",
            "5b00102958b844caa7cea0b6887f3b2e",
            "e439d8318eaa400c92841b8123e99119",
            "033f734375b649269d5b64a1b6277fda",
            "ee927ec077c446308f02570e7d3c64e8",
            "04fd541af1f14a9bae09dfb41f89d9aa",
            "68eeec4d26cf4cc6a7883a60912d1a0e",
            "f877444ddb1e40f18961bfc4d75369e3",
            "a77cd4bf4a5f43d1affe12dfb3ac67fe",
            "83875232ad2c42b2a482d316ee151011",
            "9f940c213b484d90a04f851f2d4d19c2",
            "be987a442eb74b7f9d070c5a54859ab0",
            "ca73156bb4184a8c85882002db4af9ae",
            "8a99fd3b7cbc4a4f8c1961f7233529b6",
            "9332ad936e97464c9aeef0198d96fcd6",
            "8e124faa67ae46bd84e49cb330bfdf2a",
            "112c2755621d42e4854973e625804a69",
            "56cde880c76440efbe25be4d9d67461d",
            "715aa0ee84c6434c837fad564993cd0d",
            "33f39661ec1e45dbbbdfd8762c21aec3",
            "eab93c57192c43d2a2821f7eba3d6d51",
            "cab0bf3e0f3546558f4df69355ddf3bb",
            "0ef7302174fe4edcafa9711af4a274ac",
            "7fdbb51afda84975b70e169d1071eed4",
            "bb64e0d9d45e4feb8f06dd79f9eacc1b",
            "308bbd326cde40b2bb1ac2811d3667fd",
            "6aca8b6365db4ff58d24fc6044ec0c0d",
            "73eebba6748046b3b79f1d9c78796798",
            "3c087baf95d64b8c92cd0e52a30ecc80",
            "fbb1aadde6b04003a729dd03f7743a40",
            "dd567f2013024f36a9e4103ccc07fbf9",
            "c0b97608dedd439da335dcdc96958190",
            "100e09901e7d4b73981d7e80b4024e4b",
            "4ce9315851054447938f977fbef86885",
            "dfa71e1f2eb843789c515fa323dde0e5",
            "27ddfa92407f4633a29aa7c76a2cb44b",
            "cf0253d85b934a61bc0529e0a221105b",
            "3781dcca3ff543f5900852148779eba8",
            "cdf9e8f5da744cf7a6f8ce9ed2aba2f0",
            "d665f11cca554231adb24afe97a9d7d1",
            "473c96b8b43144e5b94fe55f4d9782f1",
            "73b4865ed0054aafa69230098a1cb8f0",
            "d08ffee2305c4450b4df4ff0df7c48bd",
            "a8f0102fd1d44b129c102301b5ab7ef9"
          ]
        },
        "id": "Qlzx-5DD-3AR",
        "outputId": "d027bbad-e3b2-4e29-8ffe-076d15ad89a1"
      },
      "execution_count": 13,
      "outputs": [
        {
          "output_type": "display_data",
          "data": {
            "text/plain": [
              "modules.json:   0%|          | 0.00/349 [00:00<?, ?B/s]"
            ],
            "application/vnd.jupyter.widget-view+json": {
              "version_major": 2,
              "version_minor": 0,
              "model_id": "dd35a426623845d194db94359213b9c4"
            }
          },
          "metadata": {}
        },
        {
          "output_type": "display_data",
          "data": {
            "text/plain": [
              "config_sentence_transformers.json:   0%|          | 0.00/116 [00:00<?, ?B/s]"
            ],
            "application/vnd.jupyter.widget-view+json": {
              "version_major": 2,
              "version_minor": 0,
              "model_id": "2773c0c8ff454e1ead1cbd44c8174df9"
            }
          },
          "metadata": {}
        },
        {
          "output_type": "display_data",
          "data": {
            "text/plain": [
              "README.md: 0.00B [00:00, ?B/s]"
            ],
            "application/vnd.jupyter.widget-view+json": {
              "version_major": 2,
              "version_minor": 0,
              "model_id": "5c3d09b448a04803aacb6bccda34ab73"
            }
          },
          "metadata": {}
        },
        {
          "output_type": "display_data",
          "data": {
            "text/plain": [
              "sentence_bert_config.json:   0%|          | 0.00/53.0 [00:00<?, ?B/s]"
            ],
            "application/vnd.jupyter.widget-view+json": {
              "version_major": 2,
              "version_minor": 0,
              "model_id": "043a7439eda94d1490af405755a2cea2"
            }
          },
          "metadata": {}
        },
        {
          "output_type": "display_data",
          "data": {
            "text/plain": [
              "config.json:   0%|          | 0.00/612 [00:00<?, ?B/s]"
            ],
            "application/vnd.jupyter.widget-view+json": {
              "version_major": 2,
              "version_minor": 0,
              "model_id": "009d755f79484baebb9fe973cd71729b"
            }
          },
          "metadata": {}
        },
        {
          "output_type": "display_data",
          "data": {
            "text/plain": [
              "model.safetensors:   0%|          | 0.00/90.9M [00:00<?, ?B/s]"
            ],
            "application/vnd.jupyter.widget-view+json": {
              "version_major": 2,
              "version_minor": 0,
              "model_id": "95a7929268314431ad6c94be23f101f7"
            }
          },
          "metadata": {}
        },
        {
          "output_type": "display_data",
          "data": {
            "text/plain": [
              "tokenizer_config.json:   0%|          | 0.00/350 [00:00<?, ?B/s]"
            ],
            "application/vnd.jupyter.widget-view+json": {
              "version_major": 2,
              "version_minor": 0,
              "model_id": "9554942c100b4e9ca53c073d4e080462"
            }
          },
          "metadata": {}
        },
        {
          "output_type": "display_data",
          "data": {
            "text/plain": [
              "vocab.txt: 0.00B [00:00, ?B/s]"
            ],
            "application/vnd.jupyter.widget-view+json": {
              "version_major": 2,
              "version_minor": 0,
              "model_id": "8b8c2daf3219455ea2b718dbfb88148e"
            }
          },
          "metadata": {}
        },
        {
          "output_type": "display_data",
          "data": {
            "text/plain": [
              "tokenizer.json: 0.00B [00:00, ?B/s]"
            ],
            "application/vnd.jupyter.widget-view+json": {
              "version_major": 2,
              "version_minor": 0,
              "model_id": "be987a442eb74b7f9d070c5a54859ab0"
            }
          },
          "metadata": {}
        },
        {
          "output_type": "display_data",
          "data": {
            "text/plain": [
              "special_tokens_map.json:   0%|          | 0.00/112 [00:00<?, ?B/s]"
            ],
            "application/vnd.jupyter.widget-view+json": {
              "version_major": 2,
              "version_minor": 0,
              "model_id": "0ef7302174fe4edcafa9711af4a274ac"
            }
          },
          "metadata": {}
        },
        {
          "output_type": "display_data",
          "data": {
            "text/plain": [
              "config.json:   0%|          | 0.00/190 [00:00<?, ?B/s]"
            ],
            "application/vnd.jupyter.widget-view+json": {
              "version_major": 2,
              "version_minor": 0,
              "model_id": "4ce9315851054447938f977fbef86885"
            }
          },
          "metadata": {}
        }
      ]
    },
    {
      "cell_type": "markdown",
      "source": [
        "#### Create emb-based classifier\n",
        "\n",
        "- convert text to embs\n",
        "- compute cos sim between exemplars and given alert for each route and take most similar\n",
        "- track best match and if similarity is above the threshould `tau` - **classify** as a given route (phish, malware, miscofig), if not - **abstain**"
      ],
      "metadata": {
        "id": "ZNIFmNCdF9UP"
      }
    },
    {
      "cell_type": "code",
      "source": [
        "def embed_router(text: str, tau=0.55):  # tau is a threshold\n",
        "    q = embed_model.encode([text])\n",
        "    best_route, best_score = None, -1\n",
        "    for route, vecs in EX_VECS.items():\n",
        "        sim = cosine_similarity(q, vecs).max()\n",
        "        if sim > best_score:\n",
        "            best_route, best_score = route, float(sim)\n",
        "    if best_score >= tau:\n",
        "        return {\"route\": best_route, \"confidence\": best_score, \"reason\": f\"embed_nn:{best_score:.2f}\"}\n",
        "    return {\"route\":\"abstain\",\"confidence\":best_score,\"reason\":\"embed_low_conf\"}\n",
        "\n",
        "def embed_node(state: RouteState):\n",
        "    \"\"\"Check if decision already exists and not abstain -> don't redo, ottherwise - call emb router\"\"\"\n",
        "    d = state[\"decision\"]\n",
        "    if d and d[\"route\"] != \"abstain\":\n",
        "        return {\"decision\": d}\n",
        "    return {\"decision\": embed_router(state[\"text\"])}"
      ],
      "metadata": {
        "id": "DfrcEe2QFXhn"
      },
      "execution_count": 14,
      "outputs": []
    },
    {
      "cell_type": "markdown",
      "source": [
        "#### LangGraph recap\n",
        "\n",
        "\n",
        "**Conditional edges**\n",
        "\n",
        "Conditional edges allow to branch: *next step depends on the state*\n",
        "\n",
        "`go_embed` is a function: it looks at the decision from rules.\n",
        "If the route is `abstain`, return `embed`.\n",
        "Otherwise, return `END`.\n",
        "\n",
        "Then `add_conditional_edges` *maps* those possible *return values to nodes* (`embed` or `END`).\n",
        "\n",
        "So now we've added routing logic:\n",
        "- `If rules succeeded → stop`\n",
        "- `If rules abstained → go to embeddings`"
      ],
      "metadata": {
        "id": "wZx8BX1kJuK8"
      }
    },
    {
      "cell_type": "code",
      "source": [
        "def go_embed(state):\n",
        "  return \"embed\" if state[\"decision\"][\"route\"]==\"abstain\" else END"
      ],
      "metadata": {
        "id": "CcE3BaTiJ6W0"
      },
      "execution_count": 15,
      "outputs": []
    },
    {
      "cell_type": "code",
      "source": [
        "g2 = StateGraph(RouteState)\n",
        "g2.add_node(\"rules\", rules_node)\n",
        "g2.add_node(\"embed\", embed_node)\n",
        "g2.set_entry_point(\"rules\")\n",
        "\n",
        "# conditional edge\n",
        "g2.add_conditional_edges(\"rules\", go_embed, {\"embed\":\"embed\", END: END})\n",
        "g2.add_edge(\"embed\", END)\n",
        "app2 = g2.compile()\n",
        "\n",
        "for label, text in TEST_ALERTS:\n",
        "    out = app2.invoke({\"text\": text, \"decision\": None})\n",
        "    print(label, \"->\", out[\"decision\"])"
      ],
      "metadata": {
        "colab": {
          "base_uri": "https://localhost:8080/"
        },
        "id": "NivcgC-0Fqlj",
        "outputId": "30ba54fd-3721-4210-a7cb-c40562a1f66d"
      },
      "execution_count": 16,
      "outputs": [
        {
          "output_type": "stream",
          "name": "stdout",
          "text": [
            "phishing -> {'route': 'phishing', 'confidence': 0.8, 'reason': 'email_auth_signals'}\n",
            "malware -> {'route': 'malware', 'confidence': 0.8, 'reason': 'edr_iocs'}\n",
            "misconfig -> {'route': 'misconfig', 'confidence': 0.75, 'reason': 'cloud_misconfig'}\n",
            "blocked -> {'route': 'blocked', 'confidence': 0.99, 'reason': 'pii_detected:card'}\n",
            "unknown -> {'route': 'abstain', 'confidence': 0.10133396089076996, 'reason': 'embed_low_conf'}\n"
          ]
        }
      ]
    },
    {
      "cell_type": "markdown",
      "source": [
        "### **Lab 3 LLM-as-Router**\n",
        "\n",
        "When both rules and embeddings `abstain` - can't decide, we escalate to an LLM-based router. The LLM is asked explicitly to return a JSON decision (route, confidence, rationale).\n",
        "\n",
        "**Skill:** Use LLM classification as a last resort in the routing pipeline.\n",
        "\n",
        "**Goal:**\n",
        "- Add an llm_node that runs only if both rules and embeddings abstain.\n",
        "- Ensure the LLM outputs a structured decision.\n",
        "- Compare outputs to ground truth.\n",
        "\n",
        "#### **Task**\n",
        "\n",
        "- Implement llm_router(text) -> prompts the LLM to classify into `{phishing, malware, misconfig, blocked, abstain}` and returns JSON.\n",
        "\n",
        "- Extend the graph: `rules → (abstain?) → embed → (abstain?) → llm → END.`\n",
        "\n",
        "- Run on the SOC test alerts, check what cases the LLM rescued.\n",
        "\n",
        "#### **Explanation**\n",
        "\n",
        "- Rules = fast & cheap.\n",
        "\n",
        "- Embeddings = medium cost, semantic coverage.\n",
        "\n",
        "- LLM = expensive, but flexible enough to handle novel cases.\n",
        "\n",
        "**The trick**:\n",
        "\n",
        "> Do not use the LLM first - save xompute/tokens.\n",
        "\n",
        "> Use it only when other methods can't decide.\n",
        "\n",
        "> Try to add a confidence threshold: if the LLM is uncertain, still abstain which is safer for SOC however keep in mind that some LLM would randomly output confidence (for binary classification it would be 0.9 when certain and 0.2 when not sure for models like Gemini or Deepseek)\n",
        "\n",
        "#### **Whats and why's**\n",
        "\n",
        "We use **JSON** which ensures outputs are structured, machine-readable.\n",
        "\n",
        "**Confidence** lets us `threshold decisions` -> “better to abstain than hallucinate.”\n",
        "\n",
        "*Last resort* keeps costs predictable and saves LLM for ambiguous cases.\n",
        "\n",
        "This mirrors a real SOC analyst:\n",
        "\n",
        "> Obvious -> handled by playbook (rules).\n",
        "\n",
        "> Similar-to-known → handled by embeddings.\n",
        "\n",
        "> Weird/novel -> escalated to a human (LLM as a \"super flexible classifier\").\n",
        "\n",
        "#### **Flow**\n",
        "```\n",
        "   (Entry)\n",
        "     │\n",
        "     ▼\n",
        " [ rules_node ]\n",
        "     │\n",
        "     ├── if route ≠ \"abstain\" ──> END\n",
        "     │\n",
        "     └── if route == \"abstain\"\n",
        "                │\n",
        "                ▼\n",
        "         [ embed_node ]\n",
        "                │\n",
        "                ├── if route ≠ \"abstain\" ──> END\n",
        "                │\n",
        "                └── if route == \"abstain\"\n",
        "                           │\n",
        "                           ▼\n",
        "                     [ llm_node ] ──decision──> END\n",
        "```\n",
        "\n"
      ],
      "metadata": {
        "id": "nKVFMi-Icnbh"
      }
    },
    {
      "cell_type": "markdown",
      "source": [
        "#### Create prompt\n",
        "\n",
        "Force strict JSON output via system message and ask the model to claasify in 5 classes returning JSON and use `abstain` if uncertain.\n",
        "\n",
        "Don't forget `{{double curly brackets}}` to avoid onfusing llm"
      ],
      "metadata": {
        "id": "ytS2dJNVl8Ed"
      }
    },
    {
      "cell_type": "code",
      "source": [
        "ROUTER_SYS = \"You are a SOC alert router. Return ONLY valid JSON.\"\n",
        "ROUTER_USER = \"\"\"Classify the alert into one of:\n",
        "[\"phishing\",\"malware\",\"misconfig\",\"blocked\",\"abstain\"].\n",
        "Output JSON: {{\"route\":\"...\", \"confidence\":0.0-1.0, \"rationale\":\"\"}}\n",
        "Be conservative: if unsure, use \"abstain\".\n",
        "Alert:\n",
        "{alert}\"\"\"\n"
      ],
      "metadata": {
        "id": "iObUSclUl7f6"
      },
      "execution_count": 17,
      "outputs": []
    },
    {
      "cell_type": "markdown",
      "source": [
        "#### Router\n",
        "\n",
        "We send an alert to model, (make model determenistic via temperature 0.0), parse result JSON for `route, confidence, rationale` or `abstain`, if `invalid`/`low conf` output - `abstain`\n",
        "\n",
        "\n",
        "**Trick**\n",
        "\n",
        "Also take into the account that not every model is able to follow the strict JSON output, this where mistal small would likely fail, we can use a larger model (Nemotron).\n",
        "\n",
        "Thus we introduce retry logic and a fallback to another model, which is a standard trick to make the system reliable at a cost of more complexity and overcomplicating."
      ],
      "metadata": {
        "id": "AIIyX_e4n3Fb"
      }
    },
    {
      "cell_type": "code",
      "source": [
        "\n",
        "def llm_router(text: str, tau=0.55, max_retries=2):\n",
        "    def try_model(model, text, tau, max_retries):\n",
        "        msgs = [\n",
        "            {\"role\": \"system\", \"content\": ROUTER_SYS},\n",
        "            {\"role\": \"user\", \"content\": ROUTER_USER.format(alert=text)}\n",
        "        ]\n",
        "\n",
        "        for attempt in range(max_retries + 1):\n",
        "            raw = call(model, msgs, temperature=0, max_tokens=200)\n",
        "            try:\n",
        "                obj = json.loads(raw)\n",
        "                route = obj.get(\"route\", \"abstain\")\n",
        "                conf = float(obj.get(\"confidence\", 0.3))\n",
        "                rat = obj.get(\"rationale\", \"\")\n",
        "                # sanity checks\n",
        "                if route not in ROUTES:\n",
        "                    route = \"abstain\"\n",
        "                if conf < tau and route != \"blocked\":\n",
        "                    route = \"abstain\"\n",
        "                return {\"route\": route, \"confidence\": conf, \"reason\": rat}\n",
        "            except Exception as e:\n",
        "                # append correction and retry\n",
        "                msgs.append({\n",
        "                    \"role\": \"user\",\n",
        "                    \"content\": f\"You returned invalid JSON: {raw}. \"\n",
        "                               f\"Error: {e}. Return ONLY valid JSON with keys \"\n",
        "                               f\"['route','confidence','rationale'].\"\n",
        "                })\n",
        "\n",
        "        return None  # failed all retries\n",
        "\n",
        "    # First try primary model\n",
        "    result = try_model(MODEL_ROUTER, text, tau, max_retries)\n",
        "    if result is not None:\n",
        "        return result\n",
        "\n",
        "    # If failed, fallback to secondary model\n",
        "    result = try_model(MODEL_ROUTER_2, text, tau, max_retries)\n",
        "    if result is not None:\n",
        "        result[\"reason\"] += \" (from fallback model)\"\n",
        "        return result\n",
        "\n",
        "    # Both failed → abstain\n",
        "    return {\"route\": \"abstain\", \"confidence\": 0.3, \"reason\": \"invalid_json_both_models\"}"
      ],
      "metadata": {
        "id": "DbRZNZiYn3uP"
      },
      "execution_count": 18,
      "outputs": []
    },
    {
      "cell_type": "markdown",
      "source": [
        "#### Node wrapper\n",
        "If decision exists and it's not abstain - skip llm else call it thus llm is a last resort."
      ],
      "metadata": {
        "id": "o7_weyP7njEI"
      }
    },
    {
      "cell_type": "code",
      "source": [
        "def llm_node(state: RouteState):\n",
        "    d = state[\"decision\"]\n",
        "    if d and d[\"route\"] != \"abstain\":\n",
        "        return {\"decision\": d}\n",
        "    return {\"decision\": llm_router(state[\"text\"])}"
      ],
      "metadata": {
        "id": "LU_hFv-2nhYf"
      },
      "execution_count": 19,
      "outputs": []
    },
    {
      "cell_type": "markdown",
      "source": [
        "#### Action check after running rules route, embed route\n",
        "\n",
        "\n",
        "```\n",
        "rules ──if abstain──> embed ──if abstain──> llm ──> END\n",
        "   │                      │\n",
        "   └─if classified────> END └─if classified────> END\n",
        "\n",
        "```\n",
        "\n",
        "If `rules` don't work use `embeddings`, if that fails - `llm`."
      ],
      "metadata": {
        "id": "u7I2dpPEoSHk"
      }
    },
    {
      "cell_type": "code",
      "source": [
        "def next_after_rules(s):\n",
        "  return \"embed\" if s[\"decision\"][\"route\"]==\"abstain\" else END\n",
        "\n",
        "def next_after_embed(s):\n",
        "  return \"llm\" if s[\"decision\"][\"route\"]==\"abstain\" else END"
      ],
      "metadata": {
        "id": "suc8VWYXmKeI"
      },
      "execution_count": 20,
      "outputs": []
    },
    {
      "cell_type": "markdown",
      "source": [
        "#### Try it!\n",
        "\n",
        "We expect `unknown` as the last answer"
      ],
      "metadata": {
        "id": "mfeUBJyQscMz"
      }
    },
    {
      "cell_type": "code",
      "source": [
        "g3 = StateGraph(RouteState)\n",
        "for name, node in [(\"rules\", rules_node), (\"embed\", embed_node), (\"llm\", llm_node)]:\n",
        "    g3.add_node(name, node)\n",
        "g3.set_entry_point(\"rules\")\n",
        "\n",
        "# after 'rules' node if the func returns \"embed\" call node 'embed' - embed_node if 'end' - end it\n",
        "g3.add_conditional_edges(\"rules\", next_after_rules, {\"embed\":\"embed\", END: END})\n",
        "# after embeds node if the func returns \"llm\" call node 'llm' - llm_node if 'end' - end it\n",
        "g3.add_conditional_edges(\"embed\", next_after_embed, {\"llm\":\"llm\", END: END})\n",
        "g3.add_edge(\"llm\", END)  # no further branching\n",
        "app3 = g3.compile()"
      ],
      "metadata": {
        "id": "Um1j_QMgtMWB"
      },
      "execution_count": 21,
      "outputs": []
    },
    {
      "cell_type": "code",
      "source": [
        "preds = []\n",
        "for label, text in TEST_ALERTS:\n",
        "    out = app3.invoke({\"text\": text, \"decision\": None})  # only the last resort route is actually an llm\n",
        "    preds.append((label, out[\"decision\"]))\n",
        "preds\n"
      ],
      "metadata": {
        "colab": {
          "base_uri": "https://localhost:8080/"
        },
        "id": "VeQH0QtXl3P6",
        "outputId": "bf4917cf-a06a-4f2a-cb44-b58432e7993d"
      },
      "execution_count": 22,
      "outputs": [
        {
          "output_type": "execute_result",
          "data": {
            "text/plain": [
              "[('phishing',\n",
              "  {'route': 'phishing', 'confidence': 0.8, 'reason': 'email_auth_signals'}),\n",
              " ('malware', {'route': 'malware', 'confidence': 0.8, 'reason': 'edr_iocs'}),\n",
              " ('misconfig',\n",
              "  {'route': 'misconfig', 'confidence': 0.75, 'reason': 'cloud_misconfig'}),\n",
              " ('blocked',\n",
              "  {'route': 'blocked', 'confidence': 0.99, 'reason': 'pii_detected:card'}),\n",
              " ('unknown',\n",
              "  {'route': 'abstain',\n",
              "   'confidence': 0.2,\n",
              "   'reason': \"The alert mentions 'insufficient details to classify' and lateral movement could indicate various threats, but lacks specifics to confidently assign to phishing, malware, misconfig, or blocked categories. (from fallback model)\"})]"
            ]
          },
          "metadata": {},
          "execution_count": 22
        }
      ]
    },
    {
      "cell_type": "markdown",
      "source": [
        "### **Lab 4: Experts + Unified Envelope output**\n",
        "\n",
        "When the router has chosen a route, we don't just stop at \"phishing\" or \"malware\" — we actually want to hand off to an **expert agent** that produces structured output. To keep the system consistent and downstream-friendly, we enforce a **unified schema** (*envelope*) for all branches.\n",
        "\n",
        "**Skills**\n",
        "- Add specialist agents (per route).\n",
        "- Standardize outputs using Pydantic Envelope.\n",
        "- Make routing results branch-agnostic (same fields, regardless of path).\n",
        "\n",
        "**Goal**\n",
        "\n",
        "- Implement phishing, malware, and misconfig “experts” (simple role + task prompts).\n",
        "- Add a dispatch node that routes to the correct expert, or handles blocked/abstain.\n",
        "- Validate outputs against the Envelope schema."
      ],
      "metadata": {
        "id": "VS77rwR9d2QT"
      }
    },
    {
      "cell_type": "markdown",
      "source": [
        "\n",
        "#### **Task**\n",
        "- Define an Envelope with Pydantic.\n",
        "\n",
        "- Implement expert handlers for each route.\n",
        "\n",
        "- Add a dispatch_node that calls the right expert based on the decision.\n",
        "- Update the graph to `rules → (abstain?) → embed → (abstain?) → llm → dispatch → END`\n"
      ],
      "metadata": {
        "id": "7LWsIFSAee0q"
      }
    },
    {
      "cell_type": "markdown",
      "source": [
        "#### **Explanation**\n",
        "\n",
        "Up to now, the router only **classified** alerts. But classification alone isn't very useful for SOC work. We need to act! (Well, sort of)\n",
        "\n",
        "\n",
        "In this lab, we add **experts**: each route has its own specialized agent (phishing analyst, malware IR analyst, cloud misconfig analyst).\n",
        "\n",
        "\n",
        "All of them return **results** wrapped in a **unified envelope**.\n",
        "\n",
        "This means downstream systems (dashboards, automation, SOC playbooks, whatever) don't care which path was taken - they always get the same structure:\n",
        "```\n",
        "{\n",
        "  \"route\": \"phishing\",\n",
        "  \"answer\": \"...\",\n",
        "  \"confidence\": 0.8,\n",
        "  \"extras\": {...}\n",
        "}\n",
        "```"
      ],
      "metadata": {
        "id": "tPJKpm37fL2T"
      }
    },
    {
      "cell_type": "markdown",
      "source": [
        "#### **Whats and why's**\n",
        "\n",
        "What we're doing:\n",
        "\n",
        "- We create **handlers** for each expert route.\n",
        "\n",
        "- **Experts are** just prompted **LLMs with role**-specific instructions.\n",
        "\n",
        "- We add a `dispatch_node` to the graph so that after a decision, we **route the alert to the correct handler**.\n",
        "\n",
        "- Even blocked and abstain routes go through dispatch, producing a **valid envelope** with metadata.\n",
        "\n",
        "\n",
        "**Why this matters:**\n",
        "\n",
        "\n",
        "- Without experts, the router just says *\"this is phishing\"* — not very actionable (Still good though).\n",
        "\n",
        "- With **experts**, it **produces a useful brief** (summary + mitigations), which a SOC analyst can directly use.\n",
        "\n",
        "- Using the **same schema** for all outputs means **downstream code is simpler and safer** (no if-else).\n",
        "- This pattern scales: more experts can be added (e.g., ransomware, insider threat) without breaking consumers."
      ],
      "metadata": {
        "id": "_ydwmomYfsS8"
      }
    },
    {
      "cell_type": "markdown",
      "source": [
        "#### **Flow**\n",
        "\n",
        "```\n",
        "   (Entry)\n",
        "     │\n",
        "     ▼\n",
        " [ rules_node ]\n",
        "     │\n",
        "     ├── route ≠ abstain ──> [ dispatch_node ] ──> END\n",
        "     │\n",
        "     └── route == abstain\n",
        "                │\n",
        "                ▼\n",
        "         [ embed_node ]\n",
        "                │\n",
        "                ├── route ≠ abstain ──> [ dispatch_node ] ──> END\n",
        "                │\n",
        "                └── route == abstain\n",
        "                           │\n",
        "                           ▼\n",
        "                     [ llm_node ]\n",
        "                           │\n",
        "                           ▼\n",
        "                    [ dispatch_node ] ──> END\n",
        "```"
      ],
      "metadata": {
        "id": "hSsIbSRre_DJ"
      }
    },
    {
      "cell_type": "markdown",
      "source": [
        "#### Imports"
      ],
      "metadata": {
        "id": "1PW2Odw6ZOfX"
      }
    },
    {
      "cell_type": "code",
      "source": [
        "from pydantic import BaseModel, Field\n",
        "from typing import Optional"
      ],
      "metadata": {
        "id": "7FnKvituZYVr"
      },
      "execution_count": 23,
      "outputs": []
    },
    {
      "cell_type": "markdown",
      "source": [
        "#### Define a unified schema\n",
        "\n",
        "For ease of use if reran without g1"
      ],
      "metadata": {
        "id": "oI3gv7Sfaq6I"
      }
    },
    {
      "cell_type": "code",
      "source": [
        "class Envelope(BaseModel):\n",
        "    route: str\n",
        "    answer: str\n",
        "    data: dict = Field(default_factory=dict)\n",
        "    citations: list[str] = Field(default_factory=list)\n",
        "    confidence: float = 0.0\n",
        "    extras: dict = Field(default_factory=dict)\n",
        "    error: Optional[str] = None\n",
        "    schema_version: str = \"1.0\""
      ],
      "metadata": {
        "id": "l1tDZn46ax_r"
      },
      "execution_count": 24,
      "outputs": []
    },
    {
      "cell_type": "markdown",
      "source": [
        "#### Exper prompts\n",
        "\n",
        "- **system message** sets the role of the assistant (phishing analyst, malware analyst, cloud analyst).\n",
        "- **user message** defines the task (summarize, give mitigations/remediations)."
      ],
      "metadata": {
        "id": "LA6_3D0Ubhx_"
      }
    },
    {
      "cell_type": "code",
      "source": [
        "PHISH_SYS = \"You are a phishing analyst. Be concise and actionable.\"\n",
        "PHISH_USER = \"\"\"Summarize suspected phishing activity and propose 3 mitigations.\n",
        "Do not invent IOCs.\n",
        "Alert:\n",
        "{alert}\"\"\"\n",
        "\n",
        "MAL_SYS = \"You are a malware incident response analyst. Be specific.\"\n",
        "MAL_USER = \"\"\"Summarize likely malware activity and propose 3 concrete response actions.\n",
        "Do not invent IOCs.\n",
        "Alert:\n",
        "{alert}\"\"\"\n",
        "\n",
        "MISCONF_SYS = \"You are a cloud security analyst. Be concise.\"\n",
        "MISCONF_USER = \"\"\"Explain the misconfiguration, risk, and 3 remediation steps.\n",
        "Alert:\n",
        "{alert}\"\"\""
      ],
      "metadata": {
        "id": "6I7uBnZRbi6_"
      },
      "execution_count": 25,
      "outputs": []
    },
    {
      "cell_type": "markdown",
      "source": [
        "#### Expert handlers\n",
        "\n",
        "Each handler calls an **expert model** with the relevant prompt.\n",
        "\n",
        "\n",
        "**Returns an Envelope with:**\n",
        "\n",
        "- route fixed (e.g., \"phishing\"),\n",
        "- answer = model's output,\n",
        "- confidence = a set value (0.8 here).\n",
        "\n",
        "\n",
        "**Handlers include:**\n",
        "\n",
        "- handle_phishing\n",
        "- handle_malware\n",
        "- handle_misconfig\n",
        "- handle_blocked → no LLM, just marks “blocked by policy.”\n",
        "- handle_abstain → signals escalation to a human analyst."
      ],
      "metadata": {
        "id": "yv_w7uwjb9-c"
      }
    },
    {
      "cell_type": "code",
      "source": [
        "def handle_phishing(text):\n",
        "    ans = call(MODEL_EXPERT, [\n",
        "        {\"role\":\"system\",\"content\":PHISH_SYS},\n",
        "        {\"role\":\"user\",\"content\":PHISH_USER.format(alert=text)}\n",
        "    ], max_tokens=260)\n",
        "    return Envelope(route=\"phishing\", answer=ans, confidence=0.8).model_dump()\n",
        "\n",
        "\n",
        "def handle_malware(text):\n",
        "    ans = call(MODEL_EXPERT, [\n",
        "        {\"role\":\"system\",\"content\":MAL_SYS},\n",
        "        {\"role\":\"user\",\"content\":MAL_USER.format(alert=text)}\n",
        "    ], max_tokens=260)\n",
        "    return Envelope(route=\"malware\", answer=ans, confidence=0.8).model_dump()\n",
        "\n",
        "\n",
        "def handle_misconfig(text):\n",
        "    ans = call(MODEL_EXPERT, [\n",
        "        {\"role\":\"system\",\"content\":MISCONF_SYS},\n",
        "        {\"role\":\"user\",\"content\":MISCONF_USER.format(alert=text)}\n",
        "    ], max_tokens=260)\n",
        "    return Envelope(route=\"misconfig\", answer=ans, confidence=0.8).model_dump()\n",
        "\n",
        "\n",
        "def handle_blocked(reason):\n",
        "    return Envelope(route=\"blocked\", answer=\"Blocked by policy.\", confidence=0.99,\n",
        "                    extras={\"reason\":reason}).model_dump()\n",
        "\n",
        "\n",
        "def handle_abstain(reason):\n",
        "    return Envelope(route=\"abstain\", answer=\"Escalated to human analyst.\", confidence=0.4,\n",
        "                    extras={\"reason\":reason,\"handoff\":\"human_security_analyst\"}).model_dump()\n"
      ],
      "metadata": {
        "id": "_RByk2JAcHAH"
      },
      "execution_count": 26,
      "outputs": []
    },
    {
      "cell_type": "markdown",
      "source": [
        "#### Dispatch node\n",
        "\n",
        "By this stage, the router (rules/embeddings/LLM) has already chosen a decision.\n",
        "\n",
        "- `dispatch_node` **calls** the corresponding **expert handler**.\n",
        "- **Produces an envelope** ready for downstream use.\n",
        "- This is where **classification turns into action**. Yes, simple **if**s."
      ],
      "metadata": {
        "id": "-06OuRaNcGwV"
      }
    },
    {
      "cell_type": "code",
      "source": [
        "def dispatch_node(state):\n",
        "    d = state[\"decision\"]\n",
        "    text = state[\"text\"]\n",
        "\n",
        "    if d[\"route\"] == \"phishing\":  env = handle_phishing(text)\n",
        "    elif d[\"route\"] == \"malware\": env = handle_malware(text)\n",
        "    elif d[\"route\"] == \"misconfig\": env = handle_misconfig(text)\n",
        "    elif d[\"route\"] == \"blocked\": env = handle_blocked(d[\"reason\"])\n",
        "    else: env = handle_abstain(d[\"reason\"])\n",
        "\n",
        "    return {\"envelope\": env}"
      ],
      "metadata": {
        "id": "2yM_uyOwc9Ft"
      },
      "execution_count": 27,
      "outputs": []
    },
    {
      "cell_type": "markdown",
      "source": [
        "#### FullState\n",
        "\n",
        "Every graph needs a state type: a dict (or TypedDict) that describes what pieces of information will be passed from node to node. Brielfy - it's a container with info that travels through graph.\n",
        "\n",
        "\n",
        "State now includes:\n",
        "- the input text\n",
        "- the routing decision\n",
        "- the final envelope."
      ],
      "metadata": {
        "id": "2fJKNee4dMX8"
      }
    },
    {
      "cell_type": "code",
      "source": [
        "class FullState(TypedDict):\n",
        "    text: str\n",
        "    decision: Optional[dict]\n",
        "    envelope: Optional[dict]"
      ],
      "metadata": {
        "id": "Q9ZJzdLdd5-C"
      },
      "execution_count": 28,
      "outputs": []
    },
    {
      "cell_type": "markdown",
      "source": [
        "#### Graph setup\n",
        "\n",
        "\n",
        "As before - it defines the workflow graph.\n",
        "\n",
        "- Nodes: rules, embed, llm, dispatch.\n",
        "- Entry point: always start with rules."
      ],
      "metadata": {
        "id": "1XicullUeC29"
      }
    },
    {
      "cell_type": "code",
      "source": [
        "g4 = StateGraph(FullState)\n",
        "\n",
        "for name, node in [\n",
        "    (\"rules\", rules_node),\n",
        "    (\"embed\", embed_node),\n",
        "    (\"llm\", llm_node),\n",
        "    (\"dispatch\", dispatch_node)\n",
        "]:\n",
        "    g4.add_node(name, node)\n",
        "\n",
        "g4.set_entry_point(\"rules\")\n"
      ],
      "metadata": {
        "colab": {
          "base_uri": "https://localhost:8080/"
        },
        "id": "0tUDh12feIJB",
        "outputId": "be08fd3e-bd70-4487-b95f-d5b6fdbeb561"
      },
      "execution_count": 29,
      "outputs": [
        {
          "output_type": "execute_result",
          "data": {
            "text/plain": [
              "<langgraph.graph.state.StateGraph at 0x7fa509d82c90>"
            ]
          },
          "metadata": {},
          "execution_count": 29
        }
      ]
    },
    {
      "cell_type": "markdown",
      "source": [
        "#### Conditional Edges\n",
        "\n",
        "**After rules:**\n",
        "- If it classified → go to dispatch.\n",
        "- If abstained → go to embed.\n",
        "\n",
        "**After embed:**\n",
        "- If it classified → go to dispatch.\n",
        "- If abstained → go to llm.\n",
        "\n",
        "**After llm**: → always go to dispatch.\n",
        "\n",
        "**After dispatch**: → stop (END).\n",
        "\n",
        "\n",
        "Flow is: `rules → embed (if abstain) → llm (if abstain) → dispatch → END`\n"
      ],
      "metadata": {
        "id": "mOJC3xY-eQfV"
      }
    },
    {
      "cell_type": "code",
      "source": [
        "def next_rules(s):\n",
        "  return \"embed\" if s[\"decision\"][\"route\"]==\"abstain\" else \"dispatch\"\n",
        "def next_embed(s):\n",
        "  return \"llm\" if s[\"decision\"][\"route\"]==\"abstain\" else \"dispatch\""
      ],
      "metadata": {
        "id": "601ClLX2ejpc"
      },
      "execution_count": 30,
      "outputs": []
    },
    {
      "cell_type": "code",
      "source": [
        "g4.add_conditional_edges(\"rules\", next_rules, {\"embed\":\"embed\", \"dispatch\":\"dispatch\"})\n",
        "g4.add_conditional_edges(\"embed\", next_embed, {\"llm\":\"llm\", \"dispatch\":\"dispatch\"})\n",
        "g4.add_edge(\"llm\", \"dispatch\")\n",
        "g4.add_edge(\"dispatch\", END)"
      ],
      "metadata": {
        "colab": {
          "base_uri": "https://localhost:8080/"
        },
        "id": "ohXgCUhjeTVZ",
        "outputId": "b78fc722-5e85-477d-fb36-44477582c609"
      },
      "execution_count": 31,
      "outputs": [
        {
          "output_type": "execute_result",
          "data": {
            "text/plain": [
              "<langgraph.graph.state.StateGraph at 0x7fa509d82c90>"
            ]
          },
          "metadata": {},
          "execution_count": 31
        }
      ]
    },
    {
      "cell_type": "markdown",
      "source": [
        "#### Try it!\n",
        "Whats the flow?\n",
        "- `app4.invoke` runs the workflow for each test alert.\n",
        "- Starts at rules, flows through embed/llm if needed, then dispatch.\n",
        "- dispatch calls the right expert, produces an Envelope.\n",
        "- `Envelope(**...)` checks the result matches the schema."
      ],
      "metadata": {
        "id": "NaR3wve-eyEx"
      }
    },
    {
      "cell_type": "code",
      "source": [
        "app4 = g4.compile()\n",
        "\n",
        "for label, text in TEST_ALERTS:\n",
        "    out = app4.invoke({\"text\": text, \"decision\": None, \"envelope\": None})\n",
        "    env = Envelope(**out[\"envelope\"])  # validated via Pydantic\n",
        "    print(label, \"→\", env.route, \"|\", env.answer[:80], \"...\")\n"
      ],
      "metadata": {
        "colab": {
          "base_uri": "https://localhost:8080/"
        },
        "id": "W61lf0RhfFx1",
        "outputId": "a5f6a342-be8b-4003-ea29-e8e25c799794"
      },
      "execution_count": 32,
      "outputs": [
        {
          "output_type": "stream",
          "name": "stdout",
          "text": [
            "phishing → phishing | **Suspected Phishing Activity Summary:**\n",
            "- User received an email urging immedia ...\n",
            "malware → malware | ### Likely Malware Activity:\n",
            "1. **Initial Access and Execution**:\n",
            "   - The alert ...\n",
            "misconfig → misconfig | **Misconfiguration:**\n",
            "The S3 bucket `s3://acme-data` has its access control list ...\n",
            "blocked → blocked | Blocked by policy. ...\n",
            "unknown → abstain | Escalated to human analyst. ...\n"
          ]
        }
      ]
    },
    {
      "cell_type": "markdown",
      "source": [
        "#### TL:DR\n",
        "\n",
        "\n",
        "In this Lab we **connect routing and specialist experts**. Experts produce structured summaries + recommended actions, constrained by their prompts.\n",
        "\n",
        "**Routing decides** who should handle the alert. `dispatch_node` **sends the alert to the correct expert**. Thus we move from just classification to actionable expert output.\n",
        "\n",
        "The result is wrapped in a **consistent Envelope schema.** Even blocked or abstain produce valid envelopes, with metadata. This has everything standardized with Pydantic validation and keeps the system **modular and scalable**: router can grow (new routes), experts can grow (new handlers)."
      ],
      "metadata": {
        "id": "nnWfBlSWfV1o"
      }
    },
    {
      "cell_type": "markdown",
      "source": [
        "### **Lab 5 Safety, Post-Checks, and Human Handoff**\n",
        "\n",
        "\n",
        "In this part we'll add guardrails so the system can:\n",
        "\n",
        "- **Block** unsafe inputs early (policy gate).\n",
        "\n",
        "- **Detect** unsafe/unsupported outputs after experts write (post-checks).\n",
        "\n",
        "- **Abstain** + **escalate** to a human analyst with a clear handoff package when needed.\n",
        "\n",
        "This turns router from 'smart' into **trustworthy** which is really important in SOC."
      ],
      "metadata": {
        "id": "jnq8pmAiVRVF"
      }
    },
    {
      "cell_type": "markdown",
      "source": [
        "#### **Why this matters**\n",
        "\n",
        "**Previous** routing Labs **pick the right expert** and returns a consistent Envelope.\n",
        "\n",
        "**Now**: we must **ensure safe** behavior:\n",
        "\n",
        "- **Pre-route**: prevent processing disallowed content.\n",
        "\n",
        "- **Post-route**: prevent hallucinated IOCs, risky commands, or format violations.\n",
        "\n",
        "- **Handoff**: send to human when uncertain or unsafe, don't guess—escalate with context.\n",
        "\n"
      ],
      "metadata": {
        "id": "K2Mgqa6wVS4u"
      }
    },
    {
      "cell_type": "markdown",
      "source": [
        "#### **Skills**\n",
        "\n",
        "- Pre-route policy gating (blocklists, regex, light classifiers).\n",
        "\n",
        "- Post-generation validation (detectors/linters vs the expert’s output).\n",
        "\n",
        "- Abstain & escalate patterns (with metadata).\n",
        "\n",
        "- Safety metadata contracts to standardize incident tickets."
      ],
      "metadata": {
        "id": "4ILtDFADWk5C"
      }
    },
    {
      "cell_type": "markdown",
      "source": [
        "#### **Goal**\n",
        "\n",
        "- Add a **Safety Node** after `dispatch` that can **accept, repair, or escalate** the expert output.\n",
        "\n",
        "- Add **metadata** so meatbags receive a clean ticket: what failed, why, what to do next.\n",
        "\n",
        "- Keep everything **schema-aligned** (Envelope).\n",
        "\n"
      ],
      "metadata": {
        "id": "RliuM_wQWlGB"
      }
    },
    {
      "cell_type": "markdown",
      "source": [
        "#### **System design**\n",
        "**Pre-route policy gate** (fast, cheap)\n",
        "\n",
        "  **Purpose:** stop processing obviously disallowed stuff before we spend tokens.\n",
        "  \n",
        "  **Rationale:** saves cost, lowers liability, creates an audit trail.\n",
        "\n",
        "  **Examples** (we do cybersec here):\n",
        "\n",
        "  - **IOCs**: crude regex for IPv4, hashes, defanged domains (to make sure we only process valid indicators and avoid hallucinations).Regex is broad and may catch false positives\n",
        "  - **Malware sharing**: base64 payloads over size threshold, raw shellcode, or explicit `build/ransomware` instructions.\n",
        "  - **Compliance triggers**: legal requests, export controls, or tenant boundary violations.\n",
        "\n",
        "*Outputs*\n",
        "\n",
        "```json\n",
        "{\n",
        "  \"route\": \"blocked\",\n",
        "  \"confidence\": 0.99,\n",
        "  \"reason\": \"ioc_policy_violation\",\n",
        "  \"policy_category\": \"ioc\",\n",
        "  \"recommended_action\": \"escalate\"\n",
        "}\n",
        "```\n",
        "\n",
        "\n",
        "**Post-route safety checks** (after experts)\n",
        "\n",
        "**Purpose**: reject/abstain when the expert output is unsafe, unsupported, or unverifiable.\n",
        "\n",
        "*Common SOC checks:*\n",
        "\n",
        "- **No-new-IOCs**: Extract IOCs from input alert; ensure expert didn't invent new IPs/domains/hashes.\n",
        "\n",
        "- **Command linter**: Disallow dangerous ops in the wrong context (like `Invoke-WebRequest` in a phishing summary `rm -rf` anywhere or data-destructive SQL).\n",
        "\n",
        "- **Claim-vs-source consistency**: For RAG/DB-backed flows, require citations for each claim to make sure we avoid hallucniations or retirever / generator failures, otherwise mark as unsupported.\n",
        "\n",
        "- **Format/schema check**: Envelope must pass Pydantic, required sections must exist following the structire, length constraints respected.\n",
        "\n",
        "- **Language/style**: No sensitive info in output, no company/.env secrets sent.\n",
        "\n",
        "**Outcomes:**\n",
        "\n",
        "- **Pass**: return Envelope unchanged.\n",
        "- **Auto-repair** (optional): ask a tiny revision prompt (\"remove unsupported IOCs, keep content\") - be carefull since it might start rewriting or hallucinating.\n",
        "- **Escalate** (mostly for SOC): set `route=\"abstain\"`, keep answer minimal, include `extras` with failure details.\n",
        "\n",
        "\n",
        "**Abstain & Human Handoff**\n",
        "\n",
        "When failing post-checks or low confidence:\n",
        "\n",
        "- **Do not** return a risky answer.\n",
        "\n",
        "- Return an **abstain Envelope** equipped for an analyst to pick up.\n",
        "\n",
        "**Handoff package fields** (in extras):\n",
        "\n",
        "- `handoff: \"human_security_analyst\"`\n",
        "\n",
        "- `reason`: short (like `\"new_iocs_detected\"`, `\"low_confidence\"`)\n",
        "\n",
        "- `policy_category`: if relevant (`\"ioc\"`, `\"malware_disallowed_content\"`)\n",
        "\n",
        "- `recommended_action`: `\"escalate\" | \"revise\" | \"drop\"`\n",
        "\n",
        "- `context`: minimal necessary inputs (original alert snippet, expert draft, failed checks)\n",
        "\n",
        "- `check_results`: like list of new IOCs, forbidden commands found\n",
        "\n",
        "- `stage`: `\"postcheck\"`\n",
        "\n",
        "- Possibly optional extras: `severity_guess`, `service_owner`, `playbook_hint`"
      ],
      "metadata": {
        "id": "RsrbPtfMbA-l"
      }
    },
    {
      "cell_type": "markdown",
      "source": [
        "### **What to return (Contracts)**\n",
        "\n",
        "Everything still returns a valid **Envelope**:\n",
        "\n",
        "**Pass** → `route` remains (`phishing|malware|misconfig`)\n",
        "\n",
        "**Blocked** → `route=\"blocked\"`, `extras.reason`, `policy_category`\n",
        "\n",
        "**Abstain** → `route=\"abstain\"`, `extras.handoff=\"human_security_analyst\"`, `extras.reason`, `recommended_action`\n",
        "\n",
        "The **schema never changes**, only values change."
      ],
      "metadata": {
        "id": "vn8M8M2Hn2P0"
      }
    },
    {
      "cell_type": "markdown",
      "source": [
        "#### **Flow**\n",
        "\n",
        "```\n",
        "   (Entry)\n",
        "     │\n",
        "     ▼\n",
        " [ policy_gate (pre-route) ]\n",
        "     │\n",
        "     ├── if blocked ───────────────> [ dispatch(blocked) ] ──> END\n",
        "     │\n",
        "     └── else\n",
        "           │\n",
        "           ▼\n",
        "       [ rules_node ]\n",
        "           │\n",
        "           ├── classified ──> [ dispatch ] ──> [ safety_postchecks ] ─> END\n",
        "           │\n",
        "           └── abstain\n",
        "                  │\n",
        "                  ▼\n",
        "            [ embed_node ]\n",
        "                  │\n",
        "                  ├── classified ──> [ dispatch ] ──> [ safety_postchecks ] ─> END\n",
        "                  │\n",
        "                  └── abstain\n",
        "                         │\n",
        "                         ▼\n",
        "                    [ llm_node ]\n",
        "                         │\n",
        "                         ▼\n",
        "                    [ dispatch ] ──> [ safety_postchecks ] ─> END\n",
        "\n",
        "```"
      ],
      "metadata": {
        "id": "2Gcw9UyEoOtL"
      }
    },
    {
      "cell_type": "markdown",
      "source": [
        "#### **What to check**\n",
        "**No-new-IOCs (hallucination guard)**: If answer_IOCs - source_IOCs is non-empty → **fail & escalate**.\n",
        "\n",
        "**Command safety lint**: Disallow destructive or dangerous commands (route-aware).\n",
        "\n",
        "**Structure/length**: Enforce schema compliance & size limits.\n",
        "\n",
        "**Confidence thresholds**: If router or expert confidence < threshold, abstain + escalate."
      ],
      "metadata": {
        "id": "7o0vE2IloWyc"
      }
    },
    {
      "cell_type": "markdown",
      "source": [
        "### **Lab 5 practice**\n",
        "\n"
      ],
      "metadata": {
        "id": "GnRPBzYjqVH8"
      }
    },
    {
      "cell_type": "markdown",
      "source": [
        "#### **Pre-route Policy Gate**\n",
        "\n",
        "To briefly repeat, it's a cheap policy **filter** that blocks obviously disallowed content **before** we spend tokens on routing/experts.\n",
        "\n",
        "**What it does**\n",
        "\n",
        "- Uses a regex to detect.\n",
        "\n",
        "- If matched, immediately returns a **blocked** Envelope with metadata (`reason, policy_category, recommended_action, stage`).\n",
        "\n",
        "- If not matched, it **passes through** and lets the router run.\n",
        "\n",
        "**Why it matters**\n",
        "\n",
        "Saves **cost/latency**, reduces **risk/liability**, and produces a clear **audit trail** for policy actions.\n",
        "\n",
        "In SOC, **blocking early** prevents accidental processing, storage, or display of sensitive data."
      ],
      "metadata": {
        "id": "IobFcKLeqiF-"
      }
    },
    {
      "cell_type": "markdown",
      "source": [
        "#### **IOC helpers**\n",
        "\n",
        "What: Utilities to normalize/parse IOCs consistently (so post-checks are reliable).\n",
        "Why: Alerts/answers may use defanged forms; normalizing prevents false “new IOC” flags."
      ],
      "metadata": {
        "id": "k9RReDkSyQbj"
      }
    },
    {
      "cell_type": "code",
      "source": [
        "import re\n",
        "\n",
        "# IPv4, hashes (MD5/SHA1/SHA256), and defanged domains like acme[.]com\n",
        "IOC_PAT = re.compile(\n",
        "    r\"\\b(?:\\d{1,3}\\.){3}\\d{1,3}\\b\"          # IPv4 (loose)\n",
        "    r\"|[A-Fa-f0-9]{32,64}\"                  # hashes (32..64 hex)\n",
        "    r\"|[a-zA-Z0-9-]+\\[.\\][a-z]{2,}\\b\"       # defanged domains\n",
        ")\n",
        "\n",
        "DEFANGED_DOT = re.compile(r\"\\[\\.\\]\")\n",
        "def refang(s: str) -> str:\n",
        "    \"\"\"Turn [.] into . for consistent matching/comparison.\"\"\"\n",
        "    return DEFANGED_DOT.sub(\".\", s)\n",
        "\n",
        "def extract_iocs(text: str) -> set[str]:\n",
        "    \"\"\"Find IOCs (after refanging) and return a set.\"\"\"\n",
        "    return set(IOC_PAT.findall(refang(text or \"\")))\n"
      ],
      "metadata": {
        "id": "b4aS6hTwbApc"
      },
      "execution_count": 33,
      "outputs": []
    },
    {
      "cell_type": "markdown",
      "source": [
        "#### **IOC Policy Gate**\n",
        "\n",
        "**What**: A cheap pre-route node that performs quick IOC hygiene checks.\n",
        "\n",
        "**Why**: Prevent wasting tokens on obviously unscoped inputs (like giant base64 dumps) and annotate IOC context early.\n",
        "\n"
      ],
      "metadata": {
        "id": "jf9oKtKjyjwl"
      }
    },
    {
      "cell_type": "code",
      "source": [
        "# Simple bulk/base64 screens to avoid heavy LLM use on bulk IOC dumps or raw blobs\n",
        "BASE64_BLOB = re.compile(r\"(?:[A-Za-z0-9+/]{80,}={0,2})\")\n",
        "MAX_IOCS_BEFORE_ESCALATE = 200\n",
        "\n",
        "def policy_gate_node(state: FullState):\n",
        "    text = state[\"text\"]\n",
        "\n",
        "    # 1) Massive base64 blob → block (manual triage)\n",
        "    if BASE64_BLOB.search(text):\n",
        "        env = Envelope(\n",
        "            route=\"blocked\",\n",
        "            answer=\"Blocked by policy (large base64 blob).\",\n",
        "            confidence=0.99,\n",
        "            extras={\n",
        "                \"reason\": \"ioc_policy_violation:base64_blob\",\n",
        "                \"policy_category\": \"ioc\",\n",
        "                \"recommended_action\": \"escalate\",\n",
        "                \"stage\": \"policy_gate\"\n",
        "            }\n",
        "        ).model_dump()\n",
        "        return {\"decision\": {\"route\":\"blocked\",\"confidence\":0.99,\"reason\":\"base64_blob\"}, \"envelope\": env}\n",
        "\n",
        "    # 2) Massive IOC dump → block (bulk ingestion pipeline, not analyst summary)\n",
        "    iocs = extract_iocs(text)\n",
        "    if len(iocs) > MAX_IOCS_BEFORE_ESCALATE:\n",
        "        env = Envelope(\n",
        "            route=\"blocked\",\n",
        "            answer=f\"Blocked by policy (bulk IOC dump: {len(iocs)} IOCs).\",\n",
        "            confidence=0.99,\n",
        "            extras={\n",
        "                \"reason\": \"ioc_policy_violation:bulk_dump\",\n",
        "                \"policy_category\": \"ioc\",\n",
        "                \"ioc_count\": len(iocs),\n",
        "                \"recommended_action\": \"escalate\",\n",
        "                \"stage\": \"policy_gate\"\n",
        "            }\n",
        "        ).model_dump()\n",
        "        return {\"decision\": {\"route\":\"blocked\",\"confidence\":0.99,\"reason\":\"bulk_ioc_dump\"}, \"envelope\": env}\n",
        "\n",
        "    # 3) Pass through; keep extracted IOCs as context (helps debugging/analytics)\n",
        "    return {\"extras_policy\": {\"source_iocs\": list(iocs), \"stage\": \"policy_gate_pass\"}}\n"
      ],
      "metadata": {
        "id": "mzGXGc-6yhsE"
      },
      "execution_count": 34,
      "outputs": []
    },
    {
      "cell_type": "markdown",
      "source": [
        "#### **Post-route safety checks**\n",
        "After dispatch, we have the expert's text.\n",
        "\n",
        "**What**: Guardrails to **prevent hallucinated IOCs** and **disallowe commands** in answers.\n",
        "**Why**: In SOC, safer to **abstain than to return** an unsupported indicator or risky command."
      ],
      "metadata": {
        "id": "vr7Klg3bGH9Q"
      }
    },
    {
      "cell_type": "code",
      "source": [
        "# Route-aware forbidden commands: for practice we use simple ones\n",
        "FORBIDDEN_CMDS = [\n",
        "    r\"\\brm\\s+-rf\\b\", r\"\\bformat\\s+c:\\b\", r\"\\bwipe\\b\",\n",
        "    r\"\\bInvoke-WebRequest\\b\", r\"\\bcurl\\b\", r\"\\bwget\\b\", r\"\\biwr\\b\", r\"\\bpowershell\\b\"\n",
        "]\n",
        "CMD_PAT = re.compile(\"|\".join(FORBIDDEN_CMDS), re.IGNORECASE)\n",
        "\n",
        "def postcheck_no_new_iocs(alert_text: str, answer_text: str) -> tuple[bool, list[str]]:\n",
        "    src = extract_iocs(alert_text)\n",
        "    out = extract_iocs(answer_text)\n",
        "    new = list(out - src)\n",
        "    return len(new) == 0, new\n",
        "\n",
        "def command_linter(route: str, answer_text: str) -> tuple[bool, list[str]]:\n",
        "    hits = list(set(CMD_PAT.findall(answer_text or \"\")))\n",
        "    if not hits:\n",
        "        return True, []\n",
        "    # fail on any hit\n",
        "    return False, hits\n"
      ],
      "metadata": {
        "id": "S0tAPktgGHUJ"
      },
      "execution_count": 35,
      "outputs": []
    },
    {
      "cell_type": "markdown",
      "source": [
        "#### **Safety node**\n",
        "We already wire dispatch to produce an Envelope.\n",
        "\n",
        "**What**: A node that **accepts or escalates** the envelope **based on safety checks**.\n",
        "\n",
        "**Why**: Ensures we only return **trustworthy answers**, otherwise `abstain + handoff`"
      ],
      "metadata": {
        "id": "D0PR5oJ0GuzS"
      }
    },
    {
      "cell_type": "code",
      "source": [
        "def safety_node(state: FullState):\n",
        "    env = state[\"envelope\"]\n",
        "    # If policy gate already blocked, return envelope\n",
        "    if env and env.get(\"route\") == \"blocked\":\n",
        "        return {\"envelope\": env}\n",
        "\n",
        "    # Only check expert routes\n",
        "    if env and env[\"route\"] in {\"phishing\",\"malware\",\"misconfig\"}:\n",
        "        ok_ioc, new_iocs = postcheck_no_new_iocs(state[\"text\"], env[\"answer\"])\n",
        "        ok_cmd, bad_cmds = command_linter(env[\"route\"], env[\"answer\"])\n",
        "\n",
        "        if not (ok_ioc and ok_cmd):\n",
        "            env[\"route\"] = \"abstain\"\n",
        "            env[\"answer\"] = \"Escalated to human due to safety/post-check failure.\"\n",
        "            env[\"confidence\"] = min(env.get(\"confidence\", 0.6), 0.6)\n",
        "            env[\"extras\"][\"handoff\"] = \"human_security_analyst\"\n",
        "            env[\"extras\"][\"postcheck\"] = \"failed\"\n",
        "            env[\"extras\"][\"check_results\"] = {}\n",
        "            if not ok_ioc: env[\"extras\"][\"check_results\"][\"new_iocs\"] = new_iocs\n",
        "            if not ok_cmd: env[\"extras\"][\"check_results\"][\"forbidden_commands\"] = bad_cmds\n",
        "            env[\"extras\"][\"recommended_action\"] = \"escalate\"\n",
        "            env[\"extras\"][\"stage\"] = \"postcheck\"\n",
        "    return {\"envelope\": env}\n"
      ],
      "metadata": {
        "id": "emLFo3J5HCij"
      },
      "execution_count": 36,
      "outputs": []
    },
    {
      "cell_type": "markdown",
      "source": [
        "#### **Graph v5 wiring**\n",
        "`policy → router → experts → safety → END`\n",
        "\n",
        "Again - *StateGraph*, nodes, entry point, and conditional edges. All has been recapped previously.\n",
        "\n",
        "**What:** insert `policy_gate` **before** `routing` then always run **safety after dispatch**.\n",
        "\n",
        "**Why**: This makes the **lifecycle** explicit, readable and reviewable."
      ],
      "metadata": {
        "id": "3oXM7k7WHJRk"
      }
    },
    {
      "cell_type": "code",
      "source": [
        "def after_policy(state):\n",
        "    # Shortcut: if policy set a blocked envelope, jump to safety\n",
        "    env = state.get(\"envelope\")\n",
        "    if env and env.get(\"route\") == \"blocked\":\n",
        "        return \"safety\"\n",
        "    return \"rules\"\n",
        "\n",
        "\n",
        "def next_rules(s):\n",
        "    return \"embed\" if s[\"decision\"][\"route\"]==\"abstain\" else \"dispatch\"\n",
        "\n",
        "\n",
        "def next_embed(s):\n",
        "    return \"llm\" if s[\"decision\"][\"route\"]==\"abstain\" else \"dispatch\""
      ],
      "metadata": {
        "id": "dtfqo859Htu3"
      },
      "execution_count": 37,
      "outputs": []
    },
    {
      "cell_type": "code",
      "source": [
        "g5 = StateGraph(FullState)\n",
        "\n",
        "g5.add_node(\"policy_gate\", policy_gate_node)\n",
        "g5.add_node(\"rules\", rules_node)\n",
        "g5.add_node(\"embed\", embed_node)\n",
        "g5.add_node(\"llm\", llm_node)\n",
        "g5.add_node(\"dispatch\", dispatch_node)\n",
        "g5.add_node(\"safety\", safety_node)\n",
        "\n",
        "g5.set_entry_point(\"policy_gate\")\n",
        "\n",
        "g5.add_conditional_edges(\"policy_gate\", after_policy, {\"safety\":\"safety\", \"rules\":\"rules\"})\n",
        "g5.add_conditional_edges(\"rules\", next_rules, {\"embed\":\"embed\", \"dispatch\":\"dispatch\"})\n",
        "g5.add_conditional_edges(\"embed\", next_embed, {\"llm\":\"llm\", \"dispatch\":\"dispatch\"})\n",
        "\n",
        "g5.add_edge(\"llm\", \"dispatch\")\n",
        "g5.add_edge(\"dispatch\", \"safety\")\n",
        "g5.add_edge(\"safety\", END)\n",
        "\n",
        "app5 = g5.compile()\n"
      ],
      "metadata": {
        "id": "xFj6zskCHJ6Z"
      },
      "execution_count": 38,
      "outputs": []
    },
    {
      "cell_type": "markdown",
      "source": [
        "#### **Try it!**\n",
        "\n",
        "**What**: Three sanity runs: normal path, hallucination trap, and bulk/ blob block.\n",
        "\n",
        "**Why**: IOC-centric safety works end-to-end.\n",
        "\n",
        "#### **Expected Results***\n",
        "\n",
        "- Base TEST_ALERTS:\n",
        "  - phishing → phishing (normal pass)\n",
        "  - malware → may abstain (forbidden commands)\n",
        "  - misconfig → misconfig (normal pass)\n",
        "  - blocked → blocked (policy gate hit)\n",
        "  - unknown → abstain (uncertain, escalated)\n",
        "\n",
        "- Hallucination test: → abstain (safety caught invented IOC/command).\n",
        "\n",
        "- Bulk IOC dump: → blocked (too many IOCs).\n",
        "\n",
        "Base64 blob: → blocked (suspicious blob).\n",
        "\n",
        "Normal alerts pass, unsafe/ambiguous ones escalate, invalid inputs are blocked."
      ],
      "metadata": {
        "id": "J1Km9W_6IABz"
      }
    },
    {
      "cell_type": "code",
      "source": [
        "# (A) Base TEST_ALERTS\n",
        "print(\"=== TEST_ALERTS with IOC safety ===\")\n",
        "for label, text in TEST_ALERTS:\n",
        "    out = app5.invoke({\"text\": text, \"decision\": None, \"envelope\": None})\n",
        "    env = Envelope(**out[\"envelope\"])\n",
        "    print(f\"{label:9s} → {env.route:8s} | conf={env.confidence:.2f} | extras={env.extras}\")\n",
        "\n",
        "# (B) Hallucination test: alert with *no* IOCs\n",
        "hallucination_alert = \"EDR notes suspicious script download attempt; no indicators provided.\"\n",
        "out = app5.invoke({\"text\": hallucination_alert, \"decision\": None, \"envelope\": None})\n",
        "env = Envelope(**out[\"envelope\"])\n",
        "print(\"\\n=== Hallucination test ===\")\n",
        "print(\"route:\", env.route, \"| extras:\", env.extras)\n",
        "\n",
        "# (C) Bulk/Blob tests (policy gate)\n",
        "bulk_iocs = \" \".join([f\"10.0.0.{i}\" for i in range(0, 250)])  # 250 IPv4 ⇒ blocked\n",
        "out = app5.invoke({\"text\": bulk_iocs, \"decision\": None, \"envelope\": None})\n",
        "env = Envelope(**out[\"envelope\"])\n",
        "print(\"\\n=== Bulk IOC dump test ===\")\n",
        "print(\"route:\", env.route, \"| extras:\", env.extras)\n",
        "\n",
        "blob = \"A\"*400 + \"==\"  # crude 'large base64' looking blob\n",
        "out = app5.invoke({\"text\": blob, \"decision\": None, \"envelope\": None})\n",
        "env = Envelope(**out[\"envelope\"])\n",
        "print(\"\\n=== Base64 blob test ===\")\n",
        "print(\"route:\", env.route, \"| extras:\", env.extras)\n"
      ],
      "metadata": {
        "colab": {
          "base_uri": "https://localhost:8080/"
        },
        "id": "VbjQcOggIH1J",
        "outputId": "c35d2072-ee58-4b37-f402-82a86135002c"
      },
      "execution_count": 39,
      "outputs": [
        {
          "output_type": "stream",
          "name": "stdout",
          "text": [
            "=== TEST_ALERTS with IOC safety ===\n",
            "phishing  → phishing | conf=0.80 | extras={}\n",
            "malware   → abstain  | conf=0.60 | extras={'handoff': 'human_security_analyst', 'postcheck': 'failed', 'check_results': {'forbidden_commands': ['PowerShell']}, 'recommended_action': 'escalate', 'stage': 'postcheck'}\n",
            "misconfig → misconfig | conf=0.80 | extras={}\n",
            "blocked   → blocked  | conf=0.99 | extras={'reason': 'pii_detected:card'}\n",
            "unknown   → abstain  | conf=0.40 | extras={'reason': 'Insufficient details provided to classify the lateral movement event into specific threat categories. (from fallback model)', 'handoff': 'human_security_analyst'}\n",
            "\n",
            "=== Hallucination test ===\n",
            "route: abstain | extras: {'handoff': 'human_security_analyst', 'postcheck': 'failed', 'check_results': {'forbidden_commands': ['PowerShell']}, 'recommended_action': 'escalate', 'stage': 'postcheck'}\n",
            "\n",
            "=== Bulk IOC dump test ===\n",
            "route: blocked | extras: {'reason': 'ioc_policy_violation:bulk_dump', 'policy_category': 'ioc', 'ioc_count': 250, 'recommended_action': 'escalate', 'stage': 'policy_gate'}\n",
            "\n",
            "=== Base64 blob test ===\n",
            "route: blocked | extras: {'reason': 'ioc_policy_violation:base64_blob', 'policy_category': 'ioc', 'recommended_action': 'escalate', 'stage': 'policy_gate'}\n"
          ]
        }
      ]
    },
    {
      "cell_type": "markdown",
      "source": [
        "#### **TL;DR**\n",
        "In this Lab we add **safety guardrails** to make the router trustworthy. A **policy gate blocks** invalid inputs (like bulk IOC dumps or base64 blobs) before wasting tokens. After experts generate answers, **post-checks catch hallucinated** IOCs or unsafe commands.\n",
        "\n",
        "When checks fail, the system flips to **abstain** and **produces* a clear **handoff** package **for a human** analyst**. Everything **still** returns a valid **Envelope**, so downstream code remains simple and safe.\n",
        "\n",
        "This ensures the pipeline is reliable: normal alerts pass, bad inputs are blocked, and unsafe outputs are escalated."
      ],
      "metadata": {
        "id": "rUu4nBnp0lq1"
      }
    }
  ]
}