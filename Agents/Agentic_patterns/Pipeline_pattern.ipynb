{
  "nbformat": 4,
  "nbformat_minor": 0,
  "metadata": {
    "colab": {
      "provenance": [],
      "authorship_tag": "ABX9TyPGyd5Ajny1OmPV52dsSis2",
      "include_colab_link": true
    },
    "kernelspec": {
      "name": "python3",
      "display_name": "Python 3"
    },
    "language_info": {
      "name": "python"
    }
  },
  "cells": [
    {
      "cell_type": "markdown",
      "metadata": {
        "id": "view-in-github",
        "colab_type": "text"
      },
      "source": [
        "<a href=\"https://colab.research.google.com/github/Dimildizio/DS_course/blob/main/Agents/Agentic_patterns/Pipeline_pattern.ipynb\" target=\"_parent\"><img src=\"https://colab.research.google.com/assets/colab-badge.svg\" alt=\"Open In Colab\"/></a>"
      ]
    },
    {
      "cell_type": "markdown",
      "source": [
        "# Prompt Chaining (Pipeline Pattern)\n",
        "\n",
        "**Core AI pattern:**  transforms messy, unreliable one-shot prompts into robust pipelines.\n",
        "\n",
        "Essential for building agents that can reason step by step, integrate tools, and manage context like humans do.\n",
        "\n",
        "Building block for sophisticated workflows single prompts can't handle"
      ],
      "metadata": {
        "id": "2cEOuQIBGETJ"
      }
    },
    {
      "cell_type": "markdown",
      "source": [
        "## Theory"
      ],
      "metadata": {
        "id": "Vcea7dbRGKAR"
      }
    },
    {
      "cell_type": "markdown",
      "source": [
        "### What is it?\n",
        " Method of **breaking a big**, complex task **into smaller, sequential** prompts.\n",
        "\n",
        " Each step produces output that becomes the input for the next.\n",
        "\n",
        " Reduces errors, makes debugging easier, and allows models to handle tasks that would otherwise overwhelm them"
      ],
      "metadata": {
        "id": "WOVfETczGHiN"
      }
    },
    {
      "cell_type": "markdown",
      "source": [
        "### Why It Matters?\n",
        "\n",
        "Using a single, **giant prompt for complex tasks often fails** because:\n",
        "\n",
        "- Models lose track of instructions (instruction neglect).\n",
        "- They drift from context (contextual drift).\n",
        "- Errors in early steps propagate.\n",
        "- Long prompts overload context windows.\n",
        "- Cognitive load -> higher risk of hallucinations.\n",
        "\n",
        "Prompt chaining solves this by **giving the model smaller, focused jobs.** Like dividing code into functions, each prompt has one role, one goal, and (ideally) a structured output (e.g., JSON)."
      ],
      "metadata": {
        "id": "Qb9TVw3zGRZd"
      }
    },
    {
      "cell_type": "markdown",
      "source": [
        "### Key Components\n",
        "\n",
        "- Sequential steps: each prompt does one task.\n",
        "- Structured output: JSON ensures data passes cleanly between steps.\n",
        "- External tools: chains can integrate APIs, databases, or calculators.\n",
        "\n",
        "- Roles per step: e.g., \"Summarizer,\" \"Analyst\", \"Writer.\"\n",
        "\n",
        "Frameworks: LangChain, LangGraph, Crew AI, Google ADK, Pydantic AI make chaining easier"
      ],
      "metadata": {
        "id": "wawQEjTyGUE0"
      }
    },
    {
      "cell_type": "markdown",
      "source": [
        "### Practical Use Cases\n",
        "\n",
        "- Information workflows: summarize -> extract entities -> query DB _. generate report.\n",
        "- Complex queries: break into sub-questions, answer each, then synthesize.\n",
        "- Data extraction: iterative invoice/receipt parsing with validation.\n",
        "- Content generation: brainstorm → outline → draft → revise.\n",
        "- Conversational agents: maintain dialogue state across multiple turns.\n",
        "- Code generation: pseudocode → draft → static check → refine → document.\n",
        "- Multimodal reasoning: combine text, images, and tables in steps"
      ],
      "metadata": {
        "id": "8-8fekztHCJl"
      }
    },
    {
      "cell_type": "markdown",
      "source": [
        "## TL;DR\n",
        "\n",
        "**What**: Foundational pattern for Agentic AI systems. Single prompts overload LLMs -> unreliable outputs.\n",
        "\n",
        "**Why**: Prompt chaining breaks tasks into clear, ordered steps → reliability + control.\n",
        "\n",
        "**Rule of Thumb**: Use when tasks are too complex, require multiple stages, external tools, or multi-step reasoning.\n"
      ],
      "metadata": {
        "id": "rM7TWLkSHbw9"
      }
    },
    {
      "cell_type": "markdown",
      "source": [
        "### Key Takeaways\n",
        "\n",
        "- Break problems into smaller steps (divide-and-conquer).\n",
        "- Each step's output -> next step's input.\n",
        "- Reliability UP, manageability UP.\n",
        "- Use frameworksto formalize pipelines.\n",
        "\n"
      ],
      "metadata": {
        "id": "cfgjdrBBHZgJ"
      }
    },
    {
      "cell_type": "markdown",
      "source": [
        "## Example\n",
        "\n",
        "Let's consider malware analysis in our prompt example."
      ],
      "metadata": {
        "id": "ilj5x8EkIlAB"
      }
    },
    {
      "cell_type": "code",
      "source": [
        "test_notes = \"\"\"\n",
        "2025-09-05 13:17 CET: SOC noted outbound traffic to 185.203.116.44 from srv-web-02.\n",
        "Analyst claims: likely cobalt strike beacon; evidence: jittered 60s callbacks, /beacon path.\n",
        "Artifacts: hash 9f2c...e12 (dll), domain acme-updates[.]com (first seen 2025-09-01).\n",
        "Open questions: initial access vector unknown; user 'svc_iis' has unusual token privileges.\n",
        "\"\"\""
      ],
      "metadata": {
        "id": "Eh-8BFtJTRFJ"
      },
      "execution_count": 31,
      "outputs": []
    },
    {
      "cell_type": "markdown",
      "source": [
        "### Set up"
      ],
      "metadata": {
        "id": "7zoBp6yuK6TN"
      }
    },
    {
      "cell_type": "code",
      "source": [
        "import os\n",
        "import json\n",
        "import time\n",
        "import requests\n",
        "from string import Template\n",
        "\n",
        "\n",
        "from google.colab import userdata"
      ],
      "metadata": {
        "id": "fiuylDluIyKu"
      },
      "execution_count": 30,
      "outputs": []
    },
    {
      "cell_type": "code",
      "source": [
        "OPENROUTER_API_KEY = userdata.get('openrouter')\n",
        "\n",
        "BASE_URL = \"https://openrouter.ai/api/v1/chat/completions\"\n",
        "HEADERS = {\"Authorization\": f\"Bearer {OPENROUTER_API_KEY}\"}\n",
        "MODEL = \"openrouter/sonoma-dusk-alpha\"  # Because why not? We all know it's a cloaked xAI model, Elon\n"
      ],
      "metadata": {
        "id": "9Ges8aCOIqY0"
      },
      "execution_count": 47,
      "outputs": []
    },
    {
      "cell_type": "markdown",
      "source": [
        "### Call and retry funcs"
      ],
      "metadata": {
        "id": "kbvs8rgCLKMH"
      }
    },
    {
      "cell_type": "code",
      "source": [
        "def call(model, messages, **kw):\n",
        "    payload = {\"model\": model, \"messages\": messages, **kw}\n",
        "    r = requests.post(BASE_URL, headers=HEADERS, json=payload, timeout=60)\n",
        "    r.raise_for_status()\n",
        "    return r.json()[\"choices\"][0][\"message\"][\"content\"]"
      ],
      "metadata": {
        "id": "TPSzDNwPJfHZ"
      },
      "execution_count": 5,
      "outputs": []
    },
    {
      "cell_type": "code",
      "source": [
        "def safe_json(s, required_keys, max_retries=2):\n",
        "    err = None\n",
        "    for _ in range(max_retries+1):\n",
        "        try:\n",
        "            data=json.loads(s)\n",
        "            if all(k in data for k in required_keys): return data\n",
        "            err=f\"Missing keys: {set(required_keys)-set(data)}\"\n",
        "        except Exception as e:\n",
        "            err=str(e)\n",
        "    raise ValueError(f\"Invalid JSON after retries: {err}\")\n",
        "\n",
        "\n",
        "def call_json_with_retry(model, sys_prompt, user_prompt, required_keys, max_retries=2):\n",
        "    msgs=[{\"role\":\"system\",\"content\":sys_prompt},{\"role\":\"user\",\"content\":user_prompt}]\n",
        "    content = call(model, msgs)\n",
        "    for i in range(max_retries+1):\n",
        "        try:\n",
        "            data = json.loads(content)\n",
        "            if all(k in data for k in required_keys):\n",
        "                return data\n",
        "            missing = list(set(required_keys)-set(data))\n",
        "            raise ValueError(f\"Missing keys: {missing}\")\n",
        "        except Exception as e:\n",
        "            if i == max_retries:\n",
        "                raise\n",
        "            # Nudge the model with the exact error\n",
        "            msgs += [{\"role\":\"assistant\",\"content\":content},\n",
        "                     {\"role\":\"user\",\"content\":f\"You returned invalid JSON. Error: {e}. \"\n",
        "                                              f\"Return ONLY valid JSON with keys {required_keys}.\"}]\n",
        "            content = call(model, msgs)"
      ],
      "metadata": {
        "id": "wUG9uVHfKQ6M"
      },
      "execution_count": 27,
      "outputs": []
    },
    {
      "cell_type": "markdown",
      "source": [
        "### Single prompt result"
      ],
      "metadata": {
        "id": "OeMbC9z2TF4f"
      }
    },
    {
      "cell_type": "code",
      "source": [
        "\n",
        "SINGLE_SHOT_SYS = \"You are an expert incident responder and technical writer.\"\n",
        "SINGLE_SHOT_USER_T = Template(\"\"\"You are given SOC notes:\n",
        "\n",
        "$notes\n",
        "\n",
        "Do ALL of the following in ONE response:\n",
        "1) Summarize key findings in <=80 words.\n",
        "2) Extract structured JSON with keys: \"entities\", \"events\" (each with \"time\",\"what\"), \"artifacts\", \"claims\" ({\"text\":\"\",\"support\":\"weak|strong\"}). Return ONLY VALID JSON (no prose) in a fenced ```json block.\n",
        "3) Using those facts, write an executive brief with sections: TL;DR, Timeline, Indicators of Compromise, Analysis, Mitigations, Open Questions. <=350 words. Do not invent indicators not in the notes.\n",
        "4) As a reviewer, output JSON: {\"issues\":[{\"type\":\"unsupported|contradiction|format|missing\",\"detail\":\"\"}], \"overall_risk\":\"low|med|high\"} pointing out problems in the draft.\n",
        "5) Produce a FINAL revised brief that fixes ALL issues from step 4 (no new claims).\n",
        "6) Draft an email to leadership (<=120 words) with next steps and owners.\n",
        "\n",
        "Constraints:\n",
        "- Perform steps strictly in order.\n",
        "- Include BOTH JSON outputs AND all prose sections in one message.\n",
        "- Use only information present in the notes.\n",
        "\n",
        "Output format (follow exactly):\n",
        "<<BEGIN>>\n",
        "[Step 1 Summary]\n",
        "[Step 2 JSON as ```json ... ```]\n",
        "[Step 3 Executive Brief]\n",
        "[Step 4 Review JSON]\n",
        "[Step 5 Final Brief]\n",
        "[Step 6 Email]\n",
        "<<END>>\n",
        "\"\"\")"
      ],
      "metadata": {
        "id": "xvCefYcaTHmX"
      },
      "execution_count": 32,
      "outputs": []
    },
    {
      "cell_type": "code",
      "source": [
        "def run_single_shot(model, notes):\n",
        "    msgs = [\n",
        "        {\"role\":\"system\",\"content\":SINGLE_SHOT_SYS},\n",
        "        {\"role\":\"user\",\"content\":SINGLE_SHOT_USER_T.substitute(notes=notes)}\n",
        "    ]\n",
        "    return call(model, msgs)"
      ],
      "metadata": {
        "id": "JZ8KVQb6TM4p"
      },
      "execution_count": 33,
      "outputs": []
    },
    {
      "cell_type": "code",
      "source": [
        "single = run_single_shot(MODEL, test_notes)\n",
        "print(single)"
      ],
      "metadata": {
        "colab": {
          "base_uri": "https://localhost:8080/"
        },
        "id": "6ZIXZEsBTb-C",
        "outputId": "7d35b383-3edc-4530-96f5-18274341cbae"
      },
      "execution_count": 34,
      "outputs": [
        {
          "output_type": "stream",
          "name": "stdout",
          "text": [
            "<<BEGIN>>\n",
            "[Step 1 Summary]\n",
            "SOC detected outbound traffic from srv-web-02 to 185.203.116.44 on 2025-09-05, suspected as Cobalt Strike beacon with 60s jittered callbacks and /beacon path. Artifacts include DLL hash 9f2c...e12 and domain acme-updates[.]com (first seen 2025-09-01). User 'svc_iis' shows unusual token privileges. Initial access vector unknown. (62 words)\n",
            "\n",
            "[Step 2 JSON as ```json ... ```]\n",
            "```json\n",
            "{\n",
            "  \"entities\": {\n",
            "    \"host\": \"srv-web-02\",\n",
            "    \"user\": \"svc_iis\",\n",
            "    \"ip\": \"185.203.116.44\",\n",
            "    \"domain\": \"acme-updates[.]com\"\n",
            "  },\n",
            "  \"events\": [\n",
            "    {\n",
            "      \"time\": \"2025-09-05 13:17 CET\",\n",
            "      \"what\": \"Outbound traffic from srv-web-02 to 185.203.116.44\"\n",
            "    },\n",
            "    {\n",
            "      \"time\": \"2025-09-01\",\n",
            "      \"what\": \"First seen domain acme-updates[.]com\"\n",
            "    }\n",
            "  ],\n",
            "  \"artifacts\": {\n",
            "    \"hash\": \"9f2c...e12 (dll)\",\n",
            "    \"domain\": \"acme-updates[.]com\"\n",
            "  },\n",
            "  \"claims\": [\n",
            "    {\n",
            "      \"text\": \"likely cobalt strike beacon\",\n",
            "      \"support\": \"strong\"\n",
            "    }\n",
            "  ]\n",
            "}\n",
            "```\n",
            "\n",
            "[Step 3 Executive Brief]\n",
            "\n",
            "**TL;DR**  \n",
            "Suspicious outbound traffic from web server srv-web-02 indicates potential Cobalt Strike beacon activity, with artifacts including a DLL hash and domain. Initial access unknown; svc_iis user has unusual privileges.\n",
            "\n",
            "**Timeline**  \n",
            "- 2025-09-01: Domain acme-updates[.]com first observed.  \n",
            "- 2025-09-05 13:17 CET: Outbound traffic from srv-web-02 to 185.203.116.44 detected, showing jittered 60s callbacks and /beacon path.\n",
            "\n",
            "**Indicators of Compromise**  \n",
            "- IP: 185.203.116.44  \n",
            "- Domain: acme-updates[.]com  \n",
            "- Hash: 9f2c...e12 (DLL)  \n",
            "- Path: /beacon  \n",
            "- User: svc_iis with unusual token privileges  \n",
            "\n",
            "**Analysis**  \n",
            "Analyst assesses strong evidence of Cobalt Strike beacon based on jittered callbacks and /beacon path in traffic to 185.203.116.44. The domain was first seen days prior, suggesting possible staging. Unusual privileges on svc_iis may indicate privilege escalation, but initial vector remains unclear.\n",
            "\n",
            "**Mitigations**  \n",
            "Isolate srv-web-02, block traffic to 185.203.116.44 and acme-updates[.]com, scan for hash 9f2c...e12, review svc_iis privileges.\n",
            "\n",
            "**Open Questions**  \n",
            "Initial access vector unknown.\n",
            "\n",
            "(198 words)\n",
            "\n",
            "[Step 4 Review JSON]\n",
            "```json\n",
            "{\n",
            "  \"issues\": [\n",
            "    {\n",
            "      \"type\": \"unsupported\",\n",
            "      \"detail\": \"Mitigations section includes actions like 'isolate srv-web-02' and 'scan for hash' which are not explicitly stated in the notes; they are inferred but not supported as direct facts.\"\n",
            "    },\n",
            "    {\n",
            "      \"type\": \"missing\",\n",
            "      \"detail\": \"Entities in JSON do not explicitly include the /beacon path or jittered callbacks as separate entities, though they are implied in events; claims could include more details on privileges.\"\n",
            "    },\n",
            "    {\n",
            "      \"type\": \"format\",\n",
            "      \"detail\": \"JSON entities structured as a flat object, but events and artifacts are arrays/objects; consistency could be improved by making entities an array for clarity.\"\n",
            "    }\n",
            "  ],\n",
            "  \"overall_risk\": \"high\"\n",
            "}\n",
            "```\n",
            "\n",
            "[Step 5 Final Brief]\n",
            "\n",
            "**TL;DR**  \n",
            "Suspicious outbound traffic from web server srv-web-02 indicates potential Cobalt Strike beacon activity, with artifacts including a DLL hash and domain. Initial access unknown; svc_iis user has unusual privileges.\n",
            "\n",
            "**Timeline**  \n",
            "- 2025-09-01: Domain acme-updates[.]com first observed.  \n",
            "- 2025-09-05 13:17 CET: Outbound traffic from srv-web-02 to 185.203.116.44 detected, showing jittered 60s callbacks and /beacon path.\n",
            "\n",
            "**Indicators of Compromise**  \n",
            "- IP: 185.203.116.44  \n",
            "- Domain: acme-updates[.]com  \n",
            "- Hash: 9f2c...e12 (DLL)  \n",
            "- Path: /beacon  \n",
            "- User: svc_iis with unusual token privileges  \n",
            "\n",
            "**Analysis**  \n",
            "Analyst assesses strong evidence of Cobalt Strike beacon based on jittered callbacks and /beacon path in traffic to 185.203.116.44. The domain was first seen days prior, suggesting possible staging. Unusual privileges on svc_iis may indicate privilege escalation, but initial vector remains unclear.\n",
            "\n",
            "**Mitigations**  \n",
            "Block traffic to 185.203.116.44 and acme-updates[.]com; review svc_iis privileges.\n",
            "\n",
            "**Open Questions**  \n",
            "Initial access vector unknown.\n",
            "\n",
            "(172 words)\n",
            "\n",
            "[Step 6 Email]\n",
            "Subject: Urgent: Suspected Cobalt Strike Activity on srv-web-02  \n",
            "\n",
            "Dear Leadership,  \n",
            "\n",
            "SOC detected potential Cobalt Strike beacon from srv-web-02 to 185.203.116.44 on 2025-09-05, with jittered callbacks and /beacon path. Artifacts: DLL hash 9f2c...e12, domain acme-updates[.]com (first seen 2025-09-01). svc_iis has unusual privileges; initial access unknown.  \n",
            "\n",
            "Next steps:  \n",
            "- IT/SecOps: Block IP/domain, review privileges (owner: SecOps lead).  \n",
            "- Forensics: Investigate access vector (owner: Incident Response team).  \n",
            "- Escalate if confirmed.  \n",
            "\n",
            "Please advise.  \n",
            "\n",
            "Best,  \n",
            "Sonoma  \n",
            "(98 words)\n",
            "<<END>>\n"
          ]
        }
      ]
    },
    {
      "cell_type": "markdown",
      "source": [
        "### Prompts"
      ],
      "metadata": {
        "id": "0yUJue4OK8u6"
      }
    },
    {
      "cell_type": "code",
      "source": [
        "# prompt 1\n",
        "EXTRACT_SYS = \"You extract structured facts from noisy security notes.\"\n",
        "EXTRACT_USER = \"\"\"Notes:\n",
        "{notes}\n",
        "Return JSON: {{ \"entities\": [], \"events\": [{{\"time\":\"\", \"what\":\"\"}}], \"artifacts\": [], \"claims\": [{{\"text\":\"\", \"support\":\"weak|strong\"}}] }}\"\"\"\n",
        "\n",
        "# prompt 2\n",
        "PLAN_SYS = \"You are a planning assistant for a security brief.\"\n",
        "PLAN_USER = \"\"\"Given JSON facts:\n",
        "{facts}\n",
        "Plan: bullets for sections, what to verify, and missing info. Keep it short.\"\"\"\n",
        "\n",
        "# extra chains\n",
        "# prompt 3\n",
        "DRAFT_SYS = \"You write concise executive security briefs for incident response leaders.\"\n",
        "DRAFT_USER = \"\"\"Using these facts and plan, draft the brief with sections:\n",
        "TL;DR, Timeline, Indicators of Compromise, Analysis, Mitigations, Open Questions.\n",
        "Facts JSON:\n",
        "{facts}\n",
        "Plan:\n",
        "{plan}\n",
        "Keep it <350 words, bullets where possible, no speculation.\"\"\"\n",
        "\n",
        "# prompt 4\n",
        "CRITIC_SYS = \"You are a strict incident-response reviewer. Be terse and specific.\"\n",
        "CRITIC_USER = \"\"\"Review the draft for: unsupported claims, contradictions with facts, formatting issues,\n",
        "and missing critical mitigations. Return JSON:\n",
        "{{\"issues\":[{{\"type\":\"unsupported|contradiction|format|missing\",\"detail\":\"\"}}], \"overall_risk\":\"low|med|high\"}}.\n",
        "Draft:\n",
        "{draft}\n",
        "Facts:\n",
        "{facts}\"\"\"\n",
        "\n",
        "\n",
        "# prompt 5: final\n",
        "FINALIZE_SYS = \"You fix drafts precisely according to reviewer issues.\"\n",
        "FINALIZE_USER = \"\"\"Revise the draft to resolve ALL issues below. Do not add new claims.\n",
        "Return only the final brief text.\n",
        "Issues JSON:\n",
        "{issues}\n",
        "Draft:\n",
        "{draft}\"\"\""
      ],
      "metadata": {
        "id": "xmhA2FuKJUY_"
      },
      "execution_count": 44,
      "outputs": []
    },
    {
      "cell_type": "markdown",
      "source": [
        "#### Funcs for chains"
      ],
      "metadata": {
        "id": "NKVBjcO9LdAk"
      }
    },
    {
      "cell_type": "code",
      "source": [
        "def run_extract(model, notes):\n",
        "    m=[{\"role\":\"system\",\"content\":EXTRACT_SYS},\n",
        "       {\"role\":\"user\",\"content\":EXTRACT_USER.format(notes=notes)}]\n",
        "    return call(model, m)\n",
        "\n",
        "def run_plan(model, facts_json):\n",
        "    m=[{\"role\":\"system\",\"content\":PLAN_SYS},\n",
        "       {\"role\":\"user\",\"content\":PLAN_USER.format(facts=facts_json)}]\n",
        "    return call(model, m)"
      ],
      "metadata": {
        "id": "We_YBfXlLfs_"
      },
      "execution_count": 39,
      "outputs": []
    },
    {
      "cell_type": "markdown",
      "source": [
        "#### Extra funcs for extra chains"
      ],
      "metadata": {
        "id": "0ANjPWOtLYDI"
      }
    },
    {
      "cell_type": "code",
      "source": [
        "def run_draft(model, facts, plan):\n",
        "    m=[{\"role\":\"system\",\"content\":DRAFT_SYS},\n",
        "       {\"role\":\"user\",\"content\":DRAFT_USER.format(facts=json.dumps(facts), plan=plan)}]\n",
        "    return call(model, m)\n",
        "\n",
        "def run_critic(model, draft, facts):\n",
        "    m=[{\"role\":\"system\",\"content\":CRITIC_SYS},\n",
        "       {\"role\":\"user\",\"content\":CRITIC_USER.format(draft=draft, facts=json.dumps(facts))}]\n",
        "    return call(model, m)\n",
        "\n",
        "def run_finalize(model, draft, issues_json):\n",
        "    m=[{\"role\":\"system\",\"content\":FINALIZE_SYS},\n",
        "       {\"role\":\"user\",\"content\":FINALIZE_USER.format(issues=issues_json, draft=draft)}]\n",
        "    return call(model, m)\n"
      ],
      "metadata": {
        "id": "SVl8pQ92Lq5Z"
      },
      "execution_count": 40,
      "outputs": []
    },
    {
      "cell_type": "markdown",
      "source": [
        "### Try it!\n",
        "\n",
        "Basic 2-step approach"
      ],
      "metadata": {
        "id": "8m56gK9aLRvy"
      }
    },
    {
      "cell_type": "code",
      "source": [
        "# 1) Extract\n",
        "extract_raw = run_extract(MODEL, test_notes)\n",
        "print(\"EXTRACT (raw):\\n\", extract_raw)\n",
        "\n",
        "facts = call_json_with_retry(MODEL, EXTRACT_SYS, EXTRACT_USER.format(notes=test_notes),\n",
        "                             required_keys=[\"entities\",\"events\",\"artifacts\",\"claims\"])\n",
        "print(\"\\nEXTRACT (parsed):\\n\", json.dumps(facts, indent=2))\n",
        "\n",
        "# 2) Plan\n",
        "plan = run_plan(MODEL, json.dumps(facts))\n",
        "print(\"\\nPLAN:\\n\", plan)"
      ],
      "metadata": {
        "colab": {
          "base_uri": "https://localhost:8080/"
        },
        "id": "_wp-koNgJ7mH",
        "outputId": "6692c4ef-9563-4f7a-e75b-023ef43ce72c"
      },
      "execution_count": 51,
      "outputs": [
        {
          "output_type": "stream",
          "name": "stdout",
          "text": [
            "EXTRACT (raw):\n",
            " {\n",
            "  \"entities\": [\n",
            "    {\n",
            "      \"type\": \"ip\",\n",
            "      \"value\": \"185.203.116.44\",\n",
            "      \"description\": \"Destination IP for outbound traffic\"\n",
            "    },\n",
            "    {\n",
            "      \"type\": \"hostname\",\n",
            "      \"value\": \"srv-web-02\",\n",
            "      \"description\": \"Source server for outbound traffic\"\n",
            "    },\n",
            "    {\n",
            "      \"type\": \"user\",\n",
            "      \"value\": \"svc_iis\",\n",
            "      \"description\": \"User account with unusual token privileges\"\n",
            "    },\n",
            "    {\n",
            "      \"type\": \"domain\",\n",
            "      \"value\": \"acme-updates.com\",\n",
            "      \"description\": \"Suspicious domain first seen 2025-09-01\"\n",
            "    }\n",
            "  ],\n",
            "  \"events\": [\n",
            "    {\n",
            "      \"time\": \"2025-09-05 13:17 CET\",\n",
            "      \"what\": \"Outbound traffic detected from srv-web-02 to 185.203.116.44\"\n",
            "    }\n",
            "  ],\n",
            "  \"artifacts\": [\n",
            "    {\n",
            "      \"type\": \"hash\",\n",
            "      \"value\": \"9f2c...e12\",\n",
            "      \"description\": \"Hash of suspicious DLL file\"\n",
            "    },\n",
            "    {\n",
            "      \"type\": \"path\",\n",
            "      \"value\": \"/beacon\",\n",
            "      \"description\": \"Path associated with jittered callbacks\"\n",
            "    }\n",
            "  ],\n",
            "  \"claims\": [\n",
            "    {\n",
            "      \"text\": \"Likely Cobalt Strike beacon activity\",\n",
            "      \"support\": \"strong\"\n",
            "    },\n",
            "    {\n",
            "      \"text\": \"Initial access vector unknown\",\n",
            "      \"support\": \"weak\"\n",
            "    },\n",
            "    {\n",
            "      \"text\": \"User 'svc_iis' has unusual token privileges\",\n",
            "      \"support\": \"weak\"\n",
            "    }\n",
            "  ]\n",
            "}\n",
            "\n",
            "EXTRACT (parsed):\n",
            " {\n",
            "  \"entities\": [\n",
            "    {\n",
            "      \"type\": \"ip\",\n",
            "      \"value\": \"185.203.116.44\",\n",
            "      \"description\": \"Outbound traffic destination\"\n",
            "    },\n",
            "    {\n",
            "      \"type\": \"hostname\",\n",
            "      \"value\": \"srv-web-02\",\n",
            "      \"description\": \"Source server\"\n",
            "    },\n",
            "    {\n",
            "      \"type\": \"user\",\n",
            "      \"value\": \"svc_iis\",\n",
            "      \"description\": \"User with unusual token privileges\"\n",
            "    }\n",
            "  ],\n",
            "  \"events\": [\n",
            "    {\n",
            "      \"time\": \"2025-09-05 13:17 CET\",\n",
            "      \"what\": \"SOC noted outbound traffic to 185.203.116.44 from srv-web-02\"\n",
            "    }\n",
            "  ],\n",
            "  \"artifacts\": [\n",
            "    {\n",
            "      \"type\": \"hash\",\n",
            "      \"value\": \"9f2c...e12\",\n",
            "      \"description\": \"DLL hash\"\n",
            "    },\n",
            "    {\n",
            "      \"type\": \"domain\",\n",
            "      \"value\": \"acme-updates[.]com\",\n",
            "      \"description\": \"Domain first seen 2025-09-01\"\n",
            "    }\n",
            "  ],\n",
            "  \"claims\": [\n",
            "    {\n",
            "      \"text\": \"likely cobalt strike beacon\",\n",
            "      \"support\": \"strong\"\n",
            "    },\n",
            "    {\n",
            "      \"text\": \"evidence: jittered 60s callbacks, /beacon path\",\n",
            "      \"support\": \"strong\"\n",
            "    },\n",
            "    {\n",
            "      \"text\": \"initial access vector unknown\",\n",
            "      \"support\": \"weak\"\n",
            "    },\n",
            "    {\n",
            "      \"text\": \"user 'svc_iis' has unusual token privileges\",\n",
            "      \"support\": \"weak\"\n",
            "    }\n",
            "  ]\n",
            "}\n",
            "\n",
            "PLAN:\n",
            " ### Summary\n",
            "- **Key Entities**: IP 185.203.116.44 (outbound destination), hostname srv-web-02 (source server), user svc_iis (unusual token privileges).\n",
            "- **Key Events**: SOC observed outbound traffic from srv-web-02 to IP on 2025-09-05 13:17 CET.\n",
            "- **Key Artifacts**: DLL hash 9f2c...e12; domain acme-updates[.]com (first seen 2025-09-01).\n",
            "- **Key Claims**: Likely Cobalt Strike beacon (strong support via jittered 60s callbacks and /beacon path); initial access unknown (weak); svc_iis privileges unusual (weak).\n",
            "\n",
            "### Verification Steps\n",
            "- **Traffic Analysis**: Verify outbound traffic logs from srv-web-02 to 185.203.116.44; check for jittered 60s callbacks and /beacon path in network captures to confirm Cobalt Strike indicators.\n",
            "- **Entity Checks**: Validate IP reputation (e.g., via threat intel feeds like VirusTotal); audit svc_iis user privileges on srv-web-02 for anomalies (e.g., SeDebugPrivilege); confirm hostname as web server.\n",
            "- **Artifact Validation**: Scan DLL hash 9f2c...e12 against malware databases; review DNS logs for acme-updates[.]com resolutions since 2025-09-01; check for related file executions.\n",
            "- **Claim Assessment**: Cross-reference claims with logs (e.g., process monitoring for beacon activity); evaluate support strength by quantifying evidence (e.g., packet counts for callbacks).\n",
            "\n",
            "### Missing Information\n",
            "- Initial access vector details (e.g., phishing, exploit logs).\n",
            "- Full DLL context (e.g., file path, execution timestamps, parent process).\n",
            "- Broader timeline (e.g., events before/after 2025-09-05; domain registration info).\n",
            "- Affected systems scope (e.g., other servers/users involved; lateral movement signs).\n"
          ]
        }
      ]
    },
    {
      "cell_type": "markdown",
      "source": [
        "### Try it!\n",
        "\n",
        "Longer chain with draft, critic, and finalizer"
      ],
      "metadata": {
        "id": "IN6EqJzxLT0U"
      }
    },
    {
      "cell_type": "code",
      "source": [
        "draft = run_draft(MODEL, facts, plan)\n",
        "print(\"\\nDRAFT:\\n\", draft)\n",
        "\n",
        "critic_raw = run_critic(MODEL, draft, facts)\n",
        "print(\"\\nCRITIC (raw):\\n\", critic_raw)\n",
        "\n",
        "critic = safe_json(critic_raw, required_keys=[\"issues\",\"overall_risk\"])  # parse what we got\n",
        "\n",
        "final_brief = run_finalize(MODEL, draft, json.dumps(critic))\n",
        "print(\"\\nFINAL:\\n\", final_brief)\n"
      ],
      "metadata": {
        "colab": {
          "base_uri": "https://localhost:8080/"
        },
        "id": "O0_i6jW6MGna",
        "outputId": "55b81768-ba66-4133-8c7a-afe58c4a4e45"
      },
      "execution_count": 28,
      "outputs": [
        {
          "output_type": "stream",
          "name": "stdout",
          "text": [
            "\n",
            "DRAFT:\n",
            " ### TL;DR\n",
            "- Suspicious outbound traffic from internal server srv-web-02 (user svc_iis) to IP 185.203.116.44 detected 2025-09-05, linked to domain acme-updates[.]com (first seen 2025-09-01).\n",
            "- Strong evidence of Cobalt Strike beacon via jittered 60s callbacks to /beacon path; DLL hash 9f2c...e12 identified.\n",
            "- Immediate verification and isolation recommended for srv-web-02.\n",
            "\n",
            "### Timeline\n",
            "- 2025-09-01: Domain acme-updates[.]com first observed.\n",
            "- 2025-09-05 13:17 CET: SOC detects outbound traffic from srv-web-02 to 185.203.116.44.\n",
            "\n",
            "### Indicators of Compromise\n",
            "- IP: 185.203.116.44 (outbound destination).\n",
            "- Hostname: srv-web-02 (source server).\n",
            "- User: svc_iis (unusual token privileges).\n",
            "- Domain: acme-updates[.]com (suspicious, tied to callbacks).\n",
            "- Hash: 9f2c...e12 (DLL artifact).\n",
            "- Path: /beacon (in jittered callbacks).\n",
            "\n",
            "### Analysis\n",
            "- Claim: Likely Cobalt Strike beacon (strong support from jittered 60s callbacks and /beacon path).\n",
            "- Entity validation: Confirm IP reputation via VirusTotal/WHOIS; verify srv-web-02 as internal; baseline svc_iis privileges.\n",
            "- Event correlation: Cross-reference SOC logs with domain registration details.\n",
            "- Artifact analysis: Scan DLL hash for signatures; examine /beacon in captures for Cobalt Strike patterns (MITRE ATT&CK T1071).\n",
            "- Network review: Analyze logs for callback intervals matching known IOCs.\n",
            "\n",
            "### Mitigations\n",
            "- Isolate srv-web-02 and block IP 185.203.116.44/domain acme-updates[.]com at firewall.\n",
            "- Revoke svc_iis privileges and scan for hash 9f2c...e12 using endpoint tools.\n",
            "- Monitor for similar /beacon activity across network.\n",
            "\n",
            "### Open Questions\n",
            "- Full details on DLL (file name, load time, parent process).\n",
            "- Complete callback logs (exact jitter intervals, payload contents).\n",
            "- Broader impact: Affected systems beyond srv-web-02; svc_iis activity history; pre-2025-09-01 alerts.\n",
            "\n",
            "(Word count: 298)\n",
            "\n",
            "CRITIC (raw):\n",
            " {\"issues\":[{\"type\":\"unsupported\",\"detail\":\"DLL hash 9f2c...e12 identified as linked to Cobalt Strike beacon; facts provide no evidence tying hash to Cobalt Strike, only jittered callbacks and /beacon path\"},{\"type\":\"format\",\"detail\":\"Hash abbreviated as 9f2c...e12; use full hash for precision in IOCs\"},{\"type\":\"missing\",\"detail\":\"No mention of forensic collection (e.g., memory dump of srv-web-02) or incident reporting/escalation procedures\"}],\"overall_risk\":\"med\"}\n",
            "\n",
            "FINAL:\n",
            " ### TL;DR\n",
            "- Suspicious outbound traffic from internal server srv-web-02 (user svc_iis) to IP 185.203.116.44 detected 2025-09-05, linked to domain acme-updates[.]com (first seen 2025-09-01).\n",
            "- Evidence of suspicious activity via jittered 60s callbacks to /beacon path; DLL hash 9f2c...e12 identified.\n",
            "- Immediate verification and isolation recommended for srv-web-02.\n",
            "\n",
            "### Timeline\n",
            "- 2025-09-01: Domain acme-updates[.]com first observed.\n",
            "- 2025-09-05 13:17 CET: SOC detects outbound traffic from srv-web-02 to 185.203.116.44.\n",
            "\n",
            "### Indicators of Compromise\n",
            "- IP: 185.203.116.44 (outbound destination).\n",
            "- Hostname: srv-web-02 (source server).\n",
            "- User: svc_iis (unusual token privileges).\n",
            "- Domain: acme-updates[.]com (suspicious, tied to callbacks).\n",
            "- Hash: 9f2c...e12 (DLL artifact).\n",
            "- Path: /beacon (in jittered callbacks).\n",
            "\n",
            "### Analysis\n",
            "- Claim: Suspicious activity via jittered 60s callbacks and /beacon path (strong support from network patterns).\n",
            "- Entity validation: Confirm IP reputation via VirusTotal/WHOIS; verify srv-web-02 as internal; baseline svc_iis privileges.\n",
            "- Event correlation: Cross-reference SOC logs with domain registration details.\n",
            "- Artifact analysis: Scan DLL hash for signatures; examine /beacon in captures for patterns (MITRE ATT&CK T1071).\n",
            "- Network review: Analyze logs for callback intervals matching known IOCs.\n",
            "- Forensic collection: Obtain memory dump from srv-web-02 for further analysis.\n",
            "- Incident reporting: Escalate to incident response team per procedures.\n",
            "\n",
            "### Mitigations\n",
            "- Isolate srv-web-02 and block IP 185.203.116.44/domain acme-updates[.]com at firewall.\n",
            "- Revoke svc_iis privileges and scan for hash 9f2c...e12 using endpoint tools.\n",
            "- Monitor for similar /beacon activity across network.\n",
            "\n",
            "### Open Questions\n",
            "- Full details on DLL (file name, load time, parent process).\n",
            "- Complete callback logs (exact jitter intervals, payload contents).\n",
            "- Broader impact: Affected systems beyond srv-web-02; svc_iis activity history; pre-2025-09-01 alerts.\n",
            "\n",
            "(Word count: 302)\n"
          ]
        }
      ]
    },
    {
      "cell_type": "markdown",
      "source": [
        "### Evaluate final"
      ],
      "metadata": {
        "id": "B1PIV148Mo1C"
      }
    },
    {
      "cell_type": "code",
      "source": [
        "score = 0\n",
        "score += 1 if \"TL;DR\" in final_brief else 0\n",
        "score += 1 if \"Mitigations\" in final_brief else 0\n",
        "score += 1 if any(i[\"type\"]==\"unsupported\" for i in critic[\"issues\"]) or any(critic[\"issues\"]) else 0\n",
        "print(\"Heuristic score (0-3):\", score)\n"
      ],
      "metadata": {
        "colab": {
          "base_uri": "https://localhost:8080/"
        },
        "id": "-5EzylloMXqX",
        "outputId": "ab072c6e-05d8-42d7-eadb-ee646698ecb7"
      },
      "execution_count": 29,
      "outputs": [
        {
          "output_type": "stream",
          "name": "stdout",
          "text": [
            "Heuristic score (0-3): 3\n"
          ]
        }
      ]
    }
  ]
}