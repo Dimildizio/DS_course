{
  "nbformat": 4,
  "nbformat_minor": 0,
  "metadata": {
    "colab": {
      "provenance": [],
      "authorship_tag": "ABX9TyPBidTlEXlw8Yp8Fd6iqNFB",
      "include_colab_link": true
    },
    "kernelspec": {
      "name": "python3",
      "display_name": "Python 3"
    },
    "language_info": {
      "name": "python"
    }
  },
  "cells": [
    {
      "cell_type": "markdown",
      "metadata": {
        "id": "view-in-github",
        "colab_type": "text"
      },
      "source": [
        "<a href=\"https://colab.research.google.com/github/Dimildizio/DS_course/blob/main/gradient-boosting/notebooks/Housing_prices_kaggle_EDA.ipynb\" target=\"_parent\"><img src=\"https://colab.research.google.com/assets/colab-badge.svg\" alt=\"Open In Colab\"/></a>"
      ]
    },
    {
      "cell_type": "markdown",
      "source": [
        "# EDA for housing prices"
      ],
      "metadata": {
        "id": "ogeskgokiqTS"
      }
    },
    {
      "cell_type": "code",
      "source": [
        "import numpy as np\n",
        "import pandas as pd\n",
        "from matplotlib import pyplot as plt\n",
        "import seaborn as sns"
      ],
      "metadata": {
        "id": "IUzYZ-ak2j6V"
      },
      "execution_count": 302,
      "outputs": []
    },
    {
      "cell_type": "code",
      "source": [
        "pd.set_option('display.max_rows', 100)\n",
        "pd.set_option('max_colwidth', 80)"
      ],
      "metadata": {
        "id": "UD0vW7RA4zRC"
      },
      "execution_count": 303,
      "outputs": []
    },
    {
      "cell_type": "code",
      "execution_count": 304,
      "metadata": {
        "id": "iShKq52-ieov"
      },
      "outputs": [],
      "source": [
        "raw_df_train = pd.read_csv('https://raw.githubusercontent.com/Dimildizio/DS_course/main/gradient-boosting/data/train.csv', index_col=0)\n",
        "raw_df_test = pd.read_csv('https://raw.githubusercontent.com/Dimildizio/DS_course/main/gradient-boosting/data/test.csv', index_col=0)\n"
      ]
    },
    {
      "cell_type": "code",
      "source": [
        "raw_df_test.head()"
      ],
      "metadata": {
        "colab": {
          "base_uri": "https://localhost:8080/",
          "height": 331
        },
        "id": "IIDd7PFe3QEW",
        "outputId": "336eeb68-ca7a-4bf3-800d-55c37728e27f"
      },
      "execution_count": 305,
      "outputs": [
        {
          "output_type": "execute_result",
          "data": {
            "text/plain": [
              "      MSSubClass MSZoning  LotFrontage  LotArea Street Alley LotShape  \\\n",
              "Id                                                                      \n",
              "1461          20       RH         80.0    11622   Pave   NaN      Reg   \n",
              "1462          20       RL         81.0    14267   Pave   NaN      IR1   \n",
              "1463          60       RL         74.0    13830   Pave   NaN      IR1   \n",
              "1464          60       RL         78.0     9978   Pave   NaN      IR1   \n",
              "1465         120       RL         43.0     5005   Pave   NaN      IR1   \n",
              "\n",
              "     LandContour Utilities LotConfig  ... ScreenPorch PoolArea PoolQC  Fence  \\\n",
              "Id                                    ...                                      \n",
              "1461         Lvl    AllPub    Inside  ...         120        0    NaN  MnPrv   \n",
              "1462         Lvl    AllPub    Corner  ...           0        0    NaN    NaN   \n",
              "1463         Lvl    AllPub    Inside  ...           0        0    NaN  MnPrv   \n",
              "1464         Lvl    AllPub    Inside  ...           0        0    NaN    NaN   \n",
              "1465         HLS    AllPub    Inside  ...         144        0    NaN    NaN   \n",
              "\n",
              "     MiscFeature MiscVal  MoSold  YrSold  SaleType  SaleCondition  \n",
              "Id                                                                 \n",
              "1461         NaN       0       6    2010        WD         Normal  \n",
              "1462        Gar2   12500       6    2010        WD         Normal  \n",
              "1463         NaN       0       3    2010        WD         Normal  \n",
              "1464         NaN       0       6    2010        WD         Normal  \n",
              "1465         NaN       0       1    2010        WD         Normal  \n",
              "\n",
              "[5 rows x 79 columns]"
            ],
            "text/html": [
              "\n",
              "  <div id=\"df-1cf881fe-db7d-4f6d-9e5a-54a679cd0ee6\">\n",
              "    <div class=\"colab-df-container\">\n",
              "      <div>\n",
              "<style scoped>\n",
              "    .dataframe tbody tr th:only-of-type {\n",
              "        vertical-align: middle;\n",
              "    }\n",
              "\n",
              "    .dataframe tbody tr th {\n",
              "        vertical-align: top;\n",
              "    }\n",
              "\n",
              "    .dataframe thead th {\n",
              "        text-align: right;\n",
              "    }\n",
              "</style>\n",
              "<table border=\"1\" class=\"dataframe\">\n",
              "  <thead>\n",
              "    <tr style=\"text-align: right;\">\n",
              "      <th></th>\n",
              "      <th>MSSubClass</th>\n",
              "      <th>MSZoning</th>\n",
              "      <th>LotFrontage</th>\n",
              "      <th>LotArea</th>\n",
              "      <th>Street</th>\n",
              "      <th>Alley</th>\n",
              "      <th>LotShape</th>\n",
              "      <th>LandContour</th>\n",
              "      <th>Utilities</th>\n",
              "      <th>LotConfig</th>\n",
              "      <th>...</th>\n",
              "      <th>ScreenPorch</th>\n",
              "      <th>PoolArea</th>\n",
              "      <th>PoolQC</th>\n",
              "      <th>Fence</th>\n",
              "      <th>MiscFeature</th>\n",
              "      <th>MiscVal</th>\n",
              "      <th>MoSold</th>\n",
              "      <th>YrSold</th>\n",
              "      <th>SaleType</th>\n",
              "      <th>SaleCondition</th>\n",
              "    </tr>\n",
              "    <tr>\n",
              "      <th>Id</th>\n",
              "      <th></th>\n",
              "      <th></th>\n",
              "      <th></th>\n",
              "      <th></th>\n",
              "      <th></th>\n",
              "      <th></th>\n",
              "      <th></th>\n",
              "      <th></th>\n",
              "      <th></th>\n",
              "      <th></th>\n",
              "      <th></th>\n",
              "      <th></th>\n",
              "      <th></th>\n",
              "      <th></th>\n",
              "      <th></th>\n",
              "      <th></th>\n",
              "      <th></th>\n",
              "      <th></th>\n",
              "      <th></th>\n",
              "      <th></th>\n",
              "      <th></th>\n",
              "    </tr>\n",
              "  </thead>\n",
              "  <tbody>\n",
              "    <tr>\n",
              "      <th>1461</th>\n",
              "      <td>20</td>\n",
              "      <td>RH</td>\n",
              "      <td>80.0</td>\n",
              "      <td>11622</td>\n",
              "      <td>Pave</td>\n",
              "      <td>NaN</td>\n",
              "      <td>Reg</td>\n",
              "      <td>Lvl</td>\n",
              "      <td>AllPub</td>\n",
              "      <td>Inside</td>\n",
              "      <td>...</td>\n",
              "      <td>120</td>\n",
              "      <td>0</td>\n",
              "      <td>NaN</td>\n",
              "      <td>MnPrv</td>\n",
              "      <td>NaN</td>\n",
              "      <td>0</td>\n",
              "      <td>6</td>\n",
              "      <td>2010</td>\n",
              "      <td>WD</td>\n",
              "      <td>Normal</td>\n",
              "    </tr>\n",
              "    <tr>\n",
              "      <th>1462</th>\n",
              "      <td>20</td>\n",
              "      <td>RL</td>\n",
              "      <td>81.0</td>\n",
              "      <td>14267</td>\n",
              "      <td>Pave</td>\n",
              "      <td>NaN</td>\n",
              "      <td>IR1</td>\n",
              "      <td>Lvl</td>\n",
              "      <td>AllPub</td>\n",
              "      <td>Corner</td>\n",
              "      <td>...</td>\n",
              "      <td>0</td>\n",
              "      <td>0</td>\n",
              "      <td>NaN</td>\n",
              "      <td>NaN</td>\n",
              "      <td>Gar2</td>\n",
              "      <td>12500</td>\n",
              "      <td>6</td>\n",
              "      <td>2010</td>\n",
              "      <td>WD</td>\n",
              "      <td>Normal</td>\n",
              "    </tr>\n",
              "    <tr>\n",
              "      <th>1463</th>\n",
              "      <td>60</td>\n",
              "      <td>RL</td>\n",
              "      <td>74.0</td>\n",
              "      <td>13830</td>\n",
              "      <td>Pave</td>\n",
              "      <td>NaN</td>\n",
              "      <td>IR1</td>\n",
              "      <td>Lvl</td>\n",
              "      <td>AllPub</td>\n",
              "      <td>Inside</td>\n",
              "      <td>...</td>\n",
              "      <td>0</td>\n",
              "      <td>0</td>\n",
              "      <td>NaN</td>\n",
              "      <td>MnPrv</td>\n",
              "      <td>NaN</td>\n",
              "      <td>0</td>\n",
              "      <td>3</td>\n",
              "      <td>2010</td>\n",
              "      <td>WD</td>\n",
              "      <td>Normal</td>\n",
              "    </tr>\n",
              "    <tr>\n",
              "      <th>1464</th>\n",
              "      <td>60</td>\n",
              "      <td>RL</td>\n",
              "      <td>78.0</td>\n",
              "      <td>9978</td>\n",
              "      <td>Pave</td>\n",
              "      <td>NaN</td>\n",
              "      <td>IR1</td>\n",
              "      <td>Lvl</td>\n",
              "      <td>AllPub</td>\n",
              "      <td>Inside</td>\n",
              "      <td>...</td>\n",
              "      <td>0</td>\n",
              "      <td>0</td>\n",
              "      <td>NaN</td>\n",
              "      <td>NaN</td>\n",
              "      <td>NaN</td>\n",
              "      <td>0</td>\n",
              "      <td>6</td>\n",
              "      <td>2010</td>\n",
              "      <td>WD</td>\n",
              "      <td>Normal</td>\n",
              "    </tr>\n",
              "    <tr>\n",
              "      <th>1465</th>\n",
              "      <td>120</td>\n",
              "      <td>RL</td>\n",
              "      <td>43.0</td>\n",
              "      <td>5005</td>\n",
              "      <td>Pave</td>\n",
              "      <td>NaN</td>\n",
              "      <td>IR1</td>\n",
              "      <td>HLS</td>\n",
              "      <td>AllPub</td>\n",
              "      <td>Inside</td>\n",
              "      <td>...</td>\n",
              "      <td>144</td>\n",
              "      <td>0</td>\n",
              "      <td>NaN</td>\n",
              "      <td>NaN</td>\n",
              "      <td>NaN</td>\n",
              "      <td>0</td>\n",
              "      <td>1</td>\n",
              "      <td>2010</td>\n",
              "      <td>WD</td>\n",
              "      <td>Normal</td>\n",
              "    </tr>\n",
              "  </tbody>\n",
              "</table>\n",
              "<p>5 rows × 79 columns</p>\n",
              "</div>\n",
              "      <button class=\"colab-df-convert\" onclick=\"convertToInteractive('df-1cf881fe-db7d-4f6d-9e5a-54a679cd0ee6')\"\n",
              "              title=\"Convert this dataframe to an interactive table.\"\n",
              "              style=\"display:none;\">\n",
              "        \n",
              "  <svg xmlns=\"http://www.w3.org/2000/svg\" height=\"24px\"viewBox=\"0 0 24 24\"\n",
              "       width=\"24px\">\n",
              "    <path d=\"M0 0h24v24H0V0z\" fill=\"none\"/>\n",
              "    <path d=\"M18.56 5.44l.94 2.06.94-2.06 2.06-.94-2.06-.94-.94-2.06-.94 2.06-2.06.94zm-11 1L8.5 8.5l.94-2.06 2.06-.94-2.06-.94L8.5 2.5l-.94 2.06-2.06.94zm10 10l.94 2.06.94-2.06 2.06-.94-2.06-.94-.94-2.06-.94 2.06-2.06.94z\"/><path d=\"M17.41 7.96l-1.37-1.37c-.4-.4-.92-.59-1.43-.59-.52 0-1.04.2-1.43.59L10.3 9.45l-7.72 7.72c-.78.78-.78 2.05 0 2.83L4 21.41c.39.39.9.59 1.41.59.51 0 1.02-.2 1.41-.59l7.78-7.78 2.81-2.81c.8-.78.8-2.07 0-2.86zM5.41 20L4 18.59l7.72-7.72 1.47 1.35L5.41 20z\"/>\n",
              "  </svg>\n",
              "      </button>\n",
              "      \n",
              "  <style>\n",
              "    .colab-df-container {\n",
              "      display:flex;\n",
              "      flex-wrap:wrap;\n",
              "      gap: 12px;\n",
              "    }\n",
              "\n",
              "    .colab-df-convert {\n",
              "      background-color: #E8F0FE;\n",
              "      border: none;\n",
              "      border-radius: 50%;\n",
              "      cursor: pointer;\n",
              "      display: none;\n",
              "      fill: #1967D2;\n",
              "      height: 32px;\n",
              "      padding: 0 0 0 0;\n",
              "      width: 32px;\n",
              "    }\n",
              "\n",
              "    .colab-df-convert:hover {\n",
              "      background-color: #E2EBFA;\n",
              "      box-shadow: 0px 1px 2px rgba(60, 64, 67, 0.3), 0px 1px 3px 1px rgba(60, 64, 67, 0.15);\n",
              "      fill: #174EA6;\n",
              "    }\n",
              "\n",
              "    [theme=dark] .colab-df-convert {\n",
              "      background-color: #3B4455;\n",
              "      fill: #D2E3FC;\n",
              "    }\n",
              "\n",
              "    [theme=dark] .colab-df-convert:hover {\n",
              "      background-color: #434B5C;\n",
              "      box-shadow: 0px 1px 3px 1px rgba(0, 0, 0, 0.15);\n",
              "      filter: drop-shadow(0px 1px 2px rgba(0, 0, 0, 0.3));\n",
              "      fill: #FFFFFF;\n",
              "    }\n",
              "  </style>\n",
              "\n",
              "      <script>\n",
              "        const buttonEl =\n",
              "          document.querySelector('#df-1cf881fe-db7d-4f6d-9e5a-54a679cd0ee6 button.colab-df-convert');\n",
              "        buttonEl.style.display =\n",
              "          google.colab.kernel.accessAllowed ? 'block' : 'none';\n",
              "\n",
              "        async function convertToInteractive(key) {\n",
              "          const element = document.querySelector('#df-1cf881fe-db7d-4f6d-9e5a-54a679cd0ee6');\n",
              "          const dataTable =\n",
              "            await google.colab.kernel.invokeFunction('convertToInteractive',\n",
              "                                                     [key], {});\n",
              "          if (!dataTable) return;\n",
              "\n",
              "          const docLinkHtml = 'Like what you see? Visit the ' +\n",
              "            '<a target=\"_blank\" href=https://colab.research.google.com/notebooks/data_table.ipynb>data table notebook</a>'\n",
              "            + ' to learn more about interactive tables.';\n",
              "          element.innerHTML = '';\n",
              "          dataTable['output_type'] = 'display_data';\n",
              "          await google.colab.output.renderOutput(dataTable, element);\n",
              "          const docLink = document.createElement('div');\n",
              "          docLink.innerHTML = docLinkHtml;\n",
              "          element.appendChild(docLink);\n",
              "        }\n",
              "      </script>\n",
              "    </div>\n",
              "  </div>\n",
              "  "
            ]
          },
          "metadata": {},
          "execution_count": 305
        }
      ]
    },
    {
      "cell_type": "code",
      "source": [
        "len(raw_df_train.columns)"
      ],
      "metadata": {
        "colab": {
          "base_uri": "https://localhost:8080/"
        },
        "id": "NQmTFeWPQljv",
        "outputId": "1533ad6e-89e3-407e-dbce-9f08afe12d2e"
      },
      "execution_count": 306,
      "outputs": [
        {
          "output_type": "execute_result",
          "data": {
            "text/plain": [
              "80"
            ]
          },
          "metadata": {},
          "execution_count": 306
        }
      ]
    },
    {
      "cell_type": "code",
      "source": [
        "raw_df_train.info()"
      ],
      "metadata": {
        "colab": {
          "base_uri": "https://localhost:8080/"
        },
        "id": "f9kaCUNz3Fkq",
        "outputId": "10c9fc76-f62c-46a9-b5f2-8caa0faa32cf"
      },
      "execution_count": 307,
      "outputs": [
        {
          "output_type": "stream",
          "name": "stdout",
          "text": [
            "<class 'pandas.core.frame.DataFrame'>\n",
            "Int64Index: 1460 entries, 1 to 1460\n",
            "Data columns (total 80 columns):\n",
            " #   Column         Non-Null Count  Dtype  \n",
            "---  ------         --------------  -----  \n",
            " 0   MSSubClass     1460 non-null   int64  \n",
            " 1   MSZoning       1460 non-null   object \n",
            " 2   LotFrontage    1201 non-null   float64\n",
            " 3   LotArea        1460 non-null   int64  \n",
            " 4   Street         1460 non-null   object \n",
            " 5   Alley          91 non-null     object \n",
            " 6   LotShape       1460 non-null   object \n",
            " 7   LandContour    1460 non-null   object \n",
            " 8   Utilities      1460 non-null   object \n",
            " 9   LotConfig      1460 non-null   object \n",
            " 10  LandSlope      1460 non-null   object \n",
            " 11  Neighborhood   1460 non-null   object \n",
            " 12  Condition1     1460 non-null   object \n",
            " 13  Condition2     1460 non-null   object \n",
            " 14  BldgType       1460 non-null   object \n",
            " 15  HouseStyle     1460 non-null   object \n",
            " 16  OverallQual    1460 non-null   int64  \n",
            " 17  OverallCond    1460 non-null   int64  \n",
            " 18  YearBuilt      1460 non-null   int64  \n",
            " 19  YearRemodAdd   1460 non-null   int64  \n",
            " 20  RoofStyle      1460 non-null   object \n",
            " 21  RoofMatl       1460 non-null   object \n",
            " 22  Exterior1st    1460 non-null   object \n",
            " 23  Exterior2nd    1460 non-null   object \n",
            " 24  MasVnrType     1452 non-null   object \n",
            " 25  MasVnrArea     1452 non-null   float64\n",
            " 26  ExterQual      1460 non-null   object \n",
            " 27  ExterCond      1460 non-null   object \n",
            " 28  Foundation     1460 non-null   object \n",
            " 29  BsmtQual       1423 non-null   object \n",
            " 30  BsmtCond       1423 non-null   object \n",
            " 31  BsmtExposure   1422 non-null   object \n",
            " 32  BsmtFinType1   1423 non-null   object \n",
            " 33  BsmtFinSF1     1460 non-null   int64  \n",
            " 34  BsmtFinType2   1422 non-null   object \n",
            " 35  BsmtFinSF2     1460 non-null   int64  \n",
            " 36  BsmtUnfSF      1460 non-null   int64  \n",
            " 37  TotalBsmtSF    1460 non-null   int64  \n",
            " 38  Heating        1460 non-null   object \n",
            " 39  HeatingQC      1460 non-null   object \n",
            " 40  CentralAir     1460 non-null   object \n",
            " 41  Electrical     1459 non-null   object \n",
            " 42  1stFlrSF       1460 non-null   int64  \n",
            " 43  2ndFlrSF       1460 non-null   int64  \n",
            " 44  LowQualFinSF   1460 non-null   int64  \n",
            " 45  GrLivArea      1460 non-null   int64  \n",
            " 46  BsmtFullBath   1460 non-null   int64  \n",
            " 47  BsmtHalfBath   1460 non-null   int64  \n",
            " 48  FullBath       1460 non-null   int64  \n",
            " 49  HalfBath       1460 non-null   int64  \n",
            " 50  BedroomAbvGr   1460 non-null   int64  \n",
            " 51  KitchenAbvGr   1460 non-null   int64  \n",
            " 52  KitchenQual    1460 non-null   object \n",
            " 53  TotRmsAbvGrd   1460 non-null   int64  \n",
            " 54  Functional     1460 non-null   object \n",
            " 55  Fireplaces     1460 non-null   int64  \n",
            " 56  FireplaceQu    770 non-null    object \n",
            " 57  GarageType     1379 non-null   object \n",
            " 58  GarageYrBlt    1379 non-null   float64\n",
            " 59  GarageFinish   1379 non-null   object \n",
            " 60  GarageCars     1460 non-null   int64  \n",
            " 61  GarageArea     1460 non-null   int64  \n",
            " 62  GarageQual     1379 non-null   object \n",
            " 63  GarageCond     1379 non-null   object \n",
            " 64  PavedDrive     1460 non-null   object \n",
            " 65  WoodDeckSF     1460 non-null   int64  \n",
            " 66  OpenPorchSF    1460 non-null   int64  \n",
            " 67  EnclosedPorch  1460 non-null   int64  \n",
            " 68  3SsnPorch      1460 non-null   int64  \n",
            " 69  ScreenPorch    1460 non-null   int64  \n",
            " 70  PoolArea       1460 non-null   int64  \n",
            " 71  PoolQC         7 non-null      object \n",
            " 72  Fence          281 non-null    object \n",
            " 73  MiscFeature    54 non-null     object \n",
            " 74  MiscVal        1460 non-null   int64  \n",
            " 75  MoSold         1460 non-null   int64  \n",
            " 76  YrSold         1460 non-null   int64  \n",
            " 77  SaleType       1460 non-null   object \n",
            " 78  SaleCondition  1460 non-null   object \n",
            " 79  SalePrice      1460 non-null   int64  \n",
            "dtypes: float64(3), int64(34), object(43)\n",
            "memory usage: 923.9+ KB\n"
          ]
        }
      ]
    },
    {
      "cell_type": "code",
      "source": [
        "raw_df_train['Alley'].unique()"
      ],
      "metadata": {
        "colab": {
          "base_uri": "https://localhost:8080/"
        },
        "id": "oLCq6wOq5O8Z",
        "outputId": "c7cec31d-2c62-4b8b-b99c-8b56b24e83ec"
      },
      "execution_count": 308,
      "outputs": [
        {
          "output_type": "execute_result",
          "data": {
            "text/plain": [
              "array([nan, 'Grvl', 'Pave'], dtype=object)"
            ]
          },
          "metadata": {},
          "execution_count": 308
        }
      ]
    },
    {
      "cell_type": "code",
      "source": [
        "raw_df_train.describe()"
      ],
      "metadata": {
        "colab": {
          "base_uri": "https://localhost:8080/",
          "height": 393
        },
        "id": "EXCZLFVc4Nrd",
        "outputId": "9b2fd41f-6d93-4a25-b804-f2cd8d0a1841"
      },
      "execution_count": 309,
      "outputs": [
        {
          "output_type": "execute_result",
          "data": {
            "text/plain": [
              "        MSSubClass  LotFrontage        LotArea  OverallQual  OverallCond  \\\n",
              "count  1460.000000  1201.000000    1460.000000  1460.000000  1460.000000   \n",
              "mean     56.897260    70.049958   10516.828082     6.099315     5.575342   \n",
              "std      42.300571    24.284752    9981.264932     1.382997     1.112799   \n",
              "min      20.000000    21.000000    1300.000000     1.000000     1.000000   \n",
              "25%      20.000000    59.000000    7553.500000     5.000000     5.000000   \n",
              "50%      50.000000    69.000000    9478.500000     6.000000     5.000000   \n",
              "75%      70.000000    80.000000   11601.500000     7.000000     6.000000   \n",
              "max     190.000000   313.000000  215245.000000    10.000000     9.000000   \n",
              "\n",
              "         YearBuilt  YearRemodAdd   MasVnrArea   BsmtFinSF1   BsmtFinSF2  ...  \\\n",
              "count  1460.000000   1460.000000  1452.000000  1460.000000  1460.000000  ...   \n",
              "mean   1971.267808   1984.865753   103.685262   443.639726    46.549315  ...   \n",
              "std      30.202904     20.645407   181.066207   456.098091   161.319273  ...   \n",
              "min    1872.000000   1950.000000     0.000000     0.000000     0.000000  ...   \n",
              "25%    1954.000000   1967.000000     0.000000     0.000000     0.000000  ...   \n",
              "50%    1973.000000   1994.000000     0.000000   383.500000     0.000000  ...   \n",
              "75%    2000.000000   2004.000000   166.000000   712.250000     0.000000  ...   \n",
              "max    2010.000000   2010.000000  1600.000000  5644.000000  1474.000000  ...   \n",
              "\n",
              "        WoodDeckSF  OpenPorchSF  EnclosedPorch    3SsnPorch  ScreenPorch  \\\n",
              "count  1460.000000  1460.000000    1460.000000  1460.000000  1460.000000   \n",
              "mean     94.244521    46.660274      21.954110     3.409589    15.060959   \n",
              "std     125.338794    66.256028      61.119149    29.317331    55.757415   \n",
              "min       0.000000     0.000000       0.000000     0.000000     0.000000   \n",
              "25%       0.000000     0.000000       0.000000     0.000000     0.000000   \n",
              "50%       0.000000    25.000000       0.000000     0.000000     0.000000   \n",
              "75%     168.000000    68.000000       0.000000     0.000000     0.000000   \n",
              "max     857.000000   547.000000     552.000000   508.000000   480.000000   \n",
              "\n",
              "          PoolArea       MiscVal       MoSold       YrSold      SalePrice  \n",
              "count  1460.000000   1460.000000  1460.000000  1460.000000    1460.000000  \n",
              "mean      2.758904     43.489041     6.321918  2007.815753  180921.195890  \n",
              "std      40.177307    496.123024     2.703626     1.328095   79442.502883  \n",
              "min       0.000000      0.000000     1.000000  2006.000000   34900.000000  \n",
              "25%       0.000000      0.000000     5.000000  2007.000000  129975.000000  \n",
              "50%       0.000000      0.000000     6.000000  2008.000000  163000.000000  \n",
              "75%       0.000000      0.000000     8.000000  2009.000000  214000.000000  \n",
              "max     738.000000  15500.000000    12.000000  2010.000000  755000.000000  \n",
              "\n",
              "[8 rows x 37 columns]"
            ],
            "text/html": [
              "\n",
              "  <div id=\"df-e4e9405c-6c9c-42fd-a16a-bb12ae556ced\">\n",
              "    <div class=\"colab-df-container\">\n",
              "      <div>\n",
              "<style scoped>\n",
              "    .dataframe tbody tr th:only-of-type {\n",
              "        vertical-align: middle;\n",
              "    }\n",
              "\n",
              "    .dataframe tbody tr th {\n",
              "        vertical-align: top;\n",
              "    }\n",
              "\n",
              "    .dataframe thead th {\n",
              "        text-align: right;\n",
              "    }\n",
              "</style>\n",
              "<table border=\"1\" class=\"dataframe\">\n",
              "  <thead>\n",
              "    <tr style=\"text-align: right;\">\n",
              "      <th></th>\n",
              "      <th>MSSubClass</th>\n",
              "      <th>LotFrontage</th>\n",
              "      <th>LotArea</th>\n",
              "      <th>OverallQual</th>\n",
              "      <th>OverallCond</th>\n",
              "      <th>YearBuilt</th>\n",
              "      <th>YearRemodAdd</th>\n",
              "      <th>MasVnrArea</th>\n",
              "      <th>BsmtFinSF1</th>\n",
              "      <th>BsmtFinSF2</th>\n",
              "      <th>...</th>\n",
              "      <th>WoodDeckSF</th>\n",
              "      <th>OpenPorchSF</th>\n",
              "      <th>EnclosedPorch</th>\n",
              "      <th>3SsnPorch</th>\n",
              "      <th>ScreenPorch</th>\n",
              "      <th>PoolArea</th>\n",
              "      <th>MiscVal</th>\n",
              "      <th>MoSold</th>\n",
              "      <th>YrSold</th>\n",
              "      <th>SalePrice</th>\n",
              "    </tr>\n",
              "  </thead>\n",
              "  <tbody>\n",
              "    <tr>\n",
              "      <th>count</th>\n",
              "      <td>1460.000000</td>\n",
              "      <td>1201.000000</td>\n",
              "      <td>1460.000000</td>\n",
              "      <td>1460.000000</td>\n",
              "      <td>1460.000000</td>\n",
              "      <td>1460.000000</td>\n",
              "      <td>1460.000000</td>\n",
              "      <td>1452.000000</td>\n",
              "      <td>1460.000000</td>\n",
              "      <td>1460.000000</td>\n",
              "      <td>...</td>\n",
              "      <td>1460.000000</td>\n",
              "      <td>1460.000000</td>\n",
              "      <td>1460.000000</td>\n",
              "      <td>1460.000000</td>\n",
              "      <td>1460.000000</td>\n",
              "      <td>1460.000000</td>\n",
              "      <td>1460.000000</td>\n",
              "      <td>1460.000000</td>\n",
              "      <td>1460.000000</td>\n",
              "      <td>1460.000000</td>\n",
              "    </tr>\n",
              "    <tr>\n",
              "      <th>mean</th>\n",
              "      <td>56.897260</td>\n",
              "      <td>70.049958</td>\n",
              "      <td>10516.828082</td>\n",
              "      <td>6.099315</td>\n",
              "      <td>5.575342</td>\n",
              "      <td>1971.267808</td>\n",
              "      <td>1984.865753</td>\n",
              "      <td>103.685262</td>\n",
              "      <td>443.639726</td>\n",
              "      <td>46.549315</td>\n",
              "      <td>...</td>\n",
              "      <td>94.244521</td>\n",
              "      <td>46.660274</td>\n",
              "      <td>21.954110</td>\n",
              "      <td>3.409589</td>\n",
              "      <td>15.060959</td>\n",
              "      <td>2.758904</td>\n",
              "      <td>43.489041</td>\n",
              "      <td>6.321918</td>\n",
              "      <td>2007.815753</td>\n",
              "      <td>180921.195890</td>\n",
              "    </tr>\n",
              "    <tr>\n",
              "      <th>std</th>\n",
              "      <td>42.300571</td>\n",
              "      <td>24.284752</td>\n",
              "      <td>9981.264932</td>\n",
              "      <td>1.382997</td>\n",
              "      <td>1.112799</td>\n",
              "      <td>30.202904</td>\n",
              "      <td>20.645407</td>\n",
              "      <td>181.066207</td>\n",
              "      <td>456.098091</td>\n",
              "      <td>161.319273</td>\n",
              "      <td>...</td>\n",
              "      <td>125.338794</td>\n",
              "      <td>66.256028</td>\n",
              "      <td>61.119149</td>\n",
              "      <td>29.317331</td>\n",
              "      <td>55.757415</td>\n",
              "      <td>40.177307</td>\n",
              "      <td>496.123024</td>\n",
              "      <td>2.703626</td>\n",
              "      <td>1.328095</td>\n",
              "      <td>79442.502883</td>\n",
              "    </tr>\n",
              "    <tr>\n",
              "      <th>min</th>\n",
              "      <td>20.000000</td>\n",
              "      <td>21.000000</td>\n",
              "      <td>1300.000000</td>\n",
              "      <td>1.000000</td>\n",
              "      <td>1.000000</td>\n",
              "      <td>1872.000000</td>\n",
              "      <td>1950.000000</td>\n",
              "      <td>0.000000</td>\n",
              "      <td>0.000000</td>\n",
              "      <td>0.000000</td>\n",
              "      <td>...</td>\n",
              "      <td>0.000000</td>\n",
              "      <td>0.000000</td>\n",
              "      <td>0.000000</td>\n",
              "      <td>0.000000</td>\n",
              "      <td>0.000000</td>\n",
              "      <td>0.000000</td>\n",
              "      <td>0.000000</td>\n",
              "      <td>1.000000</td>\n",
              "      <td>2006.000000</td>\n",
              "      <td>34900.000000</td>\n",
              "    </tr>\n",
              "    <tr>\n",
              "      <th>25%</th>\n",
              "      <td>20.000000</td>\n",
              "      <td>59.000000</td>\n",
              "      <td>7553.500000</td>\n",
              "      <td>5.000000</td>\n",
              "      <td>5.000000</td>\n",
              "      <td>1954.000000</td>\n",
              "      <td>1967.000000</td>\n",
              "      <td>0.000000</td>\n",
              "      <td>0.000000</td>\n",
              "      <td>0.000000</td>\n",
              "      <td>...</td>\n",
              "      <td>0.000000</td>\n",
              "      <td>0.000000</td>\n",
              "      <td>0.000000</td>\n",
              "      <td>0.000000</td>\n",
              "      <td>0.000000</td>\n",
              "      <td>0.000000</td>\n",
              "      <td>0.000000</td>\n",
              "      <td>5.000000</td>\n",
              "      <td>2007.000000</td>\n",
              "      <td>129975.000000</td>\n",
              "    </tr>\n",
              "    <tr>\n",
              "      <th>50%</th>\n",
              "      <td>50.000000</td>\n",
              "      <td>69.000000</td>\n",
              "      <td>9478.500000</td>\n",
              "      <td>6.000000</td>\n",
              "      <td>5.000000</td>\n",
              "      <td>1973.000000</td>\n",
              "      <td>1994.000000</td>\n",
              "      <td>0.000000</td>\n",
              "      <td>383.500000</td>\n",
              "      <td>0.000000</td>\n",
              "      <td>...</td>\n",
              "      <td>0.000000</td>\n",
              "      <td>25.000000</td>\n",
              "      <td>0.000000</td>\n",
              "      <td>0.000000</td>\n",
              "      <td>0.000000</td>\n",
              "      <td>0.000000</td>\n",
              "      <td>0.000000</td>\n",
              "      <td>6.000000</td>\n",
              "      <td>2008.000000</td>\n",
              "      <td>163000.000000</td>\n",
              "    </tr>\n",
              "    <tr>\n",
              "      <th>75%</th>\n",
              "      <td>70.000000</td>\n",
              "      <td>80.000000</td>\n",
              "      <td>11601.500000</td>\n",
              "      <td>7.000000</td>\n",
              "      <td>6.000000</td>\n",
              "      <td>2000.000000</td>\n",
              "      <td>2004.000000</td>\n",
              "      <td>166.000000</td>\n",
              "      <td>712.250000</td>\n",
              "      <td>0.000000</td>\n",
              "      <td>...</td>\n",
              "      <td>168.000000</td>\n",
              "      <td>68.000000</td>\n",
              "      <td>0.000000</td>\n",
              "      <td>0.000000</td>\n",
              "      <td>0.000000</td>\n",
              "      <td>0.000000</td>\n",
              "      <td>0.000000</td>\n",
              "      <td>8.000000</td>\n",
              "      <td>2009.000000</td>\n",
              "      <td>214000.000000</td>\n",
              "    </tr>\n",
              "    <tr>\n",
              "      <th>max</th>\n",
              "      <td>190.000000</td>\n",
              "      <td>313.000000</td>\n",
              "      <td>215245.000000</td>\n",
              "      <td>10.000000</td>\n",
              "      <td>9.000000</td>\n",
              "      <td>2010.000000</td>\n",
              "      <td>2010.000000</td>\n",
              "      <td>1600.000000</td>\n",
              "      <td>5644.000000</td>\n",
              "      <td>1474.000000</td>\n",
              "      <td>...</td>\n",
              "      <td>857.000000</td>\n",
              "      <td>547.000000</td>\n",
              "      <td>552.000000</td>\n",
              "      <td>508.000000</td>\n",
              "      <td>480.000000</td>\n",
              "      <td>738.000000</td>\n",
              "      <td>15500.000000</td>\n",
              "      <td>12.000000</td>\n",
              "      <td>2010.000000</td>\n",
              "      <td>755000.000000</td>\n",
              "    </tr>\n",
              "  </tbody>\n",
              "</table>\n",
              "<p>8 rows × 37 columns</p>\n",
              "</div>\n",
              "      <button class=\"colab-df-convert\" onclick=\"convertToInteractive('df-e4e9405c-6c9c-42fd-a16a-bb12ae556ced')\"\n",
              "              title=\"Convert this dataframe to an interactive table.\"\n",
              "              style=\"display:none;\">\n",
              "        \n",
              "  <svg xmlns=\"http://www.w3.org/2000/svg\" height=\"24px\"viewBox=\"0 0 24 24\"\n",
              "       width=\"24px\">\n",
              "    <path d=\"M0 0h24v24H0V0z\" fill=\"none\"/>\n",
              "    <path d=\"M18.56 5.44l.94 2.06.94-2.06 2.06-.94-2.06-.94-.94-2.06-.94 2.06-2.06.94zm-11 1L8.5 8.5l.94-2.06 2.06-.94-2.06-.94L8.5 2.5l-.94 2.06-2.06.94zm10 10l.94 2.06.94-2.06 2.06-.94-2.06-.94-.94-2.06-.94 2.06-2.06.94z\"/><path d=\"M17.41 7.96l-1.37-1.37c-.4-.4-.92-.59-1.43-.59-.52 0-1.04.2-1.43.59L10.3 9.45l-7.72 7.72c-.78.78-.78 2.05 0 2.83L4 21.41c.39.39.9.59 1.41.59.51 0 1.02-.2 1.41-.59l7.78-7.78 2.81-2.81c.8-.78.8-2.07 0-2.86zM5.41 20L4 18.59l7.72-7.72 1.47 1.35L5.41 20z\"/>\n",
              "  </svg>\n",
              "      </button>\n",
              "      \n",
              "  <style>\n",
              "    .colab-df-container {\n",
              "      display:flex;\n",
              "      flex-wrap:wrap;\n",
              "      gap: 12px;\n",
              "    }\n",
              "\n",
              "    .colab-df-convert {\n",
              "      background-color: #E8F0FE;\n",
              "      border: none;\n",
              "      border-radius: 50%;\n",
              "      cursor: pointer;\n",
              "      display: none;\n",
              "      fill: #1967D2;\n",
              "      height: 32px;\n",
              "      padding: 0 0 0 0;\n",
              "      width: 32px;\n",
              "    }\n",
              "\n",
              "    .colab-df-convert:hover {\n",
              "      background-color: #E2EBFA;\n",
              "      box-shadow: 0px 1px 2px rgba(60, 64, 67, 0.3), 0px 1px 3px 1px rgba(60, 64, 67, 0.15);\n",
              "      fill: #174EA6;\n",
              "    }\n",
              "\n",
              "    [theme=dark] .colab-df-convert {\n",
              "      background-color: #3B4455;\n",
              "      fill: #D2E3FC;\n",
              "    }\n",
              "\n",
              "    [theme=dark] .colab-df-convert:hover {\n",
              "      background-color: #434B5C;\n",
              "      box-shadow: 0px 1px 3px 1px rgba(0, 0, 0, 0.15);\n",
              "      filter: drop-shadow(0px 1px 2px rgba(0, 0, 0, 0.3));\n",
              "      fill: #FFFFFF;\n",
              "    }\n",
              "  </style>\n",
              "\n",
              "      <script>\n",
              "        const buttonEl =\n",
              "          document.querySelector('#df-e4e9405c-6c9c-42fd-a16a-bb12ae556ced button.colab-df-convert');\n",
              "        buttonEl.style.display =\n",
              "          google.colab.kernel.accessAllowed ? 'block' : 'none';\n",
              "\n",
              "        async function convertToInteractive(key) {\n",
              "          const element = document.querySelector('#df-e4e9405c-6c9c-42fd-a16a-bb12ae556ced');\n",
              "          const dataTable =\n",
              "            await google.colab.kernel.invokeFunction('convertToInteractive',\n",
              "                                                     [key], {});\n",
              "          if (!dataTable) return;\n",
              "\n",
              "          const docLinkHtml = 'Like what you see? Visit the ' +\n",
              "            '<a target=\"_blank\" href=https://colab.research.google.com/notebooks/data_table.ipynb>data table notebook</a>'\n",
              "            + ' to learn more about interactive tables.';\n",
              "          element.innerHTML = '';\n",
              "          dataTable['output_type'] = 'display_data';\n",
              "          await google.colab.output.renderOutput(dataTable, element);\n",
              "          const docLink = document.createElement('div');\n",
              "          docLink.innerHTML = docLinkHtml;\n",
              "          element.appendChild(docLink);\n",
              "        }\n",
              "      </script>\n",
              "    </div>\n",
              "  </div>\n",
              "  "
            ]
          },
          "metadata": {},
          "execution_count": 309
        }
      ]
    },
    {
      "cell_type": "code",
      "source": [
        "raw_df_train.select_dtypes(include=['object']).columns"
      ],
      "metadata": {
        "colab": {
          "base_uri": "https://localhost:8080/"
        },
        "id": "T7aNFIXf4gWT",
        "outputId": "30a492d9-1da1-4791-ee25-5cd8e316c002"
      },
      "execution_count": 310,
      "outputs": [
        {
          "output_type": "execute_result",
          "data": {
            "text/plain": [
              "Index(['MSZoning', 'Street', 'Alley', 'LotShape', 'LandContour', 'Utilities',\n",
              "       'LotConfig', 'LandSlope', 'Neighborhood', 'Condition1', 'Condition2',\n",
              "       'BldgType', 'HouseStyle', 'RoofStyle', 'RoofMatl', 'Exterior1st',\n",
              "       'Exterior2nd', 'MasVnrType', 'ExterQual', 'ExterCond', 'Foundation',\n",
              "       'BsmtQual', 'BsmtCond', 'BsmtExposure', 'BsmtFinType1', 'BsmtFinType2',\n",
              "       'Heating', 'HeatingQC', 'CentralAir', 'Electrical', 'KitchenQual',\n",
              "       'Functional', 'FireplaceQu', 'GarageType', 'GarageFinish', 'GarageQual',\n",
              "       'GarageCond', 'PavedDrive', 'PoolQC', 'Fence', 'MiscFeature',\n",
              "       'SaleType', 'SaleCondition'],\n",
              "      dtype='object')"
            ]
          },
          "metadata": {},
          "execution_count": 310
        }
      ]
    },
    {
      "cell_type": "code",
      "source": [
        "raw_df_train.select_dtypes(include=['number']).columns"
      ],
      "metadata": {
        "colab": {
          "base_uri": "https://localhost:8080/"
        },
        "id": "OiHnBq-cADwL",
        "outputId": "d9b4e38f-5b8c-4910-d89c-45211e708a4a"
      },
      "execution_count": 311,
      "outputs": [
        {
          "output_type": "execute_result",
          "data": {
            "text/plain": [
              "Index(['MSSubClass', 'LotFrontage', 'LotArea', 'OverallQual', 'OverallCond',\n",
              "       'YearBuilt', 'YearRemodAdd', 'MasVnrArea', 'BsmtFinSF1', 'BsmtFinSF2',\n",
              "       'BsmtUnfSF', 'TotalBsmtSF', '1stFlrSF', '2ndFlrSF', 'LowQualFinSF',\n",
              "       'GrLivArea', 'BsmtFullBath', 'BsmtHalfBath', 'FullBath', 'HalfBath',\n",
              "       'BedroomAbvGr', 'KitchenAbvGr', 'TotRmsAbvGrd', 'Fireplaces',\n",
              "       'GarageYrBlt', 'GarageCars', 'GarageArea', 'WoodDeckSF', 'OpenPorchSF',\n",
              "       'EnclosedPorch', '3SsnPorch', 'ScreenPorch', 'PoolArea', 'MiscVal',\n",
              "       'MoSold', 'YrSold', 'SalePrice'],\n",
              "      dtype='object')"
            ]
          },
          "metadata": {},
          "execution_count": 311
        }
      ]
    },
    {
      "cell_type": "markdown",
      "source": [
        "Creating a function to convert objects and numericals into faster dtypes"
      ],
      "metadata": {
        "id": "201rjYv4IKMC"
      }
    },
    {
      "cell_type": "code",
      "source": [
        "def improve_cats(dataframe) -> pd.DataFrame:\n",
        "  df = dataframe.copy()\n",
        "  for col in df.columns:\n",
        "    if df[col].dtype == 'int64':\n",
        "      df[col] = df[col].astype('int32')\n",
        "    elif df[col].dtype == 'float64':\n",
        "      df[col] = df[col].astype('float32')\n",
        "    elif df[col].dtype == 'object':\n",
        "      df[col] = df[col].astype('category')\n",
        "    else:\n",
        "      print('Unknown data type')\n",
        "      return\n",
        "  return df"
      ],
      "metadata": {
        "id": "JhDEnaM0A4AF"
      },
      "execution_count": 312,
      "outputs": []
    },
    {
      "cell_type": "code",
      "source": [
        "df = improve_cats(raw_df_train) #pd.concat([df_train_1, df_test_1])\n",
        "df_test = improve_cats(raw_df_test)"
      ],
      "metadata": {
        "id": "RtrbLyHCEB6N"
      },
      "execution_count": 313,
      "outputs": []
    },
    {
      "cell_type": "code",
      "source": [
        "df.columns"
      ],
      "metadata": {
        "colab": {
          "base_uri": "https://localhost:8080/"
        },
        "id": "tExHkTTVFVX3",
        "outputId": "6924afd7-c452-44d9-b151-1e8f43e75222"
      },
      "execution_count": 314,
      "outputs": [
        {
          "output_type": "execute_result",
          "data": {
            "text/plain": [
              "Index(['MSSubClass', 'MSZoning', 'LotFrontage', 'LotArea', 'Street', 'Alley',\n",
              "       'LotShape', 'LandContour', 'Utilities', 'LotConfig', 'LandSlope',\n",
              "       'Neighborhood', 'Condition1', 'Condition2', 'BldgType', 'HouseStyle',\n",
              "       'OverallQual', 'OverallCond', 'YearBuilt', 'YearRemodAdd', 'RoofStyle',\n",
              "       'RoofMatl', 'Exterior1st', 'Exterior2nd', 'MasVnrType', 'MasVnrArea',\n",
              "       'ExterQual', 'ExterCond', 'Foundation', 'BsmtQual', 'BsmtCond',\n",
              "       'BsmtExposure', 'BsmtFinType1', 'BsmtFinSF1', 'BsmtFinType2',\n",
              "       'BsmtFinSF2', 'BsmtUnfSF', 'TotalBsmtSF', 'Heating', 'HeatingQC',\n",
              "       'CentralAir', 'Electrical', '1stFlrSF', '2ndFlrSF', 'LowQualFinSF',\n",
              "       'GrLivArea', 'BsmtFullBath', 'BsmtHalfBath', 'FullBath', 'HalfBath',\n",
              "       'BedroomAbvGr', 'KitchenAbvGr', 'KitchenQual', 'TotRmsAbvGrd',\n",
              "       'Functional', 'Fireplaces', 'FireplaceQu', 'GarageType', 'GarageYrBlt',\n",
              "       'GarageFinish', 'GarageCars', 'GarageArea', 'GarageQual', 'GarageCond',\n",
              "       'PavedDrive', 'WoodDeckSF', 'OpenPorchSF', 'EnclosedPorch', '3SsnPorch',\n",
              "       'ScreenPorch', 'PoolArea', 'PoolQC', 'Fence', 'MiscFeature', 'MiscVal',\n",
              "       'MoSold', 'YrSold', 'SaleType', 'SaleCondition', 'SalePrice'],\n",
              "      dtype='object')"
            ]
          },
          "metadata": {},
          "execution_count": 314
        }
      ]
    },
    {
      "cell_type": "markdown",
      "source": [
        "# Lets take a look at NaNs, zeros, None, Null, np.nan"
      ],
      "metadata": {
        "id": "if-9FYQ7Kmm1"
      }
    },
    {
      "cell_type": "code",
      "source": [
        "for col in df.columns:\n",
        "  print(f'{col}: {df[col].isna().sum()}')"
      ],
      "metadata": {
        "colab": {
          "base_uri": "https://localhost:8080/"
        },
        "id": "oy2l8Rk6P5C4",
        "outputId": "9ce35d24-c98a-447a-8dad-fdb1efbac210"
      },
      "execution_count": 315,
      "outputs": [
        {
          "output_type": "stream",
          "name": "stdout",
          "text": [
            "MSSubClass: 0\n",
            "MSZoning: 0\n",
            "LotFrontage: 259\n",
            "LotArea: 0\n",
            "Street: 0\n",
            "Alley: 1369\n",
            "LotShape: 0\n",
            "LandContour: 0\n",
            "Utilities: 0\n",
            "LotConfig: 0\n",
            "LandSlope: 0\n",
            "Neighborhood: 0\n",
            "Condition1: 0\n",
            "Condition2: 0\n",
            "BldgType: 0\n",
            "HouseStyle: 0\n",
            "OverallQual: 0\n",
            "OverallCond: 0\n",
            "YearBuilt: 0\n",
            "YearRemodAdd: 0\n",
            "RoofStyle: 0\n",
            "RoofMatl: 0\n",
            "Exterior1st: 0\n",
            "Exterior2nd: 0\n",
            "MasVnrType: 8\n",
            "MasVnrArea: 8\n",
            "ExterQual: 0\n",
            "ExterCond: 0\n",
            "Foundation: 0\n",
            "BsmtQual: 37\n",
            "BsmtCond: 37\n",
            "BsmtExposure: 38\n",
            "BsmtFinType1: 37\n",
            "BsmtFinSF1: 0\n",
            "BsmtFinType2: 38\n",
            "BsmtFinSF2: 0\n",
            "BsmtUnfSF: 0\n",
            "TotalBsmtSF: 0\n",
            "Heating: 0\n",
            "HeatingQC: 0\n",
            "CentralAir: 0\n",
            "Electrical: 1\n",
            "1stFlrSF: 0\n",
            "2ndFlrSF: 0\n",
            "LowQualFinSF: 0\n",
            "GrLivArea: 0\n",
            "BsmtFullBath: 0\n",
            "BsmtHalfBath: 0\n",
            "FullBath: 0\n",
            "HalfBath: 0\n",
            "BedroomAbvGr: 0\n",
            "KitchenAbvGr: 0\n",
            "KitchenQual: 0\n",
            "TotRmsAbvGrd: 0\n",
            "Functional: 0\n",
            "Fireplaces: 0\n",
            "FireplaceQu: 690\n",
            "GarageType: 81\n",
            "GarageYrBlt: 81\n",
            "GarageFinish: 81\n",
            "GarageCars: 0\n",
            "GarageArea: 0\n",
            "GarageQual: 81\n",
            "GarageCond: 81\n",
            "PavedDrive: 0\n",
            "WoodDeckSF: 0\n",
            "OpenPorchSF: 0\n",
            "EnclosedPorch: 0\n",
            "3SsnPorch: 0\n",
            "ScreenPorch: 0\n",
            "PoolArea: 0\n",
            "PoolQC: 1453\n",
            "Fence: 1179\n",
            "MiscFeature: 1406\n",
            "MiscVal: 0\n",
            "MoSold: 0\n",
            "YrSold: 0\n",
            "SaleType: 0\n",
            "SaleCondition: 0\n",
            "SalePrice: 0\n"
          ]
        }
      ]
    },
    {
      "cell_type": "code",
      "source": [
        "def plot_nas(df):\n",
        "  plt.figure(figsize = (12,8))\n",
        "  nulls = df.isnull().sum()\n",
        "  nulls = nulls[nulls > 0]\n",
        "  nulls.sort_values(inplace=True)\n",
        "  nulls.plot.barh()\n",
        "  plt.show()  "
      ],
      "metadata": {
        "id": "d30lKqHhFR9k"
      },
      "execution_count": 316,
      "outputs": []
    },
    {
      "cell_type": "code",
      "source": [
        "def get_nan_cols(df):\n",
        "  mt = []\n",
        "  for col in df.columns:\n",
        "    nans = df[col].isna().sum()\n",
        "    if nans > 0:\n",
        "      print(f\"{col}:\\n{nans}/{df[col].notna().sum()} = {int(nans/1460*100)}%\\n\")\n",
        "      mt.append(col)"
      ],
      "metadata": {
        "id": "22QganwQIZNv"
      },
      "execution_count": 317,
      "outputs": []
    },
    {
      "cell_type": "code",
      "source": [
        "def get_cats(df, col):\n",
        "  cats = df[col].value_counts()\n",
        "  print(cats)\n",
        "  print('NaNs', df[col].isna().sum())"
      ],
      "metadata": {
        "id": "0G70SwmNbqa8"
      },
      "execution_count": 318,
      "outputs": []
    },
    {
      "cell_type": "markdown",
      "source": [
        "# Train dataset NaNs"
      ],
      "metadata": {
        "id": "QpMP2GUzdH4w"
      }
    },
    {
      "cell_type": "code",
      "source": [
        "plot_nas(df)"
      ],
      "metadata": {
        "colab": {
          "base_uri": "https://localhost:8080/",
          "height": 676
        },
        "id": "P_uNzXMXFYZj",
        "outputId": "2761f1cc-9009-4136-fd45-54a3ec661126"
      },
      "execution_count": 319,
      "outputs": [
        {
          "output_type": "display_data",
          "data": {
            "text/plain": [
              "<Figure size 1200x800 with 1 Axes>"
            ],
            "image/png": "[encoded data removed]"
          },
          "metadata": {}
        }
      ]
    },
    {
      "cell_type": "code",
      "source": [
        "train_nan_cols = get_nan_cols(df)"
      ],
      "metadata": {
        "colab": {
          "base_uri": "https://localhost:8080/"
        },
        "id": "2YqoSnYKcy4f",
        "outputId": "9a2cb8b1-7ddf-49ce-f0f2-bbeaa7418102"
      },
      "execution_count": 320,
      "outputs": [
        {
          "output_type": "stream",
          "name": "stdout",
          "text": [
            "LotFrontage:\n",
            "259/1201 = 17%\n",
            "\n",
            "Alley:\n",
            "1369/91 = 93%\n",
            "\n",
            "MasVnrType:\n",
            "8/1452 = 0%\n",
            "\n",
            "MasVnrArea:\n",
            "8/1452 = 0%\n",
            "\n",
            "BsmtQual:\n",
            "37/1423 = 2%\n",
            "\n",
            "BsmtCond:\n",
            "37/1423 = 2%\n",
            "\n",
            "BsmtExposure:\n",
            "38/1422 = 2%\n",
            "\n",
            "BsmtFinType1:\n",
            "37/1423 = 2%\n",
            "\n",
            "BsmtFinType2:\n",
            "38/1422 = 2%\n",
            "\n",
            "Electrical:\n",
            "1/1459 = 0%\n",
            "\n",
            "FireplaceQu:\n",
            "690/770 = 47%\n",
            "\n",
            "GarageType:\n",
            "81/1379 = 5%\n",
            "\n",
            "GarageYrBlt:\n",
            "81/1379 = 5%\n",
            "\n",
            "GarageFinish:\n",
            "81/1379 = 5%\n",
            "\n",
            "GarageQual:\n",
            "81/1379 = 5%\n",
            "\n",
            "GarageCond:\n",
            "81/1379 = 5%\n",
            "\n",
            "PoolQC:\n",
            "1453/7 = 99%\n",
            "\n",
            "Fence:\n",
            "1179/281 = 80%\n",
            "\n",
            "MiscFeature:\n",
            "1406/54 = 96%\n",
            "\n"
          ]
        }
      ]
    },
    {
      "cell_type": "markdown",
      "source": [
        "*Italic categories mean they are not in ***test*** dataset*"
      ],
      "metadata": {
        "id": "8zxUU5JVfkD4"
      }
    },
    {
      "cell_type": "markdown",
      "source": [
        "##The following cols have more NaNs than values\n",
        "\n",
        "\n",
        "**Alley** - Grvl (50), Pave (41), NaN (1369) - better substitute NaNs with \"**MISSING**\" or **drop col**\n",
        "\n",
        "**FireplaceQu**- Gd (380), TA (313), Fa (33), Ex (24), Po (20) Nan (690) - fill with **MISSING**\n",
        "\n",
        "**Fence** - MnPrv (157), GdPrv (59), GdWo (54), MnWw (11), NaN (1179) - **Choose** strategy ??? \n",
        "\n",
        "**PoolQC** - Gd (3), Ex (2), Fa(2) NaN (1453) - **drop col** category ?\n",
        "\n",
        "**MiscFeature** - Shed (49), Gar2 (2), Othr (2) **TenC** (1), NaN (1406) - **drop col** category ?\n"
      ],
      "metadata": {
        "id": "kr31KO1ATvU6"
      }
    },
    {
      "cell_type": "markdown",
      "source": [
        "## The rest of the parameters\n",
        "\n",
        "**LotFrontage** has 17% NaNs. is numeric - strategy ???\n",
        "\n",
        "**Garage** 81 vals: GarageCond, GarageFinish, GarageYrBlt all got NaNs at the **same** **indexes**.  \n",
        "Possible collinearity of notnull but need to explore more. **GarageYrBlt** is numeric. Cond and Finish - category.\n",
        "**GarageQual** has **Ex** cat that is not in test dataset. possibly drop\n",
        "\n",
        "**Same** with **Bsmt**: Cond,Exposure, Qual, FinType1, FinType2 - fill with **MISSING**. all values are of category dtype\n",
        "\n",
        "**Same** with **MasVnrArea** & **MasVnrType** - fill values?? Area - numeric, Type - category\n",
        "\n",
        "**Electrical** - one nan categorical value. Convert to something else?\n"
      ],
      "metadata": {
        "id": "RRjw5JO8W8jo"
      }
    },
    {
      "cell_type": "code",
      "source": [
        "df[~df['PoolQC'].isna()]"
      ],
      "metadata": {
        "colab": {
          "base_uri": "https://localhost:8080/",
          "height": 393
        },
        "id": "NVaw5Npq3r5l",
        "outputId": "e96a26a0-0c1c-426a-f81d-d231d77ed426"
      },
      "execution_count": 331,
      "outputs": [
        {
          "output_type": "execute_result",
          "data": {
            "text/plain": [
              "      MSSubClass MSZoning  LotFrontage  LotArea Street Alley LotShape  \\\n",
              "Id                                                                      \n",
              "198           75       RL        174.0    25419   Pave   NaN      Reg   \n",
              "811           20       RL         78.0    10140   Pave   NaN      Reg   \n",
              "1171          80       RL         76.0     9880   Pave   NaN      Reg   \n",
              "1183          60       RL        160.0    15623   Pave   NaN      IR1   \n",
              "1299          60       RL        313.0    63887   Pave   NaN      IR3   \n",
              "1387          60       RL         80.0    16692   Pave   NaN      IR1   \n",
              "1424          80       RL          NaN    19690   Pave   NaN      IR1   \n",
              "\n",
              "     LandContour Utilities LotConfig  ... PoolArea PoolQC  Fence MiscFeature  \\\n",
              "Id                                    ...                                      \n",
              "198          Lvl    AllPub    Corner  ...      512     Ex  GdPrv         NaN   \n",
              "811          Lvl    AllPub    Inside  ...      648     Fa  GdPrv         NaN   \n",
              "1171         Lvl    AllPub    Inside  ...      576     Gd  GdPrv         NaN   \n",
              "1183         Lvl    AllPub    Corner  ...      555     Ex  MnPrv         NaN   \n",
              "1299         Bnk    AllPub    Corner  ...      480     Gd    NaN         NaN   \n",
              "1387         Lvl    AllPub    Inside  ...      519     Fa  MnPrv        TenC   \n",
              "1424         Lvl    AllPub   CulDSac  ...      738     Gd  GdPrv         NaN   \n",
              "\n",
              "     MiscVal MoSold  YrSold  SaleType  SaleCondition  SalePrice  \n",
              "Id                                                               \n",
              "198        0      3    2006        WD        Abnorml     235000  \n",
              "811        0      1    2006        WD         Normal     181000  \n",
              "1171       0      7    2008        WD         Normal     171000  \n",
              "1183       0      7    2007        WD        Abnorml     745000  \n",
              "1299       0      1    2008       New        Partial     160000  \n",
              "1387    2000      7    2006        WD         Normal     250000  \n",
              "1424       0      8    2006        WD         Alloca     274970  \n",
              "\n",
              "[7 rows x 80 columns]"
            ],
            "text/html": [
              "\n",
              "  <div id=\"df-18c2cf8c-e9f3-4ad6-aeed-472e415702cc\">\n",
              "    <div class=\"colab-df-container\">\n",
              "      <div>\n",
              "<style scoped>\n",
              "    .dataframe tbody tr th:only-of-type {\n",
              "        vertical-align: middle;\n",
              "    }\n",
              "\n",
              "    .dataframe tbody tr th {\n",
              "        vertical-align: top;\n",
              "    }\n",
              "\n",
              "    .dataframe thead th {\n",
              "        text-align: right;\n",
              "    }\n",
              "</style>\n",
              "<table border=\"1\" class=\"dataframe\">\n",
              "  <thead>\n",
              "    <tr style=\"text-align: right;\">\n",
              "      <th></th>\n",
              "      <th>MSSubClass</th>\n",
              "      <th>MSZoning</th>\n",
              "      <th>LotFrontage</th>\n",
              "      <th>LotArea</th>\n",
              "      <th>Street</th>\n",
              "      <th>Alley</th>\n",
              "      <th>LotShape</th>\n",
              "      <th>LandContour</th>\n",
              "      <th>Utilities</th>\n",
              "      <th>LotConfig</th>\n",
              "      <th>...</th>\n",
              "      <th>PoolArea</th>\n",
              "      <th>PoolQC</th>\n",
              "      <th>Fence</th>\n",
              "      <th>MiscFeature</th>\n",
              "      <th>MiscVal</th>\n",
              "      <th>MoSold</th>\n",
              "      <th>YrSold</th>\n",
              "      <th>SaleType</th>\n",
              "      <th>SaleCondition</th>\n",
              "      <th>SalePrice</th>\n",
              "    </tr>\n",
              "    <tr>\n",
              "      <th>Id</th>\n",
              "      <th></th>\n",
              "      <th></th>\n",
              "      <th></th>\n",
              "      <th></th>\n",
              "      <th></th>\n",
              "      <th></th>\n",
              "      <th></th>\n",
              "      <th></th>\n",
              "      <th></th>\n",
              "      <th></th>\n",
              "      <th></th>\n",
              "      <th></th>\n",
              "      <th></th>\n",
              "      <th></th>\n",
              "      <th></th>\n",
              "      <th></th>\n",
              "      <th></th>\n",
              "      <th></th>\n",
              "      <th></th>\n",
              "      <th></th>\n",
              "      <th></th>\n",
              "    </tr>\n",
              "  </thead>\n",
              "  <tbody>\n",
              "    <tr>\n",
              "      <th>198</th>\n",
              "      <td>75</td>\n",
              "      <td>RL</td>\n",
              "      <td>174.0</td>\n",
              "      <td>25419</td>\n",
              "      <td>Pave</td>\n",
              "      <td>NaN</td>\n",
              "      <td>Reg</td>\n",
              "      <td>Lvl</td>\n",
              "      <td>AllPub</td>\n",
              "      <td>Corner</td>\n",
              "      <td>...</td>\n",
              "      <td>512</td>\n",
              "      <td>Ex</td>\n",
              "      <td>GdPrv</td>\n",
              "      <td>NaN</td>\n",
              "      <td>0</td>\n",
              "      <td>3</td>\n",
              "      <td>2006</td>\n",
              "      <td>WD</td>\n",
              "      <td>Abnorml</td>\n",
              "      <td>235000</td>\n",
              "    </tr>\n",
              "    <tr>\n",
              "      <th>811</th>\n",
              "      <td>20</td>\n",
              "      <td>RL</td>\n",
              "      <td>78.0</td>\n",
              "      <td>10140</td>\n",
              "      <td>Pave</td>\n",
              "      <td>NaN</td>\n",
              "      <td>Reg</td>\n",
              "      <td>Lvl</td>\n",
              "      <td>AllPub</td>\n",
              "      <td>Inside</td>\n",
              "      <td>...</td>\n",
              "      <td>648</td>\n",
              "      <td>Fa</td>\n",
              "      <td>GdPrv</td>\n",
              "      <td>NaN</td>\n",
              "      <td>0</td>\n",
              "      <td>1</td>\n",
              "      <td>2006</td>\n",
              "      <td>WD</td>\n",
              "      <td>Normal</td>\n",
              "      <td>181000</td>\n",
              "    </tr>\n",
              "    <tr>\n",
              "      <th>1171</th>\n",
              "      <td>80</td>\n",
              "      <td>RL</td>\n",
              "      <td>76.0</td>\n",
              "      <td>9880</td>\n",
              "      <td>Pave</td>\n",
              "      <td>NaN</td>\n",
              "      <td>Reg</td>\n",
              "      <td>Lvl</td>\n",
              "      <td>AllPub</td>\n",
              "      <td>Inside</td>\n",
              "      <td>...</td>\n",
              "      <td>576</td>\n",
              "      <td>Gd</td>\n",
              "      <td>GdPrv</td>\n",
              "      <td>NaN</td>\n",
              "      <td>0</td>\n",
              "      <td>7</td>\n",
              "      <td>2008</td>\n",
              "      <td>WD</td>\n",
              "      <td>Normal</td>\n",
              "      <td>171000</td>\n",
              "    </tr>\n",
              "    <tr>\n",
              "      <th>1183</th>\n",
              "      <td>60</td>\n",
              "      <td>RL</td>\n",
              "      <td>160.0</td>\n",
              "      <td>15623</td>\n",
              "      <td>Pave</td>\n",
              "      <td>NaN</td>\n",
              "      <td>IR1</td>\n",
              "      <td>Lvl</td>\n",
              "      <td>AllPub</td>\n",
              "      <td>Corner</td>\n",
              "      <td>...</td>\n",
              "      <td>555</td>\n",
              "      <td>Ex</td>\n",
              "      <td>MnPrv</td>\n",
              "      <td>NaN</td>\n",
              "      <td>0</td>\n",
              "      <td>7</td>\n",
              "      <td>2007</td>\n",
              "      <td>WD</td>\n",
              "      <td>Abnorml</td>\n",
              "      <td>745000</td>\n",
              "    </tr>\n",
              "    <tr>\n",
              "      <th>1299</th>\n",
              "      <td>60</td>\n",
              "      <td>RL</td>\n",
              "      <td>313.0</td>\n",
              "      <td>63887</td>\n",
              "      <td>Pave</td>\n",
              "      <td>NaN</td>\n",
              "      <td>IR3</td>\n",
              "      <td>Bnk</td>\n",
              "      <td>AllPub</td>\n",
              "      <td>Corner</td>\n",
              "      <td>...</td>\n",
              "      <td>480</td>\n",
              "      <td>Gd</td>\n",
              "      <td>NaN</td>\n",
              "      <td>NaN</td>\n",
              "      <td>0</td>\n",
              "      <td>1</td>\n",
              "      <td>2008</td>\n",
              "      <td>New</td>\n",
              "      <td>Partial</td>\n",
              "      <td>160000</td>\n",
              "    </tr>\n",
              "    <tr>\n",
              "      <th>1387</th>\n",
              "      <td>60</td>\n",
              "      <td>RL</td>\n",
              "      <td>80.0</td>\n",
              "      <td>16692</td>\n",
              "      <td>Pave</td>\n",
              "      <td>NaN</td>\n",
              "      <td>IR1</td>\n",
              "      <td>Lvl</td>\n",
              "      <td>AllPub</td>\n",
              "      <td>Inside</td>\n",
              "      <td>...</td>\n",
              "      <td>519</td>\n",
              "      <td>Fa</td>\n",
              "      <td>MnPrv</td>\n",
              "      <td>TenC</td>\n",
              "      <td>2000</td>\n",
              "      <td>7</td>\n",
              "      <td>2006</td>\n",
              "      <td>WD</td>\n",
              "      <td>Normal</td>\n",
              "      <td>250000</td>\n",
              "    </tr>\n",
              "    <tr>\n",
              "      <th>1424</th>\n",
              "      <td>80</td>\n",
              "      <td>RL</td>\n",
              "      <td>NaN</td>\n",
              "      <td>19690</td>\n",
              "      <td>Pave</td>\n",
              "      <td>NaN</td>\n",
              "      <td>IR1</td>\n",
              "      <td>Lvl</td>\n",
              "      <td>AllPub</td>\n",
              "      <td>CulDSac</td>\n",
              "      <td>...</td>\n",
              "      <td>738</td>\n",
              "      <td>Gd</td>\n",
              "      <td>GdPrv</td>\n",
              "      <td>NaN</td>\n",
              "      <td>0</td>\n",
              "      <td>8</td>\n",
              "      <td>2006</td>\n",
              "      <td>WD</td>\n",
              "      <td>Alloca</td>\n",
              "      <td>274970</td>\n",
              "    </tr>\n",
              "  </tbody>\n",
              "</table>\n",
              "<p>7 rows × 80 columns</p>\n",
              "</div>\n",
              "      <button class=\"colab-df-convert\" onclick=\"convertToInteractive('df-18c2cf8c-e9f3-4ad6-aeed-472e415702cc')\"\n",
              "              title=\"Convert this dataframe to an interactive table.\"\n",
              "              style=\"display:none;\">\n",
              "        \n",
              "  <svg xmlns=\"http://www.w3.org/2000/svg\" height=\"24px\"viewBox=\"0 0 24 24\"\n",
              "       width=\"24px\">\n",
              "    <path d=\"M0 0h24v24H0V0z\" fill=\"none\"/>\n",
              "    <path d=\"M18.56 5.44l.94 2.06.94-2.06 2.06-.94-2.06-.94-.94-2.06-.94 2.06-2.06.94zm-11 1L8.5 8.5l.94-2.06 2.06-.94-2.06-.94L8.5 2.5l-.94 2.06-2.06.94zm10 10l.94 2.06.94-2.06 2.06-.94-2.06-.94-.94-2.06-.94 2.06-2.06.94z\"/><path d=\"M17.41 7.96l-1.37-1.37c-.4-.4-.92-.59-1.43-.59-.52 0-1.04.2-1.43.59L10.3 9.45l-7.72 7.72c-.78.78-.78 2.05 0 2.83L4 21.41c.39.39.9.59 1.41.59.51 0 1.02-.2 1.41-.59l7.78-7.78 2.81-2.81c.8-.78.8-2.07 0-2.86zM5.41 20L4 18.59l7.72-7.72 1.47 1.35L5.41 20z\"/>\n",
              "  </svg>\n",
              "      </button>\n",
              "      \n",
              "  <style>\n",
              "    .colab-df-container {\n",
              "      display:flex;\n",
              "      flex-wrap:wrap;\n",
              "      gap: 12px;\n",
              "    }\n",
              "\n",
              "    .colab-df-convert {\n",
              "      background-color: #E8F0FE;\n",
              "      border: none;\n",
              "      border-radius: 50%;\n",
              "      cursor: pointer;\n",
              "      display: none;\n",
              "      fill: #1967D2;\n",
              "      height: 32px;\n",
              "      padding: 0 0 0 0;\n",
              "      width: 32px;\n",
              "    }\n",
              "\n",
              "    .colab-df-convert:hover {\n",
              "      background-color: #E2EBFA;\n",
              "      box-shadow: 0px 1px 2px rgba(60, 64, 67, 0.3), 0px 1px 3px 1px rgba(60, 64, 67, 0.15);\n",
              "      fill: #174EA6;\n",
              "    }\n",
              "\n",
              "    [theme=dark] .colab-df-convert {\n",
              "      background-color: #3B4455;\n",
              "      fill: #D2E3FC;\n",
              "    }\n",
              "\n",
              "    [theme=dark] .colab-df-convert:hover {\n",
              "      background-color: #434B5C;\n",
              "      box-shadow: 0px 1px 3px 1px rgba(0, 0, 0, 0.15);\n",
              "      filter: drop-shadow(0px 1px 2px rgba(0, 0, 0, 0.3));\n",
              "      fill: #FFFFFF;\n",
              "    }\n",
              "  </style>\n",
              "\n",
              "      <script>\n",
              "        const buttonEl =\n",
              "          document.querySelector('#df-18c2cf8c-e9f3-4ad6-aeed-472e415702cc button.colab-df-convert');\n",
              "        buttonEl.style.display =\n",
              "          google.colab.kernel.accessAllowed ? 'block' : 'none';\n",
              "\n",
              "        async function convertToInteractive(key) {\n",
              "          const element = document.querySelector('#df-18c2cf8c-e9f3-4ad6-aeed-472e415702cc');\n",
              "          const dataTable =\n",
              "            await google.colab.kernel.invokeFunction('convertToInteractive',\n",
              "                                                     [key], {});\n",
              "          if (!dataTable) return;\n",
              "\n",
              "          const docLinkHtml = 'Like what you see? Visit the ' +\n",
              "            '<a target=\"_blank\" href=https://colab.research.google.com/notebooks/data_table.ipynb>data table notebook</a>'\n",
              "            + ' to learn more about interactive tables.';\n",
              "          element.innerHTML = '';\n",
              "          dataTable['output_type'] = 'display_data';\n",
              "          await google.colab.output.renderOutput(dataTable, element);\n",
              "          const docLink = document.createElement('div');\n",
              "          docLink.innerHTML = docLinkHtml;\n",
              "          element.appendChild(docLink);\n",
              "        }\n",
              "      </script>\n",
              "    </div>\n",
              "  </div>\n",
              "  "
            ]
          },
          "metadata": {},
          "execution_count": 331
        }
      ]
    },
    {
      "cell_type": "markdown",
      "source": [
        "# Test dataset NaNs"
      ],
      "metadata": {
        "id": "i8-JVoY4ckdC"
      }
    },
    {
      "cell_type": "code",
      "source": [
        "plot_nas(df_test)"
      ],
      "metadata": {
        "colab": {
          "base_uri": "https://localhost:8080/",
          "height": 676
        },
        "id": "254Yi0E4c3Ne",
        "outputId": "d3db2c3c-c601-47c2-b303-c86d9d7bb472"
      },
      "execution_count": 322,
      "outputs": [
        {
          "output_type": "display_data",
          "data": {
            "text/plain": [
              "<Figure size 1200x800 with 1 Axes>"
            ],
            "image/png": "[encoded data removed]"
          },
          "metadata": {}
        }
      ]
    },
    {
      "cell_type": "markdown",
      "source": [
        "*Italic categories mean they are in the ***train*** dataset*"
      ],
      "metadata": {
        "id": "44tp-9BRfsFW"
      }
    },
    {
      "cell_type": "markdown",
      "source": [
        "## The following categories have more than 50% NaNs\n",
        "\n",
        "**PoolQC** - Ex (2), Gd (1), NaN - 1456 \n",
        "\n",
        "**MiscFeature** - Shed (46), Gar2 (3), Othr (2), NaNs - 1408\n",
        "\n",
        "**Alley** - Grvl (70), Pave (37), NaN - 1352\n",
        "\n",
        "**Fence** - MnPrv (172), GdPrv (59), GdWo (58), MnWw (1), NaNs - 1169\n",
        "\n",
        "**FireplaceQu** - Gd (364), TA (279), Fa (41), Po (26), Ex (19), NaNs - 730"
      ],
      "metadata": {
        "id": "2ach6mCLdW9l"
      }
    },
    {
      "cell_type": "markdown",
      "source": [
        "## The rest of the parameters\n",
        "\n",
        "**GarageType** - Attchd (853), Detchd (392), BuiltIn (98), 2 Types (17), Basment (17), Carport (6), NaNs (76) - unlike test, train dataset has no NaNs in this columns\n",
        "\n",
        "**Garage YrBlt, Finish, Cond, Qual** - all have 78 same NaN indexes. Qual has no *Ex* value that is in train data. YrBlt is numeric.\n",
        "\n",
        "**GarageCars** numetic (could be cat) train (0-4), test (0-5 +1NaN) **Drop NaN or median?**\n",
        "\n",
        "**Bsmt** FinType1, FinType2, Qual, Cond, Exposure categories \n",
        "\n",
        "FinSF1, FinSF2, UnfSF, TotalBsmtSF, numeric (all got 1 NaN - same id2121)\n",
        "\n",
        "\n",
        "**BsmtFullBath** (values from 0 to 3 + NaNs) and **BsmtHalfBath**(values from 0 to 2 + NaNs), numeric but could be categories (values from 0 to 3 + NaNs), could set NaN=3 and NaN=4.\n",
        "\n",
        "**MSZoning** - RL(1114), RM (242), FV (74), C (all) (15), RH (10), NaN (4) - fill with **MISSING**\n",
        "\n",
        "**LotFrontage** - numeric. 259 NaNs 110 nuniques\n",
        "\n",
        "**Utilities** - got 2 nans, train has 1 value NoSeWa, all other (1457 and 1459) - AllPub - **Drop column**\n",
        "\n",
        "**Exterior1st**, **Exterior2nd** - all got 1 NaN, and less uniques than in train\n",
        "\n",
        "**MasVnrType** - categorical\n",
        "**MasVnrArea** - numeric\n",
        "\n",
        "**KitchenQual** 1 NaN cat\n",
        "\n",
        "**Functional** 2 NaNs cat\n",
        "\n",
        "**SaleType** 1 NaN cat\n",
        "\n"
      ],
      "metadata": {
        "id": "brsupw88gv86"
      }
    },
    {
      "cell_type": "markdown",
      "source": [
        "**WARNING**: there are cat values in train datasets that are absent in test and vice versa. (GarageQual \"Ex\" (in train) and GarageCars \"5.0\" (in test)."
      ],
      "metadata": {
        "id": "d7idMb2sbzqd"
      }
    },
    {
      "cell_type": "code",
      "source": [
        "get_cats(df_test, 'GarageCars')"
      ],
      "metadata": {
        "colab": {
          "base_uri": "https://localhost:8080/"
        },
        "id": "k5z1hCMTgUgv",
        "outputId": "9490f175-a19a-4e45-909c-fdafcfa41f94"
      },
      "execution_count": 323,
      "outputs": [
        {
          "output_type": "stream",
          "name": "stdout",
          "text": [
            "2.0    770\n",
            "1.0    407\n",
            "3.0    193\n",
            "0.0     76\n",
            "4.0     11\n",
            "5.0      1\n",
            "Name: GarageCars, dtype: int64\n",
            "NaNs 1\n"
          ]
        }
      ]
    },
    {
      "cell_type": "code",
      "source": [
        "test_nan_cols =get_nan_cols(df_test)"
      ],
      "metadata": {
        "colab": {
          "base_uri": "https://localhost:8080/"
        },
        "id": "82GGF2vuZOL9",
        "outputId": "32c4bafb-be9e-4101-be19-4d1eed6b5f4e"
      },
      "execution_count": 324,
      "outputs": [
        {
          "output_type": "stream",
          "name": "stdout",
          "text": [
            "MSZoning:\n",
            "4/1455 = 0%\n",
            "\n",
            "LotFrontage:\n",
            "227/1232 = 15%\n",
            "\n",
            "Alley:\n",
            "1352/107 = 92%\n",
            "\n",
            "Utilities:\n",
            "2/1457 = 0%\n",
            "\n",
            "Exterior1st:\n",
            "1/1458 = 0%\n",
            "\n",
            "Exterior2nd:\n",
            "1/1458 = 0%\n",
            "\n",
            "MasVnrType:\n",
            "16/1443 = 1%\n",
            "\n",
            "MasVnrArea:\n",
            "15/1444 = 1%\n",
            "\n",
            "BsmtQual:\n",
            "44/1415 = 3%\n",
            "\n",
            "BsmtCond:\n",
            "45/1414 = 3%\n",
            "\n",
            "BsmtExposure:\n",
            "44/1415 = 3%\n",
            "\n",
            "BsmtFinType1:\n",
            "42/1417 = 2%\n",
            "\n",
            "BsmtFinSF1:\n",
            "1/1458 = 0%\n",
            "\n",
            "BsmtFinType2:\n",
            "42/1417 = 2%\n",
            "\n",
            "BsmtFinSF2:\n",
            "1/1458 = 0%\n",
            "\n",
            "BsmtUnfSF:\n",
            "1/1458 = 0%\n",
            "\n",
            "TotalBsmtSF:\n",
            "1/1458 = 0%\n",
            "\n",
            "BsmtFullBath:\n",
            "2/1457 = 0%\n",
            "\n",
            "BsmtHalfBath:\n",
            "2/1457 = 0%\n",
            "\n",
            "KitchenQual:\n",
            "1/1458 = 0%\n",
            "\n",
            "Functional:\n",
            "2/1457 = 0%\n",
            "\n",
            "FireplaceQu:\n",
            "730/729 = 50%\n",
            "\n",
            "GarageType:\n",
            "76/1383 = 5%\n",
            "\n",
            "GarageYrBlt:\n",
            "78/1381 = 5%\n",
            "\n",
            "GarageFinish:\n",
            "78/1381 = 5%\n",
            "\n",
            "GarageCars:\n",
            "1/1458 = 0%\n",
            "\n",
            "GarageArea:\n",
            "1/1458 = 0%\n",
            "\n",
            "GarageQual:\n",
            "78/1381 = 5%\n",
            "\n",
            "GarageCond:\n",
            "78/1381 = 5%\n",
            "\n",
            "PoolQC:\n",
            "1456/3 = 99%\n",
            "\n",
            "Fence:\n",
            "1169/290 = 80%\n",
            "\n",
            "MiscFeature:\n",
            "1408/51 = 96%\n",
            "\n",
            "SaleType:\n",
            "1/1458 = 0%\n",
            "\n"
          ]
        }
      ]
    },
    {
      "cell_type": "code",
      "source": [
        "#df_test_1[df_test_1['BsmtFinSF1'].isna() & df_test_1['BsmtFinSF2'].isna() & df_test_1['BsmtUnfSF'].isna() & df_test_1['TotalBsmtSF'].isna()]"
      ],
      "metadata": {
        "id": "2NbkB1RQlJar"
      },
      "execution_count": 325,
      "outputs": []
    },
    {
      "cell_type": "markdown",
      "source": [
        "Lets take a look at our target y"
      ],
      "metadata": {
        "id": "ruKkVje4LAyq"
      }
    },
    {
      "cell_type": "code",
      "source": [
        "df['SalePrice'].count()"
      ],
      "metadata": {
        "colab": {
          "base_uri": "https://localhost:8080/"
        },
        "id": "WVoLWo9-QIGQ",
        "outputId": "74732484-a91d-448f-ab45-46031a79af34"
      },
      "execution_count": 326,
      "outputs": [
        {
          "output_type": "execute_result",
          "data": {
            "text/plain": [
              "1460"
            ]
          },
          "metadata": {},
          "execution_count": 326
        }
      ]
    },
    {
      "cell_type": "code",
      "source": [
        "plt.figure(figsize=(10, 4))\n",
        "sns.histplot(df['SalePrice'])\n",
        "#displot is very fpefpl\n",
        "sns.displot(df['SalePrice'])"
      ],
      "metadata": {
        "colab": {
          "base_uri": "https://localhost:8080/",
          "height": 894
        },
        "id": "uWbu2FhoLDj2",
        "outputId": "0b70e6ea-eaf9-4f15-b91f-5a15c5ce5e78"
      },
      "execution_count": 327,
      "outputs": [
        {
          "output_type": "execute_result",
          "data": {
            "text/plain": [
              "<seaborn.axisgrid.FacetGrid at 0x7f48347c2820>"
            ]
          },
          "metadata": {},
          "execution_count": 327
        },
        {
          "output_type": "display_data",
          "data": {
            "text/plain": [
              "<Figure size 1000x400 with 1 Axes>"
            ],
            "image/png": "[encoded data removed]"
          },
          "metadata": {}
        },
        {
          "output_type": "display_data",
          "data": {
            "text/plain": [
              "<Figure size 500x500 with 1 Axes>"
            ],
            "image/png": "[encoded data removed]"
          },
          "metadata": {}
        }
      ]
    },
    {
      "cell_type": "code",
      "source": [
        "df[df['SalePrice'] < 500000].shape"
      ],
      "metadata": {
        "colab": {
          "base_uri": "https://localhost:8080/"
        },
        "id": "TV1P602BORZY",
        "outputId": "45d0d3f8-a01b-4738-b953-0c1615def297"
      },
      "execution_count": 328,
      "outputs": [
        {
          "output_type": "execute_result",
          "data": {
            "text/plain": [
              "(1451, 80)"
            ]
          },
          "metadata": {},
          "execution_count": 328
        }
      ]
    },
    {
      "cell_type": "markdown",
      "source": [
        "Looks like outlier. Linear regression is affected, but DecisionTree doesn't care"
      ],
      "metadata": {
        "id": "CVNIDb12sn21"
      }
    },
    {
      "cell_type": "code",
      "source": [
        "plt.figure(figsize = (2,3))\n",
        "sns.boxplot(y=df['SalePrice'])"
      ],
      "metadata": {
        "colab": {
          "base_uri": "https://localhost:8080/",
          "height": 293
        },
        "id": "s9Geycmvs2qa",
        "outputId": "3fb1da5c-8800-438b-b165-8c30102a15c1"
      },
      "execution_count": 329,
      "outputs": [
        {
          "output_type": "execute_result",
          "data": {
            "text/plain": [
              "<Axes: ylabel='SalePrice'>"
            ]
          },
          "metadata": {},
          "execution_count": 329
        },
        {
          "output_type": "display_data",
          "data": {
            "text/plain": [
              "<Figure size 200x300 with 1 Axes>"
            ],
            "image/png": "[encoded data removed]"
          },
          "metadata": {}
        }
      ]
    },
    {
      "cell_type": "markdown",
      "source": [
        "**IF** we need to remove outliers here is a function"
      ],
      "metadata": {
        "id": "nhf74OH4vJk9"
      }
    },
    {
      "cell_type": "code",
      "source": [
        "def remove_iqr_outliers(df, param):\n",
        "  n = df[param].describe()\n",
        "  iqr = 1.5 * (n['75%'] - n['25%'])\n",
        "  d_max = n['50%']+iqr\n",
        "  d_min = n['50%']-iqr\n",
        "  df_iqr = df[(df[param] >= d_min) & (df[param] <= d_max)]\n",
        "  print(df_iqr.shape)\n",
        "  return df_iqr\n",
        "\n",
        "iqr_df = remove_iqr_outliers(df, 'SalePrice')\n",
        "sns.boxplot(y = iqr_df['SalePrice'])"
      ],
      "metadata": {
        "colab": {
          "base_uri": "https://localhost:8080/",
          "height": 449
        },
        "id": "7BgsDg_ctWIR",
        "outputId": "28744e2d-86a1-498b-de9e-7dc30a1337a1"
      },
      "execution_count": 330,
      "outputs": [
        {
          "output_type": "stream",
          "name": "stdout",
          "text": [
            "(1332, 80)\n"
          ]
        },
        {
          "output_type": "execute_result",
          "data": {
            "text/plain": [
              "<Axes: ylabel='SalePrice'>"
            ]
          },
          "metadata": {},
          "execution_count": 330
        },
        {
          "output_type": "display_data",
          "data": {
            "text/plain": [
              "<Figure size 640x480 with 1 Axes>"
            ],
            "image/png": "[encoded data removed]"
          },
          "metadata": {}
        }
      ]
    }
  ]
}