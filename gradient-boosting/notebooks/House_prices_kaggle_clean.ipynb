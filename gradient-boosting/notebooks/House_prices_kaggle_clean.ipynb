{
  "nbformat": 4,
  "nbformat_minor": 0,
  "metadata": {
    "colab": {
      "provenance": [],
      "authorship_tag": "ABX9TyOliatyS40fwwHD+vypcyoi",
      "include_colab_link": true
    },
    "kernelspec": {
      "name": "python3",
      "display_name": "Python 3"
    },
    "language_info": {
      "name": "python"
    }
  },
  "cells": [
    {
      "cell_type": "markdown",
      "metadata": {
        "id": "view-in-github",
        "colab_type": "text"
      },
      "source": [
        "<a href=\"https://colab.research.google.com/github/Dimildizio/DS_course/blob/main/gradient-boosting/notebooks/House_prices_kaggle_clean.ipynb\" target=\"_parent\"><img src=\"https://colab.research.google.com/assets/colab-badge.svg\" alt=\"Open In Colab\"/></a>"
      ]
    },
    {
      "cell_type": "code",
      "source": [
        "#!pip install category_encoders\n",
        "#!pip install shap"
      ],
      "metadata": {
        "id": "rbYEJD9c8jsa"
      },
      "execution_count": 376,
      "outputs": []
    },
    {
      "cell_type": "code",
      "execution_count": 377,
      "metadata": {
        "id": "NalAF5KVnAkc"
      },
      "outputs": [],
      "source": [
        "import numpy as np\n",
        "import pandas as pd\n",
        "import seaborn as sns\n",
        "import shap\n",
        "import timeit\n",
        "\n",
        "from category_encoders import TargetEncoder\n",
        "from google.colab import files\n",
        "from lightgbm import LGBMRegressor\n",
        "from matplotlib import pyplot as plt\n",
        "from sklearn.ensemble import RandomForestRegressor, BaggingRegressor, StackingRegressor\n",
        "from sklearn.inspection import permutation_importance\n",
        "from sklearn.linear_model import LassoLarsCV, LinearRegression, ElasticNet#, SGDRegressor,LogisticRegression, LogisticRegressionCV, \n",
        "from sklearn.model_selection import train_test_split,GridSearchCV#, RandomizedSearchCV, cross_val_score\n",
        "from sklearn.metrics import mean_squared_error, r2_score\n",
        "from sklearn.pipeline import make_pipeline, Pipeline\n",
        "from sklearn.preprocessing import StandardScaler, LabelEncoder, RobustScaler\n",
        "from sklearn.tree import DecisionTreeRegressor\n"
      ]
    },
    {
      "cell_type": "code",
      "source": [
        "pd.set_option('display.max_rows', 100)\n",
        "pd.set_option('max_colwidth', 80)\n",
        "\n",
        "raw_df_train = pd.read_csv('https://raw.githubusercontent.com/Dimildizio/DS_course/main/gradient-boosting/data/train.csv', index_col=0)\n",
        "raw_df_test = pd.read_csv('https://raw.githubusercontent.com/Dimildizio/DS_course/main/gradient-boosting/data/test.csv', index_col=0)"
      ],
      "metadata": {
        "id": "DfG-BTGUnCwK"
      },
      "execution_count": 378,
      "outputs": []
    },
    {
      "cell_type": "markdown",
      "source": [
        "#Work with categories"
      ],
      "metadata": {
        "id": "mEFjDBR9tPZm"
      }
    },
    {
      "cell_type": "code",
      "source": [
        "def is_cat(df, col):\n",
        "  '''checks if a column is of object or category type'''\n",
        "  return df[col].dtype in ['object', 'category']\n",
        "\n",
        "def improve_cats(dataframe) -> pd.DataFrame:\n",
        "  '''turns dtypes 64->32 and object->category'''\n",
        "  df = dataframe.copy()\n",
        "  for col in df.columns:\n",
        "    if df[col].dtype == 'int64':\n",
        "      df[col] = df[col].astype('int32')\n",
        "    elif df[col].dtype == 'float64':\n",
        "      df[col] = df[col].astype('float32')\n",
        "    elif df[col].dtype == 'object':\n",
        "      df[col] = df[col].astype('category')\n",
        "    else:\n",
        "      print('Unknown data type')\n",
        "      return\n",
        "  return df"
      ],
      "metadata": {
        "id": "Y7amMkDnnIM0"
      },
      "execution_count": 379,
      "outputs": []
    },
    {
      "cell_type": "markdown",
      "source": [
        "#Show statistics"
      ],
      "metadata": {
        "id": "FYDBgi1jtefb"
      }
    },
    {
      "cell_type": "code",
      "source": [
        "def adjusted_r2(yt,yp, colnum):\n",
        "  '''computes adjusted r2 score'''\n",
        "  return 1 - (1 - r2_score(yt, yp)) * ((yt.shape[0]-1) / (yt.shape[0] - colnum+(1e-12)))\n",
        "\n",
        "def print_scores(y_train, y_test, y_pred_train, y_pred_test, colnum):\n",
        "  '''outprints adjusted r2 and rmse results on train and validation'''\n",
        "  train_r2 =  adjusted_r2(y_train, y_pred_train, colnum)\n",
        "  test_r2 = adjusted_r2(y_test,y_pred_test, colnum)\n",
        "  train_rmse = np.sqrt(mean_squared_error(np.log(y_pred_train), np.log(y_train)))\n",
        "  test_rmse = np.sqrt(mean_squared_error(np.log(y_pred_test), np.log(y_test)))\n",
        "  text = f'train r2: {train_r2}\\ntrain rmse: {train_rmse}\\n\\ntest r2: {test_r2}\\ntest rmse: {test_rmse}\\n'\n",
        "  print(text)\n",
        "  return text"
      ],
      "metadata": {
        "id": "6TyxvPDhrYVV"
      },
      "execution_count": 380,
      "outputs": []
    },
    {
      "cell_type": "markdown",
      "source": [
        "#Split dataframe to X,y"
      ],
      "metadata": {
        "id": "Mtt5HUcs0Dho"
      }
    },
    {
      "cell_type": "code",
      "source": [
        "def split_data(df, target):\n",
        "  '''splits data'''\n",
        "  X = df.drop(target, axis=1)\n",
        "  y = df[target]\n",
        "  return train_test_split(X, y, test_size=0.3, random_state=42)"
      ],
      "metadata": {
        "id": "xNwAn6fRnXVV"
      },
      "execution_count": 381,
      "outputs": []
    },
    {
      "cell_type": "markdown",
      "source": [
        "#Work with model"
      ],
      "metadata": {
        "id": "KwaDXaLitT8f"
      }
    },
    {
      "cell_type": "code",
      "source": [
        "def train_model(X_train, y_train):\n",
        "  '''subj'''\n",
        "  estimators = [('LinReg',LinearRegression()), ('Lasso',LassoLarsCV(max_iter=15,eps=0.01)), \n",
        "                ('Tree',DecisionTreeRegressor(max_depth=5)), ('LGBR', LGBMRegressor(max_depth = 5, learning_rate = 0.05)),\n",
        "                ('Elastic',ElasticNet(alpha=0.0005,random_state=42)), ]\n",
        "  pipe = make_pipeline(RobustScaler(), StackingRegressor(estimators=estimators, final_estimator = RandomForestRegressor(max_depth=6)))\n",
        "  pipe.fit(X_train, y_train)\n",
        "  return pipe"
      ],
      "metadata": {
        "id": "hTLLd3oLohzm"
      },
      "execution_count": 382,
      "outputs": []
    },
    {
      "cell_type": "code",
      "source": [
        "def split_run_test(df, target = 'SalePrice'):\n",
        "  '''splits data and runs model'''\n",
        "  X_train, X_test, y_train, y_test = split_data(df, target)\n",
        "  model = train_model(X_train, y_train)\n",
        "\n",
        "  y_pred_train = model.predict(X_train)\n",
        "  y_pred_test = model.predict(X_test)\n",
        "  txt = print_scores(y_train, y_test, y_pred_train, y_pred_test, len(X_train.columns))\n",
        "  return model, txt"
      ],
      "metadata": {
        "id": "pvsPPHWZnXv2"
      },
      "execution_count": 383,
      "outputs": []
    },
    {
      "cell_type": "code",
      "source": [
        "def get_permutations(df):\n",
        "  '''Pick best columns'''\n",
        "  X_train, X_test, y_train, y_test = split_data(df, 'SalePrice')\n",
        "  model = train_model(X_train, y_train)\n",
        "  result = permutation_importance(model, X_train, y_train, n_repeats=10, random_state=42)\n",
        "  importance_dict = dict(zip(X_train.columns, result.importances_mean))\n",
        "  sorted_importance = sorted(importance_dict.items(), key=lambda x: x[1], reverse=True)\n",
        "  print(sorted_importance)\n",
        "  #get_shap(X_train, X_test, model)\n",
        "  #grid(X_train, y_train)\n",
        "  return [x[0] for x in sorted_importance]  \n",
        "  \n",
        "'''def get_shap(X_train, X_test, model):\n",
        "  explainer = shap.Explainer(model.predict, X_train)\n",
        "  shap_values = explainer(X_test)\n",
        "  shap.plots.waterfall(shap_values[0])\n",
        "\n",
        "def grid(X_train, y_train):\n",
        "  estimators = [('LinReg',LinearRegression()), \n",
        "                ('Lasso',LassoLarsCV(max_iter=15,eps=0.01)), \n",
        "                ('Tree',DecisionTreeRegressor(max_depth=5)), \n",
        "                ('LGBR', LGBMRegressor(max_depth=5, learning_rate=0.05)),\n",
        "                ('Elastic',ElasticNet(alpha=0.0005,random_state=42))]\n",
        "                \n",
        "  pipe = make_pipeline(RobustScaler(), \n",
        "                      StackingRegressor(estimators=estimators, \n",
        "                                        final_estimator=RandomForestRegressor(max_depth=6)))\n",
        "\n",
        "  param_grid = {\n",
        "      'stackingregressor__final_estimator__n_estimators': [10, 50, 100],\n",
        "      'stackingregressor__final_estimator__max_depth': [3, 5, 7],\n",
        "      'stackingregressor__final_estimator__min_samples_split': [2, 4, 8],\n",
        "      'stackingregressor__Elastic__l1_ratio': [0.1, 0.5, 0.9],      \n",
        "  }\n",
        "\n",
        "  grid = GridSearchCV(pipe, param_grid=param_grid, cv=5)\n",
        "  grid.fit(X_train, y_train)\n",
        "  print('grid best params: ', grid.best_params_)\n",
        "  print('grid best score: ', grid.best_score_)'''"
      ],
      "metadata": {
        "id": "5RQ20Ng-n9of",
        "colab": {
          "base_uri": "https://localhost:8080/",
          "height": 123
        },
        "outputId": "45bd22c5-ff77-4be2-c1e3-d305f2e25ae1"
      },
      "execution_count": 384,
      "outputs": [
        {
          "output_type": "execute_result",
          "data": {
            "text/plain": [
              "\"def get_shap(X_train, X_test, model):\\n  explainer = shap.Explainer(model.predict, X_train)\\n  shap_values = explainer(X_test)\\n  shap.plots.waterfall(shap_values[0])\\n\\ndef grid(X_train, y_train):\\n  estimators = [('LinReg',LinearRegression()), \\n                ('Lasso',LassoLarsCV(max_iter=15,eps=0.01)), \\n                ('Tree',DecisionTreeRegressor(max_depth=5)), \\n                ('LGBR', LGBMRegressor(max_depth=5, learning_rate=0.05)),\\n                ('Elastic',ElasticNet(alpha=0.0005,random_state=42))]\\n                \\n  pipe = make_pipeline(RobustScaler(), \\n                      StackingRegressor(estimators=estimators, \\n                                        final_estimator=RandomForestRegressor(max_depth=6)))\\n\\n  param_grid = {\\n      'stackingregressor__final_estimator__n_estimators': [10, 50, 100],\\n      'stackingregressor__final_estimator__max_depth': [3, 5, 7],\\n      'stackingregressor__final_estimator__min_samples_split': [2, 4, 8],\\n      'stackingregressor__Elastic__l1_ratio': [0.1, 0.5, 0.9],      \\n  }\\n\\n  grid = GridSearchCV(pipe, param_grid=param_grid, cv=5)\\n  grid.fit(X_train, y_train)\\n  print('grid best params: ', grid.best_params_)\\n  print('grid best score: ', grid.best_score_)\""
            ],
            "application/vnd.google.colaboratory.intrinsic+json": {
              "type": "string"
            }
          },
          "metadata": {},
          "execution_count": 384
        }
      ]
    },
    {
      "cell_type": "code",
      "source": [],
      "metadata": {
        "id": "U3O33qDYL-KW"
      },
      "execution_count": 384,
      "outputs": []
    },
    {
      "cell_type": "markdown",
      "source": [
        "#Work with columns"
      ],
      "metadata": {
        "id": "8GQpobcjtntq"
      }
    },
    {
      "cell_type": "code",
      "source": [
        "def create_cols(df):\n",
        "  #create Total SF\n",
        "  df[\"TotalSF\"] = df[\"1stFlrSF\"] + df[\"2ndFlrSF\"] + df[\"TotalBsmtSF\"]+df['LotArea']\n",
        "  #create Porch\n",
        "  df['PorchSF'] = df['OpenPorchSF'] + df['EnclosedPorch'] + df['3SsnPorch'] + df['ScreenPorch']\n",
        "  #Create green area\n",
        "  df[\"OutsideArea\"] = df[\"LotArea\"] - df[\"GrLivArea\"] - df[\"GarageArea\"] \n",
        "  #Create month sold * year\n",
        "  df['MonthSold'] = df['YrSold']*12 + df['MoSold'] #-df['YrSold'].min()\n",
        "  #dates_frames  = ['YearBuilt', 'YearRemodAdd', 'GarageYrBlt', 'YrSold','MoSold']\n",
        "  #Create booleans\n",
        "  df['Has2Floors'] = df['2ndFlrSF'].apply(lambda x: 1 if x>0 else 0)\n",
        "  df['Has1Floors'] = df['1stFlrSF'].apply(lambda x: 1 if x>0 else 0)\n",
        "  df['HasPorch'] = df['PorchSF'].apply(lambda x: 1 if x>0 else 0)\n",
        "  df['Has2Wood'] = df['WoodDeckSF'].apply(lambda x: 1 if x>0 else 0)\n",
        "  df['HasFireplace'] = df['Fireplaces'].apply(lambda x: 1 if x>0 else 0)\n",
        "  #create bath\n",
        "  fullbsmtb = df['BsmtFullBath'].apply(lambda x: x if x > 0 else 0)\n",
        "  halfbsmtb = df['BsmtHalfBath'].apply(lambda x: x*0.5 if x > 0 else 0)\n",
        "  fullb = df['FullBath'].apply(lambda x: x if x > 0 else 0)\n",
        "  halfb = df['HalfBath'].apply(lambda x: x*0.5 if x > 0 else 0)\n",
        "  df['Bath'] = fullbsmtb + halfbsmtb + fullb + halfb\n",
        "  return df\n",
        "\n",
        "def log_cols(df, log_cols):\n",
        "  '''adds 1 to all numeric columns and np.logs handpicked columns'''\n",
        "  for column in [col for col in df.columns if not is_cat(df, col)]:\n",
        "    df[column] = df[column]+1\n",
        "  for col in log_cols:\n",
        "    df[col] = np.log(df[col])\n",
        "  return df\n",
        "\n",
        "def plotme(df, cols):\n",
        "  for col in cols:\n",
        "    if col != 'SalePrice':\n",
        "      sns.scatterplot(y = df['SalePrice'], x = df[col])\n",
        "\n",
        "def categorize_cols(df):\n",
        "  \"\"\"fill NaNs\"\"\"\n",
        "  for col in df.columns:\n",
        "    if df[col].isna().any():\n",
        "      if is_cat(df, col):\n",
        "        df[col] = df[col].cat.add_categories(['MISSING'])\n",
        "        df[col] = df[col].fillna('MISSING')\n",
        "        df[col] = df[col].cat.remove_unused_categories()\n",
        "      else:\n",
        "        if col not in ['GarageArea', 'KitchenAbvGr', 'TotRmsAbvGrd', 'LotArea',\\\n",
        "                       'TotalBsmtSF', 'BedroomAbvGr', 'Fireplaces', 'LotFrontage', \\\n",
        "                       'WoodDeckSF', 'MasVnrArea', '2ndFlrSF','GarageArea', 'WoodDeckSF',\\\n",
        "                       'BsmtFinSF1', 'BsmtFinSF2','BsmtUnfSF', 'LowQualFinSF', '1stFlrSF']:\n",
        "          df[col] = df[col].fillna(df[col].mean())\n",
        "        else:\n",
        "          df[col] = df[col].fillna(0)\n",
        "  return df\n",
        "\n",
        "\"\"\"def encode_cols(df, cols):\n",
        "  '''Use Label encoder'''\n",
        "  for col in cols:\n",
        "    encoder = LabelEncoder()\n",
        "    df[col+'_e'] = encoder.fit_transform(df[col])\n",
        "  return df\"\"\"\n",
        "\n",
        "def drop_categories(df):\n",
        "  '''drop cat values'''\n",
        "  cats = [col for col in df.columns if is_cat(df, col)]\n",
        "  return df.drop(columns = cats)\n",
        "\n",
        "def iqr(df, columns, mult=3):\n",
        "  '''cut outliers'''\n",
        "  df = df.copy()\n",
        "  for col in columns:\n",
        "    d=df[col].describe()\n",
        "    val =(d['50%'] + (d['75%']-d['25%'])) * mult\n",
        "    df = df[df[col] <= val]\n",
        "    \n",
        "  return df\n",
        "\n",
        "def work_df(df, to_log = ['LotFrontage', 'LotArea', 'GrLivArea', 'GarageArea'], target =[], to_drop = []):\n",
        "  df = df.copy()\n",
        "  df = improve_cats(df)\n",
        "  df = create_cols(df)\n",
        "  df = df.drop(columns = to_drop)\n",
        "  df = categorize_cols(df)\n",
        "\n",
        "  df['OutsideArea'] = df['OutsideArea'].apply(lambda x: x if x>0 else 1)\n",
        "\n",
        "  df = log_cols(df, target+to_log)\n",
        "  return df"
      ],
      "metadata": {
        "id": "eW_Mbnfqttti"
      },
      "execution_count": 385,
      "outputs": []
    },
    {
      "cell_type": "markdown",
      "source": [
        "#Creating variable"
      ],
      "metadata": {
        "id": "ghzYg92OyjZo"
      }
    },
    {
      "cell_type": "code",
      "source": [
        "cols_to_log = ['LotFrontage', 'LotArea', 'GrLivArea','TotalSF','OutsideArea', \n",
        "               'MonthSold', 'TotalBsmtSF', 'YrSold', 'YearBuilt','YearRemodAdd', \n",
        "               'GarageYrBlt', '2ndFlrSF','GarageArea', 'WoodDeckSF', 'BsmtFinSF1', \n",
        "               'BsmtFinSF2','BsmtUnfSF', 'LowQualFinSF', '1stFlrSF']\n",
        "\n",
        "cols_to_iqr = ['SalePrice','LotFrontage', 'LotArea', 'MasVnrArea', 'TotalBsmtSF', \n",
        "               'GrLivArea', 'BedroomAbvGr', 'KitchenAbvGr', 'Fireplaces', \n",
        "               'GarageArea', 'PorchSF', 'OutsideArea', 'TotalSF', '2ndFlrSF', '1stFlrSF']\n",
        "\n",
        "cols_to_drop = ['OpenPorchSF','EnclosedPorch', '3SsnPorch', 'ScreenPorch', \n",
        "                'PoolArea', 'MiscVal', 'GarageCars', 'BsmtFullBath', 'BsmtHalfBath', \n",
        "                'FullBath', 'HalfBath']"
      ],
      "metadata": {
        "id": "DKJ7DCGf1Qv9"
      },
      "execution_count": 386,
      "outputs": []
    },
    {
      "cell_type": "code",
      "source": [
        "df = work_df(raw_df_train, to_log = cols_to_log, to_drop = cols_to_drop, target = ['SalePrice'])                                                             \n",
        "df_test = work_df(raw_df_test, to_log = cols_to_log, to_drop = cols_to_drop)\n",
        "\n",
        "df = iqr(df, cols_to_iqr)\n",
        "\n",
        "cols = ['Neighborhood']#,'LotShape', 'FireplaceQu']\n",
        "for col in cols:\n",
        "  encoder = TargetEncoder(cols = col)\n",
        "  df[col+'_te'] = encoder.fit_transform(df[col], df['SalePrice'])\n",
        "  df_test[col+'_te'] = encoder.transform(df_test[col])\n",
        "\n",
        "df = drop_categories(df)\n",
        "df_test = drop_categories(df_test)"
      ],
      "metadata": {
        "id": "hB_o1wi2t7HD"
      },
      "execution_count": 387,
      "outputs": []
    },
    {
      "cell_type": "markdown",
      "source": [
        "#Getting best columns "
      ],
      "metadata": {
        "id": "OGfpw7jkEJuC"
      }
    },
    {
      "cell_type": "code",
      "source": [
        "to_drop = []#'Modern', 'HasBsmt', 'HasGarage', 'HasPool','HasVnr']\n",
        "df1 = df.copy().drop(columns = to_drop)\n",
        "df_test1 = df_test.copy().drop(columns = to_drop)\n",
        "columns = get_permutations(df1) "
      ],
      "metadata": {
        "colab": {
          "base_uri": "https://localhost:8080/"
        },
        "id": "nl4XMqje1yoU",
        "outputId": "5f2c2526-5144-4f51-d875-62ffebcf6747"
      },
      "execution_count": 388,
      "outputs": [
        {
          "output_type": "stream",
          "name": "stdout",
          "text": [
            "[('MonthSold', 0.624826464050994), ('MoSold', 0.5544934895149309), ('YrSold', 0.5192668908668093), ('GrLivArea', 0.1689135227238431), ('OverallQual', 0.14234752487062396), ('2ndFlrSF', 0.13790134494257722), ('Has2Floors', 0.1303712629448722), ('TotalSF', 0.09862657252127845), ('Neighborhood_te', 0.0809188108933271), ('YearBuilt', 0.05003195737822402), ('LotArea', 0.04134227061351835), ('OverallCond', 0.04127115693343856), ('1stFlrSF', 0.024273962692374716), ('Bath', 0.021192018987410743), ('BsmtFinSF1', 0.01637086033573142), ('WoodDeckSF', 0.014455591769265053), ('GarageArea', 0.013050323464272439), ('YearRemodAdd', 0.009575329250164721), ('TotalBsmtSF', 0.00840269307934841), ('PorchSF', 0.0074304044836176805), ('Fireplaces', 0.006867876068827194), ('Has2Wood', 0.004046691567348848), ('GarageYrBlt', 0.003982975468354089), ('OutsideArea', 0.0035879841726363495), ('BedroomAbvGr', 0.003174571298293827), ('MSSubClass', 0.0015118098297996264), ('LotFrontage', 0.001470047728530599), ('BsmtUnfSF', 0.0013790935456645336), ('KitchenAbvGr', 0.0013677282316545748), ('BsmtFinSF2', 0.0009057425774872008), ('HasPorch', 0.0006050586929930102), ('MasVnrArea', 0.00026636819097126675), ('Has1Floors', 0.0), ('LowQualFinSF', -5.0656892719325166e-06), ('HasFireplace', -0.000339181567311031), ('TotRmsAbvGrd', -0.00042543463231157206)]\n"
          ]
        }
      ]
    },
    {
      "cell_type": "code",
      "source": [
        "cols = ['SalePrice']+columns\n",
        "model, txt = split_run_test(df1[cols])"
      ],
      "metadata": {
        "colab": {
          "base_uri": "https://localhost:8080/"
        },
        "id": "3S1puB0tEnw4",
        "outputId": "a894d9b7-d186-428f-d1c1-b120b3b210c7"
      },
      "execution_count": 394,
      "outputs": [
        {
          "output_type": "stream",
          "name": "stdout",
          "text": [
            "train r2: 0.9317305478548442\n",
            "train rmse: 0.008200539704755993\n",
            "\n",
            "test r2: 0.8858950380373605\n",
            "test rmse: 0.010481121266173071\n",
            "\n"
          ]
        }
      ]
    },
    {
      "cell_type": "code",
      "source": [],
      "metadata": {
        "id": "sOuBTIsb4vQL"
      },
      "execution_count": 389,
      "outputs": []
    },
    {
      "cell_type": "code",
      "source": [
        "y_pred_test = model.predict(df_test[columns])"
      ],
      "metadata": {
        "id": "gYee6lwHtp36"
      },
      "execution_count": 390,
      "outputs": []
    },
    {
      "cell_type": "code",
      "source": [
        "ids = np.arange(1461, 2920)\n",
        "my_result = pd.DataFrame({'Id': ids, 'SalePrice': np.e**y_pred_test})\n",
        "my_result"
      ],
      "metadata": {
        "colab": {
          "base_uri": "https://localhost:8080/",
          "height": 423
        },
        "id": "-ns9cnabty53",
        "outputId": "23b3e461-c455-42bf-f36b-5ea64bc93f0f"
      },
      "execution_count": 391,
      "outputs": [
        {
          "output_type": "execute_result",
          "data": {
            "text/plain": [
              "        Id      SalePrice\n",
              "0     1461  128067.989206\n",
              "1     1462  156100.531990\n",
              "2     1463  185339.854394\n",
              "3     1464  188502.539671\n",
              "4     1465  187872.863089\n",
              "...    ...            ...\n",
              "1454  2915   86267.408548\n",
              "1455  2916   86164.464308\n",
              "1456  2917  167796.911823\n",
              "1457  2918  125219.528032\n",
              "1458  2919  216343.759531\n",
              "\n",
              "[1459 rows x 2 columns]"
            ],
            "text/html": [
              "\n",
              "  <div id=\"df-27c80e3b-cf51-486a-9149-d448e6a3236a\">\n",
              "    <div class=\"colab-df-container\">\n",
              "      <div>\n",
              "<style scoped>\n",
              "    .dataframe tbody tr th:only-of-type {\n",
              "        vertical-align: middle;\n",
              "    }\n",
              "\n",
              "    .dataframe tbody tr th {\n",
              "        vertical-align: top;\n",
              "    }\n",
              "\n",
              "    .dataframe thead th {\n",
              "        text-align: right;\n",
              "    }\n",
              "</style>\n",
              "<table border=\"1\" class=\"dataframe\">\n",
              "  <thead>\n",
              "    <tr style=\"text-align: right;\">\n",
              "      <th></th>\n",
              "      <th>Id</th>\n",
              "      <th>SalePrice</th>\n",
              "    </tr>\n",
              "  </thead>\n",
              "  <tbody>\n",
              "    <tr>\n",
              "      <th>0</th>\n",
              "      <td>1461</td>\n",
              "      <td>128067.989206</td>\n",
              "    </tr>\n",
              "    <tr>\n",
              "      <th>1</th>\n",
              "      <td>1462</td>\n",
              "      <td>156100.531990</td>\n",
              "    </tr>\n",
              "    <tr>\n",
              "      <th>2</th>\n",
              "      <td>1463</td>\n",
              "      <td>185339.854394</td>\n",
              "    </tr>\n",
              "    <tr>\n",
              "      <th>3</th>\n",
              "      <td>1464</td>\n",
              "      <td>188502.539671</td>\n",
              "    </tr>\n",
              "    <tr>\n",
              "      <th>4</th>\n",
              "      <td>1465</td>\n",
              "      <td>187872.863089</td>\n",
              "    </tr>\n",
              "    <tr>\n",
              "      <th>...</th>\n",
              "      <td>...</td>\n",
              "      <td>...</td>\n",
              "    </tr>\n",
              "    <tr>\n",
              "      <th>1454</th>\n",
              "      <td>2915</td>\n",
              "      <td>86267.408548</td>\n",
              "    </tr>\n",
              "    <tr>\n",
              "      <th>1455</th>\n",
              "      <td>2916</td>\n",
              "      <td>86164.464308</td>\n",
              "    </tr>\n",
              "    <tr>\n",
              "      <th>1456</th>\n",
              "      <td>2917</td>\n",
              "      <td>167796.911823</td>\n",
              "    </tr>\n",
              "    <tr>\n",
              "      <th>1457</th>\n",
              "      <td>2918</td>\n",
              "      <td>125219.528032</td>\n",
              "    </tr>\n",
              "    <tr>\n",
              "      <th>1458</th>\n",
              "      <td>2919</td>\n",
              "      <td>216343.759531</td>\n",
              "    </tr>\n",
              "  </tbody>\n",
              "</table>\n",
              "<p>1459 rows × 2 columns</p>\n",
              "</div>\n",
              "      <button class=\"colab-df-convert\" onclick=\"convertToInteractive('df-27c80e3b-cf51-486a-9149-d448e6a3236a')\"\n",
              "              title=\"Convert this dataframe to an interactive table.\"\n",
              "              style=\"display:none;\">\n",
              "        \n",
              "  <svg xmlns=\"http://www.w3.org/2000/svg\" height=\"24px\"viewBox=\"0 0 24 24\"\n",
              "       width=\"24px\">\n",
              "    <path d=\"M0 0h24v24H0V0z\" fill=\"none\"/>\n",
              "    <path d=\"M18.56 5.44l.94 2.06.94-2.06 2.06-.94-2.06-.94-.94-2.06-.94 2.06-2.06.94zm-11 1L8.5 8.5l.94-2.06 2.06-.94-2.06-.94L8.5 2.5l-.94 2.06-2.06.94zm10 10l.94 2.06.94-2.06 2.06-.94-2.06-.94-.94-2.06-.94 2.06-2.06.94z\"/><path d=\"M17.41 7.96l-1.37-1.37c-.4-.4-.92-.59-1.43-.59-.52 0-1.04.2-1.43.59L10.3 9.45l-7.72 7.72c-.78.78-.78 2.05 0 2.83L4 21.41c.39.39.9.59 1.41.59.51 0 1.02-.2 1.41-.59l7.78-7.78 2.81-2.81c.8-.78.8-2.07 0-2.86zM5.41 20L4 18.59l7.72-7.72 1.47 1.35L5.41 20z\"/>\n",
              "  </svg>\n",
              "      </button>\n",
              "      \n",
              "  <style>\n",
              "    .colab-df-container {\n",
              "      display:flex;\n",
              "      flex-wrap:wrap;\n",
              "      gap: 12px;\n",
              "    }\n",
              "\n",
              "    .colab-df-convert {\n",
              "      background-color: #E8F0FE;\n",
              "      border: none;\n",
              "      border-radius: 50%;\n",
              "      cursor: pointer;\n",
              "      display: none;\n",
              "      fill: #1967D2;\n",
              "      height: 32px;\n",
              "      padding: 0 0 0 0;\n",
              "      width: 32px;\n",
              "    }\n",
              "\n",
              "    .colab-df-convert:hover {\n",
              "      background-color: #E2EBFA;\n",
              "      box-shadow: 0px 1px 2px rgba(60, 64, 67, 0.3), 0px 1px 3px 1px rgba(60, 64, 67, 0.15);\n",
              "      fill: #174EA6;\n",
              "    }\n",
              "\n",
              "    [theme=dark] .colab-df-convert {\n",
              "      background-color: #3B4455;\n",
              "      fill: #D2E3FC;\n",
              "    }\n",
              "\n",
              "    [theme=dark] .colab-df-convert:hover {\n",
              "      background-color: #434B5C;\n",
              "      box-shadow: 0px 1px 3px 1px rgba(0, 0, 0, 0.15);\n",
              "      filter: drop-shadow(0px 1px 2px rgba(0, 0, 0, 0.3));\n",
              "      fill: #FFFFFF;\n",
              "    }\n",
              "  </style>\n",
              "\n",
              "      <script>\n",
              "        const buttonEl =\n",
              "          document.querySelector('#df-27c80e3b-cf51-486a-9149-d448e6a3236a button.colab-df-convert');\n",
              "        buttonEl.style.display =\n",
              "          google.colab.kernel.accessAllowed ? 'block' : 'none';\n",
              "\n",
              "        async function convertToInteractive(key) {\n",
              "          const element = document.querySelector('#df-27c80e3b-cf51-486a-9149-d448e6a3236a');\n",
              "          const dataTable =\n",
              "            await google.colab.kernel.invokeFunction('convertToInteractive',\n",
              "                                                     [key], {});\n",
              "          if (!dataTable) return;\n",
              "\n",
              "          const docLinkHtml = 'Like what you see? Visit the ' +\n",
              "            '<a target=\"_blank\" href=https://colab.research.google.com/notebooks/data_table.ipynb>data table notebook</a>'\n",
              "            + ' to learn more about interactive tables.';\n",
              "          element.innerHTML = '';\n",
              "          dataTable['output_type'] = 'display_data';\n",
              "          await google.colab.output.renderOutput(dataTable, element);\n",
              "          const docLink = document.createElement('div');\n",
              "          docLink.innerHTML = docLinkHtml;\n",
              "          element.appendChild(docLink);\n",
              "        }\n",
              "      </script>\n",
              "    </div>\n",
              "  </div>\n",
              "  "
            ]
          },
          "metadata": {},
          "execution_count": 391
        }
      ]
    },
    {
      "cell_type": "code",
      "source": [
        "#my_result.to_csv('submission.csv', index=False)\n",
        "#files.download('submission.csv')"
      ],
      "metadata": {
        "id": "0MfNRB6_uoZ4"
      },
      "execution_count": 392,
      "outputs": []
    }
  ]
}