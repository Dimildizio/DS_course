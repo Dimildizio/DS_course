{
  "cells": [
    {
      "cell_type": "markdown",
      "metadata": {
        "id": "view-in-github",
        "colab_type": "text"
      },
      "source": [
        "<a href=\"https://colab.research.google.com/github/Dimildizio/DS_course/blob/main/gradient-boosting/notebooks/Housing_prices_kaggle_baseline.ipynb\" target=\"_parent\"><img src=\"https://colab.research.google.com/assets/colab-badge.svg\" alt=\"Open In Colab\"/></a>"
      ]
    },
    {
      "cell_type": "code",
      "execution_count": 66,
      "metadata": {
        "id": "GzRAxg9WsqCF"
      },
      "outputs": [],
      "source": [
        "import numpy as np\n",
        "import pandas as pd\n",
        "from matplotlib import pyplot as plt\n",
        "import seaborn as sns\n",
        "from scipy import stats\n",
        "\n",
        "from sklearn.preprocessing import OneHotEncoder, StandardScaler, LabelEncoder,\\\n",
        "Normalizer\n",
        "from sklearn.ensemble import RandomForestRegressor, BaggingRegressor, StackingRegressor\n",
        "from sklearn.neighbors import KNeighborsRegressor\n",
        "from sklearn.model_selection import train_test_split\n",
        "from sklearn.metrics import mean_squared_error, r2_score\n",
        "from sklearn.pipeline import make_pipeline\n",
        "from sklearn.linear_model import LassoLarsCV, LinearRegression, Lasso, Ridge, LogisticRegression, LogisticRegressionCV\n",
        "import itertools\n",
        "from sklearn.tree import DecisionTreeRegressor\n",
        "from random import shuffle"
      ]
    },
    {
      "cell_type": "code",
      "execution_count": 67,
      "metadata": {
        "id": "9xqpawjctOhV"
      },
      "outputs": [],
      "source": [
        "pd.set_option('display.max_rows', 100)\n",
        "pd.set_option('max_colwidth', 80)"
      ]
    },
    {
      "cell_type": "code",
      "execution_count": 68,
      "metadata": {
        "id": "7AK-K2sOtO7g"
      },
      "outputs": [],
      "source": [
        "raw_df_train = pd.read_csv('https://raw.githubusercontent.com/Dimildizio/DS_course/main/gradient-boosting/data/train.csv', index_col=0)\n",
        "raw_df_test = pd.read_csv('https://raw.githubusercontent.com/Dimildizio/DS_course/main/gradient-boosting/data/test.csv', index_col=0)\n"
      ]
    },
    {
      "cell_type": "code",
      "execution_count": 69,
      "metadata": {
        "id": "Aoz93DTHtRQq"
      },
      "outputs": [],
      "source": [
        "def improve_cats(dataframe) -> pd.DataFrame:\n",
        "  df = dataframe.copy()\n",
        "  for col in df.columns:\n",
        "    if df[col].dtype == 'int64':\n",
        "      df[col] = df[col].astype('int32')\n",
        "    elif df[col].dtype == 'float64':\n",
        "      df[col] = df[col].astype('float32')\n",
        "    elif df[col].dtype == 'object':\n",
        "      df[col] = df[col].astype('category')\n",
        "    else:\n",
        "      print('Unknown data type')\n",
        "      return\n",
        "  return df"
      ]
    },
    {
      "cell_type": "code",
      "execution_count": 70,
      "metadata": {
        "id": "gHP7BG2CtVLd"
      },
      "outputs": [],
      "source": [
        "df = improve_cats(raw_df_train) #pd.concat([df_train_1, df_test_1])\n",
        "df_test = improve_cats(raw_df_test)"
      ]
    },
    {
      "cell_type": "code",
      "execution_count": 71,
      "metadata": {
        "id": "w9HaYwJ2t-d0"
      },
      "outputs": [],
      "source": [
        "dates_frames  = ['YearBuilt', 'YeatRemodAdd', 'GarageYrBlt', \"YrSold\",'MoSold']"
      ]
    },
    {
      "cell_type": "code",
      "execution_count": 72,
      "metadata": {
        "id": "Snq5PI2stmhZ"
      },
      "outputs": [],
      "source": [
        "def cut_iqr(df, col, mult):\n",
        "  d=df[col].describe()\n",
        "  val =(d['50%'] + (d['75%']-d['25%'])) * mult\n",
        "  return df[df[col] <= val]"
      ]
    },
    {
      "cell_type": "code",
      "execution_count": 73,
      "metadata": {
        "id": "qPw_zILdzfV4"
      },
      "outputs": [],
      "source": [
        "def plotme(df, col):\n",
        "    if col != 'SalePrice':\n",
        "      sns.scatterplot(y = df['SalePrice'], x = df[col])"
      ]
    },
    {
      "cell_type": "code",
      "execution_count": 74,
      "metadata": {
        "id": "q1D3DgCivi2j"
      },
      "outputs": [],
      "source": [
        "#we need to remove empty values in categories if there are ones \n",
        "def cut_cats(df):\n",
        "  for catcol in df.columns:\n",
        "    if df[catcol].dtype == 'category':\n",
        "      df[catcol].cat.remove_unused_categories() \n",
        "  return df\n",
        "\n",
        "def create_mt_catcol(df_new):\n",
        "  df = df_new.copy()\n",
        "  for col in df.columns:\n",
        "      if df[col].dtype == 'category':\n",
        "        if df[col].isna().any():\n",
        "          df[col] = df[col].cat.add_categories(['MISSING'])\n",
        "          df[col] = df[col].fillna('MISSING')\n",
        "  cut_cats(df)\n",
        "  return df"
      ]
    },
    {
      "cell_type": "code",
      "execution_count": 75,
      "metadata": {
        "id": "RpsoL7rwuMRx"
      },
      "outputs": [],
      "source": [
        "#Change after we get encoding\n",
        "def get_valid_cols(df, ok_cols, to_drop=[]):\n",
        "\n",
        "  return [x for x in df.columns if x not in ok_cols+to_drop]# and df[x].dtype not in ['category', 'object']]"
      ]
    },
    {
      "cell_type": "code",
      "execution_count": 76,
      "metadata": {
        "id": "-zMivoOvuhVe"
      },
      "outputs": [],
      "source": [
        "def split_data(df, target):\n",
        "  X = df.drop(target, axis=1)\n",
        "  y = df[target]\n",
        "  return train_test_split(X, y, test_size=0.2, random_state=42)\n",
        "  "
      ]
    },
    {
      "cell_type": "code",
      "execution_count": 77,
      "metadata": {
        "id": "NVw79YVudq89"
      },
      "outputs": [],
      "source": [
        "#!pip install catboost"
      ]
    },
    {
      "cell_type": "code",
      "execution_count": 78,
      "metadata": {
        "id": "71KLYfe-bR0D"
      },
      "outputs": [],
      "source": [
        "from lightgbm import LGBMRegressor\n",
        "#from catboost import CatBoostRegressor"
      ]
    },
    {
      "cell_type": "code",
      "execution_count": 103,
      "metadata": {
        "id": "hp4ISXf0ukFr"
      },
      "outputs": [],
      "source": [
        "#Could run separate times for y_pred_train, y_pred_test but training two could take longer \n",
        "\n",
        "\n",
        "\n",
        "#Change model\n",
        "def run_model(X_train, y_train, X_test, model = LinearRegression):\n",
        "  estimators = [('LinReg',LinearRegression()), ('Lasso',LassoLarsCV(max_iter=12,eps=0.01)), ('Tree',DecisionTreeRegressor(max_depth=5)),\n",
        "                ('LGBR', LGBMRegressor(max_depth = 5, learning_rate = 0.04))]#, ('KNN', KNeighborsRegressor))]\n",
        "                #'Bag',BaggingRegressor(estimator=LinearRegression(), n_estimators=5, random_state=42)),\n",
        "\n",
        "  estimator = [('LinReg',LinearRegression()), ('Lasso',LassoLarsCV(max_iter=15,eps=0.01)), ('Tree',DecisionTreeRegressor(max_depth=5)), ('LGBR', LGBMRegressor(max_depth = 5, learning_rate = 0.05))]\n",
        "\n",
        "  pipe = make_pipeline(StandardScaler(), LinearRegression())#StackingRegressor(estimators=estimators, final_estimator=  RandomForestRegressor(max_depth = 6))) #RandomForestRegressor(max_depth=7)))\n",
        "                       #KNeighborsRegressor(n_neighbors = 10))#BaggingRegressor(estimator=LinearRegression(), n_estimators=5, random_state=42))#LogisticRegressionCV())#( max_depth=10))\n",
        "  pipe.fit(X_train, y_train)\n",
        "\n",
        "  y_pred_train = pipe.predict(X_train)\n",
        "  y_pred_test = pipe.predict(X_test)\n",
        "  return y_pred_train, y_pred_test, pipe"
      ]
    },
    {
      "cell_type": "code",
      "execution_count": 104,
      "metadata": {
        "id": "OEJsDrC8x6Eh"
      },
      "outputs": [],
      "source": [
        "def split_run_test(df, target = 'SalePrice'):\n",
        "  X_train, X_test, y_train, y_test = split_data(df, target)\n",
        "  y_pred_train, y_pred_test, model = run_model(X_train, y_train, X_test)\n",
        "  print_scores(y_train, y_test, y_pred_train, y_pred_test, print_train=True)\n",
        "  return model"
      ]
    },
    {
      "cell_type": "code",
      "execution_count": 105,
      "metadata": {
        "id": "vm0BiE4wumyu"
      },
      "outputs": [],
      "source": [
        "def print_scores(y_train, y_test, y_pred_train, y_pred_test, print_train=False):\n",
        "    #print('Column: ', col)\n",
        "    if print_train:\n",
        "      print('train: r2', r2_score(y_train, y_pred_train))\n",
        "      print(\"train: root mean squared error:\", np.sqrt(mean_squared_error(np.log(y_pred_train), np.log(y_train))))\n",
        "      print('Test:')\n",
        "    print('test: r2', r2_score(y_test, y_pred_test))\n",
        "    print(\"test: root mean squared error:\", np.sqrt(mean_squared_error(np.log(y_pred_test), np.log(y_test))))\n",
        "\n",
        "    print()"
      ]
    },
    {
      "cell_type": "code",
      "execution_count": 106,
      "metadata": {
        "id": "5S9NxpvfuqBR"
      },
      "outputs": [],
      "source": [
        "def find_best_param(dataset: pd.DataFrame, valid_cols: list, ok_cols: list, to_drop = [], r2_threshold = 0.67, target = \"SalePrice\"):\n",
        "  dataset = dataset.copy()\n",
        "  best_col = ['', r2_threshold]\n",
        "  \n",
        "  for col in valid_cols:\n",
        "    #old good col + a test col\n",
        "    test_cols = ok_cols + [col]\n",
        "    df = dataset[test_cols]\n",
        "  \n",
        "    try:\n",
        "      X_train, X_test, y_train, y_test = split_data(df, target)\n",
        "      y_pred_train, y_pred_test, _ = run_model(X_train, y_train, X_test)\n",
        "\n",
        "      r2 = r2_score(y_test, y_pred_test) #compare_scores(y_train, y_test, y_pred_train, y_pred_test, r2_threshold)\n",
        "      if r2 > r2_threshold:\n",
        "        r2_threshold = r2\n",
        "        best_col = [col, r2]\n",
        "        #print_scores(y_train, y_test, y_pred_train, y_pred_test)\n",
        "    except ValueError:\n",
        "      continue\n",
        "      #print(col, 'has NaN')\n",
        "  \n",
        "  result = ok_cols + [best_col[0]]\n",
        "  #print('Best result:', result, best_col[1])\n",
        "  return best_col\n"
      ]
    },
    {
      "cell_type": "code",
      "execution_count": 125,
      "metadata": {
        "id": "xiLbLFEEuqEq"
      },
      "outputs": [],
      "source": [
        "def get_best_cols(df, ok_cols: list, to_drop =[],  r2_threshold=0.67):\n",
        "  valid_cols = get_valid_cols(df_cats, ok_cols, to_drop)#\n",
        "  valid_nodups = valid_cols.copy()\n",
        "  shuffle(valid_cols)\n",
        "  #best_result = r2_threshold\n",
        "  for col in valid_cols:\n",
        "    #print(new_valid)\n",
        "    best_col, r2 = find_best_param(df_cats, valid_nodups, ok_cols, r2_threshold)\n",
        "    if r2 > r2_threshold:# > 0.001:\n",
        "      r2_threshold = r2\n",
        "      ok_cols.append(best_col)\n",
        "      valid_nodups.remove(col)\n",
        "  return ok_cols, r2_threshold\n"
      ]
    },
    {
      "cell_type": "code",
      "execution_count": 126,
      "metadata": {
        "id": "qmin6wynvQEC"
      },
      "outputs": [],
      "source": [
        "def many_shuffles(df, my_cols = ['SalePrice', 'OverallQual'], to_drop = [], num=10, threshold = 0.67):\n",
        "  bestestbest = [my_cols, threshold]\n",
        "  for x in range(num):\n",
        "    print('shuffle:', x+1)\n",
        "    result = get_best_cols(df, my_cols.copy(), to_drop)\n",
        "    if result[1] > bestestbest[1]:\n",
        "      bestestbest = result\n",
        "      print(bestestbest)\n",
        "  print('\\n\\nThe result is:')\n",
        "  print(bestestbest)\n",
        "  return bestestbest"
      ]
    },
    {
      "cell_type": "code",
      "execution_count": 127,
      "metadata": {
        "id": "pdUghZadtXju"
      },
      "outputs": [],
      "source": [
        "def drop_n_log(df, testdf=False):\n",
        "  df_num = df.copy()\n",
        "  #Create a new parameter that combines all porches\n",
        "  df_num[\"TotalSF\"] = df_num[\"1stFlrSF\"] + df_num[\"2ndFlrSF\"] + df_num[\"TotalBsmtSF\"] \n",
        "  df_num['PorchSF'] = df_num['OpenPorchSF'] + df_num['EnclosedPorch'] + df_num['3SsnPorch'] + df_num['ScreenPorch']\n",
        "  df_num[\"OutsideArea\"] = df_num[\"LotArea\"] - df_num[\"GrLivArea\"] - df_num[\"GarageArea\"]\n",
        "\n",
        "  #drop low numbers \n",
        "  #cols = ['KitchenAbvGr', 'BedroomAbvGr']\n",
        "  #df_num = drop_low_zeros(df_num, cols)\n",
        "\n",
        "  df_num['GarageYrBlt'] = df_num['GarageYrBlt'].fillna(df_num['GarageYrBlt'].mean()) #REPLACE\n",
        "\n",
        "  #Drop numeric columns\n",
        "  df_num = df_num.drop(columns=['OpenPorchSF', 'EnclosedPorch', '3SsnPorch', 'ScreenPorch']) #drop porches\n",
        "  df_num = df_num.drop(columns=['BsmtFinSF1', 'BsmtFinSF2', 'BsmtUnfSF'])                    #drop basements\n",
        "  df_num = df_num.drop(columns=['GarageCars'])                                               #drop garage\n",
        "  df_num = df_num.drop(columns=['LowQualFinSF', 'PoolArea', 'MiscVal', 'TotRmsAbvGrd', '1stFlrSF'])      #drop misc\n",
        "\n",
        "  #wierdly it produced worse result\n",
        "  for column in [col for col in df_num.columns if df_num[col].dtype not in ['category', 'object']]:\n",
        "    df_num[column] = df_num[column]+1\n",
        "  #  df_num[column] = np.log(df_num[column] + 1)\n",
        "  testdf = [] if testdf else ['SalePrice']\n",
        "  to_log = testdf+['LotFrontage', 'LotArea', 'GrLivArea']#, 'OutsideArea']#, 'TotalSF']#, 'GarageArea','WoodDeckSF', 'MasVnrArea','TotalBsmtSF','2ndFlrSF', 'PorchSF']#]#,]#, ]#, ]#]]\n",
        "  for col in to_log:\n",
        "    df_num[col] = np.log(df_num[col])\n",
        "  print(df_num.shape)\n",
        "  return df_num"
      ]
    },
    {
      "cell_type": "code",
      "execution_count": 128,
      "metadata": {
        "id": "gF4-TsSttsiN"
      },
      "outputs": [],
      "source": [
        "#Cut iqr\n",
        "def make_iqr(df_num):\n",
        "  df_iqr = df_num.copy()\n",
        "  for col in ['SalePrice', 'LotFrontage', 'LotArea', 'MasVnrArea', \\\n",
        "              'TotalBsmtSF', 'GrLivArea', \\\n",
        "              'BedroomAbvGr', 'KitchenAbvGr', 'Fireplaces', 'GarageArea', 'PorchSF']:\n",
        "\n",
        "      df_iqr = cut_iqr(df_iqr, col, 3)\n",
        "      #plotme(df_iqr, col)\n",
        "\n",
        "  print(df_iqr.shape)\n",
        "  return df_iqr"
      ]
    },
    {
      "cell_type": "code",
      "execution_count": 143,
      "metadata": {
        "id": "QbG6xN0VtzoK"
      },
      "outputs": [],
      "source": [
        "def make_cats(df_iqr):\n",
        "  df_cats = df_iqr.drop(['PoolQC', 'MiscFeature', 'Alley', 'Fence', 'Utilities', 'Condition1', \\\n",
        "                        'Condition2', 'Street', 'LandContour', 'LandSlope', \\\n",
        "                  'RoofMatl', 'ExterCond', 'BsmtCond', 'BsmtFinType2', 'Heating', 'CentralAir', \\\n",
        "                  'Electrical', 'Functional', 'GarageQual', 'GarageCond', 'PavedDrive', 'SaleType'], axis = 1)\n",
        "  df_cats = create_mt_catcol(df_iqr)\n",
        "\n",
        "  #factorize\n",
        "  df_cats =  factorize_cats(df_cats)\n",
        "\n",
        "  return df_cats"
      ]
    },
    {
      "cell_type": "code",
      "execution_count": 144,
      "metadata": {
        "id": "rFdGqWAdT9CP"
      },
      "outputs": [],
      "source": [
        "def factorize_cats(df):\n",
        "  df = df.copy()\n",
        "  new_df=df.select_dtypes(include=['category']).apply(lambda x: x.factorize()[0])  \n",
        "  print(type(new_df))\n",
        "  for col in new_df.columns:\n",
        "    #print(col)\n",
        "    df[col] = new_df[col]\n",
        "  print(df.shape)\n",
        "  return df"
      ]
    },
    {
      "cell_type": "code",
      "execution_count": 145,
      "metadata": {
        "colab": {
          "base_uri": "https://localhost:8080/"
        },
        "id": "BSGpR7E18IfO",
        "outputId": "8a9e17d7-bcc8-498e-9d8a-87a50e2d838f"
      },
      "outputs": [
        {
          "output_type": "stream",
          "name": "stdout",
          "text": [
            "(1460, 70)\n"
          ]
        }
      ],
      "source": [
        "df_num = drop_n_log(df)"
      ]
    },
    {
      "cell_type": "code",
      "execution_count": 146,
      "metadata": {
        "colab": {
          "base_uri": "https://localhost:8080/"
        },
        "id": "DZMRb-k-8dmj",
        "outputId": "dcdd9189-ffd8-43b6-e87e-b1840261deb2"
      },
      "outputs": [
        {
          "output_type": "stream",
          "name": "stdout",
          "text": [
            "(1140, 70)\n"
          ]
        }
      ],
      "source": [
        "df_iqr= make_iqr(df_num)"
      ]
    },
    {
      "cell_type": "code",
      "execution_count": 147,
      "metadata": {
        "colab": {
          "base_uri": "https://localhost:8080/"
        },
        "id": "OmbGKuWO8noz",
        "outputId": "56d6bb9f-aafb-4829-a36a-3d1540bad82e"
      },
      "outputs": [
        {
          "output_type": "stream",
          "name": "stdout",
          "text": [
            "<class 'pandas.core.frame.DataFrame'>\n",
            "(1140, 70)\n"
          ]
        }
      ],
      "source": [
        "df_cats = make_cats(df_iqr)"
      ]
    },
    {
      "cell_type": "code",
      "execution_count": 148,
      "metadata": {
        "id": "tVQIX5ch84C7"
      },
      "outputs": [],
      "source": [
        "#model.predict()"
      ]
    },
    {
      "cell_type": "code",
      "execution_count": 149,
      "metadata": {
        "colab": {
          "base_uri": "https://localhost:8080/"
        },
        "id": "cHityhEMu45R",
        "outputId": "def4eaf3-b683-4f9a-deca-481bc456c4c8"
      },
      "outputs": [
        {
          "output_type": "execute_result",
          "data": {
            "text/plain": [
              "['TotalSF', 0.7168602300401753]"
            ]
          },
          "metadata": {},
          "execution_count": 149
        }
      ],
      "source": [
        "#Find second best parameter\n",
        "my_cols = ['SalePrice']#, 'OverallQual']\n",
        "valids = get_valid_cols(df_cats, my_cols, ['OverallQual'])\n",
        "find_best_param(df_cats, valids, my_cols, ['OverallQual'], r2_threshold = 0.5)"
      ]
    },
    {
      "cell_type": "code",
      "execution_count": 150,
      "metadata": {
        "colab": {
          "base_uri": "https://localhost:8080/",
          "height": 229
        },
        "id": "IhZGvD9ryfR_",
        "outputId": "0b953251-a6bf-4f40-e307-af8428e2bae0"
      },
      "outputs": [
        {
          "output_type": "stream",
          "name": "stdout",
          "text": [
            "train: r2 0.8873116507908816\n",
            "train: root mean squared error: 0.011216538269260832\n",
            "Test:\n",
            "test: r2 0.9173624653156374\n",
            "test: root mean squared error: 0.009411391258568358\n",
            "\n"
          ]
        },
        {
          "output_type": "execute_result",
          "data": {
            "text/plain": [
              "Pipeline(steps=[('standardscaler', StandardScaler()),\n",
              "                ('linearregression', LinearRegression())])"
            ],
            "text/html": [
              "<style>#sk-container-id-6 {color: black;background-color: white;}#sk-container-id-6 pre{padding: 0;}#sk-container-id-6 div.sk-toggleable {background-color: white;}#sk-container-id-6 label.sk-toggleable__label {cursor: pointer;display: block;width: 100%;margin-bottom: 0;padding: 0.3em;box-sizing: border-box;text-align: center;}#sk-container-id-6 label.sk-toggleable__label-arrow:before {content: \"▸\";float: left;margin-right: 0.25em;color: #696969;}#sk-container-id-6 label.sk-toggleable__label-arrow:hover:before {color: black;}#sk-container-id-6 div.sk-estimator:hover label.sk-toggleable__label-arrow:before {color: black;}#sk-container-id-6 div.sk-toggleable__content {max-height: 0;max-width: 0;overflow: hidden;text-align: left;background-color: #f0f8ff;}#sk-container-id-6 div.sk-toggleable__content pre {margin: 0.2em;color: black;border-radius: 0.25em;background-color: #f0f8ff;}#sk-container-id-6 input.sk-toggleable__control:checked~div.sk-toggleable__content {max-height: 200px;max-width: 100%;overflow: auto;}#sk-container-id-6 input.sk-toggleable__control:checked~label.sk-toggleable__label-arrow:before {content: \"▾\";}#sk-container-id-6 div.sk-estimator input.sk-toggleable__control:checked~label.sk-toggleable__label {background-color: #d4ebff;}#sk-container-id-6 div.sk-label input.sk-toggleable__control:checked~label.sk-toggleable__label {background-color: #d4ebff;}#sk-container-id-6 input.sk-hidden--visually {border: 0;clip: rect(1px 1px 1px 1px);clip: rect(1px, 1px, 1px, 1px);height: 1px;margin: -1px;overflow: hidden;padding: 0;position: absolute;width: 1px;}#sk-container-id-6 div.sk-estimator {font-family: monospace;background-color: #f0f8ff;border: 1px dotted black;border-radius: 0.25em;box-sizing: border-box;margin-bottom: 0.5em;}#sk-container-id-6 div.sk-estimator:hover {background-color: #d4ebff;}#sk-container-id-6 div.sk-parallel-item::after {content: \"\";width: 100%;border-bottom: 1px solid gray;flex-grow: 1;}#sk-container-id-6 div.sk-label:hover label.sk-toggleable__label {background-color: #d4ebff;}#sk-container-id-6 div.sk-serial::before {content: \"\";position: absolute;border-left: 1px solid gray;box-sizing: border-box;top: 0;bottom: 0;left: 50%;z-index: 0;}#sk-container-id-6 div.sk-serial {display: flex;flex-direction: column;align-items: center;background-color: white;padding-right: 0.2em;padding-left: 0.2em;position: relative;}#sk-container-id-6 div.sk-item {position: relative;z-index: 1;}#sk-container-id-6 div.sk-parallel {display: flex;align-items: stretch;justify-content: center;background-color: white;position: relative;}#sk-container-id-6 div.sk-item::before, #sk-container-id-6 div.sk-parallel-item::before {content: \"\";position: absolute;border-left: 1px solid gray;box-sizing: border-box;top: 0;bottom: 0;left: 50%;z-index: -1;}#sk-container-id-6 div.sk-parallel-item {display: flex;flex-direction: column;z-index: 1;position: relative;background-color: white;}#sk-container-id-6 div.sk-parallel-item:first-child::after {align-self: flex-end;width: 50%;}#sk-container-id-6 div.sk-parallel-item:last-child::after {align-self: flex-start;width: 50%;}#sk-container-id-6 div.sk-parallel-item:only-child::after {width: 0;}#sk-container-id-6 div.sk-dashed-wrapped {border: 1px dashed gray;margin: 0 0.4em 0.5em 0.4em;box-sizing: border-box;padding-bottom: 0.4em;background-color: white;}#sk-container-id-6 div.sk-label label {font-family: monospace;font-weight: bold;display: inline-block;line-height: 1.2em;}#sk-container-id-6 div.sk-label-container {text-align: center;}#sk-container-id-6 div.sk-container {/* jupyter's `normalize.less` sets `[hidden] { display: none; }` but bootstrap.min.css set `[hidden] { display: none !important; }` so we also need the `!important` here to be able to override the default hidden behavior on the sphinx rendered scikit-learn.org. See: https://github.com/scikit-learn/scikit-learn/issues/21755 */display: inline-block !important;position: relative;}#sk-container-id-6 div.sk-text-repr-fallback {display: none;}</style><div id=\"sk-container-id-6\" class=\"sk-top-container\"><div class=\"sk-text-repr-fallback\"><pre>Pipeline(steps=[(&#x27;standardscaler&#x27;, StandardScaler()),\n",
              "                (&#x27;linearregression&#x27;, LinearRegression())])</pre><b>In a Jupyter environment, please rerun this cell to show the HTML representation or trust the notebook. <br />On GitHub, the HTML representation is unable to render, please try loading this page with nbviewer.org.</b></div><div class=\"sk-container\" hidden><div class=\"sk-item sk-dashed-wrapped\"><div class=\"sk-label-container\"><div class=\"sk-label sk-toggleable\"><input class=\"sk-toggleable__control sk-hidden--visually\" id=\"sk-estimator-id-31\" type=\"checkbox\" ><label for=\"sk-estimator-id-31\" class=\"sk-toggleable__label sk-toggleable__label-arrow\">Pipeline</label><div class=\"sk-toggleable__content\"><pre>Pipeline(steps=[(&#x27;standardscaler&#x27;, StandardScaler()),\n",
              "                (&#x27;linearregression&#x27;, LinearRegression())])</pre></div></div></div><div class=\"sk-serial\"><div class=\"sk-item\"><div class=\"sk-estimator sk-toggleable\"><input class=\"sk-toggleable__control sk-hidden--visually\" id=\"sk-estimator-id-32\" type=\"checkbox\" ><label for=\"sk-estimator-id-32\" class=\"sk-toggleable__label sk-toggleable__label-arrow\">StandardScaler</label><div class=\"sk-toggleable__content\"><pre>StandardScaler()</pre></div></div></div><div class=\"sk-item\"><div class=\"sk-estimator sk-toggleable\"><input class=\"sk-toggleable__control sk-hidden--visually\" id=\"sk-estimator-id-33\" type=\"checkbox\" ><label for=\"sk-estimator-id-33\" class=\"sk-toggleable__label sk-toggleable__label-arrow\">LinearRegression</label><div class=\"sk-toggleable__content\"><pre>LinearRegression()</pre></div></div></div></div></div></div></div>"
            ]
          },
          "metadata": {},
          "execution_count": 150
        }
      ],
      "source": [
        "#test on best combination so far\n",
        "split_run_test(df_cats[['SalePrice', 'OverallQual', 'GrLivArea', 'TotalBsmtSF', 'LotArea', 'YearBuilt', 'OverallCond', 'BedroomAbvGr', 'Fireplaces', 'BsmtFullBath', 'GarageArea', 'HalfBath', 'YearRemodAdd', 'WoodDeckSF', 'YrSold']])#, 0.9173624653156374)#'SalePrice', 'OverallQual', 'GrLivArea', 'TotalBsmtSF', 'LotArea', 'YearBuilt', 'OverallCond', 'GarageArea', 'BsmtFullBath', 'Fireplaces', 'BedroomAbvGr', 'YearRemodAdd', 'HalfBath']])"
      ]
    },
    {
      "cell_type": "code",
      "execution_count": 151,
      "metadata": {
        "id": "UqzRu-aUu908"
      },
      "outputs": [],
      "source": [
        "#get current best combination \n",
        "mymod = get_best_cols(df_cats, ['SalePrice', 'OverallQual'], r2_threshold = 0.67)\n"
      ]
    },
    {
      "cell_type": "code",
      "source": [
        "mymod"
      ],
      "metadata": {
        "colab": {
          "base_uri": "https://localhost:8080/"
        },
        "id": "AUGtWzdJDhh9",
        "outputId": "607b6788-db2e-40fb-8e08-5fb9748d534d"
      },
      "execution_count": 152,
      "outputs": [
        {
          "output_type": "execute_result",
          "data": {
            "text/plain": [
              "(['SalePrice',\n",
              "  'OverallQual',\n",
              "  'TotalSF',\n",
              "  'GarageArea',\n",
              "  'LotArea',\n",
              "  'Foundation',\n",
              "  'OverallCond',\n",
              "  'YearBuilt',\n",
              "  'GrLivArea',\n",
              "  'BedroomAbvGr',\n",
              "  'FireplaceQu',\n",
              "  'BsmtFullBath',\n",
              "  'Functional',\n",
              "  'CentralAir',\n",
              "  'Fence',\n",
              "  'PavedDrive',\n",
              "  'YearRemodAdd',\n",
              "  'ExterCond',\n",
              "  'Condition1',\n",
              "  'MiscFeature',\n",
              "  'Neighborhood',\n",
              "  'WoodDeckSF',\n",
              "  'Exterior2nd',\n",
              "  'GarageCond',\n",
              "  'KitchenQual',\n",
              "  'LandContour',\n",
              "  'BsmtExposure',\n",
              "  'HouseStyle',\n",
              "  'LotShape',\n",
              "  'GarageType',\n",
              "  'ExterQual',\n",
              "  'PoolQC',\n",
              "  'PoolQC'],\n",
              " 0.9268455191787586)"
            ]
          },
          "metadata": {},
          "execution_count": 152
        }
      ]
    },
    {
      "cell_type": "code",
      "source": [
        "#test on best combination so far\n",
        "d = split_run_test(df_cats[['SalePrice', 'OverallQual', 'TotalSF', 'MSSubClass', 'GarageArea', 'BsmtHalfBath', 'MSSubClass', 'Fireplaces', 'LotArea', 'OverallCond', 'HalfBath', 'YearRemodAdd', 'OverallCond', 'HalfBath', 'FullBath', 'YearBuilt', 'BsmtFullBath', 'GrLivArea', 'GarageYrBlt', '2ndFlrSF', 'OutsideArea', 'YrSold', 'YrSold', 'PorchSF', 'WoodDeckSF', 'PorchSF', 'MasVnrArea', 'TotalBsmtSF']])\n",
        "print(d)"
      ],
      "metadata": {
        "colab": {
          "base_uri": "https://localhost:8080/"
        },
        "id": "l2bfUEYu8dJa",
        "outputId": "1c7f4b24-8d98-4f5d-b974-e1708bcc0953"
      },
      "execution_count": 153,
      "outputs": [
        {
          "output_type": "stream",
          "name": "stdout",
          "text": [
            "train: r2 0.8926461206999482\n",
            "train: root mean squared error: 0.010965143754793035\n",
            "Test:\n",
            "test: r2 0.9138478764768979\n",
            "test: root mean squared error: 0.009617197495655032\n",
            "\n",
            "Pipeline(steps=[('standardscaler', StandardScaler()),\n",
            "                ('linearregression', LinearRegression())])\n"
          ]
        }
      ]
    },
    {
      "cell_type": "code",
      "execution_count": 154,
      "metadata": {
        "colab": {
          "base_uri": "https://localhost:8080/"
        },
        "id": "YzAEG1UdvRoY",
        "outputId": "1bad5806-a7cb-4d80-86cf-7c9530592434"
      },
      "outputs": [
        {
          "output_type": "stream",
          "name": "stdout",
          "text": [
            "shuffle: 1\n",
            "(['SalePrice', 'OverallQual', 'TotalSF', 'GarageArea', 'LotArea', 'Foundation', 'Fireplaces', 'OverallCond', 'YearBuilt', 'GrLivArea', 'BedroomAbvGr', 'BsmtFullBath', 'Functional', 'MasVnrType', 'CentralAir', 'PavedDrive', 'YearRemodAdd', 'ExterCond', 'BsmtExposure', 'Condition1', 'GarageCond', 'MasVnrArea', 'LotShape', 'FireplaceQu', 'HouseStyle', 'LandContour', 'PoolQC', 'ExterQual', 'GarageType', 'Heating', 'ExterCond', 'BsmtFinType2', 'GrLivArea'], 0.9270453794892924)\n",
            "shuffle: 2\n",
            "(['SalePrice', 'OverallQual', 'TotalSF', 'GarageArea', 'LotArea', 'Foundation', 'Fireplaces', 'OverallCond', 'YearBuilt', 'GrLivArea', 'BedroomAbvGr', 'BsmtFullBath', 'Functional', 'MasVnrType', 'CentralAir', 'MiscFeature', 'ExterCond', 'PavedDrive', 'Neighborhood', 'BsmtExposure', 'Fence', 'BsmtHalfBath', 'Condition1', 'BsmtHalfBath', 'Fence'], 0.9271797319053682)\n",
            "shuffle: 3\n",
            "shuffle: 4\n",
            "shuffle: 5\n",
            "\n",
            "\n",
            "The result is:\n",
            "(['SalePrice', 'OverallQual', 'TotalSF', 'GarageArea', 'LotArea', 'Foundation', 'Fireplaces', 'OverallCond', 'YearBuilt', 'GrLivArea', 'BedroomAbvGr', 'BsmtFullBath', 'Functional', 'MasVnrType', 'CentralAir', 'MiscFeature', 'ExterCond', 'PavedDrive', 'Neighborhood', 'BsmtExposure', 'Fence', 'BsmtHalfBath', 'Condition1', 'BsmtHalfBath', 'Fence'], 0.9271797319053682)\n"
          ]
        }
      ],
      "source": [
        "#get best orders of best combinations\n",
        "result = many_shuffles(df_cats, num=5, threshold = 0.67)"
      ]
    },
    {
      "cell_type": "code",
      "execution_count": 155,
      "metadata": {
        "colab": {
          "base_uri": "https://localhost:8080/"
        },
        "id": "D4sLmWqIHWOE",
        "outputId": "c512e964-e51e-44fc-dd7b-2483567a4c3d"
      },
      "outputs": [
        {
          "output_type": "stream",
          "name": "stdout",
          "text": [
            "train: r2 0.8931950303764852\n",
            "train: root mean squared error: 0.010933384295665106\n",
            "Test:\n",
            "test: r2 0.9271797319053682\n",
            "test: root mean squared error: 0.008841494510114298\n",
            "\n"
          ]
        }
      ],
      "source": [
        "my_model = split_run_test(df_cats[result[0]])"
      ]
    },
    {
      "cell_type": "markdown",
      "metadata": {
        "id": "fEhNy-13wBah"
      },
      "source": [
        "train: r2 0.8873116507908816\n",
        "train: root mean squared error: 0.13261506109954052\n",
        "Test:\n",
        "test: r2 0.9173624653156374\n",
        "test: root mean squared error: 0.11168377778450472\n",
        "\n",
        "(['SalePrice', 'OverallQual', 'GrLivArea', 'TotalBsmtSF', 'LotArea', 'YearBuilt', 'OverallCond', 'BedroomAbvGr', 'Fireplaces', 'BsmtFullBath', 'GarageArea', 'HalfBath', 'YearRemodAdd', 'WoodDeckSF', 'YrSold'], \n",
        "0.9173624653156374)'\n",
        "\n",
        "log of 'LotFrontage', 'LotArea', 'GrLivArea', 'SalePrice'"
      ]
    },
    {
      "cell_type": "markdown",
      "metadata": {
        "id": "TcRCD6Jz2rXS"
      },
      "source": [
        "['SalePrice', 'OverallQual', 'GrLivArea', 'TotalBsmtSF', 'LotArea', 'YearBuilt', 'OverallCond', 'GarageArea', 'BsmtFullBath', 'Fireplaces', 'BedroomAbvGr', 'YearRemodAdd', 'HalfBath']\n",
        "\n",
        "log of ['LotFrontage', 'LotArea', 'GrLivArea', 'SalePrice','GarageArea']"
      ]
    },
    {
      "cell_type": "markdown",
      "metadata": {
        "id": "9cBg3TdYdSet"
      },
      "source": [
        "\n",
        "(['SalePrice', 'OverallQual', 'GrLivArea', 'TotalBsmtSF', 'OverallCond', 'YearBuilt', 'LotArea', 'GarageArea', 'Fireplaces', 'HalfBath', 'BsmtFullBath', 'BedroomAbvGr', 'GarageYrBlt', 'WoodDeckSF', 'WoodDeckSF', 'BsmtHalfBath'], 0.9218701457673271)\n"
      ]
    },
    {
      "cell_type": "code",
      "execution_count": 156,
      "metadata": {
        "id": "3KhAZvdCvWuA",
        "colab": {
          "base_uri": "https://localhost:8080/",
          "height": 502
        },
        "outputId": "0daed175-d0c6-485a-eeb6-68a3e224228d"
      },
      "outputs": [
        {
          "output_type": "error",
          "ename": "KeyError",
          "evalue": "ignored",
          "traceback": [
            "\u001b[0;31m---------------------------------------------------------------------------\u001b[0m",
            "\u001b[0;31mKeyError\u001b[0m                                  Traceback (most recent call last)",
            "\u001b[0;32m/usr/local/lib/python3.9/dist-packages/pandas/core/indexes/base.py\u001b[0m in \u001b[0;36mget_loc\u001b[0;34m(self, key, method, tolerance)\u001b[0m\n\u001b[1;32m   3628\u001b[0m             \u001b[0;32mtry\u001b[0m\u001b[0;34m:\u001b[0m\u001b[0;34m\u001b[0m\u001b[0;34m\u001b[0m\u001b[0m\n\u001b[0;32m-> 3629\u001b[0;31m                 \u001b[0;32mreturn\u001b[0m \u001b[0mself\u001b[0m\u001b[0;34m.\u001b[0m\u001b[0m_engine\u001b[0m\u001b[0;34m.\u001b[0m\u001b[0mget_loc\u001b[0m\u001b[0;34m(\u001b[0m\u001b[0mcasted_key\u001b[0m\u001b[0;34m)\u001b[0m\u001b[0;34m\u001b[0m\u001b[0;34m\u001b[0m\u001b[0m\n\u001b[0m\u001b[1;32m   3630\u001b[0m             \u001b[0;32mexcept\u001b[0m \u001b[0mKeyError\u001b[0m \u001b[0;32mas\u001b[0m \u001b[0merr\u001b[0m\u001b[0;34m:\u001b[0m\u001b[0;34m\u001b[0m\u001b[0;34m\u001b[0m\u001b[0m\n",
            "\u001b[0;32m/usr/local/lib/python3.9/dist-packages/pandas/_libs/index.pyx\u001b[0m in \u001b[0;36mpandas._libs.index.IndexEngine.get_loc\u001b[0;34m()\u001b[0m\n",
            "\u001b[0;32m/usr/local/lib/python3.9/dist-packages/pandas/_libs/index.pyx\u001b[0m in \u001b[0;36mpandas._libs.index.IndexEngine.get_loc\u001b[0;34m()\u001b[0m\n",
            "\u001b[0;32mpandas/_libs/hashtable_class_helper.pxi\u001b[0m in \u001b[0;36mpandas._libs.hashtable.PyObjectHashTable.get_item\u001b[0;34m()\u001b[0m\n",
            "\u001b[0;32mpandas/_libs/hashtable_class_helper.pxi\u001b[0m in \u001b[0;36mpandas._libs.hashtable.PyObjectHashTable.get_item\u001b[0;34m()\u001b[0m\n",
            "\u001b[0;31mKeyError\u001b[0m: 'SalePrice'",
            "\nThe above exception was the direct cause of the following exception:\n",
            "\u001b[0;31mKeyError\u001b[0m                                  Traceback (most recent call last)",
            "\u001b[0;32m<ipython-input-156-fc5674272cce>\u001b[0m in \u001b[0;36m<cell line: 1>\u001b[0;34m()\u001b[0m\n\u001b[0;32m----> 1\u001b[0;31m \u001b[0msubm_df\u001b[0m \u001b[0;34m=\u001b[0m \u001b[0mmake_cats\u001b[0m\u001b[0;34m(\u001b[0m\u001b[0mdrop_n_log\u001b[0m\u001b[0;34m(\u001b[0m\u001b[0mdf_test\u001b[0m\u001b[0;34m.\u001b[0m\u001b[0mcopy\u001b[0m\u001b[0;34m(\u001b[0m\u001b[0;34m)\u001b[0m\u001b[0;34m)\u001b[0m\u001b[0;34m)\u001b[0m\u001b[0;34m\u001b[0m\u001b[0;34m\u001b[0m\u001b[0m\n\u001b[0m\u001b[1;32m      2\u001b[0m \u001b[0;34m\u001b[0m\u001b[0m\n\u001b[1;32m      3\u001b[0m \u001b[0mpred_ys\u001b[0m \u001b[0;34m=\u001b[0m \u001b[0md\u001b[0m\u001b[0;34m.\u001b[0m\u001b[0mpridict\u001b[0m\u001b[0;34m(\u001b[0m\u001b[0msubm_df\u001b[0m\u001b[0;34m)\u001b[0m\u001b[0;34m\u001b[0m\u001b[0;34m\u001b[0m\u001b[0m\n\u001b[1;32m      4\u001b[0m \u001b[0mpred_ys\u001b[0m \u001b[0;34m=\u001b[0m \u001b[0mnp\u001b[0m\u001b[0;34m.\u001b[0m\u001b[0me\u001b[0m\u001b[0;34m**\u001b[0m\u001b[0mpred_ys\u001b[0m\u001b[0;34m\u001b[0m\u001b[0;34m\u001b[0m\u001b[0m\n",
            "\u001b[0;32m<ipython-input-127-8d92bffd4199>\u001b[0m in \u001b[0;36mdrop_n_log\u001b[0;34m(df, testdf)\u001b[0m\n\u001b[1;32m     25\u001b[0m   \u001b[0mto_log\u001b[0m \u001b[0;34m=\u001b[0m \u001b[0mtestdf\u001b[0m\u001b[0;34m+\u001b[0m\u001b[0;34m[\u001b[0m\u001b[0;34m'LotFrontage'\u001b[0m\u001b[0;34m,\u001b[0m \u001b[0;34m'LotArea'\u001b[0m\u001b[0;34m,\u001b[0m \u001b[0;34m'GrLivArea'\u001b[0m\u001b[0;34m]\u001b[0m\u001b[0;31m#, 'OutsideArea']#, 'TotalSF']#, 'GarageArea','WoodDeckSF', 'MasVnrArea','TotalBsmtSF','2ndFlrSF', 'PorchSF']#]#,]#, ]#, ]#]]\u001b[0m\u001b[0;34m\u001b[0m\u001b[0;34m\u001b[0m\u001b[0m\n\u001b[1;32m     26\u001b[0m   \u001b[0;32mfor\u001b[0m \u001b[0mcol\u001b[0m \u001b[0;32min\u001b[0m \u001b[0mto_log\u001b[0m\u001b[0;34m:\u001b[0m\u001b[0;34m\u001b[0m\u001b[0;34m\u001b[0m\u001b[0m\n\u001b[0;32m---> 27\u001b[0;31m     \u001b[0mdf_num\u001b[0m\u001b[0;34m[\u001b[0m\u001b[0mcol\u001b[0m\u001b[0;34m]\u001b[0m \u001b[0;34m=\u001b[0m \u001b[0mnp\u001b[0m\u001b[0;34m.\u001b[0m\u001b[0mlog\u001b[0m\u001b[0;34m(\u001b[0m\u001b[0mdf_num\u001b[0m\u001b[0;34m[\u001b[0m\u001b[0mcol\u001b[0m\u001b[0;34m]\u001b[0m\u001b[0;34m)\u001b[0m\u001b[0;34m\u001b[0m\u001b[0;34m\u001b[0m\u001b[0m\n\u001b[0m\u001b[1;32m     28\u001b[0m   \u001b[0mprint\u001b[0m\u001b[0;34m(\u001b[0m\u001b[0mdf_num\u001b[0m\u001b[0;34m.\u001b[0m\u001b[0mshape\u001b[0m\u001b[0;34m)\u001b[0m\u001b[0;34m\u001b[0m\u001b[0;34m\u001b[0m\u001b[0m\n\u001b[1;32m     29\u001b[0m   \u001b[0;32mreturn\u001b[0m \u001b[0mdf_num\u001b[0m\u001b[0;34m\u001b[0m\u001b[0;34m\u001b[0m\u001b[0m\n",
            "\u001b[0;32m/usr/local/lib/python3.9/dist-packages/pandas/core/frame.py\u001b[0m in \u001b[0;36m__getitem__\u001b[0;34m(self, key)\u001b[0m\n\u001b[1;32m   3503\u001b[0m             \u001b[0;32mif\u001b[0m \u001b[0mself\u001b[0m\u001b[0;34m.\u001b[0m\u001b[0mcolumns\u001b[0m\u001b[0;34m.\u001b[0m\u001b[0mnlevels\u001b[0m \u001b[0;34m>\u001b[0m \u001b[0;36m1\u001b[0m\u001b[0;34m:\u001b[0m\u001b[0;34m\u001b[0m\u001b[0;34m\u001b[0m\u001b[0m\n\u001b[1;32m   3504\u001b[0m                 \u001b[0;32mreturn\u001b[0m \u001b[0mself\u001b[0m\u001b[0;34m.\u001b[0m\u001b[0m_getitem_multilevel\u001b[0m\u001b[0;34m(\u001b[0m\u001b[0mkey\u001b[0m\u001b[0;34m)\u001b[0m\u001b[0;34m\u001b[0m\u001b[0;34m\u001b[0m\u001b[0m\n\u001b[0;32m-> 3505\u001b[0;31m             \u001b[0mindexer\u001b[0m \u001b[0;34m=\u001b[0m \u001b[0mself\u001b[0m\u001b[0;34m.\u001b[0m\u001b[0mcolumns\u001b[0m\u001b[0;34m.\u001b[0m\u001b[0mget_loc\u001b[0m\u001b[0;34m(\u001b[0m\u001b[0mkey\u001b[0m\u001b[0;34m)\u001b[0m\u001b[0;34m\u001b[0m\u001b[0;34m\u001b[0m\u001b[0m\n\u001b[0m\u001b[1;32m   3506\u001b[0m             \u001b[0;32mif\u001b[0m \u001b[0mis_integer\u001b[0m\u001b[0;34m(\u001b[0m\u001b[0mindexer\u001b[0m\u001b[0;34m)\u001b[0m\u001b[0;34m:\u001b[0m\u001b[0;34m\u001b[0m\u001b[0;34m\u001b[0m\u001b[0m\n\u001b[1;32m   3507\u001b[0m                 \u001b[0mindexer\u001b[0m \u001b[0;34m=\u001b[0m \u001b[0;34m[\u001b[0m\u001b[0mindexer\u001b[0m\u001b[0;34m]\u001b[0m\u001b[0;34m\u001b[0m\u001b[0;34m\u001b[0m\u001b[0m\n",
            "\u001b[0;32m/usr/local/lib/python3.9/dist-packages/pandas/core/indexes/base.py\u001b[0m in \u001b[0;36mget_loc\u001b[0;34m(self, key, method, tolerance)\u001b[0m\n\u001b[1;32m   3629\u001b[0m                 \u001b[0;32mreturn\u001b[0m \u001b[0mself\u001b[0m\u001b[0;34m.\u001b[0m\u001b[0m_engine\u001b[0m\u001b[0;34m.\u001b[0m\u001b[0mget_loc\u001b[0m\u001b[0;34m(\u001b[0m\u001b[0mcasted_key\u001b[0m\u001b[0;34m)\u001b[0m\u001b[0;34m\u001b[0m\u001b[0;34m\u001b[0m\u001b[0m\n\u001b[1;32m   3630\u001b[0m             \u001b[0;32mexcept\u001b[0m \u001b[0mKeyError\u001b[0m \u001b[0;32mas\u001b[0m \u001b[0merr\u001b[0m\u001b[0;34m:\u001b[0m\u001b[0;34m\u001b[0m\u001b[0;34m\u001b[0m\u001b[0m\n\u001b[0;32m-> 3631\u001b[0;31m                 \u001b[0;32mraise\u001b[0m \u001b[0mKeyError\u001b[0m\u001b[0;34m(\u001b[0m\u001b[0mkey\u001b[0m\u001b[0;34m)\u001b[0m \u001b[0;32mfrom\u001b[0m \u001b[0merr\u001b[0m\u001b[0;34m\u001b[0m\u001b[0;34m\u001b[0m\u001b[0m\n\u001b[0m\u001b[1;32m   3632\u001b[0m             \u001b[0;32mexcept\u001b[0m \u001b[0mTypeError\u001b[0m\u001b[0;34m:\u001b[0m\u001b[0;34m\u001b[0m\u001b[0;34m\u001b[0m\u001b[0m\n\u001b[1;32m   3633\u001b[0m                 \u001b[0;31m# If we have a listlike key, _check_indexing_error will raise\u001b[0m\u001b[0;34m\u001b[0m\u001b[0;34m\u001b[0m\u001b[0m\n",
            "\u001b[0;31mKeyError\u001b[0m: 'SalePrice'"
          ]
        }
      ],
      "source": [
        "\n",
        "subm_df = make_cats(drop_n_log(df_test.copy()))\n",
        "\n",
        "pred_ys = d.pridict(subm_df)\n",
        "pred_ys = np.e**pred_ys"
      ]
    },
    {
      "cell_type": "markdown",
      "metadata": {
        "id": "yP3EB3wXvXJ-"
      },
      "source": [
        "## LassoLarsCV 0.92\n",
        "\n",
        "(['SalePrice',\n",
        "  'OverallQual',\n",
        "  'TotalSF',\n",
        "  'GarageArea',\n",
        "  'LotArea',\n",
        "  'Foundation',\n",
        "  'Fireplaces',\n",
        "  'OverallCond',\n",
        "  'HalfBath',\n",
        "  'FullBath',\n",
        "  'CentralAir',\n",
        "  'BsmtExposure',\n",
        "  'BsmtFullBath',\n",
        "  'PavedDrive',\n",
        "  'MasVnrType',\n",
        "  'Functional',\n",
        "  'BedroomAbvGr',\n",
        "  'GrLivArea',\n",
        "  '2ndFlrSF',\n",
        "  'Condition1',\n",
        "  'ExterCond'],\n",
        " 0.9236066685585789) - basic log['LotFrontage', 'LotArea', 'GrLivArea', 'SalePrice']. LassoLarsCV"
      ]
    },
    {
      "cell_type": "markdown",
      "source": [
        "## Stacking .92 = .92\n",
        "\n",
        "  estimators = [('LinReg',LinearRegression()), ('Lasso',LassoLarsCV(max_iter=15,eps=0.01)), ('Tree',DecisionTreeRegressor(max_depth=5)),\n",
        "                ('LGBR', LGBMRegressor(max_depth = 5, learning_rate = 0.05))]\n",
        "final = RandomForestRegressor(max_depth=6)\n",
        "\n",
        "train: r2 0.9259061491493182\n",
        "train: root mean squared error: 0.009157887674229528\n",
        "\n",
        "Test:\n",
        "test: r2 0.9217500638734336\n",
        "test: root mean squared error: 0.009142663976721768\n",
        "\n",
        "log = ['LotFrontage', 'LotArea', 'GrLivArea', 'SalePrice']\n",
        "\n",
        "cols = ['SalePrice', 'OverallQual', 'TotalSF', 'MSSubClass', 'GarageArea', 'BsmtHalfBath', 'MSSubClass', 'Fireplaces', 'LotArea', 'OverallCond', 'HalfBath', 'YearRemodAdd', 'OverallCond', 'HalfBath', 'FullBath', 'YearBuilt', 'BsmtFullBath', 'GrLivArea', 'GarageYrBlt', '2ndFlrSF', 'OutsideArea', 'YrSold', 'YrSold', 'PorchSF', 'WoodDeckSF', 'PorchSF', 'MasVnrArea', 'TotalBsmtSF']\n",
        "\n",
        "factorized?"
      ],
      "metadata": {
        "id": "uRYvl16GFYcQ"
      }
    },
    {
      "cell_type": "markdown",
      "source": [
        "Best so far - 0.93 stacking of linear regression with factorized cats."
      ],
      "metadata": {
        "id": "_5l54kJAZFBX"
      }
    },
    {
      "cell_type": "code",
      "source": [
        "Создать датасет в который добавляются условия и параметры если он лучше"
      ],
      "metadata": {
        "id": "UlHLAkCXZCKE"
      },
      "execution_count": null,
      "outputs": []
    }
  ],
  "metadata": {
    "colab": {
      "provenance": [],
      "authorship_tag": "ABX9TyMMSjjZLDGyH3c860z3fmyk",
      "include_colab_link": true
    },
    "gpuClass": "standard",
    "kernelspec": {
      "display_name": "Python 3",
      "name": "python3"
    },
    "language_info": {
      "name": "python"
    }
  },
  "nbformat": 4,
  "nbformat_minor": 0
}