{
  "cells": [
    {
      "cell_type": "markdown",
      "metadata": {
        "id": "view-in-github",
        "colab_type": "text"
      },
      "source": [
        "<a href=\"https://colab.research.google.com/github/Dimildizio/DS_course/blob/main/gradient-boosting/notebooks/Housing_prices_kaggle_baseline.ipynb\" target=\"_parent\"><img src=\"https://colab.research.google.com/assets/colab-badge.svg\" alt=\"Open In Colab\"/></a>"
      ]
    },
    {
      "cell_type": "code",
      "source": [
        "#!pip install catboost"
      ],
      "metadata": {
        "id": "chjZYHAKmr0G"
      },
      "execution_count": 1011,
      "outputs": []
    },
    {
      "cell_type": "code",
      "execution_count": 1012,
      "metadata": {
        "id": "GzRAxg9WsqCF"
      },
      "outputs": [],
      "source": [
        "import itertools\n",
        "import numpy as np\n",
        "import pandas as pd\n",
        "import seaborn as sns\n",
        "\n",
        "#from catboost import CatBoostRegressor\n",
        "from google.colab import files\n",
        "from lightgbm import LGBMRegressor\n",
        "from matplotlib import pyplot as plt\n",
        "from random import shuffle\n",
        "from scipy import stats\n",
        "from sklearn.ensemble import RandomForestRegressor, BaggingRegressor, StackingRegressor\n",
        "from sklearn.linear_model import LassoLarsCV, LinearRegression, Lasso, Ridge, \\\n",
        "LogisticRegression, LogisticRegressionCV\n",
        "from sklearn.model_selection import train_test_split\n",
        "from sklearn.metrics import mean_squared_error, r2_score\n",
        "from sklearn.neighbors import KNeighborsRegressor\n",
        "from sklearn.pipeline import make_pipeline\n",
        "from sklearn.preprocessing import OneHotEncoder, StandardScaler, LabelEncoder,\\\n",
        "Normalizer\n",
        "from sklearn.tree import DecisionTreeRegressor\n"
      ]
    },
    {
      "cell_type": "code",
      "execution_count": 1013,
      "metadata": {
        "id": "9xqpawjctOhV"
      },
      "outputs": [],
      "source": [
        "pd.set_option('display.max_rows', 100)\n",
        "pd.set_option('max_colwidth', 80)"
      ]
    },
    {
      "cell_type": "code",
      "execution_count": 1014,
      "metadata": {
        "id": "7AK-K2sOtO7g"
      },
      "outputs": [],
      "source": [
        "raw_df_train = pd.read_csv('https://raw.githubusercontent.com/Dimildizio/DS_course/main/gradient-boosting/data/train.csv', index_col=0)\n",
        "raw_df_test = pd.read_csv('https://raw.githubusercontent.com/Dimildizio/DS_course/main/gradient-boosting/data/test.csv', index_col=0)\n"
      ]
    },
    {
      "cell_type": "code",
      "source": [
        "def is_cat(df, col):\n",
        "  '''checks if a column is of object or category type'''\n",
        "  return df[col].dtype in ['object', 'category']"
      ],
      "metadata": {
        "id": "mlvPC7TzTl4q"
      },
      "execution_count": 1015,
      "outputs": []
    },
    {
      "cell_type": "code",
      "execution_count": 1016,
      "metadata": {
        "id": "Aoz93DTHtRQq"
      },
      "outputs": [],
      "source": [
        "def improve_cats(dataframe) -> pd.DataFrame:\n",
        "  '''turns dtypes 64->32 and object->category'''\n",
        "  df = dataframe.copy()\n",
        "  for col in df.columns:\n",
        "    if df[col].dtype == 'int64':\n",
        "      df[col] = df[col].astype('int32')\n",
        "    elif df[col].dtype == 'float64':\n",
        "      df[col] = df[col].astype('float32')\n",
        "    elif df[col].dtype == 'object':\n",
        "      df[col] = df[col].astype('category')\n",
        "    else:\n",
        "      print('Unknown data type')\n",
        "      return\n",
        "  return df"
      ]
    },
    {
      "cell_type": "code",
      "execution_count": 1017,
      "metadata": {
        "id": "RpsoL7rwuMRx"
      },
      "outputs": [],
      "source": [
        "#Change after we get encoding\n",
        "def get_valid_cols(df, ok_cols, to_drop=[]):\n",
        "  '''selects all coumns that are not in handpicked list, shouldn't be dropped and not categorical''' \n",
        "  return [x for x in df.columns if x not in ok_cols+to_drop and not is_cat(df, x)] #Change when cats are encoded"
      ]
    },
    {
      "cell_type": "code",
      "execution_count": 1018,
      "metadata": {
        "id": "-zMivoOvuhVe"
      },
      "outputs": [],
      "source": [
        "def split_data(df, target):\n",
        "  '''splits data'''\n",
        "  X = df.drop(target, axis=1)\n",
        "  y = df[target]\n",
        "  return train_test_split(X, y, test_size=0.2, random_state=13)\n",
        "  "
      ]
    },
    {
      "cell_type": "code",
      "execution_count": 1019,
      "metadata": {
        "id": "hp4ISXf0ukFr"
      },
      "outputs": [],
      "source": [
        "#Could run separate times for y_pred_train, y_pred_test but training two could take longer \n",
        "def run_model(X_train, y_train, X_test, model = LinearRegression):\n",
        "  '''creates a pipeline for a model and predicts the results'''\n",
        "  \n",
        "  estimators = [('LinReg',LinearRegression()), ('Lasso',LassoLarsCV(max_iter=12,eps=0.01)), ('Tree',DecisionTreeRegressor(max_depth=5)),\n",
        "                ('LGBR', LGBMRegressor(max_depth = 5, learning_rate = 0.04))]#, ('KNN', KNeighborsRegressor))]\n",
        "                #'Bag',BaggingRegressor(estimator=LinearRegression(), n_estimators=5, random_state=42)),\n",
        "\n",
        "  pipe = make_pipeline(StandardScaler(), LinearRegression())#StackingRegressor(estimators=estimators, final_estimator=  RandomForestRegressor(max_depth = 6))) #RandomForestRegressor(max_depth=7)))\n",
        "                       #KNeighborsRegressor(n_neighbors = 10))#BaggingRegressor(estimator=LinearRegression(), n_estimators=5, random_state=42))#LogisticRegressionCV())#( max_depth=10))\n",
        "  pipe.fit(X_train, y_train)\n",
        "\n",
        "  y_pred_train = pipe.predict(X_train)\n",
        "  y_pred_test = pipe.predict(X_test)\n",
        "  return y_pred_train, y_pred_test, pipe"
      ]
    },
    {
      "cell_type": "code",
      "execution_count": 1020,
      "metadata": {
        "id": "OEJsDrC8x6Eh"
      },
      "outputs": [],
      "source": [
        "def split_run_test(df, target = 'SalePrice'):\n",
        "  '''splits data and runs model'''\n",
        "  X_train, X_test, y_train, y_test = split_data(df, target)\n",
        "  y_pred_train, y_pred_test, model = run_model(X_train, y_train, X_test)\n",
        "\n",
        "  print_scores(y_train, y_test, y_pred_train, y_pred_test, len(X_train.columns), print_train=True)\n",
        "  return model"
      ]
    },
    {
      "cell_type": "code",
      "source": [
        "def adjusted_r2(yt,yp, colnum):\n",
        "  #computes adjusted r2 score\n",
        "   return 1 - (1 - r2_score(yt, yp)) * ((yt.shape[0]-1) / (yt.shape[0] - colnum))"
      ],
      "metadata": {
        "id": "5F1WYoyzywyw"
      },
      "execution_count": 1021,
      "outputs": []
    },
    {
      "cell_type": "code",
      "execution_count": 1022,
      "metadata": {
        "id": "vm0BiE4wumyu"
      },
      "outputs": [],
      "source": [
        "def print_scores(y_train, y_test, y_pred_train, y_pred_test, colnum, print_train=False):\n",
        "  '''outprints adjusted r2 and rmse results on train and validation'''\n",
        "  if print_train:\n",
        "    #print('train: r2', r2_score(y_train, y_pred_train))\n",
        "    print('train adjusted r2:', adjusted_r2(y_train, y_pred_train, colnum))\n",
        "    print(\"train: root mean squared error:\", np.sqrt(mean_squared_error(np.log(y_pred_train), np.log(y_train))))\n",
        "  print('Test:')\n",
        "  #print('test: r2', r2_score(y_test, y_pred_test))\n",
        "  print('test adjusted r2:', adjusted_r2(y_test,y_pred_test, colnum))\n",
        "  print(\"test: root mean squared error:\", np.sqrt(mean_squared_error(np.log(y_pred_test), np.log(y_test))))\n",
        "\n",
        "  print()"
      ]
    },
    {
      "cell_type": "code",
      "execution_count": 1023,
      "metadata": {
        "id": "5S9NxpvfuqBR"
      },
      "outputs": [],
      "source": [
        "def find_best_param(dataset: pd.DataFrame, valid_cols: list, ok_cols: list, to_drop = [], r2_threshold = 0.67, target = \"SalePrice\"):\n",
        "  '''loops through all valid columns tries to find columns that give the best r2 result if added to handpicked ones'''\n",
        "\n",
        "  dataset = dataset.copy()\n",
        "  best_col = ['', r2_threshold]\n",
        "  \n",
        "  for col in valid_cols:\n",
        "    test_cols = ok_cols + [col]\n",
        "    df = dataset[test_cols]\n",
        "  \n",
        "    try:\n",
        "      X_train, X_test, y_train, y_test = split_data(df, target)\n",
        "      y_pred_train, y_pred_test, _ = run_model(X_train, y_train, X_test)\n",
        "\n",
        "      r2 = adjusted_r2(y_test, y_pred_test, X_train.shape[1])\n",
        "      if r2 > r2_threshold:\n",
        "        r2_threshold = r2\n",
        "        best_col = [col, r2]\n",
        "        #print_scores(y_train, y_test, y_pred_train, y_pred_test)\n",
        "    except ValueError:\n",
        "      continue\n",
        "      #print(col, 'has NaN')\n",
        "  \n",
        "  result = ok_cols + [best_col[0]]\n",
        "  #print('Best result:', result, best_col[1])\n",
        "  return best_col\n"
      ]
    },
    {
      "cell_type": "code",
      "execution_count": 1024,
      "metadata": {
        "id": "xiLbLFEEuqEq"
      },
      "outputs": [],
      "source": [
        "def get_best_cols(df, ok_cols: list, to_drop =[],  r2_threshold=0.67):\n",
        "  '''shuffles the columns once and finds the set of columns that has the best r2'''\n",
        "  valid_cols = get_valid_cols(df_cats, ok_cols, to_drop)#\n",
        "  valid_nodups = valid_cols.copy()\n",
        "  shuffle(valid_cols)\n",
        "  #best_result = r2_threshold\n",
        "  for col in valid_cols:\n",
        "    #print(new_valid)\n",
        "    best_col, r2 = find_best_param(df_cats, valid_nodups, ok_cols, r2_threshold)\n",
        "    if r2 > r2_threshold:# > 0.001:\n",
        "      r2_threshold = r2\n",
        "      ok_cols.append(best_col)\n",
        "      valid_nodups.remove(col)\n",
        "  return ok_cols, r2_threshold\n"
      ]
    },
    {
      "cell_type": "code",
      "execution_count": 1025,
      "metadata": {
        "id": "qmin6wynvQEC"
      },
      "outputs": [],
      "source": [
        "def many_shuffles(df, my_cols = ['SalePrice', 'OverallQual'], to_drop = [], num=10, threshold = 0.67):\n",
        "  '''runs shuffle several times to find the best order of columns sets'''\n",
        "  bestestbest = [my_cols, threshold]\n",
        "  for x in range(num):\n",
        "    print('shuffle:', x+1)\n",
        "    result = get_best_cols(df, my_cols.copy(), to_drop)\n",
        "    if result[1] > bestestbest[1]:\n",
        "      bestestbest = result\n",
        "      print(bestestbest)\n",
        "  print('\\n\\nThe result is:')\n",
        "  print(bestestbest)\n",
        "  return bestestbest"
      ]
    },
    {
      "cell_type": "code",
      "source": [
        "def create_new_cols(df):\n",
        "  #create Total SF\n",
        "  df[\"TotalSF\"] = df[\"1stFlrSF\"] + df[\"2ndFlrSF\"] + df[\"TotalBsmtSF\"] \n",
        "  #create Porch\n",
        "  df['PorchSF'] = df['OpenPorchSF'] + df['EnclosedPorch'] + df['3SsnPorch'] + df['ScreenPorch']\n",
        "  #Create green area\n",
        "  df[\"OutsideArea\"] = df[\"LotArea\"] - df[\"GrLivArea\"] - df[\"GarageArea\"] \n",
        "  #Create month sold * year\n",
        "  df['MonthSold'] = df['YrSold']*12 + df['MoSold'] #-df['YrSold'].min()\n",
        "  #dates_frames  = ['YearBuilt', 'YearRemodAdd', 'GarageYrBlt', 'YrSold','MoSold']\n",
        "\n",
        "  cols = ['KitchenAbvGr', 'BedroomAbvGr']\n",
        "\n",
        "  #Create booleans\n",
        "  bsmt = df['TotalBsmtSF']+df['BsmtFinSF1'] + df['BsmtFinSF2'] + df['BsmtUnfSF']\n",
        "  df['HasBsmt'] = bsmt.apply(lambda x: 1 if x > 0 else 0)  \n",
        "  df['Modern'] = df[['YearRemodAdd', 'YearBuilt']].max(axis=1).apply(lambda x: 1 if x > 2000 else 0)\n",
        "  df['Has2Floors'] = df['2ndFlrSF'].apply(lambda x: 1 if x>0 else 0)\n",
        "  df['HasGarage'] = df['GarageArea'].apply(lambda x: 1 if x > 0 else 0)\n",
        "  df['HasPool'] = df['PoolArea'].apply(lambda x: 1 if x > 0 else 0)\n",
        "  df['HasVnr'] = df['MasVnrArea'].apply(lambda x: 1 if x > 0 else 0)\n",
        "  #create bath\n",
        "  fullbsmtb = df['BsmtFullBath'].apply(lambda x: x if x > 0 else 0)\n",
        "  halfbsmtb = df['BsmtHalfBath'].apply(lambda x: x*0.5 if x > 0 else 0)\n",
        "  fullb = df['FullBath'].apply(lambda x: x if x > 0 else 0)\n",
        "  halfb = df['HalfBath'].apply(lambda x: x*0.5 if x > 0 else 0)\n",
        "  df['Bath'] = fullbsmtb + halfbsmtb + fullb + halfb\n",
        "\n",
        "  return df\n",
        "  \n",
        "# What to do with rooms?\n",
        "#df[['TotRmsAbvGrd', 'KitchenAbvGr','BedroomAbvGr','FullBath', 'HalfBath','BsmtFullBath','BsmtHalfBath']].head(10)"
      ],
      "metadata": {
        "id": "CiyYSAwaKUFA"
      },
      "execution_count": 1026,
      "outputs": []
    },
    {
      "cell_type": "code",
      "source": [],
      "metadata": {
        "id": "bp6LLGy3450J"
      },
      "execution_count": 1026,
      "outputs": []
    },
    {
      "cell_type": "code",
      "source": [
        "def drop_cols(df):\n",
        "  #drop baths\n",
        "  df = df.drop(columns = ['BsmtFullBath', 'BsmtHalfBath', 'FullBath', 'HalfBath'])\n",
        "  #drop bsmt qual\n",
        "  #df = df.drop(columns = ['1stFlrSF', '2ndFlrSF', 'TotalBsmtSF'])\n",
        "  df = df.drop(columns=['BsmtFinSF1', 'BsmtFinSF2', 'BsmtUnfSF'])\n",
        "  #drop porch\n",
        "  df = df.drop(columns = ['OpenPorchSF', 'EnclosedPorch', '3SsnPorch', 'ScreenPorch'])\n",
        "  #drop garage\n",
        "  df = df.drop(columns=['GarageCars'])                                              \n",
        "  #drop misc\n",
        "  df = df.drop(columns=['LowQualFinSF', 'PoolArea', 'MiscVal', 'TotRmsAbvGrd', '1stFlrSF'])   \n",
        "  #drop separate year and month\n",
        "  #df_num = df_num.drop(columns = ['YrSold', 'MoSold'])\n",
        "\n",
        "  return df  "
      ],
      "metadata": {
        "id": "gEfOy-Sih-Fb"
      },
      "execution_count": 1027,
      "outputs": []
    },
    {
      "cell_type": "code",
      "source": [
        "def fill_rows(df):\n",
        "  '''fills with values rows that have NaNs'''\n",
        "  df['GarageYrBlt'] = df['GarageYrBlt'].fillna(df['GarageYrBlt'].mean()) #REPLACE\n",
        "  return df\n",
        "  "
      ],
      "metadata": {
        "id": "U8yIL-59mKdL"
      },
      "execution_count": 1028,
      "outputs": []
    },
    {
      "cell_type": "code",
      "source": [
        "def log_cols(df, log_cols):\n",
        "  '''adds 1 to all numeric columns and np.logs handpicked columns'''\n",
        "  for column in [col for col in df.columns if not is_cat(df, col)]:\n",
        "    df[column] = df[column]+1\n",
        "\n",
        "  for col in log_cols:\n",
        "    df[col] = np.log(df[col])\n",
        "  return df"
      ],
      "metadata": {
        "id": "FG8zAZUgxJOc"
      },
      "execution_count": 1029,
      "outputs": []
    },
    {
      "cell_type": "code",
      "execution_count": 1030,
      "metadata": {
        "id": "pdUghZadtXju"
      },
      "outputs": [],
      "source": [
        "def drop_n_log(df, testdf=False):\n",
        "  '''runs drop, create new, log, fill functions'''\n",
        "  df_num = df.copy()\n",
        "\n",
        "  #Create new columns\n",
        "  df_num = create_new_cols(df_num)\n",
        "  #drop columns \n",
        "  df_num = drop_cols(df_num)\n",
        "  df_num = fill_rows(df_num)\n",
        "\n",
        "\n",
        "\n",
        "  #logs selected cols \n",
        "  target = [] if testdf else ['SalePrice']\n",
        "  to_log = target + ['LotFrontage', 'LotArea', 'GrLivArea']#, 'OutsideArea']#, 'TotalSF']#, 'GarageArea','WoodDeckSF', 'MasVnrArea','TotalBsmtSF','2ndFlrSF', 'PorchSF']#]#,]#, ]#, ]#]]\n",
        "  df_num = log_cols(df_num, to_log)\n",
        "\n",
        "  print(df_num.shape)\n",
        "  return df_num"
      ]
    },
    {
      "cell_type": "code",
      "execution_count": 1031,
      "metadata": {
        "id": "gF4-TsSttsiN"
      },
      "outputs": [],
      "source": [
        "#Cut iqr\n",
        "def cut_iqr(df, col, mult):\n",
        "  '''cuts iqr*3 ouliers'''\n",
        "  d=df[col].describe()\n",
        "  val =(d['50%'] + (d['75%']-d['25%'])) * mult\n",
        "  return df[df[col] <= val]\n",
        "\n",
        "def plotme(df, col):\n",
        "    if col != 'SalePrice':\n",
        "      sns.scatterplot(y = df['SalePrice'], x = df[col])\n",
        "\n",
        "def make_iqr(df_num):\n",
        "  '''cuts iqr for selected columns and plots the graph'''\n",
        "  df_iqr = df_num.copy()\n",
        "\n",
        "  #for col in [x for x in df_num.columns if not is_cat(df_num, x)]:\n",
        "  for col in ['SalePrice', 'LotFrontage', 'LotArea', 'MasVnrArea', \\\n",
        "              'TotalBsmtSF', 'GrLivArea', \\\n",
        "              'BedroomAbvGr', 'KitchenAbvGr', 'Fireplaces', 'GarageArea', 'PorchSF']:\n",
        "    df_iqr = cut_iqr(df_iqr, col, 3)\n",
        "    #plotme(df_iqr, col)\n",
        "\n",
        "  print(df_iqr.shape)\n",
        "  return df_iqr"
      ]
    },
    {
      "cell_type": "code",
      "execution_count": 1056,
      "metadata": {
        "id": "QbG6xN0VtzoK"
      },
      "outputs": [],
      "source": [
        "#we need to remove empty values in categories if there are ones \n",
        "def cut_cats(df):\n",
        "  '''removes unused cats'''\n",
        "  for catcol in df.columns:\n",
        "    if is_cat(df, catcol):\n",
        "      df[catcol].cat.remove_unused_categories() \n",
        "  return df\n",
        "\n",
        "def create_mt_catcol(df_new):\n",
        "  '''if cat col has NaNs creates a MISSING category and assigns taht values to NaN cell'''\n",
        "  df = df_new.copy()\n",
        "  for col in df.columns:\n",
        "      if is_cat(df, col):\n",
        "        if df[col].isna().any():\n",
        "          df[col] = df[col].cat.add_categories(['MISSING'])\n",
        "          df[col] = df[col].fillna('MISSING')\n",
        "  df=cut_cats(df)\n",
        "  return df\n",
        "\n",
        "def factorize_cats(df):\n",
        "  '''factorizes a cat column'''\n",
        "  df = df.copy()\n",
        "  new_df=df.select_dtypes(include=['category']).apply(lambda x: x.factorize()[0])  \n",
        "  print(type(new_df))\n",
        "  for col in new_df.columns:\n",
        "    #print(col)\n",
        "    df[col] = new_df[col]\n",
        "  print(df.shape)\n",
        "  return df\n",
        "\n",
        "def make_cats(df_iqr):\n",
        "  '''drops cat columns and runs other cat processing funcitons'''\n",
        "  df_cats = df_iqr.drop(columns = [col for col in df_iqr.columns if is_cat(df_iqr,col)])\n",
        "  '''d = ['PoolQC', 'MiscFeature', 'Alley', 'Fence', 'Utilities', 'Condition1', \n",
        "                        'Condition2', 'Street', 'LandContour', 'LandSlope', \n",
        "                  'RoofMatl', 'ExterCond', 'BsmtCond', 'BsmtFinType2', 'Heating', 'CentralAir', \n",
        "                  'Electrical', 'Functional', 'GarageQual', 'GarageCond', 'PavedDrive', 'SaleType']#, axis = 1)\n",
        "  df_cats = df_iqr.drop(columns = [col for col in d])  #drop cols'''\n",
        "  df_cats = create_mt_catcol(df_cats)                  #fill NaNs with MISSING\n",
        "\n",
        "  #df_cats =  factorize_cats(df_cats)                   #factorize\n",
        "  print(df_cats.shape)\n",
        "  return df_cats"
      ]
    },
    {
      "cell_type": "code",
      "execution_count": 1057,
      "metadata": {
        "id": "gHP7BG2CtVLd"
      },
      "outputs": [],
      "source": [
        "df = improve_cats(raw_df_train)\n",
        "df_test = improve_cats(raw_df_test)"
      ]
    },
    {
      "cell_type": "code",
      "execution_count": 1058,
      "metadata": {
        "colab": {
          "base_uri": "https://localhost:8080/"
        },
        "id": "BSGpR7E18IfO",
        "outputId": "e5b8c198-3b6d-4713-d31f-ed5642e98225"
      },
      "outputs": [
        {
          "output_type": "stream",
          "name": "stdout",
          "text": [
            "(1460, 74)\n"
          ]
        }
      ],
      "source": [
        "df_num = drop_n_log(df)"
      ]
    },
    {
      "cell_type": "code",
      "execution_count": 1059,
      "metadata": {
        "colab": {
          "base_uri": "https://localhost:8080/"
        },
        "id": "DZMRb-k-8dmj",
        "outputId": "ba2b1e36-ea45-45a5-ac4b-a489aa2e90b1"
      },
      "outputs": [
        {
          "output_type": "stream",
          "name": "stdout",
          "text": [
            "(1140, 74)\n"
          ]
        }
      ],
      "source": [
        "df_iqr= make_iqr(df_num)"
      ]
    },
    {
      "cell_type": "code",
      "execution_count": 1060,
      "metadata": {
        "id": "OmbGKuWO8noz",
        "outputId": "0173f663-7bb2-4365-953a-ddf4b68ae879",
        "colab": {
          "base_uri": "https://localhost:8080/"
        }
      },
      "outputs": [
        {
          "output_type": "stream",
          "name": "stdout",
          "text": [
            "(1140, 31)\n"
          ]
        }
      ],
      "source": [
        "df_cats = make_cats(df_iqr)"
      ]
    },
    {
      "cell_type": "code",
      "execution_count": 1061,
      "metadata": {
        "id": "tVQIX5ch84C7"
      },
      "outputs": [],
      "source": [
        "#model.predict()"
      ]
    },
    {
      "cell_type": "code",
      "execution_count": 1062,
      "metadata": {
        "colab": {
          "base_uri": "https://localhost:8080/"
        },
        "id": "cHityhEMu45R",
        "outputId": "17f11f77-2f95-4419-c20b-b8bbb7a8a210"
      },
      "outputs": [
        {
          "output_type": "execute_result",
          "data": {
            "text/plain": [
              "['TotalSF', 0.6834851382217757]"
            ]
          },
          "metadata": {},
          "execution_count": 1062
        }
      ],
      "source": [
        "#Find second best parameter\n",
        "my_cols = ['SalePrice']#, 'OverallQual']\n",
        "valids = get_valid_cols(df_cats, my_cols, ['OverallQual'])\n",
        "find_best_param(df_cats, valids, my_cols, ['OverallQual'], r2_threshold = 0.5)"
      ]
    },
    {
      "cell_type": "code",
      "execution_count": 1063,
      "metadata": {
        "colab": {
          "base_uri": "https://localhost:8080/",
          "height": 229
        },
        "id": "IhZGvD9ryfR_",
        "outputId": "3d00e158-0a6d-46de-e3ad-da158652674c"
      },
      "outputs": [
        {
          "output_type": "stream",
          "name": "stdout",
          "text": [
            "train adjusted r2: 0.8932503288311721\n",
            "train: root mean squared error: 0.010859331562209027\n",
            "Test:\n",
            "test adjusted r2: 0.8894890279602294\n",
            "test: root mean squared error: 0.010279758134528324\n",
            "\n"
          ]
        },
        {
          "output_type": "execute_result",
          "data": {
            "text/plain": [
              "Pipeline(steps=[('standardscaler', StandardScaler()),\n",
              "                ('linearregression', LinearRegression())])"
            ],
            "text/html": [
              "<style>#sk-container-id-26 {color: black;background-color: white;}#sk-container-id-26 pre{padding: 0;}#sk-container-id-26 div.sk-toggleable {background-color: white;}#sk-container-id-26 label.sk-toggleable__label {cursor: pointer;display: block;width: 100%;margin-bottom: 0;padding: 0.3em;box-sizing: border-box;text-align: center;}#sk-container-id-26 label.sk-toggleable__label-arrow:before {content: \"▸\";float: left;margin-right: 0.25em;color: #696969;}#sk-container-id-26 label.sk-toggleable__label-arrow:hover:before {color: black;}#sk-container-id-26 div.sk-estimator:hover label.sk-toggleable__label-arrow:before {color: black;}#sk-container-id-26 div.sk-toggleable__content {max-height: 0;max-width: 0;overflow: hidden;text-align: left;background-color: #f0f8ff;}#sk-container-id-26 div.sk-toggleable__content pre {margin: 0.2em;color: black;border-radius: 0.25em;background-color: #f0f8ff;}#sk-container-id-26 input.sk-toggleable__control:checked~div.sk-toggleable__content {max-height: 200px;max-width: 100%;overflow: auto;}#sk-container-id-26 input.sk-toggleable__control:checked~label.sk-toggleable__label-arrow:before {content: \"▾\";}#sk-container-id-26 div.sk-estimator input.sk-toggleable__control:checked~label.sk-toggleable__label {background-color: #d4ebff;}#sk-container-id-26 div.sk-label input.sk-toggleable__control:checked~label.sk-toggleable__label {background-color: #d4ebff;}#sk-container-id-26 input.sk-hidden--visually {border: 0;clip: rect(1px 1px 1px 1px);clip: rect(1px, 1px, 1px, 1px);height: 1px;margin: -1px;overflow: hidden;padding: 0;position: absolute;width: 1px;}#sk-container-id-26 div.sk-estimator {font-family: monospace;background-color: #f0f8ff;border: 1px dotted black;border-radius: 0.25em;box-sizing: border-box;margin-bottom: 0.5em;}#sk-container-id-26 div.sk-estimator:hover {background-color: #d4ebff;}#sk-container-id-26 div.sk-parallel-item::after {content: \"\";width: 100%;border-bottom: 1px solid gray;flex-grow: 1;}#sk-container-id-26 div.sk-label:hover label.sk-toggleable__label {background-color: #d4ebff;}#sk-container-id-26 div.sk-serial::before {content: \"\";position: absolute;border-left: 1px solid gray;box-sizing: border-box;top: 0;bottom: 0;left: 50%;z-index: 0;}#sk-container-id-26 div.sk-serial {display: flex;flex-direction: column;align-items: center;background-color: white;padding-right: 0.2em;padding-left: 0.2em;position: relative;}#sk-container-id-26 div.sk-item {position: relative;z-index: 1;}#sk-container-id-26 div.sk-parallel {display: flex;align-items: stretch;justify-content: center;background-color: white;position: relative;}#sk-container-id-26 div.sk-item::before, #sk-container-id-26 div.sk-parallel-item::before {content: \"\";position: absolute;border-left: 1px solid gray;box-sizing: border-box;top: 0;bottom: 0;left: 50%;z-index: -1;}#sk-container-id-26 div.sk-parallel-item {display: flex;flex-direction: column;z-index: 1;position: relative;background-color: white;}#sk-container-id-26 div.sk-parallel-item:first-child::after {align-self: flex-end;width: 50%;}#sk-container-id-26 div.sk-parallel-item:last-child::after {align-self: flex-start;width: 50%;}#sk-container-id-26 div.sk-parallel-item:only-child::after {width: 0;}#sk-container-id-26 div.sk-dashed-wrapped {border: 1px dashed gray;margin: 0 0.4em 0.5em 0.4em;box-sizing: border-box;padding-bottom: 0.4em;background-color: white;}#sk-container-id-26 div.sk-label label {font-family: monospace;font-weight: bold;display: inline-block;line-height: 1.2em;}#sk-container-id-26 div.sk-label-container {text-align: center;}#sk-container-id-26 div.sk-container {/* jupyter's `normalize.less` sets `[hidden] { display: none; }` but bootstrap.min.css set `[hidden] { display: none !important; }` so we also need the `!important` here to be able to override the default hidden behavior on the sphinx rendered scikit-learn.org. See: https://github.com/scikit-learn/scikit-learn/issues/21755 */display: inline-block !important;position: relative;}#sk-container-id-26 div.sk-text-repr-fallback {display: none;}</style><div id=\"sk-container-id-26\" class=\"sk-top-container\"><div class=\"sk-text-repr-fallback\"><pre>Pipeline(steps=[(&#x27;standardscaler&#x27;, StandardScaler()),\n",
              "                (&#x27;linearregression&#x27;, LinearRegression())])</pre><b>In a Jupyter environment, please rerun this cell to show the HTML representation or trust the notebook. <br />On GitHub, the HTML representation is unable to render, please try loading this page with nbviewer.org.</b></div><div class=\"sk-container\" hidden><div class=\"sk-item sk-dashed-wrapped\"><div class=\"sk-label-container\"><div class=\"sk-label sk-toggleable\"><input class=\"sk-toggleable__control sk-hidden--visually\" id=\"sk-estimator-id-81\" type=\"checkbox\" ><label for=\"sk-estimator-id-81\" class=\"sk-toggleable__label sk-toggleable__label-arrow\">Pipeline</label><div class=\"sk-toggleable__content\"><pre>Pipeline(steps=[(&#x27;standardscaler&#x27;, StandardScaler()),\n",
              "                (&#x27;linearregression&#x27;, LinearRegression())])</pre></div></div></div><div class=\"sk-serial\"><div class=\"sk-item\"><div class=\"sk-estimator sk-toggleable\"><input class=\"sk-toggleable__control sk-hidden--visually\" id=\"sk-estimator-id-82\" type=\"checkbox\" ><label for=\"sk-estimator-id-82\" class=\"sk-toggleable__label sk-toggleable__label-arrow\">StandardScaler</label><div class=\"sk-toggleable__content\"><pre>StandardScaler()</pre></div></div></div><div class=\"sk-item\"><div class=\"sk-estimator sk-toggleable\"><input class=\"sk-toggleable__control sk-hidden--visually\" id=\"sk-estimator-id-83\" type=\"checkbox\" ><label for=\"sk-estimator-id-83\" class=\"sk-toggleable__label sk-toggleable__label-arrow\">LinearRegression</label><div class=\"sk-toggleable__content\"><pre>LinearRegression()</pre></div></div></div></div></div></div></div>"
            ]
          },
          "metadata": {},
          "execution_count": 1063
        }
      ],
      "source": [
        "#test on best combination so far\n",
        "split_run_test(df_cats[['SalePrice', 'OverallQual', 'TotalSF', 'GarageArea', 'LotArea', 'Bath', 'Fireplaces', 'YearRemodAdd', 'HasGarage', 'YearBuilt', 'OverallCond', 'GrLivArea', 'BedroomAbvGr', 'YrSold', 'Modern', 'Has2Floors', '2ndFlrSF', 'WoodDeckSF', 'GarageYrBlt', 'HasVnr', 'LotArea']])"
      ]
    },
    {
      "cell_type": "code",
      "execution_count": 1064,
      "metadata": {
        "colab": {
          "base_uri": "https://localhost:8080/",
          "height": 246
        },
        "id": "UqzRu-aUu908",
        "outputId": "240fd458-2eca-4cdb-ad5d-b093924a3e17"
      },
      "outputs": [
        {
          "output_type": "stream",
          "name": "stdout",
          "text": [
            "(['SalePrice', 'OverallQual', 'TotalSF', 'YearRemodAdd', 'Bath', 'LotArea', 'HasGarage', 'YearBuilt', 'PorchSF', 'TotalBsmtSF', 'BedroomAbvGr'], 0.8862447354963122)\n",
            "train adjusted r2: 0.8701228536452152\n",
            "train: root mean squared error: 0.012084410074716716\n",
            "Test:\n",
            "test adjusted r2: 0.8862447354963122\n",
            "test: root mean squared error: 0.010728964171675674\n",
            "\n"
          ]
        },
        {
          "output_type": "execute_result",
          "data": {
            "text/plain": [
              "Pipeline(steps=[('standardscaler', StandardScaler()),\n",
              "                ('linearregression', LinearRegression())])"
            ],
            "text/html": [
              "<style>#sk-container-id-27 {color: black;background-color: white;}#sk-container-id-27 pre{padding: 0;}#sk-container-id-27 div.sk-toggleable {background-color: white;}#sk-container-id-27 label.sk-toggleable__label {cursor: pointer;display: block;width: 100%;margin-bottom: 0;padding: 0.3em;box-sizing: border-box;text-align: center;}#sk-container-id-27 label.sk-toggleable__label-arrow:before {content: \"▸\";float: left;margin-right: 0.25em;color: #696969;}#sk-container-id-27 label.sk-toggleable__label-arrow:hover:before {color: black;}#sk-container-id-27 div.sk-estimator:hover label.sk-toggleable__label-arrow:before {color: black;}#sk-container-id-27 div.sk-toggleable__content {max-height: 0;max-width: 0;overflow: hidden;text-align: left;background-color: #f0f8ff;}#sk-container-id-27 div.sk-toggleable__content pre {margin: 0.2em;color: black;border-radius: 0.25em;background-color: #f0f8ff;}#sk-container-id-27 input.sk-toggleable__control:checked~div.sk-toggleable__content {max-height: 200px;max-width: 100%;overflow: auto;}#sk-container-id-27 input.sk-toggleable__control:checked~label.sk-toggleable__label-arrow:before {content: \"▾\";}#sk-container-id-27 div.sk-estimator input.sk-toggleable__control:checked~label.sk-toggleable__label {background-color: #d4ebff;}#sk-container-id-27 div.sk-label input.sk-toggleable__control:checked~label.sk-toggleable__label {background-color: #d4ebff;}#sk-container-id-27 input.sk-hidden--visually {border: 0;clip: rect(1px 1px 1px 1px);clip: rect(1px, 1px, 1px, 1px);height: 1px;margin: -1px;overflow: hidden;padding: 0;position: absolute;width: 1px;}#sk-container-id-27 div.sk-estimator {font-family: monospace;background-color: #f0f8ff;border: 1px dotted black;border-radius: 0.25em;box-sizing: border-box;margin-bottom: 0.5em;}#sk-container-id-27 div.sk-estimator:hover {background-color: #d4ebff;}#sk-container-id-27 div.sk-parallel-item::after {content: \"\";width: 100%;border-bottom: 1px solid gray;flex-grow: 1;}#sk-container-id-27 div.sk-label:hover label.sk-toggleable__label {background-color: #d4ebff;}#sk-container-id-27 div.sk-serial::before {content: \"\";position: absolute;border-left: 1px solid gray;box-sizing: border-box;top: 0;bottom: 0;left: 50%;z-index: 0;}#sk-container-id-27 div.sk-serial {display: flex;flex-direction: column;align-items: center;background-color: white;padding-right: 0.2em;padding-left: 0.2em;position: relative;}#sk-container-id-27 div.sk-item {position: relative;z-index: 1;}#sk-container-id-27 div.sk-parallel {display: flex;align-items: stretch;justify-content: center;background-color: white;position: relative;}#sk-container-id-27 div.sk-item::before, #sk-container-id-27 div.sk-parallel-item::before {content: \"\";position: absolute;border-left: 1px solid gray;box-sizing: border-box;top: 0;bottom: 0;left: 50%;z-index: -1;}#sk-container-id-27 div.sk-parallel-item {display: flex;flex-direction: column;z-index: 1;position: relative;background-color: white;}#sk-container-id-27 div.sk-parallel-item:first-child::after {align-self: flex-end;width: 50%;}#sk-container-id-27 div.sk-parallel-item:last-child::after {align-self: flex-start;width: 50%;}#sk-container-id-27 div.sk-parallel-item:only-child::after {width: 0;}#sk-container-id-27 div.sk-dashed-wrapped {border: 1px dashed gray;margin: 0 0.4em 0.5em 0.4em;box-sizing: border-box;padding-bottom: 0.4em;background-color: white;}#sk-container-id-27 div.sk-label label {font-family: monospace;font-weight: bold;display: inline-block;line-height: 1.2em;}#sk-container-id-27 div.sk-label-container {text-align: center;}#sk-container-id-27 div.sk-container {/* jupyter's `normalize.less` sets `[hidden] { display: none; }` but bootstrap.min.css set `[hidden] { display: none !important; }` so we also need the `!important` here to be able to override the default hidden behavior on the sphinx rendered scikit-learn.org. See: https://github.com/scikit-learn/scikit-learn/issues/21755 */display: inline-block !important;position: relative;}#sk-container-id-27 div.sk-text-repr-fallback {display: none;}</style><div id=\"sk-container-id-27\" class=\"sk-top-container\"><div class=\"sk-text-repr-fallback\"><pre>Pipeline(steps=[(&#x27;standardscaler&#x27;, StandardScaler()),\n",
              "                (&#x27;linearregression&#x27;, LinearRegression())])</pre><b>In a Jupyter environment, please rerun this cell to show the HTML representation or trust the notebook. <br />On GitHub, the HTML representation is unable to render, please try loading this page with nbviewer.org.</b></div><div class=\"sk-container\" hidden><div class=\"sk-item sk-dashed-wrapped\"><div class=\"sk-label-container\"><div class=\"sk-label sk-toggleable\"><input class=\"sk-toggleable__control sk-hidden--visually\" id=\"sk-estimator-id-84\" type=\"checkbox\" ><label for=\"sk-estimator-id-84\" class=\"sk-toggleable__label sk-toggleable__label-arrow\">Pipeline</label><div class=\"sk-toggleable__content\"><pre>Pipeline(steps=[(&#x27;standardscaler&#x27;, StandardScaler()),\n",
              "                (&#x27;linearregression&#x27;, LinearRegression())])</pre></div></div></div><div class=\"sk-serial\"><div class=\"sk-item\"><div class=\"sk-estimator sk-toggleable\"><input class=\"sk-toggleable__control sk-hidden--visually\" id=\"sk-estimator-id-85\" type=\"checkbox\" ><label for=\"sk-estimator-id-85\" class=\"sk-toggleable__label sk-toggleable__label-arrow\">StandardScaler</label><div class=\"sk-toggleable__content\"><pre>StandardScaler()</pre></div></div></div><div class=\"sk-item\"><div class=\"sk-estimator sk-toggleable\"><input class=\"sk-toggleable__control sk-hidden--visually\" id=\"sk-estimator-id-86\" type=\"checkbox\" ><label for=\"sk-estimator-id-86\" class=\"sk-toggleable__label sk-toggleable__label-arrow\">LinearRegression</label><div class=\"sk-toggleable__content\"><pre>LinearRegression()</pre></div></div></div></div></div></div></div>"
            ]
          },
          "metadata": {},
          "execution_count": 1064
        }
      ],
      "source": [
        "#get current best combination \n",
        "mymod = get_best_cols(df_cats, ['SalePrice', 'OverallQual'], r2_threshold = 0.67)\n",
        "print(mymod)\n",
        "split_run_test(df_cats[mymod[0]])"
      ]
    },
    {
      "cell_type": "code",
      "execution_count": 1065,
      "metadata": {
        "colab": {
          "base_uri": "https://localhost:8080/"
        },
        "id": "YzAEG1UdvRoY",
        "outputId": "5cc06dec-03e6-4336-d323-70a0fbe83d89"
      },
      "outputs": [
        {
          "output_type": "stream",
          "name": "stdout",
          "text": [
            "shuffle: 1\n",
            "(['SalePrice', 'OverallQual', 'TotalSF', 'YearRemodAdd', 'Bath', 'LotArea', 'HasGarage', 'YearBuilt', 'OverallCond', 'GrLivArea', 'BedroomAbvGr', 'WoodDeckSF'], 0.8907820026183453)\n",
            "shuffle: 2\n",
            "(['SalePrice', 'OverallQual', 'TotalSF', 'YearRemodAdd', 'Bath', 'LotFrontage', 'HasGarage', 'Fireplaces', 'YearBuilt', 'PorchSF', 'OverallCond', 'GrLivArea', 'OutsideArea', 'BedroomAbvGr', 'YearRemodAdd', 'MonthSold'], 0.8961734864605728)\n",
            "shuffle: 3\n",
            "shuffle: 4\n",
            "shuffle: 5\n",
            "\n",
            "\n",
            "The result is:\n",
            "(['SalePrice', 'OverallQual', 'TotalSF', 'YearRemodAdd', 'Bath', 'LotFrontage', 'HasGarage', 'Fireplaces', 'YearBuilt', 'PorchSF', 'OverallCond', 'GrLivArea', 'OutsideArea', 'BedroomAbvGr', 'YearRemodAdd', 'MonthSold'], 0.8961734864605728)\n"
          ]
        }
      ],
      "source": [
        "#get best orders of best combinations\n",
        "result = many_shuffles(df_cats, num=5, threshold = 0.67)"
      ]
    },
    {
      "cell_type": "code",
      "execution_count": 1066,
      "metadata": {
        "colab": {
          "base_uri": "https://localhost:8080/"
        },
        "id": "D4sLmWqIHWOE",
        "outputId": "86115be9-2e23-4700-8185-d51c136cc43a"
      },
      "outputs": [
        {
          "output_type": "stream",
          "name": "stdout",
          "text": [
            "train adjusted r2: 0.8850655839801156\n",
            "train: root mean squared error: 0.011276787115465613\n",
            "Test:\n",
            "test adjusted r2: 0.8961734864605728\n",
            "test: root mean squared error: 0.010093850181667583\n",
            "\n"
          ]
        }
      ],
      "source": [
        "my_model = split_run_test(df_cats[result[0]])"
      ]
    },
    {
      "cell_type": "markdown",
      "source": [
        "## Observe best result\n",
        "\n",
        "to-do - dataframe with best result"
      ],
      "metadata": {
        "id": "3b6Zx7uKoQRw"
      }
    },
    {
      "cell_type": "markdown",
      "source": [
        "## Best on Linear regeression 0.9195"
      ],
      "metadata": {
        "id": "OfwBO_vdTJEg"
      }
    },
    {
      "cell_type": "markdown",
      "metadata": {
        "id": "fEhNy-13wBah"
      },
      "source": [
        "train: r2 0.8917100533649739\n",
        "\n",
        "train: root mean squared error: 0.01101263566776913\n",
        "\n",
        "Test:\n",
        "test: r2 0.9195194361430203\n",
        "\n",
        "test: root mean squared error: 0.009303583596568663\n",
        "\n",
        "\n",
        "['SalePrice', 'OverallQual', 'TotalSF', 'GarageArea', 'LotArea', 'Bath', 'Fireplaces', 'YearRemodAdd', 'HasGarage', 'YearBuilt', 'OverallCond', 'GrLivArea', 'BedroomAbvGr', 'FullBath', 'YrSold', 'New', 'Has2Floors', '2ndFlrSF', 'WoodDeckSF', 'GarageYrBlt', 'HasVnr', 'LotArea'] \n",
        "0.9195194361430203)\n",
        "\n",
        "new_params = baths, new, hasgarage, haspool, has2floors, hasvnr, hasbsmt\n",
        "\n",
        "log of 'LotFrontage', 'LotArea', 'GrLivArea', 'SalePrice'\n",
        "\n",
        "\n",
        "drop porches \n",
        "\n",
        "drop basements \n",
        "\n",
        "drop garage \n",
        "\n",
        "drop baths\n",
        "\n",
        "Drop all cats.\n",
        "\n",
        "'LowQualFinSF', 'PoolArea', 'MiscVal', 'TotRmsAbvGrd', '1stFlrSF'])  drop misc\n",
        "\n",
        "iqr\n",
        "['SalePrice', 'LotFrontage', 'LotArea', 'MasVnrArea', 'TotalBsmtSF', 'GrLivArea', 'BedroomAbvGr', 'KitchenAbvGr', 'Fireplaces', 'GarageArea', 'PorchSF']\n",
        "\n",
        "\n",
        " no factorize"
      ]
    },
    {
      "cell_type": "markdown",
      "metadata": {
        "id": "TcRCD6Jz2rXS"
      },
      "source": [
        "## Another one\n",
        "['SalePrice', 'OverallQual', 'GrLivArea', 'TotalBsmtSF', 'LotArea', 'YearBuilt', 'OverallCond', 'GarageArea', 'BsmtFullBath', 'Fireplaces', 'BedroomAbvGr', 'YearRemodAdd', 'HalfBath']\n",
        "\n",
        "log of ['LotFrontage', 'LotArea', 'GrLivArea', 'SalePrice','GarageArea']"
      ]
    },
    {
      "cell_type": "markdown",
      "metadata": {
        "id": "9cBg3TdYdSet"
      },
      "source": [
        "\n",
        "(['SalePrice', 'OverallQual', 'GrLivArea', 'TotalBsmtSF', 'OverallCond', 'YearBuilt', 'LotArea', 'GarageArea', 'Fireplaces', 'HalfBath', 'BsmtFullBath', 'BedroomAbvGr', 'GarageYrBlt', 'WoodDeckSF', 'WoodDeckSF', 'BsmtHalfBath'], 0.9218701457673271)\n"
      ]
    },
    {
      "cell_type": "markdown",
      "metadata": {
        "id": "yP3EB3wXvXJ-"
      },
      "source": [
        "## LassoLarsCV 0.92\n",
        "\n",
        "(['SalePrice',\n",
        "  'OverallQual',\n",
        "  'TotalSF',\n",
        "  'GarageArea',\n",
        "  'LotArea',\n",
        "  'Foundation',\n",
        "  'Fireplaces',\n",
        "  'OverallCond',\n",
        "  'HalfBath',\n",
        "  'FullBath',\n",
        "  'CentralAir',\n",
        "  'BsmtExposure',\n",
        "  'BsmtFullBath',\n",
        "  'PavedDrive',\n",
        "  'MasVnrType',\n",
        "  'Functional',\n",
        "  'BedroomAbvGr',\n",
        "  'GrLivArea',\n",
        "  '2ndFlrSF',\n",
        "  'Condition1',\n",
        "  'ExterCond'],\n",
        " 0.9236066685585789) - basic log['LotFrontage', 'LotArea', 'GrLivArea', 'SalePrice']. LassoLarsCV"
      ]
    },
    {
      "cell_type": "markdown",
      "source": [
        "## Stacking .92 = .92\n",
        "\n",
        "  estimators = [('LinReg',LinearRegression()), ('Lasso',LassoLarsCV(max_iter=15,eps=0.01)), ('Tree',DecisionTreeRegressor(max_depth=5)),\n",
        "                ('LGBR', LGBMRegressor(max_depth = 5, learning_rate = 0.05))]\n",
        "final = RandomForestRegressor(max_depth=6)\n",
        "\n",
        "train: r2 0.9259061491493182\n",
        "train: root mean squared error: 0.009157887674229528\n",
        "\n",
        "Test:\n",
        "test: r2 0.9217500638734336\n",
        "test: root mean squared error: 0.009142663976721768\n",
        "\n",
        "log = ['LotFrontage', 'LotArea', 'GrLivArea', 'SalePrice']\n",
        "\n",
        "cols = ['SalePrice', 'OverallQual', 'TotalSF', 'MSSubClass', 'GarageArea', 'BsmtHalfBath', 'MSSubClass', 'Fireplaces', 'LotArea', 'OverallCond', 'HalfBath', 'YearRemodAdd', 'OverallCond', 'HalfBath', 'FullBath', 'YearBuilt', 'BsmtFullBath', 'GrLivArea', 'GarageYrBlt', '2ndFlrSF', 'OutsideArea', 'YrSold', 'YrSold', 'PorchSF', 'WoodDeckSF', 'PorchSF', 'MasVnrArea', 'TotalBsmtSF']\n",
        "\n",
        "factorized?"
      ],
      "metadata": {
        "id": "uRYvl16GFYcQ"
      }
    },
    {
      "cell_type": "markdown",
      "source": [
        "Best so far - 0.93 stacking of linear regression with factorized cats."
      ],
      "metadata": {
        "id": "_5l54kJAZFBX"
      }
    },
    {
      "cell_type": "markdown",
      "source": [
        "# To-Do\n",
        "\n",
        "Create a func that pushes conditions, parameters, and results of every model. logging\n"
      ],
      "metadata": {
        "id": "MB0wyW51pFvg"
      }
    },
    {
      "cell_type": "markdown",
      "source": [
        "# Work with test data"
      ],
      "metadata": {
        "id": "Ixzig_OWnyoh"
      }
    },
    {
      "cell_type": "markdown",
      "source": [
        "## Prepare test data to fit the model"
      ],
      "metadata": {
        "id": "avtRmeTmnog6"
      }
    },
    {
      "cell_type": "code",
      "execution_count": 1067,
      "metadata": {
        "id": "3KhAZvdCvWuA",
        "colab": {
          "base_uri": "https://localhost:8080/"
        },
        "outputId": "aac887e6-b497-4d8a-e5e9-d06ad54b2c5d"
      },
      "outputs": [
        {
          "output_type": "stream",
          "name": "stdout",
          "text": [
            "(1459, 73)\n",
            "(1459, 30)\n"
          ]
        }
      ],
      "source": [
        "\n",
        "test_data = make_cats(drop_n_log(df_test.copy(), True))[my_model.feature_names_in_]\n",
        "for col in test_data.columns[test_data.isna().any()].tolist():      #['TotalSF', 'GarageArea','BsmtFullBath']: \n",
        "  test_data[col] = test_data[col].fillna(test_data[col].mode()[0]) "
      ]
    },
    {
      "cell_type": "markdown",
      "source": [
        "## Predict values"
      ],
      "metadata": {
        "id": "AGKMjGq1n14p"
      }
    },
    {
      "cell_type": "code",
      "source": [
        "pred_ys = my_model.predict(test_data)"
      ],
      "metadata": {
        "id": "EOdqT7PznkqZ"
      },
      "execution_count": 1068,
      "outputs": []
    },
    {
      "cell_type": "markdown",
      "source": [
        "## Construct dataset for submission"
      ],
      "metadata": {
        "id": "i8TmH-MMoDGZ"
      }
    },
    {
      "cell_type": "code",
      "source": [
        "#create_dataset\n",
        "ids = np.arange(1461, 2920)\n",
        "my_result = pd.DataFrame({'Id': ids, 'SalePrice': np.e**pred_ys})\n",
        "my_result.head()"
      ],
      "metadata": {
        "colab": {
          "base_uri": "https://localhost:8080/",
          "height": 206
        },
        "id": "NwNEhXXZImid",
        "outputId": "b77c6f62-85d3-41bd-8be0-7375ed4562fe"
      },
      "execution_count": 1069,
      "outputs": [
        {
          "output_type": "execute_result",
          "data": {
            "text/plain": [
              "     Id      SalePrice\n",
              "0  1461  114414.797097\n",
              "1  1462  150395.413519\n",
              "2  1463  172884.431376\n",
              "3  1464  192358.662991\n",
              "4  1465  182745.060191"
            ],
            "text/html": [
              "\n",
              "  <div id=\"df-6d69050e-643a-4b5c-b945-724343a3eb8c\">\n",
              "    <div class=\"colab-df-container\">\n",
              "      <div>\n",
              "<style scoped>\n",
              "    .dataframe tbody tr th:only-of-type {\n",
              "        vertical-align: middle;\n",
              "    }\n",
              "\n",
              "    .dataframe tbody tr th {\n",
              "        vertical-align: top;\n",
              "    }\n",
              "\n",
              "    .dataframe thead th {\n",
              "        text-align: right;\n",
              "    }\n",
              "</style>\n",
              "<table border=\"1\" class=\"dataframe\">\n",
              "  <thead>\n",
              "    <tr style=\"text-align: right;\">\n",
              "      <th></th>\n",
              "      <th>Id</th>\n",
              "      <th>SalePrice</th>\n",
              "    </tr>\n",
              "  </thead>\n",
              "  <tbody>\n",
              "    <tr>\n",
              "      <th>0</th>\n",
              "      <td>1461</td>\n",
              "      <td>114414.797097</td>\n",
              "    </tr>\n",
              "    <tr>\n",
              "      <th>1</th>\n",
              "      <td>1462</td>\n",
              "      <td>150395.413519</td>\n",
              "    </tr>\n",
              "    <tr>\n",
              "      <th>2</th>\n",
              "      <td>1463</td>\n",
              "      <td>172884.431376</td>\n",
              "    </tr>\n",
              "    <tr>\n",
              "      <th>3</th>\n",
              "      <td>1464</td>\n",
              "      <td>192358.662991</td>\n",
              "    </tr>\n",
              "    <tr>\n",
              "      <th>4</th>\n",
              "      <td>1465</td>\n",
              "      <td>182745.060191</td>\n",
              "    </tr>\n",
              "  </tbody>\n",
              "</table>\n",
              "</div>\n",
              "      <button class=\"colab-df-convert\" onclick=\"convertToInteractive('df-6d69050e-643a-4b5c-b945-724343a3eb8c')\"\n",
              "              title=\"Convert this dataframe to an interactive table.\"\n",
              "              style=\"display:none;\">\n",
              "        \n",
              "  <svg xmlns=\"http://www.w3.org/2000/svg\" height=\"24px\"viewBox=\"0 0 24 24\"\n",
              "       width=\"24px\">\n",
              "    <path d=\"M0 0h24v24H0V0z\" fill=\"none\"/>\n",
              "    <path d=\"M18.56 5.44l.94 2.06.94-2.06 2.06-.94-2.06-.94-.94-2.06-.94 2.06-2.06.94zm-11 1L8.5 8.5l.94-2.06 2.06-.94-2.06-.94L8.5 2.5l-.94 2.06-2.06.94zm10 10l.94 2.06.94-2.06 2.06-.94-2.06-.94-.94-2.06-.94 2.06-2.06.94z\"/><path d=\"M17.41 7.96l-1.37-1.37c-.4-.4-.92-.59-1.43-.59-.52 0-1.04.2-1.43.59L10.3 9.45l-7.72 7.72c-.78.78-.78 2.05 0 2.83L4 21.41c.39.39.9.59 1.41.59.51 0 1.02-.2 1.41-.59l7.78-7.78 2.81-2.81c.8-.78.8-2.07 0-2.86zM5.41 20L4 18.59l7.72-7.72 1.47 1.35L5.41 20z\"/>\n",
              "  </svg>\n",
              "      </button>\n",
              "      \n",
              "  <style>\n",
              "    .colab-df-container {\n",
              "      display:flex;\n",
              "      flex-wrap:wrap;\n",
              "      gap: 12px;\n",
              "    }\n",
              "\n",
              "    .colab-df-convert {\n",
              "      background-color: #E8F0FE;\n",
              "      border: none;\n",
              "      border-radius: 50%;\n",
              "      cursor: pointer;\n",
              "      display: none;\n",
              "      fill: #1967D2;\n",
              "      height: 32px;\n",
              "      padding: 0 0 0 0;\n",
              "      width: 32px;\n",
              "    }\n",
              "\n",
              "    .colab-df-convert:hover {\n",
              "      background-color: #E2EBFA;\n",
              "      box-shadow: 0px 1px 2px rgba(60, 64, 67, 0.3), 0px 1px 3px 1px rgba(60, 64, 67, 0.15);\n",
              "      fill: #174EA6;\n",
              "    }\n",
              "\n",
              "    [theme=dark] .colab-df-convert {\n",
              "      background-color: #3B4455;\n",
              "      fill: #D2E3FC;\n",
              "    }\n",
              "\n",
              "    [theme=dark] .colab-df-convert:hover {\n",
              "      background-color: #434B5C;\n",
              "      box-shadow: 0px 1px 3px 1px rgba(0, 0, 0, 0.15);\n",
              "      filter: drop-shadow(0px 1px 2px rgba(0, 0, 0, 0.3));\n",
              "      fill: #FFFFFF;\n",
              "    }\n",
              "  </style>\n",
              "\n",
              "      <script>\n",
              "        const buttonEl =\n",
              "          document.querySelector('#df-6d69050e-643a-4b5c-b945-724343a3eb8c button.colab-df-convert');\n",
              "        buttonEl.style.display =\n",
              "          google.colab.kernel.accessAllowed ? 'block' : 'none';\n",
              "\n",
              "        async function convertToInteractive(key) {\n",
              "          const element = document.querySelector('#df-6d69050e-643a-4b5c-b945-724343a3eb8c');\n",
              "          const dataTable =\n",
              "            await google.colab.kernel.invokeFunction('convertToInteractive',\n",
              "                                                     [key], {});\n",
              "          if (!dataTable) return;\n",
              "\n",
              "          const docLinkHtml = 'Like what you see? Visit the ' +\n",
              "            '<a target=\"_blank\" href=https://colab.research.google.com/notebooks/data_table.ipynb>data table notebook</a>'\n",
              "            + ' to learn more about interactive tables.';\n",
              "          element.innerHTML = '';\n",
              "          dataTable['output_type'] = 'display_data';\n",
              "          await google.colab.output.renderOutput(dataTable, element);\n",
              "          const docLink = document.createElement('div');\n",
              "          docLink.innerHTML = docLinkHtml;\n",
              "          element.appendChild(docLink);\n",
              "        }\n",
              "      </script>\n",
              "    </div>\n",
              "  </div>\n",
              "  "
            ]
          },
          "metadata": {},
          "execution_count": 1069
        }
      ]
    },
    {
      "cell_type": "markdown",
      "source": [
        "## Download dataset"
      ],
      "metadata": {
        "id": "DcqzvZAMoH5L"
      }
    },
    {
      "cell_type": "code",
      "source": [
        "my_result.to_csv('submission.csv', index=False)\n",
        "files.download('submission.csv')"
      ],
      "metadata": {
        "id": "C0JMEvGthk3c"
      },
      "execution_count": 1070,
      "outputs": []
    }
  ],
  "metadata": {
    "colab": {
      "provenance": [],
      "authorship_tag": "ABX9TyPxd+YZzSEUq+st0exaGIMn",
      "include_colab_link": true
    },
    "gpuClass": "standard",
    "kernelspec": {
      "display_name": "Python 3",
      "name": "python3"
    },
    "language_info": {
      "name": "python"
    }
  },
  "nbformat": 4,
  "nbformat_minor": 0
}