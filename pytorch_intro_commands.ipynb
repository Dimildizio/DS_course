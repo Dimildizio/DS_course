{
  "nbformat": 4,
  "nbformat_minor": 0,
  "metadata": {
    "colab": {
      "provenance": [],
      "authorship_tag": "ABX9TyPSaFr7bTlXQHOP2dJn1i6z",
      "include_colab_link": true
    },
    "kernelspec": {
      "name": "python3",
      "display_name": "Python 3"
    },
    "language_info": {
      "name": "python"
    },
    "accelerator": "GPU",
    "gpuClass": "standard"
  },
  "cells": [
    {
      "cell_type": "markdown",
      "metadata": {
        "id": "view-in-github",
        "colab_type": "text"
      },
      "source": [
        "<a href=\"https://colab.research.google.com/github/Dimildizio/DS_course/blob/main/pytorch_intro_commands.ipynb\" target=\"_parent\"><img src=\"https://colab.research.google.com/assets/colab-badge.svg\" alt=\"Open In Colab\"/></a>"
      ]
    },
    {
      "cell_type": "markdown",
      "source": [
        "#Pytorch intro"
      ],
      "metadata": {
        "id": "hScHhrry-J8j"
      }
    },
    {
      "cell_type": "code",
      "execution_count": 1,
      "metadata": {
        "id": "9Um-0sj-9Upm"
      },
      "outputs": [],
      "source": [
        "import torch\n",
        "import matplotlib.pyplot as plt\n",
        "import pandas as pd"
      ]
    },
    {
      "cell_type": "markdown",
      "source": [
        "To check understanding of torch let's perform some simple operations"
      ],
      "metadata": {
        "id": "U6_dfCUs-C91"
      }
    },
    {
      "cell_type": "code",
      "source": [
        "a = torch.FloatTensor(3,4)\n",
        "b = torch.FloatTensor(12)\n",
        "b"
      ],
      "metadata": {
        "colab": {
          "base_uri": "https://localhost:8080/"
        },
        "id": "2-v3OUqh9aWM",
        "outputId": "1cac33cc-cb33-4b59-cd1b-8a6199b42261"
      },
      "execution_count": 2,
      "outputs": [
        {
          "output_type": "execute_result",
          "data": {
            "text/plain": [
              "tensor([2.5381e+08, 4.5843e-41, 4.8828e-08, 4.5845e-41, 2.4513e+08, 4.5843e-41,\n",
              "        4.8828e-08, 4.5845e-41, 2.4513e+08, 4.5843e-41, 4.8828e-08, 4.5845e-41])"
            ]
          },
          "metadata": {},
          "execution_count": 2
        }
      ]
    },
    {
      "cell_type": "code",
      "source": [
        "c = b.view(2,2,3)\n",
        "c"
      ],
      "metadata": {
        "colab": {
          "base_uri": "https://localhost:8080/"
        },
        "id": "BoTfLQpq-qyW",
        "outputId": "2a923f0a-d5c2-4175-d3b8-2982bb3564df"
      },
      "execution_count": 3,
      "outputs": [
        {
          "output_type": "execute_result",
          "data": {
            "text/plain": [
              "tensor([[[2.5381e+08, 4.5843e-41, 4.8828e-08],\n",
              "         [4.5845e-41, 2.4513e+08, 4.5843e-41]],\n",
              "\n",
              "        [[4.8828e-08, 4.5845e-41, 2.4513e+08],\n",
              "         [4.5843e-41, 4.8828e-08, 4.5845e-41]]])"
            ]
          },
          "metadata": {},
          "execution_count": 3
        }
      ]
    },
    {
      "cell_type": "code",
      "source": [
        "a[:,0]"
      ],
      "metadata": {
        "colab": {
          "base_uri": "https://localhost:8080/"
        },
        "id": "gEiN1Czl-_bu",
        "outputId": "a9fc9750-2ab0-4609-c97b-c7615a09da52"
      },
      "execution_count": 4,
      "outputs": [
        {
          "output_type": "execute_result",
          "data": {
            "text/plain": [
              "tensor([ 4.8112e-08, -9.6835e-32,  2.6236e+08])"
            ]
          },
          "metadata": {},
          "execution_count": 4
        }
      ]
    },
    {
      "cell_type": "code",
      "source": [
        "a = torch.FloatTensor(5,2)\n",
        "b = torch.FloatTensor(1,10)\n",
        "c = b.view(5,2)\n",
        "print(a.add(c))\n",
        "print(a.div(c))\n",
        "print(a.mul(c))\n",
        "print(c.sub(a))"
      ],
      "metadata": {
        "colab": {
          "base_uri": "https://localhost:8080/"
        },
        "id": "9jD5yPiQ-gD9",
        "outputId": "bbc47a77-bb22-4155-907c-7e408d558c77"
      },
      "execution_count": 5,
      "outputs": [
        {
          "output_type": "stream",
          "name": "stdout",
          "text": [
            "tensor([[1.2166e-33, 0.0000e+00],\n",
            "        [1.4332e-33, 0.0000e+00],\n",
            "        [2.0179e-43, 0.0000e+00],\n",
            "        [1.7937e-43, 0.0000e+00],\n",
            "        [1.3943e-33, 0.0000e+00]])\n",
            "tensor([[1.0172,    nan],\n",
            "        [0.9390,    nan],\n",
            "        [3.5000,    nan],\n",
            "        [0.6000,    nan],\n",
            "        [0.8863,    nan]])\n",
            "tensor([[0., 0.],\n",
            "        [0., 0.],\n",
            "        [0., 0.],\n",
            "        [0., 0.],\n",
            "        [0., 0.]])\n",
            "tensor([[-1.0395e-35,  0.0000e+00],\n",
            "        [ 4.5116e-35,  0.0000e+00],\n",
            "        [-1.1210e-43,  0.0000e+00],\n",
            "        [ 4.4842e-44,  0.0000e+00],\n",
            "        [ 8.4011e-35,  0.0000e+00]])\n"
          ]
        }
      ]
    },
    {
      "cell_type": "code",
      "source": [
        "n = torch.FloatTensor([x*1.11 for x in range(1,11)]).view(1,10)+a.view(1,10)\n",
        "n"
      ],
      "metadata": {
        "colab": {
          "base_uri": "https://localhost:8080/"
        },
        "id": "ZUliF1FrBHWC",
        "outputId": "d0235cd8-6ed2-4fb4-ae8e-2d9fcb9bd3e4"
      },
      "execution_count": 6,
      "outputs": [
        {
          "output_type": "execute_result",
          "data": {
            "text/plain": [
              "tensor([[ 1.1100,  2.2200,  3.3300,  4.4400,  5.5500,  6.6600,  7.7700,  8.8800,\n",
              "          9.9900, 11.1000]])"
            ]
          },
          "metadata": {},
          "execution_count": 6
        }
      ]
    },
    {
      "cell_type": "code",
      "source": [
        "n = n.type_as(torch.IntTensor())"
      ],
      "metadata": {
        "id": "yiJyAWVeBrFl"
      },
      "execution_count": 7,
      "outputs": []
    },
    {
      "cell_type": "code",
      "source": [
        "c"
      ],
      "metadata": {
        "colab": {
          "base_uri": "https://localhost:8080/"
        },
        "id": "pH0c3wINCZjN",
        "outputId": "7dd04f5f-a4a5-4585-fff0-5cc72183a113"
      },
      "execution_count": 8,
      "outputs": [
        {
          "output_type": "execute_result",
          "data": {
            "text/plain": [
              "tensor([[6.0312e-34, 0.0000e+00],\n",
              "        [7.3917e-34, 0.0000e+00],\n",
              "        [4.4842e-44, 0.0000e+00],\n",
              "        [1.1210e-43, 0.0000e+00],\n",
              "        [7.3917e-34, 0.0000e+00]])"
            ]
          },
          "metadata": {},
          "execution_count": 8
        }
      ]
    },
    {
      "cell_type": "code",
      "source": [
        "c[1:4, 1:]"
      ],
      "metadata": {
        "colab": {
          "base_uri": "https://localhost:8080/"
        },
        "id": "5PC7iG9Z_GPr",
        "outputId": "6f9decee-da02-4b6e-d453-e6c1a904a046"
      },
      "execution_count": 9,
      "outputs": [
        {
          "output_type": "execute_result",
          "data": {
            "text/plain": [
              "tensor([[0.],\n",
              "        [0.],\n",
              "        [0.]])"
            ]
          },
          "metadata": {},
          "execution_count": 9
        }
      ]
    },
    {
      "cell_type": "code",
      "source": [
        "b[a.view(1,10) == b]"
      ],
      "metadata": {
        "colab": {
          "base_uri": "https://localhost:8080/"
        },
        "id": "fntLRO2VCy7m",
        "outputId": "07ef4162-1a2b-46f2-915f-32459a933b16"
      },
      "execution_count": 10,
      "outputs": [
        {
          "output_type": "execute_result",
          "data": {
            "text/plain": [
              "tensor([0., 0., 0., 0., 0.])"
            ]
          },
          "metadata": {},
          "execution_count": 10
        }
      ]
    },
    {
      "cell_type": "code",
      "source": [
        "a[c == b.view(5,2)]"
      ],
      "metadata": {
        "colab": {
          "base_uri": "https://localhost:8080/"
        },
        "id": "m9kwawqEDI0t",
        "outputId": "b29e0b0f-e571-4fc3-aee7-5ac8e0c138f7"
      },
      "execution_count": 11,
      "outputs": [
        {
          "output_type": "execute_result",
          "data": {
            "text/plain": [
              "tensor([6.1351e-34, 0.0000e+00, 6.9406e-34, 0.0000e+00, 1.5695e-43, 0.0000e+00,\n",
              "        6.7262e-44, 0.0000e+00, 6.5516e-34, 0.0000e+00])"
            ]
          },
          "metadata": {},
          "execution_count": 11
        }
      ]
    },
    {
      "cell_type": "code",
      "source": [
        "b.sin()"
      ],
      "metadata": {
        "colab": {
          "base_uri": "https://localhost:8080/"
        },
        "id": "GJ2pX0KiDaoQ",
        "outputId": "b09ca5ec-300e-4e18-892d-ea203277272c"
      },
      "execution_count": 12,
      "outputs": [
        {
          "output_type": "execute_result",
          "data": {
            "text/plain": [
              "tensor([[6.0312e-34, 0.0000e+00, 7.3917e-34, 0.0000e+00, 4.4842e-44, 0.0000e+00,\n",
              "         1.1210e-43, 0.0000e+00, 7.3917e-34, 0.0000e+00]])"
            ]
          },
          "metadata": {},
          "execution_count": 12
        }
      ]
    },
    {
      "cell_type": "code",
      "source": [
        "torch.sin(b)"
      ],
      "metadata": {
        "colab": {
          "base_uri": "https://localhost:8080/"
        },
        "id": "VL2Q-sUgDieM",
        "outputId": "fd1b7fec-4bc3-4778-dd0b-deabda48c7e3"
      },
      "execution_count": 13,
      "outputs": [
        {
          "output_type": "execute_result",
          "data": {
            "text/plain": [
              "tensor([[6.0312e-34, 0.0000e+00, 7.3917e-34, 0.0000e+00, 4.4842e-44, 0.0000e+00,\n",
              "         1.1210e-43, 0.0000e+00, 7.3917e-34, 0.0000e+00]])"
            ]
          },
          "metadata": {},
          "execution_count": 13
        }
      ]
    },
    {
      "cell_type": "code",
      "source": [
        "a"
      ],
      "metadata": {
        "colab": {
          "base_uri": "https://localhost:8080/"
        },
        "id": "_TBC17I2D46Q",
        "outputId": "5f9e76a8-26b1-4b0c-f5ab-748efeccab04"
      },
      "execution_count": 14,
      "outputs": [
        {
          "output_type": "execute_result",
          "data": {
            "text/plain": [
              "tensor([[6.1351e-34, 0.0000e+00],\n",
              "        [6.9406e-34, 0.0000e+00],\n",
              "        [1.5695e-43, 0.0000e+00],\n",
              "        [6.7262e-44, 0.0000e+00],\n",
              "        [6.5516e-34, 0.0000e+00]])"
            ]
          },
          "metadata": {},
          "execution_count": 14
        }
      ]
    },
    {
      "cell_type": "code",
      "source": [
        "a.mean()"
      ],
      "metadata": {
        "colab": {
          "base_uri": "https://localhost:8080/"
        },
        "id": "ovdU6NtnDnKJ",
        "outputId": "ef8c4a69-d3bb-4a35-df4d-9e4a06fc9d35"
      },
      "execution_count": 15,
      "outputs": [
        {
          "output_type": "execute_result",
          "data": {
            "text/plain": [
              "tensor(1.9627e-34)"
            ]
          },
          "metadata": {},
          "execution_count": 15
        }
      ]
    },
    {
      "cell_type": "code",
      "source": [
        "a.sum(1)"
      ],
      "metadata": {
        "colab": {
          "base_uri": "https://localhost:8080/"
        },
        "id": "V1t5wbo-Doib",
        "outputId": "4f62f285-3101-460a-ee92-f8e898abaeef"
      },
      "execution_count": 16,
      "outputs": [
        {
          "output_type": "execute_result",
          "data": {
            "text/plain": [
              "tensor([6.1351e-34, 6.9406e-34, 1.5695e-43, 6.7262e-44, 6.5516e-34])"
            ]
          },
          "metadata": {},
          "execution_count": 16
        }
      ]
    },
    {
      "cell_type": "code",
      "source": [
        "a.t().add(b.view(2,5)) + 10"
      ],
      "metadata": {
        "colab": {
          "base_uri": "https://localhost:8080/"
        },
        "id": "WeQl3kIiD85S",
        "outputId": "ede5d5cf-9096-4fd7-d891-bf95ceea68b7"
      },
      "execution_count": 17,
      "outputs": [
        {
          "output_type": "execute_result",
          "data": {
            "text/plain": [
              "tensor([[10., 10., 10., 10., 10.],\n",
              "        [10., 10., 10., 10., 10.]])"
            ]
          },
          "metadata": {},
          "execution_count": 17
        }
      ]
    },
    {
      "cell_type": "code",
      "source": [
        "a @ b.view(2,5)"
      ],
      "metadata": {
        "colab": {
          "base_uri": "https://localhost:8080/"
        },
        "id": "CQkGP14VEECi",
        "outputId": "f85deff1-bbd0-4a77-ddd1-d0427ad56217"
      },
      "execution_count": 18,
      "outputs": [
        {
          "output_type": "execute_result",
          "data": {
            "text/plain": [
              "tensor([[0., 0., 0., 0., 0.],\n",
              "        [0., 0., 0., 0., 0.],\n",
              "        [0., 0., 0., 0., 0.],\n",
              "        [0., 0., 0., 0., 0.],\n",
              "        [0., 0., 0., 0., 0.]])"
            ]
          },
          "metadata": {},
          "execution_count": 18
        }
      ]
    },
    {
      "cell_type": "code",
      "source": [
        "a.view(10) == a.view(10,1)"
      ],
      "metadata": {
        "colab": {
          "base_uri": "https://localhost:8080/"
        },
        "id": "HNi5YK4_FBQo",
        "outputId": "339b4cb1-045e-4edf-a53a-53f3a3f61b50"
      },
      "execution_count": 19,
      "outputs": [
        {
          "output_type": "execute_result",
          "data": {
            "text/plain": [
              "tensor([[ True, False, False, False, False, False, False, False, False, False],\n",
              "        [False,  True, False,  True, False,  True, False,  True, False,  True],\n",
              "        [False, False,  True, False, False, False, False, False, False, False],\n",
              "        [False,  True, False,  True, False,  True, False,  True, False,  True],\n",
              "        [False, False, False, False,  True, False, False, False, False, False],\n",
              "        [False,  True, False,  True, False,  True, False,  True, False,  True],\n",
              "        [False, False, False, False, False, False,  True, False, False, False],\n",
              "        [False,  True, False,  True, False,  True, False,  True, False,  True],\n",
              "        [False, False, False, False, False, False, False, False,  True, False],\n",
              "        [False,  True, False,  True, False,  True, False,  True, False,  True]])"
            ]
          },
          "metadata": {},
          "execution_count": 19
        }
      ]
    },
    {
      "cell_type": "code",
      "source": [
        "a.view(10) == a.view(1,10)"
      ],
      "metadata": {
        "colab": {
          "base_uri": "https://localhost:8080/"
        },
        "id": "DmMkvDLiFHgZ",
        "outputId": "4608abd7-5a6d-4b73-bebb-1262e7ca3332"
      },
      "execution_count": 20,
      "outputs": [
        {
          "output_type": "execute_result",
          "data": {
            "text/plain": [
              "tensor([[True, True, True, True, True, True, True, True, True, True]])"
            ]
          },
          "metadata": {},
          "execution_count": 20
        }
      ]
    },
    {
      "cell_type": "code",
      "source": [
        "print(a.view(10).sum())\n",
        "print((b.view(10)+6).sum())"
      ],
      "metadata": {
        "colab": {
          "base_uri": "https://localhost:8080/"
        },
        "id": "R_FYH4RVEx4v",
        "outputId": "1a6aef49-2dec-4082-82a4-6acfca264455"
      },
      "execution_count": 21,
      "outputs": [
        {
          "output_type": "stream",
          "name": "stdout",
          "text": [
            "tensor(1.9627e-33)\n",
            "tensor(60.)\n"
          ]
        }
      ]
    },
    {
      "cell_type": "code",
      "source": [
        "a.view(10).dot(b.view(10)+6)"
      ],
      "metadata": {
        "colab": {
          "base_uri": "https://localhost:8080/"
        },
        "id": "-GQdMPEwEdC2",
        "outputId": "5cc39aab-8806-4358-fda5-9ae9d6c7677e"
      },
      "execution_count": 22,
      "outputs": [
        {
          "output_type": "execute_result",
          "data": {
            "text/plain": [
              "tensor(1.1776e-32)"
            ]
          },
          "metadata": {},
          "execution_count": 22
        }
      ]
    },
    {
      "cell_type": "code",
      "source": [
        "a.view(-1)"
      ],
      "metadata": {
        "colab": {
          "base_uri": "https://localhost:8080/"
        },
        "id": "c9po4viGFOeg",
        "outputId": "8d70bb49-d71a-41f1-aa59-3696030e9f60"
      },
      "execution_count": 23,
      "outputs": [
        {
          "output_type": "execute_result",
          "data": {
            "text/plain": [
              "tensor([6.1351e-34, 0.0000e+00, 6.9406e-34, 0.0000e+00, 1.5695e-43, 0.0000e+00,\n",
              "        6.7262e-44, 0.0000e+00, 6.5516e-34, 0.0000e+00])"
            ]
          },
          "metadata": {},
          "execution_count": 23
        }
      ]
    },
    {
      "cell_type": "code",
      "source": [
        "a.view(10,1) @ b"
      ],
      "metadata": {
        "colab": {
          "base_uri": "https://localhost:8080/"
        },
        "id": "tnDdzOoOFWwN",
        "outputId": "7507d576-c824-47cc-c1a6-50e1f48d8feb"
      },
      "execution_count": 24,
      "outputs": [
        {
          "output_type": "execute_result",
          "data": {
            "text/plain": [
              "tensor([[0., 0., 0., 0., 0., 0., 0., 0., 0., 0.],\n",
              "        [0., 0., 0., 0., 0., 0., 0., 0., 0., 0.],\n",
              "        [0., 0., 0., 0., 0., 0., 0., 0., 0., 0.],\n",
              "        [0., 0., 0., 0., 0., 0., 0., 0., 0., 0.],\n",
              "        [0., 0., 0., 0., 0., 0., 0., 0., 0., 0.],\n",
              "        [0., 0., 0., 0., 0., 0., 0., 0., 0., 0.],\n",
              "        [0., 0., 0., 0., 0., 0., 0., 0., 0., 0.],\n",
              "        [0., 0., 0., 0., 0., 0., 0., 0., 0., 0.],\n",
              "        [0., 0., 0., 0., 0., 0., 0., 0., 0., 0.],\n",
              "        [0., 0., 0., 0., 0., 0., 0., 0., 0., 0.]])"
            ]
          },
          "metadata": {},
          "execution_count": 24
        }
      ]
    },
    {
      "cell_type": "code",
      "source": [
        "a"
      ],
      "metadata": {
        "colab": {
          "base_uri": "https://localhost:8080/"
        },
        "id": "u0vLRfXyIcS0",
        "outputId": "94aed338-085b-4a7d-8783-d417c0a370eb"
      },
      "execution_count": 25,
      "outputs": [
        {
          "output_type": "execute_result",
          "data": {
            "text/plain": [
              "tensor([[6.1351e-34, 0.0000e+00],\n",
              "        [6.9406e-34, 0.0000e+00],\n",
              "        [1.5695e-43, 0.0000e+00],\n",
              "        [6.7262e-44, 0.0000e+00],\n",
              "        [6.5516e-34, 0.0000e+00]])"
            ]
          },
          "metadata": {},
          "execution_count": 25
        }
      ]
    },
    {
      "cell_type": "code",
      "source": [
        "d = torch.IntTensor(([2,3], [4, 5]))\n",
        "d"
      ],
      "metadata": {
        "colab": {
          "base_uri": "https://localhost:8080/"
        },
        "id": "z075OYq9GmXM",
        "outputId": "41949208-1101-419c-ee21-7281ac7f9b35"
      },
      "execution_count": 26,
      "outputs": [
        {
          "output_type": "execute_result",
          "data": {
            "text/plain": [
              "tensor([[2, 3],\n",
              "        [4, 5]], dtype=torch.int32)"
            ]
          },
          "metadata": {},
          "execution_count": 26
        }
      ]
    },
    {
      "cell_type": "code",
      "source": [
        "d.mv(torch.IntTensor([2,3]))"
      ],
      "metadata": {
        "colab": {
          "base_uri": "https://localhost:8080/"
        },
        "id": "r15m9Sm6Jks_",
        "outputId": "d5af16e6-2c24-4194-95c4-b8836534ae3b"
      },
      "execution_count": 27,
      "outputs": [
        {
          "output_type": "execute_result",
          "data": {
            "text/plain": [
              "tensor([13, 23], dtype=torch.int32)"
            ]
          },
          "metadata": {},
          "execution_count": 27
        }
      ]
    },
    {
      "cell_type": "code",
      "source": [
        "d @ torch.IntTensor([2,3])"
      ],
      "metadata": {
        "colab": {
          "base_uri": "https://localhost:8080/"
        },
        "id": "QFAGUNhrJxuh",
        "outputId": "794550b4-83f9-4171-fd8d-796e4e7696cd"
      },
      "execution_count": 28,
      "outputs": [
        {
          "output_type": "execute_result",
          "data": {
            "text/plain": [
              "tensor([13, 23], dtype=torch.int32)"
            ]
          },
          "metadata": {},
          "execution_count": 28
        }
      ]
    },
    {
      "cell_type": "code",
      "source": [
        "d.numpy()"
      ],
      "metadata": {
        "colab": {
          "base_uri": "https://localhost:8080/"
        },
        "id": "YyGhhsOUKNL0",
        "outputId": "0e2edcc9-d45e-48ae-805a-7de1e44870df"
      },
      "execution_count": 29,
      "outputs": [
        {
          "output_type": "execute_result",
          "data": {
            "text/plain": [
              "array([[2, 3],\n",
              "       [4, 5]], dtype=int32)"
            ]
          },
          "metadata": {},
          "execution_count": 29
        }
      ]
    },
    {
      "cell_type": "code",
      "source": [
        "def forward_pass(X, w):\n",
        "  return torch.sigmoid(X @ w)"
      ],
      "metadata": {
        "id": "fOt60J0pL6HL"
      },
      "execution_count": 30,
      "outputs": []
    },
    {
      "cell_type": "code",
      "source": [
        "g = torch.FloatTensor([[2.5, 6.5],[3.2, 2.3], [6.6,7.1]])\n",
        "h = torch.FloatTensor([[-1.3],[0.2]])\n",
        "g,h"
      ],
      "metadata": {
        "colab": {
          "base_uri": "https://localhost:8080/"
        },
        "id": "T0MDviTyMzJU",
        "outputId": "536e9345-356a-4fe8-8dab-c5341d549c15"
      },
      "execution_count": 31,
      "outputs": [
        {
          "output_type": "execute_result",
          "data": {
            "text/plain": [
              "(tensor([[2.5000, 6.5000],\n",
              "         [3.2000, 2.3000],\n",
              "         [6.6000, 7.1000]]),\n",
              " tensor([[-1.3000],\n",
              "         [ 0.2000]]))"
            ]
          },
          "metadata": {},
          "execution_count": 31
        }
      ]
    },
    {
      "cell_type": "code",
      "source": [
        "forward_pass(g, h)"
      ],
      "metadata": {
        "colab": {
          "base_uri": "https://localhost:8080/"
        },
        "id": "qBHoxP9tMA_G",
        "outputId": "ceb0c439-4f93-407d-ecdb-12628afca6f1"
      },
      "execution_count": 32,
      "outputs": [
        {
          "output_type": "execute_result",
          "data": {
            "text/plain": [
              "tensor([[0.1246],\n",
              "        [0.0241],\n",
              "        [0.0008]])"
            ]
          },
          "metadata": {},
          "execution_count": 32
        }
      ]
    },
    {
      "cell_type": "code",
      "source": [
        "x = torch.FloatTensor(1024,1024).uniform_()\n",
        "x"
      ],
      "metadata": {
        "colab": {
          "base_uri": "https://localhost:8080/"
        },
        "id": "PQxsLTyeNOxL",
        "outputId": "ee932d24-cb5e-4732-c71d-f5ec0f71f4c3"
      },
      "execution_count": 33,
      "outputs": [
        {
          "output_type": "execute_result",
          "data": {
            "text/plain": [
              "tensor([[0.3871, 0.5481, 0.7838,  ..., 0.5630, 0.3981, 0.9563],\n",
              "        [0.9418, 0.6388, 0.5492,  ..., 0.4918, 0.0397, 0.2258],\n",
              "        [0.0568, 0.7817, 0.4168,  ..., 0.7000, 0.2639, 0.1140],\n",
              "        ...,\n",
              "        [0.3973, 0.6274, 0.7252,  ..., 0.2619, 0.5317, 0.0371],\n",
              "        [0.0882, 0.4510, 0.6027,  ..., 0.5804, 0.8573, 0.4995],\n",
              "        [0.5544, 0.1420, 0.7946,  ..., 0.3026, 0.3527, 0.1508]])"
            ]
          },
          "metadata": {},
          "execution_count": 33
        }
      ]
    },
    {
      "cell_type": "code",
      "source": [
        "x.is_cuda"
      ],
      "metadata": {
        "colab": {
          "base_uri": "https://localhost:8080/"
        },
        "id": "Wpf6wvs9NW_N",
        "outputId": "2116d3ad-71c2-41f1-c70d-09ff6a53153e"
      },
      "execution_count": 34,
      "outputs": [
        {
          "output_type": "execute_result",
          "data": {
            "text/plain": [
              "False"
            ]
          },
          "metadata": {},
          "execution_count": 34
        }
      ]
    },
    {
      "cell_type": "code",
      "source": [
        "x=x.cuda()\n",
        "x.is_cuda"
      ],
      "metadata": {
        "colab": {
          "base_uri": "https://localhost:8080/"
        },
        "id": "hZFhNRQiNars",
        "outputId": "3c31adea-922e-4964-ba3e-97ca5a872d5f"
      },
      "execution_count": 35,
      "outputs": [
        {
          "output_type": "execute_result",
          "data": {
            "text/plain": [
              "True"
            ]
          },
          "metadata": {},
          "execution_count": 35
        }
      ]
    },
    {
      "cell_type": "code",
      "source": [
        "x"
      ],
      "metadata": {
        "colab": {
          "base_uri": "https://localhost:8080/"
        },
        "id": "gU0FvVfWNqNc",
        "outputId": "d6b3b429-9b6e-4588-9166-f45cd2121fb9"
      },
      "execution_count": 36,
      "outputs": [
        {
          "output_type": "execute_result",
          "data": {
            "text/plain": [
              "tensor([[0.3871, 0.5481, 0.7838,  ..., 0.5630, 0.3981, 0.9563],\n",
              "        [0.9418, 0.6388, 0.5492,  ..., 0.4918, 0.0397, 0.2258],\n",
              "        [0.0568, 0.7817, 0.4168,  ..., 0.7000, 0.2639, 0.1140],\n",
              "        ...,\n",
              "        [0.3973, 0.6274, 0.7252,  ..., 0.2619, 0.5317, 0.0371],\n",
              "        [0.0882, 0.4510, 0.6027,  ..., 0.5804, 0.8573, 0.4995],\n",
              "        [0.5544, 0.1420, 0.7946,  ..., 0.3026, 0.3527, 0.1508]],\n",
              "       device='cuda:0')"
            ]
          },
          "metadata": {},
          "execution_count": 36
        }
      ]
    },
    {
      "cell_type": "code",
      "source": [
        "x = torch.FloatTensor(10000,10000).uniform_().cuda()\n",
        "y = torch.FloatTensor(10000,10000).uniform_().cuda()\n",
        "k = torch.FloatTensor(10000,10000).uniform_()\n",
        "\n",
        "x+y"
      ],
      "metadata": {
        "colab": {
          "base_uri": "https://localhost:8080/"
        },
        "id": "bAk2Vlt_Nse2",
        "outputId": "7df31e54-016d-42f5-d376-45fdd2b3337f"
      },
      "execution_count": 43,
      "outputs": [
        {
          "output_type": "execute_result",
          "data": {
            "text/plain": [
              "tensor([[0.4359, 0.6312, 0.5422,  ..., 1.2360, 1.1981, 1.2621],\n",
              "        [0.8418, 0.4443, 1.5679,  ..., 1.1461, 1.5242, 1.0621],\n",
              "        [0.7777, 1.1478, 1.4341,  ..., 0.5648, 1.3462, 0.3791],\n",
              "        ...,\n",
              "        [1.7445, 1.3631, 0.3451,  ..., 0.8504, 0.6304, 1.0402],\n",
              "        [0.8658, 1.4022, 1.1163,  ..., 0.6154, 1.0131, 1.2584],\n",
              "        [1.0846, 0.2920, 0.0865,  ..., 0.7768, 1.0164, 1.1464]],\n",
              "       device='cuda:0')"
            ]
          },
          "metadata": {},
          "execution_count": 43
        }
      ]
    },
    {
      "cell_type": "code",
      "source": [
        "if torch.cuda.is_available():\n",
        "  print('yes')\n",
        "  device = torch.device('cuda')\n",
        "  z = torch.ones_like(k, device=device)\n",
        "  print(z+k.to(device))\n",
        "  "
      ],
      "metadata": {
        "colab": {
          "base_uri": "https://localhost:8080/"
        },
        "id": "qNpIxprwN4XA",
        "outputId": "aecfae90-6281-4cd4-ddaf-967406f075a4"
      },
      "execution_count": 48,
      "outputs": [
        {
          "output_type": "stream",
          "name": "stdout",
          "text": [
            "yes\n",
            "tensor([[1.9750, 1.3107, 1.3295,  ..., 1.7500, 1.6531, 1.5950],\n",
            "        [1.5823, 1.3251, 1.4747,  ..., 1.6247, 1.7122, 1.1484],\n",
            "        [1.4254, 1.9341, 1.2590,  ..., 1.7059, 1.8933, 1.7639],\n",
            "        ...,\n",
            "        [1.7368, 1.4042, 1.6741,  ..., 1.4663, 1.4043, 1.6975],\n",
            "        [1.6508, 1.0450, 1.7384,  ..., 1.8553, 1.7303, 1.7348],\n",
            "        [1.8089, 1.2074, 1.9034,  ..., 1.6779, 1.4197, 1.0602]],\n",
            "       device='cuda:0')\n"
          ]
        }
      ]
    },
    {
      "cell_type": "code",
      "source": [
        "x = torch.Tensor(3,1).uniform_().requires_grad_(True)\n",
        "y = torch.Tensor(3,1).uniform_()\n",
        "w = torch.Tensor(3,3).uniform_().requires_grad_(True)\n",
        "b = torch.Tensor(3,1).uniform_().requires_grad_(True)"
      ],
      "metadata": {
        "id": "2N6BaC8NPFoX"
      },
      "execution_count": 108,
      "outputs": []
    },
    {
      "cell_type": "code",
      "source": [
        "w"
      ],
      "metadata": {
        "colab": {
          "base_uri": "https://localhost:8080/"
        },
        "id": "VoL_NkxDUlDK",
        "outputId": "098987ed-d929-4d37-c612-ecafd44889a3"
      },
      "execution_count": 109,
      "outputs": [
        {
          "output_type": "execute_result",
          "data": {
            "text/plain": [
              "tensor([[0.2976, 0.0391, 0.8932],\n",
              "        [0.9750, 0.0863, 0.3463],\n",
              "        [0.0821, 0.2124, 0.7485]], requires_grad=True)"
            ]
          },
          "metadata": {},
          "execution_count": 109
        }
      ]
    },
    {
      "cell_type": "code",
      "source": [
        "y_pred = torch.sigmoid((x.T @ w).add(b))"
      ],
      "metadata": {
        "id": "e5J5mQW6RSLG"
      },
      "execution_count": 110,
      "outputs": []
    },
    {
      "cell_type": "code",
      "source": [
        "y_pred = (w @ x).add_(b)\n",
        "loss = (y_pred - y).sum()\n",
        "loss.backward()"
      ],
      "metadata": {
        "id": "ryIIojTqQnqs"
      },
      "execution_count": 111,
      "outputs": []
    },
    {
      "cell_type": "code",
      "source": [
        "x.grad"
      ],
      "metadata": {
        "colab": {
          "base_uri": "https://localhost:8080/"
        },
        "id": "g5rDsc2PU-3F",
        "outputId": "d534cd1e-69a3-4d67-f11e-bf691f9f553b"
      },
      "execution_count": 113,
      "outputs": [
        {
          "output_type": "execute_result",
          "data": {
            "text/plain": [
              "tensor([[1.3547],\n",
              "        [0.3378],\n",
              "        [1.9880]])"
            ]
          },
          "metadata": {},
          "execution_count": 113
        }
      ]
    },
    {
      "cell_type": "code",
      "source": [
        "w.grad"
      ],
      "metadata": {
        "colab": {
          "base_uri": "https://localhost:8080/"
        },
        "id": "BTVy5rrGVBWd",
        "outputId": "3d16c4df-8790-4680-a11f-5227b6fac315"
      },
      "execution_count": 114,
      "outputs": [
        {
          "output_type": "execute_result",
          "data": {
            "text/plain": [
              "tensor([[0.9232, 0.3388, 0.3257],\n",
              "        [0.9232, 0.3388, 0.3257],\n",
              "        [0.9232, 0.3388, 0.3257]])"
            ]
          },
          "metadata": {},
          "execution_count": 114
        }
      ]
    },
    {
      "cell_type": "code",
      "source": [
        "y_pred = (w @ x).add_(b)\n",
        "loss = (y_pred - y).sum()\n",
        "loss.backward()"
      ],
      "metadata": {
        "id": "3Kd00tmWVEs9"
      },
      "execution_count": 128,
      "outputs": []
    },
    {
      "cell_type": "code",
      "source": [
        "x.grad"
      ],
      "metadata": {
        "colab": {
          "base_uri": "https://localhost:8080/"
        },
        "id": "DsPm_K_MVJR-",
        "outputId": "0029286f-3a33-49af-b49e-05b90a9de4d8"
      },
      "execution_count": 130,
      "outputs": [
        {
          "output_type": "execute_result",
          "data": {
            "text/plain": [
              "tensor([[5.4189],\n",
              "        [1.3512],\n",
              "        [7.9519]])"
            ]
          },
          "metadata": {},
          "execution_count": 130
        }
      ]
    },
    {
      "cell_type": "code",
      "source": [
        "w.grad"
      ],
      "metadata": {
        "colab": {
          "base_uri": "https://localhost:8080/"
        },
        "id": "Kd7sxis5VK7-",
        "outputId": "cc7f1d08-7b2a-439e-eb68-701f0cb0ab10"
      },
      "execution_count": 131,
      "outputs": [
        {
          "output_type": "execute_result",
          "data": {
            "text/plain": [
              "tensor([[3.6928, 1.3552, 1.3027],\n",
              "        [3.6928, 1.3552, 1.3027],\n",
              "        [3.6928, 1.3552, 1.3027]])"
            ]
          },
          "metadata": {},
          "execution_count": 131
        }
      ]
    },
    {
      "cell_type": "code",
      "source": [
        "b.grad is b.grad.data"
      ],
      "metadata": {
        "colab": {
          "base_uri": "https://localhost:8080/"
        },
        "id": "Ggus-V0cWyOU",
        "outputId": "14823714-a852-46f0-bb3c-b4fc493bbcee"
      },
      "execution_count": 138,
      "outputs": [
        {
          "output_type": "execute_result",
          "data": {
            "text/plain": [
              "False"
            ]
          },
          "metadata": {},
          "execution_count": 138
        }
      ]
    },
    {
      "cell_type": "code",
      "source": [
        "print([x for x in dir()])"
      ],
      "metadata": {
        "colab": {
          "base_uri": "https://localhost:8080/"
        },
        "id": "lXqkSdpCYMuo",
        "outputId": "761adf98-a62a-4daf-fbba-7346d11a0d20"
      },
      "execution_count": 143,
      "outputs": [
        {
          "output_type": "stream",
          "name": "stdout",
          "text": [
            "['In', 'Out', '_', '_10', '_102', '_104', '_107', '_109', '_11', '_112', '_113', '_114', '_116', '_118', '_119', '_12', '_120', '_125', '_126', '_127', '_129', '_13', '_130', '_131', '_132', '_135', '_136', '_137', '_138', '_139', '_14', '_140', '_15', '_16', '_17', '_18', '_19', '_2', '_20', '_22', '_23', '_24', '_25', '_26', '_27', '_28', '_29', '_3', '_31', '_32', '_33', '_34', '_35', '_36', '_37', '_38', '_4', '_40', '_42', '_43', '_6', '_60', '_61', '_63', '_65', '_67', '_73', '_74', '_77', '_78', '_8', '_82', '_84', '_85', '_88', '_89', '_9', '_91', '_93', '_96', '_97', '_99', '__', '___', '__builtin__', '__builtins__', '__doc__', '__loader__', '__name__', '__package__', '__spec__', '_dh', '_i', '_i1', '_i10', '_i100', '_i101', '_i102', '_i103', '_i104', '_i105', '_i106', '_i107', '_i108', '_i109', '_i11', '_i110', '_i111', '_i112', '_i113', '_i114', '_i115', '_i116', '_i117', '_i118', '_i119', '_i12', '_i120', '_i121', '_i122', '_i123', '_i124', '_i125', '_i126', '_i127', '_i128', '_i129', '_i13', '_i130', '_i131', '_i132', '_i133', '_i134', '_i135', '_i136', '_i137', '_i138', '_i139', '_i14', '_i140', '_i141', '_i142', '_i143', '_i15', '_i16', '_i17', '_i18', '_i19', '_i2', '_i20', '_i21', '_i22', '_i23', '_i24', '_i25', '_i26', '_i27', '_i28', '_i29', '_i3', '_i30', '_i31', '_i32', '_i33', '_i34', '_i35', '_i36', '_i37', '_i38', '_i39', '_i4', '_i40', '_i41', '_i42', '_i43', '_i44', '_i45', '_i46', '_i47', '_i48', '_i49', '_i5', '_i50', '_i51', '_i52', '_i53', '_i54', '_i55', '_i56', '_i57', '_i58', '_i59', '_i6', '_i60', '_i61', '_i62', '_i63', '_i64', '_i65', '_i66', '_i67', '_i68', '_i69', '_i7', '_i70', '_i71', '_i72', '_i73', '_i74', '_i75', '_i76', '_i77', '_i78', '_i79', '_i8', '_i80', '_i81', '_i82', '_i83', '_i84', '_i85', '_i86', '_i87', '_i88', '_i89', '_i9', '_i90', '_i91', '_i92', '_i93', '_i94', '_i95', '_i96', '_i97', '_i98', '_i99', '_ih', '_ii', '_iii', '_oh', 'a', 'b', 'c', 'd', 'device', 'exit', 'f', 'forward_pass', 'g', 'get_ipython', 'h', 'k', 'loss', 'n', 'pd', 'plt', 'quit', 'torch', 'w', 'x', 'y', 'y_pred', 'z']\n"
          ]
        }
      ]
    },
    {
      "cell_type": "code",
      "source": [
        "w.backward()"
      ],
      "metadata": {
        "colab": {
          "base_uri": "https://localhost:8080/",
          "height": 311
        },
        "id": "4s49DiywW3TA",
        "outputId": "e7f8dd2d-0187-4697-9c5d-d444b51c5f9f"
      },
      "execution_count": 144,
      "outputs": [
        {
          "output_type": "error",
          "ename": "RuntimeError",
          "evalue": "ignored",
          "traceback": [
            "\u001b[0;31m---------------------------------------------------------------------------\u001b[0m",
            "\u001b[0;31mRuntimeError\u001b[0m                              Traceback (most recent call last)",
            "\u001b[0;32m<ipython-input-144-fdaeb047dc58>\u001b[0m in \u001b[0;36m<cell line: 1>\u001b[0;34m()\u001b[0m\n\u001b[0;32m----> 1\u001b[0;31m \u001b[0mw\u001b[0m\u001b[0;34m.\u001b[0m\u001b[0mbackward\u001b[0m\u001b[0;34m(\u001b[0m\u001b[0;34m)\u001b[0m\u001b[0;34m\u001b[0m\u001b[0;34m\u001b[0m\u001b[0m\n\u001b[0m",
            "\u001b[0;32m/usr/local/lib/python3.9/dist-packages/torch/_tensor.py\u001b[0m in \u001b[0;36mbackward\u001b[0;34m(self, gradient, retain_graph, create_graph, inputs)\u001b[0m\n\u001b[1;32m    485\u001b[0m                 \u001b[0minputs\u001b[0m\u001b[0;34m=\u001b[0m\u001b[0minputs\u001b[0m\u001b[0;34m,\u001b[0m\u001b[0;34m\u001b[0m\u001b[0;34m\u001b[0m\u001b[0m\n\u001b[1;32m    486\u001b[0m             )\n\u001b[0;32m--> 487\u001b[0;31m         torch.autograd.backward(\n\u001b[0m\u001b[1;32m    488\u001b[0m             \u001b[0mself\u001b[0m\u001b[0;34m,\u001b[0m \u001b[0mgradient\u001b[0m\u001b[0;34m,\u001b[0m \u001b[0mretain_graph\u001b[0m\u001b[0;34m,\u001b[0m \u001b[0mcreate_graph\u001b[0m\u001b[0;34m,\u001b[0m \u001b[0minputs\u001b[0m\u001b[0;34m=\u001b[0m\u001b[0minputs\u001b[0m\u001b[0;34m\u001b[0m\u001b[0;34m\u001b[0m\u001b[0m\n\u001b[1;32m    489\u001b[0m         )\n",
            "\u001b[0;32m/usr/local/lib/python3.9/dist-packages/torch/autograd/__init__.py\u001b[0m in \u001b[0;36mbackward\u001b[0;34m(tensors, grad_tensors, retain_graph, create_graph, grad_variables, inputs)\u001b[0m\n\u001b[1;32m    191\u001b[0m \u001b[0;34m\u001b[0m\u001b[0m\n\u001b[1;32m    192\u001b[0m     \u001b[0mgrad_tensors_\u001b[0m \u001b[0;34m=\u001b[0m \u001b[0m_tensor_or_tensors_to_tuple\u001b[0m\u001b[0;34m(\u001b[0m\u001b[0mgrad_tensors\u001b[0m\u001b[0;34m,\u001b[0m \u001b[0mlen\u001b[0m\u001b[0;34m(\u001b[0m\u001b[0mtensors\u001b[0m\u001b[0;34m)\u001b[0m\u001b[0;34m)\u001b[0m\u001b[0;34m\u001b[0m\u001b[0;34m\u001b[0m\u001b[0m\n\u001b[0;32m--> 193\u001b[0;31m     \u001b[0mgrad_tensors_\u001b[0m \u001b[0;34m=\u001b[0m \u001b[0m_make_grads\u001b[0m\u001b[0;34m(\u001b[0m\u001b[0mtensors\u001b[0m\u001b[0;34m,\u001b[0m \u001b[0mgrad_tensors_\u001b[0m\u001b[0;34m,\u001b[0m \u001b[0mis_grads_batched\u001b[0m\u001b[0;34m=\u001b[0m\u001b[0;32mFalse\u001b[0m\u001b[0;34m)\u001b[0m\u001b[0;34m\u001b[0m\u001b[0;34m\u001b[0m\u001b[0m\n\u001b[0m\u001b[1;32m    194\u001b[0m     \u001b[0;32mif\u001b[0m \u001b[0mretain_graph\u001b[0m \u001b[0;32mis\u001b[0m \u001b[0;32mNone\u001b[0m\u001b[0;34m:\u001b[0m\u001b[0;34m\u001b[0m\u001b[0;34m\u001b[0m\u001b[0m\n\u001b[1;32m    195\u001b[0m         \u001b[0mretain_graph\u001b[0m \u001b[0;34m=\u001b[0m \u001b[0mcreate_graph\u001b[0m\u001b[0;34m\u001b[0m\u001b[0;34m\u001b[0m\u001b[0m\n",
            "\u001b[0;32m/usr/local/lib/python3.9/dist-packages/torch/autograd/__init__.py\u001b[0m in \u001b[0;36m_make_grads\u001b[0;34m(outputs, grads, is_grads_batched)\u001b[0m\n\u001b[1;32m     86\u001b[0m             \u001b[0;32mif\u001b[0m \u001b[0mout\u001b[0m\u001b[0;34m.\u001b[0m\u001b[0mrequires_grad\u001b[0m\u001b[0;34m:\u001b[0m\u001b[0;34m\u001b[0m\u001b[0;34m\u001b[0m\u001b[0m\n\u001b[1;32m     87\u001b[0m                 \u001b[0;32mif\u001b[0m \u001b[0mout\u001b[0m\u001b[0;34m.\u001b[0m\u001b[0mnumel\u001b[0m\u001b[0;34m(\u001b[0m\u001b[0;34m)\u001b[0m \u001b[0;34m!=\u001b[0m \u001b[0;36m1\u001b[0m\u001b[0;34m:\u001b[0m\u001b[0;34m\u001b[0m\u001b[0;34m\u001b[0m\u001b[0m\n\u001b[0;32m---> 88\u001b[0;31m                     \u001b[0;32mraise\u001b[0m \u001b[0mRuntimeError\u001b[0m\u001b[0;34m(\u001b[0m\u001b[0;34m\"grad can be implicitly created only for scalar outputs\"\u001b[0m\u001b[0;34m)\u001b[0m\u001b[0;34m\u001b[0m\u001b[0;34m\u001b[0m\u001b[0m\n\u001b[0m\u001b[1;32m     89\u001b[0m                 \u001b[0mnew_grads\u001b[0m\u001b[0;34m.\u001b[0m\u001b[0mappend\u001b[0m\u001b[0;34m(\u001b[0m\u001b[0mtorch\u001b[0m\u001b[0;34m.\u001b[0m\u001b[0mones_like\u001b[0m\u001b[0;34m(\u001b[0m\u001b[0mout\u001b[0m\u001b[0;34m,\u001b[0m \u001b[0mmemory_format\u001b[0m\u001b[0;34m=\u001b[0m\u001b[0mtorch\u001b[0m\u001b[0;34m.\u001b[0m\u001b[0mpreserve_format\u001b[0m\u001b[0;34m)\u001b[0m\u001b[0;34m)\u001b[0m\u001b[0;34m\u001b[0m\u001b[0;34m\u001b[0m\u001b[0m\n\u001b[1;32m     90\u001b[0m             \u001b[0;32melse\u001b[0m\u001b[0;34m:\u001b[0m\u001b[0;34m\u001b[0m\u001b[0;34m\u001b[0m\u001b[0m\n",
            "\u001b[0;31mRuntimeError\u001b[0m: grad can be implicitly created only for scalar outputs"
          ]
        }
      ]
    },
    {
      "cell_type": "code",
      "source": [
        "w.sum().backward()"
      ],
      "metadata": {
        "id": "xP_wr6oTZUDy"
      },
      "execution_count": 145,
      "outputs": []
    },
    {
      "cell_type": "code",
      "source": [
        "w.grad"
      ],
      "metadata": {
        "colab": {
          "base_uri": "https://localhost:8080/"
        },
        "id": "NkiweYw-Xmdk",
        "outputId": "c1e347f1-fd4b-4f42-c5f1-a432a3347129"
      },
      "execution_count": 146,
      "outputs": [
        {
          "output_type": "execute_result",
          "data": {
            "text/plain": [
              "tensor([[4.6928, 2.3552, 2.3027],\n",
              "        [4.6928, 2.3552, 2.3027],\n",
              "        [4.6928, 2.3552, 2.3027]])"
            ]
          },
          "metadata": {},
          "execution_count": 146
        }
      ]
    },
    {
      "cell_type": "code",
      "source": [
        "x.grad"
      ],
      "metadata": {
        "colab": {
          "base_uri": "https://localhost:8080/"
        },
        "id": "3oNJSaIJZZn2",
        "outputId": "49994c11-12f7-4054-d8b3-c8d156fc1f63"
      },
      "execution_count": 148,
      "outputs": [
        {
          "output_type": "execute_result",
          "data": {
            "text/plain": [
              "tensor([[5.4189],\n",
              "        [1.3512],\n",
              "        [7.9519]])"
            ]
          },
          "metadata": {},
          "execution_count": 148
        }
      ]
    },
    {
      "cell_type": "code",
      "source": [
        "for x in sorted(list(x for x in w.__class__.__dict__.keys())):\n",
        "  print(x)"
      ],
      "metadata": {
        "colab": {
          "base_uri": "https://localhost:8080/"
        },
        "id": "nXD2CmKsZliY",
        "outputId": "98555f37-1d54-409b-b5f3-8a9656083260"
      },
      "execution_count": 187,
      "outputs": [
        {
          "output_type": "stream",
          "name": "stdout",
          "text": [
            "__abs__\n",
            "__array__\n",
            "__array_priority__\n",
            "__array_wrap__\n",
            "__contains__\n",
            "__cuda_array_interface__\n",
            "__deepcopy__\n",
            "__dict__\n",
            "__dir__\n",
            "__dlpack__\n",
            "__dlpack_device__\n",
            "__doc__\n",
            "__floordiv__\n",
            "__format__\n",
            "__hash__\n",
            "__ipow__\n",
            "__iter__\n",
            "__itruediv__\n",
            "__len__\n",
            "__module__\n",
            "__neg__\n",
            "__pos__\n",
            "__pow__\n",
            "__rdiv__\n",
            "__reduce_ex__\n",
            "__repr__\n",
            "__reversed__\n",
            "__rfloordiv__\n",
            "__rlshift__\n",
            "__rmatmul__\n",
            "__rmod__\n",
            "__rpow__\n",
            "__rrshift__\n",
            "__rsub__\n",
            "__rtruediv__\n",
            "__setstate__\n",
            "__torch_dispatch__\n",
            "__torch_function__\n",
            "__weakref__\n",
            "_reduce_ex_internal\n",
            "_typed_storage\n",
            "_update_names\n",
            "align_to\n",
            "backward\n",
            "detach\n",
            "detach_\n",
            "eig\n",
            "is_shared\n",
            "istft\n",
            "lstsq\n",
            "lu\n",
            "norm\n",
            "refine_names\n",
            "register_hook\n",
            "reinforce\n",
            "rename\n",
            "rename_\n",
            "resize\n",
            "resize_as\n",
            "share_memory_\n",
            "solve\n",
            "split\n",
            "stft\n",
            "storage\n",
            "storage_type\n",
            "symeig\n",
            "to_sparse_coo\n",
            "unflatten\n",
            "unique\n",
            "unique_consecutive\n"
          ]
        }
      ]
    },
    {
      "cell_type": "code",
      "source": [
        "for x in sorted(list(x for x in w.grad.__class__.__dict__.keys())):\n",
        "  if x not in sorted(list(x for x in w.__class__.__dict__.keys())):\n",
        "    print(x)"
      ],
      "metadata": {
        "id": "rOJVcX7Jdx1E"
      },
      "execution_count": 195,
      "outputs": []
    },
    {
      "cell_type": "markdown",
      "source": [
        "What blows mind up.\n",
        "It feels like dynamic graph in pytorch just destroys the whole encapsulation paradigm. \n",
        "\n",
        "The update of gradient of x,w, b is not explicit nor is it defined anywhere. We don't see any connection between loss and w or x or b but still somewhere inplace the gradient is updated after we call loss.backward() and it doesn't even exist in a namespace. \n",
        "But anytime backward is called on a variable other variables interacted with they are changed as well. The fact that .grad is not even in w._ _ class _ _. _ _ dict _ _ doesn't help. \n",
        "Mindblowing! "
      ],
      "metadata": {
        "id": "kDA00lnGXngx"
      }
    },
    {
      "cell_type": "markdown",
      "source": [
        "Let's perform some more operations"
      ],
      "metadata": {
        "id": "wO6zHZWFg8Yj"
      }
    },
    {
      "cell_type": "code",
      "source": [
        "images = torch.Tensor(100,200, 200,3).zero_().to(torch.int32)"
      ],
      "metadata": {
        "id": "AoymJmArgAKn"
      },
      "execution_count": 200,
      "outputs": []
    },
    {
      "cell_type": "code",
      "source": [
        "images.shape[0]"
      ],
      "metadata": {
        "colab": {
          "base_uri": "https://localhost:8080/"
        },
        "id": "R1itUaodg625",
        "outputId": "7ecbfec3-a5f7-4555-8498-27da1a0ff54c"
      },
      "execution_count": 201,
      "outputs": [
        {
          "output_type": "execute_result",
          "data": {
            "text/plain": [
              "100"
            ]
          },
          "metadata": {},
          "execution_count": 201
        }
      ]
    },
    {
      "cell_type": "code",
      "source": [
        "for i in range(images.shape[0]):\n",
        "  images[i, 2*i:2*i+2, :, :] = 255    #every picture has a 2 pixel line on a y val 2*index number of the picture\n",
        "\n",
        "plt.imshow(images[25].numpy())"
      ],
      "metadata": {
        "colab": {
          "base_uri": "https://localhost:8080/",
          "height": 451
        },
        "id": "JUehJp8qg65b",
        "outputId": "93846550-3389-4f1b-d805-121447fff89a"
      },
      "execution_count": 206,
      "outputs": [
        {
          "output_type": "execute_result",
          "data": {
            "text/plain": [
              "<matplotlib.image.AxesImage at 0x7fcb2d7deb20>"
            ]
          },
          "metadata": {},
          "execution_count": 206
        },
        {
          "output_type": "display_data",
          "data": {
            "text/plain": [
              "<Figure size 640x480 with 1 Axes>"
            ],
            "image/png": "[encoded data removed]"
          },
          "metadata": {}
        }
      ]
    },
    {
      "cell_type": "code",
      "source": [
        "#take avg to make it grey\n",
        "float_vals = images.float()\n",
        "mean_vals_axis_1 = float_vals.mean(dim=0)\n",
        "multiplied = mean_vals_axis_1 * 70\n",
        "converted_to_int = multiplied.int()\n",
        "plt.imshow(converted_to_int)"
      ],
      "metadata": {
        "colab": {
          "base_uri": "https://localhost:8080/",
          "height": 451
        },
        "id": "Aq_RAYzhjYtN",
        "outputId": "84ea25e1-f0b2-4d7b-a45a-04b80e44e787"
      },
      "execution_count": 220,
      "outputs": [
        {
          "output_type": "execute_result",
          "data": {
            "text/plain": [
              "<matplotlib.image.AxesImage at 0x7fcb40007f70>"
            ]
          },
          "metadata": {},
          "execution_count": 220
        },
        {
          "output_type": "display_data",
          "data": {
            "text/plain": [
              "<Figure size 640x480 with 1 Axes>"
            ],
            "image/png": "[encoded data removed]"
          },
          "metadata": {}
        }
      ]
    },
    {
      "cell_type": "code",
      "source": [
        "def forward_pass(X, w):\n",
        "    return torch.sigmoid(X @ w)\n",
        "\n",
        "X = torch.Tensor([[-5, 5], [2, 3], [1, -1]])\n",
        "w = torch.Tensor([[-0.5], [2.5]])\n",
        "result = forward_pass(X, w)\n",
        "print('result', result)"
      ],
      "metadata": {
        "colab": {
          "base_uri": "https://localhost:8080/"
        },
        "id": "s_T7Kdlzg68V",
        "outputId": "fb26ed48-7698-42c0-f78e-16a7fd07ca2a"
      },
      "execution_count": 231,
      "outputs": [
        {
          "output_type": "stream",
          "name": "stdout",
          "text": [
            "result tensor([[1.0000],\n",
            "        [0.9985],\n",
            "        [0.0474]])\n"
          ]
        }
      ]
    },
    {
      "cell_type": "code",
      "source": [
        "a = torch.Tensor(2,3,4).uniform_().cuda()\n",
        "b = torch.Tensor(1,8,3).uniform_().cuda()\n",
        "c = b.view(2,3,4)"
      ],
      "metadata": {
        "id": "Z1kPx6bTg6-e"
      },
      "execution_count": 238,
      "outputs": []
    },
    {
      "cell_type": "code",
      "source": [
        "#torch.cuda.is_available()\n",
        "c = c.cpu().requires_grad_(True)\n",
        "L = torch.mean(c - a.cpu())\n",
        "L.backward()\n",
        "c.grad"
      ],
      "metadata": {
        "colab": {
          "base_uri": "https://localhost:8080/"
        },
        "id": "QkqterXeg7A3",
        "outputId": "d9344a72-8340-43aa-9f0a-ddd12252bed5"
      },
      "execution_count": 251,
      "outputs": [
        {
          "output_type": "execute_result",
          "data": {
            "text/plain": [
              "tensor([[[0.0417, 0.0417, 0.0417, 0.0417],\n",
              "         [0.0417, 0.0417, 0.0417, 0.0417],\n",
              "         [0.0417, 0.0417, 0.0417, 0.0417]],\n",
              "\n",
              "        [[0.0417, 0.0417, 0.0417, 0.0417],\n",
              "         [0.0417, 0.0417, 0.0417, 0.0417],\n",
              "         [0.0417, 0.0417, 0.0417, 0.0417]]])"
            ]
          },
          "metadata": {},
          "execution_count": 251
        }
      ]
    },
    {
      "cell_type": "code",
      "source": [],
      "metadata": {
        "id": "bfC7Jb_yg7EV"
      },
      "execution_count": null,
      "outputs": []
    }
  ]
}