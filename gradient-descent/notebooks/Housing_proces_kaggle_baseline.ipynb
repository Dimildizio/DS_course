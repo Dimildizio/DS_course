{
  "nbformat": 4,
  "nbformat_minor": 0,
  "metadata": {
    "colab": {
      "provenance": [],
      "authorship_tag": "ABX9TyNe7tcuY50+Lk4Cw5k25Nns",
      "include_colab_link": true
    },
    "kernelspec": {
      "name": "python3",
      "display_name": "Python 3"
    },
    "language_info": {
      "name": "python"
    }
  },
  "cells": [
    {
      "cell_type": "markdown",
      "metadata": {
        "id": "view-in-github",
        "colab_type": "text"
      },
      "source": [
        "<a href=\"https://colab.research.google.com/github/Dimildizio/DS_course/blob/main/gradient-descent/notebooks/Housing_proces_kaggle_baseline.ipynb\" target=\"_parent\"><img src=\"https://colab.research.google.com/assets/colab-badge.svg\" alt=\"Open In Colab\"/></a>"
      ]
    },
    {
      "cell_type": "code",
      "execution_count": 50,
      "metadata": {
        "id": "GzRAxg9WsqCF"
      },
      "outputs": [],
      "source": [
        "import numpy as np\n",
        "import pandas as pd\n",
        "from matplotlib import pyplot as plt\n",
        "import seaborn as sns\n",
        "from scipy import stats\n",
        "\n",
        "from sklearn.preprocessing import OneHotEncoder, StandardScaler, LabelEncoder,\\\n",
        "Normalizer\n",
        "from sklearn.model_selection import train_test_split\n",
        "from sklearn.metrics import mean_squared_error, r2_score\n",
        "from sklearn.pipeline import make_pipeline\n",
        "from sklearn.linear_model import LassoLarsCV, LinearRegression\n",
        "import itertools\n",
        "from random import shuffle"
      ]
    },
    {
      "cell_type": "code",
      "source": [
        "pd.set_option('display.max_rows', 100)\n",
        "pd.set_option('max_colwidth', 80)"
      ],
      "metadata": {
        "id": "9xqpawjctOhV"
      },
      "execution_count": 51,
      "outputs": []
    },
    {
      "cell_type": "code",
      "source": [
        "raw_df_train = pd.read_csv('https://raw.githubusercontent.com/Dimildizio/DS_course/main/gradient-boosting/data/train.csv', index_col=0)\n",
        "raw_df_test = pd.read_csv('https://raw.githubusercontent.com/Dimildizio/DS_course/main/gradient-boosting/data/test.csv', index_col=0)\n"
      ],
      "metadata": {
        "id": "7AK-K2sOtO7g"
      },
      "execution_count": 52,
      "outputs": []
    },
    {
      "cell_type": "code",
      "source": [
        "def improve_cats(dataframe) -> pd.DataFrame:\n",
        "  df = dataframe.copy()\n",
        "  for col in df.columns:\n",
        "    if df[col].dtype == 'int64':\n",
        "      df[col] = df[col].astype('int32')\n",
        "    elif df[col].dtype == 'float64':\n",
        "      df[col] = df[col].astype('float32')\n",
        "    elif df[col].dtype == 'object':\n",
        "      df[col] = df[col].astype('category')\n",
        "    else:\n",
        "      print('Unknown data type')\n",
        "      return\n",
        "  return df"
      ],
      "metadata": {
        "id": "Aoz93DTHtRQq"
      },
      "execution_count": 53,
      "outputs": []
    },
    {
      "cell_type": "code",
      "source": [
        "df = improve_cats(raw_df_train) #pd.concat([df_train_1, df_test_1])\n",
        "df_test = improve_cats(raw_df_test)"
      ],
      "metadata": {
        "id": "gHP7BG2CtVLd"
      },
      "execution_count": 54,
      "outputs": []
    },
    {
      "cell_type": "code",
      "source": [
        "dates_frames  = ['YearBuilt', 'YeatRemodAdd', 'GarageYrBlt', \"YrSold\",'MoSold']"
      ],
      "metadata": {
        "id": "w9HaYwJ2t-d0"
      },
      "execution_count": 149,
      "outputs": []
    },
    {
      "cell_type": "code",
      "source": [
        "def cut_iqr(df, col, mult):\n",
        "  d=df[col].describe()\n",
        "  val =(d['50%'] + (d['75%']-d['25%'])) * mult\n",
        "  return df[df[col] <= val]"
      ],
      "metadata": {
        "id": "Snq5PI2stmhZ"
      },
      "execution_count": 150,
      "outputs": []
    },
    {
      "cell_type": "code",
      "source": [
        "def plotme(df, col):\n",
        "    if col != 'SalePrice':\n",
        "      sns.scatterplot(y = df['SalePrice'], x = df[col])"
      ],
      "metadata": {
        "id": "qPw_zILdzfV4"
      },
      "execution_count": 168,
      "outputs": []
    },
    {
      "cell_type": "code",
      "source": [
        "#we need to remove empty values in categories if there are ones \n",
        "def cut_cats(df):\n",
        "  for catcol in df.columns:\n",
        "    if df[catcol].dtype == 'category':\n",
        "      df[catcol].cat.remove_unused_categories() \n",
        "  return df\n",
        "\n",
        "def create_mt_catcol(df_new):\n",
        "  df = df_new.copy()\n",
        "  for col in df.columns:\n",
        "      if df[col].dtype == 'category':\n",
        "        if df[col].isna().any():\n",
        "          df[col] = df[col].cat.add_categories(['MISSING'])\n",
        "          df[col] = df[col].fillna('MISSING')\n",
        "  cut_cats(df)\n",
        "  return df"
      ],
      "metadata": {
        "id": "q1D3DgCivi2j"
      },
      "execution_count": 152,
      "outputs": []
    },
    {
      "cell_type": "code",
      "source": [
        "#Change after we get encoding\n",
        "def get_valid_cols(df, ok_cols, to_drop=[]):\n",
        "  return [x for x in df.columns if df[x].dtype not in ['category', 'object'] and x not in ok_cols+to_drop]"
      ],
      "metadata": {
        "id": "RpsoL7rwuMRx"
      },
      "execution_count": 154,
      "outputs": []
    },
    {
      "cell_type": "code",
      "source": [
        "def split_data(df, target):\n",
        "  X = df.drop(target, axis=1)\n",
        "  y = df[target]\n",
        "  return train_test_split(X, y, test_size=0.2, random_state=42)\n",
        "  "
      ],
      "metadata": {
        "id": "-zMivoOvuhVe"
      },
      "execution_count": 155,
      "outputs": []
    },
    {
      "cell_type": "code",
      "source": [
        "#Could run separate times for y_pred_train, y_pred_test but training two could take longer \n",
        "def run_model(X_train, y_train, X_test, model = LinearRegression):\n",
        "  pipe = make_pipeline(StandardScaler(), model())\n",
        "  pipe.fit(X_train, y_train)\n",
        "\n",
        "  y_pred_train = pipe.predict(X_train)\n",
        "  y_pred_test = pipe.predict(X_test)\n",
        "  return y_pred_train, y_pred_test"
      ],
      "metadata": {
        "id": "hp4ISXf0ukFr"
      },
      "execution_count": 156,
      "outputs": []
    },
    {
      "cell_type": "code",
      "source": [
        "def split_run_test(df, target = 'SalePrice'):\n",
        "  X_train, X_test, y_train, y_test = split_data(df, target)\n",
        "  y_pred_train, y_pred_test = run_model(X_train, y_train, X_test)\n",
        "  print_scores(y_train, y_test, y_pred_train, y_pred_test, print_train=True)"
      ],
      "metadata": {
        "id": "OEJsDrC8x6Eh"
      },
      "execution_count": 157,
      "outputs": []
    },
    {
      "cell_type": "code",
      "source": [
        "def print_scores(y_train, y_test, y_pred_train, y_pred_test, print_train=False):\n",
        "    #print('Column: ', col)\n",
        "    if print_train:\n",
        "      print('train: r2', r2_score(y_train, y_pred_train))\n",
        "      print(\"train: root mean squared error:\", np.sqrt(mean_squared_error(y_pred_train, y_train)))\n",
        "      print('Test:')\n",
        "    print('test: r2', r2_score(y_test, y_pred_test))\n",
        "    print(\"test: root mean squared error:\", np.sqrt(mean_squared_error(y_pred_test, y_test)))\n",
        "    print()"
      ],
      "metadata": {
        "id": "vm0BiE4wumyu"
      },
      "execution_count": 158,
      "outputs": []
    },
    {
      "cell_type": "code",
      "source": [
        "def find_best_param(dataset: pd.DataFrame, valid_cols: list, ok_cols: list, to_drop = [], r2_threshold = 0.67, target = \"SalePrice\"):\n",
        "  dataset = dataset.copy()\n",
        "  best_col = ['', r2_threshold]\n",
        "  \n",
        "  for col in valid_cols:\n",
        "    #old good col + a test col\n",
        "    test_cols = ok_cols + [col]\n",
        "    df = dataset[test_cols]\n",
        "  \n",
        "    try:\n",
        "      X_train, X_test, y_train, y_test = split_data(df, target)\n",
        "      y_pred_train, y_pred_test = run_model(X_train, y_train, X_test)\n",
        "\n",
        "      r2 = r2_score(y_test, y_pred_test) #compare_scores(y_train, y_test, y_pred_train, y_pred_test, r2_threshold)\n",
        "      if r2 > r2_threshold:\n",
        "        r2_threshold = r2\n",
        "        best_col = [col, r2]\n",
        "        #print_scores(y_train, y_test, y_pred_train, y_pred_test)\n",
        "    except ValueError:\n",
        "      continue\n",
        "      #print(col, 'has NaN')\n",
        "  \n",
        "  result = ok_cols + [best_col[0]]\n",
        "  #print('Best result:', result, best_col[1])\n",
        "  return best_col\n"
      ],
      "metadata": {
        "id": "5S9NxpvfuqBR"
      },
      "execution_count": 159,
      "outputs": []
    },
    {
      "cell_type": "code",
      "source": [
        "def get_best_cols(df, ok_cols: list, to_drop =[],  r2_threshold=0.67):\n",
        "  valid_cols = get_valid_cols(df_cats, ok_cols)#\n",
        "  valid_nodups = valid_cols.copy()\n",
        "  shuffle(valid_cols)\n",
        "  #best_result = r2_threshold\n",
        "  for col in valid_cols:\n",
        "    #print(new_valid)\n",
        "    best_col, r2 = find_best_param(df_cats, valid_nodups, ok_cols, r2_threshold)\n",
        "    if r2 - r2_threshold > 0.001:\n",
        "      r2_threshold = r2\n",
        "      ok_cols.append(best_col)\n",
        "      valid_nodups.remove(col)\n",
        "  return ok_cols, r2_threshold\n"
      ],
      "metadata": {
        "id": "xiLbLFEEuqEq"
      },
      "execution_count": 450,
      "outputs": []
    },
    {
      "cell_type": "code",
      "source": [
        "def many_shuffles(num=10):\n",
        "  bestestbest = [['SalePrice', 'OverallQual'], 0.67]\n",
        "  for x in range(num):\n",
        "    print('shuffle:', x+1)\n",
        "    result = get_best_cols(df_cats, ['SalePrice', 'OverallQual'])\n",
        "    if result[1] > bestestbest[1]:\n",
        "      bestestbest = result\n",
        "      print(bestestbest)\n",
        "  print('\\n\\nThe result is:')\n",
        "  print(bestestbest)"
      ],
      "metadata": {
        "id": "qmin6wynvQEC"
      },
      "execution_count": 438,
      "outputs": []
    },
    {
      "cell_type": "code",
      "source": [
        "def drop_n_log(df):\n",
        "  df_num = df.copy()\n",
        "  #Create a new parameter that combines all porches\n",
        "  df_num['PorchSF'] = df_num['OpenPorchSF'] + df_num['EnclosedPorch'] + df_num['3SsnPorch'] + df_num['ScreenPorch']\n",
        "\n",
        "  #drop low numbers \n",
        "  #cols = ['KitchenAbvGr', 'BedroomAbvGr']\n",
        "  #df_num = drop_low_zeros(df_num, cols)\n",
        "\n",
        "  df_num['GarageYrBlt'] = df_num['GarageYrBlt'].fillna(df_num['GarageYrBlt'].mean()) #REPLACE\n",
        "\n",
        "  #Drop numeric columns\n",
        "  df_num = df_num.drop(columns=['OpenPorchSF', 'EnclosedPorch', '3SsnPorch', 'ScreenPorch']) #drop porches\n",
        "  df_num = df_num.drop(columns=['BsmtFinSF1', 'BsmtFinSF2', 'BsmtUnfSF'])                    #drop basements\n",
        "  df_num = df_num.drop(columns=['GarageCars'])                                               #drop garage\n",
        "  df_num = df_num.drop(columns=['LowQualFinSF', 'PoolArea', 'MiscVal', 'TotRmsAbvGrd', '1stFlrSF'])      #drop misc\n",
        "\n",
        "  #wierdly it produced worse result\n",
        "  for column in [col for col in df_num.columns if df_num[col].dtype not in ['category', 'object']]:\n",
        "    df_num[column] = df_num[column]+1\n",
        "  #  df_num[column] = np.log(df_num[column] + 1)\n",
        "\n",
        "  to_log = ['LotFrontage', 'LotArea', 'GrLivArea', 'SalePrice']#, 'GarageArea']#,'WoodDeckSF', 'MasVnrArea','TotalBsmtSF''2ndFlrSF', 'PorchSF']#]#,]#, ]#, ]#]]\n",
        "  for col in to_log:\n",
        "    df_num[col] = np.log(df_num[col])\n",
        "  print(df_num.shape)\n",
        "  return df_num"
      ],
      "metadata": {
        "id": "pdUghZadtXju"
      },
      "execution_count": 439,
      "outputs": []
    },
    {
      "cell_type": "code",
      "source": [
        "#Cut iqr\n",
        "def make_iqr(df_num):\n",
        "  df_iqr = df_num.copy()\n",
        "  for col in ['SalePrice', 'LotFrontage', 'LotArea', 'MasVnrArea', \\\n",
        "              'TotalBsmtSF', 'GrLivArea', \\\n",
        "              'BedroomAbvGr', 'KitchenAbvGr', 'Fireplaces', 'GarageArea', 'PorchSF']:\n",
        "\n",
        "      df_iqr = cut_iqr(df_iqr, col, 3)\n",
        "      #plotme(df_iqr, col)\n",
        "\n",
        "  print(df_iqr.shape)\n",
        "  return df_iqr"
      ],
      "metadata": {
        "id": "gF4-TsSttsiN"
      },
      "execution_count": 440,
      "outputs": []
    },
    {
      "cell_type": "code",
      "source": [
        "def make_cats(df_iqr):\n",
        "  df_cats = df_iqr.drop(['PoolQC', 'MiscFeature', 'Alley', 'Fence', 'Utilities', 'Condition1', \\\n",
        "                        'Condition2', 'Street', 'LandContour', 'LandSlope', \\\n",
        "                  'RoofMatl', 'ExterCond', 'BsmtCond', 'BsmtFinType2', 'Heating', 'CentralAir', \\\n",
        "                  'Electrical', 'Functional', 'GarageQual', 'GarageCond', 'PavedDrive', 'SaleType'], axis = 1)\n",
        "  df_cats = create_mt_catcol(df_cats)\n",
        "  print(df_cats.shape)\n",
        "  return df_cats"
      ],
      "metadata": {
        "id": "QbG6xN0VtzoK"
      },
      "execution_count": 441,
      "outputs": []
    },
    {
      "cell_type": "code",
      "source": [
        "df_num = drop_n_log(df)"
      ],
      "metadata": {
        "colab": {
          "base_uri": "https://localhost:8080/"
        },
        "id": "BSGpR7E18IfO",
        "outputId": "b115e806-3fb5-4818-aca7-04aebef713ed"
      },
      "execution_count": 442,
      "outputs": [
        {
          "output_type": "stream",
          "name": "stdout",
          "text": [
            "(1460, 68)\n"
          ]
        }
      ]
    },
    {
      "cell_type": "code",
      "source": [
        "df_iqr= make_iqr(df_num)"
      ],
      "metadata": {
        "colab": {
          "base_uri": "https://localhost:8080/"
        },
        "id": "DZMRb-k-8dmj",
        "outputId": "598415f9-843b-49c1-e327-dd25886b0340"
      },
      "execution_count": 443,
      "outputs": [
        {
          "output_type": "stream",
          "name": "stdout",
          "text": [
            "(1140, 68)\n"
          ]
        }
      ]
    },
    {
      "cell_type": "code",
      "source": [
        "df_cats = make_cats(df_iqr)"
      ],
      "metadata": {
        "colab": {
          "base_uri": "https://localhost:8080/"
        },
        "id": "OmbGKuWO8noz",
        "outputId": "e3172542-ee8c-40af-8657-dec5da316f81"
      },
      "execution_count": 444,
      "outputs": [
        {
          "output_type": "stream",
          "name": "stdout",
          "text": [
            "(1140, 46)\n"
          ]
        }
      ]
    },
    {
      "cell_type": "code",
      "source": [],
      "metadata": {
        "id": "tVQIX5ch84C7"
      },
      "execution_count": 444,
      "outputs": []
    },
    {
      "cell_type": "code",
      "source": [
        "#Find second best parameter\n",
        "valids = get_valid_cols(df_cats, ['SalePrice', 'OverallQual'])\n",
        "find_best_param(df_cats, valids, ['SalePrice','OverallQual'])"
      ],
      "metadata": {
        "colab": {
          "base_uri": "https://localhost:8080/"
        },
        "id": "cHityhEMu45R",
        "outputId": "c0b2dca3-90b4-4fc3-f86d-06a483b221a3"
      },
      "execution_count": 445,
      "outputs": [
        {
          "output_type": "execute_result",
          "data": {
            "text/plain": [
              "['GrLivArea', 0.783920660454508]"
            ]
          },
          "metadata": {},
          "execution_count": 445
        }
      ]
    },
    {
      "cell_type": "code",
      "source": [
        "split_run_test(df_cats[['SalePrice', 'OverallQual', 'GrLivArea', 'TotalBsmtSF', 'LotArea', 'YearBuilt', 'OverallCond', 'GarageArea', 'BsmtFullBath', 'Fireplaces', 'BedroomAbvGr', 'YearRemodAdd', 'HalfBath']])"
      ],
      "metadata": {
        "colab": {
          "base_uri": "https://localhost:8080/"
        },
        "id": "IhZGvD9ryfR_",
        "outputId": "0cc22607-519d-4e42-dcfa-af29581bb263"
      },
      "execution_count": 446,
      "outputs": [
        {
          "output_type": "stream",
          "name": "stdout",
          "text": [
            "train: r2 0.886399882244371\n",
            "train: root mean squared error: 0.133150478672193\n",
            "Test:\n",
            "test: r2 0.9171824387890771\n",
            "test: root mean squared error: 0.11180536360069847\n",
            "\n"
          ]
        }
      ]
    },
    {
      "cell_type": "code",
      "source": [
        "#get best combination \n",
        "get_best_cols(df_cats, ['SalePrice', 'OverallQual'])"
      ],
      "metadata": {
        "colab": {
          "base_uri": "https://localhost:8080/"
        },
        "id": "UqzRu-aUu908",
        "outputId": "dc093291-197b-406f-d5b0-c09c23ed509a"
      },
      "execution_count": 447,
      "outputs": [
        {
          "output_type": "execute_result",
          "data": {
            "text/plain": [
              "(['SalePrice',\n",
              "  'OverallQual',\n",
              "  'GrLivArea',\n",
              "  'TotalBsmtSF',\n",
              "  'GarageArea',\n",
              "  'YearBuilt',\n",
              "  'OverallCond',\n",
              "  'Fireplaces',\n",
              "  'LotFrontage',\n",
              "  'BedroomAbvGr',\n",
              "  'HalfBath',\n",
              "  'YrSold',\n",
              "  'WoodDeckSF',\n",
              "  'MasVnrArea',\n",
              "  'BsmtHalfBath',\n",
              "  'YearBuilt'],\n",
              " 0.9035600290251458)"
            ]
          },
          "metadata": {},
          "execution_count": 447
        }
      ]
    },
    {
      "cell_type": "code",
      "source": [
        "#get best orders of best combinations\n",
        "many_shuffles(5)"
      ],
      "metadata": {
        "colab": {
          "base_uri": "https://localhost:8080/"
        },
        "id": "YzAEG1UdvRoY",
        "outputId": "6be3110e-8f1f-4294-aed3-8612a62322b3"
      },
      "execution_count": 449,
      "outputs": [
        {
          "output_type": "stream",
          "name": "stdout",
          "text": [
            "shuffle: 1\n",
            "(['SalePrice', 'OverallQual', 'GrLivArea', 'TotalBsmtSF', 'GarageArea', 'LotArea', 'YearBuilt', 'OverallCond', 'Fireplaces', 'BsmtFullBath', 'BedroomAbvGr', 'HalfBath', 'YrSold', 'MasVnrArea', 'BedroomAbvGr'], 0.9164415567934873)\n",
            "shuffle: 2\n",
            "shuffle: 3\n",
            "(['SalePrice', 'OverallQual', 'GrLivArea', 'TotalBsmtSF', 'GarageArea', 'LotArea', 'YearBuilt', 'OverallCond', 'Fireplaces', 'BsmtFullBath', 'BedroomAbvGr', 'HalfBath', 'YearBuilt', 'YearRemodAdd'], 0.9180531748470215)\n",
            "shuffle: 4\n",
            "shuffle: 5\n",
            "shuffle: 6\n",
            "shuffle: 7\n",
            "shuffle: 8\n",
            "shuffle: 9\n",
            "shuffle: 10\n",
            "\n",
            "\n",
            "The result is:\n",
            "(['SalePrice', 'OverallQual', 'GrLivArea', 'TotalBsmtSF', 'GarageArea', 'LotArea', 'YearBuilt', 'OverallCond', 'Fireplaces', 'BsmtFullBath', 'BedroomAbvGr', 'HalfBath', 'YearBuilt', 'YearRemodAdd'], 0.9180531748470215)\n"
          ]
        }
      ]
    },
    {
      "cell_type": "markdown",
      "source": [
        "train: r2 0.886399882244371\n",
        "\n",
        "train: root mean squared error: 0.133150478672193\n",
        "\n",
        "test: r2 0.9171824387890771\n",
        "\n",
        "test: root mean squared error: 0.11180536360069847\n",
        "\n",
        "\n",
        "'SalePrice', 'OverallQual', 'GrLivArea', 'TotalBsmtSF', 'LotArea', 'YearBuilt', 'OverallCond', 'GarageArea', 'BsmtFullBath', 'Fireplaces', 'BedroomAbvGr', 'YearRemodAdd', 'HalfBath'\n",
        "\n",
        "log of 'LotFrontage', 'LotArea', 'GrLivArea', 'SalePrice'"
      ],
      "metadata": {
        "id": "fEhNy-13wBah"
      }
    },
    {
      "cell_type": "markdown",
      "source": [
        "['SalePrice', 'OverallQual', 'GrLivArea', 'TotalBsmtSF', 'LotArea', 'YearBuilt', 'OverallCond', 'GarageArea', 'BsmtFullBath', 'Fireplaces', 'BedroomAbvGr', 'YearRemodAdd', 'HalfBath']\n",
        "\n",
        "log of ['LotFrontage', 'LotArea', 'GrLivArea', 'SalePrice','GarageArea']"
      ],
      "metadata": {
        "id": "TcRCD6Jz2rXS"
      }
    }
  ]
}