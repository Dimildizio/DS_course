{
  "cells": [
    {
      "cell_type": "markdown",
      "metadata": {
        "id": "view-in-github",
        "colab_type": "text"
      },
      "source": [
        "<a href=\"https://colab.research.google.com/github/Dimildizio/DS_course/blob/main/Neural_networks/NLP/Langchain/LLM_semantic_search/Dense_Retrieval.ipynb\" target=\"_parent\"><img src=\"https://colab.research.google.com/assets/colab-badge.svg\" alt=\"Open In Colab\"/></a>"
      ]
    },
    {
      "cell_type": "markdown",
      "id": "272e659b",
      "metadata": {
        "id": "272e659b"
      },
      "source": [
        "# Dense Retrieval"
      ]
    },
    {
      "cell_type": "markdown",
      "id": "a00e3a75",
      "metadata": {
        "id": "a00e3a75"
      },
      "source": [
        "## Setup\n",
        "\n",
        "Load needed API keys and relevant Python libaries."
      ]
    },
    {
      "cell_type": "code",
      "execution_count": null,
      "id": "84214662",
      "metadata": {
        "height": 47,
        "id": "84214662"
      },
      "outputs": [],
      "source": [
        "# !pip install cohere\n",
        "# !pip install weaviate-client Annoy"
      ]
    },
    {
      "cell_type": "code",
      "execution_count": null,
      "id": "e876e494-818f-439e-a1be-b50535cf09f5",
      "metadata": {
        "height": 64,
        "id": "e876e494-818f-439e-a1be-b50535cf09f5"
      },
      "outputs": [],
      "source": [
        "import os\n",
        "from dotenv import load_dotenv, find_dotenv\n",
        "_ = load_dotenv(find_dotenv()) # read local .env file"
      ]
    },
    {
      "cell_type": "code",
      "execution_count": null,
      "id": "dc7f9f83-c295-4114-aca4-8b0ddbc64ddb",
      "metadata": {
        "height": 47,
        "id": "dc7f9f83-c295-4114-aca4-8b0ddbc64ddb"
      },
      "outputs": [],
      "source": [
        "import cohere\n",
        "co = cohere.Client(os.environ['COHERE_API_KEY'])"
      ]
    },
    {
      "cell_type": "code",
      "execution_count": null,
      "id": "cfa7aa9f-e3e8-44d9-a4ac-461d71d8c7f4",
      "metadata": {
        "height": 64,
        "id": "cfa7aa9f-e3e8-44d9-a4ac-461d71d8c7f4"
      },
      "outputs": [],
      "source": [
        "import weaviate\n",
        "auth_config = weaviate.auth.AuthApiKey(\n",
        "    api_key=os.environ['WEAVIATE_API_KEY'])"
      ]
    },
    {
      "cell_type": "code",
      "execution_count": null,
      "id": "d8474f81-011c-485a-9f24-827f81165fee",
      "metadata": {
        "height": 149,
        "id": "d8474f81-011c-485a-9f24-827f81165fee",
        "outputId": "8d303558-2e95-467e-9dbd-df7ab46019a0"
      },
      "outputs": [
        {
          "data": {
            "text/plain": [
              "True"
            ]
          },
          "execution_count": 4,
          "metadata": {},
          "output_type": "execute_result"
        }
      ],
      "source": [
        "client = weaviate.Client(\n",
        "    url=os.environ['WEAVIATE_API_URL'],\n",
        "    auth_client_secret=auth_config,\n",
        "    additional_headers={\n",
        "        \"X-Cohere-Api-Key\": os.environ['COHERE_API_KEY'],\n",
        "    }\n",
        ")\n",
        "client.is_ready() #check if True"
      ]
    },
    {
      "cell_type": "markdown",
      "id": "75df20b5",
      "metadata": {
        "id": "75df20b5"
      },
      "source": [
        "## Part 1: Vector Database for semantic Search"
      ]
    },
    {
      "cell_type": "code",
      "execution_count": null,
      "id": "1a44f246-2fdb-4986-9a23-401f22825647",
      "metadata": {
        "height": 455,
        "id": "1a44f246-2fdb-4986-9a23-401f22825647"
      },
      "outputs": [],
      "source": [
        "def dense_retrieval(query,\n",
        "                    results_lang='en',\n",
        "                    properties = [\"text\", \"title\", \"url\", \"views\", \"lang\", \"_additional {distance}\"],\n",
        "                    num_results=5):\n",
        "\n",
        "    nearText = {\"concepts\": [query]}\n",
        "\n",
        "    # To filter by language\n",
        "    where_filter = {\n",
        "    \"path\": [\"lang\"],\n",
        "    \"operator\": \"Equal\",\n",
        "    \"valueString\": results_lang\n",
        "    }\n",
        "    response = (\n",
        "        client.query\n",
        "        .get(\"Articles\", properties)\n",
        "        .with_near_text(nearText)\n",
        "        .with_where(where_filter)\n",
        "        .with_limit(num_results)\n",
        "        .do()\n",
        "    )\n",
        "\n",
        "    result = response['data']['Get']['Articles']\n",
        "\n",
        "    return result"
      ]
    },
    {
      "cell_type": "code",
      "execution_count": null,
      "id": "3c7d2791",
      "metadata": {
        "height": 30,
        "id": "3c7d2791"
      },
      "outputs": [],
      "source": [
        "from utils import print_result"
      ]
    },
    {
      "cell_type": "markdown",
      "id": "344956dc",
      "metadata": {
        "id": "344956dc"
      },
      "source": [
        "### Bacic Query"
      ]
    },
    {
      "cell_type": "code",
      "execution_count": null,
      "id": "ca9b7b93-dfcc-464a-ac9e-41bfa8117a99",
      "metadata": {
        "height": 64,
        "id": "ca9b7b93-dfcc-464a-ac9e-41bfa8117a99",
        "outputId": "d50b968f-a18e-4a32-92fd-8bb67ad78d5c"
      },
      "outputs": [
        {
          "name": "stdout",
          "output_type": "stream",
          "text": [
            "item 0\n",
            "_additional:{'distance': -146.18814}\n",
            "\n",
            "lang:en\n",
            "\n",
            "text:Journalist Glenn Greenwald called Bolsonaro \"the most misogynistic, hateful elected official in the democratic world\". News.com.au wondered whether Bolsonaro was \"the world's most repulsive politician\". British news magazine \"The Economist\" referred to him as a \"radical\", \"religious nationalist\", a \"right-wing demagogue\", and \"apologist of dictators\". Federico Finchelstein, scholar on fascism and populism, has considered Bolsonaro, as he would link violence to austerity and neoliberal economic ideas, to be the most similar leader to Augusto Pinochet to come out from the young South American democracies.\n",
            "\n",
            "title:Jair Bolsonaro\n",
            "\n",
            "url:https://en.wikipedia.org/wiki?curid=46603496\n",
            "\n",
            "views:3000\n",
            "\n",
            "\n",
            "item 1\n",
            "_additional:{'distance': -145.84886}\n",
            "\n",
            "lang:en\n",
            "\n",
            "text:When asked in an interview which living person he most despised, Hoskins named Tony Blair and said, \"He's done even more damage than Thatcher.\" He hated Blair to the point that he decided in 2010, for the first time in his life, not to vote for Labour, by then led by Gordon Brown.\n",
            "\n",
            "title:Bob Hoskins\n",
            "\n",
            "url:https://en.wikipedia.org/wiki?curid=164228\n",
            "\n",
            "views:2000\n",
            "\n",
            "\n",
            "item 2\n",
            "_additional:{'distance': -145.0604}\n",
            "\n",
            "lang:en\n",
            "\n",
            "text:In spite of being a lifelong supporter of the Republican Party, Sinise refused to endorse or vote for Donald Trump in the 2016 presidential election, and also criticized Trump after the then-candidate questioned McCain's status as a war hero because he was captured as a prisoner of war.\n",
            "\n",
            "title:Gary Sinise\n",
            "\n",
            "url:https://en.wikipedia.org/wiki?curid=524276\n",
            "\n",
            "views:2000\n",
            "\n",
            "\n",
            "item 3\n",
            "_additional:{'distance': -144.69537}\n",
            "\n",
            "lang:en\n",
            "\n",
            "text:In 2012, Craig expressed a dislike and distrust for politics and politicians in general, being quoted as saying \"Politicians are shitheads. That's how they become politicians, even the good ones. We're actors, we're artists, we're very nice to each other. They'll turn around and stab you in the fucking back\". He has been particularly scathing about Tony Blair, going as far as comparing Blair's penchant for befriending celebrities to the book \"Mephisto\". He also expressed a reluctance to involve himself with politicians, arguing that by doing so \"you immediately are aligning yourself with a political party.\"\n",
            "\n",
            "title:Daniel Craig\n",
            "\n",
            "url:https://en.wikipedia.org/wiki?curid=15252813\n",
            "\n",
            "views:3000\n",
            "\n",
            "\n",
            "item 4\n",
            "_additional:{'distance': -143.91551}\n",
            "\n",
            "lang:en\n",
            "\n",
            "text:Mustaine has criticized several Democratic Party politicians. During the 2004 presidential campaign, Mustaine commented that he believed that John Kerry would \"ruin our country\". In addition, Mustaine has made several comments critical of president Barack Obama, calling him \"the most divisive president we've ever had\" in 2011, and commenting that he believed that Obama was born outside of the United States during a March 2012 interview on \"George Stroumboulopoulos Tonight\".\n",
            "\n",
            "title:Dave Mustaine\n",
            "\n",
            "url:https://en.wikipedia.org/wiki?curid=61020\n",
            "\n",
            "views:2000\n",
            "\n",
            "\n"
          ]
        }
      ],
      "source": [
        "query = \"Who is the most hated politician?\"\n",
        "dense_retrieval_results = dense_retrieval(query)\n",
        "print_result(dense_retrieval_results)"
      ]
    },
    {
      "cell_type": "markdown",
      "id": "319111ec",
      "metadata": {
        "id": "319111ec"
      },
      "source": [
        "### Medium Query"
      ]
    },
    {
      "cell_type": "code",
      "execution_count": null,
      "id": "1c1145db-f3c0-4178-8f76-69bd78a8b779",
      "metadata": {
        "height": 81,
        "jupyter": {
          "outputs_hidden": true
        },
        "id": "1c1145db-f3c0-4178-8f76-69bd78a8b779",
        "outputId": "4abe7ae8-eab5-40d8-ece1-32d1a55fd74e"
      },
      "outputs": [
        {
          "name": "stdout",
          "output_type": "stream",
          "text": [
            "item 0\n",
            "_additional:{'distance': -149.20752}\n",
            "\n",
            "lang:en\n",
            "\n",
            "text:The popularity of the fantasy genre has continued to increase in the 21st century, as evidenced by the best-selling status of J. K. Rowling's Harry Potter series, Robert Jordan's \"The Wheel of Time\" series, George R. R. Martin's \"Song of Ice and Fire\" series, Steven Erikson's Malazan Book of the Fallen sweeping epic, Brandon Sanderson's \"The Stormlight Archive\" series and \"Mistborn\" series, and A. Sapkowski's \"The Witcher\" saga.\n",
            "\n",
            "title:Fantasy\n",
            "\n",
            "url:https://en.wikipedia.org/wiki?curid=23534170\n",
            "\n",
            "views:2000\n",
            "\n",
            "\n",
            "item 1\n",
            "_additional:{'distance': -148.46332}\n",
            "\n",
            "lang:en\n",
            "\n",
            "text:As of November 2011, the series had sold over 120 million copies worldwide with translations into at least 38 different languages around the globe. The four \"Twilight\" books have consecutively set records as the biggest-selling novels of 2008 on the \"USA Today\" Best-Selling Books list and have spent over 235 weeks on the \"New York Times\" Best Seller list for Children's Series Books.\n",
            "\n",
            "title:Twilight (novel series)\n",
            "\n",
            "url:https://en.wikipedia.org/wiki?curid=13039867\n",
            "\n",
            "views:2000\n",
            "\n",
            "\n",
            "item 2\n",
            "_additional:{'distance': -147.46014}\n",
            "\n",
            "lang:en\n",
            "\n",
            "text:The series was the 27th best-selling light novel series in the first half of 2017, with 84,372 copies sold.\n",
            "\n",
            "title:Arifureta: From Commonplace to World's Strongest\n",
            "\n",
            "url:https://en.wikipedia.org/wiki?curid=55950822\n",
            "\n",
            "views:2000\n",
            "\n",
            "\n",
            "item 3\n",
            "_additional:{'distance': -146.9184}\n",
            "\n",
            "lang:en\n",
            "\n",
            "text:The response to \"Twilight\" has been mixed. While the books have become immensely popular, they have also generated much controversy.\n",
            "\n",
            "title:Twilight (novel series)\n",
            "\n",
            "url:https://en.wikipedia.org/wiki?curid=13039867\n",
            "\n",
            "views:2000\n",
            "\n",
            "\n",
            "item 4\n",
            "_additional:{'distance': -146.7775}\n",
            "\n",
            "lang:en\n",
            "\n",
            "text:The first volume in the book series, \"The Eye of the World\", saw a spike in sales that has been attributed to the series release. For the week of November 28, 2021, it was the second-most sold book across all formats on Amazon.com. It also made the January 2022 \"The New York Times\" Best Seller list in the mass market fiction category list and was number one on the audio fiction list.\n",
            "\n",
            "title:The Wheel of Time (TV series)\n",
            "\n",
            "url:https://en.wikipedia.org/wiki?curid=58636426\n",
            "\n",
            "views:3000\n",
            "\n",
            "\n"
          ]
        }
      ],
      "source": [
        "query = \"What is the most popular book series in the world?\"\n",
        "dense_retrieval_results = dense_retrieval(query)\n",
        "print_result(dense_retrieval_results)"
      ]
    },
    {
      "cell_type": "code",
      "execution_count": null,
      "id": "dda4f775-d95a-4408-872b-a0d9cf0c7a68",
      "metadata": {
        "height": 115,
        "jupyter": {
          "outputs_hidden": true
        },
        "id": "dda4f775-d95a-4408-872b-a0d9cf0c7a68",
        "outputId": "d31dd087-076a-43c2-9c9b-3230367f6f8a"
      },
      "outputs": [
        {
          "name": "stdout",
          "output_type": "stream",
          "text": [
            "item 0\n",
            "text:Maas began writing what would become her debut novel, \"Throne of Glass\", when she was sixteen years old. After writing several chapters of the novel, then titled \"Queen of Glass\", Maas posted them on FictionPress.com, where it was one of the most popular stories on the site. It was later removed from the site when Maas decided to publish the novel. The story line of the series is based on the story of Cinderella, with the premise of \"What if Cinderella was not a servant, but an assassin? And what if she didn't attend the ball to meet the prince, but to kill him, instead?\" In 2008, Maas started sending the story to agents before signing with Tamar Rydzinski of The Laura Dial Literary Agency in 2009. \"Throne of Glass\" was purchased in March 2010 by Bloomsbury, who later purchased two additional books in the series. The series is available in 15 countries and 35 languages. While several prequel novellas set two years before the first novel were also published, these were later condensed into one book, \"The Assassin's Blade\". The second book of the series, \"Crown of Midnight\" was a New York Times young adult best-seller. The final book in the series, \"Kingdom of Ash\", was released on October 23, 2018; the finished series comprised seven books.\n",
            "\n",
            "title:Sarah J. Maas\n",
            "\n",
            "url:https://en.wikipedia.org/wiki?curid=47023321\n",
            "\n",
            "\n",
            "item 1\n",
            "text:Since the release of the first novel, \"Twilight\", in 2005, the books have gained immense popularity and commercial success around the world. The series is most popular among young adults; the four books have won multiple awards, most notably the 2008 British Book Award for Children's Book of the Year for \"Breaking Dawn\", while the series as a whole won the 2009 Kids' Choice Award for Favorite Book.\n",
            "\n",
            "title:Twilight (novel series)\n",
            "\n",
            "url:https://en.wikipedia.org/wiki?curid=13039867\n",
            "\n",
            "\n",
            "item 2\n",
            "text:The \"Persona\" series has been referred to as the most popular spin-off from the \"Megami Tensei\" franchise, gaining notoriety and success in its own right. Io9's James Whitbrook commented that while \"here in the west, we've got plenty of awesome urban fantasy, especially from a YA perspective. But what makes Persona interesting is that it's the familiar concept of Urban fantasy, the balance of the mundane \"normal\" life of the protagonists and the problems they have there with the fantastical nature of the supernatural world that lies beneath all that, from a Japanese perspective. Over here, that's much less common, and the way the series portrays urban fantasy through that lens is what makes it so different, especially from what you would normally expect from Japanese RPGs.\". \"Nintendo Power\", in an article concerning the \"Megami Tensei\" series, cited the \"Persona\" series' \"modern-day horror stories\" and \"teams of Japanese high-school kids\" as the perfect example of the franchise. \"Persona\" was mentioned in 1999 by GameSpot's Andrew Vestal as a game that deserved attention despite not aging well, saying \"Examining \"Persona\" reveals three of the traits that make the series so popular - and unique - amongst RPG fans: demonology, negotiation, and psychology\". The game has been named as a cult classic. \"Persona 3\" was named by RPGamer as the greatest RPG of the past decade in 2009, and RPGFan listed \"Persona 3\" and \"4\" in second and fourth place respectively in their similar 2011 list. \"Persona 3\" was listed by Gamasutra as one of the 20 essential RPGs for players of the genre. \"Persona 4\" was also listed by \"Famitsu\" as one of the greatest games of all time in a 2010 list.\n",
            "\n",
            "title:Persona (series)\n",
            "\n",
            "url:https://en.wikipedia.org/wiki?curid=22586948\n",
            "\n",
            "\n"
          ]
        }
      ],
      "source": [
        "from utils import keyword_search\n",
        "\n",
        "query = \"What is the most popular book series in the world?\"\n",
        "keyword_search_results = keyword_search(query, client)\n",
        "print_result(keyword_search_results)"
      ]
    },
    {
      "cell_type": "markdown",
      "id": "529e8a97",
      "metadata": {
        "id": "529e8a97"
      },
      "source": [
        "### Complicated Query"
      ]
    },
    {
      "cell_type": "code",
      "execution_count": null,
      "id": "9deb9d52-6da8-48f3-92e2-baf922afdbb9",
      "metadata": {
        "height": 98,
        "id": "9deb9d52-6da8-48f3-92e2-baf922afdbb9",
        "outputId": "437635a1-2855-45ee-da2a-0686d704693e"
      },
      "outputs": [
        {
          "name": "stdout",
          "output_type": "stream",
          "text": [
            "item 0\n",
            "text:The population of Japan peaked at 128,083,960 in 2008. It had decreased by 2,373,960 by December 2020. In 2011, the economy of China became the world's second largest. Japan's economy descended to third largest by nominal GDP. Despite Japan's economic difficulties, this period also saw Japanese popular culture, including video games, anime, and manga, expanding worldwide, especially among young people. In March 2011, the Tokyo Skytree became the tallest tower in the world at , displacing the Canton Tower. It is the second tallest structure in the world after the Burj Khalifa ().\n",
            "\n",
            "title:History of Japan\n",
            "\n",
            "url:https://en.wikipedia.org/wiki?curid=25890428\n",
            "\n",
            "\n",
            "item 1\n",
            "text:Alpinism author Jon Krakauer (1997) wrote in \"Into Thin Air\" that it would be a bigger challenge to climb the second-highest peak of each continent, known as the Seven Second Summits – a feat that was not accomplished until January 2013. This discussion had previously been published in an article titled \"The Second Seven Summits\" in Rock & Ice Magazine (#77) authored by the mountaineer and Seven Summits completer David Keaton. This is especially true for Asia, as K2 (8,611 m) demands greater technical climbing skills than Everest (8,848 m), while altitude-related factors such as the thinness of the atmosphere, high winds and low temperatures remain much the same. Some of those completing the seven ascents are aware of the magnitude of the challenge. In 2000, in a foreword to Steve Bell et al., \"Seven Summits\", Morrow opined \"[t]he only reason Reinhold [Messner] wasn’t the first person to complete the seven was that he was too busy gambolling up the 14 tallest mountains in the world.\"\n",
            "\n",
            "title:Seven Summits\n",
            "\n",
            "url:https://en.wikipedia.org/wiki?curid=220861\n",
            "\n",
            "\n",
            "item 2\n",
            "text:Hamad was able to focus on turning Qatar from a small desert backwater into a major world power by continuing to exploit the country’s vast oil fields and discovering and tapping the world’s third largest gas reserves. By 2010 liquefied natural gas production had reached 77 million tons, making Qatar the richest country in the world. With fewer than two million inhabitants, the average income in the country shot to a staggering $86,440 per year per person. Qatar expert Olivier Da Lage said: \"When he came to power in 1995, Sheikh Hamad had a goal to place Qatar on the world map by exploiting the gas resources which his father did not develop for fear it would change the emirate's society. Eighteen years on, he has finished the job – Qatar has acquired the financial clout to command respect from neighboring countries and Western governments alike\".In 2005, under the direction of Hamad and the former prime minister of Qatar Sheikh Hamad bin Jassim bin Jaber Al Thani, the Qatar Investment Authority was established, a sovereign wealth fund to manage the country's oil and natural gas surpluses. The Qatar Investment Authority and its subsidiaries have acquired many businesses abroad, including London's iconic department store Harrods from entrepreneur Mohammed Al-Fayed, Paris-based department store Printemps, French football club Paris Saint-Germain F.C., a former 10% stake in Porsche, a 75% stake in film studio Miramax Films which they acquired from Disney, a 2% stake in media conglomerate and Universal Music Group parent company Vivendi, a $100 million USD investment in Chernin Group – whose founder Peter Chernin was COO of News Corp and President of Fox, a 1% stake in luxury goods manufacturer Louis Vuitton Moët Hennessy, a 6% stake in Credit Suisse, a 12.6% stake in Barclays and several other major companies. They also backed Glencore's $31 billion takeover bid for Xstrata. Qatar is the largest property owner in London with their holdings including the United Kingdom's tallest building The Shard, the London Olympic Village and the InterContinental London Park Lane hotel. They also own several hotels in Cannes including the Majestic Hotel, Grand Hyatt Cannes Hôtel Martinez and the Carlton Hotel, Cannes. QIA was considered to have one of the leading bids in the sales of both Anschutz Entertainment Group and Hulu. As of May 2013, it was reported the Investment Authority was in talks to purchase Neiman Marcus and Bergdorf Goodman.\n",
            "\n",
            "title:Hamad bin Khalifa Al Thani\n",
            "\n",
            "url:https://en.wikipedia.org/wiki?curid=295929\n",
            "\n",
            "\n"
          ]
        }
      ],
      "source": [
        "from utils import keyword_search\n",
        "\n",
        "query = \"Tallest person in history?\"\n",
        "keyword_search_results = keyword_search(query, client)\n",
        "print_result(keyword_search_results)"
      ]
    },
    {
      "cell_type": "code",
      "execution_count": null,
      "id": "334fd577-5832-4ccc-9ac1-1ed32c6913ab",
      "metadata": {
        "height": 64,
        "jupyter": {
          "outputs_hidden": true
        },
        "id": "334fd577-5832-4ccc-9ac1-1ed32c6913ab",
        "outputId": "8a3bd9cf-842b-44b2-de16-fa12a26c07bb"
      },
      "outputs": [
        {
          "name": "stdout",
          "output_type": "stream",
          "text": [
            "item 0\n",
            "_additional:{'distance': -148.98888}\n",
            "\n",
            "lang:en\n",
            "\n",
            "text:Robert Pershing Wadlow (February 22, 1918 July 15, 1940), also known as the Alton Giant and the Giant of Illinois, was a man who was the tallest person in recorded history for whom there is irrefutable evidence. He was born and raised in Alton, Illinois, a small city near St. Louis, Missouri.\n",
            "\n",
            "title:Robert Wadlow\n",
            "\n",
            "url:https://en.wikipedia.org/wiki?curid=359117\n",
            "\n",
            "views:3000\n",
            "\n",
            "\n",
            "item 1\n",
            "_additional:{'distance': -148.09317}\n",
            "\n",
            "lang:en\n",
            "\n",
            "text:Bol came from a family of extraordinarily tall men and women. He said: \"My mother was , my father , and my sister is . And my great-grandfather was even taller—.\" His ethnic group, the Dinka, and the Nilotic people of which they are a part, are among the tallest populations in the world. Bol's hometown, Turalei, is the origin of other exceptionally tall people, including basketball player Ring Ayuel. \"I was born in a village, where you cannot measure yourself,\" Bol reflected. \"I learned I was 7 foot 7 in 1979, when I was grown. I was about 18 or 19.\"\n",
            "\n",
            "title:Manute Bol\n",
            "\n",
            "url:https://en.wikipedia.org/wiki?curid=283871\n",
            "\n",
            "views:2000\n",
            "\n",
            "\n",
            "item 2\n",
            "_additional:{'distance': -146.75945}\n",
            "\n",
            "lang:en\n",
            "\n",
            "text:One year before his death, Wadlow passed John Rogan as the tallest person ever. On June 27, 1940 (18 days before his death), he was measured by doctors at .\n",
            "\n",
            "title:Robert Wadlow\n",
            "\n",
            "url:https://en.wikipedia.org/wiki?curid=359117\n",
            "\n",
            "views:3000\n",
            "\n",
            "\n",
            "item 3\n",
            "_additional:{'distance': -146.63979}\n",
            "\n",
            "lang:en\n",
            "\n",
            "text:Kösen turned 40 years old on 10 December 2022. He celebrated his birthday a few days early by visiting the Ripley's Believe It or Not! museum in Orlando, Florida, USA and posing next to a life-sized statue of Robert Wadlow, the tallest man ever at 272 cm (8 ft 11.1 in).\n",
            "\n",
            "title:Sultan Kösen\n",
            "\n",
            "url:https://en.wikipedia.org/wiki?curid=8445237\n",
            "\n",
            "views:2000\n",
            "\n",
            "\n",
            "item 4\n",
            "_additional:{'distance': -146.57892}\n",
            "\n",
            "lang:en\n",
            "\n",
            "text:Sultan Kösen (born 10 December 1982) is a Turkish farmer who holds the Guinness World Record for tallest living male at . Of Kurdish ethnicity, he is the seventh tallest man in history.\n",
            "\n",
            "title:Sultan Kösen\n",
            "\n",
            "url:https://en.wikipedia.org/wiki?curid=8445237\n",
            "\n",
            "views:2000\n",
            "\n",
            "\n"
          ]
        }
      ],
      "source": [
        "query = \"Tallest person in history\"\n",
        "dense_retrieval_results = dense_retrieval(query)\n",
        "print_result(dense_retrieval_results)"
      ]
    },
    {
      "cell_type": "code",
      "execution_count": null,
      "id": "a52ea636-1343-4587-85ce-0c291e5fecbc",
      "metadata": {
        "height": 64,
        "jupyter": {
          "outputs_hidden": true
        },
        "id": "a52ea636-1343-4587-85ce-0c291e5fecbc",
        "outputId": "7be22410-30d8-48fb-c841-41dba947038d"
      },
      "outputs": [
        {
          "name": "stdout",
          "output_type": "stream",
          "text": [
            "item 0\n",
            "_additional:{'distance': -147.44199}\n",
            "\n",
            "lang:en\n",
            "\n",
            "text:Robert Pershing Wadlow (February 22, 1918 July 15, 1940), also known as the Alton Giant and the Giant of Illinois, was a man who was the tallest person in recorded history for whom there is irrefutable evidence. He was born and raised in Alton, Illinois, a small city near St. Louis, Missouri.\n",
            "\n",
            "title:Robert Wadlow\n",
            "\n",
            "url:https://en.wikipedia.org/wiki?curid=359117\n",
            "\n",
            "views:3000\n",
            "\n",
            "\n",
            "item 1\n",
            "_additional:{'distance': -147.09518}\n",
            "\n",
            "lang:en\n",
            "\n",
            "text:Kösen turned 40 years old on 10 December 2022. He celebrated his birthday a few days early by visiting the Ripley's Believe It or Not! museum in Orlando, Florida, USA and posing next to a life-sized statue of Robert Wadlow, the tallest man ever at 272 cm (8 ft 11.1 in).\n",
            "\n",
            "title:Sultan Kösen\n",
            "\n",
            "url:https://en.wikipedia.org/wiki?curid=8445237\n",
            "\n",
            "views:2000\n",
            "\n",
            "\n",
            "item 2\n",
            "_additional:{'distance': -146.9144}\n",
            "\n",
            "lang:en\n",
            "\n",
            "text:Bol and Gheorghe Mureșan are the two tallest players in the history of the National Basketball Association. Official NBA publications have listed Bol at either or tall. He was measured by the Guinness Book of World Records at 7 ft 6  in tall. Complementing his great height, Bol had exceptionally long limbs (inseam ) and large hands and feet (size 16 ). His arm span, at , is (as of 2013) the longest in NBA history, and his upward reach was . He was extremely slender, limiting his offensive capability.\n",
            "\n",
            "title:Manute Bol\n",
            "\n",
            "url:https://en.wikipedia.org/wiki?curid=283871\n",
            "\n",
            "views:2000\n",
            "\n",
            "\n",
            "item 3\n",
            "_additional:{'distance': -146.62762}\n",
            "\n",
            "lang:en\n",
            "\n",
            "text:Sultan Kösen (born 10 December 1982) is a Turkish farmer who holds the Guinness World Record for tallest living male at . Of Kurdish ethnicity, he is the seventh tallest man in history.\n",
            "\n",
            "title:Sultan Kösen\n",
            "\n",
            "url:https://en.wikipedia.org/wiki?curid=8445237\n",
            "\n",
            "views:2000\n",
            "\n",
            "\n",
            "item 4\n",
            "_additional:{'distance': -146.54651}\n",
            "\n",
            "lang:en\n",
            "\n",
            "text:Jonah Adam (Cardeli) Falcon (born July 29, 1970) is an American actor and television presenter. He came to international attention in 1999 because of his claim that he has the largest penis in the world, which he claims is long when erect; Falcon has not authorized or permitted independent verification of this figure.\n",
            "\n",
            "title:Jonah Falcon\n",
            "\n",
            "url:https://en.wikipedia.org/wiki?curid=22044645\n",
            "\n",
            "views:2000\n",
            "\n",
            "\n"
          ]
        }
      ],
      "source": [
        "query = \"أطول رجل في التاريخ\"\n",
        "dense_retrieval_results = dense_retrieval(query)\n",
        "print_result(dense_retrieval_results)"
      ]
    },
    {
      "cell_type": "code",
      "execution_count": null,
      "id": "134a5df0-3b43-4f03-8078-cfad28dcbaf5",
      "metadata": {
        "height": 64,
        "jupyter": {
          "outputs_hidden": true
        },
        "id": "134a5df0-3b43-4f03-8078-cfad28dcbaf5",
        "outputId": "c9e5cea4-e3b3-47dd-9497-f0e536a834d9"
      },
      "outputs": [
        {
          "name": "stdout",
          "output_type": "stream",
          "text": [
            "item 0\n",
            "_additional:{'distance': -151.41705}\n",
            "\n",
            "lang:en\n",
            "\n",
            "text:Although the production contracted out various effect houses to try to make the time travelling effects feel like more of a spectacle, they found the resulting work \"just completely wrong\" tonally and instead focused on a more low-key approach. Curtis has opined \"that in the end it turns out to be a kind of anti–time travel time travel movie. It uses all the time travel stuff but without it feeling like it's a science fiction thing particularly or without it feeling that time travel can actually solve your life.\"\n",
            "\n",
            "title:About Time (2013 film)\n",
            "\n",
            "url:https://en.wikipedia.org/wiki?curid=38094431\n",
            "\n",
            "views:2000\n",
            "\n",
            "\n",
            "item 1\n",
            "_additional:{'distance': -150.89001}\n",
            "\n",
            "lang:en\n",
            "\n",
            "text:The film was directed by Wells's great-grandson Simon Wells, with an even more revised plot that incorporated the ideas of paradoxes and changing the past. The place is changed from Richmond, Surrey, to downtown New York City, where the Time Traveller moves forward in time to find answers to his questions on 'Practical Application of Time Travel;' first in 2030 New York, to witness an orbital lunar catastrophe in 2037, before moving on to 802,701 for the main plot. He later briefly finds himself in 635,427,810 with toxic clouds and a world laid waste (presumably by the Morlocks) with devastation and Morlock artifacts stretching out to the horizon.\n",
            "\n",
            "title:The Time Machine\n",
            "\n",
            "url:https://en.wikipedia.org/wiki?curid=29834\n",
            "\n",
            "views:2000\n",
            "\n",
            "\n",
            "item 2\n",
            "_additional:{'distance': -150.34875}\n",
            "\n",
            "lang:en\n",
            "\n",
            "text:Leslie Felperin of \"Variety\" called the film \"reassuringly bland\" and says there is sense of déjà vu especially for anyone who has seen \"The Time Traveler's Wife\", also co-starring McAdams. Unlike that film, she has no knowledge of his powers in \"About Time\", resulting in a \"fundamental lack of honesty in their relationship\". Felperin noted British reverse snobbery would put many off this and other Curtis films, but that this would be less of a problem among American Anglophiles and those willing to suspend disbelief, taking the characters as British \"versions of Woody Allen's Manhattanites (but with less angst)\". Felperin praised the chemistry of the leading couple \"that keeps the film aloft\" and the supporting cast, while also criticising the stock characters as being too familiar.\n",
            "\n",
            "title:About Time (2013 film)\n",
            "\n",
            "url:https://en.wikipedia.org/wiki?curid=38094431\n",
            "\n",
            "views:2000\n",
            "\n",
            "\n",
            "item 3\n",
            "_additional:{'distance': -149.9461}\n",
            "\n",
            "lang:en\n",
            "\n",
            "text:The philosopher Kelley L. Ross argues in \"Time Travel Paradoxes\" that in a scenario involving a physical object whose world-line or history forms a closed loop in time there can be a violation of the second law of thermodynamics. Ross uses the film \"Somewhere in Time\" as an example of such an ontological paradox, where a watch is given to a person, and 60 years later the same watch is brought back in time and given to the same character. Ross states that entropy of the watch will increase, and the watch carried back in time will be more worn with each repetition of its history. The second law of thermodynamics is understood by modern physicists to be a statistical law, so decreasing entropy and non-increasing entropy are not impossible, just improbable. Additionally, entropy statistically increases in systems which are isolated, so non-isolated systems, such as an object, that interact with the outside world, can become less worn and decrease in entropy, and it's possible for an object whose world-line forms a closed loop to be always in the same condition in the same point of its history.\n",
            "\n",
            "title:Time travel\n",
            "\n",
            "url:https://en.wikipedia.org/wiki?curid=31591\n",
            "\n",
            "views:2000\n",
            "\n",
            "\n",
            "item 4\n",
            "_additional:{'distance': -149.86707}\n",
            "\n",
            "lang:en\n",
            "\n",
            "text:The science-fiction aspect of the film revolves around the ability to reverse the entropy of things and people, resulting in time reversibility. While the film does refer to real concepts from physics, among them annihilation, the second law of thermodynamics, Maxwell's demon, the grandfather paradox, and Feynman and Wheeler's Absorber Theory, Nolan stated in the film's press notes that \"we're not going to make any case for this being scientifically accurate\". Commenting on the scientific aspects of writing the script, he stated: \"I think the scientific method is the best tool we have for analysing and understanding the world around us ... I've been very inspired by working with great scientists like Kip Thorne, who I worked with on \"Interstellar\", who also helped me out with some early analysis of the ideas I wanted to explore to do with time and quantum physics on \"Tenet\", although I promised him I wasn't going to bandy his name around as if there was some kind of scientific reality to \"Tenet\". It's a very different kettle of fish to \"Interstellar\".\"\n",
            "\n",
            "title:Tenet (film)\n",
            "\n",
            "url:https://en.wikipedia.org/wiki?curid=59770239\n",
            "\n",
            "views:3000\n",
            "\n",
            "\n"
          ]
        }
      ],
      "source": [
        "query = \"film about a time travel paradox\"\n",
        "dense_retrieval_results = dense_retrieval(query)\n",
        "print_result(dense_retrieval_results)"
      ]
    },
    {
      "cell_type": "markdown",
      "id": "d3ed0397",
      "metadata": {
        "id": "d3ed0397"
      },
      "source": [
        "## Part 2: Building Semantic Search from Scratch\n",
        "\n",
        "### Get the text archive:"
      ]
    },
    {
      "cell_type": "code",
      "execution_count": null,
      "id": "b1782247-3b70-4698-8863-7b2e73b10bb5",
      "metadata": {
        "height": 81,
        "id": "b1782247-3b70-4698-8863-7b2e73b10bb5"
      },
      "outputs": [],
      "source": [
        "from annoy import AnnoyIndex\n",
        "import numpy as np\n",
        "import pandas as pd\n",
        "import re"
      ]
    },
    {
      "cell_type": "code",
      "execution_count": null,
      "id": "664b5661-8e1c-4858-bbd9-5370737318e0",
      "metadata": {
        "height": 319,
        "id": "664b5661-8e1c-4858-bbd9-5370737318e0"
      },
      "outputs": [],
      "source": [
        "text = \"\"\"\n",
        "Interstellar is a 2014 epic science fiction film co-written, directed, and produced by Christopher Nolan.\n",
        "It stars Matthew McConaughey, Anne Hathaway, Jessica Chastain, Bill Irwin, Ellen Burstyn, Matt Damon, and Michael Caine.\n",
        "Set in a dystopian future where humanity is struggling to survive, the film follows a group of astronauts who travel through a wormhole near Saturn in search of a new home for mankind.\n",
        "\n",
        "Brothers Christopher and Jonathan Nolan wrote the screenplay, which had its origins in a script Jonathan developed in 2007.\n",
        "Caltech theoretical physicist and 2017 Nobel laureate in Physics[4] Kip Thorne was an executive producer, acted as a scientific consultant, and wrote a tie-in book, The Science of Interstellar.\n",
        "Cinematographer Hoyte van Hoytema shot it on 35 mm movie film in the Panavision anamorphic format and IMAX 70 mm.\n",
        "Principal photography began in late 2013 and took place in Alberta, Iceland, and Los Angeles.\n",
        "Interstellar uses extensive practical and miniature effects and the company Double Negative created additional digital effects.\n",
        "\n",
        "Interstellar premiered on October 26, 2014, in Los Angeles.\n",
        "In the United States, it was first released on film stock, expanding to venues using digital projectors.\n",
        "The film had a worldwide gross over $677 million (and $773 million with subsequent re-releases), making it the tenth-highest grossing film of 2014.\n",
        "It received acclaim for its performances, direction, screenplay, musical score, visual effects, ambition, themes, and emotional weight.\n",
        "It has also received praise from many astronomers for its scientific accuracy and portrayal of theoretical astrophysics. Since its premiere, Interstellar gained a cult following,[5] and now is regarded by many sci-fi experts as one of the best science-fiction films of all time.\n",
        "Interstellar was nominated for five awards at the 87th Academy Awards, winning Best Visual Effects, and received numerous other accolades\"\"\""
      ]
    },
    {
      "cell_type": "markdown",
      "id": "55f38f89",
      "metadata": {
        "id": "55f38f89"
      },
      "source": [
        "### Chunking:"
      ]
    },
    {
      "cell_type": "code",
      "execution_count": null,
      "id": "44d495f8-8db7-4aee-bfe6-5f3cd46b2217",
      "metadata": {
        "height": 98,
        "id": "44d495f8-8db7-4aee-bfe6-5f3cd46b2217"
      },
      "outputs": [],
      "source": [
        "# Split into a list of sentences\n",
        "texts = text.split('.')\n",
        "\n",
        "# Clean up to remove empty spaces and new lines\n",
        "texts = np.array([t.strip(' \\n') for t in texts])"
      ]
    },
    {
      "cell_type": "code",
      "execution_count": null,
      "id": "c378fcac-9b19-451c-ab68-8c6b69b7ac2d",
      "metadata": {
        "height": 30,
        "id": "c378fcac-9b19-451c-ab68-8c6b69b7ac2d",
        "outputId": "c0b9c8dc-a0dc-48bb-95ae-a47a44a16d40"
      },
      "outputs": [
        {
          "data": {
            "text/plain": [
              "array(['Interstellar is a 2014 epic science fiction film co-written, directed, and produced by Christopher Nolan',\n",
              "       'It stars Matthew McConaughey, Anne Hathaway, Jessica Chastain, Bill Irwin, Ellen Burstyn, Matt Damon, and Michael Caine',\n",
              "       'Set in a dystopian future where humanity is struggling to survive, the film follows a group of astronauts who travel through a wormhole near Saturn in search of a new home for mankind',\n",
              "       'Brothers Christopher and Jonathan Nolan wrote the screenplay, which had its origins in a script Jonathan developed in 2007',\n",
              "       'Caltech theoretical physicist and 2017 Nobel laureate in Physics[4] Kip Thorne was an executive producer, acted as a scientific consultant, and wrote a tie-in book, The Science of Interstellar',\n",
              "       'Cinematographer Hoyte van Hoytema shot it on 35 mm movie film in the Panavision anamorphic format and IMAX 70 mm',\n",
              "       'Principal photography began in late 2013 and took place in Alberta, Iceland, and Los Angeles',\n",
              "       'Interstellar uses extensive practical and miniature effects and the company Double Negative created additional digital effects',\n",
              "       'Interstellar premiered on October 26, 2014, in Los Angeles',\n",
              "       'In the United States, it was first released on film stock, expanding to venues using digital projectors',\n",
              "       'The film had a worldwide gross over $677 million (and $773 million with subsequent re-releases), making it the tenth-highest grossing film of 2014',\n",
              "       'It received acclaim for its performances, direction, screenplay, musical score, visual effects, ambition, themes, and emotional weight',\n",
              "       'It has also received praise from many astronomers for its scientific accuracy and portrayal of theoretical astrophysics',\n",
              "       'Since its premiere, Interstellar gained a cult following,[5] and now is regarded by many sci-fi experts as one of the best science-fiction films of all time',\n",
              "       'Interstellar was nominated for five awards at the 87th Academy Awards, winning Best Visual Effects, and received numerous other accolades'],\n",
              "      dtype='<U192')"
            ]
          },
          "execution_count": 23,
          "metadata": {},
          "output_type": "execute_result"
        }
      ],
      "source": [
        "texts"
      ]
    },
    {
      "cell_type": "code",
      "execution_count": null,
      "id": "3f850709",
      "metadata": {
        "height": 98,
        "id": "3f850709"
      },
      "outputs": [],
      "source": [
        "# Split into a list of paragraphs\n",
        "texts = text.split('\\n\\n')\n",
        "\n",
        "# Clean up to remove empty spaces and new lines\n",
        "texts = np.array([t.strip(' \\n') for t in texts])"
      ]
    },
    {
      "cell_type": "code",
      "execution_count": null,
      "id": "7b41bc71",
      "metadata": {
        "height": 30,
        "id": "7b41bc71",
        "outputId": "d435a18c-3580-4ae2-9af0-ff62609acc51"
      },
      "outputs": [
        {
          "data": {
            "text/plain": [
              "array(['Interstellar is a 2014 epic science fiction film co-written, directed, and produced by Christopher Nolan.\\nIt stars Matthew McConaughey, Anne Hathaway, Jessica Chastain, Bill Irwin, Ellen Burstyn, Matt Damon, and Michael Caine.\\nSet in a dystopian future where humanity is struggling to survive, the film follows a group of astronauts who travel through a wormhole near Saturn in search of a new home for mankind.',\n",
              "       'Brothers Christopher and Jonathan Nolan wrote the screenplay, which had its origins in a script Jonathan developed in 2007.\\nCaltech theoretical physicist and 2017 Nobel laureate in Physics[4] Kip Thorne was an executive producer, acted as a scientific consultant, and wrote a tie-in book, The Science of Interstellar.\\nCinematographer Hoyte van Hoytema shot it on 35 mm movie film in the Panavision anamorphic format and IMAX 70 mm.\\nPrincipal photography began in late 2013 and took place in Alberta, Iceland, and Los Angeles.\\nInterstellar uses extensive practical and miniature effects and the company Double Negative created additional digital effects.',\n",
              "       'Interstellar premiered on October 26, 2014, in Los Angeles.\\nIn the United States, it was first released on film stock, expanding to venues using digital projectors.\\nThe film had a worldwide gross over $677 million (and $773 million with subsequent re-releases), making it the tenth-highest grossing film of 2014.\\nIt received acclaim for its performances, direction, screenplay, musical score, visual effects, ambition, themes, and emotional weight.\\nIt has also received praise from many astronomers for its scientific accuracy and portrayal of theoretical astrophysics. Since its premiere, Interstellar gained a cult following,[5] and now is regarded by many sci-fi experts as one of the best science-fiction films of all time.\\nInterstellar was nominated for five awards at the 87th Academy Awards, winning Best Visual Effects, and received numerous other accolades'],\n",
              "      dtype='<U865')"
            ]
          },
          "execution_count": 25,
          "metadata": {},
          "output_type": "execute_result"
        }
      ],
      "source": [
        "texts"
      ]
    },
    {
      "cell_type": "code",
      "execution_count": null,
      "id": "4f4e167d",
      "metadata": {
        "height": 98,
        "id": "4f4e167d"
      },
      "outputs": [],
      "source": [
        "# Split into a list of sentences\n",
        "texts = text.split('.')\n",
        "\n",
        "# Clean up to remove empty spaces and new lines\n",
        "texts = np.array([t.strip(' \\n') for t in texts])"
      ]
    },
    {
      "cell_type": "code",
      "execution_count": null,
      "id": "907ad923-a086-4746-b3c8-bdd7e5ff30ad",
      "metadata": {
        "height": 64,
        "id": "907ad923-a086-4746-b3c8-bdd7e5ff30ad"
      },
      "outputs": [],
      "source": [
        "title = 'Interstellar (film)'\n",
        "\n",
        "texts = np.array([f\"{title} {t}\" for t in texts])"
      ]
    },
    {
      "cell_type": "code",
      "execution_count": null,
      "id": "630eb9b9-eced-4716-8684-ad028a437057",
      "metadata": {
        "height": 30,
        "id": "630eb9b9-eced-4716-8684-ad028a437057",
        "outputId": "278a2452-5f0e-4ff2-a78e-c0f4baf11a9c"
      },
      "outputs": [
        {
          "data": {
            "text/plain": [
              "array(['Interstellar (film) Interstellar is a 2014 epic science fiction film co-written, directed, and produced by Christopher Nolan',\n",
              "       'Interstellar (film) It stars Matthew McConaughey, Anne Hathaway, Jessica Chastain, Bill Irwin, Ellen Burstyn, Matt Damon, and Michael Caine',\n",
              "       'Interstellar (film) Set in a dystopian future where humanity is struggling to survive, the film follows a group of astronauts who travel through a wormhole near Saturn in search of a new home for mankind',\n",
              "       'Interstellar (film) Brothers Christopher and Jonathan Nolan wrote the screenplay, which had its origins in a script Jonathan developed in 2007',\n",
              "       'Interstellar (film) Caltech theoretical physicist and 2017 Nobel laureate in Physics[4] Kip Thorne was an executive producer, acted as a scientific consultant, and wrote a tie-in book, The Science of Interstellar',\n",
              "       'Interstellar (film) Cinematographer Hoyte van Hoytema shot it on 35 mm movie film in the Panavision anamorphic format and IMAX 70 mm',\n",
              "       'Interstellar (film) Principal photography began in late 2013 and took place in Alberta, Iceland, and Los Angeles',\n",
              "       'Interstellar (film) Interstellar uses extensive practical and miniature effects and the company Double Negative created additional digital effects',\n",
              "       'Interstellar (film) Interstellar premiered on October 26, 2014, in Los Angeles',\n",
              "       'Interstellar (film) In the United States, it was first released on film stock, expanding to venues using digital projectors',\n",
              "       'Interstellar (film) The film had a worldwide gross over $677 million (and $773 million with subsequent re-releases), making it the tenth-highest grossing film of 2014',\n",
              "       'Interstellar (film) It received acclaim for its performances, direction, screenplay, musical score, visual effects, ambition, themes, and emotional weight',\n",
              "       'Interstellar (film) It has also received praise from many astronomers for its scientific accuracy and portrayal of theoretical astrophysics',\n",
              "       'Interstellar (film) Since its premiere, Interstellar gained a cult following,[5] and now is regarded by many sci-fi experts as one of the best science-fiction films of all time',\n",
              "       'Interstellar (film) Interstellar was nominated for five awards at the 87th Academy Awards, winning Best Visual Effects, and received numerous other accolades'],\n",
              "      dtype='<U212')"
            ]
          },
          "execution_count": 28,
          "metadata": {},
          "output_type": "execute_result"
        }
      ],
      "source": [
        "texts"
      ]
    },
    {
      "cell_type": "markdown",
      "id": "3a26b43a",
      "metadata": {
        "id": "3a26b43a"
      },
      "source": [
        "### Get the embeddings:"
      ]
    },
    {
      "cell_type": "code",
      "execution_count": null,
      "id": "fbbc0303-e929-4eb4-aa95-0c41042e19c9",
      "metadata": {
        "height": 64,
        "id": "fbbc0303-e929-4eb4-aa95-0c41042e19c9"
      },
      "outputs": [],
      "source": [
        "response = co.embed(\n",
        "    texts=texts.tolist()\n",
        ").embeddings"
      ]
    },
    {
      "cell_type": "code",
      "execution_count": null,
      "id": "84d7961f-5075-4549-84ac-a013d875b709",
      "metadata": {
        "height": 47,
        "id": "84d7961f-5075-4549-84ac-a013d875b709",
        "outputId": "7638ca33-2584-43bd-c930-09c9c997c382"
      },
      "outputs": [
        {
          "data": {
            "text/plain": [
              "(15, 4096)"
            ]
          },
          "execution_count": 31,
          "metadata": {},
          "output_type": "execute_result"
        }
      ],
      "source": [
        "embeds = np.array(response)\n",
        "embeds.shape"
      ]
    },
    {
      "cell_type": "markdown",
      "id": "39e19dee",
      "metadata": {
        "id": "39e19dee"
      },
      "source": [
        "### Create the search index:"
      ]
    },
    {
      "cell_type": "code",
      "execution_count": null,
      "id": "7cadadeb-f74f-4145-8a62-de184ffd9ead",
      "metadata": {
        "height": 132,
        "id": "7cadadeb-f74f-4145-8a62-de184ffd9ead",
        "outputId": "53e3d055-e69a-48ca-cc21-a17a508773b3"
      },
      "outputs": [
        {
          "data": {
            "text/plain": [
              "True"
            ]
          },
          "execution_count": 32,
          "metadata": {},
          "output_type": "execute_result"
        }
      ],
      "source": [
        "search_index = AnnoyIndex(embeds.shape[1], 'angular')\n",
        "# Add all the vectors to the search index\n",
        "for i in range(len(embeds)):\n",
        "    search_index.add_item(i, embeds[i])\n",
        "\n",
        "search_index.build(10) # 10 trees\n",
        "search_index.save('test.ann')"
      ]
    },
    {
      "cell_type": "code",
      "execution_count": null,
      "id": "86e7267a-d130-4ee2-8498-4ba2ad2eebd0",
      "metadata": {
        "height": 336,
        "id": "86e7267a-d130-4ee2-8498-4ba2ad2eebd0"
      },
      "outputs": [],
      "source": [
        "pd.set_option('display.max_colwidth', None)\n",
        "\n",
        "def search(query):\n",
        "\n",
        "  # Get the query's embedding\n",
        "  query_embed = co.embed(texts=[query]).embeddings\n",
        "\n",
        "  # Retrieve the nearest neighbors\n",
        "  similar_item_ids = search_index.get_nns_by_vector(query_embed[0],\n",
        "                                                    3,\n",
        "                                                  include_distances=True)\n",
        "  # Format the results\n",
        "  results = pd.DataFrame(data={'texts': texts[similar_item_ids[0]],\n",
        "                              'distance': similar_item_ids[1]})\n",
        "\n",
        "  print(texts[similar_item_ids[0]])\n",
        "\n",
        "  return results"
      ]
    },
    {
      "cell_type": "code",
      "execution_count": null,
      "id": "6b932b43-5fa4-4f23-a627-29deb80f0bd0",
      "metadata": {
        "height": 47,
        "id": "6b932b43-5fa4-4f23-a627-29deb80f0bd0",
        "outputId": "d5e12cff-28ab-424b-fe71-7537a35cba28"
      },
      "outputs": [
        {
          "name": "stdout",
          "output_type": "stream",
          "text": [
            "['Interstellar (film) The film had a worldwide gross over $677 million (and $773 million with subsequent re-releases), making it the tenth-highest grossing film of 2014'\n",
            " 'Interstellar (film) Interstellar premiered on October 26, 2014, in Los Angeles'\n",
            " 'Interstellar (film) In the United States, it was first released on film stock, expanding to venues using digital projectors']\n"
          ]
        },
        {
          "data": {
            "text/html": [
              "<div>\n",
              "<style scoped>\n",
              "    .dataframe tbody tr th:only-of-type {\n",
              "        vertical-align: middle;\n",
              "    }\n",
              "\n",
              "    .dataframe tbody tr th {\n",
              "        vertical-align: top;\n",
              "    }\n",
              "\n",
              "    .dataframe thead th {\n",
              "        text-align: right;\n",
              "    }\n",
              "</style>\n",
              "<table border=\"1\" class=\"dataframe\">\n",
              "  <thead>\n",
              "    <tr style=\"text-align: right;\">\n",
              "      <th></th>\n",
              "      <th>texts</th>\n",
              "      <th>distance</th>\n",
              "    </tr>\n",
              "  </thead>\n",
              "  <tbody>\n",
              "    <tr>\n",
              "      <th>0</th>\n",
              "      <td>Interstellar (film) The film had a worldwide gross over $677 million (and $773 million with subsequent re-releases), making it the tenth-highest grossing film of 2014</td>\n",
              "      <td>1.019055</td>\n",
              "    </tr>\n",
              "    <tr>\n",
              "      <th>1</th>\n",
              "      <td>Interstellar (film) Interstellar premiered on October 26, 2014, in Los Angeles</td>\n",
              "      <td>1.144951</td>\n",
              "    </tr>\n",
              "    <tr>\n",
              "      <th>2</th>\n",
              "      <td>Interstellar (film) In the United States, it was first released on film stock, expanding to venues using digital projectors</td>\n",
              "      <td>1.167268</td>\n",
              "    </tr>\n",
              "  </tbody>\n",
              "</table>\n",
              "</div>"
            ],
            "text/plain": [
              "                                                                                                                                                                    texts  \\\n",
              "0  Interstellar (film) The film had a worldwide gross over $677 million (and $773 million with subsequent re-releases), making it the tenth-highest grossing film of 2014   \n",
              "1                                                                                          Interstellar (film) Interstellar premiered on October 26, 2014, in Los Angeles   \n",
              "2                                             Interstellar (film) In the United States, it was first released on film stock, expanding to venues using digital projectors   \n",
              "\n",
              "   distance  \n",
              "0  1.019055  \n",
              "1  1.144951  \n",
              "2  1.167268  "
            ]
          },
          "execution_count": 34,
          "metadata": {},
          "output_type": "execute_result"
        }
      ],
      "source": [
        "query = \"How much did the film make?\"\n",
        "search(query)"
      ]
    },
    {
      "cell_type": "code",
      "execution_count": null,
      "id": "a1e4c088-aecd-4e7d-9475-79fdf4f1e3ff",
      "metadata": {
        "height": 30,
        "id": "a1e4c088-aecd-4e7d-9475-79fdf4f1e3ff"
      },
      "outputs": [],
      "source": []
    },
    {
      "cell_type": "code",
      "execution_count": null,
      "id": "e3502566-f976-4f29-9ac3-ceb8251506f3",
      "metadata": {
        "height": 30,
        "id": "e3502566-f976-4f29-9ac3-ceb8251506f3"
      },
      "outputs": [],
      "source": []
    },
    {
      "cell_type": "code",
      "execution_count": null,
      "id": "b8301f90-f6e8-4f2e-a3f0-c528824e797a",
      "metadata": {
        "height": 30,
        "id": "b8301f90-f6e8-4f2e-a3f0-c528824e797a"
      },
      "outputs": [],
      "source": []
    },
    {
      "cell_type": "code",
      "execution_count": null,
      "id": "72b88367-b571-4e50-aa4f-c754fc31ab7f",
      "metadata": {
        "height": 30,
        "id": "72b88367-b571-4e50-aa4f-c754fc31ab7f"
      },
      "outputs": [],
      "source": []
    },
    {
      "cell_type": "code",
      "execution_count": null,
      "id": "d0e71d39-8f59-4d0e-a2fd-aa0eb0cd1b84",
      "metadata": {
        "height": 30,
        "id": "d0e71d39-8f59-4d0e-a2fd-aa0eb0cd1b84"
      },
      "outputs": [],
      "source": []
    },
    {
      "cell_type": "code",
      "execution_count": null,
      "id": "ded6ecfa-91f4-48c2-9237-6904f7f630d4",
      "metadata": {
        "height": 30,
        "id": "ded6ecfa-91f4-48c2-9237-6904f7f630d4"
      },
      "outputs": [],
      "source": []
    },
    {
      "cell_type": "code",
      "execution_count": null,
      "id": "87ef1f57-be42-47aa-a132-0731aeaef4fc",
      "metadata": {
        "height": 30,
        "id": "87ef1f57-be42-47aa-a132-0731aeaef4fc"
      },
      "outputs": [],
      "source": []
    },
    {
      "cell_type": "code",
      "execution_count": null,
      "id": "aed0699a-ce3c-4529-b596-b17ff9da51e1",
      "metadata": {
        "height": 30,
        "id": "aed0699a-ce3c-4529-b596-b17ff9da51e1"
      },
      "outputs": [],
      "source": []
    },
    {
      "cell_type": "code",
      "execution_count": null,
      "id": "b0e5ddb7-41fa-4eae-b077-2264be76c258",
      "metadata": {
        "height": 30,
        "id": "b0e5ddb7-41fa-4eae-b077-2264be76c258"
      },
      "outputs": [],
      "source": []
    },
    {
      "cell_type": "code",
      "execution_count": null,
      "id": "5821387b-fd64-4e12-8541-d7bca94ba9d9",
      "metadata": {
        "height": 30,
        "id": "5821387b-fd64-4e12-8541-d7bca94ba9d9"
      },
      "outputs": [],
      "source": []
    },
    {
      "cell_type": "code",
      "execution_count": null,
      "id": "f96720ad-4b11-4038-b7a4-0d2ea5a34379",
      "metadata": {
        "height": 30,
        "id": "f96720ad-4b11-4038-b7a4-0d2ea5a34379"
      },
      "outputs": [],
      "source": []
    }
  ],
  "metadata": {
    "kernelspec": {
      "display_name": "Python 3 (ipykernel)",
      "language": "python",
      "name": "python3"
    },
    "language_info": {
      "codemirror_mode": {
        "name": "ipython",
        "version": 3
      },
      "file_extension": ".py",
      "mimetype": "text/x-python",
      "name": "python",
      "nbconvert_exporter": "python",
      "pygments_lexer": "ipython3",
      "version": "3.9.19"
    },
    "colab": {
      "provenance": [],
      "include_colab_link": true
    }
  },
  "nbformat": 4,
  "nbformat_minor": 5
}