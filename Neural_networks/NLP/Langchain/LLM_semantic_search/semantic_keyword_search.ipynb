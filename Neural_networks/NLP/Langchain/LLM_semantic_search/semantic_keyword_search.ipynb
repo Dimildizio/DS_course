{
  "cells": [
    {
      "cell_type": "markdown",
      "metadata": {
        "id": "view-in-github",
        "colab_type": "text"
      },
      "source": [
        "<a href=\"https://colab.research.google.com/github/Dimildizio/DS_course/blob/main/Neural_networks/NLP/Langchain/LLM_semantic_search/semantic_keyword_search.ipynb\" target=\"_parent\"><img src=\"https://colab.research.google.com/assets/colab-badge.svg\" alt=\"Open In Colab\"/></a>"
      ]
    },
    {
      "cell_type": "markdown",
      "id": "45b98f11",
      "metadata": {
        "id": "45b98f11"
      },
      "source": [
        "# Keyword Search"
      ]
    },
    {
      "cell_type": "markdown",
      "id": "06335224",
      "metadata": {
        "id": "06335224"
      },
      "source": [
        "## Setup\n",
        "\n",
        "Load needed API keys and relevant Python libaries."
      ]
    },
    {
      "cell_type": "code",
      "execution_count": null,
      "id": "c54004a6",
      "metadata": {
        "height": 48,
        "id": "c54004a6"
      },
      "outputs": [],
      "source": [
        "!pip install cohere\n",
        "!pip install weaviate-client"
      ]
    },
    {
      "cell_type": "code",
      "execution_count": null,
      "id": "45ff94ae-8603-431a-acee-0ec3a39a1056",
      "metadata": {
        "height": 81,
        "id": "45ff94ae-8603-431a-acee-0ec3a39a1056"
      },
      "outputs": [],
      "source": [
        "import os\n",
        "\n",
        "from dotenv import load_dotenv, find_dotenv\n",
        "\n",
        "from google.colab import userdata\n",
        "\n",
        "import weaviate\n"
      ]
    },
    {
      "cell_type": "markdown",
      "id": "c23677b6",
      "metadata": {
        "id": "c23677b6"
      },
      "source": [
        "Let's start by imporing Weaviate to access the Wikipedia database."
      ]
    },
    {
      "cell_type": "code",
      "execution_count": null,
      "id": "f44886bf-f8cf-4f90-83ae-2299ec448e16",
      "metadata": {
        "height": 98,
        "id": "f44886bf-f8cf-4f90-83ae-2299ec448e16"
      },
      "outputs": [],
      "source": [
        "_ = load_dotenv(find_dotenv()) # read local .env file"
      ]
    },
    {
      "cell_type": "code",
      "execution_count": null,
      "id": "2efcdfdc-1566-4046-95d8-f9f2f3a36088",
      "metadata": {
        "height": 30,
        "id": "2efcdfdc-1566-4046-95d8-f9f2f3a36088",
        "outputId": "fe76830c-5965-479f-96c8-6225ab1b010d"
      },
      "outputs": [
        {
          "data": {
            "text/plain": [
              "True"
            ]
          },
          "execution_count": 4,
          "metadata": {},
          "output_type": "execute_result"
        }
      ],
      "source": [
        "client = weaviate.Client(\n",
        "    url='https://cohere-demo/weaviate.network/,\n",
        "    auth_client_secret=weaviate.auth.AuthApiKey(api_key='76320a90-53d8-42bc-b41d-678647c6672e'),  # public api\n",
        "    additional_headers={\"X-Cohere-Api-Key\": userdata.get('cohere_api')})\n",
        "client.is_ready()"
      ]
    },
    {
      "cell_type": "markdown",
      "id": "78acc1ed",
      "metadata": {
        "id": "78acc1ed"
      },
      "source": [
        "# Keyword Search"
      ]
    },
    {
      "cell_type": "code",
      "execution_count": null,
      "id": "017cd922-c729-4aa7-8696-d11d28eb7288",
      "metadata": {
        "height": 421,
        "id": "017cd922-c729-4aa7-8696-d11d28eb7288"
      },
      "outputs": [],
      "source": [
        "def keyword_search(query,\n",
        "                   results_lang='en',\n",
        "                   properties = [\"title\", \"url\", \"text\"],\n",
        "                   num_results=3):\n",
        "\n",
        "    where_filter = {\n",
        "    \"path\": [\"lang\"],\n",
        "    \"operator\": \"Equal\",\n",
        "    \"valueString\": results_lang\n",
        "    }\n",
        "\n",
        "    response = (\n",
        "        client.query.get(\"Articles\", properties)\n",
        "        .with_bm25(\n",
        "            query=query\n",
        "        )\n",
        "        .with_where(where_filter)\n",
        "        .with_limit(num_results)\n",
        "        .do()\n",
        "        )\n",
        "\n",
        "    result = response['data']['Get']['Articles']\n",
        "    return result"
      ]
    },
    {
      "cell_type": "code",
      "execution_count": null,
      "id": "5a9e70d9-326f-443c-915a-5a97c0dfe54b",
      "metadata": {
        "height": 81,
        "jupyter": {
          "outputs_hidden": true
        },
        "id": "5a9e70d9-326f-443c-915a-5a97c0dfe54b",
        "outputId": "e67d0f84-8000-4ac9-f0c3-94e043c15bc2"
      },
      "outputs": [
        {
          "name": "stdout",
          "output_type": "stream",
          "text": [
            "[{'text': 'Maas began writing what would become her debut novel, \"Throne of Glass\", when she was sixteen years old. After writing several chapters of the novel, then titled \"Queen of Glass\", Maas posted them on FictionPress.com, where it was one of the most popular stories on the site. It was later removed from the site when Maas decided to publish the novel. The story line of the series is based on the story of Cinderella, with the premise of \"What if Cinderella was not a servant, but an assassin? And what if she didn\\'t attend the ball to meet the prince, but to kill him, instead?\" In 2008, Maas started sending the story to agents before signing with Tamar Rydzinski of The Laura Dial Literary Agency in 2009. \"Throne of Glass\" was purchased in March 2010 by Bloomsbury, who later purchased two additional books in the series. The series is available in 15 countries and 35 languages. While several prequel novellas set two years before the first novel were also published, these were later condensed into one book, \"The Assassin\\'s Blade\". The second book of the series, \"Crown of Midnight\" was a New York Times young adult best-seller. The final book in the series, \"Kingdom of Ash\", was released on October 23, 2018; the finished series comprised seven books.', 'title': 'Sarah J. Maas', 'url': 'https://en.wikipedia.org/wiki?curid=47023321'}, {'text': 'Since the release of the first novel, \"Twilight\", in 2005, the books have gained immense popularity and commercial success around the world. The series is most popular among young adults; the four books have won multiple awards, most notably the 2008 British Book Award for Children\\'s Book of the Year for \"Breaking Dawn\", while the series as a whole won the 2009 Kids\\' Choice Award for Favorite Book.', 'title': 'Twilight (novel series)', 'url': 'https://en.wikipedia.org/wiki?curid=13039867'}, {'text': 'The \"Persona\" series has been referred to as the most popular spin-off from the \"Megami Tensei\" franchise, gaining notoriety and success in its own right. Io9\\'s James Whitbrook commented that while \"here in the west, we\\'ve got plenty of awesome urban fantasy, especially from a YA perspective. But what makes Persona interesting is that it\\'s the familiar concept of Urban fantasy, the balance of the mundane \"normal\" life of the protagonists and the problems they have there with the fantastical nature of the supernatural world that lies beneath all that, from a Japanese perspective. Over here, that\\'s much less common, and the way the series portrays urban fantasy through that lens is what makes it so different, especially from what you would normally expect from Japanese RPGs.\". \"Nintendo Power\", in an article concerning the \"Megami Tensei\" series, cited the \"Persona\" series\\' \"modern-day horror stories\" and \"teams of Japanese high-school kids\" as the perfect example of the franchise. \"Persona\" was mentioned in 1999 by GameSpot\\'s Andrew Vestal as a game that deserved attention despite not aging well, saying \"Examining \"Persona\" reveals three of the traits that make the series so popular - and unique - amongst RPG fans: demonology, negotiation, and psychology\". The game has been named as a cult classic. \"Persona 3\" was named by RPGamer as the greatest RPG of the past decade in 2009, and RPGFan listed \"Persona 3\" and \"4\" in second and fourth place respectively in their similar 2011 list. \"Persona 3\" was listed by Gamasutra as one of the 20 essential RPGs for players of the genre. \"Persona 4\" was also listed by \"Famitsu\" as one of the greatest games of all time in a 2010 list.', 'title': 'Persona (series)', 'url': 'https://en.wikipedia.org/wiki?curid=22586948'}]\n"
          ]
        }
      ],
      "source": [
        "query = \"What is the most popular book series in the world?\"\n",
        "keyword_search_results = keyword_search(query, results_lang='en')\n",
        "print(keyword_search_results)"
      ]
    },
    {
      "cell_type": "markdown",
      "id": "b15686a7",
      "metadata": {
        "id": "b15686a7"
      },
      "source": [
        "### Try modifying the search options\n",
        "- Other languages to try: `en, de, fr, es, it, ja, ar, zh, ko, hi`"
      ]
    },
    {
      "cell_type": "code",
      "execution_count": null,
      "id": "260397fc-2799-426d-8b82-afbe9c3a126e",
      "metadata": {
        "height": 47,
        "id": "260397fc-2799-426d-8b82-afbe9c3a126e"
      },
      "outputs": [],
      "source": [
        "properties = [\"text\", \"title\", \"url\",\n",
        "             \"views\", \"lang\"]"
      ]
    },
    {
      "cell_type": "code",
      "execution_count": null,
      "id": "2a2daa0b-dd23-4ffd-8b3d-d08b73e052b9",
      "metadata": {
        "height": 166,
        "id": "2a2daa0b-dd23-4ffd-8b3d-d08b73e052b9"
      },
      "outputs": [],
      "source": [
        "def print_result(result):\n",
        "    \"\"\" Print results with colorful formatting \"\"\"\n",
        "    for i,item in enumerate(result):\n",
        "        print(f'item {i}')\n",
        "        for key in item.keys():\n",
        "            print(f\"{key}:{item.get(key)}\")\n",
        "            print()\n",
        "        print()"
      ]
    },
    {
      "cell_type": "code",
      "execution_count": null,
      "id": "6bdb1635-adad-411b-8059-d6b8b251fb2c",
      "metadata": {
        "height": 30,
        "jupyter": {
          "outputs_hidden": true
        },
        "scrolled": true,
        "id": "6bdb1635-adad-411b-8059-d6b8b251fb2c",
        "outputId": "8a84a387-a235-45c5-e5b5-f9afcf49deae"
      },
      "outputs": [
        {
          "name": "stdout",
          "output_type": "stream",
          "text": [
            "item 0\n",
            "text:A gemstone (also called a fine gem, jewel, precious stone, or semiprecious stone) is a piece of mineral crystal which, in cut and polished form, is used to make jewelry or other adornments. However, certain rocks (such as lapis lazuli, opal, and obsidian) and occasionally organic materials that are not minerals (such as amber, jet, and pearl) are also used for jewelry and are therefore often considered to be gemstones as well. Most gemstones are hard, but some soft minerals are used in jewelry because of their luster or other physical properties that have aesthetic value. Rarity and notoriety are other characteristics that lend value to gemstones.\n",
            "\n",
            "title:Gemstone\n",
            "\n",
            "url:https://en.wikipedia.org/wiki?curid=12806\n",
            "\n",
            "\n",
            "item 1\n",
            "text:The music of \"Touhou\" has been a particular source of interest, and many arrangement CDs are sold at Comiket and other Japanese conventions. Among the most popular derivatives are the series of Flash music videos created by the dōjin music circle IOSYS, which are often shared on otaku internet forums and Nico Nico Douga. One such song, \"Marisa Stole the Precious Thing\", was parodied in derivative anime music videos. \"Marisa Stole the Precious Thing\", alongside \"Cirno's Perfect Math Class\", \"Night of Nights\", and \"Bad Apple\" were included in the dōjin game \"Touhou Spell Bubble.\" Toby Fox, the creator of \"Undertale\", cited \"Touhou\" as one of his musical influences.\n",
            "\n",
            "title:Touhou Project\n",
            "\n",
            "url:https://en.wikipedia.org/wiki?curid=1952253\n",
            "\n",
            "\n",
            "item 2\n",
            "text:It has been reported that Northern African opal was used to make tools as early as 4000 BC. The first published report of gem opal from Ethiopia appeared in 1994, with the discovery of precious opal in the Menz Gishe District, North Shewa Province. The opal, found mostly in the form of nodules, was of volcanic origin and was found predominantly within weathered layers of rhyolite. This Shewa Province opal was mostly dark brown in color and had a tendency to crack. These qualities made it unpopular in the gem trade. In 2008, a new opal deposit was found approximately 180 km north of Shewa Province, near the town of Wegel Tena, in Ethiopia's Wollo Province. The Wollo Province opal was different from the previous Ethiopian opal finds in that it more closely resembled the sedimentary opals of Australia and Brazil, with a light background and often vivid play-of-color. Wollo Province opal, more commonly referred to as \"Welo\" or \"Wello\" opal, has become the dominant Ethiopian opal in the gem trade.\n",
            "\n",
            "title:Opal\n",
            "\n",
            "url:https://en.wikipedia.org/wiki?curid=54513\n",
            "\n",
            "\n"
          ]
        }
      ],
      "source": [
        "print_result(keyword_search_results)"
      ]
    },
    {
      "cell_type": "code",
      "execution_count": null,
      "id": "2350fa0e-f896-42af-bcb1-a7577f9c9be1",
      "metadata": {
        "height": 81,
        "id": "2350fa0e-f896-42af-bcb1-a7577f9c9be1",
        "outputId": "73e60b9f-c477-4bf5-8fe3-54fe2adf2329"
      },
      "outputs": [
        {
          "name": "stdout",
          "output_type": "stream",
          "text": [
            "item 0\n",
            "text:Im Prolog von \"Junkie\" fasste Burroughs seine Universitätserfahrungen zusammen: \"„I hated the University and I hated the town it was in. Everything about the place was dead. The University was a fake English setup taken over by the graduates of fake English public schools.“\"\n",
            "\n",
            "title:William S. Burroughs\n",
            "\n",
            "url:https://de.wikipedia.org/wiki?curid=37377\n",
            "\n",
            "\n",
            "item 1\n",
            "text:Der Begriff Strukturalismus ist vom Wort Struktur abgeleitet und wurde vereinzelt seit Mitte des 19. Jahrhunderts verwendet. In der Psychologie wurde er 1907 von James Rowland Angell in einem Aufsatz über Edward Bradford Titchener eingeführt. In der Sprach- und Literaturwissenschaft wurde er seit den 1920er vom Prager linguistischen Kreis verwendet. Dort knüpfte Roman Jakobson an die Schule des Russischen Formalismus an und verwendete den Begriff „Strukturalismus“ erstmals 1929 in einem in der Prager Zeitschrift \"Čin\" auf Tschechisch unter dem Titel \"Romantischer Panslawismus – neue Slawistik\" (\"Romantické všeslovanství — nová slávistika\") veröffentlichten Aufsatz:Were we to comprise the leading idea of present-day science in its most various manifestations, we could hardly find a more appropriate designation than structuralism. Any set of phenomena examined by contemporary science is treated not as a mechanical agglomeration but as a structural whole, and the basic task is to reveal the inner, whether static or developmental, laws of this system. What appears to be the focus of scientific preoccupations is no longer the outer stimulus, but the internal premises of the development; now the mechanical conception of processes yields to the question of their functions.\n",
            "\n",
            "title:Strukturalismus\n",
            "\n",
            "url:https://de.wikipedia.org/wiki?curid=88840\n",
            "\n",
            "\n",
            "item 2\n",
            "text:Booth hatte bis zuletzt keinerlei Reue für seine Tat gezeigt. In seinem letzten Tagebucheintrag hatte er sein Handeln als gottgewollten Tyrannenmord gerechtfertigt und sich mit Wilhelm Tell verglichen. Wörtlich schrieb er: “I can never repent, though we hated to kill.” (\"Ich kann nichts bereuen, obwohl wir das Töten hassten\"). Das Tagebuch endet mit den Worten: “I do not wish to shed a drop of blood, but I must fight the course. 'Tis all that's left to me.” (\"Ich mag keinen Tropfen Blut vergießen, aber ich musste das durchziehen. Es blieb mir nichts anderes übrig\").\n",
            "\n",
            "title:Attentat auf Abraham Lincoln\n",
            "\n",
            "url:https://de.wikipedia.org/wiki?curid=7057301\n",
            "\n",
            "\n"
          ]
        }
      ],
      "source": [
        "query = \"Who is the most hated politician?\"\n",
        "keyword_search_results = keyword_search(query, results_lang='de')\n",
        "print_result(keyword_search_results)"
      ]
    },
    {
      "cell_type": "markdown",
      "id": "f40ca604-5ab7-4f35-86b1-0420842b6b6b",
      "metadata": {
        "id": "f40ca604-5ab7-4f35-86b1-0420842b6b6b"
      },
      "source": [
        "limitations are obvious"
      ]
    }
  ],
  "metadata": {
    "kernelspec": {
      "display_name": "Python 3 (ipykernel)",
      "language": "python",
      "name": "python3"
    },
    "language_info": {
      "codemirror_mode": {
        "name": "ipython",
        "version": 3
      },
      "file_extension": ".py",
      "mimetype": "text/x-python",
      "name": "python",
      "nbconvert_exporter": "python",
      "pygments_lexer": "ipython3",
      "version": "3.9.19"
    },
    "colab": {
      "provenance": [],
      "include_colab_link": true
    }
  },
  "nbformat": 4,
  "nbformat_minor": 5
}