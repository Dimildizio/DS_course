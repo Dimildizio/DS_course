{
  "nbformat": 4,
  "nbformat_minor": 0,
  "metadata": {
    "colab": {
      "provenance": [],
      "gpuType": "T4",
      "authorship_tag": "ABX9TyOZ1bVdZnGZwYxnCjJQRWzU",
      "include_colab_link": true
    },
    "kernelspec": {
      "name": "python3",
      "display_name": "Python 3"
    },
    "language_info": {
      "name": "python"
    },
    "accelerator": "GPU"
  },
  "cells": [
    {
      "cell_type": "markdown",
      "metadata": {
        "id": "view-in-github",
        "colab_type": "text"
      },
      "source": [
        "<a href=\"https://colab.research.google.com/github/Dimildizio/DS_course/blob/main/Neural_networks/NLP/Langchain/Langchain_llms.ipynb\" target=\"_parent\"><img src=\"https://colab.research.google.com/assets/colab-badge.svg\" alt=\"Open In Colab\"/></a>"
      ]
    },
    {
      "cell_type": "markdown",
      "source": [
        "# LLMs with Langchain and RAGs"
      ],
      "metadata": {
        "id": "iT3p8DcOK1VQ"
      }
    },
    {
      "cell_type": "markdown",
      "source": [
        "## Installs and imports"
      ],
      "metadata": {
        "id": "eT9nN9BmK5dP"
      }
    },
    {
      "cell_type": "code",
      "source": [
        "!pip install -q torch langchain bitsandbytes accelerate transformers sentence-transformers faiss-gpu pypdf\n"
      ],
      "metadata": {
        "colab": {
          "base_uri": "https://localhost:8080/"
        },
        "id": "QnLilwpsnwkA",
        "outputId": "8fb9997d-80d5-4be1-c7c2-dccd706d0109"
      },
      "execution_count": 1,
      "outputs": [
        {
          "output_type": "stream",
          "name": "stdout",
          "text": [
            "\u001b[2K     \u001b[90m━━━━━━━━━━━━━━━━━━━━━━━━━━━━━━━━━━━━━━━━\u001b[0m \u001b[32m817.7/817.7 kB\u001b[0m \u001b[31m2.4 MB/s\u001b[0m eta \u001b[36m0:00:00\u001b[0m\n",
            "\u001b[2K     \u001b[90m━━━━━━━━━━━━━━━━━━━━━━━━━━━━━━━━━━━━━━━━\u001b[0m \u001b[32m119.8/119.8 MB\u001b[0m \u001b[31m4.8 MB/s\u001b[0m eta \u001b[36m0:00:00\u001b[0m\n",
            "\u001b[2K     \u001b[90m━━━━━━━━━━━━━━━━━━━━━━━━━━━━━━━━━━━━━━━━\u001b[0m \u001b[32m297.6/297.6 kB\u001b[0m \u001b[31m16.3 MB/s\u001b[0m eta \u001b[36m0:00:00\u001b[0m\n",
            "\u001b[2K     \u001b[90m━━━━━━━━━━━━━━━━━━━━━━━━━━━━━━━━━━━━━━━━\u001b[0m \u001b[32m171.5/171.5 kB\u001b[0m \u001b[31m15.6 MB/s\u001b[0m eta \u001b[36m0:00:00\u001b[0m\n",
            "\u001b[2K     \u001b[90m━━━━━━━━━━━━━━━━━━━━━━━━━━━━━━━━━━━━━━━━\u001b[0m \u001b[32m85.5/85.5 MB\u001b[0m \u001b[31m6.9 MB/s\u001b[0m eta \u001b[36m0:00:00\u001b[0m\n",
            "\u001b[2K     \u001b[90m━━━━━━━━━━━━━━━━━━━━━━━━━━━━━━━━━━━━━━━━\u001b[0m \u001b[32m2.0/2.0 MB\u001b[0m \u001b[31m84.3 MB/s\u001b[0m eta \u001b[36m0:00:00\u001b[0m\n",
            "\u001b[2K     \u001b[90m━━━━━━━━━━━━━━━━━━━━━━━━━━━━━━━━━━━━━━━━\u001b[0m \u001b[32m302.9/302.9 kB\u001b[0m \u001b[31m11.6 MB/s\u001b[0m eta \u001b[36m0:00:00\u001b[0m\n",
            "\u001b[2K     \u001b[90m━━━━━━━━━━━━━━━━━━━━━━━━━━━━━━━━━━━━━━━━\u001b[0m \u001b[32m116.4/116.4 kB\u001b[0m \u001b[31m16.7 MB/s\u001b[0m eta \u001b[36m0:00:00\u001b[0m\n",
            "\u001b[2K     \u001b[90m━━━━━━━━━━━━━━━━━━━━━━━━━━━━━━━━━━━━━━━━\u001b[0m \u001b[32m49.4/49.4 kB\u001b[0m \u001b[31m6.2 MB/s\u001b[0m eta \u001b[36m0:00:00\u001b[0m\n",
            "\u001b[2K     \u001b[90m━━━━━━━━━━━━━━━━━━━━━━━━━━━━━━━━━━━━━━━━\u001b[0m \u001b[32m53.0/53.0 kB\u001b[0m \u001b[31m7.0 MB/s\u001b[0m eta \u001b[36m0:00:00\u001b[0m\n",
            "\u001b[2K     \u001b[90m━━━━━━━━━━━━━━━━━━━━━━━━━━━━━━━━━━━━━━━━\u001b[0m \u001b[32m141.1/141.1 kB\u001b[0m \u001b[31m18.4 MB/s\u001b[0m eta \u001b[36m0:00:00\u001b[0m\n",
            "\u001b[?25h"
          ]
        }
      ]
    },
    {
      "cell_type": "code",
      "source": [
        "import os\n",
        "import torch\n",
        "import transformers\n",
        "\n",
        "from glob import glob\n",
        "from tqdm.notebook import tqdm\n",
        "from transformers import AutoTokenizer,AutoModelForCausalLM,BitsAndBytesConfig,pipeline\n",
        "from langchain.document_loaders import TextLoader\n",
        "from langchain.document_loaders import PyPDFLoader\n",
        "from langchain.text_splitter import CharacterTextSplitter\n",
        "from langchain.embeddings.huggingface import HuggingFaceEmbeddings\n",
        "from langchain.vectorstores import FAISS\n",
        "from langchain.prompts import PromptTemplate\n",
        "from langchain.schema.runnable import RunnablePassthrough\n",
        "from langchain.llms import HuggingFacePipeline\n",
        "from langchain.chains import LLMChain\n",
        "from langchain.schema.output_parser import StrOutputParser\n",
        "\n",
        "import warnings\n",
        "warnings.simplefilter('ignore')"
      ],
      "metadata": {
        "id": "giVFi9_BxO9k"
      },
      "execution_count": 2,
      "outputs": []
    },
    {
      "cell_type": "markdown",
      "source": [
        "## Config"
      ],
      "metadata": {
        "id": "SEk6xehMK9BP"
      }
    },
    {
      "cell_type": "code",
      "source": [
        "device = 'cuda'\n",
        "modelname = \"mistralai/Mistral-7B-v0.1\"\n",
        "embedder = 'sentence-transformers/all-mpnet-base-v2'"
      ],
      "metadata": {
        "id": "L5jWWgnVD94R"
      },
      "execution_count": null,
      "outputs": []
    },
    {
      "cell_type": "markdown",
      "source": [
        "## Download data"
      ],
      "metadata": {
        "id": "2Yd1pLkwK-N3"
      }
    },
    {
      "cell_type": "code",
      "source": [
        "!wget https://media.wizards.com/2018/dnd/downloads/DnD_BasicRules_2018.pdf\n",
        "!wget https://winghornpressdotcom.files.wordpress.com/2018/02/the_wild_sheep_chase_v2.pdf\n",
        "!wget https://turtlegodsclan.weebly.com/uploads/3/0/5/8/30584041/a_dark_and_stormy_knight.pdf"
      ],
      "metadata": {
        "id": "TtpvfgHulbMc"
      },
      "execution_count": null,
      "outputs": []
    },
    {
      "cell_type": "markdown",
      "source": [
        "## Process data into chunks"
      ],
      "metadata": {
        "id": "MFB7MgVVLB8g"
      }
    },
    {
      "cell_type": "code",
      "source": [
        "pdfs = glob(\"*.pdf\")\n",
        "docs = []\n",
        "\n",
        "progress_bar = tqdm(total=len(pdfs), desc=\"Processing\")\n",
        "\n",
        "for path in pdfs:\n",
        "  loader = PyPDFLoader(path)\n",
        "  doc = loader.load()\n",
        "\n",
        "  splitter = CharacterTextSplitter(chunk_size=500, chunk_overlap=8)\n",
        "  chunks = splitter.split_documents(doc)\n",
        "  docs.extend(chunks)\n",
        "  progress_bar.update(1)\n",
        "\n",
        "progress_bar.close()"
      ],
      "metadata": {
        "id": "1aHGDUW8xoRg"
      },
      "execution_count": null,
      "outputs": []
    },
    {
      "cell_type": "markdown",
      "source": [
        "## Set quantization to 4-bit low-precision parameters"
      ],
      "metadata": {
        "id": "QFx3Of2MLJ-L"
      }
    },
    {
      "cell_type": "code",
      "source": [
        "bnb_config = BitsAndBytesConfig(\n",
        "    load_in_4bit=True,\n",
        "    bnb_4bit_quant_type=\"nf4\",\n",
        "    bnb_4bit_compute_dtype=\"float16\",\n",
        "    bnb_4bit_use_double_quant=False)"
      ],
      "metadata": {
        "id": "0IjxQq4Awp2w"
      },
      "execution_count": 5,
      "outputs": []
    },
    {
      "cell_type": "markdown",
      "source": [
        "## Load model and tokenizer"
      ],
      "metadata": {
        "id": "KQnHB6S-LVA4"
      }
    },
    {
      "cell_type": "code",
      "source": [
        "model = AutoModelForCausalLM.from_pretrained(modelname, quantization_config=bnb_config,\n",
        "                                             do_sample=True, device_map = \"auto\")\n",
        "\n",
        "tokenizer = tokenizer = AutoTokenizer.from_pretrained(modelname)\n",
        "tokenizer.pad_token = tokenizer.eos_token\n",
        "tokenizer.padding_side = \"right\""
      ],
      "metadata": {
        "id": "RhSJUUt5wePA"
      },
      "execution_count": null,
      "outputs": []
    },
    {
      "cell_type": "markdown",
      "source": [
        "## Set promting pattern"
      ],
      "metadata": {
        "id": "eEZ7VxtTLaGj"
      }
    },
    {
      "cell_type": "code",
      "source": [
        "text_generation_pipeline = pipeline(\n",
        "                                    model=model,\n",
        "                                    tokenizer=tokenizer,\n",
        "                                    task=\"text-generation\",\n",
        "                                    temperature=0.5,\n",
        "                                    repetition_penalty=1.2,\n",
        "                                    return_full_text=True,\n",
        "                                    max_new_tokens=400)\n",
        "\n",
        "mistral = HuggingFacePipeline(pipeline=text_generation_pipeline)"
      ],
      "metadata": {
        "id": "AGdFN4LyyHJN"
      },
      "execution_count": null,
      "outputs": []
    },
    {
      "cell_type": "code",
      "source": [
        "prompt_template = \"\"\"\n",
        "Instruction: You are an experienced Dungeon Master. You provide information about the game and advice players.\n",
        "Answer the question based on the following context:\n",
        "{context}\n",
        "\n",
        "Question:\n",
        "{question}\n",
        " \"\"\"\n",
        "\n",
        "prompt = PromptTemplate(input_variables=[\"context\", \"question\"], template=prompt_template)"
      ],
      "metadata": {
        "id": "Ug4auN5MylMt"
      },
      "execution_count": 9,
      "outputs": []
    },
    {
      "cell_type": "markdown",
      "source": [
        "## Init chain"
      ],
      "metadata": {
        "id": "9az0zej0Lc3L"
      }
    },
    {
      "cell_type": "markdown",
      "source": [
        "### init prompt->llm"
      ],
      "metadata": {
        "id": "X1uMBOgBLiQE"
      }
    },
    {
      "cell_type": "code",
      "source": [
        "llm_chain = LLMChain(llm=mistral, prompt=prompt)"
      ],
      "metadata": {
        "id": "9l9LPQciyvQO"
      },
      "execution_count": null,
      "outputs": []
    },
    {
      "cell_type": "markdown",
      "source": [
        "### Init db"
      ],
      "metadata": {
        "id": "OChx23ADLgX2"
      }
    },
    {
      "cell_type": "code",
      "source": [
        "db = FAISS.from_documents(docs, HuggingFaceEmbeddings(model_name=embedder))"
      ],
      "metadata": {
        "id": "c_a9VgDmzMH-"
      },
      "execution_count": null,
      "outputs": []
    },
    {
      "cell_type": "markdown",
      "source": [
        "### init db retriever"
      ],
      "metadata": {
        "id": "qVZwaLZQLncv"
      }
    },
    {
      "cell_type": "code",
      "source": [
        "retriever = db.as_retriever(search_type=\"similarity\", search_kwargs={'k': 3})"
      ],
      "metadata": {
        "id": "4OeRGwFKG4Cg"
      },
      "execution_count": null,
      "outputs": []
    },
    {
      "cell_type": "markdown",
      "source": [
        "### Init RAG chain"
      ],
      "metadata": {
        "id": "TN-CsmpVLpz9"
      }
    },
    {
      "cell_type": "code",
      "source": [
        "rag_chain = ({\"context\": retriever, \"question\": RunnablePassthrough()} | llm_chain)"
      ],
      "metadata": {
        "id": "UdYJX8hoG-Me"
      },
      "execution_count": null,
      "outputs": []
    },
    {
      "cell_type": "markdown",
      "source": [
        "## Test result"
      ],
      "metadata": {
        "id": "ZyLyYgj1LsHK"
      }
    },
    {
      "cell_type": "code",
      "source": [
        "query = \"What is the best class and race if i want to play a sneaky but magical character?\"\n",
        "response = rag_chain.invoke(query)\n",
        "\n",
        "print (\"Question:\", response[\"question\"])\n",
        "print (response[\"text\"].replace('\\\\n', '\\n'))"
      ],
      "metadata": {
        "id": "sHyTCnrv0AXd"
      },
      "execution_count": 16,
      "outputs": []
    },
    {
      "cell_type": "code",
      "source": [],
      "metadata": {
        "id": "H_c01B9IL2Iq"
      },
      "execution_count": null,
      "outputs": []
    }
  ]
}