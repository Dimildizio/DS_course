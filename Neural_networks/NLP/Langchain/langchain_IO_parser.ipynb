{
  "nbformat": 4,
  "nbformat_minor": 0,
  "metadata": {
    "colab": {
      "provenance": [],
      "authorship_tag": "ABX9TyNo5mveZPFU/suAt9aysJzX",
      "include_colab_link": true
    },
    "kernelspec": {
      "name": "python3",
      "display_name": "Python 3"
    },
    "language_info": {
      "name": "python"
    }
  },
  "cells": [
    {
      "cell_type": "markdown",
      "metadata": {
        "id": "view-in-github",
        "colab_type": "text"
      },
      "source": [
        "<a href=\"https://colab.research.google.com/github/Dimildizio/DS_course/blob/main/Neural_networks/NLP/Langchain/langchain_IO_parser.ipynb\" target=\"_parent\"><img src=\"https://colab.research.google.com/assets/colab-badge.svg\" alt=\"Open In Colab\"/></a>"
      ]
    },
    {
      "cell_type": "markdown",
      "source": [
        "# Langchain CrashCourse"
      ],
      "metadata": {
        "id": "JOGpl-_kSmmF"
      }
    },
    {
      "cell_type": "markdown",
      "source": [
        "## Set up"
      ],
      "metadata": {
        "id": "BLZdbJsCU2aY"
      }
    },
    {
      "cell_type": "code",
      "execution_count": 2,
      "metadata": {
        "collapsed": true,
        "id": "c5Hyo0u-Sj1-"
      },
      "outputs": [],
      "source": [
        "%%capture\n",
        "!pip install peft==0.4.0 trl==0.4.7 !pip install Pillow>=10.1.0 torch>=2.1.2 torchvision>=0.16.2 transformers>=4.40.0 sentencepiece>=0.1.99 accelerate>=0.30.1 bitsandbytes>=0.43.1"
      ]
    },
    {
      "cell_type": "code",
      "source": [
        "%%capture\n",
        "!pip install langchain langchain-community langchain-core"
      ],
      "metadata": {
        "collapsed": true,
        "id": "gVlxUbdcg85v"
      },
      "execution_count": 3,
      "outputs": []
    },
    {
      "cell_type": "markdown",
      "source": [
        "## Data downloads"
      ],
      "metadata": {
        "id": "s3sY3C-KU-I1"
      }
    },
    {
      "cell_type": "code",
      "source": [
        "!kaggle datasets download -d PromptCloudHQ/amazon-reviews-unlocked-mobile-phones\n",
        "!unzip amazon-reviews-unlocked-mobile-phones.zip"
      ],
      "metadata": {
        "colab": {
          "base_uri": "https://localhost:8080/"
        },
        "collapsed": true,
        "id": "rSuYy_JHUHCR",
        "outputId": "0a4cad8c-28e8-40bd-f12d-c4f0376a55f1"
      },
      "execution_count": 4,
      "outputs": [
        {
          "output_type": "stream",
          "name": "stdout",
          "text": [
            "Dataset URL: https://www.kaggle.com/datasets/PromptCloudHQ/amazon-reviews-unlocked-mobile-phones\n",
            "License(s): CC0-1.0\n",
            "Downloading amazon-reviews-unlocked-mobile-phones.zip to /content\n",
            " 92% 30.0M/32.6M [00:01<00:00, 25.4MB/s]\n",
            "100% 32.6M/32.6M [00:01<00:00, 20.8MB/s]\n",
            "Archive:  amazon-reviews-unlocked-mobile-phones.zip\n",
            "  inflating: Amazon_Unlocked_Mobile.csv  \n"
          ]
        }
      ]
    },
    {
      "cell_type": "markdown",
      "source": [
        "## Imports"
      ],
      "metadata": {
        "id": "gIgQiZR9U7wj"
      }
    },
    {
      "cell_type": "code",
      "source": [
        "import numpy as np\n",
        "import pandas as pd\n",
        "import torch\n",
        "import transformers\n",
        "import warnings\n",
        "\n",
        "from google.colab import userdata\n",
        "from huggingface_hub import login\n",
        "from langchain import HuggingFacePipeline\n",
        "from langchain import PromptTemplate, LLMChain\n",
        "from pprint import pprint\n",
        "from transformers import AutoTokenizer, AutoModelForCausalLM, AutoModel, pipeline\n",
        "\n",
        "\n",
        "warnings.filterwarnings(\"ignore\")\n",
        "hf = userdata.get('hugging_face')\n",
        "login(hf)"
      ],
      "metadata": {
        "colab": {
          "base_uri": "https://localhost:8080/"
        },
        "id": "AqMAX681UxoF",
        "outputId": "0b9c6ce1-0ddd-48d1-87bf-6504e629ba8e"
      },
      "execution_count": 5,
      "outputs": [
        {
          "output_type": "stream",
          "name": "stdout",
          "text": [
            "The token has not been saved to the git credentials helper. Pass `add_to_git_credential=True` in this function directly or `--add-to-git-credential` if using via `huggingface-cli` if you want to set the git credential as well.\n",
            "Token is valid (permission: read).\n",
            "Your token has been saved to /root/.cache/huggingface/token\n",
            "Login successful\n"
          ]
        }
      ]
    },
    {
      "cell_type": "markdown",
      "source": [
        "## Load data"
      ],
      "metadata": {
        "id": "dpS7okNCVBBn"
      }
    },
    {
      "cell_type": "code",
      "source": [
        "df = pd.read_csv('Amazon_Unlocked_Mobile.csv')\n",
        "df.dropna(inplace=True)"
      ],
      "metadata": {
        "id": "OtbahTUKSpXJ"
      },
      "execution_count": 6,
      "outputs": []
    },
    {
      "cell_type": "code",
      "source": [
        "df.sample(5)"
      ],
      "metadata": {
        "colab": {
          "base_uri": "https://localhost:8080/",
          "height": 206
        },
        "id": "2H1geIKtVDg6",
        "outputId": "3017da0b-df27-444e-9304-589d7364b1f9"
      },
      "execution_count": 5,
      "outputs": [
        {
          "output_type": "execute_result",
          "data": {
            "text/plain": [
              "                                             Product Name Brand Name   Price  \\\n",
              "239601          Life Pure Mini Quad Band Unlocked (White)        BLU  120.00   \n",
              "345987  Samsung Galaxy S4 SGH-I337 Unlocked GSM Smartp...    Samsung  288.89   \n",
              "368677  Samsung Galaxy S6 SM-G920i Factory Unlocked Ce...    samsung  429.99   \n",
              "318235  Samsung Galaxy J5 SSJ500MGD Factory Unlocked D...    Samsung  197.95   \n",
              "176925  CNPGD MultiFunction All-in-1 Watch Cell Phone ...      CNPGD   79.99   \n",
              "\n",
              "        Rating                                            Reviews  \\\n",
              "239601       5                             Everything was perfect   \n",
              "345987       5  Okay so I was not a fan of samsung, two many f...   \n",
              "368677       1  I don't know if I just so happened to get a ba...   \n",
              "318235       4  UPDATE 5.2.16I had my phone for almost a month...   \n",
              "176925       4                                          Very good   \n",
              "\n",
              "        Review Votes  \n",
              "239601           0.0  \n",
              "345987           0.0  \n",
              "368677           4.0  \n",
              "318235           6.0  \n",
              "176925           0.0  "
            ],
            "text/html": [
              "\n",
              "  <div id=\"df-56bb824d-e61a-4100-84eb-998c7b5fe9b1\" class=\"colab-df-container\">\n",
              "    <div>\n",
              "<style scoped>\n",
              "    .dataframe tbody tr th:only-of-type {\n",
              "        vertical-align: middle;\n",
              "    }\n",
              "\n",
              "    .dataframe tbody tr th {\n",
              "        vertical-align: top;\n",
              "    }\n",
              "\n",
              "    .dataframe thead th {\n",
              "        text-align: right;\n",
              "    }\n",
              "</style>\n",
              "<table border=\"1\" class=\"dataframe\">\n",
              "  <thead>\n",
              "    <tr style=\"text-align: right;\">\n",
              "      <th></th>\n",
              "      <th>Product Name</th>\n",
              "      <th>Brand Name</th>\n",
              "      <th>Price</th>\n",
              "      <th>Rating</th>\n",
              "      <th>Reviews</th>\n",
              "      <th>Review Votes</th>\n",
              "    </tr>\n",
              "  </thead>\n",
              "  <tbody>\n",
              "    <tr>\n",
              "      <th>239601</th>\n",
              "      <td>Life Pure Mini Quad Band Unlocked (White)</td>\n",
              "      <td>BLU</td>\n",
              "      <td>120.00</td>\n",
              "      <td>5</td>\n",
              "      <td>Everything was perfect</td>\n",
              "      <td>0.0</td>\n",
              "    </tr>\n",
              "    <tr>\n",
              "      <th>345987</th>\n",
              "      <td>Samsung Galaxy S4 SGH-I337 Unlocked GSM Smartp...</td>\n",
              "      <td>Samsung</td>\n",
              "      <td>288.89</td>\n",
              "      <td>5</td>\n",
              "      <td>Okay so I was not a fan of samsung, two many f...</td>\n",
              "      <td>0.0</td>\n",
              "    </tr>\n",
              "    <tr>\n",
              "      <th>368677</th>\n",
              "      <td>Samsung Galaxy S6 SM-G920i Factory Unlocked Ce...</td>\n",
              "      <td>samsung</td>\n",
              "      <td>429.99</td>\n",
              "      <td>1</td>\n",
              "      <td>I don't know if I just so happened to get a ba...</td>\n",
              "      <td>4.0</td>\n",
              "    </tr>\n",
              "    <tr>\n",
              "      <th>318235</th>\n",
              "      <td>Samsung Galaxy J5 SSJ500MGD Factory Unlocked D...</td>\n",
              "      <td>Samsung</td>\n",
              "      <td>197.95</td>\n",
              "      <td>4</td>\n",
              "      <td>UPDATE 5.2.16I had my phone for almost a month...</td>\n",
              "      <td>6.0</td>\n",
              "    </tr>\n",
              "    <tr>\n",
              "      <th>176925</th>\n",
              "      <td>CNPGD MultiFunction All-in-1 Watch Cell Phone ...</td>\n",
              "      <td>CNPGD</td>\n",
              "      <td>79.99</td>\n",
              "      <td>4</td>\n",
              "      <td>Very good</td>\n",
              "      <td>0.0</td>\n",
              "    </tr>\n",
              "  </tbody>\n",
              "</table>\n",
              "</div>\n",
              "    <div class=\"colab-df-buttons\">\n",
              "\n",
              "  <div class=\"colab-df-container\">\n",
              "    <button class=\"colab-df-convert\" onclick=\"convertToInteractive('df-56bb824d-e61a-4100-84eb-998c7b5fe9b1')\"\n",
              "            title=\"Convert this dataframe to an interactive table.\"\n",
              "            style=\"display:none;\">\n",
              "\n",
              "  <svg xmlns=\"http://www.w3.org/2000/svg\" height=\"24px\" viewBox=\"0 -960 960 960\">\n",
              "    <path d=\"M120-120v-720h720v720H120Zm60-500h600v-160H180v160Zm220 220h160v-160H400v160Zm0 220h160v-160H400v160ZM180-400h160v-160H180v160Zm440 0h160v-160H620v160ZM180-180h160v-160H180v160Zm440 0h160v-160H620v160Z\"/>\n",
              "  </svg>\n",
              "    </button>\n",
              "\n",
              "  <style>\n",
              "    .colab-df-container {\n",
              "      display:flex;\n",
              "      gap: 12px;\n",
              "    }\n",
              "\n",
              "    .colab-df-convert {\n",
              "      background-color: #E8F0FE;\n",
              "      border: none;\n",
              "      border-radius: 50%;\n",
              "      cursor: pointer;\n",
              "      display: none;\n",
              "      fill: #1967D2;\n",
              "      height: 32px;\n",
              "      padding: 0 0 0 0;\n",
              "      width: 32px;\n",
              "    }\n",
              "\n",
              "    .colab-df-convert:hover {\n",
              "      background-color: #E2EBFA;\n",
              "      box-shadow: 0px 1px 2px rgba(60, 64, 67, 0.3), 0px 1px 3px 1px rgba(60, 64, 67, 0.15);\n",
              "      fill: #174EA6;\n",
              "    }\n",
              "\n",
              "    .colab-df-buttons div {\n",
              "      margin-bottom: 4px;\n",
              "    }\n",
              "\n",
              "    [theme=dark] .colab-df-convert {\n",
              "      background-color: #3B4455;\n",
              "      fill: #D2E3FC;\n",
              "    }\n",
              "\n",
              "    [theme=dark] .colab-df-convert:hover {\n",
              "      background-color: #434B5C;\n",
              "      box-shadow: 0px 1px 3px 1px rgba(0, 0, 0, 0.15);\n",
              "      filter: drop-shadow(0px 1px 2px rgba(0, 0, 0, 0.3));\n",
              "      fill: #FFFFFF;\n",
              "    }\n",
              "  </style>\n",
              "\n",
              "    <script>\n",
              "      const buttonEl =\n",
              "        document.querySelector('#df-56bb824d-e61a-4100-84eb-998c7b5fe9b1 button.colab-df-convert');\n",
              "      buttonEl.style.display =\n",
              "        google.colab.kernel.accessAllowed ? 'block' : 'none';\n",
              "\n",
              "      async function convertToInteractive(key) {\n",
              "        const element = document.querySelector('#df-56bb824d-e61a-4100-84eb-998c7b5fe9b1');\n",
              "        const dataTable =\n",
              "          await google.colab.kernel.invokeFunction('convertToInteractive',\n",
              "                                                    [key], {});\n",
              "        if (!dataTable) return;\n",
              "\n",
              "        const docLinkHtml = 'Like what you see? Visit the ' +\n",
              "          '<a target=\"_blank\" href=https://colab.research.google.com/notebooks/data_table.ipynb>data table notebook</a>'\n",
              "          + ' to learn more about interactive tables.';\n",
              "        element.innerHTML = '';\n",
              "        dataTable['output_type'] = 'display_data';\n",
              "        await google.colab.output.renderOutput(dataTable, element);\n",
              "        const docLink = document.createElement('div');\n",
              "        docLink.innerHTML = docLinkHtml;\n",
              "        element.appendChild(docLink);\n",
              "      }\n",
              "    </script>\n",
              "  </div>\n",
              "\n",
              "\n",
              "<div id=\"df-6a89f2bd-2070-40a1-9b4e-852ff27a17b2\">\n",
              "  <button class=\"colab-df-quickchart\" onclick=\"quickchart('df-6a89f2bd-2070-40a1-9b4e-852ff27a17b2')\"\n",
              "            title=\"Suggest charts\"\n",
              "            style=\"display:none;\">\n",
              "\n",
              "<svg xmlns=\"http://www.w3.org/2000/svg\" height=\"24px\"viewBox=\"0 0 24 24\"\n",
              "     width=\"24px\">\n",
              "    <g>\n",
              "        <path d=\"M19 3H5c-1.1 0-2 .9-2 2v14c0 1.1.9 2 2 2h14c1.1 0 2-.9 2-2V5c0-1.1-.9-2-2-2zM9 17H7v-7h2v7zm4 0h-2V7h2v10zm4 0h-2v-4h2v4z\"/>\n",
              "    </g>\n",
              "</svg>\n",
              "  </button>\n",
              "\n",
              "<style>\n",
              "  .colab-df-quickchart {\n",
              "      --bg-color: #E8F0FE;\n",
              "      --fill-color: #1967D2;\n",
              "      --hover-bg-color: #E2EBFA;\n",
              "      --hover-fill-color: #174EA6;\n",
              "      --disabled-fill-color: #AAA;\n",
              "      --disabled-bg-color: #DDD;\n",
              "  }\n",
              "\n",
              "  [theme=dark] .colab-df-quickchart {\n",
              "      --bg-color: #3B4455;\n",
              "      --fill-color: #D2E3FC;\n",
              "      --hover-bg-color: #434B5C;\n",
              "      --hover-fill-color: #FFFFFF;\n",
              "      --disabled-bg-color: #3B4455;\n",
              "      --disabled-fill-color: #666;\n",
              "  }\n",
              "\n",
              "  .colab-df-quickchart {\n",
              "    background-color: var(--bg-color);\n",
              "    border: none;\n",
              "    border-radius: 50%;\n",
              "    cursor: pointer;\n",
              "    display: none;\n",
              "    fill: var(--fill-color);\n",
              "    height: 32px;\n",
              "    padding: 0;\n",
              "    width: 32px;\n",
              "  }\n",
              "\n",
              "  .colab-df-quickchart:hover {\n",
              "    background-color: var(--hover-bg-color);\n",
              "    box-shadow: 0 1px 2px rgba(60, 64, 67, 0.3), 0 1px 3px 1px rgba(60, 64, 67, 0.15);\n",
              "    fill: var(--button-hover-fill-color);\n",
              "  }\n",
              "\n",
              "  .colab-df-quickchart-complete:disabled,\n",
              "  .colab-df-quickchart-complete:disabled:hover {\n",
              "    background-color: var(--disabled-bg-color);\n",
              "    fill: var(--disabled-fill-color);\n",
              "    box-shadow: none;\n",
              "  }\n",
              "\n",
              "  .colab-df-spinner {\n",
              "    border: 2px solid var(--fill-color);\n",
              "    border-color: transparent;\n",
              "    border-bottom-color: var(--fill-color);\n",
              "    animation:\n",
              "      spin 1s steps(1) infinite;\n",
              "  }\n",
              "\n",
              "  @keyframes spin {\n",
              "    0% {\n",
              "      border-color: transparent;\n",
              "      border-bottom-color: var(--fill-color);\n",
              "      border-left-color: var(--fill-color);\n",
              "    }\n",
              "    20% {\n",
              "      border-color: transparent;\n",
              "      border-left-color: var(--fill-color);\n",
              "      border-top-color: var(--fill-color);\n",
              "    }\n",
              "    30% {\n",
              "      border-color: transparent;\n",
              "      border-left-color: var(--fill-color);\n",
              "      border-top-color: var(--fill-color);\n",
              "      border-right-color: var(--fill-color);\n",
              "    }\n",
              "    40% {\n",
              "      border-color: transparent;\n",
              "      border-right-color: var(--fill-color);\n",
              "      border-top-color: var(--fill-color);\n",
              "    }\n",
              "    60% {\n",
              "      border-color: transparent;\n",
              "      border-right-color: var(--fill-color);\n",
              "    }\n",
              "    80% {\n",
              "      border-color: transparent;\n",
              "      border-right-color: var(--fill-color);\n",
              "      border-bottom-color: var(--fill-color);\n",
              "    }\n",
              "    90% {\n",
              "      border-color: transparent;\n",
              "      border-bottom-color: var(--fill-color);\n",
              "    }\n",
              "  }\n",
              "</style>\n",
              "\n",
              "  <script>\n",
              "    async function quickchart(key) {\n",
              "      const quickchartButtonEl =\n",
              "        document.querySelector('#' + key + ' button');\n",
              "      quickchartButtonEl.disabled = true;  // To prevent multiple clicks.\n",
              "      quickchartButtonEl.classList.add('colab-df-spinner');\n",
              "      try {\n",
              "        const charts = await google.colab.kernel.invokeFunction(\n",
              "            'suggestCharts', [key], {});\n",
              "      } catch (error) {\n",
              "        console.error('Error during call to suggestCharts:', error);\n",
              "      }\n",
              "      quickchartButtonEl.classList.remove('colab-df-spinner');\n",
              "      quickchartButtonEl.classList.add('colab-df-quickchart-complete');\n",
              "    }\n",
              "    (() => {\n",
              "      let quickchartButtonEl =\n",
              "        document.querySelector('#df-6a89f2bd-2070-40a1-9b4e-852ff27a17b2 button');\n",
              "      quickchartButtonEl.style.display =\n",
              "        google.colab.kernel.accessAllowed ? 'block' : 'none';\n",
              "    })();\n",
              "  </script>\n",
              "</div>\n",
              "\n",
              "    </div>\n",
              "  </div>\n"
            ],
            "application/vnd.google.colaboratory.intrinsic+json": {
              "type": "dataframe",
              "summary": "{\n  \"name\": \"df\",\n  \"rows\": 5,\n  \"fields\": [\n    {\n      \"column\": \"Product Name\",\n      \"properties\": {\n        \"dtype\": \"string\",\n        \"num_unique_values\": 5,\n        \"samples\": [\n          \"Samsung Galaxy S4 SGH-I337 Unlocked GSM Smartphone w/ 13 MP Camera - Red (No Warranty)\",\n          \"CNPGD MultiFunction All-in-1 Watch Cell Phone & Smart Watch Sync to Android IOS Smart Phone (Silver)\",\n          \"Samsung Galaxy S6 SM-G920i Factory Unlocked Cellphone, 32GB, Blue INTERNATIONAL VERSION NO WARRANTY\"\n        ],\n        \"semantic_type\": \"\",\n        \"description\": \"\"\n      }\n    },\n    {\n      \"column\": \"Brand Name\",\n      \"properties\": {\n        \"dtype\": \"string\",\n        \"num_unique_values\": 4,\n        \"samples\": [\n          \"Samsung\",\n          \"CNPGD\",\n          \"BLU\"\n        ],\n        \"semantic_type\": \"\",\n        \"description\": \"\"\n      }\n    },\n    {\n      \"column\": \"Price\",\n      \"properties\": {\n        \"dtype\": \"number\",\n        \"std\": 140.4226231061078,\n        \"min\": 79.99,\n        \"max\": 429.99,\n        \"num_unique_values\": 5,\n        \"samples\": [\n          288.89,\n          79.99,\n          429.99\n        ],\n        \"semantic_type\": \"\",\n        \"description\": \"\"\n      }\n    },\n    {\n      \"column\": \"Rating\",\n      \"properties\": {\n        \"dtype\": \"number\",\n        \"std\": 1,\n        \"min\": 1,\n        \"max\": 5,\n        \"num_unique_values\": 3,\n        \"samples\": [\n          5,\n          1,\n          4\n        ],\n        \"semantic_type\": \"\",\n        \"description\": \"\"\n      }\n    },\n    {\n      \"column\": \"Reviews\",\n      \"properties\": {\n        \"dtype\": \"string\",\n        \"num_unique_values\": 5,\n        \"samples\": [\n          \"Okay so I was not a fan of samsung, two many friends a lot of horror stories, I purchased one for my hubby he's a big fan, I tried his I fell in love now I need the six. Phone arrived way before the time so impressed\",\n          \"Very good\",\n          \"I don't know if I just so happened to get a bad device, but this phone is the worst I have ever owned. It freezes constantly throughout the day, sometimes for days at a time. It is very frustrating to have a smartphone and it not work. They gave me a phone number to call and it went straight to voicemail. I would never do business with these people again. Be warned people.\"\n        ],\n        \"semantic_type\": \"\",\n        \"description\": \"\"\n      }\n    },\n    {\n      \"column\": \"Review Votes\",\n      \"properties\": {\n        \"dtype\": \"number\",\n        \"std\": 2.8284271247461903,\n        \"min\": 0.0,\n        \"max\": 6.0,\n        \"num_unique_values\": 3,\n        \"samples\": [\n          0.0,\n          4.0,\n          6.0\n        ],\n        \"semantic_type\": \"\",\n        \"description\": \"\"\n      }\n    }\n  ]\n}"
            }
          },
          "metadata": {},
          "execution_count": 5
        }
      ]
    },
    {
      "cell_type": "markdown",
      "source": [
        "## Load model"
      ],
      "metadata": {
        "id": "DmKPAoNTeTWW"
      }
    },
    {
      "cell_type": "code",
      "source": [
        "pip install -i https://pypi.org/simple/ bitsandbytes"
      ],
      "metadata": {
        "colab": {
          "base_uri": "https://localhost:8080/"
        },
        "id": "e3ToN8fos_9p",
        "outputId": "27f3ee34-e09d-4b78-f9a4-97e4e9f6156b"
      },
      "execution_count": 12,
      "outputs": [
        {
          "output_type": "stream",
          "name": "stdout",
          "text": [
            "Looking in indexes: https://pypi.org/simple/\n",
            "Requirement already satisfied: bitsandbytes in /usr/local/lib/python3.10/dist-packages (0.43.1)\n",
            "Requirement already satisfied: torch in /usr/local/lib/python3.10/dist-packages (from bitsandbytes) (2.3.0+cu121)\n",
            "Requirement already satisfied: numpy in /usr/local/lib/python3.10/dist-packages (from bitsandbytes) (1.25.2)\n",
            "Requirement already satisfied: filelock in /usr/local/lib/python3.10/dist-packages (from torch->bitsandbytes) (3.14.0)\n",
            "Requirement already satisfied: typing-extensions>=4.8.0 in /usr/local/lib/python3.10/dist-packages (from torch->bitsandbytes) (4.12.1)\n",
            "Requirement already satisfied: sympy in /usr/local/lib/python3.10/dist-packages (from torch->bitsandbytes) (1.12.1)\n",
            "Requirement already satisfied: networkx in /usr/local/lib/python3.10/dist-packages (from torch->bitsandbytes) (3.3)\n",
            "Requirement already satisfied: jinja2 in /usr/local/lib/python3.10/dist-packages (from torch->bitsandbytes) (3.1.4)\n",
            "Requirement already satisfied: fsspec in /usr/local/lib/python3.10/dist-packages (from torch->bitsandbytes) (2023.6.0)\n",
            "Requirement already satisfied: nvidia-cuda-nvrtc-cu12==12.1.105 in /usr/local/lib/python3.10/dist-packages (from torch->bitsandbytes) (12.1.105)\n",
            "Requirement already satisfied: nvidia-cuda-runtime-cu12==12.1.105 in /usr/local/lib/python3.10/dist-packages (from torch->bitsandbytes) (12.1.105)\n",
            "Requirement already satisfied: nvidia-cuda-cupti-cu12==12.1.105 in /usr/local/lib/python3.10/dist-packages (from torch->bitsandbytes) (12.1.105)\n",
            "Requirement already satisfied: nvidia-cudnn-cu12==8.9.2.26 in /usr/local/lib/python3.10/dist-packages (from torch->bitsandbytes) (8.9.2.26)\n",
            "Requirement already satisfied: nvidia-cublas-cu12==12.1.3.1 in /usr/local/lib/python3.10/dist-packages (from torch->bitsandbytes) (12.1.3.1)\n",
            "Requirement already satisfied: nvidia-cufft-cu12==11.0.2.54 in /usr/local/lib/python3.10/dist-packages (from torch->bitsandbytes) (11.0.2.54)\n",
            "Requirement already satisfied: nvidia-curand-cu12==10.3.2.106 in /usr/local/lib/python3.10/dist-packages (from torch->bitsandbytes) (10.3.2.106)\n",
            "Requirement already satisfied: nvidia-cusolver-cu12==11.4.5.107 in /usr/local/lib/python3.10/dist-packages (from torch->bitsandbytes) (11.4.5.107)\n",
            "Requirement already satisfied: nvidia-cusparse-cu12==12.1.0.106 in /usr/local/lib/python3.10/dist-packages (from torch->bitsandbytes) (12.1.0.106)\n",
            "Requirement already satisfied: nvidia-nccl-cu12==2.20.5 in /usr/local/lib/python3.10/dist-packages (from torch->bitsandbytes) (2.20.5)\n",
            "Requirement already satisfied: nvidia-nvtx-cu12==12.1.105 in /usr/local/lib/python3.10/dist-packages (from torch->bitsandbytes) (12.1.105)\n",
            "Requirement already satisfied: triton==2.3.0 in /usr/local/lib/python3.10/dist-packages (from torch->bitsandbytes) (2.3.0)\n",
            "Requirement already satisfied: nvidia-nvjitlink-cu12 in /usr/local/lib/python3.10/dist-packages (from nvidia-cusolver-cu12==11.4.5.107->torch->bitsandbytes) (12.5.40)\n",
            "Requirement already satisfied: MarkupSafe>=2.0 in /usr/local/lib/python3.10/dist-packages (from jinja2->torch->bitsandbytes) (2.1.5)\n",
            "Requirement already satisfied: mpmath<1.4.0,>=1.1.0 in /usr/local/lib/python3.10/dist-packages (from sympy->torch->bitsandbytes) (1.3.0)\n"
          ]
        }
      ]
    },
    {
      "cell_type": "code",
      "source": [
        "model_name = 'meta-llama/Llama-2-7b-chat-hf'\n",
        "tokenizer = AutoTokenizer.from_pretrained(model_name, use_auth_token=True)\n",
        "model = AutoModelForCausalLM.from_pretrained(model_name, torch_dtype=torch.float16, load_in_4bit=True)"
      ],
      "metadata": {
        "id": "A1_iRfBVd2X1"
      },
      "execution_count": 13,
      "outputs": []
    },
    {
      "cell_type": "code",
      "source": [
        "pipe = pipeline(\"text-generation\",\n",
        "                model=model,\n",
        "                tokenizer= tokenizer,\n",
        "                torch_dtype=torch.bfloat16,\n",
        "                device_map=\"auto\",\n",
        "                max_new_tokens = 512,\n",
        "                do_sample=True,\n",
        "                top_k=1,\n",
        "                num_return_sequences=1,\n",
        "                eos_token_id=tokenizer.eos_token_id)\n",
        "print(output[0]['generated_text'])"
      ],
      "metadata": {
        "id": "HkEJc10Zwe0L"
      },
      "execution_count": null,
      "outputs": []
    },
    {
      "cell_type": "markdown",
      "source": [
        "Outputs something like this:\n",
        "pretty unstructured"
      ],
      "metadata": {
        "id": "Q0MUoswuwWfz"
      }
    },
    {
      "cell_type": "markdown",
      "source": [
        "'I need to analyze amazon product reviews from Amazon_Unlocked_Mobile '\n",
        " 'dataset.could you suggest how to do it best?\\n'\n",
        " '\\n'\n",
        " 'Answer: Yes, I can help you with that! Analyzing Amazon product reviews from '\n",
        " 'the Amazon_Unlocked_Mobile dataset can be a challenging task, but here are '\n",
        " 'some steps you can follow to do it effectively:\\n'\n",
        " '\\n'\n",
        " '1. Preprocessing:\\n'\n",
        " '\\t* Remove stop words: Remove common words like \"the\", \"a\", \"and\", etc. that '\n",
        " \"don't add much value to the review.\\n\"\n",
        " '\\t* Lemmatize words: Convert words to their base form (e.g., \"running\" '\n",
        " 'becomes \"run\") to reduce the dimensionality of the data.\\n'\n",
        " '\\t* Remove special characters and punctuation: Remove any special characters '\n",
        " 'or punctuation marks from the reviews, as they may not be relevant to the '\n",
        " 'analysis.\\n'\n",
        " '2. Feature extraction:\\n'\n",
        " '\\t* Sentiment analysis: Use a sentiment analysis tool or a machine learning '\n",
        " 'model to extract the sentiment of the reviews. This can help you identify '\n",
        " 'whether the reviews are generally positive, negative, or neutral.\\n'\n",
        " '\\t* Aspect-based sentiment analysis: Identify the different aspects of the '\n",
        " 'product that are mentioned in the reviews, such as the quality of the '\n",
        " 'materials, the design, the performance, etc. Analyze the sentiment of each '\n",
        " 'aspect to understand how customers perceive it.\\n'\n",
        " '\\t* Named entity recognition: Identify specific entities mentioned in the '\n",
        " \"reviews, such as the product name, the company name, or the customer's name. \"\n",
        " 'This can help you understand the context of the reviews.\\n'\n",
        " '3. Clustering:\\n'\n",
        " '\\t* K-means clustering: Use k-means clustering to group similar reviews '\n",
        " 'together based on their sentiment and aspect-based sentiment analysis. This '\n",
        " 'can help you identify common themes or issues that customers are discussing '\n",
        " 'in their reviews.\\n'\n",
        " '\\t* Hierarchical clustering: Use hierarchical clustering to create a '\n",
        " 'dendrogram that shows the similarity between the reviews. This can help you '\n",
        " 'identify clusters of reviews that are similar in sentiment or aspect-based '\n",
        " 'sentiment analysis.\\n'\n",
        " '4. Visualization:\\n'\n",
        " '\\t* Bar chart or histogram: Use a bar chart or histogram to visualize the '\n",
        " 'distribution of sentiment in the reviews. This can help you identify whether '\n",
        " 'the reviews are generally positive, negative, or neutral.\\n'\n",
        " '\\t* Scatter plot: Use a scatter plot to visualize the relationship between '\n",
        " 'different aspects of the product and the sentiment of the reviews. This can '\n",
        " 'help you identify which aspects of the product are most important for '\n",
        " 'customer'"
      ],
      "metadata": {
        "id": "j2AnjxyLwROB"
      }
    }
  ]
}