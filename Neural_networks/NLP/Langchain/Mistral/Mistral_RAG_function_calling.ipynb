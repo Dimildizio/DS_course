{
  "cells": [
    {
      "cell_type": "markdown",
      "metadata": {
        "id": "view-in-github",
        "colab_type": "text"
      },
      "source": [
        "<a href=\"https://colab.research.google.com/github/Dimildizio/DS_course/blob/main/Neural_networks/NLP/Langchain/Mistral/Mistral_RAG_function_calling.ipynb\" target=\"_parent\"><img src=\"https://colab.research.google.com/assets/colab-badge.svg\" alt=\"Open In Colab\"/></a>"
      ]
    },
    {
      "cell_type": "markdown",
      "id": "d67a4729-cd2f-47e7-a4f6-f84a5677414f",
      "metadata": {
        "id": "d67a4729-cd2f-47e7-a4f6-f84a5677414f"
      },
      "source": [
        "# Basic RAG (Retrieval Augmented Generation)"
      ]
    },
    {
      "cell_type": "code",
      "execution_count": null,
      "id": "b880d1ed-3db0-45a1-807e-1b47e9ce1320",
      "metadata": {
        "height": 30,
        "id": "b880d1ed-3db0-45a1-807e-1b47e9ce1320"
      },
      "outputs": [],
      "source": [
        "! pip install faiss-cpu \"mistralai>=0.1.2\""
      ]
    },
    {
      "cell_type": "markdown",
      "id": "b350586c-f8ca-4013-8840-46460e4ba295",
      "metadata": {
        "id": "b350586c-f8ca-4013-8840-46460e4ba295"
      },
      "source": [
        "### Load API key"
      ]
    },
    {
      "cell_type": "code",
      "execution_count": null,
      "id": "e4b100be-c2cf-4e07-ba17-07eae31aea35",
      "metadata": {
        "height": 47,
        "id": "e4b100be-c2cf-4e07-ba17-07eae31aea35"
      },
      "outputs": [],
      "source": [
        "from helper import load_mistral_api_key\n",
        "api_key, dlai_endpoint = load_mistral_api_key(ret_key=True)"
      ]
    },
    {
      "cell_type": "markdown",
      "id": "fe8609d5-9f27-4202-b0be-36db34412998",
      "metadata": {
        "id": "fe8609d5-9f27-4202-b0be-36db34412998"
      },
      "source": [
        "### Get data\n",
        "\n",
        "- You can go to https://www.deeplearning.ai/the-batch/\n",
        "- Search for any article and copy its URL."
      ]
    },
    {
      "cell_type": "markdown",
      "id": "983ce5f6-5eb1-4442-8e04-822bdbd701f4",
      "metadata": {
        "id": "983ce5f6-5eb1-4442-8e04-822bdbd701f4"
      },
      "source": [
        "### Parse the article with BeautifulSoup"
      ]
    },
    {
      "cell_type": "code",
      "execution_count": null,
      "id": "c4c01740-72b4-482c-b61e-e272a734f01f",
      "metadata": {
        "height": 217,
        "id": "c4c01740-72b4-482c-b61e-e272a734f01f",
        "outputId": "0af41bc1-eedf-4e94-a481-15890a8c573b"
      },
      "outputs": [
        {
          "name": "stdout",
          "output_type": "stream",
          "text": [
            "Foiling attackers who try to lure email users into clicking on a malicious link is a cat-and-mouse game, as phishing tactics evolve to evade detection. But machine learning models designed to recognize phishing attempts can evolve, too, through automatic retraining and checks to maintain accuracy.What’s new: Food giant Nestlé built a system that checks incoming emails and sends suspicious ones to the company’s security team. Microsoft’s Azure Machine Learning web platform supplies the tools and processing power.Problem: Nestlé receives up to 20 million emails in 300,000 inboxes daily. An earlier commercial system flooded analysts with legitimate messages wrongly flagged as phishing attempts — too many to evaluate manually.Solution: The company built an automated machine learning system that continually learns from phishing attempts, spots likely new ones, and forwards them to security analysts.How it works: The system comprises three automated pipelines that run in the cloud. The first manages training, the second evaluates incoming messages, and the third passes the latest risky messages to security.The system stores incoming emails in a data lake. A transformer model fine-tuned for the task examines email subject headers to classify phishing attempts. Factors such as the sender’s domain are used to prioritize messages for human attention.It processes incoming messages hourly in batches that run in parallel and retrains the model weekly to learn from the latest attacks. It also retrains the model whenever the surrounding code is revised; say, if the software that parses subject headers implements a new tokenization scheme. It evaluates the new model's performance and, if the model performs well, deploys it.All models are versioned, registered, associated with the code base at the time, and saved to a database. Engineers can track the impact on performance of changes to the model, data, or code, making it easier to track down bugs, revert changes, and perform experiments.Results: The system detects malicious emails more quickly and accurately than its commercial predecessor. It flags phishing attempts with 60 percent precision. Previously, most of those would have been missed, the team said.Why it matters: Running several software pipelines continuously at high volume means a lot of moving parts in a critical application. Automating them and putting in place good tools and processes saves headaches and avoids security threats.We’re thinking: With machine learning models hard at work fighting phishing, machine learning engineers have more time to go fishing.\n"
          ]
        }
      ],
      "source": [
        "import requests\n",
        "from bs4 import BeautifulSoup\n",
        "import re\n",
        "\n",
        "response = requests.get(\n",
        "    \"https://www.deeplearning.ai/the-batch/24-7-phish-fry/\"\n",
        ")\n",
        "html_doc = response.text\n",
        "soup = BeautifulSoup(html_doc, \"html.parser\")\n",
        "tag = soup.find(\"div\", re.compile(\"^prose--styled\"))\n",
        "text = tag.text\n",
        "print(text)"
      ]
    },
    {
      "cell_type": "markdown",
      "id": "491cf036-7bc9-4e96-94ab-737872de531a",
      "metadata": {
        "id": "491cf036-7bc9-4e96-94ab-737872de531a"
      },
      "source": [
        "### Optionally, save the text into a text file\n",
        "- You can upload the text file into a chat interface in the next lesson.\n",
        "- To download this file to your own machine, click on the \"Jupyter\" logo to view the file directory.  "
      ]
    },
    {
      "cell_type": "code",
      "execution_count": null,
      "id": "1fbfa8e2-08af-445b-8134-7395cc693b5b",
      "metadata": {
        "height": 64,
        "id": "1fbfa8e2-08af-445b-8134-7395cc693b5b"
      },
      "outputs": [],
      "source": [
        "file_name = \"AI.txt\"\n",
        "with open(file_name, 'w') as file:\n",
        "    file.write(text)"
      ]
    },
    {
      "cell_type": "markdown",
      "id": "aad1aa61-9e1c-46c8-ae5e-61855df440f9",
      "metadata": {
        "id": "aad1aa61-9e1c-46c8-ae5e-61855df440f9"
      },
      "source": [
        "### Chunking"
      ]
    },
    {
      "cell_type": "code",
      "execution_count": null,
      "id": "8494655e-bd87-49de-8f1d-69ffbc1c256e",
      "metadata": {
        "height": 47,
        "id": "8494655e-bd87-49de-8f1d-69ffbc1c256e"
      },
      "outputs": [],
      "source": [
        "chunk_size = 512\n",
        "chunks = [text[i : i + chunk_size] for i in range(0, len(text), chunk_size)]"
      ]
    },
    {
      "cell_type": "code",
      "execution_count": null,
      "id": "c78c9936-0c1d-471c-b030-6c45639e7238",
      "metadata": {
        "height": 30,
        "id": "c78c9936-0c1d-471c-b030-6c45639e7238",
        "outputId": "b7fa1ae5-03ca-44b3-b502-baf73b462a76"
      },
      "outputs": [
        {
          "data": {
            "text/plain": [
              "6"
            ]
          },
          "execution_count": 23,
          "metadata": {},
          "output_type": "execute_result"
        }
      ],
      "source": [
        "len(chunks)"
      ]
    },
    {
      "cell_type": "markdown",
      "id": "e42e3f06-09d6-4186-be0b-6034b0c8330e",
      "metadata": {
        "id": "e42e3f06-09d6-4186-be0b-6034b0c8330e"
      },
      "source": [
        "### Get embeddings of the chunks"
      ]
    },
    {
      "cell_type": "code",
      "execution_count": null,
      "id": "e77d9805-7a53-4210-9f80-f4de52285588",
      "metadata": {
        "height": 149,
        "id": "e77d9805-7a53-4210-9f80-f4de52285588"
      },
      "outputs": [],
      "source": [
        "import os\n",
        "from mistralai.client import MistralClient\n",
        "\n",
        "\n",
        "def get_text_embedding(txt):\n",
        "    client = MistralClient(api_key=api_key, endpoint=dlai_endpoint)\n",
        "    embeddings_batch_response = client.embeddings(model=\"mistral-embed\", input=txt)\n",
        "    return embeddings_batch_response.data[0].embedding"
      ]
    },
    {
      "cell_type": "code",
      "execution_count": null,
      "id": "46503830-6ad5-493e-a629-152721e2d88e",
      "metadata": {
        "height": 64,
        "id": "46503830-6ad5-493e-a629-152721e2d88e"
      },
      "outputs": [],
      "source": [
        "import numpy as np\n",
        "\n",
        "text_embeddings = np.array([get_text_embedding(chunk) for chunk in chunks])"
      ]
    },
    {
      "cell_type": "code",
      "execution_count": null,
      "id": "55396758-c3f3-45b3-b6e7-d4912c0899f2",
      "metadata": {
        "height": 30,
        "id": "55396758-c3f3-45b3-b6e7-d4912c0899f2",
        "outputId": "b3848c7a-aaf0-46e9-9c62-d6fcbeef4428"
      },
      "outputs": [
        {
          "data": {
            "text/plain": [
              "array([[-0.0075531 ,  0.02249146,  0.05093384, ..., -0.01940918,\n",
              "         0.01558685, -0.02246094],\n",
              "       [-0.01600647,  0.02281189,  0.04702759, ..., -0.03353882,\n",
              "         0.01012421, -0.03091431],\n",
              "       [ 0.00303078,  0.02993774,  0.0289917 , ..., -0.0211792 ,\n",
              "         0.0141449 , -0.04074097],\n",
              "       [-0.03805542,  0.03686523,  0.0324707 , ..., -0.0221405 ,\n",
              "         0.00184155, -0.01629639],\n",
              "       [-0.0206604 ,  0.03085327,  0.0534668 , ..., -0.01698303,\n",
              "         0.00089979, -0.02096558],\n",
              "       [-0.02661133,  0.02787781,  0.03442383, ..., -0.01727295,\n",
              "         0.02000427,  0.00232124]])"
            ]
          },
          "execution_count": 28,
          "metadata": {},
          "output_type": "execute_result"
        }
      ],
      "source": [
        "text_embeddings"
      ]
    },
    {
      "cell_type": "code",
      "execution_count": null,
      "id": "ca875993-fe6d-42df-811e-a43891cd0350",
      "metadata": {
        "height": 30,
        "id": "ca875993-fe6d-42df-811e-a43891cd0350",
        "outputId": "ca3ed4bb-7854-41d6-f24d-096a8f33b3c3"
      },
      "outputs": [
        {
          "data": {
            "text/plain": [
              "1024"
            ]
          },
          "execution_count": 29,
          "metadata": {},
          "output_type": "execute_result"
        }
      ],
      "source": [
        "len(text_embeddings[0])"
      ]
    },
    {
      "cell_type": "markdown",
      "id": "1cba33c7-9d1d-44d8-a01e-e30f16be1aac",
      "metadata": {
        "id": "1cba33c7-9d1d-44d8-a01e-e30f16be1aac"
      },
      "source": [
        "### Store in a vector databsae\n",
        "- In this classroom, you'll use [Faiss](https://engineering.fb.com/2017/03/29/data-infrastructure/faiss-a-library-for-efficient-similarity-search/)"
      ]
    },
    {
      "cell_type": "code",
      "execution_count": null,
      "id": "0981a956-5f9c-4ea6-8fb3-a2cc9fe896d2",
      "metadata": {
        "height": 98,
        "id": "0981a956-5f9c-4ea6-8fb3-a2cc9fe896d2"
      },
      "outputs": [],
      "source": [
        "import faiss\n",
        "\n",
        "d = text_embeddings.shape[1]\n",
        "index = faiss.IndexFlatL2(d)\n",
        "index.add(text_embeddings)"
      ]
    },
    {
      "cell_type": "markdown",
      "id": "5ee023ab-b26c-4df5-8a7b-7dd660bfad86",
      "metadata": {
        "id": "5ee023ab-b26c-4df5-8a7b-7dd660bfad86"
      },
      "source": [
        "### Embed the user query"
      ]
    },
    {
      "cell_type": "code",
      "execution_count": null,
      "id": "894d9764-9da9-4629-8f2a-c9dcaf6ceb8d",
      "metadata": {
        "height": 47,
        "id": "894d9764-9da9-4629-8f2a-c9dcaf6ceb8d"
      },
      "outputs": [],
      "source": [
        "question = \"How does the new phishing classification system work?\"\n",
        "question_embeddings = np.array([get_text_embedding(question)])"
      ]
    },
    {
      "cell_type": "code",
      "execution_count": null,
      "id": "9c4948cc-6d8b-449f-bc00-abb3591c7222",
      "metadata": {
        "height": 30,
        "id": "9c4948cc-6d8b-449f-bc00-abb3591c7222",
        "outputId": "2bad3c38-0c54-4b11-94d4-bc5d36b46bcf"
      },
      "outputs": [
        {
          "data": {
            "text/plain": [
              "array([[ 0.02009583,  0.02420044,  0.03068542, ..., -0.02127075,\n",
              "        -0.00865173, -0.01152039]])"
            ]
          },
          "execution_count": 32,
          "metadata": {},
          "output_type": "execute_result"
        }
      ],
      "source": [
        "question_embeddings"
      ]
    },
    {
      "cell_type": "markdown",
      "id": "15989e10-d0ec-41be-b6be-fa317565a926",
      "metadata": {
        "id": "15989e10-d0ec-41be-b6be-fa317565a926"
      },
      "source": [
        "### Search for chunks that are similar to the query"
      ]
    },
    {
      "cell_type": "code",
      "execution_count": null,
      "id": "c930b378-7aac-434c-881b-ab69d3edb93d",
      "metadata": {
        "height": 47,
        "id": "c930b378-7aac-434c-881b-ab69d3edb93d",
        "outputId": "e39a8a37-1907-4178-ff89-8cddd7ac4c94"
      },
      "outputs": [
        {
          "name": "stdout",
          "output_type": "stream",
          "text": [
            "[[2 0]]\n"
          ]
        }
      ],
      "source": [
        "D, I = index.search(question_embeddings, k=2)\n",
        "print(I)"
      ]
    },
    {
      "cell_type": "code",
      "execution_count": null,
      "id": "73aab584-1dbf-4532-b41e-0403eeeeb567",
      "metadata": {
        "height": 47,
        "id": "73aab584-1dbf-4532-b41e-0403eeeeb567",
        "outputId": "ce4689a7-4867-4a4a-e363-c5a69e88cea6"
      },
      "outputs": [
        {
          "name": "stdout",
          "output_type": "stream",
          "text": [
            "['econd evaluates incoming messages, and the third passes the latest risky messages to security.The system stores incoming emails in a data lake. A transformer model fine-tuned for the task examines email subject headers to classify phishing attempts. Factors such as the sender’s domain are used to prioritize messages for human attention.It processes incoming messages hourly in batches that run in parallel and retrains the model weekly to learn from the latest attacks. It also retrains the model whenever the ', 'Foiling attackers who try to lure email users into clicking on a malicious link is a cat-and-mouse game, as phishing tactics evolve to evade detection. But machine learning models designed to recognize phishing attempts can evolve, too, through automatic retraining and checks to maintain accuracy.What’s new: Food giant Nestlé built a system that checks incoming emails and sends suspicious ones to the company’s security team. Microsoft’s Azure Machine Learning web platform supplies the tools and processing p']\n"
          ]
        }
      ],
      "source": [
        "retrieved_chunk = [chunks[i] for i in I.tolist()[0]]\n",
        "print(retrieved_chunk)"
      ]
    },
    {
      "cell_type": "code",
      "execution_count": null,
      "id": "da042a53-4564-4057-9a60-9b57dffff6a1",
      "metadata": {
        "height": 166,
        "id": "da042a53-4564-4057-9a60-9b57dffff6a1"
      },
      "outputs": [],
      "source": [
        "prompt = f\"\"\"\n",
        "Context information is below.\n",
        "---------------------\n",
        "{retrieved_chunk}\n",
        "---------------------\n",
        "Given the context information and not prior knowledge, answer the query.\n",
        "Query: {question}\n",
        "Answer:\n",
        "\"\"\""
      ]
    },
    {
      "cell_type": "code",
      "execution_count": null,
      "id": "94e7661e-51e2-4148-a44c-f262e7e85d56",
      "metadata": {
        "height": 268,
        "id": "94e7661e-51e2-4148-a44c-f262e7e85d56"
      },
      "outputs": [],
      "source": [
        "from mistralai.models.chat_completion import ChatMessage\n",
        "\n",
        "\n",
        "def mistral(user_message, model=\"mistral-small-latest\", is_json=False):\n",
        "    client = MistralClient(api_key=api_key, endpoint=dlai_endpoint)\n",
        "    messages = [ChatMessage(role=\"user\", content=user_message)]\n",
        "\n",
        "    if is_json:\n",
        "        chat_response = client.chat(\n",
        "            model=model, messages=messages, response_format={\"type\": \"json_object\"}\n",
        "        )\n",
        "    else:\n",
        "        chat_response = client.chat(model=model, messages=messages)\n",
        "\n",
        "    return chat_response.choices[0].message.content"
      ]
    },
    {
      "cell_type": "code",
      "execution_count": null,
      "id": "46a964d3-0dea-422a-83e6-342a4ab6906b",
      "metadata": {
        "height": 47,
        "id": "46a964d3-0dea-422a-83e6-342a4ab6906b",
        "outputId": "e4b39eb1-8885-4b1d-a4be-6489c60dab91"
      },
      "outputs": [
        {
          "name": "stdout",
          "output_type": "stream",
          "text": [
            "The new phishing classification system works by evaluating incoming messages using a fine-tuned transformer model. This model examines email subject headers to classify potential phishing attempts. Factors such as the sender's domain are used to prioritize messages for further human attention. The system processes incoming messages hourly in batches that run in parallel. To stay updated with the latest phishing tactics, the model is retrained weekly and also whenever necessary. Suspicious messages are then passed on to the company's security team. This system is built on Microsoft's Azure Machine Learning web platform.\n"
          ]
        }
      ],
      "source": [
        "response = mistral(prompt)\n",
        "print(response)"
      ]
    },
    {
      "cell_type": "code",
      "execution_count": null,
      "id": "e9ce2ffa-c9bf-48a4-a6f3-6727da6a882d",
      "metadata": {
        "height": 30,
        "id": "e9ce2ffa-c9bf-48a4-a6f3-6727da6a882d"
      },
      "outputs": [],
      "source": []
    },
    {
      "cell_type": "markdown",
      "id": "a653b9c2-d6e7-42f5-88e9-d5dcd376e61e",
      "metadata": {
        "id": "a653b9c2-d6e7-42f5-88e9-d5dcd376e61e"
      },
      "source": [
        "## RAG + Function calling"
      ]
    },
    {
      "cell_type": "code",
      "execution_count": null,
      "id": "f41aac3a-20b4-4e33-ac58-f245577141f8",
      "metadata": {
        "height": 455,
        "id": "f41aac3a-20b4-4e33-ac58-f245577141f8"
      },
      "outputs": [],
      "source": [
        "def qa_with_context(text, question, chunk_size=512):\n",
        "    # split document into chunks\n",
        "    chunks = [text[i : i + chunk_size] for i in range(0, len(text), chunk_size)]\n",
        "    # load into a vector database\n",
        "    text_embeddings = np.array([get_text_embedding(chunk) for chunk in chunks])\n",
        "    d = text_embeddings.shape[1]\n",
        "    index = faiss.IndexFlatL2(d)\n",
        "    index.add(text_embeddings)\n",
        "    # create embeddings for a question\n",
        "    question_embeddings = np.array([get_text_embedding(question)])\n",
        "    # retrieve similar chunks from the vector database\n",
        "    D, I = index.search(question_embeddings, k=2)\n",
        "    retrieved_chunk = [chunks[i] for i in I.tolist()[0]]\n",
        "    # generate response based on the retrieve relevant text chunks\n",
        "\n",
        "    prompt = f\"\"\"\n",
        "    Context information is below.\n",
        "    ---------------------\n",
        "    {retrieved_chunk}\n",
        "    ---------------------\n",
        "    Given the context information and not prior knowledge, answer the query.\n",
        "    Query: {question}\n",
        "    Answer:\n",
        "    \"\"\"\n",
        "    response = mistral(prompt)\n",
        "    return response"
      ]
    },
    {
      "cell_type": "code",
      "execution_count": null,
      "id": "ddb4467f-0db8-4247-8150-8746a4630432",
      "metadata": {
        "height": 30,
        "id": "ddb4467f-0db8-4247-8150-8746a4630432",
        "outputId": "74fc32b7-4f14-4721-caf9-0888618f9b22"
      },
      "outputs": [
        {
          "data": {
            "text/plain": [
              "[[2, 0]]"
            ]
          },
          "execution_count": 39,
          "metadata": {},
          "output_type": "execute_result"
        }
      ],
      "source": [
        "I.tolist()"
      ]
    },
    {
      "cell_type": "code",
      "execution_count": null,
      "id": "7b1bcc8d-b957-4167-b1e9-1353a6301762",
      "metadata": {
        "height": 30,
        "id": "7b1bcc8d-b957-4167-b1e9-1353a6301762",
        "outputId": "e34a1c72-e442-4d40-86f3-225f510e5642"
      },
      "outputs": [
        {
          "data": {
            "text/plain": [
              "[2, 0]"
            ]
          },
          "execution_count": 40,
          "metadata": {},
          "output_type": "execute_result"
        }
      ],
      "source": [
        "I.tolist()[0]"
      ]
    },
    {
      "cell_type": "code",
      "execution_count": null,
      "id": "f23d8ef9-36d4-4912-8303-d2fe3860d7c6",
      "metadata": {
        "height": 64,
        "id": "f23d8ef9-36d4-4912-8303-d2fe3860d7c6"
      },
      "outputs": [],
      "source": [
        "import functools\n",
        "\n",
        "names_to_functions = {\"qa_with_context\": functools.partial(qa_with_context, text=text)}"
      ]
    },
    {
      "cell_type": "code",
      "execution_count": null,
      "id": "cae3717b-37e6-40b3-93b1-cfd023b59079",
      "metadata": {
        "height": 336,
        "id": "cae3717b-37e6-40b3-93b1-cfd023b59079"
      },
      "outputs": [],
      "source": [
        "tools = [\n",
        "    {\n",
        "        \"type\": \"function\",\n",
        "        \"function\": {\n",
        "            \"name\": \"qa_with_context\",\n",
        "            \"description\": \"Answer user question by retrieving relevant context\",\n",
        "            \"parameters\": {\n",
        "                \"type\": \"object\",\n",
        "                \"properties\": {\n",
        "                    \"question\": {\n",
        "                        \"type\": \"string\",\n",
        "                        \"description\": \"user question\",\n",
        "                    }\n",
        "                },\n",
        "                \"required\": [\"question\"],\n",
        "            },\n",
        "        },\n",
        "    },\n",
        "]"
      ]
    },
    {
      "cell_type": "code",
      "execution_count": null,
      "id": "a2e442fa-5cca-4eb1-9c3f-24276fe4f75c",
      "metadata": {
        "height": 251,
        "id": "a2e442fa-5cca-4eb1-9c3f-24276fe4f75c",
        "outputId": "7316d0f6-892d-4adf-ac8a-d5dc64056e0b"
      },
      "outputs": [
        {
          "data": {
            "text/plain": [
              "ChatCompletionResponse(id='87204b5efa7e43b99c9571b8e3ba30f5', object='chat.completion', created=1722697303, model='mistral-large-latest', choices=[ChatCompletionResponseChoice(index=0, message=ChatMessage(role='assistant', content='', name=None, tool_calls=[ToolCall(id='5PZbEpA5D', type=<ToolType.function: 'function'>, function=FunctionCall(name='qa_with_context', arguments='{\"question\": \"How does the new phishing classification system work?\"}'))]), finish_reason=<FinishReason.tool_calls: 'tool_calls'>)], usage=UsageInfo(prompt_tokens=86, total_tokens=117, completion_tokens=31))"
            ]
          },
          "execution_count": 54,
          "metadata": {},
          "output_type": "execute_result"
        }
      ],
      "source": [
        "question = \"How does the new phishing classification system work?\"\n",
        "client = MistralClient(api_key=api_key, endpoint=dlai_endpoint)\n",
        "\n",
        "response = client.chat(\n",
        "    model=\"mistral-large-latest\",\n",
        "    messages=[ChatMessage(role=\"user\", content=question)],\n",
        "    tools=tools,\n",
        "    tool_choice=\"auto\",\n",
        ")\n",
        "\n",
        "response"
      ]
    },
    {
      "cell_type": "code",
      "execution_count": null,
      "id": "4d349dd7-0138-4857-9bcb-69ed151cb1b8",
      "metadata": {
        "height": 47,
        "id": "4d349dd7-0138-4857-9bcb-69ed151cb1b8",
        "outputId": "892a67ed-1647-4aa8-9ade-036a644a1cea"
      },
      "outputs": [
        {
          "data": {
            "text/plain": [
              "FunctionCall(name='qa_with_context', arguments='{\"question\": \"How does the new phishing classification system work?\"}')"
            ]
          },
          "execution_count": 55,
          "metadata": {},
          "output_type": "execute_result"
        }
      ],
      "source": [
        "tool_function = response.choices[0].message.tool_calls[0].function\n",
        "tool_function"
      ]
    },
    {
      "cell_type": "code",
      "execution_count": null,
      "id": "ca751c08-e6e7-46a4-8e4c-a30407853cfc",
      "metadata": {
        "height": 30,
        "id": "ca751c08-e6e7-46a4-8e4c-a30407853cfc",
        "outputId": "f39ea907-10df-4345-a300-2d213af6cbfe"
      },
      "outputs": [
        {
          "data": {
            "text/plain": [
              "'qa_with_context'"
            ]
          },
          "execution_count": 56,
          "metadata": {},
          "output_type": "execute_result"
        }
      ],
      "source": [
        "tool_function.name"
      ]
    },
    {
      "cell_type": "code",
      "execution_count": null,
      "id": "08910b72-2aaa-4393-a35a-5ed2671b8faf",
      "metadata": {
        "height": 81,
        "id": "08910b72-2aaa-4393-a35a-5ed2671b8faf",
        "outputId": "8bad3e17-d3e2-4f6e-b0e5-8df42c8208b9"
      },
      "outputs": [
        {
          "data": {
            "text/plain": [
              "{'question': 'How does the new phishing classification system work?'}"
            ]
          },
          "execution_count": 57,
          "metadata": {},
          "output_type": "execute_result"
        }
      ],
      "source": [
        "import json\n",
        "\n",
        "args = json.loads(tool_function.arguments)\n",
        "args"
      ]
    },
    {
      "cell_type": "code",
      "execution_count": null,
      "id": "409f6a67-2787-424e-8b8d-92fc9b66bdf9",
      "metadata": {
        "height": 47,
        "id": "409f6a67-2787-424e-8b8d-92fc9b66bdf9",
        "outputId": "0bedbd08-394b-498b-ac7c-0ac9e9a5b843"
      },
      "outputs": [
        {
          "data": {
            "text/plain": [
              "\"The new phishing classification system works by storing incoming emails in a data lake and using a transformer model that has been fine-tuned for the task to examine email subject headers to classify potential phishing attempts. The system prioritizes messages for human attention based on factors such as the sender's domain. It processes incoming messages in parallel hourly batches and retrains the model weekly to learn from the latest attacks. Additionally, it sends the latest risky messages to the company's security team and can also retrain the model whenever necessary to maintain accuracy.\""
            ]
          },
          "execution_count": 58,
          "metadata": {},
          "output_type": "execute_result"
        }
      ],
      "source": [
        "function_result = names_to_functions[tool_function.name](**args)\n",
        "function_result"
      ]
    },
    {
      "cell_type": "markdown",
      "id": "2f2d1982-a899-4ad5-a5de-2a33d46cd311",
      "metadata": {
        "id": "2f2d1982-a899-4ad5-a5de-2a33d46cd311"
      },
      "source": [
        "## More about RAG\n",
        "To learn about more advanced chunking and retrieval methods, you can check out:\n",
        "- [Advanced Retrieval for AI with Chroma](https://learn.deeplearning.ai/courses/advanced-retrieval-for-ai/lesson/1/introduction)\n",
        "  - Sentence window retrieval\n",
        "  - Auto-merge retrieval\n",
        "- [Building and Evaluating Advanced RAG Applications](https://learn.deeplearning.ai/courses/building-evaluating-advanced-rag)\n",
        "  - Query Expansion\n",
        "  - Cross-encoder reranking\n",
        "  - Training and utilizing Embedding Adapters\n"
      ]
    },
    {
      "cell_type": "code",
      "execution_count": null,
      "id": "e9932106-163e-45f4-85db-d6b373cf5bbd",
      "metadata": {
        "height": 30,
        "id": "e9932106-163e-45f4-85db-d6b373cf5bbd"
      },
      "outputs": [],
      "source": []
    }
  ],
  "metadata": {
    "jupytext": {
      "formats": "ipynb,py:light"
    },
    "kernelspec": {
      "display_name": "Python 3 (ipykernel)",
      "language": "python",
      "name": "python3"
    },
    "language_info": {
      "codemirror_mode": {
        "name": "ipython",
        "version": 3
      },
      "file_extension": ".py",
      "mimetype": "text/x-python",
      "name": "python",
      "nbconvert_exporter": "python",
      "pygments_lexer": "ipython3",
      "version": "3.11.9"
    },
    "colab": {
      "provenance": [],
      "include_colab_link": true
    }
  },
  "nbformat": 4,
  "nbformat_minor": 5
}