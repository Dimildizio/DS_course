{
  "nbformat": 4,
  "nbformat_minor": 0,
  "metadata": {
    "colab": {
      "provenance": [],
      "authorship_tag": "ABX9TyMw9qJ/pQq4zPtilfLKJq8l",
      "include_colab_link": true
    },
    "kernelspec": {
      "name": "python3",
      "display_name": "Python 3"
    },
    "language_info": {
      "name": "python"
    }
  },
  "cells": [
    {
      "cell_type": "markdown",
      "metadata": {
        "id": "view-in-github",
        "colab_type": "text"
      },
      "source": [
        "<a href=\"https://colab.research.google.com/github/Dimildizio/DS_course/blob/main/Neural_networks/NLP/Text_classification/Prohibited_language_classification.ipynb\" target=\"_parent\"><img src=\"https://colab.research.google.com/assets/colab-badge.svg\" alt=\"Open In Colab\"/></a>"
      ]
    },
    {
      "cell_type": "markdown",
      "source": [
        "# Prohibited Language classification"
      ],
      "metadata": {
        "id": "0HYYwt0GNw7I"
      }
    },
    {
      "cell_type": "markdown",
      "source": [
        "Classification of foul language task using Bag of Words embeddings, TF-IDF, word vectors\n"
      ],
      "metadata": {
        "id": "Gg_X6uTiO44Z"
      }
    },
    {
      "cell_type": "markdown",
      "source": [
        "## Imports"
      ],
      "metadata": {
        "id": "7LL86MGUP7pf"
      }
    },
    {
      "cell_type": "code",
      "source": [
        "import gensim.downloader as gensim_api\n",
        "import matplotlib.pyplot as plt\n",
        "import nltk\n",
        "import numpy as np\n",
        "import pandas as pd\n",
        "import seaborn as sns\n",
        "import torch\n",
        "import torch.nn as nn\n",
        "\n",
        "\n",
        "\n",
        "from collections import defaultdict\n",
        "from nltk.tokenize import TweetTokenizer\n",
        "from sklearn.ensemble import RandomForestClassifier\n",
        "from sklearn.feature_extraction.text import TfidfVectorizer, ENGLISH_STOP_WORDS\n",
        "from sklearn.linear_model import LogisticRegression\n",
        "from sklearn.metrics import roc_auc_score, roc_curve, accuracy_score, classification_report\n",
        "from sklearn.model_selection import train_test_split\n"
      ],
      "metadata": {
        "id": "KzKjaclUNz5j"
      },
      "execution_count": 1,
      "outputs": []
    },
    {
      "cell_type": "code",
      "source": [
        "%matplotlib inline"
      ],
      "metadata": {
        "id": "qau-zciSOJEb"
      },
      "execution_count": 2,
      "outputs": []
    },
    {
      "cell_type": "markdown",
      "source": [
        "## Load dataset"
      ],
      "metadata": {
        "id": "w38XUUF7P9ZI"
      }
    },
    {
      "cell_type": "code",
      "source": [
        "%%capture\n",
        "!wget https://raw.githubusercontent.com/Dimildizio/DS_course/main/Neural_networks/NLP/Text_classification/data/comments.tsv"
      ],
      "metadata": {
        "id": "RbLjVYt7QDLr"
      },
      "execution_count": 3,
      "outputs": []
    },
    {
      "cell_type": "code",
      "execution_count": 4,
      "metadata": {
        "id": "IJJsAuv-Nvnl"
      },
      "outputs": [],
      "source": [
        "data = pd.read_csv('comments.tsv', sep='\\t')"
      ]
    },
    {
      "cell_type": "markdown",
      "source": [
        "## Some basic EDA"
      ],
      "metadata": {
        "id": "c0RADcWFQuw0"
      }
    },
    {
      "cell_type": "code",
      "source": [
        "data.head()"
      ],
      "metadata": {
        "colab": {
          "base_uri": "https://localhost:8080/",
          "height": 206
        },
        "id": "8OjyycsSQa6G",
        "outputId": "8fe013f1-e0da-4709-c7fd-d84fc8daf267"
      },
      "execution_count": 5,
      "outputs": [
        {
          "output_type": "execute_result",
          "data": {
            "text/plain": [
              "   should_ban                                       comment_text\n",
              "0           0  The picture on the article is not of the actor...\n",
              "1           1  Its madness. Shes of Chinese heritage, but JAP...\n",
              "2           1  Fuck You. Why don't you suck a turd out of my ...\n",
              "3           1  God is dead\\nI don't mean to startle anyone bu...\n",
              "4           1  THIS USER IS A PLANT FROM BRUCE PERENS AND GRO..."
            ],
            "text/html": [
              "\n",
              "\n",
              "  <div id=\"df-5669f014-437f-431f-906e-b158a5fed3a3\">\n",
              "    <div class=\"colab-df-container\">\n",
              "      <div>\n",
              "<style scoped>\n",
              "    .dataframe tbody tr th:only-of-type {\n",
              "        vertical-align: middle;\n",
              "    }\n",
              "\n",
              "    .dataframe tbody tr th {\n",
              "        vertical-align: top;\n",
              "    }\n",
              "\n",
              "    .dataframe thead th {\n",
              "        text-align: right;\n",
              "    }\n",
              "</style>\n",
              "<table border=\"1\" class=\"dataframe\">\n",
              "  <thead>\n",
              "    <tr style=\"text-align: right;\">\n",
              "      <th></th>\n",
              "      <th>should_ban</th>\n",
              "      <th>comment_text</th>\n",
              "    </tr>\n",
              "  </thead>\n",
              "  <tbody>\n",
              "    <tr>\n",
              "      <th>0</th>\n",
              "      <td>0</td>\n",
              "      <td>The picture on the article is not of the actor...</td>\n",
              "    </tr>\n",
              "    <tr>\n",
              "      <th>1</th>\n",
              "      <td>1</td>\n",
              "      <td>Its madness. Shes of Chinese heritage, but JAP...</td>\n",
              "    </tr>\n",
              "    <tr>\n",
              "      <th>2</th>\n",
              "      <td>1</td>\n",
              "      <td>Fuck You. Why don't you suck a turd out of my ...</td>\n",
              "    </tr>\n",
              "    <tr>\n",
              "      <th>3</th>\n",
              "      <td>1</td>\n",
              "      <td>God is dead\\nI don't mean to startle anyone bu...</td>\n",
              "    </tr>\n",
              "    <tr>\n",
              "      <th>4</th>\n",
              "      <td>1</td>\n",
              "      <td>THIS USER IS A PLANT FROM BRUCE PERENS AND GRO...</td>\n",
              "    </tr>\n",
              "  </tbody>\n",
              "</table>\n",
              "</div>\n",
              "      <button class=\"colab-df-convert\" onclick=\"convertToInteractive('df-5669f014-437f-431f-906e-b158a5fed3a3')\"\n",
              "              title=\"Convert this dataframe to an interactive table.\"\n",
              "              style=\"display:none;\">\n",
              "\n",
              "  <svg xmlns=\"http://www.w3.org/2000/svg\" height=\"24px\"viewBox=\"0 0 24 24\"\n",
              "       width=\"24px\">\n",
              "    <path d=\"M0 0h24v24H0V0z\" fill=\"none\"/>\n",
              "    <path d=\"M18.56 5.44l.94 2.06.94-2.06 2.06-.94-2.06-.94-.94-2.06-.94 2.06-2.06.94zm-11 1L8.5 8.5l.94-2.06 2.06-.94-2.06-.94L8.5 2.5l-.94 2.06-2.06.94zm10 10l.94 2.06.94-2.06 2.06-.94-2.06-.94-.94-2.06-.94 2.06-2.06.94z\"/><path d=\"M17.41 7.96l-1.37-1.37c-.4-.4-.92-.59-1.43-.59-.52 0-1.04.2-1.43.59L10.3 9.45l-7.72 7.72c-.78.78-.78 2.05 0 2.83L4 21.41c.39.39.9.59 1.41.59.51 0 1.02-.2 1.41-.59l7.78-7.78 2.81-2.81c.8-.78.8-2.07 0-2.86zM5.41 20L4 18.59l7.72-7.72 1.47 1.35L5.41 20z\"/>\n",
              "  </svg>\n",
              "      </button>\n",
              "\n",
              "\n",
              "\n",
              "    <div id=\"df-8da81cb5-ee84-4065-a71c-f734c77ad9c4\">\n",
              "      <button class=\"colab-df-quickchart\" onclick=\"quickchart('df-8da81cb5-ee84-4065-a71c-f734c77ad9c4')\"\n",
              "              title=\"Suggest charts.\"\n",
              "              style=\"display:none;\">\n",
              "\n",
              "<svg xmlns=\"http://www.w3.org/2000/svg\" height=\"24px\"viewBox=\"0 0 24 24\"\n",
              "     width=\"24px\">\n",
              "    <g>\n",
              "        <path d=\"M19 3H5c-1.1 0-2 .9-2 2v14c0 1.1.9 2 2 2h14c1.1 0 2-.9 2-2V5c0-1.1-.9-2-2-2zM9 17H7v-7h2v7zm4 0h-2V7h2v10zm4 0h-2v-4h2v4z\"/>\n",
              "    </g>\n",
              "</svg>\n",
              "      </button>\n",
              "    </div>\n",
              "\n",
              "<style>\n",
              "  .colab-df-quickchart {\n",
              "    background-color: #E8F0FE;\n",
              "    border: none;\n",
              "    border-radius: 50%;\n",
              "    cursor: pointer;\n",
              "    display: none;\n",
              "    fill: #1967D2;\n",
              "    height: 32px;\n",
              "    padding: 0 0 0 0;\n",
              "    width: 32px;\n",
              "  }\n",
              "\n",
              "  .colab-df-quickchart:hover {\n",
              "    background-color: #E2EBFA;\n",
              "    box-shadow: 0px 1px 2px rgba(60, 64, 67, 0.3), 0px 1px 3px 1px rgba(60, 64, 67, 0.15);\n",
              "    fill: #174EA6;\n",
              "  }\n",
              "\n",
              "  [theme=dark] .colab-df-quickchart {\n",
              "    background-color: #3B4455;\n",
              "    fill: #D2E3FC;\n",
              "  }\n",
              "\n",
              "  [theme=dark] .colab-df-quickchart:hover {\n",
              "    background-color: #434B5C;\n",
              "    box-shadow: 0px 1px 3px 1px rgba(0, 0, 0, 0.15);\n",
              "    filter: drop-shadow(0px 1px 2px rgba(0, 0, 0, 0.3));\n",
              "    fill: #FFFFFF;\n",
              "  }\n",
              "</style>\n",
              "\n",
              "    <script>\n",
              "      async function quickchart(key) {\n",
              "        const containerElement = document.querySelector('#' + key);\n",
              "        const charts = await google.colab.kernel.invokeFunction(\n",
              "            'suggestCharts', [key], {});\n",
              "      }\n",
              "    </script>\n",
              "\n",
              "      <script>\n",
              "\n",
              "function displayQuickchartButton(domScope) {\n",
              "  let quickchartButtonEl =\n",
              "    domScope.querySelector('#df-8da81cb5-ee84-4065-a71c-f734c77ad9c4 button.colab-df-quickchart');\n",
              "  quickchartButtonEl.style.display =\n",
              "    google.colab.kernel.accessAllowed ? 'block' : 'none';\n",
              "}\n",
              "\n",
              "        displayQuickchartButton(document);\n",
              "      </script>\n",
              "      <style>\n",
              "    .colab-df-container {\n",
              "      display:flex;\n",
              "      flex-wrap:wrap;\n",
              "      gap: 12px;\n",
              "    }\n",
              "\n",
              "    .colab-df-convert {\n",
              "      background-color: #E8F0FE;\n",
              "      border: none;\n",
              "      border-radius: 50%;\n",
              "      cursor: pointer;\n",
              "      display: none;\n",
              "      fill: #1967D2;\n",
              "      height: 32px;\n",
              "      padding: 0 0 0 0;\n",
              "      width: 32px;\n",
              "    }\n",
              "\n",
              "    .colab-df-convert:hover {\n",
              "      background-color: #E2EBFA;\n",
              "      box-shadow: 0px 1px 2px rgba(60, 64, 67, 0.3), 0px 1px 3px 1px rgba(60, 64, 67, 0.15);\n",
              "      fill: #174EA6;\n",
              "    }\n",
              "\n",
              "    [theme=dark] .colab-df-convert {\n",
              "      background-color: #3B4455;\n",
              "      fill: #D2E3FC;\n",
              "    }\n",
              "\n",
              "    [theme=dark] .colab-df-convert:hover {\n",
              "      background-color: #434B5C;\n",
              "      box-shadow: 0px 1px 3px 1px rgba(0, 0, 0, 0.15);\n",
              "      filter: drop-shadow(0px 1px 2px rgba(0, 0, 0, 0.3));\n",
              "      fill: #FFFFFF;\n",
              "    }\n",
              "  </style>\n",
              "\n",
              "      <script>\n",
              "        const buttonEl =\n",
              "          document.querySelector('#df-5669f014-437f-431f-906e-b158a5fed3a3 button.colab-df-convert');\n",
              "        buttonEl.style.display =\n",
              "          google.colab.kernel.accessAllowed ? 'block' : 'none';\n",
              "\n",
              "        async function convertToInteractive(key) {\n",
              "          const element = document.querySelector('#df-5669f014-437f-431f-906e-b158a5fed3a3');\n",
              "          const dataTable =\n",
              "            await google.colab.kernel.invokeFunction('convertToInteractive',\n",
              "                                                     [key], {});\n",
              "          if (!dataTable) return;\n",
              "\n",
              "          const docLinkHtml = 'Like what you see? Visit the ' +\n",
              "            '<a target=\"_blank\" href=https://colab.research.google.com/notebooks/data_table.ipynb>data table notebook</a>'\n",
              "            + ' to learn more about interactive tables.';\n",
              "          element.innerHTML = '';\n",
              "          dataTable['output_type'] = 'display_data';\n",
              "          await google.colab.output.renderOutput(dataTable, element);\n",
              "          const docLink = document.createElement('div');\n",
              "          docLink.innerHTML = docLinkHtml;\n",
              "          element.appendChild(docLink);\n",
              "        }\n",
              "      </script>\n",
              "    </div>\n",
              "  </div>\n"
            ]
          },
          "metadata": {},
          "execution_count": 5
        }
      ]
    },
    {
      "cell_type": "code",
      "source": [
        "data.info()"
      ],
      "metadata": {
        "colab": {
          "base_uri": "https://localhost:8080/"
        },
        "id": "2d6BIiTpQkU1",
        "outputId": "adc7f2f0-a230-4816-a3a6-2319531774a7"
      },
      "execution_count": 6,
      "outputs": [
        {
          "output_type": "stream",
          "name": "stdout",
          "text": [
            "<class 'pandas.core.frame.DataFrame'>\n",
            "RangeIndex: 1000 entries, 0 to 999\n",
            "Data columns (total 2 columns):\n",
            " #   Column        Non-Null Count  Dtype \n",
            "---  ------        --------------  ----- \n",
            " 0   should_ban    1000 non-null   int64 \n",
            " 1   comment_text  1000 non-null   object\n",
            "dtypes: int64(1), object(1)\n",
            "memory usage: 15.8+ KB\n"
          ]
        }
      ]
    },
    {
      "cell_type": "code",
      "source": [
        "sns.countplot(data=data, x='should_ban')"
      ],
      "metadata": {
        "colab": {
          "base_uri": "https://localhost:8080/",
          "height": 467
        },
        "id": "IpbHNr1eQ19h",
        "outputId": "658d642f-6674-4a75-f04d-07674794aa19"
      },
      "execution_count": 7,
      "outputs": [
        {
          "output_type": "execute_result",
          "data": {
            "text/plain": [
              "<Axes: xlabel='should_ban', ylabel='count'>"
            ]
          },
          "metadata": {},
          "execution_count": 7
        },
        {
          "output_type": "display_data",
          "data": {
            "text/plain": [
              "<Figure size 640x480 with 1 Axes>"
            ],
            "image/png": "[encoded data removed]"
          },
          "metadata": {}
        }
      ]
    },
    {
      "cell_type": "code",
      "source": [
        "data[data['comment_text'].str.len() <= 18]"
      ],
      "metadata": {
        "colab": {
          "base_uri": "https://localhost:8080/",
          "height": 80
        },
        "id": "xNaooF_vZO-9",
        "outputId": "ee60228c-0e38-41d3-c889-6ca241fe624f"
      },
      "execution_count": 8,
      "outputs": [
        {
          "output_type": "execute_result",
          "data": {
            "text/plain": [
              "     should_ban        comment_text\n",
              "870           0  No takers, then? ¦"
            ],
            "text/html": [
              "\n",
              "\n",
              "  <div id=\"df-c3e67c70-a181-432c-8a61-f7d0beeeeeb3\">\n",
              "    <div class=\"colab-df-container\">\n",
              "      <div>\n",
              "<style scoped>\n",
              "    .dataframe tbody tr th:only-of-type {\n",
              "        vertical-align: middle;\n",
              "    }\n",
              "\n",
              "    .dataframe tbody tr th {\n",
              "        vertical-align: top;\n",
              "    }\n",
              "\n",
              "    .dataframe thead th {\n",
              "        text-align: right;\n",
              "    }\n",
              "</style>\n",
              "<table border=\"1\" class=\"dataframe\">\n",
              "  <thead>\n",
              "    <tr style=\"text-align: right;\">\n",
              "      <th></th>\n",
              "      <th>should_ban</th>\n",
              "      <th>comment_text</th>\n",
              "    </tr>\n",
              "  </thead>\n",
              "  <tbody>\n",
              "    <tr>\n",
              "      <th>870</th>\n",
              "      <td>0</td>\n",
              "      <td>No takers, then? ¦</td>\n",
              "    </tr>\n",
              "  </tbody>\n",
              "</table>\n",
              "</div>\n",
              "      <button class=\"colab-df-convert\" onclick=\"convertToInteractive('df-c3e67c70-a181-432c-8a61-f7d0beeeeeb3')\"\n",
              "              title=\"Convert this dataframe to an interactive table.\"\n",
              "              style=\"display:none;\">\n",
              "\n",
              "  <svg xmlns=\"http://www.w3.org/2000/svg\" height=\"24px\"viewBox=\"0 0 24 24\"\n",
              "       width=\"24px\">\n",
              "    <path d=\"M0 0h24v24H0V0z\" fill=\"none\"/>\n",
              "    <path d=\"M18.56 5.44l.94 2.06.94-2.06 2.06-.94-2.06-.94-.94-2.06-.94 2.06-2.06.94zm-11 1L8.5 8.5l.94-2.06 2.06-.94-2.06-.94L8.5 2.5l-.94 2.06-2.06.94zm10 10l.94 2.06.94-2.06 2.06-.94-2.06-.94-.94-2.06-.94 2.06-2.06.94z\"/><path d=\"M17.41 7.96l-1.37-1.37c-.4-.4-.92-.59-1.43-.59-.52 0-1.04.2-1.43.59L10.3 9.45l-7.72 7.72c-.78.78-.78 2.05 0 2.83L4 21.41c.39.39.9.59 1.41.59.51 0 1.02-.2 1.41-.59l7.78-7.78 2.81-2.81c.8-.78.8-2.07 0-2.86zM5.41 20L4 18.59l7.72-7.72 1.47 1.35L5.41 20z\"/>\n",
              "  </svg>\n",
              "      </button>\n",
              "\n",
              "\n",
              "\n",
              "    <div id=\"df-ab5454fa-7772-4c31-ae1c-f39a94602803\">\n",
              "      <button class=\"colab-df-quickchart\" onclick=\"quickchart('df-ab5454fa-7772-4c31-ae1c-f39a94602803')\"\n",
              "              title=\"Suggest charts.\"\n",
              "              style=\"display:none;\">\n",
              "\n",
              "<svg xmlns=\"http://www.w3.org/2000/svg\" height=\"24px\"viewBox=\"0 0 24 24\"\n",
              "     width=\"24px\">\n",
              "    <g>\n",
              "        <path d=\"M19 3H5c-1.1 0-2 .9-2 2v14c0 1.1.9 2 2 2h14c1.1 0 2-.9 2-2V5c0-1.1-.9-2-2-2zM9 17H7v-7h2v7zm4 0h-2V7h2v10zm4 0h-2v-4h2v4z\"/>\n",
              "    </g>\n",
              "</svg>\n",
              "      </button>\n",
              "    </div>\n",
              "\n",
              "<style>\n",
              "  .colab-df-quickchart {\n",
              "    background-color: #E8F0FE;\n",
              "    border: none;\n",
              "    border-radius: 50%;\n",
              "    cursor: pointer;\n",
              "    display: none;\n",
              "    fill: #1967D2;\n",
              "    height: 32px;\n",
              "    padding: 0 0 0 0;\n",
              "    width: 32px;\n",
              "  }\n",
              "\n",
              "  .colab-df-quickchart:hover {\n",
              "    background-color: #E2EBFA;\n",
              "    box-shadow: 0px 1px 2px rgba(60, 64, 67, 0.3), 0px 1px 3px 1px rgba(60, 64, 67, 0.15);\n",
              "    fill: #174EA6;\n",
              "  }\n",
              "\n",
              "  [theme=dark] .colab-df-quickchart {\n",
              "    background-color: #3B4455;\n",
              "    fill: #D2E3FC;\n",
              "  }\n",
              "\n",
              "  [theme=dark] .colab-df-quickchart:hover {\n",
              "    background-color: #434B5C;\n",
              "    box-shadow: 0px 1px 3px 1px rgba(0, 0, 0, 0.15);\n",
              "    filter: drop-shadow(0px 1px 2px rgba(0, 0, 0, 0.3));\n",
              "    fill: #FFFFFF;\n",
              "  }\n",
              "</style>\n",
              "\n",
              "    <script>\n",
              "      async function quickchart(key) {\n",
              "        const containerElement = document.querySelector('#' + key);\n",
              "        const charts = await google.colab.kernel.invokeFunction(\n",
              "            'suggestCharts', [key], {});\n",
              "      }\n",
              "    </script>\n",
              "\n",
              "      <script>\n",
              "\n",
              "function displayQuickchartButton(domScope) {\n",
              "  let quickchartButtonEl =\n",
              "    domScope.querySelector('#df-ab5454fa-7772-4c31-ae1c-f39a94602803 button.colab-df-quickchart');\n",
              "  quickchartButtonEl.style.display =\n",
              "    google.colab.kernel.accessAllowed ? 'block' : 'none';\n",
              "}\n",
              "\n",
              "        displayQuickchartButton(document);\n",
              "      </script>\n",
              "      <style>\n",
              "    .colab-df-container {\n",
              "      display:flex;\n",
              "      flex-wrap:wrap;\n",
              "      gap: 12px;\n",
              "    }\n",
              "\n",
              "    .colab-df-convert {\n",
              "      background-color: #E8F0FE;\n",
              "      border: none;\n",
              "      border-radius: 50%;\n",
              "      cursor: pointer;\n",
              "      display: none;\n",
              "      fill: #1967D2;\n",
              "      height: 32px;\n",
              "      padding: 0 0 0 0;\n",
              "      width: 32px;\n",
              "    }\n",
              "\n",
              "    .colab-df-convert:hover {\n",
              "      background-color: #E2EBFA;\n",
              "      box-shadow: 0px 1px 2px rgba(60, 64, 67, 0.3), 0px 1px 3px 1px rgba(60, 64, 67, 0.15);\n",
              "      fill: #174EA6;\n",
              "    }\n",
              "\n",
              "    [theme=dark] .colab-df-convert {\n",
              "      background-color: #3B4455;\n",
              "      fill: #D2E3FC;\n",
              "    }\n",
              "\n",
              "    [theme=dark] .colab-df-convert:hover {\n",
              "      background-color: #434B5C;\n",
              "      box-shadow: 0px 1px 3px 1px rgba(0, 0, 0, 0.15);\n",
              "      filter: drop-shadow(0px 1px 2px rgba(0, 0, 0, 0.3));\n",
              "      fill: #FFFFFF;\n",
              "    }\n",
              "  </style>\n",
              "\n",
              "      <script>\n",
              "        const buttonEl =\n",
              "          document.querySelector('#df-c3e67c70-a181-432c-8a61-f7d0beeeeeb3 button.colab-df-convert');\n",
              "        buttonEl.style.display =\n",
              "          google.colab.kernel.accessAllowed ? 'block' : 'none';\n",
              "\n",
              "        async function convertToInteractive(key) {\n",
              "          const element = document.querySelector('#df-c3e67c70-a181-432c-8a61-f7d0beeeeeb3');\n",
              "          const dataTable =\n",
              "            await google.colab.kernel.invokeFunction('convertToInteractive',\n",
              "                                                     [key], {});\n",
              "          if (!dataTable) return;\n",
              "\n",
              "          const docLinkHtml = 'Like what you see? Visit the ' +\n",
              "            '<a target=\"_blank\" href=https://colab.research.google.com/notebooks/data_table.ipynb>data table notebook</a>'\n",
              "            + ' to learn more about interactive tables.';\n",
              "          element.innerHTML = '';\n",
              "          dataTable['output_type'] = 'display_data';\n",
              "          await google.colab.output.renderOutput(dataTable, element);\n",
              "          const docLink = document.createElement('div');\n",
              "          docLink.innerHTML = docLinkHtml;\n",
              "          element.appendChild(docLink);\n",
              "        }\n",
              "      </script>\n",
              "    </div>\n",
              "  </div>\n"
            ]
          },
          "metadata": {},
          "execution_count": 8
        }
      ]
    },
    {
      "cell_type": "code",
      "source": [
        "data[data['comment_text'].str.len() >=280]['comment_text'].count()"
      ],
      "metadata": {
        "colab": {
          "base_uri": "https://localhost:8080/"
        },
        "id": "cEdGZkdwZ1Do",
        "outputId": "04c518a6-39e6-45c0-e93a-558ddead6e3a"
      },
      "execution_count": 9,
      "outputs": [
        {
          "output_type": "execute_result",
          "data": {
            "text/plain": [
              "315"
            ]
          },
          "metadata": {},
          "execution_count": 9
        }
      ]
    },
    {
      "cell_type": "markdown",
      "source": [
        "## Split data"
      ],
      "metadata": {
        "id": "N06z0Zd_SDEj"
      }
    },
    {
      "cell_type": "code",
      "source": [
        "X = data['comment_text'].values #data.drop('should_ban', axis=1)\n",
        "y = data['should_ban'].values\n",
        "X_train, X_test, y_train, y_test = train_test_split(X, y, test_size=0.5, random_state=42)"
      ],
      "metadata": {
        "id": "rk7dEABDSPn5"
      },
      "execution_count": 10,
      "outputs": []
    },
    {
      "cell_type": "markdown",
      "source": [
        "## Tokenize data"
      ],
      "metadata": {
        "id": "zCBbljBwS8Mq"
      }
    },
    {
      "cell_type": "code",
      "source": [
        "tokenizer = TweetTokenizer()\n",
        "toker = lambda txt: ' '.join(tokenizer.tokenize(txt.lower()))\n",
        "display(X_test[89])\n",
        "toker(X_test[89])"
      ],
      "metadata": {
        "colab": {
          "base_uri": "https://localhost:8080/",
          "height": 54
        },
        "id": "UYhwjPsHS9Xl",
        "outputId": "97df373b-f9ea-4b36-c497-055c8b48fd81"
      },
      "execution_count": 11,
      "outputs": [
        {
          "output_type": "display_data",
          "data": {
            "text/plain": [
              "'heY TOdds! Quick Q? \\n\\nWhy Are You So Gay'"
            ],
            "application/vnd.google.colaboratory.intrinsic+json": {
              "type": "string"
            }
          },
          "metadata": {}
        },
        {
          "output_type": "execute_result",
          "data": {
            "text/plain": [
              "'hey todds ! quick q ? why are you so gay'"
            ],
            "application/vnd.google.colaboratory.intrinsic+json": {
              "type": "string"
            }
          },
          "metadata": {},
          "execution_count": 11
        }
      ]
    },
    {
      "cell_type": "code",
      "source": [
        "v_tok = np.vectorize(toker)\n",
        "texts_train = v_tok(X_train) #np.array([toker(x) for x in X_test])\n",
        "texts_test = v_tok(X_test)"
      ],
      "metadata": {
        "id": "NO3xYRg5U20R"
      },
      "execution_count": 12,
      "outputs": []
    },
    {
      "cell_type": "markdown",
      "source": [
        "### Bathe in tests"
      ],
      "metadata": {
        "id": "260sM84Vbe6j"
      }
    },
    {
      "cell_type": "code",
      "source": [
        "assert texts_train[5] ==  'who cares anymore . they attack with impunity .'\n",
        "assert texts_test[89] == 'hey todds ! quick q ? why are you so gay'\n",
        "assert len(texts_test) == len(y_test)"
      ],
      "metadata": {
        "id": "K9qZY9rjUiXu"
      },
      "execution_count": 13,
      "outputs": []
    },
    {
      "cell_type": "markdown",
      "source": [
        "## Baseline"
      ],
      "metadata": {
        "id": "RW9rP5q8Tk_6"
      }
    },
    {
      "cell_type": "code",
      "source": [
        "tfidf = TfidfVectorizer(tokenizer=tokenizer.tokenize)\n",
        "X_train_tfidf = tfidf.fit_transform(texts_train)\n",
        "X_test_tfidf = tfidf.transform(texts_test)\n",
        "\n",
        "rf = RandomForestClassifier(n_estimators=100, max_depth=7, random_state=42)\n",
        "rf.fit(X_train_tfidf, y_train)\n",
        "y_pred = rf.predict(X_test_tfidf)\n",
        "\n",
        "print('Accuracy:', accuracy_score(y_test, y_pred))\n",
        "print(classification_report(y_test, y_pred))"
      ],
      "metadata": {
        "colab": {
          "base_uri": "https://localhost:8080/"
        },
        "id": "NuuCqk8ySXm9",
        "outputId": "255b9956-b26d-4ae1-eaf1-77f7a3c8d613"
      },
      "execution_count": 14,
      "outputs": [
        {
          "output_type": "stream",
          "name": "stderr",
          "text": [
            "/usr/local/lib/python3.10/dist-packages/sklearn/feature_extraction/text.py:528: UserWarning: The parameter 'token_pattern' will not be used since 'tokenizer' is not None'\n",
            "  warnings.warn(\n"
          ]
        },
        {
          "output_type": "stream",
          "name": "stdout",
          "text": [
            "Accuracy: 0.738\n",
            "              precision    recall  f1-score   support\n",
            "\n",
            "           0       0.70      0.77      0.73       231\n",
            "           1       0.78      0.71      0.75       269\n",
            "\n",
            "    accuracy                           0.74       500\n",
            "   macro avg       0.74      0.74      0.74       500\n",
            "weighted avg       0.74      0.74      0.74       500\n",
            "\n"
          ]
        }
      ]
    },
    {
      "cell_type": "markdown",
      "source": [
        "## Write word counter over all documents"
      ],
      "metadata": {
        "id": "IH-HLBXAVUgw"
      }
    },
    {
      "cell_type": "code",
      "source": [
        "def get_freq_words(documents: np.ndarray)-> dict:\n",
        "  '''Counts the number of words in all documents. Returns a dict {word:number}'''\n",
        "  frequent_words = {}\n",
        "  for doc in documents:\n",
        "    doc = doc.split()\n",
        "    for word in doc:\n",
        "      frequent_words[word] = frequent_words.get(word, 0) +1\n",
        "  return frequent_words\n",
        "\n",
        "\n",
        "def sort_freq_words(word_freq: dict, k: int)-> list:\n",
        "  '''Returns a sorted by occurency list of words with most frequent being first'''\n",
        "  return sorted(word_freq.items(), key=lambda items: items[1], reverse=True)[:k]"
      ],
      "metadata": {
        "id": "X4I8wu7lVT4q"
      },
      "execution_count": 15,
      "outputs": []
    },
    {
      "cell_type": "code",
      "source": [
        "k = 10000\n",
        "word_frequency = get_freq_words(texts_train)\n",
        "sorted_words = sort_freq_words(word_frequency, k)\n",
        "bow_vocabulary = [token for token, n in sorted_words]\n",
        "bow_vocabulary[:10]"
      ],
      "metadata": {
        "id": "E5-STlpNYGJw",
        "outputId": "573ccb77-140b-4b5f-a45a-c92402d8e6cb",
        "colab": {
          "base_uri": "https://localhost:8080/"
        }
      },
      "execution_count": 16,
      "outputs": [
        {
          "output_type": "execute_result",
          "data": {
            "text/plain": [
              "['.', ',', 'you', 'the', '\"', 'a', 'to', 'i', 'and', '!']"
            ]
          },
          "metadata": {},
          "execution_count": 16
        }
      ]
    },
    {
      "cell_type": "markdown",
      "source": [
        "## Create Bag of Words embeddings"
      ],
      "metadata": {
        "id": "nC5ZpgkQZCy9"
      }
    },
    {
      "cell_type": "code",
      "source": [
        "def text_to_bow(text: str)-> np.ndarray:\n",
        "    \"\"\"Convert text string to an array of token counts. Use bow_vocabulary.\"\"\"\n",
        "    bow_vector = np.zeros(len(bow_vocabulary))\n",
        "    for word in text.split():\n",
        "        if word in bow_vocabulary:\n",
        "            bow_vector[bow_vocabulary.index(word)] += 1\n",
        "    return bow_vector"
      ],
      "metadata": {
        "id": "1LEGbX-DX6YF"
      },
      "execution_count": 17,
      "outputs": []
    },
    {
      "cell_type": "code",
      "source": [
        "X_train_bow = np.stack(list(map(text_to_bow, texts_train)))\n",
        "X_test_bow = np.stack(list(map(text_to_bow, texts_test)))"
      ],
      "metadata": {
        "id": "tTilOJLqZAlG"
      },
      "execution_count": 18,
      "outputs": []
    },
    {
      "cell_type": "markdown",
      "source": [
        "### Bathe in tests"
      ],
      "metadata": {
        "id": "DfQ1n2CvikQk"
      }
    },
    {
      "cell_type": "code",
      "source": [
        "k_max = len(set(' '.join(texts_train).split()))\n",
        "assert X_train_bow.shape == (len(texts_train), min(k, k_max))\n",
        "assert X_test_bow.shape == (len(texts_test), min(k, k_max))\n",
        "assert np.all(X_train_bow[5:10].sum(-1) == np.array([len(s.split()) for s in  texts_train[5:10]]))\n",
        "assert len(bow_vocabulary) <= min(k, k_max)\n",
        "assert X_train_bow[6, bow_vocabulary.index('.')] == texts_train[6].split().count('.')"
      ],
      "metadata": {
        "id": "XlvTRDDQY9B0"
      },
      "execution_count": 19,
      "outputs": []
    },
    {
      "cell_type": "markdown",
      "source": [
        "# Naive bayes"
      ],
      "metadata": {
        "id": "e6KwK0thHRqT"
      }
    },
    {
      "cell_type": "code",
      "source": [
        "class BinaryNaiveBayes:\n",
        "    delta = 1.0  # add this to all word counts to smoothe probabilities\n",
        "\n",
        "    def fit(self, X, y):\n",
        "        \"\"\"\n",
        "        Fit a NaiveBayes classifier for two classes\n",
        "        :param X: [batch_size, vocab_size] of bag-of-words features\n",
        "        :param y: [batch_size] of binary targets {0, 1}\n",
        "        \"\"\"\n",
        "        # first, compute marginal probabilities of every class, p(y=k) for k = 0,1\n",
        "        self.p_y = np.array([np.mean(y==0), np.mean(y==1)])\n",
        "\n",
        "        # count occurences of each word in texts with label 1 and label 0 separately\n",
        "        word_counts_positive = np.sum(X[y==1], axis=0)\n",
        "        word_counts_negative = np.sum(X[y==0], axis=0)\n",
        "        # ^-- both must be vectors of shape [vocab_size].\n",
        "\n",
        "        # finally, lets use those counts to estimate p(x | y = k) for k = 0, 1\n",
        "        total_positive_words = np.sum(word_counts_positive) + BinaryNaiveBayes.delta * X.shape[1]\n",
        "        total_negative_words = np.sum(word_counts_negative) + BinaryNaiveBayes.delta * X.shape[1]\n",
        "\n",
        "        self.p_x_given_positive = (word_counts_positive + BinaryNaiveBayes.delta) / total_positive_words\n",
        "        self.p_x_given_negative = (word_counts_negative + BinaryNaiveBayes.delta) / total_negative_words\n",
        "        # both must be of shape [vocab_size]; and don't forget to add self.delta!\n",
        "        print(self.p_x_given_positive.shape, self.p_x_given_negative.shape)\n",
        "        return self\n",
        "\n",
        "\n",
        "    def predict_scores(self, X):\n",
        "        \"\"\"\n",
        "        :param X: [batch_size, vocab_size] of bag-of-words features\n",
        "        :returns: a matrix of scores [batch_size, k] of scores for k-th class\n",
        "        \"\"\"\n",
        "        # compute scores for positive and negative classes separately.\n",
        "        # these scores should be proportional to log-probabilities of the respective target {0, 1}\n",
        "        # note: if you apply logarithm to p_x_given_*, the total log-probability can be written\n",
        "        # as a dot-product with X\n",
        "        score_negative = np.log(self.p_y[0]) + np.sum(np.log(self.p_x_given_negative)*X, axis=1)\n",
        "        score_positive = np.log(self.p_y[1]) + np.sum(np.log(self.p_x_given_positive)*X, axis=1)\n",
        "\n",
        "        # you can compute total p(x | y=k) with a dot product\n",
        "        return np.stack([score_negative, score_positive], axis=-1)\n",
        "\n",
        "    def predict(self, X):\n",
        "        return self.predict_scores(X).argmax(axis=-1)\n",
        "\n",
        "\n",
        "    def get_ratio(self):\n",
        "        probability_ratio = self.p_x_given_negative / self.p_x_given_positive\n",
        "        return np.argsort(probability_ratio)\n",
        "\n",
        "    def get_ratio_in_vocab(self, vocab):\n",
        "      return [self.p_x_given_negative[i] / self.p_x_given_positive[i] for i in range(len(vocab))]"
      ],
      "metadata": {
        "id": "kYF9KFfMHQYH"
      },
      "execution_count": 20,
      "outputs": []
    },
    {
      "cell_type": "code",
      "source": [
        "naive_model = BinaryNaiveBayes().fit(X_train_bow, y_train)"
      ],
      "metadata": {
        "colab": {
          "base_uri": "https://localhost:8080/"
        },
        "id": "wLK9uDIsKOHt",
        "outputId": "816a3061-3364-4246-dee0-e4bb2a02eaf2"
      },
      "execution_count": 21,
      "outputs": [
        {
          "output_type": "stream",
          "name": "stdout",
          "text": [
            "(5707,) (5707,)\n"
          ]
        }
      ]
    },
    {
      "cell_type": "markdown",
      "source": [
        "### Bathe in tests"
      ],
      "metadata": {
        "id": "mrlwvZdMdaGe"
      }
    },
    {
      "cell_type": "code",
      "source": [
        "assert naive_model.p_y.shape == (2,) and naive_model.p_y.sum() == 1 and naive_model.p_y[0] > naive_model.p_y[1]\n",
        "assert naive_model.p_x_given_positive.shape == naive_model.p_x_given_negative.shape == X_train_bow.shape[1:]\n",
        "assert np.allclose(naive_model.p_x_given_positive.sum(), 1.0)\n",
        "assert np.allclose(naive_model.p_x_given_negative.sum(), 1.0)\n",
        "assert naive_model.p_x_given_negative.min() > 0, \"did you forget to add delta?\"\n",
        "\n",
        "f_index = bow_vocabulary.index('fuck')  # offensive tweets should contain more of this\n",
        "assert naive_model.p_x_given_positive[f_index] > naive_model.p_x_given_negative[f_index]\n",
        "\n",
        "g_index = bow_vocabulary.index('good')  # offensive tweets should contain less of this\n",
        "assert naive_model.p_x_given_positive[g_index] < naive_model.p_x_given_negative[g_index]"
      ],
      "metadata": {
        "id": "gwalzfICKQym"
      },
      "execution_count": 22,
      "outputs": []
    },
    {
      "cell_type": "code",
      "source": [
        "for name, X, y, model in [\n",
        "    ('train', X_train_bow, y_train, naive_model),\n",
        "    ('test ', X_test_bow, y_test, naive_model)\n",
        "]:\n",
        "    proba = model.predict_scores(X)[:, 1] - model.predict_scores(X)[:, 0]\n",
        "    auc = roc_auc_score(y, proba)\n",
        "    plt.plot(*roc_curve(y, proba)[:2], label='%s AUC=%.4f' % (name, auc))\n",
        "\n",
        "plt.plot([0, 1], [0, 1], '--', color='black',)\n",
        "plt.legend(fontsize='large')\n",
        "plt.grid()\n",
        "\n",
        "test_accuracy = np.mean(naive_model.predict(X_test_bow) == y_test)\n",
        "print(f\"Model accuracy: {test_accuracy:.3f}\")\n",
        "assert test_accuracy > 0.75, \"Accuracy too low. There's likely a mistake in the code.\"\n",
        "print(\"Well done!\")"
      ],
      "metadata": {
        "id": "sQXmMd9pYz8M",
        "outputId": "31152906-68c3-402b-afa7-1e8825412fec",
        "colab": {
          "base_uri": "https://localhost:8080/",
          "height": 465
        }
      },
      "execution_count": 23,
      "outputs": [
        {
          "output_type": "stream",
          "name": "stdout",
          "text": [
            "Model accuracy: 0.756\n",
            "Well done!\n"
          ]
        },
        {
          "output_type": "display_data",
          "data": {
            "text/plain": [
              "<Figure size 640x480 with 1 Axes>"
            ],
            "image/png": "[encoded data removed]"
          },
          "metadata": {}
        }
      ]
    },
    {
      "cell_type": "code",
      "source": [
        "# hint: use naive_model.p_*\n",
        "probability_ratio = naive_model.get_ratio() #<YOUR CODE: compute the ratio as defined above, must be a vector of [vocab_size]>\n",
        "top_negative_words = [bow_vocabulary[i] for i in probability_ratio[:25]] #<YOUR CODE: find 25 words with highest probability_ratio, return list of str>\n"
      ],
      "metadata": {
        "id": "BDclpNsNPsMo"
      },
      "execution_count": 24,
      "outputs": []
    },
    {
      "cell_type": "code",
      "source": [
        "assert len(top_negative_words) == 25 and [isinstance(w, str) for w in top_negative_words]\n",
        "assert 'j.delanoy' in top_negative_words and 'college' in top_negative_words\n",
        "\n",
        "for i, word in enumerate(top_negative_words):\n",
        "    print(f\"#{i}\\t{word.rjust(10, ' ')}\\t(ratio={probability_ratio[bow_vocabulary.index(word)]})\")"
      ],
      "metadata": {
        "id": "EwhqhaurHhxK",
        "outputId": "398f730f-acd9-4947-c096-971befcb8e0d",
        "colab": {
          "base_uri": "https://localhost:8080/"
        }
      },
      "execution_count": 25,
      "outputs": [
        {
          "output_type": "stream",
          "name": "stdout",
          "text": [
            "#0\t    hitler\t(ratio=337)\n",
            "#1\t      heil\t(ratio=333)\n",
            "#2\t   offfuck\t(ratio=380)\n",
            "#3\t      suck\t(ratio=208)\n",
            "#4\t    nigger\t(ratio=717)\n",
            "#5\t j.delanoy\t(ratio=686)\n",
            "#6\t      dick\t(ratio=766)\n",
            "#7\t      fggt\t(ratio=295)\n",
            "#8\t     bitch\t(ratio=1354)\n",
            "#9\t      fuck\t(ratio=1340)\n",
            "#10\t      slap\t(ratio=1791)\n",
            "#11\t      shit\t(ratio=1796)\n",
            "#12\t   fucking\t(ratio=1588)\n",
            "#13\t       ass\t(ratio=1604)\n",
            "#14\t    stupid\t(ratio=2318)\n",
            "#15\t         =\t(ratio=181)\n",
            "#16\t   college\t(ratio=836)\n",
            "#17\t         *\t(ratio=776)\n",
            "#18\t   asshole\t(ratio=787)\n",
            "#19\t         u\t(ratio=1593)\n",
            "#20\t   bastard\t(ratio=3239)\n",
            "#21\t       hit\t(ratio=3543)\n",
            "#22\t     idiot\t(ratio=3459)\n",
            "#23\t         @\t(ratio=3394)\n",
            "#24\tscientific\t(ratio=2379)\n"
          ]
        }
      ]
    },
    {
      "cell_type": "code",
      "source": [
        "bow_vocabulary[337]"
      ],
      "metadata": {
        "id": "BfihQMpfZ_go",
        "outputId": "ab049ed1-b085-4324-fd09-70d5bce5e971",
        "colab": {
          "base_uri": "https://localhost:8080/",
          "height": 35
        }
      },
      "execution_count": 26,
      "outputs": [
        {
          "output_type": "execute_result",
          "data": {
            "text/plain": [
              "'college'"
            ],
            "application/vnd.google.colaboratory.intrinsic+json": {
              "type": "string"
            }
          },
          "metadata": {},
          "execution_count": 26
        }
      ]
    },
    {
      "cell_type": "markdown",
      "source": [
        "#### The output words are right, but something seems wrong with the ratio interpretation"
      ],
      "metadata": {
        "id": "oB9mypSZVi1v"
      }
    },
    {
      "cell_type": "code",
      "source": [
        "n_word = lambda n: bow_vocabulary[probability_ratio[n]]\n",
        "n_score = lambda n: naive_model.p_x_given_negative[probability_ratio[n]] / naive_model.p_x_given_positive[probability_ratio[n]]\n",
        "print(f'{n_word(0)}: {n_score(0)}')"
      ],
      "metadata": {
        "id": "MLGEwXrRanS_",
        "outputId": "77545ad4-ae15-4602-e509-54118e7ca246",
        "colab": {
          "base_uri": "https://localhost:8080/"
        }
      },
      "execution_count": 27,
      "outputs": [
        {
          "output_type": "stream",
          "name": "stdout",
          "text": [
            "hitler: 0.0021031669981914822\n"
          ]
        }
      ]
    },
    {
      "cell_type": "code",
      "source": [
        "for i in range(len(top_negative_words)):\n",
        "  print(f'{i+1}: {n_word(i)} {round(n_score(i),5)}')\n"
      ],
      "metadata": {
        "id": "sVOu5CfnbgrG",
        "outputId": "3c4a73eb-5d91-4438-9f13-16e6915f84df",
        "colab": {
          "base_uri": "https://localhost:8080/"
        }
      },
      "execution_count": 28,
      "outputs": [
        {
          "output_type": "stream",
          "name": "stdout",
          "text": [
            "1: hitler 0.0021\n",
            "2: heil 0.00212\n",
            "3: offfuck 0.00227\n",
            "4: suck 0.00318\n",
            "5: nigger 0.00447\n",
            "6: j.delanoy 0.00455\n",
            "7: dick 0.00535\n",
            "8: fggt 0.01023\n",
            "9: bitch 0.0167\n",
            "10: fuck 0.01859\n",
            "11: slap 0.02273\n",
            "12: shit 0.02273\n",
            "13: fucking 0.03147\n",
            "14: ass 0.03719\n",
            "15: stupid 0.05454\n",
            "16: = 0.05701\n",
            "17: college 0.05844\n",
            "18: * 0.05844\n",
            "19: asshole 0.06293\n",
            "20: u 0.06545\n",
            "21: bastard 0.06818\n",
            "22: hit 0.06818\n",
            "23: idiot 0.07438\n",
            "24: @ 0.07438\n",
            "25: scientific 0.08181\n"
          ]
        }
      ]
    },
    {
      "cell_type": "markdown",
      "source": [
        "But since we are not allowed to change the test part let's consider the following code"
      ],
      "metadata": {
        "id": "SlyshsZkbdte"
      }
    },
    {
      "cell_type": "code",
      "source": [
        "from functools import cmp_to_key\n",
        "\n",
        "inverted_bow = {word: idx for idx, word in enumerate(bow_vocabulary)}\n",
        "proba_ratio = naive_model.get_ratio_in_vocab(bow_vocabulary)\n",
        "top_neg_w = [w for w, idx in sorted(inverted_bow.items(), key=cmp_to_key(lambda i1, i2: proba_ratio[i1[1]]-proba_ratio[i2[1]]))][:25]"
      ],
      "metadata": {
        "id": "L0QSbzR1VqDX"
      },
      "execution_count": 29,
      "outputs": []
    },
    {
      "cell_type": "code",
      "source": [
        "assert len(top_neg_w) == 25 and [isinstance(w, str) for w in top_neg_w]\n",
        "assert 'j.delanoy' in top_neg_w and 'college' in top_neg_w\n",
        "\n",
        "for i, word in enumerate(top_neg_w):\n",
        "    print(f\"#{i}\\t{word.rjust(10, ' ')}\\t(ratio={proba_ratio[bow_vocabulary.index(word)]})\")"
      ],
      "metadata": {
        "id": "3WK3YkFYWiVX",
        "outputId": "11945d0b-6fae-4560-ee5f-4af62b9feb72",
        "colab": {
          "base_uri": "https://localhost:8080/"
        }
      },
      "execution_count": 30,
      "outputs": [
        {
          "output_type": "stream",
          "name": "stdout",
          "text": [
            "#0\t    hitler\t(ratio=0.0021031669981914822)\n",
            "#1\t      heil\t(ratio=0.00211951285569038)\n",
            "#2\t   offfuck\t(ratio=0.002266293524366999)\n",
            "#3\t      suck\t(ratio=0.003177211504064026)\n",
            "#4\t    nigger\t(ratio=0.004470666460636539)\n",
            "#5\t j.delanoy\t(ratio=0.004545177568313815)\n",
            "#6\t      dick\t(ratio=0.005347267727428018)\n",
            "#7\t      fggt\t(ratio=0.010226649528706083)\n",
            "#8\t     bitch\t(ratio=0.016696570659111974)\n",
            "#9\t      fuck\t(ratio=0.01859390823401106)\n",
            "#10\t      shit\t(ratio=0.022725887841569075)\n",
            "#11\t      slap\t(ratio=0.022725887841569075)\n",
            "#12\t   fucking\t(ratio=0.031466613934480255)\n",
            "#13\t       ass\t(ratio=0.03718781646802212)\n",
            "#14\t    stupid\t(ratio=0.05454213081976578)\n",
            "#15\t         =\t(ratio=0.05701268029940674)\n",
            "#16\t         *\t(ratio=0.05843799730689191)\n",
            "#17\t   college\t(ratio=0.05843799730689191)\n",
            "#18\t   asshole\t(ratio=0.06293322786896051)\n",
            "#19\t         u\t(ratio=0.06545055698371893)\n",
            "#20\t   bastard\t(ratio=0.06817766352470722)\n",
            "#21\t       hit\t(ratio=0.06817766352470722)\n",
            "#22\t     idiot\t(ratio=0.07437563293604424)\n",
            "#23\t         @\t(ratio=0.07437563293604424)\n",
            "#24\t beautiful\t(ratio=0.08181319622964867)\n"
          ]
        }
      ]
    },
    {
      "cell_type": "markdown",
      "source": [
        "### Apply logistics regression"
      ],
      "metadata": {
        "id": "HjL5_r4KRDfk"
      }
    },
    {
      "cell_type": "code",
      "source": [
        "bow_model = LogisticRegression(C=0.2)\n",
        "bow_model.fit(X_train_bow, y_train)"
      ],
      "metadata": {
        "colab": {
          "base_uri": "https://localhost:8080/",
          "height": 74
        },
        "id": "VAmCU83FUe1L",
        "outputId": "5c2b0b0b-dd9a-4531-cf1c-9e4013d674e1"
      },
      "execution_count": 31,
      "outputs": [
        {
          "output_type": "execute_result",
          "data": {
            "text/plain": [
              "LogisticRegression(C=0.2)"
            ],
            "text/html": [
              "<style>#sk-container-id-1 {color: black;background-color: white;}#sk-container-id-1 pre{padding: 0;}#sk-container-id-1 div.sk-toggleable {background-color: white;}#sk-container-id-1 label.sk-toggleable__label {cursor: pointer;display: block;width: 100%;margin-bottom: 0;padding: 0.3em;box-sizing: border-box;text-align: center;}#sk-container-id-1 label.sk-toggleable__label-arrow:before {content: \"▸\";float: left;margin-right: 0.25em;color: #696969;}#sk-container-id-1 label.sk-toggleable__label-arrow:hover:before {color: black;}#sk-container-id-1 div.sk-estimator:hover label.sk-toggleable__label-arrow:before {color: black;}#sk-container-id-1 div.sk-toggleable__content {max-height: 0;max-width: 0;overflow: hidden;text-align: left;background-color: #f0f8ff;}#sk-container-id-1 div.sk-toggleable__content pre {margin: 0.2em;color: black;border-radius: 0.25em;background-color: #f0f8ff;}#sk-container-id-1 input.sk-toggleable__control:checked~div.sk-toggleable__content {max-height: 200px;max-width: 100%;overflow: auto;}#sk-container-id-1 input.sk-toggleable__control:checked~label.sk-toggleable__label-arrow:before {content: \"▾\";}#sk-container-id-1 div.sk-estimator input.sk-toggleable__control:checked~label.sk-toggleable__label {background-color: #d4ebff;}#sk-container-id-1 div.sk-label input.sk-toggleable__control:checked~label.sk-toggleable__label {background-color: #d4ebff;}#sk-container-id-1 input.sk-hidden--visually {border: 0;clip: rect(1px 1px 1px 1px);clip: rect(1px, 1px, 1px, 1px);height: 1px;margin: -1px;overflow: hidden;padding: 0;position: absolute;width: 1px;}#sk-container-id-1 div.sk-estimator {font-family: monospace;background-color: #f0f8ff;border: 1px dotted black;border-radius: 0.25em;box-sizing: border-box;margin-bottom: 0.5em;}#sk-container-id-1 div.sk-estimator:hover {background-color: #d4ebff;}#sk-container-id-1 div.sk-parallel-item::after {content: \"\";width: 100%;border-bottom: 1px solid gray;flex-grow: 1;}#sk-container-id-1 div.sk-label:hover label.sk-toggleable__label {background-color: #d4ebff;}#sk-container-id-1 div.sk-serial::before {content: \"\";position: absolute;border-left: 1px solid gray;box-sizing: border-box;top: 0;bottom: 0;left: 50%;z-index: 0;}#sk-container-id-1 div.sk-serial {display: flex;flex-direction: column;align-items: center;background-color: white;padding-right: 0.2em;padding-left: 0.2em;position: relative;}#sk-container-id-1 div.sk-item {position: relative;z-index: 1;}#sk-container-id-1 div.sk-parallel {display: flex;align-items: stretch;justify-content: center;background-color: white;position: relative;}#sk-container-id-1 div.sk-item::before, #sk-container-id-1 div.sk-parallel-item::before {content: \"\";position: absolute;border-left: 1px solid gray;box-sizing: border-box;top: 0;bottom: 0;left: 50%;z-index: -1;}#sk-container-id-1 div.sk-parallel-item {display: flex;flex-direction: column;z-index: 1;position: relative;background-color: white;}#sk-container-id-1 div.sk-parallel-item:first-child::after {align-self: flex-end;width: 50%;}#sk-container-id-1 div.sk-parallel-item:last-child::after {align-self: flex-start;width: 50%;}#sk-container-id-1 div.sk-parallel-item:only-child::after {width: 0;}#sk-container-id-1 div.sk-dashed-wrapped {border: 1px dashed gray;margin: 0 0.4em 0.5em 0.4em;box-sizing: border-box;padding-bottom: 0.4em;background-color: white;}#sk-container-id-1 div.sk-label label {font-family: monospace;font-weight: bold;display: inline-block;line-height: 1.2em;}#sk-container-id-1 div.sk-label-container {text-align: center;}#sk-container-id-1 div.sk-container {/* jupyter's `normalize.less` sets `[hidden] { display: none; }` but bootstrap.min.css set `[hidden] { display: none !important; }` so we also need the `!important` here to be able to override the default hidden behavior on the sphinx rendered scikit-learn.org. See: https://github.com/scikit-learn/scikit-learn/issues/21755 */display: inline-block !important;position: relative;}#sk-container-id-1 div.sk-text-repr-fallback {display: none;}</style><div id=\"sk-container-id-1\" class=\"sk-top-container\"><div class=\"sk-text-repr-fallback\"><pre>LogisticRegression(C=0.2)</pre><b>In a Jupyter environment, please rerun this cell to show the HTML representation or trust the notebook. <br />On GitHub, the HTML representation is unable to render, please try loading this page with nbviewer.org.</b></div><div class=\"sk-container\" hidden><div class=\"sk-item\"><div class=\"sk-estimator sk-toggleable\"><input class=\"sk-toggleable__control sk-hidden--visually\" id=\"sk-estimator-id-1\" type=\"checkbox\" checked><label for=\"sk-estimator-id-1\" class=\"sk-toggleable__label sk-toggleable__label-arrow\">LogisticRegression</label><div class=\"sk-toggleable__content\"><pre>LogisticRegression(C=0.2)</pre></div></div></div></div></div>"
            ]
          },
          "metadata": {},
          "execution_count": 31
        }
      ]
    },
    {
      "cell_type": "code",
      "source": [
        "for name, X, y, model in [\n",
        "    ('train', X_train_bow, y_train, bow_model),\n",
        "    ('test', X_test_bow, y_test, bow_model)\n",
        "]:\n",
        "    proba = model.predict_proba(X)[:,1]\n",
        "    auc = roc_auc_score(y, proba)\n",
        "    plt.plot(*roc_curve(y, proba)[:2], label=f'{name} AUC={round(auc,4)}') # roc_curve(n)[:2] outputs [FP, TP].\n",
        "    #area under ROC y=TP/(TP+FN), x=FP/(FP+TN)\n",
        "\n",
        "plt.plot([0, 1], [0, 1], '--', color='black',)\n",
        "plt.legend(fontsize='large')\n",
        "plt.grid()\n",
        "\n",
        "test_accuracy = np.mean(bow_model.predict(X_test_bow) == y_test)\n",
        "print(f\"Model accuracy: {test_accuracy:.3f}\")\n",
        "assert test_accuracy > 0.77, \"Hint: tune the parameter C to improve performance\"\n",
        "print(\"Well done!\")"
      ],
      "metadata": {
        "colab": {
          "base_uri": "https://localhost:8080/",
          "height": 465
        },
        "id": "69G2FXzCQTl9",
        "outputId": "b745d61b-7448-43d4-9a33-25eec10cb385"
      },
      "execution_count": 32,
      "outputs": [
        {
          "output_type": "stream",
          "name": "stdout",
          "text": [
            "Model accuracy: 0.772\n",
            "Well done!\n"
          ]
        },
        {
          "output_type": "display_data",
          "data": {
            "text/plain": [
              "<Figure size 640x480 with 1 Axes>"
            ],
            "image/png": "[encoded data removed]"
          },
          "metadata": {}
        }
      ]
    },
    {
      "cell_type": "markdown",
      "source": [
        "# custom TF-IDF"
      ],
      "metadata": {
        "id": "0sjoypFaaO2K"
      }
    },
    {
      "cell_type": "code",
      "source": [
        "def word2dic(d: dict, word: str)-> dict:\n",
        "  '''Increments value by 1\n",
        "    Args:\n",
        "          d (dict): Tictionary to update\n",
        "          word (str): word to increment the value for\n",
        "    Returns:\n",
        "            a dict with incremented value\n",
        "    '''\n",
        "  if word in d:\n",
        "    d[word] += 1\n",
        "  else:\n",
        "    d[word] = 1\n",
        "  return d"
      ],
      "metadata": {
        "id": "HkyxysWeceC2"
      },
      "execution_count": 33,
      "outputs": []
    },
    {
      "cell_type": "code",
      "source": [
        "def sorted_df(df:dict)->pd.DataFrame:\n",
        "  '''Sorts values in dict and returns as pandas DataFrame'''\n",
        "  dfdf = pd.DataFrame(sorted(df.items(), key=lambda item: item[1], reverse=True), columns=['Word', 'Frequency'])\n",
        "  dfdf.set_index('Word',inplace=True)\n",
        "  return dfdf"
      ],
      "metadata": {
        "id": "VERXvwUqgxCW"
      },
      "execution_count": 34,
      "outputs": []
    },
    {
      "cell_type": "markdown",
      "source": [
        "#### Term frequency"
      ],
      "metadata": {
        "id": "9xvngm1XbdUQ"
      }
    },
    {
      "cell_type": "markdown",
      "source": [
        "How often does a word appear in it's document (for every document)"
      ],
      "metadata": {
        "id": "HQXZLVTQbfZF"
      }
    },
    {
      "cell_type": "code",
      "source": [
        "def word_in_doc_num(doc: str) -> dict:\n",
        "  '''For each word counts how frequent is it among the document'''\n",
        "  doc_tf = {}\n",
        "  for word in doc.split():\n",
        "    doc_tf = word2dic(doc_tf, word)\n",
        "  return doc_tf"
      ],
      "metadata": {
        "id": "tIb2fCJudufk"
      },
      "execution_count": 35,
      "outputs": []
    },
    {
      "cell_type": "code",
      "source": [
        "def term_freq(docs: str):\n",
        "  '''How often does the word appear in the document. For each document'''\n",
        "  tf = []\n",
        "  for doc in docs:\n",
        "    doc_tf = word_in_doc_num(doc)\n",
        "    tf.append(doc_tf)\n",
        "  return tf"
      ],
      "metadata": {
        "id": "xbiZsaBIbzDw"
      },
      "execution_count": 36,
      "outputs": []
    },
    {
      "cell_type": "markdown",
      "source": [
        "Create tf instance"
      ],
      "metadata": {
        "id": "uMpJcP7KiTT6"
      }
    },
    {
      "cell_type": "code",
      "source": [
        "tf = term_freq(texts_train)"
      ],
      "metadata": {
        "id": "aZAGoRVBiSad"
      },
      "execution_count": 37,
      "outputs": []
    },
    {
      "cell_type": "markdown",
      "source": [
        "#### Document Frequency"
      ],
      "metadata": {
        "id": "bAZg-T0_aRTH"
      }
    },
    {
      "cell_type": "markdown",
      "source": [
        "How often does the word appear across **ALL** documents"
      ],
      "metadata": {
        "id": "hyinu8_HfkJB"
      }
    },
    {
      "cell_type": "code",
      "source": [
        "def doc_freq(tf: list)-> dict:\n",
        "  '''For every word in every document count how often does it appear in ALL documents'''\n",
        "  df = {}\n",
        "  for doc in tf:\n",
        "    for word in doc.keys():\n",
        "      df = word2dic(df, word)\n",
        "  return df"
      ],
      "metadata": {
        "id": "cdVlENAufFM2"
      },
      "execution_count": 38,
      "outputs": []
    },
    {
      "cell_type": "markdown",
      "source": [
        "Create df instance"
      ],
      "metadata": {
        "id": "ahvfxg_EiOxS"
      }
    },
    {
      "cell_type": "code",
      "source": [
        "df = doc_freq(tf)"
      ],
      "metadata": {
        "id": "wjvfo5pQiXRR"
      },
      "execution_count": 39,
      "outputs": []
    },
    {
      "cell_type": "code",
      "source": [
        "sorted_df(df)"
      ],
      "metadata": {
        "colab": {
          "base_uri": "https://localhost:8080/",
          "height": 455
        },
        "id": "lGa7TvIDm24G",
        "outputId": "956bd690-f794-437f-d7ae-049b06cd6a58"
      },
      "execution_count": 40,
      "outputs": [
        {
          "output_type": "execute_result",
          "data": {
            "text/plain": [
              "            Frequency\n",
              "Word                 \n",
              ".                 384\n",
              ",                 290\n",
              "the               288\n",
              "to                253\n",
              "you               251\n",
              "...               ...\n",
              "fewer               1\n",
              "od                  1\n",
              "slap                1\n",
              "moderators          1\n",
              "hahahaha            1\n",
              "\n",
              "[5707 rows x 1 columns]"
            ],
            "text/html": [
              "\n",
              "\n",
              "  <div id=\"df-84e97507-000a-43cf-8396-3165ce36a59c\">\n",
              "    <div class=\"colab-df-container\">\n",
              "      <div>\n",
              "<style scoped>\n",
              "    .dataframe tbody tr th:only-of-type {\n",
              "        vertical-align: middle;\n",
              "    }\n",
              "\n",
              "    .dataframe tbody tr th {\n",
              "        vertical-align: top;\n",
              "    }\n",
              "\n",
              "    .dataframe thead th {\n",
              "        text-align: right;\n",
              "    }\n",
              "</style>\n",
              "<table border=\"1\" class=\"dataframe\">\n",
              "  <thead>\n",
              "    <tr style=\"text-align: right;\">\n",
              "      <th></th>\n",
              "      <th>Frequency</th>\n",
              "    </tr>\n",
              "    <tr>\n",
              "      <th>Word</th>\n",
              "      <th></th>\n",
              "    </tr>\n",
              "  </thead>\n",
              "  <tbody>\n",
              "    <tr>\n",
              "      <th>.</th>\n",
              "      <td>384</td>\n",
              "    </tr>\n",
              "    <tr>\n",
              "      <th>,</th>\n",
              "      <td>290</td>\n",
              "    </tr>\n",
              "    <tr>\n",
              "      <th>the</th>\n",
              "      <td>288</td>\n",
              "    </tr>\n",
              "    <tr>\n",
              "      <th>to</th>\n",
              "      <td>253</td>\n",
              "    </tr>\n",
              "    <tr>\n",
              "      <th>you</th>\n",
              "      <td>251</td>\n",
              "    </tr>\n",
              "    <tr>\n",
              "      <th>...</th>\n",
              "      <td>...</td>\n",
              "    </tr>\n",
              "    <tr>\n",
              "      <th>fewer</th>\n",
              "      <td>1</td>\n",
              "    </tr>\n",
              "    <tr>\n",
              "      <th>od</th>\n",
              "      <td>1</td>\n",
              "    </tr>\n",
              "    <tr>\n",
              "      <th>slap</th>\n",
              "      <td>1</td>\n",
              "    </tr>\n",
              "    <tr>\n",
              "      <th>moderators</th>\n",
              "      <td>1</td>\n",
              "    </tr>\n",
              "    <tr>\n",
              "      <th>hahahaha</th>\n",
              "      <td>1</td>\n",
              "    </tr>\n",
              "  </tbody>\n",
              "</table>\n",
              "<p>5707 rows × 1 columns</p>\n",
              "</div>\n",
              "      <button class=\"colab-df-convert\" onclick=\"convertToInteractive('df-84e97507-000a-43cf-8396-3165ce36a59c')\"\n",
              "              title=\"Convert this dataframe to an interactive table.\"\n",
              "              style=\"display:none;\">\n",
              "\n",
              "  <svg xmlns=\"http://www.w3.org/2000/svg\" height=\"24px\"viewBox=\"0 0 24 24\"\n",
              "       width=\"24px\">\n",
              "    <path d=\"M0 0h24v24H0V0z\" fill=\"none\"/>\n",
              "    <path d=\"M18.56 5.44l.94 2.06.94-2.06 2.06-.94-2.06-.94-.94-2.06-.94 2.06-2.06.94zm-11 1L8.5 8.5l.94-2.06 2.06-.94-2.06-.94L8.5 2.5l-.94 2.06-2.06.94zm10 10l.94 2.06.94-2.06 2.06-.94-2.06-.94-.94-2.06-.94 2.06-2.06.94z\"/><path d=\"M17.41 7.96l-1.37-1.37c-.4-.4-.92-.59-1.43-.59-.52 0-1.04.2-1.43.59L10.3 9.45l-7.72 7.72c-.78.78-.78 2.05 0 2.83L4 21.41c.39.39.9.59 1.41.59.51 0 1.02-.2 1.41-.59l7.78-7.78 2.81-2.81c.8-.78.8-2.07 0-2.86zM5.41 20L4 18.59l7.72-7.72 1.47 1.35L5.41 20z\"/>\n",
              "  </svg>\n",
              "      </button>\n",
              "\n",
              "\n",
              "\n",
              "    <div id=\"df-5b9e1ad3-702b-4472-af73-f4b7b252a5b8\">\n",
              "      <button class=\"colab-df-quickchart\" onclick=\"quickchart('df-5b9e1ad3-702b-4472-af73-f4b7b252a5b8')\"\n",
              "              title=\"Suggest charts.\"\n",
              "              style=\"display:none;\">\n",
              "\n",
              "<svg xmlns=\"http://www.w3.org/2000/svg\" height=\"24px\"viewBox=\"0 0 24 24\"\n",
              "     width=\"24px\">\n",
              "    <g>\n",
              "        <path d=\"M19 3H5c-1.1 0-2 .9-2 2v14c0 1.1.9 2 2 2h14c1.1 0 2-.9 2-2V5c0-1.1-.9-2-2-2zM9 17H7v-7h2v7zm4 0h-2V7h2v10zm4 0h-2v-4h2v4z\"/>\n",
              "    </g>\n",
              "</svg>\n",
              "      </button>\n",
              "    </div>\n",
              "\n",
              "<style>\n",
              "  .colab-df-quickchart {\n",
              "    background-color: #E8F0FE;\n",
              "    border: none;\n",
              "    border-radius: 50%;\n",
              "    cursor: pointer;\n",
              "    display: none;\n",
              "    fill: #1967D2;\n",
              "    height: 32px;\n",
              "    padding: 0 0 0 0;\n",
              "    width: 32px;\n",
              "  }\n",
              "\n",
              "  .colab-df-quickchart:hover {\n",
              "    background-color: #E2EBFA;\n",
              "    box-shadow: 0px 1px 2px rgba(60, 64, 67, 0.3), 0px 1px 3px 1px rgba(60, 64, 67, 0.15);\n",
              "    fill: #174EA6;\n",
              "  }\n",
              "\n",
              "  [theme=dark] .colab-df-quickchart {\n",
              "    background-color: #3B4455;\n",
              "    fill: #D2E3FC;\n",
              "  }\n",
              "\n",
              "  [theme=dark] .colab-df-quickchart:hover {\n",
              "    background-color: #434B5C;\n",
              "    box-shadow: 0px 1px 3px 1px rgba(0, 0, 0, 0.15);\n",
              "    filter: drop-shadow(0px 1px 2px rgba(0, 0, 0, 0.3));\n",
              "    fill: #FFFFFF;\n",
              "  }\n",
              "</style>\n",
              "\n",
              "    <script>\n",
              "      async function quickchart(key) {\n",
              "        const containerElement = document.querySelector('#' + key);\n",
              "        const charts = await google.colab.kernel.invokeFunction(\n",
              "            'suggestCharts', [key], {});\n",
              "      }\n",
              "    </script>\n",
              "\n",
              "      <script>\n",
              "\n",
              "function displayQuickchartButton(domScope) {\n",
              "  let quickchartButtonEl =\n",
              "    domScope.querySelector('#df-5b9e1ad3-702b-4472-af73-f4b7b252a5b8 button.colab-df-quickchart');\n",
              "  quickchartButtonEl.style.display =\n",
              "    google.colab.kernel.accessAllowed ? 'block' : 'none';\n",
              "}\n",
              "\n",
              "        displayQuickchartButton(document);\n",
              "      </script>\n",
              "      <style>\n",
              "    .colab-df-container {\n",
              "      display:flex;\n",
              "      flex-wrap:wrap;\n",
              "      gap: 12px;\n",
              "    }\n",
              "\n",
              "    .colab-df-convert {\n",
              "      background-color: #E8F0FE;\n",
              "      border: none;\n",
              "      border-radius: 50%;\n",
              "      cursor: pointer;\n",
              "      display: none;\n",
              "      fill: #1967D2;\n",
              "      height: 32px;\n",
              "      padding: 0 0 0 0;\n",
              "      width: 32px;\n",
              "    }\n",
              "\n",
              "    .colab-df-convert:hover {\n",
              "      background-color: #E2EBFA;\n",
              "      box-shadow: 0px 1px 2px rgba(60, 64, 67, 0.3), 0px 1px 3px 1px rgba(60, 64, 67, 0.15);\n",
              "      fill: #174EA6;\n",
              "    }\n",
              "\n",
              "    [theme=dark] .colab-df-convert {\n",
              "      background-color: #3B4455;\n",
              "      fill: #D2E3FC;\n",
              "    }\n",
              "\n",
              "    [theme=dark] .colab-df-convert:hover {\n",
              "      background-color: #434B5C;\n",
              "      box-shadow: 0px 1px 3px 1px rgba(0, 0, 0, 0.15);\n",
              "      filter: drop-shadow(0px 1px 2px rgba(0, 0, 0, 0.3));\n",
              "      fill: #FFFFFF;\n",
              "    }\n",
              "  </style>\n",
              "\n",
              "      <script>\n",
              "        const buttonEl =\n",
              "          document.querySelector('#df-84e97507-000a-43cf-8396-3165ce36a59c button.colab-df-convert');\n",
              "        buttonEl.style.display =\n",
              "          google.colab.kernel.accessAllowed ? 'block' : 'none';\n",
              "\n",
              "        async function convertToInteractive(key) {\n",
              "          const element = document.querySelector('#df-84e97507-000a-43cf-8396-3165ce36a59c');\n",
              "          const dataTable =\n",
              "            await google.colab.kernel.invokeFunction('convertToInteractive',\n",
              "                                                     [key], {});\n",
              "          if (!dataTable) return;\n",
              "\n",
              "          const docLinkHtml = 'Like what you see? Visit the ' +\n",
              "            '<a target=\"_blank\" href=https://colab.research.google.com/notebooks/data_table.ipynb>data table notebook</a>'\n",
              "            + ' to learn more about interactive tables.';\n",
              "          element.innerHTML = '';\n",
              "          dataTable['output_type'] = 'display_data';\n",
              "          await google.colab.output.renderOutput(dataTable, element);\n",
              "          const docLink = document.createElement('div');\n",
              "          docLink.innerHTML = docLinkHtml;\n",
              "          element.appendChild(docLink);\n",
              "        }\n",
              "      </script>\n",
              "    </div>\n",
              "  </div>\n"
            ]
          },
          "metadata": {},
          "execution_count": 40
        }
      ]
    },
    {
      "cell_type": "markdown",
      "source": [
        "#### Inverse document frequency"
      ],
      "metadata": {
        "id": "f-06ctAAiWy5"
      }
    },
    {
      "cell_type": "markdown",
      "source": [
        "Quantify the rarity of the each word across the documents. Emphasizing uncommon terms more."
      ],
      "metadata": {
        "id": "oRw5_LoGjdwq"
      }
    },
    {
      "cell_type": "code",
      "source": [
        "def inv_doc_freq(docs_num: int, df: dict)-> dict:\n",
        "  '''Takes log of (all docs amount / word frequency among all docs) '''\n",
        "  idf = {}\n",
        "  for word, freq in df.items():\n",
        "    idf[word] = np.log((1+docs_num) / (freq+1)) + 1 #+1 to avoid neg vals\n",
        "  return idf"
      ],
      "metadata": {
        "id": "hNoHTnsMiqFP"
      },
      "execution_count": 41,
      "outputs": []
    },
    {
      "cell_type": "markdown",
      "source": [
        "Create inverse document frequency instance"
      ],
      "metadata": {
        "id": "kZ8kab59nTMH"
      }
    },
    {
      "cell_type": "code",
      "source": [
        "idf = inv_doc_freq(len(texts_train), df)"
      ],
      "metadata": {
        "id": "SqSdvDO6mQGp"
      },
      "execution_count": 42,
      "outputs": []
    },
    {
      "cell_type": "code",
      "source": [
        "sorted_df(idf)\n",
        "#top values are the rarest"
      ],
      "metadata": {
        "colab": {
          "base_uri": "https://localhost:8080/",
          "height": 455
        },
        "id": "FP5ZJMEem6YJ",
        "outputId": "eb817237-acf1-4493-e0e3-b8e8dfea7560"
      },
      "execution_count": 43,
      "outputs": [
        {
          "output_type": "execute_result",
          "data": {
            "text/plain": [
              "         Frequency\n",
              "Word              \n",
              "watches   6.523459\n",
              "mytalk    6.523459\n",
              "easier    6.523459\n",
              "suppose   6.523459\n",
              "88        6.523459\n",
              "...            ...\n",
              "you       1.687177\n",
              "to        1.679272\n",
              "the       1.550179\n",
              ",         1.543283\n",
              ".         1.263363\n",
              "\n",
              "[5707 rows x 1 columns]"
            ],
            "text/html": [
              "\n",
              "\n",
              "  <div id=\"df-9c292177-05a7-47f2-a0a4-953b917c72dd\">\n",
              "    <div class=\"colab-df-container\">\n",
              "      <div>\n",
              "<style scoped>\n",
              "    .dataframe tbody tr th:only-of-type {\n",
              "        vertical-align: middle;\n",
              "    }\n",
              "\n",
              "    .dataframe tbody tr th {\n",
              "        vertical-align: top;\n",
              "    }\n",
              "\n",
              "    .dataframe thead th {\n",
              "        text-align: right;\n",
              "    }\n",
              "</style>\n",
              "<table border=\"1\" class=\"dataframe\">\n",
              "  <thead>\n",
              "    <tr style=\"text-align: right;\">\n",
              "      <th></th>\n",
              "      <th>Frequency</th>\n",
              "    </tr>\n",
              "    <tr>\n",
              "      <th>Word</th>\n",
              "      <th></th>\n",
              "    </tr>\n",
              "  </thead>\n",
              "  <tbody>\n",
              "    <tr>\n",
              "      <th>watches</th>\n",
              "      <td>6.523459</td>\n",
              "    </tr>\n",
              "    <tr>\n",
              "      <th>mytalk</th>\n",
              "      <td>6.523459</td>\n",
              "    </tr>\n",
              "    <tr>\n",
              "      <th>easier</th>\n",
              "      <td>6.523459</td>\n",
              "    </tr>\n",
              "    <tr>\n",
              "      <th>suppose</th>\n",
              "      <td>6.523459</td>\n",
              "    </tr>\n",
              "    <tr>\n",
              "      <th>88</th>\n",
              "      <td>6.523459</td>\n",
              "    </tr>\n",
              "    <tr>\n",
              "      <th>...</th>\n",
              "      <td>...</td>\n",
              "    </tr>\n",
              "    <tr>\n",
              "      <th>you</th>\n",
              "      <td>1.687177</td>\n",
              "    </tr>\n",
              "    <tr>\n",
              "      <th>to</th>\n",
              "      <td>1.679272</td>\n",
              "    </tr>\n",
              "    <tr>\n",
              "      <th>the</th>\n",
              "      <td>1.550179</td>\n",
              "    </tr>\n",
              "    <tr>\n",
              "      <th>,</th>\n",
              "      <td>1.543283</td>\n",
              "    </tr>\n",
              "    <tr>\n",
              "      <th>.</th>\n",
              "      <td>1.263363</td>\n",
              "    </tr>\n",
              "  </tbody>\n",
              "</table>\n",
              "<p>5707 rows × 1 columns</p>\n",
              "</div>\n",
              "      <button class=\"colab-df-convert\" onclick=\"convertToInteractive('df-9c292177-05a7-47f2-a0a4-953b917c72dd')\"\n",
              "              title=\"Convert this dataframe to an interactive table.\"\n",
              "              style=\"display:none;\">\n",
              "\n",
              "  <svg xmlns=\"http://www.w3.org/2000/svg\" height=\"24px\"viewBox=\"0 0 24 24\"\n",
              "       width=\"24px\">\n",
              "    <path d=\"M0 0h24v24H0V0z\" fill=\"none\"/>\n",
              "    <path d=\"M18.56 5.44l.94 2.06.94-2.06 2.06-.94-2.06-.94-.94-2.06-.94 2.06-2.06.94zm-11 1L8.5 8.5l.94-2.06 2.06-.94-2.06-.94L8.5 2.5l-.94 2.06-2.06.94zm10 10l.94 2.06.94-2.06 2.06-.94-2.06-.94-.94-2.06-.94 2.06-2.06.94z\"/><path d=\"M17.41 7.96l-1.37-1.37c-.4-.4-.92-.59-1.43-.59-.52 0-1.04.2-1.43.59L10.3 9.45l-7.72 7.72c-.78.78-.78 2.05 0 2.83L4 21.41c.39.39.9.59 1.41.59.51 0 1.02-.2 1.41-.59l7.78-7.78 2.81-2.81c.8-.78.8-2.07 0-2.86zM5.41 20L4 18.59l7.72-7.72 1.47 1.35L5.41 20z\"/>\n",
              "  </svg>\n",
              "      </button>\n",
              "\n",
              "\n",
              "\n",
              "    <div id=\"df-64d76283-6486-447b-a74b-d6f40cb66b9b\">\n",
              "      <button class=\"colab-df-quickchart\" onclick=\"quickchart('df-64d76283-6486-447b-a74b-d6f40cb66b9b')\"\n",
              "              title=\"Suggest charts.\"\n",
              "              style=\"display:none;\">\n",
              "\n",
              "<svg xmlns=\"http://www.w3.org/2000/svg\" height=\"24px\"viewBox=\"0 0 24 24\"\n",
              "     width=\"24px\">\n",
              "    <g>\n",
              "        <path d=\"M19 3H5c-1.1 0-2 .9-2 2v14c0 1.1.9 2 2 2h14c1.1 0 2-.9 2-2V5c0-1.1-.9-2-2-2zM9 17H7v-7h2v7zm4 0h-2V7h2v10zm4 0h-2v-4h2v4z\"/>\n",
              "    </g>\n",
              "</svg>\n",
              "      </button>\n",
              "    </div>\n",
              "\n",
              "<style>\n",
              "  .colab-df-quickchart {\n",
              "    background-color: #E8F0FE;\n",
              "    border: none;\n",
              "    border-radius: 50%;\n",
              "    cursor: pointer;\n",
              "    display: none;\n",
              "    fill: #1967D2;\n",
              "    height: 32px;\n",
              "    padding: 0 0 0 0;\n",
              "    width: 32px;\n",
              "  }\n",
              "\n",
              "  .colab-df-quickchart:hover {\n",
              "    background-color: #E2EBFA;\n",
              "    box-shadow: 0px 1px 2px rgba(60, 64, 67, 0.3), 0px 1px 3px 1px rgba(60, 64, 67, 0.15);\n",
              "    fill: #174EA6;\n",
              "  }\n",
              "\n",
              "  [theme=dark] .colab-df-quickchart {\n",
              "    background-color: #3B4455;\n",
              "    fill: #D2E3FC;\n",
              "  }\n",
              "\n",
              "  [theme=dark] .colab-df-quickchart:hover {\n",
              "    background-color: #434B5C;\n",
              "    box-shadow: 0px 1px 3px 1px rgba(0, 0, 0, 0.15);\n",
              "    filter: drop-shadow(0px 1px 2px rgba(0, 0, 0, 0.3));\n",
              "    fill: #FFFFFF;\n",
              "  }\n",
              "</style>\n",
              "\n",
              "    <script>\n",
              "      async function quickchart(key) {\n",
              "        const containerElement = document.querySelector('#' + key);\n",
              "        const charts = await google.colab.kernel.invokeFunction(\n",
              "            'suggestCharts', [key], {});\n",
              "      }\n",
              "    </script>\n",
              "\n",
              "      <script>\n",
              "\n",
              "function displayQuickchartButton(domScope) {\n",
              "  let quickchartButtonEl =\n",
              "    domScope.querySelector('#df-64d76283-6486-447b-a74b-d6f40cb66b9b button.colab-df-quickchart');\n",
              "  quickchartButtonEl.style.display =\n",
              "    google.colab.kernel.accessAllowed ? 'block' : 'none';\n",
              "}\n",
              "\n",
              "        displayQuickchartButton(document);\n",
              "      </script>\n",
              "      <style>\n",
              "    .colab-df-container {\n",
              "      display:flex;\n",
              "      flex-wrap:wrap;\n",
              "      gap: 12px;\n",
              "    }\n",
              "\n",
              "    .colab-df-convert {\n",
              "      background-color: #E8F0FE;\n",
              "      border: none;\n",
              "      border-radius: 50%;\n",
              "      cursor: pointer;\n",
              "      display: none;\n",
              "      fill: #1967D2;\n",
              "      height: 32px;\n",
              "      padding: 0 0 0 0;\n",
              "      width: 32px;\n",
              "    }\n",
              "\n",
              "    .colab-df-convert:hover {\n",
              "      background-color: #E2EBFA;\n",
              "      box-shadow: 0px 1px 2px rgba(60, 64, 67, 0.3), 0px 1px 3px 1px rgba(60, 64, 67, 0.15);\n",
              "      fill: #174EA6;\n",
              "    }\n",
              "\n",
              "    [theme=dark] .colab-df-convert {\n",
              "      background-color: #3B4455;\n",
              "      fill: #D2E3FC;\n",
              "    }\n",
              "\n",
              "    [theme=dark] .colab-df-convert:hover {\n",
              "      background-color: #434B5C;\n",
              "      box-shadow: 0px 1px 3px 1px rgba(0, 0, 0, 0.15);\n",
              "      filter: drop-shadow(0px 1px 2px rgba(0, 0, 0, 0.3));\n",
              "      fill: #FFFFFF;\n",
              "    }\n",
              "  </style>\n",
              "\n",
              "      <script>\n",
              "        const buttonEl =\n",
              "          document.querySelector('#df-9c292177-05a7-47f2-a0a4-953b917c72dd button.colab-df-convert');\n",
              "        buttonEl.style.display =\n",
              "          google.colab.kernel.accessAllowed ? 'block' : 'none';\n",
              "\n",
              "        async function convertToInteractive(key) {\n",
              "          const element = document.querySelector('#df-9c292177-05a7-47f2-a0a4-953b917c72dd');\n",
              "          const dataTable =\n",
              "            await google.colab.kernel.invokeFunction('convertToInteractive',\n",
              "                                                     [key], {});\n",
              "          if (!dataTable) return;\n",
              "\n",
              "          const docLinkHtml = 'Like what you see? Visit the ' +\n",
              "            '<a target=\"_blank\" href=https://colab.research.google.com/notebooks/data_table.ipynb>data table notebook</a>'\n",
              "            + ' to learn more about interactive tables.';\n",
              "          element.innerHTML = '';\n",
              "          dataTable['output_type'] = 'display_data';\n",
              "          await google.colab.output.renderOutput(dataTable, element);\n",
              "          const docLink = document.createElement('div');\n",
              "          docLink.innerHTML = docLinkHtml;\n",
              "          element.appendChild(docLink);\n",
              "        }\n",
              "      </script>\n",
              "    </div>\n",
              "  </div>\n"
            ]
          },
          "metadata": {},
          "execution_count": 43
        }
      ]
    },
    {
      "cell_type": "markdown",
      "source": [
        "#### TFIDF calculation"
      ],
      "metadata": {
        "id": "9005I_WFoBN9"
      }
    },
    {
      "cell_type": "code",
      "source": [
        "def calc_tfidf(tf, idf):\n",
        "  tfidf = []\n",
        "  for words in tf:\n",
        "    tfidf_doc = {}\n",
        "    for word, freq in words.items():\n",
        "      tfidf_doc[word] = freq * idf[word]\n",
        "    tfidf.append(tfidf_doc)\n",
        "  return tfidf"
      ],
      "metadata": {
        "id": "EkQ297uMnZF9"
      },
      "execution_count": 44,
      "outputs": []
    },
    {
      "cell_type": "code",
      "source": [
        "def calc_norm_tfidf(tf, idf):\n",
        "  tfidf = []\n",
        "  for words in tf:\n",
        "    tfidf_doc = {}\n",
        "    docnorm = 0\n",
        "    for word, freq in words.items():\n",
        "      val = freq * idf[word]\n",
        "      tfidf_doc[word] = val\n",
        "      docnorm += val**2\n",
        "    for word in tfidf_doc:\n",
        "      tfidf_doc[word] /=docnorm\n",
        "\n",
        "    tfidf.append(tfidf_doc)\n",
        "  return tfidf"
      ],
      "metadata": {
        "id": "Y8bGbDDE66QJ"
      },
      "execution_count": 45,
      "outputs": []
    },
    {
      "cell_type": "code",
      "source": [
        "tfidf_result = calc_tfidf(tf, idf)\n",
        "tfidf_result[25]"
      ],
      "metadata": {
        "colab": {
          "base_uri": "https://localhost:8080/"
        },
        "id": "U5T7V_rjoEdt",
        "outputId": "b86b7bdd-418e-49a7-8aac-e63ffd197393"
      },
      "execution_count": 46,
      "outputs": [
        {
          "output_type": "execute_result",
          "data": {
            "text/plain": [
              "{'are': 2.3645758371652477,\n",
              " 'you': 1.6871770135734416,\n",
              " 'retarded': 5.607168188650764,\n",
              " '?': 4.926031819957,\n",
              " 'how': 3.38796470459577,\n",
              " 'did': 3.4324164671666035,\n",
              " 'i': 1.791656083603462,\n",
              " 'attack': 5.019381523748645,\n",
              " 'an': 2.7739548445945483,\n",
              " 'editor': 4.914021008090819,\n",
              " 'grow': 6.117993812416755,\n",
              " 'a': 1.7031773549198825,\n",
              " 'brain': 6.117993812416755,\n",
              " ',': 1.5432828339133724,\n",
              " 'numnut': 6.523458920524919,\n",
              " '.': 1.2633627667970806}"
            ]
          },
          "metadata": {},
          "execution_count": 46
        }
      ]
    },
    {
      "cell_type": "markdown",
      "source": [
        "Combine altogether"
      ],
      "metadata": {
        "id": "qUtBOTj3oir_"
      }
    },
    {
      "cell_type": "code",
      "source": [
        "def get_tfidf(documents):\n",
        "  tf = term_freq(documents)\n",
        "  df = doc_freq(tf)\n",
        "  idf = inv_doc_freq(len(documents), df)\n",
        "  tfidf = calc_norm_tfidf(tf, idf)\n",
        "  return tfidf"
      ],
      "metadata": {
        "id": "kyqaojDaolkf"
      },
      "execution_count": 47,
      "outputs": []
    },
    {
      "cell_type": "markdown",
      "source": [
        "Create tfidf for all docs train and test together for lulz and giggles"
      ],
      "metadata": {
        "id": "GyljKH-urfKO"
      }
    },
    {
      "cell_type": "code",
      "source": [
        "get_tfidf(np.concatenate((texts_train, texts_test), axis=0))[0]"
      ],
      "metadata": {
        "colab": {
          "base_uri": "https://localhost:8080/"
        },
        "id": "tRMrwWHto_Zd",
        "outputId": "d9e454fe-8031-4f11-ed83-b75ee5c74fb0"
      },
      "execution_count": 48,
      "outputs": [
        {
          "output_type": "execute_result",
          "data": {
            "text/plain": [
              "{'...': 0.011133606776978364,\n",
              " 'oh': 0.01589181300699841,\n",
              " 'and': 0.0057534929410558095,\n",
              " 'what': 0.009342159613732368,\n",
              " 'kind': 0.01589181300699841,\n",
              " 'of': 0.006035262556300936,\n",
              " 'person': 0.014650494453258125,\n",
              " 'watches': 0.02309866884130518,\n",
              " 'another': 0.013508703370348757,\n",
              " 'persons': 0.017946521520216127,\n",
              " 'mytalk': 0.02309866884130518,\n",
              " 'page': 0.0095676901131873,\n",
              " '?': 0.007706899968923075,\n",
              " 'stalker': 0.020165430595149816,\n",
              " '!': 0.008454062342004786}"
            ]
          },
          "metadata": {},
          "execution_count": 48
        }
      ]
    },
    {
      "cell_type": "markdown",
      "source": [
        "We're gonna use the same transformation we applied to train"
      ],
      "metadata": {
        "id": "edzyVI5DriKD"
      }
    },
    {
      "cell_type": "code",
      "source": [
        "custom_tfidf = get_tfidf(texts_train)\n",
        "custom_tfidf[0]['and']"
      ],
      "metadata": {
        "colab": {
          "base_uri": "https://localhost:8080/"
        },
        "id": "QgwppuFisB-b",
        "outputId": "504dbf99-ecfc-4c47-8925-8f78a3881662"
      },
      "execution_count": 49,
      "outputs": [
        {
          "output_type": "execute_result",
          "data": {
            "text/plain": [
              "0.006417904133862377"
            ]
          },
          "metadata": {},
          "execution_count": 49
        }
      ]
    },
    {
      "cell_type": "code",
      "source": [
        "X_train_tfidf[0, tfidf.vocabulary_['and']]"
      ],
      "metadata": {
        "id": "LSdYhSgm2RoF",
        "outputId": "60e50f2c-1280-48b9-8e68-6d073feee704",
        "colab": {
          "base_uri": "https://localhost:8080/"
        }
      },
      "execution_count": 50,
      "outputs": [
        {
          "output_type": "execute_result",
          "data": {
            "text/plain": [
              "0.10644831564485613"
            ]
          },
          "metadata": {},
          "execution_count": 50
        }
      ]
    },
    {
      "cell_type": "markdown",
      "source": [
        "Gonna need to find out why the difference is so huge (normalization?)."
      ],
      "metadata": {
        "id": "zje79Iv2abwU"
      }
    },
    {
      "cell_type": "markdown",
      "source": [
        "## Comapre TFIDF performance"
      ],
      "metadata": {
        "id": "Dld8JbRVd1N6"
      }
    },
    {
      "cell_type": "markdown",
      "source": [
        "#### Write roc auc func"
      ],
      "metadata": {
        "id": "cnHuacjlb-QQ"
      }
    },
    {
      "cell_type": "code",
      "source": [
        "def get_rocauc(X_train, X_test, y_train, y_test, modelX):\n",
        "  for name, X, y, model in [\n",
        "      ('train', X_train, y_train, modelX),\n",
        "      ('test', X_test, y_test, modelX)\n",
        "  ]:\n",
        "      proba = model.predict_proba(X)[:,1]\n",
        "      auc = roc_auc_score(y, proba)\n",
        "      plt.plot(*roc_curve(y, proba)[:2], label=f'{name} AUC={round(auc,4)}')\n",
        "\n",
        "  plt.plot([0, 1], [0, 1], '--', color='black',)\n",
        "  plt.legend(fontsize='large')\n",
        "  plt.grid()\n",
        "  test_accuracy = np.mean(modelX.predict(X_test) == y_test)\n",
        "  print(f\"Model accuracy: {test_accuracy:.3f}\")"
      ],
      "metadata": {
        "id": "XPLcykw7ZRu1"
      },
      "execution_count": 51,
      "outputs": []
    },
    {
      "cell_type": "markdown",
      "source": [
        "### Get a func to evaluate the approach"
      ],
      "metadata": {
        "id": "HYD0exgkc-_D"
      }
    },
    {
      "cell_type": "code",
      "source": [
        "def evaluate_logreg(train_X, test_X, c=3.9):\n",
        "  logreg = LogisticRegression(C=c)\n",
        "  logreg.fit(train_X, y_train)\n",
        "\n",
        "  train_pred = logreg.predict(train_X)\n",
        "  train_accuracy = accuracy_score(y_train, train_pred)\n",
        "\n",
        "  test_pred = logreg.predict(test_X)\n",
        "  test_accuracy = accuracy_score(y_test, test_pred)\n",
        "\n",
        "  print('Accuracy train:', train_accuracy)\n",
        "  print('Accuracy test:', test_accuracy)\n",
        "  get_rocauc(train_X, test_X, y_train, y_test, logreg)"
      ],
      "metadata": {
        "id": "iRl1mNILanKM"
      },
      "execution_count": 64,
      "outputs": []
    },
    {
      "cell_type": "markdown",
      "source": [
        "### Write custom TFIDF class to try on the model"
      ],
      "metadata": {
        "id": "75_Duc-jb2XI"
      }
    },
    {
      "cell_type": "code",
      "source": [
        "class CustomTfidfVectorizer:\n",
        "    def __init__(self, tokenizer=None, stop_words=None):\n",
        "        self.tokenizer = tokenizer if tokenizer else self._default_tokenizer\n",
        "        self.stop_words = stop_words if stop_words else ENGLISH_STOP_WORDS\n",
        "        self.doc_count = 0\n",
        "        self.word_doc_count = defaultdict(int)\n",
        "        self.word_idf = {}\n",
        "\n",
        "\n",
        "    def fit_transform(self, documents):\n",
        "        tfidf_matrix = []\n",
        "        for doc in documents:\n",
        "            tfidf_vector = self.calculate_tfidf(doc)\n",
        "            tfidf_matrix.append(tfidf_vector)\n",
        "            self.doc_count += 1\n",
        "        return np.array(tfidf_matrix)\n",
        "\n",
        "\n",
        "    def _default_tokenizer(self, document):\n",
        "        return document.split()\n",
        "\n",
        "\n",
        "    def calculate_tfidf(self, document):\n",
        "        tf_vector = defaultdict(int)\n",
        "        for token in self.tokenizer(document):\n",
        "            if token not in self.stop_words:\n",
        "                tf_vector[token] += 1\n",
        "        tfidf_vector = {}\n",
        "        doc_length = sum(tf_vector.values())\n",
        "        for word, tf in tf_vector.items():\n",
        "            self.word_doc_count[word] += 1\n",
        "            idf = np.log((1 + self.doc_count) / (1 + self.word_doc_count[word])) + 1\n",
        "            tfidf_vector[word] = (tf / doc_length) * idf\n",
        "        return tfidf_vector\n",
        "\n",
        "\n",
        "    def transform(self, documents):\n",
        "        tfidf_matrix = []\n",
        "        for doc in documents:\n",
        "            tfidf_vector = self.calculate_tfidf(doc)\n",
        "            tfidf_matrix.append(tfidf_vector)\n",
        "        return np.array(tfidf_matrix)\n",
        "\n",
        "\n",
        "    def normalize(self, tfidf_matrix):\n",
        "      normalized = []\n",
        "      for doc_tfidf in tfidf_matrix:\n",
        "        norm = np.linalg.norm(list(doc_tfidf.values()))\n",
        "        norm_vec = {word: tfidf / norm for word, tfidf in doc_tfidf.items()}\n",
        "        normalized.append(norm_vec)\n",
        "      return np.array(normalized)"
      ],
      "metadata": {
        "id": "mSyURWcUTSkP"
      },
      "execution_count": 60,
      "outputs": []
    },
    {
      "cell_type": "markdown",
      "source": [
        "#### Create instance and set up transformation"
      ],
      "metadata": {
        "id": "P7SgkJHTWgFF"
      }
    },
    {
      "cell_type": "code",
      "source": [
        "custom_tfidf_vectorizer = CustomTfidfVectorizer()\n",
        "\n",
        "custom_tfidf_train = custom_tfidf_vectorizer.fit_transform(texts_train)\n",
        "custom_tfidf_test = custom_tfidf_vectorizer.transform(texts_test)\n",
        "\n",
        "custom_tfidf_train = custom_tfidf_vectorizer.normalize(custom_tfidf_train)\n",
        "custom_tfidf_test = custom_tfidf_vectorizer.normalize(custom_tfidf_test)"
      ],
      "metadata": {
        "id": "g3GTNs19UPSs"
      },
      "execution_count": 61,
      "outputs": []
    },
    {
      "cell_type": "code",
      "source": [
        "all_words = set()\n",
        "for doc in custom_tfidf_train:\n",
        "    all_words.update(doc.keys())\n",
        "\n",
        "num_tfidf_train = np.array([[doc.get(word, 0) for word in all_words] for doc in custom_tfidf_train])\n",
        "num_tfidf_test = np.array([[doc.get(word, 0) for word in all_words] for doc in custom_tfidf_test])"
      ],
      "metadata": {
        "id": "f1Uu1TsHWmP4"
      },
      "execution_count": 62,
      "outputs": []
    },
    {
      "cell_type": "code",
      "source": [
        "evaluate_logreg(num_tfidf_train, num_tfidf_test)"
      ],
      "metadata": {
        "id": "AKExKmY7dG1N",
        "outputId": "6dd1c56f-733b-414f-d268-0de947987477",
        "colab": {
          "base_uri": "https://localhost:8080/",
          "height": 482
        }
      },
      "execution_count": 94,
      "outputs": [
        {
          "output_type": "stream",
          "name": "stdout",
          "text": [
            "Accuracy train: 0.98\n",
            "Accuracy test: 0.766\n",
            "Model accuracy: 0.766\n"
          ]
        },
        {
          "output_type": "display_data",
          "data": {
            "text/plain": [
              "<Figure size 640x480 with 1 Axes>"
            ],
            "image/png": "[encoded data removed]"
          },
          "metadata": {}
        }
      ]
    },
    {
      "cell_type": "markdown",
      "source": [
        "### Try sklearn TFIDF vectorization from the box"
      ],
      "metadata": {
        "id": "30OULBMBbvZ5"
      }
    },
    {
      "cell_type": "code",
      "source": [
        "evaluate_logreg(X_train_tfidf, X_test_tfidf)"
      ],
      "metadata": {
        "id": "ViKZYqXwcUPF",
        "outputId": "7a0d5ee7-1a9f-4388-e999-fee693cf5d9c",
        "colab": {
          "base_uri": "https://localhost:8080/",
          "height": 482
        }
      },
      "execution_count": 57,
      "outputs": [
        {
          "output_type": "stream",
          "name": "stdout",
          "text": [
            "Accuracy train: 0.982\n",
            "Accuracy test: 0.79\n",
            "Model accuracy: 0.790\n"
          ]
        },
        {
          "output_type": "display_data",
          "data": {
            "text/plain": [
              "<Figure size 640x480 with 1 Axes>"
            ],
            "image/png": "[encoded data removed]"
          },
          "metadata": {}
        }
      ]
    },
    {
      "cell_type": "markdown",
      "source": [
        "75.2% vs 79.0%\n",
        "Of course sklearn model would be a bit better than the custom one."
      ],
      "metadata": {
        "id": "VFDESSSqboia"
      }
    },
    {
      "cell_type": "markdown",
      "source": [
        "After introducing normalization on the same C gained 1% by if we tinker with regularization parameter C, we can achieve the result close to the one in sklearn."
      ],
      "metadata": {
        "id": "QEr0j5MzEUli"
      }
    },
    {
      "cell_type": "code",
      "source": [
        "evaluate_logreg(num_tfidf_train, num_tfidf_test, c=2.4)"
      ],
      "metadata": {
        "id": "lVZO7IbZETr0",
        "outputId": "51232841-3e2f-4307-9e2e-9ffbfe322804",
        "colab": {
          "base_uri": "https://localhost:8080/",
          "height": 482
        }
      },
      "execution_count": 95,
      "outputs": [
        {
          "output_type": "stream",
          "name": "stdout",
          "text": [
            "Accuracy train: 0.964\n",
            "Accuracy test: 0.788\n",
            "Model accuracy: 0.788\n"
          ]
        },
        {
          "output_type": "display_data",
          "data": {
            "text/plain": [
              "<Figure size 640x480 with 1 Axes>"
            ],
            "image/png": "[encoded data removed]"
          },
          "metadata": {}
        }
      ]
    },
    {
      "cell_type": "markdown",
      "source": [
        "78.8% is much closer to 78% than 75.2% and 76.6%"
      ],
      "metadata": {
        "id": "4cImRqZpEvIX"
      }
    }
  ]
}