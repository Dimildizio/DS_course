{
  "nbformat": 4,
  "nbformat_minor": 0,
  "metadata": {
    "colab": {
      "provenance": [],
      "authorship_tag": "ABX9TyN8sdwjezGHK0yQ464kAw1l",
      "include_colab_link": true
    },
    "kernelspec": {
      "name": "python3",
      "display_name": "Python 3"
    },
    "language_info": {
      "name": "python"
    }
  },
  "cells": [
    {
      "cell_type": "markdown",
      "metadata": {
        "id": "view-in-github",
        "colab_type": "text"
      },
      "source": [
        "<a href=\"https://colab.research.google.com/github/Dimildizio/DS_course/blob/main/Neural_networks/NLP/Text_classification/Prohibited_language_classification.ipynb\" target=\"_parent\"><img src=\"https://colab.research.google.com/assets/colab-badge.svg\" alt=\"Open In Colab\"/></a>"
      ]
    },
    {
      "cell_type": "markdown",
      "source": [
        "# Prohibited Language classification"
      ],
      "metadata": {
        "id": "0HYYwt0GNw7I"
      }
    },
    {
      "cell_type": "markdown",
      "source": [
        "Classification of foul language task using Bag of Words embeddings, TF-IDF, word vectors\n"
      ],
      "metadata": {
        "id": "Gg_X6uTiO44Z"
      }
    },
    {
      "cell_type": "markdown",
      "source": [
        "## Imports"
      ],
      "metadata": {
        "id": "7LL86MGUP7pf"
      }
    },
    {
      "cell_type": "code",
      "source": [
        "import gensim.downloader as gensim_api\n",
        "import matplotlib.pyplot as plt\n",
        "import nltk\n",
        "import numpy as np\n",
        "import pandas as pd\n",
        "import seaborn as sns\n",
        "import torch\n",
        "import torch.nn as nn\n",
        "\n",
        "from nltk.tokenize import TweetTokenizer\n",
        "from sklearn.ensemble import RandomForestClassifier\n",
        "from sklearn.feature_extraction.text import TfidfVectorizer\n",
        "from sklearn.linear_model import LogisticRegression\n",
        "from sklearn.metrics import roc_auc_score, roc_curve, accuracy_score, classification_report\n",
        "from sklearn.model_selection import train_test_split\n"
      ],
      "metadata": {
        "id": "KzKjaclUNz5j"
      },
      "execution_count": 1,
      "outputs": []
    },
    {
      "cell_type": "code",
      "source": [
        "%matplotlib inline"
      ],
      "metadata": {
        "id": "qau-zciSOJEb"
      },
      "execution_count": 2,
      "outputs": []
    },
    {
      "cell_type": "markdown",
      "source": [
        "## Load dataset"
      ],
      "metadata": {
        "id": "w38XUUF7P9ZI"
      }
    },
    {
      "cell_type": "code",
      "source": [
        "%%capture\n",
        "!wget https://raw.githubusercontent.com/Dimildizio/DS_course/main/Neural_networks/NLP/Text_classification/data/comments.tsv"
      ],
      "metadata": {
        "id": "RbLjVYt7QDLr"
      },
      "execution_count": 3,
      "outputs": []
    },
    {
      "cell_type": "code",
      "execution_count": 4,
      "metadata": {
        "id": "IJJsAuv-Nvnl"
      },
      "outputs": [],
      "source": [
        "data = pd.read_csv('comments.tsv', sep='\\t')"
      ]
    },
    {
      "cell_type": "markdown",
      "source": [
        "## Some basic EDA"
      ],
      "metadata": {
        "id": "c0RADcWFQuw0"
      }
    },
    {
      "cell_type": "code",
      "source": [
        "data.head()"
      ],
      "metadata": {
        "colab": {
          "base_uri": "https://localhost:8080/",
          "height": 206
        },
        "id": "8OjyycsSQa6G",
        "outputId": "17c5c810-57a7-4392-d3fa-f6ed8365583f"
      },
      "execution_count": 5,
      "outputs": [
        {
          "output_type": "execute_result",
          "data": {
            "text/plain": [
              "   should_ban                                       comment_text\n",
              "0           0  The picture on the article is not of the actor...\n",
              "1           1  Its madness. Shes of Chinese heritage, but JAP...\n",
              "2           1  Fuck You. Why don't you suck a turd out of my ...\n",
              "3           1  God is dead\\nI don't mean to startle anyone bu...\n",
              "4           1  THIS USER IS A PLANT FROM BRUCE PERENS AND GRO..."
            ],
            "text/html": [
              "\n",
              "\n",
              "  <div id=\"df-03d7b5ea-032c-4680-a30e-8f5ed50f7bc6\">\n",
              "    <div class=\"colab-df-container\">\n",
              "      <div>\n",
              "<style scoped>\n",
              "    .dataframe tbody tr th:only-of-type {\n",
              "        vertical-align: middle;\n",
              "    }\n",
              "\n",
              "    .dataframe tbody tr th {\n",
              "        vertical-align: top;\n",
              "    }\n",
              "\n",
              "    .dataframe thead th {\n",
              "        text-align: right;\n",
              "    }\n",
              "</style>\n",
              "<table border=\"1\" class=\"dataframe\">\n",
              "  <thead>\n",
              "    <tr style=\"text-align: right;\">\n",
              "      <th></th>\n",
              "      <th>should_ban</th>\n",
              "      <th>comment_text</th>\n",
              "    </tr>\n",
              "  </thead>\n",
              "  <tbody>\n",
              "    <tr>\n",
              "      <th>0</th>\n",
              "      <td>0</td>\n",
              "      <td>The picture on the article is not of the actor...</td>\n",
              "    </tr>\n",
              "    <tr>\n",
              "      <th>1</th>\n",
              "      <td>1</td>\n",
              "      <td>Its madness. Shes of Chinese heritage, but JAP...</td>\n",
              "    </tr>\n",
              "    <tr>\n",
              "      <th>2</th>\n",
              "      <td>1</td>\n",
              "      <td>Fuck You. Why don't you suck a turd out of my ...</td>\n",
              "    </tr>\n",
              "    <tr>\n",
              "      <th>3</th>\n",
              "      <td>1</td>\n",
              "      <td>God is dead\\nI don't mean to startle anyone bu...</td>\n",
              "    </tr>\n",
              "    <tr>\n",
              "      <th>4</th>\n",
              "      <td>1</td>\n",
              "      <td>THIS USER IS A PLANT FROM BRUCE PERENS AND GRO...</td>\n",
              "    </tr>\n",
              "  </tbody>\n",
              "</table>\n",
              "</div>\n",
              "      <button class=\"colab-df-convert\" onclick=\"convertToInteractive('df-03d7b5ea-032c-4680-a30e-8f5ed50f7bc6')\"\n",
              "              title=\"Convert this dataframe to an interactive table.\"\n",
              "              style=\"display:none;\">\n",
              "\n",
              "  <svg xmlns=\"http://www.w3.org/2000/svg\" height=\"24px\"viewBox=\"0 0 24 24\"\n",
              "       width=\"24px\">\n",
              "    <path d=\"M0 0h24v24H0V0z\" fill=\"none\"/>\n",
              "    <path d=\"M18.56 5.44l.94 2.06.94-2.06 2.06-.94-2.06-.94-.94-2.06-.94 2.06-2.06.94zm-11 1L8.5 8.5l.94-2.06 2.06-.94-2.06-.94L8.5 2.5l-.94 2.06-2.06.94zm10 10l.94 2.06.94-2.06 2.06-.94-2.06-.94-.94-2.06-.94 2.06-2.06.94z\"/><path d=\"M17.41 7.96l-1.37-1.37c-.4-.4-.92-.59-1.43-.59-.52 0-1.04.2-1.43.59L10.3 9.45l-7.72 7.72c-.78.78-.78 2.05 0 2.83L4 21.41c.39.39.9.59 1.41.59.51 0 1.02-.2 1.41-.59l7.78-7.78 2.81-2.81c.8-.78.8-2.07 0-2.86zM5.41 20L4 18.59l7.72-7.72 1.47 1.35L5.41 20z\"/>\n",
              "  </svg>\n",
              "      </button>\n",
              "\n",
              "\n",
              "\n",
              "    <div id=\"df-cbb3ba65-31e4-4c54-8996-aecca0b3cb95\">\n",
              "      <button class=\"colab-df-quickchart\" onclick=\"quickchart('df-cbb3ba65-31e4-4c54-8996-aecca0b3cb95')\"\n",
              "              title=\"Suggest charts.\"\n",
              "              style=\"display:none;\">\n",
              "\n",
              "<svg xmlns=\"http://www.w3.org/2000/svg\" height=\"24px\"viewBox=\"0 0 24 24\"\n",
              "     width=\"24px\">\n",
              "    <g>\n",
              "        <path d=\"M19 3H5c-1.1 0-2 .9-2 2v14c0 1.1.9 2 2 2h14c1.1 0 2-.9 2-2V5c0-1.1-.9-2-2-2zM9 17H7v-7h2v7zm4 0h-2V7h2v10zm4 0h-2v-4h2v4z\"/>\n",
              "    </g>\n",
              "</svg>\n",
              "      </button>\n",
              "    </div>\n",
              "\n",
              "<style>\n",
              "  .colab-df-quickchart {\n",
              "    background-color: #E8F0FE;\n",
              "    border: none;\n",
              "    border-radius: 50%;\n",
              "    cursor: pointer;\n",
              "    display: none;\n",
              "    fill: #1967D2;\n",
              "    height: 32px;\n",
              "    padding: 0 0 0 0;\n",
              "    width: 32px;\n",
              "  }\n",
              "\n",
              "  .colab-df-quickchart:hover {\n",
              "    background-color: #E2EBFA;\n",
              "    box-shadow: 0px 1px 2px rgba(60, 64, 67, 0.3), 0px 1px 3px 1px rgba(60, 64, 67, 0.15);\n",
              "    fill: #174EA6;\n",
              "  }\n",
              "\n",
              "  [theme=dark] .colab-df-quickchart {\n",
              "    background-color: #3B4455;\n",
              "    fill: #D2E3FC;\n",
              "  }\n",
              "\n",
              "  [theme=dark] .colab-df-quickchart:hover {\n",
              "    background-color: #434B5C;\n",
              "    box-shadow: 0px 1px 3px 1px rgba(0, 0, 0, 0.15);\n",
              "    filter: drop-shadow(0px 1px 2px rgba(0, 0, 0, 0.3));\n",
              "    fill: #FFFFFF;\n",
              "  }\n",
              "</style>\n",
              "\n",
              "    <script>\n",
              "      async function quickchart(key) {\n",
              "        const containerElement = document.querySelector('#' + key);\n",
              "        const charts = await google.colab.kernel.invokeFunction(\n",
              "            'suggestCharts', [key], {});\n",
              "      }\n",
              "    </script>\n",
              "\n",
              "      <script>\n",
              "\n",
              "function displayQuickchartButton(domScope) {\n",
              "  let quickchartButtonEl =\n",
              "    domScope.querySelector('#df-cbb3ba65-31e4-4c54-8996-aecca0b3cb95 button.colab-df-quickchart');\n",
              "  quickchartButtonEl.style.display =\n",
              "    google.colab.kernel.accessAllowed ? 'block' : 'none';\n",
              "}\n",
              "\n",
              "        displayQuickchartButton(document);\n",
              "      </script>\n",
              "      <style>\n",
              "    .colab-df-container {\n",
              "      display:flex;\n",
              "      flex-wrap:wrap;\n",
              "      gap: 12px;\n",
              "    }\n",
              "\n",
              "    .colab-df-convert {\n",
              "      background-color: #E8F0FE;\n",
              "      border: none;\n",
              "      border-radius: 50%;\n",
              "      cursor: pointer;\n",
              "      display: none;\n",
              "      fill: #1967D2;\n",
              "      height: 32px;\n",
              "      padding: 0 0 0 0;\n",
              "      width: 32px;\n",
              "    }\n",
              "\n",
              "    .colab-df-convert:hover {\n",
              "      background-color: #E2EBFA;\n",
              "      box-shadow: 0px 1px 2px rgba(60, 64, 67, 0.3), 0px 1px 3px 1px rgba(60, 64, 67, 0.15);\n",
              "      fill: #174EA6;\n",
              "    }\n",
              "\n",
              "    [theme=dark] .colab-df-convert {\n",
              "      background-color: #3B4455;\n",
              "      fill: #D2E3FC;\n",
              "    }\n",
              "\n",
              "    [theme=dark] .colab-df-convert:hover {\n",
              "      background-color: #434B5C;\n",
              "      box-shadow: 0px 1px 3px 1px rgba(0, 0, 0, 0.15);\n",
              "      filter: drop-shadow(0px 1px 2px rgba(0, 0, 0, 0.3));\n",
              "      fill: #FFFFFF;\n",
              "    }\n",
              "  </style>\n",
              "\n",
              "      <script>\n",
              "        const buttonEl =\n",
              "          document.querySelector('#df-03d7b5ea-032c-4680-a30e-8f5ed50f7bc6 button.colab-df-convert');\n",
              "        buttonEl.style.display =\n",
              "          google.colab.kernel.accessAllowed ? 'block' : 'none';\n",
              "\n",
              "        async function convertToInteractive(key) {\n",
              "          const element = document.querySelector('#df-03d7b5ea-032c-4680-a30e-8f5ed50f7bc6');\n",
              "          const dataTable =\n",
              "            await google.colab.kernel.invokeFunction('convertToInteractive',\n",
              "                                                     [key], {});\n",
              "          if (!dataTable) return;\n",
              "\n",
              "          const docLinkHtml = 'Like what you see? Visit the ' +\n",
              "            '<a target=\"_blank\" href=https://colab.research.google.com/notebooks/data_table.ipynb>data table notebook</a>'\n",
              "            + ' to learn more about interactive tables.';\n",
              "          element.innerHTML = '';\n",
              "          dataTable['output_type'] = 'display_data';\n",
              "          await google.colab.output.renderOutput(dataTable, element);\n",
              "          const docLink = document.createElement('div');\n",
              "          docLink.innerHTML = docLinkHtml;\n",
              "          element.appendChild(docLink);\n",
              "        }\n",
              "      </script>\n",
              "    </div>\n",
              "  </div>\n"
            ]
          },
          "metadata": {},
          "execution_count": 5
        }
      ]
    },
    {
      "cell_type": "code",
      "source": [
        "data.info()"
      ],
      "metadata": {
        "colab": {
          "base_uri": "https://localhost:8080/"
        },
        "id": "2d6BIiTpQkU1",
        "outputId": "3f19c60f-5cb7-46b3-ca1f-cfbd0fdcbb42"
      },
      "execution_count": 6,
      "outputs": [
        {
          "output_type": "stream",
          "name": "stdout",
          "text": [
            "<class 'pandas.core.frame.DataFrame'>\n",
            "RangeIndex: 1000 entries, 0 to 999\n",
            "Data columns (total 2 columns):\n",
            " #   Column        Non-Null Count  Dtype \n",
            "---  ------        --------------  ----- \n",
            " 0   should_ban    1000 non-null   int64 \n",
            " 1   comment_text  1000 non-null   object\n",
            "dtypes: int64(1), object(1)\n",
            "memory usage: 15.8+ KB\n"
          ]
        }
      ]
    },
    {
      "cell_type": "code",
      "source": [
        "sns.countplot(data=data, x='should_ban')"
      ],
      "metadata": {
        "colab": {
          "base_uri": "https://localhost:8080/",
          "height": 467
        },
        "id": "IpbHNr1eQ19h",
        "outputId": "172c8f77-5b63-4a21-ffd7-1a2c2a869f91"
      },
      "execution_count": 7,
      "outputs": [
        {
          "output_type": "execute_result",
          "data": {
            "text/plain": [
              "<Axes: xlabel='should_ban', ylabel='count'>"
            ]
          },
          "metadata": {},
          "execution_count": 7
        },
        {
          "output_type": "display_data",
          "data": {
            "text/plain": [
              "<Figure size 640x480 with 1 Axes>"
            ],
            "image/png": "[encoded data removed]"
          },
          "metadata": {}
        }
      ]
    },
    {
      "cell_type": "code",
      "source": [
        "data[data['comment_text'].str.len() <= 18]"
      ],
      "metadata": {
        "colab": {
          "base_uri": "https://localhost:8080/",
          "height": 81
        },
        "id": "xNaooF_vZO-9",
        "outputId": "03205b6e-5147-4c58-dc40-9226f4e7de09"
      },
      "execution_count": 8,
      "outputs": [
        {
          "output_type": "execute_result",
          "data": {
            "text/plain": [
              "     should_ban        comment_text\n",
              "870           0  No takers, then? ¦"
            ],
            "text/html": [
              "\n",
              "\n",
              "  <div id=\"df-78b93580-9c0d-4478-98a4-8e8672893599\">\n",
              "    <div class=\"colab-df-container\">\n",
              "      <div>\n",
              "<style scoped>\n",
              "    .dataframe tbody tr th:only-of-type {\n",
              "        vertical-align: middle;\n",
              "    }\n",
              "\n",
              "    .dataframe tbody tr th {\n",
              "        vertical-align: top;\n",
              "    }\n",
              "\n",
              "    .dataframe thead th {\n",
              "        text-align: right;\n",
              "    }\n",
              "</style>\n",
              "<table border=\"1\" class=\"dataframe\">\n",
              "  <thead>\n",
              "    <tr style=\"text-align: right;\">\n",
              "      <th></th>\n",
              "      <th>should_ban</th>\n",
              "      <th>comment_text</th>\n",
              "    </tr>\n",
              "  </thead>\n",
              "  <tbody>\n",
              "    <tr>\n",
              "      <th>870</th>\n",
              "      <td>0</td>\n",
              "      <td>No takers, then? ¦</td>\n",
              "    </tr>\n",
              "  </tbody>\n",
              "</table>\n",
              "</div>\n",
              "      <button class=\"colab-df-convert\" onclick=\"convertToInteractive('df-78b93580-9c0d-4478-98a4-8e8672893599')\"\n",
              "              title=\"Convert this dataframe to an interactive table.\"\n",
              "              style=\"display:none;\">\n",
              "\n",
              "  <svg xmlns=\"http://www.w3.org/2000/svg\" height=\"24px\"viewBox=\"0 0 24 24\"\n",
              "       width=\"24px\">\n",
              "    <path d=\"M0 0h24v24H0V0z\" fill=\"none\"/>\n",
              "    <path d=\"M18.56 5.44l.94 2.06.94-2.06 2.06-.94-2.06-.94-.94-2.06-.94 2.06-2.06.94zm-11 1L8.5 8.5l.94-2.06 2.06-.94-2.06-.94L8.5 2.5l-.94 2.06-2.06.94zm10 10l.94 2.06.94-2.06 2.06-.94-2.06-.94-.94-2.06-.94 2.06-2.06.94z\"/><path d=\"M17.41 7.96l-1.37-1.37c-.4-.4-.92-.59-1.43-.59-.52 0-1.04.2-1.43.59L10.3 9.45l-7.72 7.72c-.78.78-.78 2.05 0 2.83L4 21.41c.39.39.9.59 1.41.59.51 0 1.02-.2 1.41-.59l7.78-7.78 2.81-2.81c.8-.78.8-2.07 0-2.86zM5.41 20L4 18.59l7.72-7.72 1.47 1.35L5.41 20z\"/>\n",
              "  </svg>\n",
              "      </button>\n",
              "\n",
              "\n",
              "\n",
              "    <div id=\"df-f2c08bef-eec2-47bc-ac22-75a6655f53e3\">\n",
              "      <button class=\"colab-df-quickchart\" onclick=\"quickchart('df-f2c08bef-eec2-47bc-ac22-75a6655f53e3')\"\n",
              "              title=\"Suggest charts.\"\n",
              "              style=\"display:none;\">\n",
              "\n",
              "<svg xmlns=\"http://www.w3.org/2000/svg\" height=\"24px\"viewBox=\"0 0 24 24\"\n",
              "     width=\"24px\">\n",
              "    <g>\n",
              "        <path d=\"M19 3H5c-1.1 0-2 .9-2 2v14c0 1.1.9 2 2 2h14c1.1 0 2-.9 2-2V5c0-1.1-.9-2-2-2zM9 17H7v-7h2v7zm4 0h-2V7h2v10zm4 0h-2v-4h2v4z\"/>\n",
              "    </g>\n",
              "</svg>\n",
              "      </button>\n",
              "    </div>\n",
              "\n",
              "<style>\n",
              "  .colab-df-quickchart {\n",
              "    background-color: #E8F0FE;\n",
              "    border: none;\n",
              "    border-radius: 50%;\n",
              "    cursor: pointer;\n",
              "    display: none;\n",
              "    fill: #1967D2;\n",
              "    height: 32px;\n",
              "    padding: 0 0 0 0;\n",
              "    width: 32px;\n",
              "  }\n",
              "\n",
              "  .colab-df-quickchart:hover {\n",
              "    background-color: #E2EBFA;\n",
              "    box-shadow: 0px 1px 2px rgba(60, 64, 67, 0.3), 0px 1px 3px 1px rgba(60, 64, 67, 0.15);\n",
              "    fill: #174EA6;\n",
              "  }\n",
              "\n",
              "  [theme=dark] .colab-df-quickchart {\n",
              "    background-color: #3B4455;\n",
              "    fill: #D2E3FC;\n",
              "  }\n",
              "\n",
              "  [theme=dark] .colab-df-quickchart:hover {\n",
              "    background-color: #434B5C;\n",
              "    box-shadow: 0px 1px 3px 1px rgba(0, 0, 0, 0.15);\n",
              "    filter: drop-shadow(0px 1px 2px rgba(0, 0, 0, 0.3));\n",
              "    fill: #FFFFFF;\n",
              "  }\n",
              "</style>\n",
              "\n",
              "    <script>\n",
              "      async function quickchart(key) {\n",
              "        const containerElement = document.querySelector('#' + key);\n",
              "        const charts = await google.colab.kernel.invokeFunction(\n",
              "            'suggestCharts', [key], {});\n",
              "      }\n",
              "    </script>\n",
              "\n",
              "      <script>\n",
              "\n",
              "function displayQuickchartButton(domScope) {\n",
              "  let quickchartButtonEl =\n",
              "    domScope.querySelector('#df-f2c08bef-eec2-47bc-ac22-75a6655f53e3 button.colab-df-quickchart');\n",
              "  quickchartButtonEl.style.display =\n",
              "    google.colab.kernel.accessAllowed ? 'block' : 'none';\n",
              "}\n",
              "\n",
              "        displayQuickchartButton(document);\n",
              "      </script>\n",
              "      <style>\n",
              "    .colab-df-container {\n",
              "      display:flex;\n",
              "      flex-wrap:wrap;\n",
              "      gap: 12px;\n",
              "    }\n",
              "\n",
              "    .colab-df-convert {\n",
              "      background-color: #E8F0FE;\n",
              "      border: none;\n",
              "      border-radius: 50%;\n",
              "      cursor: pointer;\n",
              "      display: none;\n",
              "      fill: #1967D2;\n",
              "      height: 32px;\n",
              "      padding: 0 0 0 0;\n",
              "      width: 32px;\n",
              "    }\n",
              "\n",
              "    .colab-df-convert:hover {\n",
              "      background-color: #E2EBFA;\n",
              "      box-shadow: 0px 1px 2px rgba(60, 64, 67, 0.3), 0px 1px 3px 1px rgba(60, 64, 67, 0.15);\n",
              "      fill: #174EA6;\n",
              "    }\n",
              "\n",
              "    [theme=dark] .colab-df-convert {\n",
              "      background-color: #3B4455;\n",
              "      fill: #D2E3FC;\n",
              "    }\n",
              "\n",
              "    [theme=dark] .colab-df-convert:hover {\n",
              "      background-color: #434B5C;\n",
              "      box-shadow: 0px 1px 3px 1px rgba(0, 0, 0, 0.15);\n",
              "      filter: drop-shadow(0px 1px 2px rgba(0, 0, 0, 0.3));\n",
              "      fill: #FFFFFF;\n",
              "    }\n",
              "  </style>\n",
              "\n",
              "      <script>\n",
              "        const buttonEl =\n",
              "          document.querySelector('#df-78b93580-9c0d-4478-98a4-8e8672893599 button.colab-df-convert');\n",
              "        buttonEl.style.display =\n",
              "          google.colab.kernel.accessAllowed ? 'block' : 'none';\n",
              "\n",
              "        async function convertToInteractive(key) {\n",
              "          const element = document.querySelector('#df-78b93580-9c0d-4478-98a4-8e8672893599');\n",
              "          const dataTable =\n",
              "            await google.colab.kernel.invokeFunction('convertToInteractive',\n",
              "                                                     [key], {});\n",
              "          if (!dataTable) return;\n",
              "\n",
              "          const docLinkHtml = 'Like what you see? Visit the ' +\n",
              "            '<a target=\"_blank\" href=https://colab.research.google.com/notebooks/data_table.ipynb>data table notebook</a>'\n",
              "            + ' to learn more about interactive tables.';\n",
              "          element.innerHTML = '';\n",
              "          dataTable['output_type'] = 'display_data';\n",
              "          await google.colab.output.renderOutput(dataTable, element);\n",
              "          const docLink = document.createElement('div');\n",
              "          docLink.innerHTML = docLinkHtml;\n",
              "          element.appendChild(docLink);\n",
              "        }\n",
              "      </script>\n",
              "    </div>\n",
              "  </div>\n"
            ]
          },
          "metadata": {},
          "execution_count": 8
        }
      ]
    },
    {
      "cell_type": "code",
      "source": [
        "data[data['comment_text'].str.len() >=280]['comment_text'].count()"
      ],
      "metadata": {
        "colab": {
          "base_uri": "https://localhost:8080/"
        },
        "id": "cEdGZkdwZ1Do",
        "outputId": "bd10daf2-fde2-49b4-e798-c79c0332de6a"
      },
      "execution_count": 9,
      "outputs": [
        {
          "output_type": "execute_result",
          "data": {
            "text/plain": [
              "315"
            ]
          },
          "metadata": {},
          "execution_count": 9
        }
      ]
    },
    {
      "cell_type": "markdown",
      "source": [
        "## Split data"
      ],
      "metadata": {
        "id": "N06z0Zd_SDEj"
      }
    },
    {
      "cell_type": "code",
      "source": [
        "X = data['comment_text'].values #data.drop('should_ban', axis=1)\n",
        "y = data['should_ban'].values\n",
        "X_train, X_test, y_train, y_test = train_test_split(X, y, test_size=0.5, random_state=42)"
      ],
      "metadata": {
        "id": "rk7dEABDSPn5"
      },
      "execution_count": 10,
      "outputs": []
    },
    {
      "cell_type": "markdown",
      "source": [
        "## Tokenize data"
      ],
      "metadata": {
        "id": "zCBbljBwS8Mq"
      }
    },
    {
      "cell_type": "code",
      "source": [
        "tokenizer = TweetTokenizer()\n",
        "toker = lambda txt: ' '.join(tokenizer.tokenize(txt.lower()))\n",
        "display(X_test[89])\n",
        "toker(X_test[89])"
      ],
      "metadata": {
        "colab": {
          "base_uri": "https://localhost:8080/",
          "height": 54
        },
        "id": "UYhwjPsHS9Xl",
        "outputId": "581337b5-4f9a-48e6-efe5-8c920f045cb5"
      },
      "execution_count": 11,
      "outputs": [
        {
          "output_type": "display_data",
          "data": {
            "text/plain": [
              "'heY TOdds! Quick Q? \\n\\nWhy Are You So Gay'"
            ],
            "application/vnd.google.colaboratory.intrinsic+json": {
              "type": "string"
            }
          },
          "metadata": {}
        },
        {
          "output_type": "execute_result",
          "data": {
            "text/plain": [
              "'hey todds ! quick q ? why are you so gay'"
            ],
            "application/vnd.google.colaboratory.intrinsic+json": {
              "type": "string"
            }
          },
          "metadata": {},
          "execution_count": 11
        }
      ]
    },
    {
      "cell_type": "code",
      "source": [
        "v_tok = np.vectorize(toker)\n",
        "texts_train = v_tok(X_train) #np.array([toker(x) for x in X_test])\n",
        "texts_test = v_tok(X_test)"
      ],
      "metadata": {
        "id": "NO3xYRg5U20R"
      },
      "execution_count": 12,
      "outputs": []
    },
    {
      "cell_type": "markdown",
      "source": [
        "### Bathe in tests"
      ],
      "metadata": {
        "id": "260sM84Vbe6j"
      }
    },
    {
      "cell_type": "code",
      "source": [
        "assert texts_train[5] ==  'who cares anymore . they attack with impunity .'\n",
        "assert texts_test[89] == 'hey todds ! quick q ? why are you so gay'\n",
        "assert len(texts_test) == len(y_test)"
      ],
      "metadata": {
        "id": "K9qZY9rjUiXu"
      },
      "execution_count": 13,
      "outputs": []
    },
    {
      "cell_type": "markdown",
      "source": [
        "## Baseline"
      ],
      "metadata": {
        "id": "RW9rP5q8Tk_6"
      }
    },
    {
      "cell_type": "code",
      "source": [
        "tfidf = TfidfVectorizer(tokenizer=tokenizer.tokenize)\n",
        "X_train_tfidf = tfidf.fit_transform(texts_train)\n",
        "X_test_tfidf = tfidf.transform(texts_test)\n",
        "\n",
        "rf = RandomForestClassifier(n_estimators=100, max_depth=7, random_state=42)\n",
        "rf.fit(X_train_tfidf, y_train)\n",
        "y_pred = rf.predict(X_test_tfidf)\n",
        "\n",
        "print('Accuracy:', accuracy_score(y_test, y_pred))\n",
        "print(classification_report(y_test, y_pred))"
      ],
      "metadata": {
        "colab": {
          "base_uri": "https://localhost:8080/"
        },
        "id": "NuuCqk8ySXm9",
        "outputId": "5410bbcd-d8b6-46f2-dbe6-6808369933b3"
      },
      "execution_count": 14,
      "outputs": [
        {
          "output_type": "stream",
          "name": "stderr",
          "text": [
            "/usr/local/lib/python3.10/dist-packages/sklearn/feature_extraction/text.py:528: UserWarning: The parameter 'token_pattern' will not be used since 'tokenizer' is not None'\n",
            "  warnings.warn(\n"
          ]
        },
        {
          "output_type": "stream",
          "name": "stdout",
          "text": [
            "Accuracy: 0.738\n",
            "              precision    recall  f1-score   support\n",
            "\n",
            "           0       0.70      0.77      0.73       231\n",
            "           1       0.78      0.71      0.75       269\n",
            "\n",
            "    accuracy                           0.74       500\n",
            "   macro avg       0.74      0.74      0.74       500\n",
            "weighted avg       0.74      0.74      0.74       500\n",
            "\n"
          ]
        }
      ]
    },
    {
      "cell_type": "markdown",
      "source": [
        "## Write word counter over all documents"
      ],
      "metadata": {
        "id": "IH-HLBXAVUgw"
      }
    },
    {
      "cell_type": "code",
      "source": [
        "def get_freq_words(documents: np.ndarray)-> dict:\n",
        "  '''Counts the number of words in all documents. Returns a dict {word:number}'''\n",
        "  frequent_words = {}\n",
        "  for doc in documents:\n",
        "    doc = doc.split()\n",
        "    for word in doc:\n",
        "      frequent_words[word] = frequent_words.get(word, 0) +1\n",
        "  return frequent_words\n",
        "\n",
        "\n",
        "def sort_freq_words(word_freq: dict, k: int)-> list:\n",
        "  '''Returns a sorted by occurency list of words with most frequent being first'''\n",
        "  return sorted(word_freq.items(), key=lambda items: items[1], reverse=True)[:k]"
      ],
      "metadata": {
        "id": "X4I8wu7lVT4q"
      },
      "execution_count": 15,
      "outputs": []
    },
    {
      "cell_type": "code",
      "source": [
        "k = 10000\n",
        "word_frequency = get_freq_words(texts_train)\n",
        "sorted_words = sort_freq_words(word_frequency, k)\n",
        "bow_vocabulary = [token for token, n in sorted_words]\n",
        "bow_vocabulary[:10]"
      ],
      "metadata": {
        "id": "E5-STlpNYGJw",
        "outputId": "3a8c63ba-038e-4311-9ec6-2cfbe94c61e5",
        "colab": {
          "base_uri": "https://localhost:8080/"
        }
      },
      "execution_count": 16,
      "outputs": [
        {
          "output_type": "execute_result",
          "data": {
            "text/plain": [
              "['.', ',', 'you', 'the', '\"', 'a', 'to', 'i', 'and', '!']"
            ]
          },
          "metadata": {},
          "execution_count": 16
        }
      ]
    },
    {
      "cell_type": "markdown",
      "source": [
        "## Create Bag of Words embeddings"
      ],
      "metadata": {
        "id": "nC5ZpgkQZCy9"
      }
    },
    {
      "cell_type": "code",
      "source": [
        "def text_to_bow(text: str)-> np.ndarray:\n",
        "    \"\"\"Convert text string to an array of token counts. Use bow_vocabulary.\"\"\"\n",
        "    bow_vector = np.zeros(len(bow_vocabulary))\n",
        "    for word in text.split():\n",
        "        if word in bow_vocabulary:\n",
        "            bow_vector[bow_vocabulary.index(word)] += 1\n",
        "    return bow_vector"
      ],
      "metadata": {
        "id": "1LEGbX-DX6YF"
      },
      "execution_count": 17,
      "outputs": []
    },
    {
      "cell_type": "code",
      "source": [
        "X_train_bow = np.stack(list(map(text_to_bow, texts_train)))\n",
        "X_test_bow = np.stack(list(map(text_to_bow, texts_test)))"
      ],
      "metadata": {
        "id": "tTilOJLqZAlG"
      },
      "execution_count": 18,
      "outputs": []
    },
    {
      "cell_type": "markdown",
      "source": [
        "### Bathe in tests"
      ],
      "metadata": {
        "id": "DfQ1n2CvikQk"
      }
    },
    {
      "cell_type": "code",
      "source": [
        "k_max = len(set(' '.join(texts_train).split()))\n",
        "assert X_train_bow.shape == (len(texts_train), min(k, k_max))\n",
        "assert X_test_bow.shape == (len(texts_test), min(k, k_max))\n",
        "assert np.all(X_train_bow[5:10].sum(-1) == np.array([len(s.split()) for s in  texts_train[5:10]]))\n",
        "assert len(bow_vocabulary) <= min(k, k_max)\n",
        "assert X_train_bow[6, bow_vocabulary.index('.')] == texts_train[6].split().count('.')"
      ],
      "metadata": {
        "id": "XlvTRDDQY9B0"
      },
      "execution_count": 19,
      "outputs": []
    },
    {
      "cell_type": "markdown",
      "source": [
        "# Naive bayes"
      ],
      "metadata": {
        "id": "e6KwK0thHRqT"
      }
    },
    {
      "cell_type": "code",
      "source": [
        "class BinaryNaiveBayes:\n",
        "    delta = 1.0  # add this to all word counts to smoothe probabilities\n",
        "\n",
        "    def fit(self, X, y):\n",
        "        \"\"\"\n",
        "        Fit a NaiveBayes classifier for two classes\n",
        "        :param X: [batch_size, vocab_size] of bag-of-words features\n",
        "        :param y: [batch_size] of binary targets {0, 1}\n",
        "        \"\"\"\n",
        "        # first, compute marginal probabilities of every class, p(y=k) for k = 0,1\n",
        "        self.p_y = np.array([np.mean(y==0), np.mean(y==1)])\n",
        "\n",
        "        # count occurences of each word in texts with label 1 and label 0 separately\n",
        "        word_counts_positive = np.sum(X[y==1], axis=0)\n",
        "        word_counts_negative = np.sum(X[y==0], axis=0)\n",
        "        # ^-- both must be vectors of shape [vocab_size].\n",
        "\n",
        "        # finally, lets use those counts to estimate p(x | y = k) for k = 0, 1\n",
        "        total_positive_words = np.sum(word_counts_positive) + BinaryNaiveBayes.delta * X.shape[1]\n",
        "        total_negative_words = np.sum(word_counts_negative) + BinaryNaiveBayes.delta * X.shape[1]\n",
        "\n",
        "        self.p_x_given_positive = (word_counts_positive + BinaryNaiveBayes.delta) / total_positive_words\n",
        "        self.p_x_given_negative = (word_counts_negative + BinaryNaiveBayes.delta) / total_negative_words\n",
        "        # both must be of shape [vocab_size]; and don't forget to add self.delta!\n",
        "        print(self.p_x_given_positive.shape, self.p_x_given_negative.shape)\n",
        "        return self\n",
        "\n",
        "\n",
        "    def predict_scores(self, X):\n",
        "        \"\"\"\n",
        "        :param X: [batch_size, vocab_size] of bag-of-words features\n",
        "        :returns: a matrix of scores [batch_size, k] of scores for k-th class\n",
        "        \"\"\"\n",
        "        # compute scores for positive and negative classes separately.\n",
        "        # these scores should be proportional to log-probabilities of the respective target {0, 1}\n",
        "        # note: if you apply logarithm to p_x_given_*, the total log-probability can be written\n",
        "        # as a dot-product with X\n",
        "        score_negative = np.log(self.p_y[0]) + np.sum(np.log(self.p_x_given_negative)*X, axis=1)\n",
        "        score_positive = np.log(self.p_y[1]) + np.sum(np.log(self.p_x_given_positive)*X, axis=1)\n",
        "\n",
        "        # you can compute total p(x | y=k) with a dot product\n",
        "        return np.stack([score_negative, score_positive], axis=-1)\n",
        "\n",
        "    def predict(self, X):\n",
        "        return self.predict_scores(X).argmax(axis=-1)\n",
        "\n",
        "\n",
        "    def get_ratio(self):\n",
        "        probability_ratio = self.p_x_given_negative / self.p_x_given_positive\n",
        "        return np.argsort(probability_ratio)\n",
        "\n",
        "    def get_ratio_in_vocab(self, vocab):\n",
        "      return [self.p_x_given_negative[i] / self.p_x_given_positive[i] for i in range(len(vocab))]"
      ],
      "metadata": {
        "id": "kYF9KFfMHQYH"
      },
      "execution_count": 127,
      "outputs": []
    },
    {
      "cell_type": "code",
      "source": [
        "naive_model = BinaryNaiveBayes().fit(X_train_bow, y_train)"
      ],
      "metadata": {
        "colab": {
          "base_uri": "https://localhost:8080/"
        },
        "id": "wLK9uDIsKOHt",
        "outputId": "4b80c46a-e5db-45c0-b0a7-8ea413b84e50"
      },
      "execution_count": 128,
      "outputs": [
        {
          "output_type": "stream",
          "name": "stdout",
          "text": [
            "(5707,) (5707,)\n"
          ]
        }
      ]
    },
    {
      "cell_type": "markdown",
      "source": [
        "### Bathe in tests"
      ],
      "metadata": {
        "id": "mrlwvZdMdaGe"
      }
    },
    {
      "cell_type": "code",
      "source": [
        "assert naive_model.p_y.shape == (2,) and naive_model.p_y.sum() == 1 and naive_model.p_y[0] > naive_model.p_y[1]\n",
        "assert naive_model.p_x_given_positive.shape == naive_model.p_x_given_negative.shape == X_train_bow.shape[1:]\n",
        "assert np.allclose(naive_model.p_x_given_positive.sum(), 1.0)\n",
        "assert np.allclose(naive_model.p_x_given_negative.sum(), 1.0)\n",
        "assert naive_model.p_x_given_negative.min() > 0, \"did you forget to add delta?\"\n",
        "\n",
        "f_index = bow_vocabulary.index('fuck')  # offensive tweets should contain more of this\n",
        "assert naive_model.p_x_given_positive[f_index] > naive_model.p_x_given_negative[f_index]\n",
        "\n",
        "g_index = bow_vocabulary.index('good')  # offensive tweets should contain less of this\n",
        "assert naive_model.p_x_given_positive[g_index] < naive_model.p_x_given_negative[g_index]"
      ],
      "metadata": {
        "id": "gwalzfICKQym"
      },
      "execution_count": 123,
      "outputs": []
    },
    {
      "cell_type": "code",
      "source": [
        "for name, X, y, model in [\n",
        "    ('train', X_train_bow, y_train, naive_model),\n",
        "    ('test ', X_test_bow, y_test, naive_model)\n",
        "]:\n",
        "    proba = model.predict_scores(X)[:, 1] - model.predict_scores(X)[:, 0]\n",
        "    auc = roc_auc_score(y, proba)\n",
        "    plt.plot(*roc_curve(y, proba)[:2], label='%s AUC=%.4f' % (name, auc))\n",
        "\n",
        "plt.plot([0, 1], [0, 1], '--', color='black',)\n",
        "plt.legend(fontsize='large')\n",
        "plt.grid()\n",
        "\n",
        "test_accuracy = np.mean(naive_model.predict(X_test_bow) == y_test)\n",
        "print(f\"Model accuracy: {test_accuracy:.3f}\")\n",
        "assert test_accuracy > 0.75, \"Accuracy too low. There's likely a mistake in the code.\"\n",
        "print(\"Well done!\")"
      ],
      "metadata": {
        "id": "sQXmMd9pYz8M",
        "outputId": "0ae62f74-0a9e-494a-d81c-04cf2eb1afaa",
        "colab": {
          "base_uri": "https://localhost:8080/",
          "height": 465
        }
      },
      "execution_count": 124,
      "outputs": [
        {
          "output_type": "stream",
          "name": "stdout",
          "text": [
            "Model accuracy: 0.756\n",
            "Well done!\n"
          ]
        },
        {
          "output_type": "display_data",
          "data": {
            "text/plain": [
              "<Figure size 640x480 with 1 Axes>"
            ],
            "image/png": "[encoded data removed]"
          },
          "metadata": {}
        }
      ]
    },
    {
      "cell_type": "code",
      "source": [
        "# hint: use naive_model.p_*\n",
        "probability_ratio = naive_model.get_ratio() #<YOUR CODE: compute the ratio as defined above, must be a vector of [vocab_size]>\n",
        "top_negative_words = [bow_vocabulary[i] for i in probability_ratio[:25]] #<YOUR CODE: find 25 words with highest probability_ratio, return list of str>\n"
      ],
      "metadata": {
        "id": "BDclpNsNPsMo"
      },
      "execution_count": 131,
      "outputs": []
    },
    {
      "cell_type": "code",
      "source": [],
      "metadata": {
        "id": "J8GnJ9u0axfQ"
      },
      "execution_count": null,
      "outputs": []
    },
    {
      "cell_type": "code",
      "source": [
        "assert len(top_negative_words) == 25 and [isinstance(w, str) for w in top_negative_words]\n",
        "assert 'j.delanoy' in top_negative_words and 'college' in top_negative_words\n",
        "\n",
        "for i, word in enumerate(top_negative_words):\n",
        "    print(f\"#{i}\\t{word.rjust(10, ' ')}\\t(ratio={probability_ratio[bow_vocabulary.index(word)]})\")"
      ],
      "metadata": {
        "id": "EwhqhaurHhxK",
        "outputId": "45eefad0-00ee-4ce6-df1f-29243cedf5cb",
        "colab": {
          "base_uri": "https://localhost:8080/"
        }
      },
      "execution_count": 132,
      "outputs": [
        {
          "output_type": "stream",
          "name": "stdout",
          "text": [
            "#0\t    hitler\t(ratio=337)\n",
            "#1\t      heil\t(ratio=333)\n",
            "#2\t   offfuck\t(ratio=380)\n",
            "#3\t      suck\t(ratio=208)\n",
            "#4\t    nigger\t(ratio=717)\n",
            "#5\t j.delanoy\t(ratio=686)\n",
            "#6\t      dick\t(ratio=766)\n",
            "#7\t      fggt\t(ratio=295)\n",
            "#8\t     bitch\t(ratio=1354)\n",
            "#9\t      fuck\t(ratio=1340)\n",
            "#10\t      slap\t(ratio=1791)\n",
            "#11\t      shit\t(ratio=1796)\n",
            "#12\t   fucking\t(ratio=1588)\n",
            "#13\t       ass\t(ratio=1604)\n",
            "#14\t    stupid\t(ratio=2318)\n",
            "#15\t         =\t(ratio=181)\n",
            "#16\t   college\t(ratio=836)\n",
            "#17\t         *\t(ratio=776)\n",
            "#18\t   asshole\t(ratio=787)\n",
            "#19\t         u\t(ratio=1593)\n",
            "#20\t   bastard\t(ratio=3239)\n",
            "#21\t       hit\t(ratio=3543)\n",
            "#22\t     idiot\t(ratio=3459)\n",
            "#23\t         @\t(ratio=3394)\n",
            "#24\tscientific\t(ratio=2379)\n"
          ]
        }
      ]
    },
    {
      "cell_type": "code",
      "source": [
        "bow_vocabulary[337]"
      ],
      "metadata": {
        "id": "BfihQMpfZ_go",
        "outputId": "7fe55a45-bf3a-4885-e3a3-2918f8be1e30",
        "colab": {
          "base_uri": "https://localhost:8080/",
          "height": 36
        }
      },
      "execution_count": 149,
      "outputs": [
        {
          "output_type": "execute_result",
          "data": {
            "text/plain": [
              "'college'"
            ],
            "application/vnd.google.colaboratory.intrinsic+json": {
              "type": "string"
            }
          },
          "metadata": {},
          "execution_count": 149
        }
      ]
    },
    {
      "cell_type": "markdown",
      "source": [
        "#### The output words are right, but something seems wrong with the ratio interpretation"
      ],
      "metadata": {
        "id": "oB9mypSZVi1v"
      }
    },
    {
      "cell_type": "code",
      "source": [
        "n_word = lambda n: bow_vocabulary[probability_ratio[n]]\n",
        "n_score = lambda n: naive_model.p_x_given_negative[probability_ratio[n]] / naive_model.p_x_given_positive[probability_ratio[n]]\n",
        "print(f'{n_word(0)}: {n_score(0)}')"
      ],
      "metadata": {
        "id": "MLGEwXrRanS_",
        "outputId": "909a692c-683e-4153-f5b9-3dedcc3b518f",
        "colab": {
          "base_uri": "https://localhost:8080/"
        }
      },
      "execution_count": 164,
      "outputs": [
        {
          "output_type": "stream",
          "name": "stdout",
          "text": [
            "hitler: 0.0021031669981914822\n"
          ]
        }
      ]
    },
    {
      "cell_type": "code",
      "source": [
        "for i in range(len(top_negative_words)):\n",
        "  print(f'{i+1}: {n_word(i)} {round(n_score(i),5)}')\n"
      ],
      "metadata": {
        "id": "sVOu5CfnbgrG",
        "outputId": "3c4b2881-2c67-4605-f0a9-4b1ad361cdf9",
        "colab": {
          "base_uri": "https://localhost:8080/"
        }
      },
      "execution_count": 171,
      "outputs": [
        {
          "output_type": "stream",
          "name": "stdout",
          "text": [
            "1: hitler 0.0021\n",
            "2: heil 0.00212\n",
            "3: offfuck 0.00227\n",
            "4: suck 0.00318\n",
            "5: nigger 0.00447\n",
            "6: j.delanoy 0.00455\n",
            "7: dick 0.00535\n",
            "8: fggt 0.01023\n",
            "9: bitch 0.0167\n",
            "10: fuck 0.01859\n",
            "11: slap 0.02273\n",
            "12: shit 0.02273\n",
            "13: fucking 0.03147\n",
            "14: ass 0.03719\n",
            "15: stupid 0.05454\n",
            "16: = 0.05701\n",
            "17: college 0.05844\n",
            "18: * 0.05844\n",
            "19: asshole 0.06293\n",
            "20: u 0.06545\n",
            "21: bastard 0.06818\n",
            "22: hit 0.06818\n",
            "23: idiot 0.07438\n",
            "24: @ 0.07438\n",
            "25: scientific 0.08181\n"
          ]
        }
      ]
    },
    {
      "cell_type": "markdown",
      "source": [
        "But since we are not allowed to change the test part let's consider the following code"
      ],
      "metadata": {
        "id": "SlyshsZkbdte"
      }
    },
    {
      "cell_type": "code",
      "source": [
        "from functools import cmp_to_key\n",
        "\n",
        "inverted_bow = {word: idx for idx, word in enumerate(bow_vocabulary)}\n",
        "proba_ratio = naive_model.get_ratio_in_vocab(bow_vocabulary)\n",
        "top_neg_w = [w for w, idx in sorted(inverted_bow.items(), key=cmp_to_key(lambda i1, i2: proba_ratio[i1[1]]-proba_ratio[i2[1]]))][:25]"
      ],
      "metadata": {
        "id": "L0QSbzR1VqDX"
      },
      "execution_count": 119,
      "outputs": []
    },
    {
      "cell_type": "code",
      "source": [
        "assert len(top_neg_w) == 25 and [isinstance(w, str) for w in top_neg_w]\n",
        "assert 'j.delanoy' in top_neg_w and 'college' in top_neg_w\n",
        "\n",
        "for i, word in enumerate(top_neg_w):\n",
        "    print(f\"#{i}\\t{word.rjust(10, ' ')}\\t(ratio={proba_ratio[bow_vocabulary.index(word)]})\")"
      ],
      "metadata": {
        "id": "3WK3YkFYWiVX",
        "outputId": "19dd54cf-1c29-4f85-9702-d90c70302b5c",
        "colab": {
          "base_uri": "https://localhost:8080/"
        }
      },
      "execution_count": 120,
      "outputs": [
        {
          "output_type": "stream",
          "name": "stdout",
          "text": [
            "#0\t    hitler\t(ratio=0.0021031669981914822)\n",
            "#1\t      heil\t(ratio=0.00211951285569038)\n",
            "#2\t   offfuck\t(ratio=0.002266293524366999)\n",
            "#3\t      suck\t(ratio=0.003177211504064026)\n",
            "#4\t    nigger\t(ratio=0.004470666460636539)\n",
            "#5\t j.delanoy\t(ratio=0.004545177568313815)\n",
            "#6\t      dick\t(ratio=0.005347267727428018)\n",
            "#7\t      fggt\t(ratio=0.010226649528706083)\n",
            "#8\t     bitch\t(ratio=0.016696570659111974)\n",
            "#9\t      fuck\t(ratio=0.01859390823401106)\n",
            "#10\t      shit\t(ratio=0.022725887841569075)\n",
            "#11\t      slap\t(ratio=0.022725887841569075)\n",
            "#12\t   fucking\t(ratio=0.031466613934480255)\n",
            "#13\t       ass\t(ratio=0.03718781646802212)\n",
            "#14\t    stupid\t(ratio=0.05454213081976578)\n",
            "#15\t         =\t(ratio=0.05701268029940674)\n",
            "#16\t         *\t(ratio=0.05843799730689191)\n",
            "#17\t   college\t(ratio=0.05843799730689191)\n",
            "#18\t   asshole\t(ratio=0.06293322786896051)\n",
            "#19\t         u\t(ratio=0.06545055698371893)\n",
            "#20\t   bastard\t(ratio=0.06817766352470722)\n",
            "#21\t       hit\t(ratio=0.06817766352470722)\n",
            "#22\t     idiot\t(ratio=0.07437563293604424)\n",
            "#23\t         @\t(ratio=0.07437563293604424)\n",
            "#24\t beautiful\t(ratio=0.08181319622964867)\n"
          ]
        }
      ]
    }
  ]
}