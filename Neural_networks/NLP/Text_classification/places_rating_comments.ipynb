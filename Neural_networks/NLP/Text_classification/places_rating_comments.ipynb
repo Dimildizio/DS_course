{
  "nbformat": 4,
  "nbformat_minor": 0,
  "metadata": {
    "colab": {
      "provenance": [],
      "authorship_tag": "ABX9TyPb1UdTzGN/N8w4JlhdRRAW",
      "include_colab_link": true
    },
    "kernelspec": {
      "name": "python3",
      "display_name": "Python 3"
    },
    "language_info": {
      "name": "python"
    }
  },
  "cells": [
    {
      "cell_type": "markdown",
      "metadata": {
        "id": "view-in-github",
        "colab_type": "text"
      },
      "source": [
        "<a href=\"https://colab.research.google.com/github/Dimildizio/DS_course/blob/main/Neural_networks/NLP/Text_classification/places_rating_comments.ipynb\" target=\"_parent\"><img src=\"https://colab.research.google.com/assets/colab-badge.svg\" alt=\"Open In Colab\"/></a>"
      ]
    },
    {
      "cell_type": "markdown",
      "source": [
        "# Comments rating classification"
      ],
      "metadata": {
        "id": "MgbY4XUfv1Dt"
      }
    },
    {
      "cell_type": "markdown",
      "source": [
        "## download libs"
      ],
      "metadata": {
        "id": "yVeWKMin2H4M"
      }
    },
    {
      "cell_type": "code",
      "source": [
        "%%capture\n",
        "!pip install nltk gensim"
      ],
      "metadata": {
        "id": "2KQsNDf52A7A"
      },
      "execution_count": null,
      "outputs": []
    },
    {
      "cell_type": "markdown",
      "source": [
        "## imports"
      ],
      "metadata": {
        "id": "aQ_5oUMLzXGg"
      }
    },
    {
      "cell_type": "code",
      "source": [
        "import pandas as pd\n",
        "import nltk\n",
        "import re\n",
        "\n",
        "from collections import Counter\n",
        "from itertools import chain\n",
        "from nltk.tokenize import word_tokenize\n",
        "from sklearn.model_selection import train_test_split\n",
        "from typing import List\n",
        "\n",
        "import torch\n",
        "from torch.nn.utils.rnn import pack_sequence\n",
        "from torch.utils.data import Dataset, DataLoader\n"
      ],
      "metadata": {
        "id": "4MaZrN7ivwhh"
      },
      "execution_count": 74,
      "outputs": []
    },
    {
      "cell_type": "code",
      "source": [
        "nltk.download('punkt')"
      ],
      "metadata": {
        "colab": {
          "base_uri": "https://localhost:8080/"
        },
        "id": "dGItDiYQ2Iqt",
        "outputId": "95409725-ff7d-4110-9023-662ca26aee26"
      },
      "execution_count": 26,
      "outputs": [
        {
          "output_type": "stream",
          "name": "stderr",
          "text": [
            "[nltk_data] Downloading package punkt to /root/nltk_data...\n",
            "[nltk_data]   Package punkt is already up-to-date!\n"
          ]
        },
        {
          "output_type": "execute_result",
          "data": {
            "text/plain": [
              "True"
            ]
          },
          "metadata": {},
          "execution_count": 26
        }
      ]
    },
    {
      "cell_type": "markdown",
      "source": [
        "## load data"
      ],
      "metadata": {
        "id": "yiWM9OoszY_W"
      }
    },
    {
      "cell_type": "code",
      "execution_count": 2,
      "metadata": {
        "id": "typckxywn04R"
      },
      "outputs": [],
      "source": [
        "%%capture\n",
        "!wget https://raw.githubusercontent.com/Dimildizio/DS_course/main/Neural_networks/NLP/Text_classification/data/train_reviews.csv\n",
        "!wget https://github.com/Dimildizio/DS_course/blob/main/Neural_networks/NLP/Text_classification/data/test_reviews.csv"
      ]
    },
    {
      "cell_type": "code",
      "source": [
        "trdf = pd.read_csv('train_reviews.csv')\n",
        "test_df = pd.read_csv('test_reviews.csv')"
      ],
      "metadata": {
        "id": "-le90E87wAg1"
      },
      "execution_count": 9,
      "outputs": []
    },
    {
      "cell_type": "code",
      "source": [
        "trdf.sample(5)"
      ],
      "metadata": {
        "colab": {
          "base_uri": "https://localhost:8080/",
          "height": 206
        },
        "id": "bhaCbpko1vPi",
        "outputId": "7464dba2-2d51-41e0-86ae-1fc194d42725"
      },
      "execution_count": 57,
      "outputs": [
        {
          "output_type": "execute_result",
          "data": {
            "text/plain": [
              "       rate                                               text\n",
              "44158     5  Удивительно отличная подборка алкоголя. Особен...\n",
              "10099     5  Лучшая пятёрочка в Питере) просто лучшая без л...\n",
              "3237      5  Можно припарковаться, сама по себе чистая,перс...\n",
              "24812     4  Пятёрочка сам по себе магазин хороший, цены дл...\n",
              "20955     2  Хотели купить бутылку вина, ценник не соответс..."
            ],
            "text/html": [
              "\n",
              "  <div id=\"df-f21dba06-ff25-47ef-8b81-6447c072b467\" class=\"colab-df-container\">\n",
              "    <div>\n",
              "<style scoped>\n",
              "    .dataframe tbody tr th:only-of-type {\n",
              "        vertical-align: middle;\n",
              "    }\n",
              "\n",
              "    .dataframe tbody tr th {\n",
              "        vertical-align: top;\n",
              "    }\n",
              "\n",
              "    .dataframe thead th {\n",
              "        text-align: right;\n",
              "    }\n",
              "</style>\n",
              "<table border=\"1\" class=\"dataframe\">\n",
              "  <thead>\n",
              "    <tr style=\"text-align: right;\">\n",
              "      <th></th>\n",
              "      <th>rate</th>\n",
              "      <th>text</th>\n",
              "    </tr>\n",
              "  </thead>\n",
              "  <tbody>\n",
              "    <tr>\n",
              "      <th>44158</th>\n",
              "      <td>5</td>\n",
              "      <td>Удивительно отличная подборка алкоголя. Особен...</td>\n",
              "    </tr>\n",
              "    <tr>\n",
              "      <th>10099</th>\n",
              "      <td>5</td>\n",
              "      <td>Лучшая пятёрочка в Питере) просто лучшая без л...</td>\n",
              "    </tr>\n",
              "    <tr>\n",
              "      <th>3237</th>\n",
              "      <td>5</td>\n",
              "      <td>Можно припарковаться, сама по себе чистая,перс...</td>\n",
              "    </tr>\n",
              "    <tr>\n",
              "      <th>24812</th>\n",
              "      <td>4</td>\n",
              "      <td>Пятёрочка сам по себе магазин хороший, цены дл...</td>\n",
              "    </tr>\n",
              "    <tr>\n",
              "      <th>20955</th>\n",
              "      <td>2</td>\n",
              "      <td>Хотели купить бутылку вина, ценник не соответс...</td>\n",
              "    </tr>\n",
              "  </tbody>\n",
              "</table>\n",
              "</div>\n",
              "    <div class=\"colab-df-buttons\">\n",
              "\n",
              "  <div class=\"colab-df-container\">\n",
              "    <button class=\"colab-df-convert\" onclick=\"convertToInteractive('df-f21dba06-ff25-47ef-8b81-6447c072b467')\"\n",
              "            title=\"Convert this dataframe to an interactive table.\"\n",
              "            style=\"display:none;\">\n",
              "\n",
              "  <svg xmlns=\"http://www.w3.org/2000/svg\" height=\"24px\" viewBox=\"0 -960 960 960\">\n",
              "    <path d=\"M120-120v-720h720v720H120Zm60-500h600v-160H180v160Zm220 220h160v-160H400v160Zm0 220h160v-160H400v160ZM180-400h160v-160H180v160Zm440 0h160v-160H620v160ZM180-180h160v-160H180v160Zm440 0h160v-160H620v160Z\"/>\n",
              "  </svg>\n",
              "    </button>\n",
              "\n",
              "  <style>\n",
              "    .colab-df-container {\n",
              "      display:flex;\n",
              "      gap: 12px;\n",
              "    }\n",
              "\n",
              "    .colab-df-convert {\n",
              "      background-color: #E8F0FE;\n",
              "      border: none;\n",
              "      border-radius: 50%;\n",
              "      cursor: pointer;\n",
              "      display: none;\n",
              "      fill: #1967D2;\n",
              "      height: 32px;\n",
              "      padding: 0 0 0 0;\n",
              "      width: 32px;\n",
              "    }\n",
              "\n",
              "    .colab-df-convert:hover {\n",
              "      background-color: #E2EBFA;\n",
              "      box-shadow: 0px 1px 2px rgba(60, 64, 67, 0.3), 0px 1px 3px 1px rgba(60, 64, 67, 0.15);\n",
              "      fill: #174EA6;\n",
              "    }\n",
              "\n",
              "    .colab-df-buttons div {\n",
              "      margin-bottom: 4px;\n",
              "    }\n",
              "\n",
              "    [theme=dark] .colab-df-convert {\n",
              "      background-color: #3B4455;\n",
              "      fill: #D2E3FC;\n",
              "    }\n",
              "\n",
              "    [theme=dark] .colab-df-convert:hover {\n",
              "      background-color: #434B5C;\n",
              "      box-shadow: 0px 1px 3px 1px rgba(0, 0, 0, 0.15);\n",
              "      filter: drop-shadow(0px 1px 2px rgba(0, 0, 0, 0.3));\n",
              "      fill: #FFFFFF;\n",
              "    }\n",
              "  </style>\n",
              "\n",
              "    <script>\n",
              "      const buttonEl =\n",
              "        document.querySelector('#df-f21dba06-ff25-47ef-8b81-6447c072b467 button.colab-df-convert');\n",
              "      buttonEl.style.display =\n",
              "        google.colab.kernel.accessAllowed ? 'block' : 'none';\n",
              "\n",
              "      async function convertToInteractive(key) {\n",
              "        const element = document.querySelector('#df-f21dba06-ff25-47ef-8b81-6447c072b467');\n",
              "        const dataTable =\n",
              "          await google.colab.kernel.invokeFunction('convertToInteractive',\n",
              "                                                    [key], {});\n",
              "        if (!dataTable) return;\n",
              "\n",
              "        const docLinkHtml = 'Like what you see? Visit the ' +\n",
              "          '<a target=\"_blank\" href=https://colab.research.google.com/notebooks/data_table.ipynb>data table notebook</a>'\n",
              "          + ' to learn more about interactive tables.';\n",
              "        element.innerHTML = '';\n",
              "        dataTable['output_type'] = 'display_data';\n",
              "        await google.colab.output.renderOutput(dataTable, element);\n",
              "        const docLink = document.createElement('div');\n",
              "        docLink.innerHTML = docLinkHtml;\n",
              "        element.appendChild(docLink);\n",
              "      }\n",
              "    </script>\n",
              "  </div>\n",
              "\n",
              "\n",
              "<div id=\"df-d3442439-68c6-4aa9-9ac8-642e3efe4964\">\n",
              "  <button class=\"colab-df-quickchart\" onclick=\"quickchart('df-d3442439-68c6-4aa9-9ac8-642e3efe4964')\"\n",
              "            title=\"Suggest charts.\"\n",
              "            style=\"display:none;\">\n",
              "\n",
              "<svg xmlns=\"http://www.w3.org/2000/svg\" height=\"24px\"viewBox=\"0 0 24 24\"\n",
              "     width=\"24px\">\n",
              "    <g>\n",
              "        <path d=\"M19 3H5c-1.1 0-2 .9-2 2v14c0 1.1.9 2 2 2h14c1.1 0 2-.9 2-2V5c0-1.1-.9-2-2-2zM9 17H7v-7h2v7zm4 0h-2V7h2v10zm4 0h-2v-4h2v4z\"/>\n",
              "    </g>\n",
              "</svg>\n",
              "  </button>\n",
              "\n",
              "<style>\n",
              "  .colab-df-quickchart {\n",
              "      --bg-color: #E8F0FE;\n",
              "      --fill-color: #1967D2;\n",
              "      --hover-bg-color: #E2EBFA;\n",
              "      --hover-fill-color: #174EA6;\n",
              "      --disabled-fill-color: #AAA;\n",
              "      --disabled-bg-color: #DDD;\n",
              "  }\n",
              "\n",
              "  [theme=dark] .colab-df-quickchart {\n",
              "      --bg-color: #3B4455;\n",
              "      --fill-color: #D2E3FC;\n",
              "      --hover-bg-color: #434B5C;\n",
              "      --hover-fill-color: #FFFFFF;\n",
              "      --disabled-bg-color: #3B4455;\n",
              "      --disabled-fill-color: #666;\n",
              "  }\n",
              "\n",
              "  .colab-df-quickchart {\n",
              "    background-color: var(--bg-color);\n",
              "    border: none;\n",
              "    border-radius: 50%;\n",
              "    cursor: pointer;\n",
              "    display: none;\n",
              "    fill: var(--fill-color);\n",
              "    height: 32px;\n",
              "    padding: 0;\n",
              "    width: 32px;\n",
              "  }\n",
              "\n",
              "  .colab-df-quickchart:hover {\n",
              "    background-color: var(--hover-bg-color);\n",
              "    box-shadow: 0 1px 2px rgba(60, 64, 67, 0.3), 0 1px 3px 1px rgba(60, 64, 67, 0.15);\n",
              "    fill: var(--button-hover-fill-color);\n",
              "  }\n",
              "\n",
              "  .colab-df-quickchart-complete:disabled,\n",
              "  .colab-df-quickchart-complete:disabled:hover {\n",
              "    background-color: var(--disabled-bg-color);\n",
              "    fill: var(--disabled-fill-color);\n",
              "    box-shadow: none;\n",
              "  }\n",
              "\n",
              "  .colab-df-spinner {\n",
              "    border: 2px solid var(--fill-color);\n",
              "    border-color: transparent;\n",
              "    border-bottom-color: var(--fill-color);\n",
              "    animation:\n",
              "      spin 1s steps(1) infinite;\n",
              "  }\n",
              "\n",
              "  @keyframes spin {\n",
              "    0% {\n",
              "      border-color: transparent;\n",
              "      border-bottom-color: var(--fill-color);\n",
              "      border-left-color: var(--fill-color);\n",
              "    }\n",
              "    20% {\n",
              "      border-color: transparent;\n",
              "      border-left-color: var(--fill-color);\n",
              "      border-top-color: var(--fill-color);\n",
              "    }\n",
              "    30% {\n",
              "      border-color: transparent;\n",
              "      border-left-color: var(--fill-color);\n",
              "      border-top-color: var(--fill-color);\n",
              "      border-right-color: var(--fill-color);\n",
              "    }\n",
              "    40% {\n",
              "      border-color: transparent;\n",
              "      border-right-color: var(--fill-color);\n",
              "      border-top-color: var(--fill-color);\n",
              "    }\n",
              "    60% {\n",
              "      border-color: transparent;\n",
              "      border-right-color: var(--fill-color);\n",
              "    }\n",
              "    80% {\n",
              "      border-color: transparent;\n",
              "      border-right-color: var(--fill-color);\n",
              "      border-bottom-color: var(--fill-color);\n",
              "    }\n",
              "    90% {\n",
              "      border-color: transparent;\n",
              "      border-bottom-color: var(--fill-color);\n",
              "    }\n",
              "  }\n",
              "</style>\n",
              "\n",
              "  <script>\n",
              "    async function quickchart(key) {\n",
              "      const quickchartButtonEl =\n",
              "        document.querySelector('#' + key + ' button');\n",
              "      quickchartButtonEl.disabled = true;  // To prevent multiple clicks.\n",
              "      quickchartButtonEl.classList.add('colab-df-spinner');\n",
              "      try {\n",
              "        const charts = await google.colab.kernel.invokeFunction(\n",
              "            'suggestCharts', [key], {});\n",
              "      } catch (error) {\n",
              "        console.error('Error during call to suggestCharts:', error);\n",
              "      }\n",
              "      quickchartButtonEl.classList.remove('colab-df-spinner');\n",
              "      quickchartButtonEl.classList.add('colab-df-quickchart-complete');\n",
              "    }\n",
              "    (() => {\n",
              "      let quickchartButtonEl =\n",
              "        document.querySelector('#df-d3442439-68c6-4aa9-9ac8-642e3efe4964 button');\n",
              "      quickchartButtonEl.style.display =\n",
              "        google.colab.kernel.accessAllowed ? 'block' : 'none';\n",
              "    })();\n",
              "  </script>\n",
              "</div>\n",
              "    </div>\n",
              "  </div>\n"
            ]
          },
          "metadata": {},
          "execution_count": 57
        }
      ]
    },
    {
      "cell_type": "markdown",
      "source": [
        "## set target in range 0:x"
      ],
      "metadata": {
        "id": "Vjs_iM1OzbHR"
      }
    },
    {
      "cell_type": "code",
      "source": [
        "trdf['rate'].value_counts()"
      ],
      "metadata": {
        "colab": {
          "base_uri": "https://localhost:8080/"
        },
        "id": "r24pNgsxwi-K",
        "outputId": "93ed7d9b-17cd-4af4-fe78-502da66d47d0"
      },
      "execution_count": 10,
      "outputs": [
        {
          "output_type": "execute_result",
          "data": {
            "text/plain": [
              "5    26069\n",
              "4     9922\n",
              "3     6126\n",
              "1     4138\n",
              "2     2410\n",
              "Name: rate, dtype: int64"
            ]
          },
          "metadata": {},
          "execution_count": 10
        }
      ]
    },
    {
      "cell_type": "code",
      "source": [
        "def norm_target(df, to_train=True):\n",
        "  num = -1 if to_train else 1\n",
        "  dfr = df.copy()\n",
        "  dfr['rate'] = dfr['rate'] + num\n",
        "  return dfr"
      ],
      "metadata": {
        "id": "88Wn_5m7zjnO"
      },
      "execution_count": 15,
      "outputs": []
    },
    {
      "cell_type": "code",
      "source": [
        "train_df = norm_target(trdf)"
      ],
      "metadata": {
        "id": "SnSgOafCworY"
      },
      "execution_count": 16,
      "outputs": []
    },
    {
      "cell_type": "markdown",
      "source": [
        "## tokenize"
      ],
      "metadata": {
        "id": "asJpzJBK2dmc"
      }
    },
    {
      "cell_type": "code",
      "source": [
        "def tokenize_text(text, lang='russian'):\n",
        "    tokens = word_tokenize(text, language=lang)\n",
        "    return [token for token in tokens if token.isalpha()]"
      ],
      "metadata": {
        "id": "iZhb0E212X2C"
      },
      "execution_count": 48,
      "outputs": []
    },
    {
      "cell_type": "code",
      "source": [
        "tok_txt = [tokenize_text(t) for t in train_df.text.values]"
      ],
      "metadata": {
        "id": "4hxxgynM1-Vu"
      },
      "execution_count": 68,
      "outputs": []
    },
    {
      "cell_type": "markdown",
      "source": [
        "### create vocab"
      ],
      "metadata": {
        "id": "5l6JTiPF3E5K"
      }
    },
    {
      "cell_type": "code",
      "source": [
        "class Voc:\n",
        "  def __init__(self, txt, vocab_size):\n",
        "    toks = [tok for word in txt for tok in word]\n",
        "    tok_dict = Counter(toks)\n",
        "    self.tokens = [tok for tok, num in tok_dict.most_common(vocab_size)]"
      ],
      "metadata": {
        "id": "zQeL6uwc3G9d"
      },
      "execution_count": 69,
      "outputs": []
    },
    {
      "cell_type": "code",
      "source": [
        "vocabulary = Voc(tok_texts, 350000)\n",
        "vocabulary.tokens[:20]"
      ],
      "metadata": {
        "colab": {
          "base_uri": "https://localhost:8080/"
        },
        "id": "FbEK9Izb4P_l",
        "outputId": "69c941f5-b9a5-4d31-8944-eb98f96891a7"
      },
      "execution_count": 70,
      "outputs": [
        {
          "output_type": "execute_result",
          "data": {
            "text/plain": [
              "['и',\n",
              " 'не',\n",
              " 'в',\n",
              " 'магазин',\n",
              " 'на',\n",
              " 'с',\n",
              " 'что',\n",
              " 'но',\n",
              " 'всегда',\n",
              " 'есть',\n",
              " 'очень',\n",
              " 'по',\n",
              " 'персонал',\n",
              " 'как',\n",
              " 'все',\n",
              " 'ассортимент',\n",
              " 'Хороший',\n",
              " 'нет',\n",
              " 'а',\n",
              " 'самообслуживания']"
            ]
          },
          "metadata": {},
          "execution_count": 70
        }
      ]
    },
    {
      "cell_type": "markdown",
      "source": [
        "### Split"
      ],
      "metadata": {
        "id": "6_2gFMl8-flA"
      }
    },
    {
      "cell_type": "code",
      "source": [
        "X = train_df.drop('rate', axis=1)\n",
        "y = train_df['rate']\n",
        "\n",
        "X_train, X_val, y_train, y_val = train_test_split(X, y, stratify=y, test_size=0.2, random_state=42)"
      ],
      "metadata": {
        "id": "UzHE8PjR8eip"
      },
      "execution_count": 71,
      "outputs": []
    },
    {
      "cell_type": "markdown",
      "source": [
        "## Preset funcs for rnn"
      ],
      "metadata": {
        "id": "HkFfD-wf8far"
      }
    },
    {
      "cell_type": "markdown",
      "source": [
        "copied"
      ],
      "metadata": {
        "id": "Qv-3eojCABn4"
      }
    },
    {
      "cell_type": "code",
      "source": [
        "class Tokenizer:\n",
        "    def __init__(self, word_pattern=\"[\\w']+\"):\n",
        "        \"\"\"\n",
        "        Simple tokenizer that splits the sentence by given regex pattern\n",
        "        :param word_pattern: pattern that determines word boundaries\n",
        "        \"\"\"\n",
        "        self.word_pattern = re.compile(word_pattern)\n",
        "\n",
        "    def tokenize(self, text):\n",
        "        return self.word_pattern.findall(text)\n",
        "\n",
        "\n",
        "class Vocab:\n",
        "    def __init__(self, tokenized_texts: List[List[str]], max_vocab_size=None):\n",
        "        \"\"\"\n",
        "        Builds a vocabulary by concatenating all tokenized texts and counting words.\n",
        "        Most common words are placed in vocabulary, others are replaced with [UNK] token\n",
        "        :param tokenized_texts: texts to build a vocab\n",
        "        :param max_vocab_size: amount of words in vocabulary\n",
        "        \"\"\"\n",
        "        counts = Counter(chain(*tokenized_texts))\n",
        "        max_vocab_size = max_vocab_size or len(counts)\n",
        "        common_pairs = counts.most_common(max_vocab_size)\n",
        "        self.PAD_IDX = 0\n",
        "        self.UNK_IDX = 1\n",
        "        self.EOS_IDX = 2\n",
        "        self.itos = [\"<PAD>\", \"<UNK>\", \"<EOS>\"] + [pair[0]\n",
        "                                                   for pair in common_pairs]\n",
        "        self.stoi = {token: i for i, token in enumerate(self.itos)}\n",
        "\n",
        "    def vectorize(self, text: List[str]):\n",
        "        \"\"\"\n",
        "        Maps each token to it's index in the vocabulary\n",
        "        :param text: sequence of tokens\n",
        "        :return: vectorized sequence\n",
        "        \"\"\"\n",
        "        return [self.stoi.get(tok, self.UNK_IDX) for tok in text]\n",
        "\n",
        "    def __iter__(self):\n",
        "        return iter(self.itos)\n",
        "\n",
        "    def __len__(self):\n",
        "        return len(self.itos)\n",
        "\n",
        "\n",
        "class TextDataset(Dataset):\n",
        "    def __init__(self, tokenized_texts, labels, vocab: Vocab):\n",
        "        \"\"\"\n",
        "        A Dataset for the task\n",
        "        :param tokenized_texts: texts from a train/val/test split\n",
        "        :param labels: corresponding toxicity ratings\n",
        "        :param vocab: vocabulary with indexed tokens\n",
        "        \"\"\"\n",
        "        self.texts = tokenized_texts\n",
        "        self.labels = labels\n",
        "        self.vocab = vocab\n",
        "\n",
        "    def __getitem__(self, item):\n",
        "        return (\n",
        "            self.vocab.vectorize(self.texts[item]) + [self.vocab.EOS_IDX],\n",
        "            self.labels[item],\n",
        "        )\n",
        "\n",
        "    def __len__(self):\n",
        "        return len(self.texts)\n",
        "\n",
        "    def collate_fn(self, batch):\n",
        "        \"\"\"\n",
        "        Technical method to form a batch to feed into recurrent network\n",
        "        \"\"\"\n",
        "        tmp = pack_sequence(\n",
        "            [torch.tensor(pair[0]) for pair in batch], enforce_sorted=False\n",
        "        ), torch.tensor([pair[1] for pair in batch])\n",
        "        return tmp\n",
        "\n",
        "\n",
        "def custom_train_test_split(data, train_frac=0.85):\n",
        "    \"\"\"\n",
        "    Splits the data into train and test parts, stratifying by labels.\n",
        "    Should it shuffle the data before split?\n",
        "    :param data: dataset to split\n",
        "    :param train_frac: proportion of train examples\n",
        "    :return: texts and labels for each split\n",
        "    \"\"\"\n",
        "    n_toxicity_ratings = 5\n",
        "    train_labels = []\n",
        "    val_labels = []\n",
        "    train_texts = []\n",
        "    val_texts = []\n",
        "    for label in range(n_toxicity_ratings):\n",
        "        texts = data[data.rate == label].text.values\n",
        "        n_train = int(len(texts) * train_frac)\n",
        "        n_val = len(texts) - n_train\n",
        "        train_texts.extend(texts[:n_train])\n",
        "        val_texts.extend(texts[n_train:])\n",
        "        train_labels += [label] * n_train\n",
        "        val_labels += [label] * n_val\n",
        "    return train_texts, train_labels, val_texts, val_labels"
      ],
      "metadata": {
        "id": "yNMu4cOh8fv6"
      },
      "execution_count": 75,
      "outputs": []
    },
    {
      "cell_type": "code",
      "source": [
        "tok = Tokenizer()\n",
        "vocab = Vocab([tok.tokenize(t) for t in train_df.text.values], 30000)\n",
        "train_texts, train_labels, val_texts, val_labels = custom_train_test_split(train_df)\n",
        "\n",
        "\n",
        "train_dataset = TextDataset([tok.tokenize(t) for t in train_texts],\n",
        "                            train_labels,\n",
        "                            vocab)\n",
        "val_dataset = TextDataset([tok.tokenize(t) for t in val_texts],\n",
        "                          val_labels,\n",
        "                          vocab)"
      ],
      "metadata": {
        "id": "OTCcryCp_Wp1"
      },
      "execution_count": 76,
      "outputs": []
    }
  ]
}