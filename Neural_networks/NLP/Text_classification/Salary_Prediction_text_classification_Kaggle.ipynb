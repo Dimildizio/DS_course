{
  "nbformat": 4,
  "nbformat_minor": 0,
  "metadata": {
    "colab": {
      "provenance": [],
      "gpuType": "T4",
      "authorship_tag": "ABX9TyMJgXPFGM/LNuvR7TJo4JzR",
      "include_colab_link": true
    },
    "kernelspec": {
      "name": "python3",
      "display_name": "Python 3"
    },
    "language_info": {
      "name": "python"
    },
    "accelerator": "GPU",
    "widgets": {
      "application/vnd.jupyter.widget-state+json": {
        "32ee2b6c5bce4c6e9d2e453e80eca796": {
          "model_module": "@jupyter-widgets/controls",
          "model_name": "HBoxModel",
          "model_module_version": "1.5.0",
          "state": {
            "_dom_classes": [],
            "_model_module": "@jupyter-widgets/controls",
            "_model_module_version": "1.5.0",
            "_model_name": "HBoxModel",
            "_view_count": null,
            "_view_module": "@jupyter-widgets/controls",
            "_view_module_version": "1.5.0",
            "_view_name": "HBoxView",
            "box_style": "",
            "children": [
              "IPY_MODEL_4f902a61ecb242168959381a1db0ab01",
              "IPY_MODEL_a5afff3b9f5c4541bfa6b4e74eccc87d",
              "IPY_MODEL_18d979b22a684ad7ae07311ab4943a0f"
            ],
            "layout": "IPY_MODEL_04521dac41984a4dab428ba624eea0f2"
          }
        },
        "4f902a61ecb242168959381a1db0ab01": {
          "model_module": "@jupyter-widgets/controls",
          "model_name": "HTMLModel",
          "model_module_version": "1.5.0",
          "state": {
            "_dom_classes": [],
            "_model_module": "@jupyter-widgets/controls",
            "_model_module_version": "1.5.0",
            "_model_name": "HTMLModel",
            "_view_count": null,
            "_view_module": "@jupyter-widgets/controls",
            "_view_module_version": "1.5.0",
            "_view_name": "HTMLView",
            "description": "",
            "description_tooltip": null,
            "layout": "IPY_MODEL_485661afcb1d4f0284f054a75f23fb0e",
            "placeholder": "​",
            "style": "IPY_MODEL_80fe8aa7d6bb455b99fa3392252a7945",
            "value": ""
          }
        },
        "a5afff3b9f5c4541bfa6b4e74eccc87d": {
          "model_module": "@jupyter-widgets/controls",
          "model_name": "FloatProgressModel",
          "model_module_version": "1.5.0",
          "state": {
            "_dom_classes": [],
            "_model_module": "@jupyter-widgets/controls",
            "_model_module_version": "1.5.0",
            "_model_name": "FloatProgressModel",
            "_view_count": null,
            "_view_module": "@jupyter-widgets/controls",
            "_view_module_version": "1.5.0",
            "_view_name": "ProgressView",
            "bar_style": "success",
            "description": "",
            "description_tooltip": null,
            "layout": "IPY_MODEL_38da1f5cf8ab4b18b1d4331349f81226",
            "max": 12238,
            "min": 0,
            "orientation": "horizontal",
            "style": "IPY_MODEL_c3ab2fa8236d483fbdca147aa34b4e50",
            "value": 12238
          }
        },
        "18d979b22a684ad7ae07311ab4943a0f": {
          "model_module": "@jupyter-widgets/controls",
          "model_name": "HTMLModel",
          "model_module_version": "1.5.0",
          "state": {
            "_dom_classes": [],
            "_model_module": "@jupyter-widgets/controls",
            "_model_module_version": "1.5.0",
            "_model_name": "HTMLModel",
            "_view_count": null,
            "_view_module": "@jupyter-widgets/controls",
            "_view_module_version": "1.5.0",
            "_view_name": "HTMLView",
            "description": "",
            "description_tooltip": null,
            "layout": "IPY_MODEL_55e34c574d264c6baafeadf263abbb63",
            "placeholder": "​",
            "style": "IPY_MODEL_d8dc587d12814be19c60416ca1ceb33f",
            "value": " 12239/? [05:43&lt;00:00, 36.48it/s]"
          }
        },
        "04521dac41984a4dab428ba624eea0f2": {
          "model_module": "@jupyter-widgets/base",
          "model_name": "LayoutModel",
          "model_module_version": "1.2.0",
          "state": {
            "_model_module": "@jupyter-widgets/base",
            "_model_module_version": "1.2.0",
            "_model_name": "LayoutModel",
            "_view_count": null,
            "_view_module": "@jupyter-widgets/base",
            "_view_module_version": "1.2.0",
            "_view_name": "LayoutView",
            "align_content": null,
            "align_items": null,
            "align_self": null,
            "border": null,
            "bottom": null,
            "display": null,
            "flex": null,
            "flex_flow": null,
            "grid_area": null,
            "grid_auto_columns": null,
            "grid_auto_flow": null,
            "grid_auto_rows": null,
            "grid_column": null,
            "grid_gap": null,
            "grid_row": null,
            "grid_template_areas": null,
            "grid_template_columns": null,
            "grid_template_rows": null,
            "height": null,
            "justify_content": null,
            "justify_items": null,
            "left": null,
            "margin": null,
            "max_height": null,
            "max_width": null,
            "min_height": null,
            "min_width": null,
            "object_fit": null,
            "object_position": null,
            "order": null,
            "overflow": null,
            "overflow_x": null,
            "overflow_y": null,
            "padding": null,
            "right": null,
            "top": null,
            "visibility": null,
            "width": null
          }
        },
        "485661afcb1d4f0284f054a75f23fb0e": {
          "model_module": "@jupyter-widgets/base",
          "model_name": "LayoutModel",
          "model_module_version": "1.2.0",
          "state": {
            "_model_module": "@jupyter-widgets/base",
            "_model_module_version": "1.2.0",
            "_model_name": "LayoutModel",
            "_view_count": null,
            "_view_module": "@jupyter-widgets/base",
            "_view_module_version": "1.2.0",
            "_view_name": "LayoutView",
            "align_content": null,
            "align_items": null,
            "align_self": null,
            "border": null,
            "bottom": null,
            "display": null,
            "flex": null,
            "flex_flow": null,
            "grid_area": null,
            "grid_auto_columns": null,
            "grid_auto_flow": null,
            "grid_auto_rows": null,
            "grid_column": null,
            "grid_gap": null,
            "grid_row": null,
            "grid_template_areas": null,
            "grid_template_columns": null,
            "grid_template_rows": null,
            "height": null,
            "justify_content": null,
            "justify_items": null,
            "left": null,
            "margin": null,
            "max_height": null,
            "max_width": null,
            "min_height": null,
            "min_width": null,
            "object_fit": null,
            "object_position": null,
            "order": null,
            "overflow": null,
            "overflow_x": null,
            "overflow_y": null,
            "padding": null,
            "right": null,
            "top": null,
            "visibility": null,
            "width": null
          }
        },
        "80fe8aa7d6bb455b99fa3392252a7945": {
          "model_module": "@jupyter-widgets/controls",
          "model_name": "DescriptionStyleModel",
          "model_module_version": "1.5.0",
          "state": {
            "_model_module": "@jupyter-widgets/controls",
            "_model_module_version": "1.5.0",
            "_model_name": "DescriptionStyleModel",
            "_view_count": null,
            "_view_module": "@jupyter-widgets/base",
            "_view_module_version": "1.2.0",
            "_view_name": "StyleView",
            "description_width": ""
          }
        },
        "38da1f5cf8ab4b18b1d4331349f81226": {
          "model_module": "@jupyter-widgets/base",
          "model_name": "LayoutModel",
          "model_module_version": "1.2.0",
          "state": {
            "_model_module": "@jupyter-widgets/base",
            "_model_module_version": "1.2.0",
            "_model_name": "LayoutModel",
            "_view_count": null,
            "_view_module": "@jupyter-widgets/base",
            "_view_module_version": "1.2.0",
            "_view_name": "LayoutView",
            "align_content": null,
            "align_items": null,
            "align_self": null,
            "border": null,
            "bottom": null,
            "display": null,
            "flex": null,
            "flex_flow": null,
            "grid_area": null,
            "grid_auto_columns": null,
            "grid_auto_flow": null,
            "grid_auto_rows": null,
            "grid_column": null,
            "grid_gap": null,
            "grid_row": null,
            "grid_template_areas": null,
            "grid_template_columns": null,
            "grid_template_rows": null,
            "height": null,
            "justify_content": null,
            "justify_items": null,
            "left": null,
            "margin": null,
            "max_height": null,
            "max_width": null,
            "min_height": null,
            "min_width": null,
            "object_fit": null,
            "object_position": null,
            "order": null,
            "overflow": null,
            "overflow_x": null,
            "overflow_y": null,
            "padding": null,
            "right": null,
            "top": null,
            "visibility": null,
            "width": null
          }
        },
        "c3ab2fa8236d483fbdca147aa34b4e50": {
          "model_module": "@jupyter-widgets/controls",
          "model_name": "ProgressStyleModel",
          "model_module_version": "1.5.0",
          "state": {
            "_model_module": "@jupyter-widgets/controls",
            "_model_module_version": "1.5.0",
            "_model_name": "ProgressStyleModel",
            "_view_count": null,
            "_view_module": "@jupyter-widgets/base",
            "_view_module_version": "1.2.0",
            "_view_name": "StyleView",
            "bar_color": null,
            "description_width": ""
          }
        },
        "55e34c574d264c6baafeadf263abbb63": {
          "model_module": "@jupyter-widgets/base",
          "model_name": "LayoutModel",
          "model_module_version": "1.2.0",
          "state": {
            "_model_module": "@jupyter-widgets/base",
            "_model_module_version": "1.2.0",
            "_model_name": "LayoutModel",
            "_view_count": null,
            "_view_module": "@jupyter-widgets/base",
            "_view_module_version": "1.2.0",
            "_view_name": "LayoutView",
            "align_content": null,
            "align_items": null,
            "align_self": null,
            "border": null,
            "bottom": null,
            "display": null,
            "flex": null,
            "flex_flow": null,
            "grid_area": null,
            "grid_auto_columns": null,
            "grid_auto_flow": null,
            "grid_auto_rows": null,
            "grid_column": null,
            "grid_gap": null,
            "grid_row": null,
            "grid_template_areas": null,
            "grid_template_columns": null,
            "grid_template_rows": null,
            "height": null,
            "justify_content": null,
            "justify_items": null,
            "left": null,
            "margin": null,
            "max_height": null,
            "max_width": null,
            "min_height": null,
            "min_width": null,
            "object_fit": null,
            "object_position": null,
            "order": null,
            "overflow": null,
            "overflow_x": null,
            "overflow_y": null,
            "padding": null,
            "right": null,
            "top": null,
            "visibility": null,
            "width": null
          }
        },
        "d8dc587d12814be19c60416ca1ceb33f": {
          "model_module": "@jupyter-widgets/controls",
          "model_name": "DescriptionStyleModel",
          "model_module_version": "1.5.0",
          "state": {
            "_model_module": "@jupyter-widgets/controls",
            "_model_module_version": "1.5.0",
            "_model_name": "DescriptionStyleModel",
            "_view_count": null,
            "_view_module": "@jupyter-widgets/base",
            "_view_module_version": "1.2.0",
            "_view_name": "StyleView",
            "description_width": ""
          }
        },
        "464247e92e704d429e339a4fb6a3f6c9": {
          "model_module": "@jupyter-widgets/controls",
          "model_name": "HBoxModel",
          "model_module_version": "1.5.0",
          "state": {
            "_dom_classes": [],
            "_model_module": "@jupyter-widgets/controls",
            "_model_module_version": "1.5.0",
            "_model_name": "HBoxModel",
            "_view_count": null,
            "_view_module": "@jupyter-widgets/controls",
            "_view_module_version": "1.5.0",
            "_view_name": "HBoxView",
            "box_style": "",
            "children": [
              "IPY_MODEL_2c8b27f1fa984dada075ea53416cabe8",
              "IPY_MODEL_11f434ef26f741bcaf5a8f3aaa3890e5",
              "IPY_MODEL_84a96ae4ebfc4e929cab4f496d046b05"
            ],
            "layout": "IPY_MODEL_b34d4c713b6b44498eeb0bffb23b8818"
          }
        },
        "2c8b27f1fa984dada075ea53416cabe8": {
          "model_module": "@jupyter-widgets/controls",
          "model_name": "HTMLModel",
          "model_module_version": "1.5.0",
          "state": {
            "_dom_classes": [],
            "_model_module": "@jupyter-widgets/controls",
            "_model_module_version": "1.5.0",
            "_model_name": "HTMLModel",
            "_view_count": null,
            "_view_module": "@jupyter-widgets/controls",
            "_view_module_version": "1.5.0",
            "_view_name": "HTMLView",
            "description": "",
            "description_tooltip": null,
            "layout": "IPY_MODEL_8feb97822a1543fa9b65f6566de17169",
            "placeholder": "​",
            "style": "IPY_MODEL_787fa931bccf48a09042284cf8e7c8d0",
            "value": ""
          }
        },
        "11f434ef26f741bcaf5a8f3aaa3890e5": {
          "model_module": "@jupyter-widgets/controls",
          "model_name": "FloatProgressModel",
          "model_module_version": "1.5.0",
          "state": {
            "_dom_classes": [],
            "_model_module": "@jupyter-widgets/controls",
            "_model_module_version": "1.5.0",
            "_model_name": "FloatProgressModel",
            "_view_count": null,
            "_view_module": "@jupyter-widgets/controls",
            "_view_module_version": "1.5.0",
            "_view_name": "ProgressView",
            "bar_style": "success",
            "description": "",
            "description_tooltip": null,
            "layout": "IPY_MODEL_2f37abd2c5114b659d4404e99e24024b",
            "max": 12238,
            "min": 0,
            "orientation": "horizontal",
            "style": "IPY_MODEL_708170b39b3c482890ad477945e7c666",
            "value": 12238
          }
        },
        "84a96ae4ebfc4e929cab4f496d046b05": {
          "model_module": "@jupyter-widgets/controls",
          "model_name": "HTMLModel",
          "model_module_version": "1.5.0",
          "state": {
            "_dom_classes": [],
            "_model_module": "@jupyter-widgets/controls",
            "_model_module_version": "1.5.0",
            "_model_name": "HTMLModel",
            "_view_count": null,
            "_view_module": "@jupyter-widgets/controls",
            "_view_module_version": "1.5.0",
            "_view_name": "HTMLView",
            "description": "",
            "description_tooltip": null,
            "layout": "IPY_MODEL_832eb281a01f4e1c89ee9e87cef2619b",
            "placeholder": "​",
            "style": "IPY_MODEL_8d765ba7caf547f297a9c55f1876ad37",
            "value": " 12239/? [05:36&lt;00:00, 35.89it/s]"
          }
        },
        "b34d4c713b6b44498eeb0bffb23b8818": {
          "model_module": "@jupyter-widgets/base",
          "model_name": "LayoutModel",
          "model_module_version": "1.2.0",
          "state": {
            "_model_module": "@jupyter-widgets/base",
            "_model_module_version": "1.2.0",
            "_model_name": "LayoutModel",
            "_view_count": null,
            "_view_module": "@jupyter-widgets/base",
            "_view_module_version": "1.2.0",
            "_view_name": "LayoutView",
            "align_content": null,
            "align_items": null,
            "align_self": null,
            "border": null,
            "bottom": null,
            "display": null,
            "flex": null,
            "flex_flow": null,
            "grid_area": null,
            "grid_auto_columns": null,
            "grid_auto_flow": null,
            "grid_auto_rows": null,
            "grid_column": null,
            "grid_gap": null,
            "grid_row": null,
            "grid_template_areas": null,
            "grid_template_columns": null,
            "grid_template_rows": null,
            "height": null,
            "justify_content": null,
            "justify_items": null,
            "left": null,
            "margin": null,
            "max_height": null,
            "max_width": null,
            "min_height": null,
            "min_width": null,
            "object_fit": null,
            "object_position": null,
            "order": null,
            "overflow": null,
            "overflow_x": null,
            "overflow_y": null,
            "padding": null,
            "right": null,
            "top": null,
            "visibility": null,
            "width": null
          }
        },
        "8feb97822a1543fa9b65f6566de17169": {
          "model_module": "@jupyter-widgets/base",
          "model_name": "LayoutModel",
          "model_module_version": "1.2.0",
          "state": {
            "_model_module": "@jupyter-widgets/base",
            "_model_module_version": "1.2.0",
            "_model_name": "LayoutModel",
            "_view_count": null,
            "_view_module": "@jupyter-widgets/base",
            "_view_module_version": "1.2.0",
            "_view_name": "LayoutView",
            "align_content": null,
            "align_items": null,
            "align_self": null,
            "border": null,
            "bottom": null,
            "display": null,
            "flex": null,
            "flex_flow": null,
            "grid_area": null,
            "grid_auto_columns": null,
            "grid_auto_flow": null,
            "grid_auto_rows": null,
            "grid_column": null,
            "grid_gap": null,
            "grid_row": null,
            "grid_template_areas": null,
            "grid_template_columns": null,
            "grid_template_rows": null,
            "height": null,
            "justify_content": null,
            "justify_items": null,
            "left": null,
            "margin": null,
            "max_height": null,
            "max_width": null,
            "min_height": null,
            "min_width": null,
            "object_fit": null,
            "object_position": null,
            "order": null,
            "overflow": null,
            "overflow_x": null,
            "overflow_y": null,
            "padding": null,
            "right": null,
            "top": null,
            "visibility": null,
            "width": null
          }
        },
        "787fa931bccf48a09042284cf8e7c8d0": {
          "model_module": "@jupyter-widgets/controls",
          "model_name": "DescriptionStyleModel",
          "model_module_version": "1.5.0",
          "state": {
            "_model_module": "@jupyter-widgets/controls",
            "_model_module_version": "1.5.0",
            "_model_name": "DescriptionStyleModel",
            "_view_count": null,
            "_view_module": "@jupyter-widgets/base",
            "_view_module_version": "1.2.0",
            "_view_name": "StyleView",
            "description_width": ""
          }
        },
        "2f37abd2c5114b659d4404e99e24024b": {
          "model_module": "@jupyter-widgets/base",
          "model_name": "LayoutModel",
          "model_module_version": "1.2.0",
          "state": {
            "_model_module": "@jupyter-widgets/base",
            "_model_module_version": "1.2.0",
            "_model_name": "LayoutModel",
            "_view_count": null,
            "_view_module": "@jupyter-widgets/base",
            "_view_module_version": "1.2.0",
            "_view_name": "LayoutView",
            "align_content": null,
            "align_items": null,
            "align_self": null,
            "border": null,
            "bottom": null,
            "display": null,
            "flex": null,
            "flex_flow": null,
            "grid_area": null,
            "grid_auto_columns": null,
            "grid_auto_flow": null,
            "grid_auto_rows": null,
            "grid_column": null,
            "grid_gap": null,
            "grid_row": null,
            "grid_template_areas": null,
            "grid_template_columns": null,
            "grid_template_rows": null,
            "height": null,
            "justify_content": null,
            "justify_items": null,
            "left": null,
            "margin": null,
            "max_height": null,
            "max_width": null,
            "min_height": null,
            "min_width": null,
            "object_fit": null,
            "object_position": null,
            "order": null,
            "overflow": null,
            "overflow_x": null,
            "overflow_y": null,
            "padding": null,
            "right": null,
            "top": null,
            "visibility": null,
            "width": null
          }
        },
        "708170b39b3c482890ad477945e7c666": {
          "model_module": "@jupyter-widgets/controls",
          "model_name": "ProgressStyleModel",
          "model_module_version": "1.5.0",
          "state": {
            "_model_module": "@jupyter-widgets/controls",
            "_model_module_version": "1.5.0",
            "_model_name": "ProgressStyleModel",
            "_view_count": null,
            "_view_module": "@jupyter-widgets/base",
            "_view_module_version": "1.2.0",
            "_view_name": "StyleView",
            "bar_color": null,
            "description_width": ""
          }
        },
        "832eb281a01f4e1c89ee9e87cef2619b": {
          "model_module": "@jupyter-widgets/base",
          "model_name": "LayoutModel",
          "model_module_version": "1.2.0",
          "state": {
            "_model_module": "@jupyter-widgets/base",
            "_model_module_version": "1.2.0",
            "_model_name": "LayoutModel",
            "_view_count": null,
            "_view_module": "@jupyter-widgets/base",
            "_view_module_version": "1.2.0",
            "_view_name": "LayoutView",
            "align_content": null,
            "align_items": null,
            "align_self": null,
            "border": null,
            "bottom": null,
            "display": null,
            "flex": null,
            "flex_flow": null,
            "grid_area": null,
            "grid_auto_columns": null,
            "grid_auto_flow": null,
            "grid_auto_rows": null,
            "grid_column": null,
            "grid_gap": null,
            "grid_row": null,
            "grid_template_areas": null,
            "grid_template_columns": null,
            "grid_template_rows": null,
            "height": null,
            "justify_content": null,
            "justify_items": null,
            "left": null,
            "margin": null,
            "max_height": null,
            "max_width": null,
            "min_height": null,
            "min_width": null,
            "object_fit": null,
            "object_position": null,
            "order": null,
            "overflow": null,
            "overflow_x": null,
            "overflow_y": null,
            "padding": null,
            "right": null,
            "top": null,
            "visibility": null,
            "width": null
          }
        },
        "8d765ba7caf547f297a9c55f1876ad37": {
          "model_module": "@jupyter-widgets/controls",
          "model_name": "DescriptionStyleModel",
          "model_module_version": "1.5.0",
          "state": {
            "_model_module": "@jupyter-widgets/controls",
            "_model_module_version": "1.5.0",
            "_model_name": "DescriptionStyleModel",
            "_view_count": null,
            "_view_module": "@jupyter-widgets/base",
            "_view_module_version": "1.2.0",
            "_view_name": "StyleView",
            "description_width": ""
          }
        },
        "24009b31af474db8a0fde0d0866c7990": {
          "model_module": "@jupyter-widgets/controls",
          "model_name": "HBoxModel",
          "model_module_version": "1.5.0",
          "state": {
            "_dom_classes": [],
            "_model_module": "@jupyter-widgets/controls",
            "_model_module_version": "1.5.0",
            "_model_name": "HBoxModel",
            "_view_count": null,
            "_view_module": "@jupyter-widgets/controls",
            "_view_module_version": "1.5.0",
            "_view_name": "HBoxView",
            "box_style": "",
            "children": [
              "IPY_MODEL_2a89ca0aedbb4c46ad357fefb3c0a870",
              "IPY_MODEL_1f702c40f8094615999ed82e3d442c62",
              "IPY_MODEL_a0385dd333e844d1bae42a5e7ebac7b3"
            ],
            "layout": "IPY_MODEL_24427545dccd4125a1387df679dd03f6"
          }
        },
        "2a89ca0aedbb4c46ad357fefb3c0a870": {
          "model_module": "@jupyter-widgets/controls",
          "model_name": "HTMLModel",
          "model_module_version": "1.5.0",
          "state": {
            "_dom_classes": [],
            "_model_module": "@jupyter-widgets/controls",
            "_model_module_version": "1.5.0",
            "_model_name": "HTMLModel",
            "_view_count": null,
            "_view_module": "@jupyter-widgets/controls",
            "_view_module_version": "1.5.0",
            "_view_name": "HTMLView",
            "description": "",
            "description_tooltip": null,
            "layout": "IPY_MODEL_bf3edb0c65d04695ac3f70b5160b5ce6",
            "placeholder": "​",
            "style": "IPY_MODEL_bc09a49e316a407985f95b501bdc9d4a",
            "value": ""
          }
        },
        "1f702c40f8094615999ed82e3d442c62": {
          "model_module": "@jupyter-widgets/controls",
          "model_name": "FloatProgressModel",
          "model_module_version": "1.5.0",
          "state": {
            "_dom_classes": [],
            "_model_module": "@jupyter-widgets/controls",
            "_model_module_version": "1.5.0",
            "_model_name": "FloatProgressModel",
            "_view_count": null,
            "_view_module": "@jupyter-widgets/controls",
            "_view_module_version": "1.5.0",
            "_view_name": "ProgressView",
            "bar_style": "success",
            "description": "",
            "description_tooltip": null,
            "layout": "IPY_MODEL_8da8bb3cfae649ca9d58fe932e56bed8",
            "max": 12238,
            "min": 0,
            "orientation": "horizontal",
            "style": "IPY_MODEL_95dcbe05796c48b39caeb2d2044e7109",
            "value": 12238
          }
        },
        "a0385dd333e844d1bae42a5e7ebac7b3": {
          "model_module": "@jupyter-widgets/controls",
          "model_name": "HTMLModel",
          "model_module_version": "1.5.0",
          "state": {
            "_dom_classes": [],
            "_model_module": "@jupyter-widgets/controls",
            "_model_module_version": "1.5.0",
            "_model_name": "HTMLModel",
            "_view_count": null,
            "_view_module": "@jupyter-widgets/controls",
            "_view_module_version": "1.5.0",
            "_view_name": "HTMLView",
            "description": "",
            "description_tooltip": null,
            "layout": "IPY_MODEL_1106a420ebc14d4693eb98925884f19f",
            "placeholder": "​",
            "style": "IPY_MODEL_e168323b33874b4cbc31bec640717581",
            "value": " 12239/? [05:48&lt;00:00, 36.84it/s]"
          }
        },
        "24427545dccd4125a1387df679dd03f6": {
          "model_module": "@jupyter-widgets/base",
          "model_name": "LayoutModel",
          "model_module_version": "1.2.0",
          "state": {
            "_model_module": "@jupyter-widgets/base",
            "_model_module_version": "1.2.0",
            "_model_name": "LayoutModel",
            "_view_count": null,
            "_view_module": "@jupyter-widgets/base",
            "_view_module_version": "1.2.0",
            "_view_name": "LayoutView",
            "align_content": null,
            "align_items": null,
            "align_self": null,
            "border": null,
            "bottom": null,
            "display": null,
            "flex": null,
            "flex_flow": null,
            "grid_area": null,
            "grid_auto_columns": null,
            "grid_auto_flow": null,
            "grid_auto_rows": null,
            "grid_column": null,
            "grid_gap": null,
            "grid_row": null,
            "grid_template_areas": null,
            "grid_template_columns": null,
            "grid_template_rows": null,
            "height": null,
            "justify_content": null,
            "justify_items": null,
            "left": null,
            "margin": null,
            "max_height": null,
            "max_width": null,
            "min_height": null,
            "min_width": null,
            "object_fit": null,
            "object_position": null,
            "order": null,
            "overflow": null,
            "overflow_x": null,
            "overflow_y": null,
            "padding": null,
            "right": null,
            "top": null,
            "visibility": null,
            "width": null
          }
        },
        "bf3edb0c65d04695ac3f70b5160b5ce6": {
          "model_module": "@jupyter-widgets/base",
          "model_name": "LayoutModel",
          "model_module_version": "1.2.0",
          "state": {
            "_model_module": "@jupyter-widgets/base",
            "_model_module_version": "1.2.0",
            "_model_name": "LayoutModel",
            "_view_count": null,
            "_view_module": "@jupyter-widgets/base",
            "_view_module_version": "1.2.0",
            "_view_name": "LayoutView",
            "align_content": null,
            "align_items": null,
            "align_self": null,
            "border": null,
            "bottom": null,
            "display": null,
            "flex": null,
            "flex_flow": null,
            "grid_area": null,
            "grid_auto_columns": null,
            "grid_auto_flow": null,
            "grid_auto_rows": null,
            "grid_column": null,
            "grid_gap": null,
            "grid_row": null,
            "grid_template_areas": null,
            "grid_template_columns": null,
            "grid_template_rows": null,
            "height": null,
            "justify_content": null,
            "justify_items": null,
            "left": null,
            "margin": null,
            "max_height": null,
            "max_width": null,
            "min_height": null,
            "min_width": null,
            "object_fit": null,
            "object_position": null,
            "order": null,
            "overflow": null,
            "overflow_x": null,
            "overflow_y": null,
            "padding": null,
            "right": null,
            "top": null,
            "visibility": null,
            "width": null
          }
        },
        "bc09a49e316a407985f95b501bdc9d4a": {
          "model_module": "@jupyter-widgets/controls",
          "model_name": "DescriptionStyleModel",
          "model_module_version": "1.5.0",
          "state": {
            "_model_module": "@jupyter-widgets/controls",
            "_model_module_version": "1.5.0",
            "_model_name": "DescriptionStyleModel",
            "_view_count": null,
            "_view_module": "@jupyter-widgets/base",
            "_view_module_version": "1.2.0",
            "_view_name": "StyleView",
            "description_width": ""
          }
        },
        "8da8bb3cfae649ca9d58fe932e56bed8": {
          "model_module": "@jupyter-widgets/base",
          "model_name": "LayoutModel",
          "model_module_version": "1.2.0",
          "state": {
            "_model_module": "@jupyter-widgets/base",
            "_model_module_version": "1.2.0",
            "_model_name": "LayoutModel",
            "_view_count": null,
            "_view_module": "@jupyter-widgets/base",
            "_view_module_version": "1.2.0",
            "_view_name": "LayoutView",
            "align_content": null,
            "align_items": null,
            "align_self": null,
            "border": null,
            "bottom": null,
            "display": null,
            "flex": null,
            "flex_flow": null,
            "grid_area": null,
            "grid_auto_columns": null,
            "grid_auto_flow": null,
            "grid_auto_rows": null,
            "grid_column": null,
            "grid_gap": null,
            "grid_row": null,
            "grid_template_areas": null,
            "grid_template_columns": null,
            "grid_template_rows": null,
            "height": null,
            "justify_content": null,
            "justify_items": null,
            "left": null,
            "margin": null,
            "max_height": null,
            "max_width": null,
            "min_height": null,
            "min_width": null,
            "object_fit": null,
            "object_position": null,
            "order": null,
            "overflow": null,
            "overflow_x": null,
            "overflow_y": null,
            "padding": null,
            "right": null,
            "top": null,
            "visibility": null,
            "width": null
          }
        },
        "95dcbe05796c48b39caeb2d2044e7109": {
          "model_module": "@jupyter-widgets/controls",
          "model_name": "ProgressStyleModel",
          "model_module_version": "1.5.0",
          "state": {
            "_model_module": "@jupyter-widgets/controls",
            "_model_module_version": "1.5.0",
            "_model_name": "ProgressStyleModel",
            "_view_count": null,
            "_view_module": "@jupyter-widgets/base",
            "_view_module_version": "1.2.0",
            "_view_name": "StyleView",
            "bar_color": null,
            "description_width": ""
          }
        },
        "1106a420ebc14d4693eb98925884f19f": {
          "model_module": "@jupyter-widgets/base",
          "model_name": "LayoutModel",
          "model_module_version": "1.2.0",
          "state": {
            "_model_module": "@jupyter-widgets/base",
            "_model_module_version": "1.2.0",
            "_model_name": "LayoutModel",
            "_view_count": null,
            "_view_module": "@jupyter-widgets/base",
            "_view_module_version": "1.2.0",
            "_view_name": "LayoutView",
            "align_content": null,
            "align_items": null,
            "align_self": null,
            "border": null,
            "bottom": null,
            "display": null,
            "flex": null,
            "flex_flow": null,
            "grid_area": null,
            "grid_auto_columns": null,
            "grid_auto_flow": null,
            "grid_auto_rows": null,
            "grid_column": null,
            "grid_gap": null,
            "grid_row": null,
            "grid_template_areas": null,
            "grid_template_columns": null,
            "grid_template_rows": null,
            "height": null,
            "justify_content": null,
            "justify_items": null,
            "left": null,
            "margin": null,
            "max_height": null,
            "max_width": null,
            "min_height": null,
            "min_width": null,
            "object_fit": null,
            "object_position": null,
            "order": null,
            "overflow": null,
            "overflow_x": null,
            "overflow_y": null,
            "padding": null,
            "right": null,
            "top": null,
            "visibility": null,
            "width": null
          }
        },
        "e168323b33874b4cbc31bec640717581": {
          "model_module": "@jupyter-widgets/controls",
          "model_name": "DescriptionStyleModel",
          "model_module_version": "1.5.0",
          "state": {
            "_model_module": "@jupyter-widgets/controls",
            "_model_module_version": "1.5.0",
            "_model_name": "DescriptionStyleModel",
            "_view_count": null,
            "_view_module": "@jupyter-widgets/base",
            "_view_module_version": "1.2.0",
            "_view_name": "StyleView",
            "description_width": ""
          }
        },
        "ff771a9158c2427abce46e0d0ee2e97e": {
          "model_module": "@jupyter-widgets/controls",
          "model_name": "HBoxModel",
          "model_module_version": "1.5.0",
          "state": {
            "_dom_classes": [],
            "_model_module": "@jupyter-widgets/controls",
            "_model_module_version": "1.5.0",
            "_model_name": "HBoxModel",
            "_view_count": null,
            "_view_module": "@jupyter-widgets/controls",
            "_view_module_version": "1.5.0",
            "_view_name": "HBoxView",
            "box_style": "",
            "children": [
              "IPY_MODEL_badb2b4d367041d693c45da936925abb",
              "IPY_MODEL_aea9b406562c4fd4b549e805928dd57b",
              "IPY_MODEL_8aa100383d0e4ceda509bf5e959f0dd1"
            ],
            "layout": "IPY_MODEL_a54eaca4979e4059a7b6607bb5f0a8a9"
          }
        },
        "badb2b4d367041d693c45da936925abb": {
          "model_module": "@jupyter-widgets/controls",
          "model_name": "HTMLModel",
          "model_module_version": "1.5.0",
          "state": {
            "_dom_classes": [],
            "_model_module": "@jupyter-widgets/controls",
            "_model_module_version": "1.5.0",
            "_model_name": "HTMLModel",
            "_view_count": null,
            "_view_module": "@jupyter-widgets/controls",
            "_view_module_version": "1.5.0",
            "_view_name": "HTMLView",
            "description": "",
            "description_tooltip": null,
            "layout": "IPY_MODEL_7b1d3435b5dd411ebf0e47c944f76266",
            "placeholder": "​",
            "style": "IPY_MODEL_732c5e9c7839453a8b0946d91231b70f",
            "value": ""
          }
        },
        "aea9b406562c4fd4b549e805928dd57b": {
          "model_module": "@jupyter-widgets/controls",
          "model_name": "FloatProgressModel",
          "model_module_version": "1.5.0",
          "state": {
            "_dom_classes": [],
            "_model_module": "@jupyter-widgets/controls",
            "_model_module_version": "1.5.0",
            "_model_name": "FloatProgressModel",
            "_view_count": null,
            "_view_module": "@jupyter-widgets/controls",
            "_view_module_version": "1.5.0",
            "_view_name": "ProgressView",
            "bar_style": "success",
            "description": "",
            "description_tooltip": null,
            "layout": "IPY_MODEL_36aa95e5a0d9495789b4de9388fe44b9",
            "max": 12238,
            "min": 0,
            "orientation": "horizontal",
            "style": "IPY_MODEL_72022a0167a24a58aff7c179685de04d",
            "value": 12238
          }
        },
        "8aa100383d0e4ceda509bf5e959f0dd1": {
          "model_module": "@jupyter-widgets/controls",
          "model_name": "HTMLModel",
          "model_module_version": "1.5.0",
          "state": {
            "_dom_classes": [],
            "_model_module": "@jupyter-widgets/controls",
            "_model_module_version": "1.5.0",
            "_model_name": "HTMLModel",
            "_view_count": null,
            "_view_module": "@jupyter-widgets/controls",
            "_view_module_version": "1.5.0",
            "_view_name": "HTMLView",
            "description": "",
            "description_tooltip": null,
            "layout": "IPY_MODEL_727ab5f05b75416b83270ed227462f35",
            "placeholder": "​",
            "style": "IPY_MODEL_e18ed2820b344e0ba0c02f372336a8c6",
            "value": " 12239/? [05:41&lt;00:00, 33.63it/s]"
          }
        },
        "a54eaca4979e4059a7b6607bb5f0a8a9": {
          "model_module": "@jupyter-widgets/base",
          "model_name": "LayoutModel",
          "model_module_version": "1.2.0",
          "state": {
            "_model_module": "@jupyter-widgets/base",
            "_model_module_version": "1.2.0",
            "_model_name": "LayoutModel",
            "_view_count": null,
            "_view_module": "@jupyter-widgets/base",
            "_view_module_version": "1.2.0",
            "_view_name": "LayoutView",
            "align_content": null,
            "align_items": null,
            "align_self": null,
            "border": null,
            "bottom": null,
            "display": null,
            "flex": null,
            "flex_flow": null,
            "grid_area": null,
            "grid_auto_columns": null,
            "grid_auto_flow": null,
            "grid_auto_rows": null,
            "grid_column": null,
            "grid_gap": null,
            "grid_row": null,
            "grid_template_areas": null,
            "grid_template_columns": null,
            "grid_template_rows": null,
            "height": null,
            "justify_content": null,
            "justify_items": null,
            "left": null,
            "margin": null,
            "max_height": null,
            "max_width": null,
            "min_height": null,
            "min_width": null,
            "object_fit": null,
            "object_position": null,
            "order": null,
            "overflow": null,
            "overflow_x": null,
            "overflow_y": null,
            "padding": null,
            "right": null,
            "top": null,
            "visibility": null,
            "width": null
          }
        },
        "7b1d3435b5dd411ebf0e47c944f76266": {
          "model_module": "@jupyter-widgets/base",
          "model_name": "LayoutModel",
          "model_module_version": "1.2.0",
          "state": {
            "_model_module": "@jupyter-widgets/base",
            "_model_module_version": "1.2.0",
            "_model_name": "LayoutModel",
            "_view_count": null,
            "_view_module": "@jupyter-widgets/base",
            "_view_module_version": "1.2.0",
            "_view_name": "LayoutView",
            "align_content": null,
            "align_items": null,
            "align_self": null,
            "border": null,
            "bottom": null,
            "display": null,
            "flex": null,
            "flex_flow": null,
            "grid_area": null,
            "grid_auto_columns": null,
            "grid_auto_flow": null,
            "grid_auto_rows": null,
            "grid_column": null,
            "grid_gap": null,
            "grid_row": null,
            "grid_template_areas": null,
            "grid_template_columns": null,
            "grid_template_rows": null,
            "height": null,
            "justify_content": null,
            "justify_items": null,
            "left": null,
            "margin": null,
            "max_height": null,
            "max_width": null,
            "min_height": null,
            "min_width": null,
            "object_fit": null,
            "object_position": null,
            "order": null,
            "overflow": null,
            "overflow_x": null,
            "overflow_y": null,
            "padding": null,
            "right": null,
            "top": null,
            "visibility": null,
            "width": null
          }
        },
        "732c5e9c7839453a8b0946d91231b70f": {
          "model_module": "@jupyter-widgets/controls",
          "model_name": "DescriptionStyleModel",
          "model_module_version": "1.5.0",
          "state": {
            "_model_module": "@jupyter-widgets/controls",
            "_model_module_version": "1.5.0",
            "_model_name": "DescriptionStyleModel",
            "_view_count": null,
            "_view_module": "@jupyter-widgets/base",
            "_view_module_version": "1.2.0",
            "_view_name": "StyleView",
            "description_width": ""
          }
        },
        "36aa95e5a0d9495789b4de9388fe44b9": {
          "model_module": "@jupyter-widgets/base",
          "model_name": "LayoutModel",
          "model_module_version": "1.2.0",
          "state": {
            "_model_module": "@jupyter-widgets/base",
            "_model_module_version": "1.2.0",
            "_model_name": "LayoutModel",
            "_view_count": null,
            "_view_module": "@jupyter-widgets/base",
            "_view_module_version": "1.2.0",
            "_view_name": "LayoutView",
            "align_content": null,
            "align_items": null,
            "align_self": null,
            "border": null,
            "bottom": null,
            "display": null,
            "flex": null,
            "flex_flow": null,
            "grid_area": null,
            "grid_auto_columns": null,
            "grid_auto_flow": null,
            "grid_auto_rows": null,
            "grid_column": null,
            "grid_gap": null,
            "grid_row": null,
            "grid_template_areas": null,
            "grid_template_columns": null,
            "grid_template_rows": null,
            "height": null,
            "justify_content": null,
            "justify_items": null,
            "left": null,
            "margin": null,
            "max_height": null,
            "max_width": null,
            "min_height": null,
            "min_width": null,
            "object_fit": null,
            "object_position": null,
            "order": null,
            "overflow": null,
            "overflow_x": null,
            "overflow_y": null,
            "padding": null,
            "right": null,
            "top": null,
            "visibility": null,
            "width": null
          }
        },
        "72022a0167a24a58aff7c179685de04d": {
          "model_module": "@jupyter-widgets/controls",
          "model_name": "ProgressStyleModel",
          "model_module_version": "1.5.0",
          "state": {
            "_model_module": "@jupyter-widgets/controls",
            "_model_module_version": "1.5.0",
            "_model_name": "ProgressStyleModel",
            "_view_count": null,
            "_view_module": "@jupyter-widgets/base",
            "_view_module_version": "1.2.0",
            "_view_name": "StyleView",
            "bar_color": null,
            "description_width": ""
          }
        },
        "727ab5f05b75416b83270ed227462f35": {
          "model_module": "@jupyter-widgets/base",
          "model_name": "LayoutModel",
          "model_module_version": "1.2.0",
          "state": {
            "_model_module": "@jupyter-widgets/base",
            "_model_module_version": "1.2.0",
            "_model_name": "LayoutModel",
            "_view_count": null,
            "_view_module": "@jupyter-widgets/base",
            "_view_module_version": "1.2.0",
            "_view_name": "LayoutView",
            "align_content": null,
            "align_items": null,
            "align_self": null,
            "border": null,
            "bottom": null,
            "display": null,
            "flex": null,
            "flex_flow": null,
            "grid_area": null,
            "grid_auto_columns": null,
            "grid_auto_flow": null,
            "grid_auto_rows": null,
            "grid_column": null,
            "grid_gap": null,
            "grid_row": null,
            "grid_template_areas": null,
            "grid_template_columns": null,
            "grid_template_rows": null,
            "height": null,
            "justify_content": null,
            "justify_items": null,
            "left": null,
            "margin": null,
            "max_height": null,
            "max_width": null,
            "min_height": null,
            "min_width": null,
            "object_fit": null,
            "object_position": null,
            "order": null,
            "overflow": null,
            "overflow_x": null,
            "overflow_y": null,
            "padding": null,
            "right": null,
            "top": null,
            "visibility": null,
            "width": null
          }
        },
        "e18ed2820b344e0ba0c02f372336a8c6": {
          "model_module": "@jupyter-widgets/controls",
          "model_name": "DescriptionStyleModel",
          "model_module_version": "1.5.0",
          "state": {
            "_model_module": "@jupyter-widgets/controls",
            "_model_module_version": "1.5.0",
            "_model_name": "DescriptionStyleModel",
            "_view_count": null,
            "_view_module": "@jupyter-widgets/base",
            "_view_module_version": "1.2.0",
            "_view_name": "StyleView",
            "description_width": ""
          }
        },
        "b4b9fa5141184c8b84d7a941983a17e3": {
          "model_module": "@jupyter-widgets/controls",
          "model_name": "HBoxModel",
          "model_module_version": "1.5.0",
          "state": {
            "_dom_classes": [],
            "_model_module": "@jupyter-widgets/controls",
            "_model_module_version": "1.5.0",
            "_model_name": "HBoxModel",
            "_view_count": null,
            "_view_module": "@jupyter-widgets/controls",
            "_view_module_version": "1.5.0",
            "_view_name": "HBoxView",
            "box_style": "",
            "children": [
              "IPY_MODEL_501077852c384575ab5aa64d43b31ee0",
              "IPY_MODEL_8f2375d4d0bc432dbd8d9257ba0584ed",
              "IPY_MODEL_7072966f4df4430abdb8ebcc94a284d9"
            ],
            "layout": "IPY_MODEL_e008e386e66e47129b0a3dad7dd3f726"
          }
        },
        "501077852c384575ab5aa64d43b31ee0": {
          "model_module": "@jupyter-widgets/controls",
          "model_name": "HTMLModel",
          "model_module_version": "1.5.0",
          "state": {
            "_dom_classes": [],
            "_model_module": "@jupyter-widgets/controls",
            "_model_module_version": "1.5.0",
            "_model_name": "HTMLModel",
            "_view_count": null,
            "_view_module": "@jupyter-widgets/controls",
            "_view_module_version": "1.5.0",
            "_view_name": "HTMLView",
            "description": "",
            "description_tooltip": null,
            "layout": "IPY_MODEL_9dc037df1b4f4637a4e5f4e1d3989997",
            "placeholder": "​",
            "style": "IPY_MODEL_bb9ec25cdb654ee3a7ae9bda7ce7c422",
            "value": ""
          }
        },
        "8f2375d4d0bc432dbd8d9257ba0584ed": {
          "model_module": "@jupyter-widgets/controls",
          "model_name": "FloatProgressModel",
          "model_module_version": "1.5.0",
          "state": {
            "_dom_classes": [],
            "_model_module": "@jupyter-widgets/controls",
            "_model_module_version": "1.5.0",
            "_model_name": "FloatProgressModel",
            "_view_count": null,
            "_view_module": "@jupyter-widgets/controls",
            "_view_module_version": "1.5.0",
            "_view_name": "ProgressView",
            "bar_style": "success",
            "description": "",
            "description_tooltip": null,
            "layout": "IPY_MODEL_05c8874631f44a74ac4d9d85049a026a",
            "max": 12238,
            "min": 0,
            "orientation": "horizontal",
            "style": "IPY_MODEL_12befbbdd46f433ab98ecc44f3013370",
            "value": 12238
          }
        },
        "7072966f4df4430abdb8ebcc94a284d9": {
          "model_module": "@jupyter-widgets/controls",
          "model_name": "HTMLModel",
          "model_module_version": "1.5.0",
          "state": {
            "_dom_classes": [],
            "_model_module": "@jupyter-widgets/controls",
            "_model_module_version": "1.5.0",
            "_model_name": "HTMLModel",
            "_view_count": null,
            "_view_module": "@jupyter-widgets/controls",
            "_view_module_version": "1.5.0",
            "_view_name": "HTMLView",
            "description": "",
            "description_tooltip": null,
            "layout": "IPY_MODEL_65fd173edd324d50a019299086344afb",
            "placeholder": "​",
            "style": "IPY_MODEL_911c775d377043a88d8ca533fc46fa2a",
            "value": " 12239/? [05:36&lt;00:00, 39.01it/s]"
          }
        },
        "e008e386e66e47129b0a3dad7dd3f726": {
          "model_module": "@jupyter-widgets/base",
          "model_name": "LayoutModel",
          "model_module_version": "1.2.0",
          "state": {
            "_model_module": "@jupyter-widgets/base",
            "_model_module_version": "1.2.0",
            "_model_name": "LayoutModel",
            "_view_count": null,
            "_view_module": "@jupyter-widgets/base",
            "_view_module_version": "1.2.0",
            "_view_name": "LayoutView",
            "align_content": null,
            "align_items": null,
            "align_self": null,
            "border": null,
            "bottom": null,
            "display": null,
            "flex": null,
            "flex_flow": null,
            "grid_area": null,
            "grid_auto_columns": null,
            "grid_auto_flow": null,
            "grid_auto_rows": null,
            "grid_column": null,
            "grid_gap": null,
            "grid_row": null,
            "grid_template_areas": null,
            "grid_template_columns": null,
            "grid_template_rows": null,
            "height": null,
            "justify_content": null,
            "justify_items": null,
            "left": null,
            "margin": null,
            "max_height": null,
            "max_width": null,
            "min_height": null,
            "min_width": null,
            "object_fit": null,
            "object_position": null,
            "order": null,
            "overflow": null,
            "overflow_x": null,
            "overflow_y": null,
            "padding": null,
            "right": null,
            "top": null,
            "visibility": null,
            "width": null
          }
        },
        "9dc037df1b4f4637a4e5f4e1d3989997": {
          "model_module": "@jupyter-widgets/base",
          "model_name": "LayoutModel",
          "model_module_version": "1.2.0",
          "state": {
            "_model_module": "@jupyter-widgets/base",
            "_model_module_version": "1.2.0",
            "_model_name": "LayoutModel",
            "_view_count": null,
            "_view_module": "@jupyter-widgets/base",
            "_view_module_version": "1.2.0",
            "_view_name": "LayoutView",
            "align_content": null,
            "align_items": null,
            "align_self": null,
            "border": null,
            "bottom": null,
            "display": null,
            "flex": null,
            "flex_flow": null,
            "grid_area": null,
            "grid_auto_columns": null,
            "grid_auto_flow": null,
            "grid_auto_rows": null,
            "grid_column": null,
            "grid_gap": null,
            "grid_row": null,
            "grid_template_areas": null,
            "grid_template_columns": null,
            "grid_template_rows": null,
            "height": null,
            "justify_content": null,
            "justify_items": null,
            "left": null,
            "margin": null,
            "max_height": null,
            "max_width": null,
            "min_height": null,
            "min_width": null,
            "object_fit": null,
            "object_position": null,
            "order": null,
            "overflow": null,
            "overflow_x": null,
            "overflow_y": null,
            "padding": null,
            "right": null,
            "top": null,
            "visibility": null,
            "width": null
          }
        },
        "bb9ec25cdb654ee3a7ae9bda7ce7c422": {
          "model_module": "@jupyter-widgets/controls",
          "model_name": "DescriptionStyleModel",
          "model_module_version": "1.5.0",
          "state": {
            "_model_module": "@jupyter-widgets/controls",
            "_model_module_version": "1.5.0",
            "_model_name": "DescriptionStyleModel",
            "_view_count": null,
            "_view_module": "@jupyter-widgets/base",
            "_view_module_version": "1.2.0",
            "_view_name": "StyleView",
            "description_width": ""
          }
        },
        "05c8874631f44a74ac4d9d85049a026a": {
          "model_module": "@jupyter-widgets/base",
          "model_name": "LayoutModel",
          "model_module_version": "1.2.0",
          "state": {
            "_model_module": "@jupyter-widgets/base",
            "_model_module_version": "1.2.0",
            "_model_name": "LayoutModel",
            "_view_count": null,
            "_view_module": "@jupyter-widgets/base",
            "_view_module_version": "1.2.0",
            "_view_name": "LayoutView",
            "align_content": null,
            "align_items": null,
            "align_self": null,
            "border": null,
            "bottom": null,
            "display": null,
            "flex": null,
            "flex_flow": null,
            "grid_area": null,
            "grid_auto_columns": null,
            "grid_auto_flow": null,
            "grid_auto_rows": null,
            "grid_column": null,
            "grid_gap": null,
            "grid_row": null,
            "grid_template_areas": null,
            "grid_template_columns": null,
            "grid_template_rows": null,
            "height": null,
            "justify_content": null,
            "justify_items": null,
            "left": null,
            "margin": null,
            "max_height": null,
            "max_width": null,
            "min_height": null,
            "min_width": null,
            "object_fit": null,
            "object_position": null,
            "order": null,
            "overflow": null,
            "overflow_x": null,
            "overflow_y": null,
            "padding": null,
            "right": null,
            "top": null,
            "visibility": null,
            "width": null
          }
        },
        "12befbbdd46f433ab98ecc44f3013370": {
          "model_module": "@jupyter-widgets/controls",
          "model_name": "ProgressStyleModel",
          "model_module_version": "1.5.0",
          "state": {
            "_model_module": "@jupyter-widgets/controls",
            "_model_module_version": "1.5.0",
            "_model_name": "ProgressStyleModel",
            "_view_count": null,
            "_view_module": "@jupyter-widgets/base",
            "_view_module_version": "1.2.0",
            "_view_name": "StyleView",
            "bar_color": null,
            "description_width": ""
          }
        },
        "65fd173edd324d50a019299086344afb": {
          "model_module": "@jupyter-widgets/base",
          "model_name": "LayoutModel",
          "model_module_version": "1.2.0",
          "state": {
            "_model_module": "@jupyter-widgets/base",
            "_model_module_version": "1.2.0",
            "_model_name": "LayoutModel",
            "_view_count": null,
            "_view_module": "@jupyter-widgets/base",
            "_view_module_version": "1.2.0",
            "_view_name": "LayoutView",
            "align_content": null,
            "align_items": null,
            "align_self": null,
            "border": null,
            "bottom": null,
            "display": null,
            "flex": null,
            "flex_flow": null,
            "grid_area": null,
            "grid_auto_columns": null,
            "grid_auto_flow": null,
            "grid_auto_rows": null,
            "grid_column": null,
            "grid_gap": null,
            "grid_row": null,
            "grid_template_areas": null,
            "grid_template_columns": null,
            "grid_template_rows": null,
            "height": null,
            "justify_content": null,
            "justify_items": null,
            "left": null,
            "margin": null,
            "max_height": null,
            "max_width": null,
            "min_height": null,
            "min_width": null,
            "object_fit": null,
            "object_position": null,
            "order": null,
            "overflow": null,
            "overflow_x": null,
            "overflow_y": null,
            "padding": null,
            "right": null,
            "top": null,
            "visibility": null,
            "width": null
          }
        },
        "911c775d377043a88d8ca533fc46fa2a": {
          "model_module": "@jupyter-widgets/controls",
          "model_name": "DescriptionStyleModel",
          "model_module_version": "1.5.0",
          "state": {
            "_model_module": "@jupyter-widgets/controls",
            "_model_module_version": "1.5.0",
            "_model_name": "DescriptionStyleModel",
            "_view_count": null,
            "_view_module": "@jupyter-widgets/base",
            "_view_module_version": "1.2.0",
            "_view_name": "StyleView",
            "description_width": ""
          }
        },
        "4bebcee8140e48cda6be9039392b2a32": {
          "model_module": "@jupyter-widgets/controls",
          "model_name": "HBoxModel",
          "model_module_version": "1.5.0",
          "state": {
            "_dom_classes": [],
            "_model_module": "@jupyter-widgets/controls",
            "_model_module_version": "1.5.0",
            "_model_name": "HBoxModel",
            "_view_count": null,
            "_view_module": "@jupyter-widgets/controls",
            "_view_module_version": "1.5.0",
            "_view_name": "HBoxView",
            "box_style": "",
            "children": [
              "IPY_MODEL_673fe78d05ae4da5857d35dbd23efdc7",
              "IPY_MODEL_5e46db8373be48849c309690d6aea08e",
              "IPY_MODEL_c72b837bba3646adb87f6e1bbf417aa1"
            ],
            "layout": "IPY_MODEL_8f304fe846ca465b898695293a4bfeab"
          }
        },
        "673fe78d05ae4da5857d35dbd23efdc7": {
          "model_module": "@jupyter-widgets/controls",
          "model_name": "HTMLModel",
          "model_module_version": "1.5.0",
          "state": {
            "_dom_classes": [],
            "_model_module": "@jupyter-widgets/controls",
            "_model_module_version": "1.5.0",
            "_model_name": "HTMLModel",
            "_view_count": null,
            "_view_module": "@jupyter-widgets/controls",
            "_view_module_version": "1.5.0",
            "_view_name": "HTMLView",
            "description": "",
            "description_tooltip": null,
            "layout": "IPY_MODEL_52ab5c4e1b6e49438cd0956511a37c80",
            "placeholder": "​",
            "style": "IPY_MODEL_f5a2007feba0457da1c6052e081f7628",
            "value": ""
          }
        },
        "5e46db8373be48849c309690d6aea08e": {
          "model_module": "@jupyter-widgets/controls",
          "model_name": "FloatProgressModel",
          "model_module_version": "1.5.0",
          "state": {
            "_dom_classes": [],
            "_model_module": "@jupyter-widgets/controls",
            "_model_module_version": "1.5.0",
            "_model_name": "FloatProgressModel",
            "_view_count": null,
            "_view_module": "@jupyter-widgets/controls",
            "_view_module_version": "1.5.0",
            "_view_name": "ProgressView",
            "bar_style": "success",
            "description": "",
            "description_tooltip": null,
            "layout": "IPY_MODEL_75d87192a96d46719eabdfa41e69245b",
            "max": 12238,
            "min": 0,
            "orientation": "horizontal",
            "style": "IPY_MODEL_99ad0e778d884195ac7a26123b0634f9",
            "value": 12238
          }
        },
        "c72b837bba3646adb87f6e1bbf417aa1": {
          "model_module": "@jupyter-widgets/controls",
          "model_name": "HTMLModel",
          "model_module_version": "1.5.0",
          "state": {
            "_dom_classes": [],
            "_model_module": "@jupyter-widgets/controls",
            "_model_module_version": "1.5.0",
            "_model_name": "HTMLModel",
            "_view_count": null,
            "_view_module": "@jupyter-widgets/controls",
            "_view_module_version": "1.5.0",
            "_view_name": "HTMLView",
            "description": "",
            "description_tooltip": null,
            "layout": "IPY_MODEL_383054d4d30d4660bfe368e0b15f3cad",
            "placeholder": "​",
            "style": "IPY_MODEL_dd5e088825324b82a186bb658cedd6a1",
            "value": " 12239/? [05:42&lt;00:00, 35.77it/s]"
          }
        },
        "8f304fe846ca465b898695293a4bfeab": {
          "model_module": "@jupyter-widgets/base",
          "model_name": "LayoutModel",
          "model_module_version": "1.2.0",
          "state": {
            "_model_module": "@jupyter-widgets/base",
            "_model_module_version": "1.2.0",
            "_model_name": "LayoutModel",
            "_view_count": null,
            "_view_module": "@jupyter-widgets/base",
            "_view_module_version": "1.2.0",
            "_view_name": "LayoutView",
            "align_content": null,
            "align_items": null,
            "align_self": null,
            "border": null,
            "bottom": null,
            "display": null,
            "flex": null,
            "flex_flow": null,
            "grid_area": null,
            "grid_auto_columns": null,
            "grid_auto_flow": null,
            "grid_auto_rows": null,
            "grid_column": null,
            "grid_gap": null,
            "grid_row": null,
            "grid_template_areas": null,
            "grid_template_columns": null,
            "grid_template_rows": null,
            "height": null,
            "justify_content": null,
            "justify_items": null,
            "left": null,
            "margin": null,
            "max_height": null,
            "max_width": null,
            "min_height": null,
            "min_width": null,
            "object_fit": null,
            "object_position": null,
            "order": null,
            "overflow": null,
            "overflow_x": null,
            "overflow_y": null,
            "padding": null,
            "right": null,
            "top": null,
            "visibility": null,
            "width": null
          }
        },
        "52ab5c4e1b6e49438cd0956511a37c80": {
          "model_module": "@jupyter-widgets/base",
          "model_name": "LayoutModel",
          "model_module_version": "1.2.0",
          "state": {
            "_model_module": "@jupyter-widgets/base",
            "_model_module_version": "1.2.0",
            "_model_name": "LayoutModel",
            "_view_count": null,
            "_view_module": "@jupyter-widgets/base",
            "_view_module_version": "1.2.0",
            "_view_name": "LayoutView",
            "align_content": null,
            "align_items": null,
            "align_self": null,
            "border": null,
            "bottom": null,
            "display": null,
            "flex": null,
            "flex_flow": null,
            "grid_area": null,
            "grid_auto_columns": null,
            "grid_auto_flow": null,
            "grid_auto_rows": null,
            "grid_column": null,
            "grid_gap": null,
            "grid_row": null,
            "grid_template_areas": null,
            "grid_template_columns": null,
            "grid_template_rows": null,
            "height": null,
            "justify_content": null,
            "justify_items": null,
            "left": null,
            "margin": null,
            "max_height": null,
            "max_width": null,
            "min_height": null,
            "min_width": null,
            "object_fit": null,
            "object_position": null,
            "order": null,
            "overflow": null,
            "overflow_x": null,
            "overflow_y": null,
            "padding": null,
            "right": null,
            "top": null,
            "visibility": null,
            "width": null
          }
        },
        "f5a2007feba0457da1c6052e081f7628": {
          "model_module": "@jupyter-widgets/controls",
          "model_name": "DescriptionStyleModel",
          "model_module_version": "1.5.0",
          "state": {
            "_model_module": "@jupyter-widgets/controls",
            "_model_module_version": "1.5.0",
            "_model_name": "DescriptionStyleModel",
            "_view_count": null,
            "_view_module": "@jupyter-widgets/base",
            "_view_module_version": "1.2.0",
            "_view_name": "StyleView",
            "description_width": ""
          }
        },
        "75d87192a96d46719eabdfa41e69245b": {
          "model_module": "@jupyter-widgets/base",
          "model_name": "LayoutModel",
          "model_module_version": "1.2.0",
          "state": {
            "_model_module": "@jupyter-widgets/base",
            "_model_module_version": "1.2.0",
            "_model_name": "LayoutModel",
            "_view_count": null,
            "_view_module": "@jupyter-widgets/base",
            "_view_module_version": "1.2.0",
            "_view_name": "LayoutView",
            "align_content": null,
            "align_items": null,
            "align_self": null,
            "border": null,
            "bottom": null,
            "display": null,
            "flex": null,
            "flex_flow": null,
            "grid_area": null,
            "grid_auto_columns": null,
            "grid_auto_flow": null,
            "grid_auto_rows": null,
            "grid_column": null,
            "grid_gap": null,
            "grid_row": null,
            "grid_template_areas": null,
            "grid_template_columns": null,
            "grid_template_rows": null,
            "height": null,
            "justify_content": null,
            "justify_items": null,
            "left": null,
            "margin": null,
            "max_height": null,
            "max_width": null,
            "min_height": null,
            "min_width": null,
            "object_fit": null,
            "object_position": null,
            "order": null,
            "overflow": null,
            "overflow_x": null,
            "overflow_y": null,
            "padding": null,
            "right": null,
            "top": null,
            "visibility": null,
            "width": null
          }
        },
        "99ad0e778d884195ac7a26123b0634f9": {
          "model_module": "@jupyter-widgets/controls",
          "model_name": "ProgressStyleModel",
          "model_module_version": "1.5.0",
          "state": {
            "_model_module": "@jupyter-widgets/controls",
            "_model_module_version": "1.5.0",
            "_model_name": "ProgressStyleModel",
            "_view_count": null,
            "_view_module": "@jupyter-widgets/base",
            "_view_module_version": "1.2.0",
            "_view_name": "StyleView",
            "bar_color": null,
            "description_width": ""
          }
        },
        "383054d4d30d4660bfe368e0b15f3cad": {
          "model_module": "@jupyter-widgets/base",
          "model_name": "LayoutModel",
          "model_module_version": "1.2.0",
          "state": {
            "_model_module": "@jupyter-widgets/base",
            "_model_module_version": "1.2.0",
            "_model_name": "LayoutModel",
            "_view_count": null,
            "_view_module": "@jupyter-widgets/base",
            "_view_module_version": "1.2.0",
            "_view_name": "LayoutView",
            "align_content": null,
            "align_items": null,
            "align_self": null,
            "border": null,
            "bottom": null,
            "display": null,
            "flex": null,
            "flex_flow": null,
            "grid_area": null,
            "grid_auto_columns": null,
            "grid_auto_flow": null,
            "grid_auto_rows": null,
            "grid_column": null,
            "grid_gap": null,
            "grid_row": null,
            "grid_template_areas": null,
            "grid_template_columns": null,
            "grid_template_rows": null,
            "height": null,
            "justify_content": null,
            "justify_items": null,
            "left": null,
            "margin": null,
            "max_height": null,
            "max_width": null,
            "min_height": null,
            "min_width": null,
            "object_fit": null,
            "object_position": null,
            "order": null,
            "overflow": null,
            "overflow_x": null,
            "overflow_y": null,
            "padding": null,
            "right": null,
            "top": null,
            "visibility": null,
            "width": null
          }
        },
        "dd5e088825324b82a186bb658cedd6a1": {
          "model_module": "@jupyter-widgets/controls",
          "model_name": "DescriptionStyleModel",
          "model_module_version": "1.5.0",
          "state": {
            "_model_module": "@jupyter-widgets/controls",
            "_model_module_version": "1.5.0",
            "_model_name": "DescriptionStyleModel",
            "_view_count": null,
            "_view_module": "@jupyter-widgets/base",
            "_view_module_version": "1.2.0",
            "_view_name": "StyleView",
            "description_width": ""
          }
        },
        "821960d982604a63ae2dc6587479e421": {
          "model_module": "@jupyter-widgets/controls",
          "model_name": "HBoxModel",
          "model_module_version": "1.5.0",
          "state": {
            "_dom_classes": [],
            "_model_module": "@jupyter-widgets/controls",
            "_model_module_version": "1.5.0",
            "_model_name": "HBoxModel",
            "_view_count": null,
            "_view_module": "@jupyter-widgets/controls",
            "_view_module_version": "1.5.0",
            "_view_name": "HBoxView",
            "box_style": "",
            "children": [
              "IPY_MODEL_16be3e647a4d449b8d7fff910083222e",
              "IPY_MODEL_dd219083689b4e5f8824fb4ebcfcf190",
              "IPY_MODEL_963e872ed1fb469e8edadbe624a61ce0"
            ],
            "layout": "IPY_MODEL_1be0b7d0e6c84ba0899957fd46abc77d"
          }
        },
        "16be3e647a4d449b8d7fff910083222e": {
          "model_module": "@jupyter-widgets/controls",
          "model_name": "HTMLModel",
          "model_module_version": "1.5.0",
          "state": {
            "_dom_classes": [],
            "_model_module": "@jupyter-widgets/controls",
            "_model_module_version": "1.5.0",
            "_model_name": "HTMLModel",
            "_view_count": null,
            "_view_module": "@jupyter-widgets/controls",
            "_view_module_version": "1.5.0",
            "_view_name": "HTMLView",
            "description": "",
            "description_tooltip": null,
            "layout": "IPY_MODEL_8d59b6296fb64fe19353ec6847438b42",
            "placeholder": "​",
            "style": "IPY_MODEL_fb762b9b99254320902f5b48a3367264",
            "value": ""
          }
        },
        "dd219083689b4e5f8824fb4ebcfcf190": {
          "model_module": "@jupyter-widgets/controls",
          "model_name": "FloatProgressModel",
          "model_module_version": "1.5.0",
          "state": {
            "_dom_classes": [],
            "_model_module": "@jupyter-widgets/controls",
            "_model_module_version": "1.5.0",
            "_model_name": "FloatProgressModel",
            "_view_count": null,
            "_view_module": "@jupyter-widgets/controls",
            "_view_module_version": "1.5.0",
            "_view_name": "ProgressView",
            "bar_style": "success",
            "description": "",
            "description_tooltip": null,
            "layout": "IPY_MODEL_d019a4614a3e496eac0db8169bffe258",
            "max": 12238,
            "min": 0,
            "orientation": "horizontal",
            "style": "IPY_MODEL_9f75252ff783442eb86f7747062b5b99",
            "value": 12238
          }
        },
        "963e872ed1fb469e8edadbe624a61ce0": {
          "model_module": "@jupyter-widgets/controls",
          "model_name": "HTMLModel",
          "model_module_version": "1.5.0",
          "state": {
            "_dom_classes": [],
            "_model_module": "@jupyter-widgets/controls",
            "_model_module_version": "1.5.0",
            "_model_name": "HTMLModel",
            "_view_count": null,
            "_view_module": "@jupyter-widgets/controls",
            "_view_module_version": "1.5.0",
            "_view_name": "HTMLView",
            "description": "",
            "description_tooltip": null,
            "layout": "IPY_MODEL_1ac62cf2de764863b17ef7eb5fc34d8b",
            "placeholder": "​",
            "style": "IPY_MODEL_3a6e5e3807524c20bf191b1e1085ec07",
            "value": " 12239/? [05:40&lt;00:00, 37.40it/s]"
          }
        },
        "1be0b7d0e6c84ba0899957fd46abc77d": {
          "model_module": "@jupyter-widgets/base",
          "model_name": "LayoutModel",
          "model_module_version": "1.2.0",
          "state": {
            "_model_module": "@jupyter-widgets/base",
            "_model_module_version": "1.2.0",
            "_model_name": "LayoutModel",
            "_view_count": null,
            "_view_module": "@jupyter-widgets/base",
            "_view_module_version": "1.2.0",
            "_view_name": "LayoutView",
            "align_content": null,
            "align_items": null,
            "align_self": null,
            "border": null,
            "bottom": null,
            "display": null,
            "flex": null,
            "flex_flow": null,
            "grid_area": null,
            "grid_auto_columns": null,
            "grid_auto_flow": null,
            "grid_auto_rows": null,
            "grid_column": null,
            "grid_gap": null,
            "grid_row": null,
            "grid_template_areas": null,
            "grid_template_columns": null,
            "grid_template_rows": null,
            "height": null,
            "justify_content": null,
            "justify_items": null,
            "left": null,
            "margin": null,
            "max_height": null,
            "max_width": null,
            "min_height": null,
            "min_width": null,
            "object_fit": null,
            "object_position": null,
            "order": null,
            "overflow": null,
            "overflow_x": null,
            "overflow_y": null,
            "padding": null,
            "right": null,
            "top": null,
            "visibility": null,
            "width": null
          }
        },
        "8d59b6296fb64fe19353ec6847438b42": {
          "model_module": "@jupyter-widgets/base",
          "model_name": "LayoutModel",
          "model_module_version": "1.2.0",
          "state": {
            "_model_module": "@jupyter-widgets/base",
            "_model_module_version": "1.2.0",
            "_model_name": "LayoutModel",
            "_view_count": null,
            "_view_module": "@jupyter-widgets/base",
            "_view_module_version": "1.2.0",
            "_view_name": "LayoutView",
            "align_content": null,
            "align_items": null,
            "align_self": null,
            "border": null,
            "bottom": null,
            "display": null,
            "flex": null,
            "flex_flow": null,
            "grid_area": null,
            "grid_auto_columns": null,
            "grid_auto_flow": null,
            "grid_auto_rows": null,
            "grid_column": null,
            "grid_gap": null,
            "grid_row": null,
            "grid_template_areas": null,
            "grid_template_columns": null,
            "grid_template_rows": null,
            "height": null,
            "justify_content": null,
            "justify_items": null,
            "left": null,
            "margin": null,
            "max_height": null,
            "max_width": null,
            "min_height": null,
            "min_width": null,
            "object_fit": null,
            "object_position": null,
            "order": null,
            "overflow": null,
            "overflow_x": null,
            "overflow_y": null,
            "padding": null,
            "right": null,
            "top": null,
            "visibility": null,
            "width": null
          }
        },
        "fb762b9b99254320902f5b48a3367264": {
          "model_module": "@jupyter-widgets/controls",
          "model_name": "DescriptionStyleModel",
          "model_module_version": "1.5.0",
          "state": {
            "_model_module": "@jupyter-widgets/controls",
            "_model_module_version": "1.5.0",
            "_model_name": "DescriptionStyleModel",
            "_view_count": null,
            "_view_module": "@jupyter-widgets/base",
            "_view_module_version": "1.2.0",
            "_view_name": "StyleView",
            "description_width": ""
          }
        },
        "d019a4614a3e496eac0db8169bffe258": {
          "model_module": "@jupyter-widgets/base",
          "model_name": "LayoutModel",
          "model_module_version": "1.2.0",
          "state": {
            "_model_module": "@jupyter-widgets/base",
            "_model_module_version": "1.2.0",
            "_model_name": "LayoutModel",
            "_view_count": null,
            "_view_module": "@jupyter-widgets/base",
            "_view_module_version": "1.2.0",
            "_view_name": "LayoutView",
            "align_content": null,
            "align_items": null,
            "align_self": null,
            "border": null,
            "bottom": null,
            "display": null,
            "flex": null,
            "flex_flow": null,
            "grid_area": null,
            "grid_auto_columns": null,
            "grid_auto_flow": null,
            "grid_auto_rows": null,
            "grid_column": null,
            "grid_gap": null,
            "grid_row": null,
            "grid_template_areas": null,
            "grid_template_columns": null,
            "grid_template_rows": null,
            "height": null,
            "justify_content": null,
            "justify_items": null,
            "left": null,
            "margin": null,
            "max_height": null,
            "max_width": null,
            "min_height": null,
            "min_width": null,
            "object_fit": null,
            "object_position": null,
            "order": null,
            "overflow": null,
            "overflow_x": null,
            "overflow_y": null,
            "padding": null,
            "right": null,
            "top": null,
            "visibility": null,
            "width": null
          }
        },
        "9f75252ff783442eb86f7747062b5b99": {
          "model_module": "@jupyter-widgets/controls",
          "model_name": "ProgressStyleModel",
          "model_module_version": "1.5.0",
          "state": {
            "_model_module": "@jupyter-widgets/controls",
            "_model_module_version": "1.5.0",
            "_model_name": "ProgressStyleModel",
            "_view_count": null,
            "_view_module": "@jupyter-widgets/base",
            "_view_module_version": "1.2.0",
            "_view_name": "StyleView",
            "bar_color": null,
            "description_width": ""
          }
        },
        "1ac62cf2de764863b17ef7eb5fc34d8b": {
          "model_module": "@jupyter-widgets/base",
          "model_name": "LayoutModel",
          "model_module_version": "1.2.0",
          "state": {
            "_model_module": "@jupyter-widgets/base",
            "_model_module_version": "1.2.0",
            "_model_name": "LayoutModel",
            "_view_count": null,
            "_view_module": "@jupyter-widgets/base",
            "_view_module_version": "1.2.0",
            "_view_name": "LayoutView",
            "align_content": null,
            "align_items": null,
            "align_self": null,
            "border": null,
            "bottom": null,
            "display": null,
            "flex": null,
            "flex_flow": null,
            "grid_area": null,
            "grid_auto_columns": null,
            "grid_auto_flow": null,
            "grid_auto_rows": null,
            "grid_column": null,
            "grid_gap": null,
            "grid_row": null,
            "grid_template_areas": null,
            "grid_template_columns": null,
            "grid_template_rows": null,
            "height": null,
            "justify_content": null,
            "justify_items": null,
            "left": null,
            "margin": null,
            "max_height": null,
            "max_width": null,
            "min_height": null,
            "min_width": null,
            "object_fit": null,
            "object_position": null,
            "order": null,
            "overflow": null,
            "overflow_x": null,
            "overflow_y": null,
            "padding": null,
            "right": null,
            "top": null,
            "visibility": null,
            "width": null
          }
        },
        "3a6e5e3807524c20bf191b1e1085ec07": {
          "model_module": "@jupyter-widgets/controls",
          "model_name": "DescriptionStyleModel",
          "model_module_version": "1.5.0",
          "state": {
            "_model_module": "@jupyter-widgets/controls",
            "_model_module_version": "1.5.0",
            "_model_name": "DescriptionStyleModel",
            "_view_count": null,
            "_view_module": "@jupyter-widgets/base",
            "_view_module_version": "1.2.0",
            "_view_name": "StyleView",
            "description_width": ""
          }
        },
        "f7a46271cb6e490db36c2df13cabf912": {
          "model_module": "@jupyter-widgets/controls",
          "model_name": "HBoxModel",
          "model_module_version": "1.5.0",
          "state": {
            "_dom_classes": [],
            "_model_module": "@jupyter-widgets/controls",
            "_model_module_version": "1.5.0",
            "_model_name": "HBoxModel",
            "_view_count": null,
            "_view_module": "@jupyter-widgets/controls",
            "_view_module_version": "1.5.0",
            "_view_name": "HBoxView",
            "box_style": "",
            "children": [
              "IPY_MODEL_e0b83ec5c3a14da2afb0ede412eb4c34",
              "IPY_MODEL_6764cc294d034b0294a8eb3ba5be8e09",
              "IPY_MODEL_14e2f7244bc54e38870ba2abb0f39b8a"
            ],
            "layout": "IPY_MODEL_ce64cbb4b32b4bf49515d0490ef09785"
          }
        },
        "e0b83ec5c3a14da2afb0ede412eb4c34": {
          "model_module": "@jupyter-widgets/controls",
          "model_name": "HTMLModel",
          "model_module_version": "1.5.0",
          "state": {
            "_dom_classes": [],
            "_model_module": "@jupyter-widgets/controls",
            "_model_module_version": "1.5.0",
            "_model_name": "HTMLModel",
            "_view_count": null,
            "_view_module": "@jupyter-widgets/controls",
            "_view_module_version": "1.5.0",
            "_view_name": "HTMLView",
            "description": "",
            "description_tooltip": null,
            "layout": "IPY_MODEL_85ca63ddcf764c37a5dbd8a6341d69ce",
            "placeholder": "​",
            "style": "IPY_MODEL_d2ed8b54ed97430a944e505f6e2fe580",
            "value": ""
          }
        },
        "6764cc294d034b0294a8eb3ba5be8e09": {
          "model_module": "@jupyter-widgets/controls",
          "model_name": "FloatProgressModel",
          "model_module_version": "1.5.0",
          "state": {
            "_dom_classes": [],
            "_model_module": "@jupyter-widgets/controls",
            "_model_module_version": "1.5.0",
            "_model_name": "FloatProgressModel",
            "_view_count": null,
            "_view_module": "@jupyter-widgets/controls",
            "_view_module_version": "1.5.0",
            "_view_name": "ProgressView",
            "bar_style": "success",
            "description": "",
            "description_tooltip": null,
            "layout": "IPY_MODEL_d339fb7926b4460ebe552cccc813565b",
            "max": 12238,
            "min": 0,
            "orientation": "horizontal",
            "style": "IPY_MODEL_c85c812edd154b05ab4dc71604e4aaba",
            "value": 12238
          }
        },
        "14e2f7244bc54e38870ba2abb0f39b8a": {
          "model_module": "@jupyter-widgets/controls",
          "model_name": "HTMLModel",
          "model_module_version": "1.5.0",
          "state": {
            "_dom_classes": [],
            "_model_module": "@jupyter-widgets/controls",
            "_model_module_version": "1.5.0",
            "_model_name": "HTMLModel",
            "_view_count": null,
            "_view_module": "@jupyter-widgets/controls",
            "_view_module_version": "1.5.0",
            "_view_name": "HTMLView",
            "description": "",
            "description_tooltip": null,
            "layout": "IPY_MODEL_69d4133d09504c498ba93a3154b561cf",
            "placeholder": "​",
            "style": "IPY_MODEL_cad988ef5c37491fb099402db5f3a157",
            "value": " 12239/? [05:36&lt;00:00, 38.38it/s]"
          }
        },
        "ce64cbb4b32b4bf49515d0490ef09785": {
          "model_module": "@jupyter-widgets/base",
          "model_name": "LayoutModel",
          "model_module_version": "1.2.0",
          "state": {
            "_model_module": "@jupyter-widgets/base",
            "_model_module_version": "1.2.0",
            "_model_name": "LayoutModel",
            "_view_count": null,
            "_view_module": "@jupyter-widgets/base",
            "_view_module_version": "1.2.0",
            "_view_name": "LayoutView",
            "align_content": null,
            "align_items": null,
            "align_self": null,
            "border": null,
            "bottom": null,
            "display": null,
            "flex": null,
            "flex_flow": null,
            "grid_area": null,
            "grid_auto_columns": null,
            "grid_auto_flow": null,
            "grid_auto_rows": null,
            "grid_column": null,
            "grid_gap": null,
            "grid_row": null,
            "grid_template_areas": null,
            "grid_template_columns": null,
            "grid_template_rows": null,
            "height": null,
            "justify_content": null,
            "justify_items": null,
            "left": null,
            "margin": null,
            "max_height": null,
            "max_width": null,
            "min_height": null,
            "min_width": null,
            "object_fit": null,
            "object_position": null,
            "order": null,
            "overflow": null,
            "overflow_x": null,
            "overflow_y": null,
            "padding": null,
            "right": null,
            "top": null,
            "visibility": null,
            "width": null
          }
        },
        "85ca63ddcf764c37a5dbd8a6341d69ce": {
          "model_module": "@jupyter-widgets/base",
          "model_name": "LayoutModel",
          "model_module_version": "1.2.0",
          "state": {
            "_model_module": "@jupyter-widgets/base",
            "_model_module_version": "1.2.0",
            "_model_name": "LayoutModel",
            "_view_count": null,
            "_view_module": "@jupyter-widgets/base",
            "_view_module_version": "1.2.0",
            "_view_name": "LayoutView",
            "align_content": null,
            "align_items": null,
            "align_self": null,
            "border": null,
            "bottom": null,
            "display": null,
            "flex": null,
            "flex_flow": null,
            "grid_area": null,
            "grid_auto_columns": null,
            "grid_auto_flow": null,
            "grid_auto_rows": null,
            "grid_column": null,
            "grid_gap": null,
            "grid_row": null,
            "grid_template_areas": null,
            "grid_template_columns": null,
            "grid_template_rows": null,
            "height": null,
            "justify_content": null,
            "justify_items": null,
            "left": null,
            "margin": null,
            "max_height": null,
            "max_width": null,
            "min_height": null,
            "min_width": null,
            "object_fit": null,
            "object_position": null,
            "order": null,
            "overflow": null,
            "overflow_x": null,
            "overflow_y": null,
            "padding": null,
            "right": null,
            "top": null,
            "visibility": null,
            "width": null
          }
        },
        "d2ed8b54ed97430a944e505f6e2fe580": {
          "model_module": "@jupyter-widgets/controls",
          "model_name": "DescriptionStyleModel",
          "model_module_version": "1.5.0",
          "state": {
            "_model_module": "@jupyter-widgets/controls",
            "_model_module_version": "1.5.0",
            "_model_name": "DescriptionStyleModel",
            "_view_count": null,
            "_view_module": "@jupyter-widgets/base",
            "_view_module_version": "1.2.0",
            "_view_name": "StyleView",
            "description_width": ""
          }
        },
        "d339fb7926b4460ebe552cccc813565b": {
          "model_module": "@jupyter-widgets/base",
          "model_name": "LayoutModel",
          "model_module_version": "1.2.0",
          "state": {
            "_model_module": "@jupyter-widgets/base",
            "_model_module_version": "1.2.0",
            "_model_name": "LayoutModel",
            "_view_count": null,
            "_view_module": "@jupyter-widgets/base",
            "_view_module_version": "1.2.0",
            "_view_name": "LayoutView",
            "align_content": null,
            "align_items": null,
            "align_self": null,
            "border": null,
            "bottom": null,
            "display": null,
            "flex": null,
            "flex_flow": null,
            "grid_area": null,
            "grid_auto_columns": null,
            "grid_auto_flow": null,
            "grid_auto_rows": null,
            "grid_column": null,
            "grid_gap": null,
            "grid_row": null,
            "grid_template_areas": null,
            "grid_template_columns": null,
            "grid_template_rows": null,
            "height": null,
            "justify_content": null,
            "justify_items": null,
            "left": null,
            "margin": null,
            "max_height": null,
            "max_width": null,
            "min_height": null,
            "min_width": null,
            "object_fit": null,
            "object_position": null,
            "order": null,
            "overflow": null,
            "overflow_x": null,
            "overflow_y": null,
            "padding": null,
            "right": null,
            "top": null,
            "visibility": null,
            "width": null
          }
        },
        "c85c812edd154b05ab4dc71604e4aaba": {
          "model_module": "@jupyter-widgets/controls",
          "model_name": "ProgressStyleModel",
          "model_module_version": "1.5.0",
          "state": {
            "_model_module": "@jupyter-widgets/controls",
            "_model_module_version": "1.5.0",
            "_model_name": "ProgressStyleModel",
            "_view_count": null,
            "_view_module": "@jupyter-widgets/base",
            "_view_module_version": "1.2.0",
            "_view_name": "StyleView",
            "bar_color": null,
            "description_width": ""
          }
        },
        "69d4133d09504c498ba93a3154b561cf": {
          "model_module": "@jupyter-widgets/base",
          "model_name": "LayoutModel",
          "model_module_version": "1.2.0",
          "state": {
            "_model_module": "@jupyter-widgets/base",
            "_model_module_version": "1.2.0",
            "_model_name": "LayoutModel",
            "_view_count": null,
            "_view_module": "@jupyter-widgets/base",
            "_view_module_version": "1.2.0",
            "_view_name": "LayoutView",
            "align_content": null,
            "align_items": null,
            "align_self": null,
            "border": null,
            "bottom": null,
            "display": null,
            "flex": null,
            "flex_flow": null,
            "grid_area": null,
            "grid_auto_columns": null,
            "grid_auto_flow": null,
            "grid_auto_rows": null,
            "grid_column": null,
            "grid_gap": null,
            "grid_row": null,
            "grid_template_areas": null,
            "grid_template_columns": null,
            "grid_template_rows": null,
            "height": null,
            "justify_content": null,
            "justify_items": null,
            "left": null,
            "margin": null,
            "max_height": null,
            "max_width": null,
            "min_height": null,
            "min_width": null,
            "object_fit": null,
            "object_position": null,
            "order": null,
            "overflow": null,
            "overflow_x": null,
            "overflow_y": null,
            "padding": null,
            "right": null,
            "top": null,
            "visibility": null,
            "width": null
          }
        },
        "cad988ef5c37491fb099402db5f3a157": {
          "model_module": "@jupyter-widgets/controls",
          "model_name": "DescriptionStyleModel",
          "model_module_version": "1.5.0",
          "state": {
            "_model_module": "@jupyter-widgets/controls",
            "_model_module_version": "1.5.0",
            "_model_name": "DescriptionStyleModel",
            "_view_count": null,
            "_view_module": "@jupyter-widgets/base",
            "_view_module_version": "1.2.0",
            "_view_name": "StyleView",
            "description_width": ""
          }
        },
        "acb9fc3e332d4332afe76de6912aad08": {
          "model_module": "@jupyter-widgets/controls",
          "model_name": "HBoxModel",
          "model_module_version": "1.5.0",
          "state": {
            "_dom_classes": [],
            "_model_module": "@jupyter-widgets/controls",
            "_model_module_version": "1.5.0",
            "_model_name": "HBoxModel",
            "_view_count": null,
            "_view_module": "@jupyter-widgets/controls",
            "_view_module_version": "1.5.0",
            "_view_name": "HBoxView",
            "box_style": "",
            "children": [
              "IPY_MODEL_74ddd665098b49c99ba2a66fb73e7386",
              "IPY_MODEL_8f2d9a53003b4e408f3df1ebb9213490",
              "IPY_MODEL_325efdb14ddf4ad38b088f6a7769e288"
            ],
            "layout": "IPY_MODEL_78512915994d447aac23671a0b6e8dd5"
          }
        },
        "74ddd665098b49c99ba2a66fb73e7386": {
          "model_module": "@jupyter-widgets/controls",
          "model_name": "HTMLModel",
          "model_module_version": "1.5.0",
          "state": {
            "_dom_classes": [],
            "_model_module": "@jupyter-widgets/controls",
            "_model_module_version": "1.5.0",
            "_model_name": "HTMLModel",
            "_view_count": null,
            "_view_module": "@jupyter-widgets/controls",
            "_view_module_version": "1.5.0",
            "_view_name": "HTMLView",
            "description": "",
            "description_tooltip": null,
            "layout": "IPY_MODEL_4e734667fcb64898bf493814cb46fb33",
            "placeholder": "​",
            "style": "IPY_MODEL_c2a73f4ec1344be4b77f8b0cfbade233",
            "value": ""
          }
        },
        "8f2d9a53003b4e408f3df1ebb9213490": {
          "model_module": "@jupyter-widgets/controls",
          "model_name": "FloatProgressModel",
          "model_module_version": "1.5.0",
          "state": {
            "_dom_classes": [],
            "_model_module": "@jupyter-widgets/controls",
            "_model_module_version": "1.5.0",
            "_model_name": "FloatProgressModel",
            "_view_count": null,
            "_view_module": "@jupyter-widgets/controls",
            "_view_module_version": "1.5.0",
            "_view_name": "ProgressView",
            "bar_style": "success",
            "description": "",
            "description_tooltip": null,
            "layout": "IPY_MODEL_a8607f24c1e24455b504efb941485f66",
            "max": 12238,
            "min": 0,
            "orientation": "horizontal",
            "style": "IPY_MODEL_02e5c6e973fd41baacb7fcd90877e37d",
            "value": 12238
          }
        },
        "325efdb14ddf4ad38b088f6a7769e288": {
          "model_module": "@jupyter-widgets/controls",
          "model_name": "HTMLModel",
          "model_module_version": "1.5.0",
          "state": {
            "_dom_classes": [],
            "_model_module": "@jupyter-widgets/controls",
            "_model_module_version": "1.5.0",
            "_model_name": "HTMLModel",
            "_view_count": null,
            "_view_module": "@jupyter-widgets/controls",
            "_view_module_version": "1.5.0",
            "_view_name": "HTMLView",
            "description": "",
            "description_tooltip": null,
            "layout": "IPY_MODEL_329b511de15e4312b5101b3284020a16",
            "placeholder": "​",
            "style": "IPY_MODEL_2a4270ae7a0d424095d3c16f6c674b09",
            "value": " 12239/? [05:38&lt;00:00, 37.70it/s]"
          }
        },
        "78512915994d447aac23671a0b6e8dd5": {
          "model_module": "@jupyter-widgets/base",
          "model_name": "LayoutModel",
          "model_module_version": "1.2.0",
          "state": {
            "_model_module": "@jupyter-widgets/base",
            "_model_module_version": "1.2.0",
            "_model_name": "LayoutModel",
            "_view_count": null,
            "_view_module": "@jupyter-widgets/base",
            "_view_module_version": "1.2.0",
            "_view_name": "LayoutView",
            "align_content": null,
            "align_items": null,
            "align_self": null,
            "border": null,
            "bottom": null,
            "display": null,
            "flex": null,
            "flex_flow": null,
            "grid_area": null,
            "grid_auto_columns": null,
            "grid_auto_flow": null,
            "grid_auto_rows": null,
            "grid_column": null,
            "grid_gap": null,
            "grid_row": null,
            "grid_template_areas": null,
            "grid_template_columns": null,
            "grid_template_rows": null,
            "height": null,
            "justify_content": null,
            "justify_items": null,
            "left": null,
            "margin": null,
            "max_height": null,
            "max_width": null,
            "min_height": null,
            "min_width": null,
            "object_fit": null,
            "object_position": null,
            "order": null,
            "overflow": null,
            "overflow_x": null,
            "overflow_y": null,
            "padding": null,
            "right": null,
            "top": null,
            "visibility": null,
            "width": null
          }
        },
        "4e734667fcb64898bf493814cb46fb33": {
          "model_module": "@jupyter-widgets/base",
          "model_name": "LayoutModel",
          "model_module_version": "1.2.0",
          "state": {
            "_model_module": "@jupyter-widgets/base",
            "_model_module_version": "1.2.0",
            "_model_name": "LayoutModel",
            "_view_count": null,
            "_view_module": "@jupyter-widgets/base",
            "_view_module_version": "1.2.0",
            "_view_name": "LayoutView",
            "align_content": null,
            "align_items": null,
            "align_self": null,
            "border": null,
            "bottom": null,
            "display": null,
            "flex": null,
            "flex_flow": null,
            "grid_area": null,
            "grid_auto_columns": null,
            "grid_auto_flow": null,
            "grid_auto_rows": null,
            "grid_column": null,
            "grid_gap": null,
            "grid_row": null,
            "grid_template_areas": null,
            "grid_template_columns": null,
            "grid_template_rows": null,
            "height": null,
            "justify_content": null,
            "justify_items": null,
            "left": null,
            "margin": null,
            "max_height": null,
            "max_width": null,
            "min_height": null,
            "min_width": null,
            "object_fit": null,
            "object_position": null,
            "order": null,
            "overflow": null,
            "overflow_x": null,
            "overflow_y": null,
            "padding": null,
            "right": null,
            "top": null,
            "visibility": null,
            "width": null
          }
        },
        "c2a73f4ec1344be4b77f8b0cfbade233": {
          "model_module": "@jupyter-widgets/controls",
          "model_name": "DescriptionStyleModel",
          "model_module_version": "1.5.0",
          "state": {
            "_model_module": "@jupyter-widgets/controls",
            "_model_module_version": "1.5.0",
            "_model_name": "DescriptionStyleModel",
            "_view_count": null,
            "_view_module": "@jupyter-widgets/base",
            "_view_module_version": "1.2.0",
            "_view_name": "StyleView",
            "description_width": ""
          }
        },
        "a8607f24c1e24455b504efb941485f66": {
          "model_module": "@jupyter-widgets/base",
          "model_name": "LayoutModel",
          "model_module_version": "1.2.0",
          "state": {
            "_model_module": "@jupyter-widgets/base",
            "_model_module_version": "1.2.0",
            "_model_name": "LayoutModel",
            "_view_count": null,
            "_view_module": "@jupyter-widgets/base",
            "_view_module_version": "1.2.0",
            "_view_name": "LayoutView",
            "align_content": null,
            "align_items": null,
            "align_self": null,
            "border": null,
            "bottom": null,
            "display": null,
            "flex": null,
            "flex_flow": null,
            "grid_area": null,
            "grid_auto_columns": null,
            "grid_auto_flow": null,
            "grid_auto_rows": null,
            "grid_column": null,
            "grid_gap": null,
            "grid_row": null,
            "grid_template_areas": null,
            "grid_template_columns": null,
            "grid_template_rows": null,
            "height": null,
            "justify_content": null,
            "justify_items": null,
            "left": null,
            "margin": null,
            "max_height": null,
            "max_width": null,
            "min_height": null,
            "min_width": null,
            "object_fit": null,
            "object_position": null,
            "order": null,
            "overflow": null,
            "overflow_x": null,
            "overflow_y": null,
            "padding": null,
            "right": null,
            "top": null,
            "visibility": null,
            "width": null
          }
        },
        "02e5c6e973fd41baacb7fcd90877e37d": {
          "model_module": "@jupyter-widgets/controls",
          "model_name": "ProgressStyleModel",
          "model_module_version": "1.5.0",
          "state": {
            "_model_module": "@jupyter-widgets/controls",
            "_model_module_version": "1.5.0",
            "_model_name": "ProgressStyleModel",
            "_view_count": null,
            "_view_module": "@jupyter-widgets/base",
            "_view_module_version": "1.2.0",
            "_view_name": "StyleView",
            "bar_color": null,
            "description_width": ""
          }
        },
        "329b511de15e4312b5101b3284020a16": {
          "model_module": "@jupyter-widgets/base",
          "model_name": "LayoutModel",
          "model_module_version": "1.2.0",
          "state": {
            "_model_module": "@jupyter-widgets/base",
            "_model_module_version": "1.2.0",
            "_model_name": "LayoutModel",
            "_view_count": null,
            "_view_module": "@jupyter-widgets/base",
            "_view_module_version": "1.2.0",
            "_view_name": "LayoutView",
            "align_content": null,
            "align_items": null,
            "align_self": null,
            "border": null,
            "bottom": null,
            "display": null,
            "flex": null,
            "flex_flow": null,
            "grid_area": null,
            "grid_auto_columns": null,
            "grid_auto_flow": null,
            "grid_auto_rows": null,
            "grid_column": null,
            "grid_gap": null,
            "grid_row": null,
            "grid_template_areas": null,
            "grid_template_columns": null,
            "grid_template_rows": null,
            "height": null,
            "justify_content": null,
            "justify_items": null,
            "left": null,
            "margin": null,
            "max_height": null,
            "max_width": null,
            "min_height": null,
            "min_width": null,
            "object_fit": null,
            "object_position": null,
            "order": null,
            "overflow": null,
            "overflow_x": null,
            "overflow_y": null,
            "padding": null,
            "right": null,
            "top": null,
            "visibility": null,
            "width": null
          }
        },
        "2a4270ae7a0d424095d3c16f6c674b09": {
          "model_module": "@jupyter-widgets/controls",
          "model_name": "DescriptionStyleModel",
          "model_module_version": "1.5.0",
          "state": {
            "_model_module": "@jupyter-widgets/controls",
            "_model_module_version": "1.5.0",
            "_model_name": "DescriptionStyleModel",
            "_view_count": null,
            "_view_module": "@jupyter-widgets/base",
            "_view_module_version": "1.2.0",
            "_view_name": "StyleView",
            "description_width": ""
          }
        },
        "e13e035cc181425d98621861a553e4b7": {
          "model_module": "@jupyter-widgets/controls",
          "model_name": "HBoxModel",
          "model_module_version": "1.5.0",
          "state": {
            "_dom_classes": [],
            "_model_module": "@jupyter-widgets/controls",
            "_model_module_version": "1.5.0",
            "_model_name": "HBoxModel",
            "_view_count": null,
            "_view_module": "@jupyter-widgets/controls",
            "_view_module_version": "1.5.0",
            "_view_name": "HBoxView",
            "box_style": "",
            "children": [
              "IPY_MODEL_a0ff3693b3a64b0887717aadd91f2412",
              "IPY_MODEL_c5d4b247f4c248218ced03809efabd8a",
              "IPY_MODEL_fe3e41ab7ecc491496baa4d2b91da966"
            ],
            "layout": "IPY_MODEL_bebf95f08615442cbd9730bea95bcf0c"
          }
        },
        "a0ff3693b3a64b0887717aadd91f2412": {
          "model_module": "@jupyter-widgets/controls",
          "model_name": "HTMLModel",
          "model_module_version": "1.5.0",
          "state": {
            "_dom_classes": [],
            "_model_module": "@jupyter-widgets/controls",
            "_model_module_version": "1.5.0",
            "_model_name": "HTMLModel",
            "_view_count": null,
            "_view_module": "@jupyter-widgets/controls",
            "_view_module_version": "1.5.0",
            "_view_name": "HTMLView",
            "description": "",
            "description_tooltip": null,
            "layout": "IPY_MODEL_172393001e934049bf4d868a27f64802",
            "placeholder": "​",
            "style": "IPY_MODEL_8a8abee9c83d46bf85759db5bb32f711",
            "value": ""
          }
        },
        "c5d4b247f4c248218ced03809efabd8a": {
          "model_module": "@jupyter-widgets/controls",
          "model_name": "FloatProgressModel",
          "model_module_version": "1.5.0",
          "state": {
            "_dom_classes": [],
            "_model_module": "@jupyter-widgets/controls",
            "_model_module_version": "1.5.0",
            "_model_name": "FloatProgressModel",
            "_view_count": null,
            "_view_module": "@jupyter-widgets/controls",
            "_view_module_version": "1.5.0",
            "_view_name": "ProgressView",
            "bar_style": "success",
            "description": "",
            "description_tooltip": null,
            "layout": "IPY_MODEL_97eee06ca56d42868e18786a49ad0727",
            "max": 12238,
            "min": 0,
            "orientation": "horizontal",
            "style": "IPY_MODEL_686714e1f37641daab4261a0436cf44f",
            "value": 12238
          }
        },
        "fe3e41ab7ecc491496baa4d2b91da966": {
          "model_module": "@jupyter-widgets/controls",
          "model_name": "HTMLModel",
          "model_module_version": "1.5.0",
          "state": {
            "_dom_classes": [],
            "_model_module": "@jupyter-widgets/controls",
            "_model_module_version": "1.5.0",
            "_model_name": "HTMLModel",
            "_view_count": null,
            "_view_module": "@jupyter-widgets/controls",
            "_view_module_version": "1.5.0",
            "_view_name": "HTMLView",
            "description": "",
            "description_tooltip": null,
            "layout": "IPY_MODEL_4de43cc433cd48a6b28027475e8adb73",
            "placeholder": "​",
            "style": "IPY_MODEL_7002c3aec45c4fca8778cb07c55200d2",
            "value": " 12239/? [05:44&lt;00:00, 36.08it/s]"
          }
        },
        "bebf95f08615442cbd9730bea95bcf0c": {
          "model_module": "@jupyter-widgets/base",
          "model_name": "LayoutModel",
          "model_module_version": "1.2.0",
          "state": {
            "_model_module": "@jupyter-widgets/base",
            "_model_module_version": "1.2.0",
            "_model_name": "LayoutModel",
            "_view_count": null,
            "_view_module": "@jupyter-widgets/base",
            "_view_module_version": "1.2.0",
            "_view_name": "LayoutView",
            "align_content": null,
            "align_items": null,
            "align_self": null,
            "border": null,
            "bottom": null,
            "display": null,
            "flex": null,
            "flex_flow": null,
            "grid_area": null,
            "grid_auto_columns": null,
            "grid_auto_flow": null,
            "grid_auto_rows": null,
            "grid_column": null,
            "grid_gap": null,
            "grid_row": null,
            "grid_template_areas": null,
            "grid_template_columns": null,
            "grid_template_rows": null,
            "height": null,
            "justify_content": null,
            "justify_items": null,
            "left": null,
            "margin": null,
            "max_height": null,
            "max_width": null,
            "min_height": null,
            "min_width": null,
            "object_fit": null,
            "object_position": null,
            "order": null,
            "overflow": null,
            "overflow_x": null,
            "overflow_y": null,
            "padding": null,
            "right": null,
            "top": null,
            "visibility": null,
            "width": null
          }
        },
        "172393001e934049bf4d868a27f64802": {
          "model_module": "@jupyter-widgets/base",
          "model_name": "LayoutModel",
          "model_module_version": "1.2.0",
          "state": {
            "_model_module": "@jupyter-widgets/base",
            "_model_module_version": "1.2.0",
            "_model_name": "LayoutModel",
            "_view_count": null,
            "_view_module": "@jupyter-widgets/base",
            "_view_module_version": "1.2.0",
            "_view_name": "LayoutView",
            "align_content": null,
            "align_items": null,
            "align_self": null,
            "border": null,
            "bottom": null,
            "display": null,
            "flex": null,
            "flex_flow": null,
            "grid_area": null,
            "grid_auto_columns": null,
            "grid_auto_flow": null,
            "grid_auto_rows": null,
            "grid_column": null,
            "grid_gap": null,
            "grid_row": null,
            "grid_template_areas": null,
            "grid_template_columns": null,
            "grid_template_rows": null,
            "height": null,
            "justify_content": null,
            "justify_items": null,
            "left": null,
            "margin": null,
            "max_height": null,
            "max_width": null,
            "min_height": null,
            "min_width": null,
            "object_fit": null,
            "object_position": null,
            "order": null,
            "overflow": null,
            "overflow_x": null,
            "overflow_y": null,
            "padding": null,
            "right": null,
            "top": null,
            "visibility": null,
            "width": null
          }
        },
        "8a8abee9c83d46bf85759db5bb32f711": {
          "model_module": "@jupyter-widgets/controls",
          "model_name": "DescriptionStyleModel",
          "model_module_version": "1.5.0",
          "state": {
            "_model_module": "@jupyter-widgets/controls",
            "_model_module_version": "1.5.0",
            "_model_name": "DescriptionStyleModel",
            "_view_count": null,
            "_view_module": "@jupyter-widgets/base",
            "_view_module_version": "1.2.0",
            "_view_name": "StyleView",
            "description_width": ""
          }
        },
        "97eee06ca56d42868e18786a49ad0727": {
          "model_module": "@jupyter-widgets/base",
          "model_name": "LayoutModel",
          "model_module_version": "1.2.0",
          "state": {
            "_model_module": "@jupyter-widgets/base",
            "_model_module_version": "1.2.0",
            "_model_name": "LayoutModel",
            "_view_count": null,
            "_view_module": "@jupyter-widgets/base",
            "_view_module_version": "1.2.0",
            "_view_name": "LayoutView",
            "align_content": null,
            "align_items": null,
            "align_self": null,
            "border": null,
            "bottom": null,
            "display": null,
            "flex": null,
            "flex_flow": null,
            "grid_area": null,
            "grid_auto_columns": null,
            "grid_auto_flow": null,
            "grid_auto_rows": null,
            "grid_column": null,
            "grid_gap": null,
            "grid_row": null,
            "grid_template_areas": null,
            "grid_template_columns": null,
            "grid_template_rows": null,
            "height": null,
            "justify_content": null,
            "justify_items": null,
            "left": null,
            "margin": null,
            "max_height": null,
            "max_width": null,
            "min_height": null,
            "min_width": null,
            "object_fit": null,
            "object_position": null,
            "order": null,
            "overflow": null,
            "overflow_x": null,
            "overflow_y": null,
            "padding": null,
            "right": null,
            "top": null,
            "visibility": null,
            "width": null
          }
        },
        "686714e1f37641daab4261a0436cf44f": {
          "model_module": "@jupyter-widgets/controls",
          "model_name": "ProgressStyleModel",
          "model_module_version": "1.5.0",
          "state": {
            "_model_module": "@jupyter-widgets/controls",
            "_model_module_version": "1.5.0",
            "_model_name": "ProgressStyleModel",
            "_view_count": null,
            "_view_module": "@jupyter-widgets/base",
            "_view_module_version": "1.2.0",
            "_view_name": "StyleView",
            "bar_color": null,
            "description_width": ""
          }
        },
        "4de43cc433cd48a6b28027475e8adb73": {
          "model_module": "@jupyter-widgets/base",
          "model_name": "LayoutModel",
          "model_module_version": "1.2.0",
          "state": {
            "_model_module": "@jupyter-widgets/base",
            "_model_module_version": "1.2.0",
            "_model_name": "LayoutModel",
            "_view_count": null,
            "_view_module": "@jupyter-widgets/base",
            "_view_module_version": "1.2.0",
            "_view_name": "LayoutView",
            "align_content": null,
            "align_items": null,
            "align_self": null,
            "border": null,
            "bottom": null,
            "display": null,
            "flex": null,
            "flex_flow": null,
            "grid_area": null,
            "grid_auto_columns": null,
            "grid_auto_flow": null,
            "grid_auto_rows": null,
            "grid_column": null,
            "grid_gap": null,
            "grid_row": null,
            "grid_template_areas": null,
            "grid_template_columns": null,
            "grid_template_rows": null,
            "height": null,
            "justify_content": null,
            "justify_items": null,
            "left": null,
            "margin": null,
            "max_height": null,
            "max_width": null,
            "min_height": null,
            "min_width": null,
            "object_fit": null,
            "object_position": null,
            "order": null,
            "overflow": null,
            "overflow_x": null,
            "overflow_y": null,
            "padding": null,
            "right": null,
            "top": null,
            "visibility": null,
            "width": null
          }
        },
        "7002c3aec45c4fca8778cb07c55200d2": {
          "model_module": "@jupyter-widgets/controls",
          "model_name": "DescriptionStyleModel",
          "model_module_version": "1.5.0",
          "state": {
            "_model_module": "@jupyter-widgets/controls",
            "_model_module_version": "1.5.0",
            "_model_name": "DescriptionStyleModel",
            "_view_count": null,
            "_view_module": "@jupyter-widgets/base",
            "_view_module_version": "1.2.0",
            "_view_name": "StyleView",
            "description_width": ""
          }
        },
        "8666a99630324f70b6aa26434e9ed3d4": {
          "model_module": "@jupyter-widgets/controls",
          "model_name": "VBoxModel",
          "model_module_version": "1.5.0",
          "state": {
            "_dom_classes": [],
            "_model_module": "@jupyter-widgets/controls",
            "_model_module_version": "1.5.0",
            "_model_name": "VBoxModel",
            "_view_count": null,
            "_view_module": "@jupyter-widgets/controls",
            "_view_module_version": "1.5.0",
            "_view_name": "VBoxView",
            "box_style": "",
            "children": [
              "IPY_MODEL_d444276ec4a4437b85da03d0b1e08b46",
              "IPY_MODEL_3b86e0a4c6b64108b06ae9499a3b8bc3"
            ],
            "layout": "IPY_MODEL_5a301a6456594857bed233610308f719"
          }
        },
        "d444276ec4a4437b85da03d0b1e08b46": {
          "model_module": "@jupyter-widgets/controls",
          "model_name": "LabelModel",
          "model_module_version": "1.5.0",
          "state": {
            "_dom_classes": [],
            "_model_module": "@jupyter-widgets/controls",
            "_model_module_version": "1.5.0",
            "_model_name": "LabelModel",
            "_view_count": null,
            "_view_module": "@jupyter-widgets/controls",
            "_view_module_version": "1.5.0",
            "_view_name": "LabelView",
            "description": "",
            "description_tooltip": null,
            "layout": "IPY_MODEL_90765cafcc574f779a1cfd32c43acc15",
            "placeholder": "​",
            "style": "IPY_MODEL_fac18aa5c441400eb62ff0540103f273",
            "value": "0.001 MB of 0.010 MB uploaded (0.000 MB deduped)\r"
          }
        },
        "3b86e0a4c6b64108b06ae9499a3b8bc3": {
          "model_module": "@jupyter-widgets/controls",
          "model_name": "FloatProgressModel",
          "model_module_version": "1.5.0",
          "state": {
            "_dom_classes": [],
            "_model_module": "@jupyter-widgets/controls",
            "_model_module_version": "1.5.0",
            "_model_name": "FloatProgressModel",
            "_view_count": null,
            "_view_module": "@jupyter-widgets/controls",
            "_view_module_version": "1.5.0",
            "_view_name": "ProgressView",
            "bar_style": "",
            "description": "",
            "description_tooltip": null,
            "layout": "IPY_MODEL_ebc4332dd008436abcf51b320075c3e2",
            "max": 1,
            "min": 0,
            "orientation": "horizontal",
            "style": "IPY_MODEL_d55e910a196c405489b6fa2b227b13c1",
            "value": 0.12057981719139507
          }
        },
        "5a301a6456594857bed233610308f719": {
          "model_module": "@jupyter-widgets/base",
          "model_name": "LayoutModel",
          "model_module_version": "1.2.0",
          "state": {
            "_model_module": "@jupyter-widgets/base",
            "_model_module_version": "1.2.0",
            "_model_name": "LayoutModel",
            "_view_count": null,
            "_view_module": "@jupyter-widgets/base",
            "_view_module_version": "1.2.0",
            "_view_name": "LayoutView",
            "align_content": null,
            "align_items": null,
            "align_self": null,
            "border": null,
            "bottom": null,
            "display": null,
            "flex": null,
            "flex_flow": null,
            "grid_area": null,
            "grid_auto_columns": null,
            "grid_auto_flow": null,
            "grid_auto_rows": null,
            "grid_column": null,
            "grid_gap": null,
            "grid_row": null,
            "grid_template_areas": null,
            "grid_template_columns": null,
            "grid_template_rows": null,
            "height": null,
            "justify_content": null,
            "justify_items": null,
            "left": null,
            "margin": null,
            "max_height": null,
            "max_width": null,
            "min_height": null,
            "min_width": null,
            "object_fit": null,
            "object_position": null,
            "order": null,
            "overflow": null,
            "overflow_x": null,
            "overflow_y": null,
            "padding": null,
            "right": null,
            "top": null,
            "visibility": null,
            "width": null
          }
        },
        "90765cafcc574f779a1cfd32c43acc15": {
          "model_module": "@jupyter-widgets/base",
          "model_name": "LayoutModel",
          "model_module_version": "1.2.0",
          "state": {
            "_model_module": "@jupyter-widgets/base",
            "_model_module_version": "1.2.0",
            "_model_name": "LayoutModel",
            "_view_count": null,
            "_view_module": "@jupyter-widgets/base",
            "_view_module_version": "1.2.0",
            "_view_name": "LayoutView",
            "align_content": null,
            "align_items": null,
            "align_self": null,
            "border": null,
            "bottom": null,
            "display": null,
            "flex": null,
            "flex_flow": null,
            "grid_area": null,
            "grid_auto_columns": null,
            "grid_auto_flow": null,
            "grid_auto_rows": null,
            "grid_column": null,
            "grid_gap": null,
            "grid_row": null,
            "grid_template_areas": null,
            "grid_template_columns": null,
            "grid_template_rows": null,
            "height": null,
            "justify_content": null,
            "justify_items": null,
            "left": null,
            "margin": null,
            "max_height": null,
            "max_width": null,
            "min_height": null,
            "min_width": null,
            "object_fit": null,
            "object_position": null,
            "order": null,
            "overflow": null,
            "overflow_x": null,
            "overflow_y": null,
            "padding": null,
            "right": null,
            "top": null,
            "visibility": null,
            "width": null
          }
        },
        "fac18aa5c441400eb62ff0540103f273": {
          "model_module": "@jupyter-widgets/controls",
          "model_name": "DescriptionStyleModel",
          "model_module_version": "1.5.0",
          "state": {
            "_model_module": "@jupyter-widgets/controls",
            "_model_module_version": "1.5.0",
            "_model_name": "DescriptionStyleModel",
            "_view_count": null,
            "_view_module": "@jupyter-widgets/base",
            "_view_module_version": "1.2.0",
            "_view_name": "StyleView",
            "description_width": ""
          }
        },
        "ebc4332dd008436abcf51b320075c3e2": {
          "model_module": "@jupyter-widgets/base",
          "model_name": "LayoutModel",
          "model_module_version": "1.2.0",
          "state": {
            "_model_module": "@jupyter-widgets/base",
            "_model_module_version": "1.2.0",
            "_model_name": "LayoutModel",
            "_view_count": null,
            "_view_module": "@jupyter-widgets/base",
            "_view_module_version": "1.2.0",
            "_view_name": "LayoutView",
            "align_content": null,
            "align_items": null,
            "align_self": null,
            "border": null,
            "bottom": null,
            "display": null,
            "flex": null,
            "flex_flow": null,
            "grid_area": null,
            "grid_auto_columns": null,
            "grid_auto_flow": null,
            "grid_auto_rows": null,
            "grid_column": null,
            "grid_gap": null,
            "grid_row": null,
            "grid_template_areas": null,
            "grid_template_columns": null,
            "grid_template_rows": null,
            "height": null,
            "justify_content": null,
            "justify_items": null,
            "left": null,
            "margin": null,
            "max_height": null,
            "max_width": null,
            "min_height": null,
            "min_width": null,
            "object_fit": null,
            "object_position": null,
            "order": null,
            "overflow": null,
            "overflow_x": null,
            "overflow_y": null,
            "padding": null,
            "right": null,
            "top": null,
            "visibility": null,
            "width": null
          }
        },
        "d55e910a196c405489b6fa2b227b13c1": {
          "model_module": "@jupyter-widgets/controls",
          "model_name": "ProgressStyleModel",
          "model_module_version": "1.5.0",
          "state": {
            "_model_module": "@jupyter-widgets/controls",
            "_model_module_version": "1.5.0",
            "_model_name": "ProgressStyleModel",
            "_view_count": null,
            "_view_module": "@jupyter-widgets/base",
            "_view_module_version": "1.2.0",
            "_view_name": "StyleView",
            "bar_color": null,
            "description_width": ""
          }
        },
        "197586da7007401eb832ee6abd40b0ba": {
          "model_module": "@jupyter-widgets/controls",
          "model_name": "HBoxModel",
          "model_module_version": "1.5.0",
          "state": {
            "_dom_classes": [],
            "_model_module": "@jupyter-widgets/controls",
            "_model_module_version": "1.5.0",
            "_model_name": "HBoxModel",
            "_view_count": null,
            "_view_module": "@jupyter-widgets/controls",
            "_view_module_version": "1.5.0",
            "_view_name": "HBoxView",
            "box_style": "",
            "children": [
              "IPY_MODEL_bd9f341e04554ef3ae5d085257dbd228",
              "IPY_MODEL_352d39bffc8246e1b0e3cd847860d35d",
              "IPY_MODEL_4f8a372cd91c486eae1f88228400f23b"
            ],
            "layout": "IPY_MODEL_beca19d98fa94da58ba2a726aaa87369"
          }
        },
        "bd9f341e04554ef3ae5d085257dbd228": {
          "model_module": "@jupyter-widgets/controls",
          "model_name": "HTMLModel",
          "model_module_version": "1.5.0",
          "state": {
            "_dom_classes": [],
            "_model_module": "@jupyter-widgets/controls",
            "_model_module_version": "1.5.0",
            "_model_name": "HTMLModel",
            "_view_count": null,
            "_view_module": "@jupyter-widgets/controls",
            "_view_module_version": "1.5.0",
            "_view_name": "HTMLView",
            "description": "",
            "description_tooltip": null,
            "layout": "IPY_MODEL_f7109b1d52934055ab00634114333861",
            "placeholder": "​",
            "style": "IPY_MODEL_f47d77aad56b4f5294918906ce693dd4",
            "value": ""
          }
        },
        "352d39bffc8246e1b0e3cd847860d35d": {
          "model_module": "@jupyter-widgets/controls",
          "model_name": "FloatProgressModel",
          "model_module_version": "1.5.0",
          "state": {
            "_dom_classes": [],
            "_model_module": "@jupyter-widgets/controls",
            "_model_module_version": "1.5.0",
            "_model_name": "FloatProgressModel",
            "_view_count": null,
            "_view_module": "@jupyter-widgets/controls",
            "_view_module_version": "1.5.0",
            "_view_name": "ProgressView",
            "bar_style": "success",
            "description": "",
            "description_tooltip": null,
            "layout": "IPY_MODEL_c40e144a2dc84a04811add3c86731930",
            "max": 12238,
            "min": 0,
            "orientation": "horizontal",
            "style": "IPY_MODEL_d3cd4bd4f15a4f41a628cd8274abca40",
            "value": 12238
          }
        },
        "4f8a372cd91c486eae1f88228400f23b": {
          "model_module": "@jupyter-widgets/controls",
          "model_name": "HTMLModel",
          "model_module_version": "1.5.0",
          "state": {
            "_dom_classes": [],
            "_model_module": "@jupyter-widgets/controls",
            "_model_module_version": "1.5.0",
            "_model_name": "HTMLModel",
            "_view_count": null,
            "_view_module": "@jupyter-widgets/controls",
            "_view_module_version": "1.5.0",
            "_view_name": "HTMLView",
            "description": "",
            "description_tooltip": null,
            "layout": "IPY_MODEL_53443e2dc18b485a951e7b364720f3b6",
            "placeholder": "​",
            "style": "IPY_MODEL_24ac2e1d7ddb4ffc883d38077e564daa",
            "value": " 12239/? [07:38&lt;00:00, 25.20it/s]"
          }
        },
        "beca19d98fa94da58ba2a726aaa87369": {
          "model_module": "@jupyter-widgets/base",
          "model_name": "LayoutModel",
          "model_module_version": "1.2.0",
          "state": {
            "_model_module": "@jupyter-widgets/base",
            "_model_module_version": "1.2.0",
            "_model_name": "LayoutModel",
            "_view_count": null,
            "_view_module": "@jupyter-widgets/base",
            "_view_module_version": "1.2.0",
            "_view_name": "LayoutView",
            "align_content": null,
            "align_items": null,
            "align_self": null,
            "border": null,
            "bottom": null,
            "display": null,
            "flex": null,
            "flex_flow": null,
            "grid_area": null,
            "grid_auto_columns": null,
            "grid_auto_flow": null,
            "grid_auto_rows": null,
            "grid_column": null,
            "grid_gap": null,
            "grid_row": null,
            "grid_template_areas": null,
            "grid_template_columns": null,
            "grid_template_rows": null,
            "height": null,
            "justify_content": null,
            "justify_items": null,
            "left": null,
            "margin": null,
            "max_height": null,
            "max_width": null,
            "min_height": null,
            "min_width": null,
            "object_fit": null,
            "object_position": null,
            "order": null,
            "overflow": null,
            "overflow_x": null,
            "overflow_y": null,
            "padding": null,
            "right": null,
            "top": null,
            "visibility": null,
            "width": null
          }
        },
        "f7109b1d52934055ab00634114333861": {
          "model_module": "@jupyter-widgets/base",
          "model_name": "LayoutModel",
          "model_module_version": "1.2.0",
          "state": {
            "_model_module": "@jupyter-widgets/base",
            "_model_module_version": "1.2.0",
            "_model_name": "LayoutModel",
            "_view_count": null,
            "_view_module": "@jupyter-widgets/base",
            "_view_module_version": "1.2.0",
            "_view_name": "LayoutView",
            "align_content": null,
            "align_items": null,
            "align_self": null,
            "border": null,
            "bottom": null,
            "display": null,
            "flex": null,
            "flex_flow": null,
            "grid_area": null,
            "grid_auto_columns": null,
            "grid_auto_flow": null,
            "grid_auto_rows": null,
            "grid_column": null,
            "grid_gap": null,
            "grid_row": null,
            "grid_template_areas": null,
            "grid_template_columns": null,
            "grid_template_rows": null,
            "height": null,
            "justify_content": null,
            "justify_items": null,
            "left": null,
            "margin": null,
            "max_height": null,
            "max_width": null,
            "min_height": null,
            "min_width": null,
            "object_fit": null,
            "object_position": null,
            "order": null,
            "overflow": null,
            "overflow_x": null,
            "overflow_y": null,
            "padding": null,
            "right": null,
            "top": null,
            "visibility": null,
            "width": null
          }
        },
        "f47d77aad56b4f5294918906ce693dd4": {
          "model_module": "@jupyter-widgets/controls",
          "model_name": "DescriptionStyleModel",
          "model_module_version": "1.5.0",
          "state": {
            "_model_module": "@jupyter-widgets/controls",
            "_model_module_version": "1.5.0",
            "_model_name": "DescriptionStyleModel",
            "_view_count": null,
            "_view_module": "@jupyter-widgets/base",
            "_view_module_version": "1.2.0",
            "_view_name": "StyleView",
            "description_width": ""
          }
        },
        "c40e144a2dc84a04811add3c86731930": {
          "model_module": "@jupyter-widgets/base",
          "model_name": "LayoutModel",
          "model_module_version": "1.2.0",
          "state": {
            "_model_module": "@jupyter-widgets/base",
            "_model_module_version": "1.2.0",
            "_model_name": "LayoutModel",
            "_view_count": null,
            "_view_module": "@jupyter-widgets/base",
            "_view_module_version": "1.2.0",
            "_view_name": "LayoutView",
            "align_content": null,
            "align_items": null,
            "align_self": null,
            "border": null,
            "bottom": null,
            "display": null,
            "flex": null,
            "flex_flow": null,
            "grid_area": null,
            "grid_auto_columns": null,
            "grid_auto_flow": null,
            "grid_auto_rows": null,
            "grid_column": null,
            "grid_gap": null,
            "grid_row": null,
            "grid_template_areas": null,
            "grid_template_columns": null,
            "grid_template_rows": null,
            "height": null,
            "justify_content": null,
            "justify_items": null,
            "left": null,
            "margin": null,
            "max_height": null,
            "max_width": null,
            "min_height": null,
            "min_width": null,
            "object_fit": null,
            "object_position": null,
            "order": null,
            "overflow": null,
            "overflow_x": null,
            "overflow_y": null,
            "padding": null,
            "right": null,
            "top": null,
            "visibility": null,
            "width": null
          }
        },
        "d3cd4bd4f15a4f41a628cd8274abca40": {
          "model_module": "@jupyter-widgets/controls",
          "model_name": "ProgressStyleModel",
          "model_module_version": "1.5.0",
          "state": {
            "_model_module": "@jupyter-widgets/controls",
            "_model_module_version": "1.5.0",
            "_model_name": "ProgressStyleModel",
            "_view_count": null,
            "_view_module": "@jupyter-widgets/base",
            "_view_module_version": "1.2.0",
            "_view_name": "StyleView",
            "bar_color": null,
            "description_width": ""
          }
        },
        "53443e2dc18b485a951e7b364720f3b6": {
          "model_module": "@jupyter-widgets/base",
          "model_name": "LayoutModel",
          "model_module_version": "1.2.0",
          "state": {
            "_model_module": "@jupyter-widgets/base",
            "_model_module_version": "1.2.0",
            "_model_name": "LayoutModel",
            "_view_count": null,
            "_view_module": "@jupyter-widgets/base",
            "_view_module_version": "1.2.0",
            "_view_name": "LayoutView",
            "align_content": null,
            "align_items": null,
            "align_self": null,
            "border": null,
            "bottom": null,
            "display": null,
            "flex": null,
            "flex_flow": null,
            "grid_area": null,
            "grid_auto_columns": null,
            "grid_auto_flow": null,
            "grid_auto_rows": null,
            "grid_column": null,
            "grid_gap": null,
            "grid_row": null,
            "grid_template_areas": null,
            "grid_template_columns": null,
            "grid_template_rows": null,
            "height": null,
            "justify_content": null,
            "justify_items": null,
            "left": null,
            "margin": null,
            "max_height": null,
            "max_width": null,
            "min_height": null,
            "min_width": null,
            "object_fit": null,
            "object_position": null,
            "order": null,
            "overflow": null,
            "overflow_x": null,
            "overflow_y": null,
            "padding": null,
            "right": null,
            "top": null,
            "visibility": null,
            "width": null
          }
        },
        "24ac2e1d7ddb4ffc883d38077e564daa": {
          "model_module": "@jupyter-widgets/controls",
          "model_name": "DescriptionStyleModel",
          "model_module_version": "1.5.0",
          "state": {
            "_model_module": "@jupyter-widgets/controls",
            "_model_module_version": "1.5.0",
            "_model_name": "DescriptionStyleModel",
            "_view_count": null,
            "_view_module": "@jupyter-widgets/base",
            "_view_module_version": "1.2.0",
            "_view_name": "StyleView",
            "description_width": ""
          }
        },
        "1444277c432549ad8cd8ce790c11444d": {
          "model_module": "@jupyter-widgets/controls",
          "model_name": "HBoxModel",
          "model_module_version": "1.5.0",
          "state": {
            "_dom_classes": [],
            "_model_module": "@jupyter-widgets/controls",
            "_model_module_version": "1.5.0",
            "_model_name": "HBoxModel",
            "_view_count": null,
            "_view_module": "@jupyter-widgets/controls",
            "_view_module_version": "1.5.0",
            "_view_name": "HBoxView",
            "box_style": "",
            "children": [
              "IPY_MODEL_d7a498e367dc4492bbddba5a9367090e",
              "IPY_MODEL_90e88f64902e43dbb310a7da658fdff4",
              "IPY_MODEL_7c7212ed1f2a48fe97112ad32bc6f63a"
            ],
            "layout": "IPY_MODEL_5f6e7dc162d44d12b23f73f8c7e7c131"
          }
        },
        "d7a498e367dc4492bbddba5a9367090e": {
          "model_module": "@jupyter-widgets/controls",
          "model_name": "HTMLModel",
          "model_module_version": "1.5.0",
          "state": {
            "_dom_classes": [],
            "_model_module": "@jupyter-widgets/controls",
            "_model_module_version": "1.5.0",
            "_model_name": "HTMLModel",
            "_view_count": null,
            "_view_module": "@jupyter-widgets/controls",
            "_view_module_version": "1.5.0",
            "_view_name": "HTMLView",
            "description": "",
            "description_tooltip": null,
            "layout": "IPY_MODEL_e4715795af47464baa38badf026a37a0",
            "placeholder": "​",
            "style": "IPY_MODEL_49c8ebaabda5466f9022b9e0ac54610c",
            "value": ""
          }
        },
        "90e88f64902e43dbb310a7da658fdff4": {
          "model_module": "@jupyter-widgets/controls",
          "model_name": "FloatProgressModel",
          "model_module_version": "1.5.0",
          "state": {
            "_dom_classes": [],
            "_model_module": "@jupyter-widgets/controls",
            "_model_module_version": "1.5.0",
            "_model_name": "FloatProgressModel",
            "_view_count": null,
            "_view_module": "@jupyter-widgets/controls",
            "_view_module_version": "1.5.0",
            "_view_name": "ProgressView",
            "bar_style": "success",
            "description": "",
            "description_tooltip": null,
            "layout": "IPY_MODEL_a3012b16a7fc4114b44aa542ccd69b96",
            "max": 12238,
            "min": 0,
            "orientation": "horizontal",
            "style": "IPY_MODEL_f9ff9eb754d541e68eb956c54f6adea8",
            "value": 12238
          }
        },
        "7c7212ed1f2a48fe97112ad32bc6f63a": {
          "model_module": "@jupyter-widgets/controls",
          "model_name": "HTMLModel",
          "model_module_version": "1.5.0",
          "state": {
            "_dom_classes": [],
            "_model_module": "@jupyter-widgets/controls",
            "_model_module_version": "1.5.0",
            "_model_name": "HTMLModel",
            "_view_count": null,
            "_view_module": "@jupyter-widgets/controls",
            "_view_module_version": "1.5.0",
            "_view_name": "HTMLView",
            "description": "",
            "description_tooltip": null,
            "layout": "IPY_MODEL_0f680a6f5eca4407b34aaded755b7baa",
            "placeholder": "​",
            "style": "IPY_MODEL_f92f33f1f4b34b99ab29326474b45685",
            "value": " 12239/? [07:38&lt;00:00, 23.70it/s]"
          }
        },
        "5f6e7dc162d44d12b23f73f8c7e7c131": {
          "model_module": "@jupyter-widgets/base",
          "model_name": "LayoutModel",
          "model_module_version": "1.2.0",
          "state": {
            "_model_module": "@jupyter-widgets/base",
            "_model_module_version": "1.2.0",
            "_model_name": "LayoutModel",
            "_view_count": null,
            "_view_module": "@jupyter-widgets/base",
            "_view_module_version": "1.2.0",
            "_view_name": "LayoutView",
            "align_content": null,
            "align_items": null,
            "align_self": null,
            "border": null,
            "bottom": null,
            "display": null,
            "flex": null,
            "flex_flow": null,
            "grid_area": null,
            "grid_auto_columns": null,
            "grid_auto_flow": null,
            "grid_auto_rows": null,
            "grid_column": null,
            "grid_gap": null,
            "grid_row": null,
            "grid_template_areas": null,
            "grid_template_columns": null,
            "grid_template_rows": null,
            "height": null,
            "justify_content": null,
            "justify_items": null,
            "left": null,
            "margin": null,
            "max_height": null,
            "max_width": null,
            "min_height": null,
            "min_width": null,
            "object_fit": null,
            "object_position": null,
            "order": null,
            "overflow": null,
            "overflow_x": null,
            "overflow_y": null,
            "padding": null,
            "right": null,
            "top": null,
            "visibility": null,
            "width": null
          }
        },
        "e4715795af47464baa38badf026a37a0": {
          "model_module": "@jupyter-widgets/base",
          "model_name": "LayoutModel",
          "model_module_version": "1.2.0",
          "state": {
            "_model_module": "@jupyter-widgets/base",
            "_model_module_version": "1.2.0",
            "_model_name": "LayoutModel",
            "_view_count": null,
            "_view_module": "@jupyter-widgets/base",
            "_view_module_version": "1.2.0",
            "_view_name": "LayoutView",
            "align_content": null,
            "align_items": null,
            "align_self": null,
            "border": null,
            "bottom": null,
            "display": null,
            "flex": null,
            "flex_flow": null,
            "grid_area": null,
            "grid_auto_columns": null,
            "grid_auto_flow": null,
            "grid_auto_rows": null,
            "grid_column": null,
            "grid_gap": null,
            "grid_row": null,
            "grid_template_areas": null,
            "grid_template_columns": null,
            "grid_template_rows": null,
            "height": null,
            "justify_content": null,
            "justify_items": null,
            "left": null,
            "margin": null,
            "max_height": null,
            "max_width": null,
            "min_height": null,
            "min_width": null,
            "object_fit": null,
            "object_position": null,
            "order": null,
            "overflow": null,
            "overflow_x": null,
            "overflow_y": null,
            "padding": null,
            "right": null,
            "top": null,
            "visibility": null,
            "width": null
          }
        },
        "49c8ebaabda5466f9022b9e0ac54610c": {
          "model_module": "@jupyter-widgets/controls",
          "model_name": "DescriptionStyleModel",
          "model_module_version": "1.5.0",
          "state": {
            "_model_module": "@jupyter-widgets/controls",
            "_model_module_version": "1.5.0",
            "_model_name": "DescriptionStyleModel",
            "_view_count": null,
            "_view_module": "@jupyter-widgets/base",
            "_view_module_version": "1.2.0",
            "_view_name": "StyleView",
            "description_width": ""
          }
        },
        "a3012b16a7fc4114b44aa542ccd69b96": {
          "model_module": "@jupyter-widgets/base",
          "model_name": "LayoutModel",
          "model_module_version": "1.2.0",
          "state": {
            "_model_module": "@jupyter-widgets/base",
            "_model_module_version": "1.2.0",
            "_model_name": "LayoutModel",
            "_view_count": null,
            "_view_module": "@jupyter-widgets/base",
            "_view_module_version": "1.2.0",
            "_view_name": "LayoutView",
            "align_content": null,
            "align_items": null,
            "align_self": null,
            "border": null,
            "bottom": null,
            "display": null,
            "flex": null,
            "flex_flow": null,
            "grid_area": null,
            "grid_auto_columns": null,
            "grid_auto_flow": null,
            "grid_auto_rows": null,
            "grid_column": null,
            "grid_gap": null,
            "grid_row": null,
            "grid_template_areas": null,
            "grid_template_columns": null,
            "grid_template_rows": null,
            "height": null,
            "justify_content": null,
            "justify_items": null,
            "left": null,
            "margin": null,
            "max_height": null,
            "max_width": null,
            "min_height": null,
            "min_width": null,
            "object_fit": null,
            "object_position": null,
            "order": null,
            "overflow": null,
            "overflow_x": null,
            "overflow_y": null,
            "padding": null,
            "right": null,
            "top": null,
            "visibility": null,
            "width": null
          }
        },
        "f9ff9eb754d541e68eb956c54f6adea8": {
          "model_module": "@jupyter-widgets/controls",
          "model_name": "ProgressStyleModel",
          "model_module_version": "1.5.0",
          "state": {
            "_model_module": "@jupyter-widgets/controls",
            "_model_module_version": "1.5.0",
            "_model_name": "ProgressStyleModel",
            "_view_count": null,
            "_view_module": "@jupyter-widgets/base",
            "_view_module_version": "1.2.0",
            "_view_name": "StyleView",
            "bar_color": null,
            "description_width": ""
          }
        },
        "0f680a6f5eca4407b34aaded755b7baa": {
          "model_module": "@jupyter-widgets/base",
          "model_name": "LayoutModel",
          "model_module_version": "1.2.0",
          "state": {
            "_model_module": "@jupyter-widgets/base",
            "_model_module_version": "1.2.0",
            "_model_name": "LayoutModel",
            "_view_count": null,
            "_view_module": "@jupyter-widgets/base",
            "_view_module_version": "1.2.0",
            "_view_name": "LayoutView",
            "align_content": null,
            "align_items": null,
            "align_self": null,
            "border": null,
            "bottom": null,
            "display": null,
            "flex": null,
            "flex_flow": null,
            "grid_area": null,
            "grid_auto_columns": null,
            "grid_auto_flow": null,
            "grid_auto_rows": null,
            "grid_column": null,
            "grid_gap": null,
            "grid_row": null,
            "grid_template_areas": null,
            "grid_template_columns": null,
            "grid_template_rows": null,
            "height": null,
            "justify_content": null,
            "justify_items": null,
            "left": null,
            "margin": null,
            "max_height": null,
            "max_width": null,
            "min_height": null,
            "min_width": null,
            "object_fit": null,
            "object_position": null,
            "order": null,
            "overflow": null,
            "overflow_x": null,
            "overflow_y": null,
            "padding": null,
            "right": null,
            "top": null,
            "visibility": null,
            "width": null
          }
        },
        "f92f33f1f4b34b99ab29326474b45685": {
          "model_module": "@jupyter-widgets/controls",
          "model_name": "DescriptionStyleModel",
          "model_module_version": "1.5.0",
          "state": {
            "_model_module": "@jupyter-widgets/controls",
            "_model_module_version": "1.5.0",
            "_model_name": "DescriptionStyleModel",
            "_view_count": null,
            "_view_module": "@jupyter-widgets/base",
            "_view_module_version": "1.2.0",
            "_view_name": "StyleView",
            "description_width": ""
          }
        },
        "bc68beabf5d44e7d92074bc523da09db": {
          "model_module": "@jupyter-widgets/controls",
          "model_name": "HBoxModel",
          "model_module_version": "1.5.0",
          "state": {
            "_dom_classes": [],
            "_model_module": "@jupyter-widgets/controls",
            "_model_module_version": "1.5.0",
            "_model_name": "HBoxModel",
            "_view_count": null,
            "_view_module": "@jupyter-widgets/controls",
            "_view_module_version": "1.5.0",
            "_view_name": "HBoxView",
            "box_style": "",
            "children": [
              "IPY_MODEL_a49a61778662466cb79800c86aa2a943",
              "IPY_MODEL_4ae65f1383ed4bdcb1055c9f460d41b5",
              "IPY_MODEL_c4dffb6ca03e4c5a8cc362b54a51b66d"
            ],
            "layout": "IPY_MODEL_954c35d29a4a49fdb2b71bdd5ea80a73"
          }
        },
        "a49a61778662466cb79800c86aa2a943": {
          "model_module": "@jupyter-widgets/controls",
          "model_name": "HTMLModel",
          "model_module_version": "1.5.0",
          "state": {
            "_dom_classes": [],
            "_model_module": "@jupyter-widgets/controls",
            "_model_module_version": "1.5.0",
            "_model_name": "HTMLModel",
            "_view_count": null,
            "_view_module": "@jupyter-widgets/controls",
            "_view_module_version": "1.5.0",
            "_view_name": "HTMLView",
            "description": "",
            "description_tooltip": null,
            "layout": "IPY_MODEL_d78ed73dfb00409e98c7ab057513722d",
            "placeholder": "​",
            "style": "IPY_MODEL_eff5dad8e2484ba29e4d9cd0f44d369a",
            "value": ""
          }
        },
        "4ae65f1383ed4bdcb1055c9f460d41b5": {
          "model_module": "@jupyter-widgets/controls",
          "model_name": "FloatProgressModel",
          "model_module_version": "1.5.0",
          "state": {
            "_dom_classes": [],
            "_model_module": "@jupyter-widgets/controls",
            "_model_module_version": "1.5.0",
            "_model_name": "FloatProgressModel",
            "_view_count": null,
            "_view_module": "@jupyter-widgets/controls",
            "_view_module_version": "1.5.0",
            "_view_name": "ProgressView",
            "bar_style": "success",
            "description": "",
            "description_tooltip": null,
            "layout": "IPY_MODEL_e8cb792f2309462588298a2d525ceb52",
            "max": 12238,
            "min": 0,
            "orientation": "horizontal",
            "style": "IPY_MODEL_b3454e3f6ed74d20a5da46c5b81b73a2",
            "value": 12238
          }
        },
        "c4dffb6ca03e4c5a8cc362b54a51b66d": {
          "model_module": "@jupyter-widgets/controls",
          "model_name": "HTMLModel",
          "model_module_version": "1.5.0",
          "state": {
            "_dom_classes": [],
            "_model_module": "@jupyter-widgets/controls",
            "_model_module_version": "1.5.0",
            "_model_name": "HTMLModel",
            "_view_count": null,
            "_view_module": "@jupyter-widgets/controls",
            "_view_module_version": "1.5.0",
            "_view_name": "HTMLView",
            "description": "",
            "description_tooltip": null,
            "layout": "IPY_MODEL_a79dd990242b47c29c35c8f652ed4c1d",
            "placeholder": "​",
            "style": "IPY_MODEL_f9edc8f5b7b64f1e809c0c475955c5a7",
            "value": " 12239/? [07:35&lt;00:00, 28.68it/s]"
          }
        },
        "954c35d29a4a49fdb2b71bdd5ea80a73": {
          "model_module": "@jupyter-widgets/base",
          "model_name": "LayoutModel",
          "model_module_version": "1.2.0",
          "state": {
            "_model_module": "@jupyter-widgets/base",
            "_model_module_version": "1.2.0",
            "_model_name": "LayoutModel",
            "_view_count": null,
            "_view_module": "@jupyter-widgets/base",
            "_view_module_version": "1.2.0",
            "_view_name": "LayoutView",
            "align_content": null,
            "align_items": null,
            "align_self": null,
            "border": null,
            "bottom": null,
            "display": null,
            "flex": null,
            "flex_flow": null,
            "grid_area": null,
            "grid_auto_columns": null,
            "grid_auto_flow": null,
            "grid_auto_rows": null,
            "grid_column": null,
            "grid_gap": null,
            "grid_row": null,
            "grid_template_areas": null,
            "grid_template_columns": null,
            "grid_template_rows": null,
            "height": null,
            "justify_content": null,
            "justify_items": null,
            "left": null,
            "margin": null,
            "max_height": null,
            "max_width": null,
            "min_height": null,
            "min_width": null,
            "object_fit": null,
            "object_position": null,
            "order": null,
            "overflow": null,
            "overflow_x": null,
            "overflow_y": null,
            "padding": null,
            "right": null,
            "top": null,
            "visibility": null,
            "width": null
          }
        },
        "d78ed73dfb00409e98c7ab057513722d": {
          "model_module": "@jupyter-widgets/base",
          "model_name": "LayoutModel",
          "model_module_version": "1.2.0",
          "state": {
            "_model_module": "@jupyter-widgets/base",
            "_model_module_version": "1.2.0",
            "_model_name": "LayoutModel",
            "_view_count": null,
            "_view_module": "@jupyter-widgets/base",
            "_view_module_version": "1.2.0",
            "_view_name": "LayoutView",
            "align_content": null,
            "align_items": null,
            "align_self": null,
            "border": null,
            "bottom": null,
            "display": null,
            "flex": null,
            "flex_flow": null,
            "grid_area": null,
            "grid_auto_columns": null,
            "grid_auto_flow": null,
            "grid_auto_rows": null,
            "grid_column": null,
            "grid_gap": null,
            "grid_row": null,
            "grid_template_areas": null,
            "grid_template_columns": null,
            "grid_template_rows": null,
            "height": null,
            "justify_content": null,
            "justify_items": null,
            "left": null,
            "margin": null,
            "max_height": null,
            "max_width": null,
            "min_height": null,
            "min_width": null,
            "object_fit": null,
            "object_position": null,
            "order": null,
            "overflow": null,
            "overflow_x": null,
            "overflow_y": null,
            "padding": null,
            "right": null,
            "top": null,
            "visibility": null,
            "width": null
          }
        },
        "eff5dad8e2484ba29e4d9cd0f44d369a": {
          "model_module": "@jupyter-widgets/controls",
          "model_name": "DescriptionStyleModel",
          "model_module_version": "1.5.0",
          "state": {
            "_model_module": "@jupyter-widgets/controls",
            "_model_module_version": "1.5.0",
            "_model_name": "DescriptionStyleModel",
            "_view_count": null,
            "_view_module": "@jupyter-widgets/base",
            "_view_module_version": "1.2.0",
            "_view_name": "StyleView",
            "description_width": ""
          }
        },
        "e8cb792f2309462588298a2d525ceb52": {
          "model_module": "@jupyter-widgets/base",
          "model_name": "LayoutModel",
          "model_module_version": "1.2.0",
          "state": {
            "_model_module": "@jupyter-widgets/base",
            "_model_module_version": "1.2.0",
            "_model_name": "LayoutModel",
            "_view_count": null,
            "_view_module": "@jupyter-widgets/base",
            "_view_module_version": "1.2.0",
            "_view_name": "LayoutView",
            "align_content": null,
            "align_items": null,
            "align_self": null,
            "border": null,
            "bottom": null,
            "display": null,
            "flex": null,
            "flex_flow": null,
            "grid_area": null,
            "grid_auto_columns": null,
            "grid_auto_flow": null,
            "grid_auto_rows": null,
            "grid_column": null,
            "grid_gap": null,
            "grid_row": null,
            "grid_template_areas": null,
            "grid_template_columns": null,
            "grid_template_rows": null,
            "height": null,
            "justify_content": null,
            "justify_items": null,
            "left": null,
            "margin": null,
            "max_height": null,
            "max_width": null,
            "min_height": null,
            "min_width": null,
            "object_fit": null,
            "object_position": null,
            "order": null,
            "overflow": null,
            "overflow_x": null,
            "overflow_y": null,
            "padding": null,
            "right": null,
            "top": null,
            "visibility": null,
            "width": null
          }
        },
        "b3454e3f6ed74d20a5da46c5b81b73a2": {
          "model_module": "@jupyter-widgets/controls",
          "model_name": "ProgressStyleModel",
          "model_module_version": "1.5.0",
          "state": {
            "_model_module": "@jupyter-widgets/controls",
            "_model_module_version": "1.5.0",
            "_model_name": "ProgressStyleModel",
            "_view_count": null,
            "_view_module": "@jupyter-widgets/base",
            "_view_module_version": "1.2.0",
            "_view_name": "StyleView",
            "bar_color": null,
            "description_width": ""
          }
        },
        "a79dd990242b47c29c35c8f652ed4c1d": {
          "model_module": "@jupyter-widgets/base",
          "model_name": "LayoutModel",
          "model_module_version": "1.2.0",
          "state": {
            "_model_module": "@jupyter-widgets/base",
            "_model_module_version": "1.2.0",
            "_model_name": "LayoutModel",
            "_view_count": null,
            "_view_module": "@jupyter-widgets/base",
            "_view_module_version": "1.2.0",
            "_view_name": "LayoutView",
            "align_content": null,
            "align_items": null,
            "align_self": null,
            "border": null,
            "bottom": null,
            "display": null,
            "flex": null,
            "flex_flow": null,
            "grid_area": null,
            "grid_auto_columns": null,
            "grid_auto_flow": null,
            "grid_auto_rows": null,
            "grid_column": null,
            "grid_gap": null,
            "grid_row": null,
            "grid_template_areas": null,
            "grid_template_columns": null,
            "grid_template_rows": null,
            "height": null,
            "justify_content": null,
            "justify_items": null,
            "left": null,
            "margin": null,
            "max_height": null,
            "max_width": null,
            "min_height": null,
            "min_width": null,
            "object_fit": null,
            "object_position": null,
            "order": null,
            "overflow": null,
            "overflow_x": null,
            "overflow_y": null,
            "padding": null,
            "right": null,
            "top": null,
            "visibility": null,
            "width": null
          }
        },
        "f9edc8f5b7b64f1e809c0c475955c5a7": {
          "model_module": "@jupyter-widgets/controls",
          "model_name": "DescriptionStyleModel",
          "model_module_version": "1.5.0",
          "state": {
            "_model_module": "@jupyter-widgets/controls",
            "_model_module_version": "1.5.0",
            "_model_name": "DescriptionStyleModel",
            "_view_count": null,
            "_view_module": "@jupyter-widgets/base",
            "_view_module_version": "1.2.0",
            "_view_name": "StyleView",
            "description_width": ""
          }
        },
        "9005a8f486674351855f42d0c3daa132": {
          "model_module": "@jupyter-widgets/controls",
          "model_name": "HBoxModel",
          "model_module_version": "1.5.0",
          "state": {
            "_dom_classes": [],
            "_model_module": "@jupyter-widgets/controls",
            "_model_module_version": "1.5.0",
            "_model_name": "HBoxModel",
            "_view_count": null,
            "_view_module": "@jupyter-widgets/controls",
            "_view_module_version": "1.5.0",
            "_view_name": "HBoxView",
            "box_style": "",
            "children": [
              "IPY_MODEL_e6c8b80521ae4fccab4c25fe8949a53d",
              "IPY_MODEL_360a7e1eb7264c2cbf3174080f199d72",
              "IPY_MODEL_ed7f900f26a740f58d021ecd892cbb41"
            ],
            "layout": "IPY_MODEL_194c368ef89840839fe08df2d42a887f"
          }
        },
        "e6c8b80521ae4fccab4c25fe8949a53d": {
          "model_module": "@jupyter-widgets/controls",
          "model_name": "HTMLModel",
          "model_module_version": "1.5.0",
          "state": {
            "_dom_classes": [],
            "_model_module": "@jupyter-widgets/controls",
            "_model_module_version": "1.5.0",
            "_model_name": "HTMLModel",
            "_view_count": null,
            "_view_module": "@jupyter-widgets/controls",
            "_view_module_version": "1.5.0",
            "_view_name": "HTMLView",
            "description": "",
            "description_tooltip": null,
            "layout": "IPY_MODEL_9c649a236a1842b38129c4991e01a6fc",
            "placeholder": "​",
            "style": "IPY_MODEL_9beb05087e3c4924bdcd662521f767f2",
            "value": ""
          }
        },
        "360a7e1eb7264c2cbf3174080f199d72": {
          "model_module": "@jupyter-widgets/controls",
          "model_name": "FloatProgressModel",
          "model_module_version": "1.5.0",
          "state": {
            "_dom_classes": [],
            "_model_module": "@jupyter-widgets/controls",
            "_model_module_version": "1.5.0",
            "_model_name": "FloatProgressModel",
            "_view_count": null,
            "_view_module": "@jupyter-widgets/controls",
            "_view_module_version": "1.5.0",
            "_view_name": "ProgressView",
            "bar_style": "success",
            "description": "",
            "description_tooltip": null,
            "layout": "IPY_MODEL_28575f8c98264802ba710dcc0105cf0c",
            "max": 12238,
            "min": 0,
            "orientation": "horizontal",
            "style": "IPY_MODEL_8f7b386477814b52a813682499cb9533",
            "value": 12238
          }
        },
        "ed7f900f26a740f58d021ecd892cbb41": {
          "model_module": "@jupyter-widgets/controls",
          "model_name": "HTMLModel",
          "model_module_version": "1.5.0",
          "state": {
            "_dom_classes": [],
            "_model_module": "@jupyter-widgets/controls",
            "_model_module_version": "1.5.0",
            "_model_name": "HTMLModel",
            "_view_count": null,
            "_view_module": "@jupyter-widgets/controls",
            "_view_module_version": "1.5.0",
            "_view_name": "HTMLView",
            "description": "",
            "description_tooltip": null,
            "layout": "IPY_MODEL_40eee4d638cd4bf085878f3b995129d5",
            "placeholder": "​",
            "style": "IPY_MODEL_1f6cd5f07a954d81bbd22939a6f2a85f",
            "value": " 12239/? [07:44&lt;00:00, 27.56it/s]"
          }
        },
        "194c368ef89840839fe08df2d42a887f": {
          "model_module": "@jupyter-widgets/base",
          "model_name": "LayoutModel",
          "model_module_version": "1.2.0",
          "state": {
            "_model_module": "@jupyter-widgets/base",
            "_model_module_version": "1.2.0",
            "_model_name": "LayoutModel",
            "_view_count": null,
            "_view_module": "@jupyter-widgets/base",
            "_view_module_version": "1.2.0",
            "_view_name": "LayoutView",
            "align_content": null,
            "align_items": null,
            "align_self": null,
            "border": null,
            "bottom": null,
            "display": null,
            "flex": null,
            "flex_flow": null,
            "grid_area": null,
            "grid_auto_columns": null,
            "grid_auto_flow": null,
            "grid_auto_rows": null,
            "grid_column": null,
            "grid_gap": null,
            "grid_row": null,
            "grid_template_areas": null,
            "grid_template_columns": null,
            "grid_template_rows": null,
            "height": null,
            "justify_content": null,
            "justify_items": null,
            "left": null,
            "margin": null,
            "max_height": null,
            "max_width": null,
            "min_height": null,
            "min_width": null,
            "object_fit": null,
            "object_position": null,
            "order": null,
            "overflow": null,
            "overflow_x": null,
            "overflow_y": null,
            "padding": null,
            "right": null,
            "top": null,
            "visibility": null,
            "width": null
          }
        },
        "9c649a236a1842b38129c4991e01a6fc": {
          "model_module": "@jupyter-widgets/base",
          "model_name": "LayoutModel",
          "model_module_version": "1.2.0",
          "state": {
            "_model_module": "@jupyter-widgets/base",
            "_model_module_version": "1.2.0",
            "_model_name": "LayoutModel",
            "_view_count": null,
            "_view_module": "@jupyter-widgets/base",
            "_view_module_version": "1.2.0",
            "_view_name": "LayoutView",
            "align_content": null,
            "align_items": null,
            "align_self": null,
            "border": null,
            "bottom": null,
            "display": null,
            "flex": null,
            "flex_flow": null,
            "grid_area": null,
            "grid_auto_columns": null,
            "grid_auto_flow": null,
            "grid_auto_rows": null,
            "grid_column": null,
            "grid_gap": null,
            "grid_row": null,
            "grid_template_areas": null,
            "grid_template_columns": null,
            "grid_template_rows": null,
            "height": null,
            "justify_content": null,
            "justify_items": null,
            "left": null,
            "margin": null,
            "max_height": null,
            "max_width": null,
            "min_height": null,
            "min_width": null,
            "object_fit": null,
            "object_position": null,
            "order": null,
            "overflow": null,
            "overflow_x": null,
            "overflow_y": null,
            "padding": null,
            "right": null,
            "top": null,
            "visibility": null,
            "width": null
          }
        },
        "9beb05087e3c4924bdcd662521f767f2": {
          "model_module": "@jupyter-widgets/controls",
          "model_name": "DescriptionStyleModel",
          "model_module_version": "1.5.0",
          "state": {
            "_model_module": "@jupyter-widgets/controls",
            "_model_module_version": "1.5.0",
            "_model_name": "DescriptionStyleModel",
            "_view_count": null,
            "_view_module": "@jupyter-widgets/base",
            "_view_module_version": "1.2.0",
            "_view_name": "StyleView",
            "description_width": ""
          }
        },
        "28575f8c98264802ba710dcc0105cf0c": {
          "model_module": "@jupyter-widgets/base",
          "model_name": "LayoutModel",
          "model_module_version": "1.2.0",
          "state": {
            "_model_module": "@jupyter-widgets/base",
            "_model_module_version": "1.2.0",
            "_model_name": "LayoutModel",
            "_view_count": null,
            "_view_module": "@jupyter-widgets/base",
            "_view_module_version": "1.2.0",
            "_view_name": "LayoutView",
            "align_content": null,
            "align_items": null,
            "align_self": null,
            "border": null,
            "bottom": null,
            "display": null,
            "flex": null,
            "flex_flow": null,
            "grid_area": null,
            "grid_auto_columns": null,
            "grid_auto_flow": null,
            "grid_auto_rows": null,
            "grid_column": null,
            "grid_gap": null,
            "grid_row": null,
            "grid_template_areas": null,
            "grid_template_columns": null,
            "grid_template_rows": null,
            "height": null,
            "justify_content": null,
            "justify_items": null,
            "left": null,
            "margin": null,
            "max_height": null,
            "max_width": null,
            "min_height": null,
            "min_width": null,
            "object_fit": null,
            "object_position": null,
            "order": null,
            "overflow": null,
            "overflow_x": null,
            "overflow_y": null,
            "padding": null,
            "right": null,
            "top": null,
            "visibility": null,
            "width": null
          }
        },
        "8f7b386477814b52a813682499cb9533": {
          "model_module": "@jupyter-widgets/controls",
          "model_name": "ProgressStyleModel",
          "model_module_version": "1.5.0",
          "state": {
            "_model_module": "@jupyter-widgets/controls",
            "_model_module_version": "1.5.0",
            "_model_name": "ProgressStyleModel",
            "_view_count": null,
            "_view_module": "@jupyter-widgets/base",
            "_view_module_version": "1.2.0",
            "_view_name": "StyleView",
            "bar_color": null,
            "description_width": ""
          }
        },
        "40eee4d638cd4bf085878f3b995129d5": {
          "model_module": "@jupyter-widgets/base",
          "model_name": "LayoutModel",
          "model_module_version": "1.2.0",
          "state": {
            "_model_module": "@jupyter-widgets/base",
            "_model_module_version": "1.2.0",
            "_model_name": "LayoutModel",
            "_view_count": null,
            "_view_module": "@jupyter-widgets/base",
            "_view_module_version": "1.2.0",
            "_view_name": "LayoutView",
            "align_content": null,
            "align_items": null,
            "align_self": null,
            "border": null,
            "bottom": null,
            "display": null,
            "flex": null,
            "flex_flow": null,
            "grid_area": null,
            "grid_auto_columns": null,
            "grid_auto_flow": null,
            "grid_auto_rows": null,
            "grid_column": null,
            "grid_gap": null,
            "grid_row": null,
            "grid_template_areas": null,
            "grid_template_columns": null,
            "grid_template_rows": null,
            "height": null,
            "justify_content": null,
            "justify_items": null,
            "left": null,
            "margin": null,
            "max_height": null,
            "max_width": null,
            "min_height": null,
            "min_width": null,
            "object_fit": null,
            "object_position": null,
            "order": null,
            "overflow": null,
            "overflow_x": null,
            "overflow_y": null,
            "padding": null,
            "right": null,
            "top": null,
            "visibility": null,
            "width": null
          }
        },
        "1f6cd5f07a954d81bbd22939a6f2a85f": {
          "model_module": "@jupyter-widgets/controls",
          "model_name": "DescriptionStyleModel",
          "model_module_version": "1.5.0",
          "state": {
            "_model_module": "@jupyter-widgets/controls",
            "_model_module_version": "1.5.0",
            "_model_name": "DescriptionStyleModel",
            "_view_count": null,
            "_view_module": "@jupyter-widgets/base",
            "_view_module_version": "1.2.0",
            "_view_name": "StyleView",
            "description_width": ""
          }
        },
        "9ef0ff21dc1c4c86b7eb70620206ec54": {
          "model_module": "@jupyter-widgets/controls",
          "model_name": "HBoxModel",
          "model_module_version": "1.5.0",
          "state": {
            "_dom_classes": [],
            "_model_module": "@jupyter-widgets/controls",
            "_model_module_version": "1.5.0",
            "_model_name": "HBoxModel",
            "_view_count": null,
            "_view_module": "@jupyter-widgets/controls",
            "_view_module_version": "1.5.0",
            "_view_name": "HBoxView",
            "box_style": "",
            "children": [
              "IPY_MODEL_29afcd0901754df1843318046763b203",
              "IPY_MODEL_a19ed8e57c624a07a91396572f49348a",
              "IPY_MODEL_e8b81aaed4aa4515a1fb1c5eb3b67648"
            ],
            "layout": "IPY_MODEL_c665f5678f6a47e299941a6f770e7da3"
          }
        },
        "29afcd0901754df1843318046763b203": {
          "model_module": "@jupyter-widgets/controls",
          "model_name": "HTMLModel",
          "model_module_version": "1.5.0",
          "state": {
            "_dom_classes": [],
            "_model_module": "@jupyter-widgets/controls",
            "_model_module_version": "1.5.0",
            "_model_name": "HTMLModel",
            "_view_count": null,
            "_view_module": "@jupyter-widgets/controls",
            "_view_module_version": "1.5.0",
            "_view_name": "HTMLView",
            "description": "",
            "description_tooltip": null,
            "layout": "IPY_MODEL_73239ff97bf445ca9877b1baddabcaa3",
            "placeholder": "​",
            "style": "IPY_MODEL_957e3c4ad981461b8d9318a4eac56500",
            "value": ""
          }
        },
        "a19ed8e57c624a07a91396572f49348a": {
          "model_module": "@jupyter-widgets/controls",
          "model_name": "FloatProgressModel",
          "model_module_version": "1.5.0",
          "state": {
            "_dom_classes": [],
            "_model_module": "@jupyter-widgets/controls",
            "_model_module_version": "1.5.0",
            "_model_name": "FloatProgressModel",
            "_view_count": null,
            "_view_module": "@jupyter-widgets/controls",
            "_view_module_version": "1.5.0",
            "_view_name": "ProgressView",
            "bar_style": "success",
            "description": "",
            "description_tooltip": null,
            "layout": "IPY_MODEL_75fee2f22b3147188d7456fc1260f14c",
            "max": 12238,
            "min": 0,
            "orientation": "horizontal",
            "style": "IPY_MODEL_758f6be3ef034a3790a519d1f32df8d7",
            "value": 12238
          }
        },
        "e8b81aaed4aa4515a1fb1c5eb3b67648": {
          "model_module": "@jupyter-widgets/controls",
          "model_name": "HTMLModel",
          "model_module_version": "1.5.0",
          "state": {
            "_dom_classes": [],
            "_model_module": "@jupyter-widgets/controls",
            "_model_module_version": "1.5.0",
            "_model_name": "HTMLModel",
            "_view_count": null,
            "_view_module": "@jupyter-widgets/controls",
            "_view_module_version": "1.5.0",
            "_view_name": "HTMLView",
            "description": "",
            "description_tooltip": null,
            "layout": "IPY_MODEL_21611dad24374f8da5e45753cca6abfc",
            "placeholder": "​",
            "style": "IPY_MODEL_8f403b3e838e4a13aa296a934acad52f",
            "value": " 12239/? [08:50&lt;00:00, 11.51it/s]"
          }
        },
        "c665f5678f6a47e299941a6f770e7da3": {
          "model_module": "@jupyter-widgets/base",
          "model_name": "LayoutModel",
          "model_module_version": "1.2.0",
          "state": {
            "_model_module": "@jupyter-widgets/base",
            "_model_module_version": "1.2.0",
            "_model_name": "LayoutModel",
            "_view_count": null,
            "_view_module": "@jupyter-widgets/base",
            "_view_module_version": "1.2.0",
            "_view_name": "LayoutView",
            "align_content": null,
            "align_items": null,
            "align_self": null,
            "border": null,
            "bottom": null,
            "display": null,
            "flex": null,
            "flex_flow": null,
            "grid_area": null,
            "grid_auto_columns": null,
            "grid_auto_flow": null,
            "grid_auto_rows": null,
            "grid_column": null,
            "grid_gap": null,
            "grid_row": null,
            "grid_template_areas": null,
            "grid_template_columns": null,
            "grid_template_rows": null,
            "height": null,
            "justify_content": null,
            "justify_items": null,
            "left": null,
            "margin": null,
            "max_height": null,
            "max_width": null,
            "min_height": null,
            "min_width": null,
            "object_fit": null,
            "object_position": null,
            "order": null,
            "overflow": null,
            "overflow_x": null,
            "overflow_y": null,
            "padding": null,
            "right": null,
            "top": null,
            "visibility": null,
            "width": null
          }
        },
        "73239ff97bf445ca9877b1baddabcaa3": {
          "model_module": "@jupyter-widgets/base",
          "model_name": "LayoutModel",
          "model_module_version": "1.2.0",
          "state": {
            "_model_module": "@jupyter-widgets/base",
            "_model_module_version": "1.2.0",
            "_model_name": "LayoutModel",
            "_view_count": null,
            "_view_module": "@jupyter-widgets/base",
            "_view_module_version": "1.2.0",
            "_view_name": "LayoutView",
            "align_content": null,
            "align_items": null,
            "align_self": null,
            "border": null,
            "bottom": null,
            "display": null,
            "flex": null,
            "flex_flow": null,
            "grid_area": null,
            "grid_auto_columns": null,
            "grid_auto_flow": null,
            "grid_auto_rows": null,
            "grid_column": null,
            "grid_gap": null,
            "grid_row": null,
            "grid_template_areas": null,
            "grid_template_columns": null,
            "grid_template_rows": null,
            "height": null,
            "justify_content": null,
            "justify_items": null,
            "left": null,
            "margin": null,
            "max_height": null,
            "max_width": null,
            "min_height": null,
            "min_width": null,
            "object_fit": null,
            "object_position": null,
            "order": null,
            "overflow": null,
            "overflow_x": null,
            "overflow_y": null,
            "padding": null,
            "right": null,
            "top": null,
            "visibility": null,
            "width": null
          }
        },
        "957e3c4ad981461b8d9318a4eac56500": {
          "model_module": "@jupyter-widgets/controls",
          "model_name": "DescriptionStyleModel",
          "model_module_version": "1.5.0",
          "state": {
            "_model_module": "@jupyter-widgets/controls",
            "_model_module_version": "1.5.0",
            "_model_name": "DescriptionStyleModel",
            "_view_count": null,
            "_view_module": "@jupyter-widgets/base",
            "_view_module_version": "1.2.0",
            "_view_name": "StyleView",
            "description_width": ""
          }
        },
        "75fee2f22b3147188d7456fc1260f14c": {
          "model_module": "@jupyter-widgets/base",
          "model_name": "LayoutModel",
          "model_module_version": "1.2.0",
          "state": {
            "_model_module": "@jupyter-widgets/base",
            "_model_module_version": "1.2.0",
            "_model_name": "LayoutModel",
            "_view_count": null,
            "_view_module": "@jupyter-widgets/base",
            "_view_module_version": "1.2.0",
            "_view_name": "LayoutView",
            "align_content": null,
            "align_items": null,
            "align_self": null,
            "border": null,
            "bottom": null,
            "display": null,
            "flex": null,
            "flex_flow": null,
            "grid_area": null,
            "grid_auto_columns": null,
            "grid_auto_flow": null,
            "grid_auto_rows": null,
            "grid_column": null,
            "grid_gap": null,
            "grid_row": null,
            "grid_template_areas": null,
            "grid_template_columns": null,
            "grid_template_rows": null,
            "height": null,
            "justify_content": null,
            "justify_items": null,
            "left": null,
            "margin": null,
            "max_height": null,
            "max_width": null,
            "min_height": null,
            "min_width": null,
            "object_fit": null,
            "object_position": null,
            "order": null,
            "overflow": null,
            "overflow_x": null,
            "overflow_y": null,
            "padding": null,
            "right": null,
            "top": null,
            "visibility": null,
            "width": null
          }
        },
        "758f6be3ef034a3790a519d1f32df8d7": {
          "model_module": "@jupyter-widgets/controls",
          "model_name": "ProgressStyleModel",
          "model_module_version": "1.5.0",
          "state": {
            "_model_module": "@jupyter-widgets/controls",
            "_model_module_version": "1.5.0",
            "_model_name": "ProgressStyleModel",
            "_view_count": null,
            "_view_module": "@jupyter-widgets/base",
            "_view_module_version": "1.2.0",
            "_view_name": "StyleView",
            "bar_color": null,
            "description_width": ""
          }
        },
        "21611dad24374f8da5e45753cca6abfc": {
          "model_module": "@jupyter-widgets/base",
          "model_name": "LayoutModel",
          "model_module_version": "1.2.0",
          "state": {
            "_model_module": "@jupyter-widgets/base",
            "_model_module_version": "1.2.0",
            "_model_name": "LayoutModel",
            "_view_count": null,
            "_view_module": "@jupyter-widgets/base",
            "_view_module_version": "1.2.0",
            "_view_name": "LayoutView",
            "align_content": null,
            "align_items": null,
            "align_self": null,
            "border": null,
            "bottom": null,
            "display": null,
            "flex": null,
            "flex_flow": null,
            "grid_area": null,
            "grid_auto_columns": null,
            "grid_auto_flow": null,
            "grid_auto_rows": null,
            "grid_column": null,
            "grid_gap": null,
            "grid_row": null,
            "grid_template_areas": null,
            "grid_template_columns": null,
            "grid_template_rows": null,
            "height": null,
            "justify_content": null,
            "justify_items": null,
            "left": null,
            "margin": null,
            "max_height": null,
            "max_width": null,
            "min_height": null,
            "min_width": null,
            "object_fit": null,
            "object_position": null,
            "order": null,
            "overflow": null,
            "overflow_x": null,
            "overflow_y": null,
            "padding": null,
            "right": null,
            "top": null,
            "visibility": null,
            "width": null
          }
        },
        "8f403b3e838e4a13aa296a934acad52f": {
          "model_module": "@jupyter-widgets/controls",
          "model_name": "DescriptionStyleModel",
          "model_module_version": "1.5.0",
          "state": {
            "_model_module": "@jupyter-widgets/controls",
            "_model_module_version": "1.5.0",
            "_model_name": "DescriptionStyleModel",
            "_view_count": null,
            "_view_module": "@jupyter-widgets/base",
            "_view_module_version": "1.2.0",
            "_view_name": "StyleView",
            "description_width": ""
          }
        },
        "ea06fe97387f4aa5854a7d616fd92a32": {
          "model_module": "@jupyter-widgets/controls",
          "model_name": "HBoxModel",
          "model_module_version": "1.5.0",
          "state": {
            "_dom_classes": [],
            "_model_module": "@jupyter-widgets/controls",
            "_model_module_version": "1.5.0",
            "_model_name": "HBoxModel",
            "_view_count": null,
            "_view_module": "@jupyter-widgets/controls",
            "_view_module_version": "1.5.0",
            "_view_name": "HBoxView",
            "box_style": "",
            "children": [
              "IPY_MODEL_75c721abbe934d919372704da291aa0d",
              "IPY_MODEL_b29350e8afbb47cb85f168346b9cdea7",
              "IPY_MODEL_6bd5636ea9dd46d2bd0a957c96811191"
            ],
            "layout": "IPY_MODEL_b2a0c302edaa473587ba2fb3c9c3cf8c"
          }
        },
        "75c721abbe934d919372704da291aa0d": {
          "model_module": "@jupyter-widgets/controls",
          "model_name": "HTMLModel",
          "model_module_version": "1.5.0",
          "state": {
            "_dom_classes": [],
            "_model_module": "@jupyter-widgets/controls",
            "_model_module_version": "1.5.0",
            "_model_name": "HTMLModel",
            "_view_count": null,
            "_view_module": "@jupyter-widgets/controls",
            "_view_module_version": "1.5.0",
            "_view_name": "HTMLView",
            "description": "",
            "description_tooltip": null,
            "layout": "IPY_MODEL_3b1c4a3215c64caa8858c9bcaa373390",
            "placeholder": "​",
            "style": "IPY_MODEL_75c3308c5aa54eceb9889fde6d70bf05",
            "value": ""
          }
        },
        "b29350e8afbb47cb85f168346b9cdea7": {
          "model_module": "@jupyter-widgets/controls",
          "model_name": "FloatProgressModel",
          "model_module_version": "1.5.0",
          "state": {
            "_dom_classes": [],
            "_model_module": "@jupyter-widgets/controls",
            "_model_module_version": "1.5.0",
            "_model_name": "FloatProgressModel",
            "_view_count": null,
            "_view_module": "@jupyter-widgets/controls",
            "_view_module_version": "1.5.0",
            "_view_name": "ProgressView",
            "bar_style": "success",
            "description": "",
            "description_tooltip": null,
            "layout": "IPY_MODEL_ceeb480cae6e4f349b3acce19415df0f",
            "max": 12238,
            "min": 0,
            "orientation": "horizontal",
            "style": "IPY_MODEL_3c22551068db48189bd6a4a85bb54135",
            "value": 12238
          }
        },
        "6bd5636ea9dd46d2bd0a957c96811191": {
          "model_module": "@jupyter-widgets/controls",
          "model_name": "HTMLModel",
          "model_module_version": "1.5.0",
          "state": {
            "_dom_classes": [],
            "_model_module": "@jupyter-widgets/controls",
            "_model_module_version": "1.5.0",
            "_model_name": "HTMLModel",
            "_view_count": null,
            "_view_module": "@jupyter-widgets/controls",
            "_view_module_version": "1.5.0",
            "_view_name": "HTMLView",
            "description": "",
            "description_tooltip": null,
            "layout": "IPY_MODEL_b2f0610ff730483bb956dc35c2c06879",
            "placeholder": "​",
            "style": "IPY_MODEL_a27b6070c7bb4eadb4816e050cc02b1b",
            "value": " 12239/? [08:06&lt;00:00, 27.13it/s]"
          }
        },
        "b2a0c302edaa473587ba2fb3c9c3cf8c": {
          "model_module": "@jupyter-widgets/base",
          "model_name": "LayoutModel",
          "model_module_version": "1.2.0",
          "state": {
            "_model_module": "@jupyter-widgets/base",
            "_model_module_version": "1.2.0",
            "_model_name": "LayoutModel",
            "_view_count": null,
            "_view_module": "@jupyter-widgets/base",
            "_view_module_version": "1.2.0",
            "_view_name": "LayoutView",
            "align_content": null,
            "align_items": null,
            "align_self": null,
            "border": null,
            "bottom": null,
            "display": null,
            "flex": null,
            "flex_flow": null,
            "grid_area": null,
            "grid_auto_columns": null,
            "grid_auto_flow": null,
            "grid_auto_rows": null,
            "grid_column": null,
            "grid_gap": null,
            "grid_row": null,
            "grid_template_areas": null,
            "grid_template_columns": null,
            "grid_template_rows": null,
            "height": null,
            "justify_content": null,
            "justify_items": null,
            "left": null,
            "margin": null,
            "max_height": null,
            "max_width": null,
            "min_height": null,
            "min_width": null,
            "object_fit": null,
            "object_position": null,
            "order": null,
            "overflow": null,
            "overflow_x": null,
            "overflow_y": null,
            "padding": null,
            "right": null,
            "top": null,
            "visibility": null,
            "width": null
          }
        },
        "3b1c4a3215c64caa8858c9bcaa373390": {
          "model_module": "@jupyter-widgets/base",
          "model_name": "LayoutModel",
          "model_module_version": "1.2.0",
          "state": {
            "_model_module": "@jupyter-widgets/base",
            "_model_module_version": "1.2.0",
            "_model_name": "LayoutModel",
            "_view_count": null,
            "_view_module": "@jupyter-widgets/base",
            "_view_module_version": "1.2.0",
            "_view_name": "LayoutView",
            "align_content": null,
            "align_items": null,
            "align_self": null,
            "border": null,
            "bottom": null,
            "display": null,
            "flex": null,
            "flex_flow": null,
            "grid_area": null,
            "grid_auto_columns": null,
            "grid_auto_flow": null,
            "grid_auto_rows": null,
            "grid_column": null,
            "grid_gap": null,
            "grid_row": null,
            "grid_template_areas": null,
            "grid_template_columns": null,
            "grid_template_rows": null,
            "height": null,
            "justify_content": null,
            "justify_items": null,
            "left": null,
            "margin": null,
            "max_height": null,
            "max_width": null,
            "min_height": null,
            "min_width": null,
            "object_fit": null,
            "object_position": null,
            "order": null,
            "overflow": null,
            "overflow_x": null,
            "overflow_y": null,
            "padding": null,
            "right": null,
            "top": null,
            "visibility": null,
            "width": null
          }
        },
        "75c3308c5aa54eceb9889fde6d70bf05": {
          "model_module": "@jupyter-widgets/controls",
          "model_name": "DescriptionStyleModel",
          "model_module_version": "1.5.0",
          "state": {
            "_model_module": "@jupyter-widgets/controls",
            "_model_module_version": "1.5.0",
            "_model_name": "DescriptionStyleModel",
            "_view_count": null,
            "_view_module": "@jupyter-widgets/base",
            "_view_module_version": "1.2.0",
            "_view_name": "StyleView",
            "description_width": ""
          }
        },
        "ceeb480cae6e4f349b3acce19415df0f": {
          "model_module": "@jupyter-widgets/base",
          "model_name": "LayoutModel",
          "model_module_version": "1.2.0",
          "state": {
            "_model_module": "@jupyter-widgets/base",
            "_model_module_version": "1.2.0",
            "_model_name": "LayoutModel",
            "_view_count": null,
            "_view_module": "@jupyter-widgets/base",
            "_view_module_version": "1.2.0",
            "_view_name": "LayoutView",
            "align_content": null,
            "align_items": null,
            "align_self": null,
            "border": null,
            "bottom": null,
            "display": null,
            "flex": null,
            "flex_flow": null,
            "grid_area": null,
            "grid_auto_columns": null,
            "grid_auto_flow": null,
            "grid_auto_rows": null,
            "grid_column": null,
            "grid_gap": null,
            "grid_row": null,
            "grid_template_areas": null,
            "grid_template_columns": null,
            "grid_template_rows": null,
            "height": null,
            "justify_content": null,
            "justify_items": null,
            "left": null,
            "margin": null,
            "max_height": null,
            "max_width": null,
            "min_height": null,
            "min_width": null,
            "object_fit": null,
            "object_position": null,
            "order": null,
            "overflow": null,
            "overflow_x": null,
            "overflow_y": null,
            "padding": null,
            "right": null,
            "top": null,
            "visibility": null,
            "width": null
          }
        },
        "3c22551068db48189bd6a4a85bb54135": {
          "model_module": "@jupyter-widgets/controls",
          "model_name": "ProgressStyleModel",
          "model_module_version": "1.5.0",
          "state": {
            "_model_module": "@jupyter-widgets/controls",
            "_model_module_version": "1.5.0",
            "_model_name": "ProgressStyleModel",
            "_view_count": null,
            "_view_module": "@jupyter-widgets/base",
            "_view_module_version": "1.2.0",
            "_view_name": "StyleView",
            "bar_color": null,
            "description_width": ""
          }
        },
        "b2f0610ff730483bb956dc35c2c06879": {
          "model_module": "@jupyter-widgets/base",
          "model_name": "LayoutModel",
          "model_module_version": "1.2.0",
          "state": {
            "_model_module": "@jupyter-widgets/base",
            "_model_module_version": "1.2.0",
            "_model_name": "LayoutModel",
            "_view_count": null,
            "_view_module": "@jupyter-widgets/base",
            "_view_module_version": "1.2.0",
            "_view_name": "LayoutView",
            "align_content": null,
            "align_items": null,
            "align_self": null,
            "border": null,
            "bottom": null,
            "display": null,
            "flex": null,
            "flex_flow": null,
            "grid_area": null,
            "grid_auto_columns": null,
            "grid_auto_flow": null,
            "grid_auto_rows": null,
            "grid_column": null,
            "grid_gap": null,
            "grid_row": null,
            "grid_template_areas": null,
            "grid_template_columns": null,
            "grid_template_rows": null,
            "height": null,
            "justify_content": null,
            "justify_items": null,
            "left": null,
            "margin": null,
            "max_height": null,
            "max_width": null,
            "min_height": null,
            "min_width": null,
            "object_fit": null,
            "object_position": null,
            "order": null,
            "overflow": null,
            "overflow_x": null,
            "overflow_y": null,
            "padding": null,
            "right": null,
            "top": null,
            "visibility": null,
            "width": null
          }
        },
        "a27b6070c7bb4eadb4816e050cc02b1b": {
          "model_module": "@jupyter-widgets/controls",
          "model_name": "DescriptionStyleModel",
          "model_module_version": "1.5.0",
          "state": {
            "_model_module": "@jupyter-widgets/controls",
            "_model_module_version": "1.5.0",
            "_model_name": "DescriptionStyleModel",
            "_view_count": null,
            "_view_module": "@jupyter-widgets/base",
            "_view_module_version": "1.2.0",
            "_view_name": "StyleView",
            "description_width": ""
          }
        },
        "bdb5fa4bca9b4c6e98cd1f6a9adc7cec": {
          "model_module": "@jupyter-widgets/controls",
          "model_name": "HBoxModel",
          "model_module_version": "1.5.0",
          "state": {
            "_dom_classes": [],
            "_model_module": "@jupyter-widgets/controls",
            "_model_module_version": "1.5.0",
            "_model_name": "HBoxModel",
            "_view_count": null,
            "_view_module": "@jupyter-widgets/controls",
            "_view_module_version": "1.5.0",
            "_view_name": "HBoxView",
            "box_style": "",
            "children": [
              "IPY_MODEL_767895ee94d141ee958e9f8f2210a571",
              "IPY_MODEL_ab127a77bcae41aca017fd91634e6655",
              "IPY_MODEL_222e0f8885394b93853dc2f2bb83e60b"
            ],
            "layout": "IPY_MODEL_ec329e12c8b04549a0b9640f9caa9ae1"
          }
        },
        "767895ee94d141ee958e9f8f2210a571": {
          "model_module": "@jupyter-widgets/controls",
          "model_name": "HTMLModel",
          "model_module_version": "1.5.0",
          "state": {
            "_dom_classes": [],
            "_model_module": "@jupyter-widgets/controls",
            "_model_module_version": "1.5.0",
            "_model_name": "HTMLModel",
            "_view_count": null,
            "_view_module": "@jupyter-widgets/controls",
            "_view_module_version": "1.5.0",
            "_view_name": "HTMLView",
            "description": "",
            "description_tooltip": null,
            "layout": "IPY_MODEL_0872bcbac28a41df81fae1e874596c11",
            "placeholder": "​",
            "style": "IPY_MODEL_6b56c18b598b498e88d8b7a03c5e2e3c",
            "value": ""
          }
        },
        "ab127a77bcae41aca017fd91634e6655": {
          "model_module": "@jupyter-widgets/controls",
          "model_name": "FloatProgressModel",
          "model_module_version": "1.5.0",
          "state": {
            "_dom_classes": [],
            "_model_module": "@jupyter-widgets/controls",
            "_model_module_version": "1.5.0",
            "_model_name": "FloatProgressModel",
            "_view_count": null,
            "_view_module": "@jupyter-widgets/controls",
            "_view_module_version": "1.5.0",
            "_view_name": "ProgressView",
            "bar_style": "success",
            "description": "",
            "description_tooltip": null,
            "layout": "IPY_MODEL_296acbee9e4d4d86a0f1fbd0609f5874",
            "max": 12238,
            "min": 0,
            "orientation": "horizontal",
            "style": "IPY_MODEL_74c76c0b49b24f9f9236b1ef51f59d02",
            "value": 12238
          }
        },
        "222e0f8885394b93853dc2f2bb83e60b": {
          "model_module": "@jupyter-widgets/controls",
          "model_name": "HTMLModel",
          "model_module_version": "1.5.0",
          "state": {
            "_dom_classes": [],
            "_model_module": "@jupyter-widgets/controls",
            "_model_module_version": "1.5.0",
            "_model_name": "HTMLModel",
            "_view_count": null,
            "_view_module": "@jupyter-widgets/controls",
            "_view_module_version": "1.5.0",
            "_view_name": "HTMLView",
            "description": "",
            "description_tooltip": null,
            "layout": "IPY_MODEL_dd10088265524436a36bdfc2306148f3",
            "placeholder": "​",
            "style": "IPY_MODEL_1226efeddaab4a36809923fee6834815",
            "value": " 12239/? [07:53&lt;00:00, 26.26it/s]"
          }
        },
        "ec329e12c8b04549a0b9640f9caa9ae1": {
          "model_module": "@jupyter-widgets/base",
          "model_name": "LayoutModel",
          "model_module_version": "1.2.0",
          "state": {
            "_model_module": "@jupyter-widgets/base",
            "_model_module_version": "1.2.0",
            "_model_name": "LayoutModel",
            "_view_count": null,
            "_view_module": "@jupyter-widgets/base",
            "_view_module_version": "1.2.0",
            "_view_name": "LayoutView",
            "align_content": null,
            "align_items": null,
            "align_self": null,
            "border": null,
            "bottom": null,
            "display": null,
            "flex": null,
            "flex_flow": null,
            "grid_area": null,
            "grid_auto_columns": null,
            "grid_auto_flow": null,
            "grid_auto_rows": null,
            "grid_column": null,
            "grid_gap": null,
            "grid_row": null,
            "grid_template_areas": null,
            "grid_template_columns": null,
            "grid_template_rows": null,
            "height": null,
            "justify_content": null,
            "justify_items": null,
            "left": null,
            "margin": null,
            "max_height": null,
            "max_width": null,
            "min_height": null,
            "min_width": null,
            "object_fit": null,
            "object_position": null,
            "order": null,
            "overflow": null,
            "overflow_x": null,
            "overflow_y": null,
            "padding": null,
            "right": null,
            "top": null,
            "visibility": null,
            "width": null
          }
        },
        "0872bcbac28a41df81fae1e874596c11": {
          "model_module": "@jupyter-widgets/base",
          "model_name": "LayoutModel",
          "model_module_version": "1.2.0",
          "state": {
            "_model_module": "@jupyter-widgets/base",
            "_model_module_version": "1.2.0",
            "_model_name": "LayoutModel",
            "_view_count": null,
            "_view_module": "@jupyter-widgets/base",
            "_view_module_version": "1.2.0",
            "_view_name": "LayoutView",
            "align_content": null,
            "align_items": null,
            "align_self": null,
            "border": null,
            "bottom": null,
            "display": null,
            "flex": null,
            "flex_flow": null,
            "grid_area": null,
            "grid_auto_columns": null,
            "grid_auto_flow": null,
            "grid_auto_rows": null,
            "grid_column": null,
            "grid_gap": null,
            "grid_row": null,
            "grid_template_areas": null,
            "grid_template_columns": null,
            "grid_template_rows": null,
            "height": null,
            "justify_content": null,
            "justify_items": null,
            "left": null,
            "margin": null,
            "max_height": null,
            "max_width": null,
            "min_height": null,
            "min_width": null,
            "object_fit": null,
            "object_position": null,
            "order": null,
            "overflow": null,
            "overflow_x": null,
            "overflow_y": null,
            "padding": null,
            "right": null,
            "top": null,
            "visibility": null,
            "width": null
          }
        },
        "6b56c18b598b498e88d8b7a03c5e2e3c": {
          "model_module": "@jupyter-widgets/controls",
          "model_name": "DescriptionStyleModel",
          "model_module_version": "1.5.0",
          "state": {
            "_model_module": "@jupyter-widgets/controls",
            "_model_module_version": "1.5.0",
            "_model_name": "DescriptionStyleModel",
            "_view_count": null,
            "_view_module": "@jupyter-widgets/base",
            "_view_module_version": "1.2.0",
            "_view_name": "StyleView",
            "description_width": ""
          }
        },
        "296acbee9e4d4d86a0f1fbd0609f5874": {
          "model_module": "@jupyter-widgets/base",
          "model_name": "LayoutModel",
          "model_module_version": "1.2.0",
          "state": {
            "_model_module": "@jupyter-widgets/base",
            "_model_module_version": "1.2.0",
            "_model_name": "LayoutModel",
            "_view_count": null,
            "_view_module": "@jupyter-widgets/base",
            "_view_module_version": "1.2.0",
            "_view_name": "LayoutView",
            "align_content": null,
            "align_items": null,
            "align_self": null,
            "border": null,
            "bottom": null,
            "display": null,
            "flex": null,
            "flex_flow": null,
            "grid_area": null,
            "grid_auto_columns": null,
            "grid_auto_flow": null,
            "grid_auto_rows": null,
            "grid_column": null,
            "grid_gap": null,
            "grid_row": null,
            "grid_template_areas": null,
            "grid_template_columns": null,
            "grid_template_rows": null,
            "height": null,
            "justify_content": null,
            "justify_items": null,
            "left": null,
            "margin": null,
            "max_height": null,
            "max_width": null,
            "min_height": null,
            "min_width": null,
            "object_fit": null,
            "object_position": null,
            "order": null,
            "overflow": null,
            "overflow_x": null,
            "overflow_y": null,
            "padding": null,
            "right": null,
            "top": null,
            "visibility": null,
            "width": null
          }
        },
        "74c76c0b49b24f9f9236b1ef51f59d02": {
          "model_module": "@jupyter-widgets/controls",
          "model_name": "ProgressStyleModel",
          "model_module_version": "1.5.0",
          "state": {
            "_model_module": "@jupyter-widgets/controls",
            "_model_module_version": "1.5.0",
            "_model_name": "ProgressStyleModel",
            "_view_count": null,
            "_view_module": "@jupyter-widgets/base",
            "_view_module_version": "1.2.0",
            "_view_name": "StyleView",
            "bar_color": null,
            "description_width": ""
          }
        },
        "dd10088265524436a36bdfc2306148f3": {
          "model_module": "@jupyter-widgets/base",
          "model_name": "LayoutModel",
          "model_module_version": "1.2.0",
          "state": {
            "_model_module": "@jupyter-widgets/base",
            "_model_module_version": "1.2.0",
            "_model_name": "LayoutModel",
            "_view_count": null,
            "_view_module": "@jupyter-widgets/base",
            "_view_module_version": "1.2.0",
            "_view_name": "LayoutView",
            "align_content": null,
            "align_items": null,
            "align_self": null,
            "border": null,
            "bottom": null,
            "display": null,
            "flex": null,
            "flex_flow": null,
            "grid_area": null,
            "grid_auto_columns": null,
            "grid_auto_flow": null,
            "grid_auto_rows": null,
            "grid_column": null,
            "grid_gap": null,
            "grid_row": null,
            "grid_template_areas": null,
            "grid_template_columns": null,
            "grid_template_rows": null,
            "height": null,
            "justify_content": null,
            "justify_items": null,
            "left": null,
            "margin": null,
            "max_height": null,
            "max_width": null,
            "min_height": null,
            "min_width": null,
            "object_fit": null,
            "object_position": null,
            "order": null,
            "overflow": null,
            "overflow_x": null,
            "overflow_y": null,
            "padding": null,
            "right": null,
            "top": null,
            "visibility": null,
            "width": null
          }
        },
        "1226efeddaab4a36809923fee6834815": {
          "model_module": "@jupyter-widgets/controls",
          "model_name": "DescriptionStyleModel",
          "model_module_version": "1.5.0",
          "state": {
            "_model_module": "@jupyter-widgets/controls",
            "_model_module_version": "1.5.0",
            "_model_name": "DescriptionStyleModel",
            "_view_count": null,
            "_view_module": "@jupyter-widgets/base",
            "_view_module_version": "1.2.0",
            "_view_name": "StyleView",
            "description_width": ""
          }
        },
        "65c3214f370a461c87bb1296bb7b952a": {
          "model_module": "@jupyter-widgets/controls",
          "model_name": "HBoxModel",
          "model_module_version": "1.5.0",
          "state": {
            "_dom_classes": [],
            "_model_module": "@jupyter-widgets/controls",
            "_model_module_version": "1.5.0",
            "_model_name": "HBoxModel",
            "_view_count": null,
            "_view_module": "@jupyter-widgets/controls",
            "_view_module_version": "1.5.0",
            "_view_name": "HBoxView",
            "box_style": "",
            "children": [
              "IPY_MODEL_c4ce630b9b3246ff9c16e62877e4f17f",
              "IPY_MODEL_dfbf0351297144c083e3d30e1d441c84",
              "IPY_MODEL_61bbbd0331744875a30317f97f4dfd82"
            ],
            "layout": "IPY_MODEL_bd1cdb3574fd4a9fa151ed82eb54b598"
          }
        },
        "c4ce630b9b3246ff9c16e62877e4f17f": {
          "model_module": "@jupyter-widgets/controls",
          "model_name": "HTMLModel",
          "model_module_version": "1.5.0",
          "state": {
            "_dom_classes": [],
            "_model_module": "@jupyter-widgets/controls",
            "_model_module_version": "1.5.0",
            "_model_name": "HTMLModel",
            "_view_count": null,
            "_view_module": "@jupyter-widgets/controls",
            "_view_module_version": "1.5.0",
            "_view_name": "HTMLView",
            "description": "",
            "description_tooltip": null,
            "layout": "IPY_MODEL_81f8d82059f94684b41b95c4ca1fbee7",
            "placeholder": "​",
            "style": "IPY_MODEL_50d27ff5442447efa37c8e30095eee88",
            "value": ""
          }
        },
        "dfbf0351297144c083e3d30e1d441c84": {
          "model_module": "@jupyter-widgets/controls",
          "model_name": "FloatProgressModel",
          "model_module_version": "1.5.0",
          "state": {
            "_dom_classes": [],
            "_model_module": "@jupyter-widgets/controls",
            "_model_module_version": "1.5.0",
            "_model_name": "FloatProgressModel",
            "_view_count": null,
            "_view_module": "@jupyter-widgets/controls",
            "_view_module_version": "1.5.0",
            "_view_name": "ProgressView",
            "bar_style": "success",
            "description": "",
            "description_tooltip": null,
            "layout": "IPY_MODEL_94bfd1e779994743aa88cd5c10846d56",
            "max": 12238,
            "min": 0,
            "orientation": "horizontal",
            "style": "IPY_MODEL_e339fd4619294a0eab288112cbd7308a",
            "value": 12238
          }
        },
        "61bbbd0331744875a30317f97f4dfd82": {
          "model_module": "@jupyter-widgets/controls",
          "model_name": "HTMLModel",
          "model_module_version": "1.5.0",
          "state": {
            "_dom_classes": [],
            "_model_module": "@jupyter-widgets/controls",
            "_model_module_version": "1.5.0",
            "_model_name": "HTMLModel",
            "_view_count": null,
            "_view_module": "@jupyter-widgets/controls",
            "_view_module_version": "1.5.0",
            "_view_name": "HTMLView",
            "description": "",
            "description_tooltip": null,
            "layout": "IPY_MODEL_17ecad33e09e40c78dd9cef0559ffc1f",
            "placeholder": "​",
            "style": "IPY_MODEL_e89cfd89f0004c568e7785763fa47177",
            "value": " 12239/? [07:38&lt;00:00, 23.98it/s]"
          }
        },
        "bd1cdb3574fd4a9fa151ed82eb54b598": {
          "model_module": "@jupyter-widgets/base",
          "model_name": "LayoutModel",
          "model_module_version": "1.2.0",
          "state": {
            "_model_module": "@jupyter-widgets/base",
            "_model_module_version": "1.2.0",
            "_model_name": "LayoutModel",
            "_view_count": null,
            "_view_module": "@jupyter-widgets/base",
            "_view_module_version": "1.2.0",
            "_view_name": "LayoutView",
            "align_content": null,
            "align_items": null,
            "align_self": null,
            "border": null,
            "bottom": null,
            "display": null,
            "flex": null,
            "flex_flow": null,
            "grid_area": null,
            "grid_auto_columns": null,
            "grid_auto_flow": null,
            "grid_auto_rows": null,
            "grid_column": null,
            "grid_gap": null,
            "grid_row": null,
            "grid_template_areas": null,
            "grid_template_columns": null,
            "grid_template_rows": null,
            "height": null,
            "justify_content": null,
            "justify_items": null,
            "left": null,
            "margin": null,
            "max_height": null,
            "max_width": null,
            "min_height": null,
            "min_width": null,
            "object_fit": null,
            "object_position": null,
            "order": null,
            "overflow": null,
            "overflow_x": null,
            "overflow_y": null,
            "padding": null,
            "right": null,
            "top": null,
            "visibility": null,
            "width": null
          }
        },
        "81f8d82059f94684b41b95c4ca1fbee7": {
          "model_module": "@jupyter-widgets/base",
          "model_name": "LayoutModel",
          "model_module_version": "1.2.0",
          "state": {
            "_model_module": "@jupyter-widgets/base",
            "_model_module_version": "1.2.0",
            "_model_name": "LayoutModel",
            "_view_count": null,
            "_view_module": "@jupyter-widgets/base",
            "_view_module_version": "1.2.0",
            "_view_name": "LayoutView",
            "align_content": null,
            "align_items": null,
            "align_self": null,
            "border": null,
            "bottom": null,
            "display": null,
            "flex": null,
            "flex_flow": null,
            "grid_area": null,
            "grid_auto_columns": null,
            "grid_auto_flow": null,
            "grid_auto_rows": null,
            "grid_column": null,
            "grid_gap": null,
            "grid_row": null,
            "grid_template_areas": null,
            "grid_template_columns": null,
            "grid_template_rows": null,
            "height": null,
            "justify_content": null,
            "justify_items": null,
            "left": null,
            "margin": null,
            "max_height": null,
            "max_width": null,
            "min_height": null,
            "min_width": null,
            "object_fit": null,
            "object_position": null,
            "order": null,
            "overflow": null,
            "overflow_x": null,
            "overflow_y": null,
            "padding": null,
            "right": null,
            "top": null,
            "visibility": null,
            "width": null
          }
        },
        "50d27ff5442447efa37c8e30095eee88": {
          "model_module": "@jupyter-widgets/controls",
          "model_name": "DescriptionStyleModel",
          "model_module_version": "1.5.0",
          "state": {
            "_model_module": "@jupyter-widgets/controls",
            "_model_module_version": "1.5.0",
            "_model_name": "DescriptionStyleModel",
            "_view_count": null,
            "_view_module": "@jupyter-widgets/base",
            "_view_module_version": "1.2.0",
            "_view_name": "StyleView",
            "description_width": ""
          }
        },
        "94bfd1e779994743aa88cd5c10846d56": {
          "model_module": "@jupyter-widgets/base",
          "model_name": "LayoutModel",
          "model_module_version": "1.2.0",
          "state": {
            "_model_module": "@jupyter-widgets/base",
            "_model_module_version": "1.2.0",
            "_model_name": "LayoutModel",
            "_view_count": null,
            "_view_module": "@jupyter-widgets/base",
            "_view_module_version": "1.2.0",
            "_view_name": "LayoutView",
            "align_content": null,
            "align_items": null,
            "align_self": null,
            "border": null,
            "bottom": null,
            "display": null,
            "flex": null,
            "flex_flow": null,
            "grid_area": null,
            "grid_auto_columns": null,
            "grid_auto_flow": null,
            "grid_auto_rows": null,
            "grid_column": null,
            "grid_gap": null,
            "grid_row": null,
            "grid_template_areas": null,
            "grid_template_columns": null,
            "grid_template_rows": null,
            "height": null,
            "justify_content": null,
            "justify_items": null,
            "left": null,
            "margin": null,
            "max_height": null,
            "max_width": null,
            "min_height": null,
            "min_width": null,
            "object_fit": null,
            "object_position": null,
            "order": null,
            "overflow": null,
            "overflow_x": null,
            "overflow_y": null,
            "padding": null,
            "right": null,
            "top": null,
            "visibility": null,
            "width": null
          }
        },
        "e339fd4619294a0eab288112cbd7308a": {
          "model_module": "@jupyter-widgets/controls",
          "model_name": "ProgressStyleModel",
          "model_module_version": "1.5.0",
          "state": {
            "_model_module": "@jupyter-widgets/controls",
            "_model_module_version": "1.5.0",
            "_model_name": "ProgressStyleModel",
            "_view_count": null,
            "_view_module": "@jupyter-widgets/base",
            "_view_module_version": "1.2.0",
            "_view_name": "StyleView",
            "bar_color": null,
            "description_width": ""
          }
        },
        "17ecad33e09e40c78dd9cef0559ffc1f": {
          "model_module": "@jupyter-widgets/base",
          "model_name": "LayoutModel",
          "model_module_version": "1.2.0",
          "state": {
            "_model_module": "@jupyter-widgets/base",
            "_model_module_version": "1.2.0",
            "_model_name": "LayoutModel",
            "_view_count": null,
            "_view_module": "@jupyter-widgets/base",
            "_view_module_version": "1.2.0",
            "_view_name": "LayoutView",
            "align_content": null,
            "align_items": null,
            "align_self": null,
            "border": null,
            "bottom": null,
            "display": null,
            "flex": null,
            "flex_flow": null,
            "grid_area": null,
            "grid_auto_columns": null,
            "grid_auto_flow": null,
            "grid_auto_rows": null,
            "grid_column": null,
            "grid_gap": null,
            "grid_row": null,
            "grid_template_areas": null,
            "grid_template_columns": null,
            "grid_template_rows": null,
            "height": null,
            "justify_content": null,
            "justify_items": null,
            "left": null,
            "margin": null,
            "max_height": null,
            "max_width": null,
            "min_height": null,
            "min_width": null,
            "object_fit": null,
            "object_position": null,
            "order": null,
            "overflow": null,
            "overflow_x": null,
            "overflow_y": null,
            "padding": null,
            "right": null,
            "top": null,
            "visibility": null,
            "width": null
          }
        },
        "e89cfd89f0004c568e7785763fa47177": {
          "model_module": "@jupyter-widgets/controls",
          "model_name": "DescriptionStyleModel",
          "model_module_version": "1.5.0",
          "state": {
            "_model_module": "@jupyter-widgets/controls",
            "_model_module_version": "1.5.0",
            "_model_name": "DescriptionStyleModel",
            "_view_count": null,
            "_view_module": "@jupyter-widgets/base",
            "_view_module_version": "1.2.0",
            "_view_name": "StyleView",
            "description_width": ""
          }
        },
        "95190d8fe740458191b0e4db6071c921": {
          "model_module": "@jupyter-widgets/controls",
          "model_name": "HBoxModel",
          "model_module_version": "1.5.0",
          "state": {
            "_dom_classes": [],
            "_model_module": "@jupyter-widgets/controls",
            "_model_module_version": "1.5.0",
            "_model_name": "HBoxModel",
            "_view_count": null,
            "_view_module": "@jupyter-widgets/controls",
            "_view_module_version": "1.5.0",
            "_view_name": "HBoxView",
            "box_style": "",
            "children": [
              "IPY_MODEL_7bfca23307674f5fa885e875417b28df",
              "IPY_MODEL_94256a7cfba64e67a77516d94ea00e9b",
              "IPY_MODEL_049b5982f5ad45ac9ac676c15b05692d"
            ],
            "layout": "IPY_MODEL_add457d9b18246db86cdbaa128ccfbc7"
          }
        },
        "7bfca23307674f5fa885e875417b28df": {
          "model_module": "@jupyter-widgets/controls",
          "model_name": "HTMLModel",
          "model_module_version": "1.5.0",
          "state": {
            "_dom_classes": [],
            "_model_module": "@jupyter-widgets/controls",
            "_model_module_version": "1.5.0",
            "_model_name": "HTMLModel",
            "_view_count": null,
            "_view_module": "@jupyter-widgets/controls",
            "_view_module_version": "1.5.0",
            "_view_name": "HTMLView",
            "description": "",
            "description_tooltip": null,
            "layout": "IPY_MODEL_c54a65ef0744444a8777b51cdc4bf7c8",
            "placeholder": "​",
            "style": "IPY_MODEL_90cb02e5076c482998c3d90d0c5ae2f1",
            "value": ""
          }
        },
        "94256a7cfba64e67a77516d94ea00e9b": {
          "model_module": "@jupyter-widgets/controls",
          "model_name": "FloatProgressModel",
          "model_module_version": "1.5.0",
          "state": {
            "_dom_classes": [],
            "_model_module": "@jupyter-widgets/controls",
            "_model_module_version": "1.5.0",
            "_model_name": "FloatProgressModel",
            "_view_count": null,
            "_view_module": "@jupyter-widgets/controls",
            "_view_module_version": "1.5.0",
            "_view_name": "ProgressView",
            "bar_style": "success",
            "description": "",
            "description_tooltip": null,
            "layout": "IPY_MODEL_fc7ca20291374efb841e73bb5762e85c",
            "max": 12238,
            "min": 0,
            "orientation": "horizontal",
            "style": "IPY_MODEL_b4ad53fff9504b0f9d79a6ce92660eb7",
            "value": 12238
          }
        },
        "049b5982f5ad45ac9ac676c15b05692d": {
          "model_module": "@jupyter-widgets/controls",
          "model_name": "HTMLModel",
          "model_module_version": "1.5.0",
          "state": {
            "_dom_classes": [],
            "_model_module": "@jupyter-widgets/controls",
            "_model_module_version": "1.5.0",
            "_model_name": "HTMLModel",
            "_view_count": null,
            "_view_module": "@jupyter-widgets/controls",
            "_view_module_version": "1.5.0",
            "_view_name": "HTMLView",
            "description": "",
            "description_tooltip": null,
            "layout": "IPY_MODEL_394d4ee0e42d405dae08d250e058c981",
            "placeholder": "​",
            "style": "IPY_MODEL_04567dc0ee854a428989f0a2a44faf5c",
            "value": " 12239/? [07:39&lt;00:00, 24.29it/s]"
          }
        },
        "add457d9b18246db86cdbaa128ccfbc7": {
          "model_module": "@jupyter-widgets/base",
          "model_name": "LayoutModel",
          "model_module_version": "1.2.0",
          "state": {
            "_model_module": "@jupyter-widgets/base",
            "_model_module_version": "1.2.0",
            "_model_name": "LayoutModel",
            "_view_count": null,
            "_view_module": "@jupyter-widgets/base",
            "_view_module_version": "1.2.0",
            "_view_name": "LayoutView",
            "align_content": null,
            "align_items": null,
            "align_self": null,
            "border": null,
            "bottom": null,
            "display": null,
            "flex": null,
            "flex_flow": null,
            "grid_area": null,
            "grid_auto_columns": null,
            "grid_auto_flow": null,
            "grid_auto_rows": null,
            "grid_column": null,
            "grid_gap": null,
            "grid_row": null,
            "grid_template_areas": null,
            "grid_template_columns": null,
            "grid_template_rows": null,
            "height": null,
            "justify_content": null,
            "justify_items": null,
            "left": null,
            "margin": null,
            "max_height": null,
            "max_width": null,
            "min_height": null,
            "min_width": null,
            "object_fit": null,
            "object_position": null,
            "order": null,
            "overflow": null,
            "overflow_x": null,
            "overflow_y": null,
            "padding": null,
            "right": null,
            "top": null,
            "visibility": null,
            "width": null
          }
        },
        "c54a65ef0744444a8777b51cdc4bf7c8": {
          "model_module": "@jupyter-widgets/base",
          "model_name": "LayoutModel",
          "model_module_version": "1.2.0",
          "state": {
            "_model_module": "@jupyter-widgets/base",
            "_model_module_version": "1.2.0",
            "_model_name": "LayoutModel",
            "_view_count": null,
            "_view_module": "@jupyter-widgets/base",
            "_view_module_version": "1.2.0",
            "_view_name": "LayoutView",
            "align_content": null,
            "align_items": null,
            "align_self": null,
            "border": null,
            "bottom": null,
            "display": null,
            "flex": null,
            "flex_flow": null,
            "grid_area": null,
            "grid_auto_columns": null,
            "grid_auto_flow": null,
            "grid_auto_rows": null,
            "grid_column": null,
            "grid_gap": null,
            "grid_row": null,
            "grid_template_areas": null,
            "grid_template_columns": null,
            "grid_template_rows": null,
            "height": null,
            "justify_content": null,
            "justify_items": null,
            "left": null,
            "margin": null,
            "max_height": null,
            "max_width": null,
            "min_height": null,
            "min_width": null,
            "object_fit": null,
            "object_position": null,
            "order": null,
            "overflow": null,
            "overflow_x": null,
            "overflow_y": null,
            "padding": null,
            "right": null,
            "top": null,
            "visibility": null,
            "width": null
          }
        },
        "90cb02e5076c482998c3d90d0c5ae2f1": {
          "model_module": "@jupyter-widgets/controls",
          "model_name": "DescriptionStyleModel",
          "model_module_version": "1.5.0",
          "state": {
            "_model_module": "@jupyter-widgets/controls",
            "_model_module_version": "1.5.0",
            "_model_name": "DescriptionStyleModel",
            "_view_count": null,
            "_view_module": "@jupyter-widgets/base",
            "_view_module_version": "1.2.0",
            "_view_name": "StyleView",
            "description_width": ""
          }
        },
        "fc7ca20291374efb841e73bb5762e85c": {
          "model_module": "@jupyter-widgets/base",
          "model_name": "LayoutModel",
          "model_module_version": "1.2.0",
          "state": {
            "_model_module": "@jupyter-widgets/base",
            "_model_module_version": "1.2.0",
            "_model_name": "LayoutModel",
            "_view_count": null,
            "_view_module": "@jupyter-widgets/base",
            "_view_module_version": "1.2.0",
            "_view_name": "LayoutView",
            "align_content": null,
            "align_items": null,
            "align_self": null,
            "border": null,
            "bottom": null,
            "display": null,
            "flex": null,
            "flex_flow": null,
            "grid_area": null,
            "grid_auto_columns": null,
            "grid_auto_flow": null,
            "grid_auto_rows": null,
            "grid_column": null,
            "grid_gap": null,
            "grid_row": null,
            "grid_template_areas": null,
            "grid_template_columns": null,
            "grid_template_rows": null,
            "height": null,
            "justify_content": null,
            "justify_items": null,
            "left": null,
            "margin": null,
            "max_height": null,
            "max_width": null,
            "min_height": null,
            "min_width": null,
            "object_fit": null,
            "object_position": null,
            "order": null,
            "overflow": null,
            "overflow_x": null,
            "overflow_y": null,
            "padding": null,
            "right": null,
            "top": null,
            "visibility": null,
            "width": null
          }
        },
        "b4ad53fff9504b0f9d79a6ce92660eb7": {
          "model_module": "@jupyter-widgets/controls",
          "model_name": "ProgressStyleModel",
          "model_module_version": "1.5.0",
          "state": {
            "_model_module": "@jupyter-widgets/controls",
            "_model_module_version": "1.5.0",
            "_model_name": "ProgressStyleModel",
            "_view_count": null,
            "_view_module": "@jupyter-widgets/base",
            "_view_module_version": "1.2.0",
            "_view_name": "StyleView",
            "bar_color": null,
            "description_width": ""
          }
        },
        "394d4ee0e42d405dae08d250e058c981": {
          "model_module": "@jupyter-widgets/base",
          "model_name": "LayoutModel",
          "model_module_version": "1.2.0",
          "state": {
            "_model_module": "@jupyter-widgets/base",
            "_model_module_version": "1.2.0",
            "_model_name": "LayoutModel",
            "_view_count": null,
            "_view_module": "@jupyter-widgets/base",
            "_view_module_version": "1.2.0",
            "_view_name": "LayoutView",
            "align_content": null,
            "align_items": null,
            "align_self": null,
            "border": null,
            "bottom": null,
            "display": null,
            "flex": null,
            "flex_flow": null,
            "grid_area": null,
            "grid_auto_columns": null,
            "grid_auto_flow": null,
            "grid_auto_rows": null,
            "grid_column": null,
            "grid_gap": null,
            "grid_row": null,
            "grid_template_areas": null,
            "grid_template_columns": null,
            "grid_template_rows": null,
            "height": null,
            "justify_content": null,
            "justify_items": null,
            "left": null,
            "margin": null,
            "max_height": null,
            "max_width": null,
            "min_height": null,
            "min_width": null,
            "object_fit": null,
            "object_position": null,
            "order": null,
            "overflow": null,
            "overflow_x": null,
            "overflow_y": null,
            "padding": null,
            "right": null,
            "top": null,
            "visibility": null,
            "width": null
          }
        },
        "04567dc0ee854a428989f0a2a44faf5c": {
          "model_module": "@jupyter-widgets/controls",
          "model_name": "DescriptionStyleModel",
          "model_module_version": "1.5.0",
          "state": {
            "_model_module": "@jupyter-widgets/controls",
            "_model_module_version": "1.5.0",
            "_model_name": "DescriptionStyleModel",
            "_view_count": null,
            "_view_module": "@jupyter-widgets/base",
            "_view_module_version": "1.2.0",
            "_view_name": "StyleView",
            "description_width": ""
          }
        },
        "6c99b32473424e4f83655f008a4faf77": {
          "model_module": "@jupyter-widgets/controls",
          "model_name": "HBoxModel",
          "model_module_version": "1.5.0",
          "state": {
            "_dom_classes": [],
            "_model_module": "@jupyter-widgets/controls",
            "_model_module_version": "1.5.0",
            "_model_name": "HBoxModel",
            "_view_count": null,
            "_view_module": "@jupyter-widgets/controls",
            "_view_module_version": "1.5.0",
            "_view_name": "HBoxView",
            "box_style": "",
            "children": [
              "IPY_MODEL_23667d9688914179b42d96ded487fb61",
              "IPY_MODEL_386941800d3541798d78f6d249bdb1e9",
              "IPY_MODEL_62d77730cdf343fcab1c09965b27e7e4"
            ],
            "layout": "IPY_MODEL_b29d02a4e3944b61bf19e32d7fce9367"
          }
        },
        "23667d9688914179b42d96ded487fb61": {
          "model_module": "@jupyter-widgets/controls",
          "model_name": "HTMLModel",
          "model_module_version": "1.5.0",
          "state": {
            "_dom_classes": [],
            "_model_module": "@jupyter-widgets/controls",
            "_model_module_version": "1.5.0",
            "_model_name": "HTMLModel",
            "_view_count": null,
            "_view_module": "@jupyter-widgets/controls",
            "_view_module_version": "1.5.0",
            "_view_name": "HTMLView",
            "description": "",
            "description_tooltip": null,
            "layout": "IPY_MODEL_f9d5380e470a4848bc644014bada9858",
            "placeholder": "​",
            "style": "IPY_MODEL_f365b2a1d959406e944849effb9910c7",
            "value": ""
          }
        },
        "386941800d3541798d78f6d249bdb1e9": {
          "model_module": "@jupyter-widgets/controls",
          "model_name": "FloatProgressModel",
          "model_module_version": "1.5.0",
          "state": {
            "_dom_classes": [],
            "_model_module": "@jupyter-widgets/controls",
            "_model_module_version": "1.5.0",
            "_model_name": "FloatProgressModel",
            "_view_count": null,
            "_view_module": "@jupyter-widgets/controls",
            "_view_module_version": "1.5.0",
            "_view_name": "ProgressView",
            "bar_style": "success",
            "description": "",
            "description_tooltip": null,
            "layout": "IPY_MODEL_168089fa45a64f25894bd5e47e3f7c3e",
            "max": 12238,
            "min": 0,
            "orientation": "horizontal",
            "style": "IPY_MODEL_0cd0955fdbbf48198c902a8b9c7c37a0",
            "value": 12238
          }
        },
        "62d77730cdf343fcab1c09965b27e7e4": {
          "model_module": "@jupyter-widgets/controls",
          "model_name": "HTMLModel",
          "model_module_version": "1.5.0",
          "state": {
            "_dom_classes": [],
            "_model_module": "@jupyter-widgets/controls",
            "_model_module_version": "1.5.0",
            "_model_name": "HTMLModel",
            "_view_count": null,
            "_view_module": "@jupyter-widgets/controls",
            "_view_module_version": "1.5.0",
            "_view_name": "HTMLView",
            "description": "",
            "description_tooltip": null,
            "layout": "IPY_MODEL_bc9af31f63a44d46b5ad50f079653b19",
            "placeholder": "​",
            "style": "IPY_MODEL_be72a61c379a4852a7d8274ed17c6122",
            "value": " 12239/? [07:38&lt;00:00, 27.50it/s]"
          }
        },
        "b29d02a4e3944b61bf19e32d7fce9367": {
          "model_module": "@jupyter-widgets/base",
          "model_name": "LayoutModel",
          "model_module_version": "1.2.0",
          "state": {
            "_model_module": "@jupyter-widgets/base",
            "_model_module_version": "1.2.0",
            "_model_name": "LayoutModel",
            "_view_count": null,
            "_view_module": "@jupyter-widgets/base",
            "_view_module_version": "1.2.0",
            "_view_name": "LayoutView",
            "align_content": null,
            "align_items": null,
            "align_self": null,
            "border": null,
            "bottom": null,
            "display": null,
            "flex": null,
            "flex_flow": null,
            "grid_area": null,
            "grid_auto_columns": null,
            "grid_auto_flow": null,
            "grid_auto_rows": null,
            "grid_column": null,
            "grid_gap": null,
            "grid_row": null,
            "grid_template_areas": null,
            "grid_template_columns": null,
            "grid_template_rows": null,
            "height": null,
            "justify_content": null,
            "justify_items": null,
            "left": null,
            "margin": null,
            "max_height": null,
            "max_width": null,
            "min_height": null,
            "min_width": null,
            "object_fit": null,
            "object_position": null,
            "order": null,
            "overflow": null,
            "overflow_x": null,
            "overflow_y": null,
            "padding": null,
            "right": null,
            "top": null,
            "visibility": null,
            "width": null
          }
        },
        "f9d5380e470a4848bc644014bada9858": {
          "model_module": "@jupyter-widgets/base",
          "model_name": "LayoutModel",
          "model_module_version": "1.2.0",
          "state": {
            "_model_module": "@jupyter-widgets/base",
            "_model_module_version": "1.2.0",
            "_model_name": "LayoutModel",
            "_view_count": null,
            "_view_module": "@jupyter-widgets/base",
            "_view_module_version": "1.2.0",
            "_view_name": "LayoutView",
            "align_content": null,
            "align_items": null,
            "align_self": null,
            "border": null,
            "bottom": null,
            "display": null,
            "flex": null,
            "flex_flow": null,
            "grid_area": null,
            "grid_auto_columns": null,
            "grid_auto_flow": null,
            "grid_auto_rows": null,
            "grid_column": null,
            "grid_gap": null,
            "grid_row": null,
            "grid_template_areas": null,
            "grid_template_columns": null,
            "grid_template_rows": null,
            "height": null,
            "justify_content": null,
            "justify_items": null,
            "left": null,
            "margin": null,
            "max_height": null,
            "max_width": null,
            "min_height": null,
            "min_width": null,
            "object_fit": null,
            "object_position": null,
            "order": null,
            "overflow": null,
            "overflow_x": null,
            "overflow_y": null,
            "padding": null,
            "right": null,
            "top": null,
            "visibility": null,
            "width": null
          }
        },
        "f365b2a1d959406e944849effb9910c7": {
          "model_module": "@jupyter-widgets/controls",
          "model_name": "DescriptionStyleModel",
          "model_module_version": "1.5.0",
          "state": {
            "_model_module": "@jupyter-widgets/controls",
            "_model_module_version": "1.5.0",
            "_model_name": "DescriptionStyleModel",
            "_view_count": null,
            "_view_module": "@jupyter-widgets/base",
            "_view_module_version": "1.2.0",
            "_view_name": "StyleView",
            "description_width": ""
          }
        },
        "168089fa45a64f25894bd5e47e3f7c3e": {
          "model_module": "@jupyter-widgets/base",
          "model_name": "LayoutModel",
          "model_module_version": "1.2.0",
          "state": {
            "_model_module": "@jupyter-widgets/base",
            "_model_module_version": "1.2.0",
            "_model_name": "LayoutModel",
            "_view_count": null,
            "_view_module": "@jupyter-widgets/base",
            "_view_module_version": "1.2.0",
            "_view_name": "LayoutView",
            "align_content": null,
            "align_items": null,
            "align_self": null,
            "border": null,
            "bottom": null,
            "display": null,
            "flex": null,
            "flex_flow": null,
            "grid_area": null,
            "grid_auto_columns": null,
            "grid_auto_flow": null,
            "grid_auto_rows": null,
            "grid_column": null,
            "grid_gap": null,
            "grid_row": null,
            "grid_template_areas": null,
            "grid_template_columns": null,
            "grid_template_rows": null,
            "height": null,
            "justify_content": null,
            "justify_items": null,
            "left": null,
            "margin": null,
            "max_height": null,
            "max_width": null,
            "min_height": null,
            "min_width": null,
            "object_fit": null,
            "object_position": null,
            "order": null,
            "overflow": null,
            "overflow_x": null,
            "overflow_y": null,
            "padding": null,
            "right": null,
            "top": null,
            "visibility": null,
            "width": null
          }
        },
        "0cd0955fdbbf48198c902a8b9c7c37a0": {
          "model_module": "@jupyter-widgets/controls",
          "model_name": "ProgressStyleModel",
          "model_module_version": "1.5.0",
          "state": {
            "_model_module": "@jupyter-widgets/controls",
            "_model_module_version": "1.5.0",
            "_model_name": "ProgressStyleModel",
            "_view_count": null,
            "_view_module": "@jupyter-widgets/base",
            "_view_module_version": "1.2.0",
            "_view_name": "StyleView",
            "bar_color": null,
            "description_width": ""
          }
        },
        "bc9af31f63a44d46b5ad50f079653b19": {
          "model_module": "@jupyter-widgets/base",
          "model_name": "LayoutModel",
          "model_module_version": "1.2.0",
          "state": {
            "_model_module": "@jupyter-widgets/base",
            "_model_module_version": "1.2.0",
            "_model_name": "LayoutModel",
            "_view_count": null,
            "_view_module": "@jupyter-widgets/base",
            "_view_module_version": "1.2.0",
            "_view_name": "LayoutView",
            "align_content": null,
            "align_items": null,
            "align_self": null,
            "border": null,
            "bottom": null,
            "display": null,
            "flex": null,
            "flex_flow": null,
            "grid_area": null,
            "grid_auto_columns": null,
            "grid_auto_flow": null,
            "grid_auto_rows": null,
            "grid_column": null,
            "grid_gap": null,
            "grid_row": null,
            "grid_template_areas": null,
            "grid_template_columns": null,
            "grid_template_rows": null,
            "height": null,
            "justify_content": null,
            "justify_items": null,
            "left": null,
            "margin": null,
            "max_height": null,
            "max_width": null,
            "min_height": null,
            "min_width": null,
            "object_fit": null,
            "object_position": null,
            "order": null,
            "overflow": null,
            "overflow_x": null,
            "overflow_y": null,
            "padding": null,
            "right": null,
            "top": null,
            "visibility": null,
            "width": null
          }
        },
        "be72a61c379a4852a7d8274ed17c6122": {
          "model_module": "@jupyter-widgets/controls",
          "model_name": "DescriptionStyleModel",
          "model_module_version": "1.5.0",
          "state": {
            "_model_module": "@jupyter-widgets/controls",
            "_model_module_version": "1.5.0",
            "_model_name": "DescriptionStyleModel",
            "_view_count": null,
            "_view_module": "@jupyter-widgets/base",
            "_view_module_version": "1.2.0",
            "_view_name": "StyleView",
            "description_width": ""
          }
        },
        "4ae95d07025546649d10600f5e4a877c": {
          "model_module": "@jupyter-widgets/controls",
          "model_name": "VBoxModel",
          "model_module_version": "1.5.0",
          "state": {
            "_dom_classes": [],
            "_model_module": "@jupyter-widgets/controls",
            "_model_module_version": "1.5.0",
            "_model_name": "VBoxModel",
            "_view_count": null,
            "_view_module": "@jupyter-widgets/controls",
            "_view_module_version": "1.5.0",
            "_view_name": "VBoxView",
            "box_style": "",
            "children": [
              "IPY_MODEL_4cab000da5ab427cbff4f7e04bf50aab",
              "IPY_MODEL_5aa54641b6494932b96600a113b032ca"
            ],
            "layout": "IPY_MODEL_8af1ef90cab049ee86fe81ee5fac83bd"
          }
        },
        "4cab000da5ab427cbff4f7e04bf50aab": {
          "model_module": "@jupyter-widgets/controls",
          "model_name": "LabelModel",
          "model_module_version": "1.5.0",
          "state": {
            "_dom_classes": [],
            "_model_module": "@jupyter-widgets/controls",
            "_model_module_version": "1.5.0",
            "_model_name": "LabelModel",
            "_view_count": null,
            "_view_module": "@jupyter-widgets/controls",
            "_view_module_version": "1.5.0",
            "_view_name": "LabelView",
            "description": "",
            "description_tooltip": null,
            "layout": "IPY_MODEL_facd9d602fdd4bb8ae8358b4be87a40c",
            "placeholder": "​",
            "style": "IPY_MODEL_e39aea37d2d54f83b83d31b73d9a051e",
            "value": "0.001 MB of 0.010 MB uploaded (0.000 MB deduped)\r"
          }
        },
        "5aa54641b6494932b96600a113b032ca": {
          "model_module": "@jupyter-widgets/controls",
          "model_name": "FloatProgressModel",
          "model_module_version": "1.5.0",
          "state": {
            "_dom_classes": [],
            "_model_module": "@jupyter-widgets/controls",
            "_model_module_version": "1.5.0",
            "_model_name": "FloatProgressModel",
            "_view_count": null,
            "_view_module": "@jupyter-widgets/controls",
            "_view_module_version": "1.5.0",
            "_view_name": "ProgressView",
            "bar_style": "",
            "description": "",
            "description_tooltip": null,
            "layout": "IPY_MODEL_253ef4eb439f44b1a9ca32c496336456",
            "max": 1,
            "min": 0,
            "orientation": "horizontal",
            "style": "IPY_MODEL_0214ec9169d747679487dbc0ec054196",
            "value": 0.11896959766976152
          }
        },
        "8af1ef90cab049ee86fe81ee5fac83bd": {
          "model_module": "@jupyter-widgets/base",
          "model_name": "LayoutModel",
          "model_module_version": "1.2.0",
          "state": {
            "_model_module": "@jupyter-widgets/base",
            "_model_module_version": "1.2.0",
            "_model_name": "LayoutModel",
            "_view_count": null,
            "_view_module": "@jupyter-widgets/base",
            "_view_module_version": "1.2.0",
            "_view_name": "LayoutView",
            "align_content": null,
            "align_items": null,
            "align_self": null,
            "border": null,
            "bottom": null,
            "display": null,
            "flex": null,
            "flex_flow": null,
            "grid_area": null,
            "grid_auto_columns": null,
            "grid_auto_flow": null,
            "grid_auto_rows": null,
            "grid_column": null,
            "grid_gap": null,
            "grid_row": null,
            "grid_template_areas": null,
            "grid_template_columns": null,
            "grid_template_rows": null,
            "height": null,
            "justify_content": null,
            "justify_items": null,
            "left": null,
            "margin": null,
            "max_height": null,
            "max_width": null,
            "min_height": null,
            "min_width": null,
            "object_fit": null,
            "object_position": null,
            "order": null,
            "overflow": null,
            "overflow_x": null,
            "overflow_y": null,
            "padding": null,
            "right": null,
            "top": null,
            "visibility": null,
            "width": null
          }
        },
        "facd9d602fdd4bb8ae8358b4be87a40c": {
          "model_module": "@jupyter-widgets/base",
          "model_name": "LayoutModel",
          "model_module_version": "1.2.0",
          "state": {
            "_model_module": "@jupyter-widgets/base",
            "_model_module_version": "1.2.0",
            "_model_name": "LayoutModel",
            "_view_count": null,
            "_view_module": "@jupyter-widgets/base",
            "_view_module_version": "1.2.0",
            "_view_name": "LayoutView",
            "align_content": null,
            "align_items": null,
            "align_self": null,
            "border": null,
            "bottom": null,
            "display": null,
            "flex": null,
            "flex_flow": null,
            "grid_area": null,
            "grid_auto_columns": null,
            "grid_auto_flow": null,
            "grid_auto_rows": null,
            "grid_column": null,
            "grid_gap": null,
            "grid_row": null,
            "grid_template_areas": null,
            "grid_template_columns": null,
            "grid_template_rows": null,
            "height": null,
            "justify_content": null,
            "justify_items": null,
            "left": null,
            "margin": null,
            "max_height": null,
            "max_width": null,
            "min_height": null,
            "min_width": null,
            "object_fit": null,
            "object_position": null,
            "order": null,
            "overflow": null,
            "overflow_x": null,
            "overflow_y": null,
            "padding": null,
            "right": null,
            "top": null,
            "visibility": null,
            "width": null
          }
        },
        "e39aea37d2d54f83b83d31b73d9a051e": {
          "model_module": "@jupyter-widgets/controls",
          "model_name": "DescriptionStyleModel",
          "model_module_version": "1.5.0",
          "state": {
            "_model_module": "@jupyter-widgets/controls",
            "_model_module_version": "1.5.0",
            "_model_name": "DescriptionStyleModel",
            "_view_count": null,
            "_view_module": "@jupyter-widgets/base",
            "_view_module_version": "1.2.0",
            "_view_name": "StyleView",
            "description_width": ""
          }
        },
        "253ef4eb439f44b1a9ca32c496336456": {
          "model_module": "@jupyter-widgets/base",
          "model_name": "LayoutModel",
          "model_module_version": "1.2.0",
          "state": {
            "_model_module": "@jupyter-widgets/base",
            "_model_module_version": "1.2.0",
            "_model_name": "LayoutModel",
            "_view_count": null,
            "_view_module": "@jupyter-widgets/base",
            "_view_module_version": "1.2.0",
            "_view_name": "LayoutView",
            "align_content": null,
            "align_items": null,
            "align_self": null,
            "border": null,
            "bottom": null,
            "display": null,
            "flex": null,
            "flex_flow": null,
            "grid_area": null,
            "grid_auto_columns": null,
            "grid_auto_flow": null,
            "grid_auto_rows": null,
            "grid_column": null,
            "grid_gap": null,
            "grid_row": null,
            "grid_template_areas": null,
            "grid_template_columns": null,
            "grid_template_rows": null,
            "height": null,
            "justify_content": null,
            "justify_items": null,
            "left": null,
            "margin": null,
            "max_height": null,
            "max_width": null,
            "min_height": null,
            "min_width": null,
            "object_fit": null,
            "object_position": null,
            "order": null,
            "overflow": null,
            "overflow_x": null,
            "overflow_y": null,
            "padding": null,
            "right": null,
            "top": null,
            "visibility": null,
            "width": null
          }
        },
        "0214ec9169d747679487dbc0ec054196": {
          "model_module": "@jupyter-widgets/controls",
          "model_name": "ProgressStyleModel",
          "model_module_version": "1.5.0",
          "state": {
            "_model_module": "@jupyter-widgets/controls",
            "_model_module_version": "1.5.0",
            "_model_name": "ProgressStyleModel",
            "_view_count": null,
            "_view_module": "@jupyter-widgets/base",
            "_view_module_version": "1.2.0",
            "_view_name": "StyleView",
            "bar_color": null,
            "description_width": ""
          }
        }
      }
    }
  },
  "cells": [
    {
      "cell_type": "markdown",
      "metadata": {
        "id": "view-in-github",
        "colab_type": "text"
      },
      "source": [
        "<a href=\"https://colab.research.google.com/github/Dimildizio/DS_course/blob/main/Neural_networks/NLP/Text_classification/Salary_Prediction_text_classification_Kaggle.ipynb\" target=\"_parent\"><img src=\"https://colab.research.google.com/assets/colab-badge.svg\" alt=\"Open In Colab\"/></a>"
      ]
    },
    {
      "cell_type": "markdown",
      "source": [
        "# Job Salary Prediction (NLP - text classification)\n",
        "\n",
        "\n",
        "https://www.kaggle.com/competitions/job-salary-prediction"
      ],
      "metadata": {
        "id": "VcCCh8wYdi6u"
      }
    },
    {
      "cell_type": "code",
      "source": [
        "%%capture\n",
        "!pip install wandb"
      ],
      "metadata": {
        "id": "03RmuPxy2isP"
      },
      "execution_count": 3,
      "outputs": []
    },
    {
      "cell_type": "code",
      "execution_count": 4,
      "metadata": {
        "id": "tOldRxk_dZS6"
      },
      "outputs": [],
      "source": [
        "import nltk\n",
        "import numpy as np\n",
        "import pandas as pd\n",
        "import matplotlib.pyplot as plt\n",
        "import os\n",
        "import seaborn as sns\n",
        "import torch\n",
        "import torch.nn as nn\n",
        "import torch.nn.functional as F\n",
        "import wandb\n",
        "\n",
        "from collections import Counter\n",
        "from IPython.display import display, Image\n",
        "from sklearn.model_selection import train_test_split\n",
        "from sklearn.feature_extraction import DictVectorizer\n",
        "from sklearn.feature_extraction.text import TfidfVectorizer\n",
        "from tqdm.auto import tqdm"
      ]
    },
    {
      "cell_type": "code",
      "source": [
        "%matplotlib inline"
      ],
      "metadata": {
        "id": "qRa5tpFP_dO-"
      },
      "execution_count": 5,
      "outputs": []
    },
    {
      "cell_type": "code",
      "source": [
        "WANDB_API = ''\n",
        "os.environ[\"WANDB_API_KEY\"] = WANDB_API\n",
        "WANDB_USER = 'dimildizio'\n",
        "WANDB_PROJECT = 'nlp-job-text-classifier'"
      ],
      "metadata": {
        "id": "ewLgFpOAMnnr"
      },
      "execution_count": 26,
      "outputs": []
    },
    {
      "cell_type": "code",
      "source": [
        "%%capture\n",
        "!wget https://ysda-seminars.s3.eu-central-1.amazonaws.com/Train_rev1.zip\n",
        "\n",
        "data = pd.read_csv(\"./Train_rev1.zip\", compression='zip', index_col=None)"
      ],
      "metadata": {
        "id": "nJpvn9pedz3M"
      },
      "execution_count": 7,
      "outputs": []
    },
    {
      "cell_type": "code",
      "source": [
        "data.shape"
      ],
      "metadata": {
        "colab": {
          "base_uri": "https://localhost:8080/"
        },
        "id": "RQAkxt3KeGld",
        "outputId": "2d52656e-109d-4726-d41e-d8d213ffccb9"
      },
      "execution_count": null,
      "outputs": [
        {
          "output_type": "execute_result",
          "data": {
            "text/plain": [
              "(244768, 12)"
            ]
          },
          "metadata": {},
          "execution_count": 29
        }
      ]
    },
    {
      "cell_type": "code",
      "source": [
        "data.info()"
      ],
      "metadata": {
        "colab": {
          "base_uri": "https://localhost:8080/"
        },
        "id": "4pAFvyuoeKEv",
        "outputId": "f1a62361-5220-4a00-deaf-3ffe70f5ed61"
      },
      "execution_count": null,
      "outputs": [
        {
          "output_type": "stream",
          "name": "stdout",
          "text": [
            "<class 'pandas.core.frame.DataFrame'>\n",
            "RangeIndex: 244768 entries, 0 to 244767\n",
            "Data columns (total 12 columns):\n",
            " #   Column              Non-Null Count   Dtype \n",
            "---  ------              --------------   ----- \n",
            " 0   Id                  244768 non-null  int64 \n",
            " 1   Title               244767 non-null  object\n",
            " 2   FullDescription     244768 non-null  object\n",
            " 3   LocationRaw         244768 non-null  object\n",
            " 4   LocationNormalized  244768 non-null  object\n",
            " 5   ContractType        65442 non-null   object\n",
            " 6   ContractTime        180863 non-null  object\n",
            " 7   Company             212338 non-null  object\n",
            " 8   Category            244768 non-null  object\n",
            " 9   SalaryRaw           244768 non-null  object\n",
            " 10  SalaryNormalized    244768 non-null  int64 \n",
            " 11  SourceName          244767 non-null  object\n",
            "dtypes: int64(2), object(10)\n",
            "memory usage: 22.4+ MB\n"
          ]
        }
      ]
    },
    {
      "cell_type": "code",
      "source": [
        "data.head()"
      ],
      "metadata": {
        "colab": {
          "base_uri": "https://localhost:8080/",
          "height": 441
        },
        "id": "O8Vux10FeIxk",
        "outputId": "c2e4e7de-c167-473a-e2b0-98d8ff44852b"
      },
      "execution_count": null,
      "outputs": [
        {
          "output_type": "execute_result",
          "data": {
            "text/plain": [
              "         Id                                              Title  \\\n",
              "0  12612628                        Engineering Systems Analyst   \n",
              "1  12612830                            Stress Engineer Glasgow   \n",
              "2  12612844                   Modelling and simulation analyst   \n",
              "3  12613049  Engineering Systems Analyst / Mathematical Mod...   \n",
              "4  12613647         Pioneer, Miser Engineering Systems Analyst   \n",
              "\n",
              "                                     FullDescription  \\\n",
              "0  Engineering Systems Analyst Dorking Surrey Sal...   \n",
              "1  Stress Engineer Glasgow Salary **** to **** We...   \n",
              "2  Mathematical Modeller / Simulation Analyst / O...   \n",
              "3  Engineering Systems Analyst / Mathematical Mod...   \n",
              "4  Pioneer, Miser  Engineering Systems Analyst Do...   \n",
              "\n",
              "                         LocationRaw LocationNormalized ContractType  \\\n",
              "0            Dorking, Surrey, Surrey            Dorking          NaN   \n",
              "1        Glasgow, Scotland, Scotland            Glasgow          NaN   \n",
              "2  Hampshire, South East, South East          Hampshire          NaN   \n",
              "3     Surrey, South East, South East             Surrey          NaN   \n",
              "4     Surrey, South East, South East             Surrey          NaN   \n",
              "\n",
              "  ContractTime                       Company          Category  \\\n",
              "0    permanent  Gregory Martin International  Engineering Jobs   \n",
              "1    permanent  Gregory Martin International  Engineering Jobs   \n",
              "2    permanent  Gregory Martin International  Engineering Jobs   \n",
              "3    permanent  Gregory Martin International  Engineering Jobs   \n",
              "4    permanent  Gregory Martin International  Engineering Jobs   \n",
              "\n",
              "                                SalaryRaw  SalaryNormalized        SourceName  \n",
              "0              20000 - 30000/annum 20-30K             25000  cv-library.co.uk  \n",
              "1              25000 - 35000/annum 25-35K             30000  cv-library.co.uk  \n",
              "2              20000 - 40000/annum 20-40K             30000  cv-library.co.uk  \n",
              "3  25000 - 30000/annum 25K-30K negotiable             27500  cv-library.co.uk  \n",
              "4              20000 - 30000/annum 20-30K             25000  cv-library.co.uk  "
            ],
            "text/html": [
              "\n",
              "\n",
              "  <div id=\"df-85aecf01-b179-4b38-8b8b-efaedad48e3e\">\n",
              "    <div class=\"colab-df-container\">\n",
              "      <div>\n",
              "<style scoped>\n",
              "    .dataframe tbody tr th:only-of-type {\n",
              "        vertical-align: middle;\n",
              "    }\n",
              "\n",
              "    .dataframe tbody tr th {\n",
              "        vertical-align: top;\n",
              "    }\n",
              "\n",
              "    .dataframe thead th {\n",
              "        text-align: right;\n",
              "    }\n",
              "</style>\n",
              "<table border=\"1\" class=\"dataframe\">\n",
              "  <thead>\n",
              "    <tr style=\"text-align: right;\">\n",
              "      <th></th>\n",
              "      <th>Id</th>\n",
              "      <th>Title</th>\n",
              "      <th>FullDescription</th>\n",
              "      <th>LocationRaw</th>\n",
              "      <th>LocationNormalized</th>\n",
              "      <th>ContractType</th>\n",
              "      <th>ContractTime</th>\n",
              "      <th>Company</th>\n",
              "      <th>Category</th>\n",
              "      <th>SalaryRaw</th>\n",
              "      <th>SalaryNormalized</th>\n",
              "      <th>SourceName</th>\n",
              "    </tr>\n",
              "  </thead>\n",
              "  <tbody>\n",
              "    <tr>\n",
              "      <th>0</th>\n",
              "      <td>12612628</td>\n",
              "      <td>Engineering Systems Analyst</td>\n",
              "      <td>Engineering Systems Analyst Dorking Surrey Sal...</td>\n",
              "      <td>Dorking, Surrey, Surrey</td>\n",
              "      <td>Dorking</td>\n",
              "      <td>NaN</td>\n",
              "      <td>permanent</td>\n",
              "      <td>Gregory Martin International</td>\n",
              "      <td>Engineering Jobs</td>\n",
              "      <td>20000 - 30000/annum 20-30K</td>\n",
              "      <td>25000</td>\n",
              "      <td>cv-library.co.uk</td>\n",
              "    </tr>\n",
              "    <tr>\n",
              "      <th>1</th>\n",
              "      <td>12612830</td>\n",
              "      <td>Stress Engineer Glasgow</td>\n",
              "      <td>Stress Engineer Glasgow Salary **** to **** We...</td>\n",
              "      <td>Glasgow, Scotland, Scotland</td>\n",
              "      <td>Glasgow</td>\n",
              "      <td>NaN</td>\n",
              "      <td>permanent</td>\n",
              "      <td>Gregory Martin International</td>\n",
              "      <td>Engineering Jobs</td>\n",
              "      <td>25000 - 35000/annum 25-35K</td>\n",
              "      <td>30000</td>\n",
              "      <td>cv-library.co.uk</td>\n",
              "    </tr>\n",
              "    <tr>\n",
              "      <th>2</th>\n",
              "      <td>12612844</td>\n",
              "      <td>Modelling and simulation analyst</td>\n",
              "      <td>Mathematical Modeller / Simulation Analyst / O...</td>\n",
              "      <td>Hampshire, South East, South East</td>\n",
              "      <td>Hampshire</td>\n",
              "      <td>NaN</td>\n",
              "      <td>permanent</td>\n",
              "      <td>Gregory Martin International</td>\n",
              "      <td>Engineering Jobs</td>\n",
              "      <td>20000 - 40000/annum 20-40K</td>\n",
              "      <td>30000</td>\n",
              "      <td>cv-library.co.uk</td>\n",
              "    </tr>\n",
              "    <tr>\n",
              "      <th>3</th>\n",
              "      <td>12613049</td>\n",
              "      <td>Engineering Systems Analyst / Mathematical Mod...</td>\n",
              "      <td>Engineering Systems Analyst / Mathematical Mod...</td>\n",
              "      <td>Surrey, South East, South East</td>\n",
              "      <td>Surrey</td>\n",
              "      <td>NaN</td>\n",
              "      <td>permanent</td>\n",
              "      <td>Gregory Martin International</td>\n",
              "      <td>Engineering Jobs</td>\n",
              "      <td>25000 - 30000/annum 25K-30K negotiable</td>\n",
              "      <td>27500</td>\n",
              "      <td>cv-library.co.uk</td>\n",
              "    </tr>\n",
              "    <tr>\n",
              "      <th>4</th>\n",
              "      <td>12613647</td>\n",
              "      <td>Pioneer, Miser Engineering Systems Analyst</td>\n",
              "      <td>Pioneer, Miser  Engineering Systems Analyst Do...</td>\n",
              "      <td>Surrey, South East, South East</td>\n",
              "      <td>Surrey</td>\n",
              "      <td>NaN</td>\n",
              "      <td>permanent</td>\n",
              "      <td>Gregory Martin International</td>\n",
              "      <td>Engineering Jobs</td>\n",
              "      <td>20000 - 30000/annum 20-30K</td>\n",
              "      <td>25000</td>\n",
              "      <td>cv-library.co.uk</td>\n",
              "    </tr>\n",
              "  </tbody>\n",
              "</table>\n",
              "</div>\n",
              "      <button class=\"colab-df-convert\" onclick=\"convertToInteractive('df-85aecf01-b179-4b38-8b8b-efaedad48e3e')\"\n",
              "              title=\"Convert this dataframe to an interactive table.\"\n",
              "              style=\"display:none;\">\n",
              "\n",
              "  <svg xmlns=\"http://www.w3.org/2000/svg\" height=\"24px\"viewBox=\"0 0 24 24\"\n",
              "       width=\"24px\">\n",
              "    <path d=\"M0 0h24v24H0V0z\" fill=\"none\"/>\n",
              "    <path d=\"M18.56 5.44l.94 2.06.94-2.06 2.06-.94-2.06-.94-.94-2.06-.94 2.06-2.06.94zm-11 1L8.5 8.5l.94-2.06 2.06-.94-2.06-.94L8.5 2.5l-.94 2.06-2.06.94zm10 10l.94 2.06.94-2.06 2.06-.94-2.06-.94-.94-2.06-.94 2.06-2.06.94z\"/><path d=\"M17.41 7.96l-1.37-1.37c-.4-.4-.92-.59-1.43-.59-.52 0-1.04.2-1.43.59L10.3 9.45l-7.72 7.72c-.78.78-.78 2.05 0 2.83L4 21.41c.39.39.9.59 1.41.59.51 0 1.02-.2 1.41-.59l7.78-7.78 2.81-2.81c.8-.78.8-2.07 0-2.86zM5.41 20L4 18.59l7.72-7.72 1.47 1.35L5.41 20z\"/>\n",
              "  </svg>\n",
              "      </button>\n",
              "\n",
              "\n",
              "\n",
              "    <div id=\"df-b6c9c4fc-4175-4685-aa86-04b95736dc9b\">\n",
              "      <button class=\"colab-df-quickchart\" onclick=\"quickchart('df-b6c9c4fc-4175-4685-aa86-04b95736dc9b')\"\n",
              "              title=\"Suggest charts.\"\n",
              "              style=\"display:none;\">\n",
              "\n",
              "<svg xmlns=\"http://www.w3.org/2000/svg\" height=\"24px\"viewBox=\"0 0 24 24\"\n",
              "     width=\"24px\">\n",
              "    <g>\n",
              "        <path d=\"M19 3H5c-1.1 0-2 .9-2 2v14c0 1.1.9 2 2 2h14c1.1 0 2-.9 2-2V5c0-1.1-.9-2-2-2zM9 17H7v-7h2v7zm4 0h-2V7h2v10zm4 0h-2v-4h2v4z\"/>\n",
              "    </g>\n",
              "</svg>\n",
              "      </button>\n",
              "    </div>\n",
              "\n",
              "<style>\n",
              "  .colab-df-quickchart {\n",
              "    background-color: #E8F0FE;\n",
              "    border: none;\n",
              "    border-radius: 50%;\n",
              "    cursor: pointer;\n",
              "    display: none;\n",
              "    fill: #1967D2;\n",
              "    height: 32px;\n",
              "    padding: 0 0 0 0;\n",
              "    width: 32px;\n",
              "  }\n",
              "\n",
              "  .colab-df-quickchart:hover {\n",
              "    background-color: #E2EBFA;\n",
              "    box-shadow: 0px 1px 2px rgba(60, 64, 67, 0.3), 0px 1px 3px 1px rgba(60, 64, 67, 0.15);\n",
              "    fill: #174EA6;\n",
              "  }\n",
              "\n",
              "  [theme=dark] .colab-df-quickchart {\n",
              "    background-color: #3B4455;\n",
              "    fill: #D2E3FC;\n",
              "  }\n",
              "\n",
              "  [theme=dark] .colab-df-quickchart:hover {\n",
              "    background-color: #434B5C;\n",
              "    box-shadow: 0px 1px 3px 1px rgba(0, 0, 0, 0.15);\n",
              "    filter: drop-shadow(0px 1px 2px rgba(0, 0, 0, 0.3));\n",
              "    fill: #FFFFFF;\n",
              "  }\n",
              "</style>\n",
              "\n",
              "    <script>\n",
              "      async function quickchart(key) {\n",
              "        const containerElement = document.querySelector('#' + key);\n",
              "        const charts = await google.colab.kernel.invokeFunction(\n",
              "            'suggestCharts', [key], {});\n",
              "      }\n",
              "    </script>\n",
              "\n",
              "      <script>\n",
              "\n",
              "function displayQuickchartButton(domScope) {\n",
              "  let quickchartButtonEl =\n",
              "    domScope.querySelector('#df-b6c9c4fc-4175-4685-aa86-04b95736dc9b button.colab-df-quickchart');\n",
              "  quickchartButtonEl.style.display =\n",
              "    google.colab.kernel.accessAllowed ? 'block' : 'none';\n",
              "}\n",
              "\n",
              "        displayQuickchartButton(document);\n",
              "      </script>\n",
              "      <style>\n",
              "    .colab-df-container {\n",
              "      display:flex;\n",
              "      flex-wrap:wrap;\n",
              "      gap: 12px;\n",
              "    }\n",
              "\n",
              "    .colab-df-convert {\n",
              "      background-color: #E8F0FE;\n",
              "      border: none;\n",
              "      border-radius: 50%;\n",
              "      cursor: pointer;\n",
              "      display: none;\n",
              "      fill: #1967D2;\n",
              "      height: 32px;\n",
              "      padding: 0 0 0 0;\n",
              "      width: 32px;\n",
              "    }\n",
              "\n",
              "    .colab-df-convert:hover {\n",
              "      background-color: #E2EBFA;\n",
              "      box-shadow: 0px 1px 2px rgba(60, 64, 67, 0.3), 0px 1px 3px 1px rgba(60, 64, 67, 0.15);\n",
              "      fill: #174EA6;\n",
              "    }\n",
              "\n",
              "    [theme=dark] .colab-df-convert {\n",
              "      background-color: #3B4455;\n",
              "      fill: #D2E3FC;\n",
              "    }\n",
              "\n",
              "    [theme=dark] .colab-df-convert:hover {\n",
              "      background-color: #434B5C;\n",
              "      box-shadow: 0px 1px 3px 1px rgba(0, 0, 0, 0.15);\n",
              "      filter: drop-shadow(0px 1px 2px rgba(0, 0, 0, 0.3));\n",
              "      fill: #FFFFFF;\n",
              "    }\n",
              "  </style>\n",
              "\n",
              "      <script>\n",
              "        const buttonEl =\n",
              "          document.querySelector('#df-85aecf01-b179-4b38-8b8b-efaedad48e3e button.colab-df-convert');\n",
              "        buttonEl.style.display =\n",
              "          google.colab.kernel.accessAllowed ? 'block' : 'none';\n",
              "\n",
              "        async function convertToInteractive(key) {\n",
              "          const element = document.querySelector('#df-85aecf01-b179-4b38-8b8b-efaedad48e3e');\n",
              "          const dataTable =\n",
              "            await google.colab.kernel.invokeFunction('convertToInteractive',\n",
              "                                                     [key], {});\n",
              "          if (!dataTable) return;\n",
              "\n",
              "          const docLinkHtml = 'Like what you see? Visit the ' +\n",
              "            '<a target=\"_blank\" href=https://colab.research.google.com/notebooks/data_table.ipynb>data table notebook</a>'\n",
              "            + ' to learn more about interactive tables.';\n",
              "          element.innerHTML = '';\n",
              "          dataTable['output_type'] = 'display_data';\n",
              "          await google.colab.output.renderOutput(dataTable, element);\n",
              "          const docLink = document.createElement('div');\n",
              "          docLink.innerHTML = docLinkHtml;\n",
              "          element.appendChild(docLink);\n",
              "        }\n",
              "      </script>\n",
              "    </div>\n",
              "  </div>\n"
            ]
          },
          "metadata": {},
          "execution_count": 31
        }
      ]
    },
    {
      "cell_type": "markdown",
      "source": [
        "### Drop unnecessary data"
      ],
      "metadata": {
        "id": "6zxuUOGLhZgY"
      }
    },
    {
      "cell_type": "code",
      "source": [
        "df = data.drop(['Id', 'LocationRaw', 'SalaryRaw', 'SourceName', 'SalaryNormalized'], axis=1)\n",
        "df = df.rename(columns={'LocationNormalized':'Location'})"
      ],
      "metadata": {
        "id": "2Hiv-MstebJM"
      },
      "execution_count": 7,
      "outputs": []
    },
    {
      "cell_type": "markdown",
      "source": [
        "### Create target column with log of salary to mtigate a huge salary gap which is a result of social inequality. That would help is we want to minimize MSE."
      ],
      "metadata": {
        "id": "aElcfG7phfBo"
      }
    },
    {
      "cell_type": "code",
      "source": [
        "df['SalaryLog'] = np.log1p(data['SalaryNormalized']).astype('float32')"
      ],
      "metadata": {
        "id": "ImMzaRTGhTC0"
      },
      "execution_count": 8,
      "outputs": []
    },
    {
      "cell_type": "code",
      "source": [
        "df.nunique()"
      ],
      "metadata": {
        "colab": {
          "base_uri": "https://localhost:8080/"
        },
        "id": "DFK04puGV5k_",
        "outputId": "cbea8de0-815c-4977-bb82-8b19ac762fca"
      },
      "execution_count": null,
      "outputs": [
        {
          "output_type": "execute_result",
          "data": {
            "text/plain": [
              "Title              135435\n",
              "FullDescription    242138\n",
              "Location             2732\n",
              "ContractType            2\n",
              "ContractTime            2\n",
              "Company             20812\n",
              "Category               29\n",
              "SalaryLog            8454\n",
              "dtype: int64"
            ]
          },
          "metadata": {},
          "execution_count": 34
        }
      ]
    },
    {
      "cell_type": "markdown",
      "source": [
        "### Fill empty values\n",
        "\n",
        "(better do that before converting object to category)"
      ],
      "metadata": {
        "id": "rG7NMycviOc_"
      }
    },
    {
      "cell_type": "code",
      "source": [
        "sns.heatmap(df.isna(), cmap='viridis', yticklabels=False, cbar=False)"
      ],
      "metadata": {
        "colab": {
          "base_uri": "https://localhost:8080/",
          "height": 536
        },
        "id": "zWfUnHAmRHRU",
        "outputId": "723d1cfb-865a-40a7-c98d-2c1013b95743"
      },
      "execution_count": null,
      "outputs": [
        {
          "output_type": "execute_result",
          "data": {
            "text/plain": [
              "<Axes: >"
            ]
          },
          "metadata": {},
          "execution_count": 35
        },
        {
          "output_type": "display_data",
          "data": {
            "text/plain": [
              "<Figure size 640x480 with 1 Axes>"
            ],
            "image/png": "[encoded data removed]"
          },
          "metadata": {}
        }
      ]
    },
    {
      "cell_type": "code",
      "source": [
        "for col in ['ContractType', 'ContractTime', 'Company', 'Title']:\n",
        "  print(f\"{round(df[col].isna().sum() / df[col].shape[0] *100, 4)}% of {col} are NaNs\")"
      ],
      "metadata": {
        "colab": {
          "base_uri": "https://localhost:8080/"
        },
        "id": "5jnBGlczUYyD",
        "outputId": "257c38de-11de-4921-a2e0-c8c6ca59defe"
      },
      "execution_count": null,
      "outputs": [
        {
          "output_type": "stream",
          "name": "stdout",
          "text": [
            "73.2637% of ContractType are NaNs\n",
            "26.1084% of ContractTime are NaNs\n",
            "13.2493% of Company are NaNs\n",
            "0.0004% of Title are NaNs\n"
          ]
        }
      ]
    },
    {
      "cell_type": "code",
      "source": [
        "df[df['Title'].isna()]"
      ],
      "metadata": {
        "colab": {
          "base_uri": "https://localhost:8080/",
          "height": 81
        },
        "id": "ZPkp2lbhXatQ",
        "outputId": "23719bf8-75b1-4da0-9c85-80abea3eb75e"
      },
      "execution_count": null,
      "outputs": [
        {
          "output_type": "execute_result",
          "data": {
            "text/plain": [
              "     Title                                    FullDescription   Location  \\\n",
              "1588   NaN  Quality Improvement Manager North West England...  Liverpool   \n",
              "\n",
              "     ContractType ContractTime Company                   Category  SalaryLog  \n",
              "1588    full_time          NaN     NaN  Healthcare & Nursing Jobs  10.657283  "
            ],
            "text/html": [
              "\n",
              "\n",
              "  <div id=\"df-c0c159bd-350c-44c6-8193-27ebab0bcd94\">\n",
              "    <div class=\"colab-df-container\">\n",
              "      <div>\n",
              "<style scoped>\n",
              "    .dataframe tbody tr th:only-of-type {\n",
              "        vertical-align: middle;\n",
              "    }\n",
              "\n",
              "    .dataframe tbody tr th {\n",
              "        vertical-align: top;\n",
              "    }\n",
              "\n",
              "    .dataframe thead th {\n",
              "        text-align: right;\n",
              "    }\n",
              "</style>\n",
              "<table border=\"1\" class=\"dataframe\">\n",
              "  <thead>\n",
              "    <tr style=\"text-align: right;\">\n",
              "      <th></th>\n",
              "      <th>Title</th>\n",
              "      <th>FullDescription</th>\n",
              "      <th>Location</th>\n",
              "      <th>ContractType</th>\n",
              "      <th>ContractTime</th>\n",
              "      <th>Company</th>\n",
              "      <th>Category</th>\n",
              "      <th>SalaryLog</th>\n",
              "    </tr>\n",
              "  </thead>\n",
              "  <tbody>\n",
              "    <tr>\n",
              "      <th>1588</th>\n",
              "      <td>NaN</td>\n",
              "      <td>Quality Improvement Manager North West England...</td>\n",
              "      <td>Liverpool</td>\n",
              "      <td>full_time</td>\n",
              "      <td>NaN</td>\n",
              "      <td>NaN</td>\n",
              "      <td>Healthcare &amp; Nursing Jobs</td>\n",
              "      <td>10.657283</td>\n",
              "    </tr>\n",
              "  </tbody>\n",
              "</table>\n",
              "</div>\n",
              "      <button class=\"colab-df-convert\" onclick=\"convertToInteractive('df-c0c159bd-350c-44c6-8193-27ebab0bcd94')\"\n",
              "              title=\"Convert this dataframe to an interactive table.\"\n",
              "              style=\"display:none;\">\n",
              "\n",
              "  <svg xmlns=\"http://www.w3.org/2000/svg\" height=\"24px\"viewBox=\"0 0 24 24\"\n",
              "       width=\"24px\">\n",
              "    <path d=\"M0 0h24v24H0V0z\" fill=\"none\"/>\n",
              "    <path d=\"M18.56 5.44l.94 2.06.94-2.06 2.06-.94-2.06-.94-.94-2.06-.94 2.06-2.06.94zm-11 1L8.5 8.5l.94-2.06 2.06-.94-2.06-.94L8.5 2.5l-.94 2.06-2.06.94zm10 10l.94 2.06.94-2.06 2.06-.94-2.06-.94-.94-2.06-.94 2.06-2.06.94z\"/><path d=\"M17.41 7.96l-1.37-1.37c-.4-.4-.92-.59-1.43-.59-.52 0-1.04.2-1.43.59L10.3 9.45l-7.72 7.72c-.78.78-.78 2.05 0 2.83L4 21.41c.39.39.9.59 1.41.59.51 0 1.02-.2 1.41-.59l7.78-7.78 2.81-2.81c.8-.78.8-2.07 0-2.86zM5.41 20L4 18.59l7.72-7.72 1.47 1.35L5.41 20z\"/>\n",
              "  </svg>\n",
              "      </button>\n",
              "\n",
              "\n",
              "\n",
              "    <div id=\"df-a08b0281-b2dd-4729-8ba6-adc2a250df41\">\n",
              "      <button class=\"colab-df-quickchart\" onclick=\"quickchart('df-a08b0281-b2dd-4729-8ba6-adc2a250df41')\"\n",
              "              title=\"Suggest charts.\"\n",
              "              style=\"display:none;\">\n",
              "\n",
              "<svg xmlns=\"http://www.w3.org/2000/svg\" height=\"24px\"viewBox=\"0 0 24 24\"\n",
              "     width=\"24px\">\n",
              "    <g>\n",
              "        <path d=\"M19 3H5c-1.1 0-2 .9-2 2v14c0 1.1.9 2 2 2h14c1.1 0 2-.9 2-2V5c0-1.1-.9-2-2-2zM9 17H7v-7h2v7zm4 0h-2V7h2v10zm4 0h-2v-4h2v4z\"/>\n",
              "    </g>\n",
              "</svg>\n",
              "      </button>\n",
              "    </div>\n",
              "\n",
              "<style>\n",
              "  .colab-df-quickchart {\n",
              "    background-color: #E8F0FE;\n",
              "    border: none;\n",
              "    border-radius: 50%;\n",
              "    cursor: pointer;\n",
              "    display: none;\n",
              "    fill: #1967D2;\n",
              "    height: 32px;\n",
              "    padding: 0 0 0 0;\n",
              "    width: 32px;\n",
              "  }\n",
              "\n",
              "  .colab-df-quickchart:hover {\n",
              "    background-color: #E2EBFA;\n",
              "    box-shadow: 0px 1px 2px rgba(60, 64, 67, 0.3), 0px 1px 3px 1px rgba(60, 64, 67, 0.15);\n",
              "    fill: #174EA6;\n",
              "  }\n",
              "\n",
              "  [theme=dark] .colab-df-quickchart {\n",
              "    background-color: #3B4455;\n",
              "    fill: #D2E3FC;\n",
              "  }\n",
              "\n",
              "  [theme=dark] .colab-df-quickchart:hover {\n",
              "    background-color: #434B5C;\n",
              "    box-shadow: 0px 1px 3px 1px rgba(0, 0, 0, 0.15);\n",
              "    filter: drop-shadow(0px 1px 2px rgba(0, 0, 0, 0.3));\n",
              "    fill: #FFFFFF;\n",
              "  }\n",
              "</style>\n",
              "\n",
              "    <script>\n",
              "      async function quickchart(key) {\n",
              "        const containerElement = document.querySelector('#' + key);\n",
              "        const charts = await google.colab.kernel.invokeFunction(\n",
              "            'suggestCharts', [key], {});\n",
              "      }\n",
              "    </script>\n",
              "\n",
              "      <script>\n",
              "\n",
              "function displayQuickchartButton(domScope) {\n",
              "  let quickchartButtonEl =\n",
              "    domScope.querySelector('#df-a08b0281-b2dd-4729-8ba6-adc2a250df41 button.colab-df-quickchart');\n",
              "  quickchartButtonEl.style.display =\n",
              "    google.colab.kernel.accessAllowed ? 'block' : 'none';\n",
              "}\n",
              "\n",
              "        displayQuickchartButton(document);\n",
              "      </script>\n",
              "      <style>\n",
              "    .colab-df-container {\n",
              "      display:flex;\n",
              "      flex-wrap:wrap;\n",
              "      gap: 12px;\n",
              "    }\n",
              "\n",
              "    .colab-df-convert {\n",
              "      background-color: #E8F0FE;\n",
              "      border: none;\n",
              "      border-radius: 50%;\n",
              "      cursor: pointer;\n",
              "      display: none;\n",
              "      fill: #1967D2;\n",
              "      height: 32px;\n",
              "      padding: 0 0 0 0;\n",
              "      width: 32px;\n",
              "    }\n",
              "\n",
              "    .colab-df-convert:hover {\n",
              "      background-color: #E2EBFA;\n",
              "      box-shadow: 0px 1px 2px rgba(60, 64, 67, 0.3), 0px 1px 3px 1px rgba(60, 64, 67, 0.15);\n",
              "      fill: #174EA6;\n",
              "    }\n",
              "\n",
              "    [theme=dark] .colab-df-convert {\n",
              "      background-color: #3B4455;\n",
              "      fill: #D2E3FC;\n",
              "    }\n",
              "\n",
              "    [theme=dark] .colab-df-convert:hover {\n",
              "      background-color: #434B5C;\n",
              "      box-shadow: 0px 1px 3px 1px rgba(0, 0, 0, 0.15);\n",
              "      filter: drop-shadow(0px 1px 2px rgba(0, 0, 0, 0.3));\n",
              "      fill: #FFFFFF;\n",
              "    }\n",
              "  </style>\n",
              "\n",
              "      <script>\n",
              "        const buttonEl =\n",
              "          document.querySelector('#df-c0c159bd-350c-44c6-8193-27ebab0bcd94 button.colab-df-convert');\n",
              "        buttonEl.style.display =\n",
              "          google.colab.kernel.accessAllowed ? 'block' : 'none';\n",
              "\n",
              "        async function convertToInteractive(key) {\n",
              "          const element = document.querySelector('#df-c0c159bd-350c-44c6-8193-27ebab0bcd94');\n",
              "          const dataTable =\n",
              "            await google.colab.kernel.invokeFunction('convertToInteractive',\n",
              "                                                     [key], {});\n",
              "          if (!dataTable) return;\n",
              "\n",
              "          const docLinkHtml = 'Like what you see? Visit the ' +\n",
              "            '<a target=\"_blank\" href=https://colab.research.google.com/notebooks/data_table.ipynb>data table notebook</a>'\n",
              "            + ' to learn more about interactive tables.';\n",
              "          element.innerHTML = '';\n",
              "          dataTable['output_type'] = 'display_data';\n",
              "          await google.colab.output.renderOutput(dataTable, element);\n",
              "          const docLink = document.createElement('div');\n",
              "          docLink.innerHTML = docLinkHtml;\n",
              "          element.appendChild(docLink);\n",
              "        }\n",
              "      </script>\n",
              "    </div>\n",
              "  </div>\n"
            ]
          },
          "metadata": {},
          "execution_count": 37
        }
      ]
    },
    {
      "cell_type": "markdown",
      "source": [
        "Since we have only one empty value in Title and we know exactly what it is we can fill it in the following way"
      ],
      "metadata": {
        "id": "dhCjwKwzRG08"
      }
    },
    {
      "cell_type": "code",
      "source": [
        "#Since we have only one missing title\n",
        "df['Title'] = df['Title'].fillna('quality improvement manager')"
      ],
      "metadata": {
        "id": "aP1M0hY8f53W"
      },
      "execution_count": 9,
      "outputs": []
    },
    {
      "cell_type": "markdown",
      "source": [
        "Looks like we don't need ContractType but we might be able to fill the values after text classification"
      ],
      "metadata": {
        "id": "cckZzcYIUZ0_"
      }
    },
    {
      "cell_type": "code",
      "source": [
        "df = df.drop(['ContractType'], axis=1)"
      ],
      "metadata": {
        "id": "xZWFETXgSK3i"
      },
      "execution_count": 10,
      "outputs": []
    },
    {
      "cell_type": "markdown",
      "source": [
        "Same goes for Contract time. Since it's got less than 50% of empty values we leave it in the dataset, but replace NaNs with 'unknown' value"
      ],
      "metadata": {
        "id": "tLuXZDM1Y_ad"
      }
    },
    {
      "cell_type": "code",
      "source": [
        "df['ContractTime'] = df['ContractTime'].fillna('UNK')"
      ],
      "metadata": {
        "id": "_yBRLaaVVL0D"
      },
      "execution_count": 11,
      "outputs": []
    },
    {
      "cell_type": "markdown",
      "source": [
        "But we don't touch ['Company'] since it will be addressed later to filter top 1000 companies and fill everything else as 'Other'"
      ],
      "metadata": {
        "id": "HrqcpeeryLaG"
      }
    },
    {
      "cell_type": "code",
      "source": [
        "sns.heatmap(df.isna(), cmap='viridis', yticklabels=False, cbar=False)"
      ],
      "metadata": {
        "colab": {
          "base_uri": "https://localhost:8080/",
          "height": 536
        },
        "id": "AnhOYrCSWej9",
        "outputId": "63c8d090-0ab4-4250-a308-fe2e0e7f81db"
      },
      "execution_count": null,
      "outputs": [
        {
          "output_type": "execute_result",
          "data": {
            "text/plain": [
              "<Axes: >"
            ]
          },
          "metadata": {},
          "execution_count": 41
        },
        {
          "output_type": "display_data",
          "data": {
            "text/plain": [
              "<Figure size 640x480 with 1 Axes>"
            ],
            "image/png": "[encoded data removed]"
          },
          "metadata": {}
        }
      ]
    },
    {
      "cell_type": "markdown",
      "source": [
        "### Group columns by purpose"
      ],
      "metadata": {
        "id": "cSfPHVN8kP_u"
      }
    },
    {
      "cell_type": "code",
      "source": [
        "df.info()"
      ],
      "metadata": {
        "colab": {
          "base_uri": "https://localhost:8080/"
        },
        "id": "sgeb_Ba-kfx7",
        "outputId": "5fd283c6-c8cb-464c-8d47-51aa410e7909"
      },
      "execution_count": null,
      "outputs": [
        {
          "output_type": "stream",
          "name": "stdout",
          "text": [
            "<class 'pandas.core.frame.DataFrame'>\n",
            "RangeIndex: 244768 entries, 0 to 244767\n",
            "Data columns (total 7 columns):\n",
            " #   Column           Non-Null Count   Dtype  \n",
            "---  ------           --------------   -----  \n",
            " 0   Title            244768 non-null  object \n",
            " 1   FullDescription  244768 non-null  object \n",
            " 2   Location         244768 non-null  object \n",
            " 3   ContractTime     244768 non-null  object \n",
            " 4   Company          212338 non-null  object \n",
            " 5   Category         244768 non-null  object \n",
            " 6   SalaryLog        244768 non-null  float32\n",
            "dtypes: float32(1), object(6)\n",
            "memory usage: 12.1+ MB\n"
          ]
        }
      ]
    },
    {
      "cell_type": "code",
      "source": [
        "TARGET = 'SalaryLog'\n",
        "TEXT_COLS = ['Title', 'FullDescription']\n",
        "CATEGORIES = ['FullDescription', 'Location', 'ContractTime', 'Company', 'Category']"
      ],
      "metadata": {
        "id": "uw5BirrTkcyJ"
      },
      "execution_count": 12,
      "outputs": []
    },
    {
      "cell_type": "markdown",
      "source": [
        "## Create tokenizer and tokenize features"
      ],
      "metadata": {
        "id": "mbq6p6992B95"
      }
    },
    {
      "cell_type": "code",
      "source": [
        "WPT = nltk.tokenize.WordPunctTokenizer()"
      ],
      "metadata": {
        "id": "1wsjD-Wc1c1n"
      },
      "execution_count": 13,
      "outputs": []
    },
    {
      "cell_type": "code",
      "source": [
        "tok_df = df.copy()\n",
        "for col in TEXT_COLS:\n",
        "  tok_df[col] = tok_df[col].apply(lambda x: ' '.join(WPT.tokenize(x.lower().replace('_', ''))))"
      ],
      "metadata": {
        "id": "2tnA2uk_2p26"
      },
      "execution_count": 14,
      "outputs": []
    },
    {
      "cell_type": "markdown",
      "source": [
        "We're also removing all '_' from the strings since their usage just creates more entities."
      ],
      "metadata": {
        "id": "SnILVdebHc9j"
      }
    },
    {
      "cell_type": "markdown",
      "source": [
        "Could also filter any symbols like ;'#$%^&*!~` using regex or just ord(letter)"
      ],
      "metadata": {
        "id": "_Ndo3xKzwy-Y"
      }
    },
    {
      "cell_type": "markdown",
      "source": [
        "### Bathe in tests"
      ],
      "metadata": {
        "id": "4OInCKSU2jmr"
      }
    },
    {
      "cell_type": "code",
      "source": [
        "print(\"Tokenized:\")\n",
        "print(tok_df[\"FullDescription\"][2::100000])\n",
        "assert tok_df[\"FullDescription\"][2][:50] == 'mathematical modeller / simulation analyst / opera'\n",
        "assert tok_df[\"Title\"][54321] == 'international digital account manager ( german )'"
      ],
      "metadata": {
        "colab": {
          "base_uri": "https://localhost:8080/"
        },
        "id": "yQUmxBQ92_Pu",
        "outputId": "f972d2ca-a219-4ed0-d0a9-c9e84eca9dae"
      },
      "execution_count": null,
      "outputs": [
        {
          "output_type": "stream",
          "name": "stdout",
          "text": [
            "Tokenized:\n",
            "2         mathematical modeller / simulation analyst / o...\n",
            "100002    a successful and high achieving specialist sch...\n",
            "200002    web designer html , css , javascript , photosh...\n",
            "Name: FullDescription, dtype: object\n"
          ]
        }
      ]
    },
    {
      "cell_type": "markdown",
      "source": [
        "## Create an approved list of known word"
      ],
      "metadata": {
        "id": "5V4tcZvt_Mst"
      }
    },
    {
      "cell_type": "code",
      "source": [
        "token_nums = Counter()\n",
        "\n",
        "for col in TEXT_COLS:\n",
        "  for row in tok_df[col]:\n",
        "    token = row.split()\n",
        "    token_nums.update(token)"
      ],
      "metadata": {
        "id": "XLR730Bp_g3V"
      },
      "execution_count": 15,
      "outputs": []
    },
    {
      "cell_type": "markdown",
      "source": [
        "### Bathe in tests"
      ],
      "metadata": {
        "id": "la8cAZqYAeiw"
      }
    },
    {
      "cell_type": "code",
      "source": [
        "print(\"Total unique tokens :\", len(token_nums))\n",
        "print('\\n'.join(map(str, token_nums.most_common(n=5))))\n",
        "print('...')\n",
        "print('\\n'.join(map(str, token_nums.most_common()[-3:])))\n",
        "\n",
        "assert token_nums.most_common(1)[0][1] in  range(2600000, 2700000)\n",
        "assert len(token_nums) in range(200000, 210000)\n",
        "print('Correct!')"
      ],
      "metadata": {
        "colab": {
          "base_uri": "https://localhost:8080/"
        },
        "id": "M2Dxj636Acfx",
        "outputId": "e3bf9e3c-a0a6-41ae-e222-3f7c380d23dc"
      },
      "execution_count": null,
      "outputs": [
        {
          "output_type": "stream",
          "name": "stdout",
          "text": [
            "Total unique tokens : 202494\n",
            "('and', 2657388)\n",
            "('.', 2523216)\n",
            "(',', 2318606)\n",
            "('the', 2080994)\n",
            "('to', 2019884)\n",
            "...\n",
            "('stephanietraveltraderecruitmnt', 1)\n",
            "('ruabon', 1)\n",
            "('lowehays', 1)\n",
            "Correct!\n"
          ]
        }
      ]
    },
    {
      "cell_type": "markdown",
      "source": [
        "#### Word frequency histogram"
      ],
      "metadata": {
        "id": "_ECkyyWXBx6K"
      }
    },
    {
      "cell_type": "code",
      "source": [
        "plt.hist(list(token_nums.values()), range=[0, 10**4], bins=50, log=True)\n",
        "plt.xlabel(\"Word counts\")"
      ],
      "metadata": {
        "colab": {
          "base_uri": "https://localhost:8080/",
          "height": 466
        },
        "id": "CJevnD16BpYC",
        "outputId": "0ce273fe-d812-418c-8f33-bffe50532b30"
      },
      "execution_count": null,
      "outputs": [
        {
          "output_type": "execute_result",
          "data": {
            "text/plain": [
              "Text(0.5, 0, 'Word counts')"
            ]
          },
          "metadata": {},
          "execution_count": 49
        },
        {
          "output_type": "display_data",
          "data": {
            "text/plain": [
              "<Figure size 640x480 with 1 Axes>"
            ],
            "image/png": "[encoded data removed]"
          },
          "metadata": {}
        }
      ]
    },
    {
      "cell_type": "markdown",
      "source": [
        "#### We clearly don't need words that occur once or twice in the whole text corpus. Since we don't need those words that spike at the right skew let's filter them."
      ],
      "metadata": {
        "id": "oY5P4XLLCFa8"
      }
    },
    {
      "cell_type": "markdown",
      "source": [
        "## Create a list of \"approved\" tokens as well as \"padding\" token for short sentences and \"unknown\" token for words we cut out/haven't encountered in the trainset"
      ],
      "metadata": {
        "id": "XjIumIdKCy8L"
      }
    },
    {
      "cell_type": "code",
      "source": [
        "UNK, PAD = \"UNK\", \"PAD\"\n",
        "min_count = 10\n",
        "tokens = [UNK, PAD] + sorted(t for t, c in token_nums.items() if c >= min_count)"
      ],
      "metadata": {
        "id": "okW51PCiAeTe"
      },
      "execution_count": 16,
      "outputs": []
    },
    {
      "cell_type": "markdown",
      "source": [
        "### Bathe in tests"
      ],
      "metadata": {
        "id": "yj2QY3WzDXkx"
      }
    },
    {
      "cell_type": "code",
      "source": [
        "print(\"Vocabulary size:\", len(tokens))\n",
        "assert type(tokens) == list\n",
        "assert len(tokens) in range(32000, 35000)\n",
        "assert 'me' in tokens\n",
        "assert UNK in tokens\n",
        "print(\"Correct!\")"
      ],
      "metadata": {
        "colab": {
          "base_uri": "https://localhost:8080/"
        },
        "id": "FINzSfbtCsdS",
        "outputId": "2f679280-905b-422a-d96a-8f9c170d2ea6"
      },
      "execution_count": null,
      "outputs": [
        {
          "output_type": "stream",
          "name": "stdout",
          "text": [
            "Vocabulary size: 34149\n",
            "Correct!\n"
          ]
        }
      ]
    },
    {
      "cell_type": "markdown",
      "source": [
        "## Build an inverse token index: a dictionary from token(string) to it's index in `tokens` (int)"
      ],
      "metadata": {
        "id": "_aIe6TmmE0Mc"
      }
    },
    {
      "cell_type": "code",
      "source": [
        "inv_tok_idx = {token:idx for idx, token in enumerate(tokens)}"
      ],
      "metadata": {
        "id": "CCpcn5XaE01h"
      },
      "execution_count": 17,
      "outputs": []
    },
    {
      "cell_type": "markdown",
      "source": [
        "### Bathe in tests"
      ],
      "metadata": {
        "id": "zyzjb_RhGZVn"
      }
    },
    {
      "cell_type": "code",
      "source": [
        "assert isinstance(inv_tok_idx, dict)\n",
        "assert len(inv_tok_idx) == len(tokens)\n",
        "for tok in tokens:\n",
        "    assert tokens[inv_tok_idx[tok]] == tok\n",
        "\n",
        "print(\"Correct!\")"
      ],
      "metadata": {
        "colab": {
          "base_uri": "https://localhost:8080/"
        },
        "id": "Vg_x8nLgGLzk",
        "outputId": "8541d1e7-7b57-495e-fa71-ad52a6fd99c6"
      },
      "execution_count": null,
      "outputs": [
        {
          "output_type": "stream",
          "name": "stdout",
          "text": [
            "Correct!\n"
          ]
        }
      ]
    },
    {
      "cell_type": "markdown",
      "source": [
        "### Map text lines into matrices"
      ],
      "metadata": {
        "id": "3Z_rkOIPGn_Y"
      }
    },
    {
      "cell_type": "code",
      "source": [
        "UNK_IX, PAD_IX = map(inv_tok_idx.get, [UNK, PAD])"
      ],
      "metadata": {
        "id": "GNhndG5wnaSW"
      },
      "execution_count": 18,
      "outputs": []
    },
    {
      "cell_type": "code",
      "source": [
        "def as_matrix(sequences, max_len=None):\n",
        "    \"\"\" Convert a list of tokens into a matrix with padding \"\"\"\n",
        "    if isinstance(sequences[0], str):\n",
        "        sequences = list(map(str.split, sequences))\n",
        "\n",
        "    max_len = min(max(map(len, sequences)), max_len or float('inf'))\n",
        "\n",
        "    matrix = np.full((len(sequences), max_len), np.int32(PAD_IX))\n",
        "    for i,seq in enumerate(sequences):\n",
        "        row_ix = [inv_tok_idx.get(word, UNK_IX) for word in seq[:max_len]]\n",
        "        matrix[i, :len(row_ix)] = row_ix\n",
        "\n",
        "    return matrix"
      ],
      "metadata": {
        "id": "cheRWOerGnTd"
      },
      "execution_count": 19,
      "outputs": []
    },
    {
      "cell_type": "code",
      "source": [
        "print(\"Lines:\")\n",
        "print('\\n'.join(tok_df[\"Title\"][::100000].values), end='\\n\\n')\n",
        "print(\"Matrix:\")\n",
        "print(as_matrix(tok_df[\"Title\"][::100000]))"
      ],
      "metadata": {
        "colab": {
          "base_uri": "https://localhost:8080/"
        },
        "id": "k_VA-W4UG4Bo",
        "outputId": "348d47ba-f720-4e41-a3e3-3fc1bd179929"
      },
      "execution_count": null,
      "outputs": [
        {
          "output_type": "stream",
          "name": "stdout",
          "text": [
            "Lines:\n",
            "engineering systems analyst\n",
            "hr assistant\n",
            "senior ec & i engineer\n",
            "\n",
            "Matrix:\n",
            "[[10798 30152  2157     1     1]\n",
            " [15012  2835     1     1     1]\n",
            " [27636 10192    16 15207 10795]]\n"
          ]
        }
      ]
    },
    {
      "cell_type": "markdown",
      "source": [
        "### Create category using DictVectorizer and filter top1k most-frequent companies"
      ],
      "metadata": {
        "id": "QuHL5KOVK4Ft"
      }
    },
    {
      "cell_type": "code",
      "source": [
        "# we only consider top-1k most frequent companies to minimize memory usage\n",
        "top_companies, top_counts = zip(*Counter(tok_df['Company']).most_common(1001))"
      ],
      "metadata": {
        "id": "kkBZa2LZNVSq"
      },
      "execution_count": 20,
      "outputs": []
    },
    {
      "cell_type": "markdown",
      "source": [
        "#### Attention: NaN in frequent companies"
      ],
      "metadata": {
        "id": "oWAzxgZVuBqY"
      }
    },
    {
      "cell_type": "code",
      "source": [
        "top5 = {top_companies[x]: top_counts[x] for x in range(5)}\n",
        "top5"
      ],
      "metadata": {
        "colab": {
          "base_uri": "https://localhost:8080/"
        },
        "id": "SD86Dpo3o0q-",
        "outputId": "34466158-9256-45ce-ee0d-f2c5ddffd854"
      },
      "execution_count": 21,
      "outputs": [
        {
          "output_type": "execute_result",
          "data": {
            "text/plain": [
              "{nan: 32430,\n",
              " 'UKStaffsearch': 4997,\n",
              " 'CVbrowser': 2977,\n",
              " 'London4Jobs': 2345,\n",
              " 'Hays': 1784}"
            ]
          },
          "metadata": {},
          "execution_count": 21
        }
      ]
    },
    {
      "cell_type": "code",
      "source": [
        "recognized_companies = set(top_companies)"
      ],
      "metadata": {
        "id": "6VyMhPX4n8iK"
      },
      "execution_count": 23,
      "outputs": []
    },
    {
      "cell_type": "markdown",
      "source": [
        "\n",
        "### Update the Company column with recognized companies or \"Other\""
      ],
      "metadata": {
        "id": "6qg11-ohOpzH"
      }
    },
    {
      "cell_type": "code",
      "source": [
        "def filter_companies(df, frequent_companies = recognized_companies):\n",
        "  df = df.copy()\n",
        "  df['Company'] = df['Company'].apply(lambda company: company if company in frequent_companies else 'Other')\n",
        "  df['Company'] = df['Company'].fillna('Other')\n",
        "  return df"
      ],
      "metadata": {
        "id": "u4uI0vHNOr9g"
      },
      "execution_count": 24,
      "outputs": []
    },
    {
      "cell_type": "code",
      "source": [
        "fltr_df = filter_companies(tok_df)"
      ],
      "metadata": {
        "id": "DdWomspXwgfk"
      },
      "execution_count": 25,
      "outputs": []
    },
    {
      "cell_type": "code",
      "source": [
        "fltr_df['Company'].unique()"
      ],
      "metadata": {
        "colab": {
          "base_uri": "https://localhost:8080/"
        },
        "id": "oV55Vzibxfpw",
        "outputId": "f7572d63-97ab-4969-d793-60330c4d1420"
      },
      "execution_count": 26,
      "outputs": [
        {
          "output_type": "execute_result",
          "data": {
            "text/plain": [
              "array(['Gregory Martin International', 'Other', 'Code Blue Recruitment',\n",
              "       ..., 'G2 Legal LTD', 'Hays Education', 'HCL Permanent.'],\n",
              "      dtype=object)"
            ]
          },
          "metadata": {},
          "execution_count": 26
        }
      ]
    },
    {
      "cell_type": "code",
      "source": [
        "sns.heatmap(fltr_df.isna(), cmap='viridis', yticklabels=False, cbar=False)"
      ],
      "metadata": {
        "colab": {
          "base_uri": "https://localhost:8080/",
          "height": 536
        },
        "id": "R3LzF1QwzBFO",
        "outputId": "dc2759ae-c009-4d89-cd07-45bd6438a8ae"
      },
      "execution_count": null,
      "outputs": [
        {
          "output_type": "execute_result",
          "data": {
            "text/plain": [
              "<Axes: >"
            ]
          },
          "metadata": {},
          "execution_count": 63
        },
        {
          "output_type": "display_data",
          "data": {
            "text/plain": [
              "<Figure size 640x480 with 1 Axes>"
            ],
            "image/png": "[encoded data removed]"
          },
          "metadata": {}
        }
      ]
    },
    {
      "cell_type": "markdown",
      "source": [
        "And this is how we replace NaNs with 'Other' and add companies outside of top1000 to 'Other'"
      ],
      "metadata": {
        "id": "Xrq5RHhfxRLu"
      }
    },
    {
      "cell_type": "markdown",
      "source": [
        "### Train DictVectorizer as encoder"
      ],
      "metadata": {
        "id": "_s1y8DmkNboL"
      }
    },
    {
      "cell_type": "code",
      "source": [
        "dv_df = fltr_df.copy()\n",
        "categorical_vectorizer = DictVectorizer(dtype=np.float32, sparse=False)\n",
        "categorical_vectorizer.fit(dv_df[CATEGORIES].apply(dict, axis=1))"
      ],
      "metadata": {
        "colab": {
          "base_uri": "https://localhost:8080/",
          "height": 74
        },
        "id": "foliwUhXKe_x",
        "outputId": "8f0a6526-bf44-428b-bced-bf224e9c87b6"
      },
      "execution_count": 27,
      "outputs": [
        {
          "output_type": "execute_result",
          "data": {
            "text/plain": [
              "DictVectorizer(dtype=<class 'numpy.float32'>, sparse=False)"
            ],
            "text/html": [
              "<style>#sk-container-id-1 {color: black;background-color: white;}#sk-container-id-1 pre{padding: 0;}#sk-container-id-1 div.sk-toggleable {background-color: white;}#sk-container-id-1 label.sk-toggleable__label {cursor: pointer;display: block;width: 100%;margin-bottom: 0;padding: 0.3em;box-sizing: border-box;text-align: center;}#sk-container-id-1 label.sk-toggleable__label-arrow:before {content: \"▸\";float: left;margin-right: 0.25em;color: #696969;}#sk-container-id-1 label.sk-toggleable__label-arrow:hover:before {color: black;}#sk-container-id-1 div.sk-estimator:hover label.sk-toggleable__label-arrow:before {color: black;}#sk-container-id-1 div.sk-toggleable__content {max-height: 0;max-width: 0;overflow: hidden;text-align: left;background-color: #f0f8ff;}#sk-container-id-1 div.sk-toggleable__content pre {margin: 0.2em;color: black;border-radius: 0.25em;background-color: #f0f8ff;}#sk-container-id-1 input.sk-toggleable__control:checked~div.sk-toggleable__content {max-height: 200px;max-width: 100%;overflow: auto;}#sk-container-id-1 input.sk-toggleable__control:checked~label.sk-toggleable__label-arrow:before {content: \"▾\";}#sk-container-id-1 div.sk-estimator input.sk-toggleable__control:checked~label.sk-toggleable__label {background-color: #d4ebff;}#sk-container-id-1 div.sk-label input.sk-toggleable__control:checked~label.sk-toggleable__label {background-color: #d4ebff;}#sk-container-id-1 input.sk-hidden--visually {border: 0;clip: rect(1px 1px 1px 1px);clip: rect(1px, 1px, 1px, 1px);height: 1px;margin: -1px;overflow: hidden;padding: 0;position: absolute;width: 1px;}#sk-container-id-1 div.sk-estimator {font-family: monospace;background-color: #f0f8ff;border: 1px dotted black;border-radius: 0.25em;box-sizing: border-box;margin-bottom: 0.5em;}#sk-container-id-1 div.sk-estimator:hover {background-color: #d4ebff;}#sk-container-id-1 div.sk-parallel-item::after {content: \"\";width: 100%;border-bottom: 1px solid gray;flex-grow: 1;}#sk-container-id-1 div.sk-label:hover label.sk-toggleable__label {background-color: #d4ebff;}#sk-container-id-1 div.sk-serial::before {content: \"\";position: absolute;border-left: 1px solid gray;box-sizing: border-box;top: 0;bottom: 0;left: 50%;z-index: 0;}#sk-container-id-1 div.sk-serial {display: flex;flex-direction: column;align-items: center;background-color: white;padding-right: 0.2em;padding-left: 0.2em;position: relative;}#sk-container-id-1 div.sk-item {position: relative;z-index: 1;}#sk-container-id-1 div.sk-parallel {display: flex;align-items: stretch;justify-content: center;background-color: white;position: relative;}#sk-container-id-1 div.sk-item::before, #sk-container-id-1 div.sk-parallel-item::before {content: \"\";position: absolute;border-left: 1px solid gray;box-sizing: border-box;top: 0;bottom: 0;left: 50%;z-index: -1;}#sk-container-id-1 div.sk-parallel-item {display: flex;flex-direction: column;z-index: 1;position: relative;background-color: white;}#sk-container-id-1 div.sk-parallel-item:first-child::after {align-self: flex-end;width: 50%;}#sk-container-id-1 div.sk-parallel-item:last-child::after {align-self: flex-start;width: 50%;}#sk-container-id-1 div.sk-parallel-item:only-child::after {width: 0;}#sk-container-id-1 div.sk-dashed-wrapped {border: 1px dashed gray;margin: 0 0.4em 0.5em 0.4em;box-sizing: border-box;padding-bottom: 0.4em;background-color: white;}#sk-container-id-1 div.sk-label label {font-family: monospace;font-weight: bold;display: inline-block;line-height: 1.2em;}#sk-container-id-1 div.sk-label-container {text-align: center;}#sk-container-id-1 div.sk-container {/* jupyter's `normalize.less` sets `[hidden] { display: none; }` but bootstrap.min.css set `[hidden] { display: none !important; }` so we also need the `!important` here to be able to override the default hidden behavior on the sphinx rendered scikit-learn.org. See: https://github.com/scikit-learn/scikit-learn/issues/21755 */display: inline-block !important;position: relative;}#sk-container-id-1 div.sk-text-repr-fallback {display: none;}</style><div id=\"sk-container-id-1\" class=\"sk-top-container\"><div class=\"sk-text-repr-fallback\"><pre>DictVectorizer(dtype=&lt;class &#x27;numpy.float32&#x27;&gt;, sparse=False)</pre><b>In a Jupyter environment, please rerun this cell to show the HTML representation or trust the notebook. <br />On GitHub, the HTML representation is unable to render, please try loading this page with nbviewer.org.</b></div><div class=\"sk-container\" hidden><div class=\"sk-item\"><div class=\"sk-estimator sk-toggleable\"><input class=\"sk-toggleable__control sk-hidden--visually\" id=\"sk-estimator-id-1\" type=\"checkbox\" checked><label for=\"sk-estimator-id-1\" class=\"sk-toggleable__label sk-toggleable__label-arrow\">DictVectorizer</label><div class=\"sk-toggleable__content\"><pre>DictVectorizer(dtype=&lt;class &#x27;numpy.float32&#x27;&gt;, sparse=False)</pre></div></div></div></div></div>"
            ]
          },
          "metadata": {},
          "execution_count": 27
        }
      ]
    },
    {
      "cell_type": "markdown",
      "source": [
        "### Use TF-IDF instead of DictVectorizer"
      ],
      "metadata": {
        "id": "GUNm2uyENNz5"
      }
    },
    {
      "cell_type": "code",
      "source": [
        "df_tfidf = fltr_df.copy()\n",
        "tfidf_vectorizer = TfidfVectorizer(dtype=np.float32, token_pattern=r'\\b\\w+\\b')\n",
        "tfidf_vectorizer.fit_transform(df_tfidf['Company'])"
      ],
      "metadata": {
        "colab": {
          "base_uri": "https://localhost:8080/"
        },
        "id": "RBekD9V1L0zU",
        "outputId": "51653592-8b47-4c56-b65a-4641d611b05e"
      },
      "execution_count": 28,
      "outputs": [
        {
          "output_type": "execute_result",
          "data": {
            "text/plain": [
              "<244768x969 sparse matrix of type '<class 'numpy.float32'>'\n",
              "\twith 391655 stored elements in Compressed Sparse Row format>"
            ]
          },
          "metadata": {},
          "execution_count": 28
        }
      ]
    },
    {
      "cell_type": "markdown",
      "source": [
        "### Convert data types for faster df operations"
      ],
      "metadata": {
        "id": "VS0QTG0fiD8C"
      }
    },
    {
      "cell_type": "code",
      "source": [
        "converted_df = fltr_df.copy()\n",
        "for column in converted_df.columns:\n",
        "  if converted_df[column].dtype == 'object':\n",
        "    converted_df[column] = converted_df[column].astype('category')"
      ],
      "metadata": {
        "id": "hz2BrFxRgEdh"
      },
      "execution_count": 29,
      "outputs": []
    },
    {
      "cell_type": "markdown",
      "source": [
        "Somehow converting string 'object' types to 'category' breaks the code creating issues with assigning new values (since category values should be predefined) and using .apply() so for now we're not gonna use it and are going to convert objeto to category right before feeding the dataset to the model."
      ],
      "metadata": {
        "id": "9hYATF3h6BZj"
      }
    },
    {
      "cell_type": "markdown",
      "source": [
        "#### Check for nans once again (took me half an hour to figure out NaNs weren't fillna'd in [\"Company\"])"
      ],
      "metadata": {
        "id": "KDYqLkLfvQ-n"
      }
    },
    {
      "cell_type": "code",
      "source": [
        "converted_df.isna().any()"
      ],
      "metadata": {
        "colab": {
          "base_uri": "https://localhost:8080/"
        },
        "id": "kY4EUIUtwcZO",
        "outputId": "2c42927d-df63-4366-a1d8-cb0479ec47d7"
      },
      "execution_count": null,
      "outputs": [
        {
          "output_type": "execute_result",
          "data": {
            "text/plain": [
              "Title              False\n",
              "FullDescription    False\n",
              "Location           False\n",
              "ContractTime       False\n",
              "Company            False\n",
              "Category           False\n",
              "SalaryLog          False\n",
              "dtype: bool"
            ]
          },
          "metadata": {},
          "execution_count": 67
        }
      ]
    },
    {
      "cell_type": "markdown",
      "source": [
        "# Creating a model"
      ],
      "metadata": {
        "id": "9Dd2ds0HU6VG"
      }
    },
    {
      "cell_type": "markdown",
      "source": [
        "## Create a train and a validation datasets"
      ],
      "metadata": {
        "id": "zb7Sj0bQVAa0"
      }
    },
    {
      "cell_type": "code",
      "source": [
        "data_train, data_val = train_test_split(converted_df, test_size=0.2, random_state=42)\n",
        "data_train.index = range(len(data_train))\n",
        "data_val.index = range(len(data_val))\n",
        "\n",
        "print(\"Train size = \", data_train.shape)\n",
        "print(\"Validation size = \", data_val.shape)"
      ],
      "metadata": {
        "colab": {
          "base_uri": "https://localhost:8080/"
        },
        "id": "DL14Qv2s0mkP",
        "outputId": "653a0fcf-5e82-4e8e-b5f4-6c673e918ba4"
      },
      "execution_count": 30,
      "outputs": [
        {
          "output_type": "stream",
          "name": "stdout",
          "text": [
            "Train size =  (195814, 7)\n",
            "Validation size =  (48954, 7)\n"
          ]
        }
      ]
    },
    {
      "cell_type": "markdown",
      "source": [
        "## Create batches"
      ],
      "metadata": {
        "id": "uSoxb_MxXh2b"
      }
    },
    {
      "cell_type": "code",
      "source": [
        "device = 'cuda' if torch.cuda.is_available() else 'cpu'"
      ],
      "metadata": {
        "id": "xMkXSO_4ZvGT"
      },
      "execution_count": 31,
      "outputs": []
    },
    {
      "cell_type": "code",
      "source": [
        "def to_tensor(batch, device):\n",
        "  batch_tensors = {}\n",
        "  for key, array in batch.items():\n",
        "    if key in ['FullDescription', 'Title']:\n",
        "      batch_tensors[key] = torch.tensor(array, device=device, dtype=torch.int64)\n",
        "    else:\n",
        "      batch_tensors[key] = torch.tensor(array, device=device)\n",
        "  return batch_tensors\n",
        "\n",
        "\n",
        "def drop_words(matrix, keep_prop, replace_with=UNK_IX, pad_with = PAD_IX):\n",
        "  #dropout cetrain word (actually replace with UNK)\n",
        "  dropout_mask = np.random.choice(2, np.shape(matrix), p=[keep_prop, 1 - keep_prop])\n",
        "  dropout_mask &= matrix != pad_with\n",
        "  return np.choose(dropout_mask, [matrix, np.full_like(matrix, replace_with)])\n",
        "\n",
        "\n",
        "def make_batch(data, maxlen = None, word_dropout=0, device=device):\n",
        "  batch = {}\n",
        "  batch['Title'] = as_matrix(data['Title'].values, maxlen)\n",
        "  batch['FullDescription'] = as_matrix(data['FullDescription'].values, maxlen)\n",
        "  batch['Categorical'] = categorical_vectorizer.transform(data[CATEGORIES].apply(dict, axis=1))\n",
        "\n",
        "  if word_dropout:\n",
        "    batch['FullDescription'] = drop_words(batch['FullDescription'], 1. - word_dropout)\n",
        "  if TARGET in data.columns:\n",
        "    batch[TARGET] = data[TARGET].values\n",
        "  return to_tensor(batch, device)"
      ],
      "metadata": {
        "id": "TA-0tIAPXpDn"
      },
      "execution_count": 32,
      "outputs": []
    },
    {
      "cell_type": "markdown",
      "source": [
        "Getting a looong one-hot for every cat feature value as tensors in Categorical column"
      ],
      "metadata": {
        "id": "MtTzeuk7iJT-"
      }
    },
    {
      "cell_type": "code",
      "source": [
        "new_batch = make_batch(data_train[:3], maxlen=10)"
      ],
      "metadata": {
        "id": "HOaA9rTTgMu_"
      },
      "execution_count": 33,
      "outputs": []
    },
    {
      "cell_type": "code",
      "source": [
        "new_batch['Title']"
      ],
      "metadata": {
        "colab": {
          "base_uri": "https://localhost:8080/"
        },
        "id": "cAgGl6MRd34u",
        "outputId": "97d4abea-564f-4d40-a322-0f489be13d10"
      },
      "execution_count": 37,
      "outputs": [
        {
          "output_type": "execute_result",
          "data": {
            "text/plain": [
              "tensor([[27636, 29884, 33665,     1,     1,     1,     1],\n",
              "        [29230,   197, 19167, 20033, 15546, 23153,  4042],\n",
              "        [10600, 30403, 17737,    33,  8696, 29148,    65]], device='cuda:0')"
            ]
          },
          "metadata": {},
          "execution_count": 37
        }
      ]
    },
    {
      "cell_type": "markdown",
      "source": [
        "### Vectorize the columns using embedding and embeddingbag"
      ],
      "metadata": {
        "id": "zCMidn5sBiOZ"
      }
    },
    {
      "cell_type": "code",
      "source": [
        "linear = nn.Linear(32, 1)"
      ],
      "metadata": {
        "id": "xlWulUPwBx0U"
      },
      "execution_count": 34,
      "outputs": []
    },
    {
      "cell_type": "markdown",
      "source": [
        "#### embedding"
      ],
      "metadata": {
        "id": "oqaV4WZiBpYw"
      }
    },
    {
      "cell_type": "code",
      "source": [
        "embs = torch.nn.Embedding(len(tokens), 32)\n",
        "#print(embs(new_batch['Title']).shape)"
      ],
      "metadata": {
        "id": "C3C3eDfsqb-U"
      },
      "execution_count": 35,
      "outputs": []
    },
    {
      "cell_type": "code",
      "source": [
        "embs.cuda()"
      ],
      "metadata": {
        "colab": {
          "base_uri": "https://localhost:8080/"
        },
        "id": "B7mFmlSveS9z",
        "outputId": "2c4912ec-4186-4cee-fee8-7c37280ecf75"
      },
      "execution_count": 36,
      "outputs": [
        {
          "output_type": "execute_result",
          "data": {
            "text/plain": [
              "Embedding(34149, 32)"
            ]
          },
          "metadata": {},
          "execution_count": 36
        }
      ]
    },
    {
      "cell_type": "code",
      "source": [
        "vectors = embs(new_batch['Title']).mean(dim=1)"
      ],
      "metadata": {
        "id": "lM-j6NnDAd8F"
      },
      "execution_count": 37,
      "outputs": []
    },
    {
      "cell_type": "markdown",
      "source": [
        "embedding bag"
      ],
      "metadata": {
        "id": "IBF-nAshBrV-"
      }
    },
    {
      "cell_type": "code",
      "source": [
        "embb = torch.nn.EmbeddingBag(len(tokens), 32)\n",
        "embb.cuda()\n",
        "embb_vectors = embb(new_batch['Title'])"
      ],
      "metadata": {
        "id": "d5eEEJVTrCwS"
      },
      "execution_count": 38,
      "outputs": []
    },
    {
      "cell_type": "code",
      "source": [
        "print(linear(vectors))\n",
        "print(linear(embb_vectors))"
      ],
      "metadata": {
        "id": "DSOsGELQHv_a"
      },
      "execution_count": null,
      "outputs": []
    },
    {
      "cell_type": "markdown",
      "source": [
        "## Model architecture"
      ],
      "metadata": {
        "id": "VwMRQdGc8Yaq"
      }
    },
    {
      "cell_type": "code",
      "source": [
        "url ='https://camo.githubusercontent.com/4acbd3e2fee33a42de561019edd9fd15932993c6201e34f1908d5e18d8cf60ca/68747470733a2f2f6769746875622e636f6d2f79616e646578646174617363686f6f6c2f6e6c705f636f757273652f7261772f6d61737465722f7265736f75726365732f77325f636f6e765f617263682e706e67'\n",
        "display(Image(url=url))"
      ],
      "metadata": {
        "id": "kbh6uKiY7sLp",
        "outputId": "961db6c4-7a3d-43e2-fe6c-684cf8c117dc",
        "colab": {
          "base_uri": "https://localhost:8080/",
          "height": 472
        }
      },
      "execution_count": null,
      "outputs": [
        {
          "output_type": "display_data",
          "data": {
            "text/html": [
              "<img src=\"https://camo.githubusercontent.com/4acbd3e2fee33a42de561019edd9fd15932993c6201e34f1908d5e18d8cf60ca/68747470733a2f2f6769746875622e636f6d2f79616e646578646174617363686f6f6c2f6e6c705f636f757273652f7261772f6d61737465722f7265736f75726365732f77325f636f6e765f617263682e706e67\"/>"
            ],
            "text/plain": [
              "<IPython.core.display.Image object>"
            ]
          },
          "metadata": {}
        }
      ]
    },
    {
      "cell_type": "markdown",
      "source": [
        "## Model class"
      ],
      "metadata": {
        "id": "HphaH4mO8ygm"
      }
    },
    {
      "cell_type": "code",
      "source": [
        "class SalaryModel(nn.Module):\n",
        "  def __init__(self, n_tokens=len(tokens), n_cat_features=len(categorical_vectorizer.vocabulary_), emb_size=32, conv_out_channels=16, hid_size=64):\n",
        "    super(SalaryModel, self).__init__()\n",
        "    #encode title\n",
        "\n",
        "    self.title_emb = nn.Embedding(n_tokens, emb_size)\n",
        "    self.title_enc = nn.Sequential(\n",
        "        nn.Conv1d(emb_size, hid_size, kernel_size=3),\n",
        "        nn.Dropout(p=0.2),\n",
        "        nn.ReLU(),\n",
        "        nn.AdaptiveMaxPool1d(1))\n",
        "\n",
        "    self.desc_emb = nn.Embedding(n_tokens, emb_size)\n",
        "    self.desc_enc = nn.Sequential(\n",
        "        nn.Conv1d(emb_size, hid_size, kernel_size=3),\n",
        "        nn.Dropout(p=0.2),\n",
        "        nn.ReLU(),\n",
        "        nn.AdaptiveMaxPool1d(1))\n",
        "\n",
        "    self.cat_enc = nn.Sequential(\n",
        "        nn.Linear(n_cat_features, hid_size*2),\n",
        "        nn.ReLU(),\n",
        "        nn.Linear(hid_size*2, hid_size*2),\n",
        "        nn.ReLU())\n",
        "\n",
        "    self.predictor = nn.Sequential(\n",
        "        nn.Linear(hid_size*4, hid_size),\n",
        "        nn.ReLU(),\n",
        "        nn.Linear(hid_size, 1))\n",
        "\n",
        "    self.apply(self._init_weights)\n",
        "\n",
        "\n",
        "  def _init_weights(self, module):\n",
        "    if isinstance(module, (nn.Conv1d, nn.Embedding, nn.EmbeddingBag, nn.Linear)):\n",
        "      nn.init.xavier_uniform_(module.weight)\n",
        "      if module in (nn.Conv1d, nn.Linear) and not (module.bias is None):\n",
        "        nn.init.zeros_(module.bias)\n",
        "\n",
        "\n",
        "  def forward(self, batch):\n",
        "    title = batch['Title']\n",
        "    desc = batch['FullDescription']\n",
        "    cats = batch['Categorical']\n",
        "\n",
        "    ttl_emb = self.title_emb(title).transpose(1,2)\n",
        "    ttl_encoded = self.title_enc(ttl_emb).squeeze()\n",
        "\n",
        "    dsc_emb = self.desc_emb(desc).transpose(1,2)\n",
        "    dsc_encoded = self.desc_enc(dsc_emb).squeeze()\n",
        "\n",
        "    linear_cats = self.cat_enc(cats)\n",
        "\n",
        "\n",
        "    #since we're using _global_ pooling and reduced 1 dimension using .squeeze we don't need to flatten\n",
        "    concats = torch.cat((ttl_encoded, dsc_encoded, linear_cats), 1)\n",
        "    outputs = self.predictor(concats)\n",
        "    return outputs.squeeze(-1)\n",
        "\n",
        "\n",
        "  def backward(self, loss):\n",
        "    loss.backward()"
      ],
      "metadata": {
        "id": "yp-4_U7f80Jp"
      },
      "execution_count": 13,
      "outputs": []
    },
    {
      "cell_type": "markdown",
      "source": [
        "#### Run baseline"
      ],
      "metadata": {
        "id": "eKvbf8fBW6c4"
      }
    },
    {
      "cell_type": "code",
      "source": [
        "device"
      ],
      "metadata": {
        "colab": {
          "base_uri": "https://localhost:8080/",
          "height": 36
        },
        "id": "X1PJf9igzP5S",
        "outputId": "0410d222-db7e-4202-83fd-d0fd7e250bae"
      },
      "execution_count": null,
      "outputs": [
        {
          "output_type": "execute_result",
          "data": {
            "text/plain": [
              "'cuda'"
            ],
            "application/vnd.google.colaboratory.intrinsic+json": {
              "type": "string"
            }
          },
          "metadata": {},
          "execution_count": 77
        }
      ]
    },
    {
      "cell_type": "code",
      "source": [
        "sm = SalaryModel()\n",
        "sm.to(device)\n",
        "sm_pred = sm.forward(new_batch)\n",
        "sm_pred"
      ],
      "metadata": {
        "colab": {
          "base_uri": "https://localhost:8080/"
        },
        "id": "jxTjXV0tSxYx",
        "outputId": "65d6fc6a-135f-4e22-be26-de12729a1e52"
      },
      "execution_count": 43,
      "outputs": [
        {
          "output_type": "execute_result",
          "data": {
            "text/plain": [
              "tensor([0.1976, 0.1978, 0.2001], device='cuda:0', grad_fn=<SqueezeBackward1>)"
            ]
          },
          "metadata": {},
          "execution_count": 43
        }
      ]
    },
    {
      "cell_type": "code",
      "source": [
        "model = SalaryModel()\n",
        "model.to(device)\n",
        "\n",
        "batch = make_batch(data_train[:100])\n",
        "\n",
        "criterion = nn.MSELoss()\n",
        "\n",
        "dummy_pred = model(batch)\n",
        "dummy_loss = criterion(dummy_pred, batch['SalaryLog'])\n",
        "dummy_loss\n"
      ],
      "metadata": {
        "id": "VlkPnpgjbalC",
        "colab": {
          "base_uri": "https://localhost:8080/"
        },
        "outputId": "e894c53f-3af1-4d2e-f011-9d8b5b0213ca"
      },
      "execution_count": null,
      "outputs": [
        {
          "output_type": "execute_result",
          "data": {
            "text/plain": [
              "tensor(108.4991, device='cuda:0', grad_fn=<MseLossBackward0>)"
            ]
          },
          "metadata": {},
          "execution_count": 79
        }
      ]
    },
    {
      "cell_type": "markdown",
      "source": [
        "#### Bathe in tests"
      ],
      "metadata": {
        "id": "4uGsgCEgck-_"
      }
    },
    {
      "cell_type": "code",
      "source": [
        "assert dummy_pred.shape == torch.Size([100])\n",
        "assert len(torch.unique(dummy_pred)) > 20, \"model returns suspiciously few unique outputs. Check your initialization\"\n",
        "assert dummy_loss.ndim == 0 and 0. <= dummy_loss <= 250., \"make sure you minimize MSE\""
      ],
      "metadata": {
        "id": "GFrJO-VLci6g"
      },
      "execution_count": null,
      "outputs": []
    },
    {
      "cell_type": "markdown",
      "source": [
        "# Create a class to train and eval model"
      ],
      "metadata": {
        "id": "o7d2NBD9zrpH"
      }
    },
    {
      "cell_type": "code",
      "source": [
        "BATCH_SIZE=16\n",
        "EPOCHS=10\n",
        "LR = 1e-3\n",
        "OPT = 'SGD'"
      ],
      "metadata": {
        "id": "fgplkgZplkQF"
      },
      "execution_count": 40,
      "outputs": []
    },
    {
      "cell_type": "code",
      "source": [
        "class Trainmodel:\n",
        "  def __init__(self, model, optimizer, criterion, batch_size = BATCH_SIZE, epochs = EPOCHS, device=device, WANDB=False):\n",
        "    self.device = device\n",
        "    self.model = model.to(device)\n",
        "    self.criterion = criterion\n",
        "    self.optimizer = optimizer\n",
        "    self.batch_size = batch_size\n",
        "    self.epochs=epochs\n",
        "\n",
        "    self.wandb=WANDB\n",
        "    self.init_wandb()\n",
        "\n",
        "    self.best_mae = float('inf')\n",
        "    self.best_mse = float('inf')\n",
        "    self.best_state = None\n",
        "\n",
        "  def init_wandb(self):\n",
        "    if self.wandb:\n",
        "      wandb.login()\n",
        "      wandb.init(project=WANDB_PROJECT, entity=WANDB_USER, reinit=True)\n",
        "\n",
        "      wandb.config.epochs = self.epochs\n",
        "      wandb.config.batch_size = self.batch_size\n",
        "      wandb.config.learning_rate = LR\n",
        "      wandb.config.optimizer = OPT\n",
        "      wandb.config.model_architecture = \"NewSalaryModel\"\n",
        "\n",
        "\n",
        "  def iterate_minibatches(self, data, shuffle=True, cycle=False, drop = False, **kwargs):\n",
        "    while True:\n",
        "      idx = np.arange(len(data))\n",
        "      if shuffle:\n",
        "        idx = np.random.permutation(idx)\n",
        "      for start in range(0, len(idx), self.batch_size):\n",
        "        batch = make_batch(data.iloc[idx[start:start+self.batch_size]], word_dropout=drop, device=self.device, **kwargs)\n",
        "        yield batch\n",
        "      if not cycle: break\n",
        "\n",
        "\n",
        "  def print_metrics(self, data, **kwargs):\n",
        "    sq_err = abs_err = num_samples = 0.0\n",
        "    self.model.eval()\n",
        "    with torch.no_grad():\n",
        "      for batch in self.iterate_minibatches(data, shuffle=False, **kwargs):\n",
        "        b_pred = self.model(batch)\n",
        "        sq_err += torch.sum(torch.square(b_pred-batch[TARGET]))\n",
        "        abs_err += torch.sum(torch.abs(b_pred-batch[TARGET]))\n",
        "        num_samples += len(b_pred)\n",
        "\n",
        "    mse = sq_err.detach().cpu().numpy() / num_samples\n",
        "    mae = abs_err.detach().cpu().numpy() / num_samples\n",
        "\n",
        "    print(f'Results:\\n_____MSE:{round(mse, 5)}\\n_____MAE:{round(mae, 5)}\\n')\n",
        "    return mse, mae\n",
        "\n",
        "\n",
        "  def check_best_score(self, mse, mae):\n",
        "    if self.best_mae > mae or self.best_mse > mse:\n",
        "      self.best_mae = mae\n",
        "      self.best_mse = mse\n",
        "      self.best_state = self.model.state_dict()\n",
        "\n",
        "\n",
        "  def train_model(self, data_train, data_val):\n",
        "    for epoch in range(self.epochs):\n",
        "      print('EPOCH:', epoch+1)\n",
        "      running_loss = 0.0\n",
        "      self.model.train()\n",
        "      for i, batch in tqdm(enumerate(\n",
        "          self.iterate_minibatches(data_train, drop=0.05)), total=len(data_train) // self.batch_size\n",
        "      ):\n",
        "        y_pred = self.model(batch)\n",
        "        loss = self.criterion(y_pred, batch[TARGET])\n",
        "        self.optimizer.zero_grad()\n",
        "        loss.backward()\n",
        "        running_loss += loss.item()\n",
        "        self.optimizer.step()\n",
        "      mse, mae = self.print_metrics(data_val)\n",
        "      self.check_best_score(mse, mae)\n",
        "      if self.wandb:\n",
        "        wandb.log({'Loss': running_loss, \"MSE\":mse, 'MAE':mae, 'Best_MSE':self.best_mse, 'Best_MAE':self.best_mae})\n",
        "    if self.wandb:\n",
        "      wandb.finish()\n",
        "    self.model.load_state_dict(self.best_state)"
      ],
      "metadata": {
        "id": "uo7zbQALsxeD"
      },
      "execution_count": 12,
      "outputs": []
    },
    {
      "cell_type": "code",
      "source": [
        "#Create model\n",
        "model = SalaryModel().to(device)\n",
        "criterion = nn.MSELoss(reduction='sum')\n",
        "optimizer = torch.optim.SGD(model.parameters(), lr=LR)\n",
        "\n",
        "#Create model trainer\n",
        "model_trainer = Trainmodel(model, optimizer, criterion, batch_size=BATCH_SIZE, epochs=EPOCHS, WANDB=True)\n",
        "#Since GPU colab limit has been reached, gotta use CPU and train\\validate model on tiny pieces of data and use SGD as it's faster than Adam\n",
        "model_trainer.train_model(data_train, data_val)\n",
        "print(f'Best MSE: {model_trainer.best_mse}\\nBest MAE: {model_trainer.best_mae}')\n"
      ],
      "metadata": {
        "colab": {
          "base_uri": "https://localhost:8080/",
          "height": 1000,
          "referenced_widgets": [
            "32ee2b6c5bce4c6e9d2e453e80eca796",
            "4f902a61ecb242168959381a1db0ab01",
            "a5afff3b9f5c4541bfa6b4e74eccc87d",
            "18d979b22a684ad7ae07311ab4943a0f",
            "04521dac41984a4dab428ba624eea0f2",
            "485661afcb1d4f0284f054a75f23fb0e",
            "80fe8aa7d6bb455b99fa3392252a7945",
            "38da1f5cf8ab4b18b1d4331349f81226",
            "c3ab2fa8236d483fbdca147aa34b4e50",
            "55e34c574d264c6baafeadf263abbb63",
            "d8dc587d12814be19c60416ca1ceb33f",
            "464247e92e704d429e339a4fb6a3f6c9",
            "2c8b27f1fa984dada075ea53416cabe8",
            "11f434ef26f741bcaf5a8f3aaa3890e5",
            "84a96ae4ebfc4e929cab4f496d046b05",
            "b34d4c713b6b44498eeb0bffb23b8818",
            "8feb97822a1543fa9b65f6566de17169",
            "787fa931bccf48a09042284cf8e7c8d0",
            "2f37abd2c5114b659d4404e99e24024b",
            "708170b39b3c482890ad477945e7c666",
            "832eb281a01f4e1c89ee9e87cef2619b",
            "8d765ba7caf547f297a9c55f1876ad37",
            "24009b31af474db8a0fde0d0866c7990",
            "2a89ca0aedbb4c46ad357fefb3c0a870",
            "1f702c40f8094615999ed82e3d442c62",
            "a0385dd333e844d1bae42a5e7ebac7b3",
            "24427545dccd4125a1387df679dd03f6",
            "bf3edb0c65d04695ac3f70b5160b5ce6",
            "bc09a49e316a407985f95b501bdc9d4a",
            "8da8bb3cfae649ca9d58fe932e56bed8",
            "95dcbe05796c48b39caeb2d2044e7109",
            "1106a420ebc14d4693eb98925884f19f",
            "e168323b33874b4cbc31bec640717581",
            "ff771a9158c2427abce46e0d0ee2e97e",
            "badb2b4d367041d693c45da936925abb",
            "aea9b406562c4fd4b549e805928dd57b",
            "8aa100383d0e4ceda509bf5e959f0dd1",
            "a54eaca4979e4059a7b6607bb5f0a8a9",
            "7b1d3435b5dd411ebf0e47c944f76266",
            "732c5e9c7839453a8b0946d91231b70f",
            "36aa95e5a0d9495789b4de9388fe44b9",
            "72022a0167a24a58aff7c179685de04d",
            "727ab5f05b75416b83270ed227462f35",
            "e18ed2820b344e0ba0c02f372336a8c6",
            "b4b9fa5141184c8b84d7a941983a17e3",
            "501077852c384575ab5aa64d43b31ee0",
            "8f2375d4d0bc432dbd8d9257ba0584ed",
            "7072966f4df4430abdb8ebcc94a284d9",
            "e008e386e66e47129b0a3dad7dd3f726",
            "9dc037df1b4f4637a4e5f4e1d3989997",
            "bb9ec25cdb654ee3a7ae9bda7ce7c422",
            "05c8874631f44a74ac4d9d85049a026a",
            "12befbbdd46f433ab98ecc44f3013370",
            "65fd173edd324d50a019299086344afb",
            "911c775d377043a88d8ca533fc46fa2a",
            "4bebcee8140e48cda6be9039392b2a32",
            "673fe78d05ae4da5857d35dbd23efdc7",
            "5e46db8373be48849c309690d6aea08e",
            "c72b837bba3646adb87f6e1bbf417aa1",
            "8f304fe846ca465b898695293a4bfeab",
            "52ab5c4e1b6e49438cd0956511a37c80",
            "f5a2007feba0457da1c6052e081f7628",
            "75d87192a96d46719eabdfa41e69245b",
            "99ad0e778d884195ac7a26123b0634f9",
            "383054d4d30d4660bfe368e0b15f3cad",
            "dd5e088825324b82a186bb658cedd6a1",
            "821960d982604a63ae2dc6587479e421",
            "16be3e647a4d449b8d7fff910083222e",
            "dd219083689b4e5f8824fb4ebcfcf190",
            "963e872ed1fb469e8edadbe624a61ce0",
            "1be0b7d0e6c84ba0899957fd46abc77d",
            "8d59b6296fb64fe19353ec6847438b42",
            "fb762b9b99254320902f5b48a3367264",
            "d019a4614a3e496eac0db8169bffe258",
            "9f75252ff783442eb86f7747062b5b99",
            "1ac62cf2de764863b17ef7eb5fc34d8b",
            "3a6e5e3807524c20bf191b1e1085ec07",
            "f7a46271cb6e490db36c2df13cabf912",
            "e0b83ec5c3a14da2afb0ede412eb4c34",
            "6764cc294d034b0294a8eb3ba5be8e09",
            "14e2f7244bc54e38870ba2abb0f39b8a",
            "ce64cbb4b32b4bf49515d0490ef09785",
            "85ca63ddcf764c37a5dbd8a6341d69ce",
            "d2ed8b54ed97430a944e505f6e2fe580",
            "d339fb7926b4460ebe552cccc813565b",
            "c85c812edd154b05ab4dc71604e4aaba",
            "69d4133d09504c498ba93a3154b561cf",
            "cad988ef5c37491fb099402db5f3a157",
            "acb9fc3e332d4332afe76de6912aad08",
            "74ddd665098b49c99ba2a66fb73e7386",
            "8f2d9a53003b4e408f3df1ebb9213490",
            "325efdb14ddf4ad38b088f6a7769e288",
            "78512915994d447aac23671a0b6e8dd5",
            "4e734667fcb64898bf493814cb46fb33",
            "c2a73f4ec1344be4b77f8b0cfbade233",
            "a8607f24c1e24455b504efb941485f66",
            "02e5c6e973fd41baacb7fcd90877e37d",
            "329b511de15e4312b5101b3284020a16",
            "2a4270ae7a0d424095d3c16f6c674b09",
            "e13e035cc181425d98621861a553e4b7",
            "a0ff3693b3a64b0887717aadd91f2412",
            "c5d4b247f4c248218ced03809efabd8a",
            "fe3e41ab7ecc491496baa4d2b91da966",
            "bebf95f08615442cbd9730bea95bcf0c",
            "172393001e934049bf4d868a27f64802",
            "8a8abee9c83d46bf85759db5bb32f711",
            "97eee06ca56d42868e18786a49ad0727",
            "686714e1f37641daab4261a0436cf44f",
            "4de43cc433cd48a6b28027475e8adb73",
            "7002c3aec45c4fca8778cb07c55200d2",
            "8666a99630324f70b6aa26434e9ed3d4",
            "d444276ec4a4437b85da03d0b1e08b46",
            "3b86e0a4c6b64108b06ae9499a3b8bc3",
            "5a301a6456594857bed233610308f719",
            "90765cafcc574f779a1cfd32c43acc15",
            "fac18aa5c441400eb62ff0540103f273",
            "ebc4332dd008436abcf51b320075c3e2",
            "d55e910a196c405489b6fa2b227b13c1"
          ]
        },
        "id": "Y5UnHqIj7orn",
        "outputId": "c6fd3e9c-60da-49fe-87eb-550f120f4cd2"
      },
      "execution_count": null,
      "outputs": [
        {
          "output_type": "stream",
          "name": "stderr",
          "text": [
            "\u001b[34m\u001b[1mwandb\u001b[0m: Currently logged in as: \u001b[33mdimildizio\u001b[0m. Use \u001b[1m`wandb login --relogin`\u001b[0m to force relogin\n"
          ]
        },
        {
          "output_type": "display_data",
          "data": {
            "text/plain": [
              "<IPython.core.display.HTML object>"
            ],
            "text/html": [
              "Tracking run with wandb version 0.15.7"
            ]
          },
          "metadata": {}
        },
        {
          "output_type": "display_data",
          "data": {
            "text/plain": [
              "<IPython.core.display.HTML object>"
            ],
            "text/html": [
              "Run data is saved locally in <code>/content/wandb/run-20230726_234411-day5lf9p</code>"
            ]
          },
          "metadata": {}
        },
        {
          "output_type": "display_data",
          "data": {
            "text/plain": [
              "<IPython.core.display.HTML object>"
            ],
            "text/html": [
              "Syncing run <strong><a href='https://wandb.ai/dimildizio/nlp-job-text-classifier/runs/day5lf9p' target=\"_blank\">winter-darkness-25</a></strong> to <a href='https://wandb.ai/dimildizio/nlp-job-text-classifier' target=\"_blank\">Weights & Biases</a> (<a href='https://wandb.me/run' target=\"_blank\">docs</a>)<br/>"
            ]
          },
          "metadata": {}
        },
        {
          "output_type": "display_data",
          "data": {
            "text/plain": [
              "<IPython.core.display.HTML object>"
            ],
            "text/html": [
              " View project at <a href='https://wandb.ai/dimildizio/nlp-job-text-classifier' target=\"_blank\">https://wandb.ai/dimildizio/nlp-job-text-classifier</a>"
            ]
          },
          "metadata": {}
        },
        {
          "output_type": "display_data",
          "data": {
            "text/plain": [
              "<IPython.core.display.HTML object>"
            ],
            "text/html": [
              " View run at <a href='https://wandb.ai/dimildizio/nlp-job-text-classifier/runs/day5lf9p' target=\"_blank\">https://wandb.ai/dimildizio/nlp-job-text-classifier/runs/day5lf9p</a>"
            ]
          },
          "metadata": {}
        },
        {
          "output_type": "stream",
          "name": "stdout",
          "text": [
            "EPOCH: 1\n"
          ]
        },
        {
          "output_type": "display_data",
          "data": {
            "text/plain": [
              "  0%|          | 0/12238 [00:00<?, ?it/s]"
            ],
            "application/vnd.jupyter.widget-view+json": {
              "version_major": 2,
              "version_minor": 0,
              "model_id": "32ee2b6c5bce4c6e9d2e453e80eca796"
            }
          },
          "metadata": {}
        },
        {
          "output_type": "stream",
          "name": "stdout",
          "text": [
            "Results:\n",
            "_____MSE:0.30944\n",
            "______MAE:0.48935\n",
            "\n",
            "EPOCH: 2\n"
          ]
        },
        {
          "output_type": "display_data",
          "data": {
            "text/plain": [
              "  0%|          | 0/12238 [00:00<?, ?it/s]"
            ],
            "application/vnd.jupyter.widget-view+json": {
              "version_major": 2,
              "version_minor": 0,
              "model_id": "464247e92e704d429e339a4fb6a3f6c9"
            }
          },
          "metadata": {}
        },
        {
          "output_type": "stream",
          "name": "stdout",
          "text": [
            "Results:\n",
            "_____MSE:0.16945\n",
            "______MAE:0.34089\n",
            "\n",
            "EPOCH: 3\n"
          ]
        },
        {
          "output_type": "display_data",
          "data": {
            "text/plain": [
              "  0%|          | 0/12238 [00:00<?, ?it/s]"
            ],
            "application/vnd.jupyter.widget-view+json": {
              "version_major": 2,
              "version_minor": 0,
              "model_id": "24009b31af474db8a0fde0d0866c7990"
            }
          },
          "metadata": {}
        },
        {
          "output_type": "stream",
          "name": "stdout",
          "text": [
            "Results:\n",
            "_____MSE:0.10279\n",
            "______MAE:0.24619\n",
            "\n",
            "EPOCH: 4\n"
          ]
        },
        {
          "output_type": "display_data",
          "data": {
            "text/plain": [
              "  0%|          | 0/12238 [00:00<?, ?it/s]"
            ],
            "application/vnd.jupyter.widget-view+json": {
              "version_major": 2,
              "version_minor": 0,
              "model_id": "ff771a9158c2427abce46e0d0ee2e97e"
            }
          },
          "metadata": {}
        },
        {
          "output_type": "stream",
          "name": "stdout",
          "text": [
            "Results:\n",
            "_____MSE:0.08956\n",
            "______MAE:0.22679\n",
            "\n",
            "EPOCH: 5\n"
          ]
        },
        {
          "output_type": "display_data",
          "data": {
            "text/plain": [
              "  0%|          | 0/12238 [00:00<?, ?it/s]"
            ],
            "application/vnd.jupyter.widget-view+json": {
              "version_major": 2,
              "version_minor": 0,
              "model_id": "b4b9fa5141184c8b84d7a941983a17e3"
            }
          },
          "metadata": {}
        },
        {
          "output_type": "stream",
          "name": "stdout",
          "text": [
            "Results:\n",
            "_____MSE:0.06833\n",
            "______MAE:0.19231\n",
            "\n",
            "EPOCH: 6\n"
          ]
        },
        {
          "output_type": "display_data",
          "data": {
            "text/plain": [
              "  0%|          | 0/12238 [00:00<?, ?it/s]"
            ],
            "application/vnd.jupyter.widget-view+json": {
              "version_major": 2,
              "version_minor": 0,
              "model_id": "4bebcee8140e48cda6be9039392b2a32"
            }
          },
          "metadata": {}
        },
        {
          "output_type": "stream",
          "name": "stdout",
          "text": [
            "Results:\n",
            "_____MSE:0.0667\n",
            "______MAE:0.18968\n",
            "\n",
            "EPOCH: 7\n"
          ]
        },
        {
          "output_type": "display_data",
          "data": {
            "text/plain": [
              "  0%|          | 0/12238 [00:00<?, ?it/s]"
            ],
            "application/vnd.jupyter.widget-view+json": {
              "version_major": 2,
              "version_minor": 0,
              "model_id": "821960d982604a63ae2dc6587479e421"
            }
          },
          "metadata": {}
        },
        {
          "output_type": "stream",
          "name": "stdout",
          "text": [
            "Results:\n",
            "_____MSE:0.06672\n",
            "______MAE:0.19065\n",
            "\n",
            "EPOCH: 8\n"
          ]
        },
        {
          "output_type": "display_data",
          "data": {
            "text/plain": [
              "  0%|          | 0/12238 [00:00<?, ?it/s]"
            ],
            "application/vnd.jupyter.widget-view+json": {
              "version_major": 2,
              "version_minor": 0,
              "model_id": "f7a46271cb6e490db36c2df13cabf912"
            }
          },
          "metadata": {}
        },
        {
          "output_type": "stream",
          "name": "stdout",
          "text": [
            "Results:\n",
            "_____MSE:0.06333\n",
            "______MAE:0.18425\n",
            "\n",
            "EPOCH: 9\n"
          ]
        },
        {
          "output_type": "display_data",
          "data": {
            "text/plain": [
              "  0%|          | 0/12238 [00:00<?, ?it/s]"
            ],
            "application/vnd.jupyter.widget-view+json": {
              "version_major": 2,
              "version_minor": 0,
              "model_id": "acb9fc3e332d4332afe76de6912aad08"
            }
          },
          "metadata": {}
        },
        {
          "output_type": "stream",
          "name": "stdout",
          "text": [
            "Results:\n",
            "_____MSE:0.06358\n",
            "______MAE:0.18572\n",
            "\n",
            "EPOCH: 10\n"
          ]
        },
        {
          "output_type": "display_data",
          "data": {
            "text/plain": [
              "  0%|          | 0/12238 [00:00<?, ?it/s]"
            ],
            "application/vnd.jupyter.widget-view+json": {
              "version_major": 2,
              "version_minor": 0,
              "model_id": "e13e035cc181425d98621861a553e4b7"
            }
          },
          "metadata": {}
        },
        {
          "output_type": "stream",
          "name": "stdout",
          "text": [
            "Results:\n",
            "_____MSE:0.07783\n",
            "______MAE:0.2092\n",
            "\n"
          ]
        },
        {
          "output_type": "display_data",
          "data": {
            "text/plain": [
              "<IPython.core.display.HTML object>"
            ],
            "text/html": [
              "Waiting for W&B process to finish... <strong style=\"color:green\">(success).</strong>"
            ]
          },
          "metadata": {}
        },
        {
          "output_type": "display_data",
          "data": {
            "text/plain": [
              "VBox(children=(Label(value='0.001 MB of 0.001 MB uploaded (0.000 MB deduped)\\r'), FloatProgress(value=1.0, max…"
            ],
            "application/vnd.jupyter.widget-view+json": {
              "version_major": 2,
              "version_minor": 0,
              "model_id": "8666a99630324f70b6aa26434e9ed3d4"
            }
          },
          "metadata": {}
        },
        {
          "output_type": "display_data",
          "data": {
            "text/plain": [
              "<IPython.core.display.HTML object>"
            ],
            "text/html": [
              "<style>\n",
              "    table.wandb td:nth-child(1) { padding: 0 10px; text-align: left ; width: auto;} td:nth-child(2) {text-align: left ; width: 100%}\n",
              "    .wandb-row { display: flex; flex-direction: row; flex-wrap: wrap; justify-content: flex-start; width: 100% }\n",
              "    .wandb-col { display: flex; flex-direction: column; flex-basis: 100%; flex: 1; padding: 10px; }\n",
              "    </style>\n",
              "<div class=\"wandb-row\"><div class=\"wandb-col\"><h3>Run history:</h3><br/><table class=\"wandb\"><tr><td>Best_MAE</td><td>█▅▂▂▁▁▁▁▁▁</td></tr><tr><td>Best_MSE</td><td>█▄▂▂▁▁▁▁▁▁</td></tr><tr><td>Loss</td><td>█▃▃▂▂▂▂▁▁▁</td></tr><tr><td>MAE</td><td>█▅▂▂▁▁▁▁▁▂</td></tr><tr><td>MSE</td><td>█▄▂▂▁▁▁▁▁▁</td></tr></table><br/></div><div class=\"wandb-col\"><h3>Run summary:</h3><br/><table class=\"wandb\"><tr><td>Best_MAE</td><td>0.18425</td></tr><tr><td>Best_MSE</td><td>0.06333</td></tr><tr><td>Loss</td><td>9812.64921</td></tr><tr><td>MAE</td><td>0.2092</td></tr><tr><td>MSE</td><td>0.07783</td></tr></table><br/></div></div>"
            ]
          },
          "metadata": {}
        },
        {
          "output_type": "display_data",
          "data": {
            "text/plain": [
              "<IPython.core.display.HTML object>"
            ],
            "text/html": [
              " View run <strong style=\"color:#cdcd00\">winter-darkness-25</strong> at: <a href='https://wandb.ai/dimildizio/nlp-job-text-classifier/runs/day5lf9p' target=\"_blank\">https://wandb.ai/dimildizio/nlp-job-text-classifier/runs/day5lf9p</a><br/>Synced 5 W&B file(s), 0 media file(s), 0 artifact file(s) and 0 other file(s)"
            ]
          },
          "metadata": {}
        },
        {
          "output_type": "display_data",
          "data": {
            "text/plain": [
              "<IPython.core.display.HTML object>"
            ],
            "text/html": [
              "Find logs at: <code>./wandb/run-20230726_234411-day5lf9p/logs</code>"
            ]
          },
          "metadata": {}
        },
        {
          "output_type": "stream",
          "name": "stdout",
          "text": [
            "Best MSE: 0.06332707785944458\n",
            "Best MAE: 0.18425446672513993\n"
          ]
        }
      ]
    },
    {
      "cell_type": "markdown",
      "source": [
        "# Explaining the result"
      ],
      "metadata": {
        "id": "Sdu_STnQJHw_"
      }
    },
    {
      "cell_type": "markdown",
      "source": [
        "Straight codepaste"
      ],
      "metadata": {
        "id": "0gCcnSTwReFj"
      }
    },
    {
      "cell_type": "code",
      "source": [
        "def explain(model, sample, col_name='Title'):\n",
        "    \"\"\" Computes the effect each word had on model predictions \"\"\"\n",
        "    sample = dict(sample)\n",
        "    sample_col_tokens = [tokens[inv_tok_idx.get(tok, 0)] for tok in sample[col_name].split()]\n",
        "    data_drop_one_token = pd.DataFrame([sample] * (len(sample_col_tokens) + 1))\n",
        "\n",
        "    for drop_i in range(len(sample_col_tokens)):\n",
        "        data_drop_one_token.loc[drop_i, col_name] = ' '.join(UNK if i == drop_i else tok\n",
        "                                                   for i, tok in enumerate(sample_col_tokens))\n",
        "\n",
        "    *predictions_drop_one_token, baseline_pred = model(make_batch(data_drop_one_token, device=device)).detach().cpu()\n",
        "    diffs = baseline_pred - torch.Tensor(predictions_drop_one_token)\n",
        "    return list(zip(sample_col_tokens, diffs))"
      ],
      "metadata": {
        "id": "boWYAH2FJKgW"
      },
      "execution_count": null,
      "outputs": []
    },
    {
      "cell_type": "code",
      "source": [
        "from IPython.display import HTML, display_html\n",
        "\n",
        "\n",
        "def draw_html(tokens_and_weights, cmap=plt.get_cmap(\"bwr\"), display=True,\n",
        "              token_template=\"\"\"<span style=\"background-color: {color_hex}\">{token}</span>\"\"\",\n",
        "              font_style=\"font-size:14px;\"\n",
        "             ):\n",
        "\n",
        "    def get_color_hex(weight):\n",
        "        rgba = cmap(1. / (1 + np.exp(float(weight))), bytes=True)\n",
        "        return '#%02X%02X%02X' % rgba[:3]\n",
        "\n",
        "    tokens_html = [\n",
        "        token_template.format(token=token, color_hex=get_color_hex(weight))\n",
        "        for token, weight in tokens_and_weights\n",
        "    ]\n",
        "\n",
        "\n",
        "    raw_html = \"\"\"<p style=\"{}\">{}</p>\"\"\".format(font_style, ' '.join(tokens_html))\n",
        "    if display:\n",
        "        display_html(HTML(raw_html))\n",
        "\n",
        "    return raw_html\n"
      ],
      "metadata": {
        "id": "RSpQQFWGJSFg"
      },
      "execution_count": null,
      "outputs": []
    },
    {
      "cell_type": "code",
      "source": [
        "i = 36605\n",
        "tokens_and_weights = explain(model, converted_df.loc[i], \"Title\")\n",
        "draw_html([(tok, weight * 5) for tok, weight in tokens_and_weights], font_style='font-size:20px;');\n",
        "\n",
        "tokens_and_weights = explain(model, converted_df.loc[i], \"FullDescription\")\n",
        "draw_html([(tok, weight * 10) for tok, weight in tokens_and_weights])"
      ],
      "metadata": {
        "id": "0NANWokVJT1P",
        "outputId": "64c05b9c-3115-49e8-d121-6d15cd610a5b",
        "colab": {
          "base_uri": "https://localhost:8080/",
          "height": 322
        }
      },
      "execution_count": null,
      "outputs": [
        {
          "output_type": "display_data",
          "data": {
            "text/html": [
              "<p style=\"font-size:20px;\"><span style=\"background-color: #FCFCFF\">sales</span> <span style=\"background-color: #E6E6FF\">specialist</span> <span style=\"background-color: #FFA8A8\">iv</span> <span style=\"background-color: #FFF6F6\">access</span> <span style=\"background-color: #FFBEBE\">and</span> <span style=\"background-color: #FFF6F6\">infusion</span></p>"
            ]
          },
          "metadata": {}
        },
        {
          "output_type": "display_data",
          "data": {
            "text/html": [
              "<p style=\"font-size:14px;\"><span style=\"background-color: #FFDADA\">sales</span> <span style=\"background-color: #FFDADA\">representative</span> <span style=\"background-color: #FFDADA\">medical</span> <span style=\"background-color: #FFDADA\">sales</span> <span style=\"background-color: #FFDADA\">iv</span> <span style=\"background-color: #FFDADA\">access</span> <span style=\"background-color: #FFDADA\">and</span> <span style=\"background-color: #FFDADA\">infusion</span> <span style=\"background-color: #FFDADA\">an</span> <span style=\"background-color: #FFDADA\">opportunity</span> <span style=\"background-color: #FFDADA\">to</span> <span style=\"background-color: #FFDADA\">work</span> <span style=\"background-color: #FFDADA\">for</span> <span style=\"background-color: #FFDADA\">the</span> <span style=\"background-color: #FFDADA\">industry</span> <span style=\"background-color: #FFDADA\">leading</span> <span style=\"background-color: #FFDADA\">manufacturer</span> <span style=\"background-color: #FFDADA\">of</span> <span style=\"background-color: #FFDADA\">iv</span> <span style=\"background-color: #FFDADA\">access</span> <span style=\"background-color: #FFDADA\">and</span> <span style=\"background-color: #FFDADA\">infusion</span> <span style=\"background-color: #FFDADA\">solutions</span> <span style=\"background-color: #FFDADA\">.</span> <span style=\"background-color: #FFDADA\">formally</span> <span style=\"background-color: #FFDADA\">recognised</span> <span style=\"background-color: #FFDADA\">as</span> <span style=\"background-color: #FFDADA\">the</span> <span style=\"background-color: #FFDADA\">number</span> <span style=\"background-color: #FFDADA\">****</span> <span style=\"background-color: #FFDADA\">company</span> <span style=\"background-color: #FFDADA\">in</span> <span style=\"background-color: #FFDADA\">this</span> <span style=\"background-color: #FFDADA\">market</span> <span style=\"background-color: #FFDADA\">space</span> <span style=\"background-color: #FFD3D3\">,</span> <span style=\"background-color: #FFDADA\">our</span> <span style=\"background-color: #FFDEDE\">client</span> <span style=\"background-color: #FFDADA\">are</span> <span style=\"background-color: #FFDADA\">an</span> <span style=\"background-color: #FFDADA\">ethical</span> <span style=\"background-color: #FFDADA\">and</span> <span style=\"background-color: #FFDADA\">dynamic</span> <span style=\"background-color: #FFDADA\">organisation</span> <span style=\"background-color: #FFDADA\">absolutely</span> <span style=\"background-color: #FFDADA\">committed</span> <span style=\"background-color: #FFDADA\">to</span> <span style=\"background-color: #FFDADA\">the</span> <span style=\"background-color: #FFDADA\">advancement</span> <span style=\"background-color: #FFDADA\">of</span> <span style=\"background-color: #FFDADA\">innovative</span> <span style=\"background-color: #FFDADA\">technologies</span> <span style=\"background-color: #FFDADA\">.</span> <span style=\"background-color: #FFDADA\">job</span> <span style=\"background-color: #FFDADA\">title</span> <span style=\"background-color: #FFDADA\">:</span> <span style=\"background-color: #FFDADA\">sales</span> <span style=\"background-color: #FFDADA\">specialist</span> <span style=\"background-color: #FFDADA\">iv</span> <span style=\"background-color: #FFDADA\">access</span> <span style=\"background-color: #FFDADA\">and</span> <span style=\"background-color: #FFDADA\">infusion</span> <span style=\"background-color: #FFDADA\">selling</span> <span style=\"background-color: #FFDADA\">:</span> <span style=\"background-color: #FFDADA\">medication</span> <span style=\"background-color: #FFDADA\">delivery</span> <span style=\"background-color: #FFE6E6\">solutions</span> <span style=\"background-color: #FFE4E4\">selling</span> <span style=\"background-color: #FFD6D6\">to</span> <span style=\"background-color: #FFDADA\">:</span> <span style=\"background-color: #FFDADA\">iv</span> <span style=\"background-color: #FFDADA\">teams</span> <span style=\"background-color: #FFDADA\">,</span> <span style=\"background-color: #FFDADA\">infection</span> <span style=\"background-color: #FFDADA\">control</span> <span style=\"background-color: #FFDADA\">,</span> <span style=\"background-color: #FFDADA\">lead</span> <span style=\"background-color: #FFD8D8\">intensive</span> <span style=\"background-color: #FFD3D3\">care</span> <span style=\"background-color: #FFDADA\">nurse</span> <span style=\"background-color: #FFDADA\">specialists</span> <span style=\"background-color: #FFDADA\">,</span> <span style=\"background-color: #FFDADA\">ward</span> <span style=\"background-color: #FFDADA\">managers</span> <span style=\"background-color: #FFDADA\">territory</span> <span style=\"background-color: #FFDADA\">:</span> <span style=\"background-color: #FFDADA\">east</span> <span style=\"background-color: #FFDADA\">midlands</span> <span style=\"background-color: #FFDADA\">location</span> <span style=\"background-color: #FFDADA\">:</span> <span style=\"background-color: #FFDADA\">east</span> <span style=\"background-color: #FFDADA\">midlands</span> <span style=\"background-color: #FFDADA\">package</span> <span style=\"background-color: #FFD6D6\">:</span> <span style=\"background-color: #FFDADA\">basic</span> <span style=\"background-color: #FFD6D6\">:</span> <span style=\"background-color: #FFD8D8\">****</span> <span style=\"background-color: #FFD6D6\">k</span> <span style=\"background-color: #FFDEDE\">****</span> <span style=\"background-color: #FFDEDE\">k</span> <span style=\"background-color: #FFDEDE\">,</span> <span style=\"background-color: #FFDADA\">uncapped</span> <span style=\"background-color: #FFDADA\">bonus</span> <span style=\"background-color: #FFDADA\">in</span> <span style=\"background-color: #FFDADA\">addition</span> <span style=\"background-color: #FFDADA\">,</span> <span style=\"background-color: #FFDADA\">full</span> <span style=\"background-color: #FFDADA\">corporate</span> <span style=\"background-color: #FFDADA\">benefits</span> <span style=\"background-color: #FFDADA\">company</span> <span style=\"background-color: #FFDADA\">information</span> <span style=\"background-color: #FFDADA\">hugely</span> <span style=\"background-color: #FFDADA\">ethical</span> <span style=\"background-color: #FFDADA\">and</span> <span style=\"background-color: #FFD3D3\">professional</span> <span style=\"background-color: #FFDCDC\">global</span> <span style=\"background-color: #FFD3D3\">organisation</span> <span style=\"background-color: #FFDADA\">extremely</span> <span style=\"background-color: #FFDADA\">well</span> <span style=\"background-color: #FFDADA\">established</span> <span style=\"background-color: #FFDADA\">in</span> <span style=\"background-color: #FFDADA\">the</span> <span style=\"background-color: #FFD8D8\">uk</span> <span style=\"background-color: #FFDADA\">the</span> <span style=\"background-color: #FFE2E2\">market</span> <span style=\"background-color: #FFD2D2\">leader</span> <span style=\"background-color: #FFE0E0\">across</span> <span style=\"background-color: #FFDADA\">all</span> <span style=\"background-color: #FFDADA\">of</span> <span style=\"background-color: #FFDADA\">their</span> <span style=\"background-color: #FFDADA\">core</span> <span style=\"background-color: #FFDADA\">business</span> <span style=\"background-color: #FFDADA\">areas</span> <span style=\"background-color: #FFDADA\">focus</span> <span style=\"background-color: #FFDADA\">on</span> <span style=\"background-color: #FFDADA\">providing</span> <span style=\"background-color: #FFDADA\">cutting</span> <span style=\"background-color: #FFDADA\">edge</span> <span style=\"background-color: #FFDADA\">solutions</span> <span style=\"background-color: #FFDADA\">along</span> <span style=\"background-color: #FFDADA\">with</span> <span style=\"background-color: #FFD8D8\">outstanding</span> <span style=\"background-color: #FFD3D3\">service</span> <span style=\"background-color: #FFD8D8\">and</span> <span style=\"background-color: #FFD6D6\">support</span> <span style=\"background-color: #FFDADA\">a</span> <span style=\"background-color: #FFDADA\">business</span> <span style=\"background-color: #FFDADA\">that</span> <span style=\"background-color: #FFDADA\">retain</span> <span style=\"background-color: #FFDADA\">talented</span> <span style=\"background-color: #FFDADA\">personnel</span> <span style=\"background-color: #FFDADA\">by</span> <span style=\"background-color: #FFDADA\">offering</span> <span style=\"background-color: #FFD6D6\">a</span> <span style=\"background-color: #FFDEDE\">strong</span> <span style=\"background-color: #FFDEDE\">platform</span> <span style=\"background-color: #FFDCDC\">for</span> <span style=\"background-color: #FFDADA\">career</span> <span style=\"background-color: #FFDADA\">development</span> <span style=\"background-color: #FFDADA\">sales</span> <span style=\"background-color: #FFDADA\">specialist</span> <span style=\"background-color: #FFDADA\">iv</span> <span style=\"background-color: #FFDADA\">access</span> <span style=\"background-color: #FFDADA\">and</span> <span style=\"background-color: #FFDADA\">infusion</span> <span style=\"background-color: #FFDADA\">you</span> <span style=\"background-color: #FFDADA\">must</span> <span style=\"background-color: #FFDADA\">have</span> <span style=\"background-color: #FFDADA\">/</span> <span style=\"background-color: #FFDADA\">be</span> <span style=\"background-color: #FFDADA\">the</span> <span style=\"background-color: #FFDADA\">following</span> <span style=\"background-color: #FFDADA\">at</span> <span style=\"background-color: #FFE6E6\">least</span> <span style=\"background-color: #FFCCCC\">2</span> <span style=\"background-color: #FFFEFE\">years</span> <span style=\"background-color: #FEFEFF\">medical</span> <span style=\"background-color: #FFF4F4\">device</span> <span style=\"background-color: #FFDADA\">sales</span> <span style=\"background-color: #FFD0D0\">experience</span> <span style=\"background-color: #FFD3D3\">.</span> <span style=\"background-color: #FFD8D8\">candidates</span> <span style=\"background-color: #FFDADA\">who</span> <span style=\"background-color: #FFDADA\">have</span> <span style=\"background-color: #FFDADA\">sold</span> <span style=\"background-color: #FFDADA\">disposables</span> <span style=\"background-color: #FFDADA\">/</span> <span style=\"background-color: #FFDADA\">consumables</span> <span style=\"background-color: #FFDADA\">or</span> <span style=\"background-color: #FFDADA\">similar</span> <span style=\"background-color: #FFDADA\">into</span> <span style=\"background-color: #FFDADA\">hospitals</span> <span style=\"background-color: #FFDADA\">would</span> <span style=\"background-color: #FFDADA\">be</span> <span style=\"background-color: #FFDADA\">of</span> <span style=\"background-color: #FFDADA\">particular</span> <span style=\"background-color: #FFDADA\">interest</span> <span style=\"background-color: #FFDADA\">.</span> <span style=\"background-color: #FFDADA\">candidates</span> <span style=\"background-color: #FFDADA\">must</span> <span style=\"background-color: #FFDADA\">have</span> <span style=\"background-color: #FFDADA\">sold</span> <span style=\"background-color: #FFD6D6\">into</span> <span style=\"background-color: #FFDADA\">hospitals</span> <span style=\"background-color: #FFDCDC\">demonstrable</span> <span style=\"background-color: #FFDCDC\">performance</span> <span style=\"background-color: #FFDADA\">and</span> <span style=\"background-color: #FFDADA\">achievements</span> <span style=\"background-color: #FFDADA\">so</span> <span style=\"background-color: #FFDADA\">far</span> <span style=\"background-color: #FFDADA\">personable</span> <span style=\"background-color: #FFDADA\">,</span> <span style=\"background-color: #FFDADA\">adaptable</span> <span style=\"background-color: #FFDADA\">and</span> <span style=\"background-color: #FFDADA\">willing</span> <span style=\"background-color: #FFDADA\">to</span> <span style=\"background-color: #FFDADA\">learn</span> <span style=\"background-color: #FFDADA\">keen</span> <span style=\"background-color: #FFDADA\">and</span> <span style=\"background-color: #FFDADA\">eager</span> <span style=\"background-color: #FFDADA\">to</span> <span style=\"background-color: #FFDADA\">be</span> <span style=\"background-color: #FFDADA\">a</span> <span style=\"background-color: #FFDADA\">success</span> <span style=\"background-color: #FFDADA\">candidates</span> <span style=\"background-color: #FFDADA\">must</span> <span style=\"background-color: #FFDADA\">have</span> <span style=\"background-color: #FFDADA\">a</span> <span style=\"background-color: #FFDADA\">degree</span> <span style=\"background-color: #FFDADA\">or</span> <span style=\"background-color: #FFDADA\">at</span> <span style=\"background-color: #FFDADA\">least</span> <span style=\"background-color: #FFDADA\">be</span> <span style=\"background-color: #FFDADA\">able</span> <span style=\"background-color: #FFDADA\">to</span> <span style=\"background-color: #FFDADA\">show</span> <span style=\"background-color: #FFDADA\">a</span> <span style=\"background-color: #FFDADA\">strong</span> <span style=\"background-color: #FFDADA\">ability</span> <span style=\"background-color: #FFDADA\">to</span> <span style=\"background-color: #FFD8D8\">learn</span> <span style=\"background-color: #FFDADA\">role</span> <span style=\"background-color: #FFDADA\">information</span> <span style=\"background-color: #FFDADA\">managing</span> <span style=\"background-color: #FFDADA\">the</span> <span style=\"background-color: #FFDADA\">east</span> <span style=\"background-color: #FFDADA\">midlands</span> <span style=\"background-color: #FFDADA\">region</span> <span style=\"background-color: #FFDADA\">selling</span> <span style=\"background-color: #FFDCDC\">across</span> <span style=\"background-color: #FFDCDC\">the</span> <span style=\"background-color: #FFDADA\">company</span> <span style=\"background-color: #FFDADA\">'</span> <span style=\"background-color: #FFDADA\">s</span> <span style=\"background-color: #FFDADA\">range</span> <span style=\"background-color: #FFDADA\">of</span> <span style=\"background-color: #FFDADA\">iv</span> <span style=\"background-color: #FFDADA\">and</span> <span style=\"background-color: #FFDADA\">infusion</span> <span style=\"background-color: #FFDADA\">solutions</span> <span style=\"background-color: #FFDADA\">portfolio</span> <span style=\"background-color: #FFE0E0\">selling</span> <span style=\"background-color: #FFE6E6\">into</span> <span style=\"background-color: #FFE6E6\">lead</span> <span style=\"background-color: #FFDEDE\">intensive</span> <span style=\"background-color: #FFD3D3\">care</span> <span style=\"background-color: #FFDADA\">nurse</span> <span style=\"background-color: #FFDADA\">specialists</span> <span style=\"background-color: #FFDADA\">,</span> <span style=\"background-color: #FFDADA\">ward</span> <span style=\"background-color: #FFDADA\">managers</span> <span style=\"background-color: #FFDADA\">,</span> <span style=\"background-color: #FFDADA\">iv</span> <span style=\"background-color: #FFDADA\">teams</span> <span style=\"background-color: #FFDADA\">,</span> <span style=\"background-color: #FFDCDC\">infection</span> <span style=\"background-color: #FFD8D8\">control</span> <span style=\"background-color: #FFDEDE\">teams</span> <span style=\"background-color: #FFDADA\">,</span> <span style=\"background-color: #FFDADA\">procurement</span> <span style=\"background-color: #FFDADA\">sales</span> <span style=\"background-color: #FFDADA\">specialist</span> <span style=\"background-color: #FFDADA\">iv</span> <span style=\"background-color: #FFDADA\">access</span> <span style=\"background-color: #FFDADA\">and</span> <span style=\"background-color: #FFDADA\">infusion</span> <span style=\"background-color: #FFDADA\">candidates</span> <span style=\"background-color: #FFDADA\">must</span> <span style=\"background-color: #FFDADA\">be</span> <span style=\"background-color: #FFDADA\">eligible</span> <span style=\"background-color: #FFDADA\">to</span> <span style=\"background-color: #FFDADA\">work</span> <span style=\"background-color: #FFDADA\">and</span> <span style=\"background-color: #FFDADA\">live</span> <span style=\"background-color: #FFDADA\">in</span> <span style=\"background-color: #FFDADA\">the</span> <span style=\"background-color: #FFDADA\">uk</span> <span style=\"background-color: #FFDADA\">.</span> <span style=\"background-color: #FFDADA\">please</span> <span style=\"background-color: #FFDADA\">contact</span> <span style=\"background-color: #FFDADA\">allan</span> <span style=\"background-color: #FFDADA\">waller</span> <span style=\"background-color: #FFDADA\">on</span> <span style=\"background-color: #FFDADA\">****</span> <span style=\"background-color: #FFDADA\">****</span> <span style=\"background-color: #FFDADA\">****</span> <span style=\"background-color: #FFDADA\">or</span> <span style=\"background-color: #FFDADA\">please</span> <span style=\"background-color: #FFDADA\">hit</span> <span style=\"background-color: #FFDADA\">the</span> <span style=\"background-color: #FFDADA\">apply</span> <span style=\"background-color: #FFDADA\">button</span> <span style=\"background-color: #FFDADA\">.</span> <span style=\"background-color: #FFDADA\">this</span> <span style=\"background-color: #FFDADA\">job</span> <span style=\"background-color: #FFDADA\">was</span> <span style=\"background-color: #FFDADA\">originally</span> <span style=\"background-color: #FFDADA\">posted</span> <span style=\"background-color: #FFDADA\">as</span> <span style=\"background-color: #FFDADA\">www</span> <span style=\"background-color: #FFDADA\">.</span> <span style=\"background-color: #FFDADA\">salestarget</span> <span style=\"background-color: #FFDADA\">.</span> <span style=\"background-color: #FFDADA\">co</span> <span style=\"background-color: #FFDADA\">.</span> <span style=\"background-color: #FFDADA\">uk</span> <span style=\"background-color: #FFDADA\">/</span> <span style=\"background-color: #FFDADA\">jobseeking</span> <span style=\"background-color: #FFDADA\">/</span> <span style=\"background-color: #FFDADA\">UNK</span> <span style=\"background-color: #FFDADA\">****</span></p>"
            ]
          },
          "metadata": {}
        },
        {
          "output_type": "execute_result",
          "data": {
            "text/plain": [
              "'<p style=\"font-size:14px;\"><span style=\"background-color: #FFDADA\">sales</span> <span style=\"background-color: #FFDADA\">representative</span> <span style=\"background-color: #FFDADA\">medical</span> <span style=\"background-color: #FFDADA\">sales</span> <span style=\"background-color: #FFDADA\">iv</span> <span style=\"background-color: #FFDADA\">access</span> <span style=\"background-color: #FFDADA\">and</span> <span style=\"background-color: #FFDADA\">infusion</span> <span style=\"background-color: #FFDADA\">an</span> <span style=\"background-color: #FFDADA\">opportunity</span> <span style=\"background-color: #FFDADA\">to</span> <span style=\"background-color: #FFDADA\">work</span> <span style=\"background-color: #FFDADA\">for</span> <span style=\"background-color: #FFDADA\">the</span> <span style=\"background-color: #FFDADA\">industry</span> <span style=\"background-color: #FFDADA\">leading</span> <span style=\"background-color: #FFDADA\">manufacturer</span> <span style=\"background-color: #FFDADA\">of</span> <span style=\"background-color: #FFDADA\">iv</span> <span style=\"background-color: #FFDADA\">access</span> <span style=\"background-color: #FFDADA\">and</span> <span style=\"background-color: #FFDADA\">infusion</span> <span style=\"background-color: #FFDADA\">solutions</span> <span style=\"background-color: #FFDADA\">.</span> <span style=\"background-color: #FFDADA\">formally</span> <span style=\"background-color: #FFDADA\">recognised</span> <span style=\"background-color: #FFDADA\">as</span> <span style=\"background-color: #FFDADA\">the</span> <span style=\"background-color: #FFDADA\">number</span> <span style=\"background-color: #FFDADA\">****</span> <span style=\"background-color: #FFDADA\">company</span> <span style=\"background-color: #FFDADA\">in</span> <span style=\"background-color: #FFDADA\">this</span> <span style=\"background-color: #FFDADA\">market</span> <span style=\"background-color: #FFDADA\">space</span> <span style=\"background-color: #FFD3D3\">,</span> <span style=\"background-color: #FFDADA\">our</span> <span style=\"background-color: #FFDEDE\">client</span> <span style=\"background-color: #FFDADA\">are</span> <span style=\"background-color: #FFDADA\">an</span> <span style=\"background-color: #FFDADA\">ethical</span> <span style=\"background-color: #FFDADA\">and</span> <span style=\"background-color: #FFDADA\">dynamic</span> <span style=\"background-color: #FFDADA\">organisation</span> <span style=\"background-color: #FFDADA\">absolutely</span> <span style=\"background-color: #FFDADA\">committed</span> <span style=\"background-color: #FFDADA\">to</span> <span style=\"background-color: #FFDADA\">the</span> <span style=\"background-color: #FFDADA\">advancement</span> <span style=\"background-color: #FFDADA\">of</span> <span style=\"background-color: #FFDADA\">innovative</span> <span style=\"background-color: #FFDADA\">technologies</span> <span style=\"background-color: #FFDADA\">.</span> <span style=\"background-color: #FFDADA\">job</span> <span style=\"background-color: #FFDADA\">title</span> <span style=\"background-color: #FFDADA\">:</span> <span style=\"background-color: #FFDADA\">sales</span> <span style=\"background-color: #FFDADA\">specialist</span> <span style=\"background-color: #FFDADA\">iv</span> <span style=\"background-color: #FFDADA\">access</span> <span style=\"background-color: #FFDADA\">and</span> <span style=\"background-color: #FFDADA\">infusion</span> <span style=\"background-color: #FFDADA\">selling</span> <span style=\"background-color: #FFDADA\">:</span> <span style=\"background-color: #FFDADA\">medication</span> <span style=\"background-color: #FFDADA\">delivery</span> <span style=\"background-color: #FFE6E6\">solutions</span> <span style=\"background-color: #FFE4E4\">selling</span> <span style=\"background-color: #FFD6D6\">to</span> <span style=\"background-color: #FFDADA\">:</span> <span style=\"background-color: #FFDADA\">iv</span> <span style=\"background-color: #FFDADA\">teams</span> <span style=\"background-color: #FFDADA\">,</span> <span style=\"background-color: #FFDADA\">infection</span> <span style=\"background-color: #FFDADA\">control</span> <span style=\"background-color: #FFDADA\">,</span> <span style=\"background-color: #FFDADA\">lead</span> <span style=\"background-color: #FFD8D8\">intensive</span> <span style=\"background-color: #FFD3D3\">care</span> <span style=\"background-color: #FFDADA\">nurse</span> <span style=\"background-color: #FFDADA\">specialists</span> <span style=\"background-color: #FFDADA\">,</span> <span style=\"background-color: #FFDADA\">ward</span> <span style=\"background-color: #FFDADA\">managers</span> <span style=\"background-color: #FFDADA\">territory</span> <span style=\"background-color: #FFDADA\">:</span> <span style=\"background-color: #FFDADA\">east</span> <span style=\"background-color: #FFDADA\">midlands</span> <span style=\"background-color: #FFDADA\">location</span> <span style=\"background-color: #FFDADA\">:</span> <span style=\"background-color: #FFDADA\">east</span> <span style=\"background-color: #FFDADA\">midlands</span> <span style=\"background-color: #FFDADA\">package</span> <span style=\"background-color: #FFD6D6\">:</span> <span style=\"background-color: #FFDADA\">basic</span> <span style=\"background-color: #FFD6D6\">:</span> <span style=\"background-color: #FFD8D8\">****</span> <span style=\"background-color: #FFD6D6\">k</span> <span style=\"background-color: #FFDEDE\">****</span> <span style=\"background-color: #FFDEDE\">k</span> <span style=\"background-color: #FFDEDE\">,</span> <span style=\"background-color: #FFDADA\">uncapped</span> <span style=\"background-color: #FFDADA\">bonus</span> <span style=\"background-color: #FFDADA\">in</span> <span style=\"background-color: #FFDADA\">addition</span> <span style=\"background-color: #FFDADA\">,</span> <span style=\"background-color: #FFDADA\">full</span> <span style=\"background-color: #FFDADA\">corporate</span> <span style=\"background-color: #FFDADA\">benefits</span> <span style=\"background-color: #FFDADA\">company</span> <span style=\"background-color: #FFDADA\">information</span> <span style=\"background-color: #FFDADA\">hugely</span> <span style=\"background-color: #FFDADA\">ethical</span> <span style=\"background-color: #FFDADA\">and</span> <span style=\"background-color: #FFD3D3\">professional</span> <span style=\"background-color: #FFDCDC\">global</span> <span style=\"background-color: #FFD3D3\">organisation</span> <span style=\"background-color: #FFDADA\">extremely</span> <span style=\"background-color: #FFDADA\">well</span> <span style=\"background-color: #FFDADA\">established</span> <span style=\"background-color: #FFDADA\">in</span> <span style=\"background-color: #FFDADA\">the</span> <span style=\"background-color: #FFD8D8\">uk</span> <span style=\"background-color: #FFDADA\">the</span> <span style=\"background-color: #FFE2E2\">market</span> <span style=\"background-color: #FFD2D2\">leader</span> <span style=\"background-color: #FFE0E0\">across</span> <span style=\"background-color: #FFDADA\">all</span> <span style=\"background-color: #FFDADA\">of</span> <span style=\"background-color: #FFDADA\">their</span> <span style=\"background-color: #FFDADA\">core</span> <span style=\"background-color: #FFDADA\">business</span> <span style=\"background-color: #FFDADA\">areas</span> <span style=\"background-color: #FFDADA\">focus</span> <span style=\"background-color: #FFDADA\">on</span> <span style=\"background-color: #FFDADA\">providing</span> <span style=\"background-color: #FFDADA\">cutting</span> <span style=\"background-color: #FFDADA\">edge</span> <span style=\"background-color: #FFDADA\">solutions</span> <span style=\"background-color: #FFDADA\">along</span> <span style=\"background-color: #FFDADA\">with</span> <span style=\"background-color: #FFD8D8\">outstanding</span> <span style=\"background-color: #FFD3D3\">service</span> <span style=\"background-color: #FFD8D8\">and</span> <span style=\"background-color: #FFD6D6\">support</span> <span style=\"background-color: #FFDADA\">a</span> <span style=\"background-color: #FFDADA\">business</span> <span style=\"background-color: #FFDADA\">that</span> <span style=\"background-color: #FFDADA\">retain</span> <span style=\"background-color: #FFDADA\">talented</span> <span style=\"background-color: #FFDADA\">personnel</span> <span style=\"background-color: #FFDADA\">by</span> <span style=\"background-color: #FFDADA\">offering</span> <span style=\"background-color: #FFD6D6\">a</span> <span style=\"background-color: #FFDEDE\">strong</span> <span style=\"background-color: #FFDEDE\">platform</span> <span style=\"background-color: #FFDCDC\">for</span> <span style=\"background-color: #FFDADA\">career</span> <span style=\"background-color: #FFDADA\">development</span> <span style=\"background-color: #FFDADA\">sales</span> <span style=\"background-color: #FFDADA\">specialist</span> <span style=\"background-color: #FFDADA\">iv</span> <span style=\"background-color: #FFDADA\">access</span> <span style=\"background-color: #FFDADA\">and</span> <span style=\"background-color: #FFDADA\">infusion</span> <span style=\"background-color: #FFDADA\">you</span> <span style=\"background-color: #FFDADA\">must</span> <span style=\"background-color: #FFDADA\">have</span> <span style=\"background-color: #FFDADA\">/</span> <span style=\"background-color: #FFDADA\">be</span> <span style=\"background-color: #FFDADA\">the</span> <span style=\"background-color: #FFDADA\">following</span> <span style=\"background-color: #FFDADA\">at</span> <span style=\"background-color: #FFE6E6\">least</span> <span style=\"background-color: #FFCCCC\">2</span> <span style=\"background-color: #FFFEFE\">years</span> <span style=\"background-color: #FEFEFF\">medical</span> <span style=\"background-color: #FFF4F4\">device</span> <span style=\"background-color: #FFDADA\">sales</span> <span style=\"background-color: #FFD0D0\">experience</span> <span style=\"background-color: #FFD3D3\">.</span> <span style=\"background-color: #FFD8D8\">candidates</span> <span style=\"background-color: #FFDADA\">who</span> <span style=\"background-color: #FFDADA\">have</span> <span style=\"background-color: #FFDADA\">sold</span> <span style=\"background-color: #FFDADA\">disposables</span> <span style=\"background-color: #FFDADA\">/</span> <span style=\"background-color: #FFDADA\">consumables</span> <span style=\"background-color: #FFDADA\">or</span> <span style=\"background-color: #FFDADA\">similar</span> <span style=\"background-color: #FFDADA\">into</span> <span style=\"background-color: #FFDADA\">hospitals</span> <span style=\"background-color: #FFDADA\">would</span> <span style=\"background-color: #FFDADA\">be</span> <span style=\"background-color: #FFDADA\">of</span> <span style=\"background-color: #FFDADA\">particular</span> <span style=\"background-color: #FFDADA\">interest</span> <span style=\"background-color: #FFDADA\">.</span> <span style=\"background-color: #FFDADA\">candidates</span> <span style=\"background-color: #FFDADA\">must</span> <span style=\"background-color: #FFDADA\">have</span> <span style=\"background-color: #FFDADA\">sold</span> <span style=\"background-color: #FFD6D6\">into</span> <span style=\"background-color: #FFDADA\">hospitals</span> <span style=\"background-color: #FFDCDC\">demonstrable</span> <span style=\"background-color: #FFDCDC\">performance</span> <span style=\"background-color: #FFDADA\">and</span> <span style=\"background-color: #FFDADA\">achievements</span> <span style=\"background-color: #FFDADA\">so</span> <span style=\"background-color: #FFDADA\">far</span> <span style=\"background-color: #FFDADA\">personable</span> <span style=\"background-color: #FFDADA\">,</span> <span style=\"background-color: #FFDADA\">adaptable</span> <span style=\"background-color: #FFDADA\">and</span> <span style=\"background-color: #FFDADA\">willing</span> <span style=\"background-color: #FFDADA\">to</span> <span style=\"background-color: #FFDADA\">learn</span> <span style=\"background-color: #FFDADA\">keen</span> <span style=\"background-color: #FFDADA\">and</span> <span style=\"background-color: #FFDADA\">eager</span> <span style=\"background-color: #FFDADA\">to</span> <span style=\"background-color: #FFDADA\">be</span> <span style=\"background-color: #FFDADA\">a</span> <span style=\"background-color: #FFDADA\">success</span> <span style=\"background-color: #FFDADA\">candidates</span> <span style=\"background-color: #FFDADA\">must</span> <span style=\"background-color: #FFDADA\">have</span> <span style=\"background-color: #FFDADA\">a</span> <span style=\"background-color: #FFDADA\">degree</span> <span style=\"background-color: #FFDADA\">or</span> <span style=\"background-color: #FFDADA\">at</span> <span style=\"background-color: #FFDADA\">least</span> <span style=\"background-color: #FFDADA\">be</span> <span style=\"background-color: #FFDADA\">able</span> <span style=\"background-color: #FFDADA\">to</span> <span style=\"background-color: #FFDADA\">show</span> <span style=\"background-color: #FFDADA\">a</span> <span style=\"background-color: #FFDADA\">strong</span> <span style=\"background-color: #FFDADA\">ability</span> <span style=\"background-color: #FFDADA\">to</span> <span style=\"background-color: #FFD8D8\">learn</span> <span style=\"background-color: #FFDADA\">role</span> <span style=\"background-color: #FFDADA\">information</span> <span style=\"background-color: #FFDADA\">managing</span> <span style=\"background-color: #FFDADA\">the</span> <span style=\"background-color: #FFDADA\">east</span> <span style=\"background-color: #FFDADA\">midlands</span> <span style=\"background-color: #FFDADA\">region</span> <span style=\"background-color: #FFDADA\">selling</span> <span style=\"background-color: #FFDCDC\">across</span> <span style=\"background-color: #FFDCDC\">the</span> <span style=\"background-color: #FFDADA\">company</span> <span style=\"background-color: #FFDADA\">\\'</span> <span style=\"background-color: #FFDADA\">s</span> <span style=\"background-color: #FFDADA\">range</span> <span style=\"background-color: #FFDADA\">of</span> <span style=\"background-color: #FFDADA\">iv</span> <span style=\"background-color: #FFDADA\">and</span> <span style=\"background-color: #FFDADA\">infusion</span> <span style=\"background-color: #FFDADA\">solutions</span> <span style=\"background-color: #FFDADA\">portfolio</span> <span style=\"background-color: #FFE0E0\">selling</span> <span style=\"background-color: #FFE6E6\">into</span> <span style=\"background-color: #FFE6E6\">lead</span> <span style=\"background-color: #FFDEDE\">intensive</span> <span style=\"background-color: #FFD3D3\">care</span> <span style=\"background-color: #FFDADA\">nurse</span> <span style=\"background-color: #FFDADA\">specialists</span> <span style=\"background-color: #FFDADA\">,</span> <span style=\"background-color: #FFDADA\">ward</span> <span style=\"background-color: #FFDADA\">managers</span> <span style=\"background-color: #FFDADA\">,</span> <span style=\"background-color: #FFDADA\">iv</span> <span style=\"background-color: #FFDADA\">teams</span> <span style=\"background-color: #FFDADA\">,</span> <span style=\"background-color: #FFDCDC\">infection</span> <span style=\"background-color: #FFD8D8\">control</span> <span style=\"background-color: #FFDEDE\">teams</span> <span style=\"background-color: #FFDADA\">,</span> <span style=\"background-color: #FFDADA\">procurement</span> <span style=\"background-color: #FFDADA\">sales</span> <span style=\"background-color: #FFDADA\">specialist</span> <span style=\"background-color: #FFDADA\">iv</span> <span style=\"background-color: #FFDADA\">access</span> <span style=\"background-color: #FFDADA\">and</span> <span style=\"background-color: #FFDADA\">infusion</span> <span style=\"background-color: #FFDADA\">candidates</span> <span style=\"background-color: #FFDADA\">must</span> <span style=\"background-color: #FFDADA\">be</span> <span style=\"background-color: #FFDADA\">eligible</span> <span style=\"background-color: #FFDADA\">to</span> <span style=\"background-color: #FFDADA\">work</span> <span style=\"background-color: #FFDADA\">and</span> <span style=\"background-color: #FFDADA\">live</span> <span style=\"background-color: #FFDADA\">in</span> <span style=\"background-color: #FFDADA\">the</span> <span style=\"background-color: #FFDADA\">uk</span> <span style=\"background-color: #FFDADA\">.</span> <span style=\"background-color: #FFDADA\">please</span> <span style=\"background-color: #FFDADA\">contact</span> <span style=\"background-color: #FFDADA\">allan</span> <span style=\"background-color: #FFDADA\">waller</span> <span style=\"background-color: #FFDADA\">on</span> <span style=\"background-color: #FFDADA\">****</span> <span style=\"background-color: #FFDADA\">****</span> <span style=\"background-color: #FFDADA\">****</span> <span style=\"background-color: #FFDADA\">or</span> <span style=\"background-color: #FFDADA\">please</span> <span style=\"background-color: #FFDADA\">hit</span> <span style=\"background-color: #FFDADA\">the</span> <span style=\"background-color: #FFDADA\">apply</span> <span style=\"background-color: #FFDADA\">button</span> <span style=\"background-color: #FFDADA\">.</span> <span style=\"background-color: #FFDADA\">this</span> <span style=\"background-color: #FFDADA\">job</span> <span style=\"background-color: #FFDADA\">was</span> <span style=\"background-color: #FFDADA\">originally</span> <span style=\"background-color: #FFDADA\">posted</span> <span style=\"background-color: #FFDADA\">as</span> <span style=\"background-color: #FFDADA\">www</span> <span style=\"background-color: #FFDADA\">.</span> <span style=\"background-color: #FFDADA\">salestarget</span> <span style=\"background-color: #FFDADA\">.</span> <span style=\"background-color: #FFDADA\">co</span> <span style=\"background-color: #FFDADA\">.</span> <span style=\"background-color: #FFDADA\">uk</span> <span style=\"background-color: #FFDADA\">/</span> <span style=\"background-color: #FFDADA\">jobseeking</span> <span style=\"background-color: #FFDADA\">/</span> <span style=\"background-color: #FFDADA\">UNK</span> <span style=\"background-color: #FFDADA\">****</span></p>'"
            ],
            "application/vnd.google.colaboratory.intrinsic+json": {
              "type": "string"
            }
          },
          "metadata": {},
          "execution_count": 88
        }
      ]
    },
    {
      "cell_type": "code",
      "source": [
        "i = 1207\n",
        "tokens_and_weights = explain(model, converted_df.loc[i], \"Title\")\n",
        "draw_html([(tok, weight * 5) for tok, weight in tokens_and_weights], font_style='font-size:20px;');\n",
        "\n",
        "tokens_and_weights = explain(model, converted_df.loc[i], \"FullDescription\")\n",
        "draw_html([(tok, weight * 10) for tok, weight in tokens_and_weights]);"
      ],
      "metadata": {
        "id": "u9zvBhMgJWFP",
        "outputId": "58d84e76-ea03-4a4b-ae9a-94e8c0971074",
        "colab": {
          "base_uri": "https://localhost:8080/",
          "height": 181
        }
      },
      "execution_count": null,
      "outputs": [
        {
          "output_type": "display_data",
          "data": {
            "text/html": [
              "<p style=\"font-size:20px;\"><span style=\"background-color: #C3C3FF\">rgn</span> <span style=\"background-color: #FF8282\">deputy</span> <span style=\"background-color: #8C8CFF\">manager</span> <span style=\"background-color: #FFEEEE\">northumberland</span></p>"
            ]
          },
          "metadata": {}
        },
        {
          "output_type": "display_data",
          "data": {
            "text/html": [
              "<p style=\"font-size:14px;\"><span style=\"background-color: #DCDCFF\">rgn</span> <span style=\"background-color: #D0D0FF\">qualified</span> <span style=\"background-color: #FFDEDE\">deputy</span> <span style=\"background-color: #FFEEEE\">manager</span> <span style=\"background-color: #FFE8E8\">northumberland</span> <span style=\"background-color: #FFE8E8\">****</span> <span style=\"background-color: #FFE8E8\">per</span> <span style=\"background-color: #FFE8E8\">hour</span> <span style=\"background-color: #FFE8E8\">in</span> <span style=\"background-color: #FFE8E8\">touch</span> <span style=\"background-color: #FFE8E8\">recruitment</span> <span style=\"background-color: #FFE8E8\">are</span> <span style=\"background-color: #FFE8E8\">working</span> <span style=\"background-color: #FFE8E8\">on</span> <span style=\"background-color: #FFE8E8\">behalf</span> <span style=\"background-color: #FFE8E8\">of</span> <span style=\"background-color: #FFE8E8\">wellregarded</span> <span style=\"background-color: #FFECEC\">nursing</span> <span style=\"background-color: #FFE8E8\">home</span> <span style=\"background-color: #FFECEC\">group</span> <span style=\"background-color: #FFE2E2\">to</span> <span style=\"background-color: #FFE8E8\">recruit</span> <span style=\"background-color: #FFF0F0\">an</span> <span style=\"background-color: #FFF4F4\">experienced</span> <span style=\"background-color: #FFF4F4\">rgn</span> <span style=\"background-color: #FFE8E8\">deputy</span> <span style=\"background-color: #FFECEC\">home</span> <span style=\"background-color: #FFECEC\">manager</span> <span style=\"background-color: #FFECEC\">for</span> <span style=\"background-color: #FFE8E8\">their</span> <span style=\"background-color: #FFE8E8\">medium</span> <span style=\"background-color: #FFE8E8\">sized</span> <span style=\"background-color: #FFE8E8\">nursing</span> <span style=\"background-color: #FFE8E8\">service</span> <span style=\"background-color: #FFE8E8\">in</span> <span style=\"background-color: #FFE8E8\">the</span> <span style=\"background-color: #FFE8E8\">stocksfield</span> <span style=\"background-color: #FFE8E8\">area</span> <span style=\"background-color: #FFE8E8\">of</span> <span style=\"background-color: #FFE8E8\">northumberland</span> <span style=\"background-color: #FFE8E8\">.</span> <span style=\"background-color: #FFE8E8\">the</span> <span style=\"background-color: #FFE8E8\">role</span> <span style=\"background-color: #FFE8E8\">will</span> <span style=\"background-color: #FFE8E8\">involve</span> <span style=\"background-color: #FFE8E8\">working</span> <span style=\"background-color: #FFE8E8\">alongside</span> <span style=\"background-color: #FFF6F6\">an</span> <span style=\"background-color: #F3F3FF\">experienced</span> <span style=\"background-color: #F2F2FF\">home</span> <span style=\"background-color: #FFFEFE\">manager</span> <span style=\"background-color: #FFE8E8\">to</span> <span style=\"background-color: #FFEAEA\">run</span> <span style=\"background-color: #FFEAEA\">and</span> <span style=\"background-color: #FFECEC\">manage</span> <span style=\"background-color: #FFEAEA\">the</span> <span style=\"background-color: #FFE8E8\">service</span> <span style=\"background-color: #FFE8E8\">successfully</span> <span style=\"background-color: #FFE8E8\">.</span> <span style=\"background-color: #FFE8E8\">as</span> <span style=\"background-color: #FFE8E8\">deputy</span> <span style=\"background-color: #FFE8E8\">manager</span> <span style=\"background-color: #FFE8E8\">you</span> <span style=\"background-color: #FFE8E8\">will</span> <span style=\"background-color: #FFE8E8\">take</span> <span style=\"background-color: #FFE4E4\">an</span> <span style=\"background-color: #FFEAEA\">active</span> <span style=\"background-color: #FFECEC\">clinical</span> <span style=\"background-color: #FFF0F0\">lead</span> <span style=\"background-color: #FFE8E8\">,</span> <span style=\"background-color: #FFE6E6\">overseeing</span> <span style=\"background-color: #FFE6E6\">care</span> <span style=\"background-color: #FFE6E6\">being</span> <span style=\"background-color: #FFE8E8\">delivered</span> <span style=\"background-color: #FFE8E8\">within</span> <span style=\"background-color: #FFE8E8\">the</span> <span style=\"background-color: #FFE0E0\">service</span> <span style=\"background-color: #FFE0E0\">whilst</span> <span style=\"background-color: #FFE4E4\">maintaining</span> <span style=\"background-color: #FFE8E8\">high</span> <span style=\"background-color: #FFE8E8\">standards</span> <span style=\"background-color: #FFE8E8\">at</span> <span style=\"background-color: #FFE8E8\">all</span> <span style=\"background-color: #FFE8E8\">times</span> <span style=\"background-color: #FFE8E8\">.</span> <span style=\"background-color: #FFE8E8\">working</span> <span style=\"background-color: #FFE8E8\">alongside</span> <span style=\"background-color: #FFE8E8\">the</span> <span style=\"background-color: #FFE8E8\">home</span> <span style=\"background-color: #FFE8E8\">manager</span> <span style=\"background-color: #FFE8E8\">you</span> <span style=\"background-color: #FFE8E8\">will</span> <span style=\"background-color: #FFE8E8\">supervise</span> <span style=\"background-color: #FFE8E8\">a</span> <span style=\"background-color: #FFE8E8\">multidisciplinary</span> <span style=\"background-color: #FFE8E8\">team</span> <span style=\"background-color: #FFE8E8\">and</span> <span style=\"background-color: #FFE8E8\">deal</span> <span style=\"background-color: #FFE8E8\">with</span> <span style=\"background-color: #FFE8E8\">all</span> <span style=\"background-color: #FFE8E8\">aspects</span> <span style=\"background-color: #FFE8E8\">of</span> <span style=\"background-color: #FFE8E8\">staff</span> <span style=\"background-color: #FFE8E8\">recruitment</span> <span style=\"background-color: #FFE8E8\">,</span> <span style=\"background-color: #FFE8E8\">disciplinary</span> <span style=\"background-color: #FFE8E8\">and</span> <span style=\"background-color: #FFE8E8\">appraisals</span> <span style=\"background-color: #FFE8E8\">and</span> <span style=\"background-color: #FFE8E8\">also</span> <span style=\"background-color: #FFE8E8\">play</span> <span style=\"background-color: #FFE8E8\">a</span> <span style=\"background-color: #FFE8E8\">key</span> <span style=\"background-color: #FFE8E8\">part</span> <span style=\"background-color: #FFE8E8\">in</span> <span style=\"background-color: #FFE8E8\">training</span> <span style=\"background-color: #FFE6E6\">and</span> <span style=\"background-color: #FFEAEA\">developing</span> <span style=\"background-color: #FFE6E6\">staff</span> <span style=\"background-color: #FFE8E8\">.</span> <span style=\"background-color: #FFE8E8\">the</span> <span style=\"background-color: #FFE8E8\">successful</span> <span style=\"background-color: #FFE8E8\">candidate</span> <span style=\"background-color: #FFE8E8\">will</span> <span style=\"background-color: #FFE8E8\">hold</span> <span style=\"background-color: #FFEAEA\">a</span> <span style=\"background-color: #FFE8E8\">1st</span> <span style=\"background-color: #FFEAEA\">level</span> <span style=\"background-color: #FFE8E8\">nurse</span> <span style=\"background-color: #FFE6E6\">rgn</span> <span style=\"background-color: #FFE8E8\">qualification</span> <span style=\"background-color: #FFE8E8\">and</span> <span style=\"background-color: #FFE8E8\">active</span> <span style=\"background-color: #FFE8E8\">nmc</span> <span style=\"background-color: #FFE8E8\">pin</span> <span style=\"background-color: #FFE8E8\">.</span> <span style=\"background-color: #FFE8E8\">the</span> <span style=\"background-color: #FFE8E8\">role</span> <span style=\"background-color: #FFE8E8\">requires</span> <span style=\"background-color: #FFECEC\">a</span> <span style=\"background-color: #FFF4F4\">strong</span> <span style=\"background-color: #FFF4F4\">nurse</span> <span style=\"background-color: #FFE8E8\">who</span> <span style=\"background-color: #FFE8E8\">has</span> <span style=\"background-color: #FFE8E8\">experience</span> <span style=\"background-color: #FFE8E8\">working</span> <span style=\"background-color: #FFE8E8\">within</span> <span style=\"background-color: #FFE8E8\">a</span> <span style=\"background-color: #FFE8E8\">nursing</span> <span style=\"background-color: #FFE8E8\">home</span> <span style=\"background-color: #FFE8E8\">environment</span> <span style=\"background-color: #FFE8E8\">within</span> <span style=\"background-color: #FFE8E8\">a</span> <span style=\"background-color: #FFE8E8\">supervisory</span> <span style=\"background-color: #FFE8E8\">role</span> <span style=\"background-color: #FFE8E8\">.</span> <span style=\"background-color: #FFE8E8\">to</span> <span style=\"background-color: #FFE8E8\">apply</span> <span style=\"background-color: #FFE8E8\">please</span> <span style=\"background-color: #FFE8E8\">send</span> <span style=\"background-color: #FFE8E8\">your</span> <span style=\"background-color: #FFE8E8\">cv</span> <span style=\"background-color: #FFE8E8\">across</span> <span style=\"background-color: #FFE8E8\">to</span> <span style=\"background-color: #FFE8E8\">danielle</span> <span style=\"background-color: #FFE8E8\">at</span> <span style=\"background-color: #FFE8E8\">danielleintouchrecruitment</span> <span style=\"background-color: #FFE8E8\">.</span> <span style=\"background-color: #FFE8E8\">co</span> <span style=\"background-color: #FFE8E8\">.</span> <span style=\"background-color: #FFE8E8\">uk</span> <span style=\"background-color: #FFE8E8\">or</span> <span style=\"background-color: #FFE8E8\">alternatively</span> <span style=\"background-color: #FFE8E8\">call</span> <span style=\"background-color: #FFE8E8\">****</span> <span style=\"background-color: #FFE8E8\">****</span> <span style=\"background-color: #FFE8E8\">****</span> <span style=\"background-color: #FFE8E8\">for</span> <span style=\"background-color: #FFE8E8\">an</span> <span style=\"background-color: #FFE8E8\">application</span> <span style=\"background-color: #FFE8E8\">form</span> <span style=\"background-color: #FFE8E8\">keywords</span> <span style=\"background-color: #FFE8E8\">sister</span> <span style=\"background-color: #FFE8E8\">,</span> <span style=\"background-color: #FFE8E8\">deputy</span> <span style=\"background-color: #FFE8E8\">home</span> <span style=\"background-color: #FFE8E8\">manager</span> <span style=\"background-color: #FFE8E8\">,</span> <span style=\"background-color: #FFE8E8\">deputy</span> <span style=\"background-color: #FFE8E8\">nursing</span> <span style=\"background-color: #FFE6E6\">home</span> <span style=\"background-color: #FFE8E8\">manager</span> <span style=\"background-color: #FFE8E8\">,</span> <span style=\"background-color: #FFE6E6\">,</span> <span style=\"background-color: #FFECEC\">head</span> <span style=\"background-color: #FFECEC\">of</span> <span style=\"background-color: #FFE8E8\">care</span> <span style=\"background-color: #FFE8E8\">,</span> <span style=\"background-color: #FFEAEA\">nurse</span> <span style=\"background-color: #FFE8E8\">,</span> <span style=\"background-color: #FFE8E8\">nursing</span> <span style=\"background-color: #FFE8E8\">home</span> <span style=\"background-color: #FFE8E8\">,</span> <span style=\"background-color: #FFE8E8\">rgn</span> <span style=\"background-color: #FFE8E8\">,</span> <span style=\"background-color: #FFE8E8\">senior</span> <span style=\"background-color: #FFD8D8\">nurse</span> <span style=\"background-color: #FFE8E8\">,</span> <span style=\"background-color: #FFE8E8\">sister</span> <span style=\"background-color: #FFE8E8\">,</span> <span style=\"background-color: #FFE8E8\">elderly</span> <span style=\"background-color: #FFE6E6\">care</span> <span style=\"background-color: #FFE6E6\">,</span> <span style=\"background-color: #FFEAEA\">deputy</span> <span style=\"background-color: #FFE8E8\">home</span> <span style=\"background-color: #FFE8E8\">manager</span> <span style=\"background-color: #FFE4E4\">,</span> <span style=\"background-color: #FFEAEA\">clinical</span> <span style=\"background-color: #FFE8E8\">lead</span> <span style=\"background-color: #FFE8E8\">,</span> <span style=\"background-color: #FFE8E8\">newcastle</span> <span style=\"background-color: #FFE8E8\">,</span> <span style=\"background-color: #FFE8E8\">northumberland</span> <span style=\"background-color: #FFE8E8\">,</span> <span style=\"background-color: #FFE8E8\">stocksfield</span> <span style=\"background-color: #FFE8E8\">,</span> <span style=\"background-color: #FFE8E8\">tyne</span> <span style=\"background-color: #FFE8E8\">and</span> <span style=\"background-color: #FFE8E8\">wear</span> <span style=\"background-color: #FFE8E8\">,</span> <span style=\"background-color: #FFE8E8\">north</span> <span style=\"background-color: #FFE8E8\">east</span></p>"
            ]
          },
          "metadata": {}
        }
      ]
    },
    {
      "cell_type": "markdown",
      "source": [
        "Blue colors show the values that negatively affected the prediction\n",
        "\n",
        "Red colors show values that positively affected the prediction\n",
        "\n",
        "The intensity of color represents how huge was the effect"
      ],
      "metadata": {
        "id": "V4YXRZWoPpWV"
      }
    },
    {
      "cell_type": "code",
      "source": [
        "JOBS_N = 2\n",
        "\n",
        "i = np.random.randint(len(converted_df))\n",
        "print(\"Index:\", i)\n",
        "print(\"Salary (gbp):\", np.expm1(model(make_batch(converted_df.iloc[i: i+JOBS_N], device=device)).detach().cpu()))\n",
        "\n",
        "tokens_and_weights = explain(model, converted_df.loc[i], \"Title\")\n",
        "draw_html([(tok, weight * 5) for tok, weight in tokens_and_weights], font_style='font-size:20px;');\n",
        "\n",
        "tokens_and_weights = explain(model, converted_df.loc[i], \"FullDescription\")\n",
        "draw_html([(tok, weight * 10) for tok, weight in tokens_and_weights]);"
      ],
      "metadata": {
        "id": "qX4K_7bBJZro",
        "outputId": "699d3002-671e-4632-db1a-294c731728d0",
        "colab": {
          "base_uri": "https://localhost:8080/",
          "height": 233
        }
      },
      "execution_count": null,
      "outputs": [
        {
          "output_type": "stream",
          "name": "stdout",
          "text": [
            "Index: 103247\n",
            "Salary (gbp): tensor([22235.4922, 25168.2676])\n"
          ]
        },
        {
          "output_type": "display_data",
          "data": {
            "text/html": [
              "<p style=\"font-size:20px;\"><span style=\"background-color: #F0F0FF\">manufacturing</span> <span style=\"background-color: #FF8E8E\">technician</span> <span style=\"background-color: #FFF2F2\">metal</span> <span style=\"background-color: #FFF8F8\">finishing</span></p>"
            ]
          },
          "metadata": {}
        },
        {
          "output_type": "display_data",
          "data": {
            "text/html": [
              "<p style=\"font-size:14px;\"><span style=\"background-color: #FFE6E6\">manufacturing</span> <span style=\"background-color: #FFE6E6\">technician</span> <span style=\"background-color: #FFE6E6\">with</span> <span style=\"background-color: #FFE2E2\">a</span> <span style=\"background-color: #FFE6E6\">background</span> <span style=\"background-color: #FFE2E2\">in</span> <span style=\"background-color: #FFE4E4\">metal</span> <span style=\"background-color: #FFE6E6\">finishing</span> <span style=\"background-color: #FFE6E6\">to</span> <span style=\"background-color: #FFE6E6\">join</span> <span style=\"background-color: #FFE6E6\">a</span> <span style=\"background-color: #FFE6E6\">leading</span> <span style=\"background-color: #FFE6E6\">manufacturer</span> <span style=\"background-color: #FFE6E6\">of</span> <span style=\"background-color: #FFE6E6\">aircraft</span> <span style=\"background-color: #FFE6E6\">parts</span> <span style=\"background-color: #FFE6E6\">.</span> <span style=\"background-color: #FFE6E6\">the</span> <span style=\"background-color: #FFE6E6\">business</span> <span style=\"background-color: #FFE6E6\">has</span> <span style=\"background-color: #FFE6E6\">recently</span> <span style=\"background-color: #FFE6E6\">won</span> <span style=\"background-color: #FFE4E4\">a</span> <span style=\"background-color: #FFE6E6\">major</span> <span style=\"background-color: #FFDCDC\">new</span> <span style=\"background-color: #FFE6E6\">aircraft</span> <span style=\"background-color: #FFE6E6\">programme</span> <span style=\"background-color: #FFE2E2\">to</span> <span style=\"background-color: #FFE6E6\">add</span> <span style=\"background-color: #FFE6E6\">to</span> <span style=\"background-color: #FFE6E6\">their</span> <span style=\"background-color: #FFE6E6\">already</span> <span style=\"background-color: #FFE6E6\">impressive</span> <span style=\"background-color: #FFE6E6\">portfolio</span> <span style=\"background-color: #FFE6E6\">.</span> <span style=\"background-color: #FFE6E6\">manufacturing</span> <span style=\"background-color: #FFE6E6\">technician</span> <span style=\"background-color: #FFE6E6\">hampshire</span> <span style=\"background-color: #FFE2E2\">****</span> <span style=\"background-color: #FFE6E6\">k</span> <span style=\"background-color: #FFE0E0\">****</span> <span style=\"background-color: #FFEEEE\">k</span> <span style=\"background-color: #FFE0E0\">bens</span> <span style=\"background-color: #FFE2E2\">final</span> <span style=\"background-color: #FFE6E6\">salary</span> <span style=\"background-color: #FFE6E6\">pension</span> <span style=\"background-color: #FFE6E6\">manufacturing</span> <span style=\"background-color: #FFE6E6\">technician</span> <span style=\"background-color: #FFE6E6\">with</span> <span style=\"background-color: #FFE2E2\">a</span> <span style=\"background-color: #FFE6E6\">background</span> <span style=\"background-color: #FFE2E2\">in</span> <span style=\"background-color: #FFE4E4\">metal</span> <span style=\"background-color: #FFE6E6\">finishing</span> <span style=\"background-color: #FFE6E6\">to</span> <span style=\"background-color: #FFE6E6\">join</span> <span style=\"background-color: #FFE6E6\">a</span> <span style=\"background-color: #FFE6E6\">leading</span> <span style=\"background-color: #FFE6E6\">manufacturer</span> <span style=\"background-color: #FFE6E6\">of</span> <span style=\"background-color: #FFE6E6\">aircraft</span> <span style=\"background-color: #FFE6E6\">parts</span> <span style=\"background-color: #FFE6E6\">.</span> <span style=\"background-color: #FFE6E6\">the</span> <span style=\"background-color: #FFE6E6\">business</span> <span style=\"background-color: #FFE6E6\">has</span> <span style=\"background-color: #FFE6E6\">recently</span> <span style=\"background-color: #FFE6E6\">won</span> <span style=\"background-color: #FFE4E4\">a</span> <span style=\"background-color: #FFE6E6\">major</span> <span style=\"background-color: #FFDCDC\">new</span> <span style=\"background-color: #FFE6E6\">aircraft</span> <span style=\"background-color: #FFE6E6\">programme</span> <span style=\"background-color: #FFE2E2\">to</span> <span style=\"background-color: #FFE6E6\">add</span> <span style=\"background-color: #FFE6E6\">to</span> <span style=\"background-color: #FFE6E6\">their</span> <span style=\"background-color: #FFE6E6\">already</span> <span style=\"background-color: #FFE6E6\">impressive</span> <span style=\"background-color: #FFE6E6\">portfolio</span> <span style=\"background-color: #FFE6E6\">.</span> <span style=\"background-color: #FFE6E6\">you</span> <span style=\"background-color: #FFE6E6\">will</span> <span style=\"background-color: #FFEAEA\">be</span> <span style=\"background-color: #FFE6E6\">working</span> <span style=\"background-color: #FFE6E6\">to</span> <span style=\"background-color: #FFE6E6\">tight</span> <span style=\"background-color: #FFE6E6\">tolerances</span> <span style=\"background-color: #FFE6E6\">during</span> <span style=\"background-color: #FFE6E6\">the</span> <span style=\"background-color: #FFE6E6\">component</span> <span style=\"background-color: #FFE6E6\">manufacture</span> <span style=\"background-color: #FFE6E6\">,</span> <span style=\"background-color: #FFE6E6\">set</span> <span style=\"background-color: #FFE6E6\">and</span> <span style=\"background-color: #FFE6E6\">operate</span> <span style=\"background-color: #FFE6E6\">manual</span> <span style=\"background-color: #FFE6E6\">and</span> <span style=\"background-color: #FFE6E6\">/</span> <span style=\"background-color: #FFE6E6\">or</span> <span style=\"background-color: #FFE6E6\">numerical</span> <span style=\"background-color: #FFE6E6\">plating</span> <span style=\"background-color: #FFE6E6\">controls</span> <span style=\"background-color: #FFE6E6\">and</span> <span style=\"background-color: #FFE6E6\">produce</span> <span style=\"background-color: #FFE6E6\">complete</span> <span style=\"background-color: #FFE6E6\">programs</span> <span style=\"background-color: #FFE6E6\">and</span> <span style=\"background-color: #FFE4E4\">editing</span> <span style=\"background-color: #FFEAEA\">of</span> <span style=\"background-color: #FFEEEE\">supplier</span> <span style=\"background-color: #FFECEC\">programs</span> <span style=\"background-color: #FFE4E4\">.</span> <span style=\"background-color: #FFE6E6\">you</span> <span style=\"background-color: #FFE6E6\">&</span> <span style=\"background-color: #FFE6E6\">x2019</span> <span style=\"background-color: #FFE6E6\">ll</span> <span style=\"background-color: #FFE6E6\">liaise</span> <span style=\"background-color: #FFE6E6\">with</span> <span style=\"background-color: #FFE4E4\">the</span> <span style=\"background-color: #FFE4E4\">cell</span> <span style=\"background-color: #FFE4E4\">engineer</span> <span style=\"background-color: #FFE6E6\">and</span> <span style=\"background-color: #FFE6E6\">treatments</span> <span style=\"background-color: #FFE6E6\">development</span> <span style=\"background-color: #FFE6E6\">specialist</span> <span style=\"background-color: #FFE6E6\">on</span> <span style=\"background-color: #FFE6E6\">planned</span> <span style=\"background-color: #FFE6E6\">methods</span> <span style=\"background-color: #FFE6E6\">of</span> <span style=\"background-color: #FFE6E6\">work</span> <span style=\"background-color: #FFE6E6\">and</span> <span style=\"background-color: #FFE6E6\">layouts</span> <span style=\"background-color: #FFE6E6\">.</span> <span style=\"background-color: #FFE6E6\">you</span> <span style=\"background-color: #FFE6E6\">&</span> <span style=\"background-color: #FFE6E6\">x2019</span> <span style=\"background-color: #FFE6E6\">ll</span> <span style=\"background-color: #FFE6E6\">also</span> <span style=\"background-color: #FFF0F0\">take</span> <span style=\"background-color: #FFF0F0\">responsibility</span> <span style=\"background-color: #FFF0F0\">for</span> <span style=\"background-color: #FFE6E6\">the</span> <span style=\"background-color: #FFE6E6\">state</span> <span style=\"background-color: #FFE6E6\">and</span> <span style=\"background-color: #FFE6E6\">correctness</span> <span style=\"background-color: #FFE6E6\">of</span> <span style=\"background-color: #FFE6E6\">any</span> <span style=\"background-color: #FFE6E6\">tooling</span> <span style=\"background-color: #FFE6E6\">,</span> <span style=\"background-color: #FFE6E6\">fixtures</span> <span style=\"background-color: #FFE6E6\">and</span> <span style=\"background-color: #FFE6E6\">gauging</span> <span style=\"background-color: #FFE6E6\">.</span> <span style=\"background-color: #FFE6E6\">you</span> <span style=\"background-color: #FFE6E6\">will</span> <span style=\"background-color: #FFE6E6\">be</span> <span style=\"background-color: #FFE6E6\">from</span> <span style=\"background-color: #FFE6E6\">an</span> <span style=\"background-color: #FFF2F2\">aerospace</span> <span style=\"background-color: #FFE8E8\">/</span> <span style=\"background-color: #FFE6E6\">aircraft</span> <span style=\"background-color: #FFE8E8\">manufacturing</span> <span style=\"background-color: #FFEAEA\">background</span> <span style=\"background-color: #FFE8E8\">or</span> <span style=\"background-color: #FFF0F0\">automotive</span> <span style=\"background-color: #FFF0F0\">precision</span> <span style=\"background-color: #FFF2F2\">engineering</span> <span style=\"background-color: #FFE4E4\">.</span> <span style=\"background-color: #FFE8E8\">you</span> <span style=\"background-color: #FFE6E6\">will</span> <span style=\"background-color: #FFE6E6\">have</span> <span style=\"background-color: #FFE6E6\">metal</span> <span style=\"background-color: #FFE6E6\">finishing</span> <span style=\"background-color: #FFE6E6\">experience</span> <span style=\"background-color: #FFE6E6\">together</span> <span style=\"background-color: #FFE6E6\">with</span> <span style=\"background-color: #FFE6E6\">an</span> <span style=\"background-color: #FFDCDC\">nvq</span> <span style=\"background-color: #FFDCDC\">level</span> <span style=\"background-color: #FFDADA\">2</span> <span style=\"background-color: #FFE2E2\">or</span> <span style=\"background-color: #FFE6E6\">equivalent</span> <span style=\"background-color: #FFE6E6\">.</span> <span style=\"background-color: #FFE6E6\">you</span> <span style=\"background-color: #FFE6E6\">will</span> <span style=\"background-color: #FFE6E6\">be</span> <span style=\"background-color: #FFE6E6\">proficient</span> <span style=\"background-color: #FFE6E6\">in</span> <span style=\"background-color: #FFE6E6\">correcting</span> <span style=\"background-color: #FFE6E6\">tooling</span> <span style=\"background-color: #FFE6E6\">,</span> <span style=\"background-color: #FFE6E6\">fixtures</span> <span style=\"background-color: #FFE6E6\">and</span> <span style=\"background-color: #FFE6E6\">gauging</span> <span style=\"background-color: #FFE6E6\">.</span> <span style=\"background-color: #FFE6E6\">this</span> <span style=\"background-color: #FFE6E6\">is</span> <span style=\"background-color: #FFE6E6\">a</span> <span style=\"background-color: #FFE6E6\">great</span> <span style=\"background-color: #FFE6E6\">opportunity</span> <span style=\"background-color: #FFCECE\">to</span> <span style=\"background-color: #FFCECE\">become</span> <span style=\"background-color: #FFC6C6\">part</span> <span style=\"background-color: #FFECEC\">of</span> <span style=\"background-color: #FFEAEA\">a</span> <span style=\"background-color: #FFE6E6\">major</span> <span style=\"background-color: #FFE6E6\">employer</span> <span style=\"background-color: #FFE2E2\">which</span> <span style=\"background-color: #FFE6E6\">offers</span> <span style=\"background-color: #FFE6E6\">career</span> <span style=\"background-color: #FFE6E6\">development</span> <span style=\"background-color: #FFDEDE\">and</span> <span style=\"background-color: #FFE6E6\">attractive</span> <span style=\"background-color: #FFF4F4\">remuneration</span> <span style=\"background-color: #FFEAEA\">packages</span> <span style=\"background-color: #FFE6E6\">.</span> <span style=\"background-color: #FFE6E6\">to</span> <span style=\"background-color: #FFE6E6\">apply</span> <span style=\"background-color: #FFE6E6\">,</span> <span style=\"background-color: #FFE6E6\">call</span> <span style=\"background-color: #FFE6E6\">samantha</span> <span style=\"background-color: #FFE6E6\">on</span> <span style=\"background-color: #FFE6E6\">****</span> <span style=\"background-color: #FFE6E6\">****</span> <span style=\"background-color: #FFE6E6\">****</span> <span style=\"background-color: #FFE6E6\">or</span> <span style=\"background-color: #FFE6E6\">s</span> <span style=\"background-color: #FFE6E6\">.</span> <span style=\"background-color: #FFE6E6\">tildsleyjamrecruitment</span> <span style=\"background-color: #FFE6E6\">.</span> <span style=\"background-color: #FFE6E6\">view</span> <span style=\"background-color: #FFE6E6\">our</span> <span style=\"background-color: #FFE6E6\">latest</span> <span style=\"background-color: #FFE6E6\">jobs</span> <span style=\"background-color: #FFE6E6\">today</span> <span style=\"background-color: #FFE6E6\">at</span> <span style=\"background-color: #FFE6E6\">www</span> <span style=\"background-color: #FFE6E6\">.</span> <span style=\"background-color: #FFE6E6\">jamrecruitment</span> <span style=\"background-color: #FFE6E6\">.</span> <span style=\"background-color: #FFE6E6\">co</span> <span style=\"background-color: #FFE6E6\">.</span> <span style=\"background-color: #FFE6E6\">uk</span> <span style=\"background-color: #FFE6E6\">and</span> <span style=\"background-color: #FFE6E6\">follow</span> <span style=\"background-color: #FFE6E6\">us</span> <span style=\"background-color: #FFE6E6\">on</span> <span style=\"background-color: #FFE6E6\">facebook</span> <span style=\"background-color: #FFE6E6\">,</span> <span style=\"background-color: #FFE6E6\">twitter</span> <span style=\"background-color: #FFE6E6\">&</span> <span style=\"background-color: #FFE6E6\">linkedin</span> <span style=\"background-color: #FFE6E6\">jam</span> <span style=\"background-color: #FFE6E6\">recruitment</span> <span style=\"background-color: #FFE6E6\">is</span> <span style=\"background-color: #FFE6E6\">acting</span> <span style=\"background-color: #FFE6E6\">as</span> <span style=\"background-color: #FFE6E6\">an</span> <span style=\"background-color: #FFE6E6\">employment</span> <span style=\"background-color: #FFE6E6\">agency</span> <span style=\"background-color: #FFE6E6\">with</span> <span style=\"background-color: #FFE6E6\">regards</span> <span style=\"background-color: #FFE6E6\">to</span> <span style=\"background-color: #FFE6E6\">this</span> <span style=\"background-color: #FFE6E6\">position</span> <span style=\"background-color: #FFE6E6\">.</span></p>"
            ]
          },
          "metadata": {}
        }
      ]
    },
    {
      "cell_type": "markdown",
      "source": [
        "Since the vectorizer doesn't take the order into account and a plain embedding is a simple technique we don't get the perfect results. Also for some values the colorcode is completely red or blue, which means sometimes the whole texts of description has been taken into account as a single vector and vector values have been average (no shit, Sherlock!)."
      ],
      "metadata": {
        "id": "XiC5powsP3pL"
      }
    },
    {
      "cell_type": "markdown",
      "source": [
        "### Issues"
      ],
      "metadata": {
        "id": "7hMvDUS8RXWT"
      }
    },
    {
      "cell_type": "markdown",
      "source": [
        "The following issues should be addressed after that:\n",
        "\n",
        "\n",
        "1.   Dimensionality - IndexError: Dimension out of range (expected to be in range of [-1, 0], but got 1). Occurs only if one values is passed to predict.\n",
        "2.   Padding size - RuntimeError: Calculated padded input size per channel: (2). Kernel size: (3). Kernel size can't be greater than actual input size. (possible solution - to remove padding in model and deal with cosequences)\n",
        "3.    Explained result - Whole description column is colored red or blue depending how it is viewed by the model. Applying better vectorizer might help.\n"
      ],
      "metadata": {
        "id": "MtilCRq7QSl9"
      }
    },
    {
      "cell_type": "markdown",
      "source": [
        "# Try RNN"
      ],
      "metadata": {
        "id": "EEwfoQ7NfRxO"
      }
    },
    {
      "cell_type": "markdown",
      "source": [
        "#### Set up most important variable\n",
        "\n",
        "since gpu in colab disconnects all the time - rerun everything in two clicks"
      ],
      "metadata": {
        "id": "7PD5CfH0YCkj"
      }
    },
    {
      "cell_type": "code",
      "source": [
        "def as_matrix(sequences, max_len=None):\n",
        "    \"\"\" Convert a list of tokens into a matrix with padding \"\"\"\n",
        "    if isinstance(sequences[0], str):\n",
        "        sequences = list(map(str.split, sequences))\n",
        "\n",
        "    max_len = min(max(map(len, sequences)), max_len or float('inf'))\n",
        "\n",
        "    matrix = np.full((len(sequences), max_len), np.int32(PAD_IX))\n",
        "    for i,seq in enumerate(sequences):\n",
        "        row_ix = [inv_tok_idx.get(word, UNK_IX) for word in seq[:max_len]]\n",
        "        matrix[i, :len(row_ix)] = row_ix\n",
        "    return matrix\n",
        "\n",
        "\n",
        "df = data.drop(['Id', 'LocationRaw', 'SalaryRaw', 'SourceName', 'SalaryNormalized'], axis=1)\n",
        "df = df.rename(columns={'LocationNormalized':'Location'})\n",
        "df['SalaryLog'] = np.log1p(data['SalaryNormalized']).astype('float32')\n",
        "df['Title'] = df['Title'].fillna('quality improvement manager')\n",
        "df = df.drop(['ContractType'], axis=1)\n",
        "df['ContractTime'] = df['ContractTime'].fillna('UNK')\n",
        "TARGET = 'SalaryLog'\n",
        "TEXT_COLS = ['Title', 'FullDescription']\n",
        "CATEGORIES = ['FullDescription', 'Location', 'ContractTime', 'Company', 'Category']\n",
        "WPT = nltk.tokenize.WordPunctTokenizer()\n",
        "tok_df = df.copy()\n",
        "for col in TEXT_COLS:\n",
        "  tok_df[col] = tok_df[col].apply(lambda x: ' '.join(WPT.tokenize(x.lower().replace('_', ''))))\n",
        "token_nums = Counter()\n",
        "for col in TEXT_COLS:\n",
        "  for row in tok_df[col]:\n",
        "    token = row.split()\n",
        "    token_nums.update(token)\n",
        "UNK, PAD = \"UNK\", \"PAD\"\n",
        "min_count = 10\n",
        "tokens = [UNK, PAD] + sorted(t for t, c in token_nums.items() if c >= min_count)\n",
        "inv_tok_idx = {token:idx for idx, token in enumerate(tokens)}\n",
        "UNK_IX, PAD_IX = map(inv_tok_idx.get, [UNK, PAD])\n",
        "\n",
        "\n",
        "def drop_words(matrix, keep_prop, replace_with=UNK_IX, pad_with = PAD_IX):\n",
        "  #dropout cetrain word (actually replace with UNK)\n",
        "  dropout_mask = np.random.choice(2, np.shape(matrix), p=[keep_prop, 1 - keep_prop])\n",
        "  dropout_mask &= matrix != pad_with\n",
        "  return np.choose(dropout_mask, [matrix, np.full_like(matrix, replace_with)])\n",
        "\n",
        "\n",
        "top_companies, top_counts = zip(*Counter(tok_df['Company']).most_common(1001))\n",
        "recognized_companies = set(top_companies)\n",
        "\n",
        "\n",
        "def filter_companies(df, frequent_companies = recognized_companies):\n",
        "  df = df.copy()\n",
        "  df['Company'] = df['Company'].apply(lambda company: company if company in frequent_companies else 'Other')\n",
        "  df['Company'] = df['Company'].fillna('Other')\n",
        "  return df\n",
        "\n",
        "def to_tensor(batch, device):\n",
        "  batch_tensors = {}\n",
        "  for key, array in batch.items():\n",
        "    if key in ['FullDescription', 'Title']:\n",
        "      batch_tensors[key] = torch.tensor(array, device=device, dtype=torch.int64)\n",
        "    else:\n",
        "      batch_tensors[key] = torch.tensor(array, device=device)\n",
        "  return batch_tensors\n",
        "\n",
        "fltr_df = filter_companies(tok_df)\n",
        "dv_df = fltr_df.copy()\n",
        "categorical_vectorizer = DictVectorizer(dtype=np.float32, sparse=False)\n",
        "categorical_vectorizer.fit(dv_df[CATEGORIES].apply(dict, axis=1))\n",
        "df_tfidf = fltr_df.copy()\n",
        "tfidf_vectorizer = TfidfVectorizer(dtype=np.float32, token_pattern=r'\\b\\w+\\b')\n",
        "tfidf_vectorizer.fit_transform(df_tfidf['Company'])\n",
        "converted_df = fltr_df.copy()\n",
        "for column in converted_df.columns:\n",
        "  if converted_df[column].dtype == 'object':\n",
        "    converted_df[column] = converted_df[column].astype('category')\n",
        "data_train, data_val = train_test_split(converted_df, test_size=0.2, random_state=42)\n",
        "data_train.index = range(len(data_train))\n",
        "data_val.index = range(len(data_val))\n",
        "device = 'cuda' if torch.cuda.is_available() else 'cpu'\n",
        "\n",
        "def make_batch(data, maxlen = None, word_dropout=0, device=device):\n",
        "  batch = {}\n",
        "  batch['Title'] = as_matrix(data['Title'].values, maxlen)\n",
        "  batch['FullDescription'] = as_matrix(data['FullDescription'].values, maxlen)\n",
        "  batch['Categorical'] = categorical_vectorizer.transform(data[CATEGORIES].apply(dict, axis=1))\n",
        "\n",
        "  if word_dropout:\n",
        "    batch['FullDescription'] = drop_words(batch['FullDescription'], 1. - word_dropout)\n",
        "  if TARGET in data.columns:\n",
        "    batch[TARGET] = data[TARGET].values\n",
        "  return to_tensor(batch, device)\n",
        "\n",
        "new_batch = make_batch(data_train[:3], maxlen=10)\n",
        "embs = torch.nn.Embedding(len(tokens), 32)\n",
        "embs.cuda()\n",
        "vectors = embs(new_batch['Title']).mean(dim=1)\n",
        "embb = torch.nn.EmbeddingBag(len(tokens), 32)\n",
        "embb.cuda()\n",
        "embb_vectors = embb(new_batch['Title'])\n",
        "BATCH_SIZE=16\n",
        "EPOCHS=10\n",
        "LR = 1e-3\n",
        "OPT = 'SGD'"
      ],
      "metadata": {
        "id": "9pu-brMpRxxY"
      },
      "execution_count": 10,
      "outputs": []
    },
    {
      "cell_type": "markdown",
      "source": [
        "## RNN model LSTM"
      ],
      "metadata": {
        "id": "iIXAFKQIsVwB"
      }
    },
    {
      "cell_type": "markdown",
      "source": [
        "Inheritance would mess things up. After all theonly things that doesn't change is _init_weights and backward. Could later write and abstract class for them and inheret from it."
      ],
      "metadata": {
        "id": "tnExUNdkYjnp"
      }
    },
    {
      "cell_type": "code",
      "source": [
        "class RNNSalaryModel(nn.Module):\n",
        "  def __init__(self, n_tokens=len(tokens), n_cat_features=len(categorical_vectorizer.vocabulary_), emb_size=32, hid_size=64):\n",
        "    super(RNNSalaryModel, self).__init__()\n",
        "    self.title_emb = nn.Embedding(n_tokens, emb_size)\n",
        "    self.title_enc = nn.LSTM(emb_size, hid_size, batch_first=True)\n",
        "\n",
        "    self.desc_emb = nn.Embedding(n_tokens, emb_size)\n",
        "    self.desc_enc = nn.LSTM(emb_size, hid_size, batch_first=True)\n",
        "\n",
        "    self.cat_enc = nn.Sequential(\n",
        "        nn.Linear(n_cat_features, hid_size*2),\n",
        "        nn.ReLU(),\n",
        "        nn.Linear(hid_size*2, hid_size*2),\n",
        "        nn.ReLU())\n",
        "\n",
        "    self.predictor = nn.Sequential(\n",
        "        nn.Linear(hid_size*4, hid_size),\n",
        "        nn.ReLU(),\n",
        "        nn.Linear(hid_size, 1))\n",
        "\n",
        "    self.apply(self._init_weights)\n",
        "\n",
        "\n",
        "  def _init_weights(self, module):\n",
        "    if isinstance(module, (nn.Conv1d, nn.Embedding, nn.EmbeddingBag, nn.Linear)):\n",
        "      nn.init.xavier_uniform_(module.weight)\n",
        "      if module in (nn.Conv1d, nn.Linear) and not (module.bias is None):\n",
        "        nn.init.zeros_(module.bias)\n",
        "\n",
        "\n",
        "  def forward(self, batch):\n",
        "    title = batch['Title']\n",
        "    desc = batch['FullDescription']\n",
        "    cats = batch['Categorical']\n",
        "\n",
        "    ttl_emb = self.title_emb(title)\n",
        "    ttl_encoded, _ = self.title_enc(ttl_emb)\n",
        "\n",
        "    dsc_emb = self.desc_emb(desc)\n",
        "    dsc_encoded, _ = self.desc_enc(dsc_emb)\n",
        "\n",
        "    linear_cats = self.cat_enc(cats)\n",
        "\n",
        "    concats = torch.cat((ttl_encoded[:, -1, :], dsc_encoded[:, -1, :], linear_cats), 1)\n",
        "    outputs = self.predictor(concats)\n",
        "    return outputs.squeeze(-1)\n",
        "\n",
        "\n",
        "  def backward(self, loss):\n",
        "    loss.backward()"
      ],
      "metadata": {
        "id": "fPs6rGgTV812"
      },
      "execution_count": 18,
      "outputs": []
    },
    {
      "cell_type": "markdown",
      "source": [
        "### Create model"
      ],
      "metadata": {
        "id": "P91KFVTSYTTQ"
      }
    },
    {
      "cell_type": "code",
      "source": [
        "model = RNNSalaryModel().to(device)\n",
        "criterion = nn.MSELoss(reduction='sum')\n",
        "optimizer = torch.optim.SGD(model.parameters(), lr=LR)"
      ],
      "metadata": {
        "id": "oGggtYmRYSaj"
      },
      "execution_count": 19,
      "outputs": []
    },
    {
      "cell_type": "markdown",
      "source": [
        "### Train model"
      ],
      "metadata": {
        "id": "x6z1r3H1YXMP"
      }
    },
    {
      "cell_type": "code",
      "source": [
        "model_trainer = Trainmodel(model, optimizer, criterion, batch_size=BATCH_SIZE, epochs=EPOCHS, WANDB=True)\n",
        "model_trainer.train_model(data_train, data_val)\n",
        "print(f'Best MSE: {model_trainer.best_mse}\\nBest MAE: {model_trainer.best_mae}')"
      ],
      "metadata": {
        "colab": {
          "base_uri": "https://localhost:8080/",
          "height": 1000,
          "referenced_widgets": [
            "197586da7007401eb832ee6abd40b0ba",
            "bd9f341e04554ef3ae5d085257dbd228",
            "352d39bffc8246e1b0e3cd847860d35d",
            "4f8a372cd91c486eae1f88228400f23b",
            "beca19d98fa94da58ba2a726aaa87369",
            "f7109b1d52934055ab00634114333861",
            "f47d77aad56b4f5294918906ce693dd4",
            "c40e144a2dc84a04811add3c86731930",
            "d3cd4bd4f15a4f41a628cd8274abca40",
            "53443e2dc18b485a951e7b364720f3b6",
            "24ac2e1d7ddb4ffc883d38077e564daa",
            "1444277c432549ad8cd8ce790c11444d",
            "d7a498e367dc4492bbddba5a9367090e",
            "90e88f64902e43dbb310a7da658fdff4",
            "7c7212ed1f2a48fe97112ad32bc6f63a",
            "5f6e7dc162d44d12b23f73f8c7e7c131",
            "e4715795af47464baa38badf026a37a0",
            "49c8ebaabda5466f9022b9e0ac54610c",
            "a3012b16a7fc4114b44aa542ccd69b96",
            "f9ff9eb754d541e68eb956c54f6adea8",
            "0f680a6f5eca4407b34aaded755b7baa",
            "f92f33f1f4b34b99ab29326474b45685",
            "bc68beabf5d44e7d92074bc523da09db",
            "a49a61778662466cb79800c86aa2a943",
            "4ae65f1383ed4bdcb1055c9f460d41b5",
            "c4dffb6ca03e4c5a8cc362b54a51b66d",
            "954c35d29a4a49fdb2b71bdd5ea80a73",
            "d78ed73dfb00409e98c7ab057513722d",
            "eff5dad8e2484ba29e4d9cd0f44d369a",
            "e8cb792f2309462588298a2d525ceb52",
            "b3454e3f6ed74d20a5da46c5b81b73a2",
            "a79dd990242b47c29c35c8f652ed4c1d",
            "f9edc8f5b7b64f1e809c0c475955c5a7",
            "9005a8f486674351855f42d0c3daa132",
            "e6c8b80521ae4fccab4c25fe8949a53d",
            "360a7e1eb7264c2cbf3174080f199d72",
            "ed7f900f26a740f58d021ecd892cbb41",
            "194c368ef89840839fe08df2d42a887f",
            "9c649a236a1842b38129c4991e01a6fc",
            "9beb05087e3c4924bdcd662521f767f2",
            "28575f8c98264802ba710dcc0105cf0c",
            "8f7b386477814b52a813682499cb9533",
            "40eee4d638cd4bf085878f3b995129d5",
            "1f6cd5f07a954d81bbd22939a6f2a85f",
            "9ef0ff21dc1c4c86b7eb70620206ec54",
            "29afcd0901754df1843318046763b203",
            "a19ed8e57c624a07a91396572f49348a",
            "e8b81aaed4aa4515a1fb1c5eb3b67648",
            "c665f5678f6a47e299941a6f770e7da3",
            "73239ff97bf445ca9877b1baddabcaa3",
            "957e3c4ad981461b8d9318a4eac56500",
            "75fee2f22b3147188d7456fc1260f14c",
            "758f6be3ef034a3790a519d1f32df8d7",
            "21611dad24374f8da5e45753cca6abfc",
            "8f403b3e838e4a13aa296a934acad52f",
            "ea06fe97387f4aa5854a7d616fd92a32",
            "75c721abbe934d919372704da291aa0d",
            "b29350e8afbb47cb85f168346b9cdea7",
            "6bd5636ea9dd46d2bd0a957c96811191",
            "b2a0c302edaa473587ba2fb3c9c3cf8c",
            "3b1c4a3215c64caa8858c9bcaa373390",
            "75c3308c5aa54eceb9889fde6d70bf05",
            "ceeb480cae6e4f349b3acce19415df0f",
            "3c22551068db48189bd6a4a85bb54135",
            "b2f0610ff730483bb956dc35c2c06879",
            "a27b6070c7bb4eadb4816e050cc02b1b",
            "bdb5fa4bca9b4c6e98cd1f6a9adc7cec",
            "767895ee94d141ee958e9f8f2210a571",
            "ab127a77bcae41aca017fd91634e6655",
            "222e0f8885394b93853dc2f2bb83e60b",
            "ec329e12c8b04549a0b9640f9caa9ae1",
            "0872bcbac28a41df81fae1e874596c11",
            "6b56c18b598b498e88d8b7a03c5e2e3c",
            "296acbee9e4d4d86a0f1fbd0609f5874",
            "74c76c0b49b24f9f9236b1ef51f59d02",
            "dd10088265524436a36bdfc2306148f3",
            "1226efeddaab4a36809923fee6834815",
            "65c3214f370a461c87bb1296bb7b952a",
            "c4ce630b9b3246ff9c16e62877e4f17f",
            "dfbf0351297144c083e3d30e1d441c84",
            "61bbbd0331744875a30317f97f4dfd82",
            "bd1cdb3574fd4a9fa151ed82eb54b598",
            "81f8d82059f94684b41b95c4ca1fbee7",
            "50d27ff5442447efa37c8e30095eee88",
            "94bfd1e779994743aa88cd5c10846d56",
            "e339fd4619294a0eab288112cbd7308a",
            "17ecad33e09e40c78dd9cef0559ffc1f",
            "e89cfd89f0004c568e7785763fa47177",
            "95190d8fe740458191b0e4db6071c921",
            "7bfca23307674f5fa885e875417b28df",
            "94256a7cfba64e67a77516d94ea00e9b",
            "049b5982f5ad45ac9ac676c15b05692d",
            "add457d9b18246db86cdbaa128ccfbc7",
            "c54a65ef0744444a8777b51cdc4bf7c8",
            "90cb02e5076c482998c3d90d0c5ae2f1",
            "fc7ca20291374efb841e73bb5762e85c",
            "b4ad53fff9504b0f9d79a6ce92660eb7",
            "394d4ee0e42d405dae08d250e058c981",
            "04567dc0ee854a428989f0a2a44faf5c",
            "6c99b32473424e4f83655f008a4faf77",
            "23667d9688914179b42d96ded487fb61",
            "386941800d3541798d78f6d249bdb1e9",
            "62d77730cdf343fcab1c09965b27e7e4",
            "b29d02a4e3944b61bf19e32d7fce9367",
            "f9d5380e470a4848bc644014bada9858",
            "f365b2a1d959406e944849effb9910c7",
            "168089fa45a64f25894bd5e47e3f7c3e",
            "0cd0955fdbbf48198c902a8b9c7c37a0",
            "bc9af31f63a44d46b5ad50f079653b19",
            "be72a61c379a4852a7d8274ed17c6122",
            "4ae95d07025546649d10600f5e4a877c",
            "4cab000da5ab427cbff4f7e04bf50aab",
            "5aa54641b6494932b96600a113b032ca",
            "8af1ef90cab049ee86fe81ee5fac83bd",
            "facd9d602fdd4bb8ae8358b4be87a40c",
            "e39aea37d2d54f83b83d31b73d9a051e",
            "253ef4eb439f44b1a9ca32c496336456",
            "0214ec9169d747679487dbc0ec054196"
          ]
        },
        "id": "ekrtNeahYY7D",
        "outputId": "d5505f04-66cb-413a-a851-7416f511dc75"
      },
      "execution_count": 21,
      "outputs": [
        {
          "output_type": "stream",
          "name": "stderr",
          "text": [
            "\u001b[34m\u001b[1mwandb\u001b[0m: Currently logged in as: \u001b[33mdimildizio\u001b[0m. Use \u001b[1m`wandb login --relogin`\u001b[0m to force relogin\n"
          ]
        },
        {
          "output_type": "display_data",
          "data": {
            "text/plain": [
              "<IPython.core.display.HTML object>"
            ],
            "text/html": [
              "Tracking run with wandb version 0.15.8"
            ]
          },
          "metadata": {}
        },
        {
          "output_type": "display_data",
          "data": {
            "text/plain": [
              "<IPython.core.display.HTML object>"
            ],
            "text/html": [
              "Run data is saved locally in <code>/content/wandb/run-20230826_151001-l35lv1tv</code>"
            ]
          },
          "metadata": {}
        },
        {
          "output_type": "display_data",
          "data": {
            "text/plain": [
              "<IPython.core.display.HTML object>"
            ],
            "text/html": [
              "Syncing run <strong><a href='https://wandb.ai/dimildizio/nlp-job-text-classifier/runs/l35lv1tv' target=\"_blank\">dulcet-armadillo-26</a></strong> to <a href='https://wandb.ai/dimildizio/nlp-job-text-classifier' target=\"_blank\">Weights & Biases</a> (<a href='https://wandb.me/run' target=\"_blank\">docs</a>)<br/>"
            ]
          },
          "metadata": {}
        },
        {
          "output_type": "display_data",
          "data": {
            "text/plain": [
              "<IPython.core.display.HTML object>"
            ],
            "text/html": [
              " View project at <a href='https://wandb.ai/dimildizio/nlp-job-text-classifier' target=\"_blank\">https://wandb.ai/dimildizio/nlp-job-text-classifier</a>"
            ]
          },
          "metadata": {}
        },
        {
          "output_type": "display_data",
          "data": {
            "text/plain": [
              "<IPython.core.display.HTML object>"
            ],
            "text/html": [
              " View run at <a href='https://wandb.ai/dimildizio/nlp-job-text-classifier/runs/l35lv1tv' target=\"_blank\">https://wandb.ai/dimildizio/nlp-job-text-classifier/runs/l35lv1tv</a>"
            ]
          },
          "metadata": {}
        },
        {
          "output_type": "stream",
          "name": "stdout",
          "text": [
            "EPOCH: 1\n"
          ]
        },
        {
          "output_type": "display_data",
          "data": {
            "text/plain": [
              "  0%|          | 0/12238 [00:00<?, ?it/s]"
            ],
            "application/vnd.jupyter.widget-view+json": {
              "version_major": 2,
              "version_minor": 0,
              "model_id": "197586da7007401eb832ee6abd40b0ba"
            }
          },
          "metadata": {}
        },
        {
          "output_type": "stream",
          "name": "stdout",
          "text": [
            "Results:\n",
            "_____MSE:0.15397\n",
            "______MAE:0.30583\n",
            "\n",
            "EPOCH: 2\n"
          ]
        },
        {
          "output_type": "display_data",
          "data": {
            "text/plain": [
              "  0%|          | 0/12238 [00:00<?, ?it/s]"
            ],
            "application/vnd.jupyter.widget-view+json": {
              "version_major": 2,
              "version_minor": 0,
              "model_id": "1444277c432549ad8cd8ce790c11444d"
            }
          },
          "metadata": {}
        },
        {
          "output_type": "stream",
          "name": "stdout",
          "text": [
            "Results:\n",
            "_____MSE:0.14981\n",
            "______MAE:0.30067\n",
            "\n",
            "EPOCH: 3\n"
          ]
        },
        {
          "output_type": "display_data",
          "data": {
            "text/plain": [
              "  0%|          | 0/12238 [00:00<?, ?it/s]"
            ],
            "application/vnd.jupyter.widget-view+json": {
              "version_major": 2,
              "version_minor": 0,
              "model_id": "bc68beabf5d44e7d92074bc523da09db"
            }
          },
          "metadata": {}
        },
        {
          "output_type": "stream",
          "name": "stdout",
          "text": [
            "Results:\n",
            "_____MSE:0.14635\n",
            "______MAE:0.2966\n",
            "\n",
            "EPOCH: 4\n"
          ]
        },
        {
          "output_type": "display_data",
          "data": {
            "text/plain": [
              "  0%|          | 0/12238 [00:00<?, ?it/s]"
            ],
            "application/vnd.jupyter.widget-view+json": {
              "version_major": 2,
              "version_minor": 0,
              "model_id": "9005a8f486674351855f42d0c3daa132"
            }
          },
          "metadata": {}
        },
        {
          "output_type": "stream",
          "name": "stdout",
          "text": [
            "Results:\n",
            "_____MSE:0.14449\n",
            "______MAE:0.29503\n",
            "\n",
            "EPOCH: 5\n"
          ]
        },
        {
          "output_type": "display_data",
          "data": {
            "text/plain": [
              "  0%|          | 0/12238 [00:00<?, ?it/s]"
            ],
            "application/vnd.jupyter.widget-view+json": {
              "version_major": 2,
              "version_minor": 0,
              "model_id": "9ef0ff21dc1c4c86b7eb70620206ec54"
            }
          },
          "metadata": {}
        },
        {
          "output_type": "stream",
          "name": "stdout",
          "text": [
            "Results:\n",
            "_____MSE:0.13964\n",
            "______MAE:0.2899\n",
            "\n",
            "EPOCH: 6\n"
          ]
        },
        {
          "output_type": "display_data",
          "data": {
            "text/plain": [
              "  0%|          | 0/12238 [00:00<?, ?it/s]"
            ],
            "application/vnd.jupyter.widget-view+json": {
              "version_major": 2,
              "version_minor": 0,
              "model_id": "ea06fe97387f4aa5854a7d616fd92a32"
            }
          },
          "metadata": {}
        },
        {
          "output_type": "stream",
          "name": "stdout",
          "text": [
            "Results:\n",
            "_____MSE:0.11182\n",
            "______MAE:0.25254\n",
            "\n",
            "EPOCH: 7\n"
          ]
        },
        {
          "output_type": "display_data",
          "data": {
            "text/plain": [
              "  0%|          | 0/12238 [00:00<?, ?it/s]"
            ],
            "application/vnd.jupyter.widget-view+json": {
              "version_major": 2,
              "version_minor": 0,
              "model_id": "bdb5fa4bca9b4c6e98cd1f6a9adc7cec"
            }
          },
          "metadata": {}
        },
        {
          "output_type": "stream",
          "name": "stdout",
          "text": [
            "Results:\n",
            "_____MSE:0.10158\n",
            "______MAE:0.23867\n",
            "\n",
            "EPOCH: 8\n"
          ]
        },
        {
          "output_type": "display_data",
          "data": {
            "text/plain": [
              "  0%|          | 0/12238 [00:00<?, ?it/s]"
            ],
            "application/vnd.jupyter.widget-view+json": {
              "version_major": 2,
              "version_minor": 0,
              "model_id": "65c3214f370a461c87bb1296bb7b952a"
            }
          },
          "metadata": {}
        },
        {
          "output_type": "stream",
          "name": "stdout",
          "text": [
            "Results:\n",
            "_____MSE:0.09535\n",
            "______MAE:0.23096\n",
            "\n",
            "EPOCH: 9\n"
          ]
        },
        {
          "output_type": "display_data",
          "data": {
            "text/plain": [
              "  0%|          | 0/12238 [00:00<?, ?it/s]"
            ],
            "application/vnd.jupyter.widget-view+json": {
              "version_major": 2,
              "version_minor": 0,
              "model_id": "95190d8fe740458191b0e4db6071c921"
            }
          },
          "metadata": {}
        },
        {
          "output_type": "stream",
          "name": "stdout",
          "text": [
            "Results:\n",
            "_____MSE:0.09864\n",
            "______MAE:0.23642\n",
            "\n",
            "EPOCH: 10\n"
          ]
        },
        {
          "output_type": "display_data",
          "data": {
            "text/plain": [
              "  0%|          | 0/12238 [00:00<?, ?it/s]"
            ],
            "application/vnd.jupyter.widget-view+json": {
              "version_major": 2,
              "version_minor": 0,
              "model_id": "6c99b32473424e4f83655f008a4faf77"
            }
          },
          "metadata": {}
        },
        {
          "output_type": "stream",
          "name": "stdout",
          "text": [
            "Results:\n",
            "_____MSE:0.09294\n",
            "______MAE:0.22793\n",
            "\n"
          ]
        },
        {
          "output_type": "display_data",
          "data": {
            "text/plain": [
              "<IPython.core.display.HTML object>"
            ],
            "text/html": [
              "Waiting for W&B process to finish... <strong style=\"color:green\">(success).</strong>"
            ]
          },
          "metadata": {}
        },
        {
          "output_type": "display_data",
          "data": {
            "text/plain": [
              "VBox(children=(Label(value='0.001 MB of 0.010 MB uploaded (0.000 MB deduped)\\r'), FloatProgress(value=0.118969…"
            ],
            "application/vnd.jupyter.widget-view+json": {
              "version_major": 2,
              "version_minor": 0,
              "model_id": "4ae95d07025546649d10600f5e4a877c"
            }
          },
          "metadata": {}
        },
        {
          "output_type": "display_data",
          "data": {
            "text/plain": [
              "<IPython.core.display.HTML object>"
            ],
            "text/html": [
              "<style>\n",
              "    table.wandb td:nth-child(1) { padding: 0 10px; text-align: left ; width: auto;} td:nth-child(2) {text-align: left ; width: 100%}\n",
              "    .wandb-row { display: flex; flex-direction: row; flex-wrap: wrap; justify-content: flex-start; width: 100% }\n",
              "    .wandb-col { display: flex; flex-direction: column; flex-basis: 100%; flex: 1; padding: 10px; }\n",
              "    </style>\n",
              "<div class=\"wandb-row\"><div class=\"wandb-col\"><h3>Run history:</h3><br/><table class=\"wandb\"><tr><td>Best_MAE</td><td>██▇▇▇▃▂▁▁▁</td></tr><tr><td>Best_MSE</td><td>██▇▇▆▃▂▁▁▁</td></tr><tr><td>Loss</td><td>█▅▅▄▄▃▂▂▁▁</td></tr><tr><td>MAE</td><td>██▇▇▇▃▂▁▂▁</td></tr><tr><td>MSE</td><td>██▇▇▆▃▂▁▂▁</td></tr></table><br/></div><div class=\"wandb-col\"><h3>Run summary:</h3><br/><table class=\"wandb\"><tr><td>Best_MAE</td><td>0.22793</td></tr><tr><td>Best_MSE</td><td>0.09294</td></tr><tr><td>Loss</td><td>13155.60871</td></tr><tr><td>MAE</td><td>0.22793</td></tr><tr><td>MSE</td><td>0.09294</td></tr></table><br/></div></div>"
            ]
          },
          "metadata": {}
        },
        {
          "output_type": "display_data",
          "data": {
            "text/plain": [
              "<IPython.core.display.HTML object>"
            ],
            "text/html": [
              " View run <strong style=\"color:#cdcd00\">dulcet-armadillo-26</strong> at: <a href='https://wandb.ai/dimildizio/nlp-job-text-classifier/runs/l35lv1tv' target=\"_blank\">https://wandb.ai/dimildizio/nlp-job-text-classifier/runs/l35lv1tv</a><br/>Synced 5 W&B file(s), 0 media file(s), 0 artifact file(s) and 0 other file(s)"
            ]
          },
          "metadata": {}
        },
        {
          "output_type": "display_data",
          "data": {
            "text/plain": [
              "<IPython.core.display.HTML object>"
            ],
            "text/html": [
              "Find logs at: <code>./wandb/run-20230826_151001-l35lv1tv/logs</code>"
            ]
          },
          "metadata": {}
        },
        {
          "output_type": "stream",
          "name": "stdout",
          "text": [
            "Best MSE: 0.09294044696296523\n",
            "Best MAE: 0.22792989496517138\n"
          ]
        }
      ]
    },
    {
      "cell_type": "code",
      "source": [
        "model_trainer.device"
      ],
      "metadata": {
        "id": "jZixnWVnnKOn",
        "outputId": "d408db7f-9199-4289-c4c3-23a5f447c2a2",
        "colab": {
          "base_uri": "https://localhost:8080/",
          "height": 35
        }
      },
      "execution_count": 24,
      "outputs": [
        {
          "output_type": "execute_result",
          "data": {
            "text/plain": [
              "'cuda'"
            ],
            "application/vnd.google.colaboratory.intrinsic+json": {
              "type": "string"
            }
          },
          "metadata": {},
          "execution_count": 24
        }
      ]
    },
    {
      "cell_type": "markdown",
      "source": [
        "Initialized weights and the first epoch with RNN show better results, decreasing with each epochs, but training takes forever and more epochs than CNN"
      ],
      "metadata": {
        "id": "1_kynvZsh-6R"
      }
    },
    {
      "cell_type": "markdown",
      "source": [
        "### Biderectional LSTM"
      ],
      "metadata": {
        "id": "X3_e48S3iJSY"
      }
    },
    {
      "cell_type": "code",
      "source": [
        "class BiRNNSalaryModel(nn.Module):\n",
        "  def __init__(self, n_tokens=len(tokens), n_cat_features=len(categorical_vectorizer.vocabulary_), emb_size=32, hid_size=64):\n",
        "    super(BiRNNSalaryModel, self).__init__()\n",
        "    self.title_emb = nn.Embedding(n_tokens, emb_size)\n",
        "    self.title_enc_forward = nn.LSTM(emb_size, hid_size, batch_first=True)\n",
        "    self.title_enc_backward = nn.LSTM(emb_size, hid_size, batch_first=True)\n",
        "\n",
        "\n",
        "    self.desc_emb = nn.Embedding(n_tokens, emb_size)\n",
        "    self.desc_enc_forward = nn.LSTM(emb_size, hid_size, batch_first=True)\n",
        "    self.desc_enc_backward = nn.LSTM(emb_size, hid_size, batch_first=True)\n",
        "\n",
        "    self.cat_enc = nn.Sequential(\n",
        "        nn.Linear(n_cat_features, hid_size*2),\n",
        "        nn.ReLU(),\n",
        "        nn.Linear(hid_size*2, hid_size*2),\n",
        "        nn.ReLU())\n",
        "\n",
        "    self.predictor = nn.Sequential(\n",
        "        nn.Linear(hid_size*4, hid_size),\n",
        "        nn.ReLU(),\n",
        "        nn.Linear(hid_size, 1))\n",
        "\n",
        "    self.apply(self._init_weights)\n",
        "\n",
        "\n",
        "  def _init_weights(self, module):\n",
        "    if isinstance(module, (nn.Conv1d, nn.Embedding, nn.EmbeddingBag, nn.Linear)):\n",
        "      nn.init.xavier_uniform_(module.weight)\n",
        "      if module in (nn.Conv1d, nn.Linear) and not (module.bias is None):\n",
        "        nn.init.zeros_(module.bias)\n",
        "\n",
        "\n",
        "  def forward(self, batch):\n",
        "    title = batch['Title']\n",
        "    desc = batch['FullDescription']\n",
        "    cats = batch['Categorical']\n",
        "\n",
        "    ttl_emb = self.title_emb(title)\n",
        "    ttl_encoded_forward, _ = self.title_enc_forward(ttl_emb)\n",
        "    ttl_encoded_backward, _ = self.title_enc_backward(torch.flip(ttl_emb, [1]))\n",
        "\n",
        "    dsc_emb = self.desc_emb(desc)\n",
        "    dsc_encoded_forward, _ = self.desc_enc_forward(dsc_emb)\n",
        "    dsc_encoded_backward, _ = self.dsc_enc_backward(torch.flip(dsc_emb, [1]))\n",
        "\n",
        "    linear_cats = self.cat_enc(cats)\n",
        "\n",
        "    concats_forward = torch.cat((ttl_encoded_forward[:, -1, :], dsc_encoded_forward[:, -1, :], linear_cats), 1)\n",
        "    concats_backward = torch.cat((ttl_encoded_backward[:, -1, :], dsc_encoded_backward[:, -1, :], linear_cats), 1)\n",
        "\n",
        "    concats = torch.cat((concats_forward, concats_backward), dim=-1)\n",
        "    outputs = self.predictor(concats)\n",
        "    return outputs.squeeze(-1)\n",
        "\n",
        "\n",
        "  def backward(self, loss):\n",
        "    loss.backward()"
      ],
      "metadata": {
        "id": "bkikco48iLuL"
      },
      "execution_count": 23,
      "outputs": []
    },
    {
      "cell_type": "code",
      "source": [
        "LR = 1e-2\n",
        "model = BiRNNSalaryModel().to(device)\n",
        "criterion = nn.MSELoss(reduction='sum')\n",
        "optimizer = torch.optim.SGD(model.parameters(), lr=LR)"
      ],
      "metadata": {
        "id": "574WpGXEoD5a"
      },
      "execution_count": 25,
      "outputs": []
    },
    {
      "cell_type": "code",
      "source": [
        "model_trainer = Trainmodel(model, optimizer, criterion, batch_size=BATCH_SIZE, epochs=5, WANDB=True)\n",
        "model_trainer.train_model(data_train, data_val)\n",
        "print(f'Best MSE: {model_trainer.best_mse}\\nBest MAE: {model_trainer.best_mae}')"
      ],
      "metadata": {
        "id": "jHF5SvdsoODo"
      },
      "execution_count": null,
      "outputs": []
    }
  ]
}