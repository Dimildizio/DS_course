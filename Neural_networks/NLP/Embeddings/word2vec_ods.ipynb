{
  "nbformat": 4,
  "nbformat_minor": 0,
  "metadata": {
    "colab": {
      "provenance": [],
      "authorship_tag": "ABX9TyOPm1WhNxHBVdo+/3lS8WQk",
      "include_colab_link": true
    },
    "kernelspec": {
      "name": "python3",
      "display_name": "Python 3"
    },
    "language_info": {
      "name": "python"
    }
  },
  "cells": [
    {
      "cell_type": "markdown",
      "metadata": {
        "id": "view-in-github",
        "colab_type": "text"
      },
      "source": [
        "<a href=\"https://colab.research.google.com/github/Dimildizio/DS_course/blob/main/Neural_networks/NLP/Embeddings/word2vec_ods.ipynb\" target=\"_parent\"><img src=\"https://colab.research.google.com/assets/colab-badge.svg\" alt=\"Open In Colab\"/></a>"
      ]
    },
    {
      "cell_type": "markdown",
      "source": [
        "# Word2Vec from scratch using pytorch"
      ],
      "metadata": {
        "id": "SnME0UvPrxe0"
      }
    },
    {
      "cell_type": "code",
      "execution_count": 15,
      "metadata": {
        "id": "P6DbazYprwoH"
      },
      "outputs": [],
      "source": [
        "import numpy as np\n",
        "import re\n",
        "import string\n",
        "import torch\n",
        "from torch import nn\n",
        "\n",
        "from torch.nn import functional as F\n",
        "from typing import Dict"
      ]
    },
    {
      "cell_type": "markdown",
      "source": [
        "## Create a general class to use it instead of global parameters"
      ],
      "metadata": {
        "id": "sjp_Xounv5k6"
      }
    },
    {
      "cell_type": "code",
      "source": [
        "class CFG:\n",
        "  \"\"\"\n",
        "  General metaclass for global parameters\n",
        "  \"\"\"\n",
        "  window_size = 10\n",
        "  dims = 300\n",
        "  lr = 0.01\n",
        "  neg_size = 10\n",
        "  epochs = 10\n"
      ],
      "metadata": {
        "id": "PvsmU3OItMdX"
      },
      "execution_count": 17,
      "outputs": []
    },
    {
      "cell_type": "markdown",
      "source": [
        "## Create data processing function to remove symbols and other unnecessary pieces of data"
      ],
      "metadata": {
        "id": "qmuQvcKvv-5Y"
      }
    },
    {
      "cell_type": "code",
      "source": [
        "def clean(inp: str) -> str:\n",
        "    \"\"\"Preprocessing the data\"\"\"\n",
        "    inp = inp.translate(str.maketrans(string.punctuation, \" \"*len(string.punctuation)))\n",
        "    inp = re.sub(r'\\s+', ' ', inp.lower())\n",
        "    return inp\n"
      ],
      "metadata": {
        "id": "Q5Z4Fp6Dr37V"
      },
      "execution_count": 2,
      "outputs": []
    },
    {
      "cell_type": "markdown",
      "source": [
        "## Main function to train Word2Vec"
      ],
      "metadata": {
        "id": "qp1RAj9ywMLB"
      }
    },
    {
      "cell_type": "code",
      "source": [
        "def train(data: str) -> Dict[str, np.array]:\n",
        "    \"\"\"\n",
        "    Train the word2vec model\n",
        "    return a dict:\n",
        "     -key: a word itself\n",
        "     -value: embeddings\n",
        "    \"\"\"\n",
        "    #  Not implemented now\n",
        "    data = clean(data)\n",
        "    return {key:np.zeros(CFG.dims, dtype='float32') for key in data.split()}"
      ],
      "metadata": {
        "id": "AOqVk3sUsFDw"
      },
      "execution_count": 20,
      "outputs": []
    },
    {
      "cell_type": "markdown",
      "source": [
        "Test the functionality"
      ],
      "metadata": {
        "id": "sd7oaGsFwTWO"
      }
    },
    {
      "cell_type": "code",
      "source": [
        "data = 'A quick brown fox jumps over a lazy dog! Hi, is it your string?'\n",
        "train(data)"
      ],
      "metadata": {
        "id": "Da5CWjyPsGjw"
      },
      "execution_count": null,
      "outputs": []
    }
  ]
}