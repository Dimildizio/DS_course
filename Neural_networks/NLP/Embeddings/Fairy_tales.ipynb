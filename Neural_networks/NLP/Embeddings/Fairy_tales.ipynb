{
  "nbformat": 4,
  "nbformat_minor": 0,
  "metadata": {
    "colab": {
      "provenance": [],
      "authorship_tag": "ABX9TyPYrLyyS7UY3Ro3aupbFAFj",
      "include_colab_link": true
    },
    "kernelspec": {
      "name": "python3",
      "display_name": "Python 3"
    },
    "language_info": {
      "name": "python"
    }
  },
  "cells": [
    {
      "cell_type": "markdown",
      "metadata": {
        "id": "view-in-github",
        "colab_type": "text"
      },
      "source": [
        "<a href=\"https://colab.research.google.com/github/Dimildizio/DS_course/blob/main/Neural_networks/NLP/Embeddings/Fairy_tales.ipynb\" target=\"_parent\"><img src=\"https://colab.research.google.com/assets/colab-badge.svg\" alt=\"Open In Colab\"/></a>"
      ]
    },
    {
      "cell_type": "code",
      "execution_count": 18,
      "metadata": {
        "id": "JyUXQAdsbLJr"
      },
      "outputs": [],
      "source": [
        "import gensim\n",
        "import numpy as np\n",
        "import os\n",
        "import zipfile\n",
        "\n",
        "from IPython.display import clear_output\n",
        "from gensim.models import KeyedVectors\n",
        "from sklearn.linear_model import LinearRegression"
      ]
    },
    {
      "cell_type": "markdown",
      "source": [
        "###Download vocabularies and vector representation"
      ],
      "metadata": {
        "id": "2Sz3NvTjo93r"
      }
    },
    {
      "cell_type": "code",
      "source": [
        "def download_vec(name):\n",
        "  path = os.path.dirname(name)\n",
        "  with zipfile.ZipFile(name, 'r') as zf:\n",
        "    zf.extractall(path)\n",
        "  os.remove(name)"
      ],
      "metadata": {
        "id": "K1nUzmenb73p"
      },
      "execution_count": 6,
      "outputs": []
    },
    {
      "cell_type": "code",
      "source": [
        "!wget -O ukrainian.zip \"https://getfile.dokpub.com/yandex/get/https://disk.yandex.ru/d/9CAeNsJiInoyUA\"\n",
        "!wget -O russian.zip \"https://getfile.dokpub.com/yandex/get/https://yadi.sk/d/3yG0-M4M8fypeQ\"\n",
        "clear_output()\n",
        "\n",
        "for name in ['ukrainian.zip', 'russian.zip']:\n",
        "  download_vec(name)"
      ],
      "metadata": {
        "colab": {
          "base_uri": "https://localhost:8080/"
        },
        "id": "6qPdhcZIblvW",
        "outputId": "6cf4c491-e493-4644-f7f0-7d9c85d070a1"
      },
      "execution_count": 7,
      "outputs": [
        {
          "output_type": "stream",
          "name": "stdout",
          "text": [
            "--2023-07-05 19:08:50--  https://getfile.dokpub.com/yandex/get/https://disk.yandex.ru/d/9CAeNsJiInoyUA\n",
            "Resolving getfile.dokpub.com (getfile.dokpub.com)... 142.132.255.217\n",
            "Connecting to getfile.dokpub.com (getfile.dokpub.com)|142.132.255.217|:443... connected.\n",
            "HTTP request sent, awaiting response... 302 Found\n",
            "Location: https://downloader.disk.yandex.ru/disk/3a70bb47f6c0f3044a9267856b44f2eb15086a14d873a08fd0d62e302537915a/64a5f430/HdZOcL9j2UCaFZl90Y8xfcevwXkXuXvaIYjUX06MZoTXMyIOD6p5K-p8gA1R1iDaMnWY-AL8LMuEB1uPSIvHDw%3D%3D?uid=0&filename=cc.uk.300.vec.zip&disposition=attachment&hash=0MriIZAL2DprNGr89hL7a6bICrn4LuFQAJY%2BK4qSU1A%3D%3A&limit=0&content_type=application%2Fzip&owner_uid=78404243&fsize=386324207&hid=d843208373e1ea4be77ac5cfc29ca557&media_type=compressed&tknv=v2 [following]\n",
            "--2023-07-05 19:08:51--  https://downloader.disk.yandex.ru/disk/3a70bb47f6c0f3044a9267856b44f2eb15086a14d873a08fd0d62e302537915a/64a5f430/HdZOcL9j2UCaFZl90Y8xfcevwXkXuXvaIYjUX06MZoTXMyIOD6p5K-p8gA1R1iDaMnWY-AL8LMuEB1uPSIvHDw%3D%3D?uid=0&filename=cc.uk.300.vec.zip&disposition=attachment&hash=0MriIZAL2DprNGr89hL7a6bICrn4LuFQAJY%2BK4qSU1A%3D%3A&limit=0&content_type=application%2Fzip&owner_uid=78404243&fsize=386324207&hid=d843208373e1ea4be77ac5cfc29ca557&media_type=compressed&tknv=v2\n",
            "Resolving downloader.disk.yandex.ru (downloader.disk.yandex.ru)... 77.88.21.127, 2a02:6b8::2:127\n",
            "Connecting to downloader.disk.yandex.ru (downloader.disk.yandex.ru)|77.88.21.127|:443... connected.\n",
            "HTTP request sent, awaiting response... 302 Found\n",
            "Location: https://s312vlx.storage.yandex.net/rdisk/3a70bb47f6c0f3044a9267856b44f2eb15086a14d873a08fd0d62e302537915a/64a5f430/HdZOcL9j2UCaFZl90Y8xfcevwXkXuXvaIYjUX06MZoTXMyIOD6p5K-p8gA1R1iDaMnWY-AL8LMuEB1uPSIvHDw==?uid=0&filename=cc.uk.300.vec.zip&disposition=attachment&hash=0MriIZAL2DprNGr89hL7a6bICrn4LuFQAJY%2BK4qSU1A%3D%3A&limit=0&content_type=application%2Fzip&owner_uid=78404243&fsize=386324207&hid=d843208373e1ea4be77ac5cfc29ca557&media_type=compressed&tknv=v2&rtoken=lygb9StroAVW&force_default=no&ycrid=na-88bbb119c24e9bbe49da2946dd37b357-downloader16e&ts=5ffc541416c00&s=e66169654e5f43d0e03a4499ccdd7caaa0287c5ca3769ac7d00dfdb77156d2a0&pb=U2FsdGVkX1-aWMpTkGaxapSRuOOr2WQfI3nXsWUX2JeG8LWFMyfLNjnSRDtYTZoK3pvc8AtVJb6kd0xIGSzernarFNZ4zv9YHTG15y0j2Wg [following]\n",
            "--2023-07-05 19:08:53--  https://s312vlx.storage.yandex.net/rdisk/3a70bb47f6c0f3044a9267856b44f2eb15086a14d873a08fd0d62e302537915a/64a5f430/HdZOcL9j2UCaFZl90Y8xfcevwXkXuXvaIYjUX06MZoTXMyIOD6p5K-p8gA1R1iDaMnWY-AL8LMuEB1uPSIvHDw==?uid=0&filename=cc.uk.300.vec.zip&disposition=attachment&hash=0MriIZAL2DprNGr89hL7a6bICrn4LuFQAJY%2BK4qSU1A%3D%3A&limit=0&content_type=application%2Fzip&owner_uid=78404243&fsize=386324207&hid=d843208373e1ea4be77ac5cfc29ca557&media_type=compressed&tknv=v2&rtoken=lygb9StroAVW&force_default=no&ycrid=na-88bbb119c24e9bbe49da2946dd37b357-downloader16e&ts=5ffc541416c00&s=e66169654e5f43d0e03a4499ccdd7caaa0287c5ca3769ac7d00dfdb77156d2a0&pb=U2FsdGVkX1-aWMpTkGaxapSRuOOr2WQfI3nXsWUX2JeG8LWFMyfLNjnSRDtYTZoK3pvc8AtVJb6kd0xIGSzernarFNZ4zv9YHTG15y0j2Wg\n",
            "Resolving s312vlx.storage.yandex.net (s312vlx.storage.yandex.net)... 5.45.238.120, 2a02:6b8:c34:79:0:41af:18ff:ead2\n",
            "Connecting to s312vlx.storage.yandex.net (s312vlx.storage.yandex.net)|5.45.238.120|:443... connected.\n",
            "HTTP request sent, awaiting response... 200 OK\n",
            "Length: 386324207 (368M) [application/zip]\n",
            "Saving to: ‘ukrainian.zip’\n",
            "\n",
            "ukrainian.zip       100%[===================>] 368.43M  9.78MB/s    in 43s     \n",
            "\n",
            "2023-07-05 19:09:38 (8.56 MB/s) - ‘ukrainian.zip’ saved [386324207/386324207]\n",
            "\n"
          ]
        }
      ]
    },
    {
      "cell_type": "code",
      "source": [
        "!wget ukr_rus.train.txt https://raw.githubusercontent.com/yandexdataschool/nlp_course/2022/week01_embeddings/ukr_rus.train.txt\n",
        "!wget ukr_rus.test.txt https://raw.githubusercontent.com/yandexdataschool/nlp_course/2022/week01_embeddings/ukr_rus.test.txt\n",
        "clear_output()"
      ],
      "metadata": {
        "id": "LTaJ6EPdln9Q"
      },
      "execution_count": 19,
      "outputs": []
    },
    {
      "cell_type": "markdown",
      "source": [
        "### Load embeddings"
      ],
      "metadata": {
        "id": "fJF0vkZ8o27w"
      }
    },
    {
      "cell_type": "code",
      "source": [
        "uavec = 'cc.uk.300.vec'\n",
        "ruvec = 'cc.ru.300.vec'"
      ],
      "metadata": {
        "id": "zhPt5boHdfA7"
      },
      "execution_count": 21,
      "outputs": []
    },
    {
      "cell_type": "code",
      "source": [
        "ua_emb = KeyedVectors.load_word2vec_format(uavec)\n",
        "ru_emb = KeyedVectors.load_word2vec_format(ruvec)"
      ],
      "metadata": {
        "id": "1v1X1pFteAZ1"
      },
      "execution_count": 10,
      "outputs": []
    },
    {
      "cell_type": "markdown",
      "source": [
        "### Check for two most contradictive words from both languages"
      ],
      "metadata": {
        "id": "Syrdn7uXpJ3y"
      }
    },
    {
      "cell_type": "code",
      "source": [
        "ua_emb.most_similar(ua_emb[['паляниця']], topn=10)"
      ],
      "metadata": {
        "colab": {
          "base_uri": "https://localhost:8080/"
        },
        "id": "H7YChP0AeO4o",
        "outputId": "1217514e-042e-42f0-939a-a162076bcbdc"
      },
      "execution_count": 13,
      "outputs": [
        {
          "output_type": "execute_result",
          "data": {
            "text/plain": [
              "[('паляниця', 1.0),\n",
              " ('хлібина', 0.6972880959510803),\n",
              " ('паляницю', 0.6888859272003174),\n",
              " ('паляниці', 0.6719595789909363),\n",
              " ('Паляниця', 0.6607965230941772),\n",
              " ('пашниця', 0.6127423644065857),\n",
              " ('ґаздиня', 0.6104057431221008),\n",
              " ('сосонка', 0.6035154461860657),\n",
              " ('здоба', 0.6022063493728638),\n",
              " ('мисочка', 0.6010351181030273)]"
            ]
          },
          "metadata": {},
          "execution_count": 13
        }
      ]
    },
    {
      "cell_type": "code",
      "source": [
        "ru_emb.most_similar(ru_emb[['Сыктывкар']], topn=10)"
      ],
      "metadata": {
        "colab": {
          "base_uri": "https://localhost:8080/"
        },
        "id": "7OCr1KhyfVVN",
        "outputId": "44023c8b-7d5b-487b-f687-764e5e543789"
      },
      "execution_count": 15,
      "outputs": [
        {
          "output_type": "execute_result",
          "data": {
            "text/plain": [
              "[('Сыктывкар', 1.0000001192092896),\n",
              " ('Ухта', 0.7353183031082153),\n",
              " ('Усинск', 0.7093490958213806),\n",
              " ('Сосногорск', 0.6975598931312561),\n",
              " ('Петрозаводск', 0.6828557252883911),\n",
              " ('Воркута', 0.6743683815002441),\n",
              " ('Сургут', 0.6718339323997498),\n",
              " ('Сыктывкара', 0.6710988879203796),\n",
              " ('Нижневартовск', 0.6590413451194763),\n",
              " ('Йошкар-Ола', 0.6539392471313477)]"
            ]
          },
          "metadata": {},
          "execution_count": 15
        }
      ]
    },
    {
      "cell_type": "markdown",
      "source": [
        "\"Сыктывкар\" is so brutal it's cosine similarity with itself is more than 1.\n",
        "\n",
        "Thing is there is a lowercase \"сыктывкар\" with cos.similarity of 0.9999998807.. and if we sum them up and divide by 2 we'll get 1."
      ],
      "metadata": {
        "id": "oh-TYAZ4pQ1v"
      }
    },
    {
      "cell_type": "markdown",
      "source": [
        "### Sample some small vocab pairs"
      ],
      "metadata": {
        "id": "jQKj4yOdolgS"
      }
    },
    {
      "cell_type": "code",
      "source": [
        "def load_word_pairs(filename, ua_emb=ua_emb, ru_emb=ru_emb):\n",
        "    uk_ru_pairs = []\n",
        "    uk_vectors = []\n",
        "    ru_vectors = []\n",
        "    with open(filename, \"r\") as vocab:\n",
        "        for line in vocab:\n",
        "            ua, ru = line.rstrip().split(\"\\t\")\n",
        "            if ua not in ua_emb or ru not in ru_emb:\n",
        "                continue\n",
        "            uk_ru_pairs.append((ua, ru))\n",
        "            uk_vectors.append(ua_emb[ua])\n",
        "            ru_vectors.append(ru_emb[ru])\n",
        "    return uk_ru_pairs, np.array(uk_vectors), np.array(ru_vectors)"
      ],
      "metadata": {
        "id": "q4w6S-rThdfj"
      },
      "execution_count": 23,
      "outputs": []
    },
    {
      "cell_type": "code",
      "source": [
        "ua_ru_train, X_train, Y_train = load_word_pairs(\"ukr_rus.train.txt\")\n",
        "ua_ru_test, X_test, Y_test = load_word_pairs(\"ukr_rus.test.txt\")"
      ],
      "metadata": {
        "id": "0HpyR2Q3mMdu"
      },
      "execution_count": 24,
      "outputs": []
    },
    {
      "cell_type": "code",
      "source": [],
      "metadata": {
        "id": "PUC_jjVMoLfx"
      },
      "execution_count": null,
      "outputs": []
    }
  ]
}