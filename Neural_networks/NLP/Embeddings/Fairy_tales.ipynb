{
  "nbformat": 4,
  "nbformat_minor": 0,
  "metadata": {
    "colab": {
      "provenance": [],
      "authorship_tag": "ABX9TyM39VP42nExupG+tC9lzNYj",
      "include_colab_link": true
    },
    "kernelspec": {
      "name": "python3",
      "display_name": "Python 3"
    },
    "language_info": {
      "name": "python"
    }
  },
  "cells": [
    {
      "cell_type": "markdown",
      "metadata": {
        "id": "view-in-github",
        "colab_type": "text"
      },
      "source": [
        "<a href=\"https://colab.research.google.com/github/Dimildizio/DS_course/blob/main/Neural_networks/NLP/Embeddings/Fairy_tales.ipynb\" target=\"_parent\"><img src=\"https://colab.research.google.com/assets/colab-badge.svg\" alt=\"Open In Colab\"/></a>"
      ]
    },
    {
      "cell_type": "code",
      "execution_count": 2,
      "metadata": {
        "id": "JyUXQAdsbLJr"
      },
      "outputs": [],
      "source": [
        "import gensim\n",
        "import numpy as np\n",
        "import os\n",
        "import seaborn as sns\n",
        "import zipfile\n",
        "\n",
        "from IPython.display import clear_output\n",
        "import matplotlib.pyplot as plt\n",
        "from gensim.models import KeyedVectors\n",
        "from sklearn.metrics import mean_squared_error, mean_absolute_error\n",
        "from sklearn.linear_model import LinearRegression"
      ]
    },
    {
      "cell_type": "code",
      "source": [
        "%matplotlib inline"
      ],
      "metadata": {
        "id": "SFMkFlU6wuiw"
      },
      "execution_count": 4,
      "outputs": []
    },
    {
      "cell_type": "markdown",
      "source": [
        "###Download vocabularies and vector representation"
      ],
      "metadata": {
        "id": "2Sz3NvTjo93r"
      }
    },
    {
      "cell_type": "code",
      "source": [
        "def download_vec(name):\n",
        "  path = os.path.dirname(name)\n",
        "  with zipfile.ZipFile(name, 'r') as zf:\n",
        "    zf.extractall(path)\n",
        "  os.remove(name)"
      ],
      "metadata": {
        "id": "K1nUzmenb73p"
      },
      "execution_count": 3,
      "outputs": []
    },
    {
      "cell_type": "code",
      "source": [
        "!wget -O ukrainian.zip \"https://getfile.dokpub.com/yandex/get/https://disk.yandex.ru/d/9CAeNsJiInoyUA\"\n",
        "!wget -O russian.zip \"https://getfile.dokpub.com/yandex/get/https://yadi.sk/d/3yG0-M4M8fypeQ\"\n",
        "clear_output()\n",
        "\n",
        "for name in ['ukrainian.zip', 'russian.zip']:\n",
        "  download_vec(name)"
      ],
      "metadata": {
        "id": "6qPdhcZIblvW"
      },
      "execution_count": 7,
      "outputs": []
    },
    {
      "cell_type": "code",
      "source": [
        "!wget ukr_rus.train.txt https://raw.githubusercontent.com/yandexdataschool/nlp_course/2022/week01_embeddings/ukr_rus.train.txt\n",
        "!wget ukr_rus.test.txt https://raw.githubusercontent.com/yandexdataschool/nlp_course/2022/week01_embeddings/ukr_rus.test.txt\n",
        "clear_output()"
      ],
      "metadata": {
        "id": "LTaJ6EPdln9Q"
      },
      "execution_count": 8,
      "outputs": []
    },
    {
      "cell_type": "markdown",
      "source": [
        "### Load embeddings"
      ],
      "metadata": {
        "id": "fJF0vkZ8o27w"
      }
    },
    {
      "cell_type": "code",
      "source": [
        "uavec = 'cc.uk.300.vec'\n",
        "ruvec = 'cc.ru.300.vec'"
      ],
      "metadata": {
        "id": "zhPt5boHdfA7"
      },
      "execution_count": 9,
      "outputs": []
    },
    {
      "cell_type": "code",
      "source": [
        "ua_emb = KeyedVectors.load_word2vec_format(uavec)\n",
        "ru_emb = KeyedVectors.load_word2vec_format(ruvec)"
      ],
      "metadata": {
        "id": "1v1X1pFteAZ1"
      },
      "execution_count": 10,
      "outputs": []
    },
    {
      "cell_type": "markdown",
      "source": [
        "### Check for two most contradictive words from both languages"
      ],
      "metadata": {
        "id": "Syrdn7uXpJ3y"
      }
    },
    {
      "cell_type": "code",
      "source": [
        "ua_emb.most_similar(ua_emb[['паляниця']], topn=10)"
      ],
      "metadata": {
        "colab": {
          "base_uri": "https://localhost:8080/"
        },
        "id": "H7YChP0AeO4o",
        "outputId": "39d24dd1-5185-4d7d-f12b-4cb101b8d0c1"
      },
      "execution_count": 8,
      "outputs": [
        {
          "output_type": "execute_result",
          "data": {
            "text/plain": [
              "[('паляниця', 1.0),\n",
              " ('хлібина', 0.6972880959510803),\n",
              " ('паляницю', 0.6888859272003174),\n",
              " ('паляниці', 0.6719595789909363),\n",
              " ('Паляниця', 0.6607965230941772),\n",
              " ('пашниця', 0.6127423644065857),\n",
              " ('ґаздиня', 0.6104057431221008),\n",
              " ('сосонка', 0.6035154461860657),\n",
              " ('здоба', 0.6022063493728638),\n",
              " ('мисочка', 0.6010351181030273)]"
            ]
          },
          "metadata": {},
          "execution_count": 8
        }
      ]
    },
    {
      "cell_type": "code",
      "source": [
        "ru_emb.most_similar(ru_emb[['Сыктывкар']], topn=10)"
      ],
      "metadata": {
        "colab": {
          "base_uri": "https://localhost:8080/"
        },
        "id": "7OCr1KhyfVVN",
        "outputId": "731c9eb7-ebdf-49d1-be43-312308b8c5cd"
      },
      "execution_count": 9,
      "outputs": [
        {
          "output_type": "execute_result",
          "data": {
            "text/plain": [
              "[('Сыктывкар', 1.0000001192092896),\n",
              " ('Ухта', 0.7353183031082153),\n",
              " ('Усинск', 0.7093490958213806),\n",
              " ('Сосногорск', 0.6975598931312561),\n",
              " ('Петрозаводск', 0.6828557252883911),\n",
              " ('Воркута', 0.6743683815002441),\n",
              " ('Сургут', 0.6718339323997498),\n",
              " ('Сыктывкара', 0.6710988879203796),\n",
              " ('Нижневартовск', 0.6590413451194763),\n",
              " ('Йошкар-Ола', 0.6539392471313477)]"
            ]
          },
          "metadata": {},
          "execution_count": 9
        }
      ]
    },
    {
      "cell_type": "markdown",
      "source": [
        "\"Сыктывкар\" is so brutal it's cosine similarity with itself is more than 1.\n",
        "\n",
        "Thing is there is a lowercase \"сыктывкар\" with cos.similarity of 0.9999998807.. and if we sum them up and divide by 2 we'll get 1."
      ],
      "metadata": {
        "id": "oh-TYAZ4pQ1v"
      }
    },
    {
      "cell_type": "markdown",
      "source": [
        "### Sample some small vocab pairs"
      ],
      "metadata": {
        "id": "jQKj4yOdolgS"
      }
    },
    {
      "cell_type": "code",
      "source": [
        "def load_word_pairs(filename, ua_emb=ua_emb, ru_emb=ru_emb):\n",
        "    uk_ru_pairs = []\n",
        "    uk_vectors = []\n",
        "    ru_vectors = []\n",
        "    with open(filename, \"r\") as vocab:\n",
        "        for line in vocab:\n",
        "            ua, ru = line.rstrip().split(\"\\t\")\n",
        "            if ua not in ua_emb or ru not in ru_emb:\n",
        "                continue\n",
        "            uk_ru_pairs.append((ua, ru))\n",
        "            uk_vectors.append(ua_emb[ua])\n",
        "            ru_vectors.append(ru_emb[ru])\n",
        "    return uk_ru_pairs, np.array(uk_vectors), np.array(ru_vectors)"
      ],
      "metadata": {
        "id": "q4w6S-rThdfj"
      },
      "execution_count": 11,
      "outputs": []
    },
    {
      "cell_type": "code",
      "source": [
        "ua_ru_train, X_train, y_train = load_word_pairs(\"ukr_rus.train.txt\")\n",
        "ua_ru_test, X_test, y_test = load_word_pairs(\"ukr_rus.test.txt\")"
      ],
      "metadata": {
        "id": "0HpyR2Q3mMdu"
      },
      "execution_count": 12,
      "outputs": []
    },
    {
      "cell_type": "markdown",
      "source": [
        "### Try linear regression"
      ],
      "metadata": {
        "id": "ozOZZkncq0wn"
      }
    },
    {
      "cell_type": "code",
      "source": [
        "#print(best_model) #Ridge(alpha=0.001, max_iter=100)"
      ],
      "metadata": {
        "id": "IpCpGMSdg1XV"
      },
      "execution_count": 12,
      "outputs": []
    },
    {
      "cell_type": "code",
      "source": [
        "linear = LinearRegression()\n",
        "linear.fit(X_train, y_train)"
      ],
      "metadata": {
        "colab": {
          "base_uri": "https://localhost:8080/",
          "height": 74
        },
        "id": "PUC_jjVMoLfx",
        "outputId": "664e754d-0062-4857-82d9-630fd2c62dc8"
      },
      "execution_count": 14,
      "outputs": [
        {
          "output_type": "execute_result",
          "data": {
            "text/plain": [
              "LinearRegression()"
            ],
            "text/html": [
              "<style>#sk-container-id-1 {color: black;background-color: white;}#sk-container-id-1 pre{padding: 0;}#sk-container-id-1 div.sk-toggleable {background-color: white;}#sk-container-id-1 label.sk-toggleable__label {cursor: pointer;display: block;width: 100%;margin-bottom: 0;padding: 0.3em;box-sizing: border-box;text-align: center;}#sk-container-id-1 label.sk-toggleable__label-arrow:before {content: \"▸\";float: left;margin-right: 0.25em;color: #696969;}#sk-container-id-1 label.sk-toggleable__label-arrow:hover:before {color: black;}#sk-container-id-1 div.sk-estimator:hover label.sk-toggleable__label-arrow:before {color: black;}#sk-container-id-1 div.sk-toggleable__content {max-height: 0;max-width: 0;overflow: hidden;text-align: left;background-color: #f0f8ff;}#sk-container-id-1 div.sk-toggleable__content pre {margin: 0.2em;color: black;border-radius: 0.25em;background-color: #f0f8ff;}#sk-container-id-1 input.sk-toggleable__control:checked~div.sk-toggleable__content {max-height: 200px;max-width: 100%;overflow: auto;}#sk-container-id-1 input.sk-toggleable__control:checked~label.sk-toggleable__label-arrow:before {content: \"▾\";}#sk-container-id-1 div.sk-estimator input.sk-toggleable__control:checked~label.sk-toggleable__label {background-color: #d4ebff;}#sk-container-id-1 div.sk-label input.sk-toggleable__control:checked~label.sk-toggleable__label {background-color: #d4ebff;}#sk-container-id-1 input.sk-hidden--visually {border: 0;clip: rect(1px 1px 1px 1px);clip: rect(1px, 1px, 1px, 1px);height: 1px;margin: -1px;overflow: hidden;padding: 0;position: absolute;width: 1px;}#sk-container-id-1 div.sk-estimator {font-family: monospace;background-color: #f0f8ff;border: 1px dotted black;border-radius: 0.25em;box-sizing: border-box;margin-bottom: 0.5em;}#sk-container-id-1 div.sk-estimator:hover {background-color: #d4ebff;}#sk-container-id-1 div.sk-parallel-item::after {content: \"\";width: 100%;border-bottom: 1px solid gray;flex-grow: 1;}#sk-container-id-1 div.sk-label:hover label.sk-toggleable__label {background-color: #d4ebff;}#sk-container-id-1 div.sk-serial::before {content: \"\";position: absolute;border-left: 1px solid gray;box-sizing: border-box;top: 0;bottom: 0;left: 50%;z-index: 0;}#sk-container-id-1 div.sk-serial {display: flex;flex-direction: column;align-items: center;background-color: white;padding-right: 0.2em;padding-left: 0.2em;position: relative;}#sk-container-id-1 div.sk-item {position: relative;z-index: 1;}#sk-container-id-1 div.sk-parallel {display: flex;align-items: stretch;justify-content: center;background-color: white;position: relative;}#sk-container-id-1 div.sk-item::before, #sk-container-id-1 div.sk-parallel-item::before {content: \"\";position: absolute;border-left: 1px solid gray;box-sizing: border-box;top: 0;bottom: 0;left: 50%;z-index: -1;}#sk-container-id-1 div.sk-parallel-item {display: flex;flex-direction: column;z-index: 1;position: relative;background-color: white;}#sk-container-id-1 div.sk-parallel-item:first-child::after {align-self: flex-end;width: 50%;}#sk-container-id-1 div.sk-parallel-item:last-child::after {align-self: flex-start;width: 50%;}#sk-container-id-1 div.sk-parallel-item:only-child::after {width: 0;}#sk-container-id-1 div.sk-dashed-wrapped {border: 1px dashed gray;margin: 0 0.4em 0.5em 0.4em;box-sizing: border-box;padding-bottom: 0.4em;background-color: white;}#sk-container-id-1 div.sk-label label {font-family: monospace;font-weight: bold;display: inline-block;line-height: 1.2em;}#sk-container-id-1 div.sk-label-container {text-align: center;}#sk-container-id-1 div.sk-container {/* jupyter's `normalize.less` sets `[hidden] { display: none; }` but bootstrap.min.css set `[hidden] { display: none !important; }` so we also need the `!important` here to be able to override the default hidden behavior on the sphinx rendered scikit-learn.org. See: https://github.com/scikit-learn/scikit-learn/issues/21755 */display: inline-block !important;position: relative;}#sk-container-id-1 div.sk-text-repr-fallback {display: none;}</style><div id=\"sk-container-id-1\" class=\"sk-top-container\"><div class=\"sk-text-repr-fallback\"><pre>LinearRegression()</pre><b>In a Jupyter environment, please rerun this cell to show the HTML representation or trust the notebook. <br />On GitHub, the HTML representation is unable to render, please try loading this page with nbviewer.org.</b></div><div class=\"sk-container\" hidden><div class=\"sk-item\"><div class=\"sk-estimator sk-toggleable\"><input class=\"sk-toggleable__control sk-hidden--visually\" id=\"sk-estimator-id-1\" type=\"checkbox\" checked><label for=\"sk-estimator-id-1\" class=\"sk-toggleable__label sk-toggleable__label-arrow\">LinearRegression</label><div class=\"sk-toggleable__content\"><pre>LinearRegression()</pre></div></div></div></div></div>"
            ]
          },
          "metadata": {},
          "execution_count": 14
        }
      ]
    },
    {
      "cell_type": "code",
      "source": [
        "y_pred = linear.predict(X_test)\n",
        "mae = mean_absolute_error(y_pred, y_test)\n",
        "mse = mean_squared_error(y_pred, y_test)"
      ],
      "metadata": {
        "id": "7whBJBJIrXe-"
      },
      "execution_count": 15,
      "outputs": []
    },
    {
      "cell_type": "markdown",
      "source": [
        "Well, since vectors' values are so small, these numbers don't actually provide us a detailed insight into the nature of the mistakes"
      ],
      "metadata": {
        "id": "RoAsNnmfwDiN"
      }
    },
    {
      "cell_type": "code",
      "source": [
        "residuals = y_pred - y_test\n",
        "residuals = residuals.flatten()\n",
        "sns.scatterplot(x=np.arange(len(residuals)), y=residuals)\n",
        "plt.axhline(y=0, color='r', linestyle='--')\n",
        "plt.xlabel('Data Points')\n",
        "plt.ylabel('Residuals')\n",
        "plt.title('Residual Plot')\n",
        "plt.show()"
      ],
      "metadata": {
        "id": "8Hs2HbMuwmue"
      },
      "execution_count": null,
      "outputs": []
    },
    {
      "cell_type": "markdown",
      "source": [
        "## Measure top-1, 5, 10 nearest neighbors in pairs  "
      ],
      "metadata": {
        "id": "qKSwmDD5VsJZ"
      }
    },
    {
      "cell_type": "code",
      "source": [
        "august = linear.predict(ua_emb[\"серпень\"].reshape(1, -1))\n",
        "ru_emb.most_similar(august)"
      ],
      "metadata": {
        "colab": {
          "base_uri": "https://localhost:8080/"
        },
        "id": "FGmpWmmWVI_S",
        "outputId": "2b5a2eca-dd54-4f88-f542-9edc46254e97"
      },
      "execution_count": 17,
      "outputs": [
        {
          "output_type": "execute_result",
          "data": {
            "text/plain": [
              "[('апрель', 0.8541592955589294),\n",
              " ('июнь', 0.8411963582038879),\n",
              " ('март', 0.8397400379180908),\n",
              " ('сентябрь', 0.8359215259552002),\n",
              " ('февраль', 0.8328748941421509),\n",
              " ('октябрь', 0.8311805725097656),\n",
              " ('ноябрь', 0.8278146982192993),\n",
              " ('июль', 0.8236350417137146),\n",
              " ('август', 0.8120611906051636),\n",
              " ('декабрь', 0.8037999272346497)]"
            ]
          },
          "metadata": {},
          "execution_count": 17
        }
      ]
    },
    {
      "cell_type": "code",
      "source": [
        "def precision(pairs: list, mapped_vectors: np.ndarray, topn=1)-> float:\n",
        "    \"\"\"\n",
        "    :args:\n",
        "        pairs = list of right word pairs [(uk_word_0, ru_word_0), ...]\n",
        "        mapped_vectors: np.ndarray = list of embeddings after mapping from source embedding space to destination embedding space\n",
        "        topn = the number of nearest neighbours in destination embedding space to choose from\n",
        "    :returns:\n",
        "        precision_val, float number, total number of words for those we can find right translation at top K.\n",
        "    \"\"\"\n",
        "    # Check if number of pairs was equal to dims of mapped_vector\n",
        "    assert len(pairs) == len(mapped_vectors)\n",
        "    num_matches = 0\n",
        "    # For idx, ua, rus in pairs\n",
        "    for i, (ua, ru) in enumerate(pairs):\n",
        "      # Get predicted by linear model vector representation of the word\n",
        "      ua_vec = mapped_vectors[i]\n",
        "      # Find top N vectors similar to ours\n",
        "      similars = ru_emb.similar_by_vector(ua_vec, topn=topn)\n",
        "      if ru in [word for word, vec in similars]:\n",
        "        # If our russian word from pair is in those top N we score a point\n",
        "        num_matches+=1\n",
        "    precision_val = num_matches / len(pairs)\n",
        "    return precision_val"
      ],
      "metadata": {
        "id": "xElBpP8kV039"
      },
      "execution_count": 18,
      "outputs": []
    },
    {
      "cell_type": "markdown",
      "source": [
        "### Bathe in tests"
      ],
      "metadata": {
        "id": "-Ln4UgZUeWZZ"
      }
    },
    {
      "cell_type": "code",
      "source": [
        "assert precision([(\"серпень\", \"август\")], august, topn=5) == 0.0\n",
        "assert precision([(\"серпень\", \"август\")], august, topn=9) == 1.0\n",
        "assert precision([(\"серпень\", \"август\")], august, topn=10) == 1.0\n",
        "assert precision(ua_ru_test, X_test) == 0.0\n",
        "assert precision(ua_ru_test, y_test) == 1.0"
      ],
      "metadata": {
        "id": "cBcVwE2CbUOk"
      },
      "execution_count": 37,
      "outputs": []
    },
    {
      "cell_type": "code",
      "source": [
        "precision_top1 = precision(ua_ru_test, linear.predict(X_test), 1)\n",
        "precision_top5 = precision(ua_ru_test, linear.predict(X_test), 5)\n",
        "\n",
        "assert precision_top1 >= 0.6356\n",
        "assert precision_top5 >= 0.8113\n",
        "#pretty sure original value of 0.813 was a mistake since no way in the current state the model can do better than 0.8113"
      ],
      "metadata": {
        "id": "gFACqbZ9eQ7s"
      },
      "execution_count": null,
      "outputs": []
    },
    {
      "cell_type": "code",
      "source": [
        "print(f\"Top5: {round(100*precision_top5,1)}%\\nTop1: {round(100*precision_top1, 2)}%\")"
      ],
      "metadata": {
        "colab": {
          "base_uri": "https://localhost:8080/"
        },
        "id": "a5fOF1nLiYvi",
        "outputId": "0740f56c-dc5d-4ad6-842d-7a713bad606b"
      },
      "execution_count": 20,
      "outputs": [
        {
          "output_type": "stream",
          "name": "stdout",
          "text": [
            "Top5: 81.1%\n",
            "Top1: 63.57%\n"
          ]
        }
      ]
    },
    {
      "cell_type": "markdown",
      "source": [
        "Seems like linear regression does a pretty good job showing that similar in meaning ua to ru word is in top 5 in 81% of pairs in dictionary. And in 63% word to word top1 mapping is correct.\n",
        "\n",
        "Btw for top9 the result is slighlty(no surprise) better than top5 - ~85%"
      ],
      "metadata": {
        "id": "zjsnSa5ZjMY4"
      }
    },
    {
      "cell_type": "markdown",
      "source": [
        "### Orthogonal W"
      ],
      "metadata": {
        "id": "NcwOU1z1lhnz"
      }
    },
    {
      "cell_type": "markdown",
      "source": [
        "Making W orthogonal for linear mapping.\n",
        "\n",
        "\n",
        "$$W^*= \\arg\\min_w (||WX-Y||)F \\text{, where:} W^TW=Identity$$\n",
        "\n",
        "Frobenius norm F measures squared sum of elements. Identity constraints for ort matrix.\n",
        "Find the best mapping using SVD (we won't treat the problem as a regression):\n",
        "\n",
        "$ X^TY = U\\Sigma V^T $\n",
        "\n",
        "relationship between X and Y\n",
        "\n",
        "$W* = UV^T$\n",
        "\n",
        "Thus we find optimal orthogonal transformation by forming a product of $UV^T$ from SVD of X (U and $V^T$)."
      ],
      "metadata": {
        "id": "HxEAZ06di2f6"
      }
    },
    {
      "cell_type": "code",
      "source": [
        "def learn_transform(X_train, Y_train):\n",
        "    \"\"\"\n",
        "    :returns: W* : float matrix[emb_dim x emb_dim] as defined in formulae above\n",
        "    \"\"\"\n",
        "    U, Sigma, Vt = np.linalg.svd(X_train.T @ Y_train, full_matrices=False)\n",
        "    w_star = U @ Vt\n",
        "    return w_star\n"
      ],
      "metadata": {
        "id": "IHeBQEMvisO7"
      },
      "execution_count": 33,
      "outputs": []
    },
    {
      "cell_type": "code",
      "source": [
        "W = learn_transform(X_train, y_train)"
      ],
      "metadata": {
        "id": "gr0E62zCoEoI"
      },
      "execution_count": 34,
      "outputs": []
    },
    {
      "cell_type": "code",
      "source": [
        "ru_emb.most_similar([np.matmul(ua_emb[\"серпень\"], W)])"
      ],
      "metadata": {
        "colab": {
          "base_uri": "https://localhost:8080/"
        },
        "id": "H50FCMeKoEYc",
        "outputId": "c0252d97-0ff7-435f-b133-1ac11c27b933"
      },
      "execution_count": 35,
      "outputs": [
        {
          "output_type": "execute_result",
          "data": {
            "text/plain": [
              "[('апрель', 0.8237906694412231),\n",
              " ('сентябрь', 0.8049713373184204),\n",
              " ('март', 0.8025653958320618),\n",
              " ('июнь', 0.8021842241287231),\n",
              " ('октябрь', 0.8001735806465149),\n",
              " ('ноябрь', 0.7934483289718628),\n",
              " ('февраль', 0.7914120554924011),\n",
              " ('июль', 0.7908109426498413),\n",
              " ('август', 0.7891016602516174),\n",
              " ('декабрь', 0.7686373591423035)]"
            ]
          },
          "metadata": {},
          "execution_count": 35
        }
      ]
    },
    {
      "cell_type": "code",
      "source": [
        "top1_best_align_match = precision(ua_ru_test, np.matmul(X_test, W))\n",
        "top5_best_align_match = precision(ua_ru_test, np.matmul(X_test, W), 5)"
      ],
      "metadata": {
        "id": "ITUi1Ihdtn4H"
      },
      "execution_count": 39,
      "outputs": []
    },
    {
      "cell_type": "code",
      "source": [
        "assert top1_best_align_match >= 0.653\n",
        "assert top5_best_align_match >= 0.824"
      ],
      "metadata": {
        "id": "9YLYM6gntKdW"
      },
      "execution_count": 40,
      "outputs": []
    },
    {
      "cell_type": "markdown",
      "source": [
        "As we can see if we use SVD for dimensional reduction on two multiplied vectors we get U - **left singular vector**, sigma (singular values we don't need in this case) and Vt - **.T right singular vector**. We dot multiply **$W^* = U @ Vt$**.\n",
        "\n",
        "And then  **X_test @ W** - X_test dataset undergoes the same transformations as X_train did and aligns X_train in the same transformed semantic space where X_train and Y_train are aligned.\n",
        "\n",
        "As a result we've managed to increase the metrics by +2% for the direct match and by +1.3% for top 5 best matches of two vectors.\n"
      ],
      "metadata": {
        "id": "dEnhyueSvoc3"
      }
    },
    {
      "cell_type": "markdown",
      "source": [
        "## Machine translation"
      ],
      "metadata": {
        "id": "O523ykcN0N9W"
      }
    },
    {
      "cell_type": "code",
      "source": [],
      "metadata": {
        "id": "QUpbIabbtZYT"
      },
      "execution_count": null,
      "outputs": []
    }
  ]
}