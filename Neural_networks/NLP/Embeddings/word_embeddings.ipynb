{
  "nbformat": 4,
  "nbformat_minor": 0,
  "metadata": {
    "colab": {
      "provenance": [],
      "authorship_tag": "ABX9TyOfG9Kw7OIsUrvERdb07jbs",
      "include_colab_link": true
    },
    "kernelspec": {
      "name": "python3",
      "display_name": "Python 3"
    },
    "language_info": {
      "name": "python"
    }
  },
  "cells": [
    {
      "cell_type": "markdown",
      "metadata": {
        "id": "view-in-github",
        "colab_type": "text"
      },
      "source": [
        "<a href=\"https://colab.research.google.com/github/Dimildizio/DS_course/blob/main/Neural_networks/NLP/Embeddings/word_embeddings.ipynb\" target=\"_parent\"><img src=\"https://colab.research.google.com/assets/colab-badge.svg\" alt=\"Open In Colab\"/></a>"
      ]
    },
    {
      "cell_type": "code",
      "source": [
        "from IPython.display import clear_output, Image"
      ],
      "metadata": {
        "id": "yl_xZW2jPq1v"
      },
      "execution_count": 3,
      "outputs": []
    },
    {
      "cell_type": "code",
      "execution_count": 4,
      "metadata": {
        "id": "pXJTcKqUPXK_"
      },
      "outputs": [],
      "source": [
        "!wget https://www.dropbox.com/s/obaitrix9jyu84r/quora.txt?dl=1 -O ./quora.txt\n",
        "clear_output()"
      ]
    },
    {
      "cell_type": "code",
      "source": [
        "import bokeh\n",
        "import bokeh.models as bm\n",
        "import bokeh.plotting as pl\n",
        "import gensim\n",
        "import gensim.downloader as api\n",
        "import nltk\n",
        "import numpy as np\n",
        "import pandas as pd\n",
        "\n",
        "from bokeh.io import output_notebook\n",
        "from gensim.models import Word2Vec\n",
        "from nltk.tokenize import WordPunctTokenizer as WPT\n",
        "from sklearn.decomposition import PCA\n",
        "from sklearn.manifold import TSNE\n",
        "from sklearn.preprocessing import StandardScaler"
      ],
      "metadata": {
        "id": "quObFrbvPepZ"
      },
      "execution_count": 5,
      "outputs": []
    },
    {
      "cell_type": "markdown",
      "source": [
        "# Bag of words"
      ],
      "metadata": {
        "id": "RUw-loH0-QKJ"
      }
    },
    {
      "cell_type": "code",
      "source": [
        "def splitme(doc):\n",
        "  return [txt.lower().split() for txt in doc]\n"
      ],
      "metadata": {
        "id": "5_0gAdyB-SD0"
      },
      "execution_count": null,
      "outputs": []
    },
    {
      "cell_type": "code",
      "source": [
        "docs = [\"I love pizza\", \"I like sushi\", \"I like pizza\", \"I enjoy beef\"]\n",
        "tk_docs = splitme(docs)\n",
        "voc = list(set([word for doc in tk_docs for word in doc]))\n",
        "\n",
        "wv = []\n",
        "for d in tk_docs:\n",
        "  vector = [d.count(word) for word in voc]\n",
        "  wv.append(vector)\n",
        "\n",
        "for i, word in enumerate(docs):\n",
        "  #print(f\"doc {i+1}:, {wv[i]}\")\n",
        "  print(f'doc{i+1}: {word} - {wv[i]}')"
      ],
      "metadata": {
        "colab": {
          "base_uri": "https://localhost:8080/"
        },
        "id": "B3JsR1-r_g2c",
        "outputId": "ce7ff820-b749-49c0-de3f-e84ab85c0d30"
      },
      "execution_count": null,
      "outputs": [
        {
          "output_type": "stream",
          "name": "stdout",
          "text": [
            "doc1: I love pizza - [0, 1, 0, 1, 0, 0, 1]\n",
            "doc2: I like sushi - [0, 0, 0, 0, 1, 1, 1]\n",
            "doc3: I like pizza - [0, 0, 0, 1, 1, 0, 1]\n",
            "doc4: I enjoy beef - [1, 0, 1, 0, 0, 0, 1]\n"
          ]
        }
      ]
    },
    {
      "cell_type": "code",
      "source": [
        "df = pd.DataFrame(wv, columns = voc)\n",
        "df"
      ],
      "metadata": {
        "colab": {
          "base_uri": "https://localhost:8080/",
          "height": 175
        },
        "id": "0cfa0QCn_oVO",
        "outputId": "dae5f550-422d-4ef3-ccc6-ccc42a119512"
      },
      "execution_count": null,
      "outputs": [
        {
          "output_type": "execute_result",
          "data": {
            "text/plain": [
              "   enjoy  love  beef  pizza  like  sushi  i\n",
              "0      0     1     0      1     0      0  1\n",
              "1      0     0     0      0     1      1  1\n",
              "2      0     0     0      1     1      0  1\n",
              "3      1     0     1      0     0      0  1"
            ],
            "text/html": [
              "\n",
              "  <div id=\"df-b2d0b22f-5765-4674-9f94-4092f482ce2b\">\n",
              "    <div class=\"colab-df-container\">\n",
              "      <div>\n",
              "<style scoped>\n",
              "    .dataframe tbody tr th:only-of-type {\n",
              "        vertical-align: middle;\n",
              "    }\n",
              "\n",
              "    .dataframe tbody tr th {\n",
              "        vertical-align: top;\n",
              "    }\n",
              "\n",
              "    .dataframe thead th {\n",
              "        text-align: right;\n",
              "    }\n",
              "</style>\n",
              "<table border=\"1\" class=\"dataframe\">\n",
              "  <thead>\n",
              "    <tr style=\"text-align: right;\">\n",
              "      <th></th>\n",
              "      <th>enjoy</th>\n",
              "      <th>love</th>\n",
              "      <th>beef</th>\n",
              "      <th>pizza</th>\n",
              "      <th>like</th>\n",
              "      <th>sushi</th>\n",
              "      <th>i</th>\n",
              "    </tr>\n",
              "  </thead>\n",
              "  <tbody>\n",
              "    <tr>\n",
              "      <th>0</th>\n",
              "      <td>0</td>\n",
              "      <td>1</td>\n",
              "      <td>0</td>\n",
              "      <td>1</td>\n",
              "      <td>0</td>\n",
              "      <td>0</td>\n",
              "      <td>1</td>\n",
              "    </tr>\n",
              "    <tr>\n",
              "      <th>1</th>\n",
              "      <td>0</td>\n",
              "      <td>0</td>\n",
              "      <td>0</td>\n",
              "      <td>0</td>\n",
              "      <td>1</td>\n",
              "      <td>1</td>\n",
              "      <td>1</td>\n",
              "    </tr>\n",
              "    <tr>\n",
              "      <th>2</th>\n",
              "      <td>0</td>\n",
              "      <td>0</td>\n",
              "      <td>0</td>\n",
              "      <td>1</td>\n",
              "      <td>1</td>\n",
              "      <td>0</td>\n",
              "      <td>1</td>\n",
              "    </tr>\n",
              "    <tr>\n",
              "      <th>3</th>\n",
              "      <td>1</td>\n",
              "      <td>0</td>\n",
              "      <td>1</td>\n",
              "      <td>0</td>\n",
              "      <td>0</td>\n",
              "      <td>0</td>\n",
              "      <td>1</td>\n",
              "    </tr>\n",
              "  </tbody>\n",
              "</table>\n",
              "</div>\n",
              "      <button class=\"colab-df-convert\" onclick=\"convertToInteractive('df-b2d0b22f-5765-4674-9f94-4092f482ce2b')\"\n",
              "              title=\"Convert this dataframe to an interactive table.\"\n",
              "              style=\"display:none;\">\n",
              "        \n",
              "  <svg xmlns=\"http://www.w3.org/2000/svg\" height=\"24px\"viewBox=\"0 0 24 24\"\n",
              "       width=\"24px\">\n",
              "    <path d=\"M0 0h24v24H0V0z\" fill=\"none\"/>\n",
              "    <path d=\"M18.56 5.44l.94 2.06.94-2.06 2.06-.94-2.06-.94-.94-2.06-.94 2.06-2.06.94zm-11 1L8.5 8.5l.94-2.06 2.06-.94-2.06-.94L8.5 2.5l-.94 2.06-2.06.94zm10 10l.94 2.06.94-2.06 2.06-.94-2.06-.94-.94-2.06-.94 2.06-2.06.94z\"/><path d=\"M17.41 7.96l-1.37-1.37c-.4-.4-.92-.59-1.43-.59-.52 0-1.04.2-1.43.59L10.3 9.45l-7.72 7.72c-.78.78-.78 2.05 0 2.83L4 21.41c.39.39.9.59 1.41.59.51 0 1.02-.2 1.41-.59l7.78-7.78 2.81-2.81c.8-.78.8-2.07 0-2.86zM5.41 20L4 18.59l7.72-7.72 1.47 1.35L5.41 20z\"/>\n",
              "  </svg>\n",
              "      </button>\n",
              "      \n",
              "  <style>\n",
              "    .colab-df-container {\n",
              "      display:flex;\n",
              "      flex-wrap:wrap;\n",
              "      gap: 12px;\n",
              "    }\n",
              "\n",
              "    .colab-df-convert {\n",
              "      background-color: #E8F0FE;\n",
              "      border: none;\n",
              "      border-radius: 50%;\n",
              "      cursor: pointer;\n",
              "      display: none;\n",
              "      fill: #1967D2;\n",
              "      height: 32px;\n",
              "      padding: 0 0 0 0;\n",
              "      width: 32px;\n",
              "    }\n",
              "\n",
              "    .colab-df-convert:hover {\n",
              "      background-color: #E2EBFA;\n",
              "      box-shadow: 0px 1px 2px rgba(60, 64, 67, 0.3), 0px 1px 3px 1px rgba(60, 64, 67, 0.15);\n",
              "      fill: #174EA6;\n",
              "    }\n",
              "\n",
              "    [theme=dark] .colab-df-convert {\n",
              "      background-color: #3B4455;\n",
              "      fill: #D2E3FC;\n",
              "    }\n",
              "\n",
              "    [theme=dark] .colab-df-convert:hover {\n",
              "      background-color: #434B5C;\n",
              "      box-shadow: 0px 1px 3px 1px rgba(0, 0, 0, 0.15);\n",
              "      filter: drop-shadow(0px 1px 2px rgba(0, 0, 0, 0.3));\n",
              "      fill: #FFFFFF;\n",
              "    }\n",
              "  </style>\n",
              "\n",
              "      <script>\n",
              "        const buttonEl =\n",
              "          document.querySelector('#df-b2d0b22f-5765-4674-9f94-4092f482ce2b button.colab-df-convert');\n",
              "        buttonEl.style.display =\n",
              "          google.colab.kernel.accessAllowed ? 'block' : 'none';\n",
              "\n",
              "        async function convertToInteractive(key) {\n",
              "          const element = document.querySelector('#df-b2d0b22f-5765-4674-9f94-4092f482ce2b');\n",
              "          const dataTable =\n",
              "            await google.colab.kernel.invokeFunction('convertToInteractive',\n",
              "                                                     [key], {});\n",
              "          if (!dataTable) return;\n",
              "\n",
              "          const docLinkHtml = 'Like what you see? Visit the ' +\n",
              "            '<a target=\"_blank\" href=https://colab.research.google.com/notebooks/data_table.ipynb>data table notebook</a>'\n",
              "            + ' to learn more about interactive tables.';\n",
              "          element.innerHTML = '';\n",
              "          dataTable['output_type'] = 'display_data';\n",
              "          await google.colab.output.renderOutput(dataTable, element);\n",
              "          const docLink = document.createElement('div');\n",
              "          docLink.innerHTML = docLinkHtml;\n",
              "          element.appendChild(docLink);\n",
              "        }\n",
              "      </script>\n",
              "    </div>\n",
              "  </div>\n",
              "  "
            ]
          },
          "metadata": {},
          "execution_count": 157
        }
      ]
    },
    {
      "cell_type": "markdown",
      "source": [
        "## Load data"
      ],
      "metadata": {
        "id": "cowZ__TAYl8P"
      }
    },
    {
      "cell_type": "code",
      "source": [
        "data = list(open(\"quora.txt\"))\n",
        "data[666]"
      ],
      "metadata": {
        "colab": {
          "base_uri": "https://localhost:8080/",
          "height": 36
        },
        "id": "zcU0NrJTP0HU",
        "outputId": "67223287-2975-41d6-921a-7744c65fd664"
      },
      "execution_count": 6,
      "outputs": [
        {
          "output_type": "execute_result",
          "data": {
            "text/plain": [
              "'How damning are the recent DNC leaks that show internal collusion?\\n'"
            ],
            "application/vnd.google.colaboratory.intrinsic+json": {
              "type": "string"
            }
          },
          "metadata": {},
          "execution_count": 6
        }
      ]
    },
    {
      "cell_type": "markdown",
      "source": [
        "# Tokenize data"
      ],
      "metadata": {
        "id": "Rte5iI4rYpIL"
      }
    },
    {
      "cell_type": "code",
      "source": [
        "tokenizer = WPT()\n",
        "print(tokenizer.tokenize(data[1]))"
      ],
      "metadata": {
        "colab": {
          "base_uri": "https://localhost:8080/"
        },
        "id": "0dN4idHGWvxj",
        "outputId": "c79d1478-0589-47ee-80f9-ab5c4c62ea7d"
      },
      "execution_count": 7,
      "outputs": [
        {
          "output_type": "stream",
          "name": "stdout",
          "text": [
            "['What', 'are', 'some', 'ways', 'to', 'overcome', 'a', 'fast', 'food', 'addiction', '?']\n"
          ]
        }
      ]
    },
    {
      "cell_type": "code",
      "source": [
        "new_data = [tokenizer.tokenize(x.lower()) for x in data]\n",
        "new_data[3]"
      ],
      "metadata": {
        "colab": {
          "base_uri": "https://localhost:8080/"
        },
        "id": "ObLzlA4mXGCT",
        "outputId": "99615c46-27d5-420e-9d0a-c8ac1a2a3079"
      },
      "execution_count": 9,
      "outputs": [
        {
          "output_type": "execute_result",
          "data": {
            "text/plain": [
              "['what', 'are', 'zip', 'codes', 'in', 'the', 'bay', 'area', '?']"
            ]
          },
          "metadata": {},
          "execution_count": 9
        }
      ]
    },
    {
      "cell_type": "markdown",
      "source": [
        "### Bathe in tests"
      ],
      "metadata": {
        "id": "6mHdjS7eYYbz"
      }
    },
    {
      "cell_type": "code",
      "source": [
        "assert all(isinstance(row, list) for row in new_data)\n",
        "assert all(all(isinstance(token, str) for token in row) for row in new_data)\n",
        "is_latin = lambda token: all('a' <= x.lower() <= 'z' for x in token)\n",
        "assert all(map(lambda l: not is_latin(l) or l.islower(), map(' '.join, new_data)))"
      ],
      "metadata": {
        "id": "SfX9FlgLXyJ6"
      },
      "execution_count": null,
      "outputs": []
    },
    {
      "cell_type": "markdown",
      "source": [
        "# Word2Vec"
      ],
      "metadata": {
        "id": "zddBR0d1WAZK"
      }
    },
    {
      "cell_type": "code",
      "source": [
        "vectorized = Word2Vec(new_data, window = 5, min_count=5, vector_size=32)"
      ],
      "metadata": {
        "id": "IzQrG-PZaIdD"
      },
      "execution_count": 10,
      "outputs": []
    },
    {
      "cell_type": "code",
      "source": [
        "vectorized.wv.get_vector('cat')"
      ],
      "metadata": {
        "colab": {
          "base_uri": "https://localhost:8080/"
        },
        "id": "WNEx3_lSf_Q6",
        "outputId": "ee94650e-1caf-475f-cb27-4e1ccdb8b34c"
      },
      "execution_count": null,
      "outputs": [
        {
          "output_type": "execute_result",
          "data": {
            "text/plain": [
              "array([-1.4237214 ,  1.4328684 ,  0.08061663, -1.1621952 ,  1.4041325 ,\n",
              "        1.5938008 , -2.8783095 , -2.7338724 , -0.98583126,  2.5502975 ,\n",
              "        1.6452942 , -0.5041936 , -2.7520492 ,  2.3279576 ,  0.96513   ,\n",
              "       -3.5300837 , -3.0197961 , -0.8883868 , -2.7285845 , -1.502072  ,\n",
              "        1.6133738 ,  4.4917355 , -0.25572735, -0.42647457, -0.07298391,\n",
              "        1.0577344 , -0.53869456, -0.24102525, -1.4842737 , -0.16666985,\n",
              "        2.1852844 ,  0.0678091 ], dtype=float32)"
            ]
          },
          "metadata": {},
          "execution_count": 11
        }
      ]
    },
    {
      "cell_type": "code",
      "source": [
        "vectorized.wv.vectors"
      ],
      "metadata": {
        "colab": {
          "base_uri": "https://localhost:8080/"
        },
        "id": "WCIOvbkyhM9I",
        "outputId": "9cd97a11-f564-445b-9407-9489b66216b4"
      },
      "execution_count": null,
      "outputs": [
        {
          "output_type": "execute_result",
          "data": {
            "text/plain": [
              "array([[-9.4181556e-01,  1.0615714e+00,  7.9872257e-01, ...,\n",
              "        -5.1965404e-01, -1.1165336e+00,  6.4052618e-01],\n",
              "       [ 8.4379539e-02,  3.0592744e+00,  2.2173982e+00, ...,\n",
              "         1.6768326e+00, -2.0142691e+00,  7.6431537e-01],\n",
              "       [ 3.0028892e+00,  3.4570889e+00, -7.6673150e-01, ...,\n",
              "        -4.4761577e+00, -2.4556080e-01,  3.0267870e-01],\n",
              "       ...,\n",
              "       [-6.0564321e-02, -1.3258700e-01,  1.6244468e-01, ...,\n",
              "        -1.2743399e-01, -7.9805180e-02,  7.0498928e-02],\n",
              "       [-9.4427891e-02, -6.4844862e-02,  6.1839018e-02, ...,\n",
              "        -1.3591753e-01, -9.5372342e-02,  2.0139792e-03],\n",
              "       [-4.3899272e-02, -2.4576945e-02,  5.5743452e-02, ...,\n",
              "        -1.0063543e-01, -5.8383248e-03,  9.8824650e-02]], dtype=float32)"
            ]
          },
          "metadata": {},
          "execution_count": 12
        }
      ]
    },
    {
      "cell_type": "code",
      "source": [
        "list(zip(vectorized.wv.key_to_index.items()))[1030:1045]"
      ],
      "metadata": {
        "colab": {
          "base_uri": "https://localhost:8080/"
        },
        "id": "eOj9dwQEhlB7",
        "outputId": "b5ee9aed-57f8-4c2c-e407-5dd06ba6a80e"
      },
      "execution_count": null,
      "outputs": [
        {
          "output_type": "execute_result",
          "data": {
            "text/plain": [
              "[(('cards', 1030),),\n",
              " (('mathematics', 1031),),\n",
              " (('easily', 1032),),\n",
              " (('photo', 1033),),\n",
              " (('suitable', 1034),),\n",
              " (('front', 1035),),\n",
              " (('12th', 1036),),\n",
              " (('may', 1037),),\n",
              " (('early', 1038),),\n",
              " (('visiting', 1039),),\n",
              " (('baby', 1040),),\n",
              " (('treat', 1041),),\n",
              " (('building', 1042),),\n",
              " (('formula', 1043),),\n",
              " (('gets', 1044),)]"
            ]
          },
          "metadata": {},
          "execution_count": 60
        }
      ]
    },
    {
      "cell_type": "markdown",
      "source": [
        "## **CBoW** and **Skip-Gram** methods of Word2Vec"
      ],
      "metadata": {
        "id": "3Ka0aBIhna7w"
      }
    },
    {
      "cell_type": "markdown",
      "source": [
        "Word2Vec can be implemented using **Continuous Bag of Words** which is similar to One-hot-encoding and *in* process of *training* **takes context words** and tries to **predict the target word**. This **method** is **default** in Gensim lib. Fast and efficient on smaller datasets.\n",
        "\n",
        "Another implementation is **Skip-Gram** which** takes a target word** and tries to generate\\ **predict context words** surrounding it. More precise but much slower, fits larger datasets. (sg=1) parameter."
      ],
      "metadata": {
        "id": "qCLfBZMqmPiz"
      }
    },
    {
      "cell_type": "code",
      "source": [
        "# source: https://arxiv.org/pdf/1309.4168v1.pdf\n",
        "Image(url = \"https://miro.medium.com/v2/resize:fit:828/format:webp/1*cuOmGT7NevP9oJFJfVpRKA.png\")"
      ],
      "metadata": {
        "colab": {
          "base_uri": "https://localhost:8080/",
          "height": 476
        },
        "id": "6PPrYrbelkcL",
        "outputId": "b8ab75ad-a677-4df4-bfef-1a2d7b597df8"
      },
      "execution_count": 15,
      "outputs": [
        {
          "output_type": "execute_result",
          "data": {
            "text/html": [
              "<img src=\"https://miro.medium.com/v2/resize:fit:828/format:webp/1*cuOmGT7NevP9oJFJfVpRKA.png\"/>"
            ],
            "text/plain": [
              "<IPython.core.display.Image object>"
            ]
          },
          "metadata": {},
          "execution_count": 15
        }
      ]
    },
    {
      "cell_type": "code",
      "source": [
        "text1 = 'the kid said he would be a superman'\n",
        "text2 = 'the child said he would be a superman'"
      ],
      "metadata": {
        "id": "cc5w9vlrgRZI"
      },
      "execution_count": 11,
      "outputs": []
    },
    {
      "cell_type": "code",
      "source": [
        "text1_emb = [vectorized.wv[word] for word in text1.split()]\n",
        "text2_emb = [vectorized.wv[word] for word in text2.split()]"
      ],
      "metadata": {
        "id": "zitBlmVigX5f"
      },
      "execution_count": 12,
      "outputs": []
    },
    {
      "cell_type": "code",
      "source": [
        "def diff_w2v(txts, method=0):\n",
        "  print(f\"{'Skip-Gram' if method else 'CBoW'} method:\")\n",
        "  w2v = Word2Vec(new_data, window = 5, min_count=5, vector_size=32, sg = method)\n",
        "  texts = []\n",
        "  for doc in txts:\n",
        "    texts.append([w2v.wv[word] for word in doc.split()])\n",
        "  for sentence in texts:\n",
        "    for word in sentence:\n",
        "      print(w2v.wv.most_similar(word)[0][0], end =' ')\n",
        "    print()\n",
        "  return w2v"
      ],
      "metadata": {
        "id": "kUtNZIlTgnXc"
      },
      "execution_count": 13,
      "outputs": []
    },
    {
      "cell_type": "code",
      "source": [
        "cbow = diff_w2v([text1, text2])\n",
        "print()\n",
        "sg = diff_w2v([text1, text2], 1)"
      ],
      "metadata": {
        "colab": {
          "base_uri": "https://localhost:8080/"
        },
        "id": "8_NA0wUFtB08",
        "outputId": "2c17088b-b022-4630-c743-8f27b788500b"
      },
      "execution_count": 14,
      "outputs": [
        {
          "output_type": "stream",
          "name": "stdout",
          "text": [
            "CBoW method:\n",
            "the kid said he would be a superman \n",
            "the child said he would be a superman \n",
            "\n",
            "Skip-Gram method:\n",
            "the kid said he would be a superman \n",
            "the child said he would be a superman \n"
          ]
        }
      ]
    },
    {
      "cell_type": "markdown",
      "source": [
        "The result is the same."
      ],
      "metadata": {
        "id": "l3zBj1eMxznz"
      }
    },
    {
      "cell_type": "markdown",
      "source": [
        "CBoW method - Skip-Gram method difference in vectors"
      ],
      "metadata": {
        "id": "61njAhntxWzK"
      }
    },
    {
      "cell_type": "code",
      "source": [
        "cbow.wv.get_vector('cat') - sg.wv.get_vector('cat')"
      ],
      "metadata": {
        "colab": {
          "base_uri": "https://localhost:8080/"
        },
        "id": "xrH6fGxgw1E5",
        "outputId": "4aca5a81-3f40-44cf-a9d5-ea95659a012e"
      },
      "execution_count": 27,
      "outputs": [
        {
          "output_type": "execute_result",
          "data": {
            "text/plain": [
              "array([-2.688287  ,  2.5203018 , -1.7941455 , -0.7318937 ,  0.06231423,\n",
              "        1.3946053 , -1.1891434 ,  0.39873436, -0.7379125 ,  1.783877  ,\n",
              "        0.9997353 , -0.30883855,  0.2988268 ,  2.7872539 ,  1.4499317 ,\n",
              "       -1.1266468 , -3.0114684 , -0.00608536, -1.9513954 , -3.0764132 ,\n",
              "        2.0152986 ,  2.5789902 , -2.572105  ,  0.1430189 , -0.49150473,\n",
              "       -1.2039481 , -0.9966858 , -1.4220076 , -2.9390006 ,  1.3437202 ,\n",
              "        1.0135946 , -0.18805218], dtype=float32)"
            ]
          },
          "metadata": {},
          "execution_count": 27
        }
      ]
    },
    {
      "cell_type": "markdown",
      "source": [
        "That of course doesn't mean anything since the seeds are not set and each time model trains differently. Here is a proof.\n",
        "\n",
        "Two instances of CBoW W2V on the same dataset"
      ],
      "metadata": {
        "id": "MiKLBkwyxN8A"
      }
    },
    {
      "cell_type": "code",
      "source": [
        "vectorized.wv.get_vector('cat') - cbow.wv.get_vector('cat')"
      ],
      "metadata": {
        "colab": {
          "base_uri": "https://localhost:8080/"
        },
        "id": "GQjqkT_zxHqr",
        "outputId": "e0e8f1e6-89b6-4b09-b8b3-b91ba63ffe97"
      },
      "execution_count": 28,
      "outputs": [
        {
          "output_type": "execute_result",
          "data": {
            "text/plain": [
              "array([ 0.09271264, -2.0827785 ,  0.61792064,  0.7394627 ,  0.6140085 ,\n",
              "        0.0437355 ,  1.2016311 , -2.4036443 , -0.08802891,  0.58001804,\n",
              "        0.16731197, -1.6987114 ,  0.29057708, -0.786651  , -0.25174356,\n",
              "       -0.14840078, -0.7491517 , -0.19493616,  1.2210094 , -0.57829285,\n",
              "       -1.2140036 , -3.5481782 , -1.3250527 ,  0.11458287,  1.4745449 ,\n",
              "        2.800397  , -0.14703143,  0.5518914 ,  0.4548092 ,  1.0163724 ,\n",
              "       -0.9245418 , -0.85292244], dtype=float32)"
            ]
          },
          "metadata": {},
          "execution_count": 28
        }
      ]
    },
    {
      "cell_type": "markdown",
      "source": [
        "Well, we get the same embeddings but the vectors are of course different"
      ],
      "metadata": {
        "id": "oHEhsHCew874"
      }
    },
    {
      "cell_type": "markdown",
      "source": [
        "## Bag of Embeddings"
      ],
      "metadata": {
        "id": "JrnR0gyqXpp0"
      }
    },
    {
      "cell_type": "code",
      "source": [
        "doc_1 = \"I love cats\"\n",
        "doc_2 = \"I love dogs\"\n",
        "doc_3 = \"I like cats and dogs\""
      ],
      "metadata": {
        "id": "4fIqG203XpGj"
      },
      "execution_count": 15,
      "outputs": []
    },
    {
      "cell_type": "code",
      "source": [
        "sent1 = \"The idea is not terrible we shall use it\"\n",
        "sent2 = \"The idea is terrible we shall not use it\""
      ],
      "metadata": {
        "id": "tGGrehJSGCzm"
      },
      "execution_count": 16,
      "outputs": []
    },
    {
      "cell_type": "code",
      "source": [
        "docs = [doc_1, doc_2, doc_3, sent1, sent2]"
      ],
      "metadata": {
        "id": "Kg1xw6ioZDm1"
      },
      "execution_count": 17,
      "outputs": []
    },
    {
      "cell_type": "markdown",
      "source": [
        "### Straightforward BoE, no averaging"
      ],
      "metadata": {
        "id": "uYVtWErrgu9T"
      }
    },
    {
      "cell_type": "code",
      "source": [
        "def boe(docs = docs):\n",
        "  embeds = []\n",
        "\n",
        "  for sent in docs:\n",
        "    doc_vec = []\n",
        "    for word in sent.lower().split():\n",
        "      if word in vectorized.wv.key_to_index:\n",
        "        doc_vec.append(vectorized.wv[word])\n",
        "    embeds.append(doc_vec)\n",
        "  return embeds"
      ],
      "metadata": {
        "id": "staNWpabgrwE"
      },
      "execution_count": null,
      "outputs": []
    },
    {
      "cell_type": "code",
      "source": [
        "boe_vecs = boe()"
      ],
      "metadata": {
        "id": "9wjDPBjKXi1x"
      },
      "execution_count": null,
      "outputs": []
    },
    {
      "cell_type": "markdown",
      "source": [
        "#### Vectorized word \"cats\""
      ],
      "metadata": {
        "id": "CmaRElK8k3bq"
      }
    },
    {
      "cell_type": "code",
      "source": [
        "boe_vecs[0][2]"
      ],
      "metadata": {
        "id": "_9-4Q3XfkwMC",
        "outputId": "f932ae5b-807a-4488-8c3c-a7604bc89ab1",
        "colab": {
          "base_uri": "https://localhost:8080/"
        }
      },
      "execution_count": null,
      "outputs": [
        {
          "output_type": "execute_result",
          "data": {
            "text/plain": [
              "array([-2.047111  , -0.24919967, -2.2889216 ,  0.6348777 ,  2.5309365 ,\n",
              "       -0.09209277,  0.59489864, -0.9968526 , -0.6734233 ,  0.910514  ,\n",
              "        0.22394092,  0.00663299,  2.1584628 , -0.78183144,  0.67779213,\n",
              "       -0.43562964,  0.5285604 , -4.0064297 , -1.6233991 ,  0.6897092 ,\n",
              "        0.95589834,  2.137322  ,  0.94452566, -0.82744163,  0.64450896,\n",
              "       -0.58000875, -0.8861219 , -1.2161727 ,  0.06213524,  0.27627876,\n",
              "       -1.7352341 ,  0.49162784], dtype=float32)"
            ]
          },
          "metadata": {},
          "execution_count": 159
        }
      ]
    },
    {
      "cell_type": "markdown",
      "source": [
        "#### Reverse vectors to words"
      ],
      "metadata": {
        "id": "8upYlJnAk-mz"
      }
    },
    {
      "cell_type": "code",
      "source": [
        "for document in boe_vecs:\n",
        "  for wrd in document:\n",
        "    print(vectorized.wv.most_similar(wrd)[0][0], end = ' ')\n",
        "  print()"
      ],
      "metadata": {
        "id": "4dlmO6QriiwN",
        "outputId": "b6cd977c-c4be-4dda-f315-6f9d8ebc917a",
        "colab": {
          "base_uri": "https://localhost:8080/"
        }
      },
      "execution_count": null,
      "outputs": [
        {
          "output_type": "stream",
          "name": "stdout",
          "text": [
            "i love cats \n",
            "i love dogs \n",
            "i like cats and dogs \n",
            "the idea is not terrible we shall use it \n",
            "the idea is terrible we shall not use it \n"
          ]
        }
      ]
    },
    {
      "cell_type": "markdown",
      "source": [
        "### Average BoE\n",
        "\n",
        "Since we use cosine similarity it could just be a sum of vectors as well"
      ],
      "metadata": {
        "id": "SqzWRKhN8eSF"
      }
    },
    {
      "cell_type": "code",
      "source": [
        "def avg_boe(w2v=vectorized, docs = docs):\n",
        "  embeds = []\n",
        "\n",
        "  for sent in docs:\n",
        "    doc_vec = np.zeros(vectorized.wv.vector_size)\n",
        "    #n_w_in_sent = 0\n",
        "    for word in sent.lower().split():\n",
        "      if word in w2v.wv.key_to_index:\n",
        "        #n_w_in_sent+=1\n",
        "        doc_vec += w2v.wv[word]\n",
        "    embeds.append(doc_vec)# /n_w_in_sent) Mean doesnt matter, sum would do too\n",
        "  return embeds"
      ],
      "metadata": {
        "id": "ILdzNR1l775k"
      },
      "execution_count": 18,
      "outputs": []
    },
    {
      "cell_type": "markdown",
      "source": [
        "Let's take a look how averaging of sentence words works on two CBoW with no frozen seeds and one Skip-Gram W2V instances.\n",
        "\n",
        "In concept taking the mean vectors of all words in the sentence should give us top10 words that summarize context of a sentence."
      ],
      "metadata": {
        "id": "dFr9h8L3ymV-"
      }
    },
    {
      "cell_type": "markdown",
      "source": [
        "CBoW instance 1"
      ],
      "metadata": {
        "id": "U3riN-3R0Xeq"
      }
    },
    {
      "cell_type": "code",
      "source": [
        "avg_boevecs = avg_boe()\n",
        "vectorized.wv.most_similar(avg_boevecs[0])"
      ],
      "metadata": {
        "colab": {
          "base_uri": "https://localhost:8080/"
        },
        "id": "8MfwHBafyR1o",
        "outputId": "95d18b30-5e3c-4e5d-9616-eab761c20632"
      },
      "execution_count": 60,
      "outputs": [
        {
          "output_type": "execute_result",
          "data": {
            "text/plain": [
              "[('depressed', 0.8007091879844666),\n",
              " ('girlfriend', 0.7674483060836792),\n",
              " ('myself', 0.7512775659561157),\n",
              " ('friends', 0.7489374876022339),\n",
              " ('boyfriend', 0.7465841174125671),\n",
              " ('feelings', 0.7365669012069702),\n",
              " ('feeling', 0.7320765256881714),\n",
              " ('love', 0.7303024530410767),\n",
              " ('i', 0.727887749671936),\n",
              " ('happy', 0.7214086651802063)]"
            ]
          },
          "metadata": {},
          "execution_count": 60
        }
      ]
    },
    {
      "cell_type": "markdown",
      "source": [
        "CBoW instance 2"
      ],
      "metadata": {
        "id": "gmD0mdTJ0aTy"
      }
    },
    {
      "cell_type": "code",
      "source": [
        "avg_boe_cbow = avg_boe(cbow)\n",
        "cbow.wv.most_similar(avg_boe_cbow[0])"
      ],
      "metadata": {
        "id": "fHHHg5T0X-fH",
        "colab": {
          "base_uri": "https://localhost:8080/"
        },
        "outputId": "0efb08be-b692-48c6-e9a2-49a52088d42f"
      },
      "execution_count": 19,
      "outputs": [
        {
          "output_type": "execute_result",
          "data": {
            "text/plain": [
              "[('depressed', 0.777712345123291),\n",
              " ('friends', 0.771709680557251),\n",
              " ('girlfriend', 0.7509831786155701),\n",
              " ('feelings', 0.7493012547492981),\n",
              " ('i', 0.7398567199707031),\n",
              " ('boyfriend', 0.7356587052345276),\n",
              " ('love', 0.7345700263977051),\n",
              " ('feeling', 0.7324872016906738),\n",
              " ('myself', 0.7265275120735168),\n",
              " ('bored', 0.7233301997184753)]"
            ]
          },
          "metadata": {},
          "execution_count": 19
        }
      ]
    },
    {
      "cell_type": "markdown",
      "source": [
        "Skip-Gram"
      ],
      "metadata": {
        "id": "zS-xB7xG0dWT"
      }
    },
    {
      "cell_type": "code",
      "source": [
        "avg_boe_sg = avg_boe(sg)\n",
        "sg.wv.most_similar(avg_boe_sg[0])"
      ],
      "metadata": {
        "colab": {
          "base_uri": "https://localhost:8080/"
        },
        "id": "-8T6yckxykkk",
        "outputId": "5968fd27-bf5c-46cc-f02a-f681db74fee0"
      },
      "execution_count": 20,
      "outputs": [
        {
          "output_type": "execute_result",
          "data": {
            "text/plain": [
              "[('eachother', 0.8919486999511719),\n",
              " ('homesick', 0.8830142021179199),\n",
              " ('madly', 0.87704998254776),\n",
              " ('coward', 0.8766603469848633),\n",
              " ('articulate', 0.8756245970726013),\n",
              " ('heartbroken', 0.8754575252532959),\n",
              " ('fantasizing', 0.8747760057449341),\n",
              " ('drifting', 0.8707690834999084),\n",
              " ('obsessing', 0.8698922395706177),\n",
              " ('pity', 0.869583249092102)]"
            ]
          },
          "metadata": {},
          "execution_count": 20
        }
      ]
    },
    {
      "cell_type": "markdown",
      "source": [
        "Well, that was unexpected. The sum(or mean) of vectors in a sentence \"I love cats\" outputs \"depressed\" as most similar by meaning (think cos angle) to the sentence."
      ],
      "metadata": {
        "id": "v3EyvI6_bzI5"
      }
    },
    {
      "cell_type": "markdown",
      "source": [
        "Also notice that Skip-Gram trained model shows far more different (and with more confidence) result that CBoW models compared to each other."
      ],
      "metadata": {
        "id": "GDu_ZBnIyjKe"
      }
    },
    {
      "cell_type": "markdown",
      "source": [
        "### Problems"
      ],
      "metadata": {
        "id": "4PzQqm4wcmGT"
      }
    },
    {
      "cell_type": "markdown",
      "source": [
        "The problem with Word2Vec is that it takes the word order into account only to some extent.\n",
        "\n",
        "> Word2Vec is not bad, we shall use it.\n",
        "\n",
        "and\n",
        "\n",
        "> Word2Vec is bad, we shall not use it.\n",
        "\n",
        "Would *likely* give similar result in vectors.  "
      ],
      "metadata": {
        "id": "LPhJdxzuEltd"
      }
    },
    {
      "cell_type": "code",
      "source": [
        "for sentence in range(len(docs)):\n",
        "  m, p = vectorized.wv.most_similar(avg_boevecs[sentence])[0]\n",
        "  print(f'{docs[sentence]}: \"{m}\" prob: {round(p,5)}')"
      ],
      "metadata": {
        "id": "qURniKmCYliC",
        "outputId": "32c6a7c0-5476-41a9-be0a-b4a1b276d7a6",
        "colab": {
          "base_uri": "https://localhost:8080/"
        }
      },
      "execution_count": 61,
      "outputs": [
        {
          "output_type": "stream",
          "name": "stdout",
          "text": [
            "I love cats: \"depressed\" prob: 0.80071\n",
            "I love dogs: \"depressed\" prob: 0.78933\n",
            "I like cats and dogs: \"sick\" prob: 0.74592\n",
            "The idea is not terrible we shall use it: \"it\" prob: 0.80901\n",
            "The idea is terrible we shall not use it: \"it\" prob: 0.80901\n"
          ]
        }
      ]
    },
    {
      "cell_type": "markdown",
      "source": [
        "CBoW"
      ],
      "metadata": {
        "id": "Eg13yxuv2-cA"
      }
    },
    {
      "cell_type": "code",
      "source": [
        "cbow_idea = avg_boe(docs = [sent.lower() for sent in [sent1, sent2]])\n",
        "cbow_idea[0] - cbow_idea[1]"
      ],
      "metadata": {
        "colab": {
          "base_uri": "https://localhost:8080/"
        },
        "id": "dS0un1li1Qgv",
        "outputId": "0c4b2a57-545f-4b6b-fc54-e0f720dfe55c"
      },
      "execution_count": 74,
      "outputs": [
        {
          "output_type": "execute_result",
          "data": {
            "text/plain": [
              "array([0., 0., 0., 0., 0., 0., 0., 0., 0., 0., 0., 0., 0., 0., 0., 0., 0.,\n",
              "       0., 0., 0., 0., 0., 0., 0., 0., 0., 0., 0., 0., 0., 0., 0.])"
            ]
          },
          "metadata": {},
          "execution_count": 74
        }
      ]
    },
    {
      "cell_type": "markdown",
      "source": [
        "Skip-Gram"
      ],
      "metadata": {
        "id": "GNWJ6KeJ3FTc"
      }
    },
    {
      "cell_type": "code",
      "source": [
        "sg_idea = avg_boe(sg, docs = [sent.lower() for sent in [sent1, sent2]])\n",
        "sg_idea[0] - sg_idea[1]"
      ],
      "metadata": {
        "colab": {
          "base_uri": "https://localhost:8080/"
        },
        "id": "sy67eVtP11fX",
        "outputId": "60f1806e-3e5c-435c-db28-a6c3260dfcf6"
      },
      "execution_count": 75,
      "outputs": [
        {
          "output_type": "execute_result",
          "data": {
            "text/plain": [
              "array([0., 0., 0., 0., 0., 0., 0., 0., 0., 0., 0., 0., 0., 0., 0., 0., 0.,\n",
              "       0., 0., 0., 0., 0., 0., 0., 0., 0., 0., 0., 0., 0., 0., 0.])"
            ]
          },
          "metadata": {},
          "execution_count": 75
        }
      ]
    },
    {
      "cell_type": "markdown",
      "source": [
        "So here is a proof - it's not *likely*, it's a **fact**, judging by the zero difference of vectors in terms of context the order of words in not taken into account in both CBoW and Skip-Gram methods."
      ],
      "metadata": {
        "id": "xdgT6KNW2MRK"
      }
    },
    {
      "cell_type": "markdown",
      "source": [
        "### TF-IDF for weighted average BoE"
      ],
      "metadata": {
        "id": "tiDkEB6B4mwX"
      }
    },
    {
      "cell_type": "markdown",
      "source": [
        "#### Term frequency"
      ],
      "metadata": {
        "id": "REDCd7TVe_iY"
      }
    },
    {
      "cell_type": "code",
      "source": [
        "def get_tf(documents):\n",
        "  tf = []\n",
        "  for doc in documents:\n",
        "    doc_tf = {}\n",
        "    print(doc)\n",
        "    for word in doc.split():\n",
        "      if word in doc_tf.keys():\n",
        "        doc_tf[word]+=1\n",
        "      else:\n",
        "        doc_tf[word] = 1\n",
        "    tf.append(doc_tf)\n",
        "  return tf"
      ],
      "metadata": {
        "id": "PQZB9uPp40Ge"
      },
      "execution_count": 50,
      "outputs": []
    },
    {
      "cell_type": "code",
      "source": [
        "tf = get_tf(docs)\n",
        "tf"
      ],
      "metadata": {
        "id": "0TWI1mIneR6L",
        "outputId": "f574569f-12d1-44ed-b544-9921df92c591",
        "colab": {
          "base_uri": "https://localhost:8080/"
        }
      },
      "execution_count": 25,
      "outputs": [
        {
          "output_type": "execute_result",
          "data": {
            "text/plain": [
              "[{'I': 1, 'love': 1, 'cats': 1},\n",
              " {'I': 1, 'love': 1, 'dogs': 1},\n",
              " {'I': 1, 'like': 1, 'cats': 1, 'and': 1, 'dogs': 1},\n",
              " {'The': 1,\n",
              "  'idea': 1,\n",
              "  'is': 1,\n",
              "  'not': 1,\n",
              "  'terrible': 1,\n",
              "  'we': 1,\n",
              "  'shall': 1,\n",
              "  'use': 1,\n",
              "  'it': 1},\n",
              " {'The': 1,\n",
              "  'idea': 1,\n",
              "  'is': 1,\n",
              "  'terrible': 1,\n",
              "  'we': 1,\n",
              "  'shall': 1,\n",
              "  'not': 1,\n",
              "  'use': 1,\n",
              "  'it': 1}]"
            ]
          },
          "metadata": {},
          "execution_count": 25
        }
      ]
    },
    {
      "cell_type": "markdown",
      "source": [
        "#### Document frequency"
      ],
      "metadata": {
        "id": "k_r6LtkufCFG"
      }
    },
    {
      "cell_type": "code",
      "source": [
        "def get_df(tf):\n",
        "  df = {}\n",
        "  for doc in tf:\n",
        "    for word in doc.keys():\n",
        "      if word in df:\n",
        "        df[word] += 1\n",
        "      else:\n",
        "        df[word] = 1\n",
        "  return df"
      ],
      "metadata": {
        "id": "gnCgVffie0ii"
      },
      "execution_count": 27,
      "outputs": []
    },
    {
      "cell_type": "code",
      "source": [
        "doc_freq = get_df(tf)\n",
        "doc_freq"
      ],
      "metadata": {
        "id": "O73wvewzgMLF",
        "outputId": "9a72db1b-ad66-4e09-dadc-78622fdea26a",
        "colab": {
          "base_uri": "https://localhost:8080/"
        }
      },
      "execution_count": 28,
      "outputs": [
        {
          "output_type": "execute_result",
          "data": {
            "text/plain": [
              "{'I': 3,\n",
              " 'love': 2,\n",
              " 'cats': 2,\n",
              " 'dogs': 2,\n",
              " 'like': 1,\n",
              " 'and': 1,\n",
              " 'The': 2,\n",
              " 'idea': 2,\n",
              " 'is': 2,\n",
              " 'not': 2,\n",
              " 'terrible': 2,\n",
              " 'we': 2,\n",
              " 'shall': 2,\n",
              " 'use': 2,\n",
              " 'it': 2}"
            ]
          },
          "metadata": {},
          "execution_count": 28
        }
      ]
    },
    {
      "cell_type": "markdown",
      "source": [
        "#### Inverse document frequency"
      ],
      "metadata": {
        "id": "4SNaN6edgGQl"
      }
    },
    {
      "cell_type": "code",
      "source": [
        "def get_idf(documents, doc_freq):\n",
        "  idf = {}\n",
        "  for word, freq in doc_freq.items():\n",
        "    idf[word] = np.log(len(documents) / (freq+1))\n",
        "  return idf"
      ],
      "metadata": {
        "id": "-7o4DmHVgYHe"
      },
      "execution_count": 49,
      "outputs": []
    },
    {
      "cell_type": "code",
      "source": [
        "inv_doc_freq = get_idf(docs, doc_freq)\n",
        "inv_doc_freq"
      ],
      "metadata": {
        "id": "OdXCkFw4hvVq",
        "outputId": "cb19e641-6242-485f-e516-fed6ddad07e8",
        "colab": {
          "base_uri": "https://localhost:8080/"
        }
      },
      "execution_count": 31,
      "outputs": [
        {
          "output_type": "execute_result",
          "data": {
            "text/plain": [
              "{'I': 0.22314355131420976,\n",
              " 'love': 0.5108256237659907,\n",
              " 'cats': 0.5108256237659907,\n",
              " 'dogs': 0.5108256237659907,\n",
              " 'like': 0.9162907318741551,\n",
              " 'and': 0.9162907318741551,\n",
              " 'The': 0.5108256237659907,\n",
              " 'idea': 0.5108256237659907,\n",
              " 'is': 0.5108256237659907,\n",
              " 'not': 0.5108256237659907,\n",
              " 'terrible': 0.5108256237659907,\n",
              " 'we': 0.5108256237659907,\n",
              " 'shall': 0.5108256237659907,\n",
              " 'use': 0.5108256237659907,\n",
              " 'it': 0.5108256237659907}"
            ]
          },
          "metadata": {},
          "execution_count": 31
        }
      ]
    },
    {
      "cell_type": "markdown",
      "source": [
        "We already see that values that are encountered 2 times are about 51% \"valiable\", \"I\" is in 3 doc so it's value is low, and there was only one instance each of \"like\" and \"and\" in ne document so their values are 0.91%"
      ],
      "metadata": {
        "id": "1WoUMiXrh_iN"
      }
    },
    {
      "cell_type": "markdown",
      "source": [
        "#### **T**erm **F**requency **- I**nverse **D**ocument **F**requency"
      ],
      "metadata": {
        "id": "cqSSfW4Qil8e"
      }
    },
    {
      "cell_type": "code",
      "source": [
        "def calc_tfidf(tf, inv_doc_freq):\n",
        "  tfidf = []\n",
        "  for words in tf:\n",
        "    tfidf_doc = {}\n",
        "    for word, freq in words.items():\n",
        "      tfidf_doc[word] = freq * inv_doc_freq[word]\n",
        "    tfidf.append(tfidf_doc)\n",
        "  return tfidf"
      ],
      "metadata": {
        "id": "i-xNXcreiw8k"
      },
      "execution_count": 34,
      "outputs": []
    },
    {
      "cell_type": "code",
      "source": [
        "calc_tfidf(tf, inv_doc_freq)"
      ],
      "metadata": {
        "id": "I0rpqND2jsBT",
        "outputId": "56ec29c0-16b0-4d75-d8ec-a877917650fe",
        "colab": {
          "base_uri": "https://localhost:8080/"
        }
      },
      "execution_count": 35,
      "outputs": [
        {
          "output_type": "execute_result",
          "data": {
            "text/plain": [
              "[{'I': 0.22314355131420976,\n",
              "  'love': 0.5108256237659907,\n",
              "  'cats': 0.5108256237659907},\n",
              " {'I': 0.22314355131420976,\n",
              "  'love': 0.5108256237659907,\n",
              "  'dogs': 0.5108256237659907},\n",
              " {'I': 0.22314355131420976,\n",
              "  'like': 0.9162907318741551,\n",
              "  'cats': 0.5108256237659907,\n",
              "  'and': 0.9162907318741551,\n",
              "  'dogs': 0.5108256237659907},\n",
              " {'The': 0.5108256237659907,\n",
              "  'idea': 0.5108256237659907,\n",
              "  'is': 0.5108256237659907,\n",
              "  'not': 0.5108256237659907,\n",
              "  'terrible': 0.5108256237659907,\n",
              "  'we': 0.5108256237659907,\n",
              "  'shall': 0.5108256237659907,\n",
              "  'use': 0.5108256237659907,\n",
              "  'it': 0.5108256237659907},\n",
              " {'The': 0.5108256237659907,\n",
              "  'idea': 0.5108256237659907,\n",
              "  'is': 0.5108256237659907,\n",
              "  'terrible': 0.5108256237659907,\n",
              "  'we': 0.5108256237659907,\n",
              "  'shall': 0.5108256237659907,\n",
              "  'not': 0.5108256237659907,\n",
              "  'use': 0.5108256237659907,\n",
              "  'it': 0.5108256237659907}]"
            ]
          },
          "metadata": {},
          "execution_count": 35
        }
      ]
    },
    {
      "cell_type": "markdown",
      "source": [
        "#### Combine together"
      ],
      "metadata": {
        "id": "lYwNFvD-j4o7"
      }
    },
    {
      "cell_type": "code",
      "source": [
        "def get_tfidf(documents):\n",
        "  tf = get_tf(documents)\n",
        "  df = get_df(tf)\n",
        "  idf = get_idf(documents, df)\n",
        "  tfidf = calc_tfidf(tf, idf)\n",
        "  return tfidf"
      ],
      "metadata": {
        "id": "P_NiIm-Mj7aY"
      },
      "execution_count": 37,
      "outputs": []
    },
    {
      "cell_type": "code",
      "source": [
        "txt1 = 'The quick brown fox jumps over the lazy dog'\n",
        "txt2 = 'Richard of York gave the battle in vain'\n",
        "txt3 = 'She does teach torches to shine bright'\n",
        "txt4 = 'Evening is the best part of the day'\n",
        "txt5 = \"It is just a flesh wound\"\n",
        "txt6 =  'I know that i know nothing'\n",
        "\n",
        "texts = [txt1, txt2, txt3, txt4, txt5, txt6]\n"
      ],
      "metadata": {
        "id": "_6wMQWEOlI2H",
        "outputId": "dde1a0fb-68fd-48e2-a7d2-b8655a2c344e",
        "colab": {
          "base_uri": "https://localhost:8080/"
        }
      },
      "execution_count": 45,
      "outputs": [
        {
          "output_type": "stream",
          "name": "stdout",
          "text": [
            "['The quick brown fox jumps over the lazy dog', 'Richard of York gave the battle in vain', 'She does teach torches to shine bright', 'Evening is the best part of the day', 'It is just a flesh wound', 'I know that i know nothing']\n"
          ]
        }
      ]
    },
    {
      "cell_type": "code",
      "source": [
        "get_tfidf(texts)"
      ],
      "metadata": {
        "id": "GFLY8B5HkyBO",
        "outputId": "e62c8f56-7c73-4692-9ca4-054b3b607669",
        "colab": {
          "base_uri": "https://localhost:8080/"
        }
      },
      "execution_count": 51,
      "outputs": [
        {
          "output_type": "stream",
          "name": "stdout",
          "text": [
            "The quick brown fox jumps over the lazy dog\n",
            "Richard of York gave the battle in vain\n",
            "She does teach torches to shine bright\n",
            "Evening is the best part of the day\n",
            "It is just a flesh wound\n",
            "I know that i know nothing\n"
          ]
        },
        {
          "output_type": "execute_result",
          "data": {
            "text/plain": [
              "[{'The': 1.0986122886681098,\n",
              "  'quick': 1.0986122886681098,\n",
              "  'brown': 1.0986122886681098,\n",
              "  'fox': 1.0986122886681098,\n",
              "  'jumps': 1.0986122886681098,\n",
              "  'over': 1.0986122886681098,\n",
              "  'the': 0.4054651081081644,\n",
              "  'lazy': 1.0986122886681098,\n",
              "  'dog': 1.0986122886681098},\n",
              " {'Richard': 1.0986122886681098,\n",
              "  'of': 0.6931471805599453,\n",
              "  'York': 1.0986122886681098,\n",
              "  'gave': 1.0986122886681098,\n",
              "  'the': 0.4054651081081644,\n",
              "  'battle': 1.0986122886681098,\n",
              "  'in': 1.0986122886681098,\n",
              "  'vain': 1.0986122886681098},\n",
              " {'She': 1.0986122886681098,\n",
              "  'does': 1.0986122886681098,\n",
              "  'teach': 1.0986122886681098,\n",
              "  'torches': 1.0986122886681098,\n",
              "  'to': 1.0986122886681098,\n",
              "  'shine': 1.0986122886681098,\n",
              "  'bright': 1.0986122886681098},\n",
              " {'Evening': 1.0986122886681098,\n",
              "  'is': 0.6931471805599453,\n",
              "  'the': 0.8109302162163288,\n",
              "  'best': 1.0986122886681098,\n",
              "  'part': 1.0986122886681098,\n",
              "  'of': 0.6931471805599453,\n",
              "  'day': 1.0986122886681098},\n",
              " {'It': 1.0986122886681098,\n",
              "  'is': 0.6931471805599453,\n",
              "  'just': 1.0986122886681098,\n",
              "  'a': 1.0986122886681098,\n",
              "  'flesh': 1.0986122886681098,\n",
              "  'wound': 1.0986122886681098},\n",
              " {'I': 1.0986122886681098,\n",
              "  'know': 2.1972245773362196,\n",
              "  'that': 1.0986122886681098,\n",
              "  'i': 1.0986122886681098,\n",
              "  'nothing': 1.0986122886681098}]"
            ]
          },
          "metadata": {},
          "execution_count": 51
        }
      ]
    },
    {
      "cell_type": "markdown",
      "source": [
        "## Cos similarity (most_similar)"
      ],
      "metadata": {
        "id": "fAGB6D3fV4Xh"
      }
    },
    {
      "cell_type": "markdown",
      "source": [
        "Cosine similary of the words is  \n",
        "1. get two words in vector interpretation\n",
        "2. Normalize them\n",
        "3. Get their dot product\n",
        "4. $cos\\ similarity = \\frac{word\\_1\\ @\\ word\\_2}{len(word\\_1)\\ *\\  len(word\\_2)}$\n",
        "5. 1 means identical vectors, -1 - opposite, 0 -  no similarity\\orthogonal directions (no shared context)"
      ],
      "metadata": {
        "id": "1DDtI3hkdI4j"
      }
    },
    {
      "cell_type": "code",
      "source": [
        "vectorized.wv.most_similar('faux')"
      ],
      "metadata": {
        "colab": {
          "base_uri": "https://localhost:8080/"
        },
        "id": "FCeeD3M6fpeJ",
        "outputId": "7a315786-c534-43ce-fe36-05b7a8b98da3"
      },
      "execution_count": null,
      "outputs": [
        {
          "output_type": "execute_result",
          "data": {
            "text/plain": [
              "[('pas', 0.983573853969574),\n",
              " ('extracurricular', 0.7581830620765686),\n",
              " ('cultural', 0.7327991127967834),\n",
              " ('traditions', 0.7185940146446228),\n",
              " ('appropriation', 0.7176169157028198),\n",
              " ('etiquette', 0.7153453826904297),\n",
              " ('pitfalls', 0.713373601436615),\n",
              " ('norms', 0.6962264180183411),\n",
              " ('brutality', 0.6933082342147827),\n",
              " ('criticisms', 0.6926724910736084)]"
            ]
          },
          "metadata": {},
          "execution_count": 47
        }
      ]
    },
    {
      "cell_type": "markdown",
      "source": [
        "# Pre-trained embedding model"
      ],
      "metadata": {
        "id": "2Dku5Rdyipen"
      }
    },
    {
      "cell_type": "code",
      "source": [
        "api.info() #ruscorpora-300"
      ],
      "metadata": {
        "id": "MUbTlELJisWm"
      },
      "execution_count": null,
      "outputs": []
    },
    {
      "cell_type": "code",
      "source": [
        "model = api.load('glove-twitter-100') #weights ~400mb"
      ],
      "metadata": {
        "id": "rsqBMgmfiTe8"
      },
      "execution_count": null,
      "outputs": []
    },
    {
      "cell_type": "code",
      "source": [
        "model.most_similar([\"game\", \"multiplayer\"], negative = [\"fun\"])"
      ],
      "metadata": {
        "colab": {
          "base_uri": "https://localhost:8080/"
        },
        "id": "y_DgcVrKjPpk",
        "outputId": "e728ceac-18a5-409d-b9f9-bcd784b0fe2c"
      },
      "execution_count": null,
      "outputs": [
        {
          "output_type": "execute_result",
          "data": {
            "text/plain": [
              "[('gameplay', 0.7124838829040527),\n",
              " ('crysis', 0.6885968446731567),\n",
              " ('dishonored', 0.683879554271698),\n",
              " ('battlefield', 0.6811695694923401),\n",
              " ('fps', 0.6733326315879822),\n",
              " ('rpg', 0.6518135070800781),\n",
              " ('starcraft', 0.6491492986679077),\n",
              " ('mmorpg', 0.642058253288269),\n",
              " ('simcity', 0.6411633491516113),\n",
              " ('dlc', 0.6395991444587708)]"
            ]
          },
          "metadata": {},
          "execution_count": 93
        }
      ]
    },
    {
      "cell_type": "code",
      "source": [
        "words = model.index_to_key[:1000]\n",
        "print(words)"
      ],
      "metadata": {
        "id": "ci7i1Ig2llov"
      },
      "execution_count": null,
      "outputs": []
    },
    {
      "cell_type": "markdown",
      "source": [
        "### Get vectorized words"
      ],
      "metadata": {
        "id": "qLhb7ig53wUB"
      }
    },
    {
      "cell_type": "code",
      "source": [
        "words_array = np.array([model[word] for word in words])"
      ],
      "metadata": {
        "id": "qFc3YQMUpM1N"
      },
      "execution_count": null,
      "outputs": []
    },
    {
      "cell_type": "markdown",
      "source": [
        "### Bathe in tests"
      ],
      "metadata": {
        "id": "JuII5hUt4XV7"
      }
    },
    {
      "cell_type": "code",
      "source": [
        "assert isinstance(words_array, np.ndarray)\n",
        "assert words_array.shape == (len(words), 100)\n",
        "assert np.isfinite(words_array).all()"
      ],
      "metadata": {
        "id": "LNTfqU4r4AVZ"
      },
      "execution_count": null,
      "outputs": []
    },
    {
      "cell_type": "markdown",
      "source": [
        "## Use PCA and normalize. reduce to two dim"
      ],
      "metadata": {
        "id": "MHUHedz16Tiw"
      }
    },
    {
      "cell_type": "code",
      "source": [
        "pca = PCA(n_components=2)\n",
        "components = pca.fit_transform(words_array)\n",
        "\n",
        "scaler = StandardScaler()\n",
        "pca_normalized = scaler.fit_transform(components)"
      ],
      "metadata": {
        "id": "f6mRhBad35xP"
      },
      "execution_count": null,
      "outputs": []
    },
    {
      "cell_type": "markdown",
      "source": [
        "### Bathe in tests"
      ],
      "metadata": {
        "id": "vuOofB3a6a-t"
      }
    },
    {
      "cell_type": "code",
      "source": [
        "assert pca_normalized.shape == (len(words_array), 2), \"there must be a 2d vector for each word\"\n",
        "assert max(abs(pca_normalized.mean(0))) < 1e-5, \"points must be zero-centered\"\n",
        "assert max(abs(1.0 - pca_normalized.std(0))) < 1e-2, \"points must have unit variance\""
      ],
      "metadata": {
        "id": "kdjATsBV5XPY"
      },
      "execution_count": null,
      "outputs": []
    },
    {
      "cell_type": "markdown",
      "source": [
        "### Draw. (Simply copied snippet)"
      ],
      "metadata": {
        "id": "bJuCteAc7U3Z"
      }
    },
    {
      "cell_type": "code",
      "source": [
        "output_notebook() #bokeh.io\n",
        "def draw_vectors(x, y, radius=10, alpha=0.25, color='blue',\n",
        "                 width=600, height=400, show=True, **kwargs):\n",
        "    \"\"\" draws an interactive plot for data points with auxilirary info on hover \"\"\"\n",
        "    if isinstance(color, str): color = [color] * len(x)\n",
        "    data_source = bm.ColumnDataSource({ 'x' : x, 'y' : y, 'color': color, **kwargs })\n",
        "\n",
        "    fig = pl.figure(active_scroll='wheel_zoom', width=width, height=height)\n",
        "    fig.scatter('x', 'y', size=radius, color='color', alpha=alpha, source=data_source)\n",
        "\n",
        "    fig.add_tools(bm.HoverTool(tooltips=[(key, \"@\" + key) for key in kwargs.keys()]))\n",
        "    if show: pl.show(fig)\n",
        "    return fig\n",
        "\n",
        "draw_vectors(pca_normalized[:, 0], pca_normalized[:, 1], token=words)"
      ],
      "metadata": {
        "colab": {
          "base_uri": "https://localhost:8080/",
          "height": 434
        },
        "id": "R1O2UtUB6qUT",
        "outputId": "cbb97b20-e76b-4001-8665-2c33474a4537"
      },
      "execution_count": null,
      "outputs": [
        {
          "output_type": "display_data",
          "data": {
            "application/javascript": [
              "(function(root) {\n",
              "  function now() {\n",
              "    return new Date();\n",
              "  }\n",
              "\n",
              "  const force = true;\n",
              "\n",
              "  if (typeof root._bokeh_onload_callbacks === \"undefined\" || force === true) {\n",
              "    root._bokeh_onload_callbacks = [];\n",
              "    root._bokeh_is_loading = undefined;\n",
              "  }\n",
              "\n",
              "const JS_MIME_TYPE = 'application/javascript';\n",
              "  const HTML_MIME_TYPE = 'text/html';\n",
              "  const EXEC_MIME_TYPE = 'application/vnd.bokehjs_exec.v0+json';\n",
              "  const CLASS_NAME = 'output_bokeh rendered_html';\n",
              "\n",
              "  /**\n",
              "   * Render data to the DOM node\n",
              "   */\n",
              "  function render(props, node) {\n",
              "    const script = document.createElement(\"script\");\n",
              "    node.appendChild(script);\n",
              "  }\n",
              "\n",
              "  /**\n",
              "   * Handle when an output is cleared or removed\n",
              "   */\n",
              "  function handleClearOutput(event, handle) {\n",
              "    const cell = handle.cell;\n",
              "\n",
              "    const id = cell.output_area._bokeh_element_id;\n",
              "    const server_id = cell.output_area._bokeh_server_id;\n",
              "    // Clean up Bokeh references\n",
              "    if (id != null && id in Bokeh.index) {\n",
              "      Bokeh.index[id].model.document.clear();\n",
              "      delete Bokeh.index[id];\n",
              "    }\n",
              "\n",
              "    if (server_id !== undefined) {\n",
              "      // Clean up Bokeh references\n",
              "      const cmd_clean = \"from bokeh.io.state import curstate; print(curstate().uuid_to_server['\" + server_id + \"'].get_sessions()[0].document.roots[0]._id)\";\n",
              "      cell.notebook.kernel.execute(cmd_clean, {\n",
              "        iopub: {\n",
              "          output: function(msg) {\n",
              "            const id = msg.content.text.trim();\n",
              "            if (id in Bokeh.index) {\n",
              "              Bokeh.index[id].model.document.clear();\n",
              "              delete Bokeh.index[id];\n",
              "            }\n",
              "          }\n",
              "        }\n",
              "      });\n",
              "      // Destroy server and session\n",
              "      const cmd_destroy = \"import bokeh.io.notebook as ion; ion.destroy_server('\" + server_id + \"')\";\n",
              "      cell.notebook.kernel.execute(cmd_destroy);\n",
              "    }\n",
              "  }\n",
              "\n",
              "  /**\n",
              "   * Handle when a new output is added\n",
              "   */\n",
              "  function handleAddOutput(event, handle) {\n",
              "    const output_area = handle.output_area;\n",
              "    const output = handle.output;\n",
              "\n",
              "    // limit handleAddOutput to display_data with EXEC_MIME_TYPE content only\n",
              "    if ((output.output_type != \"display_data\") || (!Object.prototype.hasOwnProperty.call(output.data, EXEC_MIME_TYPE))) {\n",
              "      return\n",
              "    }\n",
              "\n",
              "    const toinsert = output_area.element.find(\".\" + CLASS_NAME.split(' ')[0]);\n",
              "\n",
              "    if (output.metadata[EXEC_MIME_TYPE][\"id\"] !== undefined) {\n",
              "      toinsert[toinsert.length - 1].firstChild.textContent = output.data[JS_MIME_TYPE];\n",
              "      // store reference to embed id on output_area\n",
              "      output_area._bokeh_element_id = output.metadata[EXEC_MIME_TYPE][\"id\"];\n",
              "    }\n",
              "    if (output.metadata[EXEC_MIME_TYPE][\"server_id\"] !== undefined) {\n",
              "      const bk_div = document.createElement(\"div\");\n",
              "      bk_div.innerHTML = output.data[HTML_MIME_TYPE];\n",
              "      const script_attrs = bk_div.children[0].attributes;\n",
              "      for (let i = 0; i < script_attrs.length; i++) {\n",
              "        toinsert[toinsert.length - 1].firstChild.setAttribute(script_attrs[i].name, script_attrs[i].value);\n",
              "        toinsert[toinsert.length - 1].firstChild.textContent = bk_div.children[0].textContent\n",
              "      }\n",
              "      // store reference to server id on output_area\n",
              "      output_area._bokeh_server_id = output.metadata[EXEC_MIME_TYPE][\"server_id\"];\n",
              "    }\n",
              "  }\n",
              "\n",
              "  function register_renderer(events, OutputArea) {\n",
              "\n",
              "    function append_mime(data, metadata, element) {\n",
              "      // create a DOM node to render to\n",
              "      const toinsert = this.create_output_subarea(\n",
              "        metadata,\n",
              "        CLASS_NAME,\n",
              "        EXEC_MIME_TYPE\n",
              "      );\n",
              "      this.keyboard_manager.register_events(toinsert);\n",
              "      // Render to node\n",
              "      const props = {data: data, metadata: metadata[EXEC_MIME_TYPE]};\n",
              "      render(props, toinsert[toinsert.length - 1]);\n",
              "      element.append(toinsert);\n",
              "      return toinsert\n",
              "    }\n",
              "\n",
              "    /* Handle when an output is cleared or removed */\n",
              "    events.on('clear_output.CodeCell', handleClearOutput);\n",
              "    events.on('delete.Cell', handleClearOutput);\n",
              "\n",
              "    /* Handle when a new output is added */\n",
              "    events.on('output_added.OutputArea', handleAddOutput);\n",
              "\n",
              "    /**\n",
              "     * Register the mime type and append_mime function with output_area\n",
              "     */\n",
              "    OutputArea.prototype.register_mime_type(EXEC_MIME_TYPE, append_mime, {\n",
              "      /* Is output safe? */\n",
              "      safe: true,\n",
              "      /* Index of renderer in `output_area.display_order` */\n",
              "      index: 0\n",
              "    });\n",
              "  }\n",
              "\n",
              "  // register the mime type if in Jupyter Notebook environment and previously unregistered\n",
              "  if (root.Jupyter !== undefined) {\n",
              "    const events = require('base/js/events');\n",
              "    const OutputArea = require('notebook/js/outputarea').OutputArea;\n",
              "\n",
              "    if (OutputArea.prototype.mime_types().indexOf(EXEC_MIME_TYPE) == -1) {\n",
              "      register_renderer(events, OutputArea);\n",
              "    }\n",
              "  }\n",
              "  if (typeof (root._bokeh_timeout) === \"undefined\" || force === true) {\n",
              "    root._bokeh_timeout = Date.now() + 5000;\n",
              "    root._bokeh_failed_load = false;\n",
              "  }\n",
              "\n",
              "  const NB_LOAD_WARNING = {'data': {'text/html':\n",
              "     \"<div style='background-color: #fdd'>\\n\"+\n",
              "     \"<p>\\n\"+\n",
              "     \"BokehJS does not appear to have successfully loaded. If loading BokehJS from CDN, this \\n\"+\n",
              "     \"may be due to a slow or bad network connection. Possible fixes:\\n\"+\n",
              "     \"</p>\\n\"+\n",
              "     \"<ul>\\n\"+\n",
              "     \"<li>re-rerun `output_notebook()` to attempt to load from CDN again, or</li>\\n\"+\n",
              "     \"<li>use INLINE resources instead, as so:</li>\\n\"+\n",
              "     \"</ul>\\n\"+\n",
              "     \"<code>\\n\"+\n",
              "     \"from bokeh.resources import INLINE\\n\"+\n",
              "     \"output_notebook(resources=INLINE)\\n\"+\n",
              "     \"</code>\\n\"+\n",
              "     \"</div>\"}};\n",
              "\n",
              "  function display_loaded() {\n",
              "    const el = document.getElementById(null);\n",
              "    if (el != null) {\n",
              "      el.textContent = \"BokehJS is loading...\";\n",
              "    }\n",
              "    if (root.Bokeh !== undefined) {\n",
              "      if (el != null) {\n",
              "        el.textContent = \"BokehJS \" + root.Bokeh.version + \" successfully loaded.\";\n",
              "      }\n",
              "    } else if (Date.now() < root._bokeh_timeout) {\n",
              "      setTimeout(display_loaded, 100)\n",
              "    }\n",
              "  }\n",
              "\n",
              "  function run_callbacks() {\n",
              "    try {\n",
              "      root._bokeh_onload_callbacks.forEach(function(callback) {\n",
              "        if (callback != null)\n",
              "          callback();\n",
              "      });\n",
              "    } finally {\n",
              "      delete root._bokeh_onload_callbacks\n",
              "    }\n",
              "    console.debug(\"Bokeh: all callbacks have finished\");\n",
              "  }\n",
              "\n",
              "  function load_libs(css_urls, js_urls, callback) {\n",
              "    if (css_urls == null) css_urls = [];\n",
              "    if (js_urls == null) js_urls = [];\n",
              "\n",
              "    root._bokeh_onload_callbacks.push(callback);\n",
              "    if (root._bokeh_is_loading > 0) {\n",
              "      console.debug(\"Bokeh: BokehJS is being loaded, scheduling callback at\", now());\n",
              "      return null;\n",
              "    }\n",
              "    if (js_urls == null || js_urls.length === 0) {\n",
              "      run_callbacks();\n",
              "      return null;\n",
              "    }\n",
              "    console.debug(\"Bokeh: BokehJS not loaded, scheduling load and callback at\", now());\n",
              "    root._bokeh_is_loading = css_urls.length + js_urls.length;\n",
              "\n",
              "    function on_load() {\n",
              "      root._bokeh_is_loading--;\n",
              "      if (root._bokeh_is_loading === 0) {\n",
              "        console.debug(\"Bokeh: all BokehJS libraries/stylesheets loaded\");\n",
              "        run_callbacks()\n",
              "      }\n",
              "    }\n",
              "\n",
              "    function on_error(url) {\n",
              "      console.error(\"failed to load \" + url);\n",
              "    }\n",
              "\n",
              "    for (let i = 0; i < css_urls.length; i++) {\n",
              "      const url = css_urls[i];\n",
              "      const element = document.createElement(\"link\");\n",
              "      element.onload = on_load;\n",
              "      element.onerror = on_error.bind(null, url);\n",
              "      element.rel = \"stylesheet\";\n",
              "      element.type = \"text/css\";\n",
              "      element.href = url;\n",
              "      console.debug(\"Bokeh: injecting link tag for BokehJS stylesheet: \", url);\n",
              "      document.body.appendChild(element);\n",
              "    }\n",
              "\n",
              "    for (let i = 0; i < js_urls.length; i++) {\n",
              "      const url = js_urls[i];\n",
              "      const element = document.createElement('script');\n",
              "      element.onload = on_load;\n",
              "      element.onerror = on_error.bind(null, url);\n",
              "      element.async = false;\n",
              "      element.src = url;\n",
              "      console.debug(\"Bokeh: injecting script tag for BokehJS library: \", url);\n",
              "      document.head.appendChild(element);\n",
              "    }\n",
              "  };\n",
              "\n",
              "  function inject_raw_css(css) {\n",
              "    const element = document.createElement(\"style\");\n",
              "    element.appendChild(document.createTextNode(css));\n",
              "    document.body.appendChild(element);\n",
              "  }\n",
              "\n",
              "  const js_urls = [\"https://cdn.bokeh.org/bokeh/release/bokeh-2.4.3.min.js\", \"https://cdn.bokeh.org/bokeh/release/bokeh-gl-2.4.3.min.js\", \"https://cdn.bokeh.org/bokeh/release/bokeh-widgets-2.4.3.min.js\", \"https://cdn.bokeh.org/bokeh/release/bokeh-tables-2.4.3.min.js\", \"https://cdn.bokeh.org/bokeh/release/bokeh-mathjax-2.4.3.min.js\"];\n",
              "  const css_urls = [];\n",
              "\n",
              "  const inline_js = [    function(Bokeh) {\n",
              "      Bokeh.set_log_level(\"info\");\n",
              "    },\n",
              "function(Bokeh) {\n",
              "    }\n",
              "  ];\n",
              "\n",
              "  function run_inline_js() {\n",
              "    if (root.Bokeh !== undefined || force === true) {\n",
              "          for (let i = 0; i < inline_js.length; i++) {\n",
              "      inline_js[i].call(root, root.Bokeh);\n",
              "    }\n",
              "} else if (Date.now() < root._bokeh_timeout) {\n",
              "      setTimeout(run_inline_js, 100);\n",
              "    } else if (!root._bokeh_failed_load) {\n",
              "      console.log(\"Bokeh: BokehJS failed to load within specified timeout.\");\n",
              "      root._bokeh_failed_load = true;\n",
              "    } else if (force !== true) {\n",
              "      const cell = $(document.getElementById(null)).parents('.cell').data().cell;\n",
              "      cell.output_area.append_execute_result(NB_LOAD_WARNING)\n",
              "    }\n",
              "  }\n",
              "\n",
              "  if (root._bokeh_is_loading === 0) {\n",
              "    console.debug(\"Bokeh: BokehJS loaded, going straight to plotting\");\n",
              "    run_inline_js();\n",
              "  } else {\n",
              "    load_libs(css_urls, js_urls, function() {\n",
              "      console.debug(\"Bokeh: BokehJS plotting callback run at\", now());\n",
              "      run_inline_js();\n",
              "    });\n",
              "  }\n",
              "}(window));"
            ],
            "application/vnd.bokehjs_load.v0+json": "(function(root) {\n  function now() {\n    return new Date();\n  }\n\n  const force = true;\n\n  if (typeof root._bokeh_onload_callbacks === \"undefined\" || force === true) {\n    root._bokeh_onload_callbacks = [];\n    root._bokeh_is_loading = undefined;\n  }\n\n\n  if (typeof (root._bokeh_timeout) === \"undefined\" || force === true) {\n    root._bokeh_timeout = Date.now() + 5000;\n    root._bokeh_failed_load = false;\n  }\n\n  const NB_LOAD_WARNING = {'data': {'text/html':\n     \"<div style='background-color: #fdd'>\\n\"+\n     \"<p>\\n\"+\n     \"BokehJS does not appear to have successfully loaded. If loading BokehJS from CDN, this \\n\"+\n     \"may be due to a slow or bad network connection. Possible fixes:\\n\"+\n     \"</p>\\n\"+\n     \"<ul>\\n\"+\n     \"<li>re-rerun `output_notebook()` to attempt to load from CDN again, or</li>\\n\"+\n     \"<li>use INLINE resources instead, as so:</li>\\n\"+\n     \"</ul>\\n\"+\n     \"<code>\\n\"+\n     \"from bokeh.resources import INLINE\\n\"+\n     \"output_notebook(resources=INLINE)\\n\"+\n     \"</code>\\n\"+\n     \"</div>\"}};\n\n  function display_loaded() {\n    const el = document.getElementById(null);\n    if (el != null) {\n      el.textContent = \"BokehJS is loading...\";\n    }\n    if (root.Bokeh !== undefined) {\n      if (el != null) {\n        el.textContent = \"BokehJS \" + root.Bokeh.version + \" successfully loaded.\";\n      }\n    } else if (Date.now() < root._bokeh_timeout) {\n      setTimeout(display_loaded, 100)\n    }\n  }\n\n  function run_callbacks() {\n    try {\n      root._bokeh_onload_callbacks.forEach(function(callback) {\n        if (callback != null)\n          callback();\n      });\n    } finally {\n      delete root._bokeh_onload_callbacks\n    }\n    console.debug(\"Bokeh: all callbacks have finished\");\n  }\n\n  function load_libs(css_urls, js_urls, callback) {\n    if (css_urls == null) css_urls = [];\n    if (js_urls == null) js_urls = [];\n\n    root._bokeh_onload_callbacks.push(callback);\n    if (root._bokeh_is_loading > 0) {\n      console.debug(\"Bokeh: BokehJS is being loaded, scheduling callback at\", now());\n      return null;\n    }\n    if (js_urls == null || js_urls.length === 0) {\n      run_callbacks();\n      return null;\n    }\n    console.debug(\"Bokeh: BokehJS not loaded, scheduling load and callback at\", now());\n    root._bokeh_is_loading = css_urls.length + js_urls.length;\n\n    function on_load() {\n      root._bokeh_is_loading--;\n      if (root._bokeh_is_loading === 0) {\n        console.debug(\"Bokeh: all BokehJS libraries/stylesheets loaded\");\n        run_callbacks()\n      }\n    }\n\n    function on_error(url) {\n      console.error(\"failed to load \" + url);\n    }\n\n    for (let i = 0; i < css_urls.length; i++) {\n      const url = css_urls[i];\n      const element = document.createElement(\"link\");\n      element.onload = on_load;\n      element.onerror = on_error.bind(null, url);\n      element.rel = \"stylesheet\";\n      element.type = \"text/css\";\n      element.href = url;\n      console.debug(\"Bokeh: injecting link tag for BokehJS stylesheet: \", url);\n      document.body.appendChild(element);\n    }\n\n    for (let i = 0; i < js_urls.length; i++) {\n      const url = js_urls[i];\n      const element = document.createElement('script');\n      element.onload = on_load;\n      element.onerror = on_error.bind(null, url);\n      element.async = false;\n      element.src = url;\n      console.debug(\"Bokeh: injecting script tag for BokehJS library: \", url);\n      document.head.appendChild(element);\n    }\n  };\n\n  function inject_raw_css(css) {\n    const element = document.createElement(\"style\");\n    element.appendChild(document.createTextNode(css));\n    document.body.appendChild(element);\n  }\n\n  const js_urls = [\"https://cdn.bokeh.org/bokeh/release/bokeh-2.4.3.min.js\", \"https://cdn.bokeh.org/bokeh/release/bokeh-gl-2.4.3.min.js\", \"https://cdn.bokeh.org/bokeh/release/bokeh-widgets-2.4.3.min.js\", \"https://cdn.bokeh.org/bokeh/release/bokeh-tables-2.4.3.min.js\", \"https://cdn.bokeh.org/bokeh/release/bokeh-mathjax-2.4.3.min.js\"];\n  const css_urls = [];\n\n  const inline_js = [    function(Bokeh) {\n      Bokeh.set_log_level(\"info\");\n    },\nfunction(Bokeh) {\n    }\n  ];\n\n  function run_inline_js() {\n    if (root.Bokeh !== undefined || force === true) {\n          for (let i = 0; i < inline_js.length; i++) {\n      inline_js[i].call(root, root.Bokeh);\n    }\n} else if (Date.now() < root._bokeh_timeout) {\n      setTimeout(run_inline_js, 100);\n    } else if (!root._bokeh_failed_load) {\n      console.log(\"Bokeh: BokehJS failed to load within specified timeout.\");\n      root._bokeh_failed_load = true;\n    } else if (force !== true) {\n      const cell = $(document.getElementById(null)).parents('.cell').data().cell;\n      cell.output_area.append_execute_result(NB_LOAD_WARNING)\n    }\n  }\n\n  if (root._bokeh_is_loading === 0) {\n    console.debug(\"Bokeh: BokehJS loaded, going straight to plotting\");\n    run_inline_js();\n  } else {\n    load_libs(css_urls, js_urls, function() {\n      console.debug(\"Bokeh: BokehJS plotting callback run at\", now());\n      run_inline_js();\n    });\n  }\n}(window));"
          },
          "metadata": {}
        },
        {
          "output_type": "display_data",
          "data": {
            "text/html": [
              "\n",
              "  <div class=\"bk-root\" id=\"0503a186-9ed3-4b56-a4e4-304973450661\" data-root-id=\"1509\"></div>\n"
            ]
          },
          "metadata": {}
        },
        {
          "output_type": "display_data",
          "data": {
            "application/javascript": [
              "(function(root) {\n",
              "  function embed_document(root) {\n",
              "  const docs_json = {\"047ada58-c2bc-4e96-9c38-839f76e8f429\":{\"defs\":[],\"roots\":{\"references\":[{\"attributes\":{\"below\":[{\"id\":\"1518\"}],\"center\":[{\"id\":\"1521\"},{\"id\":\"1525\"}],\"height\":400,\"left\":[{\"id\":\"1522\"}],\"renderers\":[{\"id\":\"1544\"}],\"title\":{\"id\":\"1592\"},\"toolbar\":{\"id\":\"1533\"},\"x_range\":{\"id\":\"1510\"},\"x_scale\":{\"id\":\"1514\"},\"y_range\":{\"id\":\"1512\"},\"y_scale\":{\"id\":\"1516\"}},\"id\":\"1509\",\"subtype\":\"Figure\",\"type\":\"Plot\"},{\"attributes\":{},\"id\":\"1595\",\"type\":\"BasicTickFormatter\"},{\"attributes\":{\"coordinates\":null,\"group\":null},\"id\":\"1592\",\"type\":\"Title\"},{\"attributes\":{},\"id\":\"1512\",\"type\":\"DataRange1d\"},{\"attributes\":{\"fill_alpha\":{\"value\":0.25},\"fill_color\":{\"field\":\"color\"},\"hatch_alpha\":{\"value\":0.25},\"hatch_color\":{\"field\":\"color\"},\"line_alpha\":{\"value\":0.25},\"line_color\":{\"field\":\"color\"},\"size\":{\"value\":10},\"x\":{\"field\":\"x\"},\"y\":{\"field\":\"y\"}},\"id\":\"1541\",\"type\":\"Scatter\"},{\"attributes\":{},\"id\":\"1523\",\"type\":\"BasicTicker\"},{\"attributes\":{},\"id\":\"1510\",\"type\":\"DataRange1d\"},{\"attributes\":{},\"id\":\"1526\",\"type\":\"PanTool\"},{\"attributes\":{\"fill_alpha\":{\"value\":0.2},\"fill_color\":{\"field\":\"color\"},\"hatch_alpha\":{\"value\":0.2},\"hatch_color\":{\"field\":\"color\"},\"line_alpha\":{\"value\":0.2},\"line_color\":{\"field\":\"color\"},\"size\":{\"value\":10},\"x\":{\"field\":\"x\"},\"y\":{\"field\":\"y\"}},\"id\":\"1543\",\"type\":\"Scatter\"},{\"attributes\":{},\"id\":\"1598\",\"type\":\"BasicTickFormatter\"},{\"attributes\":{},\"id\":\"1529\",\"type\":\"SaveTool\"},{\"attributes\":{\"coordinates\":null,\"data_source\":{\"id\":\"1508\"},\"glyph\":{\"id\":\"1541\"},\"group\":null,\"hover_glyph\":null,\"muted_glyph\":{\"id\":\"1543\"},\"nonselection_glyph\":{\"id\":\"1542\"},\"view\":{\"id\":\"1545\"}},\"id\":\"1544\",\"type\":\"GlyphRenderer\"},{\"attributes\":{\"active_scroll\":{\"id\":\"1527\"},\"tools\":[{\"id\":\"1526\"},{\"id\":\"1527\"},{\"id\":\"1528\"},{\"id\":\"1529\"},{\"id\":\"1530\"},{\"id\":\"1531\"},{\"id\":\"1546\"}]},\"id\":\"1533\",\"type\":\"Toolbar\"},{\"attributes\":{\"fill_alpha\":{\"value\":0.1},\"fill_color\":{\"field\":\"color\"},\"hatch_alpha\":{\"value\":0.1},\"hatch_color\":{\"field\":\"color\"},\"line_alpha\":{\"value\":0.1},\"line_color\":{\"field\":\"color\"},\"size\":{\"value\":10},\"x\":{\"field\":\"x\"},\"y\":{\"field\":\"y\"}},\"id\":\"1542\",\"type\":\"Scatter\"},{\"attributes\":{\"axis\":{\"id\":\"1522\"},\"coordinates\":null,\"dimension\":1,\"group\":null,\"ticker\":null},\"id\":\"1525\",\"type\":\"Grid\"},{\"attributes\":{},\"id\":\"1601\",\"type\":\"Selection\"},{\"attributes\":{\"coordinates\":null,\"formatter\":{\"id\":\"1595\"},\"group\":null,\"major_label_policy\":{\"id\":\"1596\"},\"ticker\":{\"id\":\"1523\"}},\"id\":\"1522\",\"type\":\"LinearAxis\"},{\"attributes\":{},\"id\":\"1516\",\"type\":\"LinearScale\"},{\"attributes\":{},\"id\":\"1600\",\"type\":\"UnionRenderers\"},{\"attributes\":{},\"id\":\"1514\",\"type\":\"LinearScale\"},{\"attributes\":{\"callback\":null,\"tooltips\":[[\"token\",\"@token\"]]},\"id\":\"1546\",\"type\":\"HoverTool\"},{\"attributes\":{\"source\":{\"id\":\"1508\"}},\"id\":\"1545\",\"type\":\"CDSView\"},{\"attributes\":{},\"id\":\"1519\",\"type\":\"BasicTicker\"},{\"attributes\":{\"data\":{\"color\":[\"blue\",\"blue\",\"blue\",\"blue\",\"blue\",\"blue\",\"blue\",\"blue\",\"blue\",\"blue\",\"blue\",\"blue\",\"blue\",\"blue\",\"blue\",\"blue\",\"blue\",\"blue\",\"blue\",\"blue\",\"blue\",\"blue\",\"blue\",\"blue\",\"blue\",\"blue\",\"blue\",\"blue\",\"blue\",\"blue\",\"blue\",\"blue\",\"blue\",\"blue\",\"blue\",\"blue\",\"blue\",\"blue\",\"blue\",\"blue\",\"blue\",\"blue\",\"blue\",\"blue\",\"blue\",\"blue\",\"blue\",\"blue\",\"blue\",\"blue\",\"blue\",\"blue\",\"blue\",\"blue\",\"blue\",\"blue\",\"blue\",\"blue\",\"blue\",\"blue\",\"blue\",\"blue\",\"blue\",\"blue\",\"blue\",\"blue\",\"blue\",\"blue\",\"blue\",\"blue\",\"blue\",\"blue\",\"blue\",\"blue\",\"blue\",\"blue\",\"blue\",\"blue\",\"blue\",\"blue\",\"blue\",\"blue\",\"blue\",\"blue\",\"blue\",\"blue\",\"blue\",\"blue\",\"blue\",\"blue\",\"blue\",\"blue\",\"blue\",\"blue\",\"blue\",\"blue\",\"blue\",\"blue\",\"blue\",\"blue\",\"blue\",\"blue\",\"blue\",\"blue\",\"blue\",\"blue\",\"blue\",\"blue\",\"blue\",\"blue\",\"blue\",\"blue\",\"blue\",\"blue\",\"blue\",\"blue\",\"blue\",\"blue\",\"blue\",\"blue\",\"blue\",\"blue\",\"blue\",\"blue\",\"blue\",\"blue\",\"blue\",\"blue\",\"blue\",\"blue\",\"blue\",\"blue\",\"blue\",\"blue\",\"blue\",\"blue\",\"blue\",\"blue\",\"blue\",\"blue\",\"blue\",\"blue\",\"blue\",\"blue\",\"blue\",\"blue\",\"blue\",\"blue\",\"blue\",\"blue\",\"blue\",\"blue\",\"blue\",\"blue\",\"blue\",\"blue\",\"blue\",\"blue\",\"blue\",\"blue\",\"blue\",\"blue\",\"blue\",\"blue\",\"blue\",\"blue\",\"blue\",\"blue\",\"blue\",\"blue\",\"blue\",\"blue\",\"blue\",\"blue\",\"blue\",\"blue\",\"blue\",\"blue\",\"blue\",\"blue\",\"blue\",\"blue\",\"blue\",\"blue\",\"blue\",\"blue\",\"blue\",\"blue\",\"blue\",\"blue\",\"blue\",\"blue\",\"blue\",\"blue\",\"blue\",\"blue\",\"blue\",\"blue\",\"blue\",\"blue\",\"blue\",\"blue\",\"blue\",\"blue\",\"blue\",\"blue\",\"blue\",\"blue\",\"blue\",\"blue\",\"blue\",\"blue\",\"blue\",\"blue\",\"blue\",\"blue\",\"blue\",\"blue\",\"blue\",\"blue\",\"blue\",\"blue\",\"blue\",\"blue\",\"blue\",\"blue\",\"blue\",\"blue\",\"blue\",\"blue\",\"blue\",\"blue\",\"blue\",\"blue\",\"blue\",\"blue\",\"blue\",\"blue\",\"blue\",\"blue\",\"blue\",\"blue\",\"blue\",\"blue\",\"blue\",\"blue\",\"blue\",\"blue\",\"blue\",\"blue\",\"blue\",\"blue\",\"blue\",\"blue\",\"blue\",\"blue\",\"blue\",\"blue\",\"blue\",\"blue\",\"blue\",\"blue\",\"blue\",\"blue\",\"blue\",\"blue\",\"blue\",\"blue\",\"blue\",\"blue\",\"blue\",\"blue\",\"blue\",\"blue\",\"blue\",\"blue\",\"blue\",\"blue\",\"blue\",\"blue\",\"blue\",\"blue\",\"blue\",\"blue\",\"blue\",\"blue\",\"blue\",\"blue\",\"blue\",\"blue\",\"blue\",\"blue\",\"blue\",\"blue\",\"blue\",\"blue\",\"blue\",\"blue\",\"blue\",\"blue\",\"blue\",\"blue\",\"blue\",\"blue\",\"blue\",\"blue\",\"blue\",\"blue\",\"blue\",\"blue\",\"blue\",\"blue\",\"blue\",\"blue\",\"blue\",\"blue\",\"blue\",\"blue\",\"blue\",\"blue\",\"blue\",\"blue\",\"blue\",\"blue\",\"blue\",\"blue\",\"blue\",\"blue\",\"blue\",\"blue\",\"blue\",\"blue\",\"blue\",\"blue\",\"blue\",\"blue\",\"blue\",\"blue\",\"blue\",\"blue\",\"blue\",\"blue\",\"blue\",\"blue\",\"blue\",\"blue\",\"blue\",\"blue\",\"blue\",\"blue\",\"blue\",\"blue\",\"blue\",\"blue\",\"blue\",\"blue\",\"blue\",\"blue\",\"blue\",\"blue\",\"blue\",\"blue\",\"blue\",\"blue\",\"blue\",\"blue\",\"blue\",\"blue\",\"blue\",\"blue\",\"blue\",\"blue\",\"blue\",\"blue\",\"blue\",\"blue\",\"blue\",\"blue\",\"blue\",\"blue\",\"blue\",\"blue\",\"blue\",\"blue\",\"blue\",\"blue\",\"blue\",\"blue\",\"blue\",\"blue\",\"blue\",\"blue\",\"blue\",\"blue\",\"blue\",\"blue\",\"blue\",\"blue\",\"blue\",\"blue\",\"blue\",\"blue\",\"blue\",\"blue\",\"blue\",\"blue\",\"blue\",\"blue\",\"blue\",\"blue\",\"blue\",\"blue\",\"blue\",\"blue\",\"blue\",\"blue\",\"blue\",\"blue\",\"blue\",\"blue\",\"blue\",\"blue\",\"blue\",\"blue\",\"blue\",\"blue\",\"blue\",\"blue\",\"blue\",\"blue\",\"blue\",\"blue\",\"blue\",\"blue\",\"blue\",\"blue\",\"blue\",\"blue\",\"blue\",\"blue\",\"blue\",\"blue\",\"blue\",\"blue\",\"blue\",\"blue\",\"blue\",\"blue\",\"blue\",\"blue\",\"blue\",\"blue\",\"blue\",\"blue\",\"blue\",\"blue\",\"blue\",\"blue\",\"blue\",\"blue\",\"blue\",\"blue\",\"blue\",\"blue\",\"blue\",\"blue\",\"blue\",\"blue\",\"blue\",\"blue\",\"blue\",\"blue\",\"blue\",\"blue\",\"blue\",\"blue\",\"blue\",\"blue\",\"blue\",\"blue\",\"blue\",\"blue\",\"blue\",\"blue\",\"blue\",\"blue\",\"blue\",\"blue\",\"blue\",\"blue\",\"blue\",\"blue\",\"blue\",\"blue\",\"blue\",\"blue\",\"blue\",\"blue\",\"blue\",\"blue\",\"blue\",\"blue\",\"blue\",\"blue\",\"blue\",\"blue\",\"blue\",\"blue\",\"blue\",\"blue\",\"blue\",\"blue\",\"blue\",\"blue\",\"blue\",\"blue\",\"blue\",\"blue\",\"blue\",\"blue\",\"blue\",\"blue\",\"blue\",\"blue\",\"blue\",\"blue\",\"blue\",\"blue\",\"blue\",\"blue\",\"blue\",\"blue\",\"blue\",\"blue\",\"blue\",\"blue\",\"blue\",\"blue\",\"blue\",\"blue\",\"blue\",\"blue\",\"blue\",\"blue\",\"blue\",\"blue\",\"blue\",\"blue\",\"blue\",\"blue\",\"blue\",\"blue\",\"blue\",\"blue\",\"blue\",\"blue\",\"blue\",\"blue\",\"blue\",\"blue\",\"blue\",\"blue\",\"blue\",\"blue\",\"blue\",\"blue\",\"blue\",\"blue\",\"blue\",\"blue\",\"blue\",\"blue\",\"blue\",\"blue\",\"blue\",\"blue\",\"blue\",\"blue\",\"blue\",\"blue\",\"blue\",\"blue\",\"blue\",\"blue\",\"blue\",\"blue\",\"blue\",\"blue\",\"blue\",\"blue\",\"blue\",\"blue\",\"blue\",\"blue\",\"blue\",\"blue\",\"blue\",\"blue\",\"blue\",\"blue\",\"blue\",\"blue\",\"blue\",\"blue\",\"blue\",\"blue\",\"blue\",\"blue\",\"blue\",\"blue\",\"blue\",\"blue\",\"blue\",\"blue\",\"blue\",\"blue\",\"blue\",\"blue\",\"blue\",\"blue\",\"blue\",\"blue\",\"blue\",\"blue\",\"blue\",\"blue\",\"blue\",\"blue\",\"blue\",\"blue\",\"blue\",\"blue\",\"blue\",\"blue\",\"blue\",\"blue\",\"blue\",\"blue\",\"blue\",\"blue\",\"blue\",\"blue\",\"blue\",\"blue\",\"blue\",\"blue\",\"blue\",\"blue\",\"blue\",\"blue\",\"blue\",\"blue\",\"blue\",\"blue\",\"blue\",\"blue\",\"blue\",\"blue\",\"blue\",\"blue\",\"blue\",\"blue\",\"blue\",\"blue\",\"blue\",\"blue\",\"blue\",\"blue\",\"blue\",\"blue\",\"blue\",\"blue\",\"blue\",\"blue\",\"blue\",\"blue\",\"blue\",\"blue\",\"blue\",\"blue\",\"blue\",\"blue\",\"blue\",\"blue\",\"blue\",\"blue\",\"blue\",\"blue\",\"blue\",\"blue\",\"blue\",\"blue\",\"blue\",\"blue\",\"blue\",\"blue\",\"blue\",\"blue\",\"blue\",\"blue\",\"blue\",\"blue\",\"blue\",\"blue\",\"blue\",\"blue\",\"blue\",\"blue\",\"blue\",\"blue\",\"blue\",\"blue\",\"blue\",\"blue\",\"blue\",\"blue\",\"blue\",\"blue\",\"blue\",\"blue\",\"blue\",\"blue\",\"blue\",\"blue\",\"blue\",\"blue\",\"blue\",\"blue\",\"blue\",\"blue\",\"blue\",\"blue\",\"blue\",\"blue\",\"blue\",\"blue\",\"blue\",\"blue\",\"blue\",\"blue\",\"blue\",\"blue\",\"blue\",\"blue\",\"blue\",\"blue\",\"blue\",\"blue\",\"blue\",\"blue\",\"blue\",\"blue\",\"blue\",\"blue\",\"blue\",\"blue\",\"blue\",\"blue\",\"blue\",\"blue\",\"blue\",\"blue\",\"blue\",\"blue\",\"blue\",\"blue\",\"blue\",\"blue\",\"blue\",\"blue\",\"blue\",\"blue\",\"blue\",\"blue\",\"blue\",\"blue\",\"blue\",\"blue\",\"blue\",\"blue\",\"blue\",\"blue\",\"blue\",\"blue\",\"blue\",\"blue\",\"blue\",\"blue\",\"blue\",\"blue\",\"blue\",\"blue\",\"blue\",\"blue\",\"blue\",\"blue\",\"blue\",\"blue\",\"blue\",\"blue\",\"blue\",\"blue\",\"blue\",\"blue\",\"blue\",\"blue\",\"blue\",\"blue\",\"blue\",\"blue\",\"blue\",\"blue\",\"blue\",\"blue\",\"blue\",\"blue\",\"blue\",\"blue\",\"blue\",\"blue\",\"blue\",\"blue\",\"blue\",\"blue\",\"blue\",\"blue\",\"blue\",\"blue\",\"blue\",\"blue\",\"blue\",\"blue\",\"blue\",\"blue\",\"blue\",\"blue\",\"blue\",\"blue\",\"blue\",\"blue\",\"blue\",\"blue\",\"blue\",\"blue\",\"blue\",\"blue\",\"blue\",\"blue\",\"blue\",\"blue\",\"blue\",\"blue\",\"blue\",\"blue\",\"blue\",\"blue\",\"blue\",\"blue\",\"blue\",\"blue\",\"blue\",\"blue\",\"blue\",\"blue\",\"blue\",\"blue\",\"blue\",\"blue\",\"blue\",\"blue\",\"blue\",\"blue\",\"blue\",\"blue\",\"blue\",\"blue\",\"blue\",\"blue\",\"blue\",\"blue\",\"blue\",\"blue\",\"blue\",\"blue\",\"blue\",\"blue\",\"blue\",\"blue\",\"blue\",\"blue\",\"blue\",\"blue\",\"blue\",\"blue\",\"blue\",\"blue\",\"blue\",\"blue\",\"blue\",\"blue\",\"blue\",\"blue\",\"blue\",\"blue\",\"blue\",\"blue\",\"blue\",\"blue\",\"blue\",\"blue\",\"blue\",\"blue\",\"blue\",\"blue\",\"blue\",\"blue\",\"blue\",\"blue\",\"blue\",\"blue\",\"blue\",\"blue\",\"blue\",\"blue\",\"blue\",\"blue\",\"blue\",\"blue\",\"blue\",\"blue\",\"blue\",\"blue\",\"blue\",\"blue\",\"blue\",\"blue\",\"blue\",\"blue\",\"blue\",\"blue\",\"blue\",\"blue\",\"blue\",\"blue\",\"blue\",\"blue\",\"blue\",\"blue\",\"blue\",\"blue\",\"blue\",\"blue\",\"blue\",\"blue\",\"blue\",\"blue\",\"blue\",\"blue\",\"blue\",\"blue\",\"blue\",\"blue\",\"blue\",\"blue\",\"blue\",\"blue\",\"blue\",\"blue\",\"blue\",\"blue\",\"blue\",\"blue\",\"blue\",\"blue\",\"blue\",\"blue\",\"blue\",\"blue\",\"blue\",\"blue\",\"blue\",\"blue\",\"blue\",\"blue\",\"blue\",\"blue\",\"blue\",\"blue\",\"blue\",\"blue\",\"blue\",\"blue\",\"blue\",\"blue\",\"blue\",\"blue\",\"blue\",\"blue\",\"blue\",\"blue\"],\"token\":[\"<user>\",\".\",\":\",\"rt\",\",\",\"<repeat>\",\"<hashtag>\",\"<number>\",\"<url>\",\"!\",\"i\",\"a\",\"\\\"\",\"the\",\"?\",\"you\",\"to\",\"(\",\"<allcaps>\",\"<elong>\",\")\",\"me\",\"de\",\"<smile>\",\"\\uff01\",\"que\",\"and\",\"\\u3002\",\"-\",\"my\",\"no\",\"\\u3001\",\"is\",\"it\",\"\\u2026\",\"in\",\"n\",\"for\",\"/\",\"of\",\"la\",\"'s\",\"*\",\"do\",\"n't\",\"that\",\"on\",\"y\",\"'\",\"e\",\"o\",\"u\",\"en\",\"this\",\"el\",\"so\",\"be\",\"'m\",\"with\",\"just\",\">\",\"your\",\"^\",\"like\",\"have\",\"te\",\"at\",\"\\uff1f\",\"love\",\"se\",\"are\",\"<\",\"m\",\"r\",\"if\",\"all\",\"b\",\"\\u30fb\",\"not\",\"but\",\"we\",\"es\",\"ya\",\"&\",\"follow\",\"up\",\"what\",\"get\",\"lol\",\"un\",\"\\u2665\",\"lo\",\"when\",\"was\",\"\\u201c\",\"\\u201d\",\"one\",\"por\",\"si\",\"out\",\"_\",\"mi\",\"can\",\"<sadface>\",\"\\u0645\\u0646\",\"\\u2661\",\"\\u00b4\",\"he\",\"con\",\"they\",\"now\",\"go\",\"\\u060c\",\"para\",\"los\",\"know\",\"haha\",\"good\",\"tu\",\"back\",\"~\",\"about\",\"new\",\";\",\"as\",\"day\",\"how\",\"who\",\"will\",\"want\",\"people\",\"yo\",\"eu\",\"from\",\"di\",\"time\",\"<heart>\",\"s\",\"aku\",\"da\",\"'re\",\"<lolface>\",\"una\",\"got\",\"las\",\"more\",\"x\",\"she\",\"today\",\"\\uff08\",\">>\",\"k\",\"by\",\"or\",\"\\u0641\\u064a\",\"\\uff65\",\"too\",\"le\",\"\\u00e9\",\"|\",\"[\",\"\\uff09\",\"]\",\"see\",\"why\",\"yg\",\"ca\",\"como\",\"her\",\"\\u2014\",\"q\",\"need\",\"an\",\"na\",\"\\u7b11\",\"there\",\"\\u03c9\",\"happy\",\"im\",\"mas\",\"je\",\"life\",\"really\",\"make\",\"yang\",\"shit\",\"think\",\"t\",\"\\u2764\",\"n\\u00e3o\",\"never\",\"some\",\"\\uff5e\",\"oh\",\"\\u2605\",\"did\",\"would\",\"del\",\"`\",\"d\",\"please\",\"via\",\"much\",\"fuck\",\"al\",\"dia\",\"$\",\"\\u0648\",\"right\",\"best\",\"c\",\"going\",\"\\u0627\\u0644\\u0644\\u0647\",\"pero\",\"only\",\"has\",\"\\u266a\",\"'ll\",\"twitter\",\"=\",\"hahaha\",\"its\",\"nn\",\"\\uff40\",\"\\u00bf\",\"am\",\"say\",\"<neutralface>\",\"them\",\"here\",\"\\u0644\\u0627\",\"off\",\"still\",\"dan\",\"+\",\"night\",\"w\",\"ada\",\"someone\",\"even\",\"then\",\"\\u2606\",\"ni\",\"come\",\"com\",\"always\",\"man\",\"'ve\",\"been\",\"his\",\"itu\",\"\\u0639\\u0644\\u0649\",\"-_-\",\"\\u263a\",\"over\",\"um\",\"\\u0645\\u0627\",\"hate\",\"girl\",\"ai\",\"had\",\"pra\",\"todo\",\"mais\",\"feel\",\"let\",\"ini\",\"because\",\"\\uff9f\",\"thanks\",\"ah\",\"way\",\"ever\",\"look\",\"tweet\",\"followers\",\"should\",\"our\",\"xd\",\"aja\",\"esta\",\"school\",\"him\",\"ser\",\"take\",\"than\",\"video\",\"em\",\"last\",\"wanna\",\"does\",\"us\",\"miss\",\"l\",\"ga\",\"better\",\"well\",\"could\",\"\\u25bd\",\"%\",\"apa\",\"cuando\",\"team\",\"\\u2714\",\"@\",\"ok\",\"\\u061f\",\"\\u2022\",\"vida\",\"quiero\",\"les\",\"being\",\"real\",\"down\",\"kamu\",\"everyone\",\"gonna\",\"live\",\"tonight\",\"yes\",\"work\",\"ass\",\"retweet\",\"nada\",\"sama\",\"first\",\"<<\",\"photo\",\"tomorrow\",\"where\",\"god\",\"son\",\"ke\",\"ta\",\"f\",\"home\",\"lagi\",\"thank\",\"birthday\",\"\\u2588\",\"ha\",\"great\",\"lmao\",\"omg\",\"morning\",\"m\\u00e1s\",\"mau\",\"baby\",\"dont\",\"\\uff61\",\"their\",\"p\",\"things\",\"game\",\"pas\",\"bad\",\"year\",\"yeah\",\"su\",\"bitch\",\"\\u0432\",\"stop\",\"hoy\",\"something\",\"meu\",\"tak\",\"gak\",\"world\",\"amor\",\"h\",\"\\\\\",\"ver\",\"\\uff1b\",\"porque\",\"give\",\"these\",\"\\u0627\\u0644\\u0644\\u0647\\u0645\",\"were\",\"hay\",\"sleep\",\"gue\",\"every\",\"friends\",\"uma\",\"tell\",\"amo\",\"vou\",\"bien\",\"\\u00a1\",\"again\",\"\\uff3e\",\"\\uff0f\",\"done\",\"after\",\"todos\",\"girls\",\"guys\",\"getting\",\"big\",\"wait\",\"justin\",\"eh\",\"\\u2192\",\"kan\",\"kita\",\"jajaja\",\"wish\",\"said\",\"fucking\",\"show\",\"thing\",\"next\",\"voc\\u00ea\",\"nos\",\"little\",\"tengo\",\"keep\",\"person\",\"''\",\"\\u2200\",\"hope\",\"\\u0643\\u0644\",\"hey\",\"bisa\",\"free\",\"made\",\"foto\",\"va\",\"everything\",\"iya\",\"nigga\",\"eso\",\"et\",\"watch\",\"music\",\"week\",\"talk\",\"ne\",\"solo\",\"gente\",\"udah\",\"\\uff1a\",\"--\",\"\\uff3c\",\"mejor\",\"facebook\",\"ma\",\"v\",\"phone\",\"most\",\"same\",\"okay\",\"ik\",\"before\",\"minha\",\"days\",\"g\",\"ti\",\"damn\",\"nice\",\"voy\",\"vai\",\"call\",\"long\",\"tapi\",\"http\",\"sin\",\"nunca\",\"doing\",\"other\",\"find\",\"il\",\"sa\",\"sorry\",\"nya\",\"orang\",\"\\u00b0\",\"hard\",\"mean\",\"die\",\"\\u0627\\u0644\\u0644\\u064a\",\"tem\",\"soy\",\"este\",\"kalo\",\"s\\u00f3\",\"th\",\"win\",\"nothing\",\"into\",\"face\",\"cute\",\"'d\",\"gracias\",\"lah\",\"\\u0438\",\"any\",\"play\",\"\\u2190\",\"ko\",\"text\",\"\\u2323\",\"estoy\",\"tau\",\"ur\",\"buat\",\"#\",\"cause\",\"\\u044f\",\"put\",\"kau\",\"siempre\",\"juga\",\"casa\",\"\\u0623\\u0646\",\"help\",\"start\",\"feliz\",\"old\",\"ir\",\"very\",\"care\",\"bir\",\"makes\",\"song\",\"check\",\"watching\",\"ahora\",\"jadi\",\"os\",\"may\",\"friend\",\"beautiful\",\"heart\",\"ka\",\"vc\",\"mundo\",\"\\u043d\\u0430\",\"sure\",\"tan\",\"pretty\",\"aqui\",\"\\u043d\\u0435\",\"house\",\"\\u0631\\u062a\\u0648\\u064a\\u062a\",\"\\u064a\\u0627\",\"ja\",\"true\",\"muy\",\"away\",\"already\",\"actually\",\"believe\",\"try\",\"many\",\"ma\\u00f1ana\",\"mis\",\"lu\",\"those\",\"hot\",\"qu\\u00e9\",\"mal\",\"\\u0639\\u0646\",\"though\",\"ask\",\"amazing\",\"bed\",\"}\",\"two\",\"mom\",\"d\\u00eda\",\"ve\",\"dari\",\"gameinsight\",\"stay\",\"fun\",\"around\",\"van\",\"cont\",\"ready\",\"money\",\"bu\",\"funny\",\"cool\",\"hair\",\"\\u00e0\",\"tho\",\"{\",\"wo\",\"hi\",\"name\",\"tiene\",\"hahahaha\",\"pa\",\"algo\",\"gotta\",\"\\u0648\\u0644\\u0627\",\"boy\",\"another\",\"c'est\",\"hari\",\"jajajaja\",\"having\",\"cara\",\"jaja\",\"dm\",\"looking\",\"top\",\"android\",\"dah\",\"wow\",\"\\u2591\",\"eres\",\"ben\",\"must\",\"news\",\"met\",\"est\\u00e1\",\"nih\",\"family\",\"black\",\"thought\",\"nak\",\"super\",\"end\",\"hace\",\"remember\",\"ama\",\"party\",\"cant\",\"vamos\",\"anything\",\"anyone\",\"\\u0641\\u0648\\u0644\\u0648\",\"perfect\",\"guy\",\"vez\",\"christmas\",\"dos\",\"bueno\",\"nao\",\"years\",\"vote\",\"dormir\",\"bro\",\"else\",\"quien\",\"untuk\",\"jangan\",\"myself\",\"head\",\"mind\",\"gua\",\"talking\",\"while\",\"dat\",\"food\",\"\\u0434\",\"coming\",\"wkwk\",\"trying\",\"saya\",\"mucho\",\"without\",\"wrong\",\"\\u2019s\",\"baru\",\"__\",\"hehe\",\"hacer\",\"lot\",\"followed\",\"crazy\",\"hell\",\"feeling\",\"des\",\"kok\",\"j\",\"stats\",\"j'\",\"\\u0627\\u0646\",\"tweets\",\"non\",\"cosas\",\"era\",\"high\",\"niggas\",\"change\",\"movie\",\"xx\",\"mad\",\"sih\",\"sometimes\",\"deh\",\"allah\",\"through\",\"pour\",\"ela\",\"soon\",\"gone\",\"playing\",\"smile\",\"bukan\",\"tv\",\"fans\",\"hasta\",\"akan\",\"y'\",\"looks\",\"isso\",\"\\u270c\",\"tired\",\"boys\",\"might\",\"dong\",\"lg\",\"use\",\"maybe\",\"until\",\"menos\",\"own\",\"dengan\",\"eat\",\"ou\",\"weekend\",\"\\u02d8\",\"class\",\"ele\",\"harry\",\"iphone\",\"friday\",\"single\",\"ff\",\"awesome\",\"bout\",\"muito\",\"hoje\",\"\\u00ac\",\"dios\",\"such\",\"estar\",\"j\\u00e1\",\"quando\",\"esa\",\"making\",\"\\u2501\",\"times\",\"lmfao\",\"gw\",\"moment\",\"yet\",\"aw\",\"smh\",\"banget\",\"masih\",\"qui\",\"quem\",\"\\u2013\",\"leave\",\"du\",\"une\",\"guess\",\"hit\",\"\\u0441\",\"pm\",\"since\",\"pues\",\"est\",\"job\",\"\\uff89\",\"mana\",\"bom\",\"siapa\",\"suka\",\"bieber\",\"mention\",\"lebih\",\"favorite\",\"bitches\",\"forever\",\"\\u0644\\u064a\",\"final\",\"read\",\"alguien\",\"open\",\"yourself\",\"ese\",\"che\",\"sex\",\"yaa\",\"car\",\"direction\",\"tidak\",\"seu\",\"gets\",\"left\",\"re\",\"jam\",\"enough\",\"\\u0625\\u0644\\u0627\",\"once\",\"\\u2019\",\"part\",\"cada\",\"\\u5b9a\\u671f\",\"\\u0644\\u0643\",\"een\",\"seen\",\"kak\",\"as\\u00ed\",\"nem\",\"\\u0639\\u0645\\u0644\",\"white\",\"told\",\"says\",\"esto\",\"sad\",\"mo\",\"fue\",\"yah\",\"summer\",\"\\u0647\",\"\\u2b55\",\"\\u00bb\",\"thats\",\"\\u0645\\u0639\",\"posted\",\"wants\",\"agora\",\"together\",\"fan\",\"men\",\"hear\",\"full\",\"\\u2600\",\"sigo\",\"pq\",\"dulu\",\"plus\",\"foi\",\"tudo\",\"\\u0647\\u0648\",\"ill\",\"\\u3042\",\"thinking\",\"wtf\",\"pagi\",\"mama\",\"kalau\",\"hati\",\"sexy\",\"sayang\",\"baik\",\"semua\",\"hola\",\"went\",\"vos\",\"tanto\",\"finally\",\"fb\",\"sea\",\"stupid\",\"tus\",\"seriously\",\"hora\",\"min\",\"pic\",\"estas\",\"turn\",\"hours\",\"excited\",\"nah\",\"buy\",\"saying\",\"mah\",\"break\",\"needs\",\"ce\",\"room\",\"choice\",\"far\",\"dead\",\"quero\",\"saw\",\"kids\",\"lil\",\"whole\",\"puede\",\"fall\",\"sus\",\"lost\",\"asi\",\"word\",\"\\u2639\",\"also\",\"\\u0631\\u064a\\u062a\\u0648\\u064a\\u062a\",\"probably\",\"everybody\",\"tarde\",\"run\",\"sei\",\"follback\",\"forget\",\"sweet\",\"welcome\",\"selamat\",\"\\uff3f\",\"sur\",\"place\",\"gusta\",\"sabe\",\"androidgames\",\"tp\",\"tiempo\",\"\\u0628\\u0633\",\"sou\",\"tuh\",\"vs\",\"eyes\",\"\\u0627\\u0646\\u0627\",\"picture\",\"das\",\"meet\",\"anak\",\"persona\",\"essa\",\"bored\",\"following\",\"nadie\",\"nobody\",\"dice\",\"alone\",\"sick\",\"red\",\"city\",\"cinta\",\"\\u6708\",\"linda\",\"dream\",\"story\",\"km\",\"het\",\"waiting\",\"^_^\",\"mine\",\"\\u0447\\u0442\\u043e\",\"reason\",\"kk\",\"\\u0644\\u0648\",\"online\",\"fast\",\"udh\",\"wanted\",\"op\",\"others\",\"gay\",\"n\\u2019t\",\"used\",\"sem\",\"understand\",\"moi\",\"sm\",\"aint\",\"donde\",\"bem\",\"which\",\"ng\",\"followback\",\"punya\",\"late\",\"anda\",\"tidur\",\"puedo\",\"early\",\"nd\",\"personas\",\"banyak\",\"\\u2705\",\"\\u278a\",\"trust\",\"noche\",\"tl\",\"\\uff1e\",\"\\u00ab\",\"af\",\"move\",\"pro\",\"bring\",\"ku\",\"called\",\"relationship\",\"idk\",\"hurt\",\"st\",\"pernah\",\"pessoas\",\"hello\",\"uno\",\"unfollowers\",\"cry\"],\"x\":{\"__ndarray__\":\"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\",\"dtype\":\"float32\",\"order\":\"little\",\"shape\":[1000]},\"y\":{\"__ndarray__\":\"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\",\"dtype\":\"float32\",\"order\":\"little\",\"shape\":[1000]}},\"selected\":{\"id\":\"1601\"},\"selection_policy\":{\"id\":\"1600\"}},\"id\":\"1508\",\"type\":\"ColumnDataSource\"},{\"attributes\":{},\"id\":\"1596\",\"type\":\"AllLabels\"},{\"attributes\":{\"coordinates\":null,\"formatter\":{\"id\":\"1598\"},\"group\":null,\"major_label_policy\":{\"id\":\"1599\"},\"ticker\":{\"id\":\"1519\"}},\"id\":\"1518\",\"type\":\"LinearAxis\"},{\"attributes\":{},\"id\":\"1530\",\"type\":\"ResetTool\"},{\"attributes\":{\"overlay\":{\"id\":\"1532\"}},\"id\":\"1528\",\"type\":\"BoxZoomTool\"},{\"attributes\":{\"bottom_units\":\"screen\",\"coordinates\":null,\"fill_alpha\":0.5,\"fill_color\":\"lightgrey\",\"group\":null,\"left_units\":\"screen\",\"level\":\"overlay\",\"line_alpha\":1.0,\"line_color\":\"black\",\"line_dash\":[4,4],\"line_width\":2,\"right_units\":\"screen\",\"syncable\":false,\"top_units\":\"screen\"},\"id\":\"1532\",\"type\":\"BoxAnnotation\"},{\"attributes\":{},\"id\":\"1527\",\"type\":\"WheelZoomTool\"},{\"attributes\":{},\"id\":\"1599\",\"type\":\"AllLabels\"},{\"attributes\":{\"axis\":{\"id\":\"1518\"},\"coordinates\":null,\"group\":null,\"ticker\":null},\"id\":\"1521\",\"type\":\"Grid\"},{\"attributes\":{},\"id\":\"1531\",\"type\":\"HelpTool\"}],\"root_ids\":[\"1509\"]},\"title\":\"Bokeh Application\",\"version\":\"2.4.3\"}};\n",
              "  const render_items = [{\"docid\":\"047ada58-c2bc-4e96-9c38-839f76e8f429\",\"root_ids\":[\"1509\"],\"roots\":{\"1509\":\"0503a186-9ed3-4b56-a4e4-304973450661\"}}];\n",
              "  root.Bokeh.embed.embed_items_notebook(docs_json, render_items);\n",
              "  }\n",
              "  if (root.Bokeh !== undefined) {\n",
              "    embed_document(root);\n",
              "  } else {\n",
              "    let attempts = 0;\n",
              "    const timer = setInterval(function(root) {\n",
              "      if (root.Bokeh !== undefined) {\n",
              "        clearInterval(timer);\n",
              "        embed_document(root);\n",
              "      } else {\n",
              "        attempts++;\n",
              "        if (attempts > 100) {\n",
              "          clearInterval(timer);\n",
              "          console.log(\"Bokeh: ERROR: Unable to run BokehJS code because BokehJS library is missing\");\n",
              "        }\n",
              "      }\n",
              "    }, 10, root)\n",
              "  }\n",
              "})(window);"
            ],
            "application/vnd.bokehjs_exec.v0+json": ""
          },
          "metadata": {
            "application/vnd.bokehjs_exec.v0+json": {
              "id": "1509"
            }
          }
        },
        {
          "output_type": "execute_result",
          "data": {
            "text/plain": [
              "Figure(id='1509', ...)"
            ],
            "text/html": [
              "<div style=\"display: table;\"><div style=\"display: table-row;\"><div style=\"display: table-cell;\"><b title=\"bokeh.plotting.figure.Figure\">Figure</b>(</div><div style=\"display: table-cell;\">id&nbsp;=&nbsp;'1509', <span id=\"1659\" style=\"cursor: pointer;\">&hellip;)</span></div></div><div class=\"1658\" style=\"display: none;\"><div style=\"display: table-cell;\"></div><div style=\"display: table-cell;\">above&nbsp;=&nbsp;[],</div></div><div class=\"1658\" style=\"display: none;\"><div style=\"display: table-cell;\"></div><div style=\"display: table-cell;\">align&nbsp;=&nbsp;'start',</div></div><div class=\"1658\" style=\"display: none;\"><div style=\"display: table-cell;\"></div><div style=\"display: table-cell;\">aspect_ratio&nbsp;=&nbsp;None,</div></div><div class=\"1658\" style=\"display: none;\"><div style=\"display: table-cell;\"></div><div style=\"display: table-cell;\">aspect_scale&nbsp;=&nbsp;1,</div></div><div class=\"1658\" style=\"display: none;\"><div style=\"display: table-cell;\"></div><div style=\"display: table-cell;\">background&nbsp;=&nbsp;None,</div></div><div class=\"1658\" style=\"display: none;\"><div style=\"display: table-cell;\"></div><div style=\"display: table-cell;\">background_fill_alpha&nbsp;=&nbsp;1.0,</div></div><div class=\"1658\" style=\"display: none;\"><div style=\"display: table-cell;\"></div><div style=\"display: table-cell;\">background_fill_color&nbsp;=&nbsp;'#ffffff',</div></div><div class=\"1658\" style=\"display: none;\"><div style=\"display: table-cell;\"></div><div style=\"display: table-cell;\">below&nbsp;=&nbsp;[LinearAxis(id='1518', ...)],</div></div><div class=\"1658\" style=\"display: none;\"><div style=\"display: table-cell;\"></div><div style=\"display: table-cell;\">border_fill_alpha&nbsp;=&nbsp;1.0,</div></div><div class=\"1658\" style=\"display: none;\"><div style=\"display: table-cell;\"></div><div style=\"display: table-cell;\">border_fill_color&nbsp;=&nbsp;'#ffffff',</div></div><div class=\"1658\" style=\"display: none;\"><div style=\"display: table-cell;\"></div><div style=\"display: table-cell;\">center&nbsp;=&nbsp;[Grid(id='1521', ...), Grid(id='1525', ...)],</div></div><div class=\"1658\" style=\"display: none;\"><div style=\"display: table-cell;\"></div><div style=\"display: table-cell;\">css_classes&nbsp;=&nbsp;[],</div></div><div class=\"1658\" style=\"display: none;\"><div style=\"display: table-cell;\"></div><div style=\"display: table-cell;\">disabled&nbsp;=&nbsp;False,</div></div><div class=\"1658\" style=\"display: none;\"><div style=\"display: table-cell;\"></div><div style=\"display: table-cell;\">extra_x_ranges&nbsp;=&nbsp;{},</div></div><div class=\"1658\" style=\"display: none;\"><div style=\"display: table-cell;\"></div><div style=\"display: table-cell;\">extra_x_scales&nbsp;=&nbsp;{},</div></div><div class=\"1658\" style=\"display: none;\"><div style=\"display: table-cell;\"></div><div style=\"display: table-cell;\">extra_y_ranges&nbsp;=&nbsp;{},</div></div><div class=\"1658\" style=\"display: none;\"><div style=\"display: table-cell;\"></div><div style=\"display: table-cell;\">extra_y_scales&nbsp;=&nbsp;{},</div></div><div class=\"1658\" style=\"display: none;\"><div style=\"display: table-cell;\"></div><div style=\"display: table-cell;\">frame_height&nbsp;=&nbsp;None,</div></div><div class=\"1658\" style=\"display: none;\"><div style=\"display: table-cell;\"></div><div style=\"display: table-cell;\">frame_width&nbsp;=&nbsp;None,</div></div><div class=\"1658\" style=\"display: none;\"><div style=\"display: table-cell;\"></div><div style=\"display: table-cell;\">height&nbsp;=&nbsp;400,</div></div><div class=\"1658\" style=\"display: none;\"><div style=\"display: table-cell;\"></div><div style=\"display: table-cell;\">height_policy&nbsp;=&nbsp;'auto',</div></div><div class=\"1658\" style=\"display: none;\"><div style=\"display: table-cell;\"></div><div style=\"display: table-cell;\">hidpi&nbsp;=&nbsp;True,</div></div><div class=\"1658\" style=\"display: none;\"><div style=\"display: table-cell;\"></div><div style=\"display: table-cell;\">inner_height&nbsp;=&nbsp;0,</div></div><div class=\"1658\" style=\"display: none;\"><div style=\"display: table-cell;\"></div><div style=\"display: table-cell;\">inner_width&nbsp;=&nbsp;0,</div></div><div class=\"1658\" style=\"display: none;\"><div style=\"display: table-cell;\"></div><div style=\"display: table-cell;\">js_event_callbacks&nbsp;=&nbsp;{},</div></div><div class=\"1658\" style=\"display: none;\"><div style=\"display: table-cell;\"></div><div style=\"display: table-cell;\">js_property_callbacks&nbsp;=&nbsp;{},</div></div><div class=\"1658\" style=\"display: none;\"><div style=\"display: table-cell;\"></div><div style=\"display: table-cell;\">left&nbsp;=&nbsp;[LinearAxis(id='1522', ...)],</div></div><div class=\"1658\" style=\"display: none;\"><div style=\"display: table-cell;\"></div><div style=\"display: table-cell;\">lod_factor&nbsp;=&nbsp;10,</div></div><div class=\"1658\" style=\"display: none;\"><div style=\"display: table-cell;\"></div><div style=\"display: table-cell;\">lod_interval&nbsp;=&nbsp;300,</div></div><div class=\"1658\" style=\"display: none;\"><div style=\"display: table-cell;\"></div><div style=\"display: table-cell;\">lod_threshold&nbsp;=&nbsp;2000,</div></div><div class=\"1658\" style=\"display: none;\"><div style=\"display: table-cell;\"></div><div style=\"display: table-cell;\">lod_timeout&nbsp;=&nbsp;500,</div></div><div class=\"1658\" style=\"display: none;\"><div style=\"display: table-cell;\"></div><div style=\"display: table-cell;\">margin&nbsp;=&nbsp;(0, 0, 0, 0),</div></div><div class=\"1658\" style=\"display: none;\"><div style=\"display: table-cell;\"></div><div style=\"display: table-cell;\">match_aspect&nbsp;=&nbsp;False,</div></div><div class=\"1658\" style=\"display: none;\"><div style=\"display: table-cell;\"></div><div style=\"display: table-cell;\">max_height&nbsp;=&nbsp;None,</div></div><div class=\"1658\" style=\"display: none;\"><div style=\"display: table-cell;\"></div><div style=\"display: table-cell;\">max_width&nbsp;=&nbsp;None,</div></div><div class=\"1658\" style=\"display: none;\"><div style=\"display: table-cell;\"></div><div style=\"display: table-cell;\">min_border&nbsp;=&nbsp;5,</div></div><div class=\"1658\" style=\"display: none;\"><div style=\"display: table-cell;\"></div><div style=\"display: table-cell;\">min_border_bottom&nbsp;=&nbsp;None,</div></div><div class=\"1658\" style=\"display: none;\"><div style=\"display: table-cell;\"></div><div style=\"display: table-cell;\">min_border_left&nbsp;=&nbsp;None,</div></div><div class=\"1658\" style=\"display: none;\"><div style=\"display: table-cell;\"></div><div style=\"display: table-cell;\">min_border_right&nbsp;=&nbsp;None,</div></div><div class=\"1658\" style=\"display: none;\"><div style=\"display: table-cell;\"></div><div style=\"display: table-cell;\">min_border_top&nbsp;=&nbsp;None,</div></div><div class=\"1658\" style=\"display: none;\"><div style=\"display: table-cell;\"></div><div style=\"display: table-cell;\">min_height&nbsp;=&nbsp;None,</div></div><div class=\"1658\" style=\"display: none;\"><div style=\"display: table-cell;\"></div><div style=\"display: table-cell;\">min_width&nbsp;=&nbsp;None,</div></div><div class=\"1658\" style=\"display: none;\"><div style=\"display: table-cell;\"></div><div style=\"display: table-cell;\">name&nbsp;=&nbsp;None,</div></div><div class=\"1658\" style=\"display: none;\"><div style=\"display: table-cell;\"></div><div style=\"display: table-cell;\">outer_height&nbsp;=&nbsp;0,</div></div><div class=\"1658\" style=\"display: none;\"><div style=\"display: table-cell;\"></div><div style=\"display: table-cell;\">outer_width&nbsp;=&nbsp;0,</div></div><div class=\"1658\" style=\"display: none;\"><div style=\"display: table-cell;\"></div><div style=\"display: table-cell;\">outline_line_alpha&nbsp;=&nbsp;1.0,</div></div><div class=\"1658\" style=\"display: none;\"><div style=\"display: table-cell;\"></div><div style=\"display: table-cell;\">outline_line_cap&nbsp;=&nbsp;'butt',</div></div><div class=\"1658\" style=\"display: none;\"><div style=\"display: table-cell;\"></div><div style=\"display: table-cell;\">outline_line_color&nbsp;=&nbsp;'#e5e5e5',</div></div><div class=\"1658\" style=\"display: none;\"><div style=\"display: table-cell;\"></div><div style=\"display: table-cell;\">outline_line_dash&nbsp;=&nbsp;[],</div></div><div class=\"1658\" style=\"display: none;\"><div style=\"display: table-cell;\"></div><div style=\"display: table-cell;\">outline_line_dash_offset&nbsp;=&nbsp;0,</div></div><div class=\"1658\" style=\"display: none;\"><div style=\"display: table-cell;\"></div><div style=\"display: table-cell;\">outline_line_join&nbsp;=&nbsp;'bevel',</div></div><div class=\"1658\" style=\"display: none;\"><div style=\"display: table-cell;\"></div><div style=\"display: table-cell;\">outline_line_width&nbsp;=&nbsp;1,</div></div><div class=\"1658\" style=\"display: none;\"><div style=\"display: table-cell;\"></div><div style=\"display: table-cell;\">output_backend&nbsp;=&nbsp;'canvas',</div></div><div class=\"1658\" style=\"display: none;\"><div style=\"display: table-cell;\"></div><div style=\"display: table-cell;\">renderers&nbsp;=&nbsp;[GlyphRenderer(id='1544', ...)],</div></div><div class=\"1658\" style=\"display: none;\"><div style=\"display: table-cell;\"></div><div style=\"display: table-cell;\">reset_policy&nbsp;=&nbsp;'standard',</div></div><div class=\"1658\" style=\"display: none;\"><div style=\"display: table-cell;\"></div><div style=\"display: table-cell;\">right&nbsp;=&nbsp;[],</div></div><div class=\"1658\" style=\"display: none;\"><div style=\"display: table-cell;\"></div><div style=\"display: table-cell;\">sizing_mode&nbsp;=&nbsp;None,</div></div><div class=\"1658\" style=\"display: none;\"><div style=\"display: table-cell;\"></div><div style=\"display: table-cell;\">subscribed_events&nbsp;=&nbsp;[],</div></div><div class=\"1658\" style=\"display: none;\"><div style=\"display: table-cell;\"></div><div style=\"display: table-cell;\">syncable&nbsp;=&nbsp;True,</div></div><div class=\"1658\" style=\"display: none;\"><div style=\"display: table-cell;\"></div><div style=\"display: table-cell;\">tags&nbsp;=&nbsp;[],</div></div><div class=\"1658\" style=\"display: none;\"><div style=\"display: table-cell;\"></div><div style=\"display: table-cell;\">title&nbsp;=&nbsp;Title(id='1592', ...),</div></div><div class=\"1658\" style=\"display: none;\"><div style=\"display: table-cell;\"></div><div style=\"display: table-cell;\">title_location&nbsp;=&nbsp;'above',</div></div><div class=\"1658\" style=\"display: none;\"><div style=\"display: table-cell;\"></div><div style=\"display: table-cell;\">toolbar&nbsp;=&nbsp;Toolbar(id='1533', ...),</div></div><div class=\"1658\" style=\"display: none;\"><div style=\"display: table-cell;\"></div><div style=\"display: table-cell;\">toolbar_location&nbsp;=&nbsp;'right',</div></div><div class=\"1658\" style=\"display: none;\"><div style=\"display: table-cell;\"></div><div style=\"display: table-cell;\">toolbar_sticky&nbsp;=&nbsp;True,</div></div><div class=\"1658\" style=\"display: none;\"><div style=\"display: table-cell;\"></div><div style=\"display: table-cell;\">visible&nbsp;=&nbsp;True,</div></div><div class=\"1658\" style=\"display: none;\"><div style=\"display: table-cell;\"></div><div style=\"display: table-cell;\">width&nbsp;=&nbsp;600,</div></div><div class=\"1658\" style=\"display: none;\"><div style=\"display: table-cell;\"></div><div style=\"display: table-cell;\">width_policy&nbsp;=&nbsp;'auto',</div></div><div class=\"1658\" style=\"display: none;\"><div style=\"display: table-cell;\"></div><div style=\"display: table-cell;\">x_range&nbsp;=&nbsp;DataRange1d(id='1510', ...),</div></div><div class=\"1658\" style=\"display: none;\"><div style=\"display: table-cell;\"></div><div style=\"display: table-cell;\">x_scale&nbsp;=&nbsp;LinearScale(id='1514', ...),</div></div><div class=\"1658\" style=\"display: none;\"><div style=\"display: table-cell;\"></div><div style=\"display: table-cell;\">y_range&nbsp;=&nbsp;DataRange1d(id='1512', ...),</div></div><div class=\"1658\" style=\"display: none;\"><div style=\"display: table-cell;\"></div><div style=\"display: table-cell;\">y_scale&nbsp;=&nbsp;LinearScale(id='1516', ...))</div></div></div>\n",
              "<script>\n",
              "(function() {\n",
              "  let expanded = false;\n",
              "  const ellipsis = document.getElementById(\"1659\");\n",
              "  ellipsis.addEventListener(\"click\", function() {\n",
              "    const rows = document.getElementsByClassName(\"1658\");\n",
              "    for (let i = 0; i < rows.length; i++) {\n",
              "      const el = rows[i];\n",
              "      el.style.display = expanded ? \"none\" : \"table-row\";\n",
              "    }\n",
              "    ellipsis.innerHTML = expanded ? \"&hellip;)\" : \"&lsaquo;&lsaquo;&lsaquo;\";\n",
              "    expanded = !expanded;\n",
              "  });\n",
              "})();\n",
              "</script>\n"
            ]
          },
          "metadata": {},
          "execution_count": 219
        }
      ]
    },
    {
      "cell_type": "markdown",
      "source": [
        "## t-SNE (t-distributed Stochastic neighbour embedding)"
      ],
      "metadata": {
        "id": "CN0_Lw-gFHQy"
      }
    },
    {
      "cell_type": "code",
      "source": [
        "tsne = TSNE(n_components=2)\n",
        "tsne_result  = tsne.fit_transform(words_array)"
      ],
      "metadata": {
        "id": "9D2jNhrBFpTu"
      },
      "execution_count": null,
      "outputs": []
    },
    {
      "cell_type": "code",
      "source": [
        "draw_vectors(tsne_result[:, 0], tsne_result[:, 1], color='green', token=words)"
      ],
      "metadata": {
        "colab": {
          "base_uri": "https://localhost:8080/",
          "height": 434
        },
        "id": "vnug1noj6q10",
        "outputId": "b446d819-729d-46f8-e3dd-fbc738669fb0"
      },
      "execution_count": null,
      "outputs": [
        {
          "output_type": "display_data",
          "data": {
            "application/javascript": [
              "(function(root) {\n",
              "  function now() {\n",
              "    return new Date();\n",
              "  }\n",
              "\n",
              "  const force = true;\n",
              "\n",
              "  if (typeof root._bokeh_onload_callbacks === \"undefined\" || force === true) {\n",
              "    root._bokeh_onload_callbacks = [];\n",
              "    root._bokeh_is_loading = undefined;\n",
              "  }\n",
              "\n",
              "const JS_MIME_TYPE = 'application/javascript';\n",
              "  const HTML_MIME_TYPE = 'text/html';\n",
              "  const EXEC_MIME_TYPE = 'application/vnd.bokehjs_exec.v0+json';\n",
              "  const CLASS_NAME = 'output_bokeh rendered_html';\n",
              "\n",
              "  /**\n",
              "   * Render data to the DOM node\n",
              "   */\n",
              "  function render(props, node) {\n",
              "    const script = document.createElement(\"script\");\n",
              "    node.appendChild(script);\n",
              "  }\n",
              "\n",
              "  /**\n",
              "   * Handle when an output is cleared or removed\n",
              "   */\n",
              "  function handleClearOutput(event, handle) {\n",
              "    const cell = handle.cell;\n",
              "\n",
              "    const id = cell.output_area._bokeh_element_id;\n",
              "    const server_id = cell.output_area._bokeh_server_id;\n",
              "    // Clean up Bokeh references\n",
              "    if (id != null && id in Bokeh.index) {\n",
              "      Bokeh.index[id].model.document.clear();\n",
              "      delete Bokeh.index[id];\n",
              "    }\n",
              "\n",
              "    if (server_id !== undefined) {\n",
              "      // Clean up Bokeh references\n",
              "      const cmd_clean = \"from bokeh.io.state import curstate; print(curstate().uuid_to_server['\" + server_id + \"'].get_sessions()[0].document.roots[0]._id)\";\n",
              "      cell.notebook.kernel.execute(cmd_clean, {\n",
              "        iopub: {\n",
              "          output: function(msg) {\n",
              "            const id = msg.content.text.trim();\n",
              "            if (id in Bokeh.index) {\n",
              "              Bokeh.index[id].model.document.clear();\n",
              "              delete Bokeh.index[id];\n",
              "            }\n",
              "          }\n",
              "        }\n",
              "      });\n",
              "      // Destroy server and session\n",
              "      const cmd_destroy = \"import bokeh.io.notebook as ion; ion.destroy_server('\" + server_id + \"')\";\n",
              "      cell.notebook.kernel.execute(cmd_destroy);\n",
              "    }\n",
              "  }\n",
              "\n",
              "  /**\n",
              "   * Handle when a new output is added\n",
              "   */\n",
              "  function handleAddOutput(event, handle) {\n",
              "    const output_area = handle.output_area;\n",
              "    const output = handle.output;\n",
              "\n",
              "    // limit handleAddOutput to display_data with EXEC_MIME_TYPE content only\n",
              "    if ((output.output_type != \"display_data\") || (!Object.prototype.hasOwnProperty.call(output.data, EXEC_MIME_TYPE))) {\n",
              "      return\n",
              "    }\n",
              "\n",
              "    const toinsert = output_area.element.find(\".\" + CLASS_NAME.split(' ')[0]);\n",
              "\n",
              "    if (output.metadata[EXEC_MIME_TYPE][\"id\"] !== undefined) {\n",
              "      toinsert[toinsert.length - 1].firstChild.textContent = output.data[JS_MIME_TYPE];\n",
              "      // store reference to embed id on output_area\n",
              "      output_area._bokeh_element_id = output.metadata[EXEC_MIME_TYPE][\"id\"];\n",
              "    }\n",
              "    if (output.metadata[EXEC_MIME_TYPE][\"server_id\"] !== undefined) {\n",
              "      const bk_div = document.createElement(\"div\");\n",
              "      bk_div.innerHTML = output.data[HTML_MIME_TYPE];\n",
              "      const script_attrs = bk_div.children[0].attributes;\n",
              "      for (let i = 0; i < script_attrs.length; i++) {\n",
              "        toinsert[toinsert.length - 1].firstChild.setAttribute(script_attrs[i].name, script_attrs[i].value);\n",
              "        toinsert[toinsert.length - 1].firstChild.textContent = bk_div.children[0].textContent\n",
              "      }\n",
              "      // store reference to server id on output_area\n",
              "      output_area._bokeh_server_id = output.metadata[EXEC_MIME_TYPE][\"server_id\"];\n",
              "    }\n",
              "  }\n",
              "\n",
              "  function register_renderer(events, OutputArea) {\n",
              "\n",
              "    function append_mime(data, metadata, element) {\n",
              "      // create a DOM node to render to\n",
              "      const toinsert = this.create_output_subarea(\n",
              "        metadata,\n",
              "        CLASS_NAME,\n",
              "        EXEC_MIME_TYPE\n",
              "      );\n",
              "      this.keyboard_manager.register_events(toinsert);\n",
              "      // Render to node\n",
              "      const props = {data: data, metadata: metadata[EXEC_MIME_TYPE]};\n",
              "      render(props, toinsert[toinsert.length - 1]);\n",
              "      element.append(toinsert);\n",
              "      return toinsert\n",
              "    }\n",
              "\n",
              "    /* Handle when an output is cleared or removed */\n",
              "    events.on('clear_output.CodeCell', handleClearOutput);\n",
              "    events.on('delete.Cell', handleClearOutput);\n",
              "\n",
              "    /* Handle when a new output is added */\n",
              "    events.on('output_added.OutputArea', handleAddOutput);\n",
              "\n",
              "    /**\n",
              "     * Register the mime type and append_mime function with output_area\n",
              "     */\n",
              "    OutputArea.prototype.register_mime_type(EXEC_MIME_TYPE, append_mime, {\n",
              "      /* Is output safe? */\n",
              "      safe: true,\n",
              "      /* Index of renderer in `output_area.display_order` */\n",
              "      index: 0\n",
              "    });\n",
              "  }\n",
              "\n",
              "  // register the mime type if in Jupyter Notebook environment and previously unregistered\n",
              "  if (root.Jupyter !== undefined) {\n",
              "    const events = require('base/js/events');\n",
              "    const OutputArea = require('notebook/js/outputarea').OutputArea;\n",
              "\n",
              "    if (OutputArea.prototype.mime_types().indexOf(EXEC_MIME_TYPE) == -1) {\n",
              "      register_renderer(events, OutputArea);\n",
              "    }\n",
              "  }\n",
              "  if (typeof (root._bokeh_timeout) === \"undefined\" || force === true) {\n",
              "    root._bokeh_timeout = Date.now() + 5000;\n",
              "    root._bokeh_failed_load = false;\n",
              "  }\n",
              "\n",
              "  const NB_LOAD_WARNING = {'data': {'text/html':\n",
              "     \"<div style='background-color: #fdd'>\\n\"+\n",
              "     \"<p>\\n\"+\n",
              "     \"BokehJS does not appear to have successfully loaded. If loading BokehJS from CDN, this \\n\"+\n",
              "     \"may be due to a slow or bad network connection. Possible fixes:\\n\"+\n",
              "     \"</p>\\n\"+\n",
              "     \"<ul>\\n\"+\n",
              "     \"<li>re-rerun `output_notebook()` to attempt to load from CDN again, or</li>\\n\"+\n",
              "     \"<li>use INLINE resources instead, as so:</li>\\n\"+\n",
              "     \"</ul>\\n\"+\n",
              "     \"<code>\\n\"+\n",
              "     \"from bokeh.resources import INLINE\\n\"+\n",
              "     \"output_notebook(resources=INLINE)\\n\"+\n",
              "     \"</code>\\n\"+\n",
              "     \"</div>\"}};\n",
              "\n",
              "  function display_loaded() {\n",
              "    const el = document.getElementById(null);\n",
              "    if (el != null) {\n",
              "      el.textContent = \"BokehJS is loading...\";\n",
              "    }\n",
              "    if (root.Bokeh !== undefined) {\n",
              "      if (el != null) {\n",
              "        el.textContent = \"BokehJS \" + root.Bokeh.version + \" successfully loaded.\";\n",
              "      }\n",
              "    } else if (Date.now() < root._bokeh_timeout) {\n",
              "      setTimeout(display_loaded, 100)\n",
              "    }\n",
              "  }\n",
              "\n",
              "  function run_callbacks() {\n",
              "    try {\n",
              "      root._bokeh_onload_callbacks.forEach(function(callback) {\n",
              "        if (callback != null)\n",
              "          callback();\n",
              "      });\n",
              "    } finally {\n",
              "      delete root._bokeh_onload_callbacks\n",
              "    }\n",
              "    console.debug(\"Bokeh: all callbacks have finished\");\n",
              "  }\n",
              "\n",
              "  function load_libs(css_urls, js_urls, callback) {\n",
              "    if (css_urls == null) css_urls = [];\n",
              "    if (js_urls == null) js_urls = [];\n",
              "\n",
              "    root._bokeh_onload_callbacks.push(callback);\n",
              "    if (root._bokeh_is_loading > 0) {\n",
              "      console.debug(\"Bokeh: BokehJS is being loaded, scheduling callback at\", now());\n",
              "      return null;\n",
              "    }\n",
              "    if (js_urls == null || js_urls.length === 0) {\n",
              "      run_callbacks();\n",
              "      return null;\n",
              "    }\n",
              "    console.debug(\"Bokeh: BokehJS not loaded, scheduling load and callback at\", now());\n",
              "    root._bokeh_is_loading = css_urls.length + js_urls.length;\n",
              "\n",
              "    function on_load() {\n",
              "      root._bokeh_is_loading--;\n",
              "      if (root._bokeh_is_loading === 0) {\n",
              "        console.debug(\"Bokeh: all BokehJS libraries/stylesheets loaded\");\n",
              "        run_callbacks()\n",
              "      }\n",
              "    }\n",
              "\n",
              "    function on_error(url) {\n",
              "      console.error(\"failed to load \" + url);\n",
              "    }\n",
              "\n",
              "    for (let i = 0; i < css_urls.length; i++) {\n",
              "      const url = css_urls[i];\n",
              "      const element = document.createElement(\"link\");\n",
              "      element.onload = on_load;\n",
              "      element.onerror = on_error.bind(null, url);\n",
              "      element.rel = \"stylesheet\";\n",
              "      element.type = \"text/css\";\n",
              "      element.href = url;\n",
              "      console.debug(\"Bokeh: injecting link tag for BokehJS stylesheet: \", url);\n",
              "      document.body.appendChild(element);\n",
              "    }\n",
              "\n",
              "    for (let i = 0; i < js_urls.length; i++) {\n",
              "      const url = js_urls[i];\n",
              "      const element = document.createElement('script');\n",
              "      element.onload = on_load;\n",
              "      element.onerror = on_error.bind(null, url);\n",
              "      element.async = false;\n",
              "      element.src = url;\n",
              "      console.debug(\"Bokeh: injecting script tag for BokehJS library: \", url);\n",
              "      document.head.appendChild(element);\n",
              "    }\n",
              "  };\n",
              "\n",
              "  function inject_raw_css(css) {\n",
              "    const element = document.createElement(\"style\");\n",
              "    element.appendChild(document.createTextNode(css));\n",
              "    document.body.appendChild(element);\n",
              "  }\n",
              "\n",
              "  const js_urls = [\"https://cdn.bokeh.org/bokeh/release/bokeh-2.4.3.min.js\", \"https://cdn.bokeh.org/bokeh/release/bokeh-gl-2.4.3.min.js\", \"https://cdn.bokeh.org/bokeh/release/bokeh-widgets-2.4.3.min.js\", \"https://cdn.bokeh.org/bokeh/release/bokeh-tables-2.4.3.min.js\", \"https://cdn.bokeh.org/bokeh/release/bokeh-mathjax-2.4.3.min.js\"];\n",
              "  const css_urls = [];\n",
              "\n",
              "  const inline_js = [    function(Bokeh) {\n",
              "      Bokeh.set_log_level(\"info\");\n",
              "    },\n",
              "function(Bokeh) {\n",
              "    }\n",
              "  ];\n",
              "\n",
              "  function run_inline_js() {\n",
              "    if (root.Bokeh !== undefined || force === true) {\n",
              "          for (let i = 0; i < inline_js.length; i++) {\n",
              "      inline_js[i].call(root, root.Bokeh);\n",
              "    }\n",
              "} else if (Date.now() < root._bokeh_timeout) {\n",
              "      setTimeout(run_inline_js, 100);\n",
              "    } else if (!root._bokeh_failed_load) {\n",
              "      console.log(\"Bokeh: BokehJS failed to load within specified timeout.\");\n",
              "      root._bokeh_failed_load = true;\n",
              "    } else if (force !== true) {\n",
              "      const cell = $(document.getElementById(null)).parents('.cell').data().cell;\n",
              "      cell.output_area.append_execute_result(NB_LOAD_WARNING)\n",
              "    }\n",
              "  }\n",
              "\n",
              "  if (root._bokeh_is_loading === 0) {\n",
              "    console.debug(\"Bokeh: BokehJS loaded, going straight to plotting\");\n",
              "    run_inline_js();\n",
              "  } else {\n",
              "    load_libs(css_urls, js_urls, function() {\n",
              "      console.debug(\"Bokeh: BokehJS plotting callback run at\", now());\n",
              "      run_inline_js();\n",
              "    });\n",
              "  }\n",
              "}(window));"
            ],
            "application/vnd.bokehjs_load.v0+json": "(function(root) {\n  function now() {\n    return new Date();\n  }\n\n  const force = true;\n\n  if (typeof root._bokeh_onload_callbacks === \"undefined\" || force === true) {\n    root._bokeh_onload_callbacks = [];\n    root._bokeh_is_loading = undefined;\n  }\n\n\n  if (typeof (root._bokeh_timeout) === \"undefined\" || force === true) {\n    root._bokeh_timeout = Date.now() + 5000;\n    root._bokeh_failed_load = false;\n  }\n\n  const NB_LOAD_WARNING = {'data': {'text/html':\n     \"<div style='background-color: #fdd'>\\n\"+\n     \"<p>\\n\"+\n     \"BokehJS does not appear to have successfully loaded. If loading BokehJS from CDN, this \\n\"+\n     \"may be due to a slow or bad network connection. Possible fixes:\\n\"+\n     \"</p>\\n\"+\n     \"<ul>\\n\"+\n     \"<li>re-rerun `output_notebook()` to attempt to load from CDN again, or</li>\\n\"+\n     \"<li>use INLINE resources instead, as so:</li>\\n\"+\n     \"</ul>\\n\"+\n     \"<code>\\n\"+\n     \"from bokeh.resources import INLINE\\n\"+\n     \"output_notebook(resources=INLINE)\\n\"+\n     \"</code>\\n\"+\n     \"</div>\"}};\n\n  function display_loaded() {\n    const el = document.getElementById(null);\n    if (el != null) {\n      el.textContent = \"BokehJS is loading...\";\n    }\n    if (root.Bokeh !== undefined) {\n      if (el != null) {\n        el.textContent = \"BokehJS \" + root.Bokeh.version + \" successfully loaded.\";\n      }\n    } else if (Date.now() < root._bokeh_timeout) {\n      setTimeout(display_loaded, 100)\n    }\n  }\n\n  function run_callbacks() {\n    try {\n      root._bokeh_onload_callbacks.forEach(function(callback) {\n        if (callback != null)\n          callback();\n      });\n    } finally {\n      delete root._bokeh_onload_callbacks\n    }\n    console.debug(\"Bokeh: all callbacks have finished\");\n  }\n\n  function load_libs(css_urls, js_urls, callback) {\n    if (css_urls == null) css_urls = [];\n    if (js_urls == null) js_urls = [];\n\n    root._bokeh_onload_callbacks.push(callback);\n    if (root._bokeh_is_loading > 0) {\n      console.debug(\"Bokeh: BokehJS is being loaded, scheduling callback at\", now());\n      return null;\n    }\n    if (js_urls == null || js_urls.length === 0) {\n      run_callbacks();\n      return null;\n    }\n    console.debug(\"Bokeh: BokehJS not loaded, scheduling load and callback at\", now());\n    root._bokeh_is_loading = css_urls.length + js_urls.length;\n\n    function on_load() {\n      root._bokeh_is_loading--;\n      if (root._bokeh_is_loading === 0) {\n        console.debug(\"Bokeh: all BokehJS libraries/stylesheets loaded\");\n        run_callbacks()\n      }\n    }\n\n    function on_error(url) {\n      console.error(\"failed to load \" + url);\n    }\n\n    for (let i = 0; i < css_urls.length; i++) {\n      const url = css_urls[i];\n      const element = document.createElement(\"link\");\n      element.onload = on_load;\n      element.onerror = on_error.bind(null, url);\n      element.rel = \"stylesheet\";\n      element.type = \"text/css\";\n      element.href = url;\n      console.debug(\"Bokeh: injecting link tag for BokehJS stylesheet: \", url);\n      document.body.appendChild(element);\n    }\n\n    for (let i = 0; i < js_urls.length; i++) {\n      const url = js_urls[i];\n      const element = document.createElement('script');\n      element.onload = on_load;\n      element.onerror = on_error.bind(null, url);\n      element.async = false;\n      element.src = url;\n      console.debug(\"Bokeh: injecting script tag for BokehJS library: \", url);\n      document.head.appendChild(element);\n    }\n  };\n\n  function inject_raw_css(css) {\n    const element = document.createElement(\"style\");\n    element.appendChild(document.createTextNode(css));\n    document.body.appendChild(element);\n  }\n\n  const js_urls = [\"https://cdn.bokeh.org/bokeh/release/bokeh-2.4.3.min.js\", \"https://cdn.bokeh.org/bokeh/release/bokeh-gl-2.4.3.min.js\", \"https://cdn.bokeh.org/bokeh/release/bokeh-widgets-2.4.3.min.js\", \"https://cdn.bokeh.org/bokeh/release/bokeh-tables-2.4.3.min.js\", \"https://cdn.bokeh.org/bokeh/release/bokeh-mathjax-2.4.3.min.js\"];\n  const css_urls = [];\n\n  const inline_js = [    function(Bokeh) {\n      Bokeh.set_log_level(\"info\");\n    },\nfunction(Bokeh) {\n    }\n  ];\n\n  function run_inline_js() {\n    if (root.Bokeh !== undefined || force === true) {\n          for (let i = 0; i < inline_js.length; i++) {\n      inline_js[i].call(root, root.Bokeh);\n    }\n} else if (Date.now() < root._bokeh_timeout) {\n      setTimeout(run_inline_js, 100);\n    } else if (!root._bokeh_failed_load) {\n      console.log(\"Bokeh: BokehJS failed to load within specified timeout.\");\n      root._bokeh_failed_load = true;\n    } else if (force !== true) {\n      const cell = $(document.getElementById(null)).parents('.cell').data().cell;\n      cell.output_area.append_execute_result(NB_LOAD_WARNING)\n    }\n  }\n\n  if (root._bokeh_is_loading === 0) {\n    console.debug(\"Bokeh: BokehJS loaded, going straight to plotting\");\n    run_inline_js();\n  } else {\n    load_libs(css_urls, js_urls, function() {\n      console.debug(\"Bokeh: BokehJS plotting callback run at\", now());\n      run_inline_js();\n    });\n  }\n}(window));"
          },
          "metadata": {}
        },
        {
          "output_type": "display_data",
          "data": {
            "text/html": [
              "\n",
              "  <div class=\"bk-root\" id=\"271852b0-d3d3-4963-8990-17c9055d1ca5\" data-root-id=\"1234\"></div>\n"
            ]
          },
          "metadata": {}
        },
        {
          "output_type": "display_data",
          "data": {
            "application/javascript": [
              "(function(root) {\n",
              "  function embed_document(root) {\n",
              "  const docs_json = {\"0c294c36-4c91-4487-8256-f9ba2c581c17\":{\"defs\":[],\"roots\":{\"references\":[{\"attributes\":{\"below\":[{\"id\":\"1243\"}],\"center\":[{\"id\":\"1246\"},{\"id\":\"1250\"}],\"height\":400,\"left\":[{\"id\":\"1247\"}],\"renderers\":[{\"id\":\"1269\"}],\"title\":{\"id\":\"1295\"},\"toolbar\":{\"id\":\"1258\"},\"x_range\":{\"id\":\"1235\"},\"x_scale\":{\"id\":\"1239\"},\"y_range\":{\"id\":\"1237\"},\"y_scale\":{\"id\":\"1241\"}},\"id\":\"1234\",\"subtype\":\"Figure\",\"type\":\"Plot\"},{\"attributes\":{\"coordinates\":null,\"group\":null},\"id\":\"1295\",\"type\":\"Title\"},{\"attributes\":{\"axis\":{\"id\":\"1243\"},\"coordinates\":null,\"group\":null,\"ticker\":null},\"id\":\"1246\",\"type\":\"Grid\"},{\"attributes\":{\"coordinates\":null,\"formatter\":{\"id\":\"1301\"},\"group\":null,\"major_label_policy\":{\"id\":\"1302\"},\"ticker\":{\"id\":\"1244\"}},\"id\":\"1243\",\"type\":\"LinearAxis\"},{\"attributes\":{\"callback\":null,\"tooltips\":[[\"token\",\"@token\"]]},\"id\":\"1271\",\"type\":\"HoverTool\"},{\"attributes\":{\"coordinates\":null,\"data_source\":{\"id\":\"1233\"},\"glyph\":{\"id\":\"1266\"},\"group\":null,\"hover_glyph\":null,\"muted_glyph\":{\"id\":\"1268\"},\"nonselection_glyph\":{\"id\":\"1267\"},\"view\":{\"id\":\"1270\"}},\"id\":\"1269\",\"type\":\"GlyphRenderer\"},{\"attributes\":{},\"id\":\"1235\",\"type\":\"DataRange1d\"},{\"attributes\":{\"bottom_units\":\"screen\",\"coordinates\":null,\"fill_alpha\":0.5,\"fill_color\":\"lightgrey\",\"group\":null,\"left_units\":\"screen\",\"level\":\"overlay\",\"line_alpha\":1.0,\"line_color\":\"black\",\"line_dash\":[4,4],\"line_width\":2,\"right_units\":\"screen\",\"syncable\":false,\"top_units\":\"screen\"},\"id\":\"1257\",\"type\":\"BoxAnnotation\"},{\"attributes\":{},\"id\":\"1304\",\"type\":\"Selection\"},{\"attributes\":{\"fill_alpha\":{\"value\":0.1},\"fill_color\":{\"field\":\"color\"},\"hatch_alpha\":{\"value\":0.1},\"hatch_color\":{\"field\":\"color\"},\"line_alpha\":{\"value\":0.1},\"line_color\":{\"field\":\"color\"},\"size\":{\"value\":10},\"x\":{\"field\":\"x\"},\"y\":{\"field\":\"y\"}},\"id\":\"1267\",\"type\":\"Scatter\"},{\"attributes\":{},\"id\":\"1298\",\"type\":\"BasicTickFormatter\"},{\"attributes\":{\"fill_alpha\":{\"value\":0.2},\"fill_color\":{\"field\":\"color\"},\"hatch_alpha\":{\"value\":0.2},\"hatch_color\":{\"field\":\"color\"},\"line_alpha\":{\"value\":0.2},\"line_color\":{\"field\":\"color\"},\"size\":{\"value\":10},\"x\":{\"field\":\"x\"},\"y\":{\"field\":\"y\"}},\"id\":\"1268\",\"type\":\"Scatter\"},{\"attributes\":{},\"id\":\"1299\",\"type\":\"AllLabels\"},{\"attributes\":{},\"id\":\"1255\",\"type\":\"ResetTool\"},{\"attributes\":{},\"id\":\"1256\",\"type\":\"HelpTool\"},{\"attributes\":{},\"id\":\"1301\",\"type\":\"BasicTickFormatter\"},{\"attributes\":{},\"id\":\"1254\",\"type\":\"SaveTool\"},{\"attributes\":{},\"id\":\"1251\",\"type\":\"PanTool\"},{\"attributes\":{\"overlay\":{\"id\":\"1257\"}},\"id\":\"1253\",\"type\":\"BoxZoomTool\"},{\"attributes\":{},\"id\":\"1252\",\"type\":\"WheelZoomTool\"},{\"attributes\":{},\"id\":\"1303\",\"type\":\"UnionRenderers\"},{\"attributes\":{\"coordinates\":null,\"formatter\":{\"id\":\"1298\"},\"group\":null,\"major_label_policy\":{\"id\":\"1299\"},\"ticker\":{\"id\":\"1248\"}},\"id\":\"1247\",\"type\":\"LinearAxis\"},{\"attributes\":{\"active_scroll\":{\"id\":\"1252\"},\"tools\":[{\"id\":\"1251\"},{\"id\":\"1252\"},{\"id\":\"1253\"},{\"id\":\"1254\"},{\"id\":\"1255\"},{\"id\":\"1256\"},{\"id\":\"1271\"}]},\"id\":\"1258\",\"type\":\"Toolbar\"},{\"attributes\":{},\"id\":\"1244\",\"type\":\"BasicTicker\"},{\"attributes\":{\"axis\":{\"id\":\"1247\"},\"coordinates\":null,\"dimension\":1,\"group\":null,\"ticker\":null},\"id\":\"1250\",\"type\":\"Grid\"},{\"attributes\":{\"data\":{\"color\":[\"green\",\"green\",\"green\",\"green\",\"green\",\"green\",\"green\",\"green\",\"green\",\"green\",\"green\",\"green\",\"green\",\"green\",\"green\",\"green\",\"green\",\"green\",\"green\",\"green\",\"green\",\"green\",\"green\",\"green\",\"green\",\"green\",\"green\",\"green\",\"green\",\"green\",\"green\",\"green\",\"green\",\"green\",\"green\",\"green\",\"green\",\"green\",\"green\",\"green\",\"green\",\"green\",\"green\",\"green\",\"green\",\"green\",\"green\",\"green\",\"green\",\"green\",\"green\",\"green\",\"green\",\"green\",\"green\",\"green\",\"green\",\"green\",\"green\",\"green\",\"green\",\"green\",\"green\",\"green\",\"green\",\"green\",\"green\",\"green\",\"green\",\"green\",\"green\",\"green\",\"green\",\"green\",\"green\",\"green\",\"green\",\"green\",\"green\",\"green\",\"green\",\"green\",\"green\",\"green\",\"green\",\"green\",\"green\",\"green\",\"green\",\"green\",\"green\",\"green\",\"green\",\"green\",\"green\",\"green\",\"green\",\"green\",\"green\",\"green\",\"green\",\"green\",\"green\",\"green\",\"green\",\"green\",\"green\",\"green\",\"green\",\"green\",\"green\",\"green\",\"green\",\"green\",\"green\",\"green\",\"green\",\"green\",\"green\",\"green\",\"green\",\"green\",\"green\",\"green\",\"green\",\"green\",\"green\",\"green\",\"green\",\"green\",\"green\",\"green\",\"green\",\"green\",\"green\",\"green\",\"green\",\"green\",\"green\",\"green\",\"green\",\"green\",\"green\",\"green\",\"green\",\"green\",\"green\",\"green\",\"green\",\"green\",\"green\",\"green\",\"green\",\"green\",\"green\",\"green\",\"green\",\"green\",\"green\",\"green\",\"green\",\"green\",\"green\",\"green\",\"green\",\"green\",\"green\",\"green\",\"green\",\"green\",\"green\",\"green\",\"green\",\"green\",\"green\",\"green\",\"green\",\"green\",\"green\",\"green\",\"green\",\"green\",\"green\",\"green\",\"green\",\"green\",\"green\",\"green\",\"green\",\"green\",\"green\",\"green\",\"green\",\"green\",\"green\",\"green\",\"green\",\"green\",\"green\",\"green\",\"green\",\"green\",\"green\",\"green\",\"green\",\"green\",\"green\",\"green\",\"green\",\"green\",\"green\",\"green\",\"green\",\"green\",\"green\",\"green\",\"green\",\"green\",\"green\",\"green\",\"green\",\"green\",\"green\",\"green\",\"green\",\"green\",\"green\",\"green\",\"green\",\"green\",\"green\",\"green\",\"green\",\"green\",\"green\",\"green\",\"green\",\"green\",\"green\",\"green\",\"green\",\"green\",\"green\",\"green\",\"green\",\"green\",\"green\",\"green\",\"green\",\"green\",\"green\",\"green\",\"green\",\"green\",\"green\",\"green\",\"green\",\"green\",\"green\",\"green\",\"green\",\"green\",\"green\",\"green\",\"green\",\"green\",\"green\",\"green\",\"green\",\"green\",\"green\",\"green\",\"green\",\"green\",\"green\",\"green\",\"green\",\"green\",\"green\",\"green\",\"green\",\"green\",\"green\",\"green\",\"green\",\"green\",\"green\",\"green\",\"green\",\"green\",\"green\",\"green\",\"green\",\"green\",\"green\",\"green\",\"green\",\"green\",\"green\",\"green\",\"green\",\"green\",\"green\",\"green\",\"green\",\"green\",\"green\",\"green\",\"green\",\"green\",\"green\",\"green\",\"green\",\"green\",\"green\",\"green\",\"green\",\"green\",\"green\",\"green\",\"green\",\"green\",\"green\",\"green\",\"green\",\"green\",\"green\",\"green\",\"green\",\"green\",\"green\",\"green\",\"green\",\"green\",\"green\",\"green\",\"green\",\"green\",\"green\",\"green\",\"green\",\"green\",\"green\",\"green\",\"green\",\"green\",\"green\",\"green\",\"green\",\"green\",\"green\",\"green\",\"green\",\"green\",\"green\",\"green\",\"green\",\"green\",\"green\",\"green\",\"green\",\"green\",\"green\",\"green\",\"green\",\"green\",\"green\",\"green\",\"green\",\"green\",\"green\",\"green\",\"green\",\"green\",\"green\",\"green\",\"green\",\"green\",\"green\",\"green\",\"green\",\"green\",\"green\",\"green\",\"green\",\"green\",\"green\",\"green\",\"green\",\"green\",\"green\",\"green\",\"green\",\"green\",\"green\",\"green\",\"green\",\"green\",\"green\",\"green\",\"green\",\"green\",\"green\",\"green\",\"green\",\"green\",\"green\",\"green\",\"green\",\"green\",\"green\",\"green\",\"green\",\"green\",\"green\",\"green\",\"green\",\"green\",\"green\",\"green\",\"green\",\"green\",\"green\",\"green\",\"green\",\"green\",\"green\",\"green\",\"green\",\"green\",\"green\",\"green\",\"green\",\"green\",\"green\",\"green\",\"green\",\"green\",\"green\",\"green\",\"green\",\"green\",\"green\",\"green\",\"green\",\"green\",\"green\",\"green\",\"green\",\"green\",\"green\",\"green\",\"green\",\"green\",\"green\",\"green\",\"green\",\"green\",\"green\",\"green\",\"green\",\"green\",\"green\",\"green\",\"green\",\"green\",\"green\",\"green\",\"green\",\"green\",\"green\",\"green\",\"green\",\"green\",\"green\",\"green\",\"green\",\"green\",\"green\",\"green\",\"green\",\"green\",\"green\",\"green\",\"green\",\"green\",\"green\",\"green\",\"green\",\"green\",\"green\",\"green\",\"green\",\"green\",\"green\",\"green\",\"green\",\"green\",\"green\",\"green\",\"green\",\"green\",\"green\",\"green\",\"green\",\"green\",\"green\",\"green\",\"green\",\"green\",\"green\",\"green\",\"green\",\"green\",\"green\",\"green\",\"green\",\"green\",\"green\",\"green\",\"green\",\"green\",\"green\",\"green\",\"green\",\"green\",\"green\",\"green\",\"green\",\"green\",\"green\",\"green\",\"green\",\"green\",\"green\",\"green\",\"green\",\"green\",\"green\",\"green\",\"green\",\"green\",\"green\",\"green\",\"green\",\"green\",\"green\",\"green\",\"green\",\"green\",\"green\",\"green\",\"green\",\"green\",\"green\",\"green\",\"green\",\"green\",\"green\",\"green\",\"green\",\"green\",\"green\",\"green\",\"green\",\"green\",\"green\",\"green\",\"green\",\"green\",\"green\",\"green\",\"green\",\"green\",\"green\",\"green\",\"green\",\"green\",\"green\",\"green\",\"green\",\"green\",\"green\",\"green\",\"green\",\"green\",\"green\",\"green\",\"green\",\"green\",\"green\",\"green\",\"green\",\"green\",\"green\",\"green\",\"green\",\"green\",\"green\",\"green\",\"green\",\"green\",\"green\",\"green\",\"green\",\"green\",\"green\",\"green\",\"green\",\"green\",\"green\",\"green\",\"green\",\"green\",\"green\",\"green\",\"green\",\"green\",\"green\",\"green\",\"green\",\"green\",\"green\",\"green\",\"green\",\"green\",\"green\",\"green\",\"green\",\"green\",\"green\",\"green\",\"green\",\"green\",\"green\",\"green\",\"green\",\"green\",\"green\",\"green\",\"green\",\"green\",\"green\",\"green\",\"green\",\"green\",\"green\",\"green\",\"green\",\"green\",\"green\",\"green\",\"green\",\"green\",\"green\",\"green\",\"green\",\"green\",\"green\",\"green\",\"green\",\"green\",\"green\",\"green\",\"green\",\"green\",\"green\",\"green\",\"green\",\"green\",\"green\",\"green\",\"green\",\"green\",\"green\",\"green\",\"green\",\"green\",\"green\",\"green\",\"green\",\"green\",\"green\",\"green\",\"green\",\"green\",\"green\",\"green\",\"green\",\"green\",\"green\",\"green\",\"green\",\"green\",\"green\",\"green\",\"green\",\"green\",\"green\",\"green\",\"green\",\"green\",\"green\",\"green\",\"green\",\"green\",\"green\",\"green\",\"green\",\"green\",\"green\",\"green\",\"green\",\"green\",\"green\",\"green\",\"green\",\"green\",\"green\",\"green\",\"green\",\"green\",\"green\",\"green\",\"green\",\"green\",\"green\",\"green\",\"green\",\"green\",\"green\",\"green\",\"green\",\"green\",\"green\",\"green\",\"green\",\"green\",\"green\",\"green\",\"green\",\"green\",\"green\",\"green\",\"green\",\"green\",\"green\",\"green\",\"green\",\"green\",\"green\",\"green\",\"green\",\"green\",\"green\",\"green\",\"green\",\"green\",\"green\",\"green\",\"green\",\"green\",\"green\",\"green\",\"green\",\"green\",\"green\",\"green\",\"green\",\"green\",\"green\",\"green\",\"green\",\"green\",\"green\",\"green\",\"green\",\"green\",\"green\",\"green\",\"green\",\"green\",\"green\",\"green\",\"green\",\"green\",\"green\",\"green\",\"green\",\"green\",\"green\",\"green\",\"green\",\"green\",\"green\",\"green\",\"green\",\"green\",\"green\",\"green\",\"green\",\"green\",\"green\",\"green\",\"green\",\"green\",\"green\",\"green\",\"green\",\"green\",\"green\",\"green\",\"green\",\"green\",\"green\",\"green\",\"green\",\"green\",\"green\",\"green\",\"green\",\"green\",\"green\",\"green\",\"green\",\"green\",\"green\",\"green\",\"green\",\"green\",\"green\",\"green\",\"green\",\"green\",\"green\",\"green\",\"green\",\"green\",\"green\",\"green\",\"green\",\"green\",\"green\",\"green\",\"green\",\"green\",\"green\",\"green\",\"green\",\"green\",\"green\",\"green\",\"green\",\"green\",\"green\",\"green\",\"green\",\"green\",\"green\",\"green\",\"green\",\"green\",\"green\",\"green\",\"green\",\"green\",\"green\",\"green\",\"green\",\"green\",\"green\",\"green\",\"green\",\"green\",\"green\",\"green\",\"green\",\"green\",\"green\",\"green\",\"green\",\"green\",\"green\",\"green\",\"green\",\"green\",\"green\",\"green\",\"green\",\"green\",\"green\",\"green\",\"green\",\"green\",\"green\",\"green\",\"green\",\"green\",\"green\",\"green\",\"green\",\"green\",\"green\",\"green\",\"green\",\"green\",\"green\",\"green\",\"green\",\"green\",\"green\",\"green\",\"green\",\"green\",\"green\",\"green\",\"green\",\"green\",\"green\",\"green\",\"green\",\"green\",\"green\",\"green\",\"green\",\"green\",\"green\",\"green\",\"green\",\"green\",\"green\",\"green\",\"green\",\"green\",\"green\",\"green\",\"green\",\"green\",\"green\",\"green\",\"green\",\"green\",\"green\",\"green\",\"green\",\"green\",\"green\",\"green\",\"green\",\"green\",\"green\",\"green\",\"green\",\"green\",\"green\",\"green\",\"green\",\"green\",\"green\",\"green\",\"green\",\"green\",\"green\",\"green\",\"green\",\"green\",\"green\",\"green\",\"green\",\"green\",\"green\",\"green\",\"green\",\"green\",\"green\",\"green\",\"green\",\"green\",\"green\",\"green\",\"green\",\"green\",\"green\",\"green\",\"green\",\"green\",\"green\",\"green\",\"green\",\"green\",\"green\",\"green\",\"green\",\"green\",\"green\",\"green\",\"green\",\"green\",\"green\",\"green\"],\"token\":[\"<user>\",\".\",\":\",\"rt\",\",\",\"<repeat>\",\"<hashtag>\",\"<number>\",\"<url>\",\"!\",\"i\",\"a\",\"\\\"\",\"the\",\"?\",\"you\",\"to\",\"(\",\"<allcaps>\",\"<elong>\",\")\",\"me\",\"de\",\"<smile>\",\"\\uff01\",\"que\",\"and\",\"\\u3002\",\"-\",\"my\",\"no\",\"\\u3001\",\"is\",\"it\",\"\\u2026\",\"in\",\"n\",\"for\",\"/\",\"of\",\"la\",\"'s\",\"*\",\"do\",\"n't\",\"that\",\"on\",\"y\",\"'\",\"e\",\"o\",\"u\",\"en\",\"this\",\"el\",\"so\",\"be\",\"'m\",\"with\",\"just\",\">\",\"your\",\"^\",\"like\",\"have\",\"te\",\"at\",\"\\uff1f\",\"love\",\"se\",\"are\",\"<\",\"m\",\"r\",\"if\",\"all\",\"b\",\"\\u30fb\",\"not\",\"but\",\"we\",\"es\",\"ya\",\"&\",\"follow\",\"up\",\"what\",\"get\",\"lol\",\"un\",\"\\u2665\",\"lo\",\"when\",\"was\",\"\\u201c\",\"\\u201d\",\"one\",\"por\",\"si\",\"out\",\"_\",\"mi\",\"can\",\"<sadface>\",\"\\u0645\\u0646\",\"\\u2661\",\"\\u00b4\",\"he\",\"con\",\"they\",\"now\",\"go\",\"\\u060c\",\"para\",\"los\",\"know\",\"haha\",\"good\",\"tu\",\"back\",\"~\",\"about\",\"new\",\";\",\"as\",\"day\",\"how\",\"who\",\"will\",\"want\",\"people\",\"yo\",\"eu\",\"from\",\"di\",\"time\",\"<heart>\",\"s\",\"aku\",\"da\",\"'re\",\"<lolface>\",\"una\",\"got\",\"las\",\"more\",\"x\",\"she\",\"today\",\"\\uff08\",\">>\",\"k\",\"by\",\"or\",\"\\u0641\\u064a\",\"\\uff65\",\"too\",\"le\",\"\\u00e9\",\"|\",\"[\",\"\\uff09\",\"]\",\"see\",\"why\",\"yg\",\"ca\",\"como\",\"her\",\"\\u2014\",\"q\",\"need\",\"an\",\"na\",\"\\u7b11\",\"there\",\"\\u03c9\",\"happy\",\"im\",\"mas\",\"je\",\"life\",\"really\",\"make\",\"yang\",\"shit\",\"think\",\"t\",\"\\u2764\",\"n\\u00e3o\",\"never\",\"some\",\"\\uff5e\",\"oh\",\"\\u2605\",\"did\",\"would\",\"del\",\"`\",\"d\",\"please\",\"via\",\"much\",\"fuck\",\"al\",\"dia\",\"$\",\"\\u0648\",\"right\",\"best\",\"c\",\"going\",\"\\u0627\\u0644\\u0644\\u0647\",\"pero\",\"only\",\"has\",\"\\u266a\",\"'ll\",\"twitter\",\"=\",\"hahaha\",\"its\",\"nn\",\"\\uff40\",\"\\u00bf\",\"am\",\"say\",\"<neutralface>\",\"them\",\"here\",\"\\u0644\\u0627\",\"off\",\"still\",\"dan\",\"+\",\"night\",\"w\",\"ada\",\"someone\",\"even\",\"then\",\"\\u2606\",\"ni\",\"come\",\"com\",\"always\",\"man\",\"'ve\",\"been\",\"his\",\"itu\",\"\\u0639\\u0644\\u0649\",\"-_-\",\"\\u263a\",\"over\",\"um\",\"\\u0645\\u0627\",\"hate\",\"girl\",\"ai\",\"had\",\"pra\",\"todo\",\"mais\",\"feel\",\"let\",\"ini\",\"because\",\"\\uff9f\",\"thanks\",\"ah\",\"way\",\"ever\",\"look\",\"tweet\",\"followers\",\"should\",\"our\",\"xd\",\"aja\",\"esta\",\"school\",\"him\",\"ser\",\"take\",\"than\",\"video\",\"em\",\"last\",\"wanna\",\"does\",\"us\",\"miss\",\"l\",\"ga\",\"better\",\"well\",\"could\",\"\\u25bd\",\"%\",\"apa\",\"cuando\",\"team\",\"\\u2714\",\"@\",\"ok\",\"\\u061f\",\"\\u2022\",\"vida\",\"quiero\",\"les\",\"being\",\"real\",\"down\",\"kamu\",\"everyone\",\"gonna\",\"live\",\"tonight\",\"yes\",\"work\",\"ass\",\"retweet\",\"nada\",\"sama\",\"first\",\"<<\",\"photo\",\"tomorrow\",\"where\",\"god\",\"son\",\"ke\",\"ta\",\"f\",\"home\",\"lagi\",\"thank\",\"birthday\",\"\\u2588\",\"ha\",\"great\",\"lmao\",\"omg\",\"morning\",\"m\\u00e1s\",\"mau\",\"baby\",\"dont\",\"\\uff61\",\"their\",\"p\",\"things\",\"game\",\"pas\",\"bad\",\"year\",\"yeah\",\"su\",\"bitch\",\"\\u0432\",\"stop\",\"hoy\",\"something\",\"meu\",\"tak\",\"gak\",\"world\",\"amor\",\"h\",\"\\\\\",\"ver\",\"\\uff1b\",\"porque\",\"give\",\"these\",\"\\u0627\\u0644\\u0644\\u0647\\u0645\",\"were\",\"hay\",\"sleep\",\"gue\",\"every\",\"friends\",\"uma\",\"tell\",\"amo\",\"vou\",\"bien\",\"\\u00a1\",\"again\",\"\\uff3e\",\"\\uff0f\",\"done\",\"after\",\"todos\",\"girls\",\"guys\",\"getting\",\"big\",\"wait\",\"justin\",\"eh\",\"\\u2192\",\"kan\",\"kita\",\"jajaja\",\"wish\",\"said\",\"fucking\",\"show\",\"thing\",\"next\",\"voc\\u00ea\",\"nos\",\"little\",\"tengo\",\"keep\",\"person\",\"''\",\"\\u2200\",\"hope\",\"\\u0643\\u0644\",\"hey\",\"bisa\",\"free\",\"made\",\"foto\",\"va\",\"everything\",\"iya\",\"nigga\",\"eso\",\"et\",\"watch\",\"music\",\"week\",\"talk\",\"ne\",\"solo\",\"gente\",\"udah\",\"\\uff1a\",\"--\",\"\\uff3c\",\"mejor\",\"facebook\",\"ma\",\"v\",\"phone\",\"most\",\"same\",\"okay\",\"ik\",\"before\",\"minha\",\"days\",\"g\",\"ti\",\"damn\",\"nice\",\"voy\",\"vai\",\"call\",\"long\",\"tapi\",\"http\",\"sin\",\"nunca\",\"doing\",\"other\",\"find\",\"il\",\"sa\",\"sorry\",\"nya\",\"orang\",\"\\u00b0\",\"hard\",\"mean\",\"die\",\"\\u0627\\u0644\\u0644\\u064a\",\"tem\",\"soy\",\"este\",\"kalo\",\"s\\u00f3\",\"th\",\"win\",\"nothing\",\"into\",\"face\",\"cute\",\"'d\",\"gracias\",\"lah\",\"\\u0438\",\"any\",\"play\",\"\\u2190\",\"ko\",\"text\",\"\\u2323\",\"estoy\",\"tau\",\"ur\",\"buat\",\"#\",\"cause\",\"\\u044f\",\"put\",\"kau\",\"siempre\",\"juga\",\"casa\",\"\\u0623\\u0646\",\"help\",\"start\",\"feliz\",\"old\",\"ir\",\"very\",\"care\",\"bir\",\"makes\",\"song\",\"check\",\"watching\",\"ahora\",\"jadi\",\"os\",\"may\",\"friend\",\"beautiful\",\"heart\",\"ka\",\"vc\",\"mundo\",\"\\u043d\\u0430\",\"sure\",\"tan\",\"pretty\",\"aqui\",\"\\u043d\\u0435\",\"house\",\"\\u0631\\u062a\\u0648\\u064a\\u062a\",\"\\u064a\\u0627\",\"ja\",\"true\",\"muy\",\"away\",\"already\",\"actually\",\"believe\",\"try\",\"many\",\"ma\\u00f1ana\",\"mis\",\"lu\",\"those\",\"hot\",\"qu\\u00e9\",\"mal\",\"\\u0639\\u0646\",\"though\",\"ask\",\"amazing\",\"bed\",\"}\",\"two\",\"mom\",\"d\\u00eda\",\"ve\",\"dari\",\"gameinsight\",\"stay\",\"fun\",\"around\",\"van\",\"cont\",\"ready\",\"money\",\"bu\",\"funny\",\"cool\",\"hair\",\"\\u00e0\",\"tho\",\"{\",\"wo\",\"hi\",\"name\",\"tiene\",\"hahahaha\",\"pa\",\"algo\",\"gotta\",\"\\u0648\\u0644\\u0627\",\"boy\",\"another\",\"c'est\",\"hari\",\"jajajaja\",\"having\",\"cara\",\"jaja\",\"dm\",\"looking\",\"top\",\"android\",\"dah\",\"wow\",\"\\u2591\",\"eres\",\"ben\",\"must\",\"news\",\"met\",\"est\\u00e1\",\"nih\",\"family\",\"black\",\"thought\",\"nak\",\"super\",\"end\",\"hace\",\"remember\",\"ama\",\"party\",\"cant\",\"vamos\",\"anything\",\"anyone\",\"\\u0641\\u0648\\u0644\\u0648\",\"perfect\",\"guy\",\"vez\",\"christmas\",\"dos\",\"bueno\",\"nao\",\"years\",\"vote\",\"dormir\",\"bro\",\"else\",\"quien\",\"untuk\",\"jangan\",\"myself\",\"head\",\"mind\",\"gua\",\"talking\",\"while\",\"dat\",\"food\",\"\\u0434\",\"coming\",\"wkwk\",\"trying\",\"saya\",\"mucho\",\"without\",\"wrong\",\"\\u2019s\",\"baru\",\"__\",\"hehe\",\"hacer\",\"lot\",\"followed\",\"crazy\",\"hell\",\"feeling\",\"des\",\"kok\",\"j\",\"stats\",\"j'\",\"\\u0627\\u0646\",\"tweets\",\"non\",\"cosas\",\"era\",\"high\",\"niggas\",\"change\",\"movie\",\"xx\",\"mad\",\"sih\",\"sometimes\",\"deh\",\"allah\",\"through\",\"pour\",\"ela\",\"soon\",\"gone\",\"playing\",\"smile\",\"bukan\",\"tv\",\"fans\",\"hasta\",\"akan\",\"y'\",\"looks\",\"isso\",\"\\u270c\",\"tired\",\"boys\",\"might\",\"dong\",\"lg\",\"use\",\"maybe\",\"until\",\"menos\",\"own\",\"dengan\",\"eat\",\"ou\",\"weekend\",\"\\u02d8\",\"class\",\"ele\",\"harry\",\"iphone\",\"friday\",\"single\",\"ff\",\"awesome\",\"bout\",\"muito\",\"hoje\",\"\\u00ac\",\"dios\",\"such\",\"estar\",\"j\\u00e1\",\"quando\",\"esa\",\"making\",\"\\u2501\",\"times\",\"lmfao\",\"gw\",\"moment\",\"yet\",\"aw\",\"smh\",\"banget\",\"masih\",\"qui\",\"quem\",\"\\u2013\",\"leave\",\"du\",\"une\",\"guess\",\"hit\",\"\\u0441\",\"pm\",\"since\",\"pues\",\"est\",\"job\",\"\\uff89\",\"mana\",\"bom\",\"siapa\",\"suka\",\"bieber\",\"mention\",\"lebih\",\"favorite\",\"bitches\",\"forever\",\"\\u0644\\u064a\",\"final\",\"read\",\"alguien\",\"open\",\"yourself\",\"ese\",\"che\",\"sex\",\"yaa\",\"car\",\"direction\",\"tidak\",\"seu\",\"gets\",\"left\",\"re\",\"jam\",\"enough\",\"\\u0625\\u0644\\u0627\",\"once\",\"\\u2019\",\"part\",\"cada\",\"\\u5b9a\\u671f\",\"\\u0644\\u0643\",\"een\",\"seen\",\"kak\",\"as\\u00ed\",\"nem\",\"\\u0639\\u0645\\u0644\",\"white\",\"told\",\"says\",\"esto\",\"sad\",\"mo\",\"fue\",\"yah\",\"summer\",\"\\u0647\",\"\\u2b55\",\"\\u00bb\",\"thats\",\"\\u0645\\u0639\",\"posted\",\"wants\",\"agora\",\"together\",\"fan\",\"men\",\"hear\",\"full\",\"\\u2600\",\"sigo\",\"pq\",\"dulu\",\"plus\",\"foi\",\"tudo\",\"\\u0647\\u0648\",\"ill\",\"\\u3042\",\"thinking\",\"wtf\",\"pagi\",\"mama\",\"kalau\",\"hati\",\"sexy\",\"sayang\",\"baik\",\"semua\",\"hola\",\"went\",\"vos\",\"tanto\",\"finally\",\"fb\",\"sea\",\"stupid\",\"tus\",\"seriously\",\"hora\",\"min\",\"pic\",\"estas\",\"turn\",\"hours\",\"excited\",\"nah\",\"buy\",\"saying\",\"mah\",\"break\",\"needs\",\"ce\",\"room\",\"choice\",\"far\",\"dead\",\"quero\",\"saw\",\"kids\",\"lil\",\"whole\",\"puede\",\"fall\",\"sus\",\"lost\",\"asi\",\"word\",\"\\u2639\",\"also\",\"\\u0631\\u064a\\u062a\\u0648\\u064a\\u062a\",\"probably\",\"everybody\",\"tarde\",\"run\",\"sei\",\"follback\",\"forget\",\"sweet\",\"welcome\",\"selamat\",\"\\uff3f\",\"sur\",\"place\",\"gusta\",\"sabe\",\"androidgames\",\"tp\",\"tiempo\",\"\\u0628\\u0633\",\"sou\",\"tuh\",\"vs\",\"eyes\",\"\\u0627\\u0646\\u0627\",\"picture\",\"das\",\"meet\",\"anak\",\"persona\",\"essa\",\"bored\",\"following\",\"nadie\",\"nobody\",\"dice\",\"alone\",\"sick\",\"red\",\"city\",\"cinta\",\"\\u6708\",\"linda\",\"dream\",\"story\",\"km\",\"het\",\"waiting\",\"^_^\",\"mine\",\"\\u0447\\u0442\\u043e\",\"reason\",\"kk\",\"\\u0644\\u0648\",\"online\",\"fast\",\"udh\",\"wanted\",\"op\",\"others\",\"gay\",\"n\\u2019t\",\"used\",\"sem\",\"understand\",\"moi\",\"sm\",\"aint\",\"donde\",\"bem\",\"which\",\"ng\",\"followback\",\"punya\",\"late\",\"anda\",\"tidur\",\"puedo\",\"early\",\"nd\",\"personas\",\"banyak\",\"\\u2705\",\"\\u278a\",\"trust\",\"noche\",\"tl\",\"\\uff1e\",\"\\u00ab\",\"af\",\"move\",\"pro\",\"bring\",\"ku\",\"called\",\"relationship\",\"idk\",\"hurt\",\"st\",\"pernah\",\"pessoas\",\"hello\",\"uno\",\"unfollowers\",\"cry\"],\"x\":{\"__ndarray__\":\"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\",\"dtype\":\"float32\",\"order\":\"little\",\"shape\":[1000]},\"y\":{\"__ndarray__\":\"0i1EQfkkO0H6JUBBgZpBQTr3KUHuS0JB9yaFQd3NOEFLOXRBC7hGQZPMU8H1NIjAa30nQcydbL90FxZBssBFwZRDJcCY/IxBPlOPQbGFc0EC/o1B3zTNwRc+psH0fEdBbpbcQcYhNsHsY5C+BxjhQU+Cb0EhGmLAr6vLwbPF4EFCPYbBLnsbwTpOhEEJHvA9cd+MQeUTJMDv6oVBP+NEvxaN3sA/kh7AaoCKQVPZscFZJSjBN7Qjwe6YUUAIOZ7BEuUFQfwbUEEqnmtAaMhjQZmmp8E5BBS/MIKtwUiFFcCP0A/BoEC/QJX/ab5YSR/BZANwQX0qa8B4GZlBNd4rwUM4UsGzWRfBjap+QEoP10HUchc/pAk0wXKRZcGUa3FBo2FTQaNYYEHSzTbBqTLUwGnOW0FJGt9Bc+wVwYOgE8Gasz3BxqqGwSqFS0HFusc9YfmJQSB3BkDCRTfB02mvv8YcdsHENKXBq+SpQU4sFMEbsy7BKD2FwVyrLkEW/ipBk6Z7wPYXZcH/PRLB6+URQL2Eg0FDWrvBfiTGwF+QTkEywQJC/pWqQblStEFViJ/BFrypwexCSMGjGZFAvxrcvi0eBUIyVHTBuiq6wcnSLcEnbgVBTyzaP63c2MAPPXVBvXqOQQInUsFLehNBScUoQe5THsDB10FBiUk5wYKIQsGFrrXArO+AwG5QGMGetcXBbW1AweGhAj/SeeJA9rbEQC7lqEE3s0FBHvYWQTfuI0AyyVnB07IXQaRTp8FFUJe/dU6xwXdX2sCdzQhBv6tzwb9QOkFLReNBanOQQex85TzJToM/IFrrwDCvBUKb1sRBNaf4v5nYzcH0W1rBC4t2QTHXlEGP9+JBxuOUQa0fksALrjnBFPxhQVQUbcF6bFnBaW/ZwGAuDUHfASPBrMVEwP8FBsG3qYZAvLbRQWcHBsGKYMRBJf91QZHexECggDDBYWXOwQQwJMH6wRrBfxIawIEgZEG0uHbBT1oiweUdPkEkIKtB+H9Nwa4rAcFUqQvBxm/eQam/eT8q1cBBDvsXwUVv68C+Qa/BRWKtQfXTJ0EyiWtBb3JuQSs79cCeCXXBXQSywY06p78na1tB8lAEQuP2fkBR42JAzlM8QXtltD57FAZCcoSAwR2E+8D0ZJ/Baey4QaeIicAy8VhByaxHQXJ7AUEHIBXB7w+PQWDdv0ERbHXBHy7WQJD7PcHEJVBBdN0AwQSwoECPwwpCP+4mQEKS98CqCIpB61pGQXBRUUHO4ENBr2tQQaozP8FpFwnB3pBIwFiJwEGOUMZAG2mpvABXJ8GusQbBAYsXwTlMa8EPMHPBVCTcwI6KVUFglgVC1q86QYjXZUE4XADBfLUZwYSIAELFWVjBltbkwCvehsF/NIPB67gxwdSfT8FS+4XBBI+jwVKb8r80M3VBgCQpwfJFvkGjTWlAJAHrQOmSj78Nc+/AgectwBGqaEElx4ZB9IPlwNMFgsC3GA1BNY1KQRqUeMHC7BFBFTXowCh+YcE+8ue/RP7ewKrfGEE3MxHBOx8HQcBgisFooS3BsYOJwCp1ojz/EklBP0EdQWbX378ibQ/A7pPhwOpSqUFLNzhBUfM1QSsvj8H1CXZB/J++QSJmhkFMrRZAQ7sCQhBulUGVtDDBDRlmwWR+zsGC+V7BErMiwdIx6z/bEzRBRuJnwU6ELT4nxiZByrZMQdDErz/FGO5AKx6Kwfbxg0E67UnBBHhpQcZTA0G5tJBBnm39QE1aPkETVwPBij8OQCJewMG/igJBykSFwZReVUG8s0FBcmxoQc6cZUD3jXZBgmSpQT1ku0BLyQVANZx+wb52vb4FO1VBwJ1MwVC2P0HU6+zASxZ+wcIvv0FxlZHAAiw1QSJSQMHkW1NByfLSwbQHLsE0tghBzse1PwX7usEFKYnBIgLiQe+7L8HcB4bB2CoxwZ5kN8FJ+wNB5HEuQeP1PkAuWyzB4KJBQeIqkkGbomrBtifKQe8LVsHJaiDAyYQGwVSjAELiFGfBg7WZwXC7PEEKOSpB7iuAP8+Wx8D3PSfBwzZMwasZEcErcjHBJfuYwdxgbMENQpxAArDJQVw41UEHMrBAli2/QAKRhsEWDLfAYMOpwKb77b8YERjAMgoDQfn2tsAHnuBA5CbPQce/E0FvkFdBv0FiwWgE2b43g3zB4wFlwcyjIkH20+LAJr0FQWMrb8EVQ4nB/jdUwOLGcsEmdkc++KtRwQ5MF0Emfb5B/A7pvh7pAEKhME9ACoJNQfsbLEFDbaTAtVtewFrVmsH8ES/BL+1EQYxUksF+YYTBF9PLwfyoCEHwItVAm88fQS5TXcFYGJ9ADGumwRZnRMFcu0BBawPtQfn6WEGSRdNBDUeAwST4UkHXLK7BVp5JQVwSTcHYnPTAWQTQwGuiFUDbvmjB4/C+QLAoMcF8ahFBnzksQRFKIsGDXmnBW2qnPrqfd8FAQzrBrsVRwX45iEDIWkpBB39kQSlanMHY2zTBoqB7wJ4sDsGy2bjAYMSxwYyujUBEFCJAlJBaQf+KXkHQ8J5BJ4XxwDAINsGAR1DBGDL4QVIPSMGQ3WLBivCTwSXbPkEPyETBmsCEQWyhREH11CbB82kWQGW3g8A+6MS/zZvkwLbXSsGSxRJBOKXlQejTHsG3UVlBRM7MQdFkp0ADu1DBKcCZQSxta8GUpzRB5Ml4wO38e0FxmoZBQ3B9wfCI6UGZJ8S/BfgNQUVNh8FBUFFBVU1owQ1HDEIa8mlBL3XQQA2zHcEj2avAJYtswS4oMr/982jBiX5lQO/Ts8BahdNAogwoQUo0CEEMXYTB/mlaQRbljMFWsJ7AACjUwH0REEA78SdAOkiyQIjVXsGKvETBm3LfQZa2iMCXekLBotKxv7HJasHSQupB0v1IQWDXzUH3twJCJjTov+xmGsHZS0XBuMwUQNX3nUDWvQvBXdPGwBsnR8CU1PvAEOSCwUPkwsHneiZBTZwAwb5YL7+S+nXB9diRwWzkCEL/ABrAiplEwQKlFkBz8j9Bf1KFQQGs1cCcHOzAjqiKwT3UbEDjYYNBmL4MQR6Ipj6Xs3E/ZODLP9nEbsHp9lVBLhADQavNDsDB8IRAbv0+wTpv4D07DlnAUga/wRcOicFvRoVBHIUrwbGQbkA9GIrBtRGTwcQX/0BDs65AsXVLwQ4jksHRRwpCh37swKpRwj9yOcfBSmyKQdiaYcH7N0LAgTgvwCEXX8Hu6HJBHnkqwAIue7/ZUipBe2cNQY4vqT4SYKlBtT9iwf/tlEAvJ9DALHNrQYc9XsET6nbBQ55SQV47vcCzwTjAcYYRwdT7AkFy5TC/RbmXQLlSjsEU5MHAgeeLQPZ0UkGVYX/BFrV+weGTLcEN3TbBhqLQQX1VKEAOM/DA4xFXwXAwP0G3wovB/0N3wYXpTcHVYAJBnjy7QHs1UsFgluw/3rU/wSKflMHPl4ZBmak9QSlRYMHfpaY/J4sXwVALKkE4BWXB9N+RQCHJasH/kEvBTLq7QYsKzUBbyz5Bg1yPwJP4UkHfKlLBaaoQwYFlg8F6ACnAyNBxQaa0gkEkAQ5BdmuLweXk+cA6OIdBqA1DwYUAaMGmcKTBCkDPwQgoLEF15jNBMj6WQWN3ycEyiQpCwoJkQUjSq8HQm6vBhF1YwYDiCcHpf5XB/S6OwSwQ6kBfJQFBY01IwemSN0EC4JDBS0hJQbEDY0FhNBhAVRrJwTrVWsGJWtBAn2+VwT5zXkFRl1FAHs1PQeUWGEFVo8TA8lmFwQiXgUG/fITBBS4lwNgxU8HvhqtB6p0xQba+scC99cnAx+pUQW5LY0E9opfBZ02FwPN+1kCYjkzBsTOQwNgNbEFUrkvB75WGwZiDKEE+D5tBITUPQcMoW8GzmbTAffMqQWrcQ0FlgzHAIg5yQUCpE0AVw43B3zRhwbBzQcFQLzJBY52FwVh4Er9ROnDBg1pBwYBLaMFQ5Z7BMuiiwOaaskF/hY9AGyx+wZ8iLkFZQ5xAATSSQJ3ZDj9GV4TBlrsNQYjKYkH8Jr7BrhZpwfolcEFRKPi+SHPUwV9iw8HJIZPAERobQOzs5UGkdH1BqHHWQAgMbsHLZMXBRnviQPKKukGjdB9BqfhZwcD9LkEtITxBcX63wMw6e0GN53FBJSyMQPBnlMGWyM4/+kf4QRkJNkFUos9AFeqWwfxVIUELImDBrR+awRaLqMGCFhrBzhhNQcfZ0sBmu7jABAd/QUdWOcFgS/W/V7gzQMcHMsHgHYhBJJYBwfDiDEKKoYlAO9YFQX7LskBoqVjBz+TDQRnE90EXnmjB1h6KwEvbW0EBEoHBTfZGwbJvz0EtHDjAiWh8wbmqhMHz5YfBA7ApwbSTm0B2KI/BITNQQYbxHkFhx/9B2bbAQRw9Y0EiT3LBrecGQsypDkEw5I7BCrE/wWrTi0B9asTAcC4ZwamcVcHyEQVBtMywQVGCicHkBUzBEyd1QUNs0MHi+kjBkLhXwRCHBkJL6obAi+TPQZHbX8F87mTBWeWQQYbhyb8F/EdBeaxKQWxgir9dcTNBhSFvQfAUdEFYe0rBi7IMQNfEPMEJETzBaXqrQM8EXkEFe3nBPvlTwXOHw8FtDBPB4MxawQ+PLEGHbQJBvAtewTuglD9qCw9BDvEPQS3m8j9HODXAyMluwWnHKEFp8LFAVPaOwVd/wMEQs0pB5le6QAMCDr8/1FLBFMgxwf8aiMAZN6fAC9OXwVWMiD80043BNFXcP0Q8wMGSKFpANRZywZ8bGcEGvl9B8tbKwJLszUHXA/7A2xCewYsHV8GF9BxAA2xlwUl1a0HZ6cPAxgaQP1sxa0DahpNBX/vLQTABx8HJHI1AC6tzwUKwQsGFyAxBcoIhQe25k8Fi+v5BfjZtwca0RkEze0hBgVdUQCVK/kGScQFBKf1YwL0/i8BprYFBQiObwbdXMsFF8S9B472GQapCk8FOAJ7BWvyRweT2zz+XcDrB0D0mwLXjSEGxhkNBWPXqQQ7oCcHplTpAywzGQIFV90AbyGrB5sDyQGpQmUELcnjA3CzpQTWLhMHPw8K99IT9Qf6vNkFP505AXss9QVBnoMCUc2nB7cEmwa9WEcF6bxbBrhaXwYqtH8EiS4DBL9zJwW5Tb0HIWZXBEaOXwbsmXsHUqtvA7JiNQOzfjkE99kVBqgQoQVitGMABc5FBuUpzwTT8J0GaSolBfUirwVV5bUH0IsBBHm26QdT4ocFKA4TBZTpfQV4nzUHYjWJB1wV0wZWocr3a0tfA5nLsvz/uGUGdcITBuCCowVdiU8H0q6HB5aKEQXHKMEFdPIHBHkxfQKulpsGHZZZBm9+BwQ==\",\"dtype\":\"float32\",\"order\":\"little\",\"shape\":[1000]}},\"selected\":{\"id\":\"1304\"},\"selection_policy\":{\"id\":\"1303\"}},\"id\":\"1233\",\"type\":\"ColumnDataSource\"},{\"attributes\":{},\"id\":\"1248\",\"type\":\"BasicTicker\"},{\"attributes\":{},\"id\":\"1241\",\"type\":\"LinearScale\"},{\"attributes\":{},\"id\":\"1302\",\"type\":\"AllLabels\"},{\"attributes\":{\"source\":{\"id\":\"1233\"}},\"id\":\"1270\",\"type\":\"CDSView\"},{\"attributes\":{\"fill_alpha\":{\"value\":0.25},\"fill_color\":{\"field\":\"color\"},\"hatch_alpha\":{\"value\":0.25},\"hatch_color\":{\"field\":\"color\"},\"line_alpha\":{\"value\":0.25},\"line_color\":{\"field\":\"color\"},\"size\":{\"value\":10},\"x\":{\"field\":\"x\"},\"y\":{\"field\":\"y\"}},\"id\":\"1266\",\"type\":\"Scatter\"},{\"attributes\":{},\"id\":\"1237\",\"type\":\"DataRange1d\"},{\"attributes\":{},\"id\":\"1239\",\"type\":\"LinearScale\"}],\"root_ids\":[\"1234\"]},\"title\":\"Bokeh Application\",\"version\":\"2.4.3\"}};\n",
              "  const render_items = [{\"docid\":\"0c294c36-4c91-4487-8256-f9ba2c581c17\",\"root_ids\":[\"1234\"],\"roots\":{\"1234\":\"271852b0-d3d3-4963-8990-17c9055d1ca5\"}}];\n",
              "  root.Bokeh.embed.embed_items_notebook(docs_json, render_items);\n",
              "  }\n",
              "  if (root.Bokeh !== undefined) {\n",
              "    embed_document(root);\n",
              "  } else {\n",
              "    let attempts = 0;\n",
              "    const timer = setInterval(function(root) {\n",
              "      if (root.Bokeh !== undefined) {\n",
              "        clearInterval(timer);\n",
              "        embed_document(root);\n",
              "      } else {\n",
              "        attempts++;\n",
              "        if (attempts > 100) {\n",
              "          clearInterval(timer);\n",
              "          console.log(\"Bokeh: ERROR: Unable to run BokehJS code because BokehJS library is missing\");\n",
              "        }\n",
              "      }\n",
              "    }, 10, root)\n",
              "  }\n",
              "})(window);"
            ],
            "application/vnd.bokehjs_exec.v0+json": ""
          },
          "metadata": {
            "application/vnd.bokehjs_exec.v0+json": {
              "id": "1234"
            }
          }
        },
        {
          "output_type": "execute_result",
          "data": {
            "text/plain": [
              "Figure(id='1234', ...)"
            ],
            "text/html": [
              "<div style=\"display: table;\"><div style=\"display: table-row;\"><div style=\"display: table-cell;\"><b title=\"bokeh.plotting.figure.Figure\">Figure</b>(</div><div style=\"display: table-cell;\">id&nbsp;=&nbsp;'1234', <span id=\"1362\" style=\"cursor: pointer;\">&hellip;)</span></div></div><div class=\"1361\" style=\"display: none;\"><div style=\"display: table-cell;\"></div><div style=\"display: table-cell;\">above&nbsp;=&nbsp;[],</div></div><div class=\"1361\" style=\"display: none;\"><div style=\"display: table-cell;\"></div><div style=\"display: table-cell;\">align&nbsp;=&nbsp;'start',</div></div><div class=\"1361\" style=\"display: none;\"><div style=\"display: table-cell;\"></div><div style=\"display: table-cell;\">aspect_ratio&nbsp;=&nbsp;None,</div></div><div class=\"1361\" style=\"display: none;\"><div style=\"display: table-cell;\"></div><div style=\"display: table-cell;\">aspect_scale&nbsp;=&nbsp;1,</div></div><div class=\"1361\" style=\"display: none;\"><div style=\"display: table-cell;\"></div><div style=\"display: table-cell;\">background&nbsp;=&nbsp;None,</div></div><div class=\"1361\" style=\"display: none;\"><div style=\"display: table-cell;\"></div><div style=\"display: table-cell;\">background_fill_alpha&nbsp;=&nbsp;1.0,</div></div><div class=\"1361\" style=\"display: none;\"><div style=\"display: table-cell;\"></div><div style=\"display: table-cell;\">background_fill_color&nbsp;=&nbsp;'#ffffff',</div></div><div class=\"1361\" style=\"display: none;\"><div style=\"display: table-cell;\"></div><div style=\"display: table-cell;\">below&nbsp;=&nbsp;[LinearAxis(id='1243', ...)],</div></div><div class=\"1361\" style=\"display: none;\"><div style=\"display: table-cell;\"></div><div style=\"display: table-cell;\">border_fill_alpha&nbsp;=&nbsp;1.0,</div></div><div class=\"1361\" style=\"display: none;\"><div style=\"display: table-cell;\"></div><div style=\"display: table-cell;\">border_fill_color&nbsp;=&nbsp;'#ffffff',</div></div><div class=\"1361\" style=\"display: none;\"><div style=\"display: table-cell;\"></div><div style=\"display: table-cell;\">center&nbsp;=&nbsp;[Grid(id='1246', ...), Grid(id='1250', ...)],</div></div><div class=\"1361\" style=\"display: none;\"><div style=\"display: table-cell;\"></div><div style=\"display: table-cell;\">css_classes&nbsp;=&nbsp;[],</div></div><div class=\"1361\" style=\"display: none;\"><div style=\"display: table-cell;\"></div><div style=\"display: table-cell;\">disabled&nbsp;=&nbsp;False,</div></div><div class=\"1361\" style=\"display: none;\"><div style=\"display: table-cell;\"></div><div style=\"display: table-cell;\">extra_x_ranges&nbsp;=&nbsp;{},</div></div><div class=\"1361\" style=\"display: none;\"><div style=\"display: table-cell;\"></div><div style=\"display: table-cell;\">extra_x_scales&nbsp;=&nbsp;{},</div></div><div class=\"1361\" style=\"display: none;\"><div style=\"display: table-cell;\"></div><div style=\"display: table-cell;\">extra_y_ranges&nbsp;=&nbsp;{},</div></div><div class=\"1361\" style=\"display: none;\"><div style=\"display: table-cell;\"></div><div style=\"display: table-cell;\">extra_y_scales&nbsp;=&nbsp;{},</div></div><div class=\"1361\" style=\"display: none;\"><div style=\"display: table-cell;\"></div><div style=\"display: table-cell;\">frame_height&nbsp;=&nbsp;None,</div></div><div class=\"1361\" style=\"display: none;\"><div style=\"display: table-cell;\"></div><div style=\"display: table-cell;\">frame_width&nbsp;=&nbsp;None,</div></div><div class=\"1361\" style=\"display: none;\"><div style=\"display: table-cell;\"></div><div style=\"display: table-cell;\">height&nbsp;=&nbsp;400,</div></div><div class=\"1361\" style=\"display: none;\"><div style=\"display: table-cell;\"></div><div style=\"display: table-cell;\">height_policy&nbsp;=&nbsp;'auto',</div></div><div class=\"1361\" style=\"display: none;\"><div style=\"display: table-cell;\"></div><div style=\"display: table-cell;\">hidpi&nbsp;=&nbsp;True,</div></div><div class=\"1361\" style=\"display: none;\"><div style=\"display: table-cell;\"></div><div style=\"display: table-cell;\">inner_height&nbsp;=&nbsp;0,</div></div><div class=\"1361\" style=\"display: none;\"><div style=\"display: table-cell;\"></div><div style=\"display: table-cell;\">inner_width&nbsp;=&nbsp;0,</div></div><div class=\"1361\" style=\"display: none;\"><div style=\"display: table-cell;\"></div><div style=\"display: table-cell;\">js_event_callbacks&nbsp;=&nbsp;{},</div></div><div class=\"1361\" style=\"display: none;\"><div style=\"display: table-cell;\"></div><div style=\"display: table-cell;\">js_property_callbacks&nbsp;=&nbsp;{},</div></div><div class=\"1361\" style=\"display: none;\"><div style=\"display: table-cell;\"></div><div style=\"display: table-cell;\">left&nbsp;=&nbsp;[LinearAxis(id='1247', ...)],</div></div><div class=\"1361\" style=\"display: none;\"><div style=\"display: table-cell;\"></div><div style=\"display: table-cell;\">lod_factor&nbsp;=&nbsp;10,</div></div><div class=\"1361\" style=\"display: none;\"><div style=\"display: table-cell;\"></div><div style=\"display: table-cell;\">lod_interval&nbsp;=&nbsp;300,</div></div><div class=\"1361\" style=\"display: none;\"><div style=\"display: table-cell;\"></div><div style=\"display: table-cell;\">lod_threshold&nbsp;=&nbsp;2000,</div></div><div class=\"1361\" style=\"display: none;\"><div style=\"display: table-cell;\"></div><div style=\"display: table-cell;\">lod_timeout&nbsp;=&nbsp;500,</div></div><div class=\"1361\" style=\"display: none;\"><div style=\"display: table-cell;\"></div><div style=\"display: table-cell;\">margin&nbsp;=&nbsp;(0, 0, 0, 0),</div></div><div class=\"1361\" style=\"display: none;\"><div style=\"display: table-cell;\"></div><div style=\"display: table-cell;\">match_aspect&nbsp;=&nbsp;False,</div></div><div class=\"1361\" style=\"display: none;\"><div style=\"display: table-cell;\"></div><div style=\"display: table-cell;\">max_height&nbsp;=&nbsp;None,</div></div><div class=\"1361\" style=\"display: none;\"><div style=\"display: table-cell;\"></div><div style=\"display: table-cell;\">max_width&nbsp;=&nbsp;None,</div></div><div class=\"1361\" style=\"display: none;\"><div style=\"display: table-cell;\"></div><div style=\"display: table-cell;\">min_border&nbsp;=&nbsp;5,</div></div><div class=\"1361\" style=\"display: none;\"><div style=\"display: table-cell;\"></div><div style=\"display: table-cell;\">min_border_bottom&nbsp;=&nbsp;None,</div></div><div class=\"1361\" style=\"display: none;\"><div style=\"display: table-cell;\"></div><div style=\"display: table-cell;\">min_border_left&nbsp;=&nbsp;None,</div></div><div class=\"1361\" style=\"display: none;\"><div style=\"display: table-cell;\"></div><div style=\"display: table-cell;\">min_border_right&nbsp;=&nbsp;None,</div></div><div class=\"1361\" style=\"display: none;\"><div style=\"display: table-cell;\"></div><div style=\"display: table-cell;\">min_border_top&nbsp;=&nbsp;None,</div></div><div class=\"1361\" style=\"display: none;\"><div style=\"display: table-cell;\"></div><div style=\"display: table-cell;\">min_height&nbsp;=&nbsp;None,</div></div><div class=\"1361\" style=\"display: none;\"><div style=\"display: table-cell;\"></div><div style=\"display: table-cell;\">min_width&nbsp;=&nbsp;None,</div></div><div class=\"1361\" style=\"display: none;\"><div style=\"display: table-cell;\"></div><div style=\"display: table-cell;\">name&nbsp;=&nbsp;None,</div></div><div class=\"1361\" style=\"display: none;\"><div style=\"display: table-cell;\"></div><div style=\"display: table-cell;\">outer_height&nbsp;=&nbsp;0,</div></div><div class=\"1361\" style=\"display: none;\"><div style=\"display: table-cell;\"></div><div style=\"display: table-cell;\">outer_width&nbsp;=&nbsp;0,</div></div><div class=\"1361\" style=\"display: none;\"><div style=\"display: table-cell;\"></div><div style=\"display: table-cell;\">outline_line_alpha&nbsp;=&nbsp;1.0,</div></div><div class=\"1361\" style=\"display: none;\"><div style=\"display: table-cell;\"></div><div style=\"display: table-cell;\">outline_line_cap&nbsp;=&nbsp;'butt',</div></div><div class=\"1361\" style=\"display: none;\"><div style=\"display: table-cell;\"></div><div style=\"display: table-cell;\">outline_line_color&nbsp;=&nbsp;'#e5e5e5',</div></div><div class=\"1361\" style=\"display: none;\"><div style=\"display: table-cell;\"></div><div style=\"display: table-cell;\">outline_line_dash&nbsp;=&nbsp;[],</div></div><div class=\"1361\" style=\"display: none;\"><div style=\"display: table-cell;\"></div><div style=\"display: table-cell;\">outline_line_dash_offset&nbsp;=&nbsp;0,</div></div><div class=\"1361\" style=\"display: none;\"><div style=\"display: table-cell;\"></div><div style=\"display: table-cell;\">outline_line_join&nbsp;=&nbsp;'bevel',</div></div><div class=\"1361\" style=\"display: none;\"><div style=\"display: table-cell;\"></div><div style=\"display: table-cell;\">outline_line_width&nbsp;=&nbsp;1,</div></div><div class=\"1361\" style=\"display: none;\"><div style=\"display: table-cell;\"></div><div style=\"display: table-cell;\">output_backend&nbsp;=&nbsp;'canvas',</div></div><div class=\"1361\" style=\"display: none;\"><div style=\"display: table-cell;\"></div><div style=\"display: table-cell;\">renderers&nbsp;=&nbsp;[GlyphRenderer(id='1269', ...)],</div></div><div class=\"1361\" style=\"display: none;\"><div style=\"display: table-cell;\"></div><div style=\"display: table-cell;\">reset_policy&nbsp;=&nbsp;'standard',</div></div><div class=\"1361\" style=\"display: none;\"><div style=\"display: table-cell;\"></div><div style=\"display: table-cell;\">right&nbsp;=&nbsp;[],</div></div><div class=\"1361\" style=\"display: none;\"><div style=\"display: table-cell;\"></div><div style=\"display: table-cell;\">sizing_mode&nbsp;=&nbsp;None,</div></div><div class=\"1361\" style=\"display: none;\"><div style=\"display: table-cell;\"></div><div style=\"display: table-cell;\">subscribed_events&nbsp;=&nbsp;[],</div></div><div class=\"1361\" style=\"display: none;\"><div style=\"display: table-cell;\"></div><div style=\"display: table-cell;\">syncable&nbsp;=&nbsp;True,</div></div><div class=\"1361\" style=\"display: none;\"><div style=\"display: table-cell;\"></div><div style=\"display: table-cell;\">tags&nbsp;=&nbsp;[],</div></div><div class=\"1361\" style=\"display: none;\"><div style=\"display: table-cell;\"></div><div style=\"display: table-cell;\">title&nbsp;=&nbsp;Title(id='1295', ...),</div></div><div class=\"1361\" style=\"display: none;\"><div style=\"display: table-cell;\"></div><div style=\"display: table-cell;\">title_location&nbsp;=&nbsp;'above',</div></div><div class=\"1361\" style=\"display: none;\"><div style=\"display: table-cell;\"></div><div style=\"display: table-cell;\">toolbar&nbsp;=&nbsp;Toolbar(id='1258', ...),</div></div><div class=\"1361\" style=\"display: none;\"><div style=\"display: table-cell;\"></div><div style=\"display: table-cell;\">toolbar_location&nbsp;=&nbsp;'right',</div></div><div class=\"1361\" style=\"display: none;\"><div style=\"display: table-cell;\"></div><div style=\"display: table-cell;\">toolbar_sticky&nbsp;=&nbsp;True,</div></div><div class=\"1361\" style=\"display: none;\"><div style=\"display: table-cell;\"></div><div style=\"display: table-cell;\">visible&nbsp;=&nbsp;True,</div></div><div class=\"1361\" style=\"display: none;\"><div style=\"display: table-cell;\"></div><div style=\"display: table-cell;\">width&nbsp;=&nbsp;600,</div></div><div class=\"1361\" style=\"display: none;\"><div style=\"display: table-cell;\"></div><div style=\"display: table-cell;\">width_policy&nbsp;=&nbsp;'auto',</div></div><div class=\"1361\" style=\"display: none;\"><div style=\"display: table-cell;\"></div><div style=\"display: table-cell;\">x_range&nbsp;=&nbsp;DataRange1d(id='1235', ...),</div></div><div class=\"1361\" style=\"display: none;\"><div style=\"display: table-cell;\"></div><div style=\"display: table-cell;\">x_scale&nbsp;=&nbsp;LinearScale(id='1239', ...),</div></div><div class=\"1361\" style=\"display: none;\"><div style=\"display: table-cell;\"></div><div style=\"display: table-cell;\">y_range&nbsp;=&nbsp;DataRange1d(id='1237', ...),</div></div><div class=\"1361\" style=\"display: none;\"><div style=\"display: table-cell;\"></div><div style=\"display: table-cell;\">y_scale&nbsp;=&nbsp;LinearScale(id='1241', ...))</div></div></div>\n",
              "<script>\n",
              "(function() {\n",
              "  let expanded = false;\n",
              "  const ellipsis = document.getElementById(\"1362\");\n",
              "  ellipsis.addEventListener(\"click\", function() {\n",
              "    const rows = document.getElementsByClassName(\"1361\");\n",
              "    for (let i = 0; i < rows.length; i++) {\n",
              "      const el = rows[i];\n",
              "      el.style.display = expanded ? \"none\" : \"table-row\";\n",
              "    }\n",
              "    ellipsis.innerHTML = expanded ? \"&hellip;)\" : \"&lsaquo;&lsaquo;&lsaquo;\";\n",
              "    expanded = !expanded;\n",
              "  });\n",
              "})();\n",
              "</script>\n"
            ]
          },
          "metadata": {},
          "execution_count": 164
        }
      ]
    },
    {
      "cell_type": "markdown",
      "source": [
        "## Process phrases"
      ],
      "metadata": {
        "id": "8gpxVCzlNVDd"
      }
    },
    {
      "cell_type": "code",
      "source": [
        "ZEROS=0"
      ],
      "metadata": {
        "id": "YjxWVC6ibG4c"
      },
      "execution_count": null,
      "outputs": []
    },
    {
      "cell_type": "code",
      "source": [
        "def embed_phrase(model, phrase: str, dataset: bool=True):\n",
        "  \"\"\"\n",
        "  args:\n",
        "    model: - word embedding model\n",
        "    phrase: str - text phrase\n",
        "  process:\n",
        "    1. split, lowercase\n",
        "    2. tokenize\n",
        "    3. avg word vectors for all words in phrase\n",
        "    skip words unknown to model\n",
        "    if none of the words in model return zeros\n",
        "\n",
        "  \"\"\"\n",
        "  vectors = []\n",
        "  for token in tokenizer.tokenize(phrase.lower()):\n",
        "    if token in model.key_to_index:\n",
        "      vectors.append(model.get_vector(token))\n",
        "    else:\n",
        "      pass\n",
        "      #print(token, \"not in model vocabulary\")\n",
        "  if len(vectors) == 0:\n",
        "    print('Unknown phrase', phrase)\n",
        "    if dataset:\n",
        "      global ZEROS      #absurdly inelegant decision but test require that\n",
        "      ZEROS+=1\n",
        "    return np.zeros([model.vector_size], dtype='float32')\n",
        "\n",
        "  return np.mean(vectors, axis=0)"
      ],
      "metadata": {
        "id": "-XnNzG9rNYZc"
      },
      "execution_count": null,
      "outputs": []
    },
    {
      "cell_type": "code",
      "source": [
        "embed_phrase(model, 'jksjkskj shssj')"
      ],
      "metadata": {
        "id": "NJRI3VTNNATf",
        "outputId": "8ca58fa6-6df4-445f-f8c9-11e0c8850a5c",
        "colab": {
          "base_uri": "https://localhost:8080/"
        }
      },
      "execution_count": null,
      "outputs": [
        {
          "output_type": "stream",
          "name": "stdout",
          "text": [
            "Unknown phrase jksjkskj shssj\n"
          ]
        },
        {
          "output_type": "execute_result",
          "data": {
            "text/plain": [
              "array([0., 0., 0., 0., 0., 0., 0., 0., 0., 0., 0., 0., 0., 0., 0., 0., 0.,\n",
              "       0., 0., 0., 0., 0., 0., 0., 0., 0., 0., 0., 0., 0., 0., 0., 0., 0.,\n",
              "       0., 0., 0., 0., 0., 0., 0., 0., 0., 0., 0., 0., 0., 0., 0., 0., 0.,\n",
              "       0., 0., 0., 0., 0., 0., 0., 0., 0., 0., 0., 0., 0., 0., 0., 0., 0.,\n",
              "       0., 0., 0., 0., 0., 0., 0., 0., 0., 0., 0., 0., 0., 0., 0., 0., 0.,\n",
              "       0., 0., 0., 0., 0., 0., 0., 0., 0., 0., 0., 0., 0., 0., 0.],\n",
              "      dtype=float32)"
            ]
          },
          "metadata": {},
          "execution_count": 353
        }
      ]
    },
    {
      "cell_type": "markdown",
      "source": [
        "###Moar tests"
      ],
      "metadata": {
        "id": "6aqr5Oq4Vi60"
      }
    },
    {
      "cell_type": "code",
      "source": [
        "vector = embed_phrase(model, \"I'm very sure. This never happened to me before... gjkdfs jnvksc \")\n",
        "assert np.allclose(vector[::10],\n",
        "                   np.array([ 0.31807372, -0.02558171,  0.0933293 , -0.1002182 , -1.0278689 ,\n",
        "                             -0.16621883,  0.05083408,  0.17989802,  1.3701859 ,  0.08655966],\n",
        "                              dtype=np.float32))"
      ],
      "metadata": {
        "colab": {
          "base_uri": "https://localhost:8080/"
        },
        "id": "Ef0e50bEVh-3",
        "outputId": "abc3c3ab-aee2-4807-8283-5950f5625f1d"
      },
      "execution_count": null,
      "outputs": [
        {
          "output_type": "stream",
          "name": "stdout",
          "text": [
            "... not in model vocabulary\n",
            "gjkdfs not in model vocabulary\n",
            "jnvksc not in model vocabulary\n"
          ]
        }
      ]
    },
    {
      "cell_type": "code",
      "source": [
        "chosen_phrases = data[::len(data) // 1000]\n",
        "phrase_vectors = np.array([embed_phrase(model, vec) for vec in chosen_phrases])"
      ],
      "metadata": {
        "id": "gjDNkV7-T5-G"
      },
      "execution_count": null,
      "outputs": []
    },
    {
      "cell_type": "markdown",
      "source": [
        "### Pour some tests on meee"
      ],
      "metadata": {
        "id": "-IVrzAybW8MQ"
      }
    },
    {
      "cell_type": "code",
      "source": [
        "assert isinstance(phrase_vectors, np.ndarray) and np.isfinite(phrase_vectors).all()\n",
        "assert phrase_vectors.shape == (len(chosen_phrases), model.vector_size)"
      ],
      "metadata": {
        "id": "c_xpOIGeW4bz"
      },
      "execution_count": null,
      "outputs": []
    },
    {
      "cell_type": "markdown",
      "source": [
        "## Visualize phrases"
      ],
      "metadata": {
        "id": "McxIyeWfd-rc"
      }
    },
    {
      "cell_type": "code",
      "source": [
        "phrase_vectors_2d = TSNE().fit_transform(phrase_vectors)\n",
        "\n",
        "phrase_vectors_2d = (phrase_vectors_2d - phrase_vectors_2d.mean(axis=0)) / phrase_vectors_2d.std(axis=0)\n",
        "\n",
        "draw_vectors(phrase_vectors_2d[:, 0], phrase_vectors_2d[:, 1],\n",
        "             phrase=[phrase[:50] for phrase in chosen_phrases],\n",
        "             radius=20)"
      ],
      "metadata": {
        "colab": {
          "base_uri": "https://localhost:8080/",
          "height": 434
        },
        "id": "shR-w24ad_CZ",
        "outputId": "fe31a545-dee3-4c42-d2c4-10c0d0d18173"
      },
      "execution_count": null,
      "outputs": [
        {
          "output_type": "display_data",
          "data": {
            "application/javascript": [
              "(function(root) {\n",
              "  function now() {\n",
              "    return new Date();\n",
              "  }\n",
              "\n",
              "  const force = true;\n",
              "\n",
              "  if (typeof root._bokeh_onload_callbacks === \"undefined\" || force === true) {\n",
              "    root._bokeh_onload_callbacks = [];\n",
              "    root._bokeh_is_loading = undefined;\n",
              "  }\n",
              "\n",
              "const JS_MIME_TYPE = 'application/javascript';\n",
              "  const HTML_MIME_TYPE = 'text/html';\n",
              "  const EXEC_MIME_TYPE = 'application/vnd.bokehjs_exec.v0+json';\n",
              "  const CLASS_NAME = 'output_bokeh rendered_html';\n",
              "\n",
              "  /**\n",
              "   * Render data to the DOM node\n",
              "   */\n",
              "  function render(props, node) {\n",
              "    const script = document.createElement(\"script\");\n",
              "    node.appendChild(script);\n",
              "  }\n",
              "\n",
              "  /**\n",
              "   * Handle when an output is cleared or removed\n",
              "   */\n",
              "  function handleClearOutput(event, handle) {\n",
              "    const cell = handle.cell;\n",
              "\n",
              "    const id = cell.output_area._bokeh_element_id;\n",
              "    const server_id = cell.output_area._bokeh_server_id;\n",
              "    // Clean up Bokeh references\n",
              "    if (id != null && id in Bokeh.index) {\n",
              "      Bokeh.index[id].model.document.clear();\n",
              "      delete Bokeh.index[id];\n",
              "    }\n",
              "\n",
              "    if (server_id !== undefined) {\n",
              "      // Clean up Bokeh references\n",
              "      const cmd_clean = \"from bokeh.io.state import curstate; print(curstate().uuid_to_server['\" + server_id + \"'].get_sessions()[0].document.roots[0]._id)\";\n",
              "      cell.notebook.kernel.execute(cmd_clean, {\n",
              "        iopub: {\n",
              "          output: function(msg) {\n",
              "            const id = msg.content.text.trim();\n",
              "            if (id in Bokeh.index) {\n",
              "              Bokeh.index[id].model.document.clear();\n",
              "              delete Bokeh.index[id];\n",
              "            }\n",
              "          }\n",
              "        }\n",
              "      });\n",
              "      // Destroy server and session\n",
              "      const cmd_destroy = \"import bokeh.io.notebook as ion; ion.destroy_server('\" + server_id + \"')\";\n",
              "      cell.notebook.kernel.execute(cmd_destroy);\n",
              "    }\n",
              "  }\n",
              "\n",
              "  /**\n",
              "   * Handle when a new output is added\n",
              "   */\n",
              "  function handleAddOutput(event, handle) {\n",
              "    const output_area = handle.output_area;\n",
              "    const output = handle.output;\n",
              "\n",
              "    // limit handleAddOutput to display_data with EXEC_MIME_TYPE content only\n",
              "    if ((output.output_type != \"display_data\") || (!Object.prototype.hasOwnProperty.call(output.data, EXEC_MIME_TYPE))) {\n",
              "      return\n",
              "    }\n",
              "\n",
              "    const toinsert = output_area.element.find(\".\" + CLASS_NAME.split(' ')[0]);\n",
              "\n",
              "    if (output.metadata[EXEC_MIME_TYPE][\"id\"] !== undefined) {\n",
              "      toinsert[toinsert.length - 1].firstChild.textContent = output.data[JS_MIME_TYPE];\n",
              "      // store reference to embed id on output_area\n",
              "      output_area._bokeh_element_id = output.metadata[EXEC_MIME_TYPE][\"id\"];\n",
              "    }\n",
              "    if (output.metadata[EXEC_MIME_TYPE][\"server_id\"] !== undefined) {\n",
              "      const bk_div = document.createElement(\"div\");\n",
              "      bk_div.innerHTML = output.data[HTML_MIME_TYPE];\n",
              "      const script_attrs = bk_div.children[0].attributes;\n",
              "      for (let i = 0; i < script_attrs.length; i++) {\n",
              "        toinsert[toinsert.length - 1].firstChild.setAttribute(script_attrs[i].name, script_attrs[i].value);\n",
              "        toinsert[toinsert.length - 1].firstChild.textContent = bk_div.children[0].textContent\n",
              "      }\n",
              "      // store reference to server id on output_area\n",
              "      output_area._bokeh_server_id = output.metadata[EXEC_MIME_TYPE][\"server_id\"];\n",
              "    }\n",
              "  }\n",
              "\n",
              "  function register_renderer(events, OutputArea) {\n",
              "\n",
              "    function append_mime(data, metadata, element) {\n",
              "      // create a DOM node to render to\n",
              "      const toinsert = this.create_output_subarea(\n",
              "        metadata,\n",
              "        CLASS_NAME,\n",
              "        EXEC_MIME_TYPE\n",
              "      );\n",
              "      this.keyboard_manager.register_events(toinsert);\n",
              "      // Render to node\n",
              "      const props = {data: data, metadata: metadata[EXEC_MIME_TYPE]};\n",
              "      render(props, toinsert[toinsert.length - 1]);\n",
              "      element.append(toinsert);\n",
              "      return toinsert\n",
              "    }\n",
              "\n",
              "    /* Handle when an output is cleared or removed */\n",
              "    events.on('clear_output.CodeCell', handleClearOutput);\n",
              "    events.on('delete.Cell', handleClearOutput);\n",
              "\n",
              "    /* Handle when a new output is added */\n",
              "    events.on('output_added.OutputArea', handleAddOutput);\n",
              "\n",
              "    /**\n",
              "     * Register the mime type and append_mime function with output_area\n",
              "     */\n",
              "    OutputArea.prototype.register_mime_type(EXEC_MIME_TYPE, append_mime, {\n",
              "      /* Is output safe? */\n",
              "      safe: true,\n",
              "      /* Index of renderer in `output_area.display_order` */\n",
              "      index: 0\n",
              "    });\n",
              "  }\n",
              "\n",
              "  // register the mime type if in Jupyter Notebook environment and previously unregistered\n",
              "  if (root.Jupyter !== undefined) {\n",
              "    const events = require('base/js/events');\n",
              "    const OutputArea = require('notebook/js/outputarea').OutputArea;\n",
              "\n",
              "    if (OutputArea.prototype.mime_types().indexOf(EXEC_MIME_TYPE) == -1) {\n",
              "      register_renderer(events, OutputArea);\n",
              "    }\n",
              "  }\n",
              "  if (typeof (root._bokeh_timeout) === \"undefined\" || force === true) {\n",
              "    root._bokeh_timeout = Date.now() + 5000;\n",
              "    root._bokeh_failed_load = false;\n",
              "  }\n",
              "\n",
              "  const NB_LOAD_WARNING = {'data': {'text/html':\n",
              "     \"<div style='background-color: #fdd'>\\n\"+\n",
              "     \"<p>\\n\"+\n",
              "     \"BokehJS does not appear to have successfully loaded. If loading BokehJS from CDN, this \\n\"+\n",
              "     \"may be due to a slow or bad network connection. Possible fixes:\\n\"+\n",
              "     \"</p>\\n\"+\n",
              "     \"<ul>\\n\"+\n",
              "     \"<li>re-rerun `output_notebook()` to attempt to load from CDN again, or</li>\\n\"+\n",
              "     \"<li>use INLINE resources instead, as so:</li>\\n\"+\n",
              "     \"</ul>\\n\"+\n",
              "     \"<code>\\n\"+\n",
              "     \"from bokeh.resources import INLINE\\n\"+\n",
              "     \"output_notebook(resources=INLINE)\\n\"+\n",
              "     \"</code>\\n\"+\n",
              "     \"</div>\"}};\n",
              "\n",
              "  function display_loaded() {\n",
              "    const el = document.getElementById(null);\n",
              "    if (el != null) {\n",
              "      el.textContent = \"BokehJS is loading...\";\n",
              "    }\n",
              "    if (root.Bokeh !== undefined) {\n",
              "      if (el != null) {\n",
              "        el.textContent = \"BokehJS \" + root.Bokeh.version + \" successfully loaded.\";\n",
              "      }\n",
              "    } else if (Date.now() < root._bokeh_timeout) {\n",
              "      setTimeout(display_loaded, 100)\n",
              "    }\n",
              "  }\n",
              "\n",
              "  function run_callbacks() {\n",
              "    try {\n",
              "      root._bokeh_onload_callbacks.forEach(function(callback) {\n",
              "        if (callback != null)\n",
              "          callback();\n",
              "      });\n",
              "    } finally {\n",
              "      delete root._bokeh_onload_callbacks\n",
              "    }\n",
              "    console.debug(\"Bokeh: all callbacks have finished\");\n",
              "  }\n",
              "\n",
              "  function load_libs(css_urls, js_urls, callback) {\n",
              "    if (css_urls == null) css_urls = [];\n",
              "    if (js_urls == null) js_urls = [];\n",
              "\n",
              "    root._bokeh_onload_callbacks.push(callback);\n",
              "    if (root._bokeh_is_loading > 0) {\n",
              "      console.debug(\"Bokeh: BokehJS is being loaded, scheduling callback at\", now());\n",
              "      return null;\n",
              "    }\n",
              "    if (js_urls == null || js_urls.length === 0) {\n",
              "      run_callbacks();\n",
              "      return null;\n",
              "    }\n",
              "    console.debug(\"Bokeh: BokehJS not loaded, scheduling load and callback at\", now());\n",
              "    root._bokeh_is_loading = css_urls.length + js_urls.length;\n",
              "\n",
              "    function on_load() {\n",
              "      root._bokeh_is_loading--;\n",
              "      if (root._bokeh_is_loading === 0) {\n",
              "        console.debug(\"Bokeh: all BokehJS libraries/stylesheets loaded\");\n",
              "        run_callbacks()\n",
              "      }\n",
              "    }\n",
              "\n",
              "    function on_error(url) {\n",
              "      console.error(\"failed to load \" + url);\n",
              "    }\n",
              "\n",
              "    for (let i = 0; i < css_urls.length; i++) {\n",
              "      const url = css_urls[i];\n",
              "      const element = document.createElement(\"link\");\n",
              "      element.onload = on_load;\n",
              "      element.onerror = on_error.bind(null, url);\n",
              "      element.rel = \"stylesheet\";\n",
              "      element.type = \"text/css\";\n",
              "      element.href = url;\n",
              "      console.debug(\"Bokeh: injecting link tag for BokehJS stylesheet: \", url);\n",
              "      document.body.appendChild(element);\n",
              "    }\n",
              "\n",
              "    for (let i = 0; i < js_urls.length; i++) {\n",
              "      const url = js_urls[i];\n",
              "      const element = document.createElement('script');\n",
              "      element.onload = on_load;\n",
              "      element.onerror = on_error.bind(null, url);\n",
              "      element.async = false;\n",
              "      element.src = url;\n",
              "      console.debug(\"Bokeh: injecting script tag for BokehJS library: \", url);\n",
              "      document.head.appendChild(element);\n",
              "    }\n",
              "  };\n",
              "\n",
              "  function inject_raw_css(css) {\n",
              "    const element = document.createElement(\"style\");\n",
              "    element.appendChild(document.createTextNode(css));\n",
              "    document.body.appendChild(element);\n",
              "  }\n",
              "\n",
              "  const js_urls = [\"https://cdn.bokeh.org/bokeh/release/bokeh-2.4.3.min.js\", \"https://cdn.bokeh.org/bokeh/release/bokeh-gl-2.4.3.min.js\", \"https://cdn.bokeh.org/bokeh/release/bokeh-widgets-2.4.3.min.js\", \"https://cdn.bokeh.org/bokeh/release/bokeh-tables-2.4.3.min.js\", \"https://cdn.bokeh.org/bokeh/release/bokeh-mathjax-2.4.3.min.js\"];\n",
              "  const css_urls = [];\n",
              "\n",
              "  const inline_js = [    function(Bokeh) {\n",
              "      Bokeh.set_log_level(\"info\");\n",
              "    },\n",
              "function(Bokeh) {\n",
              "    }\n",
              "  ];\n",
              "\n",
              "  function run_inline_js() {\n",
              "    if (root.Bokeh !== undefined || force === true) {\n",
              "          for (let i = 0; i < inline_js.length; i++) {\n",
              "      inline_js[i].call(root, root.Bokeh);\n",
              "    }\n",
              "} else if (Date.now() < root._bokeh_timeout) {\n",
              "      setTimeout(run_inline_js, 100);\n",
              "    } else if (!root._bokeh_failed_load) {\n",
              "      console.log(\"Bokeh: BokehJS failed to load within specified timeout.\");\n",
              "      root._bokeh_failed_load = true;\n",
              "    } else if (force !== true) {\n",
              "      const cell = $(document.getElementById(null)).parents('.cell').data().cell;\n",
              "      cell.output_area.append_execute_result(NB_LOAD_WARNING)\n",
              "    }\n",
              "  }\n",
              "\n",
              "  if (root._bokeh_is_loading === 0) {\n",
              "    console.debug(\"Bokeh: BokehJS loaded, going straight to plotting\");\n",
              "    run_inline_js();\n",
              "  } else {\n",
              "    load_libs(css_urls, js_urls, function() {\n",
              "      console.debug(\"Bokeh: BokehJS plotting callback run at\", now());\n",
              "      run_inline_js();\n",
              "    });\n",
              "  }\n",
              "}(window));"
            ],
            "application/vnd.bokehjs_load.v0+json": "(function(root) {\n  function now() {\n    return new Date();\n  }\n\n  const force = true;\n\n  if (typeof root._bokeh_onload_callbacks === \"undefined\" || force === true) {\n    root._bokeh_onload_callbacks = [];\n    root._bokeh_is_loading = undefined;\n  }\n\n\n  if (typeof (root._bokeh_timeout) === \"undefined\" || force === true) {\n    root._bokeh_timeout = Date.now() + 5000;\n    root._bokeh_failed_load = false;\n  }\n\n  const NB_LOAD_WARNING = {'data': {'text/html':\n     \"<div style='background-color: #fdd'>\\n\"+\n     \"<p>\\n\"+\n     \"BokehJS does not appear to have successfully loaded. If loading BokehJS from CDN, this \\n\"+\n     \"may be due to a slow or bad network connection. Possible fixes:\\n\"+\n     \"</p>\\n\"+\n     \"<ul>\\n\"+\n     \"<li>re-rerun `output_notebook()` to attempt to load from CDN again, or</li>\\n\"+\n     \"<li>use INLINE resources instead, as so:</li>\\n\"+\n     \"</ul>\\n\"+\n     \"<code>\\n\"+\n     \"from bokeh.resources import INLINE\\n\"+\n     \"output_notebook(resources=INLINE)\\n\"+\n     \"</code>\\n\"+\n     \"</div>\"}};\n\n  function display_loaded() {\n    const el = document.getElementById(null);\n    if (el != null) {\n      el.textContent = \"BokehJS is loading...\";\n    }\n    if (root.Bokeh !== undefined) {\n      if (el != null) {\n        el.textContent = \"BokehJS \" + root.Bokeh.version + \" successfully loaded.\";\n      }\n    } else if (Date.now() < root._bokeh_timeout) {\n      setTimeout(display_loaded, 100)\n    }\n  }\n\n  function run_callbacks() {\n    try {\n      root._bokeh_onload_callbacks.forEach(function(callback) {\n        if (callback != null)\n          callback();\n      });\n    } finally {\n      delete root._bokeh_onload_callbacks\n    }\n    console.debug(\"Bokeh: all callbacks have finished\");\n  }\n\n  function load_libs(css_urls, js_urls, callback) {\n    if (css_urls == null) css_urls = [];\n    if (js_urls == null) js_urls = [];\n\n    root._bokeh_onload_callbacks.push(callback);\n    if (root._bokeh_is_loading > 0) {\n      console.debug(\"Bokeh: BokehJS is being loaded, scheduling callback at\", now());\n      return null;\n    }\n    if (js_urls == null || js_urls.length === 0) {\n      run_callbacks();\n      return null;\n    }\n    console.debug(\"Bokeh: BokehJS not loaded, scheduling load and callback at\", now());\n    root._bokeh_is_loading = css_urls.length + js_urls.length;\n\n    function on_load() {\n      root._bokeh_is_loading--;\n      if (root._bokeh_is_loading === 0) {\n        console.debug(\"Bokeh: all BokehJS libraries/stylesheets loaded\");\n        run_callbacks()\n      }\n    }\n\n    function on_error(url) {\n      console.error(\"failed to load \" + url);\n    }\n\n    for (let i = 0; i < css_urls.length; i++) {\n      const url = css_urls[i];\n      const element = document.createElement(\"link\");\n      element.onload = on_load;\n      element.onerror = on_error.bind(null, url);\n      element.rel = \"stylesheet\";\n      element.type = \"text/css\";\n      element.href = url;\n      console.debug(\"Bokeh: injecting link tag for BokehJS stylesheet: \", url);\n      document.body.appendChild(element);\n    }\n\n    for (let i = 0; i < js_urls.length; i++) {\n      const url = js_urls[i];\n      const element = document.createElement('script');\n      element.onload = on_load;\n      element.onerror = on_error.bind(null, url);\n      element.async = false;\n      element.src = url;\n      console.debug(\"Bokeh: injecting script tag for BokehJS library: \", url);\n      document.head.appendChild(element);\n    }\n  };\n\n  function inject_raw_css(css) {\n    const element = document.createElement(\"style\");\n    element.appendChild(document.createTextNode(css));\n    document.body.appendChild(element);\n  }\n\n  const js_urls = [\"https://cdn.bokeh.org/bokeh/release/bokeh-2.4.3.min.js\", \"https://cdn.bokeh.org/bokeh/release/bokeh-gl-2.4.3.min.js\", \"https://cdn.bokeh.org/bokeh/release/bokeh-widgets-2.4.3.min.js\", \"https://cdn.bokeh.org/bokeh/release/bokeh-tables-2.4.3.min.js\", \"https://cdn.bokeh.org/bokeh/release/bokeh-mathjax-2.4.3.min.js\"];\n  const css_urls = [];\n\n  const inline_js = [    function(Bokeh) {\n      Bokeh.set_log_level(\"info\");\n    },\nfunction(Bokeh) {\n    }\n  ];\n\n  function run_inline_js() {\n    if (root.Bokeh !== undefined || force === true) {\n          for (let i = 0; i < inline_js.length; i++) {\n      inline_js[i].call(root, root.Bokeh);\n    }\n} else if (Date.now() < root._bokeh_timeout) {\n      setTimeout(run_inline_js, 100);\n    } else if (!root._bokeh_failed_load) {\n      console.log(\"Bokeh: BokehJS failed to load within specified timeout.\");\n      root._bokeh_failed_load = true;\n    } else if (force !== true) {\n      const cell = $(document.getElementById(null)).parents('.cell').data().cell;\n      cell.output_area.append_execute_result(NB_LOAD_WARNING)\n    }\n  }\n\n  if (root._bokeh_is_loading === 0) {\n    console.debug(\"Bokeh: BokehJS loaded, going straight to plotting\");\n    run_inline_js();\n  } else {\n    load_libs(css_urls, js_urls, function() {\n      console.debug(\"Bokeh: BokehJS plotting callback run at\", now());\n      run_inline_js();\n    });\n  }\n}(window));"
          },
          "metadata": {}
        },
        {
          "output_type": "display_data",
          "data": {
            "text/html": [
              "\n",
              "  <div class=\"bk-root\" id=\"5ed62a8f-fbfc-4df6-9927-df5eab61a547\" data-root-id=\"1663\"></div>\n"
            ]
          },
          "metadata": {}
        },
        {
          "output_type": "display_data",
          "data": {
            "application/javascript": [
              "(function(root) {\n",
              "  function embed_document(root) {\n",
              "  const docs_json = {\"5b598a71-3b21-461e-a535-d81fdaed9c2a\":{\"defs\":[],\"roots\":{\"references\":[{\"attributes\":{\"below\":[{\"id\":\"1672\"}],\"center\":[{\"id\":\"1675\"},{\"id\":\"1679\"}],\"height\":400,\"left\":[{\"id\":\"1676\"}],\"renderers\":[{\"id\":\"1698\"}],\"title\":{\"id\":\"1757\"},\"toolbar\":{\"id\":\"1687\"},\"x_range\":{\"id\":\"1664\"},\"x_scale\":{\"id\":\"1668\"},\"y_range\":{\"id\":\"1666\"},\"y_scale\":{\"id\":\"1670\"}},\"id\":\"1663\",\"subtype\":\"Figure\",\"type\":\"Plot\"},{\"attributes\":{},\"id\":\"1763\",\"type\":\"BasicTickFormatter\"},{\"attributes\":{\"callback\":null,\"tooltips\":[[\"phrase\",\"@phrase\"]]},\"id\":\"1700\",\"type\":\"HoverTool\"},{\"attributes\":{\"fill_alpha\":{\"value\":0.2},\"fill_color\":{\"field\":\"color\"},\"hatch_alpha\":{\"value\":0.2},\"hatch_color\":{\"field\":\"color\"},\"line_alpha\":{\"value\":0.2},\"line_color\":{\"field\":\"color\"},\"size\":{\"value\":20},\"x\":{\"field\":\"x\"},\"y\":{\"field\":\"y\"}},\"id\":\"1697\",\"type\":\"Scatter\"},{\"attributes\":{},\"id\":\"1673\",\"type\":\"BasicTicker\"},{\"attributes\":{},\"id\":\"1670\",\"type\":\"LinearScale\"},{\"attributes\":{},\"id\":\"1666\",\"type\":\"DataRange1d\"},{\"attributes\":{},\"id\":\"1685\",\"type\":\"HelpTool\"},{\"attributes\":{\"axis\":{\"id\":\"1676\"},\"coordinates\":null,\"dimension\":1,\"group\":null,\"ticker\":null},\"id\":\"1679\",\"type\":\"Grid\"},{\"attributes\":{\"source\":{\"id\":\"1662\"}},\"id\":\"1699\",\"type\":\"CDSView\"},{\"attributes\":{},\"id\":\"1664\",\"type\":\"DataRange1d\"},{\"attributes\":{},\"id\":\"1760\",\"type\":\"BasicTickFormatter\"},{\"attributes\":{\"axis\":{\"id\":\"1672\"},\"coordinates\":null,\"group\":null,\"ticker\":null},\"id\":\"1675\",\"type\":\"Grid\"},{\"attributes\":{\"fill_alpha\":{\"value\":0.25},\"fill_color\":{\"field\":\"color\"},\"hatch_alpha\":{\"value\":0.25},\"hatch_color\":{\"field\":\"color\"},\"line_alpha\":{\"value\":0.25},\"line_color\":{\"field\":\"color\"},\"size\":{\"value\":20},\"x\":{\"field\":\"x\"},\"y\":{\"field\":\"y\"}},\"id\":\"1695\",\"type\":\"Scatter\"},{\"attributes\":{},\"id\":\"1761\",\"type\":\"AllLabels\"},{\"attributes\":{},\"id\":\"1766\",\"type\":\"Selection\"},{\"attributes\":{},\"id\":\"1681\",\"type\":\"WheelZoomTool\"},{\"attributes\":{},\"id\":\"1680\",\"type\":\"PanTool\"},{\"attributes\":{},\"id\":\"1765\",\"type\":\"UnionRenderers\"},{\"attributes\":{\"active_scroll\":{\"id\":\"1681\"},\"tools\":[{\"id\":\"1680\"},{\"id\":\"1681\"},{\"id\":\"1682\"},{\"id\":\"1683\"},{\"id\":\"1684\"},{\"id\":\"1685\"},{\"id\":\"1700\"}]},\"id\":\"1687\",\"type\":\"Toolbar\"},{\"attributes\":{\"coordinates\":null,\"group\":null},\"id\":\"1757\",\"type\":\"Title\"},{\"attributes\":{\"coordinates\":null,\"formatter\":{\"id\":\"1760\"},\"group\":null,\"major_label_policy\":{\"id\":\"1761\"},\"ticker\":{\"id\":\"1677\"}},\"id\":\"1676\",\"type\":\"LinearAxis\"},{\"attributes\":{},\"id\":\"1764\",\"type\":\"AllLabels\"},{\"attributes\":{\"data\":{\"color\":[\"blue\",\"blue\",\"blue\",\"blue\",\"blue\",\"blue\",\"blue\",\"blue\",\"blue\",\"blue\",\"blue\",\"blue\",\"blue\",\"blue\",\"blue\",\"blue\",\"blue\",\"blue\",\"blue\",\"blue\",\"blue\",\"blue\",\"blue\",\"blue\",\"blue\",\"blue\",\"blue\",\"blue\",\"blue\",\"blue\",\"blue\",\"blue\",\"blue\",\"blue\",\"blue\",\"blue\",\"blue\",\"blue\",\"blue\",\"blue\",\"blue\",\"blue\",\"blue\",\"blue\",\"blue\",\"blue\",\"blue\",\"blue\",\"blue\",\"blue\",\"blue\",\"blue\",\"blue\",\"blue\",\"blue\",\"blue\",\"blue\",\"blue\",\"blue\",\"blue\",\"blue\",\"blue\",\"blue\",\"blue\",\"blue\",\"blue\",\"blue\",\"blue\",\"blue\",\"blue\",\"blue\",\"blue\",\"blue\",\"blue\",\"blue\",\"blue\",\"blue\",\"blue\",\"blue\",\"blue\",\"blue\",\"blue\",\"blue\",\"blue\",\"blue\",\"blue\",\"blue\",\"blue\",\"blue\",\"blue\",\"blue\",\"blue\",\"blue\",\"blue\",\"blue\",\"blue\",\"blue\",\"blue\",\"blue\",\"blue\",\"blue\",\"blue\",\"blue\",\"blue\",\"blue\",\"blue\",\"blue\",\"blue\",\"blue\",\"blue\",\"blue\",\"blue\",\"blue\",\"blue\",\"blue\",\"blue\",\"blue\",\"blue\",\"blue\",\"blue\",\"blue\",\"blue\",\"blue\",\"blue\",\"blue\",\"blue\",\"blue\",\"blue\",\"blue\",\"blue\",\"blue\",\"blue\",\"blue\",\"blue\",\"blue\",\"blue\",\"blue\",\"blue\",\"blue\",\"blue\",\"blue\",\"blue\",\"blue\",\"blue\",\"blue\",\"blue\",\"blue\",\"blue\",\"blue\",\"blue\",\"blue\",\"blue\",\"blue\",\"blue\",\"blue\",\"blue\",\"blue\",\"blue\",\"blue\",\"blue\",\"blue\",\"blue\",\"blue\",\"blue\",\"blue\",\"blue\",\"blue\",\"blue\",\"blue\",\"blue\",\"blue\",\"blue\",\"blue\",\"blue\",\"blue\",\"blue\",\"blue\",\"blue\",\"blue\",\"blue\",\"blue\",\"blue\",\"blue\",\"blue\",\"blue\",\"blue\",\"blue\",\"blue\",\"blue\",\"blue\",\"blue\",\"blue\",\"blue\",\"blue\",\"blue\",\"blue\",\"blue\",\"blue\",\"blue\",\"blue\",\"blue\",\"blue\",\"blue\",\"blue\",\"blue\",\"blue\",\"blue\",\"blue\",\"blue\",\"blue\",\"blue\",\"blue\",\"blue\",\"blue\",\"blue\",\"blue\",\"blue\",\"blue\",\"blue\",\"blue\",\"blue\",\"blue\",\"blue\",\"blue\",\"blue\",\"blue\",\"blue\",\"blue\",\"blue\",\"blue\",\"blue\",\"blue\",\"blue\",\"blue\",\"blue\",\"blue\",\"blue\",\"blue\",\"blue\",\"blue\",\"blue\",\"blue\",\"blue\",\"blue\",\"blue\",\"blue\",\"blue\",\"blue\",\"blue\",\"blue\",\"blue\",\"blue\",\"blue\",\"blue\",\"blue\",\"blue\",\"blue\",\"blue\",\"blue\",\"blue\",\"blue\",\"blue\",\"blue\",\"blue\",\"blue\",\"blue\",\"blue\",\"blue\",\"blue\",\"blue\",\"blue\",\"blue\",\"blue\",\"blue\",\"blue\",\"blue\",\"blue\",\"blue\",\"blue\",\"blue\",\"blue\",\"blue\",\"blue\",\"blue\",\"blue\",\"blue\",\"blue\",\"blue\",\"blue\",\"blue\",\"blue\",\"blue\",\"blue\",\"blue\",\"blue\",\"blue\",\"blue\",\"blue\",\"blue\",\"blue\",\"blue\",\"blue\",\"blue\",\"blue\",\"blue\",\"blue\",\"blue\",\"blue\",\"blue\",\"blue\",\"blue\",\"blue\",\"blue\",\"blue\",\"blue\",\"blue\",\"blue\",\"blue\",\"blue\",\"blue\",\"blue\",\"blue\",\"blue\",\"blue\",\"blue\",\"blue\",\"blue\",\"blue\",\"blue\",\"blue\",\"blue\",\"blue\",\"blue\",\"blue\",\"blue\",\"blue\",\"blue\",\"blue\",\"blue\",\"blue\",\"blue\",\"blue\",\"blue\",\"blue\",\"blue\",\"blue\",\"blue\",\"blue\",\"blue\",\"blue\",\"blue\",\"blue\",\"blue\",\"blue\",\"blue\",\"blue\",\"blue\",\"blue\",\"blue\",\"blue\",\"blue\",\"blue\",\"blue\",\"blue\",\"blue\",\"blue\",\"blue\",\"blue\",\"blue\",\"blue\",\"blue\",\"blue\",\"blue\",\"blue\",\"blue\",\"blue\",\"blue\",\"blue\",\"blue\",\"blue\",\"blue\",\"blue\",\"blue\",\"blue\",\"blue\",\"blue\",\"blue\",\"blue\",\"blue\",\"blue\",\"blue\",\"blue\",\"blue\",\"blue\",\"blue\",\"blue\",\"blue\",\"blue\",\"blue\",\"blue\",\"blue\",\"blue\",\"blue\",\"blue\",\"blue\",\"blue\",\"blue\",\"blue\",\"blue\",\"blue\",\"blue\",\"blue\",\"blue\",\"blue\",\"blue\",\"blue\",\"blue\",\"blue\",\"blue\",\"blue\",\"blue\",\"blue\",\"blue\",\"blue\",\"blue\",\"blue\",\"blue\",\"blue\",\"blue\",\"blue\",\"blue\",\"blue\",\"blue\",\"blue\",\"blue\",\"blue\",\"blue\",\"blue\",\"blue\",\"blue\",\"blue\",\"blue\",\"blue\",\"blue\",\"blue\",\"blue\",\"blue\",\"blue\",\"blue\",\"blue\",\"blue\",\"blue\",\"blue\",\"blue\",\"blue\",\"blue\",\"blue\",\"blue\",\"blue\",\"blue\",\"blue\",\"blue\",\"blue\",\"blue\",\"blue\",\"blue\",\"blue\",\"blue\",\"blue\",\"blue\",\"blue\",\"blue\",\"blue\",\"blue\",\"blue\",\"blue\",\"blue\",\"blue\",\"blue\",\"blue\",\"blue\",\"blue\",\"blue\",\"blue\",\"blue\",\"blue\",\"blue\",\"blue\",\"blue\",\"blue\",\"blue\",\"blue\",\"blue\",\"blue\",\"blue\",\"blue\",\"blue\",\"blue\",\"blue\",\"blue\",\"blue\",\"blue\",\"blue\",\"blue\",\"blue\",\"blue\",\"blue\",\"blue\",\"blue\",\"blue\",\"blue\",\"blue\",\"blue\",\"blue\",\"blue\",\"blue\",\"blue\",\"blue\",\"blue\",\"blue\",\"blue\",\"blue\",\"blue\",\"blue\",\"blue\",\"blue\",\"blue\",\"blue\",\"blue\",\"blue\",\"blue\",\"blue\",\"blue\",\"blue\",\"blue\",\"blue\",\"blue\",\"blue\",\"blue\",\"blue\",\"blue\",\"blue\",\"blue\",\"blue\",\"blue\",\"blue\",\"blue\",\"blue\",\"blue\",\"blue\",\"blue\",\"blue\",\"blue\",\"blue\",\"blue\",\"blue\",\"blue\",\"blue\",\"blue\",\"blue\",\"blue\",\"blue\",\"blue\",\"blue\",\"blue\",\"blue\",\"blue\",\"blue\",\"blue\",\"blue\",\"blue\",\"blue\",\"blue\",\"blue\",\"blue\",\"blue\",\"blue\",\"blue\",\"blue\",\"blue\",\"blue\",\"blue\",\"blue\",\"blue\",\"blue\",\"blue\",\"blue\",\"blue\",\"blue\",\"blue\",\"blue\",\"blue\",\"blue\",\"blue\",\"blue\",\"blue\",\"blue\",\"blue\",\"blue\",\"blue\",\"blue\",\"blue\",\"blue\",\"blue\",\"blue\",\"blue\",\"blue\",\"blue\",\"blue\",\"blue\",\"blue\",\"blue\",\"blue\",\"blue\",\"blue\",\"blue\",\"blue\",\"blue\",\"blue\",\"blue\",\"blue\",\"blue\",\"blue\",\"blue\",\"blue\",\"blue\",\"blue\",\"blue\",\"blue\",\"blue\",\"blue\",\"blue\",\"blue\",\"blue\",\"blue\",\"blue\",\"blue\",\"blue\",\"blue\",\"blue\",\"blue\",\"blue\",\"blue\",\"blue\",\"blue\",\"blue\",\"blue\",\"blue\",\"blue\",\"blue\",\"blue\",\"blue\",\"blue\",\"blue\",\"blue\",\"blue\",\"blue\",\"blue\",\"blue\",\"blue\",\"blue\",\"blue\",\"blue\",\"blue\",\"blue\",\"blue\",\"blue\",\"blue\",\"blue\",\"blue\",\"blue\",\"blue\",\"blue\",\"blue\",\"blue\",\"blue\",\"blue\",\"blue\",\"blue\",\"blue\",\"blue\",\"blue\",\"blue\",\"blue\",\"blue\",\"blue\",\"blue\",\"blue\",\"blue\",\"blue\",\"blue\",\"blue\",\"blue\",\"blue\",\"blue\",\"blue\",\"blue\",\"blue\",\"blue\",\"blue\",\"blue\",\"blue\",\"blue\",\"blue\",\"blue\",\"blue\",\"blue\",\"blue\",\"blue\",\"blue\",\"blue\",\"blue\",\"blue\",\"blue\",\"blue\",\"blue\",\"blue\",\"blue\",\"blue\",\"blue\",\"blue\",\"blue\",\"blue\",\"blue\",\"blue\",\"blue\",\"blue\",\"blue\",\"blue\",\"blue\",\"blue\",\"blue\",\"blue\",\"blue\",\"blue\",\"blue\",\"blue\",\"blue\",\"blue\",\"blue\",\"blue\",\"blue\",\"blue\",\"blue\",\"blue\",\"blue\",\"blue\",\"blue\",\"blue\",\"blue\",\"blue\",\"blue\",\"blue\",\"blue\",\"blue\",\"blue\",\"blue\",\"blue\",\"blue\",\"blue\",\"blue\",\"blue\",\"blue\",\"blue\",\"blue\",\"blue\",\"blue\",\"blue\",\"blue\",\"blue\",\"blue\",\"blue\",\"blue\",\"blue\",\"blue\",\"blue\",\"blue\",\"blue\",\"blue\",\"blue\",\"blue\",\"blue\",\"blue\",\"blue\",\"blue\",\"blue\",\"blue\",\"blue\",\"blue\",\"blue\",\"blue\",\"blue\",\"blue\",\"blue\",\"blue\",\"blue\",\"blue\",\"blue\",\"blue\",\"blue\",\"blue\",\"blue\",\"blue\",\"blue\",\"blue\",\"blue\",\"blue\",\"blue\",\"blue\",\"blue\",\"blue\",\"blue\",\"blue\",\"blue\",\"blue\",\"blue\",\"blue\",\"blue\",\"blue\",\"blue\",\"blue\",\"blue\",\"blue\",\"blue\",\"blue\",\"blue\",\"blue\",\"blue\",\"blue\",\"blue\",\"blue\",\"blue\",\"blue\",\"blue\",\"blue\",\"blue\",\"blue\",\"blue\",\"blue\",\"blue\",\"blue\",\"blue\",\"blue\",\"blue\",\"blue\",\"blue\",\"blue\",\"blue\",\"blue\",\"blue\",\"blue\",\"blue\",\"blue\",\"blue\",\"blue\",\"blue\",\"blue\",\"blue\",\"blue\",\"blue\",\"blue\",\"blue\",\"blue\",\"blue\",\"blue\",\"blue\",\"blue\",\"blue\",\"blue\",\"blue\",\"blue\",\"blue\",\"blue\",\"blue\",\"blue\",\"blue\",\"blue\",\"blue\",\"blue\",\"blue\",\"blue\",\"blue\",\"blue\",\"blue\",\"blue\",\"blue\",\"blue\",\"blue\",\"blue\",\"blue\",\"blue\",\"blue\",\"blue\",\"blue\",\"blue\",\"blue\",\"blue\",\"blue\",\"blue\",\"blue\",\"blue\",\"blue\",\"blue\",\"blue\",\"blue\",\"blue\",\"blue\",\"blue\",\"blue\",\"blue\",\"blue\",\"blue\",\"blue\",\"blue\",\"blue\",\"blue\",\"blue\",\"blue\",\"blue\",\"blue\",\"blue\",\"blue\",\"blue\",\"blue\",\"blue\",\"blue\",\"blue\",\"blue\",\"blue\",\"blue\",\"blue\",\"blue\",\"blue\",\"blue\",\"blue\",\"blue\",\"blue\",\"blue\",\"blue\",\"blue\",\"blue\",\"blue\",\"blue\",\"blue\",\"blue\",\"blue\",\"blue\",\"blue\",\"blue\",\"blue\",\"blue\",\"blue\",\"blue\",\"blue\",\"blue\",\"blue\",\"blue\",\"blue\",\"blue\",\"blue\",\"blue\",\"blue\",\"blue\",\"blue\",\"blue\",\"blue\",\"blue\",\"blue\",\"blue\",\"blue\",\"blue\",\"blue\",\"blue\",\"blue\",\"blue\",\"blue\",\"blue\",\"blue\",\"blue\",\"blue\",\"blue\",\"blue\",\"blue\",\"blue\",\"blue\",\"blue\",\"blue\",\"blue\",\"blue\",\"blue\",\"blue\",\"blue\",\"blue\",\"blue\",\"blue\",\"blue\",\"blue\",\"blue\",\"blue\",\"blue\",\"blue\"],\"phrase\":[\"Can I get back with my ex even though she is pregn\",\"What is the best way to become an arms dealer in t\",\"Why doesn't Japan contribute to peace and prosperi\",\"Which is the best Panasonic air conditioner servic\",\"What did ancient Egyptians believe about the after\",\"How does one prepare for the RBI grade B officers \",\"Which institutions in Kolkata give coaching for en\",\"Will omar bravo be in fifa 17?\\n\",\"What are the pros and cons of arranged marriages?\\n\",\"What will happen if all the vegetable dies?\\n\",\"Why do people hate hypocrites?\\n\",\"What do you consider poor, middle class, wealthy a\",\"How do I concentrate on my studies?\\n\",\"What is new age psychobabble?\\n\",\"How can you tell if your man is cheating even if h\",\"Can you see yourself during lucid dreaming?\\n\",\"Which browser is most safe in terms of privacy and\",\"Can Google Assistant run on OnePlus 3T?\\n\",\"Apart from the VW Vento / Polo and Skoda Rapid, ar\",\"What is Panera Bread?\\n\",\"Do athletes live longer and healthier? If not, why\",\"Could a pitbull take on a wolf in a fight?\\n\",\"What has Obama done for Latinos/Hispanics?\\n\",\"How much is |x|^2?\\n\",\"How does operator.com work?\\n\",\"Why do people not make movies/talk about the Romas\",\"What were the major contributions of the political\",\"Company Secretaries (CS): How do I prepare for CS \",\"What are the job prospects of chemical engineers a\",\"I have never gone to a bank. How do I put money in\",\"What is the best strategy to prepare for the GATE \",\"Who is this porn star?\\n\",\"Why are specs & sunglasses so expensive?\\n\",\"I installed the movie torrent with Ultra XVid Code\",\"Can we ride scootry with learning lisence age of 1\",\"Two cards were drawn, without replacement, from a \",\"How much money is needed per month to live in indi\",\"Why do companies issue bonus shares?\\n\",\"Why are Iranians and Afghans considered white Amer\",\"Could mumps cause deafness?\\n\",\"What is meaning of sadaka?\\n\",\"What should I know before starting a YouTube caree\",\"Is the ITI College Principal is gazetted officer?\\n\",\"How do you feel now that Donald Trump is now the P\",\"What is the difference between imperial units and \",\"What is the easiest way to do effective self hypno\",\"Why has China increased its involvement in the Syr\",\"From which year CBSE class 10th exam be reintroduc\",\"Is 1080p a Blu-ray?\\n\",\"Does using mirrors to concentrate thermal energy d\",\"How do I avoid attractions by phones?\\n\",\"What are some of the effects of education can you \",\"What are the characteristics of a Pisces Sun/Libra\",\"What is the most cost-effective option to ship pac\",\"Are red and blue complementary colors?\\n\",\"Is it possible to make a material that is a superc\",\"What is the best Shonen Jump manga?\\n\",\"Are Oracle and Cisco good companies for a new grad\",\"If lighting a match is considered a chemical chang\",\"Why is Hillary so afraid of Putin?\\n\",\"Which is the best book to study electronics basics\",\"What are the basics I should know before learning \",\"Can I use Cph4 on a day to day basis?\\n\",\"Is it safe when I buy things from China?\\n\",\"Why did some ethnic minorities support Brexit?\\n\",\"How much money has tinder made?\\n\",\"What is the limit?\\n\",\"Will browsing Facebook while connected to Tor reve\",\"If I get 68.4 percent in ftre 2016 class 10 then w\",\"No product market fit: change product or market fi\",\"What makes you sad about India?\\n\",\"How do I know if someone has read my messages on w\",\"Why there is a sound when we crack our knuckles?\\n\",\"Why do I only make friends with guys?\\n\",\"What is 'open-mindedness'?\\n\",\"What is the cause of carpal tunnel syndrome?\\n\",\"What is the difference between a \\\"slow cooker\\\" and\",\"What is Hillary Clinton's stance on nuclear energy\",\"Do IIT colleges require a caste validity for an ST\",\"How do I listen a song from you?\\n\",\"Why do so many Iranians immigrate to Canada?\\n\",\"What will happen to India-U.S. relations after Tru\",\"A program that stored five words in the memory the\",\"What are ways of joining to ISRO as engineer other\",\"Can Magneto defeat Hulk?\\n\",\"What time of year is it best to visit Singapore?\\n\",\"How do I study for ib?\\n\",\"What should I do if someone doesn't reply to my em\",\"How much does Manveer Singh Phogat gets for Dangal\",\"What is it like to be cannibal?\\n\",\"How can the Android app development companies help\",\"Who would you say is the most fun person in Israel\",\"How can one improve her figure and butt size witho\",\"As a company that provides travel agencies and tou\",\"What is the most beautiful thing you saw today?\\n\",\"Is gay flirting good?\\n\",\"Can I use Stripe in Europe?\\n\",\"Will Britain leaving the European Union lead to th\",\"Why are so many East Asian immigrants so averse to\",\"Why do we need computer networking?\\n\",\"What is retina detachment?\\n\",\"Why don't more bars have mechanical bulls?\\n\",\"How do I get better understanding of C++?\\n\",\"Which is the most profitable Porsche US dealer?\\n\",\"What are the best over the ear headphones for abou\",\"Is it true that the first kill is the hardest?\\n\",\"Which is best 32 inch led tv to buy below 20,000 I\",\"I am scoring 130/506 in FiitJEE aits part test adv\",\"What kind of websites are missing from the Interne\",\"What is the best way to use free time at IITB?\\n\",\"Is it possible for me to buy my first company usin\",\"What should I do to have sex with as many women as\",\"What is the scope of Executive MBA in India?\\n\",\"Which BMW models do not have a Hofmeister Kink?\\n\",\"What is yellow journalism?\\n\",\"Why do doctors charge uninsured patients 10 times \",\"Which one is the best public sector job or private\",\"Will social media ever help to spur on the US youn\",\"How should I know a video is 360 degree?\\n\",\"Is a practice manual sufficient for the CA Final I\",\"Career Advice: Being an Indian college student, ho\",\"What are the advantages and disadvantages of Li-Fi\",\"On Snapchat, I deleted someone. Can they re-add me\",\"Are there any cereals that taste good with water?\\n\",\"Why does a woman's vagina push a mans penis out?\\n\",\"What is the British word for bullpen?\\n\",\"How hard is it for international students to get a\",\"How did Revan build his foundation of his army in \",\"What is the best way to read a fictional book? Do \",\"How do you replace a ignition lock cylinder?\\n\",\"How can I prevent business failure?\\n\",\"How often do tides occur? What causes it?\\n\",\"How do I learn Calculus on my own?\\n\",\"What is the reason for Priyanka Gandhi not changin\",\"What should I eat when I'm sick with a cold or flu\",\"What is a Business Intelligence Analyst?\\n\",\"Which sports should I start to play to paticipate \",\"How should I prepare for Java fresher interview?\\n\",\"How different are cuisines of Arab countries?\\n\",\"What is the meaning of the phrase, all is fair in \",\"Why does Quora send me a notification that my ques\",\"What are the hardest obstacles to breaking into a \",\"What makes a falling snowflake large (or not)?\\n\",\"What is the compensation for Partners/Principals a\",\"What is the difference between an array and a vect\",\"If you kiss the NC State wolf do you become an NC \",\"Is it boring (from a social perspective) to live i\",\"What would have happened if in 1971 war all 93000 \",\"What are the easiest things to do while being abro\",\"Does getting root canal cause problem in speaking \",\"What is the definition of a truncated sentence and\",\"Would I look good with a nose ring? if yes which n\",\"What are the perks of working in Amazon?\\n\",\"How can we say that climate change does not bring \",\"What it is like to meet \\\"Shahid Kapoor\\\"?\\n\",\"How does it feel when you are dead?\\n\",\"Which is the best juicer, grinder or mixer in Indi\",\"How do I learn to think more logically?\\n\",\"Which movie has the best beginning ever?\\n\",\"Which laws been enacted to prevent family members \",\"What is iPhone 6s plus cost present?\\n\",\"What is Ohm's law and amperage I?\\n\",\"What is the nicest thing a stranger has done for y\",\"Why do some heroic people who do good things choos\",\"How will Hindus react if Babri Masjid is reconstru\",\"R2I - How did you plan R2I from US if you own the \",\"How can I master C programming in 7 days?\\n\",\"What is the right way to clean ear wax?\\n\",\"What are some good games to play during class?\\n\",\"Is it possible to hack WhatsApp messenger?\\n\",\"Why do airplanes carry more weight than helicopter\",\"Shaving: Do electric shavers work better than manu\",\"Has anyone benefited, health-wise, from essential \",\"Can Students at Hogwarts have sex while there? Doe\",\"How can we enhance our efficiency with Yoga?\\n\",\"What are the best app review sites and blogs?\\n\",\"Can two companies be registered on the same addres\",\"Is it true that as per Indian law, one can't be ha\",\"Who would win in a war between Bangladesh and Myan\",\"How do you reply when someone thanks you for forgi\",\"Who would win a fight between wolverine and Batman\",\"What is one thing you wish for yourself in the fut\",\"Can you cry underwater?\\n\",\"What's the difference between SSL, TLS, and HTTPS?\",\"Why are antigravity muscles more affected in Upper\",\"In order to buy a house, does one have to rent fir\",\"What is the probability of choosing a pink ball fr\",\"Which is the best car to get under 8 lakhs?\\n\",\"Why isn't China's role in the Korean and Vietnam w\",\"What is the Laplace transform of t^(1/2) * e^ (-1/\",\"To those who told a big lie to their parents and t\",\"What is runtime polymorphism or dynamic method dis\",\"I had sex 5 days after my period, what are the cha\",\"How would you describe yourself in one tweet?\\n\",\"How do fairy tales influence creativity in humans?\",\"How do I add delay() and sound() in Dev-C++?\\n\",\"What is the pathophysiology of ADHD?\\n\",\"What are the top benefits of life insurance polici\",\"Can I get a TV from Bang & Olufsen for under $2500\",\"How is the life of an ece student at dayananda sag\",\"What is meditation?\\n\",\"Were the Ancient Greeks scientists, or just philos\",\"How does Google authenticator work?\\n\",\"Wouldn't it be better if kids were allowed to focu\",\"Can you apply for a certificate on Coursera/edX af\",\"Why do Quora engineers use large monitors?\\n\",\"How do I start an online clothing business?\\n\",\"How will the government meet the challenges of acc\",\"I saw a charge on my credit card under from a comp\",\"What is the difference between socialization and r\",\"How would the world be different if everyone spoke\",\"Who receives the fares in a cab service?\\n\",\"As a non-resident alien doing a summer internship \",\"Which is the best camera smartphone under 20k?\\n\",\"What does it mean to dream about someone before th\",\"What are the subjects in which I can apply for my \",\"What are the basics of Jainism?\\n\",\"What is the Difference between existential nihilis\",\"How can I see my girlfriend's WhatsApp chat messag\",\"What are some ways to enjoy sex with my newly marr\",\"How can I study the Bible?\\n\",\"How can someone be a friend, girlfriend, wife and \",\"What are the Snapchat usernames of punjabi celebri\",\"What is 1/2 times 1/2?\\n\",\"Where does the word restaurant come from and what \",\"What can I do with a computational linguistics deg\",\"Will trump win as president?\\n\",\"What impact will AI eventually have on how we plan\",\"Why is eating too unhealthy?\\n\",\"What if the Syrian civil war never happened?\\n\",\"How do the teachings, learning, followership and/o\",\"Did you ever been in a group of stupid people?\\n\",\"What are the multiple types of social issues?\\n\",\"Where can I find beginner NodeJS tutorials that us\",\"If I got a 7.4 CGPA in the SA1 10 class, then can \",\"Which the best time table for 10th class exams pre\",\"Elite Escorts in DHA Lahore?\\n\",\"My ex bf says he doesn't have feelings for me righ\",\"What are the questions in the interview for a fres\",\"What do you think are some of benefits to humans f\",\"Which one is the best medical college hostel in in\",\"Have you lived in a tiny house?\\n\",\"What are some things new employees should know goi\",\"Where can I hire high pressure cleaning service in\",\"How many Bollywood Actresses consume alcohol in re\",\"How does PayU earn money?\\n\",\"Is it possible to change your personality as a chi\",\"How do I apply to London School of Economics as an\",\"How do I build a profile to get accepted into a st\",\"How can I get real ghost stories?\\n\",\"Is it possible to hack NASA's New Horizons satelli\",\"What is the best way of getting good at answering \",\"How would you deal with jerks?\\n\",\"How can I do internship in Accenture India?\\n\",\"Why would an Indian girl not want to get married?\\n\",\"My WhatsApp chat backup got deleted from Google, I\",\"Is going to college really worth it or just a wast\",\"How many prophets did God send to the Jews?\\n\",\"What is the relation and difference between Artifi\",\"If you don\\u2019t have a good network, what would be th\",\"What are the best place to visit in Rio de Janeiro\",\"Which is the best college for PG in Cyber Security\",\"Which are the best English serials?\\n\",\"How do you say \\u201cWhat\\u2019s up?\\u201d in Chinese?\\n\",\"Is it bad to take expired fish oil pills because t\",\"Will there ever be a genuine Authoritarian candida\",\"Is World War III on its way right now?\\n\",\"How can you use time formats in Excel?\\n\",\"What is the best antivirus for Windows 8?\\n\",\"Why do people like Metal/Hard rock so much?\\n\",\"What are the worst smelling things in the world?\\n\",\"Could someone explain the following electives at N\",\"What's a funny thing?\\n\",\"What are the main reason of cracks?\\n\",\"How do I hitchhike in Europe?\\n\",\"What is the physical significance of quantum mecha\",\"How do we get dead people off business junk mail l\",\"Who among the four in the picture given in descrip\",\"How do I know if I authentically, genuinely, hones\",\"On average, how long does it take a letter mail fr\",\"When will One Piece have episode 517 dubbed?\\n\",\"What should I do if I fell in love with my best fr\",\"How do criminal lawyers sleep at night even when t\",\"Can I get refund for Tatkal e-ticket because train\",\"How can I buy the new Macbook 12\\\" M7 512GB model i\",\"What are the different e-governance methods used b\",\"How do I run smoother GTA V? I have intel core i3 \",\"What is the use of tanpura?\\n\",\"What are the Snapchat usernames of celebrities?\\n\",\"Which is better- cracking gate and going for IIT/i\",\"Can you lose weight without exercising?\\n\",\"What is the best way to make life more interesting\",\"Is Delhi a must for UPSC coaching?\\n\",\"Which are the best colleges for electronics and in\",\"I have been a .Net developer for over 2 years and \",\"Has a smartphone ever been taken to space? If yes \",\"What questions should I ask my boyfriend, we are b\",\"How do I delete a contact blocked in WhatsApp?\\n\",\"Is it a good time to buy real estate in Cyprus?\\n\",\"South India: Why is South India much more develope\",\"What is the formula for a hydrocarbon?\\n\",\"What if an alien comes and tells us that the physi\",\"What are the pros & cons of democracy?\\n\",\"I'm 16 years old and wanted to lose weight and bod\",\"Can I add more peers to the torrent for max speed \",\"What are the best neighborhoods to Airbnb in Chica\",\"What we will get in mahabalipuram beach sunrise or\",\"How fast can you accelerate to the speed of light?\",\"What is the difference between R-squared and Adjus\",\"How many times can women reach orgasm in a hour an\",\"Why didn't Johor, Batam & Singapore integrate more\",\"Which products are more profitable in online sell?\",\"How do I get rid of muscle?\\n\",\"What is the process of directing and casting child\",\"Is the 7th pay commission needed?\\n\",\"What are the best games that are compatible on a C\",\"What was the significance of the battle of Somme, \",\"How do you see Pakistan PM Nawaz Sharif's speech a\",\"Where can I publish my apps?\\n\",\"What was your darkest moment?\\n\",\"Why does the UK have an unwritten Constitution?\\n\",\"What are the necessary steps in documenting a mobi\",\"Why was life created? Why was life so painful?\\n\",\"How can I use explainer video to review products o\",\"What is difference between residue and error?\\n\",\"If 6.5 to 8.5 will be the safe level of pH value i\",\"I am 23 and don't know what I want. My life is ver\",\"What are your three favorite websites for reading?\",\"Why do people choose to be a GAY?\\n\",\"What is the process of death?\\n\",\"Why does light red deserve the special name \\\"pink\\\"\",\"Who are millennials?\\n\",\"What it's like doing CA articleship from Big 4s?\\n\",\"What is the most important right or freedom guaran\",\"Why do some porn stars have unprotected sex?\\n\",\"What are my reasons to live?\\n\",\"How small would a planet need to be to plainly see\",\"Some religion speaks of burning in hell after deat\",\"What does it feel like to be an IITian?\\n\",\"How does cognitive behavioural therapy work?\\n\",\"Why should you visit India?\\n\",\"I lost my Google account information. How can I re\",\"What if I port a number from Airtel to Vodafone in\",\"What are the reasons why time travel is impossible\",\"Will my iPhone alarm still go off if \\\"Do Not Distu\",\"Did South Korea cheat during the 2014 Asian Games?\",\"Take the minimum lethal volume of a gaz, put it in\",\"\\\"How to improve Project Management skills?\\\"\\n\",\"When you were small, did you ever think that your \",\"Where did the pointy \\\"S\\\" symbol come from?\\n\",\"How does it feels like to have a rich boyfriend?\\n\",\"What have you used your intelligence for?\\n\",\"What is a freewheeling diode?\\n\",\"How do we derive pi?\\n\",\"What is the importance of communication skills in \",\"How can I put icons on YouTube video titles? Also \",\"What does the phrase \\\"resonate with me\\\" mean?\\n\",\"How many types do we have of Manual testing?\\n\",\"What are IBAN numbers?\\n\",\"What is regret?\\n\",\"As a student specializing in English language, lit\",\"What is the corporate culture like at Corning? How\",\"How can I convert jazz standards to jazz guitar so\",\"How good was the surgical strike by Indian Army on\",\"What recipes are most conducive to romance?\\n\",\"What are the unknown facts about Tamil people whic\",\"Where do I find the most beautiful woman in the wo\",\"What does the grey phone icon mean on the messenge\",\"How do I share 360\\u00b0 photos on WhatsApp?\\n\",\"What is the difference between working stress meth\",\"What are the opportunities for an MBA in finance?\\n\",\"Can you patent clothing or fashion designs?\\n\",\"My in laws are apologists for Nazi war criminals a\",\"Which is the safest city in India for women?\\n\",\"What horse breed were commonly used during the \\\"Wi\",\"Is it weird to sometimes feel almost overwhelmed b\",\"Can anyone please list all the SAP SD topics a per\",\"In the filling of ibps application I put martial s\",\"In a restaurant, what are the different types of t\",\"Why does amir khan never go to any filmy awards fu\",\"What is a good inpatient drug and alcohol rehab ce\",\"Why does UV light cause contamination on optics, b\",\"How do I invest in mutual funds in India?\\n\",\"How comfortable are you with failure?\\n\",\"What skills are required to become a quant?\\n\",\"Why do startups announce fundraising?\\n\",\"What is your review of Amazon Video?\\n\",\"Why there is no team from Tamil nadu in pro kabbad\",\"How do I auto forward texts from my Verizon phone \",\"How do the Chinese people view Americans?\\n\",\"What is virgin or virginity?\\n\",\"What are the different ways of submitting a Reques\",\"Can a high school teacher legally force students t\",\"Why does water droplets form on the outer surface \",\"Which mammals have dark circles around eyes beside\",\"How do each components of a printer work?\\n\",\"What are some foods beginning with the letter W?\\n\",\"What are symptoms of a bad transmission control mo\",\"How do astronauts in ISS vote for Presidential ele\",\"What is the difference between Aim and Goal?\\n\",\"What is AT & C?\\n\",\"Who was Jackson Pollock? Was he mentally ill?\\n\",\"How do I make good vine edits?\\n\",\"How can I cut my penis?\\n\",\"How can I change my Quora profile photo?\\n\",\"My husband was here seeking asylum before we got m\",\"Is it good to use Laravel to develop a web app wit\",\"I have a mild sore throat an headache. What is tha\",\"When will a working nintendo 3DS emulator release \",\"What do we know about the health effects of vaping\",\"INSEAD: Worth the investment?\\n\",\"How is long rides in royal Enfield classic 350?\\n\",\"What famous boxers have participated on Dancing wi\",\"Will season 10 of Big Bang Theory be the final sea\",\"Can I crack KVPY (SX) with only three months left \",\"What are some little-known facts from World War II\",\"What is the most unique way of exam cheating you'v\",\"When was the last time a slam dunk broke a basketb\",\"What should I do for my excessive hair loss?\\n\",\"How do I find people's psychological weakness?\\n\",\"What is the difference between Awareness and Consc\",\"I hate everything that people around me like. Is i\",\"I think I am pretty good at thinking of a business\",\"How do you determine the thickness of a footing ba\",\"Why does vapours are formed when we pressurize alc\",\"Is it easy to adjust in German Universities withou\",\"What is UNIX and UNIX-like?\\n\",\"What is the best way to promote www.dorkyard.com?\\n\",\"What's up in Addis Abeba tonight?\\n\",\"Is there any point to going to college if you have\",\"How much would it cost to construct 800 sqft area \",\"What is an ideal wife? What is an ideal husband? W\",\"What information does port scanning provide?\\n\",\"What are the application of quasicrystals?\\n\",\"What is the determinant of the inverse of a matrix\",\"How is Brad Pitt in \\\"real Life\\\"?\\n\",\"I have a 3 yr bachelor's degree in Computer Scienc\",\"Demonetisation is good for county like India or no\",\"My parents think I am rude for being so introverte\",\"How many people have jumped off the Golden Gate br\",\"What are Osho's views on Islam?\\n\",\"Why does the government regulate health care?\\n\",\"Which phone has the best sound recording quality?\\n\",\"What is the best part of your life, and why is it \",\"Which is better hair wax or hair clay?\\n\",\"How do I charge my motorcycle battery?\\n\",\"What are the updates we get after miui 8.0.6.0?\\n\",\"Why does Robinhood need to bypass the App Store?\\n\",\"Which is a better route, Alipiri or Sri Vaari?\\n\",\"How much extra would it cost if Apple manufactured\",\"When will the next recession be?\\n\",\"What are some arguments in support of electing Don\",\"What does Russia want with Ukraine?\\n\",\"What is the difference between a recorder (block f\",\"What is the meaning of random number?\\n\",\"Which one is good for health: tea or coffee?\\n\",\"Is Texas good state for non-resident to register a\",\"What is kirchoff's law?\\n\",\"Is it wrong for a family member to keep making com\",\"My parents are forcing to marry a girl of their ch\",\"Which is better, Windows+Linux or OSX?\\n\",\"Why aren\\u2019t Christians that pray to/have a relation\",\"How much TDS will I have to pay for an RD account \",\"What is the meaning of thematic connection?\\n\",\"How should you prepare to take your maneuverabilit\",\"What are the best materials/videos/resources to ge\",\"Can a \\\"dirty\\\" finish be added back to jeans?\\n\",\"Why does my dog keep whining at night?\\n\",\"Is it bad to turn off my PC using the power button\",\"What is image processing?\\n\",\"I went to school with mostly black kids, they bull\",\"Does Donald Trump actually think he can become Pre\",\"Which are the 5 best movies you have ever seen?\\n\",\"How do I get traffic to excursions travel website?\",\"Where can I download the Android game Leo's Fortun\",\"How do I get more followers and upvotes on Quora?\\n\",\"What is a factory reset on a phone?\\n\",\"Which phone should I buy if my budget is 12000?\\n\",\"I have GPU implementation as a graduation project.\",\"What are the libertarian views on the Antarctic Tr\",\"What would the world be like if it were ruled by a\",\"How do you choose your first bank?\\n\",\"Who runs berkuliah.com?\\n\",\"What does Godel's incompleteness theorem mean for \",\"How do I delete a Gmail account?\\n\",\"If my ultimate goal is to become a vegan, should I\",\"Did the US win the war in Afghanistan?\\n\",\"How can I become a good engineering student?\\n\",\"What are some ways to increase intuition?\\n\",\"What causes depression in humans?\\n\",\"How can I control my anxiety and worries?\\n\",\"How can we jump in between the working regions of \",\"How do I stop loving someone who loves me?\\n\",\"Can personality and insecurity create a liar?\\n\",\"What is the best country and university to do a Ph\",\"How do I edit a video offline?\\n\",\"What is the rent of kiosk in an upscale mall?\\n\",\"What should I start reading if I want to attempt t\",\"Which is the best anti-virus for computers?\\n\",\"Does food unite people?\\n\",\"What do you like most about Internet?\\n\",\"What is a good model of federalism in the Philippi\",\"How do you know if a girl secretly loves you?\\n\",\"Who is the most annoying fictional character you h\",\"How do you feel when your question is unanswered o\",\"Did early humans know how babies were made?\\n\",\"If I cancel xfinity, how can I sign up as a new cu\",\"Are there any TV series similar to House MD?\\n\",\"What you need to know before buying furniture for \",\"Have you ever had a dream happen in reality?\\n\",\"Is dark matter just a scientific theory or has its\",\"How can you increase your tolerance for pain?\\n\",\"How many logical fallacies are there?\\n\",\"How do buttercream icing frosting separate?\\n\",\"Which is the cheapest cinema hall of India?\\n\",\"What do you think would be a good gre score?\\n\",\"What is the best way to update Xiaomi redmi 3 to M\",\"What does toe jam cheese taste like?\\n\",\"How do I know if a YouTube video is copyrighted?\\n\",\"How should I start a business reselling shoes?\\n\",\"How do I hire a mobile app development company?\\n\",\"What is paras pathar?\\n\",\"How is the word \\\"colony\\\" used in a sentence?\\n\",\"What is Rebecca Fugate known for?\\n\",\"What should I consider before starting my consulta\",\"Do you feel that many attractive women get away wi\",\"Why do I feel so much guilt for kissing a girl?\\n\",\"What are some good tutorials for learning Blender?\",\"Is it deceitful to befriend someone in the hopes t\",\"Who do you think BJP will put as a candidate for t\",\"Which protein supplement is best for gym to gain w\",\"What is your review of KVPY SX/SB 2016?\\n\",\"How do I get people's attention for my work?\\n\",\"What are some of your own personal stories and exp\",\"If salt concentration of the sea(3%) were differen\",\"What is the chemical name for mothballs? How was i\",\"Vitamin D receptors in the Testes?\\n\",\"How do I lose weight without working out?\\n\",\"Where can I watch anime?\\n\",\"What is BusyBox used for?\\n\",\"What would be a good desktop computer for software\",\"What are your top five favorite books and why?\\n\",\"What are some good Harry/Ginny fanfiction?\\n\",\"What are the pros and cons of having sex during pe\",\"Which device will you enjoy watching movies in: a \",\"Will there be \\\"faithless\\\" electors this election?\\n\",\"Is Donald Trump an undercover democrat?\\n\",\"Why am I the way I am?\\n\",\"Why do some women get their nipples pierced?\\n\",\"What do Delhi University girls (especially North C\",\"What is the name of this TV series?\\n\",\"My salary is below the Basic Exemption Limit, yet \",\"What is a foliated rock?\\n\",\"What are some of the best books to start learning \",\"How should I prepare for IIT-JEE 2018?\\n\",\"How do unions work?\\n\",\"Can we give neet coaching in class 11?\\n\",\"Which is the best dish TV connection in Hyderabad?\",\"How can you train a Doberman/Lab mix?\\n\",\"How do you reduce stress at work?\\n\",\"What is the best algorithm for finding the number \",\"How can I earn $250 in 2 months?\\n\",\"Why did GE buy NBC?\\n\",\"What is the highest level of c?\\n\",\"How do you mash potatoes without a masher? What el\",\"How difficult is it to learn Python?\\n\",\"How do you convert years into seconds?\\n\",\"How do you view bisexuality?\\n\",\"What is information technology? What are some exam\",\"Why are Altoids so strong?\\n\",\"How effective is email marketing?\\n\",\"Why does my tutor keep winding me up. He says he i\",\"How can I start my Tok essay which is about accura\",\"How do I repair my corrupt memory card?\\n\",\"I have 3 years to prepare for IIT JAM Physics. How\",\"What are the best Instagram hack tools that have n\",\"I am studing interior design. What are some good i\",\"What are some stupid jokes that make you laugh?\\n\",\"What are the factors affecting Real estate investm\",\"How can I get rid of white dry spot on my face? It\",\"What is it like to have an ugly wife/partner?\\n\",\"What do you love most about your life and why?\\n\",\"In the unlikely event that the Electoral College t\",\"How is life as an Engineer?\\n\",\"Where and why are the imaginary numbers used?\\n\",\"What are some good hypo-allergenic lipsticks?\\n\",\"Did the United Nations play a part in the divide o\",\"When and Why did America become a world power?\\n\",\"What are some recipes using Hormel Black Label Ham\",\"Which is the best company to invest shares on Nove\",\"The man I'm about 2 marry says when I have my peri\",\"What can be the best answer for why finance?\\n\",\"What are the best facts about the universe?\\n\",\"What's the sweetest thing you did for a bestfriend\",\"What is the difference between techno and trance m\",\"TV Sitcoms: Why do English comedy shows have peopl\",\"Does percentile system would affect neet 1 student\",\"Is there Uber in Valencia, Madrid and Barcelona?\\n\",\"Have real-life siblings ever shot intimate scenes \",\"How should I improve my writing skill for blogging\",\"Can cold weather affect a menstrual cycle?\\n\",\"How can we earn money online while studying?\\n\",\"Can a tablet keyboard be used on any kind of table\",\"What are the Upcoming development projects in Chha\",\"Where can I buy cheap Twitter followers?\\n\",\"Why do passengers from aircraft are not given a bu\",\"When should I tell my crush I like her?\\n\",\"Why does Pakistan have a better image and reputati\",\"What are Andrea Pirlo's strengths as a midfielder?\",\"From a point in space billions of light years away\",\"Will Medicaid pay for electrologist to do the shav\",\"Why do technical employees despise sales people so\",\"What are the best freelance websites for C#?\\n\",\"Will I be successful without educations?\\n\",\"How can I learn about cars?\\n\",\"What is the best question asked in an interview?\\n\",\"Why there is so much hatred against Brahmins in In\",\"How do I learn to enter journal entries online in \",\"Will CS be issuing a PR message for Boston?\\n\",\"Why do some people 'hate' drugs or people who ever\",\"How do I know my passion? What is my talent and wh\",\"How do pessimists and optimists differ?\\n\",\"How many pulleys did it take for Archimedes to lif\",\"What is the best course after 12th for a medical s\",\"What are the steps that I should follow to get in \",\"Where was the boston marathon?\\n\",\"What is it like to be in or around a bomb blast?\\n\",\"Will Trump destroy international US-companies thro\",\"Should celebrities have the right to voice their o\",\"Can I say that: \\\"A battery can be seem as a capaci\",\"What is it like to be an ENTP?\\n\",\"How do I start designing on glass?\\n\",\"What is the market risk premium formula?\\n\",\"How can I pay the parking meter if I have no coins\",\"Is it true that Obama has a secret son named \\\"Luth\",\"Which is the best coaching for IAS in up?\\n\",\"How big is the equity funding market in North Amer\",\"Which are the good government medical colleges in \",\"How do I control my hair fall?\\n\",\"Is it really worth creating Shopify themes?\\n\",\"What can cause knee pain? It only hurts when I sta\",\"Where can you find a list of common 9 letter words\",\"NSFW: Is this penis color normal or should I see a\",\"Why do most women remove the hair from their arm p\",\"Which processor is better (faster/more efficient),\",\"Which two statements are true regarding views in s\",\"What is the easiest and quickest Indian food recip\",\"What are the best local SEO companies in India?\\n\",\"How do I get rid of adult content on my Quora feed\",\"Can the zombie fungi attack humans as well?\\n\",\"If I wanted to learn about the Roman Empire,what w\",\"What are the key differences between LXDE and XFCE\",\"Can people see the sellers real name, e-mail addre\",\"Should I still watch The Matrix movie?\\n\",\"Is there any truth to the rumor that the youngest \",\"Is it ok that I don't want to hang out with my fam\",\"I am in class 9. If i want to crack IIT JEE, then \",\"Will Obama's gang stalking/surveillance program be\",\"What are some good songs to lyric text prank a fri\",\"Where can I get best quality video DJ for party in\",\"How long does it take for your hair to grow?\\n\",\"Should I update my Redmi 3s from MIUI 7 to MIUI 8?\",\"How do muscles work?\\n\",\"WHAT IS THE BEST ROUT FOR NEPAL PASUPATI NATH TEMP\",\"How to make a website similar to feedwiser.com in \",\"Why does India so scared of CPEC?\\n\",\"What did your first sex feel like as a girl?\\n\",\"In International ODI/T20 cricket matches, if a bat\",\"Why can humans feel acceleration, but not constant\",\"Can the Microsoft Surface Pro 4 run AutoCAD?\\n\",\"What are the differences between stock Crown Victo\",\"What are the good ways to download Lynda.com's tut\",\"How much is the average salary package for a 1.5 y\",\"How can you reduce the barriers of communication?\\n\",\"Why would someone use Instagram Stories over Snapc\",\"Whiskey: How many 'shots' are in a fifth of Jack D\",\"What might happen now that President-elect Donald \",\"How do I write a waiver letter for school?\\n\",\"I am interested in persuing ma industrial psycholo\",\"Does modafinil shows up on a drug test? Because my\",\"Is it possible to get high off Vyvanse?\\n\",\"Is an agnostic necessarily a skeptic, and how?\\n\",\"Where can I get best support in Sydney for buying \",\"What are the duties of a lieutenant in Indian army\",\"Why is smileys not used on Quora?\\n\",\"What does it feel like for a man when someone who \",\"How does post graduation permit impact .lets say I\",\"Online Payment Gateways and Processing: What is th\",\"What are the best books to learn c programing lang\",\"Solid State Physics: What is The Theory of Alloys?\",\"How do I fill in my first name in a PAN card dupli\",\"Why is egg yolk not good for you?\\n\",\"Anatomy of Female Pelvis: Do women really have an \",\"How much does it cost to develop mobile applicatio\",\"Who is the most honest Game of Thrones character?\\n\",\"What is a high quality Apple MacBook Air charger?\\n\",\"Where and how is the WWE championship belt made?\\n\",\"What is green communication?\\n\",\"I have been a good student since chiild hood but j\",\"I'm solving exercises of artificial neural network\",\"Compared to your own compensation, and in consider\",\"How can I keep browsing Quora forever?\\n\",\"Having built web stuff the old way (PHP/MySQL) bac\",\"Is our new currency note of Rs.2000 equipped with \",\"What's the best way to join a startup in DC?\\n\",\"What would happen if we added a second Earth of eq\",\"When will piracy on Android stop?\\n\",\"What do you mean by executive consultant and suppo\",\"Why do I always feel like I am missing something?\\n\",\"What does a user see when he/she gets a new messag\",\"How can I become a web developer?\\n\",\"Is there any good alternative softwares to Tally?\\n\",\"Would you have sex during period?\\n\",\"Are there prominent Bangladeshi Hindus?\\n\",\"I have registered for PhD (no NET) (phy) in 2013, \",\"I changed my name, but the person did a mistake. M\",\"At what age do your breasts stop growing?\\n\",\"How do I get a girl's phone number in a library?\\n\",\"I am into a habit of over thinking things. How do \",\"What is the average salary of a civil engineer?\\n\",\"What is the difference between rote learning vs me\",\"What are the ways to compete in the Olympics in 20\",\"What trivia (and/or little-known facts) do you fin\",\"Xiaomi Redmi note 3: Which is the best colour to b\",\"What does \\\" the Hadamard Perron theorem\\\" means?\\n\",\"Is there a way to see the viewing history and chat\",\"What is the best place for trekking in Goa?\\n\",\"How does an instant messenger work?\\n\",\"What are the disadvantages of the World Trade Orga\",\"Why does the US military not use AK series rifles?\",\"Does Moto m have gorilla glass?\\n\",\"What is the hierarchy of an associate consultant a\",\"What are some major landforms in Texas, and how do\",\"What other jobs can a medical degree holder do mea\",\"MY HP DEXTOP DOESNOT CONNECT WIFI WHY?\\n\",\"How can I get motivated to workout?\\n\",\"What should I gift it to my mom on her birthday?\\n\",\"Which is the best video you have ever seen?\\n\",\"I was selected in campus and was issued a joining \",\"What makes a poem a good way to express emotions? \",\"What would happen if I cut down a tree outside my \",\"Can you make money in Amway?\\n\",\"Body Weight: How many pounds can I gain every week\",\"What are the impacts (both positive & negative) of\",\"I forgot the password which I used to login n n lo\",\"What are the best websites for career?\\n\",\"What is your favourite episode of the office (USA)\",\"Why is time slower down near heavy objects?\\n\",\"How do l update any version after rooting the mobi\",\"Why is 3 am called the witching hour?\\n\",\"How do I run a shell script from Java code?\\n\",\"What are the advertising campaigns of 2011?\\n\",\"Should I opt for computer science if I don't take \",\"What are the polymers of protein?\\n\",\"How much better will the JWST be than Hubble?\\n\",\"What are the greatest examples of absence of mind?\",\"How can I understand the STOCK market from the bas\",\"How do I make Gazpacho?\\n\",\"What is the typical role of a brand manager?\\n\",\"Who are the top 5 hottest women ever?\\n\",\"What is the name of the game that Aamir Khan was r\",\"How long does it take to learn dance?\\n\",\"What's the funniest thing that's happened to you a\",\"Why are metals malleable and ductile?\\n\",\"List of national daily in India?\\n\",\"Are Volvos actually safer than comparable cars?\\n\",\"Can you tell who has been looking at your Instagra\",\"A ball dropped from the roof of a building takes 4\",\"What percentage of Hillary Clinton's supporters ha\",\"Do you think you are beautiful?\\n\",\"Which are the free email marketing tools?\\n\",\"What topic of discussion do people hate the most? \",\"What is the point in having hyper-politicised stud\",\"Why Steve Jobs is considered as innovator?\\n\",\"How long would it take an average programmer to wr\",\"Why are conservatives defending Holly Fisher? (see\",\"What is so important about Adam Smith's pin factor\",\"What is the Arizona bark scorpion, and how do anim\",\"How do I stop smoking cigarettes?\\n\",\"What are the functions of a computer's motherboard\",\"How can tea bags help for styes?\\n\",\"How can I get a patent for my really effective inn\",\"Can India ever become 'Sone Ki Chidiya' again?\\n\",\"Is there any way to play Android games LAN multipl\",\"Why should I ask my first question?\\n\",\"Who are the top writers on Hinduism on Quora? Who \",\"How do I wake up at 4:00 A.M.?\\n\",\"Why is Quora moderation collapsing all my answers?\",\"In an honest assessment, what do you think of Trum\",\"What type of bonding is present in a coordinate bo\",\"Is it possible to delete your Wikipedia account hi\",\"I'm a +2 CBSE non-medical student. Is there any pr\",\"Are there any limitations as to setting up a forei\",\"How will the drought in California affect its econ\",\"What is Informatica online training?\\n\",\"Is it compulsory for a Web designer and developer \",\"How could the US realistically pay off its debt?\\n\",\"Who is Barry Soetoro?\\n\",\"How do I solve [math]2x^3-x^2+11x+3=0[/math]?\\n\",\"What are some hobbies couples can do at home?\\n\",\"How have meerkats adapted to the desert?\\n\",\"What causes dizziness when you lay down?\\n\",\"What should one do after a civil engineering degre\",\"What are the advantages of hiring skip bins servic\",\"Why is it necessary that singers lip-sync?\\n\",\"How can I turn off the screen overlay detected on \",\"How do you clean or polish a pair of Woodland shoe\",\"What are some classes you wish you took in high sc\",\"What is the formula of [math](a+b)^3[/math]?\\n\",\"What is it like to commit yourself to a psychiatri\",\"Is there any way to slow or reverse the late effec\",\"What would the implications be if we discovered th\",\"Any other program to help on code contribution for\",\"What is the bond order of [math]H_2[/math]?\\n\",\"What is the best way to create a website without c\",\"What were some causes and effects of the French Re\",\"What are some catchy headlines for a dating site?\\n\",\"Should I get Company of Heroes, World in Conflict \",\"How do I remove a person from a group in Skype?\\n\",\"Why was Manmohan Singh briefed by PM Modi after su\",\"Does anybody want to learn Chinese?\\n\",\"Is Xiaomi going the Nokia way to oblivion?\\n\",\"Should I buy hp 17.3 AMD laptop or lenovo 17.3 i5 \",\"Which is better a government job or a software job\",\"How can the word \\\"credulity\\\" be used in a sentence\",\"Does uber track time on app?\\n\",\"How do I get over direct rejection?\\n\",\"How can any institute get an ISO certificate?\\n\",\"What are the best pranks?\\n\",\"Are non-solicit agreements enforceable if the pers\",\"Which phone is best in 2016 for a 18 years boy my \",\"What is the definition of an archetypal hero?\\n\",\"Why are some \\\"ugly\\\" people still very attractive?\\n\",\"What are the chances of Donald Trump's impeachment\",\"What would a society based on laws enforcing only \",\"What is the full form of \\\"veto\\\" power?\\n\",\"How much do people get paid to do a TED talk?\\n\",\"What does it mean to say \\\"enriching herself off of\",\"How can I be more persuasive at work?\\n\",\"What is the corporate culture like at National Bev\",\"What is the fastest way to get a PAN card?\\n\",\"Who will win in America presidential elections in \",\"How do I solve this differential problem?\\n\",\"How is Banjara's Saffron Facial Kit used?\\n\",\"How do you understand life?\\n\",\"Will an MS from NUS in electrical engineering prov\",\"How does one create a strong password? Any tips?\\n\",\"Who was the best dressed at the 2016 Emmy's?\\n\",\"What is the cost of manufacturing a SIM card?\\n\",\"Are you tolerant?\\n\",\"Is [math]\\\\{1,2,3\\\\}[/math] a compact subset of a me\",\"What kind of energy is involved in hearing and vis\",\"What happened with Lehman Brothers?\\n\",\"What is a good web page publisher?\\n\",\"Why does eating radishes cause diarrhea?\\n\",\"How do I encrypt the data on my Android phone?\\n\",\"If there were an Oscar for \\\"Best Line in a Movie\\\",\",\"Why are tyres black?\\n\",\"What is the best way to unlock a Motorola Droid Bi\",\"Is a $45 a month job worth the experience?\\n\",\"Should I settle in Canada or Japan?\\n\",\"How is the appraisal process in Accenture? How wil\",\"How does sand turn into glass?\\n\",\"What effect will increased automation of jobs and \",\"I am 25 years old Indian guy, want to settle in Ne\",\"What are some Raksha Bandhan gift suggestions for \",\"How do I write a multi-dimensional villain that is\",\"Why is there no nucleus in a red blood cell?\\n\",\"Why do Quora allow anonymous fake questions from A\",\"Is it possible to merge a foursquare venue into a \",\"How do I find out if I have Siri on my phone?\\n\",\"Why do I feel like I'm not living my life?\\n\",\"What will happen to global stock market if Donald \",\"What makes weeds grow so much faster and easier th\",\"Do people with extremely high IQ need higher sugar\",\"What should teaching assistants do?\\n\",\"Why is Perth one of the most liveable cities in th\",\"How do you get to the entrance for Resolution Cave\",\"How do I get involved in research as an undergradu\",\"If you have one option to remove anything, what wi\",\"What are the risk after angioplasty?\\n\",\"Why can't men read the signals women give off when\",\"How can a non-EU medical graduate get into residen\",\"How do I stay active?\\n\",\"I'm going to Paris. What is the equivalent \\\"neighb\",\"How do I get rid of dandruff, or at least prevent \",\"Is Medicaid going to pay for the electrologist for\",\"When Australia became a nation in 1901, Did aborig\",\"What is the difference between SSL and Sitelock?\\n\",\"What are some unsolved problems in deep machine le\",\"What's the difference between computer engineering\",\"Is it possible to get a decent job after completin\",\"What is the difference between MG & BG in railway \",\"How do I control an Arduino with a Raspberry Pi?\\n\",\"What is the best field to pursue MS after doing el\",\"What is the difference between Directx and graphic\",\"How do I wirelessly charge the electrical devices \",\"Can you upload Numbers sheets from iPad to Google \",\"What's the best movie franchise you have ever watc\",\"If light does not have mass, then how can it be ab\",\"Why is the book of Esther in the Bible?\\n\",\"What makes comic books worth reading?\\n\",\"What are the advantages of outsourcing property ma\",\"What is a Quora credit competition?\\n\",\"Are data analyst/data science jobs boring?\\n\",\"Why don't satellites crash into each other?\\n\",\"How do dermatologists remove blackheads?\\n\",\"How can I choose between my dad and my mom?\\n\",\"Can you really not change people?\\n\",\"Being a non believer of a spiritual entity, I have\",\"Is black coffee fattening? If so, what makes it fa\",\"The education system is outdated. What would you d\",\"Who are the founders of Quora?\\n\",\"What is it like to be a landlord?\\n\",\"How many stamps do I need to send a letter to germ\",\"My father just recently got married. His wife goes\",\"Which countries are best to migrate from the US?\\n\",\"Can any one tell me a basketball club in Bangalore\",\"How can Spotify download songs offline?\\n\",\"How do I make money online for free in Spain?\\n\",\"Why is Tornado Alley prone to tornadoes?\\n\",\"How does helium change the inhaler's voice?\\n\",\"What is a bedding ceremony in Game of Thrones?\\n\",\"What is it like living in former East Germany as a\",\"Did the USA or NATO commit any war crimes in Iraq?\",\"Why don't we capture terrorist and behead them?\\n\",\"What is your favorite quote (books, movies, people\",\"What mixes well with peach vodka?\\n\",\"Which Patanjali products contain cow urine?\\n\",\"Why are three phases denoted by RYB?\\n\",\"Where could I learn JavaScript online?\\n\",\"Is it appropriate to wear a sports bra simply to t\",\"What are the differences between Jenkins CI and Dr\",\"T right do you think we should be entitled to?\\n\",\"What was the public's reaction to Crystal Pepsi?\\n\",\"How can I crack MH-CET 2017 engineering by self-st\",\"What is the way to become a dental hygienist in th\",\"Why do solving math/statistics problems causes my \",\"Does your name sound as awkward to others as it so\",\"What is the proper format of writing formal-inform\",\"How does doc2vec represent feature vector of a doc\",\"Why are software development task estimations regu\",\"How can I set up molecular pathology lab?\\n\",\"How do I score a rank in CA - IPCC?\\n\",\"What are some examples of strong organic acids?\\n\",\"What can be a good hindi (indian) name for a tea b\",\"Is the Google host matching process different for \",\"Is Cuba considered part of Latin America?\\n\",\"Does the following script (\\u0256\\u2200\\u0f61\\u0632\\u2202 \\u0250\\u0167 \\u01ab\\u04bf\\u03de\\u026e\\u2609 \\u027d\\u03c6\\u0289\\u029b\\u0195), \",\"How can I increase my website's DA?\\n\",\"Is it normal to imagine having sex with other guy \",\"What is the percent purity (approx) of consumable \",\"Do soulmates just come walking into your life when\",\"If I use marijuana with my boyfriend, is there a p\",\"Can you analyze everything in soil?\\n\",\"What difference it would make if India Nuked and K\",\"What are the advantages of a dominant party system\",\"What were some things India did not do but takes c\",\"How many total women have accused Bill Clinton of \",\"Why do I wish some fictional characters existed?\\n\",\"Where can I find best hotel at Ranikhet?\\n\",\"How do I make good memes?\\n\",\"What are some of the common sayings or proverbs in\",\"What kind of writing style makes someone a \\\"dark w\",\"Are Trump and Hillary really the best America has \",\"How can I make my career in embedded system and ro\",\"Will adding a USB to VGA adapter always give an ex\",\"We will never be able to see our own faces with ou\",\"What are the ways you can stop a friend from pitch\",\"What is the average time for preparation of IAS?\\n\",\"How can I learn new things quickly?\\n\",\"What is the definition of political courage?\\n\",\"What makes death scary?\\n\",\"I'm really pretty but I don't want to be I hate th\",\"Is Assam Down Town University good?\\n\",\"How do the brain structures of bonobos change as t\",\"What's the biggest scam?\\n\",\"Does the US government have an alien flying saucer\",\"I need to gain weight, but I don't have abs. It's \",\"Why should I study Calculus?\\n\",\"Do you think your childhood contributed to your fi\",\"How does the Goods and Services Tax (GST) works?\\n\",\"Where can I download Cisco 500-285 exam dumps?\\n\",\"How do I can make a second nation in Cybernations \",\"Did Neil Armstrong really land on the moon?\\n\",\"Why is Devil any other than God head of state?\\n\",\"How do I stop being possessive over my girlfriend?\",\"How does Kongregate compute the statistics of adve\",\"Who is the best nuero physician at NIMHANS, Bangal\",\"What are nonprofit organizations?\\n\",\"I want to know the process of starting outbound ca\",\"Which are some of the best hotels to stay in Helsi\",\"What is good about Deloitte Chicago?\\n\",\"How do I recover data from a formatted hard drive?\",\"Could India and Pakistan unite again?\\n\",\"How often should I massage my face with Argan oil?\",\"How is psychodynamic therapy different from psycho\",\"What are some of Barack Obama's character traits?\\n\",\"Would it make sense to replace the B-52's 8 1960s \",\"Is it possible to bring forward my flight date of \",\"How can I learn marathons?\\n\"],\"x\":{\"__ndarray__\":\"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\",\"dtype\":\"float32\",\"order\":\"little\",\"shape\":[1001]},\"y\":{\"__ndarray__\":\"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\",\"dtype\":\"float32\",\"order\":\"little\",\"shape\":[1001]}},\"selected\":{\"id\":\"1766\"},\"selection_policy\":{\"id\":\"1765\"}},\"id\":\"1662\",\"type\":\"ColumnDataSource\"},{\"attributes\":{\"coordinates\":null,\"data_source\":{\"id\":\"1662\"},\"glyph\":{\"id\":\"1695\"},\"group\":null,\"hover_glyph\":null,\"muted_glyph\":{\"id\":\"1697\"},\"nonselection_glyph\":{\"id\":\"1696\"},\"view\":{\"id\":\"1699\"}},\"id\":\"1698\",\"type\":\"GlyphRenderer\"},{\"attributes\":{\"coordinates\":null,\"formatter\":{\"id\":\"1763\"},\"group\":null,\"major_label_policy\":{\"id\":\"1764\"},\"ticker\":{\"id\":\"1673\"}},\"id\":\"1672\",\"type\":\"LinearAxis\"},{\"attributes\":{\"overlay\":{\"id\":\"1686\"}},\"id\":\"1682\",\"type\":\"BoxZoomTool\"},{\"attributes\":{},\"id\":\"1683\",\"type\":\"SaveTool\"},{\"attributes\":{},\"id\":\"1684\",\"type\":\"ResetTool\"},{\"attributes\":{\"fill_alpha\":{\"value\":0.1},\"fill_color\":{\"field\":\"color\"},\"hatch_alpha\":{\"value\":0.1},\"hatch_color\":{\"field\":\"color\"},\"line_alpha\":{\"value\":0.1},\"line_color\":{\"field\":\"color\"},\"size\":{\"value\":20},\"x\":{\"field\":\"x\"},\"y\":{\"field\":\"y\"}},\"id\":\"1696\",\"type\":\"Scatter\"},{\"attributes\":{\"bottom_units\":\"screen\",\"coordinates\":null,\"fill_alpha\":0.5,\"fill_color\":\"lightgrey\",\"group\":null,\"left_units\":\"screen\",\"level\":\"overlay\",\"line_alpha\":1.0,\"line_color\":\"black\",\"line_dash\":[4,4],\"line_width\":2,\"right_units\":\"screen\",\"syncable\":false,\"top_units\":\"screen\"},\"id\":\"1686\",\"type\":\"BoxAnnotation\"},{\"attributes\":{},\"id\":\"1668\",\"type\":\"LinearScale\"},{\"attributes\":{},\"id\":\"1677\",\"type\":\"BasicTicker\"}],\"root_ids\":[\"1663\"]},\"title\":\"Bokeh Application\",\"version\":\"2.4.3\"}};\n",
              "  const render_items = [{\"docid\":\"5b598a71-3b21-461e-a535-d81fdaed9c2a\",\"root_ids\":[\"1663\"],\"roots\":{\"1663\":\"5ed62a8f-fbfc-4df6-9927-df5eab61a547\"}}];\n",
              "  root.Bokeh.embed.embed_items_notebook(docs_json, render_items);\n",
              "  }\n",
              "  if (root.Bokeh !== undefined) {\n",
              "    embed_document(root);\n",
              "  } else {\n",
              "    let attempts = 0;\n",
              "    const timer = setInterval(function(root) {\n",
              "      if (root.Bokeh !== undefined) {\n",
              "        clearInterval(timer);\n",
              "        embed_document(root);\n",
              "      } else {\n",
              "        attempts++;\n",
              "        if (attempts > 100) {\n",
              "          clearInterval(timer);\n",
              "          console.log(\"Bokeh: ERROR: Unable to run BokehJS code because BokehJS library is missing\");\n",
              "        }\n",
              "      }\n",
              "    }, 10, root)\n",
              "  }\n",
              "})(window);"
            ],
            "application/vnd.bokehjs_exec.v0+json": ""
          },
          "metadata": {
            "application/vnd.bokehjs_exec.v0+json": {
              "id": "1663"
            }
          }
        },
        {
          "output_type": "execute_result",
          "data": {
            "text/plain": [
              "Figure(id='1663', ...)"
            ],
            "text/html": [
              "<div style=\"display: table;\"><div style=\"display: table-row;\"><div style=\"display: table-cell;\"><b title=\"bokeh.plotting.figure.Figure\">Figure</b>(</div><div style=\"display: table-cell;\">id&nbsp;=&nbsp;'1663', <span id=\"1824\" style=\"cursor: pointer;\">&hellip;)</span></div></div><div class=\"1823\" style=\"display: none;\"><div style=\"display: table-cell;\"></div><div style=\"display: table-cell;\">above&nbsp;=&nbsp;[],</div></div><div class=\"1823\" style=\"display: none;\"><div style=\"display: table-cell;\"></div><div style=\"display: table-cell;\">align&nbsp;=&nbsp;'start',</div></div><div class=\"1823\" style=\"display: none;\"><div style=\"display: table-cell;\"></div><div style=\"display: table-cell;\">aspect_ratio&nbsp;=&nbsp;None,</div></div><div class=\"1823\" style=\"display: none;\"><div style=\"display: table-cell;\"></div><div style=\"display: table-cell;\">aspect_scale&nbsp;=&nbsp;1,</div></div><div class=\"1823\" style=\"display: none;\"><div style=\"display: table-cell;\"></div><div style=\"display: table-cell;\">background&nbsp;=&nbsp;None,</div></div><div class=\"1823\" style=\"display: none;\"><div style=\"display: table-cell;\"></div><div style=\"display: table-cell;\">background_fill_alpha&nbsp;=&nbsp;1.0,</div></div><div class=\"1823\" style=\"display: none;\"><div style=\"display: table-cell;\"></div><div style=\"display: table-cell;\">background_fill_color&nbsp;=&nbsp;'#ffffff',</div></div><div class=\"1823\" style=\"display: none;\"><div style=\"display: table-cell;\"></div><div style=\"display: table-cell;\">below&nbsp;=&nbsp;[LinearAxis(id='1672', ...)],</div></div><div class=\"1823\" style=\"display: none;\"><div style=\"display: table-cell;\"></div><div style=\"display: table-cell;\">border_fill_alpha&nbsp;=&nbsp;1.0,</div></div><div class=\"1823\" style=\"display: none;\"><div style=\"display: table-cell;\"></div><div style=\"display: table-cell;\">border_fill_color&nbsp;=&nbsp;'#ffffff',</div></div><div class=\"1823\" style=\"display: none;\"><div style=\"display: table-cell;\"></div><div style=\"display: table-cell;\">center&nbsp;=&nbsp;[Grid(id='1675', ...), Grid(id='1679', ...)],</div></div><div class=\"1823\" style=\"display: none;\"><div style=\"display: table-cell;\"></div><div style=\"display: table-cell;\">css_classes&nbsp;=&nbsp;[],</div></div><div class=\"1823\" style=\"display: none;\"><div style=\"display: table-cell;\"></div><div style=\"display: table-cell;\">disabled&nbsp;=&nbsp;False,</div></div><div class=\"1823\" style=\"display: none;\"><div style=\"display: table-cell;\"></div><div style=\"display: table-cell;\">extra_x_ranges&nbsp;=&nbsp;{},</div></div><div class=\"1823\" style=\"display: none;\"><div style=\"display: table-cell;\"></div><div style=\"display: table-cell;\">extra_x_scales&nbsp;=&nbsp;{},</div></div><div class=\"1823\" style=\"display: none;\"><div style=\"display: table-cell;\"></div><div style=\"display: table-cell;\">extra_y_ranges&nbsp;=&nbsp;{},</div></div><div class=\"1823\" style=\"display: none;\"><div style=\"display: table-cell;\"></div><div style=\"display: table-cell;\">extra_y_scales&nbsp;=&nbsp;{},</div></div><div class=\"1823\" style=\"display: none;\"><div style=\"display: table-cell;\"></div><div style=\"display: table-cell;\">frame_height&nbsp;=&nbsp;None,</div></div><div class=\"1823\" style=\"display: none;\"><div style=\"display: table-cell;\"></div><div style=\"display: table-cell;\">frame_width&nbsp;=&nbsp;None,</div></div><div class=\"1823\" style=\"display: none;\"><div style=\"display: table-cell;\"></div><div style=\"display: table-cell;\">height&nbsp;=&nbsp;400,</div></div><div class=\"1823\" style=\"display: none;\"><div style=\"display: table-cell;\"></div><div style=\"display: table-cell;\">height_policy&nbsp;=&nbsp;'auto',</div></div><div class=\"1823\" style=\"display: none;\"><div style=\"display: table-cell;\"></div><div style=\"display: table-cell;\">hidpi&nbsp;=&nbsp;True,</div></div><div class=\"1823\" style=\"display: none;\"><div style=\"display: table-cell;\"></div><div style=\"display: table-cell;\">inner_height&nbsp;=&nbsp;0,</div></div><div class=\"1823\" style=\"display: none;\"><div style=\"display: table-cell;\"></div><div style=\"display: table-cell;\">inner_width&nbsp;=&nbsp;0,</div></div><div class=\"1823\" style=\"display: none;\"><div style=\"display: table-cell;\"></div><div style=\"display: table-cell;\">js_event_callbacks&nbsp;=&nbsp;{},</div></div><div class=\"1823\" style=\"display: none;\"><div style=\"display: table-cell;\"></div><div style=\"display: table-cell;\">js_property_callbacks&nbsp;=&nbsp;{},</div></div><div class=\"1823\" style=\"display: none;\"><div style=\"display: table-cell;\"></div><div style=\"display: table-cell;\">left&nbsp;=&nbsp;[LinearAxis(id='1676', ...)],</div></div><div class=\"1823\" style=\"display: none;\"><div style=\"display: table-cell;\"></div><div style=\"display: table-cell;\">lod_factor&nbsp;=&nbsp;10,</div></div><div class=\"1823\" style=\"display: none;\"><div style=\"display: table-cell;\"></div><div style=\"display: table-cell;\">lod_interval&nbsp;=&nbsp;300,</div></div><div class=\"1823\" style=\"display: none;\"><div style=\"display: table-cell;\"></div><div style=\"display: table-cell;\">lod_threshold&nbsp;=&nbsp;2000,</div></div><div class=\"1823\" style=\"display: none;\"><div style=\"display: table-cell;\"></div><div style=\"display: table-cell;\">lod_timeout&nbsp;=&nbsp;500,</div></div><div class=\"1823\" style=\"display: none;\"><div style=\"display: table-cell;\"></div><div style=\"display: table-cell;\">margin&nbsp;=&nbsp;(0, 0, 0, 0),</div></div><div class=\"1823\" style=\"display: none;\"><div style=\"display: table-cell;\"></div><div style=\"display: table-cell;\">match_aspect&nbsp;=&nbsp;False,</div></div><div class=\"1823\" style=\"display: none;\"><div style=\"display: table-cell;\"></div><div style=\"display: table-cell;\">max_height&nbsp;=&nbsp;None,</div></div><div class=\"1823\" style=\"display: none;\"><div style=\"display: table-cell;\"></div><div style=\"display: table-cell;\">max_width&nbsp;=&nbsp;None,</div></div><div class=\"1823\" style=\"display: none;\"><div style=\"display: table-cell;\"></div><div style=\"display: table-cell;\">min_border&nbsp;=&nbsp;5,</div></div><div class=\"1823\" style=\"display: none;\"><div style=\"display: table-cell;\"></div><div style=\"display: table-cell;\">min_border_bottom&nbsp;=&nbsp;None,</div></div><div class=\"1823\" style=\"display: none;\"><div style=\"display: table-cell;\"></div><div style=\"display: table-cell;\">min_border_left&nbsp;=&nbsp;None,</div></div><div class=\"1823\" style=\"display: none;\"><div style=\"display: table-cell;\"></div><div style=\"display: table-cell;\">min_border_right&nbsp;=&nbsp;None,</div></div><div class=\"1823\" style=\"display: none;\"><div style=\"display: table-cell;\"></div><div style=\"display: table-cell;\">min_border_top&nbsp;=&nbsp;None,</div></div><div class=\"1823\" style=\"display: none;\"><div style=\"display: table-cell;\"></div><div style=\"display: table-cell;\">min_height&nbsp;=&nbsp;None,</div></div><div class=\"1823\" style=\"display: none;\"><div style=\"display: table-cell;\"></div><div style=\"display: table-cell;\">min_width&nbsp;=&nbsp;None,</div></div><div class=\"1823\" style=\"display: none;\"><div style=\"display: table-cell;\"></div><div style=\"display: table-cell;\">name&nbsp;=&nbsp;None,</div></div><div class=\"1823\" style=\"display: none;\"><div style=\"display: table-cell;\"></div><div style=\"display: table-cell;\">outer_height&nbsp;=&nbsp;0,</div></div><div class=\"1823\" style=\"display: none;\"><div style=\"display: table-cell;\"></div><div style=\"display: table-cell;\">outer_width&nbsp;=&nbsp;0,</div></div><div class=\"1823\" style=\"display: none;\"><div style=\"display: table-cell;\"></div><div style=\"display: table-cell;\">outline_line_alpha&nbsp;=&nbsp;1.0,</div></div><div class=\"1823\" style=\"display: none;\"><div style=\"display: table-cell;\"></div><div style=\"display: table-cell;\">outline_line_cap&nbsp;=&nbsp;'butt',</div></div><div class=\"1823\" style=\"display: none;\"><div style=\"display: table-cell;\"></div><div style=\"display: table-cell;\">outline_line_color&nbsp;=&nbsp;'#e5e5e5',</div></div><div class=\"1823\" style=\"display: none;\"><div style=\"display: table-cell;\"></div><div style=\"display: table-cell;\">outline_line_dash&nbsp;=&nbsp;[],</div></div><div class=\"1823\" style=\"display: none;\"><div style=\"display: table-cell;\"></div><div style=\"display: table-cell;\">outline_line_dash_offset&nbsp;=&nbsp;0,</div></div><div class=\"1823\" style=\"display: none;\"><div style=\"display: table-cell;\"></div><div style=\"display: table-cell;\">outline_line_join&nbsp;=&nbsp;'bevel',</div></div><div class=\"1823\" style=\"display: none;\"><div style=\"display: table-cell;\"></div><div style=\"display: table-cell;\">outline_line_width&nbsp;=&nbsp;1,</div></div><div class=\"1823\" style=\"display: none;\"><div style=\"display: table-cell;\"></div><div style=\"display: table-cell;\">output_backend&nbsp;=&nbsp;'canvas',</div></div><div class=\"1823\" style=\"display: none;\"><div style=\"display: table-cell;\"></div><div style=\"display: table-cell;\">renderers&nbsp;=&nbsp;[GlyphRenderer(id='1698', ...)],</div></div><div class=\"1823\" style=\"display: none;\"><div style=\"display: table-cell;\"></div><div style=\"display: table-cell;\">reset_policy&nbsp;=&nbsp;'standard',</div></div><div class=\"1823\" style=\"display: none;\"><div style=\"display: table-cell;\"></div><div style=\"display: table-cell;\">right&nbsp;=&nbsp;[],</div></div><div class=\"1823\" style=\"display: none;\"><div style=\"display: table-cell;\"></div><div style=\"display: table-cell;\">sizing_mode&nbsp;=&nbsp;None,</div></div><div class=\"1823\" style=\"display: none;\"><div style=\"display: table-cell;\"></div><div style=\"display: table-cell;\">subscribed_events&nbsp;=&nbsp;[],</div></div><div class=\"1823\" style=\"display: none;\"><div style=\"display: table-cell;\"></div><div style=\"display: table-cell;\">syncable&nbsp;=&nbsp;True,</div></div><div class=\"1823\" style=\"display: none;\"><div style=\"display: table-cell;\"></div><div style=\"display: table-cell;\">tags&nbsp;=&nbsp;[],</div></div><div class=\"1823\" style=\"display: none;\"><div style=\"display: table-cell;\"></div><div style=\"display: table-cell;\">title&nbsp;=&nbsp;Title(id='1757', ...),</div></div><div class=\"1823\" style=\"display: none;\"><div style=\"display: table-cell;\"></div><div style=\"display: table-cell;\">title_location&nbsp;=&nbsp;'above',</div></div><div class=\"1823\" style=\"display: none;\"><div style=\"display: table-cell;\"></div><div style=\"display: table-cell;\">toolbar&nbsp;=&nbsp;Toolbar(id='1687', ...),</div></div><div class=\"1823\" style=\"display: none;\"><div style=\"display: table-cell;\"></div><div style=\"display: table-cell;\">toolbar_location&nbsp;=&nbsp;'right',</div></div><div class=\"1823\" style=\"display: none;\"><div style=\"display: table-cell;\"></div><div style=\"display: table-cell;\">toolbar_sticky&nbsp;=&nbsp;True,</div></div><div class=\"1823\" style=\"display: none;\"><div style=\"display: table-cell;\"></div><div style=\"display: table-cell;\">visible&nbsp;=&nbsp;True,</div></div><div class=\"1823\" style=\"display: none;\"><div style=\"display: table-cell;\"></div><div style=\"display: table-cell;\">width&nbsp;=&nbsp;600,</div></div><div class=\"1823\" style=\"display: none;\"><div style=\"display: table-cell;\"></div><div style=\"display: table-cell;\">width_policy&nbsp;=&nbsp;'auto',</div></div><div class=\"1823\" style=\"display: none;\"><div style=\"display: table-cell;\"></div><div style=\"display: table-cell;\">x_range&nbsp;=&nbsp;DataRange1d(id='1664', ...),</div></div><div class=\"1823\" style=\"display: none;\"><div style=\"display: table-cell;\"></div><div style=\"display: table-cell;\">x_scale&nbsp;=&nbsp;LinearScale(id='1668', ...),</div></div><div class=\"1823\" style=\"display: none;\"><div style=\"display: table-cell;\"></div><div style=\"display: table-cell;\">y_range&nbsp;=&nbsp;DataRange1d(id='1666', ...),</div></div><div class=\"1823\" style=\"display: none;\"><div style=\"display: table-cell;\"></div><div style=\"display: table-cell;\">y_scale&nbsp;=&nbsp;LinearScale(id='1670', ...))</div></div></div>\n",
              "<script>\n",
              "(function() {\n",
              "  let expanded = false;\n",
              "  const ellipsis = document.getElementById(\"1824\");\n",
              "  ellipsis.addEventListener(\"click\", function() {\n",
              "    const rows = document.getElementsByClassName(\"1823\");\n",
              "    for (let i = 0; i < rows.length; i++) {\n",
              "      const el = rows[i];\n",
              "      el.style.display = expanded ? \"none\" : \"table-row\";\n",
              "    }\n",
              "    ellipsis.innerHTML = expanded ? \"&hellip;)\" : \"&lsaquo;&lsaquo;&lsaquo;\";\n",
              "    expanded = !expanded;\n",
              "  });\n",
              "})();\n",
              "</script>\n"
            ]
          },
          "metadata": {},
          "execution_count": 236
        }
      ]
    },
    {
      "cell_type": "markdown",
      "source": [
        "## KNN \"similar questions\" engine"
      ],
      "metadata": {
        "id": "lODw5HHYk5dl"
      }
    },
    {
      "cell_type": "code",
      "source": [
        "ZEROS=0\n",
        "data_vectors = np.array([embed_phrase(model, phrase) for phrase in data])"
      ],
      "metadata": {
        "colab": {
          "base_uri": "https://localhost:8080/"
        },
        "id": "nirGjY-5eD4U",
        "outputId": "7fa7be4d-e0ae-4997-c57a-663926493f91"
      },
      "execution_count": null,
      "outputs": [
        {
          "output_type": "stream",
          "name": "stdout",
          "text": [
            "Unknown phrase AOSDHIADSOIHADSO DASODASHDASOH\n",
            "\n",
            "Unknown phrase parisflatlist\n",
            "\n"
          ]
        }
      ]
    },
    {
      "cell_type": "code",
      "source": [
        "#datavectors = np.array([x for x in data_vectors if np.any(x !=0)])\n",
        "#seems like this is not a solution, i'd still just exclude the unknown values\n",
        "#since all zeros mean maximum cosine similarity"
      ],
      "metadata": {
        "id": "BwL1uX4SYhXh"
      },
      "execution_count": null,
      "outputs": []
    },
    {
      "cell_type": "code",
      "source": [
        "data_vectors[35227]"
      ],
      "metadata": {
        "id": "NZOBplJ5Mot7",
        "outputId": "577baa46-175f-405c-8b4b-a0c3d2ade4a4",
        "colab": {
          "base_uri": "https://localhost:8080/"
        }
      },
      "execution_count": null,
      "outputs": [
        {
          "output_type": "execute_result",
          "data": {
            "text/plain": [
              "array([0., 0., 0., 0., 0., 0., 0., 0., 0., 0., 0., 0., 0., 0., 0., 0., 0.,\n",
              "       0., 0., 0., 0., 0., 0., 0., 0., 0., 0., 0., 0., 0., 0., 0., 0., 0.,\n",
              "       0., 0., 0., 0., 0., 0., 0., 0., 0., 0., 0., 0., 0., 0., 0., 0., 0.,\n",
              "       0., 0., 0., 0., 0., 0., 0., 0., 0., 0., 0., 0., 0., 0., 0., 0., 0.,\n",
              "       0., 0., 0., 0., 0., 0., 0., 0., 0., 0., 0., 0., 0., 0., 0., 0., 0.,\n",
              "       0., 0., 0., 0., 0., 0., 0., 0., 0., 0., 0., 0., 0., 0., 0.],\n",
              "      dtype=float32)"
            ]
          },
          "metadata": {},
          "execution_count": 229
        }
      ]
    },
    {
      "cell_type": "markdown",
      "source": [
        "Wow, that took a while"
      ],
      "metadata": {
        "id": "SMU7WgzKrLJy"
      }
    },
    {
      "cell_type": "code",
      "source": [
        "def k_nearest(model, phrase, k=10, zeros=ZEROS):\n",
        "  vector = embed_phrase(model, phrase, dataset=False)\n",
        "  #cosine similarities each row of phrases * phrase (sum of multiplied vectors by row)\n",
        "  #divided by / element wise multipliation of  product of L2 (Eucledian) norms by cols\n",
        "  #by same l2 norm for the  entire vector array (which is scalar)\n",
        "  similarity_scores = np.dot(data_vectors, vector) / (np.linalg.norm(data_vectors, axis=1) * np.linalg.norm(vector))\n",
        "  #sort cos similarities (ascending order), take last K indices and reverse them\n",
        "  top_idx = np.argsort(similarity_scores)[-k-zeros:-zeros][::-1]\n",
        "  #select resulting indices from the original dataset\n",
        "  top_phrases = [data[i] for i in top_idx]\n",
        "  return top_phrases"
      ],
      "metadata": {
        "id": "ZnMsE37imFT4"
      },
      "execution_count": null,
      "outputs": []
    },
    {
      "cell_type": "code",
      "source": [
        "results = k_nearest(model, \"How do i enter the matrix?\", k=10)\n",
        "\n",
        "print(''.join(results))\n",
        "\n",
        "assert len(results) == 10 and isinstance(results[0], str)\n",
        "assert results[0] == 'How do I get to the dark web?\\n'\n",
        "assert results[3] == 'What can I do to save the world?\\n'"
      ],
      "metadata": {
        "colab": {
          "base_uri": "https://localhost:8080/"
        },
        "id": "hZBsRZF4po5Q",
        "outputId": "a2eecb32-1319-4173-9f2c-b83ab443d5b0"
      },
      "execution_count": null,
      "outputs": [
        {
          "output_type": "stream",
          "name": "stdout",
          "text": [
            "How do I get to the dark web?\n",
            "What should I do to enter hollywood?\n",
            "How do I use the Greenify app?\n",
            "What can I do to save the world?\n",
            "How do I win this?\n",
            "How do I think out of the box? How do I learn to think out of the box?\n",
            "How do I find the 5th dimension?\n",
            "How do I use the pad in MMA?\n",
            "How do I estimate the competition?\n",
            "What do I do to enter the line of event management?\n",
            "\n"
          ]
        },
        {
          "output_type": "stream",
          "name": "stderr",
          "text": [
            "<ipython-input-358-74069e56cc4d>:6: RuntimeWarning: invalid value encountered in true_divide\n",
            "  similarity_scores = np.dot(data_vectors, vector) / (np.linalg.norm(data_vectors, axis=1) * np.linalg.norm(vector))\n"
          ]
        }
      ]
    }
  ]
}