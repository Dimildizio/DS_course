{
  "nbformat": 4,
  "nbformat_minor": 0,
  "metadata": {
    "colab": {
      "provenance": [],
      "authorship_tag": "ABX9TyMgxYKjW1yrHTlgkWU3CPex",
      "include_colab_link": true
    },
    "kernelspec": {
      "name": "python3",
      "display_name": "Python 3"
    },
    "language_info": {
      "name": "python"
    }
  },
  "cells": [
    {
      "cell_type": "markdown",
      "metadata": {
        "id": "view-in-github",
        "colab_type": "text"
      },
      "source": [
        "<a href=\"https://colab.research.google.com/github/Dimildizio/DS_course/blob/main/Neural_networks/NLP/Embeddings/word_embeddings.ipynb\" target=\"_parent\"><img src=\"https://colab.research.google.com/assets/colab-badge.svg\" alt=\"Open In Colab\"/></a>"
      ]
    },
    {
      "cell_type": "code",
      "execution_count": 1,
      "metadata": {
        "colab": {
          "base_uri": "https://localhost:8080/"
        },
        "id": "pXJTcKqUPXK_",
        "outputId": "ca8eca40-619c-4e86-d37d-ae065bf5d1f6"
      },
      "outputs": [
        {
          "output_type": "stream",
          "name": "stdout",
          "text": [
            "--2023-07-04 14:11:06--  https://www.dropbox.com/s/obaitrix9jyu84r/quora.txt?dl=1\n",
            "Resolving www.dropbox.com (www.dropbox.com)... 162.125.4.18, 2620:100:601c:18::a27d:612\n",
            "Connecting to www.dropbox.com (www.dropbox.com)|162.125.4.18|:443... connected.\n",
            "HTTP request sent, awaiting response... 302 Found\n",
            "Location: /s/dl/obaitrix9jyu84r/quora.txt [following]\n",
            "--2023-07-04 14:11:07--  https://www.dropbox.com/s/dl/obaitrix9jyu84r/quora.txt\n",
            "Reusing existing connection to www.dropbox.com:443.\n",
            "HTTP request sent, awaiting response... 302 Found\n",
            "Location: https://uc2dd2dbfdd40fb5693d53da7683.dl.dropboxusercontent.com/cd/0/get/B_MFZ2fWAoEp9Evm37pmA8ZhPnV9J_5eVj03vF_UlcUODcLhQZhGA81aQecadrjX_pYmXVtnTnYeJBtIo7fo5McPdFvNHXq09M8fDaGsdSh_y0O1DX2TXG3Us6OF23HUD0CcJJ0WMB_hr4EZXo_pDnoL0WLbBpCo1B3O26h7HXuMUg/file?dl=1# [following]\n",
            "--2023-07-04 14:11:07--  https://uc2dd2dbfdd40fb5693d53da7683.dl.dropboxusercontent.com/cd/0/get/B_MFZ2fWAoEp9Evm37pmA8ZhPnV9J_5eVj03vF_UlcUODcLhQZhGA81aQecadrjX_pYmXVtnTnYeJBtIo7fo5McPdFvNHXq09M8fDaGsdSh_y0O1DX2TXG3Us6OF23HUD0CcJJ0WMB_hr4EZXo_pDnoL0WLbBpCo1B3O26h7HXuMUg/file?dl=1\n",
            "Resolving uc2dd2dbfdd40fb5693d53da7683.dl.dropboxusercontent.com (uc2dd2dbfdd40fb5693d53da7683.dl.dropboxusercontent.com)... 162.125.3.15, 2620:100:601c:15::a27d:60f\n",
            "Connecting to uc2dd2dbfdd40fb5693d53da7683.dl.dropboxusercontent.com (uc2dd2dbfdd40fb5693d53da7683.dl.dropboxusercontent.com)|162.125.3.15|:443... connected.\n",
            "HTTP request sent, awaiting response... 200 OK\n",
            "Length: 33813903 (32M) [application/binary]\n",
            "Saving to: ‘./quora.txt’\n",
            "\n",
            "./quora.txt         100%[===================>]  32.25M  84.8MB/s    in 0.4s    \n",
            "\n",
            "2023-07-04 14:11:08 (84.8 MB/s) - ‘./quora.txt’ saved [33813903/33813903]\n",
            "\n"
          ]
        }
      ],
      "source": [
        "!wget https://www.dropbox.com/s/obaitrix9jyu84r/quora.txt?dl=1 -O ./quora.txt"
      ]
    },
    {
      "cell_type": "code",
      "source": [
        "from IPython.display import clear_output"
      ],
      "metadata": {
        "id": "yl_xZW2jPq1v"
      },
      "execution_count": 3,
      "outputs": []
    },
    {
      "cell_type": "code",
      "source": [
        "import bokeh\n",
        "import gensim\n",
        "import nltk\n",
        "import numpy as np"
      ],
      "metadata": {
        "id": "quObFrbvPepZ"
      },
      "execution_count": 5,
      "outputs": []
    },
    {
      "cell_type": "code",
      "source": [
        "from nltk.tokenize import WordPunctTokenizer as WPT"
      ],
      "metadata": {
        "id": "xKF_qLzDP3Fh"
      },
      "execution_count": 12,
      "outputs": []
    },
    {
      "cell_type": "markdown",
      "source": [
        "Load data"
      ],
      "metadata": {
        "id": "cowZ__TAYl8P"
      }
    },
    {
      "cell_type": "code",
      "source": [
        "data = list(open(\"quora.txt\"))\n",
        "data[666]"
      ],
      "metadata": {
        "colab": {
          "base_uri": "https://localhost:8080/",
          "height": 36
        },
        "id": "zcU0NrJTP0HU",
        "outputId": "602257af-849a-4bde-ad31-1306adf8054c"
      },
      "execution_count": 10,
      "outputs": [
        {
          "output_type": "execute_result",
          "data": {
            "text/plain": [
              "'How damning are the recent DNC leaks that show internal collusion?\\n'"
            ],
            "application/vnd.google.colaboratory.intrinsic+json": {
              "type": "string"
            }
          },
          "metadata": {},
          "execution_count": 10
        }
      ]
    },
    {
      "cell_type": "markdown",
      "source": [
        "Tokenize data"
      ],
      "metadata": {
        "id": "Rte5iI4rYpIL"
      }
    },
    {
      "cell_type": "code",
      "source": [
        "tokenizer = WPT()\n",
        "print(tokenizer.tokenize(data[1]))"
      ],
      "metadata": {
        "colab": {
          "base_uri": "https://localhost:8080/"
        },
        "id": "0dN4idHGWvxj",
        "outputId": "4eee07cc-1079-406c-e94f-cd8323e33d83"
      },
      "execution_count": 16,
      "outputs": [
        {
          "output_type": "stream",
          "name": "stdout",
          "text": [
            "['What', 'are', 'some', 'ways', 'to', 'overcome', 'a', 'fast', 'food', 'addiction', '?']\n"
          ]
        }
      ]
    },
    {
      "cell_type": "code",
      "source": [
        "new_data = [tokenizer.tokenize(x.lower()) for x in data]\n",
        "new_data[3]"
      ],
      "metadata": {
        "colab": {
          "base_uri": "https://localhost:8080/"
        },
        "id": "ObLzlA4mXGCT",
        "outputId": "750c095d-9609-49e3-ed88-c0738affaf7b"
      },
      "execution_count": 17,
      "outputs": [
        {
          "output_type": "execute_result",
          "data": {
            "text/plain": [
              "['what', 'are', 'zip', 'codes', 'in', 'the', 'bay', 'area', '?']"
            ]
          },
          "metadata": {},
          "execution_count": 17
        }
      ]
    },
    {
      "cell_type": "markdown",
      "source": [
        "Bathe in tests"
      ],
      "metadata": {
        "id": "6mHdjS7eYYbz"
      }
    },
    {
      "cell_type": "code",
      "source": [
        "assert all(isinstance(row, list) for row in new_data)\n",
        "assert all(all(isinstance(token, str) for token in row) for row in new_data)\n",
        "is_latin = lambda token: all('a' <= x.lower() <= 'z' for x in token)\n",
        "assert all(map(lambda l: not is_latin(l) or l.islower(), map(' '.join, new_data)))"
      ],
      "metadata": {
        "id": "SfX9FlgLXyJ6"
      },
      "execution_count": 22,
      "outputs": []
    }
  ]
}