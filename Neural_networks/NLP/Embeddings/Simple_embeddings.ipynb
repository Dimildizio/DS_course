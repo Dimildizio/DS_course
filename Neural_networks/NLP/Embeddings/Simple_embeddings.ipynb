{
  "nbformat": 4,
  "nbformat_minor": 0,
  "metadata": {
    "colab": {
      "provenance": [],
      "authorship_tag": "ABX9TyNraS4GmHEfHhbqxNcUDull",
      "include_colab_link": true
    },
    "kernelspec": {
      "name": "python3",
      "display_name": "Python 3"
    },
    "language_info": {
      "name": "python"
    }
  },
  "cells": [
    {
      "cell_type": "markdown",
      "metadata": {
        "id": "view-in-github",
        "colab_type": "text"
      },
      "source": [
        "<a href=\"https://colab.research.google.com/github/Dimildizio/DS_course/blob/main/Neural_networks/NLP/Embeddings/Simple_embeddings.ipynb\" target=\"_parent\"><img src=\"https://colab.research.google.com/assets/colab-badge.svg\" alt=\"Open In Colab\"/></a>"
      ]
    },
    {
      "cell_type": "markdown",
      "source": [
        "# Simple Embeddings"
      ],
      "metadata": {
        "id": "fSDYOEFIa9MQ"
      }
    },
    {
      "cell_type": "markdown",
      "source": [
        "The task is to rank StackOverflow questions based on their semantic representations."
      ],
      "metadata": {
        "id": "uh3jmwRJbE_c"
      }
    },
    {
      "cell_type": "markdown",
      "source": [
        "* $X$ - the n number of objects\n",
        "* $X^l = \\{x_1, x_2, ..., x_l\\}$ - train dataset\n",
        "\n",
        "* $i \\prec j$ - the order of index pairs of $X^l$ and $i$, $j$ indices.\n"
      ],
      "metadata": {
        "id": "AE5QaUP8bY-W"
      }
    },
    {
      "cell_type": "markdown",
      "source": [
        "\n",
        "### Task:\n",
        "Construct and ranking function $a$ : $X \\rightarrow R$ so that\n",
        "$$i \\prec j \\Rightarrow a(x_i) < a(x_j)$$"
      ],
      "metadata": {
        "id": "Fpf3J5y_bv6K"
      }
    },
    {
      "cell_type": "markdown",
      "source": [
        "## Embeddings"
      ],
      "metadata": {
        "id": "EvkWJ9QAfb_3"
      }
    },
    {
      "cell_type": "markdown",
      "source": [
        "### Download the corpora"
      ],
      "metadata": {
        "id": "Agz-_QkwfrPo"
      }
    },
    {
      "cell_type": "code",
      "execution_count": null,
      "metadata": {
        "id": "GAcSxBbra7_N"
      },
      "outputs": [],
      "source": [
        "%%capture\n",
        "!wget https://zenodo.org/record/1199620/files/SO_vectors_200.bin?download=1"
      ]
    },
    {
      "cell_type": "markdown",
      "source": [
        "### Imports"
      ],
      "metadata": {
        "id": "sYNU7HoRfmFs"
      }
    },
    {
      "cell_type": "code",
      "source": [
        "import numpy as np\n",
        "import pandas as pd\n",
        "import re\n",
        "\n",
        "\n",
        "from gensim.models.keyedvectors import KeyedVectors\n",
        "from nltk.tokenize import WordPunctTokenizer\n",
        "from typing import List"
      ],
      "metadata": {
        "id": "IIXYOQfqfkMO"
      },
      "execution_count": 135,
      "outputs": []
    },
    {
      "cell_type": "markdown",
      "source": [
        "### Create embeddings"
      ],
      "metadata": {
        "id": "jkj46d7Rf0j7"
      }
    },
    {
      "cell_type": "code",
      "source": [
        "wv_embeddings = KeyedVectors.load_word2vec_format(\"SO_vectors_200.bin?download=1\", binary=True)"
      ],
      "metadata": {
        "id": "fSfNkxO2fq8G"
      },
      "execution_count": 3,
      "outputs": []
    },
    {
      "cell_type": "markdown",
      "source": [
        "### Examples"
      ],
      "metadata": {
        "id": "ZYFxkpEsgJDo"
      }
    },
    {
      "cell_type": "code",
      "source": [
        "word = 'dog'\n",
        "if word in wv_embeddings:\n",
        "    print(wv_embeddings[word].dtype, wv_embeddings[word].shape)\n",
        "print(f\"Num of words: {len(wv_embeddings.index_to_key)}\")"
      ],
      "metadata": {
        "colab": {
          "base_uri": "https://localhost:8080/"
        },
        "id": "oesej4FWgDkw",
        "outputId": "864ef967-e9b1-4c91-f534-1651315e3db3"
      },
      "execution_count": 12,
      "outputs": [
        {
          "output_type": "stream",
          "name": "stdout",
          "text": [
            "float32 (200,)\n",
            "Num of words: 1787145\n"
          ]
        }
      ]
    },
    {
      "cell_type": "markdown",
      "source": [
        "### Question 1"
      ],
      "metadata": {
        "id": "KGtf23LNgoqN"
      }
    },
    {
      "cell_type": "markdown",
      "source": [
        "Is 'cat' in top5 most similar words to 'dog'? If yes, which position?"
      ],
      "metadata": {
        "id": "1j0gocWOgwS0"
      }
    },
    {
      "cell_type": "code",
      "source": [
        "print(\"'dog' and 'cat' similarity:\")\n",
        "print('\\t', wv_embeddings.similarity('dog', 'cat'))\n",
        "print('\\t', wv_embeddings.n_similarity(['dog'], ['cat']))\n"
      ],
      "metadata": {
        "colab": {
          "base_uri": "https://localhost:8080/"
        },
        "id": "Zy0vl5uHnfbs",
        "outputId": "452023ba-d221-4fb1-d395-687800e75b4e"
      },
      "execution_count": 64,
      "outputs": [
        {
          "output_type": "stream",
          "name": "stdout",
          "text": [
            "'dog' and 'cat' similarity:\n",
            "\t 0.6852341\n",
            "\t 0.6852341\n"
          ]
        }
      ]
    },
    {
      "cell_type": "code",
      "source": [
        "def check_occur(req: str, base: str, n: int = 5, flag = True) -> np.ndarray:\n",
        "  \"\"\"Checks if one word is similar to another\n",
        "\n",
        "  :param req: word to check with\n",
        "  :param base: word check if is similar to\n",
        "  :param n: top N words to check\n",
        "  :param flag: a flag to check which slimilarity function to use\n",
        "  :return: None\n",
        "  \"\"\"\n",
        "\n",
        "  # also funcs most_similar_cosmul or similar_by_word could be used\n",
        "  result = wv_embeddings.most_similar(base, topn=n)\n",
        "  for i, (word, perc) in enumerate(result):\n",
        "    if req == word:\n",
        "      print(f'{req} is {int(perc*100)}% similar to {base} at position {i}')\n",
        "      return result\n",
        "  print(f'{req} is not similar to {base}')\n",
        "  return result"
      ],
      "metadata": {
        "id": "-jDEJd1qiwqy"
      },
      "execution_count": 68,
      "outputs": []
    },
    {
      "cell_type": "code",
      "source": [
        "words = ('cat', 'cats', 'dog', 'dogs')\n",
        "for requested in words:\n",
        "  requested = requested.lower()\n",
        "  for based in words:\n",
        "    based = based.lower()\n",
        "    if requested != based:\n",
        "      result = check_occur(requested, based)\n",
        "  print()"
      ],
      "metadata": {
        "colab": {
          "base_uri": "https://localhost:8080/"
        },
        "id": "cbGZuSORgUL7",
        "outputId": "b469557e-f37f-4d8e-9038-a5adf4106157"
      },
      "execution_count": 72,
      "outputs": [
        {
          "output_type": "stream",
          "name": "stdout",
          "text": [
            "cat is not similar to cats\n",
            "cat is not similar to dog\n",
            "cat is not similar to dogs\n",
            "\n",
            "cats is not similar to cat\n",
            "cats is 76% similar to dog at position 3\n",
            "cats is 90% similar to dogs at position 0\n",
            "\n",
            "dog is 68% similar to cat at position 1\n",
            "dog is 76% similar to cats at position 2\n",
            "dog is 78% similar to dogs at position 3\n",
            "\n",
            "dogs is not similar to cat\n",
            "dogs is 90% similar to cats at position 0\n",
            "dogs is 78% similar to dog at position 1\n",
            "\n"
          ]
        }
      ]
    },
    {
      "cell_type": "markdown",
      "source": [
        "#### Q1Answer:\n",
        "\n",
        "We've checked several simialrity function: `similar_by_word`, `most_similar_cosmul` and `most_similar` and got identical (different percentage) results. *(Here the words are ranked starting from 1 unlike positions in the similarity list which start from 0)*:\n",
        "\n",
        "**\"cat\" is not in top5 words similar to \"dog\"**, however \"cats\" is similar to \"dog\" coming fourth and and \"cats\" is similar to \"dogs\" coming first. Also 'dog' is similar to 'cat' ranked second, to 'cats' ranked third. And 'dogs' similar to 'cats' ranked first.\n"
      ],
      "metadata": {
        "id": "PLojs2X5kynq"
      }
    },
    {
      "cell_type": "markdown",
      "source": [
        "## Vector representations"
      ],
      "metadata": {
        "id": "RE8U0BKHp9Hc"
      }
    },
    {
      "cell_type": "code",
      "source": [
        "class MyTokenizer:\n",
        "    def __init__(self):\n",
        "        self.tokenizer = WordPunctTokenizer()\n",
        "\n",
        "    def tokenize(self, text):\n",
        "        return self.tokenizer.tokenize(text)"
      ],
      "metadata": {
        "id": "ZHntr91FqDh5"
      },
      "execution_count": 75,
      "outputs": []
    },
    {
      "cell_type": "code",
      "source": [
        "tokenizer = MyTokenizer()"
      ],
      "metadata": {
        "id": "fhbsEFbukHOU"
      },
      "execution_count": 78,
      "outputs": []
    },
    {
      "cell_type": "code",
      "source": [
        "def question_to_vec(question, embeddings=wv_embeddings, tokenizer=tokenizer, dim=200):\n",
        "    \"\"\"\n",
        "    Embeds a sentence into vector representations\n",
        "\n",
        "        :param question: str\n",
        "        :param embeddings: embedidngs\n",
        "        :param dim: size of any vector in repr\n",
        "\n",
        "        return: embeddings of a questing\n",
        "    \"\"\"\n",
        "    tokens = tokenizer.tokenize(question)\n",
        "    vecs = []\n",
        "    known_words = 0\n",
        "\n",
        "    for token in tokens:\n",
        "      if token in embeddings:\n",
        "        vecs.append(embeddings[token])\n",
        "        known_words+=1\n",
        "    if not known_words:\n",
        "      return np.zeros(dim)\n",
        "    avg_vector = np.mean(vecs, axis=0)\n",
        "    return avg_vector"
      ],
      "metadata": {
        "id": "v-yf8U76qrHH"
      },
      "execution_count": 87,
      "outputs": []
    },
    {
      "cell_type": "markdown",
      "source": [
        "### Question 2:\n",
        "\n",
        "What is the third component (2nd index) of vector representation of `\"I love neural networks\"` (rounded to 2 digit)?"
      ],
      "metadata": {
        "id": "zYTj4u7uuSlq"
      }
    },
    {
      "cell_type": "code",
      "source": [
        "q2 = 'I love neural networks'\n",
        "q2_embeds = question_to_vec(q2)\n",
        "third_component = str(round(q2_embeds[2], 2))\n",
        "print(f\"Third component of '{q2}' is {third_component}\")"
      ],
      "metadata": {
        "colab": {
          "base_uri": "https://localhost:8080/"
        },
        "id": "u5aOFm8QslSF",
        "outputId": "fe263f81-1e66-4eb4-8ab9-2a6a32c5455f"
      },
      "execution_count": 100,
      "outputs": [
        {
          "output_type": "stream",
          "name": "stdout",
          "text": [
            "Third component of 'I love neural networks' is -1.29\n"
          ]
        }
      ]
    },
    {
      "cell_type": "markdown",
      "source": [
        "#### Q2 Answer:\n",
        "\n",
        "Third component of `'I love neural networks'` is `-1.29`"
      ],
      "metadata": {
        "id": "E6_C7m04t3UC"
      }
    },
    {
      "cell_type": "markdown",
      "source": [
        "## Text similarity"
      ],
      "metadata": {
        "id": "sJyDh_Z-wGXF"
      }
    },
    {
      "cell_type": "markdown",
      "source": [
        "### Explanation\n",
        "\n",
        "*We assume* that cos distance for duplicates is smaleer than between randomly chosen sentences.\n",
        "\n",
        "\n",
        "\n",
        "For each of $N$ questions, we'll **generate** $R$ **random negative examples** and **include the actual duplicates** as well. We'll rank $R + 1$ examples for each question using our model and **look at the position of the duplicate**. Ideally, we want the duplicate to be ranked first.\n",
        "\n",
        "#### Hits@K\n",
        "The first metric will be the number of correct hits for a given $K$:\n",
        "\n",
        "$$ \\text{Hits@K} = \\frac{1}{N}\\sum_{i=1}^N \\, [rank\\_q_i^{'} \\le K],$$\n",
        "* $\\begin{equation*}\n",
        "[x < 0 ] \\equiv\n",
        " \\begin{cases}\n",
        "   1, &x < 0\\\\\n",
        "   0, &x \\geq 0\n",
        " \\end{cases}\n",
        "\\end{equation*}$ - func\n",
        "* $q_i$ - $i$-th question\n",
        "\n",
        "\n",
        "#### DCG@K\n",
        "\n",
        "Another metric will be a simplified DCG metric, which considers the order of elements in the list by multiplying the **relevance of an element** by a **weight equal to the inverse logarithm of its position**:\n",
        "\n",
        "$$ \\text{DCG@K} = \\frac{1}{N} \\sum_{i=1}^N\\frac{1}{\\log_2(1+rank\\_q_i^{'})}\\cdot[rank\\_q_i^{'} \\le K],$$\n",
        "\n",
        "\n",
        "\n",
        "\n",
        "With this metric, the model is penalized for higher ranks of correct answers."
      ],
      "metadata": {
        "id": "PkYTPYpd1Yo8"
      }
    },
    {
      "cell_type": "markdown",
      "source": [
        "### Question 3:\n",
        "\n",
        "Max `Hits@47 - DCG@1` ?"
      ],
      "metadata": {
        "id": "yPVzFHYPCu51"
      }
    },
    {
      "cell_type": "markdown",
      "source": [
        "The duplicate is always ranked within the top 47 positions (Hits@47 = 1), which means that the model correctly identifies the duplicate as similar to the input question.\n",
        "\n",
        "The duplicate is always ranked first (DCG@1 = 1), showing that the model ranks the duplicate at the top position, with no incorrect rankings above it.\n",
        "\n",
        "So, to generalize:\n",
        "\n",
        "**Hits@47** = 1: means all duplicates are in top47\n",
        "\n",
        "**DCG@1** = 1: means all duplicates are ranked first\n",
        "\n",
        "*If we just want maximum value for the result then we want the situation to be Hits@47=1 (all duplicates within first47), DCG@1=0 (none of the duplicates ranked first) thus having 1 as maximum*\n",
        "$$1-0=1$$\n",
        "\n",
        "So **the answer is 1** however i consider such situation theretical"
      ],
      "metadata": {
        "id": "lOxLThVZ3JfC"
      }
    },
    {
      "cell_type": "markdown",
      "source": [
        "#### Q3 answer:\n",
        "\n",
        "Max Hits@47 - DCG@1 = 1"
      ],
      "metadata": {
        "id": "h2hsLkYXDFLx"
      }
    },
    {
      "cell_type": "markdown",
      "source": [
        "### Question 4:\n",
        "Find `DCG@10`, if $rank\\_q_i^{'} = 9$(round to 1 digit)"
      ],
      "metadata": {
        "id": "UzJ3lyBdAy6B"
      }
    },
    {
      "cell_type": "markdown",
      "source": [
        "Since we dont need a list here we can as well do it in one line of code"
      ],
      "metadata": {
        "id": "6ZWPKgh-B0fp"
      }
    },
    {
      "cell_type": "code",
      "source": [
        "dcg = lambda rank, k: 1 / np.log2(1 + rank) if rank <= k else 0\n",
        "dcg_result = round(dcg(9, 10), 1)\n",
        "print(f\"DCG@10 if rank q'_i is 9: {dcg_result}\")"
      ],
      "metadata": {
        "colab": {
          "base_uri": "https://localhost:8080/"
        },
        "id": "7BzRPFKFBPyN",
        "outputId": "168dd981-15b2-4ab3-eed4-74f4885ea1cb"
      },
      "execution_count": 110,
      "outputs": [
        {
          "output_type": "stream",
          "name": "stdout",
          "text": [
            "DCG@10 if rank q'_i is 9: 0.3\n"
          ]
        }
      ]
    },
    {
      "cell_type": "markdown",
      "source": [
        "#### Q4 answer:\n",
        "\n",
        "DCG@10 if rank_$q'_i=9$: 0.3"
      ],
      "metadata": {
        "id": "1yUgJnKHCk1M"
      }
    },
    {
      "cell_type": "markdown",
      "source": [
        "### HITS\\_COUNT и DCG\\_SCORE"
      ],
      "metadata": {
        "id": "SyVg_A7zDoe9"
      }
    },
    {
      "cell_type": "markdown",
      "source": [
        "Each func has two args: $dup\\_ranks$ and $k$.\n",
        "\n",
        "$dup\\_ranks$ is a list which has dubs rankings (positions in ranked list)"
      ],
      "metadata": {
        "id": "8qJMPLhvD5yA"
      }
    },
    {
      "cell_type": "code",
      "source": [
        "def calc_dups_ranks(candidates_ranking: List, copy_answers: List) -> List:\n",
        "    \"\"\"\n",
        "    Calculate the ranks of duplicates in the candidates ranking.\n",
        "    For each index in a length of copy_answers list:\n",
        "      1. Find the index of the copy answer in the corresponding candidates ranking sublist\n",
        "      2. Append the rank to the dup_ranks list\n",
        "\n",
        "    :param candidates_ranking: (list of lists) List of ranked candidate answers for each question.\n",
        "    :param copy_answers: (list) List of duplicate answers.\n",
        "    :returns: List of ranks of duplicates in the candidates ranking.\n",
        "    \"\"\"\n",
        "    dup_ranks = []\n",
        "    for i in range(len(copy_answers)):\n",
        "        rank = candidates_ranking[i].index(copy_answers[i]) + 1\n",
        "        dup_ranks.append(rank)\n",
        "    return dup_ranks"
      ],
      "metadata": {
        "id": "5M1C0WcuGfYX"
      },
      "execution_count": 126,
      "outputs": []
    },
    {
      "cell_type": "code",
      "source": [
        "def hits_count(dup_ranks: List, k: int) -> float:\n",
        "    \"\"\"\n",
        "    Compute Hits@K metric.\n",
        "\n",
        "    :param dup_ranks: (list) List of ranks of duplicates in the ranked list for each question.\n",
        "    :param k: (int) Number of top-ranked items to consider.\n",
        "    :returns: float Hits@K score.\n",
        "    \"\"\"\n",
        "    hits = sum(1 for rank in dup_ranks if rank <= k) / len(dup_ranks)\n",
        "    return hits"
      ],
      "metadata": {
        "id": "C3S0N7jVwe5k"
      },
      "execution_count": 122,
      "outputs": []
    },
    {
      "cell_type": "code",
      "source": [
        "def dcg_score(dup_ranks: List, k: int) -> float:\n",
        "    \"\"\"\n",
        "    Compute DCG@K metric.\n",
        "\n",
        "\n",
        "    :param dup_ranks: (list) List of ranks of duplicates in the ranked list for each question.\n",
        "    :param k: (int) Number of top-ranked items to consider.\n",
        "    :returns: float DCG@K score.\n",
        "    \"\"\"\n",
        "    dcg = sum(1 / np.log2(1 + rank) for rank in dup_ranks if rank <= k) / len(dup_ranks)\n",
        "    return dcg"
      ],
      "metadata": {
        "id": "OsTKxPsc8hze"
      },
      "execution_count": 123,
      "outputs": []
    },
    {
      "cell_type": "markdown",
      "source": [
        "#### Test it"
      ],
      "metadata": {
        "id": "hwV-bbjOGdhq"
      }
    },
    {
      "cell_type": "code",
      "source": [
        "copy_answers = [\"How does the catch keyword determine the type of exception that was thrown\",]\n",
        "\n",
        "candidates_ranking = [[\"How Can I Make These Links Rotate in PHP\",\n",
        "                       \"How does the catch keyword determine the type of exception that was thrown\",\n",
        "                       \"NSLog array description not memory address\",\n",
        "                       \"PECL_HTTP not recognised php ubuntu\"],]\n",
        "\n",
        "dup_ranks = calc_dups_ranks(candidates_ranking, copy_answers)\n",
        "\n",
        "print('HIT:', [hits_count(dup_ranks, k) for k in range(1, 5)])\n",
        "print('DCG:', [round(dcg_score(dup_ranks, k), 5) for k in range(1, 5)])"
      ],
      "metadata": {
        "colab": {
          "base_uri": "https://localhost:8080/"
        },
        "id": "IBN4KSfVEr6K",
        "outputId": "ed394ae7-2ec1-4701-f2d2-ccd683a4341b"
      },
      "execution_count": 130,
      "outputs": [
        {
          "output_type": "stream",
          "name": "stdout",
          "text": [
            "HIT: [0.0, 1.0, 1.0, 1.0]\n",
            "DCG: [0.0, 0.63093, 0.63093, 0.63093]\n"
          ]
        }
      ]
    },
    {
      "cell_type": "code",
      "source": [
        "# correct_answers - metrics for different k's\n",
        "correct_answers = pd.DataFrame([[0, 1, 1, 1], [0, 1 / (np.log2(3)), 1 / (np.log2(3)), 1 / (np.log2(3))]],\n",
        "                               index=['HITS', 'DCG'], columns=range(1,5))\n",
        "correct_answers"
      ],
      "metadata": {
        "colab": {
          "base_uri": "https://localhost:8080/",
          "height": 125
        },
        "id": "xrA2vgSjHWI2",
        "outputId": "6d6d9a99-2cd3-4692-c908-00a0458cbeff"
      },
      "execution_count": 136,
      "outputs": [
        {
          "output_type": "execute_result",
          "data": {
            "text/plain": [
              "      1        2        3        4\n",
              "HITS  0  1.00000  1.00000  1.00000\n",
              "DCG   0  0.63093  0.63093  0.63093"
            ],
            "text/html": [
              "\n",
              "  <div id=\"df-57c58720-c7cc-45d3-8ba9-6c597b74d20e\" class=\"colab-df-container\">\n",
              "    <div>\n",
              "<style scoped>\n",
              "    .dataframe tbody tr th:only-of-type {\n",
              "        vertical-align: middle;\n",
              "    }\n",
              "\n",
              "    .dataframe tbody tr th {\n",
              "        vertical-align: top;\n",
              "    }\n",
              "\n",
              "    .dataframe thead th {\n",
              "        text-align: right;\n",
              "    }\n",
              "</style>\n",
              "<table border=\"1\" class=\"dataframe\">\n",
              "  <thead>\n",
              "    <tr style=\"text-align: right;\">\n",
              "      <th></th>\n",
              "      <th>1</th>\n",
              "      <th>2</th>\n",
              "      <th>3</th>\n",
              "      <th>4</th>\n",
              "    </tr>\n",
              "  </thead>\n",
              "  <tbody>\n",
              "    <tr>\n",
              "      <th>HITS</th>\n",
              "      <td>0</td>\n",
              "      <td>1.00000</td>\n",
              "      <td>1.00000</td>\n",
              "      <td>1.00000</td>\n",
              "    </tr>\n",
              "    <tr>\n",
              "      <th>DCG</th>\n",
              "      <td>0</td>\n",
              "      <td>0.63093</td>\n",
              "      <td>0.63093</td>\n",
              "      <td>0.63093</td>\n",
              "    </tr>\n",
              "  </tbody>\n",
              "</table>\n",
              "</div>\n",
              "    <div class=\"colab-df-buttons\">\n",
              "\n",
              "  <div class=\"colab-df-container\">\n",
              "    <button class=\"colab-df-convert\" onclick=\"convertToInteractive('df-57c58720-c7cc-45d3-8ba9-6c597b74d20e')\"\n",
              "            title=\"Convert this dataframe to an interactive table.\"\n",
              "            style=\"display:none;\">\n",
              "\n",
              "  <svg xmlns=\"http://www.w3.org/2000/svg\" height=\"24px\" viewBox=\"0 -960 960 960\">\n",
              "    <path d=\"M120-120v-720h720v720H120Zm60-500h600v-160H180v160Zm220 220h160v-160H400v160Zm0 220h160v-160H400v160ZM180-400h160v-160H180v160Zm440 0h160v-160H620v160ZM180-180h160v-160H180v160Zm440 0h160v-160H620v160Z\"/>\n",
              "  </svg>\n",
              "    </button>\n",
              "\n",
              "  <style>\n",
              "    .colab-df-container {\n",
              "      display:flex;\n",
              "      gap: 12px;\n",
              "    }\n",
              "\n",
              "    .colab-df-convert {\n",
              "      background-color: #E8F0FE;\n",
              "      border: none;\n",
              "      border-radius: 50%;\n",
              "      cursor: pointer;\n",
              "      display: none;\n",
              "      fill: #1967D2;\n",
              "      height: 32px;\n",
              "      padding: 0 0 0 0;\n",
              "      width: 32px;\n",
              "    }\n",
              "\n",
              "    .colab-df-convert:hover {\n",
              "      background-color: #E2EBFA;\n",
              "      box-shadow: 0px 1px 2px rgba(60, 64, 67, 0.3), 0px 1px 3px 1px rgba(60, 64, 67, 0.15);\n",
              "      fill: #174EA6;\n",
              "    }\n",
              "\n",
              "    .colab-df-buttons div {\n",
              "      margin-bottom: 4px;\n",
              "    }\n",
              "\n",
              "    [theme=dark] .colab-df-convert {\n",
              "      background-color: #3B4455;\n",
              "      fill: #D2E3FC;\n",
              "    }\n",
              "\n",
              "    [theme=dark] .colab-df-convert:hover {\n",
              "      background-color: #434B5C;\n",
              "      box-shadow: 0px 1px 3px 1px rgba(0, 0, 0, 0.15);\n",
              "      filter: drop-shadow(0px 1px 2px rgba(0, 0, 0, 0.3));\n",
              "      fill: #FFFFFF;\n",
              "    }\n",
              "  </style>\n",
              "\n",
              "    <script>\n",
              "      const buttonEl =\n",
              "        document.querySelector('#df-57c58720-c7cc-45d3-8ba9-6c597b74d20e button.colab-df-convert');\n",
              "      buttonEl.style.display =\n",
              "        google.colab.kernel.accessAllowed ? 'block' : 'none';\n",
              "\n",
              "      async function convertToInteractive(key) {\n",
              "        const element = document.querySelector('#df-57c58720-c7cc-45d3-8ba9-6c597b74d20e');\n",
              "        const dataTable =\n",
              "          await google.colab.kernel.invokeFunction('convertToInteractive',\n",
              "                                                    [key], {});\n",
              "        if (!dataTable) return;\n",
              "\n",
              "        const docLinkHtml = 'Like what you see? Visit the ' +\n",
              "          '<a target=\"_blank\" href=https://colab.research.google.com/notebooks/data_table.ipynb>data table notebook</a>'\n",
              "          + ' to learn more about interactive tables.';\n",
              "        element.innerHTML = '';\n",
              "        dataTable['output_type'] = 'display_data';\n",
              "        await google.colab.output.renderOutput(dataTable, element);\n",
              "        const docLink = document.createElement('div');\n",
              "        docLink.innerHTML = docLinkHtml;\n",
              "        element.appendChild(docLink);\n",
              "      }\n",
              "    </script>\n",
              "  </div>\n",
              "\n",
              "\n",
              "<div id=\"df-a7a8606e-94cb-40e5-b146-292dac86b344\">\n",
              "  <button class=\"colab-df-quickchart\" onclick=\"quickchart('df-a7a8606e-94cb-40e5-b146-292dac86b344')\"\n",
              "            title=\"Suggest charts\"\n",
              "            style=\"display:none;\">\n",
              "\n",
              "<svg xmlns=\"http://www.w3.org/2000/svg\" height=\"24px\"viewBox=\"0 0 24 24\"\n",
              "     width=\"24px\">\n",
              "    <g>\n",
              "        <path d=\"M19 3H5c-1.1 0-2 .9-2 2v14c0 1.1.9 2 2 2h14c1.1 0 2-.9 2-2V5c0-1.1-.9-2-2-2zM9 17H7v-7h2v7zm4 0h-2V7h2v10zm4 0h-2v-4h2v4z\"/>\n",
              "    </g>\n",
              "</svg>\n",
              "  </button>\n",
              "\n",
              "<style>\n",
              "  .colab-df-quickchart {\n",
              "      --bg-color: #E8F0FE;\n",
              "      --fill-color: #1967D2;\n",
              "      --hover-bg-color: #E2EBFA;\n",
              "      --hover-fill-color: #174EA6;\n",
              "      --disabled-fill-color: #AAA;\n",
              "      --disabled-bg-color: #DDD;\n",
              "  }\n",
              "\n",
              "  [theme=dark] .colab-df-quickchart {\n",
              "      --bg-color: #3B4455;\n",
              "      --fill-color: #D2E3FC;\n",
              "      --hover-bg-color: #434B5C;\n",
              "      --hover-fill-color: #FFFFFF;\n",
              "      --disabled-bg-color: #3B4455;\n",
              "      --disabled-fill-color: #666;\n",
              "  }\n",
              "\n",
              "  .colab-df-quickchart {\n",
              "    background-color: var(--bg-color);\n",
              "    border: none;\n",
              "    border-radius: 50%;\n",
              "    cursor: pointer;\n",
              "    display: none;\n",
              "    fill: var(--fill-color);\n",
              "    height: 32px;\n",
              "    padding: 0;\n",
              "    width: 32px;\n",
              "  }\n",
              "\n",
              "  .colab-df-quickchart:hover {\n",
              "    background-color: var(--hover-bg-color);\n",
              "    box-shadow: 0 1px 2px rgba(60, 64, 67, 0.3), 0 1px 3px 1px rgba(60, 64, 67, 0.15);\n",
              "    fill: var(--button-hover-fill-color);\n",
              "  }\n",
              "\n",
              "  .colab-df-quickchart-complete:disabled,\n",
              "  .colab-df-quickchart-complete:disabled:hover {\n",
              "    background-color: var(--disabled-bg-color);\n",
              "    fill: var(--disabled-fill-color);\n",
              "    box-shadow: none;\n",
              "  }\n",
              "\n",
              "  .colab-df-spinner {\n",
              "    border: 2px solid var(--fill-color);\n",
              "    border-color: transparent;\n",
              "    border-bottom-color: var(--fill-color);\n",
              "    animation:\n",
              "      spin 1s steps(1) infinite;\n",
              "  }\n",
              "\n",
              "  @keyframes spin {\n",
              "    0% {\n",
              "      border-color: transparent;\n",
              "      border-bottom-color: var(--fill-color);\n",
              "      border-left-color: var(--fill-color);\n",
              "    }\n",
              "    20% {\n",
              "      border-color: transparent;\n",
              "      border-left-color: var(--fill-color);\n",
              "      border-top-color: var(--fill-color);\n",
              "    }\n",
              "    30% {\n",
              "      border-color: transparent;\n",
              "      border-left-color: var(--fill-color);\n",
              "      border-top-color: var(--fill-color);\n",
              "      border-right-color: var(--fill-color);\n",
              "    }\n",
              "    40% {\n",
              "      border-color: transparent;\n",
              "      border-right-color: var(--fill-color);\n",
              "      border-top-color: var(--fill-color);\n",
              "    }\n",
              "    60% {\n",
              "      border-color: transparent;\n",
              "      border-right-color: var(--fill-color);\n",
              "    }\n",
              "    80% {\n",
              "      border-color: transparent;\n",
              "      border-right-color: var(--fill-color);\n",
              "      border-bottom-color: var(--fill-color);\n",
              "    }\n",
              "    90% {\n",
              "      border-color: transparent;\n",
              "      border-bottom-color: var(--fill-color);\n",
              "    }\n",
              "  }\n",
              "</style>\n",
              "\n",
              "  <script>\n",
              "    async function quickchart(key) {\n",
              "      const quickchartButtonEl =\n",
              "        document.querySelector('#' + key + ' button');\n",
              "      quickchartButtonEl.disabled = true;  // To prevent multiple clicks.\n",
              "      quickchartButtonEl.classList.add('colab-df-spinner');\n",
              "      try {\n",
              "        const charts = await google.colab.kernel.invokeFunction(\n",
              "            'suggestCharts', [key], {});\n",
              "      } catch (error) {\n",
              "        console.error('Error during call to suggestCharts:', error);\n",
              "      }\n",
              "      quickchartButtonEl.classList.remove('colab-df-spinner');\n",
              "      quickchartButtonEl.classList.add('colab-df-quickchart-complete');\n",
              "    }\n",
              "    (() => {\n",
              "      let quickchartButtonEl =\n",
              "        document.querySelector('#df-a7a8606e-94cb-40e5-b146-292dac86b344 button');\n",
              "      quickchartButtonEl.style.display =\n",
              "        google.colab.kernel.accessAllowed ? 'block' : 'none';\n",
              "    })();\n",
              "  </script>\n",
              "</div>\n",
              "\n",
              "  <div id=\"id_c852eb0b-5a20-41b3-be75-ec35f7e65bd0\">\n",
              "    <style>\n",
              "      .colab-df-generate {\n",
              "        background-color: #E8F0FE;\n",
              "        border: none;\n",
              "        border-radius: 50%;\n",
              "        cursor: pointer;\n",
              "        display: none;\n",
              "        fill: #1967D2;\n",
              "        height: 32px;\n",
              "        padding: 0 0 0 0;\n",
              "        width: 32px;\n",
              "      }\n",
              "\n",
              "      .colab-df-generate:hover {\n",
              "        background-color: #E2EBFA;\n",
              "        box-shadow: 0px 1px 2px rgba(60, 64, 67, 0.3), 0px 1px 3px 1px rgba(60, 64, 67, 0.15);\n",
              "        fill: #174EA6;\n",
              "      }\n",
              "\n",
              "      [theme=dark] .colab-df-generate {\n",
              "        background-color: #3B4455;\n",
              "        fill: #D2E3FC;\n",
              "      }\n",
              "\n",
              "      [theme=dark] .colab-df-generate:hover {\n",
              "        background-color: #434B5C;\n",
              "        box-shadow: 0px 1px 3px 1px rgba(0, 0, 0, 0.15);\n",
              "        filter: drop-shadow(0px 1px 2px rgba(0, 0, 0, 0.3));\n",
              "        fill: #FFFFFF;\n",
              "      }\n",
              "    </style>\n",
              "    <button class=\"colab-df-generate\" onclick=\"generateWithVariable('correct_answers')\"\n",
              "            title=\"Generate code using this dataframe.\"\n",
              "            style=\"display:none;\">\n",
              "\n",
              "  <svg xmlns=\"http://www.w3.org/2000/svg\" height=\"24px\"viewBox=\"0 0 24 24\"\n",
              "       width=\"24px\">\n",
              "    <path d=\"M7,19H8.4L18.45,9,17,7.55,7,17.6ZM5,21V16.75L18.45,3.32a2,2,0,0,1,2.83,0l1.4,1.43a1.91,1.91,0,0,1,.58,1.4,1.91,1.91,0,0,1-.58,1.4L9.25,21ZM18.45,9,17,7.55Zm-12,3A5.31,5.31,0,0,0,4.9,8.1,5.31,5.31,0,0,0,1,6.5,5.31,5.31,0,0,0,4.9,4.9,5.31,5.31,0,0,0,6.5,1,5.31,5.31,0,0,0,8.1,4.9,5.31,5.31,0,0,0,12,6.5,5.46,5.46,0,0,0,6.5,12Z\"/>\n",
              "  </svg>\n",
              "    </button>\n",
              "    <script>\n",
              "      (() => {\n",
              "      const buttonEl =\n",
              "        document.querySelector('#id_c852eb0b-5a20-41b3-be75-ec35f7e65bd0 button.colab-df-generate');\n",
              "      buttonEl.style.display =\n",
              "        google.colab.kernel.accessAllowed ? 'block' : 'none';\n",
              "\n",
              "      buttonEl.onclick = () => {\n",
              "        google.colab.notebook.generateWithVariable('correct_answers');\n",
              "      }\n",
              "      })();\n",
              "    </script>\n",
              "  </div>\n",
              "\n",
              "    </div>\n",
              "  </div>\n"
            ],
            "application/vnd.google.colaboratory.intrinsic+json": {
              "type": "dataframe",
              "variable_name": "correct_answers",
              "summary": "{\n  \"name\": \"correct_answers\",\n  \"rows\": 2,\n  \"fields\": [\n    {\n      \"column\": 1,\n      \"properties\": {\n        \"dtype\": \"number\",\n        \"std\": 0,\n        \"min\": 0,\n        \"max\": 0,\n        \"samples\": [\n          0\n        ],\n        \"num_unique_values\": 1,\n        \"semantic_type\": \"\",\n        \"description\": \"\"\n      }\n    },\n    {\n      \"column\": 2,\n      \"properties\": {\n        \"dtype\": \"number\",\n        \"std\": 0.26097207398381256,\n        \"min\": 0.6309297535714575,\n        \"max\": 1.0,\n        \"samples\": [\n          0.6309297535714575\n        ],\n        \"num_unique_values\": 2,\n        \"semantic_type\": \"\",\n        \"description\": \"\"\n      }\n    },\n    {\n      \"column\": 3,\n      \"properties\": {\n        \"dtype\": \"number\",\n        \"std\": 0.26097207398381256,\n        \"min\": 0.6309297535714575,\n        \"max\": 1.0,\n        \"samples\": [\n          0.6309297535714575\n        ],\n        \"num_unique_values\": 2,\n        \"semantic_type\": \"\",\n        \"description\": \"\"\n      }\n    },\n    {\n      \"column\": 4,\n      \"properties\": {\n        \"dtype\": \"number\",\n        \"std\": 0.26097207398381256,\n        \"min\": 0.6309297535714575,\n        \"max\": 1.0,\n        \"samples\": [\n          0.6309297535714575\n        ],\n        \"num_unique_values\": 2,\n        \"semantic_type\": \"\",\n        \"description\": \"\"\n      }\n    }\n  ]\n}"
            }
          },
          "metadata": {},
          "execution_count": 136
        }
      ]
    },
    {
      "cell_type": "code",
      "source": [],
      "metadata": {
        "id": "0gVrX3Z_HZvO"
      },
      "execution_count": 133,
      "outputs": []
    }
  ]
}