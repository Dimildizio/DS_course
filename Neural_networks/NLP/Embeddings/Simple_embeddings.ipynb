{
  "nbformat": 4,
  "nbformat_minor": 0,
  "metadata": {
    "colab": {
      "provenance": [],
      "authorship_tag": "ABX9TyP6n9y/3PXG5S9v6/mEsQMh",
      "include_colab_link": true
    },
    "kernelspec": {
      "name": "python3",
      "display_name": "Python 3"
    },
    "language_info": {
      "name": "python"
    }
  },
  "cells": [
    {
      "cell_type": "markdown",
      "metadata": {
        "id": "view-in-github",
        "colab_type": "text"
      },
      "source": [
        "<a href=\"https://colab.research.google.com/github/Dimildizio/DS_course/blob/main/Neural_networks/NLP/Embeddings/Simple_embeddings.ipynb\" target=\"_parent\"><img src=\"https://colab.research.google.com/assets/colab-badge.svg\" alt=\"Open In Colab\"/></a>"
      ]
    },
    {
      "cell_type": "markdown",
      "source": [
        "# Simple Embeddings"
      ],
      "metadata": {
        "id": "fSDYOEFIa9MQ"
      }
    },
    {
      "cell_type": "markdown",
      "source": [
        "The task is to rank StackOverflow questions based on their semantic representations."
      ],
      "metadata": {
        "id": "uh3jmwRJbE_c"
      }
    },
    {
      "cell_type": "markdown",
      "source": [
        "* $X$ - the n number of objects\n",
        "* $X^l = \\{x_1, x_2, ..., x_l\\}$ - train dataset\n",
        "\n",
        "* $i \\prec j$ - the order of index pairs of $X^l$ and $i$, $j$ indices.\n"
      ],
      "metadata": {
        "id": "AE5QaUP8bY-W"
      }
    },
    {
      "cell_type": "markdown",
      "source": [
        "\n",
        "### Task:\n",
        "Construct and ranking function $a$ : $X \\rightarrow R$ so that\n",
        "$$i \\prec j \\Rightarrow a(x_i) < a(x_j)$$"
      ],
      "metadata": {
        "id": "Fpf3J5y_bv6K"
      }
    },
    {
      "cell_type": "markdown",
      "source": [
        "## Embeddings"
      ],
      "metadata": {
        "id": "EvkWJ9QAfb_3"
      }
    },
    {
      "cell_type": "markdown",
      "source": [
        "### Download the corpora"
      ],
      "metadata": {
        "id": "Agz-_QkwfrPo"
      }
    },
    {
      "cell_type": "code",
      "execution_count": null,
      "metadata": {
        "id": "GAcSxBbra7_N"
      },
      "outputs": [],
      "source": [
        "%%capture\n",
        "!wget https://zenodo.org/record/1199620/files/SO_vectors_200.bin?download=1"
      ]
    },
    {
      "cell_type": "markdown",
      "source": [
        "### Imports"
      ],
      "metadata": {
        "id": "sYNU7HoRfmFs"
      }
    },
    {
      "cell_type": "code",
      "source": [
        "import numpy as np\n",
        "\n",
        "from gensim.models.keyedvectors import KeyedVectors"
      ],
      "metadata": {
        "id": "IIXYOQfqfkMO"
      },
      "execution_count": 2,
      "outputs": []
    },
    {
      "cell_type": "markdown",
      "source": [
        "### Create embeddings"
      ],
      "metadata": {
        "id": "jkj46d7Rf0j7"
      }
    },
    {
      "cell_type": "code",
      "source": [
        "wv_embeddings = KeyedVectors.load_word2vec_format(\"SO_vectors_200.bin?download=1\", binary=True)"
      ],
      "metadata": {
        "id": "fSfNkxO2fq8G"
      },
      "execution_count": 3,
      "outputs": []
    },
    {
      "cell_type": "markdown",
      "source": [
        "### Examples"
      ],
      "metadata": {
        "id": "ZYFxkpEsgJDo"
      }
    },
    {
      "cell_type": "code",
      "source": [
        "word = 'dog'\n",
        "if word in wv_embeddings:\n",
        "    print(wv_embeddings[word].dtype, wv_embeddings[word].shape)\n",
        "print(f\"Num of words: {len(wv_embeddings.index_to_key)}\")"
      ],
      "metadata": {
        "colab": {
          "base_uri": "https://localhost:8080/"
        },
        "id": "oesej4FWgDkw",
        "outputId": "864ef967-e9b1-4c91-f534-1651315e3db3"
      },
      "execution_count": 12,
      "outputs": [
        {
          "output_type": "stream",
          "name": "stdout",
          "text": [
            "float32 (200,)\n",
            "Num of words: 1787145\n"
          ]
        }
      ]
    },
    {
      "cell_type": "markdown",
      "source": [
        "### Question 1"
      ],
      "metadata": {
        "id": "KGtf23LNgoqN"
      }
    },
    {
      "cell_type": "markdown",
      "source": [
        "Is 'cat' in top5 most similar words to 'dog'? If yes, which position?"
      ],
      "metadata": {
        "id": "1j0gocWOgwS0"
      }
    },
    {
      "cell_type": "code",
      "source": [
        "def check_occur(req: str, base: str, n: int = 5, flag = True) -> np.ndarray:\n",
        "  \"\"\"Checks if one word is similar to another\n",
        "\n",
        "  :param req: word to check with\n",
        "  :param base: word check if is similar to\n",
        "  :param n: top N words to check\n",
        "  :param flag: a flag to check which slimilarity function to use\n",
        "  :return: None\n",
        "  \"\"\"\n",
        "  if flag:\n",
        "    result = wv_embeddings.most_similar(base, topn=n)\n",
        "  else:\n",
        "    result = wv_embeddings.most_similar_cosmul(base, topn=n)\n",
        "  for i, (word, perc) in enumerate(result):\n",
        "    if req == word:\n",
        "      print(f'{req} is {int(perc*100)}% similar to {base} at position {i}')\n",
        "      return result\n",
        "  print(f'{req} is not similar to {base}')\n",
        "  return result"
      ],
      "metadata": {
        "id": "-jDEJd1qiwqy"
      },
      "execution_count": 53,
      "outputs": []
    },
    {
      "cell_type": "code",
      "source": [
        "words = ('cat', 'cats', 'dog', 'dogs')\n",
        "for requested in words:\n",
        "  for based in words:\n",
        "    if requested != based:\n",
        "      result = check_occur(requested, based)\n",
        "  print()"
      ],
      "metadata": {
        "colab": {
          "base_uri": "https://localhost:8080/"
        },
        "id": "cbGZuSORgUL7",
        "outputId": "7e1ca4f8-6ff1-4fee-cd4b-41dd6de85315"
      },
      "execution_count": 54,
      "outputs": [
        {
          "output_type": "stream",
          "name": "stdout",
          "text": [
            "cat is not similar to cats\n",
            "cat is not similar to dog\n",
            "cat is not similar to dogs\n",
            "\n",
            "cats is not similar to cat\n",
            "cats is 76% similar to dog at position 3\n",
            "cats is 90% similar to dogs at position 0\n",
            "\n",
            "dog is 68% similar to cat at position 1\n",
            "dog is 76% similar to cats at position 2\n",
            "dog is 78% similar to dogs at position 3\n",
            "\n",
            "dogs is not similar to cat\n",
            "dogs is 90% similar to cats at position 0\n",
            "dogs is 78% similar to dog at position 1\n",
            "\n"
          ]
        }
      ]
    },
    {
      "cell_type": "markdown",
      "source": [
        "####Answer:\n",
        "\n",
        "We've checked two simialrity function most_similar_cosmul and most_similar and got identical (different percentage) results:\n",
        "\n",
        "\"cat\" is not in top5 words similar to \"dog\", however \"cats\" is similar to \"dog\" coming fourth and and \"cats\" is similar to \"dogs\" coming first. Also 'dog' is similar to 'cat' ranked second, to 'cats' ranked third. And 'dogs' similar to 'cats' ranked first.\n"
      ],
      "metadata": {
        "id": "PLojs2X5kynq"
      }
    },
    {
      "cell_type": "code",
      "source": [],
      "metadata": {
        "id": "fhbsEFbukHOU"
      },
      "execution_count": null,
      "outputs": []
    }
  ]
}