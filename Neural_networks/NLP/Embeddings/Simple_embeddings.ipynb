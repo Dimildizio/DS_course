{
  "nbformat": 4,
  "nbformat_minor": 0,
  "metadata": {
    "colab": {
      "provenance": [],
      "authorship_tag": "ABX9TyMavCEQKJ+3++77r291B1b0",
      "include_colab_link": true
    },
    "kernelspec": {
      "name": "python3",
      "display_name": "Python 3"
    },
    "language_info": {
      "name": "python"
    },
    "widgets": {
      "application/vnd.jupyter.widget-state+json": {
        "804a7dd15e094d50841620de7512ac44": {
          "model_module": "@jupyter-widgets/controls",
          "model_name": "HBoxModel",
          "model_module_version": "1.5.0",
          "state": {
            "_dom_classes": [],
            "_model_module": "@jupyter-widgets/controls",
            "_model_module_version": "1.5.0",
            "_model_name": "HBoxModel",
            "_view_count": null,
            "_view_module": "@jupyter-widgets/controls",
            "_view_module_version": "1.5.0",
            "_view_name": "HBoxView",
            "box_style": "",
            "children": [
              "IPY_MODEL_1058f356e4964df2b5704c39c46b8740",
              "IPY_MODEL_78223a869b4c40ed909f98a82ec745a2",
              "IPY_MODEL_6f54de4d0d104f2bb9e15983ae927de4"
            ],
            "layout": "IPY_MODEL_a99264829adf460fbc34d3c915561e2c"
          }
        },
        "1058f356e4964df2b5704c39c46b8740": {
          "model_module": "@jupyter-widgets/controls",
          "model_name": "HTMLModel",
          "model_module_version": "1.5.0",
          "state": {
            "_dom_classes": [],
            "_model_module": "@jupyter-widgets/controls",
            "_model_module_version": "1.5.0",
            "_model_name": "HTMLModel",
            "_view_count": null,
            "_view_module": "@jupyter-widgets/controls",
            "_view_module_version": "1.5.0",
            "_view_name": "HTMLView",
            "description": "",
            "description_tooltip": null,
            "layout": "IPY_MODEL_7a1f407a6bf440a89ac4aacb5e7b4cad",
            "placeholder": "​",
            "style": "IPY_MODEL_38c370fdfa89481fa737319c6d296cec",
            "value": "100%"
          }
        },
        "78223a869b4c40ed909f98a82ec745a2": {
          "model_module": "@jupyter-widgets/controls",
          "model_name": "FloatProgressModel",
          "model_module_version": "1.5.0",
          "state": {
            "_dom_classes": [],
            "_model_module": "@jupyter-widgets/controls",
            "_model_module_version": "1.5.0",
            "_model_name": "FloatProgressModel",
            "_view_count": null,
            "_view_module": "@jupyter-widgets/controls",
            "_view_module_version": "1.5.0",
            "_view_name": "ProgressView",
            "bar_style": "success",
            "description": "",
            "description_tooltip": null,
            "layout": "IPY_MODEL_c55c174269ce4e96950a47f9bbea9c8e",
            "max": 3760,
            "min": 0,
            "orientation": "horizontal",
            "style": "IPY_MODEL_8c19c94f73444a87843a3c2123c758e6",
            "value": 3760
          }
        },
        "6f54de4d0d104f2bb9e15983ae927de4": {
          "model_module": "@jupyter-widgets/controls",
          "model_name": "HTMLModel",
          "model_module_version": "1.5.0",
          "state": {
            "_dom_classes": [],
            "_model_module": "@jupyter-widgets/controls",
            "_model_module_version": "1.5.0",
            "_model_name": "HTMLModel",
            "_view_count": null,
            "_view_module": "@jupyter-widgets/controls",
            "_view_module_version": "1.5.0",
            "_view_name": "HTMLView",
            "description": "",
            "description_tooltip": null,
            "layout": "IPY_MODEL_c37e707d40684d8b8beb87a752e5d798",
            "placeholder": "​",
            "style": "IPY_MODEL_1e8e2bfb16ab4c8187374548c2a323f4",
            "value": " 3760/3760 [05:41&lt;00:00, 14.58it/s]"
          }
        },
        "a99264829adf460fbc34d3c915561e2c": {
          "model_module": "@jupyter-widgets/base",
          "model_name": "LayoutModel",
          "model_module_version": "1.2.0",
          "state": {
            "_model_module": "@jupyter-widgets/base",
            "_model_module_version": "1.2.0",
            "_model_name": "LayoutModel",
            "_view_count": null,
            "_view_module": "@jupyter-widgets/base",
            "_view_module_version": "1.2.0",
            "_view_name": "LayoutView",
            "align_content": null,
            "align_items": null,
            "align_self": null,
            "border": null,
            "bottom": null,
            "display": null,
            "flex": null,
            "flex_flow": null,
            "grid_area": null,
            "grid_auto_columns": null,
            "grid_auto_flow": null,
            "grid_auto_rows": null,
            "grid_column": null,
            "grid_gap": null,
            "grid_row": null,
            "grid_template_areas": null,
            "grid_template_columns": null,
            "grid_template_rows": null,
            "height": null,
            "justify_content": null,
            "justify_items": null,
            "left": null,
            "margin": null,
            "max_height": null,
            "max_width": null,
            "min_height": null,
            "min_width": null,
            "object_fit": null,
            "object_position": null,
            "order": null,
            "overflow": null,
            "overflow_x": null,
            "overflow_y": null,
            "padding": null,
            "right": null,
            "top": null,
            "visibility": null,
            "width": null
          }
        },
        "7a1f407a6bf440a89ac4aacb5e7b4cad": {
          "model_module": "@jupyter-widgets/base",
          "model_name": "LayoutModel",
          "model_module_version": "1.2.0",
          "state": {
            "_model_module": "@jupyter-widgets/base",
            "_model_module_version": "1.2.0",
            "_model_name": "LayoutModel",
            "_view_count": null,
            "_view_module": "@jupyter-widgets/base",
            "_view_module_version": "1.2.0",
            "_view_name": "LayoutView",
            "align_content": null,
            "align_items": null,
            "align_self": null,
            "border": null,
            "bottom": null,
            "display": null,
            "flex": null,
            "flex_flow": null,
            "grid_area": null,
            "grid_auto_columns": null,
            "grid_auto_flow": null,
            "grid_auto_rows": null,
            "grid_column": null,
            "grid_gap": null,
            "grid_row": null,
            "grid_template_areas": null,
            "grid_template_columns": null,
            "grid_template_rows": null,
            "height": null,
            "justify_content": null,
            "justify_items": null,
            "left": null,
            "margin": null,
            "max_height": null,
            "max_width": null,
            "min_height": null,
            "min_width": null,
            "object_fit": null,
            "object_position": null,
            "order": null,
            "overflow": null,
            "overflow_x": null,
            "overflow_y": null,
            "padding": null,
            "right": null,
            "top": null,
            "visibility": null,
            "width": null
          }
        },
        "38c370fdfa89481fa737319c6d296cec": {
          "model_module": "@jupyter-widgets/controls",
          "model_name": "DescriptionStyleModel",
          "model_module_version": "1.5.0",
          "state": {
            "_model_module": "@jupyter-widgets/controls",
            "_model_module_version": "1.5.0",
            "_model_name": "DescriptionStyleModel",
            "_view_count": null,
            "_view_module": "@jupyter-widgets/base",
            "_view_module_version": "1.2.0",
            "_view_name": "StyleView",
            "description_width": ""
          }
        },
        "c55c174269ce4e96950a47f9bbea9c8e": {
          "model_module": "@jupyter-widgets/base",
          "model_name": "LayoutModel",
          "model_module_version": "1.2.0",
          "state": {
            "_model_module": "@jupyter-widgets/base",
            "_model_module_version": "1.2.0",
            "_model_name": "LayoutModel",
            "_view_count": null,
            "_view_module": "@jupyter-widgets/base",
            "_view_module_version": "1.2.0",
            "_view_name": "LayoutView",
            "align_content": null,
            "align_items": null,
            "align_self": null,
            "border": null,
            "bottom": null,
            "display": null,
            "flex": null,
            "flex_flow": null,
            "grid_area": null,
            "grid_auto_columns": null,
            "grid_auto_flow": null,
            "grid_auto_rows": null,
            "grid_column": null,
            "grid_gap": null,
            "grid_row": null,
            "grid_template_areas": null,
            "grid_template_columns": null,
            "grid_template_rows": null,
            "height": null,
            "justify_content": null,
            "justify_items": null,
            "left": null,
            "margin": null,
            "max_height": null,
            "max_width": null,
            "min_height": null,
            "min_width": null,
            "object_fit": null,
            "object_position": null,
            "order": null,
            "overflow": null,
            "overflow_x": null,
            "overflow_y": null,
            "padding": null,
            "right": null,
            "top": null,
            "visibility": null,
            "width": null
          }
        },
        "8c19c94f73444a87843a3c2123c758e6": {
          "model_module": "@jupyter-widgets/controls",
          "model_name": "ProgressStyleModel",
          "model_module_version": "1.5.0",
          "state": {
            "_model_module": "@jupyter-widgets/controls",
            "_model_module_version": "1.5.0",
            "_model_name": "ProgressStyleModel",
            "_view_count": null,
            "_view_module": "@jupyter-widgets/base",
            "_view_module_version": "1.2.0",
            "_view_name": "StyleView",
            "bar_color": null,
            "description_width": ""
          }
        },
        "c37e707d40684d8b8beb87a752e5d798": {
          "model_module": "@jupyter-widgets/base",
          "model_name": "LayoutModel",
          "model_module_version": "1.2.0",
          "state": {
            "_model_module": "@jupyter-widgets/base",
            "_model_module_version": "1.2.0",
            "_model_name": "LayoutModel",
            "_view_count": null,
            "_view_module": "@jupyter-widgets/base",
            "_view_module_version": "1.2.0",
            "_view_name": "LayoutView",
            "align_content": null,
            "align_items": null,
            "align_self": null,
            "border": null,
            "bottom": null,
            "display": null,
            "flex": null,
            "flex_flow": null,
            "grid_area": null,
            "grid_auto_columns": null,
            "grid_auto_flow": null,
            "grid_auto_rows": null,
            "grid_column": null,
            "grid_gap": null,
            "grid_row": null,
            "grid_template_areas": null,
            "grid_template_columns": null,
            "grid_template_rows": null,
            "height": null,
            "justify_content": null,
            "justify_items": null,
            "left": null,
            "margin": null,
            "max_height": null,
            "max_width": null,
            "min_height": null,
            "min_width": null,
            "object_fit": null,
            "object_position": null,
            "order": null,
            "overflow": null,
            "overflow_x": null,
            "overflow_y": null,
            "padding": null,
            "right": null,
            "top": null,
            "visibility": null,
            "width": null
          }
        },
        "1e8e2bfb16ab4c8187374548c2a323f4": {
          "model_module": "@jupyter-widgets/controls",
          "model_name": "DescriptionStyleModel",
          "model_module_version": "1.5.0",
          "state": {
            "_model_module": "@jupyter-widgets/controls",
            "_model_module_version": "1.5.0",
            "_model_name": "DescriptionStyleModel",
            "_view_count": null,
            "_view_module": "@jupyter-widgets/base",
            "_view_module_version": "1.2.0",
            "_view_name": "StyleView",
            "description_width": ""
          }
        },
        "1b82c55df912466285805dfbe0bc061f": {
          "model_module": "@jupyter-widgets/controls",
          "model_name": "HBoxModel",
          "model_module_version": "1.5.0",
          "state": {
            "_dom_classes": [],
            "_model_module": "@jupyter-widgets/controls",
            "_model_module_version": "1.5.0",
            "_model_name": "HBoxModel",
            "_view_count": null,
            "_view_module": "@jupyter-widgets/controls",
            "_view_module_version": "1.5.0",
            "_view_name": "HBoxView",
            "box_style": "",
            "children": [
              "IPY_MODEL_f820c612f9a54695ac1056bbf8bf1e3f",
              "IPY_MODEL_828ec48d7c5c4e15a1e6ed70aae82fe7",
              "IPY_MODEL_04de207187fe451396547e299f7cb968"
            ],
            "layout": "IPY_MODEL_46303a6eb15b4a8cbe2876fd6bb7d359"
          }
        },
        "f820c612f9a54695ac1056bbf8bf1e3f": {
          "model_module": "@jupyter-widgets/controls",
          "model_name": "HTMLModel",
          "model_module_version": "1.5.0",
          "state": {
            "_dom_classes": [],
            "_model_module": "@jupyter-widgets/controls",
            "_model_module_version": "1.5.0",
            "_model_name": "HTMLModel",
            "_view_count": null,
            "_view_module": "@jupyter-widgets/controls",
            "_view_module_version": "1.5.0",
            "_view_name": "HTMLView",
            "description": "",
            "description_tooltip": null,
            "layout": "IPY_MODEL_9ee0a73db0844c5586808c96960cdc62",
            "placeholder": "​",
            "style": "IPY_MODEL_9a9bdc03e7c044a1bce9aeaa59b85bdd",
            "value": "100%"
          }
        },
        "828ec48d7c5c4e15a1e6ed70aae82fe7": {
          "model_module": "@jupyter-widgets/controls",
          "model_name": "FloatProgressModel",
          "model_module_version": "1.5.0",
          "state": {
            "_dom_classes": [],
            "_model_module": "@jupyter-widgets/controls",
            "_model_module_version": "1.5.0",
            "_model_name": "FloatProgressModel",
            "_view_count": null,
            "_view_module": "@jupyter-widgets/controls",
            "_view_module_version": "1.5.0",
            "_view_name": "ProgressView",
            "bar_style": "success",
            "description": "",
            "description_tooltip": null,
            "layout": "IPY_MODEL_da471dd40bd14ddfb37cbd698c444798",
            "max": 6,
            "min": 0,
            "orientation": "horizontal",
            "style": "IPY_MODEL_11f784ebc5a84dfeb826c357ddbd5afc",
            "value": 6
          }
        },
        "04de207187fe451396547e299f7cb968": {
          "model_module": "@jupyter-widgets/controls",
          "model_name": "HTMLModel",
          "model_module_version": "1.5.0",
          "state": {
            "_dom_classes": [],
            "_model_module": "@jupyter-widgets/controls",
            "_model_module_version": "1.5.0",
            "_model_name": "HTMLModel",
            "_view_count": null,
            "_view_module": "@jupyter-widgets/controls",
            "_view_module_version": "1.5.0",
            "_view_name": "HTMLView",
            "description": "",
            "description_tooltip": null,
            "layout": "IPY_MODEL_a8224c71495b493e870ec532ca31c3c5",
            "placeholder": "​",
            "style": "IPY_MODEL_6820734d61464956be1c7a72936a2655",
            "value": " 6/6 [00:00&lt;00:00, 67.90it/s]"
          }
        },
        "46303a6eb15b4a8cbe2876fd6bb7d359": {
          "model_module": "@jupyter-widgets/base",
          "model_name": "LayoutModel",
          "model_module_version": "1.2.0",
          "state": {
            "_model_module": "@jupyter-widgets/base",
            "_model_module_version": "1.2.0",
            "_model_name": "LayoutModel",
            "_view_count": null,
            "_view_module": "@jupyter-widgets/base",
            "_view_module_version": "1.2.0",
            "_view_name": "LayoutView",
            "align_content": null,
            "align_items": null,
            "align_self": null,
            "border": null,
            "bottom": null,
            "display": null,
            "flex": null,
            "flex_flow": null,
            "grid_area": null,
            "grid_auto_columns": null,
            "grid_auto_flow": null,
            "grid_auto_rows": null,
            "grid_column": null,
            "grid_gap": null,
            "grid_row": null,
            "grid_template_areas": null,
            "grid_template_columns": null,
            "grid_template_rows": null,
            "height": null,
            "justify_content": null,
            "justify_items": null,
            "left": null,
            "margin": null,
            "max_height": null,
            "max_width": null,
            "min_height": null,
            "min_width": null,
            "object_fit": null,
            "object_position": null,
            "order": null,
            "overflow": null,
            "overflow_x": null,
            "overflow_y": null,
            "padding": null,
            "right": null,
            "top": null,
            "visibility": null,
            "width": null
          }
        },
        "9ee0a73db0844c5586808c96960cdc62": {
          "model_module": "@jupyter-widgets/base",
          "model_name": "LayoutModel",
          "model_module_version": "1.2.0",
          "state": {
            "_model_module": "@jupyter-widgets/base",
            "_model_module_version": "1.2.0",
            "_model_name": "LayoutModel",
            "_view_count": null,
            "_view_module": "@jupyter-widgets/base",
            "_view_module_version": "1.2.0",
            "_view_name": "LayoutView",
            "align_content": null,
            "align_items": null,
            "align_self": null,
            "border": null,
            "bottom": null,
            "display": null,
            "flex": null,
            "flex_flow": null,
            "grid_area": null,
            "grid_auto_columns": null,
            "grid_auto_flow": null,
            "grid_auto_rows": null,
            "grid_column": null,
            "grid_gap": null,
            "grid_row": null,
            "grid_template_areas": null,
            "grid_template_columns": null,
            "grid_template_rows": null,
            "height": null,
            "justify_content": null,
            "justify_items": null,
            "left": null,
            "margin": null,
            "max_height": null,
            "max_width": null,
            "min_height": null,
            "min_width": null,
            "object_fit": null,
            "object_position": null,
            "order": null,
            "overflow": null,
            "overflow_x": null,
            "overflow_y": null,
            "padding": null,
            "right": null,
            "top": null,
            "visibility": null,
            "width": null
          }
        },
        "9a9bdc03e7c044a1bce9aeaa59b85bdd": {
          "model_module": "@jupyter-widgets/controls",
          "model_name": "DescriptionStyleModel",
          "model_module_version": "1.5.0",
          "state": {
            "_model_module": "@jupyter-widgets/controls",
            "_model_module_version": "1.5.0",
            "_model_name": "DescriptionStyleModel",
            "_view_count": null,
            "_view_module": "@jupyter-widgets/base",
            "_view_module_version": "1.2.0",
            "_view_name": "StyleView",
            "description_width": ""
          }
        },
        "da471dd40bd14ddfb37cbd698c444798": {
          "model_module": "@jupyter-widgets/base",
          "model_name": "LayoutModel",
          "model_module_version": "1.2.0",
          "state": {
            "_model_module": "@jupyter-widgets/base",
            "_model_module_version": "1.2.0",
            "_model_name": "LayoutModel",
            "_view_count": null,
            "_view_module": "@jupyter-widgets/base",
            "_view_module_version": "1.2.0",
            "_view_name": "LayoutView",
            "align_content": null,
            "align_items": null,
            "align_self": null,
            "border": null,
            "bottom": null,
            "display": null,
            "flex": null,
            "flex_flow": null,
            "grid_area": null,
            "grid_auto_columns": null,
            "grid_auto_flow": null,
            "grid_auto_rows": null,
            "grid_column": null,
            "grid_gap": null,
            "grid_row": null,
            "grid_template_areas": null,
            "grid_template_columns": null,
            "grid_template_rows": null,
            "height": null,
            "justify_content": null,
            "justify_items": null,
            "left": null,
            "margin": null,
            "max_height": null,
            "max_width": null,
            "min_height": null,
            "min_width": null,
            "object_fit": null,
            "object_position": null,
            "order": null,
            "overflow": null,
            "overflow_x": null,
            "overflow_y": null,
            "padding": null,
            "right": null,
            "top": null,
            "visibility": null,
            "width": null
          }
        },
        "11f784ebc5a84dfeb826c357ddbd5afc": {
          "model_module": "@jupyter-widgets/controls",
          "model_name": "ProgressStyleModel",
          "model_module_version": "1.5.0",
          "state": {
            "_model_module": "@jupyter-widgets/controls",
            "_model_module_version": "1.5.0",
            "_model_name": "ProgressStyleModel",
            "_view_count": null,
            "_view_module": "@jupyter-widgets/base",
            "_view_module_version": "1.2.0",
            "_view_name": "StyleView",
            "bar_color": null,
            "description_width": ""
          }
        },
        "a8224c71495b493e870ec532ca31c3c5": {
          "model_module": "@jupyter-widgets/base",
          "model_name": "LayoutModel",
          "model_module_version": "1.2.0",
          "state": {
            "_model_module": "@jupyter-widgets/base",
            "_model_module_version": "1.2.0",
            "_model_name": "LayoutModel",
            "_view_count": null,
            "_view_module": "@jupyter-widgets/base",
            "_view_module_version": "1.2.0",
            "_view_name": "LayoutView",
            "align_content": null,
            "align_items": null,
            "align_self": null,
            "border": null,
            "bottom": null,
            "display": null,
            "flex": null,
            "flex_flow": null,
            "grid_area": null,
            "grid_auto_columns": null,
            "grid_auto_flow": null,
            "grid_auto_rows": null,
            "grid_column": null,
            "grid_gap": null,
            "grid_row": null,
            "grid_template_areas": null,
            "grid_template_columns": null,
            "grid_template_rows": null,
            "height": null,
            "justify_content": null,
            "justify_items": null,
            "left": null,
            "margin": null,
            "max_height": null,
            "max_width": null,
            "min_height": null,
            "min_width": null,
            "object_fit": null,
            "object_position": null,
            "order": null,
            "overflow": null,
            "overflow_x": null,
            "overflow_y": null,
            "padding": null,
            "right": null,
            "top": null,
            "visibility": null,
            "width": null
          }
        },
        "6820734d61464956be1c7a72936a2655": {
          "model_module": "@jupyter-widgets/controls",
          "model_name": "DescriptionStyleModel",
          "model_module_version": "1.5.0",
          "state": {
            "_model_module": "@jupyter-widgets/controls",
            "_model_module_version": "1.5.0",
            "_model_name": "DescriptionStyleModel",
            "_view_count": null,
            "_view_module": "@jupyter-widgets/base",
            "_view_module_version": "1.2.0",
            "_view_name": "StyleView",
            "description_width": ""
          }
        }
      }
    }
  },
  "cells": [
    {
      "cell_type": "markdown",
      "metadata": {
        "id": "view-in-github",
        "colab_type": "text"
      },
      "source": [
        "<a href=\"https://colab.research.google.com/github/Dimildizio/DS_course/blob/main/Neural_networks/NLP/Embeddings/Simple_embeddings.ipynb\" target=\"_parent\"><img src=\"https://colab.research.google.com/assets/colab-badge.svg\" alt=\"Open In Colab\"/></a>"
      ]
    },
    {
      "cell_type": "markdown",
      "source": [
        "# Simple Embeddings"
      ],
      "metadata": {
        "id": "fSDYOEFIa9MQ"
      }
    },
    {
      "cell_type": "markdown",
      "source": [
        "The task is to rank StackOverflow questions based on their semantic representations."
      ],
      "metadata": {
        "id": "uh3jmwRJbE_c"
      }
    },
    {
      "cell_type": "markdown",
      "source": [
        "* $X$ - the n number of objects\n",
        "* $X^l = \\{x_1, x_2, ..., x_l\\}$ - train dataset\n",
        "\n",
        "* $i \\prec j$ - the order of index pairs of $X^l$ and $i$, $j$ indices.\n"
      ],
      "metadata": {
        "id": "AE5QaUP8bY-W"
      }
    },
    {
      "cell_type": "markdown",
      "source": [
        "\n",
        "### Task:\n",
        "Construct and ranking function $a$ : $X \\rightarrow R$ so that\n",
        "$$i \\prec j \\Rightarrow a(x_i) < a(x_j)$$"
      ],
      "metadata": {
        "id": "Fpf3J5y_bv6K"
      }
    },
    {
      "cell_type": "markdown",
      "source": [
        "## Embeddings"
      ],
      "metadata": {
        "id": "EvkWJ9QAfb_3"
      }
    },
    {
      "cell_type": "markdown",
      "source": [
        "### Download the corpora"
      ],
      "metadata": {
        "id": "Agz-_QkwfrPo"
      }
    },
    {
      "cell_type": "code",
      "execution_count": null,
      "metadata": {
        "id": "GAcSxBbra7_N"
      },
      "outputs": [],
      "source": [
        "!wget https://zenodo.org/record/1199620/files/SO_vectors_200.bin"
      ]
    },
    {
      "cell_type": "markdown",
      "source": [
        "### Imports"
      ],
      "metadata": {
        "id": "sYNU7HoRfmFs"
      }
    },
    {
      "cell_type": "code",
      "source": [
        "import gc\n",
        "import nltk\n",
        "import numpy as np\n",
        "import pandas as pd\n",
        "import re\n",
        "import string\n",
        "\n",
        "from copy import deepcopy\n",
        "from gensim.models import Word2Vec\n",
        "from gensim.models.keyedvectors import KeyedVectors\n",
        "from nltk.corpus import stopwords\n",
        "from nltk.tokenize import WordPunctTokenizer\n",
        "from sklearn.metrics.pairwise import cosine_similarity\n",
        "from tqdm.notebook import tqdm\n",
        "from typing import List"
      ],
      "metadata": {
        "id": "IIXYOQfqfkMO"
      },
      "execution_count": 5,
      "outputs": []
    },
    {
      "cell_type": "code",
      "source": [
        "nltk.download('stopwords')\n",
        "stops = set(stopwords.words('english')).union(set(string.punctuation))"
      ],
      "metadata": {
        "id": "QBM4vZry9jQU"
      },
      "execution_count": null,
      "outputs": []
    },
    {
      "cell_type": "markdown",
      "source": [
        "### Create embeddings"
      ],
      "metadata": {
        "id": "jkj46d7Rf0j7"
      }
    },
    {
      "cell_type": "code",
      "source": [
        "wv_embeddings = KeyedVectors.load_word2vec_format(\"SO_vectors_200.bin?download=1\", binary=True)"
      ],
      "metadata": {
        "id": "fSfNkxO2fq8G"
      },
      "execution_count": 177,
      "outputs": []
    },
    {
      "cell_type": "markdown",
      "source": [
        "### Examples"
      ],
      "metadata": {
        "id": "ZYFxkpEsgJDo"
      }
    },
    {
      "cell_type": "code",
      "source": [
        "word = 'dog'\n",
        "if word in wv_embeddings:\n",
        "    print(wv_embeddings[word].dtype, wv_embeddings[word].shape)\n",
        "print(f\"Num of words: {len(wv_embeddings.index_to_key)}\")"
      ],
      "metadata": {
        "colab": {
          "base_uri": "https://localhost:8080/"
        },
        "id": "oesej4FWgDkw",
        "outputId": "cf42fbe6-6aeb-49e1-b6de-59ce4cfc9eb7"
      },
      "execution_count": 8,
      "outputs": [
        {
          "output_type": "stream",
          "name": "stdout",
          "text": [
            "float32 (200,)\n",
            "Num of words: 1787145\n"
          ]
        }
      ]
    },
    {
      "cell_type": "markdown",
      "source": [
        "### Question 1"
      ],
      "metadata": {
        "id": "KGtf23LNgoqN"
      }
    },
    {
      "cell_type": "markdown",
      "source": [
        "Is 'cat' in top5 most similar words to 'dog'? If yes, which position?"
      ],
      "metadata": {
        "id": "1j0gocWOgwS0"
      }
    },
    {
      "cell_type": "code",
      "source": [
        "print(\"'dog' and 'cat' similarity:\")\n",
        "print('\\t', wv_embeddings.similarity('dog', 'cat'))\n",
        "print('\\t', wv_embeddings.n_similarity(['dog'], ['cat']))\n"
      ],
      "metadata": {
        "colab": {
          "base_uri": "https://localhost:8080/"
        },
        "id": "Zy0vl5uHnfbs",
        "outputId": "279b9aae-513a-41b6-fd4f-7549b5ef3501"
      },
      "execution_count": 9,
      "outputs": [
        {
          "output_type": "stream",
          "name": "stdout",
          "text": [
            "'dog' and 'cat' similarity:\n",
            "\t 0.6852341\n",
            "\t 0.6852341\n"
          ]
        }
      ]
    },
    {
      "cell_type": "code",
      "source": [
        "def check_occur(req: str, base: str, n: int = 5, flag = True) -> np.ndarray:\n",
        "  \"\"\"Checks if one word is similar to another\n",
        "\n",
        "  :param req: word to check with\n",
        "  :param base: word check if is similar to\n",
        "  :param n: top N words to check\n",
        "  :param flag: a flag to check which slimilarity function to use\n",
        "  :return: None\n",
        "  \"\"\"\n",
        "\n",
        "  # also funcs most_similar_cosmul or similar_by_word could be used\n",
        "  result = wv_embeddings.most_similar(base, topn=n)\n",
        "  for i, (word, perc) in enumerate(result):\n",
        "    if req == word:\n",
        "      print(f'{req} is {int(perc*100)}% similar to {base} at position {i}')\n",
        "      return result\n",
        "  print(f'{req} is not similar to {base}')\n",
        "  return result"
      ],
      "metadata": {
        "id": "-jDEJd1qiwqy"
      },
      "execution_count": 10,
      "outputs": []
    },
    {
      "cell_type": "code",
      "source": [
        "words = ('cat', 'cats', 'dog', 'dogs')\n",
        "for requested in words:\n",
        "  requested = requested.lower()\n",
        "  for based in words:\n",
        "    based = based.lower()\n",
        "    if requested != based:\n",
        "      result = check_occur(requested, based)\n",
        "  print()"
      ],
      "metadata": {
        "colab": {
          "base_uri": "https://localhost:8080/"
        },
        "id": "cbGZuSORgUL7",
        "outputId": "49ec32f6-485a-47d7-c69f-02aa980efc0c"
      },
      "execution_count": 11,
      "outputs": [
        {
          "output_type": "stream",
          "name": "stdout",
          "text": [
            "cat is not similar to cats\n",
            "cat is not similar to dog\n",
            "cat is not similar to dogs\n",
            "\n",
            "cats is not similar to cat\n",
            "cats is 76% similar to dog at position 3\n",
            "cats is 90% similar to dogs at position 0\n",
            "\n",
            "dog is 68% similar to cat at position 1\n",
            "dog is 76% similar to cats at position 2\n",
            "dog is 78% similar to dogs at position 3\n",
            "\n",
            "dogs is not similar to cat\n",
            "dogs is 90% similar to cats at position 0\n",
            "dogs is 78% similar to dog at position 1\n",
            "\n"
          ]
        }
      ]
    },
    {
      "cell_type": "markdown",
      "source": [
        "#### Q1Answer:\n",
        "\n",
        "We've checked several simialrity function: `similar_by_word`, `most_similar_cosmul` and `most_similar` and got identical (different percentage) results. *(Here the words are ranked starting from 1 unlike positions in the similarity list which start from 0)*:\n",
        "\n",
        "**\"cat\" is not in top5 words similar to \"dog\"**, however \"cats\" is similar to \"dog\" coming fourth and and \"cats\" is similar to \"dogs\" coming first. Also 'dog' is similar to 'cat' ranked second, to 'cats' ranked third. And 'dogs' similar to 'cats' ranked first.\n"
      ],
      "metadata": {
        "id": "PLojs2X5kynq"
      }
    },
    {
      "cell_type": "markdown",
      "source": [
        "## Vector representations"
      ],
      "metadata": {
        "id": "RE8U0BKHp9Hc"
      }
    },
    {
      "cell_type": "code",
      "source": [
        "class MyTokenizer:\n",
        "    def __init__(self):\n",
        "        self.tokenizer = WordPunctTokenizer()\n",
        "\n",
        "    def tokenize(self, text):\n",
        "        return self.tokenizer.tokenize(text)"
      ],
      "metadata": {
        "id": "ZHntr91FqDh5"
      },
      "execution_count": 12,
      "outputs": []
    },
    {
      "cell_type": "code",
      "source": [
        "tokenizer = MyTokenizer()"
      ],
      "metadata": {
        "id": "fhbsEFbukHOU"
      },
      "execution_count": 13,
      "outputs": []
    },
    {
      "cell_type": "code",
      "source": [
        "def question_to_vec(question, embeddings=wv_embeddings, tokenizer=tokenizer, dim=200):\n",
        "    \"\"\"\n",
        "    Embeds a sentence into vector representations\n",
        "\n",
        "        :param question: str\n",
        "        :param embeddings: embedidngs\n",
        "        :param dim: size of any vector in repr\n",
        "\n",
        "        return: embeddings of a questing\n",
        "    \"\"\"\n",
        "    tokens = tokenizer.tokenize(question)\n",
        "    vecs = []\n",
        "    for token in tokens:\n",
        "      if token in embeddings:\n",
        "        vecs.append(embeddings[token])\n",
        "\n",
        "    if not vecs:\n",
        "      return np.zeros(dim)\n",
        "    avg_vector = np.mean(np.array(vecs), axis=0)\n",
        "    return avg_vector"
      ],
      "metadata": {
        "id": "v-yf8U76qrHH"
      },
      "execution_count": 126,
      "outputs": []
    },
    {
      "cell_type": "markdown",
      "source": [
        "### Question 2:\n",
        "\n",
        "What is the third component (2nd index) of vector representation of `\"I love neural networks\"` (rounded to 2 digit)?"
      ],
      "metadata": {
        "id": "zYTj4u7uuSlq"
      }
    },
    {
      "cell_type": "code",
      "source": [
        "q2 = 'I love neural networks'\n",
        "q2_embeds = question_to_vec(q2)\n",
        "third_component = str(round(q2_embeds[2], 2))\n",
        "print(f\"Third component of '{q2}' is {third_component}\")"
      ],
      "metadata": {
        "colab": {
          "base_uri": "https://localhost:8080/"
        },
        "id": "u5aOFm8QslSF",
        "outputId": "62dad97e-70e0-4505-e734-d9a59a1f2cf9"
      },
      "execution_count": 15,
      "outputs": [
        {
          "output_type": "stream",
          "name": "stdout",
          "text": [
            "Third component of 'I love neural networks' is -1.29\n"
          ]
        }
      ]
    },
    {
      "cell_type": "markdown",
      "source": [
        "#### Q2 Answer:\n",
        "\n",
        "Third component of `'I love neural networks'` is `-1.29`"
      ],
      "metadata": {
        "id": "E6_C7m04t3UC"
      }
    },
    {
      "cell_type": "markdown",
      "source": [
        "## Text similarity"
      ],
      "metadata": {
        "id": "sJyDh_Z-wGXF"
      }
    },
    {
      "cell_type": "markdown",
      "source": [
        "### Explanation\n",
        "\n",
        "*We assume* that cos distance for duplicates is smaleer than between randomly chosen sentences.\n",
        "\n",
        "\n",
        "\n",
        "For each of $N$ questions, we'll **generate** $R$ **random negative examples** and **include the actual duplicates** as well. We'll rank $R + 1$ examples for each question using our model and **look at the position of the duplicate**. Ideally, we want the duplicate to be ranked first.\n",
        "\n",
        "#### Hits@K\n",
        "The first metric will be the number of correct hits for a given $K$:\n",
        "\n",
        "$$ \\text{Hits@K} = \\frac{1}{N}\\sum_{i=1}^N \\, [rank\\_q_i^{'} \\le K],$$\n",
        "* $\\begin{equation*}\n",
        "[x < 0 ] \\equiv\n",
        " \\begin{cases}\n",
        "   1, &x < 0\\\\\n",
        "   0, &x \\geq 0\n",
        " \\end{cases}\n",
        "\\end{equation*}$ - func\n",
        "* $q_i$ - $i$-th question\n",
        "\n",
        "\n",
        "#### DCG@K\n",
        "\n",
        "Another metric will be a simplified DCG metric, which considers the order of elements in the list by multiplying the **relevance of an element** by a **weight equal to the inverse logarithm of its position**:\n",
        "\n",
        "$$ \\text{DCG@K} = \\frac{1}{N} \\sum_{i=1}^N\\frac{1}{\\log_2(1+rank\\_q_i^{'})}\\cdot[rank\\_q_i^{'} \\le K],$$\n",
        "\n",
        "\n",
        "\n",
        "\n",
        "With this metric, the model is penalized for higher ranks of correct answers."
      ],
      "metadata": {
        "id": "PkYTPYpd1Yo8"
      }
    },
    {
      "cell_type": "markdown",
      "source": [
        "### Question 3:\n",
        "\n",
        "Max `Hits@47 - DCG@1` ?"
      ],
      "metadata": {
        "id": "yPVzFHYPCu51"
      }
    },
    {
      "cell_type": "markdown",
      "source": [
        "The duplicate is always ranked within the top 47 positions (Hits@47 = 1), which means that the model correctly identifies the duplicate as similar to the input question.\n",
        "\n",
        "The duplicate is always ranked first (DCG@1 = 1), showing that the model ranks the duplicate at the top position, with no incorrect rankings above it.\n",
        "\n",
        "So, to generalize:\n",
        "\n",
        "**Hits@47** = 1: means all duplicates are in top47\n",
        "\n",
        "**DCG@1** = 1: means all duplicates are ranked first\n",
        "\n",
        "*If we just want maximum value for the result then we want the situation to be Hits@47=1 (all duplicates within first47), DCG@1=0 (none of the duplicates ranked first) thus having 1 as maximum*\n",
        "$$1-0=1$$\n",
        "\n",
        "So **the answer is 1** however i consider such situation theretical"
      ],
      "metadata": {
        "id": "lOxLThVZ3JfC"
      }
    },
    {
      "cell_type": "markdown",
      "source": [
        "#### Q3 answer:\n",
        "\n",
        "Max Hits@47 - DCG@1 = 1"
      ],
      "metadata": {
        "id": "h2hsLkYXDFLx"
      }
    },
    {
      "cell_type": "markdown",
      "source": [
        "### Question 4:\n",
        "Find `DCG@10`, if $rank\\_q_i^{'} = 9$(round to 1 digit)"
      ],
      "metadata": {
        "id": "UzJ3lyBdAy6B"
      }
    },
    {
      "cell_type": "markdown",
      "source": [
        "Since we dont need a list here we can as well do it in one line of code"
      ],
      "metadata": {
        "id": "6ZWPKgh-B0fp"
      }
    },
    {
      "cell_type": "code",
      "source": [
        "dcg = lambda rank, k: 1 / np.log2(1 + rank) if rank <= k else 0\n",
        "dcg_result = round(dcg(9, 10), 1)\n",
        "print(f\"DCG@10 if rank q'_i is 9: {dcg_result}\")"
      ],
      "metadata": {
        "colab": {
          "base_uri": "https://localhost:8080/"
        },
        "id": "7BzRPFKFBPyN",
        "outputId": "38096fb6-f346-4c4a-fd1e-e7da596ee737"
      },
      "execution_count": 16,
      "outputs": [
        {
          "output_type": "stream",
          "name": "stdout",
          "text": [
            "DCG@10 if rank q'_i is 9: 0.3\n"
          ]
        }
      ]
    },
    {
      "cell_type": "markdown",
      "source": [
        "#### Q4 answer:\n",
        "\n",
        "DCG@10 if rank_$q'_i=9$: 0.3"
      ],
      "metadata": {
        "id": "1yUgJnKHCk1M"
      }
    },
    {
      "cell_type": "markdown",
      "source": [
        "### HITS\\_COUNT и DCG\\_SCORE"
      ],
      "metadata": {
        "id": "SyVg_A7zDoe9"
      }
    },
    {
      "cell_type": "markdown",
      "source": [
        "Each func has two args: $dup\\_ranks$ and $k$.\n",
        "\n",
        "$dup\\_ranks$ is a list which has dubs rankings (positions in ranked list)"
      ],
      "metadata": {
        "id": "8qJMPLhvD5yA"
      }
    },
    {
      "cell_type": "code",
      "source": [
        "def calc_dups_ranks(candidates_ranking: List, copy_answers: List) -> List:\n",
        "    \"\"\"\n",
        "    Calculate the ranks of duplicates in the candidates ranking.\n",
        "    For each index in a length of copy_answers list:\n",
        "      1. Find the index of the copy answer in the corresponding candidates ranking sublist\n",
        "      2. Append the rank to the dup_ranks list\n",
        "\n",
        "    :param candidates_ranking: (list of lists) List of ranked candidate answers for each question.\n",
        "    :param copy_answers: (list) List of duplicate answers.\n",
        "    :returns: List of ranks of duplicates in the candidates ranking.\n",
        "    \"\"\"\n",
        "    dup_ranks = []\n",
        "    for i in range(len(copy_answers)):\n",
        "        rank = candidates_ranking[i].index(copy_answers[i]) + 1\n",
        "        dup_ranks.append(rank)\n",
        "    return dup_ranks"
      ],
      "metadata": {
        "id": "5M1C0WcuGfYX"
      },
      "execution_count": 17,
      "outputs": []
    },
    {
      "cell_type": "code",
      "source": [
        "def hits_count(dup_ranks: List, k: int) -> float:\n",
        "    \"\"\"\n",
        "    Compute Hits@K metric.\n",
        "\n",
        "    :param dup_ranks: (list) List of ranks of duplicates in the ranked list for each question.\n",
        "    :param k: (int) Number of top-ranked items to consider.\n",
        "    :returns: float Hits@K score.\n",
        "    \"\"\"\n",
        "    hits = sum(1 for rank in dup_ranks if rank <= k) / len(dup_ranks)\n",
        "    return hits"
      ],
      "metadata": {
        "id": "C3S0N7jVwe5k"
      },
      "execution_count": 18,
      "outputs": []
    },
    {
      "cell_type": "code",
      "source": [
        "def dcg_score(dup_ranks: List, k: int) -> float:\n",
        "    \"\"\"\n",
        "    Compute DCG@K metric.\n",
        "\n",
        "\n",
        "    :param dup_ranks: (list) List of ranks of duplicates in the ranked list for each question.\n",
        "    :param k: (int) Number of top-ranked items to consider.\n",
        "    :returns: float DCG@K score.\n",
        "    \"\"\"\n",
        "    dcg = sum(1 / np.log2(1 + rank) for rank in dup_ranks if rank <= k) / len(dup_ranks)\n",
        "    return dcg"
      ],
      "metadata": {
        "id": "OsTKxPsc8hze"
      },
      "execution_count": 19,
      "outputs": []
    },
    {
      "cell_type": "markdown",
      "source": [
        "#### Test it"
      ],
      "metadata": {
        "id": "hwV-bbjOGdhq"
      }
    },
    {
      "cell_type": "code",
      "source": [
        "copy_answers = [\"How does the catch keyword determine the type of exception that was thrown\",]\n",
        "\n",
        "candidates_ranking = [[\"How Can I Make These Links Rotate in PHP\",\n",
        "                       \"How does the catch keyword determine the type of exception that was thrown\",\n",
        "                       \"NSLog array description not memory address\",\n",
        "                       \"PECL_HTTP not recognised php ubuntu\"],]\n",
        "\n",
        "dup_ranks = calc_dups_ranks(candidates_ranking, copy_answers)\n",
        "\n",
        "print('HIT:', [hits_count(dup_ranks, k) for k in range(1, 5)])\n",
        "print('DCG:', [round(dcg_score(dup_ranks, k), 5) for k in range(1, 5)])"
      ],
      "metadata": {
        "colab": {
          "base_uri": "https://localhost:8080/"
        },
        "id": "IBN4KSfVEr6K",
        "outputId": "287d6485-9d7c-44a0-9e93-5aeb603daac0"
      },
      "execution_count": 20,
      "outputs": [
        {
          "output_type": "stream",
          "name": "stdout",
          "text": [
            "HIT: [0.0, 1.0, 1.0, 1.0]\n",
            "DCG: [0.0, 0.63093, 0.63093, 0.63093]\n"
          ]
        }
      ]
    },
    {
      "cell_type": "code",
      "source": [
        "# correct_answers - metrics for different k's\n",
        "correct_answers = pd.DataFrame([[0, 1, 1, 1], [0, 1 / (np.log2(3)), 1 / (np.log2(3)), 1 / (np.log2(3))]],\n",
        "                               index=['HITS', 'DCG'], columns=range(1,5))\n",
        "correct_answers"
      ],
      "metadata": {
        "colab": {
          "base_uri": "https://localhost:8080/",
          "height": 125
        },
        "id": "xrA2vgSjHWI2",
        "outputId": "0080865b-b568-4fb6-8ed7-fe78380757db"
      },
      "execution_count": 21,
      "outputs": [
        {
          "output_type": "execute_result",
          "data": {
            "text/plain": [
              "      1        2        3        4\n",
              "HITS  0  1.00000  1.00000  1.00000\n",
              "DCG   0  0.63093  0.63093  0.63093"
            ],
            "text/html": [
              "\n",
              "  <div id=\"df-26678c84-a35c-48ec-8876-e2b379763fd0\" class=\"colab-df-container\">\n",
              "    <div>\n",
              "<style scoped>\n",
              "    .dataframe tbody tr th:only-of-type {\n",
              "        vertical-align: middle;\n",
              "    }\n",
              "\n",
              "    .dataframe tbody tr th {\n",
              "        vertical-align: top;\n",
              "    }\n",
              "\n",
              "    .dataframe thead th {\n",
              "        text-align: right;\n",
              "    }\n",
              "</style>\n",
              "<table border=\"1\" class=\"dataframe\">\n",
              "  <thead>\n",
              "    <tr style=\"text-align: right;\">\n",
              "      <th></th>\n",
              "      <th>1</th>\n",
              "      <th>2</th>\n",
              "      <th>3</th>\n",
              "      <th>4</th>\n",
              "    </tr>\n",
              "  </thead>\n",
              "  <tbody>\n",
              "    <tr>\n",
              "      <th>HITS</th>\n",
              "      <td>0</td>\n",
              "      <td>1.00000</td>\n",
              "      <td>1.00000</td>\n",
              "      <td>1.00000</td>\n",
              "    </tr>\n",
              "    <tr>\n",
              "      <th>DCG</th>\n",
              "      <td>0</td>\n",
              "      <td>0.63093</td>\n",
              "      <td>0.63093</td>\n",
              "      <td>0.63093</td>\n",
              "    </tr>\n",
              "  </tbody>\n",
              "</table>\n",
              "</div>\n",
              "    <div class=\"colab-df-buttons\">\n",
              "\n",
              "  <div class=\"colab-df-container\">\n",
              "    <button class=\"colab-df-convert\" onclick=\"convertToInteractive('df-26678c84-a35c-48ec-8876-e2b379763fd0')\"\n",
              "            title=\"Convert this dataframe to an interactive table.\"\n",
              "            style=\"display:none;\">\n",
              "\n",
              "  <svg xmlns=\"http://www.w3.org/2000/svg\" height=\"24px\" viewBox=\"0 -960 960 960\">\n",
              "    <path d=\"M120-120v-720h720v720H120Zm60-500h600v-160H180v160Zm220 220h160v-160H400v160Zm0 220h160v-160H400v160ZM180-400h160v-160H180v160Zm440 0h160v-160H620v160ZM180-180h160v-160H180v160Zm440 0h160v-160H620v160Z\"/>\n",
              "  </svg>\n",
              "    </button>\n",
              "\n",
              "  <style>\n",
              "    .colab-df-container {\n",
              "      display:flex;\n",
              "      gap: 12px;\n",
              "    }\n",
              "\n",
              "    .colab-df-convert {\n",
              "      background-color: #E8F0FE;\n",
              "      border: none;\n",
              "      border-radius: 50%;\n",
              "      cursor: pointer;\n",
              "      display: none;\n",
              "      fill: #1967D2;\n",
              "      height: 32px;\n",
              "      padding: 0 0 0 0;\n",
              "      width: 32px;\n",
              "    }\n",
              "\n",
              "    .colab-df-convert:hover {\n",
              "      background-color: #E2EBFA;\n",
              "      box-shadow: 0px 1px 2px rgba(60, 64, 67, 0.3), 0px 1px 3px 1px rgba(60, 64, 67, 0.15);\n",
              "      fill: #174EA6;\n",
              "    }\n",
              "\n",
              "    .colab-df-buttons div {\n",
              "      margin-bottom: 4px;\n",
              "    }\n",
              "\n",
              "    [theme=dark] .colab-df-convert {\n",
              "      background-color: #3B4455;\n",
              "      fill: #D2E3FC;\n",
              "    }\n",
              "\n",
              "    [theme=dark] .colab-df-convert:hover {\n",
              "      background-color: #434B5C;\n",
              "      box-shadow: 0px 1px 3px 1px rgba(0, 0, 0, 0.15);\n",
              "      filter: drop-shadow(0px 1px 2px rgba(0, 0, 0, 0.3));\n",
              "      fill: #FFFFFF;\n",
              "    }\n",
              "  </style>\n",
              "\n",
              "    <script>\n",
              "      const buttonEl =\n",
              "        document.querySelector('#df-26678c84-a35c-48ec-8876-e2b379763fd0 button.colab-df-convert');\n",
              "      buttonEl.style.display =\n",
              "        google.colab.kernel.accessAllowed ? 'block' : 'none';\n",
              "\n",
              "      async function convertToInteractive(key) {\n",
              "        const element = document.querySelector('#df-26678c84-a35c-48ec-8876-e2b379763fd0');\n",
              "        const dataTable =\n",
              "          await google.colab.kernel.invokeFunction('convertToInteractive',\n",
              "                                                    [key], {});\n",
              "        if (!dataTable) return;\n",
              "\n",
              "        const docLinkHtml = 'Like what you see? Visit the ' +\n",
              "          '<a target=\"_blank\" href=https://colab.research.google.com/notebooks/data_table.ipynb>data table notebook</a>'\n",
              "          + ' to learn more about interactive tables.';\n",
              "        element.innerHTML = '';\n",
              "        dataTable['output_type'] = 'display_data';\n",
              "        await google.colab.output.renderOutput(dataTable, element);\n",
              "        const docLink = document.createElement('div');\n",
              "        docLink.innerHTML = docLinkHtml;\n",
              "        element.appendChild(docLink);\n",
              "      }\n",
              "    </script>\n",
              "  </div>\n",
              "\n",
              "\n",
              "<div id=\"df-b4891bb6-6da6-4501-bb93-2e84c85db4f5\">\n",
              "  <button class=\"colab-df-quickchart\" onclick=\"quickchart('df-b4891bb6-6da6-4501-bb93-2e84c85db4f5')\"\n",
              "            title=\"Suggest charts\"\n",
              "            style=\"display:none;\">\n",
              "\n",
              "<svg xmlns=\"http://www.w3.org/2000/svg\" height=\"24px\"viewBox=\"0 0 24 24\"\n",
              "     width=\"24px\">\n",
              "    <g>\n",
              "        <path d=\"M19 3H5c-1.1 0-2 .9-2 2v14c0 1.1.9 2 2 2h14c1.1 0 2-.9 2-2V5c0-1.1-.9-2-2-2zM9 17H7v-7h2v7zm4 0h-2V7h2v10zm4 0h-2v-4h2v4z\"/>\n",
              "    </g>\n",
              "</svg>\n",
              "  </button>\n",
              "\n",
              "<style>\n",
              "  .colab-df-quickchart {\n",
              "      --bg-color: #E8F0FE;\n",
              "      --fill-color: #1967D2;\n",
              "      --hover-bg-color: #E2EBFA;\n",
              "      --hover-fill-color: #174EA6;\n",
              "      --disabled-fill-color: #AAA;\n",
              "      --disabled-bg-color: #DDD;\n",
              "  }\n",
              "\n",
              "  [theme=dark] .colab-df-quickchart {\n",
              "      --bg-color: #3B4455;\n",
              "      --fill-color: #D2E3FC;\n",
              "      --hover-bg-color: #434B5C;\n",
              "      --hover-fill-color: #FFFFFF;\n",
              "      --disabled-bg-color: #3B4455;\n",
              "      --disabled-fill-color: #666;\n",
              "  }\n",
              "\n",
              "  .colab-df-quickchart {\n",
              "    background-color: var(--bg-color);\n",
              "    border: none;\n",
              "    border-radius: 50%;\n",
              "    cursor: pointer;\n",
              "    display: none;\n",
              "    fill: var(--fill-color);\n",
              "    height: 32px;\n",
              "    padding: 0;\n",
              "    width: 32px;\n",
              "  }\n",
              "\n",
              "  .colab-df-quickchart:hover {\n",
              "    background-color: var(--hover-bg-color);\n",
              "    box-shadow: 0 1px 2px rgba(60, 64, 67, 0.3), 0 1px 3px 1px rgba(60, 64, 67, 0.15);\n",
              "    fill: var(--button-hover-fill-color);\n",
              "  }\n",
              "\n",
              "  .colab-df-quickchart-complete:disabled,\n",
              "  .colab-df-quickchart-complete:disabled:hover {\n",
              "    background-color: var(--disabled-bg-color);\n",
              "    fill: var(--disabled-fill-color);\n",
              "    box-shadow: none;\n",
              "  }\n",
              "\n",
              "  .colab-df-spinner {\n",
              "    border: 2px solid var(--fill-color);\n",
              "    border-color: transparent;\n",
              "    border-bottom-color: var(--fill-color);\n",
              "    animation:\n",
              "      spin 1s steps(1) infinite;\n",
              "  }\n",
              "\n",
              "  @keyframes spin {\n",
              "    0% {\n",
              "      border-color: transparent;\n",
              "      border-bottom-color: var(--fill-color);\n",
              "      border-left-color: var(--fill-color);\n",
              "    }\n",
              "    20% {\n",
              "      border-color: transparent;\n",
              "      border-left-color: var(--fill-color);\n",
              "      border-top-color: var(--fill-color);\n",
              "    }\n",
              "    30% {\n",
              "      border-color: transparent;\n",
              "      border-left-color: var(--fill-color);\n",
              "      border-top-color: var(--fill-color);\n",
              "      border-right-color: var(--fill-color);\n",
              "    }\n",
              "    40% {\n",
              "      border-color: transparent;\n",
              "      border-right-color: var(--fill-color);\n",
              "      border-top-color: var(--fill-color);\n",
              "    }\n",
              "    60% {\n",
              "      border-color: transparent;\n",
              "      border-right-color: var(--fill-color);\n",
              "    }\n",
              "    80% {\n",
              "      border-color: transparent;\n",
              "      border-right-color: var(--fill-color);\n",
              "      border-bottom-color: var(--fill-color);\n",
              "    }\n",
              "    90% {\n",
              "      border-color: transparent;\n",
              "      border-bottom-color: var(--fill-color);\n",
              "    }\n",
              "  }\n",
              "</style>\n",
              "\n",
              "  <script>\n",
              "    async function quickchart(key) {\n",
              "      const quickchartButtonEl =\n",
              "        document.querySelector('#' + key + ' button');\n",
              "      quickchartButtonEl.disabled = true;  // To prevent multiple clicks.\n",
              "      quickchartButtonEl.classList.add('colab-df-spinner');\n",
              "      try {\n",
              "        const charts = await google.colab.kernel.invokeFunction(\n",
              "            'suggestCharts', [key], {});\n",
              "      } catch (error) {\n",
              "        console.error('Error during call to suggestCharts:', error);\n",
              "      }\n",
              "      quickchartButtonEl.classList.remove('colab-df-spinner');\n",
              "      quickchartButtonEl.classList.add('colab-df-quickchart-complete');\n",
              "    }\n",
              "    (() => {\n",
              "      let quickchartButtonEl =\n",
              "        document.querySelector('#df-b4891bb6-6da6-4501-bb93-2e84c85db4f5 button');\n",
              "      quickchartButtonEl.style.display =\n",
              "        google.colab.kernel.accessAllowed ? 'block' : 'none';\n",
              "    })();\n",
              "  </script>\n",
              "</div>\n",
              "\n",
              "  <div id=\"id_2276ab70-5790-4c95-a438-c0f0582976b7\">\n",
              "    <style>\n",
              "      .colab-df-generate {\n",
              "        background-color: #E8F0FE;\n",
              "        border: none;\n",
              "        border-radius: 50%;\n",
              "        cursor: pointer;\n",
              "        display: none;\n",
              "        fill: #1967D2;\n",
              "        height: 32px;\n",
              "        padding: 0 0 0 0;\n",
              "        width: 32px;\n",
              "      }\n",
              "\n",
              "      .colab-df-generate:hover {\n",
              "        background-color: #E2EBFA;\n",
              "        box-shadow: 0px 1px 2px rgba(60, 64, 67, 0.3), 0px 1px 3px 1px rgba(60, 64, 67, 0.15);\n",
              "        fill: #174EA6;\n",
              "      }\n",
              "\n",
              "      [theme=dark] .colab-df-generate {\n",
              "        background-color: #3B4455;\n",
              "        fill: #D2E3FC;\n",
              "      }\n",
              "\n",
              "      [theme=dark] .colab-df-generate:hover {\n",
              "        background-color: #434B5C;\n",
              "        box-shadow: 0px 1px 3px 1px rgba(0, 0, 0, 0.15);\n",
              "        filter: drop-shadow(0px 1px 2px rgba(0, 0, 0, 0.3));\n",
              "        fill: #FFFFFF;\n",
              "      }\n",
              "    </style>\n",
              "    <button class=\"colab-df-generate\" onclick=\"generateWithVariable('correct_answers')\"\n",
              "            title=\"Generate code using this dataframe.\"\n",
              "            style=\"display:none;\">\n",
              "\n",
              "  <svg xmlns=\"http://www.w3.org/2000/svg\" height=\"24px\"viewBox=\"0 0 24 24\"\n",
              "       width=\"24px\">\n",
              "    <path d=\"M7,19H8.4L18.45,9,17,7.55,7,17.6ZM5,21V16.75L18.45,3.32a2,2,0,0,1,2.83,0l1.4,1.43a1.91,1.91,0,0,1,.58,1.4,1.91,1.91,0,0,1-.58,1.4L9.25,21ZM18.45,9,17,7.55Zm-12,3A5.31,5.31,0,0,0,4.9,8.1,5.31,5.31,0,0,0,1,6.5,5.31,5.31,0,0,0,4.9,4.9,5.31,5.31,0,0,0,6.5,1,5.31,5.31,0,0,0,8.1,4.9,5.31,5.31,0,0,0,12,6.5,5.46,5.46,0,0,0,6.5,12Z\"/>\n",
              "  </svg>\n",
              "    </button>\n",
              "    <script>\n",
              "      (() => {\n",
              "      const buttonEl =\n",
              "        document.querySelector('#id_2276ab70-5790-4c95-a438-c0f0582976b7 button.colab-df-generate');\n",
              "      buttonEl.style.display =\n",
              "        google.colab.kernel.accessAllowed ? 'block' : 'none';\n",
              "\n",
              "      buttonEl.onclick = () => {\n",
              "        google.colab.notebook.generateWithVariable('correct_answers');\n",
              "      }\n",
              "      })();\n",
              "    </script>\n",
              "  </div>\n",
              "\n",
              "    </div>\n",
              "  </div>\n"
            ],
            "application/vnd.google.colaboratory.intrinsic+json": {
              "type": "dataframe",
              "variable_name": "correct_answers",
              "summary": "{\n  \"name\": \"correct_answers\",\n  \"rows\": 2,\n  \"fields\": [\n    {\n      \"column\": 1,\n      \"properties\": {\n        \"dtype\": \"number\",\n        \"std\": 0,\n        \"min\": 0,\n        \"max\": 0,\n        \"num_unique_values\": 1,\n        \"samples\": [\n          0\n        ],\n        \"semantic_type\": \"\",\n        \"description\": \"\"\n      }\n    },\n    {\n      \"column\": 2,\n      \"properties\": {\n        \"dtype\": \"number\",\n        \"std\": 0.26097207398381256,\n        \"min\": 0.6309297535714575,\n        \"max\": 1.0,\n        \"num_unique_values\": 2,\n        \"samples\": [\n          0.6309297535714575\n        ],\n        \"semantic_type\": \"\",\n        \"description\": \"\"\n      }\n    },\n    {\n      \"column\": 3,\n      \"properties\": {\n        \"dtype\": \"number\",\n        \"std\": 0.26097207398381256,\n        \"min\": 0.6309297535714575,\n        \"max\": 1.0,\n        \"num_unique_values\": 2,\n        \"samples\": [\n          0.6309297535714575\n        ],\n        \"semantic_type\": \"\",\n        \"description\": \"\"\n      }\n    },\n    {\n      \"column\": 4,\n      \"properties\": {\n        \"dtype\": \"number\",\n        \"std\": 0.26097207398381256,\n        \"min\": 0.6309297535714575,\n        \"max\": 1.0,\n        \"num_unique_values\": 2,\n        \"samples\": [\n          0.6309297535714575\n        ],\n        \"semantic_type\": \"\",\n        \"description\": \"\"\n      }\n    }\n  ]\n}"
            }
          },
          "metadata": {},
          "execution_count": 21
        }
      ]
    },
    {
      "cell_type": "markdown",
      "source": [
        "## Data\n",
        "\n",
        "[arxiv link](https://drive.google.com/file/d/1QqT4D0EoqJTy7v9VrNCYD-m964XZFR7_/edit)\n",
        "\n",
        "`train.tsv` - train dataset <br> For every row `\\t` separated: **< question >, < similar question >**\n",
        "\n",
        "\n",
        "`validation.tsv` - test dataset. <br> For every row `\\t` separated: : **< question >, < similar question >, < negative example 1 >, < negative example 2>, ...**"
      ],
      "metadata": {
        "id": "1mC8x_6MKKGz"
      }
    },
    {
      "cell_type": "markdown",
      "source": [
        "### Download and unzip dataset"
      ],
      "metadata": {
        "id": "RlNBfkwCKLIj"
      }
    },
    {
      "cell_type": "code",
      "source": [
        "file_id = '1QqT4D0EoqJTy7v9VrNCYD-m964XZFR7_'\n",
        "!gdown $file_id\n",
        "!unzip stackoverflow_similar_questions.zip"
      ],
      "metadata": {
        "id": "OH0Xsf9GLUeN"
      },
      "execution_count": 22,
      "outputs": []
    },
    {
      "cell_type": "markdown",
      "source": [
        "#### Func to read tsv"
      ],
      "metadata": {
        "id": "F6_lR4F8N4qK"
      }
    },
    {
      "cell_type": "code",
      "source": [
        "def read_corpus(filename: str) -> List:\n",
        "    \"\"\"Reads the file and return rows separated by \\t\n",
        "\n",
        "    :param filename: (str)\n",
        "    :returns: List of rows containing question\\similar question\n",
        "    \"\"\"\n",
        "    data = []\n",
        "    for line in open(filename, encoding='utf-8'):\n",
        "        row = line.strip().split('\\t')\n",
        "        data.append(row)\n",
        "    return data"
      ],
      "metadata": {
        "id": "cYsPMSV7MGBf"
      },
      "execution_count": 23,
      "outputs": []
    },
    {
      "cell_type": "markdown",
      "source": [
        "#### Upload val dataset"
      ],
      "metadata": {
        "id": "SBKpAscLNgxS"
      }
    },
    {
      "cell_type": "code",
      "source": [
        "validation_data = read_corpus('./data/validation.tsv')"
      ],
      "metadata": {
        "id": "5cBQU3tGM42e"
      },
      "execution_count": 24,
      "outputs": []
    },
    {
      "cell_type": "code",
      "source": [
        "print('Lines number:', len(validation_data))\n",
        "print('First few rows:')\n",
        "for i in range(5):\n",
        "    print(f'\\t{i + 1} {len(validation_data[i])}')"
      ],
      "metadata": {
        "colab": {
          "base_uri": "https://localhost:8080/"
        },
        "id": "bj_3PqAUM9Mn",
        "outputId": "5963e3bc-1b11-44c2-fe9f-d91e658dbb45"
      },
      "execution_count": 25,
      "outputs": [
        {
          "output_type": "stream",
          "name": "stdout",
          "text": [
            "Lines number: 3760\n",
            "First few rows:\n",
            "\t1 1001\n",
            "\t2 1001\n",
            "\t3 1001\n",
            "\t4 1001\n",
            "\t5 1001\n"
          ]
        }
      ]
    },
    {
      "cell_type": "markdown",
      "source": [
        "## No-ML approach\n",
        "\n",
        "Implement a ranking func based on cos distance. The func should go through the list of candidates and return a sorted list of pairs (original position, candidate). The index in resulting list is its rating. Example: `[(2,c), (0,a), (1,b)]` where `(2,c)` is the top, `2` is original position and `c` is candidate ."
      ],
      "metadata": {
        "id": "eOQMG3bHnb70"
      }
    },
    {
      "cell_type": "code",
      "source": [
        "def rank_candidates(question, candidates, embeddings, tokenizer, dim=200):\n",
        "    \"\"\"\n",
        "        question: string\n",
        "        candidates: strnig array - cadidates [a, b, c]\n",
        "        result: pairs (initial position, candidate) [(2, c), (0, a), (1, b)]\n",
        "    \"\"\"\n",
        "    q_avg_vector = question_to_vec(question, embeddings=embeddings, tokenizer=tokenizer, dim=dim)\n",
        "    c_avg_vectors = [question_to_vec(candidate, embeddings=embeddings, tokenizer=tokenizer, dim=dim)\n",
        "                    for candidate in candidates]\n",
        "    for i, vec in enumerate(c_avg_vectors):\n",
        "        if vec.shape[0] != dim:\n",
        "            print(f\"Candidate vector at index {i} has incorrect dimension: {vec.shape}\")\n",
        "\n",
        "    similarities = cosine_similarity([q_avg_vector], c_avg_vectors)[0]\n",
        "    ranks = np.argsort(similarities)[::-1]\n",
        "    result = [(rank, candidates[rank]) for rank in ranks]\n",
        "    return result"
      ],
      "metadata": {
        "id": "k4GQW0LPnLrn"
      },
      "execution_count": 175,
      "outputs": []
    },
    {
      "cell_type": "markdown",
      "source": [
        "#### Let's test it given N=2"
      ],
      "metadata": {
        "id": "aOCEO0cFplvc"
      }
    },
    {
      "cell_type": "code",
      "source": [
        "questions = ['converting string to list', 'Sending array via Ajax fails']\n",
        "\n",
        "candidates = [['Convert Google results object (pure js) to Python object',\n",
        "               'C# create cookie from string and send it',\n",
        "               'How to use jQuery AJAX for an outside domain?'],\n",
        "\n",
        "              ['Getting all list items of an unordered list in PHP',\n",
        "               'WPF- How to update the changes in list item of a list',\n",
        "               'select2 not displaying search results']]"
      ],
      "metadata": {
        "id": "4Y2gJdlmptzz"
      },
      "execution_count": 118,
      "outputs": []
    },
    {
      "cell_type": "code",
      "source": [
        "for question, q_candidates in zip(questions, candidates):\n",
        "        ranks = rank_candidates(question, q_candidates, wv_embeddings, tokenizer)\n",
        "        print(ranks)\n",
        "        print()"
      ],
      "metadata": {
        "colab": {
          "base_uri": "https://localhost:8080/"
        },
        "id": "X5a1yMC5qTs3",
        "outputId": "4fe9b92b-a18e-4d23-cd08-6a26fe62b104"
      },
      "execution_count": 128,
      "outputs": [
        {
          "output_type": "stream",
          "name": "stdout",
          "text": [
            "[(1, 'C# create cookie from string and send it'), (0, 'Convert Google results object (pure js) to Python object'), (2, 'How to use jQuery AJAX for an outside domain?')]\n",
            "\n",
            "[(1, 'WPF- How to update the changes in list item of a list'), (0, 'Getting all list items of an unordered list in PHP'), (2, 'select2 not displaying search results')]\n",
            "\n"
          ]
        }
      ]
    },
    {
      "cell_type": "markdown",
      "source": [
        "# results\n",
        "```\n",
        "results = [[(1, 'C# create cookie from string and send it'),\n",
        "            (0, 'Convert Google results object (pure js) to Python object'),\n",
        "            (2, 'How to use jQuery AJAX for an outside domain?')],\n",
        "           [(*, 'Getting all list items of an unordered list in PHP'), #hidden\n",
        "            (*, 'select2 not displaying search results'), #hidden\n",
        "            (*, 'WPF- How to update the changes in list item of a list')]] #hidden\n",
        "\n",
        "```\n",
        "\n",
        "\n"
      ],
      "metadata": {
        "id": "Pt6P1-uystje"
      }
    },
    {
      "cell_type": "markdown",
      "source": [
        "For `experiment 1` the correct index order is `1, 0, 2`"
      ],
      "metadata": {
        "id": "U103QTFGqiDi"
      }
    },
    {
      "cell_type": "markdown",
      "source": [
        "### Question 5:\n",
        "\n",
        "What is the resulting right order of inital indices for `experiment 2`?\n",
        "(format: `102` for `experiment 1`, no punctuation nor spaces)"
      ],
      "metadata": {
        "id": "xPrCSjJxquYR"
      }
    },
    {
      "cell_type": "markdown",
      "source": [
        "#### Q5 answer:\n",
        "\n",
        "For `experiment 2` the correct answer `102` (1, 0, 2)"
      ],
      "metadata": {
        "id": "SvzvZ7qAskDb"
      }
    },
    {
      "cell_type": "markdown",
      "source": [
        "#### Evaluate the quality of the approach"
      ],
      "metadata": {
        "id": "YTn_4hLHtHwM"
      }
    },
    {
      "cell_type": "code",
      "source": [
        "def check_dcg_hit(embs, data, dim=200):\n",
        "  wv_ranking = []\n",
        "  max_validation_examples = len(data)\n",
        "  for i, line in enumerate(tqdm(data)):\n",
        "    q, *ex = line\n",
        "    ranks = rank_candidates(q, ex, embs, tokenizer, dim=dim)\n",
        "    wv_ranking.append([r[0] for r in ranks].index(0) + 1)\n",
        "  for k in tqdm([1, 5, 10, 100, 500, 1000]):\n",
        "    print(\"DCG@%4d: %.3f | Hits@%4d: %.3f\" % (k, dcg_score(wv_ranking, k), k, hits_count(wv_ranking, k)))"
      ],
      "metadata": {
        "id": "pgY0fFJfUF8z"
      },
      "execution_count": 181,
      "outputs": []
    },
    {
      "cell_type": "code",
      "source": [
        "check_dcg_hit(wv_embeddings, validation_data)"
      ],
      "metadata": {
        "colab": {
          "base_uri": "https://localhost:8080/",
          "height": 185,
          "referenced_widgets": [
            "804a7dd15e094d50841620de7512ac44",
            "1058f356e4964df2b5704c39c46b8740",
            "78223a869b4c40ed909f98a82ec745a2",
            "6f54de4d0d104f2bb9e15983ae927de4",
            "a99264829adf460fbc34d3c915561e2c",
            "7a1f407a6bf440a89ac4aacb5e7b4cad",
            "38c370fdfa89481fa737319c6d296cec",
            "c55c174269ce4e96950a47f9bbea9c8e",
            "8c19c94f73444a87843a3c2123c758e6",
            "c37e707d40684d8b8beb87a752e5d798",
            "1e8e2bfb16ab4c8187374548c2a323f4",
            "1b82c55df912466285805dfbe0bc061f",
            "f820c612f9a54695ac1056bbf8bf1e3f",
            "828ec48d7c5c4e15a1e6ed70aae82fe7",
            "04de207187fe451396547e299f7cb968",
            "46303a6eb15b4a8cbe2876fd6bb7d359",
            "9ee0a73db0844c5586808c96960cdc62",
            "9a9bdc03e7c044a1bce9aeaa59b85bdd",
            "da471dd40bd14ddfb37cbd698c444798",
            "11f784ebc5a84dfeb826c357ddbd5afc",
            "a8224c71495b493e870ec532ca31c3c5",
            "6820734d61464956be1c7a72936a2655"
          ]
        },
        "id": "TTcYdBvDUbaj",
        "outputId": "f058bb33-8c56-41c7-d0df-cb664aae59c2"
      },
      "execution_count": 163,
      "outputs": [
        {
          "output_type": "display_data",
          "data": {
            "text/plain": [
              "  0%|          | 0/3760 [00:00<?, ?it/s]"
            ],
            "application/vnd.jupyter.widget-view+json": {
              "version_major": 2,
              "version_minor": 0,
              "model_id": "804a7dd15e094d50841620de7512ac44"
            }
          },
          "metadata": {}
        },
        {
          "output_type": "display_data",
          "data": {
            "text/plain": [
              "  0%|          | 0/6 [00:00<?, ?it/s]"
            ],
            "application/vnd.jupyter.widget-view+json": {
              "version_major": 2,
              "version_minor": 0,
              "model_id": "1b82c55df912466285805dfbe0bc061f"
            }
          },
          "metadata": {}
        },
        {
          "output_type": "stream",
          "name": "stdout",
          "text": [
            "DCG@   1: 0.217 | Hits@   1: 0.217\n",
            "DCG@   5: 0.277 | Hits@   5: 0.332\n",
            "DCG@  10: 0.297 | Hits@  10: 0.393\n",
            "DCG@ 100: 0.343 | Hits@ 100: 0.622\n",
            "DCG@ 500: 0.367 | Hits@ 500: 0.814\n",
            "DCG@1000: 0.387 | Hits@1000: 1.000\n"
          ]
        }
      ]
    },
    {
      "cell_type": "markdown",
      "source": [
        "Terrible results"
      ],
      "metadata": {
        "id": "ib4h5CEayX7B"
      }
    },
    {
      "cell_type": "code",
      "source": [
        "gc.collect()"
      ],
      "metadata": {
        "colab": {
          "base_uri": "https://localhost:8080/"
        },
        "id": "1OY-0cJP-M-i",
        "outputId": "79ff1d19-32df-4c8a-9815-57faaf2f8b1e"
      },
      "execution_count": 133,
      "outputs": [
        {
          "output_type": "execute_result",
          "data": {
            "text/plain": [
              "0"
            ]
          },
          "metadata": {},
          "execution_count": 133
        }
      ]
    },
    {
      "cell_type": "markdown",
      "source": [
        "## Embeddings on similar texts corpora"
      ],
      "metadata": {
        "id": "xBVgupccvb_c"
      }
    },
    {
      "cell_type": "code",
      "source": [
        "train_data = read_corpus('./data/train.tsv')"
      ],
      "metadata": {
        "id": "ydE1pDxkybbc"
      },
      "execution_count": 39,
      "outputs": []
    },
    {
      "cell_type": "code",
      "source": [
        "train_data[0]"
      ],
      "metadata": {
        "colab": {
          "base_uri": "https://localhost:8080/"
        },
        "id": "dKfyWa2KPrDg",
        "outputId": "f73a9f15-7e62-4079-b709-7b161500f341"
      },
      "execution_count": 138,
      "outputs": [
        {
          "output_type": "execute_result",
          "data": {
            "text/plain": [
              "['converting string to list',\n",
              " 'Convert Google results object (pure js) to Python object']"
            ]
          },
          "metadata": {},
          "execution_count": 138
        }
      ]
    },
    {
      "cell_type": "markdown",
      "source": [
        "Combine questions into pairs and train them using gensim Word2Vec.\n",
        "Choose the window size. Elaborate on your decision."
      ],
      "metadata": {
        "id": "IgujQVjeyioE"
      }
    },
    {
      "cell_type": "code",
      "source": [
        "def preprocessing(words, tokenizer=tokenizer):\n",
        "  w_list = []\n",
        "  for w in tokenizer.tokenize(words.lower()):\n",
        "    if w not in stops:\n",
        "      w_list.append(w)\n",
        "  return w_list"
      ],
      "metadata": {
        "id": "l7PgV9H204uo"
      },
      "execution_count": 134,
      "outputs": []
    },
    {
      "cell_type": "code",
      "source": [
        "#words = [preprocessing(q[pair]) for q in train_data for pair in range(2)]\n",
        "words = [preprocessing(question) for pair in train_data for question in pair]"
      ],
      "metadata": {
        "id": "xiDyZu0RP-IC"
      },
      "execution_count": 139,
      "outputs": []
    },
    {
      "cell_type": "code",
      "source": [
        "gc.collect()"
      ],
      "metadata": {
        "colab": {
          "base_uri": "https://localhost:8080/"
        },
        "id": "vnYlPbev9_lm",
        "outputId": "07a58b7f-462b-4ce8-fecd-de96a450d8c6"
      },
      "execution_count": 186,
      "outputs": [
        {
          "output_type": "execute_result",
          "data": {
            "text/plain": [
              "148"
            ]
          },
          "metadata": {},
          "execution_count": 186
        }
      ]
    },
    {
      "cell_type": "code",
      "source": [
        "w_frequency = 5\n",
        "window = 5\n",
        "size = 400"
      ],
      "metadata": {
        "id": "Wp8UlCUF9xJG"
      },
      "execution_count": 187,
      "outputs": []
    },
    {
      "cell_type": "code",
      "source": [
        "embeddings_trained = Word2Vec(words,               # data for model to train on\n",
        "                 vector_size=size,                 # embedding vector size\n",
        "                 min_count=w_frequency,            # consider words that occured at least 5 times\n",
        "                 window=window).wv"
      ],
      "metadata": {
        "id": "wPehqsfay_Cz"
      },
      "execution_count": null,
      "outputs": []
    },
    {
      "cell_type": "code",
      "source": [
        "check_dcg_hit(embeddings_trained, validation_data, dim=size)"
      ],
      "metadata": {
        "id": "G7d84AjXVOd0"
      },
      "execution_count": null,
      "outputs": []
    },
    {
      "cell_type": "markdown",
      "source": [
        "#### vector_size=200\n",
        "\n",
        "There is a common practice to set emb size to 200-300. There has been plensty of research in this field so we'll just follow the guidelines."
      ],
      "metadata": {
        "id": "52A5ONH6-zf6"
      }
    },
    {
      "cell_type": "markdown",
      "source": [
        "#### min_count=5\n",
        "\n",
        "This parapeter indicates that the word should apper at lesat 5 times in the dataset to be considered viable for training. Thus we filter out rare words."
      ],
      "metadata": {
        "id": "LFc6dQt0_Dk5"
      }
    },
    {
      "cell_type": "markdown",
      "source": [
        "#### window=5\n",
        "\n",
        "This parameter specifies the maximum distance between current and predicted word. `5 4 3 2 1 current 1 2 3 4 5` It specifies cooccurrency. Making the value larger might slow down the computation process as well as it's more likely that words don't really relate to each other if they are 5 words away.\n",
        "\n",
        "(Except for complex and composite sentences like:\n",
        "\n",
        "\n",
        "\"The **cat**, who was lazily resting on the green tree branch, suddenly jumped down and **chased** after the fluttering butterfly, disappearing into the garden shed.\"\n",
        "\n",
        "Here the *cat* and *chased* are related but they are more than 10 words apart).\n",
        "\n",
        "However we won't consider such cases.\n",
        "\n"
      ],
      "metadata": {
        "id": "0AT-lsz1_tvG"
      }
    },
    {
      "cell_type": "markdown",
      "source": [
        "## Conclusion\n",
        "\n",
        "So altogether the quality is not that good. Skip-Grams Word2Vec(sg=1) are a big betther than CBOW but in general the difference is not that drastical.\n",
        "\n",
        "1. As given in results above, the custom embeddings with combination of stopwords + removing punctuation tokenization provide a firmer result.\n",
        "However it is worth noting that there is a lot to improve even with tokenization, and dimenstions 300.\n",
        "\n",
        "2. Normalization\\lemmaization won't really help, quite opposite - it worsens the result due to the information loss and overgeneralization\n",
        "\n",
        "3. Skip gram, window 5 appeared to be the best in the experiments since  5 allows the model to capture a reasonably large amount of local context around each word and overall skip grams normally perform a bit better but slower than CBOW. Adding negative sampling would be a good idea.\n",
        "\n",
        "4. The chosen approach isn't the best due to the complexity of the task - you can't solve it perfectly with simply cosine similarity of embeddings, there is much to look into - more complex context (after all Word2Vec doesn't remember the global context of the question), specificity of the questions, different meanings in vocabulary.\n",
        "\n",
        "5. Word2Vec (its implementations like GloVe or FastText and adding n-grams and negative sampling) is a proper first step in the task however we could use BERT model, roBERTa, GPT2 or ruGPT leter. Transformers aside, we could utilize RNNs like LSTM or Bi-LSTM for this task."
      ],
      "metadata": {
        "id": "dprCB-6eXyT6"
      }
    },
    {
      "cell_type": "code",
      "source": [],
      "metadata": {
        "id": "vtYh-EOoSvq8"
      },
      "execution_count": null,
      "outputs": []
    }
  ]
}