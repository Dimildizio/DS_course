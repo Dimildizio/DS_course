{
  "nbformat": 4,
  "nbformat_minor": 0,
  "metadata": {
    "colab": {
      "provenance": [],
      "authorship_tag": "ABX9TyMl8+VOl0k7DrT1baeDgv1b",
      "include_colab_link": true
    },
    "kernelspec": {
      "name": "python3",
      "display_name": "Python 3"
    },
    "language_info": {
      "name": "python"
    },
    "accelerator": "GPU",
    "gpuClass": "standard"
  },
  "cells": [
    {
      "cell_type": "markdown",
      "metadata": {
        "id": "view-in-github",
        "colab_type": "text"
      },
      "source": [
        "<a href=\"https://colab.research.google.com/github/Dimildizio/DS_course/blob/main/Neural_networks/Basic/MLP-FashionMNIST.ipynb\" target=\"_parent\"><img src=\"https://colab.research.google.com/assets/colab-badge.svg\" alt=\"Open In Colab\"/></a>"
      ]
    },
    {
      "cell_type": "markdown",
      "source": [
        "#MNIST Fashion MLP"
      ],
      "metadata": {
        "id": "HZWt9ZaSYVap"
      }
    },
    {
      "cell_type": "code",
      "execution_count": 2,
      "metadata": {
        "id": "OSckbVFyYSq3"
      },
      "outputs": [],
      "source": [
        "!pip install -q --upgrade wandb"
      ]
    },
    {
      "cell_type": "code",
      "source": [
        "import os\n",
        "import wandb\n",
        "import matplotlib.pyplot as plt\n",
        "import numpy as np\n",
        "import random\n",
        "import torch\n",
        "import torch.nn as nn\n",
        "import torch.nn.functional as nn_funcs\n",
        "import torch.optim as optim\n",
        "from torchvision import datasets\n",
        "import torchvision.transforms as transforms\n",
        "from tqdm import *"
      ],
      "metadata": {
        "id": "C9ELiH9dYbB9"
      },
      "execution_count": 3,
      "outputs": []
    },
    {
      "cell_type": "markdown",
      "source": [
        "####Prepare gobal variables"
      ],
      "metadata": {
        "id": "udy-tHdEb5yb"
      }
    },
    {
      "cell_type": "code",
      "source": [
        "TRAIN_BATCH = 64\n",
        "TEST_BATCH = 512        #Not used\n",
        "N_IN = 28*28\n",
        "N_OUT = 10\n",
        "LR = 0.01\n",
        "NUM_WORKERS = 2\n",
        "N_EPOCHS = 10\n",
        "SEED = 42\n",
        "MNISTF_MEAN = 0.2859\n",
        "MNISTF_STD = 0.3530\n",
        "PARAM_DICT = {'epochs':N_EPOCHS, 'train_batch':TRAIN_BATCH, 'num_workers':NUM_WORKERS, \n",
        "              'lr':LR, 'seed':SEED, 'classes':N_OUT}"
      ],
      "metadata": {
        "id": "lR35xGFIb11I"
      },
      "execution_count": 4,
      "outputs": []
    },
    {
      "cell_type": "markdown",
      "source": [
        "Logging with wandb"
      ],
      "metadata": {
        "id": "55JSlgSgcjlN"
      }
    },
    {
      "cell_type": "code",
      "source": [
        "WNB_FLAG = False\n",
        "API_KEY = ''\n",
        "WNB_PROJECT = 'MNIST Fashion'\n",
        "WNB_LOGIN = 'dimildizio'"
      ],
      "metadata": {
        "id": "wufJiVnRcmuf"
      },
      "execution_count": 5,
      "outputs": []
    },
    {
      "cell_type": "markdown",
      "source": [
        "One seed to rule them all"
      ],
      "metadata": {
        "id": "1F188y_IZoIu"
      }
    },
    {
      "cell_type": "code",
      "source": [
        "def seed_all(seed):\n",
        "  random.seed(seed)\n",
        "  np.random.seed(seed)\n",
        "  os.environ['PYTHONHASHSEED'] = str(seed)\n",
        "  torch.manual_seed(seed)\n",
        "  torch.cuda.manual_seed(seed)\n",
        "  torch.backends.cudnn.deterministic = True\n",
        "\n",
        "seed_all(SEED)"
      ],
      "metadata": {
        "id": "doYGZ4MsZmPh"
      },
      "execution_count": 6,
      "outputs": []
    },
    {
      "cell_type": "markdown",
      "source": [
        "#### Load data"
      ],
      "metadata": {
        "id": "awXHbG2edCIQ"
      }
    },
    {
      "cell_type": "code",
      "source": [
        "transform = transforms.Compose([\n",
        "                      transforms.ToTensor(),\n",
        "                      transforms.Normalize(MNISTF_MEAN, MNISTF_STD)\n",
        "                      ])"
      ],
      "metadata": {
        "id": "-XZtWKXikX3M"
      },
      "execution_count": 7,
      "outputs": []
    },
    {
      "cell_type": "code",
      "source": [
        "train_data = datasets.FashionMNIST(root='data', train=True,\n",
        "                                   download=True, transform=transform)\n",
        "test_data = datasets.FashionMNIST(root='data', train=False,\n",
        "                                  download=True, transform=transform)\n",
        "\n",
        "train_loader = torch.utils.data.DataLoader(train_data, batch_size = TRAIN_BATCH, \n",
        "                                         num_workers = NUM_WORKERS, pin_memory = True,\n",
        "                                         shuffle = True)\n",
        "test_loader = torch.utils.data.DataLoader(test_data, batch_size = TEST_BATCH, \n",
        "                                         num_workers = NUM_WORKERS, pin_memory = True,\n",
        "                                         shuffle = False)"
      ],
      "metadata": {
        "id": "mHvBXvN9k63q"
      },
      "execution_count": 8,
      "outputs": []
    },
    {
      "cell_type": "markdown",
      "source": [
        "Convert batches with 1 channel 28x28 "
      ],
      "metadata": {
        "id": "NHAWGX8LdCK0"
      }
    },
    {
      "cell_type": "code",
      "source": [
        "dataiter = iter(train_loader)\n",
        "images, labels = next(dataiter)\n",
        "images = images.numpy()"
      ],
      "metadata": {
        "id": "x9xI9MbVa-Xg"
      },
      "execution_count": 9,
      "outputs": []
    },
    {
      "cell_type": "code",
      "source": [
        "train_loader"
      ],
      "metadata": {
        "id": "iKnujQD8_1vg",
        "outputId": "fa81558d-0ddf-4028-de19-30a73f1961b9",
        "colab": {
          "base_uri": "https://localhost:8080/"
        }
      },
      "execution_count": 10,
      "outputs": [
        {
          "output_type": "execute_result",
          "data": {
            "text/plain": [
              "<torch.utils.data.dataloader.DataLoader at 0x7f35b8647190>"
            ]
          },
          "metadata": {},
          "execution_count": 10
        }
      ]
    },
    {
      "cell_type": "code",
      "source": [
        "images.shape"
      ],
      "metadata": {
        "colab": {
          "base_uri": "https://localhost:8080/"
        },
        "id": "AKIGZIeknEN0",
        "outputId": "f375eeab-7128-4621-a89c-3d19006c1c5c"
      },
      "execution_count": 11,
      "outputs": [
        {
          "output_type": "execute_result",
          "data": {
            "text/plain": [
              "(64, 1, 28, 28)"
            ]
          },
          "metadata": {},
          "execution_count": 11
        }
      ]
    },
    {
      "cell_type": "code",
      "source": [
        "fig = plt.figure(figsize=(24, 4))\n",
        "for idx in np.arange(16):\n",
        "    ax = fig.add_subplot(2, 8, idx+1, xticks=[], yticks=[])\n",
        "    ax.imshow(np.squeeze(images[idx]))\n",
        "    ax.set_title(str(train_data.classes[labels[idx].item()]))"
      ],
      "metadata": {
        "colab": {
          "base_uri": "https://localhost:8080/",
          "height": 289
        },
        "id": "ML5ClZrmbBut",
        "outputId": "98d1ab05-07f5-4b42-a5c0-fd402ef9b2b1"
      },
      "execution_count": 12,
      "outputs": [
        {
          "output_type": "display_data",
          "data": {
            "text/plain": [
              "<Figure size 2400x400 with 16 Axes>"
            ],
            "image/png": "[encoded data removed]"
          },
          "metadata": {}
        }
      ]
    },
    {
      "cell_type": "markdown",
      "source": [
        "Define a class that has 3 hidden layers with 512 neurons on the 1st *hidden*, 256 on the second and 128 on the third"
      ],
      "metadata": {
        "id": "FOY53xPadCOO"
      }
    },
    {
      "cell_type": "markdown",
      "source": [
        "####Create a class for operations"
      ],
      "metadata": {
        "id": "rJdoFLMrskJw"
      }
    },
    {
      "cell_type": "code",
      "source": [
        "class ModelRunner:\n",
        "  def __init__(self, model, optimizer, loss, epochs = N_EPOCHS, traindata = train_loader, testdata = test_loader):\n",
        "    self.traindata = traindata\n",
        "    self.testdata = testdata\n",
        "    self.epochs = epochs\n",
        "\n",
        "    self.init_model(model, optimizer, loss)\n",
        "    self.can_cuda()\n",
        "\n",
        "  def init_model(self, model, optimizer, loss):\n",
        "    self.model = model\n",
        "    self.optimizer = optimizer\n",
        "    self.loss = loss\n",
        "\n",
        "  def can_cuda(self):\n",
        "    if torch.cuda.is_available():\n",
        "      self.model.cuda()\n",
        "      self.device = torch.device('cuda')\n",
        "    else:\n",
        "      self.device = torch.device('cpu')\n",
        "\n",
        "\n",
        "  def print_n_log(self, correct, iloss, name = 'Train'):\n",
        "    myset = self.traindata if name == 'Train' else self.testdata\n",
        "    predicted_well =correct / len(myset.dataset)\n",
        "    tqdm.write(f'{name}: Avg loss: {iloss} Accuracy: {round(100 * predicted_well,3)}%')   \n",
        "    if WNB_FLAG:\n",
        "      wandb.log({name+'_loss':iloss, \n",
        "                 name+'_accuracy':predicted_well})\n",
        "\n",
        "  def get_correct_score(self, predictions, target):\n",
        "      pred_p = predictions.argmax(dim=1, keepdim=True) #get index of the highest probability\n",
        "      correct_mask = pred_p.eq(target.view_as(pred_p)) #get True\\False match of predcited\\true results\n",
        "      return correct_mask.sum().item()                 #sum and return scalar to add to correct values\n",
        "\n",
        "  def train(self):\n",
        "    correct = 0 \n",
        "    self.model.train()  #train mode\n",
        "    #train batch by batch \n",
        "    for _batch_idx, (data, target) in tqdm(enumerate(self.traindata), total=len(self.traindata)):\n",
        "      #set to device\n",
        "      data = data.to(self.device)\n",
        "      target = target.to(self.device)\n",
        "      self.optimizer.zero_grad()                       #zero the gradients  \n",
        "\n",
        "      preds = self.model(data)                         #calc probablities for every class\n",
        "      correct += self.get_correct_score(preds, target) #add correctly predicted values\n",
        "\n",
        "      train_loss = self.loss(preds, target)            #calc loss\n",
        "      train_loss.backward()                            #compute gradient of loss                            \n",
        "      self.optimizer.step()                            #grad step and w&b update\n",
        "\n",
        "    self.print_n_log(correct, train_loss)              #log and print out results of an epoch\n",
        "\n",
        "\n",
        "  def test(self):\n",
        "    correct = 0\n",
        "    self.model.eval()  #inference mode\n",
        "    #self.testdata is not bin batches\n",
        "    with torch.no_grad():                               #test set. we don't updating wnb\n",
        "      for data, target in self.testdata:\n",
        "        #set to device\n",
        "        data = data.to(self.device)\n",
        "        target = target.to(self.device)\n",
        "\n",
        "        preds = self.model(data)                          #get probabilites for classes\n",
        "        correct += self.get_correct_score(preds, target)  #add the num of correctly predicted values\n",
        "        test_loss = self.loss(preds, target)              #calc loss\n",
        "\n",
        "    self.print_n_log(correct, test_loss, 'Test')          #log n print accuracy and loss\n",
        "\n",
        "  def run_loop(self):\n",
        "    print('TOTAL EPOCHS:', self.epochs)\n",
        "    for epoch in range(self.epochs+1):\n",
        "      print('Epoch:', epoch)\n",
        "      self.train()\n",
        "      self.test()\n",
        "      print()"
      ],
      "metadata": {
        "id": "B27BnJ7rrBcU"
      },
      "execution_count": 27,
      "outputs": []
    },
    {
      "cell_type": "code",
      "source": [
        "def log_wnb(model):\n",
        "  if WNB_FLAG:\n",
        "    os.environ[\"WANDB_API_KEY\"] = API_KEY\n",
        "    wandb.init(project=WNB_PROJECT, entity=WNB_LOGIN, reinit=True, config=PARAM_DICT)\n",
        "    wandb.watch(model, log='all')"
      ],
      "metadata": {
        "id": "PqTy4hl304xo"
      },
      "execution_count": 14,
      "outputs": []
    },
    {
      "cell_type": "code",
      "source": [
        "def mainloop(model, optimizer, loss, epochs):\n",
        "  seed_all(SEED)\n",
        "  runner = ModelRunner(model, optimizer, loss, epochs = epochs)\n",
        "  log_wnb(model)\n",
        "  runner.run_loop()"
      ],
      "metadata": {
        "id": "MZJFEoXmx1FU"
      },
      "execution_count": 15,
      "outputs": []
    },
    {
      "cell_type": "markdown",
      "source": [
        "Get GPU info"
      ],
      "metadata": {
        "id": "R-Nzwi6Wqr41"
      }
    },
    {
      "cell_type": "code",
      "source": [
        "gpu_info = !nvidia-smi\n",
        "gpu_info = '\\n'.join(gpu_info)\n",
        "print(gpu_info)"
      ],
      "metadata": {
        "colab": {
          "base_uri": "https://localhost:8080/"
        },
        "id": "jSmO8u9squEP",
        "outputId": "de95657e-081f-45d7-be5e-ce88323266d9"
      },
      "execution_count": 26,
      "outputs": [
        {
          "output_type": "stream",
          "name": "stdout",
          "text": [
            "Thu Apr 27 23:59:16 2023       \n",
            "+-----------------------------------------------------------------------------+\n",
            "| NVIDIA-SMI 525.85.12    Driver Version: 525.85.12    CUDA Version: 12.0     |\n",
            "|-------------------------------+----------------------+----------------------+\n",
            "| GPU  Name        Persistence-M| Bus-Id        Disp.A | Volatile Uncorr. ECC |\n",
            "| Fan  Temp  Perf  Pwr:Usage/Cap|         Memory-Usage | GPU-Util  Compute M. |\n",
            "|                               |                      |               MIG M. |\n",
            "|===============================+======================+======================|\n",
            "|   0  Tesla T4            Off  | 00000000:00:04.0 Off |                    0 |\n",
            "| N/A   47C    P0    25W /  70W |    847MiB / 15360MiB |      0%      Default |\n",
            "|                               |                      |                  N/A |\n",
            "+-------------------------------+----------------------+----------------------+\n",
            "                                                                               \n",
            "+-----------------------------------------------------------------------------+\n",
            "| Processes:                                                                  |\n",
            "|  GPU   GI   CI        PID   Type   Process name                  GPU Memory |\n",
            "|        ID   ID                                                   Usage      |\n",
            "|=============================================================================|\n",
            "+-----------------------------------------------------------------------------+\n"
          ]
        }
      ]
    },
    {
      "cell_type": "code",
      "source": [
        "class MyNet(nn.Module):\n",
        "  def __init__(self):\n",
        "    super(MyNet, self).__init__()\n",
        "    hidden1 = 128\n",
        "    hidden2 = 256\n",
        "    hidden3 = 128\n",
        "    self.fc1 = nn.Linear(N_IN, hidden1)\n",
        "    self.fc2 = nn.Linear(hidden1, hidden2)\n",
        "    self.fc3 = nn.Linear(hidden2, hidden3)\n",
        "    self.fc4 = nn.Linear(hidden3, N_OUT)\n",
        "\n",
        "  def forward(self, x):\n",
        "    x = x.view(-1, N_IN)\n",
        "    x = nn_funcs.leaky_relu(self.fc1(x))\n",
        "    x = nn_funcs.leaky_relu(self.fc2(x))\n",
        "    x = nn_funcs.leaky_relu(self.fc3(x))\n",
        "    x = self.fc4(x)\n",
        "    return x"
      ],
      "metadata": {
        "id": "NNPRTsRZgm4T"
      },
      "execution_count": 24,
      "outputs": []
    },
    {
      "cell_type": "code",
      "source": [
        "model = MyNet()\n",
        "loss = nn.CrossEntropyLoss(reduction = 'sum')\n",
        "optimizer = torch.optim.Adam(model.parameters(), lr = 0.001)\n",
        "\n",
        "mainloop(model, optimizer, loss, 10)"
      ],
      "metadata": {
        "id": "pDLMLCo_3vFU",
        "outputId": "419baec1-7a16-4f37-9dfb-d19ca4692d48",
        "colab": {
          "base_uri": "https://localhost:8080/"
        }
      },
      "execution_count": 25,
      "outputs": [
        {
          "output_type": "stream",
          "name": "stdout",
          "text": [
            "EPOCHS: 10\n"
          ]
        },
        {
          "output_type": "stream",
          "name": "stderr",
          "text": [
            "100%|██████████| 938/938 [00:15<00:00, 59.34it/s]"
          ]
        },
        {
          "output_type": "stream",
          "name": "stdout",
          "text": [
            "\n",
            "Train: Avg loss: 7.721004009246826 Accuracy: 82.352%\n"
          ]
        },
        {
          "output_type": "stream",
          "name": "stderr",
          "text": [
            "\n"
          ]
        },
        {
          "output_type": "stream",
          "name": "stdout",
          "text": [
            "\n",
            "Test: Avg loss: 87.543212890625 Accuracy: 84.99%\n",
            "\n"
          ]
        },
        {
          "output_type": "stream",
          "name": "stderr",
          "text": [
            "100%|██████████| 938/938 [00:15<00:00, 59.64it/s]"
          ]
        },
        {
          "output_type": "stream",
          "name": "stdout",
          "text": [
            "\n",
            "Train: Avg loss: 12.16502571105957 Accuracy: 86.922%\n"
          ]
        },
        {
          "output_type": "stream",
          "name": "stderr",
          "text": [
            "\n"
          ]
        },
        {
          "output_type": "stream",
          "name": "stdout",
          "text": [
            "\n",
            "Test: Avg loss: 72.92431640625 Accuracy: 86.4%\n",
            "\n"
          ]
        },
        {
          "output_type": "stream",
          "name": "stderr",
          "text": [
            "100%|██████████| 938/938 [00:16<00:00, 58.53it/s]"
          ]
        },
        {
          "output_type": "stream",
          "name": "stdout",
          "text": [
            "\n",
            "Train: Avg loss: 7.590438365936279 Accuracy: 88.192%\n"
          ]
        },
        {
          "output_type": "stream",
          "name": "stderr",
          "text": [
            "\n"
          ]
        },
        {
          "output_type": "stream",
          "name": "stdout",
          "text": [
            "\n",
            "Test: Avg loss: 68.92808532714844 Accuracy: 86.14%\n",
            "\n"
          ]
        },
        {
          "output_type": "stream",
          "name": "stderr",
          "text": [
            "100%|██████████| 938/938 [00:16<00:00, 58.22it/s]"
          ]
        },
        {
          "output_type": "stream",
          "name": "stdout",
          "text": [
            "\n",
            "Train: Avg loss: 11.270520210266113 Accuracy: 89.173%\n"
          ]
        },
        {
          "output_type": "stream",
          "name": "stderr",
          "text": [
            "\n"
          ]
        },
        {
          "output_type": "stream",
          "name": "stdout",
          "text": [
            "\n",
            "Test: Avg loss: 69.63525390625 Accuracy: 87.38%\n",
            "\n"
          ]
        },
        {
          "output_type": "stream",
          "name": "stderr",
          "text": [
            "100%|██████████| 938/938 [00:15<00:00, 59.40it/s]"
          ]
        },
        {
          "output_type": "stream",
          "name": "stdout",
          "text": [
            "\n",
            "Train: Avg loss: 9.671599388122559 Accuracy: 89.837%\n"
          ]
        },
        {
          "output_type": "stream",
          "name": "stderr",
          "text": [
            "\n"
          ]
        },
        {
          "output_type": "stream",
          "name": "stdout",
          "text": [
            "\n",
            "Test: Avg loss: 59.48044204711914 Accuracy: 87.75%\n",
            "\n"
          ]
        },
        {
          "output_type": "stream",
          "name": "stderr",
          "text": [
            "100%|██████████| 938/938 [00:15<00:00, 59.87it/s]"
          ]
        },
        {
          "output_type": "stream",
          "name": "stdout",
          "text": [
            "\n",
            "Train: Avg loss: 5.2407755851745605 Accuracy: 90.275%\n"
          ]
        },
        {
          "output_type": "stream",
          "name": "stderr",
          "text": [
            "\n"
          ]
        },
        {
          "output_type": "stream",
          "name": "stdout",
          "text": [
            "\n",
            "Test: Avg loss: 67.30949401855469 Accuracy: 87.86%\n",
            "\n"
          ]
        },
        {
          "output_type": "stream",
          "name": "stderr",
          "text": [
            "100%|██████████| 938/938 [00:16<00:00, 56.47it/s]"
          ]
        },
        {
          "output_type": "stream",
          "name": "stdout",
          "text": [
            "\n",
            "Train: Avg loss: 7.683635234832764 Accuracy: 90.835%\n"
          ]
        },
        {
          "output_type": "stream",
          "name": "stderr",
          "text": [
            "\n"
          ]
        },
        {
          "output_type": "stream",
          "name": "stdout",
          "text": [
            "\n",
            "Test: Avg loss: 61.184234619140625 Accuracy: 88.25%\n",
            "\n"
          ]
        },
        {
          "output_type": "stream",
          "name": "stderr",
          "text": [
            "100%|██████████| 938/938 [00:16<00:00, 56.97it/s]"
          ]
        },
        {
          "output_type": "stream",
          "name": "stdout",
          "text": [
            "\n",
            "Train: Avg loss: 4.839700698852539 Accuracy: 91.335%\n"
          ]
        },
        {
          "output_type": "stream",
          "name": "stderr",
          "text": [
            "\n"
          ]
        },
        {
          "output_type": "stream",
          "name": "stdout",
          "text": [
            "\n",
            "Test: Avg loss: 61.821964263916016 Accuracy: 88.35%\n",
            "\n"
          ]
        },
        {
          "output_type": "stream",
          "name": "stderr",
          "text": [
            "100%|██████████| 938/938 [00:15<00:00, 59.41it/s]"
          ]
        },
        {
          "output_type": "stream",
          "name": "stdout",
          "text": [
            "\n",
            "Train: Avg loss: 9.882068634033203 Accuracy: 91.552%\n"
          ]
        },
        {
          "output_type": "stream",
          "name": "stderr",
          "text": [
            "\n"
          ]
        },
        {
          "output_type": "stream",
          "name": "stdout",
          "text": [
            "\n",
            "Test: Avg loss: 79.98644256591797 Accuracy: 88.13%\n",
            "\n"
          ]
        },
        {
          "output_type": "stream",
          "name": "stderr",
          "text": [
            "100%|██████████| 938/938 [00:15<00:00, 59.68it/s]"
          ]
        },
        {
          "output_type": "stream",
          "name": "stdout",
          "text": [
            "\n",
            "Train: Avg loss: 11.780071258544922 Accuracy: 92.057%\n"
          ]
        },
        {
          "output_type": "stream",
          "name": "stderr",
          "text": [
            "\n"
          ]
        },
        {
          "output_type": "stream",
          "name": "stdout",
          "text": [
            "\n",
            "Test: Avg loss: 76.39363098144531 Accuracy: 87.95%\n",
            "\n"
          ]
        },
        {
          "output_type": "stream",
          "name": "stderr",
          "text": [
            "100%|██████████| 938/938 [00:15<00:00, 59.96it/s]"
          ]
        },
        {
          "output_type": "stream",
          "name": "stdout",
          "text": [
            "\n",
            "Train: Avg loss: 12.687047958374023 Accuracy: 92.393%\n"
          ]
        },
        {
          "output_type": "stream",
          "name": "stderr",
          "text": [
            "\n"
          ]
        },
        {
          "output_type": "stream",
          "name": "stdout",
          "text": [
            "\n",
            "Test: Avg loss: 62.824119567871094 Accuracy: 88.6%\n",
            "\n"
          ]
        }
      ]
    },
    {
      "cell_type": "markdown",
      "source": [
        "So even with the baseline we got the desired resut of 88%"
      ],
      "metadata": {
        "id": "2RnRhfaZJ4Cw"
      }
    },
    {
      "cell_type": "code",
      "source": [],
      "metadata": {
        "id": "CrM_nQRk-GTl"
      },
      "execution_count": 18,
      "outputs": []
    },
    {
      "cell_type": "code",
      "source": [],
      "metadata": {
        "id": "T5mSGmjP_QeA"
      },
      "execution_count": 18,
      "outputs": []
    },
    {
      "cell_type": "code",
      "source": [],
      "metadata": {
        "id": "UPDPvq-B-mn1"
      },
      "execution_count": 18,
      "outputs": []
    }
  ]
}