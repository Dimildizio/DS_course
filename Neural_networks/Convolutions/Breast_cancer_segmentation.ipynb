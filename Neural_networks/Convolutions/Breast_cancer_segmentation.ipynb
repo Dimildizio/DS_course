{
  "nbformat": 4,
  "nbformat_minor": 0,
  "metadata": {
    "colab": {
      "provenance": [],
      "authorship_tag": "ABX9TyOfeBexgsEpMRRsCKdYqXOk",
      "include_colab_link": true
    },
    "kernelspec": {
      "name": "python3",
      "display_name": "Python 3"
    },
    "language_info": {
      "name": "python"
    }
  },
  "cells": [
    {
      "cell_type": "markdown",
      "metadata": {
        "id": "view-in-github",
        "colab_type": "text"
      },
      "source": [
        "<a href=\"https://colab.research.google.com/github/Dimildizio/DS_course/blob/main/Neural_networks/Convolutions/Breast_cancer_segmentation.ipynb\" target=\"_parent\"><img src=\"https://colab.research.google.com/assets/colab-badge.svg\" alt=\"Open In Colab\"/></a>"
      ]
    },
    {
      "cell_type": "markdown",
      "source": [
        "# Breast cancer segmentation"
      ],
      "metadata": {
        "id": "_tefKznypsjC"
      }
    },
    {
      "cell_type": "markdown",
      "source": [
        "## Installs & Imports"
      ],
      "metadata": {
        "id": "jTv3BR0Kpy-V"
      }
    },
    {
      "cell_type": "code",
      "source": [
        "%%capture\n",
        "#pip install catalyst"
      ],
      "metadata": {
        "id": "I5hcmaD1q9_g"
      },
      "execution_count": 3,
      "outputs": []
    },
    {
      "cell_type": "code",
      "execution_count": 1,
      "metadata": {
        "id": "VKcJjREvpr7Q"
      },
      "outputs": [],
      "source": [
        "#import albumentations as albs\n",
        "import os\n",
        "import torch\n",
        "import torch.nn as nn\n",
        "\n",
        "from glob import glob\n",
        "from torch import optim\n",
        "from torch.utils.data import DataLoader, Dataset\n",
        "from torchvision.transforms import ToTensor\n",
        "from IPython import display\n",
        "\n",
        "#from catalyst import dl, utils"
      ]
    },
    {
      "cell_type": "markdown",
      "source": [
        "## Download dataset"
      ],
      "metadata": {
        "id": "dxGci2D2p5sz"
      }
    },
    {
      "cell_type": "code",
      "source": [
        "!curl -JLO 'https://www.dropbox.com/scl/fi/gs3kzp6b8k6faf667m5tt/breast-cancer-cells-segmentation.zip?rlkey=md3mzikpwrvnaluxnhms7r4zn'\n",
        "!unzip breast-cancer-cells-segmentation.zip"
      ],
      "metadata": {
        "id": "4SFKpRCfp7kF",
        "outputId": "bf0c4e0b-ff44-4e32-9d21-fa1589d1412b",
        "colab": {
          "base_uri": "https://localhost:8080/"
        }
      },
      "execution_count": 2,
      "outputs": [
        {
          "output_type": "stream",
          "name": "stdout",
          "text": [
            "  % Total    % Received % Xferd  Average Speed   Time    Time     Time  Current\n",
            "                                 Dload  Upload   Total   Spent    Left  Speed\n",
            "100   256    0   256    0     0    335      0 --:--:-- --:--:-- --:--:--   335\n",
            "100   491    0   491    0     0    332      0 --:--:--  0:00:01 --:--:--   332\n",
            "100 93.6M  100 93.6M    0     0  31.9M      0  0:00:02  0:00:02 --:--:--  104M\n"
          ]
        }
      ]
    },
    {
      "cell_type": "markdown",
      "source": [
        "## EDA"
      ],
      "metadata": {
        "id": "O38iqK2tqEuO"
      }
    },
    {
      "cell_type": "code",
      "source": [
        "!unzip breast-cancer-cells-segmentation.zip"
      ],
      "metadata": {
        "id": "KynwlwcA-w-Y",
        "outputId": "3b27033a-9c5a-4780-8e66-29bc7cf70d17",
        "colab": {
          "base_uri": "https://localhost:8080/"
        }
      },
      "execution_count": 5,
      "outputs": [
        {
          "metadata": {
            "tags": null
          },
          "name": "stdout",
          "output_type": "stream",
          "text": [
            "Archive:  breast-cancer-cells-segmentation.zip\n",
            "  inflating: Images/ytma10_010704_benign1_ccd.tif  \n",
            "  inflating: Images/ytma10_010704_benign1_ccd.tif.xml  \n",
            "  inflating: Images/ytma10_010704_benign2_ccd.tif  \n",
            "  inflating: Images/ytma10_010704_benign2_ccd.tif.xml  \n",
            "  inflating: Images/ytma10_010704_benign3_ccd.tif  \n",
            "  inflating: Images/ytma10_010704_benign3_ccd.tif.xml  \n",
            "  inflating: Images/ytma10_010704_malignant1_ccd.tif  \n",
            "  inflating: Images/ytma10_010704_malignant1_ccd.tif.xml  \n",
            "  inflating: Images/ytma10_010704_malignant2_ccd.tif  \n",
            "  inflating: Images/ytma10_010704_malignant2_ccd.tif.xml  \n",
            "  inflating: Images/ytma10_010704_malignant3_ccd.tif  \n",
            "  inflating: Images/ytma10_010704_malignant3_ccd.tif.xml  \n",
            "  inflating: Images/ytma12_010804_benign1_ccd.tif  \n",
            "  inflating: Images/ytma12_010804_benign1_ccd.tif.xml  \n",
            "  inflating: Images/ytma12_010804_benign2_ccd.tif  \n",
            "  inflating: Images/ytma12_010804_benign2_ccd.tif.xml  \n",
            "  inflating: Images/ytma12_010804_benign3_ccd.tif  \n",
            "  inflating: Images/ytma12_010804_benign3_ccd.tif.xml  \n",
            "  inflating: Images/ytma12_010804_malignant1_ccd.tif  \n",
            "  inflating: Images/ytma12_010804_malignant1_ccd.tif.xml  \n",
            "  inflating: Images/ytma12_010804_malignant2_ccd.tif  \n",
            "  inflating: Images/ytma12_010804_malignant2_ccd.tif.xml  \n",
            "  inflating: Images/ytma12_010804_malignant3_ccd.tif  \n",
            "  inflating: Images/ytma12_010804_malignant3_ccd.tif.xml  \n",
            "  inflating: Images/ytma23_022103_benign1_ccd.tif  \n",
            "  inflating: Images/ytma23_022103_benign1_ccd.tif.xml  \n",
            "  inflating: Images/ytma23_022103_benign2_ccd.tif  \n",
            "  inflating: Images/ytma23_022103_benign2_ccd.tif.xml  \n",
            "  inflating: Images/ytma23_022103_benign3_ccd.tif  \n",
            "  inflating: Images/ytma23_022103_benign3_ccd.tif.xml  \n",
            "  inflating: Images/ytma23_022103_malignant1_ccd.tif  \n",
            "  inflating: Images/ytma23_022103_malignant1_ccd.tif.xml  \n",
            "  inflating: Images/ytma23_022103_malignant2_ccd.tif  \n",
            "  inflating: Images/ytma23_022103_malignant2_ccd.tif.xml  \n",
            "  inflating: Images/ytma23_022103_malignant3_ccd.tif  \n",
            "  inflating: Images/ytma23_022103_malignant3_ccd.tif.xml  \n",
            "  inflating: Images/ytma49_042003_benign1_ccd.tif  \n",
            "  inflating: Images/ytma49_042003_benign1_ccd.tif.xml  \n",
            "  inflating: Images/ytma49_042003_benign2_ccd.tif  \n",
            "  inflating: Images/ytma49_042003_benign2_ccd.tif.xml  \n",
            "  inflating: Images/ytma49_042003_benign3_ccd.tif  \n",
            "  inflating: Images/ytma49_042003_benign3_ccd.tif.xml  \n",
            "  inflating: Images/ytma49_042003_malignant1_ccd.tif  \n",
            "  inflating: Images/ytma49_042003_malignant1_ccd.tif.xml  \n",
            "  inflating: Images/ytma49_042003_malignant2_ccd.tif  \n",
            "  inflating: Images/ytma49_042003_malignant2_ccd.tif.xml  \n",
            "  inflating: Images/ytma49_042003_malignant3_ccd.tif  \n",
            "  inflating: Images/ytma49_042003_malignant3_ccd.tif.xml  \n",
            "  inflating: Images/ytma49_042203_benign1_ccd.tif  \n",
            "  inflating: Images/ytma49_042203_benign1_ccd.tif.xml  \n",
            "  inflating: Images/ytma49_042203_benign2_ccd.tif  \n",
            "  inflating: Images/ytma49_042203_benign2_ccd.tif.xml  \n",
            "  inflating: Images/ytma49_042203_benign3_ccd.tif  \n",
            "  inflating: Images/ytma49_042203_benign3_ccd.tif.xml  \n",
            "  inflating: Images/ytma49_042203_malignant1_ccd.tif  \n",
            "  inflating: Images/ytma49_042203_malignant1_ccd.tif.xml  \n",
            "  inflating: Images/ytma49_042203_malignant2_ccd.tif  \n",
            "  inflating: Images/ytma49_042203_malignant2_ccd.tif.xml  \n",
            "  inflating: Images/ytma49_042203_malignant3_ccd.tif  \n",
            "  inflating: Images/ytma49_042203_malignant3_ccd.tif.xml  \n",
            "  inflating: Images/ytma49_042403_benign1_ccd.tif  \n",
            "  inflating: Images/ytma49_042403_benign1_ccd.tif.xml  \n",
            "  inflating: Images/ytma49_042403_benign2_ccd.tif  \n",
            "  inflating: Images/ytma49_042403_benign2_ccd.tif.xml  \n",
            "  inflating: Images/ytma49_042403_benign3_ccd.tif  \n",
            "  inflating: Images/ytma49_042403_benign3_ccd.tif.xml  \n",
            "  inflating: Images/ytma49_042403_malignant1_ccd.tif  \n",
            "  inflating: Images/ytma49_042403_malignant1_ccd.tif.xml  \n",
            "  inflating: Images/ytma49_042403_malignant2_ccd.tif  \n",
            "  inflating: Images/ytma49_042403_malignant2_ccd.tif.xml  \n",
            "  inflating: Images/ytma49_042403_malignant3_ccd.tif  \n",
            "  inflating: Images/ytma49_042403_malignant3_ccd.tif.xml  \n",
            "  inflating: Images/ytma49_072303_benign1_ccd.tif  \n",
            "  inflating: Images/ytma49_072303_benign1_ccd.tif.xml  \n",
            "  inflating: Images/ytma49_072303_benign2_ccd.tif  \n",
            "  inflating: Images/ytma49_072303_benign2_ccd.tif.xml  \n",
            "  inflating: Images/ytma49_072303_malignant1_ccd.tif  \n",
            "  inflating: Images/ytma49_072303_malignant1_ccd.tif.xml  \n",
            "  inflating: Images/ytma49_072303_malignant2_ccd.tif  \n",
            "  inflating: Images/ytma49_072303_malignant2_ccd.tif.xml  \n",
            "  inflating: Images/ytma49_111003_benign1_ccd.tif  \n",
            "  inflating: Images/ytma49_111003_benign1_ccd.tif.xml  \n",
            "  inflating: Images/ytma49_111003_benign2_ccd.tif  \n",
            "  inflating: Images/ytma49_111003_benign2_ccd.tif.xml  \n",
            "  inflating: Images/ytma49_111003_benign3_ccd.tif  \n",
            "  inflating: Images/ytma49_111003_benign3_ccd.tif.xml  \n",
            "  inflating: Images/ytma49_111003_malignant1_ccd.tif  \n",
            "  inflating: Images/ytma49_111003_malignant1_ccd.tif.xml  \n",
            "  inflating: Images/ytma49_111003_malignant2_ccd.tif  \n",
            "  inflating: Images/ytma49_111003_malignant2_ccd.tif.xml  \n",
            "  inflating: Images/ytma49_111003_malignant3_ccd.tif  \n",
            "  inflating: Images/ytma49_111003_malignant3_ccd.tif.xml  \n",
            "  inflating: Images/ytma49_111303_benign1_ccd.tif  \n",
            "  inflating: Images/ytma49_111303_benign1_ccd.tif.xml  \n",
            "  inflating: Images/ytma49_111303_benign2_ccd.tif  \n",
            "  inflating: Images/ytma49_111303_benign2_ccd.tif.xml  \n",
            "  inflating: Images/ytma49_111303_benign3_ccd.tif  \n",
            "  inflating: Images/ytma49_111303_benign3_ccd.tif.xml  \n",
            "  inflating: Images/ytma49_111303_malignant1_ccd.tif  \n",
            "  inflating: Images/ytma49_111303_malignant1_ccd.tif.xml  \n",
            "  inflating: Images/ytma49_111303_malignant2_ccd.tif  \n",
            "  inflating: Images/ytma49_111303_malignant2_ccd.tif.xml  \n",
            "  inflating: Images/ytma49_111303_malignant3_ccd.tif  \n",
            "  inflating: Images/ytma49_111303_malignant3_ccd.tif.xml  \n",
            "  inflating: Images/ytma55_030603_benign1_ccd.tif  \n",
            "  inflating: Images/ytma55_030603_benign1_ccd.tif.xml  \n",
            "  inflating: Images/ytma55_030603_benign2_ccd.tif  \n",
            "  inflating: Images/ytma55_030603_benign2_ccd.tif.xml  \n",
            "  inflating: Images/ytma55_030603_benign3_ccd.tif  \n",
            "  inflating: Images/ytma55_030603_benign3_ccd.tif.xml  \n",
            "  inflating: Images/ytma55_030603_benign4_ccd.tif  \n",
            "  inflating: Images/ytma55_030603_benign4_ccd.tif.xml  \n",
            "  inflating: Images/ytma55_030603_benign5_ccd.tif  \n",
            "  inflating: Images/ytma55_030603_benign5_ccd.tif.xml  \n",
            "  inflating: Images/ytma55_030603_benign6_ccd.tif  \n",
            "  inflating: Images/ytma55_030603_benign6_ccd.tif.xml  \n",
            "  inflating: Masks/ytma10_010704_benign1.TIF  \n",
            "  inflating: Masks/ytma10_010704_benign1.TIF.xml  \n",
            "  inflating: Masks/ytma10_010704_benign2.TIF  \n",
            "  inflating: Masks/ytma10_010704_benign2.TIF.xml  \n",
            "  inflating: Masks/ytma10_010704_benign3.TIF  \n",
            "  inflating: Masks/ytma10_010704_benign3.TIF.xml  \n",
            "  inflating: Masks/ytma10_010704_malignant1.TIF  \n",
            "  inflating: Masks/ytma10_010704_malignant1.TIF.xml  \n",
            "  inflating: Masks/ytma10_010704_malignant2.TIF  \n",
            "  inflating: Masks/ytma10_010704_malignant2.TIF.xml  \n",
            "  inflating: Masks/ytma10_010704_malignant3.TIF  \n",
            "  inflating: Masks/ytma10_010704_malignant3.TIF.xml  \n",
            "  inflating: Masks/ytma12_010804_benign1.TIF  \n",
            "  inflating: Masks/ytma12_010804_benign1.TIF.xml  \n",
            "  inflating: Masks/ytma12_010804_benign2.TIF  \n",
            "  inflating: Masks/ytma12_010804_benign2.TIF.xml  \n",
            "  inflating: Masks/ytma12_010804_benign3.TIF  \n",
            "  inflating: Masks/ytma12_010804_benign3.TIF.xml  \n",
            "  inflating: Masks/ytma12_010804_malignant1.TIF  \n",
            "  inflating: Masks/ytma12_010804_malignant1.TIF.xml  \n",
            "  inflating: Masks/ytma12_010804_malignant2.TIF  \n",
            "  inflating: Masks/ytma12_010804_malignant2.TIF.xml  \n",
            "  inflating: Masks/ytma12_010804_malignant3.TIF  \n",
            "  inflating: Masks/ytma12_010804_malignant3.TIF.xml  \n",
            "  inflating: Masks/ytma23_022103_benign1.TIF  \n",
            "  inflating: Masks/ytma23_022103_benign1.TIF.xml  \n",
            "  inflating: Masks/ytma23_022103_benign2.TIF  \n",
            "  inflating: Masks/ytma23_022103_benign2.TIF.xml  \n",
            "  inflating: Masks/ytma23_022103_benign3.TIF  \n",
            "  inflating: Masks/ytma23_022103_benign3.TIF.xml  \n",
            "  inflating: Masks/ytma23_022103_malignant1.TIF  \n",
            "  inflating: Masks/ytma23_022103_malignant1.TIF.xml  \n",
            "  inflating: Masks/ytma23_022103_malignant2.TIF  \n",
            "  inflating: Masks/ytma23_022103_malignant2.TIF.xml  \n",
            "  inflating: Masks/ytma23_022103_malignant3.TIF  \n",
            "  inflating: Masks/ytma23_022103_malignant3.TIF.xml  \n",
            "  inflating: Masks/ytma49_042003_benign1.TIF  \n",
            "  inflating: Masks/ytma49_042003_benign1.TIF.xml  \n",
            "  inflating: Masks/ytma49_042003_benign2.TIF  \n",
            "  inflating: Masks/ytma49_042003_benign2.TIF.xml  \n",
            "  inflating: Masks/ytma49_042003_benign3.TIF  \n",
            "  inflating: Masks/ytma49_042003_benign3.TIF.xml  \n",
            "  inflating: Masks/ytma49_042003_malignant1.TIF  \n",
            "  inflating: Masks/ytma49_042003_malignant1.TIF.xml  \n",
            "  inflating: Masks/ytma49_042003_malignant2.TIF  \n",
            "  inflating: Masks/ytma49_042003_malignant2.TIF.xml  \n",
            "  inflating: Masks/ytma49_042003_malignant3.TIF  \n",
            "  inflating: Masks/ytma49_042003_malignant3.TIF.xml  \n",
            "  inflating: Masks/ytma49_042203_benign1.TIF  \n",
            "  inflating: Masks/ytma49_042203_benign1.TIF.xml  \n",
            "  inflating: Masks/ytma49_042203_benign2.TIF  \n",
            "  inflating: Masks/ytma49_042203_benign2.TIF.xml  \n",
            "  inflating: Masks/ytma49_042203_benign3.TIF  \n",
            "  inflating: Masks/ytma49_042203_benign3.TIF.xml  \n",
            "  inflating: Masks/ytma49_042203_malignant1.TIF  \n",
            "  inflating: Masks/ytma49_042203_malignant1.TIF.xml  \n",
            "  inflating: Masks/ytma49_042203_malignant2.TIF  \n",
            "  inflating: Masks/ytma49_042203_malignant2.TIF.xml  \n",
            "  inflating: Masks/ytma49_042203_malignant3.TIF  \n",
            "  inflating: Masks/ytma49_042203_malignant3.TIF.xml  \n",
            "  inflating: Masks/ytma49_042403_benign1.TIF  \n",
            "  inflating: Masks/ytma49_042403_benign1.TIF.xml  \n",
            "  inflating: Masks/ytma49_042403_benign2.TIF  \n",
            "  inflating: Masks/ytma49_042403_benign2.TIF.xml  \n",
            "  inflating: Masks/ytma49_042403_benign3.TIF  \n",
            "  inflating: Masks/ytma49_042403_benign3.TIF.xml  \n",
            "  inflating: Masks/ytma49_042403_malignant1.TIF  \n",
            "  inflating: Masks/ytma49_042403_malignant1.TIF.xml  \n",
            "  inflating: Masks/ytma49_042403_malignant2.TIF  \n",
            "  inflating: Masks/ytma49_042403_malignant2.TIF.xml  \n",
            "  inflating: Masks/ytma49_042403_malignant3.TIF  \n",
            "  inflating: Masks/ytma49_042403_malignant3.TIF.xml  \n",
            "  inflating: Masks/ytma49_072303_benign1.TIF  \n",
            "  inflating: Masks/ytma49_072303_benign1.TIF.xml  \n",
            "  inflating: Masks/ytma49_072303_benign2.TIF  \n",
            "  inflating: Masks/ytma49_072303_benign2.TIF.xml  \n",
            "  inflating: Masks/ytma49_072303_malignant1.TIF  \n",
            "  inflating: Masks/ytma49_072303_malignant1.TIF.xml  \n",
            "  inflating: Masks/ytma49_072303_malignant2.TIF  \n",
            "  inflating: Masks/ytma49_072303_malignant2.TIF.xml  \n",
            "  inflating: Masks/ytma49_111003_benign1.TIF  \n",
            "  inflating: Masks/ytma49_111003_benign1.TIF.xml  \n",
            "  inflating: Masks/ytma49_111003_benign2.TIF  \n",
            "  inflating: Masks/ytma49_111003_benign2.TIF.xml  \n",
            "  inflating: Masks/ytma49_111003_benign3.TIF  \n",
            "  inflating: Masks/ytma49_111003_benign3.TIF.xml  \n",
            "  inflating: Masks/ytma49_111003_malignant1.TIF  \n",
            "  inflating: Masks/ytma49_111003_malignant1.TIF.xml  \n",
            "  inflating: Masks/ytma49_111003_malignant2.TIF  \n",
            "  inflating: Masks/ytma49_111003_malignant2.TIF.xml  \n",
            "  inflating: Masks/ytma49_111003_malignant3.TIF  \n",
            "  inflating: Masks/ytma49_111003_malignant3.TIF.xml  \n",
            "  inflating: Masks/ytma49_111303_benign1.TIF  \n",
            "  inflating: Masks/ytma49_111303_benign1.TIF.xml  \n",
            "  inflating: Masks/ytma49_111303_benign2.TIF  \n",
            "  inflating: Masks/ytma49_111303_benign2.TIF.xml  \n",
            "  inflating: Masks/ytma49_111303_benign3.TIF  \n",
            "  inflating: Masks/ytma49_111303_benign3.TIF.xml  \n",
            "  inflating: Masks/ytma49_111303_malignant1.TIF  \n",
            "  inflating: Masks/ytma49_111303_malignant1.TIF.xml  \n",
            "  inflating: Masks/ytma49_111303_malignant2.TIF  \n",
            "  inflating: Masks/ytma49_111303_malignant2.TIF.xml  \n",
            "  inflating: Masks/ytma49_111303_malignant3.TIF  \n",
            "  inflating: Masks/ytma49_111303_malignant3.TIF.xml  \n",
            "  inflating: Masks/ytma55_030603_benign1.TIF  \n",
            "  inflating: Masks/ytma55_030603_benign1.TIF.xml  \n",
            "  inflating: Masks/ytma55_030603_benign2.TIF  \n",
            "  inflating: Masks/ytma55_030603_benign2.TIF.xml  \n",
            "  inflating: Masks/ytma55_030603_benign3.TIF  \n",
            "  inflating: Masks/ytma55_030603_benign3.TIF.xml  \n",
            "  inflating: Masks/ytma55_030603_benign4.TIF  \n",
            "  inflating: Masks/ytma55_030603_benign4.TIF.xml  \n",
            "  inflating: Masks/ytma55_030603_benign5.TIF  \n",
            "  inflating: Masks/ytma55_030603_benign5.TIF.xml  \n",
            "  inflating: Masks/ytma55_030603_benign6.TIF  \n",
            "  inflating: Masks/ytma55_030603_benign6.TIF.xml  \n"
          ]
        }
      ]
    },
    {
      "cell_type": "code",
      "source": [
        "imgs_paths = glob(os.path.join(\"/content/Images\", \"*.tif\"))"
      ],
      "metadata": {
        "id": "AYRjEmQqBi_e"
      },
      "execution_count": 16,
      "outputs": []
    },
    {
      "cell_type": "code",
      "source": [
        "print(os.getcwd())"
      ],
      "metadata": {
        "id": "hWQ1qRHTDQmY",
        "outputId": "c454b268-aef4-4f6a-d350-8f366d35a9fe",
        "colab": {
          "base_uri": "https://localhost:8080/"
        }
      },
      "execution_count": 15,
      "outputs": [
        {
          "output_type": "stream",
          "name": "stdout",
          "text": [
            "/content\n"
          ]
        }
      ]
    },
    {
      "cell_type": "code",
      "source": [
        "masks_paths = [os.path.join(\"/content/Masks\", i.rsplit(\"/\",1)[-1].split(\"_ccd\")[0]+\".TIF\") for i in imgs_paths]"
      ],
      "metadata": {
        "id": "l6d8ufsDBjwe"
      },
      "execution_count": 19,
      "outputs": []
    },
    {
      "cell_type": "code",
      "source": [
        "print(masks_paths)"
      ],
      "metadata": {
        "id": "gfzfGtiDCn4_",
        "outputId": "0283c8ce-a15c-4cb4-b123-5c30f2cea9d9",
        "colab": {
          "base_uri": "https://localhost:8080/"
        }
      },
      "execution_count": 21,
      "outputs": [
        {
          "output_type": "stream",
          "name": "stdout",
          "text": [
            "['/content/Masks/ytma49_072303_malignant2.TIF', '/content/Masks/ytma12_010804_malignant1.TIF', '/content/Masks/ytma49_111303_malignant3.TIF', '/content/Masks/ytma49_042203_malignant3.TIF', '/content/Masks/ytma23_022103_malignant3.TIF', '/content/Masks/ytma49_042003_benign1.TIF', '/content/Masks/ytma10_010704_malignant2.TIF', '/content/Masks/ytma49_111003_benign2.TIF', '/content/Masks/ytma49_072303_malignant1.TIF', '/content/Masks/ytma55_030603_benign3.TIF', '/content/Masks/ytma49_042003_benign2.TIF', '/content/Masks/ytma23_022103_malignant2.TIF', '/content/Masks/ytma49_111303_malignant1.TIF', '/content/Masks/ytma49_042203_malignant2.TIF', '/content/Masks/ytma49_042003_benign3.TIF', '/content/Masks/ytma49_042203_benign2.TIF', '/content/Masks/ytma49_042003_malignant1.TIF', '/content/Masks/ytma49_042403_malignant3.TIF', '/content/Masks/ytma23_022103_benign2.TIF', '/content/Masks/ytma10_010704_malignant3.TIF', '/content/Masks/ytma49_042403_benign3.TIF', '/content/Masks/ytma12_010804_malignant3.TIF', '/content/Masks/ytma49_111003_malignant1.TIF', '/content/Masks/ytma12_010804_benign2.TIF', '/content/Masks/ytma49_111303_benign3.TIF', '/content/Masks/ytma10_010704_benign3.TIF', '/content/Masks/ytma49_042003_malignant3.TIF', '/content/Masks/ytma49_111003_benign3.TIF', '/content/Masks/ytma49_042403_malignant2.TIF', '/content/Masks/ytma49_111003_malignant2.TIF', '/content/Masks/ytma49_042203_benign1.TIF', '/content/Masks/ytma10_010704_benign1.TIF', '/content/Masks/ytma55_030603_benign6.TIF', '/content/Masks/ytma23_022103_malignant1.TIF', '/content/Masks/ytma12_010804_malignant2.TIF', '/content/Masks/ytma49_042203_benign3.TIF', '/content/Masks/ytma12_010804_benign3.TIF', '/content/Masks/ytma55_030603_benign5.TIF', '/content/Masks/ytma49_111303_malignant2.TIF', '/content/Masks/ytma49_042003_malignant2.TIF', '/content/Masks/ytma23_022103_benign1.TIF', '/content/Masks/ytma49_072303_benign1.TIF', '/content/Masks/ytma49_042403_benign1.TIF', '/content/Masks/ytma10_010704_benign2.TIF', '/content/Masks/ytma49_042403_malignant1.TIF', '/content/Masks/ytma49_111303_benign2.TIF', '/content/Masks/ytma55_030603_benign4.TIF', '/content/Masks/ytma55_030603_benign2.TIF', '/content/Masks/ytma49_111003_malignant3.TIF', '/content/Masks/ytma23_022103_benign3.TIF', '/content/Masks/ytma12_010804_benign1.TIF', '/content/Masks/ytma55_030603_benign1.TIF', '/content/Masks/ytma49_042403_benign2.TIF', '/content/Masks/ytma49_042203_malignant1.TIF', '/content/Masks/ytma49_111303_benign1.TIF', '/content/Masks/ytma10_010704_malignant1.TIF', '/content/Masks/ytma49_111003_benign1.TIF', '/content/Masks/ytma49_072303_benign2.TIF']\n"
          ]
        }
      ]
    },
    {
      "cell_type": "markdown",
      "source": [
        "## Write Dataloaders and transform data"
      ],
      "metadata": {
        "id": "vLylWtVwqAzQ"
      }
    }
  ]
}