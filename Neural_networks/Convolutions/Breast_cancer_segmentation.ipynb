{
  "nbformat": 4,
  "nbformat_minor": 0,
  "metadata": {
    "colab": {
      "provenance": [],
      "authorship_tag": "ABX9TyMWfU1dIOBsQlvrF74RIOaq",
      "include_colab_link": true
    },
    "kernelspec": {
      "name": "python3",
      "display_name": "Python 3"
    },
    "language_info": {
      "name": "python"
    }
  },
  "cells": [
    {
      "cell_type": "markdown",
      "metadata": {
        "id": "view-in-github",
        "colab_type": "text"
      },
      "source": [
        "<a href=\"https://colab.research.google.com/github/Dimildizio/DS_course/blob/main/Neural_networks/Convolutions/Breast_cancer_segmentation.ipynb\" target=\"_parent\"><img src=\"https://colab.research.google.com/assets/colab-badge.svg\" alt=\"Open In Colab\"/></a>"
      ]
    },
    {
      "cell_type": "markdown",
      "source": [
        "# Breast cancer segmentation"
      ],
      "metadata": {
        "id": "_tefKznypsjC"
      }
    },
    {
      "cell_type": "markdown",
      "source": [
        "## Installs & Imports"
      ],
      "metadata": {
        "id": "jTv3BR0Kpy-V"
      }
    },
    {
      "cell_type": "code",
      "source": [
        "%%capture\n",
        "#pip install catalyst"
      ],
      "metadata": {
        "id": "I5hcmaD1q9_g"
      },
      "execution_count": 1,
      "outputs": []
    },
    {
      "cell_type": "code",
      "execution_count": 2,
      "metadata": {
        "id": "VKcJjREvpr7Q"
      },
      "outputs": [],
      "source": [
        "#import albumentations as albs\n",
        "import cv2\n",
        "import io\n",
        "import os\n",
        "import random\n",
        "import torch\n",
        "import torch.nn as nn\n",
        "import torch.nn.functional as F\n",
        "\n",
        "from glob import glob\n",
        "from sklearn.model_selection import train_test_split\n",
        "from torch import optim\n",
        "from torch.utils.data import DataLoader, Dataset\n",
        "from torchvision.transforms import ToTensor\n",
        "from IPython import display\n",
        "\n",
        "#from catalyst import dl, utils"
      ]
    },
    {
      "cell_type": "markdown",
      "source": [
        "## Download dataset"
      ],
      "metadata": {
        "id": "dxGci2D2p5sz"
      }
    },
    {
      "cell_type": "code",
      "source": [
        "!curl -JLO 'https://www.dropbox.com/scl/fi/gs3kzp6b8k6faf667m5tt/breast-cancer-cells-segmentation.zip?rlkey=md3mzikpwrvnaluxnhms7r4zn'\n",
        "!unzip breast-cancer-cells-segmentation.zip"
      ],
      "metadata": {
        "id": "4SFKpRCfp7kF",
        "colab": {
          "base_uri": "https://localhost:8080/"
        },
        "outputId": "a765578a-2571-4aca-9596-dcc31e330af8"
      },
      "execution_count": 3,
      "outputs": [
        {
          "output_type": "stream",
          "name": "stdout",
          "text": [
            "  % Total    % Received % Xferd  Average Speed   Time    Time     Time  Current\n",
            "                                 Dload  Upload   Total   Spent    Left  Speed\n",
            "100   256    0   256    0     0    300      0 --:--:-- --:--:-- --:--:--   300\n",
            "100   491    0   491    0     0    254      0 --:--:--  0:00:01 --:--:--     0\n",
            "100 93.6M  100 93.6M    0     0  17.8M      0  0:00:05  0:00:05 --:--:-- 34.4M\n",
            "Archive:  breast-cancer-cells-segmentation.zip\n",
            "  inflating: Images/ytma10_010704_benign1_ccd.tif  \n",
            "  inflating: Images/ytma10_010704_benign1_ccd.tif.xml  \n",
            "  inflating: Images/ytma10_010704_benign2_ccd.tif  \n",
            "  inflating: Images/ytma10_010704_benign2_ccd.tif.xml  \n",
            "  inflating: Images/ytma10_010704_benign3_ccd.tif  \n",
            "  inflating: Images/ytma10_010704_benign3_ccd.tif.xml  \n",
            "  inflating: Images/ytma10_010704_malignant1_ccd.tif  \n",
            "  inflating: Images/ytma10_010704_malignant1_ccd.tif.xml  \n",
            "  inflating: Images/ytma10_010704_malignant2_ccd.tif  \n",
            "  inflating: Images/ytma10_010704_malignant2_ccd.tif.xml  \n",
            "  inflating: Images/ytma10_010704_malignant3_ccd.tif  \n",
            "  inflating: Images/ytma10_010704_malignant3_ccd.tif.xml  \n",
            "  inflating: Images/ytma12_010804_benign1_ccd.tif  \n",
            "  inflating: Images/ytma12_010804_benign1_ccd.tif.xml  \n",
            "  inflating: Images/ytma12_010804_benign2_ccd.tif  \n",
            "  inflating: Images/ytma12_010804_benign2_ccd.tif.xml  \n",
            "  inflating: Images/ytma12_010804_benign3_ccd.tif  \n",
            "  inflating: Images/ytma12_010804_benign3_ccd.tif.xml  \n",
            "  inflating: Images/ytma12_010804_malignant1_ccd.tif  \n",
            "  inflating: Images/ytma12_010804_malignant1_ccd.tif.xml  \n",
            "  inflating: Images/ytma12_010804_malignant2_ccd.tif  \n",
            "  inflating: Images/ytma12_010804_malignant2_ccd.tif.xml  \n",
            "  inflating: Images/ytma12_010804_malignant3_ccd.tif  \n",
            "  inflating: Images/ytma12_010804_malignant3_ccd.tif.xml  \n",
            "  inflating: Images/ytma23_022103_benign1_ccd.tif  \n",
            "  inflating: Images/ytma23_022103_benign1_ccd.tif.xml  \n",
            "  inflating: Images/ytma23_022103_benign2_ccd.tif  \n",
            "  inflating: Images/ytma23_022103_benign2_ccd.tif.xml  \n",
            "  inflating: Images/ytma23_022103_benign3_ccd.tif  \n",
            "  inflating: Images/ytma23_022103_benign3_ccd.tif.xml  \n",
            "  inflating: Images/ytma23_022103_malignant1_ccd.tif  \n",
            "  inflating: Images/ytma23_022103_malignant1_ccd.tif.xml  \n",
            "  inflating: Images/ytma23_022103_malignant2_ccd.tif  \n",
            "  inflating: Images/ytma23_022103_malignant2_ccd.tif.xml  \n",
            "  inflating: Images/ytma23_022103_malignant3_ccd.tif  \n",
            "  inflating: Images/ytma23_022103_malignant3_ccd.tif.xml  \n",
            "  inflating: Images/ytma49_042003_benign1_ccd.tif  \n",
            "  inflating: Images/ytma49_042003_benign1_ccd.tif.xml  \n",
            "  inflating: Images/ytma49_042003_benign2_ccd.tif  \n",
            "  inflating: Images/ytma49_042003_benign2_ccd.tif.xml  \n",
            "  inflating: Images/ytma49_042003_benign3_ccd.tif  \n",
            "  inflating: Images/ytma49_042003_benign3_ccd.tif.xml  \n",
            "  inflating: Images/ytma49_042003_malignant1_ccd.tif  \n",
            "  inflating: Images/ytma49_042003_malignant1_ccd.tif.xml  \n",
            "  inflating: Images/ytma49_042003_malignant2_ccd.tif  \n",
            "  inflating: Images/ytma49_042003_malignant2_ccd.tif.xml  \n",
            "  inflating: Images/ytma49_042003_malignant3_ccd.tif  \n",
            "  inflating: Images/ytma49_042003_malignant3_ccd.tif.xml  \n",
            "  inflating: Images/ytma49_042203_benign1_ccd.tif  \n",
            "  inflating: Images/ytma49_042203_benign1_ccd.tif.xml  \n",
            "  inflating: Images/ytma49_042203_benign2_ccd.tif  \n",
            "  inflating: Images/ytma49_042203_benign2_ccd.tif.xml  \n",
            "  inflating: Images/ytma49_042203_benign3_ccd.tif  \n",
            "  inflating: Images/ytma49_042203_benign3_ccd.tif.xml  \n",
            "  inflating: Images/ytma49_042203_malignant1_ccd.tif  \n",
            "  inflating: Images/ytma49_042203_malignant1_ccd.tif.xml  \n",
            "  inflating: Images/ytma49_042203_malignant2_ccd.tif  \n",
            "  inflating: Images/ytma49_042203_malignant2_ccd.tif.xml  \n",
            "  inflating: Images/ytma49_042203_malignant3_ccd.tif  \n",
            "  inflating: Images/ytma49_042203_malignant3_ccd.tif.xml  \n",
            "  inflating: Images/ytma49_042403_benign1_ccd.tif  \n",
            "  inflating: Images/ytma49_042403_benign1_ccd.tif.xml  \n",
            "  inflating: Images/ytma49_042403_benign2_ccd.tif  \n",
            "  inflating: Images/ytma49_042403_benign2_ccd.tif.xml  \n",
            "  inflating: Images/ytma49_042403_benign3_ccd.tif  \n",
            "  inflating: Images/ytma49_042403_benign3_ccd.tif.xml  \n",
            "  inflating: Images/ytma49_042403_malignant1_ccd.tif  \n",
            "  inflating: Images/ytma49_042403_malignant1_ccd.tif.xml  \n",
            "  inflating: Images/ytma49_042403_malignant2_ccd.tif  \n",
            "  inflating: Images/ytma49_042403_malignant2_ccd.tif.xml  \n",
            "  inflating: Images/ytma49_042403_malignant3_ccd.tif  \n",
            "  inflating: Images/ytma49_042403_malignant3_ccd.tif.xml  \n",
            "  inflating: Images/ytma49_072303_benign1_ccd.tif  \n",
            "  inflating: Images/ytma49_072303_benign1_ccd.tif.xml  \n",
            "  inflating: Images/ytma49_072303_benign2_ccd.tif  \n",
            "  inflating: Images/ytma49_072303_benign2_ccd.tif.xml  \n",
            "  inflating: Images/ytma49_072303_malignant1_ccd.tif  \n",
            "  inflating: Images/ytma49_072303_malignant1_ccd.tif.xml  \n",
            "  inflating: Images/ytma49_072303_malignant2_ccd.tif  \n",
            "  inflating: Images/ytma49_072303_malignant2_ccd.tif.xml  \n",
            "  inflating: Images/ytma49_111003_benign1_ccd.tif  \n",
            "  inflating: Images/ytma49_111003_benign1_ccd.tif.xml  \n",
            "  inflating: Images/ytma49_111003_benign2_ccd.tif  \n",
            "  inflating: Images/ytma49_111003_benign2_ccd.tif.xml  \n",
            "  inflating: Images/ytma49_111003_benign3_ccd.tif  \n",
            "  inflating: Images/ytma49_111003_benign3_ccd.tif.xml  \n",
            "  inflating: Images/ytma49_111003_malignant1_ccd.tif  \n",
            "  inflating: Images/ytma49_111003_malignant1_ccd.tif.xml  \n",
            "  inflating: Images/ytma49_111003_malignant2_ccd.tif  \n",
            "  inflating: Images/ytma49_111003_malignant2_ccd.tif.xml  \n",
            "  inflating: Images/ytma49_111003_malignant3_ccd.tif  \n",
            "  inflating: Images/ytma49_111003_malignant3_ccd.tif.xml  \n",
            "  inflating: Images/ytma49_111303_benign1_ccd.tif  \n",
            "  inflating: Images/ytma49_111303_benign1_ccd.tif.xml  \n",
            "  inflating: Images/ytma49_111303_benign2_ccd.tif  \n",
            "  inflating: Images/ytma49_111303_benign2_ccd.tif.xml  \n",
            "  inflating: Images/ytma49_111303_benign3_ccd.tif  \n",
            "  inflating: Images/ytma49_111303_benign3_ccd.tif.xml  \n",
            "  inflating: Images/ytma49_111303_malignant1_ccd.tif  \n",
            "  inflating: Images/ytma49_111303_malignant1_ccd.tif.xml  \n",
            "  inflating: Images/ytma49_111303_malignant2_ccd.tif  \n",
            "  inflating: Images/ytma49_111303_malignant2_ccd.tif.xml  \n",
            "  inflating: Images/ytma49_111303_malignant3_ccd.tif  \n",
            "  inflating: Images/ytma49_111303_malignant3_ccd.tif.xml  \n",
            "  inflating: Images/ytma55_030603_benign1_ccd.tif  \n",
            "  inflating: Images/ytma55_030603_benign1_ccd.tif.xml  \n",
            "  inflating: Images/ytma55_030603_benign2_ccd.tif  \n",
            "  inflating: Images/ytma55_030603_benign2_ccd.tif.xml  \n",
            "  inflating: Images/ytma55_030603_benign3_ccd.tif  \n",
            "  inflating: Images/ytma55_030603_benign3_ccd.tif.xml  \n",
            "  inflating: Images/ytma55_030603_benign4_ccd.tif  \n",
            "  inflating: Images/ytma55_030603_benign4_ccd.tif.xml  \n",
            "  inflating: Images/ytma55_030603_benign5_ccd.tif  \n",
            "  inflating: Images/ytma55_030603_benign5_ccd.tif.xml  \n",
            "  inflating: Images/ytma55_030603_benign6_ccd.tif  \n",
            "  inflating: Images/ytma55_030603_benign6_ccd.tif.xml  \n",
            "  inflating: Masks/ytma10_010704_benign1.TIF  \n",
            "  inflating: Masks/ytma10_010704_benign1.TIF.xml  \n",
            "  inflating: Masks/ytma10_010704_benign2.TIF  \n",
            "  inflating: Masks/ytma10_010704_benign2.TIF.xml  \n",
            "  inflating: Masks/ytma10_010704_benign3.TIF  \n",
            "  inflating: Masks/ytma10_010704_benign3.TIF.xml  \n",
            "  inflating: Masks/ytma10_010704_malignant1.TIF  \n",
            "  inflating: Masks/ytma10_010704_malignant1.TIF.xml  \n",
            "  inflating: Masks/ytma10_010704_malignant2.TIF  \n",
            "  inflating: Masks/ytma10_010704_malignant2.TIF.xml  \n",
            "  inflating: Masks/ytma10_010704_malignant3.TIF  \n",
            "  inflating: Masks/ytma10_010704_malignant3.TIF.xml  \n",
            "  inflating: Masks/ytma12_010804_benign1.TIF  \n",
            "  inflating: Masks/ytma12_010804_benign1.TIF.xml  \n",
            "  inflating: Masks/ytma12_010804_benign2.TIF  \n",
            "  inflating: Masks/ytma12_010804_benign2.TIF.xml  \n",
            "  inflating: Masks/ytma12_010804_benign3.TIF  \n",
            "  inflating: Masks/ytma12_010804_benign3.TIF.xml  \n",
            "  inflating: Masks/ytma12_010804_malignant1.TIF  \n",
            "  inflating: Masks/ytma12_010804_malignant1.TIF.xml  \n",
            "  inflating: Masks/ytma12_010804_malignant2.TIF  \n",
            "  inflating: Masks/ytma12_010804_malignant2.TIF.xml  \n",
            "  inflating: Masks/ytma12_010804_malignant3.TIF  \n",
            "  inflating: Masks/ytma12_010804_malignant3.TIF.xml  \n",
            "  inflating: Masks/ytma23_022103_benign1.TIF  \n",
            "  inflating: Masks/ytma23_022103_benign1.TIF.xml  \n",
            "  inflating: Masks/ytma23_022103_benign2.TIF  \n",
            "  inflating: Masks/ytma23_022103_benign2.TIF.xml  \n",
            "  inflating: Masks/ytma23_022103_benign3.TIF  \n",
            "  inflating: Masks/ytma23_022103_benign3.TIF.xml  \n",
            "  inflating: Masks/ytma23_022103_malignant1.TIF  \n",
            "  inflating: Masks/ytma23_022103_malignant1.TIF.xml  \n",
            "  inflating: Masks/ytma23_022103_malignant2.TIF  \n",
            "  inflating: Masks/ytma23_022103_malignant2.TIF.xml  \n",
            "  inflating: Masks/ytma23_022103_malignant3.TIF  \n",
            "  inflating: Masks/ytma23_022103_malignant3.TIF.xml  \n",
            "  inflating: Masks/ytma49_042003_benign1.TIF  \n",
            "  inflating: Masks/ytma49_042003_benign1.TIF.xml  \n",
            "  inflating: Masks/ytma49_042003_benign2.TIF  \n",
            "  inflating: Masks/ytma49_042003_benign2.TIF.xml  \n",
            "  inflating: Masks/ytma49_042003_benign3.TIF  \n",
            "  inflating: Masks/ytma49_042003_benign3.TIF.xml  \n",
            "  inflating: Masks/ytma49_042003_malignant1.TIF  \n",
            "  inflating: Masks/ytma49_042003_malignant1.TIF.xml  \n",
            "  inflating: Masks/ytma49_042003_malignant2.TIF  \n",
            "  inflating: Masks/ytma49_042003_malignant2.TIF.xml  \n",
            "  inflating: Masks/ytma49_042003_malignant3.TIF  \n",
            "  inflating: Masks/ytma49_042003_malignant3.TIF.xml  \n",
            "  inflating: Masks/ytma49_042203_benign1.TIF  \n",
            "  inflating: Masks/ytma49_042203_benign1.TIF.xml  \n",
            "  inflating: Masks/ytma49_042203_benign2.TIF  \n",
            "  inflating: Masks/ytma49_042203_benign2.TIF.xml  \n",
            "  inflating: Masks/ytma49_042203_benign3.TIF  \n",
            "  inflating: Masks/ytma49_042203_benign3.TIF.xml  \n",
            "  inflating: Masks/ytma49_042203_malignant1.TIF  \n",
            "  inflating: Masks/ytma49_042203_malignant1.TIF.xml  \n",
            "  inflating: Masks/ytma49_042203_malignant2.TIF  \n",
            "  inflating: Masks/ytma49_042203_malignant2.TIF.xml  \n",
            "  inflating: Masks/ytma49_042203_malignant3.TIF  \n",
            "  inflating: Masks/ytma49_042203_malignant3.TIF.xml  \n",
            "  inflating: Masks/ytma49_042403_benign1.TIF  \n",
            "  inflating: Masks/ytma49_042403_benign1.TIF.xml  \n",
            "  inflating: Masks/ytma49_042403_benign2.TIF  \n",
            "  inflating: Masks/ytma49_042403_benign2.TIF.xml  \n",
            "  inflating: Masks/ytma49_042403_benign3.TIF  \n",
            "  inflating: Masks/ytma49_042403_benign3.TIF.xml  \n",
            "  inflating: Masks/ytma49_042403_malignant1.TIF  \n",
            "  inflating: Masks/ytma49_042403_malignant1.TIF.xml  \n",
            "  inflating: Masks/ytma49_042403_malignant2.TIF  \n",
            "  inflating: Masks/ytma49_042403_malignant2.TIF.xml  \n",
            "  inflating: Masks/ytma49_042403_malignant3.TIF  \n",
            "  inflating: Masks/ytma49_042403_malignant3.TIF.xml  \n",
            "  inflating: Masks/ytma49_072303_benign1.TIF  \n",
            "  inflating: Masks/ytma49_072303_benign1.TIF.xml  \n",
            "  inflating: Masks/ytma49_072303_benign2.TIF  \n",
            "  inflating: Masks/ytma49_072303_benign2.TIF.xml  \n",
            "  inflating: Masks/ytma49_072303_malignant1.TIF  \n",
            "  inflating: Masks/ytma49_072303_malignant1.TIF.xml  \n",
            "  inflating: Masks/ytma49_072303_malignant2.TIF  \n",
            "  inflating: Masks/ytma49_072303_malignant2.TIF.xml  \n",
            "  inflating: Masks/ytma49_111003_benign1.TIF  \n",
            "  inflating: Masks/ytma49_111003_benign1.TIF.xml  \n",
            "  inflating: Masks/ytma49_111003_benign2.TIF  \n",
            "  inflating: Masks/ytma49_111003_benign2.TIF.xml  \n",
            "  inflating: Masks/ytma49_111003_benign3.TIF  \n",
            "  inflating: Masks/ytma49_111003_benign3.TIF.xml  \n",
            "  inflating: Masks/ytma49_111003_malignant1.TIF  \n",
            "  inflating: Masks/ytma49_111003_malignant1.TIF.xml  \n",
            "  inflating: Masks/ytma49_111003_malignant2.TIF  \n",
            "  inflating: Masks/ytma49_111003_malignant2.TIF.xml  \n",
            "  inflating: Masks/ytma49_111003_malignant3.TIF  \n",
            "  inflating: Masks/ytma49_111003_malignant3.TIF.xml  \n",
            "  inflating: Masks/ytma49_111303_benign1.TIF  \n",
            "  inflating: Masks/ytma49_111303_benign1.TIF.xml  \n",
            "  inflating: Masks/ytma49_111303_benign2.TIF  \n",
            "  inflating: Masks/ytma49_111303_benign2.TIF.xml  \n",
            "  inflating: Masks/ytma49_111303_benign3.TIF  \n",
            "  inflating: Masks/ytma49_111303_benign3.TIF.xml  \n",
            "  inflating: Masks/ytma49_111303_malignant1.TIF  \n",
            "  inflating: Masks/ytma49_111303_malignant1.TIF.xml  \n",
            "  inflating: Masks/ytma49_111303_malignant2.TIF  \n",
            "  inflating: Masks/ytma49_111303_malignant2.TIF.xml  \n",
            "  inflating: Masks/ytma49_111303_malignant3.TIF  \n",
            "  inflating: Masks/ytma49_111303_malignant3.TIF.xml  \n",
            "  inflating: Masks/ytma55_030603_benign1.TIF  \n",
            "  inflating: Masks/ytma55_030603_benign1.TIF.xml  \n",
            "  inflating: Masks/ytma55_030603_benign2.TIF  \n",
            "  inflating: Masks/ytma55_030603_benign2.TIF.xml  \n",
            "  inflating: Masks/ytma55_030603_benign3.TIF  \n",
            "  inflating: Masks/ytma55_030603_benign3.TIF.xml  \n",
            "  inflating: Masks/ytma55_030603_benign4.TIF  \n",
            "  inflating: Masks/ytma55_030603_benign4.TIF.xml  \n",
            "  inflating: Masks/ytma55_030603_benign5.TIF  \n",
            "  inflating: Masks/ytma55_030603_benign5.TIF.xml  \n",
            "  inflating: Masks/ytma55_030603_benign6.TIF  \n",
            "  inflating: Masks/ytma55_030603_benign6.TIF.xml  \n"
          ]
        }
      ]
    },
    {
      "cell_type": "markdown",
      "source": [
        "## EDA"
      ],
      "metadata": {
        "id": "O38iqK2tqEuO"
      }
    },
    {
      "cell_type": "code",
      "source": [
        "!unzip breast-cancer-cells-segmentation.zip"
      ],
      "metadata": {
        "colab": {
          "base_uri": "https://localhost:8080/"
        },
        "id": "KynwlwcA-w-Y",
        "outputId": "64c98bbb-3ae0-49a3-d6c2-d89a0576ef76"
      },
      "execution_count": null,
      "outputs": [
        {
          "output_type": "stream",
          "name": "stdout",
          "text": [
            "Archive:  breast-cancer-cells-segmentation.zip\n",
            "replace Images/ytma10_010704_benign1_ccd.tif? [y]es, [n]o, [A]ll, [N]one, [r]ename: "
          ]
        }
      ]
    },
    {
      "cell_type": "code",
      "source": [
        "imgs = glob(os.path.join(\"/content/Images\", \"*.tif\"))"
      ],
      "metadata": {
        "id": "AYRjEmQqBi_e"
      },
      "execution_count": null,
      "outputs": []
    },
    {
      "cell_type": "code",
      "source": [
        "print(os.getcwd())"
      ],
      "metadata": {
        "id": "hWQ1qRHTDQmY"
      },
      "execution_count": null,
      "outputs": []
    },
    {
      "cell_type": "code",
      "source": [
        "masks = [os.path.join(\"/content/Masks\", i.rsplit(\"/\",1)[-1].split(\"_ccd\")[0]+\".TIF\") for i in imgs]"
      ],
      "metadata": {
        "id": "l6d8ufsDBjwe"
      },
      "execution_count": null,
      "outputs": []
    },
    {
      "cell_type": "code",
      "source": [
        "print(masks)"
      ],
      "metadata": {
        "id": "gfzfGtiDCn4_"
      },
      "execution_count": null,
      "outputs": []
    },
    {
      "cell_type": "code",
      "source": [
        "dataset_tuples = list(zip(imgs, masks))\n",
        "random.shuffle(dataset_tuples)\n",
        "train_tuples, test_tuples = train_test_split(dataset_tuples)"
      ],
      "metadata": {
        "id": "PqO6GonPNSA9"
      },
      "execution_count": null,
      "outputs": []
    },
    {
      "cell_type": "code",
      "source": [],
      "metadata": {
        "id": "fs8Rkhu9NSSv"
      },
      "execution_count": null,
      "outputs": []
    },
    {
      "cell_type": "markdown",
      "source": [
        "## Write Dataloaders and transform data"
      ],
      "metadata": {
        "id": "vLylWtVwqAzQ"
      }
    },
    {
      "cell_type": "code",
      "source": [
        "SIZE = 512"
      ],
      "metadata": {
        "id": "ZYWACgIaQYYC"
      },
      "execution_count": null,
      "outputs": []
    },
    {
      "cell_type": "code",
      "source": [
        "class BreastDataset(Dataset):\n",
        "\n",
        "    def __init__(self, img_mask):\n",
        "        self.img_mask = img_mask\n",
        "\n",
        "    def __len__(self,):\n",
        "        return len(self.img_mask)\n",
        "\n",
        "    def __getitem__(self, idx):\n",
        "        img_path, mask_path = self.img_mask[idx]\n",
        "        image = self.get_transform(img_path)\n",
        "        mask = self.get_transform(mask_path, normalize=False)\n",
        "        mask[mask > 0] = 1\n",
        "        return image,mask\n",
        "\n",
        "    def transform_image(self, path, normalize=True,resize=(SIZE, SIZE)):\n",
        "       image = io.imread(path)\n",
        "       image = cv2.cvtColor(image, cv2.COLOR_BGR2RGB)\n",
        "       image = cv2.resize(image, resize)\n",
        "       if normalize:\n",
        "          return image/255\n",
        "       return image"
      ],
      "metadata": {
        "id": "3swsl_vkQQvg"
      },
      "execution_count": null,
      "outputs": []
    },
    {
      "cell_type": "code",
      "source": [
        "train_dataset = BreastDataset(train_tuples)\n",
        "test_dataset = BreastDataset(test_tuples)\n",
        "\n",
        "train_loader = DataLoader(train_dataset, batch_size=16, shuffle=True)\n",
        "test_loader = DataLoader(test_dataset, batch_size=16, shuffle=False)"
      ],
      "metadata": {
        "id": "rbjzHisXQnSX"
      },
      "execution_count": null,
      "outputs": []
    },
    {
      "cell_type": "code",
      "source": [],
      "metadata": {
        "id": "4zCL5HoWTTJ4"
      },
      "execution_count": null,
      "outputs": []
    },
    {
      "cell_type": "markdown",
      "source": [
        "## Get unet model"
      ],
      "metadata": {
        "id": "-fKXCx1zh3Rl"
      }
    },
    {
      "cell_type": "markdown",
      "source": [
        "#### Create double convolution block"
      ],
      "metadata": {
        "id": "p7A_ib86iwl6"
      }
    },
    {
      "cell_type": "code",
      "source": [
        "class DoubleConv(nn.Module)\n",
        "    def __init__(self, inch, ouch, kernel=3, padding=1):\n",
        "        super(DoubleConv, self).__init__()\n",
        "        self.conv = nn.Sequential(\n",
        "            nn.Conv2d(inch, ouch, kernel, padding=padding),\n",
        "            nn.BatchNorm2d(ouch),\n",
        "            nn.ReLU(inplace=True),\n",
        "            nn.Conv2d(ouch, ouch, kernel, padding=padding),\n",
        "            nn.BatchNorm2d(ouch),\n",
        "            nn.ReLU(inplace=True))\n",
        "\n",
        "    def forward(self, x):\n",
        "        x = self.conv(x)\n",
        "        return x"
      ],
      "metadata": {
        "id": "d0MeCXdhTTY9"
      },
      "execution_count": null,
      "outputs": []
    },
    {
      "cell_type": "code",
      "source": [
        "class Encoder(nn.Module):\n",
        "  def __init__(self, inch, ouch):\n",
        "    super().__init__()\n",
        "    self.enconv = nn.Sequential(nn.MaxPool2d(2),\n",
        "                                DoubleConv(inch, ouch))\n",
        "\n",
        "    def forward(self,x):\n",
        "      x = self.enconv(x)\n",
        "      return x"
      ],
      "metadata": {
        "colab": {
          "base_uri": "https://localhost:8080/",
          "height": 109
        },
        "id": "ogVVtNrRTC2p",
        "outputId": "e5bd7ebc-746d-4e68-def3-da2ae55f224a"
      },
      "execution_count": 1,
      "outputs": [
        {
          "output_type": "error",
          "ename": "SyntaxError",
          "evalue": "invalid syntax (<ipython-input-1-198ea377f0ee>, line 2)",
          "traceback": [
            "\u001b[0;36m  File \u001b[0;32m\"<ipython-input-1-198ea377f0ee>\"\u001b[0;36m, line \u001b[0;32m2\u001b[0m\n\u001b[0;31m    def __i\u001b[0m\n\u001b[0m           ^\u001b[0m\n\u001b[0;31mSyntaxError\u001b[0m\u001b[0;31m:\u001b[0m invalid syntax\n"
          ]
        }
      ]
    },
    {
      "cell_type": "code",
      "source": [
        "class Decoder(nn.Module):\n",
        "  def __init__(self, inch, ouch):\n",
        "    super().__init__()\n",
        "    self.upscaler = nn.ConvTranspose2d(inch, ouch//2, kernel_size=2, stride=2)\n",
        "    self.conv = DoubleConv(inch, ouch)\n",
        "\n",
        "\n",
        "    def forward(self, x1, x2):\n",
        "      x1 = self.upscaler(x1)\n",
        "      x1s = x1.size()\n",
        "      x2s = x2.size()\n",
        "      Xdiff = x2s[3] - x1s[3]\n",
        "      Ydiff = x2s[2] - x1s[2]\n",
        "      mdiffX = Xdiff - Xdiff//2\n",
        "      mdiffY = Ydiff - Ydiff//2\n",
        "      x1 = F.pad(x1, [Xdiff//2, mdiffX, Ydiff//2, mdiffY])\n",
        "      x = torch.cat([x2, x1], dim=1)\n",
        "      x = self.conv(x)\n",
        "      return x"
      ],
      "metadata": {
        "colab": {
          "base_uri": "https://localhost:8080/",
          "height": 271
        },
        "id": "WJsfa1viV9Pg",
        "outputId": "6bbc4885-49d9-42d6-f174-3062174f23a0"
      },
      "execution_count": 3,
      "outputs": [
        {
          "output_type": "error",
          "ename": "NameError",
          "evalue": "name 'nn' is not defined",
          "traceback": [
            "\u001b[0;31m---------------------------------------------------------------------------\u001b[0m",
            "\u001b[0;31mNameError\u001b[0m                                 Traceback (most recent call last)",
            "\u001b[0;32m<ipython-input-3-8b2e03efc8f0>\u001b[0m in \u001b[0;36m<cell line: 1>\u001b[0;34m()\u001b[0m\n\u001b[0;32m----> 1\u001b[0;31m \u001b[0;32mclass\u001b[0m \u001b[0mDecoder\u001b[0m\u001b[0;34m(\u001b[0m\u001b[0mnn\u001b[0m\u001b[0;34m.\u001b[0m\u001b[0mModule\u001b[0m\u001b[0;34m)\u001b[0m\u001b[0;34m:\u001b[0m\u001b[0;34m\u001b[0m\u001b[0;34m\u001b[0m\u001b[0m\n\u001b[0m\u001b[1;32m      2\u001b[0m   \u001b[0;32mdef\u001b[0m \u001b[0m__init__\u001b[0m\u001b[0;34m(\u001b[0m\u001b[0mself\u001b[0m\u001b[0;34m,\u001b[0m \u001b[0minch\u001b[0m\u001b[0;34m,\u001b[0m \u001b[0mouch\u001b[0m\u001b[0;34m)\u001b[0m\u001b[0;34m:\u001b[0m\u001b[0;34m\u001b[0m\u001b[0;34m\u001b[0m\u001b[0m\n\u001b[1;32m      3\u001b[0m     \u001b[0msuper\u001b[0m\u001b[0;34m(\u001b[0m\u001b[0;34m)\u001b[0m\u001b[0;34m.\u001b[0m\u001b[0m__init__\u001b[0m\u001b[0;34m(\u001b[0m\u001b[0;34m)\u001b[0m\u001b[0;34m\u001b[0m\u001b[0;34m\u001b[0m\u001b[0m\n\u001b[1;32m      4\u001b[0m     self.deconv = nn.Sequential(nn.ConvTranspose2d(inch, inch//2, \n\u001b[1;32m      5\u001b[0m                                                    \u001b[0mkernel_size\u001b[0m \u001b[0;34m=\u001b[0m \u001b[0;36m2\u001b[0m\u001b[0;34m,\u001b[0m\u001b[0;34m\u001b[0m\u001b[0;34m\u001b[0m\u001b[0m\n",
            "\u001b[0;31mNameError\u001b[0m: name 'nn' is not defined"
          ]
        }
      ]
    },
    {
      "cell_type": "markdown",
      "source": [],
      "metadata": {
        "id": "nQ7TonrBTBJd"
      }
    },
    {
      "cell_type": "code",
      "source": [],
      "metadata": {
        "id": "NlGt-Onuiqhs"
      },
      "execution_count": null,
      "outputs": []
    },
    {
      "cell_type": "code",
      "source": [],
      "metadata": {
        "id": "QMYsbAMeiqwO"
      },
      "execution_count": null,
      "outputs": []
    }
  ]
}