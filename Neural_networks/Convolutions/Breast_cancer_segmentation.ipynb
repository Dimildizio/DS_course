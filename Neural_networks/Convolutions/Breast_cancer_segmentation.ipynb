{
  "nbformat": 4,
  "nbformat_minor": 0,
  "metadata": {
    "colab": {
      "provenance": [],
      "authorship_tag": "ABX9TyP/zbp5/fgQXyQzzB66HK0v",
      "include_colab_link": true
    },
    "kernelspec": {
      "name": "python3",
      "display_name": "Python 3"
    },
    "language_info": {
      "name": "python"
    }
  },
  "cells": [
    {
      "cell_type": "markdown",
      "metadata": {
        "id": "view-in-github",
        "colab_type": "text"
      },
      "source": [
        "<a href=\"https://colab.research.google.com/github/Dimildizio/DS_course/blob/main/Neural_networks/Convolutions/Breast_cancer_segmentation.ipynb\" target=\"_parent\"><img src=\"https://colab.research.google.com/assets/colab-badge.svg\" alt=\"Open In Colab\"/></a>"
      ]
    },
    {
      "cell_type": "markdown",
      "source": [
        "# Breast cancer segmentation"
      ],
      "metadata": {
        "id": "_tefKznypsjC"
      }
    },
    {
      "cell_type": "markdown",
      "source": [
        "## Installs & Imports"
      ],
      "metadata": {
        "id": "jTv3BR0Kpy-V"
      }
    },
    {
      "cell_type": "code",
      "source": [
        "%%capture\n",
        "#pip install catalyst"
      ],
      "metadata": {
        "id": "I5hcmaD1q9_g"
      },
      "execution_count": 1,
      "outputs": []
    },
    {
      "cell_type": "code",
      "execution_count": 24,
      "metadata": {
        "id": "VKcJjREvpr7Q"
      },
      "outputs": [],
      "source": [
        "#import albumentations as albs\n",
        "import cv2\n",
        "import io\n",
        "import os\n",
        "import random\n",
        "import torch\n",
        "import torch.nn as nn\n",
        "\n",
        "from glob import glob\n",
        "from sklearn.model_selection import train_test_split\n",
        "from torch import optim\n",
        "from torch.utils.data import DataLoader, Dataset\n",
        "from torchvision.transforms import ToTensor\n",
        "from IPython import display\n",
        "\n",
        "#from catalyst import dl, utils"
      ]
    },
    {
      "cell_type": "markdown",
      "source": [
        "## Download dataset"
      ],
      "metadata": {
        "id": "dxGci2D2p5sz"
      }
    },
    {
      "cell_type": "code",
      "source": [
        "!curl -JLO 'https://www.dropbox.com/scl/fi/gs3kzp6b8k6faf667m5tt/breast-cancer-cells-segmentation.zip?rlkey=md3mzikpwrvnaluxnhms7r4zn'\n",
        "!unzip breast-cancer-cells-segmentation.zip"
      ],
      "metadata": {
        "id": "4SFKpRCfp7kF",
        "colab": {
          "base_uri": "https://localhost:8080/"
        },
        "outputId": "4992f2c2-dd95-4010-a33c-4ba02b9562b3"
      },
      "execution_count": 3,
      "outputs": [
        {
          "output_type": "stream",
          "name": "stdout",
          "text": [
            "  % Total    % Received % Xferd  Average Speed   Time    Time     Time  Current\n",
            "                                 Dload  Upload   Total   Spent    Left  Speed\n",
            "100   256    0   256    0     0    331      0 --:--:-- --:--:-- --:--:--   331\n",
            "100   491    0   491    0     0    208      0 --:--:--  0:00:02 --:--:--  1352\n",
            "100 93.6M  100 93.6M    0     0  11.5M      0  0:00:08  0:00:08 --:--:-- 19.7M\n",
            "Archive:  breast-cancer-cells-segmentation.zip\n",
            "  inflating: Images/ytma10_010704_benign1_ccd.tif  \n",
            "  inflating: Images/ytma10_010704_benign1_ccd.tif.xml  \n",
            "  inflating: Images/ytma10_010704_benign2_ccd.tif  \n",
            "  inflating: Images/ytma10_010704_benign2_ccd.tif.xml  \n",
            "  inflating: Images/ytma10_010704_benign3_ccd.tif  \n",
            "  inflating: Images/ytma10_010704_benign3_ccd.tif.xml  \n",
            "  inflating: Images/ytma10_010704_malignant1_ccd.tif  \n",
            "  inflating: Images/ytma10_010704_malignant1_ccd.tif.xml  \n",
            "  inflating: Images/ytma10_010704_malignant2_ccd.tif  \n",
            "  inflating: Images/ytma10_010704_malignant2_ccd.tif.xml  \n",
            "  inflating: Images/ytma10_010704_malignant3_ccd.tif  \n",
            "  inflating: Images/ytma10_010704_malignant3_ccd.tif.xml  \n",
            "  inflating: Images/ytma12_010804_benign1_ccd.tif  \n",
            "  inflating: Images/ytma12_010804_benign1_ccd.tif.xml  \n",
            "  inflating: Images/ytma12_010804_benign2_ccd.tif  \n",
            "  inflating: Images/ytma12_010804_benign2_ccd.tif.xml  \n",
            "  inflating: Images/ytma12_010804_benign3_ccd.tif  \n",
            "  inflating: Images/ytma12_010804_benign3_ccd.tif.xml  \n",
            "  inflating: Images/ytma12_010804_malignant1_ccd.tif  \n",
            "  inflating: Images/ytma12_010804_malignant1_ccd.tif.xml  \n",
            "  inflating: Images/ytma12_010804_malignant2_ccd.tif  \n",
            "  inflating: Images/ytma12_010804_malignant2_ccd.tif.xml  \n",
            "  inflating: Images/ytma12_010804_malignant3_ccd.tif  \n",
            "  inflating: Images/ytma12_010804_malignant3_ccd.tif.xml  \n",
            "  inflating: Images/ytma23_022103_benign1_ccd.tif  \n",
            "  inflating: Images/ytma23_022103_benign1_ccd.tif.xml  \n",
            "  inflating: Images/ytma23_022103_benign2_ccd.tif  \n",
            "  inflating: Images/ytma23_022103_benign2_ccd.tif.xml  \n",
            "  inflating: Images/ytma23_022103_benign3_ccd.tif  \n",
            "  inflating: Images/ytma23_022103_benign3_ccd.tif.xml  \n",
            "  inflating: Images/ytma23_022103_malignant1_ccd.tif  \n",
            "  inflating: Images/ytma23_022103_malignant1_ccd.tif.xml  \n",
            "  inflating: Images/ytma23_022103_malignant2_ccd.tif  \n",
            "  inflating: Images/ytma23_022103_malignant2_ccd.tif.xml  \n",
            "  inflating: Images/ytma23_022103_malignant3_ccd.tif  \n",
            "  inflating: Images/ytma23_022103_malignant3_ccd.tif.xml  \n",
            "  inflating: Images/ytma49_042003_benign1_ccd.tif  \n",
            "  inflating: Images/ytma49_042003_benign1_ccd.tif.xml  \n",
            "  inflating: Images/ytma49_042003_benign2_ccd.tif  \n",
            "  inflating: Images/ytma49_042003_benign2_ccd.tif.xml  \n",
            "  inflating: Images/ytma49_042003_benign3_ccd.tif  \n",
            "  inflating: Images/ytma49_042003_benign3_ccd.tif.xml  \n",
            "  inflating: Images/ytma49_042003_malignant1_ccd.tif  \n",
            "  inflating: Images/ytma49_042003_malignant1_ccd.tif.xml  \n",
            "  inflating: Images/ytma49_042003_malignant2_ccd.tif  \n",
            "  inflating: Images/ytma49_042003_malignant2_ccd.tif.xml  \n",
            "  inflating: Images/ytma49_042003_malignant3_ccd.tif  \n",
            "  inflating: Images/ytma49_042003_malignant3_ccd.tif.xml  \n",
            "  inflating: Images/ytma49_042203_benign1_ccd.tif  \n",
            "  inflating: Images/ytma49_042203_benign1_ccd.tif.xml  \n",
            "  inflating: Images/ytma49_042203_benign2_ccd.tif  \n",
            "  inflating: Images/ytma49_042203_benign2_ccd.tif.xml  \n",
            "  inflating: Images/ytma49_042203_benign3_ccd.tif  \n",
            "  inflating: Images/ytma49_042203_benign3_ccd.tif.xml  \n",
            "  inflating: Images/ytma49_042203_malignant1_ccd.tif  \n",
            "  inflating: Images/ytma49_042203_malignant1_ccd.tif.xml  \n",
            "  inflating: Images/ytma49_042203_malignant2_ccd.tif  \n",
            "  inflating: Images/ytma49_042203_malignant2_ccd.tif.xml  \n",
            "  inflating: Images/ytma49_042203_malignant3_ccd.tif  \n",
            "  inflating: Images/ytma49_042203_malignant3_ccd.tif.xml  \n",
            "  inflating: Images/ytma49_042403_benign1_ccd.tif  \n",
            "  inflating: Images/ytma49_042403_benign1_ccd.tif.xml  \n",
            "  inflating: Images/ytma49_042403_benign2_ccd.tif  \n",
            "  inflating: Images/ytma49_042403_benign2_ccd.tif.xml  \n",
            "  inflating: Images/ytma49_042403_benign3_ccd.tif  \n",
            "  inflating: Images/ytma49_042403_benign3_ccd.tif.xml  \n",
            "  inflating: Images/ytma49_042403_malignant1_ccd.tif  \n",
            "  inflating: Images/ytma49_042403_malignant1_ccd.tif.xml  \n",
            "  inflating: Images/ytma49_042403_malignant2_ccd.tif  \n",
            "  inflating: Images/ytma49_042403_malignant2_ccd.tif.xml  \n",
            "  inflating: Images/ytma49_042403_malignant3_ccd.tif  \n",
            "  inflating: Images/ytma49_042403_malignant3_ccd.tif.xml  \n",
            "  inflating: Images/ytma49_072303_benign1_ccd.tif  \n",
            "  inflating: Images/ytma49_072303_benign1_ccd.tif.xml  \n",
            "  inflating: Images/ytma49_072303_benign2_ccd.tif  \n",
            "  inflating: Images/ytma49_072303_benign2_ccd.tif.xml  \n",
            "  inflating: Images/ytma49_072303_malignant1_ccd.tif  \n",
            "  inflating: Images/ytma49_072303_malignant1_ccd.tif.xml  \n",
            "  inflating: Images/ytma49_072303_malignant2_ccd.tif  \n",
            "  inflating: Images/ytma49_072303_malignant2_ccd.tif.xml  \n",
            "  inflating: Images/ytma49_111003_benign1_ccd.tif  \n",
            "  inflating: Images/ytma49_111003_benign1_ccd.tif.xml  \n",
            "  inflating: Images/ytma49_111003_benign2_ccd.tif  \n",
            "  inflating: Images/ytma49_111003_benign2_ccd.tif.xml  \n",
            "  inflating: Images/ytma49_111003_benign3_ccd.tif  \n",
            "  inflating: Images/ytma49_111003_benign3_ccd.tif.xml  \n",
            "  inflating: Images/ytma49_111003_malignant1_ccd.tif  \n",
            "  inflating: Images/ytma49_111003_malignant1_ccd.tif.xml  \n",
            "  inflating: Images/ytma49_111003_malignant2_ccd.tif  \n",
            "  inflating: Images/ytma49_111003_malignant2_ccd.tif.xml  \n",
            "  inflating: Images/ytma49_111003_malignant3_ccd.tif  \n",
            "  inflating: Images/ytma49_111003_malignant3_ccd.tif.xml  \n",
            "  inflating: Images/ytma49_111303_benign1_ccd.tif  \n",
            "  inflating: Images/ytma49_111303_benign1_ccd.tif.xml  \n",
            "  inflating: Images/ytma49_111303_benign2_ccd.tif  \n",
            "  inflating: Images/ytma49_111303_benign2_ccd.tif.xml  \n",
            "  inflating: Images/ytma49_111303_benign3_ccd.tif  \n",
            "  inflating: Images/ytma49_111303_benign3_ccd.tif.xml  \n",
            "  inflating: Images/ytma49_111303_malignant1_ccd.tif  \n",
            "  inflating: Images/ytma49_111303_malignant1_ccd.tif.xml  \n",
            "  inflating: Images/ytma49_111303_malignant2_ccd.tif  \n",
            "  inflating: Images/ytma49_111303_malignant2_ccd.tif.xml  \n",
            "  inflating: Images/ytma49_111303_malignant3_ccd.tif  \n",
            "  inflating: Images/ytma49_111303_malignant3_ccd.tif.xml  \n",
            "  inflating: Images/ytma55_030603_benign1_ccd.tif  \n",
            "  inflating: Images/ytma55_030603_benign1_ccd.tif.xml  \n",
            "  inflating: Images/ytma55_030603_benign2_ccd.tif  \n",
            "  inflating: Images/ytma55_030603_benign2_ccd.tif.xml  \n",
            "  inflating: Images/ytma55_030603_benign3_ccd.tif  \n",
            "  inflating: Images/ytma55_030603_benign3_ccd.tif.xml  \n",
            "  inflating: Images/ytma55_030603_benign4_ccd.tif  \n",
            "  inflating: Images/ytma55_030603_benign4_ccd.tif.xml  \n",
            "  inflating: Images/ytma55_030603_benign5_ccd.tif  \n",
            "  inflating: Images/ytma55_030603_benign5_ccd.tif.xml  \n",
            "  inflating: Images/ytma55_030603_benign6_ccd.tif  \n",
            "  inflating: Images/ytma55_030603_benign6_ccd.tif.xml  \n",
            "  inflating: Masks/ytma10_010704_benign1.TIF  \n",
            "  inflating: Masks/ytma10_010704_benign1.TIF.xml  \n",
            "  inflating: Masks/ytma10_010704_benign2.TIF  \n",
            "  inflating: Masks/ytma10_010704_benign2.TIF.xml  \n",
            "  inflating: Masks/ytma10_010704_benign3.TIF  \n",
            "  inflating: Masks/ytma10_010704_benign3.TIF.xml  \n",
            "  inflating: Masks/ytma10_010704_malignant1.TIF  \n",
            "  inflating: Masks/ytma10_010704_malignant1.TIF.xml  \n",
            "  inflating: Masks/ytma10_010704_malignant2.TIF  \n",
            "  inflating: Masks/ytma10_010704_malignant2.TIF.xml  \n",
            "  inflating: Masks/ytma10_010704_malignant3.TIF  \n",
            "  inflating: Masks/ytma10_010704_malignant3.TIF.xml  \n",
            "  inflating: Masks/ytma12_010804_benign1.TIF  \n",
            "  inflating: Masks/ytma12_010804_benign1.TIF.xml  \n",
            "  inflating: Masks/ytma12_010804_benign2.TIF  \n",
            "  inflating: Masks/ytma12_010804_benign2.TIF.xml  \n",
            "  inflating: Masks/ytma12_010804_benign3.TIF  \n",
            "  inflating: Masks/ytma12_010804_benign3.TIF.xml  \n",
            "  inflating: Masks/ytma12_010804_malignant1.TIF  \n",
            "  inflating: Masks/ytma12_010804_malignant1.TIF.xml  \n",
            "  inflating: Masks/ytma12_010804_malignant2.TIF  \n",
            "  inflating: Masks/ytma12_010804_malignant2.TIF.xml  \n",
            "  inflating: Masks/ytma12_010804_malignant3.TIF  \n",
            "  inflating: Masks/ytma12_010804_malignant3.TIF.xml  \n",
            "  inflating: Masks/ytma23_022103_benign1.TIF  \n",
            "  inflating: Masks/ytma23_022103_benign1.TIF.xml  \n",
            "  inflating: Masks/ytma23_022103_benign2.TIF  \n",
            "  inflating: Masks/ytma23_022103_benign2.TIF.xml  \n",
            "  inflating: Masks/ytma23_022103_benign3.TIF  \n",
            "  inflating: Masks/ytma23_022103_benign3.TIF.xml  \n",
            "  inflating: Masks/ytma23_022103_malignant1.TIF  \n",
            "  inflating: Masks/ytma23_022103_malignant1.TIF.xml  \n",
            "  inflating: Masks/ytma23_022103_malignant2.TIF  \n",
            "  inflating: Masks/ytma23_022103_malignant2.TIF.xml  \n",
            "  inflating: Masks/ytma23_022103_malignant3.TIF  \n",
            "  inflating: Masks/ytma23_022103_malignant3.TIF.xml  \n",
            "  inflating: Masks/ytma49_042003_benign1.TIF  \n",
            "  inflating: Masks/ytma49_042003_benign1.TIF.xml  \n",
            "  inflating: Masks/ytma49_042003_benign2.TIF  \n",
            "  inflating: Masks/ytma49_042003_benign2.TIF.xml  \n",
            "  inflating: Masks/ytma49_042003_benign3.TIF  \n",
            "  inflating: Masks/ytma49_042003_benign3.TIF.xml  \n",
            "  inflating: Masks/ytma49_042003_malignant1.TIF  \n",
            "  inflating: Masks/ytma49_042003_malignant1.TIF.xml  \n",
            "  inflating: Masks/ytma49_042003_malignant2.TIF  \n",
            "  inflating: Masks/ytma49_042003_malignant2.TIF.xml  \n",
            "  inflating: Masks/ytma49_042003_malignant3.TIF  \n",
            "  inflating: Masks/ytma49_042003_malignant3.TIF.xml  \n",
            "  inflating: Masks/ytma49_042203_benign1.TIF  \n",
            "  inflating: Masks/ytma49_042203_benign1.TIF.xml  \n",
            "  inflating: Masks/ytma49_042203_benign2.TIF  \n",
            "  inflating: Masks/ytma49_042203_benign2.TIF.xml  \n",
            "  inflating: Masks/ytma49_042203_benign3.TIF  \n",
            "  inflating: Masks/ytma49_042203_benign3.TIF.xml  \n",
            "  inflating: Masks/ytma49_042203_malignant1.TIF  \n",
            "  inflating: Masks/ytma49_042203_malignant1.TIF.xml  \n",
            "  inflating: Masks/ytma49_042203_malignant2.TIF  \n",
            "  inflating: Masks/ytma49_042203_malignant2.TIF.xml  \n",
            "  inflating: Masks/ytma49_042203_malignant3.TIF  \n",
            "  inflating: Masks/ytma49_042203_malignant3.TIF.xml  \n",
            "  inflating: Masks/ytma49_042403_benign1.TIF  \n",
            "  inflating: Masks/ytma49_042403_benign1.TIF.xml  \n",
            "  inflating: Masks/ytma49_042403_benign2.TIF  \n",
            "  inflating: Masks/ytma49_042403_benign2.TIF.xml  \n",
            "  inflating: Masks/ytma49_042403_benign3.TIF  \n",
            "  inflating: Masks/ytma49_042403_benign3.TIF.xml  \n",
            "  inflating: Masks/ytma49_042403_malignant1.TIF  \n",
            "  inflating: Masks/ytma49_042403_malignant1.TIF.xml  \n",
            "  inflating: Masks/ytma49_042403_malignant2.TIF  \n",
            "  inflating: Masks/ytma49_042403_malignant2.TIF.xml  \n",
            "  inflating: Masks/ytma49_042403_malignant3.TIF  \n",
            "  inflating: Masks/ytma49_042403_malignant3.TIF.xml  \n",
            "  inflating: Masks/ytma49_072303_benign1.TIF  \n",
            "  inflating: Masks/ytma49_072303_benign1.TIF.xml  \n",
            "  inflating: Masks/ytma49_072303_benign2.TIF  \n",
            "  inflating: Masks/ytma49_072303_benign2.TIF.xml  \n",
            "  inflating: Masks/ytma49_072303_malignant1.TIF  \n",
            "  inflating: Masks/ytma49_072303_malignant1.TIF.xml  \n",
            "  inflating: Masks/ytma49_072303_malignant2.TIF  \n",
            "  inflating: Masks/ytma49_072303_malignant2.TIF.xml  \n",
            "  inflating: Masks/ytma49_111003_benign1.TIF  \n",
            "  inflating: Masks/ytma49_111003_benign1.TIF.xml  \n",
            "  inflating: Masks/ytma49_111003_benign2.TIF  \n",
            "  inflating: Masks/ytma49_111003_benign2.TIF.xml  \n",
            "  inflating: Masks/ytma49_111003_benign3.TIF  \n",
            "  inflating: Masks/ytma49_111003_benign3.TIF.xml  \n",
            "  inflating: Masks/ytma49_111003_malignant1.TIF  \n",
            "  inflating: Masks/ytma49_111003_malignant1.TIF.xml  \n",
            "  inflating: Masks/ytma49_111003_malignant2.TIF  \n",
            "  inflating: Masks/ytma49_111003_malignant2.TIF.xml  \n",
            "  inflating: Masks/ytma49_111003_malignant3.TIF  \n",
            "  inflating: Masks/ytma49_111003_malignant3.TIF.xml  \n",
            "  inflating: Masks/ytma49_111303_benign1.TIF  \n",
            "  inflating: Masks/ytma49_111303_benign1.TIF.xml  \n",
            "  inflating: Masks/ytma49_111303_benign2.TIF  \n",
            "  inflating: Masks/ytma49_111303_benign2.TIF.xml  \n",
            "  inflating: Masks/ytma49_111303_benign3.TIF  \n",
            "  inflating: Masks/ytma49_111303_benign3.TIF.xml  \n",
            "  inflating: Masks/ytma49_111303_malignant1.TIF  \n",
            "  inflating: Masks/ytma49_111303_malignant1.TIF.xml  \n",
            "  inflating: Masks/ytma49_111303_malignant2.TIF  \n",
            "  inflating: Masks/ytma49_111303_malignant2.TIF.xml  \n",
            "  inflating: Masks/ytma49_111303_malignant3.TIF  \n",
            "  inflating: Masks/ytma49_111303_malignant3.TIF.xml  \n",
            "  inflating: Masks/ytma55_030603_benign1.TIF  \n",
            "  inflating: Masks/ytma55_030603_benign1.TIF.xml  \n",
            "  inflating: Masks/ytma55_030603_benign2.TIF  \n",
            "  inflating: Masks/ytma55_030603_benign2.TIF.xml  \n",
            "  inflating: Masks/ytma55_030603_benign3.TIF  \n",
            "  inflating: Masks/ytma55_030603_benign3.TIF.xml  \n",
            "  inflating: Masks/ytma55_030603_benign4.TIF  \n",
            "  inflating: Masks/ytma55_030603_benign4.TIF.xml  \n",
            "  inflating: Masks/ytma55_030603_benign5.TIF  \n",
            "  inflating: Masks/ytma55_030603_benign5.TIF.xml  \n",
            "  inflating: Masks/ytma55_030603_benign6.TIF  \n",
            "  inflating: Masks/ytma55_030603_benign6.TIF.xml  \n"
          ]
        }
      ]
    },
    {
      "cell_type": "markdown",
      "source": [
        "## EDA"
      ],
      "metadata": {
        "id": "O38iqK2tqEuO"
      }
    },
    {
      "cell_type": "code",
      "source": [
        "!unzip breast-cancer-cells-segmentation.zip"
      ],
      "metadata": {
        "colab": {
          "base_uri": "https://localhost:8080/"
        },
        "id": "KynwlwcA-w-Y",
        "outputId": "38f19177-31ec-4582-d360-50a12494e491"
      },
      "execution_count": 10,
      "outputs": [
        {
          "output_type": "stream",
          "name": "stdout",
          "text": [
            "Archive:  breast-cancer-cells-segmentation.zip\n",
            "replace Images/ytma10_010704_benign1_ccd.tif? [y]es, [n]o, [A]ll, [N]one, [r]ename: Y\n",
            "  inflating: Images/ytma10_010704_benign1_ccd.tif  \n",
            "replace Images/ytma10_010704_benign1_ccd.tif.xml? [y]es, [n]o, [A]ll, [N]one, [r]ename: y\n",
            "  inflating: Images/ytma10_010704_benign1_ccd.tif.xml  \n",
            "replace Images/ytma10_010704_benign2_ccd.tif? [y]es, [n]o, [A]ll, [N]one, [r]ename: y\n",
            "  inflating: Images/ytma10_010704_benign2_ccd.tif  \n",
            "replace Images/ytma10_010704_benign2_ccd.tif.xml? [y]es, [n]o, [A]ll, [N]one, [r]ename: a\n",
            "error:  invalid response [a]\n",
            "replace Images/ytma10_010704_benign2_ccd.tif.xml? [y]es, [n]o, [A]ll, [N]one, [r]ename: ya\n",
            "  inflating: Images/ytma10_010704_benign2_ccd.tif.xml  \n",
            "replace Images/ytma10_010704_benign3_ccd.tif? [y]es, [n]o, [A]ll, [N]one, [r]ename: A\n",
            "  inflating: Images/ytma10_010704_benign3_ccd.tif  \n",
            "  inflating: Images/ytma10_010704_benign3_ccd.tif.xml  \n",
            "  inflating: Images/ytma10_010704_malignant1_ccd.tif  \n",
            "  inflating: Images/ytma10_010704_malignant1_ccd.tif.xml  \n",
            "  inflating: Images/ytma10_010704_malignant2_ccd.tif  \n",
            "  inflating: Images/ytma10_010704_malignant2_ccd.tif.xml  \n",
            "  inflating: Images/ytma10_010704_malignant3_ccd.tif  \n",
            "  inflating: Images/ytma10_010704_malignant3_ccd.tif.xml  \n",
            "  inflating: Images/ytma12_010804_benign1_ccd.tif  \n",
            "  inflating: Images/ytma12_010804_benign1_ccd.tif.xml  \n",
            "  inflating: Images/ytma12_010804_benign2_ccd.tif  \n",
            "  inflating: Images/ytma12_010804_benign2_ccd.tif.xml  \n",
            "  inflating: Images/ytma12_010804_benign3_ccd.tif  \n",
            "  inflating: Images/ytma12_010804_benign3_ccd.tif.xml  \n",
            "  inflating: Images/ytma12_010804_malignant1_ccd.tif  \n",
            "  inflating: Images/ytma12_010804_malignant1_ccd.tif.xml  \n",
            "  inflating: Images/ytma12_010804_malignant2_ccd.tif  \n",
            "  inflating: Images/ytma12_010804_malignant2_ccd.tif.xml  \n",
            "  inflating: Images/ytma12_010804_malignant3_ccd.tif  \n",
            "  inflating: Images/ytma12_010804_malignant3_ccd.tif.xml  \n",
            "  inflating: Images/ytma23_022103_benign1_ccd.tif  \n",
            "  inflating: Images/ytma23_022103_benign1_ccd.tif.xml  \n",
            "  inflating: Images/ytma23_022103_benign2_ccd.tif  \n",
            "  inflating: Images/ytma23_022103_benign2_ccd.tif.xml  \n",
            "  inflating: Images/ytma23_022103_benign3_ccd.tif  \n",
            "  inflating: Images/ytma23_022103_benign3_ccd.tif.xml  \n",
            "  inflating: Images/ytma23_022103_malignant1_ccd.tif  \n",
            "  inflating: Images/ytma23_022103_malignant1_ccd.tif.xml  \n",
            "  inflating: Images/ytma23_022103_malignant2_ccd.tif  \n",
            "  inflating: Images/ytma23_022103_malignant2_ccd.tif.xml  \n",
            "  inflating: Images/ytma23_022103_malignant3_ccd.tif  \n",
            "  inflating: Images/ytma23_022103_malignant3_ccd.tif.xml  \n",
            "  inflating: Images/ytma49_042003_benign1_ccd.tif  \n",
            "  inflating: Images/ytma49_042003_benign1_ccd.tif.xml  \n",
            "  inflating: Images/ytma49_042003_benign2_ccd.tif  \n",
            "  inflating: Images/ytma49_042003_benign2_ccd.tif.xml  \n",
            "  inflating: Images/ytma49_042003_benign3_ccd.tif  \n",
            "  inflating: Images/ytma49_042003_benign3_ccd.tif.xml  \n",
            "  inflating: Images/ytma49_042003_malignant1_ccd.tif  \n",
            "  inflating: Images/ytma49_042003_malignant1_ccd.tif.xml  \n",
            "  inflating: Images/ytma49_042003_malignant2_ccd.tif  \n",
            "  inflating: Images/ytma49_042003_malignant2_ccd.tif.xml  \n",
            "  inflating: Images/ytma49_042003_malignant3_ccd.tif  \n",
            "  inflating: Images/ytma49_042003_malignant3_ccd.tif.xml  \n",
            "  inflating: Images/ytma49_042203_benign1_ccd.tif  \n",
            "  inflating: Images/ytma49_042203_benign1_ccd.tif.xml  \n",
            "  inflating: Images/ytma49_042203_benign2_ccd.tif  \n",
            "  inflating: Images/ytma49_042203_benign2_ccd.tif.xml  \n",
            "  inflating: Images/ytma49_042203_benign3_ccd.tif  \n",
            "  inflating: Images/ytma49_042203_benign3_ccd.tif.xml  \n",
            "  inflating: Images/ytma49_042203_malignant1_ccd.tif  \n",
            "  inflating: Images/ytma49_042203_malignant1_ccd.tif.xml  \n",
            "  inflating: Images/ytma49_042203_malignant2_ccd.tif  \n",
            "  inflating: Images/ytma49_042203_malignant2_ccd.tif.xml  \n",
            "  inflating: Images/ytma49_042203_malignant3_ccd.tif  \n",
            "  inflating: Images/ytma49_042203_malignant3_ccd.tif.xml  \n",
            "  inflating: Images/ytma49_042403_benign1_ccd.tif  \n",
            "  inflating: Images/ytma49_042403_benign1_ccd.tif.xml  \n",
            "  inflating: Images/ytma49_042403_benign2_ccd.tif  \n",
            "  inflating: Images/ytma49_042403_benign2_ccd.tif.xml  \n",
            "  inflating: Images/ytma49_042403_benign3_ccd.tif  \n",
            "  inflating: Images/ytma49_042403_benign3_ccd.tif.xml  \n",
            "  inflating: Images/ytma49_042403_malignant1_ccd.tif  \n",
            "  inflating: Images/ytma49_042403_malignant1_ccd.tif.xml  \n",
            "  inflating: Images/ytma49_042403_malignant2_ccd.tif  \n",
            "  inflating: Images/ytma49_042403_malignant2_ccd.tif.xml  \n",
            "  inflating: Images/ytma49_042403_malignant3_ccd.tif  \n",
            "  inflating: Images/ytma49_042403_malignant3_ccd.tif.xml  \n",
            "  inflating: Images/ytma49_072303_benign1_ccd.tif  \n",
            "  inflating: Images/ytma49_072303_benign1_ccd.tif.xml  \n",
            "  inflating: Images/ytma49_072303_benign2_ccd.tif  \n",
            "  inflating: Images/ytma49_072303_benign2_ccd.tif.xml  \n",
            "  inflating: Images/ytma49_072303_malignant1_ccd.tif  \n",
            "  inflating: Images/ytma49_072303_malignant1_ccd.tif.xml  \n",
            "  inflating: Images/ytma49_072303_malignant2_ccd.tif  \n",
            "  inflating: Images/ytma49_072303_malignant2_ccd.tif.xml  \n",
            "  inflating: Images/ytma49_111003_benign1_ccd.tif  \n",
            "  inflating: Images/ytma49_111003_benign1_ccd.tif.xml  \n",
            "  inflating: Images/ytma49_111003_benign2_ccd.tif  \n",
            "  inflating: Images/ytma49_111003_benign2_ccd.tif.xml  \n",
            "  inflating: Images/ytma49_111003_benign3_ccd.tif  \n",
            "  inflating: Images/ytma49_111003_benign3_ccd.tif.xml  \n",
            "  inflating: Images/ytma49_111003_malignant1_ccd.tif  \n",
            "  inflating: Images/ytma49_111003_malignant1_ccd.tif.xml  \n",
            "  inflating: Images/ytma49_111003_malignant2_ccd.tif  \n",
            "  inflating: Images/ytma49_111003_malignant2_ccd.tif.xml  \n",
            "  inflating: Images/ytma49_111003_malignant3_ccd.tif  \n",
            "  inflating: Images/ytma49_111003_malignant3_ccd.tif.xml  \n",
            "  inflating: Images/ytma49_111303_benign1_ccd.tif  \n",
            "  inflating: Images/ytma49_111303_benign1_ccd.tif.xml  \n",
            "  inflating: Images/ytma49_111303_benign2_ccd.tif  \n",
            "  inflating: Images/ytma49_111303_benign2_ccd.tif.xml  \n",
            "  inflating: Images/ytma49_111303_benign3_ccd.tif  \n",
            "  inflating: Images/ytma49_111303_benign3_ccd.tif.xml  \n",
            "  inflating: Images/ytma49_111303_malignant1_ccd.tif  \n",
            "  inflating: Images/ytma49_111303_malignant1_ccd.tif.xml  \n",
            "  inflating: Images/ytma49_111303_malignant2_ccd.tif  \n",
            "  inflating: Images/ytma49_111303_malignant2_ccd.tif.xml  \n",
            "  inflating: Images/ytma49_111303_malignant3_ccd.tif  \n",
            "  inflating: Images/ytma49_111303_malignant3_ccd.tif.xml  \n",
            "  inflating: Images/ytma55_030603_benign1_ccd.tif  \n",
            "  inflating: Images/ytma55_030603_benign1_ccd.tif.xml  \n",
            "  inflating: Images/ytma55_030603_benign2_ccd.tif  \n",
            "  inflating: Images/ytma55_030603_benign2_ccd.tif.xml  \n",
            "  inflating: Images/ytma55_030603_benign3_ccd.tif  \n",
            "  inflating: Images/ytma55_030603_benign3_ccd.tif.xml  \n",
            "  inflating: Images/ytma55_030603_benign4_ccd.tif  \n",
            "  inflating: Images/ytma55_030603_benign4_ccd.tif.xml  \n",
            "  inflating: Images/ytma55_030603_benign5_ccd.tif  \n",
            "  inflating: Images/ytma55_030603_benign5_ccd.tif.xml  \n",
            "  inflating: Images/ytma55_030603_benign6_ccd.tif  \n",
            "  inflating: Images/ytma55_030603_benign6_ccd.tif.xml  \n",
            "  inflating: Masks/ytma10_010704_benign1.TIF  \n",
            "  inflating: Masks/ytma10_010704_benign1.TIF.xml  \n",
            "  inflating: Masks/ytma10_010704_benign2.TIF  \n",
            "  inflating: Masks/ytma10_010704_benign2.TIF.xml  \n",
            "  inflating: Masks/ytma10_010704_benign3.TIF  \n",
            "  inflating: Masks/ytma10_010704_benign3.TIF.xml  \n",
            "  inflating: Masks/ytma10_010704_malignant1.TIF  \n",
            "  inflating: Masks/ytma10_010704_malignant1.TIF.xml  \n",
            "  inflating: Masks/ytma10_010704_malignant2.TIF  \n",
            "  inflating: Masks/ytma10_010704_malignant2.TIF.xml  \n",
            "  inflating: Masks/ytma10_010704_malignant3.TIF  \n",
            "  inflating: Masks/ytma10_010704_malignant3.TIF.xml  \n",
            "  inflating: Masks/ytma12_010804_benign1.TIF  \n",
            "  inflating: Masks/ytma12_010804_benign1.TIF.xml  \n",
            "  inflating: Masks/ytma12_010804_benign2.TIF  \n",
            "  inflating: Masks/ytma12_010804_benign2.TIF.xml  \n",
            "  inflating: Masks/ytma12_010804_benign3.TIF  \n",
            "  inflating: Masks/ytma12_010804_benign3.TIF.xml  \n",
            "  inflating: Masks/ytma12_010804_malignant1.TIF  \n",
            "  inflating: Masks/ytma12_010804_malignant1.TIF.xml  \n",
            "  inflating: Masks/ytma12_010804_malignant2.TIF  \n",
            "  inflating: Masks/ytma12_010804_malignant2.TIF.xml  \n",
            "  inflating: Masks/ytma12_010804_malignant3.TIF  \n",
            "  inflating: Masks/ytma12_010804_malignant3.TIF.xml  \n",
            "  inflating: Masks/ytma23_022103_benign1.TIF  \n",
            "  inflating: Masks/ytma23_022103_benign1.TIF.xml  \n",
            "  inflating: Masks/ytma23_022103_benign2.TIF  \n",
            "  inflating: Masks/ytma23_022103_benign2.TIF.xml  \n",
            "  inflating: Masks/ytma23_022103_benign3.TIF  \n",
            "  inflating: Masks/ytma23_022103_benign3.TIF.xml  \n",
            "  inflating: Masks/ytma23_022103_malignant1.TIF  \n",
            "  inflating: Masks/ytma23_022103_malignant1.TIF.xml  \n",
            "  inflating: Masks/ytma23_022103_malignant2.TIF  \n",
            "  inflating: Masks/ytma23_022103_malignant2.TIF.xml  \n",
            "  inflating: Masks/ytma23_022103_malignant3.TIF  \n",
            "  inflating: Masks/ytma23_022103_malignant3.TIF.xml  \n",
            "  inflating: Masks/ytma49_042003_benign1.TIF  \n",
            "  inflating: Masks/ytma49_042003_benign1.TIF.xml  \n",
            "  inflating: Masks/ytma49_042003_benign2.TIF  \n",
            "  inflating: Masks/ytma49_042003_benign2.TIF.xml  \n",
            "  inflating: Masks/ytma49_042003_benign3.TIF  \n",
            "  inflating: Masks/ytma49_042003_benign3.TIF.xml  \n",
            "  inflating: Masks/ytma49_042003_malignant1.TIF  \n",
            "  inflating: Masks/ytma49_042003_malignant1.TIF.xml  \n",
            "  inflating: Masks/ytma49_042003_malignant2.TIF  \n",
            "  inflating: Masks/ytma49_042003_malignant2.TIF.xml  \n",
            "  inflating: Masks/ytma49_042003_malignant3.TIF  \n",
            "  inflating: Masks/ytma49_042003_malignant3.TIF.xml  \n",
            "  inflating: Masks/ytma49_042203_benign1.TIF  \n",
            "  inflating: Masks/ytma49_042203_benign1.TIF.xml  \n",
            "  inflating: Masks/ytma49_042203_benign2.TIF  \n",
            "  inflating: Masks/ytma49_042203_benign2.TIF.xml  \n",
            "  inflating: Masks/ytma49_042203_benign3.TIF  \n",
            "  inflating: Masks/ytma49_042203_benign3.TIF.xml  \n",
            "  inflating: Masks/ytma49_042203_malignant1.TIF  \n",
            "  inflating: Masks/ytma49_042203_malignant1.TIF.xml  \n",
            "  inflating: Masks/ytma49_042203_malignant2.TIF  \n",
            "  inflating: Masks/ytma49_042203_malignant2.TIF.xml  \n",
            "  inflating: Masks/ytma49_042203_malignant3.TIF  \n",
            "  inflating: Masks/ytma49_042203_malignant3.TIF.xml  \n",
            "  inflating: Masks/ytma49_042403_benign1.TIF  \n",
            "  inflating: Masks/ytma49_042403_benign1.TIF.xml  \n",
            "  inflating: Masks/ytma49_042403_benign2.TIF  \n",
            "  inflating: Masks/ytma49_042403_benign2.TIF.xml  \n",
            "  inflating: Masks/ytma49_042403_benign3.TIF  \n",
            "  inflating: Masks/ytma49_042403_benign3.TIF.xml  \n",
            "  inflating: Masks/ytma49_042403_malignant1.TIF  \n",
            "  inflating: Masks/ytma49_042403_malignant1.TIF.xml  \n",
            "  inflating: Masks/ytma49_042403_malignant2.TIF  \n",
            "  inflating: Masks/ytma49_042403_malignant2.TIF.xml  \n",
            "  inflating: Masks/ytma49_042403_malignant3.TIF  \n",
            "  inflating: Masks/ytma49_042403_malignant3.TIF.xml  \n",
            "  inflating: Masks/ytma49_072303_benign1.TIF  \n",
            "  inflating: Masks/ytma49_072303_benign1.TIF.xml  \n",
            "  inflating: Masks/ytma49_072303_benign2.TIF  \n",
            "  inflating: Masks/ytma49_072303_benign2.TIF.xml  \n",
            "  inflating: Masks/ytma49_072303_malignant1.TIF  \n",
            "  inflating: Masks/ytma49_072303_malignant1.TIF.xml  \n",
            "  inflating: Masks/ytma49_072303_malignant2.TIF  \n",
            "  inflating: Masks/ytma49_072303_malignant2.TIF.xml  \n",
            "  inflating: Masks/ytma49_111003_benign1.TIF  \n",
            "  inflating: Masks/ytma49_111003_benign1.TIF.xml  \n",
            "  inflating: Masks/ytma49_111003_benign2.TIF  \n",
            "  inflating: Masks/ytma49_111003_benign2.TIF.xml  \n",
            "  inflating: Masks/ytma49_111003_benign3.TIF  \n",
            "  inflating: Masks/ytma49_111003_benign3.TIF.xml  \n",
            "  inflating: Masks/ytma49_111003_malignant1.TIF  \n",
            "  inflating: Masks/ytma49_111003_malignant1.TIF.xml  \n",
            "  inflating: Masks/ytma49_111003_malignant2.TIF  \n",
            "  inflating: Masks/ytma49_111003_malignant2.TIF.xml  \n",
            "  inflating: Masks/ytma49_111003_malignant3.TIF  \n",
            "  inflating: Masks/ytma49_111003_malignant3.TIF.xml  \n",
            "  inflating: Masks/ytma49_111303_benign1.TIF  \n",
            "  inflating: Masks/ytma49_111303_benign1.TIF.xml  \n",
            "  inflating: Masks/ytma49_111303_benign2.TIF  \n",
            "  inflating: Masks/ytma49_111303_benign2.TIF.xml  \n",
            "  inflating: Masks/ytma49_111303_benign3.TIF  \n",
            "  inflating: Masks/ytma49_111303_benign3.TIF.xml  \n",
            "  inflating: Masks/ytma49_111303_malignant1.TIF  \n",
            "  inflating: Masks/ytma49_111303_malignant1.TIF.xml  \n",
            "  inflating: Masks/ytma49_111303_malignant2.TIF  \n",
            "  inflating: Masks/ytma49_111303_malignant2.TIF.xml  \n",
            "  inflating: Masks/ytma49_111303_malignant3.TIF  \n",
            "  inflating: Masks/ytma49_111303_malignant3.TIF.xml  \n",
            "  inflating: Masks/ytma55_030603_benign1.TIF  \n",
            "  inflating: Masks/ytma55_030603_benign1.TIF.xml  \n",
            "  inflating: Masks/ytma55_030603_benign2.TIF  \n",
            "  inflating: Masks/ytma55_030603_benign2.TIF.xml  \n",
            "  inflating: Masks/ytma55_030603_benign3.TIF  \n",
            "  inflating: Masks/ytma55_030603_benign3.TIF.xml  \n",
            "  inflating: Masks/ytma55_030603_benign4.TIF  \n",
            "  inflating: Masks/ytma55_030603_benign4.TIF.xml  \n",
            "  inflating: Masks/ytma55_030603_benign5.TIF  \n",
            "  inflating: Masks/ytma55_030603_benign5.TIF.xml  \n",
            "  inflating: Masks/ytma55_030603_benign6.TIF  \n",
            "  inflating: Masks/ytma55_030603_benign6.TIF.xml  \n"
          ]
        }
      ]
    },
    {
      "cell_type": "code",
      "source": [
        "imgs = glob(os.path.join(\"/content/Images\", \"*.tif\"))"
      ],
      "metadata": {
        "id": "AYRjEmQqBi_e"
      },
      "execution_count": 11,
      "outputs": []
    },
    {
      "cell_type": "code",
      "source": [
        "print(os.getcwd())"
      ],
      "metadata": {
        "colab": {
          "base_uri": "https://localhost:8080/"
        },
        "id": "hWQ1qRHTDQmY",
        "outputId": "deba86c3-09ad-4e24-a2ab-26ecb87dfb00"
      },
      "execution_count": 12,
      "outputs": [
        {
          "output_type": "stream",
          "name": "stdout",
          "text": [
            "/content\n"
          ]
        }
      ]
    },
    {
      "cell_type": "code",
      "source": [
        "masks = [os.path.join(\"/content/Masks\", i.rsplit(\"/\",1)[-1].split(\"_ccd\")[0]+\".TIF\") for i in imgs]"
      ],
      "metadata": {
        "id": "l6d8ufsDBjwe"
      },
      "execution_count": 13,
      "outputs": []
    },
    {
      "cell_type": "code",
      "source": [
        "print(masks)"
      ],
      "metadata": {
        "colab": {
          "base_uri": "https://localhost:8080/"
        },
        "id": "gfzfGtiDCn4_",
        "outputId": "fd17d33b-1921-4d48-82a6-4394216474ff"
      },
      "execution_count": 14,
      "outputs": [
        {
          "output_type": "stream",
          "name": "stdout",
          "text": [
            "['/content/Masks/ytma49_042403_benign1.TIF', '/content/Masks/ytma49_042203_malignant1.TIF', '/content/Masks/ytma49_111003_malignant3.TIF', '/content/Masks/ytma49_042403_benign3.TIF', '/content/Masks/ytma49_042003_malignant1.TIF', '/content/Masks/ytma12_010804_benign2.TIF', '/content/Masks/ytma10_010704_malignant3.TIF', '/content/Masks/ytma55_030603_benign5.TIF', '/content/Masks/ytma49_042003_benign1.TIF', '/content/Masks/ytma10_010704_benign3.TIF', '/content/Masks/ytma49_042203_malignant3.TIF', '/content/Masks/ytma49_111003_benign2.TIF', '/content/Masks/ytma49_042003_benign3.TIF', '/content/Masks/ytma12_010804_malignant3.TIF', '/content/Masks/ytma49_042203_benign3.TIF', '/content/Masks/ytma10_010704_benign2.TIF', '/content/Masks/ytma55_030603_benign1.TIF', '/content/Masks/ytma49_042403_benign2.TIF', '/content/Masks/ytma12_010804_malignant1.TIF', '/content/Masks/ytma12_010804_benign1.TIF', '/content/Masks/ytma49_042403_malignant2.TIF', '/content/Masks/ytma23_022103_benign3.TIF', '/content/Masks/ytma49_111303_benign2.TIF', '/content/Masks/ytma23_022103_benign2.TIF', '/content/Masks/ytma49_042003_malignant3.TIF', '/content/Masks/ytma49_111303_malignant2.TIF', '/content/Masks/ytma23_022103_malignant1.TIF', '/content/Masks/ytma55_030603_benign6.TIF', '/content/Masks/ytma49_072303_benign1.TIF', '/content/Masks/ytma49_042403_malignant1.TIF', '/content/Masks/ytma10_010704_benign1.TIF', '/content/Masks/ytma49_042003_benign2.TIF', '/content/Masks/ytma49_111003_malignant1.TIF', '/content/Masks/ytma49_072303_benign2.TIF', '/content/Masks/ytma23_022103_benign1.TIF', '/content/Masks/ytma55_030603_benign4.TIF', '/content/Masks/ytma49_042003_malignant2.TIF', '/content/Masks/ytma49_111303_malignant3.TIF', '/content/Masks/ytma49_072303_malignant2.TIF', '/content/Masks/ytma49_111303_malignant1.TIF', '/content/Masks/ytma49_042203_benign2.TIF', '/content/Masks/ytma49_042203_benign1.TIF', '/content/Masks/ytma49_111303_benign1.TIF', '/content/Masks/ytma55_030603_benign2.TIF', '/content/Masks/ytma12_010804_benign3.TIF', '/content/Masks/ytma23_022103_malignant2.TIF', '/content/Masks/ytma10_010704_malignant2.TIF', '/content/Masks/ytma49_111303_benign3.TIF', '/content/Masks/ytma49_042403_malignant3.TIF', '/content/Masks/ytma49_111003_malignant2.TIF', '/content/Masks/ytma10_010704_malignant1.TIF', '/content/Masks/ytma49_072303_malignant1.TIF', '/content/Masks/ytma23_022103_malignant3.TIF', '/content/Masks/ytma49_042203_malignant2.TIF', '/content/Masks/ytma49_111003_benign3.TIF', '/content/Masks/ytma55_030603_benign3.TIF', '/content/Masks/ytma49_111003_benign1.TIF', '/content/Masks/ytma12_010804_malignant2.TIF']\n"
          ]
        }
      ]
    },
    {
      "cell_type": "code",
      "source": [
        "dataset_tuples = list(zip(imgs, masks))\n",
        "random.shuffle(dataset_tuples)\n",
        "train_tuples, test_tuples = train_test_split(dataset_tuples)"
      ],
      "metadata": {
        "id": "PqO6GonPNSA9"
      },
      "execution_count": 21,
      "outputs": []
    },
    {
      "cell_type": "code",
      "source": [],
      "metadata": {
        "id": "fs8Rkhu9NSSv"
      },
      "execution_count": null,
      "outputs": []
    },
    {
      "cell_type": "markdown",
      "source": [
        "## Write Dataloaders and transform data"
      ],
      "metadata": {
        "id": "vLylWtVwqAzQ"
      }
    },
    {
      "cell_type": "code",
      "source": [
        "SIZE = 512"
      ],
      "metadata": {
        "id": "ZYWACgIaQYYC"
      },
      "execution_count": 22,
      "outputs": []
    },
    {
      "cell_type": "code",
      "source": [
        "class BreastDataset(Dataset):\n",
        "\n",
        "    def __init__(self, img_mask):\n",
        "        self.img_mask = img_mask\n",
        "\n",
        "    def __len__(self,):\n",
        "        return len(self.img_mask)\n",
        "\n",
        "    def __getitem__(self, idx):\n",
        "        img_path, mask_path = self.img_mask[idx]\n",
        "        image = self.get_transform(img_path)\n",
        "        mask = self.get_transform(mask_path, normalize=False)\n",
        "        mask[mask > 0] = 1\n",
        "        return image,mask\n",
        "\n",
        "    def transform_image(self, path, normalize=True,resize=(SIZE, SIZE)):\n",
        "       image = io.imread(path)\n",
        "       image = cv2.cvtColor(image, cv2.COLOR_BGR2RGB)\n",
        "       image = cv2.resize(image, resize)\n",
        "       if normalize:\n",
        "          return image/255\n",
        "       return image"
      ],
      "metadata": {
        "id": "3swsl_vkQQvg"
      },
      "execution_count": 26,
      "outputs": []
    },
    {
      "cell_type": "code",
      "source": [
        "train_dataset = BreastDataset(train_tuples)\n",
        "test_dataset = BreastDataset(test_tuples)\n",
        "\n",
        "train_loader = DataLoader(train_dataset, batch_size=16, shuffle=True)\n",
        "test_loader = DataLoader(test_dataset, batch_size=16, shuffle=False)"
      ],
      "metadata": {
        "id": "rbjzHisXQnSX"
      },
      "execution_count": 28,
      "outputs": []
    },
    {
      "cell_type": "code",
      "source": [],
      "metadata": {
        "id": "4zCL5HoWTTJ4"
      },
      "execution_count": null,
      "outputs": []
    },
    {
      "cell_type": "code",
      "source": [],
      "metadata": {
        "id": "d0MeCXdhTTY9"
      },
      "execution_count": null,
      "outputs": []
    }
  ]
}