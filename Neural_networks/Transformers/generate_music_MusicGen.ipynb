{
  "nbformat": 4,
  "nbformat_minor": 0,
  "metadata": {
    "colab": {
      "provenance": []
    },
    "kernelspec": {
      "name": "python3",
      "display_name": "Python 3"
    },
    "language_info": {
      "name": "python"
    }
  },
  "cells": [
    {
      "cell_type": "code",
      "execution_count": null,
      "metadata": {
        "id": "cSyVbPs-7mt6"
      },
      "outputs": [],
      "source": [
        "!python3 -m pip install -U git+https://github.com/facebookresearch/audiocraft#egg=audiocraft\n",
        "# !python3 -m pip install -U audiocraft"
      ]
    },
    {
      "cell_type": "code",
      "source": [
        "from audiocraft.models import musicgen\n",
        "from audiocraft.utils.notebook import display_audio\n",
        "import torch\n",
        "from pydub import AudioSegment\n",
        "import numpy as np\n"
      ],
      "metadata": {
        "id": "F1SAfc8M7r3l"
      },
      "execution_count": null,
      "outputs": []
    },
    {
      "cell_type": "code",
      "source": [
        "model = musicgen.MusicGen.get_pretrained('medium', device='cuda')"
      ],
      "metadata": {
        "id": "MIfJoeJt716u"
      },
      "execution_count": null,
      "outputs": []
    },
    {
      "cell_type": "code",
      "source": [
        "rate = 32000\n",
        "length = 60\n",
        "prompt =[\"chill folk fantasy soundtrack with acoustic guitar, piano, harp melodies, drums and a peaceful, storytelling atmosphere.\"]"
      ],
      "metadata": {
        "id": "BDzZZa6Z8NQz"
      },
      "execution_count": null,
      "outputs": []
    },
    {
      "cell_type": "code",
      "source": [
        "model.set_generation_params(duration=length)\n",
        "res = model.generate(prompt, progress=True)\n",
        "display_audio(res, rate)"
      ],
      "metadata": {
        "id": "sHfyRTOx732d"
      },
      "execution_count": null,
      "outputs": []
    },
    {
      "cell_type": "code",
      "source": [
        "def save_audio(samples: torch.Tensor, sample_rate: int, filename: str):\n",
        "    assert samples.dim() == 2 or samples.dim() == 3\n",
        "\n",
        "    samples = samples.detach().cpu()\n",
        "    if samples.dim() == 2:\n",
        "        samples = samples[None, ...]\n",
        "\n",
        "    for audio in samples:\n",
        "        # Convert torch tensor to numpy array and scale the samples to int16\n",
        "        audio_np = (audio.numpy() * 32767).astype(np.int16)\n",
        "\n",
        "        # Convert numpy array to pydub AudioSegment\n",
        "        audio_segment = AudioSegment(\n",
        "            audio_np.tobytes(),\n",
        "            frame_rate=sample_rate,\n",
        "            sample_width=2,  # 16-bit samples\n",
        "            channels=1,      # Mono audio\n",
        "        )\n",
        "\n",
        "        audio_segment.export(filename, format=\"wav\")\n",
        "        print(f\"Audio saved as {filename}\")\n",
        "output_path = 'medieval_soundtrack5.wav'"
      ],
      "metadata": {
        "id": "S5JhD7lT8Sru"
      },
      "execution_count": null,
      "outputs": []
    },
    {
      "cell_type": "code",
      "source": [
        "save_audio(res, rate, output_path)"
      ],
      "metadata": {
        "id": "4k1BnWYm8fbd"
      },
      "execution_count": null,
      "outputs": []
    }
  ]
}