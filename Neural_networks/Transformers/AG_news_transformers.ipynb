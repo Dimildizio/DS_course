{
  "nbformat": 4,
  "nbformat_minor": 0,
  "metadata": {
    "colab": {
      "provenance": [],
      "authorship_tag": "ABX9TyP/phf3NjAr0IokDfx1/Zo9",
      "include_colab_link": true
    },
    "kernelspec": {
      "name": "python3",
      "display_name": "Python 3"
    },
    "language_info": {
      "name": "python"
    }
  },
  "cells": [
    {
      "cell_type": "markdown",
      "metadata": {
        "id": "view-in-github",
        "colab_type": "text"
      },
      "source": [
        "<a href=\"https://colab.research.google.com/github/Dimildizio/DS_course/blob/main/Neural_networks/Transformers/AG_news_transformers.ipynb\" target=\"_parent\"><img src=\"https://colab.research.google.com/assets/colab-badge.svg\" alt=\"Open In Colab\"/></a>"
      ]
    },
    {
      "cell_type": "markdown",
      "source": [
        "# Attention mechanism and Transformers"
      ],
      "metadata": {
        "id": "zKWf67JxRp3K"
      }
    },
    {
      "cell_type": "markdown",
      "source": [
        "Task: AG news classifiction"
      ],
      "metadata": {
        "id": "Z28Ax_LLRzAN"
      }
    },
    {
      "cell_type": "markdown",
      "source": [
        "## Imports"
      ],
      "metadata": {
        "id": "jrhdWb12R3pZ"
      }
    },
    {
      "cell_type": "code",
      "source": [
        "!pip install pymorphy2 -q\n",
        "!pip install datasets -q"
      ],
      "metadata": {
        "id": "6stELx47XnMG"
      },
      "execution_count": null,
      "outputs": []
    },
    {
      "cell_type": "code",
      "source": [
        "import os\n",
        "import numpy as np\n",
        "import math\n",
        "import matplotlib.pyplot as plt\n",
        "import pymorphy2\n",
        "import re\n",
        "import random\n",
        "import seaborn as sns\n",
        "import string\n",
        "import time\n",
        "\n",
        "import torch\n",
        "import torch.nn as nn\n",
        "import torch.optim as optim\n",
        "import torch.nn.functional as F\n",
        "from torch.utils.data import Dataset, DataLoader\n",
        "from torch.utils.tensorboard import SummaryWriter\n",
        "\n",
        "import datasets\n",
        "from datasets import load_dataset\n",
        "\n",
        "import nltk\n",
        "from nltk.tokenize import word_tokenize\n",
        "\n",
        "from collections import Counter\n",
        "from dataclasses import dataclass\n",
        "from sklearn.model_selection import train_test_split\n",
        "from tqdm.auto import tqdm\n",
        "from transformers import get_scheduler\n",
        "from typing import List\n",
        "\n",
        "sns.set(palette='summer')"
      ],
      "metadata": {
        "id": "4wAKf2eHSOnI"
      },
      "execution_count": null,
      "outputs": []
    },
    {
      "cell_type": "code",
      "source": [
        "nltk.download('punkt')\n",
        "nltk.download('stopwords')"
      ],
      "metadata": {
        "id": "-wQUxCXHSp6t"
      },
      "execution_count": null,
      "outputs": []
    },
    {
      "cell_type": "code",
      "source": [
        "device = 'cuda' if torch.cuda.is_available() else 'cpu'\n",
        "device"
      ],
      "metadata": {
        "id": "ZElY1Kf0Sr6d"
      },
      "execution_count": null,
      "outputs": []
    },
    {
      "cell_type": "markdown",
      "source": [
        "### Create tensorboard"
      ],
      "metadata": {
        "id": "abbMPb6XSWO3"
      }
    },
    {
      "cell_type": "code",
      "execution_count": null,
      "metadata": {
        "id": "nI3X0R19Rhcy"
      },
      "outputs": [],
      "source": [
        "%load_ext tensorboard\n",
        "\n",
        "log_dir = \"./logs\"\n",
        "if not os.path.exists(log_dir):\n",
        "    os.makedirs(log_dir)\n",
        "writer = SummaryWriter(log_dir)\n",
        "%tensorboard --logdir {log_dir}"
      ]
    },
    {
      "cell_type": "markdown",
      "source": [
        "## Set config"
      ],
      "metadata": {
        "id": "a8rJmI-uXv0b"
      }
    },
    {
      "cell_type": "code",
      "source": [
        "@dataclass\n",
        "class CFG:\n",
        "  bert_model = 'bert-base-cased'\n",
        "  custom_name = 'model_v0'\n",
        "  batch_size = 32\n",
        "  lr = 1e-5\n",
        "  attention_head = 1\n",
        "  train_size = 20000\n",
        "  test_size = 1000\n",
        "  padding_idx = 0\n",
        "  hdden_dim = 768\n",
        "  scheduler_lambda = 0.96"
      ],
      "metadata": {
        "colab": {
          "base_uri": "https://localhost:8080/",
          "height": 36
        },
        "id": "i2tZFQ3JXxXO",
        "outputId": "f6b510ab-3058-434e-81a1-9fc05769bcc2"
      },
      "execution_count": 1,
      "outputs": [
        {
          "output_type": "execute_result",
          "data": {
            "text/plain": [
              "'bert-base-cased'"
            ],
            "application/vnd.google.colaboratory.intrinsic+json": {
              "type": "string"
            }
          },
          "metadata": {},
          "execution_count": 1
        }
      ]
    },
    {
      "cell_type": "code",
      "source": [
        "STOP_WORDS = set(stopwords.words('english'))\n",
        "PUNCT_TOKENIZER = nltk.WordPunctTokenizer()\n",
        "MORPH = pymorphy2.MorphAnalyzer()"
      ],
      "metadata": {
        "id": "fm8BWdv3YL33"
      },
      "execution_count": null,
      "outputs": []
    },
    {
      "cell_type": "markdown",
      "source": [
        "### Freeze seeds for reproducibility"
      ],
      "metadata": {
        "id": "pT3HcpDhaWWE"
      }
    },
    {
      "cell_type": "code",
      "source": [
        "def seed_everything(seed=42):\n",
        "    random.seed(seed)\n",
        "    torch.manual_seed(seed)\n",
        "    torch.cuda.manual_seed_all(seed)\n",
        "    np.random.seed(seed)\n",
        "    torch.backends.cudnn.deterministic = True\n",
        "    torch.backends.cudnn.benchmark = False"
      ],
      "metadata": {
        "id": "R8wSJF7PaQNC"
      },
      "execution_count": null,
      "outputs": []
    },
    {
      "cell_type": "code",
      "source": [
        "seed_everything()"
      ],
      "metadata": {
        "id": "E3P05tmMaURC"
      },
      "execution_count": null,
      "outputs": []
    },
    {
      "cell_type": "markdown",
      "source": [
        "## Data preparation"
      ],
      "metadata": {
        "id": "P5WztfCCSvAj"
      }
    },
    {
      "cell_type": "code",
      "source": [
        "dataset = datasets.load_dataset('ag_news')"
      ],
      "metadata": {
        "id": "D0jxdP3aXfXE"
      },
      "execution_count": null,
      "outputs": []
    }
  ]
}