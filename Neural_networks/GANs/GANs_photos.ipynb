{
  "nbformat": 4,
  "nbformat_minor": 0,
  "metadata": {
    "colab": {
      "provenance": [],
      "authorship_tag": "ABX9TyPJ2KKAXvGg8xalMRoAGR7I",
      "include_colab_link": true
    },
    "kernelspec": {
      "name": "python3",
      "display_name": "Python 3"
    },
    "language_info": {
      "name": "python"
    }
  },
  "cells": [
    {
      "cell_type": "markdown",
      "metadata": {
        "id": "view-in-github",
        "colab_type": "text"
      },
      "source": [
        "<a href=\"https://colab.research.google.com/github/Dimildizio/DS_course/blob/main/Neural_networks/GANs/GANs_photos.ipynb\" target=\"_parent\"><img src=\"https://colab.research.google.com/assets/colab-badge.svg\" alt=\"Open In Colab\"/></a>"
      ]
    },
    {
      "cell_type": "markdown",
      "source": [
        "#Generative Adversarial Networks"
      ],
      "metadata": {
        "id": "Lq9_Al_CejFE"
      }
    },
    {
      "cell_type": "markdown",
      "source": [
        "## Description"
      ],
      "metadata": {
        "id": "WTZpE8Nxe2dv"
      }
    },
    {
      "cell_type": "markdown",
      "source": [
        "GANs are designed for generative tasks, specifically generating new data samples that are similar to a given dataset. The key idea behind GANs is to train two neural networks, a generator, and a discriminator, in a competitive framework"
      ],
      "metadata": {
        "id": "gvL6SsvzetGK"
      }
    },
    {
      "cell_type": "markdown",
      "source": [
        "### Key features"
      ],
      "metadata": {
        "id": "GQbROU3we1iy"
      }
    },
    {
      "cell_type": "markdown",
      "source": [
        "#### Generator"
      ],
      "metadata": {
        "id": "MsTV2lzEe8ig"
      }
    },
    {
      "cell_type": "markdown",
      "source": [
        "The generator network takes random noise as input and generates synthetic data samples.\n",
        "\n",
        "It learns to create data that is indistinguishable from real data in the training set."
      ],
      "metadata": {
        "id": "FajsNj3Ke-Us"
      }
    },
    {
      "cell_type": "markdown",
      "source": [
        "#### Discriminator"
      ],
      "metadata": {
        "id": "H9Ry_t4pe-Ze"
      }
    },
    {
      "cell_type": "markdown",
      "source": [
        "The discriminator network evaluates input data and attempts to distinguish between real and generated samples.\n",
        "\n",
        "It is trained to correctly classify samples as either real or fake.\n",
        "\n",
        "Best score is 0.5 when discriminator confuses fake for real samples"
      ],
      "metadata": {
        "id": "QZgGXK7ge-XG"
      }
    },
    {
      "cell_type": "markdown",
      "source": [
        "#### Adversarial training"
      ],
      "metadata": {
        "id": "4Ny_zOCoe-b2"
      }
    },
    {
      "cell_type": "markdown",
      "source": [
        "The generator and discriminator are trained simultaneously through adversarial training.\n",
        "\n",
        "The generator aims to produce realistic samples to fool the discriminator, while the discriminator aims to correctly classify real and generated samples."
      ],
      "metadata": {
        "id": "1bIS3kbGe-fY"
      }
    },
    {
      "cell_type": "markdown",
      "source": [
        "#### Training objective"
      ],
      "metadata": {
        "id": "51M2TsKtfc4P"
      }
    },
    {
      "cell_type": "markdown",
      "source": [
        "The training objective is a minimax game where the generator tries to minimize the discriminator's ability to distinguish between real and generated samples, and the discriminator tries to maximize its accuracy in distinguishing between them."
      ],
      "metadata": {
        "id": "1n0GEbLCfaIP"
      }
    },
    {
      "cell_type": "markdown",
      "source": [
        "#### Convergence"
      ],
      "metadata": {
        "id": "UL1Aecc2fhTz"
      }
    },
    {
      "cell_type": "markdown",
      "source": [
        "Ideally, this adversarial process leads to a generator that produces high-quality synthetic samples that are difficult for the discriminator to differentiate from real data."
      ],
      "metadata": {
        "id": "teWv2gQ2fhds"
      }
    },
    {
      "cell_type": "markdown",
      "source": [
        "## Imports"
      ],
      "metadata": {
        "id": "hlEgbcOrgE7h"
      }
    },
    {
      "cell_type": "code",
      "source": [
        "%%capture\n",
        "!pip install torchinfo kaggle"
      ],
      "metadata": {
        "id": "ifEWPv_ggGRv"
      },
      "execution_count": 1,
      "outputs": []
    },
    {
      "cell_type": "code",
      "source": [
        "import cv2\n",
        "import matplotlib.pyplot as plt\n",
        "import numpy as np\n",
        "import os\n",
        "import seaborn as sns\n",
        "import torch\n",
        "import torch.nn as nn\n",
        "import torchvision.transforms as tt\n",
        "\n",
        "from google.colab import files\n",
        "from PIL import Image\n",
        "from torch.utils.data import DataLoader, Dataset\n",
        "from torchvision import transforms\n",
        "from torchvision.datasets import ImageFolder\n",
        "from torchvision.utils import make_grid, save_image\n",
        "from tqdm.notebook import tqdm"
      ],
      "metadata": {
        "id": "-Z-OGa2wgJXJ"
      },
      "execution_count": 6,
      "outputs": []
    },
    {
      "cell_type": "code",
      "source": [
        "%matplotlib inline\n",
        "sns.set(style='darkgrid', font_scale=1.2)"
      ],
      "metadata": {
        "id": "Te_X08VFglFq"
      },
      "execution_count": 7,
      "outputs": []
    },
    {
      "cell_type": "markdown",
      "source": [
        "## Part 1: Data Preparation [2 Points]"
      ],
      "metadata": {
        "id": "_d0DfXOIgoJr"
      }
    },
    {
      "cell_type": "markdown",
      "source": [
        "### Download data"
      ],
      "metadata": {
        "id": "TlAy9s1Hkrje"
      }
    },
    {
      "cell_type": "code",
      "source": [
        "#uploaded = files.upload()\n",
        "!mkdir -p ~/.kaggle\n",
        "!mv kaggle.json ~/.kaggle/\n",
        "!chmod 600 ~/.kaggle/kaggle.json"
      ],
      "metadata": {
        "id": "cVSXUZg2iR5U"
      },
      "execution_count": null,
      "outputs": []
    },
    {
      "cell_type": "code",
      "source": [
        "%%capture\n",
        "!kaggle datasets download -d tommykamaz/faces-dataset-small"
      ],
      "metadata": {
        "id": "XDRvLY3vkn_C"
      },
      "execution_count": null,
      "outputs": []
    },
    {
      "cell_type": "code",
      "source": [
        "!unzip faces-dataset-small.zip"
      ],
      "metadata": {
        "id": "98HQZMJJkqrZ"
      },
      "execution_count": null,
      "outputs": []
    }
  ]
}