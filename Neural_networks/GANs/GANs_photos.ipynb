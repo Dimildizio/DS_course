{
  "nbformat": 4,
  "nbformat_minor": 0,
  "metadata": {
    "colab": {
      "provenance": [],
      "authorship_tag": "ABX9TyNUifqvEH3LeKnyLsUUYkkC",
      "include_colab_link": true
    },
    "kernelspec": {
      "name": "python3",
      "display_name": "Python 3"
    },
    "language_info": {
      "name": "python"
    }
  },
  "cells": [
    {
      "cell_type": "markdown",
      "metadata": {
        "id": "view-in-github",
        "colab_type": "text"
      },
      "source": [
        "<a href=\"https://colab.research.google.com/github/Dimildizio/DS_course/blob/main/Neural_networks/GANs/GANs_photos.ipynb\" target=\"_parent\"><img src=\"https://colab.research.google.com/assets/colab-badge.svg\" alt=\"Open In Colab\"/></a>"
      ]
    },
    {
      "cell_type": "markdown",
      "source": [
        "#Generative Adversarial Networks"
      ],
      "metadata": {
        "id": "Lq9_Al_CejFE"
      }
    },
    {
      "cell_type": "markdown",
      "source": [
        "## Description"
      ],
      "metadata": {
        "id": "WTZpE8Nxe2dv"
      }
    },
    {
      "cell_type": "markdown",
      "source": [
        "GANs are designed for generative tasks, specifically generating new data samples that are similar to a given dataset. The key idea behind GANs is to train two neural networks, a generator, and a discriminator, in a competitive framework"
      ],
      "metadata": {
        "id": "gvL6SsvzetGK"
      }
    },
    {
      "cell_type": "markdown",
      "source": [
        "### Key features"
      ],
      "metadata": {
        "id": "GQbROU3we1iy"
      }
    },
    {
      "cell_type": "markdown",
      "source": [
        "#### Generator"
      ],
      "metadata": {
        "id": "MsTV2lzEe8ig"
      }
    },
    {
      "cell_type": "markdown",
      "source": [
        "The generator network takes random noise as input and generates synthetic data samples.\n",
        "\n",
        "It learns to create data that is indistinguishable from real data in the training set."
      ],
      "metadata": {
        "id": "FajsNj3Ke-Us"
      }
    },
    {
      "cell_type": "markdown",
      "source": [
        "#### Discriminator"
      ],
      "metadata": {
        "id": "H9Ry_t4pe-Ze"
      }
    },
    {
      "cell_type": "markdown",
      "source": [
        "The discriminator network evaluates input data and attempts to distinguish between real and generated samples.\n",
        "\n",
        "It is trained to correctly classify samples as either real or fake.\n",
        "\n",
        "Best score is 0.5 when discriminator confuses fake for real samples"
      ],
      "metadata": {
        "id": "QZgGXK7ge-XG"
      }
    },
    {
      "cell_type": "markdown",
      "source": [
        "#### Adversarial training"
      ],
      "metadata": {
        "id": "4Ny_zOCoe-b2"
      }
    },
    {
      "cell_type": "markdown",
      "source": [
        "The generator and discriminator are trained simultaneously through adversarial training.\n",
        "\n",
        "The generator aims to produce realistic samples to fool the discriminator, while the discriminator aims to correctly classify real and generated samples."
      ],
      "metadata": {
        "id": "1bIS3kbGe-fY"
      }
    },
    {
      "cell_type": "markdown",
      "source": [
        "#### Training objective"
      ],
      "metadata": {
        "id": "51M2TsKtfc4P"
      }
    },
    {
      "cell_type": "markdown",
      "source": [
        "The training objective is a minimax game where the generator tries to minimize the discriminator's ability to distinguish between real and generated samples, and the discriminator tries to maximize its accuracy in distinguishing between them."
      ],
      "metadata": {
        "id": "1n0GEbLCfaIP"
      }
    },
    {
      "cell_type": "markdown",
      "source": [
        "#### Convergence"
      ],
      "metadata": {
        "id": "UL1Aecc2fhTz"
      }
    },
    {
      "cell_type": "markdown",
      "source": [
        "Ideally, this adversarial process leads to a generator that produces high-quality synthetic samples that are difficult for the discriminator to differentiate from real data."
      ],
      "metadata": {
        "id": "teWv2gQ2fhds"
      }
    },
    {
      "cell_type": "markdown",
      "source": [
        "## Imports"
      ],
      "metadata": {
        "id": "hlEgbcOrgE7h"
      }
    },
    {
      "cell_type": "code",
      "source": [
        "%%capture\n",
        "!pip install torchinfo kaggle wandb"
      ],
      "metadata": {
        "id": "ifEWPv_ggGRv"
      },
      "execution_count": 1,
      "outputs": []
    },
    {
      "cell_type": "code",
      "source": [
        "import cv2\n",
        "import matplotlib.pyplot as plt\n",
        "import numpy as np\n",
        "import os\n",
        "import random\n",
        "import seaborn as sns\n",
        "import torch\n",
        "import torch.nn as nn\n",
        "import torchvision.transforms as tt\n",
        "import wandb\n",
        "\n",
        "from google.colab import files, userdata\n",
        "from PIL import Image\n",
        "from torch.utils.data import DataLoader, Dataset\n",
        "from torchvision import transforms\n",
        "from torchvision.datasets import ImageFolder\n",
        "from torchvision.utils import make_grid, save_image\n",
        "from tqdm.notebook import tqdm\n",
        "from typing import List, Tuple, Dict, Callable"
      ],
      "metadata": {
        "id": "-Z-OGa2wgJXJ"
      },
      "execution_count": 6,
      "outputs": []
    },
    {
      "cell_type": "code",
      "source": [
        "%matplotlib inline\n",
        "sns.set(style='darkgrid', font_scale=1.2)"
      ],
      "metadata": {
        "id": "Te_X08VFglFq"
      },
      "execution_count": 7,
      "outputs": []
    },
    {
      "cell_type": "markdown",
      "source": [
        "## Set Config"
      ],
      "metadata": {
        "id": "HtGZeKwblXUw"
      }
    },
    {
      "cell_type": "code",
      "source": [
        "class CFG:\n",
        "  seed = 42\n",
        "  batch_size = 32\n",
        "  imgsize=128\n",
        "  stats = (0.5, 0.5, 0.5), (0.5, 0.5, 0.5)\n",
        "  momentum = 0.1\n",
        "  lr = 1e-4\n",
        "  epochs=30\n",
        "  weight_decay = 1e-5\n",
        "  eps=1e-10\n",
        "  device = lambda: 'cuda' if torch.cuda.is_available() else 'cpu'\n",
        "  wandbapi = False\n",
        "\n",
        "wandb_config = lambda: {\n",
        "    'achitecture':'GAN',\n",
        "    'optimizer':'AdamW',\n",
        "    'lr':CFG.lr,\n",
        "    'batch_size':CFG.batch_size,\n",
        "    'device':CFG.device(),\n",
        "}"
      ],
      "metadata": {
        "id": "g3khK3aclZ5D"
      },
      "execution_count": null,
      "outputs": []
    },
    {
      "cell_type": "markdown",
      "source": [
        "### Freeze seeds"
      ],
      "metadata": {
        "id": "Um91a1xZlwvG"
      }
    },
    {
      "cell_type": "code",
      "source": [
        "def seed_everything(seed: int=CFG.seed) -> None:\n",
        "  np.random.seed(seed)\n",
        "  os.environ['PYTHONHASHSEED'] = str(seed)\n",
        "  random.seed(seed)\n",
        "  torch.manual_seed(seed)\n",
        "  torch.cuda.manual_seed(seed)\n",
        "  torch.backends.cudnn.deterministic = True\n",
        "  #torch.backends.cudnn.benchmark = True\n",
        "\n",
        "def seed_wrapper(func: Callable) -> Callable:\n",
        "    \"\"\"\n",
        "    A wrapper function for repeatability and reproducibility.\n",
        "\n",
        "    Args:\n",
        "        func (Callable): The function to be wrapped.\n",
        "\n",
        "    Returns:\n",
        "        Callable: The wrapped function.\n",
        "    \"\"\"\n",
        "    def wrapped_function(*args, **kwargs):\n",
        "        seed_everything()\n",
        "        result = func(*args, **kwargs)\n",
        "        return result\n",
        "    return wrapped_function"
      ],
      "metadata": {
        "id": "TNSq-jJslyfi"
      },
      "execution_count": null,
      "outputs": []
    },
    {
      "cell_type": "code",
      "source": [
        "seed_everything()"
      ],
      "metadata": {
        "id": "a2IAszg_mx-k"
      },
      "execution_count": null,
      "outputs": []
    },
    {
      "cell_type": "markdown",
      "source": [
        "#### Set WandB"
      ],
      "metadata": {
        "id": "UfscuI01RUb4"
      }
    },
    {
      "cell_type": "code",
      "source": [
        "try:\n",
        "    CFG.wandbapi = userdata.get('wandb')\n",
        "    project=\"GANs\"\n",
        "    entity='dimildizio'\n",
        "    wandb.login(key=CFG.wandbapi)\n",
        "except Exception as e:\n",
        "    print(e)"
      ],
      "metadata": {
        "id": "8QBKC_3rRWk1"
      },
      "execution_count": null,
      "outputs": []
    },
    {
      "cell_type": "code",
      "source": [
        "def wandb_wrapper(func: Callable) -> Callable:\n",
        "    \"\"\"\n",
        "    A wrapper function for integrating with Weights & Biases (wandb).\n",
        "\n",
        "    Args:\n",
        "        func (Callable): The function to be wrapped.\n",
        "\n",
        "    Returns:\n",
        "        Callable: The wrapped function.\n",
        "    \"\"\"\n",
        "    def wrapped_function(*args, **kwargs):\n",
        "        print('wrapper works')\n",
        "        if CFG.wandbapi:\n",
        "            wandb.init(project=project, entity=entity, config=wandb_config())\n",
        "            print('Logging wandb')\n",
        "        try:\n",
        "          result = func(*args, **kwargs)\n",
        "        except Exception as e:\n",
        "          if CFG.wandbapi:\n",
        "            wandb.log({\"error_message\": str(e)}, commit=False)\n",
        "            wandb.finish()\n",
        "          raise e\n",
        "        finally:\n",
        "          if CFG.wandbapi:\n",
        "            wandb.finish()\n",
        "        return result\n",
        "    return wrapped_function"
      ],
      "metadata": {
        "id": "SdsYzsvnRjsL"
      },
      "execution_count": null,
      "outputs": []
    },
    {
      "cell_type": "markdown",
      "source": [
        "## Part 1: Data Preparation [2 Points]"
      ],
      "metadata": {
        "id": "_d0DfXOIgoJr"
      }
    },
    {
      "cell_type": "markdown",
      "source": [
        "### Download data"
      ],
      "metadata": {
        "id": "TlAy9s1Hkrje"
      }
    },
    {
      "cell_type": "code",
      "source": [
        "#uploaded = files.upload()\n",
        "!mkdir -p ~/.kaggle\n",
        "!mv kaggle.json ~/.kaggle/\n",
        "!chmod 600 ~/.kaggle/kaggle.json"
      ],
      "metadata": {
        "id": "cVSXUZg2iR5U"
      },
      "execution_count": null,
      "outputs": []
    },
    {
      "cell_type": "code",
      "source": [
        "%%capture\n",
        "!kaggle datasets download -d tommykamaz/faces-dataset-small"
      ],
      "metadata": {
        "id": "XDRvLY3vkn_C"
      },
      "execution_count": null,
      "outputs": []
    },
    {
      "cell_type": "code",
      "source": [
        "!unzip faces-dataset-small.zip"
      ],
      "metadata": {
        "id": "98HQZMJJkqrZ"
      },
      "execution_count": null,
      "outputs": []
    }
  ]
}