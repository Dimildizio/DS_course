{
  "nbformat": 4,
  "nbformat_minor": 0,
  "metadata": {
    "colab": {
      "provenance": [],
      "gpuType": "T4",
      "authorship_tag": "ABX9TyMke7RYqOuZD6a1CJghpCqL",
      "include_colab_link": true
    },
    "kernelspec": {
      "name": "python3",
      "display_name": "Python 3"
    },
    "language_info": {
      "name": "python"
    },
    "accelerator": "GPU",
    "widgets": {
      "application/vnd.jupyter.widget-state+json": {
        "3e22a3e793d84fc089d5db5c5c42b6b6": {
          "model_module": "@jupyter-widgets/controls",
          "model_name": "HBoxModel",
          "model_module_version": "1.5.0",
          "state": {
            "_dom_classes": [],
            "_model_module": "@jupyter-widgets/controls",
            "_model_module_version": "1.5.0",
            "_model_name": "HBoxModel",
            "_view_count": null,
            "_view_module": "@jupyter-widgets/controls",
            "_view_module_version": "1.5.0",
            "_view_name": "HBoxView",
            "box_style": "",
            "children": [
              "IPY_MODEL_6bfb46024f124e6cbcf11ee68ab783ee",
              "IPY_MODEL_ad41250fbe8844d881511c87d49defac",
              "IPY_MODEL_6a9e9be1b32d44c9ad0699692a588001"
            ],
            "layout": "IPY_MODEL_3f37e2a1cc414346bafbb9856e14477e"
          }
        },
        "6bfb46024f124e6cbcf11ee68ab783ee": {
          "model_module": "@jupyter-widgets/controls",
          "model_name": "HTMLModel",
          "model_module_version": "1.5.0",
          "state": {
            "_dom_classes": [],
            "_model_module": "@jupyter-widgets/controls",
            "_model_module_version": "1.5.0",
            "_model_name": "HTMLModel",
            "_view_count": null,
            "_view_module": "@jupyter-widgets/controls",
            "_view_module_version": "1.5.0",
            "_view_name": "HTMLView",
            "description": "",
            "description_tooltip": null,
            "layout": "IPY_MODEL_f41d629a88c846609dace488c30cd17c",
            "placeholder": "​",
            "style": "IPY_MODEL_c4a740fed29e4b32adb0b4557a447cf0",
            "value": "Loss=0.114: 100%"
          }
        },
        "ad41250fbe8844d881511c87d49defac": {
          "model_module": "@jupyter-widgets/controls",
          "model_name": "FloatProgressModel",
          "model_module_version": "1.5.0",
          "state": {
            "_dom_classes": [],
            "_model_module": "@jupyter-widgets/controls",
            "_model_module_version": "1.5.0",
            "_model_name": "FloatProgressModel",
            "_view_count": null,
            "_view_module": "@jupyter-widgets/controls",
            "_view_module_version": "1.5.0",
            "_view_name": "ProgressView",
            "bar_style": "success",
            "description": "",
            "description_tooltip": null,
            "layout": "IPY_MODEL_613ca4cd51a442de8db83c872c627dc9",
            "max": 324,
            "min": 0,
            "orientation": "horizontal",
            "style": "IPY_MODEL_7db238c25b604c52b8069ea97d476d24",
            "value": 324
          }
        },
        "6a9e9be1b32d44c9ad0699692a588001": {
          "model_module": "@jupyter-widgets/controls",
          "model_name": "HTMLModel",
          "model_module_version": "1.5.0",
          "state": {
            "_dom_classes": [],
            "_model_module": "@jupyter-widgets/controls",
            "_model_module_version": "1.5.0",
            "_model_name": "HTMLModel",
            "_view_count": null,
            "_view_module": "@jupyter-widgets/controls",
            "_view_module_version": "1.5.0",
            "_view_name": "HTMLView",
            "description": "",
            "description_tooltip": null,
            "layout": "IPY_MODEL_e1eb9cf82e474366aeaba6433a20f716",
            "placeholder": "​",
            "style": "IPY_MODEL_cda73d29c95b4a80abf571c4ca2b9e30",
            "value": " 324/324 [02:56&lt;00:00,  2.45it/s]"
          }
        },
        "3f37e2a1cc414346bafbb9856e14477e": {
          "model_module": "@jupyter-widgets/base",
          "model_name": "LayoutModel",
          "model_module_version": "1.2.0",
          "state": {
            "_model_module": "@jupyter-widgets/base",
            "_model_module_version": "1.2.0",
            "_model_name": "LayoutModel",
            "_view_count": null,
            "_view_module": "@jupyter-widgets/base",
            "_view_module_version": "1.2.0",
            "_view_name": "LayoutView",
            "align_content": null,
            "align_items": null,
            "align_self": null,
            "border": null,
            "bottom": null,
            "display": null,
            "flex": null,
            "flex_flow": null,
            "grid_area": null,
            "grid_auto_columns": null,
            "grid_auto_flow": null,
            "grid_auto_rows": null,
            "grid_column": null,
            "grid_gap": null,
            "grid_row": null,
            "grid_template_areas": null,
            "grid_template_columns": null,
            "grid_template_rows": null,
            "height": null,
            "justify_content": null,
            "justify_items": null,
            "left": null,
            "margin": null,
            "max_height": null,
            "max_width": null,
            "min_height": null,
            "min_width": null,
            "object_fit": null,
            "object_position": null,
            "order": null,
            "overflow": null,
            "overflow_x": null,
            "overflow_y": null,
            "padding": null,
            "right": null,
            "top": null,
            "visibility": null,
            "width": null
          }
        },
        "f41d629a88c846609dace488c30cd17c": {
          "model_module": "@jupyter-widgets/base",
          "model_name": "LayoutModel",
          "model_module_version": "1.2.0",
          "state": {
            "_model_module": "@jupyter-widgets/base",
            "_model_module_version": "1.2.0",
            "_model_name": "LayoutModel",
            "_view_count": null,
            "_view_module": "@jupyter-widgets/base",
            "_view_module_version": "1.2.0",
            "_view_name": "LayoutView",
            "align_content": null,
            "align_items": null,
            "align_self": null,
            "border": null,
            "bottom": null,
            "display": null,
            "flex": null,
            "flex_flow": null,
            "grid_area": null,
            "grid_auto_columns": null,
            "grid_auto_flow": null,
            "grid_auto_rows": null,
            "grid_column": null,
            "grid_gap": null,
            "grid_row": null,
            "grid_template_areas": null,
            "grid_template_columns": null,
            "grid_template_rows": null,
            "height": null,
            "justify_content": null,
            "justify_items": null,
            "left": null,
            "margin": null,
            "max_height": null,
            "max_width": null,
            "min_height": null,
            "min_width": null,
            "object_fit": null,
            "object_position": null,
            "order": null,
            "overflow": null,
            "overflow_x": null,
            "overflow_y": null,
            "padding": null,
            "right": null,
            "top": null,
            "visibility": null,
            "width": null
          }
        },
        "c4a740fed29e4b32adb0b4557a447cf0": {
          "model_module": "@jupyter-widgets/controls",
          "model_name": "DescriptionStyleModel",
          "model_module_version": "1.5.0",
          "state": {
            "_model_module": "@jupyter-widgets/controls",
            "_model_module_version": "1.5.0",
            "_model_name": "DescriptionStyleModel",
            "_view_count": null,
            "_view_module": "@jupyter-widgets/base",
            "_view_module_version": "1.2.0",
            "_view_name": "StyleView",
            "description_width": ""
          }
        },
        "613ca4cd51a442de8db83c872c627dc9": {
          "model_module": "@jupyter-widgets/base",
          "model_name": "LayoutModel",
          "model_module_version": "1.2.0",
          "state": {
            "_model_module": "@jupyter-widgets/base",
            "_model_module_version": "1.2.0",
            "_model_name": "LayoutModel",
            "_view_count": null,
            "_view_module": "@jupyter-widgets/base",
            "_view_module_version": "1.2.0",
            "_view_name": "LayoutView",
            "align_content": null,
            "align_items": null,
            "align_self": null,
            "border": null,
            "bottom": null,
            "display": null,
            "flex": null,
            "flex_flow": null,
            "grid_area": null,
            "grid_auto_columns": null,
            "grid_auto_flow": null,
            "grid_auto_rows": null,
            "grid_column": null,
            "grid_gap": null,
            "grid_row": null,
            "grid_template_areas": null,
            "grid_template_columns": null,
            "grid_template_rows": null,
            "height": null,
            "justify_content": null,
            "justify_items": null,
            "left": null,
            "margin": null,
            "max_height": null,
            "max_width": null,
            "min_height": null,
            "min_width": null,
            "object_fit": null,
            "object_position": null,
            "order": null,
            "overflow": null,
            "overflow_x": null,
            "overflow_y": null,
            "padding": null,
            "right": null,
            "top": null,
            "visibility": null,
            "width": null
          }
        },
        "7db238c25b604c52b8069ea97d476d24": {
          "model_module": "@jupyter-widgets/controls",
          "model_name": "ProgressStyleModel",
          "model_module_version": "1.5.0",
          "state": {
            "_model_module": "@jupyter-widgets/controls",
            "_model_module_version": "1.5.0",
            "_model_name": "ProgressStyleModel",
            "_view_count": null,
            "_view_module": "@jupyter-widgets/base",
            "_view_module_version": "1.2.0",
            "_view_name": "StyleView",
            "bar_color": null,
            "description_width": ""
          }
        },
        "e1eb9cf82e474366aeaba6433a20f716": {
          "model_module": "@jupyter-widgets/base",
          "model_name": "LayoutModel",
          "model_module_version": "1.2.0",
          "state": {
            "_model_module": "@jupyter-widgets/base",
            "_model_module_version": "1.2.0",
            "_model_name": "LayoutModel",
            "_view_count": null,
            "_view_module": "@jupyter-widgets/base",
            "_view_module_version": "1.2.0",
            "_view_name": "LayoutView",
            "align_content": null,
            "align_items": null,
            "align_self": null,
            "border": null,
            "bottom": null,
            "display": null,
            "flex": null,
            "flex_flow": null,
            "grid_area": null,
            "grid_auto_columns": null,
            "grid_auto_flow": null,
            "grid_auto_rows": null,
            "grid_column": null,
            "grid_gap": null,
            "grid_row": null,
            "grid_template_areas": null,
            "grid_template_columns": null,
            "grid_template_rows": null,
            "height": null,
            "justify_content": null,
            "justify_items": null,
            "left": null,
            "margin": null,
            "max_height": null,
            "max_width": null,
            "min_height": null,
            "min_width": null,
            "object_fit": null,
            "object_position": null,
            "order": null,
            "overflow": null,
            "overflow_x": null,
            "overflow_y": null,
            "padding": null,
            "right": null,
            "top": null,
            "visibility": null,
            "width": null
          }
        },
        "cda73d29c95b4a80abf571c4ca2b9e30": {
          "model_module": "@jupyter-widgets/controls",
          "model_name": "DescriptionStyleModel",
          "model_module_version": "1.5.0",
          "state": {
            "_model_module": "@jupyter-widgets/controls",
            "_model_module_version": "1.5.0",
            "_model_name": "DescriptionStyleModel",
            "_view_count": null,
            "_view_module": "@jupyter-widgets/base",
            "_view_module_version": "1.2.0",
            "_view_name": "StyleView",
            "description_width": ""
          }
        },
        "ed6b81e01d6b4d68914f78fda29f6995": {
          "model_module": "@jupyter-widgets/controls",
          "model_name": "HBoxModel",
          "model_module_version": "1.5.0",
          "state": {
            "_dom_classes": [],
            "_model_module": "@jupyter-widgets/controls",
            "_model_module_version": "1.5.0",
            "_model_name": "HBoxModel",
            "_view_count": null,
            "_view_module": "@jupyter-widgets/controls",
            "_view_module_version": "1.5.0",
            "_view_name": "HBoxView",
            "box_style": "",
            "children": [
              "IPY_MODEL_f0c5c8dd651845b793b370c8459068b9",
              "IPY_MODEL_0c978e7cabe846c6ba1138d10a346d5a",
              "IPY_MODEL_ccbfbd36e467446abbc9571571191f69"
            ],
            "layout": "IPY_MODEL_d045024eeb54421d844a9d58fae38f81"
          }
        },
        "f0c5c8dd651845b793b370c8459068b9": {
          "model_module": "@jupyter-widgets/controls",
          "model_name": "HTMLModel",
          "model_module_version": "1.5.0",
          "state": {
            "_dom_classes": [],
            "_model_module": "@jupyter-widgets/controls",
            "_model_module_version": "1.5.0",
            "_model_name": "HTMLModel",
            "_view_count": null,
            "_view_module": "@jupyter-widgets/controls",
            "_view_module_version": "1.5.0",
            "_view_name": "HTMLView",
            "description": "",
            "description_tooltip": null,
            "layout": "IPY_MODEL_d2ac871800ee4798b49eff170255e74e",
            "placeholder": "​",
            "style": "IPY_MODEL_04ba3acd193842cfb66715d4acd79a62",
            "value": "Loss=0.188: 100%"
          }
        },
        "0c978e7cabe846c6ba1138d10a346d5a": {
          "model_module": "@jupyter-widgets/controls",
          "model_name": "FloatProgressModel",
          "model_module_version": "1.5.0",
          "state": {
            "_dom_classes": [],
            "_model_module": "@jupyter-widgets/controls",
            "_model_module_version": "1.5.0",
            "_model_name": "FloatProgressModel",
            "_view_count": null,
            "_view_module": "@jupyter-widgets/controls",
            "_view_module_version": "1.5.0",
            "_view_name": "ProgressView",
            "bar_style": "success",
            "description": "",
            "description_tooltip": null,
            "layout": "IPY_MODEL_ee5bf358db924686aecf0af783fbfab5",
            "max": 324,
            "min": 0,
            "orientation": "horizontal",
            "style": "IPY_MODEL_6a8318090e9646c9a3cf50ff95208c14",
            "value": 324
          }
        },
        "ccbfbd36e467446abbc9571571191f69": {
          "model_module": "@jupyter-widgets/controls",
          "model_name": "HTMLModel",
          "model_module_version": "1.5.0",
          "state": {
            "_dom_classes": [],
            "_model_module": "@jupyter-widgets/controls",
            "_model_module_version": "1.5.0",
            "_model_name": "HTMLModel",
            "_view_count": null,
            "_view_module": "@jupyter-widgets/controls",
            "_view_module_version": "1.5.0",
            "_view_name": "HTMLView",
            "description": "",
            "description_tooltip": null,
            "layout": "IPY_MODEL_98758f314ab44a559b175cc704b32051",
            "placeholder": "​",
            "style": "IPY_MODEL_a1b8ed9d8f6d4a79947fc6c0fd74de55",
            "value": " 324/324 [02:59&lt;00:00,  2.29it/s]"
          }
        },
        "d045024eeb54421d844a9d58fae38f81": {
          "model_module": "@jupyter-widgets/base",
          "model_name": "LayoutModel",
          "model_module_version": "1.2.0",
          "state": {
            "_model_module": "@jupyter-widgets/base",
            "_model_module_version": "1.2.0",
            "_model_name": "LayoutModel",
            "_view_count": null,
            "_view_module": "@jupyter-widgets/base",
            "_view_module_version": "1.2.0",
            "_view_name": "LayoutView",
            "align_content": null,
            "align_items": null,
            "align_self": null,
            "border": null,
            "bottom": null,
            "display": null,
            "flex": null,
            "flex_flow": null,
            "grid_area": null,
            "grid_auto_columns": null,
            "grid_auto_flow": null,
            "grid_auto_rows": null,
            "grid_column": null,
            "grid_gap": null,
            "grid_row": null,
            "grid_template_areas": null,
            "grid_template_columns": null,
            "grid_template_rows": null,
            "height": null,
            "justify_content": null,
            "justify_items": null,
            "left": null,
            "margin": null,
            "max_height": null,
            "max_width": null,
            "min_height": null,
            "min_width": null,
            "object_fit": null,
            "object_position": null,
            "order": null,
            "overflow": null,
            "overflow_x": null,
            "overflow_y": null,
            "padding": null,
            "right": null,
            "top": null,
            "visibility": null,
            "width": null
          }
        },
        "d2ac871800ee4798b49eff170255e74e": {
          "model_module": "@jupyter-widgets/base",
          "model_name": "LayoutModel",
          "model_module_version": "1.2.0",
          "state": {
            "_model_module": "@jupyter-widgets/base",
            "_model_module_version": "1.2.0",
            "_model_name": "LayoutModel",
            "_view_count": null,
            "_view_module": "@jupyter-widgets/base",
            "_view_module_version": "1.2.0",
            "_view_name": "LayoutView",
            "align_content": null,
            "align_items": null,
            "align_self": null,
            "border": null,
            "bottom": null,
            "display": null,
            "flex": null,
            "flex_flow": null,
            "grid_area": null,
            "grid_auto_columns": null,
            "grid_auto_flow": null,
            "grid_auto_rows": null,
            "grid_column": null,
            "grid_gap": null,
            "grid_row": null,
            "grid_template_areas": null,
            "grid_template_columns": null,
            "grid_template_rows": null,
            "height": null,
            "justify_content": null,
            "justify_items": null,
            "left": null,
            "margin": null,
            "max_height": null,
            "max_width": null,
            "min_height": null,
            "min_width": null,
            "object_fit": null,
            "object_position": null,
            "order": null,
            "overflow": null,
            "overflow_x": null,
            "overflow_y": null,
            "padding": null,
            "right": null,
            "top": null,
            "visibility": null,
            "width": null
          }
        },
        "04ba3acd193842cfb66715d4acd79a62": {
          "model_module": "@jupyter-widgets/controls",
          "model_name": "DescriptionStyleModel",
          "model_module_version": "1.5.0",
          "state": {
            "_model_module": "@jupyter-widgets/controls",
            "_model_module_version": "1.5.0",
            "_model_name": "DescriptionStyleModel",
            "_view_count": null,
            "_view_module": "@jupyter-widgets/base",
            "_view_module_version": "1.2.0",
            "_view_name": "StyleView",
            "description_width": ""
          }
        },
        "ee5bf358db924686aecf0af783fbfab5": {
          "model_module": "@jupyter-widgets/base",
          "model_name": "LayoutModel",
          "model_module_version": "1.2.0",
          "state": {
            "_model_module": "@jupyter-widgets/base",
            "_model_module_version": "1.2.0",
            "_model_name": "LayoutModel",
            "_view_count": null,
            "_view_module": "@jupyter-widgets/base",
            "_view_module_version": "1.2.0",
            "_view_name": "LayoutView",
            "align_content": null,
            "align_items": null,
            "align_self": null,
            "border": null,
            "bottom": null,
            "display": null,
            "flex": null,
            "flex_flow": null,
            "grid_area": null,
            "grid_auto_columns": null,
            "grid_auto_flow": null,
            "grid_auto_rows": null,
            "grid_column": null,
            "grid_gap": null,
            "grid_row": null,
            "grid_template_areas": null,
            "grid_template_columns": null,
            "grid_template_rows": null,
            "height": null,
            "justify_content": null,
            "justify_items": null,
            "left": null,
            "margin": null,
            "max_height": null,
            "max_width": null,
            "min_height": null,
            "min_width": null,
            "object_fit": null,
            "object_position": null,
            "order": null,
            "overflow": null,
            "overflow_x": null,
            "overflow_y": null,
            "padding": null,
            "right": null,
            "top": null,
            "visibility": null,
            "width": null
          }
        },
        "6a8318090e9646c9a3cf50ff95208c14": {
          "model_module": "@jupyter-widgets/controls",
          "model_name": "ProgressStyleModel",
          "model_module_version": "1.5.0",
          "state": {
            "_model_module": "@jupyter-widgets/controls",
            "_model_module_version": "1.5.0",
            "_model_name": "ProgressStyleModel",
            "_view_count": null,
            "_view_module": "@jupyter-widgets/base",
            "_view_module_version": "1.2.0",
            "_view_name": "StyleView",
            "bar_color": null,
            "description_width": ""
          }
        },
        "98758f314ab44a559b175cc704b32051": {
          "model_module": "@jupyter-widgets/base",
          "model_name": "LayoutModel",
          "model_module_version": "1.2.0",
          "state": {
            "_model_module": "@jupyter-widgets/base",
            "_model_module_version": "1.2.0",
            "_model_name": "LayoutModel",
            "_view_count": null,
            "_view_module": "@jupyter-widgets/base",
            "_view_module_version": "1.2.0",
            "_view_name": "LayoutView",
            "align_content": null,
            "align_items": null,
            "align_self": null,
            "border": null,
            "bottom": null,
            "display": null,
            "flex": null,
            "flex_flow": null,
            "grid_area": null,
            "grid_auto_columns": null,
            "grid_auto_flow": null,
            "grid_auto_rows": null,
            "grid_column": null,
            "grid_gap": null,
            "grid_row": null,
            "grid_template_areas": null,
            "grid_template_columns": null,
            "grid_template_rows": null,
            "height": null,
            "justify_content": null,
            "justify_items": null,
            "left": null,
            "margin": null,
            "max_height": null,
            "max_width": null,
            "min_height": null,
            "min_width": null,
            "object_fit": null,
            "object_position": null,
            "order": null,
            "overflow": null,
            "overflow_x": null,
            "overflow_y": null,
            "padding": null,
            "right": null,
            "top": null,
            "visibility": null,
            "width": null
          }
        },
        "a1b8ed9d8f6d4a79947fc6c0fd74de55": {
          "model_module": "@jupyter-widgets/controls",
          "model_name": "DescriptionStyleModel",
          "model_module_version": "1.5.0",
          "state": {
            "_model_module": "@jupyter-widgets/controls",
            "_model_module_version": "1.5.0",
            "_model_name": "DescriptionStyleModel",
            "_view_count": null,
            "_view_module": "@jupyter-widgets/base",
            "_view_module_version": "1.2.0",
            "_view_name": "StyleView",
            "description_width": ""
          }
        },
        "9e3c9cb96fec42e18b6d9048d51393b7": {
          "model_module": "@jupyter-widgets/controls",
          "model_name": "HBoxModel",
          "model_module_version": "1.5.0",
          "state": {
            "_dom_classes": [],
            "_model_module": "@jupyter-widgets/controls",
            "_model_module_version": "1.5.0",
            "_model_name": "HBoxModel",
            "_view_count": null,
            "_view_module": "@jupyter-widgets/controls",
            "_view_module_version": "1.5.0",
            "_view_name": "HBoxView",
            "box_style": "",
            "children": [
              "IPY_MODEL_f56541c2c90f4970b42221806cb568ac",
              "IPY_MODEL_ac252fef69a548e48694f18285384bd4",
              "IPY_MODEL_dc6b8bad6470499693c6ecd287a6ad1e"
            ],
            "layout": "IPY_MODEL_9dd5d00a24074dd89a440cea445fe7e8"
          }
        },
        "f56541c2c90f4970b42221806cb568ac": {
          "model_module": "@jupyter-widgets/controls",
          "model_name": "HTMLModel",
          "model_module_version": "1.5.0",
          "state": {
            "_dom_classes": [],
            "_model_module": "@jupyter-widgets/controls",
            "_model_module_version": "1.5.0",
            "_model_name": "HTMLModel",
            "_view_count": null,
            "_view_module": "@jupyter-widgets/controls",
            "_view_module_version": "1.5.0",
            "_view_name": "HTMLView",
            "description": "",
            "description_tooltip": null,
            "layout": "IPY_MODEL_88ed934368194ba4b90675f516171da9",
            "placeholder": "​",
            "style": "IPY_MODEL_fca80b686a2c4134b006e6584ac346d4",
            "value": "Loss=0.172: 100%"
          }
        },
        "ac252fef69a548e48694f18285384bd4": {
          "model_module": "@jupyter-widgets/controls",
          "model_name": "FloatProgressModel",
          "model_module_version": "1.5.0",
          "state": {
            "_dom_classes": [],
            "_model_module": "@jupyter-widgets/controls",
            "_model_module_version": "1.5.0",
            "_model_name": "FloatProgressModel",
            "_view_count": null,
            "_view_module": "@jupyter-widgets/controls",
            "_view_module_version": "1.5.0",
            "_view_name": "ProgressView",
            "bar_style": "success",
            "description": "",
            "description_tooltip": null,
            "layout": "IPY_MODEL_c419600bfd8648199a80e9b13cf29925",
            "max": 324,
            "min": 0,
            "orientation": "horizontal",
            "style": "IPY_MODEL_cca45b30d95840f285286e792019e08e",
            "value": 324
          }
        },
        "dc6b8bad6470499693c6ecd287a6ad1e": {
          "model_module": "@jupyter-widgets/controls",
          "model_name": "HTMLModel",
          "model_module_version": "1.5.0",
          "state": {
            "_dom_classes": [],
            "_model_module": "@jupyter-widgets/controls",
            "_model_module_version": "1.5.0",
            "_model_name": "HTMLModel",
            "_view_count": null,
            "_view_module": "@jupyter-widgets/controls",
            "_view_module_version": "1.5.0",
            "_view_name": "HTMLView",
            "description": "",
            "description_tooltip": null,
            "layout": "IPY_MODEL_dd4c2bf802e547958e7e86626b496ca6",
            "placeholder": "​",
            "style": "IPY_MODEL_8a725cf74f9c4d96bae07c6afed56d76",
            "value": " 324/324 [02:58&lt;00:00,  2.43it/s]"
          }
        },
        "9dd5d00a24074dd89a440cea445fe7e8": {
          "model_module": "@jupyter-widgets/base",
          "model_name": "LayoutModel",
          "model_module_version": "1.2.0",
          "state": {
            "_model_module": "@jupyter-widgets/base",
            "_model_module_version": "1.2.0",
            "_model_name": "LayoutModel",
            "_view_count": null,
            "_view_module": "@jupyter-widgets/base",
            "_view_module_version": "1.2.0",
            "_view_name": "LayoutView",
            "align_content": null,
            "align_items": null,
            "align_self": null,
            "border": null,
            "bottom": null,
            "display": null,
            "flex": null,
            "flex_flow": null,
            "grid_area": null,
            "grid_auto_columns": null,
            "grid_auto_flow": null,
            "grid_auto_rows": null,
            "grid_column": null,
            "grid_gap": null,
            "grid_row": null,
            "grid_template_areas": null,
            "grid_template_columns": null,
            "grid_template_rows": null,
            "height": null,
            "justify_content": null,
            "justify_items": null,
            "left": null,
            "margin": null,
            "max_height": null,
            "max_width": null,
            "min_height": null,
            "min_width": null,
            "object_fit": null,
            "object_position": null,
            "order": null,
            "overflow": null,
            "overflow_x": null,
            "overflow_y": null,
            "padding": null,
            "right": null,
            "top": null,
            "visibility": null,
            "width": null
          }
        },
        "88ed934368194ba4b90675f516171da9": {
          "model_module": "@jupyter-widgets/base",
          "model_name": "LayoutModel",
          "model_module_version": "1.2.0",
          "state": {
            "_model_module": "@jupyter-widgets/base",
            "_model_module_version": "1.2.0",
            "_model_name": "LayoutModel",
            "_view_count": null,
            "_view_module": "@jupyter-widgets/base",
            "_view_module_version": "1.2.0",
            "_view_name": "LayoutView",
            "align_content": null,
            "align_items": null,
            "align_self": null,
            "border": null,
            "bottom": null,
            "display": null,
            "flex": null,
            "flex_flow": null,
            "grid_area": null,
            "grid_auto_columns": null,
            "grid_auto_flow": null,
            "grid_auto_rows": null,
            "grid_column": null,
            "grid_gap": null,
            "grid_row": null,
            "grid_template_areas": null,
            "grid_template_columns": null,
            "grid_template_rows": null,
            "height": null,
            "justify_content": null,
            "justify_items": null,
            "left": null,
            "margin": null,
            "max_height": null,
            "max_width": null,
            "min_height": null,
            "min_width": null,
            "object_fit": null,
            "object_position": null,
            "order": null,
            "overflow": null,
            "overflow_x": null,
            "overflow_y": null,
            "padding": null,
            "right": null,
            "top": null,
            "visibility": null,
            "width": null
          }
        },
        "fca80b686a2c4134b006e6584ac346d4": {
          "model_module": "@jupyter-widgets/controls",
          "model_name": "DescriptionStyleModel",
          "model_module_version": "1.5.0",
          "state": {
            "_model_module": "@jupyter-widgets/controls",
            "_model_module_version": "1.5.0",
            "_model_name": "DescriptionStyleModel",
            "_view_count": null,
            "_view_module": "@jupyter-widgets/base",
            "_view_module_version": "1.2.0",
            "_view_name": "StyleView",
            "description_width": ""
          }
        },
        "c419600bfd8648199a80e9b13cf29925": {
          "model_module": "@jupyter-widgets/base",
          "model_name": "LayoutModel",
          "model_module_version": "1.2.0",
          "state": {
            "_model_module": "@jupyter-widgets/base",
            "_model_module_version": "1.2.0",
            "_model_name": "LayoutModel",
            "_view_count": null,
            "_view_module": "@jupyter-widgets/base",
            "_view_module_version": "1.2.0",
            "_view_name": "LayoutView",
            "align_content": null,
            "align_items": null,
            "align_self": null,
            "border": null,
            "bottom": null,
            "display": null,
            "flex": null,
            "flex_flow": null,
            "grid_area": null,
            "grid_auto_columns": null,
            "grid_auto_flow": null,
            "grid_auto_rows": null,
            "grid_column": null,
            "grid_gap": null,
            "grid_row": null,
            "grid_template_areas": null,
            "grid_template_columns": null,
            "grid_template_rows": null,
            "height": null,
            "justify_content": null,
            "justify_items": null,
            "left": null,
            "margin": null,
            "max_height": null,
            "max_width": null,
            "min_height": null,
            "min_width": null,
            "object_fit": null,
            "object_position": null,
            "order": null,
            "overflow": null,
            "overflow_x": null,
            "overflow_y": null,
            "padding": null,
            "right": null,
            "top": null,
            "visibility": null,
            "width": null
          }
        },
        "cca45b30d95840f285286e792019e08e": {
          "model_module": "@jupyter-widgets/controls",
          "model_name": "ProgressStyleModel",
          "model_module_version": "1.5.0",
          "state": {
            "_model_module": "@jupyter-widgets/controls",
            "_model_module_version": "1.5.0",
            "_model_name": "ProgressStyleModel",
            "_view_count": null,
            "_view_module": "@jupyter-widgets/base",
            "_view_module_version": "1.2.0",
            "_view_name": "StyleView",
            "bar_color": null,
            "description_width": ""
          }
        },
        "dd4c2bf802e547958e7e86626b496ca6": {
          "model_module": "@jupyter-widgets/base",
          "model_name": "LayoutModel",
          "model_module_version": "1.2.0",
          "state": {
            "_model_module": "@jupyter-widgets/base",
            "_model_module_version": "1.2.0",
            "_model_name": "LayoutModel",
            "_view_count": null,
            "_view_module": "@jupyter-widgets/base",
            "_view_module_version": "1.2.0",
            "_view_name": "LayoutView",
            "align_content": null,
            "align_items": null,
            "align_self": null,
            "border": null,
            "bottom": null,
            "display": null,
            "flex": null,
            "flex_flow": null,
            "grid_area": null,
            "grid_auto_columns": null,
            "grid_auto_flow": null,
            "grid_auto_rows": null,
            "grid_column": null,
            "grid_gap": null,
            "grid_row": null,
            "grid_template_areas": null,
            "grid_template_columns": null,
            "grid_template_rows": null,
            "height": null,
            "justify_content": null,
            "justify_items": null,
            "left": null,
            "margin": null,
            "max_height": null,
            "max_width": null,
            "min_height": null,
            "min_width": null,
            "object_fit": null,
            "object_position": null,
            "order": null,
            "overflow": null,
            "overflow_x": null,
            "overflow_y": null,
            "padding": null,
            "right": null,
            "top": null,
            "visibility": null,
            "width": null
          }
        },
        "8a725cf74f9c4d96bae07c6afed56d76": {
          "model_module": "@jupyter-widgets/controls",
          "model_name": "DescriptionStyleModel",
          "model_module_version": "1.5.0",
          "state": {
            "_model_module": "@jupyter-widgets/controls",
            "_model_module_version": "1.5.0",
            "_model_name": "DescriptionStyleModel",
            "_view_count": null,
            "_view_module": "@jupyter-widgets/base",
            "_view_module_version": "1.2.0",
            "_view_name": "StyleView",
            "description_width": ""
          }
        },
        "1462f9a306e94a5696da4ae9dbbaec56": {
          "model_module": "@jupyter-widgets/controls",
          "model_name": "HBoxModel",
          "model_module_version": "1.5.0",
          "state": {
            "_dom_classes": [],
            "_model_module": "@jupyter-widgets/controls",
            "_model_module_version": "1.5.0",
            "_model_name": "HBoxModel",
            "_view_count": null,
            "_view_module": "@jupyter-widgets/controls",
            "_view_module_version": "1.5.0",
            "_view_name": "HBoxView",
            "box_style": "",
            "children": [
              "IPY_MODEL_7433b8dab803440f9e758766fbbad3c8",
              "IPY_MODEL_07cb08e2b9f542b88f67ed05940f6e84",
              "IPY_MODEL_b05aef4dd4e24a6289c5d4d3ce934d67"
            ],
            "layout": "IPY_MODEL_cde9d3d0299f49609b14afb830dc5e26"
          }
        },
        "7433b8dab803440f9e758766fbbad3c8": {
          "model_module": "@jupyter-widgets/controls",
          "model_name": "HTMLModel",
          "model_module_version": "1.5.0",
          "state": {
            "_dom_classes": [],
            "_model_module": "@jupyter-widgets/controls",
            "_model_module_version": "1.5.0",
            "_model_name": "HTMLModel",
            "_view_count": null,
            "_view_module": "@jupyter-widgets/controls",
            "_view_module_version": "1.5.0",
            "_view_name": "HTMLView",
            "description": "",
            "description_tooltip": null,
            "layout": "IPY_MODEL_4a5264cbff3440d0bff6784df1e9afa5",
            "placeholder": "​",
            "style": "IPY_MODEL_f75299d39994489b954a9d8b05dac008",
            "value": "Loss=0.117: 100%"
          }
        },
        "07cb08e2b9f542b88f67ed05940f6e84": {
          "model_module": "@jupyter-widgets/controls",
          "model_name": "FloatProgressModel",
          "model_module_version": "1.5.0",
          "state": {
            "_dom_classes": [],
            "_model_module": "@jupyter-widgets/controls",
            "_model_module_version": "1.5.0",
            "_model_name": "FloatProgressModel",
            "_view_count": null,
            "_view_module": "@jupyter-widgets/controls",
            "_view_module_version": "1.5.0",
            "_view_name": "ProgressView",
            "bar_style": "success",
            "description": "",
            "description_tooltip": null,
            "layout": "IPY_MODEL_cd1357a810444dde9ff6382824c01a68",
            "max": 324,
            "min": 0,
            "orientation": "horizontal",
            "style": "IPY_MODEL_cb7e86c52fd14e6f84cedb53935c6445",
            "value": 324
          }
        },
        "b05aef4dd4e24a6289c5d4d3ce934d67": {
          "model_module": "@jupyter-widgets/controls",
          "model_name": "HTMLModel",
          "model_module_version": "1.5.0",
          "state": {
            "_dom_classes": [],
            "_model_module": "@jupyter-widgets/controls",
            "_model_module_version": "1.5.0",
            "_model_name": "HTMLModel",
            "_view_count": null,
            "_view_module": "@jupyter-widgets/controls",
            "_view_module_version": "1.5.0",
            "_view_name": "HTMLView",
            "description": "",
            "description_tooltip": null,
            "layout": "IPY_MODEL_5aca115ca79e4ed3b04d76d9f9f17f4b",
            "placeholder": "​",
            "style": "IPY_MODEL_5b48fcca7b654aac8ced5e724fe085f7",
            "value": " 324/324 [03:00&lt;00:00,  2.31it/s]"
          }
        },
        "cde9d3d0299f49609b14afb830dc5e26": {
          "model_module": "@jupyter-widgets/base",
          "model_name": "LayoutModel",
          "model_module_version": "1.2.0",
          "state": {
            "_model_module": "@jupyter-widgets/base",
            "_model_module_version": "1.2.0",
            "_model_name": "LayoutModel",
            "_view_count": null,
            "_view_module": "@jupyter-widgets/base",
            "_view_module_version": "1.2.0",
            "_view_name": "LayoutView",
            "align_content": null,
            "align_items": null,
            "align_self": null,
            "border": null,
            "bottom": null,
            "display": null,
            "flex": null,
            "flex_flow": null,
            "grid_area": null,
            "grid_auto_columns": null,
            "grid_auto_flow": null,
            "grid_auto_rows": null,
            "grid_column": null,
            "grid_gap": null,
            "grid_row": null,
            "grid_template_areas": null,
            "grid_template_columns": null,
            "grid_template_rows": null,
            "height": null,
            "justify_content": null,
            "justify_items": null,
            "left": null,
            "margin": null,
            "max_height": null,
            "max_width": null,
            "min_height": null,
            "min_width": null,
            "object_fit": null,
            "object_position": null,
            "order": null,
            "overflow": null,
            "overflow_x": null,
            "overflow_y": null,
            "padding": null,
            "right": null,
            "top": null,
            "visibility": null,
            "width": null
          }
        },
        "4a5264cbff3440d0bff6784df1e9afa5": {
          "model_module": "@jupyter-widgets/base",
          "model_name": "LayoutModel",
          "model_module_version": "1.2.0",
          "state": {
            "_model_module": "@jupyter-widgets/base",
            "_model_module_version": "1.2.0",
            "_model_name": "LayoutModel",
            "_view_count": null,
            "_view_module": "@jupyter-widgets/base",
            "_view_module_version": "1.2.0",
            "_view_name": "LayoutView",
            "align_content": null,
            "align_items": null,
            "align_self": null,
            "border": null,
            "bottom": null,
            "display": null,
            "flex": null,
            "flex_flow": null,
            "grid_area": null,
            "grid_auto_columns": null,
            "grid_auto_flow": null,
            "grid_auto_rows": null,
            "grid_column": null,
            "grid_gap": null,
            "grid_row": null,
            "grid_template_areas": null,
            "grid_template_columns": null,
            "grid_template_rows": null,
            "height": null,
            "justify_content": null,
            "justify_items": null,
            "left": null,
            "margin": null,
            "max_height": null,
            "max_width": null,
            "min_height": null,
            "min_width": null,
            "object_fit": null,
            "object_position": null,
            "order": null,
            "overflow": null,
            "overflow_x": null,
            "overflow_y": null,
            "padding": null,
            "right": null,
            "top": null,
            "visibility": null,
            "width": null
          }
        },
        "f75299d39994489b954a9d8b05dac008": {
          "model_module": "@jupyter-widgets/controls",
          "model_name": "DescriptionStyleModel",
          "model_module_version": "1.5.0",
          "state": {
            "_model_module": "@jupyter-widgets/controls",
            "_model_module_version": "1.5.0",
            "_model_name": "DescriptionStyleModel",
            "_view_count": null,
            "_view_module": "@jupyter-widgets/base",
            "_view_module_version": "1.2.0",
            "_view_name": "StyleView",
            "description_width": ""
          }
        },
        "cd1357a810444dde9ff6382824c01a68": {
          "model_module": "@jupyter-widgets/base",
          "model_name": "LayoutModel",
          "model_module_version": "1.2.0",
          "state": {
            "_model_module": "@jupyter-widgets/base",
            "_model_module_version": "1.2.0",
            "_model_name": "LayoutModel",
            "_view_count": null,
            "_view_module": "@jupyter-widgets/base",
            "_view_module_version": "1.2.0",
            "_view_name": "LayoutView",
            "align_content": null,
            "align_items": null,
            "align_self": null,
            "border": null,
            "bottom": null,
            "display": null,
            "flex": null,
            "flex_flow": null,
            "grid_area": null,
            "grid_auto_columns": null,
            "grid_auto_flow": null,
            "grid_auto_rows": null,
            "grid_column": null,
            "grid_gap": null,
            "grid_row": null,
            "grid_template_areas": null,
            "grid_template_columns": null,
            "grid_template_rows": null,
            "height": null,
            "justify_content": null,
            "justify_items": null,
            "left": null,
            "margin": null,
            "max_height": null,
            "max_width": null,
            "min_height": null,
            "min_width": null,
            "object_fit": null,
            "object_position": null,
            "order": null,
            "overflow": null,
            "overflow_x": null,
            "overflow_y": null,
            "padding": null,
            "right": null,
            "top": null,
            "visibility": null,
            "width": null
          }
        },
        "cb7e86c52fd14e6f84cedb53935c6445": {
          "model_module": "@jupyter-widgets/controls",
          "model_name": "ProgressStyleModel",
          "model_module_version": "1.5.0",
          "state": {
            "_model_module": "@jupyter-widgets/controls",
            "_model_module_version": "1.5.0",
            "_model_name": "ProgressStyleModel",
            "_view_count": null,
            "_view_module": "@jupyter-widgets/base",
            "_view_module_version": "1.2.0",
            "_view_name": "StyleView",
            "bar_color": null,
            "description_width": ""
          }
        },
        "5aca115ca79e4ed3b04d76d9f9f17f4b": {
          "model_module": "@jupyter-widgets/base",
          "model_name": "LayoutModel",
          "model_module_version": "1.2.0",
          "state": {
            "_model_module": "@jupyter-widgets/base",
            "_model_module_version": "1.2.0",
            "_model_name": "LayoutModel",
            "_view_count": null,
            "_view_module": "@jupyter-widgets/base",
            "_view_module_version": "1.2.0",
            "_view_name": "LayoutView",
            "align_content": null,
            "align_items": null,
            "align_self": null,
            "border": null,
            "bottom": null,
            "display": null,
            "flex": null,
            "flex_flow": null,
            "grid_area": null,
            "grid_auto_columns": null,
            "grid_auto_flow": null,
            "grid_auto_rows": null,
            "grid_column": null,
            "grid_gap": null,
            "grid_row": null,
            "grid_template_areas": null,
            "grid_template_columns": null,
            "grid_template_rows": null,
            "height": null,
            "justify_content": null,
            "justify_items": null,
            "left": null,
            "margin": null,
            "max_height": null,
            "max_width": null,
            "min_height": null,
            "min_width": null,
            "object_fit": null,
            "object_position": null,
            "order": null,
            "overflow": null,
            "overflow_x": null,
            "overflow_y": null,
            "padding": null,
            "right": null,
            "top": null,
            "visibility": null,
            "width": null
          }
        },
        "5b48fcca7b654aac8ced5e724fe085f7": {
          "model_module": "@jupyter-widgets/controls",
          "model_name": "DescriptionStyleModel",
          "model_module_version": "1.5.0",
          "state": {
            "_model_module": "@jupyter-widgets/controls",
            "_model_module_version": "1.5.0",
            "_model_name": "DescriptionStyleModel",
            "_view_count": null,
            "_view_module": "@jupyter-widgets/base",
            "_view_module_version": "1.2.0",
            "_view_name": "StyleView",
            "description_width": ""
          }
        },
        "fd4cd15c09964b02ab8571b4012c83c7": {
          "model_module": "@jupyter-widgets/controls",
          "model_name": "HBoxModel",
          "model_module_version": "1.5.0",
          "state": {
            "_dom_classes": [],
            "_model_module": "@jupyter-widgets/controls",
            "_model_module_version": "1.5.0",
            "_model_name": "HBoxModel",
            "_view_count": null,
            "_view_module": "@jupyter-widgets/controls",
            "_view_module_version": "1.5.0",
            "_view_name": "HBoxView",
            "box_style": "",
            "children": [
              "IPY_MODEL_23472a59d3e9474c895373f271784536",
              "IPY_MODEL_3f5f66ffef21425fb7e7caae66d6b99e",
              "IPY_MODEL_b28dc7471bf14cfc9b9fc4bf7fa5ec58"
            ],
            "layout": "IPY_MODEL_355242d552a64eb795a3b0cc1f695fcc"
          }
        },
        "23472a59d3e9474c895373f271784536": {
          "model_module": "@jupyter-widgets/controls",
          "model_name": "HTMLModel",
          "model_module_version": "1.5.0",
          "state": {
            "_dom_classes": [],
            "_model_module": "@jupyter-widgets/controls",
            "_model_module_version": "1.5.0",
            "_model_name": "HTMLModel",
            "_view_count": null,
            "_view_module": "@jupyter-widgets/controls",
            "_view_module_version": "1.5.0",
            "_view_name": "HTMLView",
            "description": "",
            "description_tooltip": null,
            "layout": "IPY_MODEL_abf83976ae2c47a1bd138b7bb1c97e3c",
            "placeholder": "​",
            "style": "IPY_MODEL_966a07900e1249ea8dc6eb9eca64d0ad",
            "value": "Loss=0.175: 100%"
          }
        },
        "3f5f66ffef21425fb7e7caae66d6b99e": {
          "model_module": "@jupyter-widgets/controls",
          "model_name": "FloatProgressModel",
          "model_module_version": "1.5.0",
          "state": {
            "_dom_classes": [],
            "_model_module": "@jupyter-widgets/controls",
            "_model_module_version": "1.5.0",
            "_model_name": "FloatProgressModel",
            "_view_count": null,
            "_view_module": "@jupyter-widgets/controls",
            "_view_module_version": "1.5.0",
            "_view_name": "ProgressView",
            "bar_style": "success",
            "description": "",
            "description_tooltip": null,
            "layout": "IPY_MODEL_1f22d7bce0164a3b91fc3254469bb64a",
            "max": 324,
            "min": 0,
            "orientation": "horizontal",
            "style": "IPY_MODEL_1acc79ddb3934362850c83ef84ab21fb",
            "value": 324
          }
        },
        "b28dc7471bf14cfc9b9fc4bf7fa5ec58": {
          "model_module": "@jupyter-widgets/controls",
          "model_name": "HTMLModel",
          "model_module_version": "1.5.0",
          "state": {
            "_dom_classes": [],
            "_model_module": "@jupyter-widgets/controls",
            "_model_module_version": "1.5.0",
            "_model_name": "HTMLModel",
            "_view_count": null,
            "_view_module": "@jupyter-widgets/controls",
            "_view_module_version": "1.5.0",
            "_view_name": "HTMLView",
            "description": "",
            "description_tooltip": null,
            "layout": "IPY_MODEL_ae3618190c844ed9a42032399de0591c",
            "placeholder": "​",
            "style": "IPY_MODEL_58c77dedeac34f1d8e35b0d4d77e1f4f",
            "value": " 324/324 [03:03&lt;00:00,  2.24it/s]"
          }
        },
        "355242d552a64eb795a3b0cc1f695fcc": {
          "model_module": "@jupyter-widgets/base",
          "model_name": "LayoutModel",
          "model_module_version": "1.2.0",
          "state": {
            "_model_module": "@jupyter-widgets/base",
            "_model_module_version": "1.2.0",
            "_model_name": "LayoutModel",
            "_view_count": null,
            "_view_module": "@jupyter-widgets/base",
            "_view_module_version": "1.2.0",
            "_view_name": "LayoutView",
            "align_content": null,
            "align_items": null,
            "align_self": null,
            "border": null,
            "bottom": null,
            "display": null,
            "flex": null,
            "flex_flow": null,
            "grid_area": null,
            "grid_auto_columns": null,
            "grid_auto_flow": null,
            "grid_auto_rows": null,
            "grid_column": null,
            "grid_gap": null,
            "grid_row": null,
            "grid_template_areas": null,
            "grid_template_columns": null,
            "grid_template_rows": null,
            "height": null,
            "justify_content": null,
            "justify_items": null,
            "left": null,
            "margin": null,
            "max_height": null,
            "max_width": null,
            "min_height": null,
            "min_width": null,
            "object_fit": null,
            "object_position": null,
            "order": null,
            "overflow": null,
            "overflow_x": null,
            "overflow_y": null,
            "padding": null,
            "right": null,
            "top": null,
            "visibility": null,
            "width": null
          }
        },
        "abf83976ae2c47a1bd138b7bb1c97e3c": {
          "model_module": "@jupyter-widgets/base",
          "model_name": "LayoutModel",
          "model_module_version": "1.2.0",
          "state": {
            "_model_module": "@jupyter-widgets/base",
            "_model_module_version": "1.2.0",
            "_model_name": "LayoutModel",
            "_view_count": null,
            "_view_module": "@jupyter-widgets/base",
            "_view_module_version": "1.2.0",
            "_view_name": "LayoutView",
            "align_content": null,
            "align_items": null,
            "align_self": null,
            "border": null,
            "bottom": null,
            "display": null,
            "flex": null,
            "flex_flow": null,
            "grid_area": null,
            "grid_auto_columns": null,
            "grid_auto_flow": null,
            "grid_auto_rows": null,
            "grid_column": null,
            "grid_gap": null,
            "grid_row": null,
            "grid_template_areas": null,
            "grid_template_columns": null,
            "grid_template_rows": null,
            "height": null,
            "justify_content": null,
            "justify_items": null,
            "left": null,
            "margin": null,
            "max_height": null,
            "max_width": null,
            "min_height": null,
            "min_width": null,
            "object_fit": null,
            "object_position": null,
            "order": null,
            "overflow": null,
            "overflow_x": null,
            "overflow_y": null,
            "padding": null,
            "right": null,
            "top": null,
            "visibility": null,
            "width": null
          }
        },
        "966a07900e1249ea8dc6eb9eca64d0ad": {
          "model_module": "@jupyter-widgets/controls",
          "model_name": "DescriptionStyleModel",
          "model_module_version": "1.5.0",
          "state": {
            "_model_module": "@jupyter-widgets/controls",
            "_model_module_version": "1.5.0",
            "_model_name": "DescriptionStyleModel",
            "_view_count": null,
            "_view_module": "@jupyter-widgets/base",
            "_view_module_version": "1.2.0",
            "_view_name": "StyleView",
            "description_width": ""
          }
        },
        "1f22d7bce0164a3b91fc3254469bb64a": {
          "model_module": "@jupyter-widgets/base",
          "model_name": "LayoutModel",
          "model_module_version": "1.2.0",
          "state": {
            "_model_module": "@jupyter-widgets/base",
            "_model_module_version": "1.2.0",
            "_model_name": "LayoutModel",
            "_view_count": null,
            "_view_module": "@jupyter-widgets/base",
            "_view_module_version": "1.2.0",
            "_view_name": "LayoutView",
            "align_content": null,
            "align_items": null,
            "align_self": null,
            "border": null,
            "bottom": null,
            "display": null,
            "flex": null,
            "flex_flow": null,
            "grid_area": null,
            "grid_auto_columns": null,
            "grid_auto_flow": null,
            "grid_auto_rows": null,
            "grid_column": null,
            "grid_gap": null,
            "grid_row": null,
            "grid_template_areas": null,
            "grid_template_columns": null,
            "grid_template_rows": null,
            "height": null,
            "justify_content": null,
            "justify_items": null,
            "left": null,
            "margin": null,
            "max_height": null,
            "max_width": null,
            "min_height": null,
            "min_width": null,
            "object_fit": null,
            "object_position": null,
            "order": null,
            "overflow": null,
            "overflow_x": null,
            "overflow_y": null,
            "padding": null,
            "right": null,
            "top": null,
            "visibility": null,
            "width": null
          }
        },
        "1acc79ddb3934362850c83ef84ab21fb": {
          "model_module": "@jupyter-widgets/controls",
          "model_name": "ProgressStyleModel",
          "model_module_version": "1.5.0",
          "state": {
            "_model_module": "@jupyter-widgets/controls",
            "_model_module_version": "1.5.0",
            "_model_name": "ProgressStyleModel",
            "_view_count": null,
            "_view_module": "@jupyter-widgets/base",
            "_view_module_version": "1.2.0",
            "_view_name": "StyleView",
            "bar_color": null,
            "description_width": ""
          }
        },
        "ae3618190c844ed9a42032399de0591c": {
          "model_module": "@jupyter-widgets/base",
          "model_name": "LayoutModel",
          "model_module_version": "1.2.0",
          "state": {
            "_model_module": "@jupyter-widgets/base",
            "_model_module_version": "1.2.0",
            "_model_name": "LayoutModel",
            "_view_count": null,
            "_view_module": "@jupyter-widgets/base",
            "_view_module_version": "1.2.0",
            "_view_name": "LayoutView",
            "align_content": null,
            "align_items": null,
            "align_self": null,
            "border": null,
            "bottom": null,
            "display": null,
            "flex": null,
            "flex_flow": null,
            "grid_area": null,
            "grid_auto_columns": null,
            "grid_auto_flow": null,
            "grid_auto_rows": null,
            "grid_column": null,
            "grid_gap": null,
            "grid_row": null,
            "grid_template_areas": null,
            "grid_template_columns": null,
            "grid_template_rows": null,
            "height": null,
            "justify_content": null,
            "justify_items": null,
            "left": null,
            "margin": null,
            "max_height": null,
            "max_width": null,
            "min_height": null,
            "min_width": null,
            "object_fit": null,
            "object_position": null,
            "order": null,
            "overflow": null,
            "overflow_x": null,
            "overflow_y": null,
            "padding": null,
            "right": null,
            "top": null,
            "visibility": null,
            "width": null
          }
        },
        "58c77dedeac34f1d8e35b0d4d77e1f4f": {
          "model_module": "@jupyter-widgets/controls",
          "model_name": "DescriptionStyleModel",
          "model_module_version": "1.5.0",
          "state": {
            "_model_module": "@jupyter-widgets/controls",
            "_model_module_version": "1.5.0",
            "_model_name": "DescriptionStyleModel",
            "_view_count": null,
            "_view_module": "@jupyter-widgets/base",
            "_view_module_version": "1.2.0",
            "_view_name": "StyleView",
            "description_width": ""
          }
        }
      }
    }
  },
  "cells": [
    {
      "cell_type": "markdown",
      "metadata": {
        "id": "view-in-github",
        "colab_type": "text"
      },
      "source": [
        "<a href=\"https://colab.research.google.com/github/Dimildizio/DS_course/blob/main/Neural_networks/Transfer_learning/Comments_rating_ruBert.ipynb\" target=\"_parent\"><img src=\"https://colab.research.google.com/assets/colab-badge.svg\" alt=\"Open In Colab\"/></a>"
      ]
    },
    {
      "cell_type": "markdown",
      "source": [
        "# Rating NLP classification"
      ],
      "metadata": {
        "id": "FMZ2Vh0EpiQW"
      }
    },
    {
      "cell_type": "markdown",
      "source": [
        "## Install libs"
      ],
      "metadata": {
        "id": "ufKX8cx_pmqO"
      }
    },
    {
      "cell_type": "code",
      "source": [
        "%%capture\n",
        "!pip install transformers"
      ],
      "metadata": {
        "id": "0kUCim2gv2Tj"
      },
      "execution_count": 1,
      "outputs": []
    },
    {
      "cell_type": "markdown",
      "source": [
        "## Imports"
      ],
      "metadata": {
        "id": "H9YvepQIpgwF"
      }
    },
    {
      "cell_type": "code",
      "execution_count": 69,
      "metadata": {
        "id": "5hvjIC7EvuLO"
      },
      "outputs": [],
      "source": [
        "import os\n",
        "import pandas as pd\n",
        "import torch\n",
        "import torch.nn.functional as F\n",
        "\n",
        "from numpy import asarray\n",
        "from sklearn.model_selection import train_test_split\n",
        "from torch import Tensor\n",
        "from torch.utils.data import Dataset, DataLoader\n",
        "from torch.nn import CrossEntropyLoss\n",
        "from torch.optim import AdamW\n",
        "from torch.optim.lr_scheduler import StepLR\n",
        "from tqdm.notebook import tqdm\n",
        "from transformers import DistilBertTokenizer, DistilBertModel, DistilBertPreTrainedModel\n",
        "from typing import Dict, Union, Optional, Tuple"
      ]
    },
    {
      "cell_type": "markdown",
      "source": [
        "## Get data ready"
      ],
      "metadata": {
        "id": "wY8buKStpsZt"
      }
    },
    {
      "cell_type": "code",
      "source": [
        "MAX_LEN = 200\n",
        "BATCH_SIZE = 128"
      ],
      "metadata": {
        "id": "HQoavxJ2vv6U"
      },
      "execution_count": 4,
      "outputs": []
    },
    {
      "cell_type": "markdown",
      "source": [
        "### Download data"
      ],
      "metadata": {
        "id": "siiH6M_tpy35"
      }
    },
    {
      "cell_type": "code",
      "source": [
        "%%capture\n",
        "!wget https://raw.githubusercontent.com/Dimildizio/DS_course/main/Neural_networks/Transformers/data/train_rating.csv\n",
        "!wget https://raw.githubusercontent.com/Dimildizio/DS_course/main/Neural_networks/Transformers/data/test_rating.csv"
      ],
      "metadata": {
        "id": "QpfX6i5z591d"
      },
      "execution_count": 3,
      "outputs": []
    },
    {
      "cell_type": "markdown",
      "source": [
        "### Upload data to pd and \"label encode\""
      ],
      "metadata": {
        "id": "TLcRucTcp6dO"
      }
    },
    {
      "cell_type": "code",
      "source": [
        "train_data = pd.read_csv(\"train_rating.csv\")\n",
        "train_data['rate'] = train_data['rate']-1\n",
        "\n",
        "test_data =  pd.read_csv(\"test_rating.csv\")"
      ],
      "metadata": {
        "id": "jcfCxdSAwDqJ"
      },
      "execution_count": 76,
      "outputs": []
    },
    {
      "cell_type": "markdown",
      "source": [
        "### Split data"
      ],
      "metadata": {
        "id": "LsKn7iKHp_Sl"
      }
    },
    {
      "cell_type": "code",
      "source": [
        "train, val = train_test_split(train_data, stratify=train_data[\"rate\"], test_size=0.15, random_state=42)\n",
        "\n",
        "train = train.reset_index(drop=True)\n",
        "val = val.reset_index(drop=True)"
      ],
      "metadata": {
        "id": "sm7NtjXbxOd3"
      },
      "execution_count": 77,
      "outputs": []
    },
    {
      "cell_type": "markdown",
      "source": [
        "### Class for dataset"
      ],
      "metadata": {
        "id": "WalUwviiqChO"
      }
    },
    {
      "cell_type": "code",
      "source": [
        "class MyDataset(Dataset):\n",
        "  \"\"\"\n",
        "    Custom dataset class for processing text data.\n",
        "\n",
        "    Args:\n",
        "        dataframe: Pandas DataFrame containing the text data.\n",
        "        tokenizer: Tokenizer to encode text.\n",
        "        max_seq_len: Maximum sequence length for padding.\n",
        "\n",
        "    Attributes:\n",
        "        data: DataFrame containing text data.\n",
        "        text: Series containing the text.\n",
        "        targets: Series containing target values (if available).\n",
        "        tokenizer: Tokenizer for encoding text.\n",
        "        max_seq_len: Maximum sequence length for padding.\n",
        "\n",
        "    Methods:\n",
        "        __getitem__(index):\n",
        "            Retrieves a single data point by index.\n",
        "        __len__():\n",
        "            Returns the total number of data points.\n",
        "\n",
        "  \"\"\"\n",
        "  def __init__(self, dataframe, tokenizer, max_seq_len):\n",
        "    self.data = dataframe\n",
        "    self.text = dataframe['text']\n",
        "    self.targets = None\n",
        "    if 'rate' in dataframe:\n",
        "      self.targets = dataframe['rate']\n",
        "    self.tokenizer = tokenizer\n",
        "    self.max_seq_len = max_seq_len\n",
        "\n",
        "\n",
        "  def __getitem__(self, index):\n",
        "    \"\"\"\n",
        "        Retrieves a single data point by index.\n",
        "\n",
        "        Args:\n",
        "            index: Index of the data point.\n",
        "\n",
        "        Returns:\n",
        "            Dict: Dictionary containing 'ids', 'mask', and 'rate' (if available).\n",
        "    \"\"\"\n",
        "    text = str(self.text[index])\n",
        "    text = ' '.join(text.split())\n",
        "\n",
        "    inputs = self.tokenizer.encode_plus(text, add_special_tokens=True,\n",
        "                                        max_length=self.max_seq_len,\n",
        "                                        pad_to_max_length=True,\n",
        "                                        return_token_type_ids=True,\n",
        "                                        truncation=True)\n",
        "    ids = inputs['input_ids']\n",
        "    mask = inputs['attention_mask']\n",
        "\n",
        "    if self.targets is not None:\n",
        "      return {'ids': torch.tensor(ids, dtype=torch.long),\n",
        "              'mask': torch.tensor(mask, dtype=torch.long),\n",
        "              'rate': torch.tensor(self.targets[index], dtype=torch.long)}\n",
        "    else:\n",
        "      return {'ids': torch.tensor(ids, dtype=torch.long),\n",
        "              'mask': torch.tensor(mask, dtype=torch.long)}\n",
        "\n",
        "\n",
        "  def __len__(self) -> int:\n",
        "    return len(self.text)"
      ],
      "metadata": {
        "id": "wg9j5gEk4D1N"
      },
      "execution_count": 78,
      "outputs": []
    },
    {
      "cell_type": "markdown",
      "source": [
        "## Model"
      ],
      "metadata": {
        "id": "iOo3N8cLqHSZ"
      }
    },
    {
      "cell_type": "code",
      "source": [
        "class DistilBertForClassification(torch.nn.Module):\n",
        "    \"\"\"\n",
        "    DistilBERT model for sequence classification.\n",
        "\n",
        "    Args:\n",
        "        distil_bert_model: Pre-trained DistilBERT model.\n",
        "        config (Dict): Configuration dictionary for the model.\n",
        "\n",
        "    Attributes:\n",
        "        model_name (str): Name of the DistilBERT model.\n",
        "        config (Dict): Configuration dictionary for the model.\n",
        "        n_classes (int): Number of classes for classification.\n",
        "        dropout_rate (float): Dropout rate.\n",
        "        bert (DistilBertModel): Pre-trained DistilBERT model for sequence classification.\n",
        "        pre_classifier (Linear): Linear layer for pre-classification.\n",
        "        dropout (Dropout): Dropout layer.\n",
        "        classifier (Linear): Linear layer for classification.\n",
        "\n",
        "    Methods:\n",
        "        forward(input_ids, attention_mask):\n",
        "            Forward pass for the model.\n",
        "\n",
        "    \"\"\"\n",
        "    def __init__(self, distil_bert_model, config: Dict):\n",
        "        \"\"\"\n",
        "        Initialize the DistilBertForClassification model.\n",
        "        Args:\n",
        "            distil_bert_model: Pre-trained DistilRuBERT model.\n",
        "            config (Dict): Configuration dictionary for the model.\n",
        "        \"\"\"\n",
        "        super(DistilBertForClassification, self).__init__()\n",
        "        self.model_name = 'distilrubert-small-cased-conversational'\n",
        "        self.config = config\n",
        "        self.n_classes = config['num_classes']\n",
        "        self.dropout_rate = config['dropout_rate']\n",
        "        self.bert = distil_bert_model\n",
        "        self.pre_classifier = torch.nn.Linear(768, 128)\n",
        "        self.dropout = torch.nn.Dropout(self.dropout_rate)\n",
        "        self.classifier = torch.nn.Linear(128, self.n_classes)\n",
        "\n",
        "\n",
        "    def forward(self,input_ids: Tensor, attention_mask: Tensor) -> Tensor:\n",
        "        \"\"\"\n",
        "        Forward pass for the model.\n",
        "        Args:\n",
        "            input_ids (torch.Tensor): Input token IDs.\n",
        "            attention_mask (torch.Tensor): Attention mask.\n",
        "        Returns:\n",
        "            Tensor: Logits produced by the model.\n",
        "        \"\"\"\n",
        "        output = self.bert(input_ids=input_ids, attention_mask=attention_mask)\n",
        "        hidden_state = output.last_hidden_state\n",
        "        hidden_state = hidden_state[:, 0]\n",
        "        hidden_state = self.pre_classifier(hidden_state)\n",
        "        hidden_state = torch.nn.ReLU()(hidden_state)\n",
        "        hidden_state = self.dropout(hidden_state)\n",
        "        output = self.classifier(hidden_state)\n",
        "        return output\n"
      ],
      "metadata": {
        "id": "XSDxn_yNibmC"
      },
      "execution_count": 79,
      "outputs": []
    },
    {
      "cell_type": "markdown",
      "source": [
        "## Trainer to train the model"
      ],
      "metadata": {
        "id": "3gmj012lrY49"
      }
    },
    {
      "cell_type": "code",
      "source": [
        "class Trainer:\n",
        "    def __init__(self, config: Dict[str, Union[int, float, str]]):\n",
        "      '''\n",
        "      Initialize the Trainer with a configuration dictionary.\n",
        "      '''\n",
        "      self.config = config\n",
        "      self.n_epochs = config['n_epochs']\n",
        "      self.model = None\n",
        "      self.optimizer = None\n",
        "      self.opt_fn = lambda model: AdamW(model.parameters(), config['lr'])\n",
        "      self.loss_fn = CrossEntropyLoss()\n",
        "      self.history = None\n",
        "      self.device = config['device']\n",
        "      self.verbose = config.get('verbose', True)\n",
        "\n",
        "\n",
        "    def batchto(self, batch: Dict[str, Tensor]) -> Tuple[Tensor, Tensor, Tensor]:\n",
        "      \"\"\"\n",
        "      Move the batch to the specified device and convert to the appropriate data types.\n",
        "      Args:\n",
        "          batch (Dict[str, Tensor]): Dictionary containing 'ids', 'mask', and 'rate'.\n",
        "      Returns:\n",
        "          Tuple[Tensor, Tensor, Tensor]: Tuple containing 'ids', 'mask', and 'targets'.\n",
        "\n",
        "      \"\"\"\n",
        "      ids = batch['ids'].to(self.device, dtype=torch.long)\n",
        "      mask = batch['mask'].to(self.device, dtype=torch.long)\n",
        "      targets = batch['rate'].to(self.device, dtype=torch.long)\n",
        "      return ids, mask, targets\n",
        "\n",
        "\n",
        "    def fit(self, model: torch.nn.Module, train_dataloader: DataLoader,\n",
        "            val_dataloader: Optional[DataLoader] = None) -> torch.nn.Module:\n",
        "      '''\n",
        "      Train the model for a specified number of epochs.\n",
        "      '''\n",
        "      self.model = model.to(self.device)\n",
        "      self.optimizer = self.opt_fn(model)\n",
        "      scheduler = StepLR(self.optimizer, step_size=2, gamma=0.1)\n",
        "\n",
        "      self.history = {'train_loss': [],\n",
        "                        'val_loss': [],\n",
        "                        'val_acc': []}\n",
        "\n",
        "      for epoch in range(self.n_epochs):\n",
        "          print(f\"Epoch {epoch + 1}/{self.n_epochs}\")\n",
        "          train_info = self.train_epoch(train_dataloader)\n",
        "          self.history['train_loss'].extend(train_info['loss'])\n",
        "          if val_dataloader != None:\n",
        "            val_info = self.val_epoch(val_dataloader)\n",
        "            self.history['val_loss'].extend([val_info['loss']])\n",
        "            self.history['val_acc'].extend([val_info['acc']])\n",
        "          scheduler.step()\n",
        "      return self.model.eval()\n",
        "\n",
        "\n",
        "    def train_epoch(self, train_dataloader: DataLoader) -> Dict[str, list]:\n",
        "        '''\n",
        "        Train the model for one epoch.\n",
        "        '''\n",
        "        self.model.train()\n",
        "        losses = []\n",
        "        if self.verbose:\n",
        "            train_dataloader = tqdm(train_dataloader)\n",
        "        for batch in train_dataloader:\n",
        "            ids, mask,targets = self.batchto(batch)\n",
        "\n",
        "            outputs = self.model(ids, mask)\n",
        "            loss = self.loss_fn(outputs, targets)\n",
        "\n",
        "            self.optimizer.zero_grad()\n",
        "            loss.backward()\n",
        "            self.optimizer.step()\n",
        "            iloss = loss.item()\n",
        "            if self.verbose:\n",
        "                train_dataloader.set_description(f\"Loss: {iloss:.4}\")\n",
        "            losses.append(iloss)\n",
        "        return {'loss': losses}\n",
        "\n",
        "\n",
        "    def val_epoch(self, val_dataloader: DataLoader) -> Dict[str, Union[float, int]]:\n",
        "      '''\n",
        "      Evaluate the model on the validation set for one epoch.\n",
        "      '''\n",
        "      self.model.eval()\n",
        "      logits = []\n",
        "      labels = []\n",
        "      val_dataloader = tqdm(val_dataloader)\n",
        "      with torch.no_grad():\n",
        "        for batch in val_dataloader:\n",
        "          ids, mask, targets = self.batchto(batch)\n",
        "\n",
        "          outputs = self.model(ids, mask)\n",
        "          logits.append(outputs)\n",
        "          labels.append(targets)\n",
        "\n",
        "      labels = torch.cat(labels).to(self.device)\n",
        "      logits = torch.cat(logits).to(self.device)\n",
        "      loss = self.loss_fn(logits, labels).item()\n",
        "      acc = (logits.argmax(1) == labels).float().mean().item()\n",
        "      print('Accuracy:', acc)\n",
        "      val_dataloader.set_description(f\"Loss={loss: .4}\\nAccuracy:{acc:.4}\")\n",
        "      metrics = {'acc': acc, 'loss': loss}\n",
        "      return metrics\n",
        "\n",
        "    def predict(self, test_dataloader):\n",
        "        self.model.eval()\n",
        "        predictions = []\n",
        "        with torch.no_grad():\n",
        "            for batch in test_dataloader:\n",
        "                ids = batch['ids'].to(self.device, dtype=torch.long)\n",
        "                mask = batch['mask'].to(self.device, dtype=torch.long)\n",
        "                outputs = self.model(ids, mask)\n",
        "                predictions.extend(outputs.argmax(1).tolist())\n",
        "        return asarray(predictions)\n"
      ],
      "metadata": {
        "id": "ZwMs_ZTKySiy"
      },
      "execution_count": 80,
      "outputs": []
    },
    {
      "cell_type": "markdown",
      "source": [
        "## Create instances for the  model and tokenizer"
      ],
      "metadata": {
        "id": "Ru-Y_GCoqKX_"
      }
    },
    {
      "cell_type": "markdown",
      "source": [
        "### Set up configuration and parametes"
      ],
      "metadata": {
        "id": "v2sIPmHvqm6T"
      }
    },
    {
      "cell_type": "code",
      "source": [
        "train_params = { \"batch_size\": BATCH_SIZE,\n",
        "                \"shuffle\": True,\n",
        "                 \"num_workers\": 0}\n",
        "\n",
        "test_params = {\"batch_size\": BATCH_SIZE,\n",
        "               \"shuffle\": False,\n",
        "               \"num_workers\": 0}\n",
        "\n",
        "config = {\"num_classes\": 5,\n",
        "          \"dropout_rate\": 0.1,\n",
        "          \"dim\": 768}\n",
        "\n",
        "trainer_config = {\"batch_size\": 128,\n",
        "                  \"n_epochs\": 5,\n",
        "                  \"lr\": 4e-6,\n",
        "                  \"weight_decay\": 1e-6,\n",
        "                  \"device\": \"cuda\" if torch.cuda.is_available() else \"cpu\"}"
      ],
      "metadata": {
        "id": "GwtsTrrOqpay"
      },
      "execution_count": 81,
      "outputs": []
    },
    {
      "cell_type": "markdown",
      "source": [
        "### Create tokenizer and the model"
      ],
      "metadata": {
        "id": "ap471tKKqyqe"
      }
    },
    {
      "cell_type": "code",
      "source": [
        "# Load the Russian tokenizer\n",
        "tokenizer = DistilBertTokenizer.from_pretrained('DeepPavlov/distilrubert-small-cased-conversational')\n",
        "# Load the Russian DistilBERT model\n",
        "russian_model = DistilBertModel.from_pretrained('DeepPavlov/distilrubert-small-cased-conversational')\n",
        "# Create model\n",
        "russian_model = DistilBertForClassification(russian_model, config=config)"
      ],
      "metadata": {
        "id": "7YOY8MmE4H7P"
      },
      "execution_count": 82,
      "outputs": []
    },
    {
      "cell_type": "markdown",
      "source": [
        "### Set up dataset"
      ],
      "metadata": {
        "id": "8UN94-wuq4Cg"
      }
    },
    {
      "cell_type": "code",
      "source": [
        "#train\n",
        "train_dataset = MyDataset(train, tokenizer, MAX_LEN)\n",
        "train_dataloader = DataLoader(train_dataset, **train_params)\n",
        "#val\n",
        "val_dataset = MyDataset(val, tokenizer, MAX_LEN)\n",
        "val_dataloader = DataLoader(val_dataset, **test_params)\n",
        "#test\n",
        "test_dataset = MyDataset(test_data, tokenizer, MAX_LEN)\n",
        "test_dataloader = DataLoader(test_dataset, **test_params)"
      ],
      "metadata": {
        "id": "QMFSrIYy4PKD"
      },
      "execution_count": 83,
      "outputs": []
    },
    {
      "cell_type": "markdown",
      "source": [
        "## Train model"
      ],
      "metadata": {
        "id": "e9Ry1a5KrRZe"
      }
    },
    {
      "cell_type": "code",
      "source": [
        "trainer = Trainer(trainer_config)\n",
        "trainer.fit(russian_model, train_dataloader, val_dataloader)"
      ],
      "metadata": {
        "id": "B7ltuQfF4UuU"
      },
      "execution_count": null,
      "outputs": []
    },
    {
      "cell_type": "markdown",
      "source": [
        "### Active training"
      ],
      "metadata": {
        "id": "ewQj-QURr8fW"
      }
    },
    {
      "cell_type": "code",
      "source": [
        "train_whole = MyDataset(train_data, tokenizer, MAX_LEN)\n",
        "train_wholeloader = DataLoader(train_dataset, **train_params)\n",
        "wholetrainer = Trainer(trainer_config)\n",
        "wholetrainer.fit(russian_model, train_wholeloader, None)"
      ],
      "metadata": {
        "colab": {
          "base_uri": "https://localhost:8080/",
          "height": 926,
          "referenced_widgets": [
            "3e22a3e793d84fc089d5db5c5c42b6b6",
            "6bfb46024f124e6cbcf11ee68ab783ee",
            "ad41250fbe8844d881511c87d49defac",
            "6a9e9be1b32d44c9ad0699692a588001",
            "3f37e2a1cc414346bafbb9856e14477e",
            "f41d629a88c846609dace488c30cd17c",
            "c4a740fed29e4b32adb0b4557a447cf0",
            "613ca4cd51a442de8db83c872c627dc9",
            "7db238c25b604c52b8069ea97d476d24",
            "e1eb9cf82e474366aeaba6433a20f716",
            "cda73d29c95b4a80abf571c4ca2b9e30",
            "ed6b81e01d6b4d68914f78fda29f6995",
            "f0c5c8dd651845b793b370c8459068b9",
            "0c978e7cabe846c6ba1138d10a346d5a",
            "ccbfbd36e467446abbc9571571191f69",
            "d045024eeb54421d844a9d58fae38f81",
            "d2ac871800ee4798b49eff170255e74e",
            "04ba3acd193842cfb66715d4acd79a62",
            "ee5bf358db924686aecf0af783fbfab5",
            "6a8318090e9646c9a3cf50ff95208c14",
            "98758f314ab44a559b175cc704b32051",
            "a1b8ed9d8f6d4a79947fc6c0fd74de55",
            "9e3c9cb96fec42e18b6d9048d51393b7",
            "f56541c2c90f4970b42221806cb568ac",
            "ac252fef69a548e48694f18285384bd4",
            "dc6b8bad6470499693c6ecd287a6ad1e",
            "9dd5d00a24074dd89a440cea445fe7e8",
            "88ed934368194ba4b90675f516171da9",
            "fca80b686a2c4134b006e6584ac346d4",
            "c419600bfd8648199a80e9b13cf29925",
            "cca45b30d95840f285286e792019e08e",
            "dd4c2bf802e547958e7e86626b496ca6",
            "8a725cf74f9c4d96bae07c6afed56d76",
            "1462f9a306e94a5696da4ae9dbbaec56",
            "7433b8dab803440f9e758766fbbad3c8",
            "07cb08e2b9f542b88f67ed05940f6e84",
            "b05aef4dd4e24a6289c5d4d3ce934d67",
            "cde9d3d0299f49609b14afb830dc5e26",
            "4a5264cbff3440d0bff6784df1e9afa5",
            "f75299d39994489b954a9d8b05dac008",
            "cd1357a810444dde9ff6382824c01a68",
            "cb7e86c52fd14e6f84cedb53935c6445",
            "5aca115ca79e4ed3b04d76d9f9f17f4b",
            "5b48fcca7b654aac8ced5e724fe085f7",
            "fd4cd15c09964b02ab8571b4012c83c7",
            "23472a59d3e9474c895373f271784536",
            "3f5f66ffef21425fb7e7caae66d6b99e",
            "b28dc7471bf14cfc9b9fc4bf7fa5ec58",
            "355242d552a64eb795a3b0cc1f695fcc",
            "abf83976ae2c47a1bd138b7bb1c97e3c",
            "966a07900e1249ea8dc6eb9eca64d0ad",
            "1f22d7bce0164a3b91fc3254469bb64a",
            "1acc79ddb3934362850c83ef84ab21fb",
            "ae3618190c844ed9a42032399de0591c",
            "58c77dedeac34f1d8e35b0d4d77e1f4f"
          ]
        },
        "id": "bx1TlO0gIGU3",
        "outputId": "60d74294-a8ef-4b70-ff54-0abb643e554a"
      },
      "execution_count": 28,
      "outputs": [
        {
          "output_type": "stream",
          "name": "stdout",
          "text": [
            "RATE: True\n",
            "Epoch 1/5\n"
          ]
        },
        {
          "output_type": "display_data",
          "data": {
            "text/plain": [
              "  0%|          | 0/324 [00:00<?, ?it/s]"
            ],
            "application/vnd.jupyter.widget-view+json": {
              "version_major": 2,
              "version_minor": 0,
              "model_id": "3e22a3e793d84fc089d5db5c5c42b6b6"
            }
          },
          "metadata": {}
        },
        {
          "output_type": "stream",
          "name": "stderr",
          "text": [
            "/usr/local/lib/python3.10/dist-packages/transformers/tokenization_utils_base.py:2614: FutureWarning: The `pad_to_max_length` argument is deprecated and will be removed in a future version, use `padding=True` or `padding='longest'` to pad to the longest sequence in the batch, or use `padding='max_length'` to pad to a max length. In this case, you can give a specific length with `max_length` (e.g. `max_length=45`) or leave max_length to None to pad to the maximal input size of the model (e.g. 512 for Bert).\n",
            "  warnings.warn(\n"
          ]
        },
        {
          "output_type": "stream",
          "name": "stdout",
          "text": [
            "Epoch 2/5\n"
          ]
        },
        {
          "output_type": "display_data",
          "data": {
            "text/plain": [
              "  0%|          | 0/324 [00:00<?, ?it/s]"
            ],
            "application/vnd.jupyter.widget-view+json": {
              "version_major": 2,
              "version_minor": 0,
              "model_id": "ed6b81e01d6b4d68914f78fda29f6995"
            }
          },
          "metadata": {}
        },
        {
          "output_type": "stream",
          "name": "stdout",
          "text": [
            "Epoch 3/5\n"
          ]
        },
        {
          "output_type": "display_data",
          "data": {
            "text/plain": [
              "  0%|          | 0/324 [00:00<?, ?it/s]"
            ],
            "application/vnd.jupyter.widget-view+json": {
              "version_major": 2,
              "version_minor": 0,
              "model_id": "9e3c9cb96fec42e18b6d9048d51393b7"
            }
          },
          "metadata": {}
        },
        {
          "output_type": "stream",
          "name": "stdout",
          "text": [
            "Epoch 4/5\n"
          ]
        },
        {
          "output_type": "display_data",
          "data": {
            "text/plain": [
              "  0%|          | 0/324 [00:00<?, ?it/s]"
            ],
            "application/vnd.jupyter.widget-view+json": {
              "version_major": 2,
              "version_minor": 0,
              "model_id": "1462f9a306e94a5696da4ae9dbbaec56"
            }
          },
          "metadata": {}
        },
        {
          "output_type": "stream",
          "name": "stdout",
          "text": [
            "Epoch 5/5\n"
          ]
        },
        {
          "output_type": "display_data",
          "data": {
            "text/plain": [
              "  0%|          | 0/324 [00:00<?, ?it/s]"
            ],
            "application/vnd.jupyter.widget-view+json": {
              "version_major": 2,
              "version_minor": 0,
              "model_id": "fd4cd15c09964b02ab8571b4012c83c7"
            }
          },
          "metadata": {}
        },
        {
          "output_type": "execute_result",
          "data": {
            "text/plain": [
              "DistilBertForClassification(\n",
              "  (bert): DistilBertModel(\n",
              "    (embeddings): Embeddings(\n",
              "      (word_embeddings): Embedding(119547, 768, padding_idx=0)\n",
              "      (position_embeddings): Embedding(512, 768)\n",
              "      (LayerNorm): LayerNorm((768,), eps=1e-12, elementwise_affine=True)\n",
              "      (dropout): Dropout(p=0.1, inplace=False)\n",
              "    )\n",
              "    (transformer): Transformer(\n",
              "      (layer): ModuleList(\n",
              "        (0-1): 2 x TransformerBlock(\n",
              "          (attention): MultiHeadSelfAttention(\n",
              "            (dropout): Dropout(p=0.1, inplace=False)\n",
              "            (q_lin): Linear(in_features=768, out_features=768, bias=True)\n",
              "            (k_lin): Linear(in_features=768, out_features=768, bias=True)\n",
              "            (v_lin): Linear(in_features=768, out_features=768, bias=True)\n",
              "            (out_lin): Linear(in_features=768, out_features=768, bias=True)\n",
              "          )\n",
              "          (sa_layer_norm): LayerNorm((768,), eps=1e-12, elementwise_affine=True)\n",
              "          (ffn): FFN(\n",
              "            (dropout): Dropout(p=0.1, inplace=False)\n",
              "            (lin1): Linear(in_features=768, out_features=3072, bias=True)\n",
              "            (lin2): Linear(in_features=3072, out_features=768, bias=True)\n",
              "            (activation): GELUActivation()\n",
              "          )\n",
              "          (output_layer_norm): LayerNorm((768,), eps=1e-12, elementwise_affine=True)\n",
              "        )\n",
              "      )\n",
              "    )\n",
              "  )\n",
              "  (pre_classifier): Linear(in_features=768, out_features=128, bias=True)\n",
              "  (dropout): Dropout(p=0.1, inplace=False)\n",
              "  (classifier): Linear(in_features=128, out_features=5, bias=True)\n",
              ")"
            ]
          },
          "metadata": {},
          "execution_count": 28
        }
      ]
    },
    {
      "cell_type": "code",
      "source": [
        "!nvidia-smi"
      ],
      "metadata": {
        "colab": {
          "base_uri": "https://localhost:8080/"
        },
        "id": "E_Ao1Cg-5gY_",
        "outputId": "0e557786-2982-4e63-ddbf-6b19416d1286"
      },
      "execution_count": 11,
      "outputs": [
        {
          "output_type": "stream",
          "name": "stdout",
          "text": [
            "Sat Nov 11 15:26:16 2023       \n",
            "+-----------------------------------------------------------------------------+\n",
            "| NVIDIA-SMI 525.105.17   Driver Version: 525.105.17   CUDA Version: 12.0     |\n",
            "|-------------------------------+----------------------+----------------------+\n",
            "| GPU  Name        Persistence-M| Bus-Id        Disp.A | Volatile Uncorr. ECC |\n",
            "| Fan  Temp  Perf  Pwr:Usage/Cap|         Memory-Usage | GPU-Util  Compute M. |\n",
            "|                               |                      |               MIG M. |\n",
            "|===============================+======================+======================|\n",
            "|   0  Tesla T4            Off  | 00000000:00:04.0 Off |                    0 |\n",
            "| N/A   37C    P8     9W /  70W |      0MiB / 15360MiB |      0%      Default |\n",
            "|                               |                      |                  N/A |\n",
            "+-------------------------------+----------------------+----------------------+\n",
            "                                                                               \n",
            "+-----------------------------------------------------------------------------+\n",
            "| Processes:                                                                  |\n",
            "|  GPU   GI   CI        PID   Type   Process name                  GPU Memory |\n",
            "|        ID   ID                                                   Usage      |\n",
            "|=============================================================================|\n",
            "|  No running processes found                                                 |\n",
            "+-----------------------------------------------------------------------------+\n"
          ]
        }
      ]
    },
    {
      "cell_type": "markdown",
      "source": [
        "## Create predictions csv"
      ],
      "metadata": {
        "id": "3HZCeWKosohm"
      }
    },
    {
      "cell_type": "code",
      "source": [
        "df = test_data.copy()\n",
        "\n",
        "predictions = wholetrainer.predict(test_dataloader)\n",
        "df['rate'] = predictions+1\n",
        "\n",
        "result_df = df[['index', 'rate']].copy()\n",
        "result_df.to_csv('predictions.csv', index=False)"
      ],
      "metadata": {
        "id": "DdpqhtIFG5pI"
      },
      "execution_count": 29,
      "outputs": []
    }
  ]
}