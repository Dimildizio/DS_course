{
  "nbformat": 4,
  "nbformat_minor": 0,
  "metadata": {
    "colab": {
      "provenance": [],
      "gpuType": "T4",
      "authorship_tag": "ABX9TyMpbu6v5gyA+vJannVaT8eB",
      "include_colab_link": true
    },
    "kernelspec": {
      "name": "python3",
      "display_name": "Python 3"
    },
    "language_info": {
      "name": "python"
    },
    "accelerator": "GPU",
    "widgets": {
      "application/vnd.jupyter.widget-state+json": {
        "50b14162aef748668e4b1c379a94cc5b": {
          "model_module": "@jupyter-widgets/controls",
          "model_name": "VBoxModel",
          "model_module_version": "1.5.0",
          "state": {
            "_dom_classes": [],
            "_model_module": "@jupyter-widgets/controls",
            "_model_module_version": "1.5.0",
            "_model_name": "VBoxModel",
            "_view_count": null,
            "_view_module": "@jupyter-widgets/controls",
            "_view_module_version": "1.5.0",
            "_view_name": "VBoxView",
            "box_style": "",
            "children": [
              "IPY_MODEL_2a79d4c66534410ba98ea7c88a278b37",
              "IPY_MODEL_18c527042fea4e99ab22effedf39aab2"
            ],
            "layout": "IPY_MODEL_044abe1046174440803a7f1dd35430c3"
          }
        },
        "2a79d4c66534410ba98ea7c88a278b37": {
          "model_module": "@jupyter-widgets/controls",
          "model_name": "LabelModel",
          "model_module_version": "1.5.0",
          "state": {
            "_dom_classes": [],
            "_model_module": "@jupyter-widgets/controls",
            "_model_module_version": "1.5.0",
            "_model_name": "LabelModel",
            "_view_count": null,
            "_view_module": "@jupyter-widgets/controls",
            "_view_module_version": "1.5.0",
            "_view_name": "LabelView",
            "description": "",
            "description_tooltip": null,
            "layout": "IPY_MODEL_7dc53374696b4806aae61636cd8cefb2",
            "placeholder": "​",
            "style": "IPY_MODEL_46c158f11bcb4ba5a5f2272189bff878",
            "value": "0.001 MB of 0.009 MB uploaded (0.000 MB deduped)\r"
          }
        },
        "18c527042fea4e99ab22effedf39aab2": {
          "model_module": "@jupyter-widgets/controls",
          "model_name": "FloatProgressModel",
          "model_module_version": "1.5.0",
          "state": {
            "_dom_classes": [],
            "_model_module": "@jupyter-widgets/controls",
            "_model_module_version": "1.5.0",
            "_model_name": "FloatProgressModel",
            "_view_count": null,
            "_view_module": "@jupyter-widgets/controls",
            "_view_module_version": "1.5.0",
            "_view_name": "ProgressView",
            "bar_style": "",
            "description": "",
            "description_tooltip": null,
            "layout": "IPY_MODEL_81369b05e1b2468c8b07cddc8b6232e1",
            "max": 1,
            "min": 0,
            "orientation": "horizontal",
            "style": "IPY_MODEL_d8992a8356cd4bd0b92ea4578c20e5ce",
            "value": 0.13070725156669652
          }
        },
        "044abe1046174440803a7f1dd35430c3": {
          "model_module": "@jupyter-widgets/base",
          "model_name": "LayoutModel",
          "model_module_version": "1.2.0",
          "state": {
            "_model_module": "@jupyter-widgets/base",
            "_model_module_version": "1.2.0",
            "_model_name": "LayoutModel",
            "_view_count": null,
            "_view_module": "@jupyter-widgets/base",
            "_view_module_version": "1.2.0",
            "_view_name": "LayoutView",
            "align_content": null,
            "align_items": null,
            "align_self": null,
            "border": null,
            "bottom": null,
            "display": null,
            "flex": null,
            "flex_flow": null,
            "grid_area": null,
            "grid_auto_columns": null,
            "grid_auto_flow": null,
            "grid_auto_rows": null,
            "grid_column": null,
            "grid_gap": null,
            "grid_row": null,
            "grid_template_areas": null,
            "grid_template_columns": null,
            "grid_template_rows": null,
            "height": null,
            "justify_content": null,
            "justify_items": null,
            "left": null,
            "margin": null,
            "max_height": null,
            "max_width": null,
            "min_height": null,
            "min_width": null,
            "object_fit": null,
            "object_position": null,
            "order": null,
            "overflow": null,
            "overflow_x": null,
            "overflow_y": null,
            "padding": null,
            "right": null,
            "top": null,
            "visibility": null,
            "width": null
          }
        },
        "7dc53374696b4806aae61636cd8cefb2": {
          "model_module": "@jupyter-widgets/base",
          "model_name": "LayoutModel",
          "model_module_version": "1.2.0",
          "state": {
            "_model_module": "@jupyter-widgets/base",
            "_model_module_version": "1.2.0",
            "_model_name": "LayoutModel",
            "_view_count": null,
            "_view_module": "@jupyter-widgets/base",
            "_view_module_version": "1.2.0",
            "_view_name": "LayoutView",
            "align_content": null,
            "align_items": null,
            "align_self": null,
            "border": null,
            "bottom": null,
            "display": null,
            "flex": null,
            "flex_flow": null,
            "grid_area": null,
            "grid_auto_columns": null,
            "grid_auto_flow": null,
            "grid_auto_rows": null,
            "grid_column": null,
            "grid_gap": null,
            "grid_row": null,
            "grid_template_areas": null,
            "grid_template_columns": null,
            "grid_template_rows": null,
            "height": null,
            "justify_content": null,
            "justify_items": null,
            "left": null,
            "margin": null,
            "max_height": null,
            "max_width": null,
            "min_height": null,
            "min_width": null,
            "object_fit": null,
            "object_position": null,
            "order": null,
            "overflow": null,
            "overflow_x": null,
            "overflow_y": null,
            "padding": null,
            "right": null,
            "top": null,
            "visibility": null,
            "width": null
          }
        },
        "46c158f11bcb4ba5a5f2272189bff878": {
          "model_module": "@jupyter-widgets/controls",
          "model_name": "DescriptionStyleModel",
          "model_module_version": "1.5.0",
          "state": {
            "_model_module": "@jupyter-widgets/controls",
            "_model_module_version": "1.5.0",
            "_model_name": "DescriptionStyleModel",
            "_view_count": null,
            "_view_module": "@jupyter-widgets/base",
            "_view_module_version": "1.2.0",
            "_view_name": "StyleView",
            "description_width": ""
          }
        },
        "81369b05e1b2468c8b07cddc8b6232e1": {
          "model_module": "@jupyter-widgets/base",
          "model_name": "LayoutModel",
          "model_module_version": "1.2.0",
          "state": {
            "_model_module": "@jupyter-widgets/base",
            "_model_module_version": "1.2.0",
            "_model_name": "LayoutModel",
            "_view_count": null,
            "_view_module": "@jupyter-widgets/base",
            "_view_module_version": "1.2.0",
            "_view_name": "LayoutView",
            "align_content": null,
            "align_items": null,
            "align_self": null,
            "border": null,
            "bottom": null,
            "display": null,
            "flex": null,
            "flex_flow": null,
            "grid_area": null,
            "grid_auto_columns": null,
            "grid_auto_flow": null,
            "grid_auto_rows": null,
            "grid_column": null,
            "grid_gap": null,
            "grid_row": null,
            "grid_template_areas": null,
            "grid_template_columns": null,
            "grid_template_rows": null,
            "height": null,
            "justify_content": null,
            "justify_items": null,
            "left": null,
            "margin": null,
            "max_height": null,
            "max_width": null,
            "min_height": null,
            "min_width": null,
            "object_fit": null,
            "object_position": null,
            "order": null,
            "overflow": null,
            "overflow_x": null,
            "overflow_y": null,
            "padding": null,
            "right": null,
            "top": null,
            "visibility": null,
            "width": null
          }
        },
        "d8992a8356cd4bd0b92ea4578c20e5ce": {
          "model_module": "@jupyter-widgets/controls",
          "model_name": "ProgressStyleModel",
          "model_module_version": "1.5.0",
          "state": {
            "_model_module": "@jupyter-widgets/controls",
            "_model_module_version": "1.5.0",
            "_model_name": "ProgressStyleModel",
            "_view_count": null,
            "_view_module": "@jupyter-widgets/base",
            "_view_module_version": "1.2.0",
            "_view_name": "StyleView",
            "bar_color": null,
            "description_width": ""
          }
        }
      }
    }
  },
  "cells": [
    {
      "cell_type": "markdown",
      "metadata": {
        "id": "view-in-github",
        "colab_type": "text"
      },
      "source": [
        "<a href=\"https://colab.research.google.com/github/Dimildizio/DS_course/blob/main/Neural_networks/Transfer_learning/imagenette_transfer_learning.ipynb\" target=\"_parent\"><img src=\"https://colab.research.google.com/assets/colab-badge.svg\" alt=\"Open In Colab\"/></a>"
      ]
    },
    {
      "cell_type": "markdown",
      "source": [
        "#Transfer learning"
      ],
      "metadata": {
        "id": "kHA-xQIBHEbi"
      }
    },
    {
      "cell_type": "markdown",
      "source": [
        "## Downloading and importing libs"
      ],
      "metadata": {
        "id": "ZYarUpOvHK7E"
      }
    },
    {
      "cell_type": "code",
      "execution_count": 1,
      "metadata": {
        "id": "f49W_fRngzVv"
      },
      "outputs": [],
      "source": [
        "from IPython import display"
      ]
    },
    {
      "cell_type": "code",
      "source": [
        "!pip install -U albumentations\n",
        "!pip install -q --upgrade wandb\n",
        "!pip install timm\n",
        "\n",
        "display.clear_output()"
      ],
      "metadata": {
        "id": "MTR1N_4qhYbe"
      },
      "execution_count": 22,
      "outputs": []
    },
    {
      "cell_type": "code",
      "source": [
        "import os\n",
        "import wandb\n",
        "import shutil\n",
        "from pathlib import Path\n",
        "\n",
        "import numpy as np\n",
        "import random\n",
        "\n",
        "import cv2\n",
        "from tqdm import tqdm\n",
        "import copy\n",
        "\n",
        "import torch\n",
        "import torch.nn as nn\n",
        "import torch.nn.functional as F\n",
        "import torch.optim as optim\n",
        "import torchvision\n",
        "from torchvision import datasets, models, transforms\n",
        "from torch.optim.lr_scheduler import StepLR\n",
        "\n",
        "try:\n",
        "    from torchinfo import summary\n",
        "except:\n",
        "    print(\"[INFO] Couldn't find torchinfo. Installing...\")\n",
        "    !pip install -q torchinfo\n",
        "    from torchinfo import summary\n",
        "\n",
        "import timm\n",
        "\n",
        "import albumentations as A\n",
        "import albumentations.pytorch as AP\n",
        "\n",
        "from albumentations import (\n",
        "    HorizontalFlip, IAAPerspective, ShiftScaleRotate, CLAHE, RandomRotate90, Resize, RandomCrop,\n",
        "    Transpose, ShiftScaleRotate, Blur, OpticalDistortion, GridDistortion, HueSaturationValue,\n",
        "    IAAAdditiveGaussianNoise, GaussNoise, MotionBlur, MedianBlur, RandomBrightnessContrast, IAAPiecewiseAffine,\n",
        "    IAASharpen, IAAEmboss, Flip, OneOf, Compose, Rotate, RandomScale, RandomGridShuffle,\n",
        "    RandomContrast, RandomGamma, RandomBrightness, CenterCrop, VerticalFlip, ColorJitter,\n",
        "    ChannelShuffle, InvertImg, RGBShift, ElasticTransform, Equalize, RandomResizedCrop, ChannelDropout\n",
        ")\n",
        "\n",
        "import matplotlib.pyplot as plt\n",
        "%matplotlib inline"
      ],
      "metadata": {
        "colab": {
          "base_uri": "https://localhost:8080/"
        },
        "id": "HwYuf6SehoGN",
        "outputId": "a26282f6-07f5-4d8e-dcd9-28afa6c622ed"
      },
      "execution_count": 5,
      "outputs": [
        {
          "output_type": "stream",
          "name": "stdout",
          "text": [
            "[INFO] Couldn't find torchinfo. Installing...\n"
          ]
        }
      ]
    },
    {
      "cell_type": "markdown",
      "source": [
        "# Setting things up"
      ],
      "metadata": {
        "id": "tGGPUAQLHAr2"
      }
    },
    {
      "cell_type": "markdown",
      "source": [
        "##Creating config class to utilize global variables"
      ],
      "metadata": {
        "id": "8nPM-bumDtfg"
      }
    },
    {
      "cell_type": "code",
      "source": [
        "class CFG:\n",
        "\n",
        "    num_workers=2\n",
        "    model_name = 'inception_v3'\n",
        "    size = 224\n",
        "    scheduler = 'StepLR'\n",
        "    epochs = 15\n",
        "    step_size = 20 # StepLR\n",
        "    gamma = 0.1 # StepLR\n",
        "    lr = 3e-4\n",
        "    min_lr = 1e-6  #\n",
        "    batch_size = 8\n",
        "    seed = 42\n",
        "\n",
        "    api = \"\"\n",
        "    project = \"imagenette\"\n",
        "    entity = \"dimildizio\"\n",
        "    wandb = False\n",
        "\n",
        "\n",
        "    @classmethod\n",
        "    @ property\n",
        "    def _get_config(cls):\n",
        "      return {key:value for key, value in CFG.__dict__.items() if (\n",
        "                key[:1]!= '_' and key not in ('api', 'project', 'entity', 'wandb'))}\n"
      ],
      "metadata": {
        "id": "QLjG7a7tpiom"
      },
      "execution_count": 18,
      "outputs": []
    },
    {
      "cell_type": "code",
      "source": [
        " CFG._get_config"
      ],
      "metadata": {
        "colab": {
          "base_uri": "https://localhost:8080/"
        },
        "id": "YPGHp_a0QxNg",
        "outputId": "71207842-ae97-497f-8908-e9dcb545f7f0"
      },
      "execution_count": 7,
      "outputs": [
        {
          "output_type": "execute_result",
          "data": {
            "text/plain": [
              "{'num_workers': 2,\n",
              " 'model_name': 'inception_v3',\n",
              " 'size': 224,\n",
              " 'scheduler': 'StepLR',\n",
              " 'epochs': 15,\n",
              " 'step_size': 20,\n",
              " 'gamma': 0.1,\n",
              " 'lr': 0.0003,\n",
              " 'min_lr': 1e-06,\n",
              " 'batch_size': 8,\n",
              " 'seed': 42}"
            ]
          },
          "metadata": {},
          "execution_count": 7
        }
      ]
    },
    {
      "cell_type": "markdown",
      "source": [
        "## Prepare data transformations - augmentation, normalization"
      ],
      "metadata": {
        "id": "AtzoU2vzEny6"
      }
    },
    {
      "cell_type": "markdown",
      "source": [
        "### Modify torch.utils.data.Dataset class for augmented data"
      ],
      "metadata": {
        "id": "gd0W7H-mFSEA"
      }
    },
    {
      "cell_type": "code",
      "source": [
        "class MakeDataset(torch.utils.data.Dataset):\n",
        "    def __init__(self, files, transform=None):\n",
        "        super().__init__()\n",
        "        self.files = files\n",
        "        self.labels = [path.parent.name for path in self.files]\n",
        "        self.len_ = len(self.files)\n",
        "        self.transform = transform\n",
        "        self.classes = ['n01440764', 'n02102040', 'n02979186', 'n03000684', 'n03028079', 'n03394916',\n",
        "                        'n03417042', 'n03425413', 'n03445777', 'n03888257']\n",
        "\n",
        "    def __len__(self):\n",
        "        return self.len_\n",
        "\n",
        "    def __getitem__(self, index):\n",
        "        image = cv2.imread(f'{self.files[index]}')\n",
        "        image = cv2.cvtColor(image, cv2.COLOR_BGR2RGB)\n",
        "        if self.transform:\n",
        "            augmented = self.transform(image=image)\n",
        "            image = augmented['image']\n",
        "        label = self.labels[index]\n",
        "        for i in range(len(self.classes)):\n",
        "          if label == self.classes[i]:\n",
        "            y = i\n",
        "\n",
        "        return image, y"
      ],
      "metadata": {
        "id": "WQDoRC4lsF7S"
      },
      "execution_count": 8,
      "outputs": []
    },
    {
      "cell_type": "markdown",
      "source": [
        "### Augmentations, transformations, normalization"
      ],
      "metadata": {
        "id": "oNGBFDgdHdZZ"
      }
    },
    {
      "cell_type": "code",
      "source": [
        "def get_transforms(*, data):\n",
        "\n",
        "    if data == 'train':\n",
        "        transforma = A.Compose([Resize(256,256), RandomCrop(CFG.size,CFG.size), Rotate(limit = 90, p=0.5),\n",
        "                                    GaussNoise(p=0.5), A.Sharpen(p=0.5), ChannelShuffle(p=0.5),\n",
        "                                    HorizontalFlip(p=0.5), A.Normalize(), AP.ToTensorV2()])\n",
        "    elif data == 'valid':\n",
        "        transforma = A.Compose([Resize(256,256), CenterCrop(CFG.size,CFG.size), A.Normalize(), AP.ToTensorV2()])\n",
        "    return transforma"
      ],
      "metadata": {
        "id": "wbk2TKEI1vX1"
      },
      "execution_count": 9,
      "outputs": []
    },
    {
      "cell_type": "code",
      "source": [
        "def get_loaders(train_df, val_df):\n",
        "  train_loader = torch.utils.data.DataLoader(train_df, batch_size=CFG.batch_size,shuffle=True)\n",
        "  valid_loader = torch.utils.data.DataLoader(val_df, batch_size = CFG.batch_size)\n",
        "\n",
        "  print('Train and Valid datasets are loaded:\\n')\n",
        "  print('{:<7s}{:>10s}{:>10s}'.format('Dataset', 'Batches', 'Pictures')), print('-' * 28)\n",
        "  print('{:<7s}{:>10d}{:>10d}'.format('Train', len(train_loader), len(train_df)))\n",
        "  print('{:<7s}{:>10d}{:>10d}'.format('Valid', len(valid_loader), len(val_df)))\n",
        "  return train_loader, valid_loader"
      ],
      "metadata": {
        "id": "W1RI0wjtsF1S"
      },
      "execution_count": 10,
      "outputs": []
    },
    {
      "cell_type": "markdown",
      "source": [
        "# Downloading dataset and preparing data"
      ],
      "metadata": {
        "id": "qUfHWMiMG0Z-"
      }
    },
    {
      "cell_type": "code",
      "source": [
        "dataset_path = 'imagenette2-160/'\n",
        "if not os.path.exists(dataset_path):\n",
        "    !wget https://s3.amazonaws.com/fast-ai-imageclas/imagenette2-160.tgz\n",
        "    !tar zxvf imagenette2-160.tgz\n",
        "\n",
        "TRAIN_DIR = Path('/content/imagenette2-160/train')\n",
        "VAL_DIR = Path('/content/imagenette2-160/val')\n",
        "\n",
        "train_files = sorted(list(TRAIN_DIR.rglob('*.JPEG')))\n",
        "val_files = sorted(list(VAL_DIR.rglob('*.JPEG')))\n",
        "display.clear_output()"
      ],
      "metadata": {
        "id": "ezBklgYVpj0C"
      },
      "execution_count": 11,
      "outputs": []
    },
    {
      "cell_type": "code",
      "source": [
        "train_dataset = MakeDataset(train_files, transform = get_transforms(data='train'))\n",
        "val_dataset  = MakeDataset(val_files, transform = get_transforms(data='valid'))"
      ],
      "metadata": {
        "id": "a0Lowfc656Fk"
      },
      "execution_count": 12,
      "outputs": []
    },
    {
      "cell_type": "code",
      "source": [
        "train_loader, valid_loader = get_loaders(train_dataset, val_dataset)"
      ],
      "metadata": {
        "colab": {
          "base_uri": "https://localhost:8080/"
        },
        "id": "HBidvzDyLd__",
        "outputId": "9db1b12c-e54e-4703-b409-2c0e7cb057bd"
      },
      "execution_count": 13,
      "outputs": [
        {
          "output_type": "stream",
          "name": "stdout",
          "text": [
            "Train and Valid datasets are loaded:\n",
            "\n",
            "Dataset   Batches  Pictures\n",
            "----------------------------\n",
            "Train        1184      9469\n",
            "Valid         491      3925\n"
          ]
        }
      ]
    },
    {
      "cell_type": "code",
      "source": [
        "class Performer:\n",
        "  trainloader = train_loader\n",
        "  validloader = valid_loader\n",
        "  num_epochs = CFG.epochs\n",
        "\n",
        "\n",
        "  @classmethod\n",
        "  def get_device(cls):\n",
        "    cuda = 'cuda' if torch.cuda.is_available() else 'cpu'\n",
        "    device = torch.device(cuda)\n",
        "    print(device)\n",
        "    return device\n",
        "\n",
        "  @classmethod\n",
        "  def trainval_hist(cls):\n",
        "    return {'train':[], 'val':[]}, {'train':[], 'val':[]}\n",
        "\n",
        "  @classmethod\n",
        "  def run_wandb(cls):\n",
        "    if CFG.wandb:\n",
        "      os.environ['WANDB_API_KEY'] = CFG.api\n",
        "      wandb.init(project = CFG.project, entity = CFG.entity,\n",
        "                 name = CFG.model_name, reinit = True, config = CFG._get_config)\n",
        "\n",
        "  @classmethod\n",
        "  def log_wandb(cls, name, loss, acc):\n",
        "    if CFG.wandb:\n",
        "      wandb.log({name+'_loss': loss, name+'_accuracy': acc})\n",
        "\n",
        "  @classmethod\n",
        "  def seed_everything(cls):\n",
        "    seed = CFG.seed\n",
        "    random.seed(seed)\n",
        "    np.random.seed(seed)\n",
        "    os.environ['PYTHONHASHSEED'] =str(seed)\n",
        "    torch.manual_seed(seed)\n",
        "    torch.cuda.manual_seed(seed)\n",
        "    torch.backends.cudnn.deterministic = True\n",
        "    torch.backends.cudnn.benchmark = False\n",
        "\n",
        "  @classmethod\n",
        "  def switch_trainval(cls, model, phase):\n",
        "    if phase == 'train':\n",
        "      model.train()\n",
        "      return cls.trainloader\n",
        "    else:\n",
        "      model.eval()\n",
        "      return cls.validloader\n",
        "\n",
        "  @classmethod\n",
        "  def train_val(cls, model, optimizer, loss = nn.CrossEntropyLoss(), scheduler = False):\n",
        "    #pre-setup\n",
        "    cls.seed_everything()\n",
        "    cls.run_wandb()\n",
        "    device = cls.get_device()\n",
        "    #set local variables for all epochs\n",
        "    loss_hist, acc_hist = cls.trainval_hist()\n",
        "    best_acc = 0.\n",
        "    best_weights = model.state_dict()\n",
        "\n",
        "    for epoch in range(cls.num_epochs):\n",
        "      print(f'Epoch: {epoch+1}/{cls.num_epochs}')\n",
        "      #each epoch a phase of train and a phase of val\n",
        "      for phase in ['train', 'val']:\n",
        "        dataloader = cls.switch_trainval(model, phase)\n",
        "\n",
        "        model.to(device)\n",
        "        running_loss, running_acc = 0., 0.\n",
        "\n",
        "        #set X, y\n",
        "        for inputs, labels in tqdm(dataloader):\n",
        "          inputs = inputs.to(device)\n",
        "          labels = labels.to(device)\n",
        "          #predict and adjust if train\n",
        "          optimizer.zero_grad()\n",
        "          with torch.set_grad_enabled(phase == 'train'):\n",
        "            y_pred = model(inputs)\n",
        "            loss_v = loss(y_pred, labels)\n",
        "            if phase == 'train':\n",
        "              loss_v.backward()\n",
        "              optimizer.step()\n",
        "          #calc train val stats\n",
        "          running_loss += loss_v.item()\n",
        "          running_acc += (y_pred.argmax(dim=1) == labels).float().mean().data.cpu().numpy()\n",
        "        if phase == 'train' and scheduler:\n",
        "          scheduler.step()\n",
        "        #calc epoch stats\n",
        "        epoch_loss = running_loss / len(dataloader)\n",
        "        epoch_acc = running_acc / len(dataloader)\n",
        "        cls.log_wandb(phase, epoch_loss, epoch_acc)\n",
        "        display.clear_output()\n",
        "        print(f'Epoch:{epoch+1}, loss:{round(epoch_loss,3)}, accuracy: {round(epoch_acc,3)}')\n",
        "        #select best weights\n",
        "        if phase == 'val' and epoch_acc > best_acc:\n",
        "          best_acc = epoch_acc\n",
        "          best_weights = model.state_dict()\n",
        "        #write for history\n",
        "        loss_hist[phase].append(epoch_loss)\n",
        "        acc_hist[phase].append(epoch_acc)\n",
        "    torch.save(best_weights, '/content/'+f'{CFG.model_name}_best.pth')\n",
        "    return model, loss_hist, acc_hist\n"
      ],
      "metadata": {
        "id": "Oj0eOcSoOEjb"
      },
      "execution_count": 15,
      "outputs": []
    },
    {
      "cell_type": "code",
      "source": [
        "class SimpleModel(nn.Module):\n",
        "    def __init__(self, num_classes):\n",
        "        super(SimpleModel, self).__init__()\n",
        "\n",
        "        # Define your layers\n",
        "        self.conv1 = nn.Conv2d(in_channels=3, out_channels=16, kernel_size=3, stride=1, padding=1)\n",
        "        self.relu = nn.ReLU()\n",
        "        self.flatten = nn.Flatten()\n",
        "        self.fc = nn.Linear(16 * 224 * 224, num_classes)\n",
        "\n",
        "    def forward(self, x):\n",
        "        x = self.conv1(x)\n",
        "        x = self.relu(x)\n",
        "        x = self.flatten(x)\n",
        "        x = self.fc(x)\n",
        "        return x\n"
      ],
      "metadata": {
        "id": "ueSinyxtjlbr"
      },
      "execution_count": 16,
      "outputs": []
    },
    {
      "cell_type": "code",
      "source": [
        "CFG.model_name = 'SimpleModel'\n",
        "CFG.model_name"
      ],
      "metadata": {
        "colab": {
          "base_uri": "https://localhost:8080/",
          "height": 36
        },
        "id": "xD6hv5alrHQD",
        "outputId": "5fa528a2-611d-4355-f4cc-946aa691f201"
      },
      "execution_count": 20,
      "outputs": [
        {
          "output_type": "execute_result",
          "data": {
            "text/plain": [
              "'SimpleModel'"
            ],
            "application/vnd.google.colaboratory.intrinsic+json": {
              "type": "string"
            }
          },
          "metadata": {},
          "execution_count": 20
        }
      ]
    },
    {
      "cell_type": "code",
      "source": [
        "qq = SimpleModel(10)\n",
        "Performer.train_val(qq, torch.optim.Adam(qq.parameters(), CFG.lr))"
      ],
      "metadata": {
        "colab": {
          "base_uri": "https://localhost:8080/",
          "height": 324,
          "referenced_widgets": [
            "50b14162aef748668e4b1c379a94cc5b",
            "2a79d4c66534410ba98ea7c88a278b37",
            "18c527042fea4e99ab22effedf39aab2",
            "044abe1046174440803a7f1dd35430c3",
            "7dc53374696b4806aae61636cd8cefb2",
            "46c158f11bcb4ba5a5f2272189bff878",
            "81369b05e1b2468c8b07cddc8b6232e1",
            "d8992a8356cd4bd0b92ea4578c20e5ce"
          ]
        },
        "id": "KWteTq7gjmVh",
        "outputId": "23e434b1-ab72-461f-f599-95099f0bdc72"
      },
      "execution_count": 21,
      "outputs": [
        {
          "output_type": "stream",
          "name": "stdout",
          "text": [
            "Epoch:14, loss:1.938, accuracy: 0.334\n"
          ]
        },
        {
          "output_type": "execute_result",
          "data": {
            "text/plain": [
              "(SimpleModel(\n",
              "   (conv1): Conv2d(3, 16, kernel_size=(3, 3), stride=(1, 1), padding=(1, 1))\n",
              "   (relu): ReLU()\n",
              "   (flatten): Flatten(start_dim=1, end_dim=-1)\n",
              "   (fc): Linear(in_features=802816, out_features=10, bias=True)\n",
              " ),\n",
              " {'train': [8.482652222133568,\n",
              "   2.8098356569236196,\n",
              "   2.3090561161170133,\n",
              "   2.1948584191803193,\n",
              "   2.090530858349961,\n",
              "   2.0608900489436612,\n",
              "   2.0403361814851695,\n",
              "   2.0370661336425187,\n",
              "   2.0051828849355915,\n",
              "   2.0083602048658036,\n",
              "   2.01857825373677,\n",
              "   2.001336330346562,\n",
              "   1.9791055603103864,\n",
              "   1.991113272671764,\n",
              "   1.9940574452079631],\n",
              "  'val': [2.4046090827939954,\n",
              "   1.896533402733793,\n",
              "   1.8073172530428698,\n",
              "   1.8655767985856704,\n",
              "   1.9075227787684035,\n",
              "   1.956791252565481,\n",
              "   1.9468285604067102,\n",
              "   1.893396975066657,\n",
              "   1.9203462089637633,\n",
              "   1.9391166715903583,\n",
              "   1.9321798231839649,\n",
              "   1.9352761017814917,\n",
              "   1.9393043714725315,\n",
              "   1.9539880109173218,\n",
              "   1.9376340775528653]},\n",
              " {'train': [0.2341849662212504,\n",
              "   0.28669763513765223,\n",
              "   0.3220861486687854,\n",
              "   0.32742820946952783,\n",
              "   0.3297297297347639,\n",
              "   0.3284206081282448,\n",
              "   0.32687922297800714,\n",
              "   0.3240920608309475,\n",
              "   0.33916807432684143,\n",
              "   0.3372677364890036,\n",
              "   0.3256756756958124,\n",
              "   0.3314611486511657,\n",
              "   0.3349028716266558,\n",
              "   0.3289484797498664,\n",
              "   0.3288217905430576],\n",
              "  'val': [0.3601832994375598,\n",
              "   0.37484725053344387,\n",
              "   0.40677189414224413,\n",
              "   0.38854378819951213,\n",
              "   0.3592668024561313,\n",
              "   0.3390020366659475,\n",
              "   0.3437372708879032,\n",
              "   0.37556008147853454,\n",
              "   0.35799389003250603,\n",
              "   0.3528513238289206,\n",
              "   0.3479124236313243,\n",
              "   0.3475050916496945,\n",
              "   0.3555498981730758,\n",
              "   0.3402749490895728,\n",
              "   0.3339103869714465]})"
            ]
          },
          "metadata": {},
          "execution_count": 21
        }
      ]
    },
    {
      "cell_type": "markdown",
      "source": [
        "### Importing a model and freezing layers"
      ],
      "metadata": {
        "id": "6DZ0RnSArZE9"
      }
    },
    {
      "cell_type": "code",
      "source": [
        "class MyNet:\n",
        "  pass"
      ],
      "metadata": {
        "id": "rGV6PHt8r4Yp"
      },
      "execution_count": null,
      "outputs": []
    },
    {
      "cell_type": "markdown",
      "source": [
        "### Freezing all layers except the last one"
      ],
      "metadata": {
        "id": "2GXLdj9-rq6Q"
      }
    },
    {
      "cell_type": "code",
      "source": [
        "model = MyNet()"
      ],
      "metadata": {
        "id": "xyFeO6SqsV23"
      },
      "execution_count": null,
      "outputs": []
    },
    {
      "cell_type": "code",
      "source": [
        "last_layer_num = len(list(model.model.parameters()))-2\n",
        "retrain_layers = list(model.model.parameters())[:last_layer_num] + list(model.parameters())[-2:]\n",
        "\n",
        "optimizer = torch.optim.AdamW(retrain_layers, lr = CFG.lr)\n",
        "scheduler = StepLR(optimizer, step_size=CFG.step_size, gamma=CFG.gamma)"
      ],
      "metadata": {
        "id": "_aKjlPa9rnL3"
      },
      "execution_count": null,
      "outputs": []
    },
    {
      "cell_type": "code",
      "source": [
        "Performer.train_val(model, optimizer, scheduler = scheduler)"
      ],
      "metadata": {
        "id": "DK5kEPtWrwSK"
      },
      "execution_count": null,
      "outputs": []
    }
  ]
}