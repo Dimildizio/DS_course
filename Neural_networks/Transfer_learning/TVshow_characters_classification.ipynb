{
  "nbformat": 4,
  "nbformat_minor": 0,
  "metadata": {
    "colab": {
      "provenance": [],
      "authorship_tag": "ABX9TyPeW5lGjvDYnv16tHmJYdPN",
      "include_colab_link": true
    },
    "kernelspec": {
      "name": "python3",
      "display_name": "Python 3"
    },
    "language_info": {
      "name": "python"
    }
  },
  "cells": [
    {
      "cell_type": "markdown",
      "metadata": {
        "id": "view-in-github",
        "colab_type": "text"
      },
      "source": [
        "<a href=\"https://colab.research.google.com/github/Dimildizio/DS_course/blob/main/Neural_networks/Transfer_learning/TVshow_characters_classification.ipynb\" target=\"_parent\"><img src=\"https://colab.research.google.com/assets/colab-badge.svg\" alt=\"Open In Colab\"/></a>"
      ]
    },
    {
      "cell_type": "markdown",
      "source": [
        "# Simpsons characters classification"
      ],
      "metadata": {
        "id": "aUn65o_ap3Y1"
      }
    },
    {
      "cell_type": "markdown",
      "source": [
        "## Install libs"
      ],
      "metadata": {
        "id": "LyiGqB1np-Ja"
      }
    },
    {
      "cell_type": "code",
      "execution_count": null,
      "metadata": {
        "id": "kgZwHg5xooTX"
      },
      "outputs": [],
      "source": [
        "!pip install kaggle"
      ]
    },
    {
      "cell_type": "markdown",
      "source": [
        "## imports"
      ],
      "metadata": {
        "id": "5DQFT8vzspDi"
      }
    },
    {
      "cell_type": "code",
      "source": [
        "import numpy as np\n",
        "import pickle\n",
        "import matplotlib.pyplot as plt\n",
        "\n",
        "from pathlib import Path\n",
        "from PIL import Image\n",
        "from sklearn.model_selection import train_test_split\n",
        "from sklearn.preprocessing import LabelEncoder\n",
        "from torch.utils.data import Dataset, DataLoader\n",
        "from torchvision import transforms"
      ],
      "metadata": {
        "id": "uwZjzRddsqRV"
      },
      "execution_count": 29,
      "outputs": []
    },
    {
      "cell_type": "markdown",
      "source": [
        "### Create folder and download the dataset\n",
        "\n",
        "If you want to follow this track, don't forget to put **your** kaggle API (download kaggle.json from kaggle.com) in the current dirrectory (I assume its 'content' for you)"
      ],
      "metadata": {
        "id": "pHjBQ4ikqFp8"
      }
    },
    {
      "cell_type": "code",
      "source": [
        "!mkdir -p ~/.kaggle\n",
        "!mv kaggle.json ~/.kaggle/\n",
        "!chmod 600 ~/.kaggle/kaggle.json\n",
        "!kaggle competitions download -c journey-springfield\n",
        "!unzip -q journey-springfield.zip"
      ],
      "metadata": {
        "id": "9KZ-W5IDpjmW"
      },
      "execution_count": 6,
      "outputs": []
    },
    {
      "cell_type": "markdown",
      "source": [
        "If you cannot perform the actions above or you don't have kaggle account (what are you doing here then?) - uncomment and use the code below. Of course you need to mound the drive and upload your version of dataset"
      ],
      "metadata": {
        "id": "CkuiVMEKq113"
      }
    },
    {
      "cell_type": "code",
      "source": [
        "#from google.colab import drive\n",
        "#drive.mount('/content/gdrive/')\n",
        "#!unzip -q /content/gdrive/MyDrive/journey-springfield.zip"
      ],
      "metadata": {
        "id": "PwzxNcsporVc"
      },
      "execution_count": 7,
      "outputs": []
    },
    {
      "cell_type": "markdown",
      "source": [
        "### Sort data in order and get labels"
      ],
      "metadata": {
        "id": "dIc0FHs2umL0"
      }
    },
    {
      "cell_type": "code",
      "source": [
        "path_train = Path('./train/')\n",
        "path_test = Path('./testset/')\n",
        "\n",
        "train_val_files = sorted(list(path_train.rglob('*.jpg')))\n",
        "test_files = sorted(list(path_test.rglob('*.jpg')))\n",
        "\n",
        "train_val_labels = [path.parent.name for path in train_val_files]"
      ],
      "metadata": {
        "id": "q0Ancr0xsMRR"
      },
      "execution_count": 12,
      "outputs": []
    },
    {
      "cell_type": "markdown",
      "source": [
        "### Split train labels into train and val data with stratification"
      ],
      "metadata": {
        "id": "nm0WEOLzuyGy"
      }
    },
    {
      "cell_type": "code",
      "source": [
        "train_files, val_files = train_test_split(train_val_files, test_size=0.25, stratify=train_val_labels)"
      ],
      "metadata": {
        "id": "H1PzKvBHudM8"
      },
      "execution_count": 15,
      "outputs": []
    }
  ]
}