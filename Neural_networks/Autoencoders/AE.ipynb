{
  "nbformat": 4,
  "nbformat_minor": 0,
  "metadata": {
    "colab": {
      "provenance": [],
      "authorship_tag": "ABX9TyOgWfUth6cmSUL7SPJYjDge",
      "include_colab_link": true
    },
    "kernelspec": {
      "name": "python3",
      "display_name": "Python 3"
    },
    "language_info": {
      "name": "python"
    }
  },
  "cells": [
    {
      "cell_type": "markdown",
      "metadata": {
        "id": "view-in-github",
        "colab_type": "text"
      },
      "source": [
        "<a href=\"https://colab.research.google.com/github/Dimildizio/DS_course/blob/main/Neural_networks/Autoencoders/AE.ipynb\" target=\"_parent\"><img src=\"https://colab.research.google.com/assets/colab-badge.svg\" alt=\"Open In Colab\"/></a>"
      ]
    },
    {
      "cell_type": "markdown",
      "source": [
        "# Autoencoders"
      ],
      "metadata": {
        "id": "11X1gxcFPMS2"
      }
    },
    {
      "cell_type": "markdown",
      "source": [
        "Autoencoders are used for unsupervised learning. The primary goal is to learn efficient representations of data, typically by compressing the input into a lower-dimensional latent space and then reconstructing the input from that representation."
      ],
      "metadata": {
        "id": "VnOifM6WPb6a"
      }
    },
    {
      "cell_type": "markdown",
      "source": [
        "### Autoencoder components"
      ],
      "metadata": {
        "id": "qpHE8yy9PmZA"
      }
    },
    {
      "cell_type": "markdown",
      "source": [
        "#### Encoder"
      ],
      "metadata": {
        "id": "wda-BNpePqcI"
      }
    },
    {
      "cell_type": "markdown",
      "source": [
        "Encoders compress the input to a lower dimensional representation (latent space). Consists of several or more layers that reduce diemnsions."
      ],
      "metadata": {
        "id": "qPf4e3CxP0I5"
      }
    },
    {
      "cell_type": "markdown",
      "source": [
        "#### Latent space"
      ],
      "metadata": {
        "id": "QLXdMaVLPsYy"
      }
    },
    {
      "cell_type": "markdown",
      "source": [
        "Lower-dim representation of inputs. Basically - condensed information."
      ],
      "metadata": {
        "id": "AkbZY_DQQHy9"
      }
    },
    {
      "cell_type": "markdown",
      "source": [
        "#### Decoder"
      ],
      "metadata": {
        "id": "xsxtKz63PupS"
      }
    },
    {
      "cell_type": "markdown",
      "source": [
        "Reconstructs the data form latent space, mirrors encoder structure in reverse."
      ],
      "metadata": {
        "id": "nWRFyy-hQIcY"
      }
    }
  ]
}