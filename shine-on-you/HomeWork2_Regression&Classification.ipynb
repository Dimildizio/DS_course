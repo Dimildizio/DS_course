{
  "nbformat": 4,
  "nbformat_minor": 0,
  "metadata": {
    "colab": {
      "provenance": [],
      "include_colab_link": true
    },
    "kernelspec": {
      "name": "python3",
      "display_name": "Python 3"
    },
    "language_info": {
      "name": "python"
    }
  },
  "cells": [
    {
      "cell_type": "markdown",
      "metadata": {
        "id": "view-in-github",
        "colab_type": "text"
      },
      "source": [
        "<a href=\"https://colab.research.google.com/github/Dimildizio/DS_course/blob/main/shine-on-you/HomeWork2_Regression%26Classification.ipynb\" target=\"_parent\"><img src=\"https://colab.research.google.com/assets/colab-badge.svg\" alt=\"Open In Colab\"/></a>"
      ]
    },
    {
      "cell_type": "markdown",
      "source": [
        "# Домашняя работа 2"
      ],
      "metadata": {
        "id": "jyJswrIfpbmA"
      }
    },
    {
      "cell_type": "markdown",
      "source": [
        "## Регрессия"
      ],
      "metadata": {
        "id": "r_lVVaJl2Ncb"
      }
    },
    {
      "cell_type": "markdown",
      "source": [
        "С 1-ого октября отменяется НДС на бриллианты, теперь они становятся новым инвестиционным инструментом. Давайте сделаем модель ценообразования для них.\n",
        "\n",
        "Скачайте датасет diamonds.csv\n",
        "\n",
        "В нем представлены характеристики бриллиантов и их цены с сайта jamesallen (B2C площадка) с 2022-07-01\n",
        "\n",
        "**Описание полей**\n",
        "\n",
        "\n",
        "* fluor - флуорисценция (свойство камня светиться в ультрафиолетовых лучах)\n",
        "* symmetry - показатель симметричности\n",
        "* platform - название платформы, где был размещен камень\n",
        "* quality_group - составной показатель из cut polish symmetry\n",
        "* size_group - каратно весовая группа\n",
        "* big_size_group - каратно-весовая группа\n",
        "* shape - форма\n",
        "* color - цвет\n",
        "* clarity - чистота\n",
        "* cut - качество огранки (может быть только у круглых камней)\n",
        "* polish - полировка\n",
        "* id - номер камня\n",
        "* date - дата\n",
        "* price - цена\n",
        "* carat - кол-во карат\n",
        "* tablepercent - размер площадки по отношению ширине\n",
        "* price_per_carat - цена за карат\n",
        "* z - длина (diameter)\n",
        "* x - ширина\n",
        "* depth_perc - отношение высоты к ширине\n",
        "* y - высота\n",
        "\n"
      ],
      "metadata": {
        "id": "3pECYqXD2VjG"
      }
    },
    {
      "cell_type": "code",
      "source": [
        "import pandas as pd\n",
        "import numpy as np"
      ],
      "metadata": {
        "id": "iOnp-6t565z8"
      },
      "execution_count": 2,
      "outputs": []
    },
    {
      "cell_type": "code",
      "source": [
        "#from google.colab import drive\n",
        "#drive.mount('/content/drive')\n",
        "#path = 'drive/MyDrive/'"
      ],
      "metadata": {
        "colab": {
          "base_uri": "https://localhost:8080/"
        },
        "id": "C4f2-y_7bfv8",
        "outputId": "4e18d8e1-fd35-4ce7-9862-60f9d7cb2ddf"
      },
      "execution_count": null,
      "outputs": [
        {
          "output_type": "stream",
          "name": "stdout",
          "text": [
            "Mounted at /content/drive\n"
          ]
        }
      ]
    },
    {
      "cell_type": "code",
      "source": [
        "df = pd.read_csv('https://raw.githubusercontent.com/Dimildizio/DS_course/main/shine-on-you/diamonds.csv', index_col=0)\n",
        "df.shape"
      ],
      "metadata": {
        "id": "iG7MP6VZ2UZN",
        "outputId": "78890758-3c77-448a-bef5-31475e1708a3",
        "colab": {
          "base_uri": "https://localhost:8080/"
        }
      },
      "execution_count": 5,
      "outputs": [
        {
          "output_type": "execute_result",
          "data": {
            "text/plain": [
              "(222222, 17)"
            ]
          },
          "metadata": {},
          "execution_count": 5
        }
      ]
    },
    {
      "cell_type": "markdown",
      "source": [
        "## EDA"
      ],
      "metadata": {
        "id": "wrqej3AkQxLg"
      }
    },
    {
      "cell_type": "code",
      "source": [
        "df.head(10)"
      ],
      "metadata": {
        "id": "X-0nb5pUcv9m",
        "outputId": "4d9ddd4d-0948-42a6-db6e-dc700e54fa52",
        "colab": {
          "base_uri": "https://localhost:8080/",
          "height": 206
        }
      },
      "execution_count": 81,
      "outputs": [
        {
          "output_type": "execute_result",
          "data": {
            "text/plain": [
              "       fluor symmetry    platform shape color clarity  cut polish        id  \\\n",
              "135269   NaN       EX  jamesallen    PS     F     SI1  NaN     EX  13870838   \n",
              "48477    MED       EX  jamesallen    RD     H    VVS2   EX     EX  11725253   \n",
              "236786   NaN       EX  jamesallen    EM     H      IF  NaN     EX  14444347   \n",
              "235781   NaN       EX  jamesallen    RD     E     VS2   EX     EX  14438434   \n",
              "277744   NaN       VG  jamesallen    RD     F     VS1   VG     EX  14615276   \n",
              "\n",
              "          date    price  carat  price_per_carat      z     x  depth_perc  \\\n",
              "135269  202206  12850.0   1.55          8290.32  10.29  6.41        62.0   \n",
              "48477   202207   7510.0   1.02          7362.75   6.41  6.45        62.5   \n",
              "236786  202205  21220.0   2.01         10557.21   8.60  6.37        65.0   \n",
              "235781  202207   8660.0   1.00          8660.00   6.39  6.44        61.4   \n",
              "277744  202206   8480.0   1.00          8480.00   6.28  6.36        62.3   \n",
              "\n",
              "              y  \n",
              "135269  3.97420  \n",
              "48477   4.03125  \n",
              "236786  4.14050  \n",
              "235781  3.95416  \n",
              "277744  3.96228  "
            ],
            "text/html": [
              "\n",
              "  <div id=\"df-689ba998-42cc-454d-bb76-d672ae88f4f1\">\n",
              "    <div class=\"colab-df-container\">\n",
              "      <div>\n",
              "<style scoped>\n",
              "    .dataframe tbody tr th:only-of-type {\n",
              "        vertical-align: middle;\n",
              "    }\n",
              "\n",
              "    .dataframe tbody tr th {\n",
              "        vertical-align: top;\n",
              "    }\n",
              "\n",
              "    .dataframe thead th {\n",
              "        text-align: right;\n",
              "    }\n",
              "</style>\n",
              "<table border=\"1\" class=\"dataframe\">\n",
              "  <thead>\n",
              "    <tr style=\"text-align: right;\">\n",
              "      <th></th>\n",
              "      <th>fluor</th>\n",
              "      <th>symmetry</th>\n",
              "      <th>platform</th>\n",
              "      <th>shape</th>\n",
              "      <th>color</th>\n",
              "      <th>clarity</th>\n",
              "      <th>cut</th>\n",
              "      <th>polish</th>\n",
              "      <th>id</th>\n",
              "      <th>date</th>\n",
              "      <th>price</th>\n",
              "      <th>carat</th>\n",
              "      <th>price_per_carat</th>\n",
              "      <th>z</th>\n",
              "      <th>x</th>\n",
              "      <th>depth_perc</th>\n",
              "      <th>y</th>\n",
              "    </tr>\n",
              "  </thead>\n",
              "  <tbody>\n",
              "    <tr>\n",
              "      <th>135269</th>\n",
              "      <td>NaN</td>\n",
              "      <td>EX</td>\n",
              "      <td>jamesallen</td>\n",
              "      <td>PS</td>\n",
              "      <td>F</td>\n",
              "      <td>SI1</td>\n",
              "      <td>NaN</td>\n",
              "      <td>EX</td>\n",
              "      <td>13870838</td>\n",
              "      <td>202206</td>\n",
              "      <td>12850.0</td>\n",
              "      <td>1.55</td>\n",
              "      <td>8290.32</td>\n",
              "      <td>10.29</td>\n",
              "      <td>6.41</td>\n",
              "      <td>62.0</td>\n",
              "      <td>3.97420</td>\n",
              "    </tr>\n",
              "    <tr>\n",
              "      <th>48477</th>\n",
              "      <td>MED</td>\n",
              "      <td>EX</td>\n",
              "      <td>jamesallen</td>\n",
              "      <td>RD</td>\n",
              "      <td>H</td>\n",
              "      <td>VVS2</td>\n",
              "      <td>EX</td>\n",
              "      <td>EX</td>\n",
              "      <td>11725253</td>\n",
              "      <td>202207</td>\n",
              "      <td>7510.0</td>\n",
              "      <td>1.02</td>\n",
              "      <td>7362.75</td>\n",
              "      <td>6.41</td>\n",
              "      <td>6.45</td>\n",
              "      <td>62.5</td>\n",
              "      <td>4.03125</td>\n",
              "    </tr>\n",
              "    <tr>\n",
              "      <th>236786</th>\n",
              "      <td>NaN</td>\n",
              "      <td>EX</td>\n",
              "      <td>jamesallen</td>\n",
              "      <td>EM</td>\n",
              "      <td>H</td>\n",
              "      <td>IF</td>\n",
              "      <td>NaN</td>\n",
              "      <td>EX</td>\n",
              "      <td>14444347</td>\n",
              "      <td>202205</td>\n",
              "      <td>21220.0</td>\n",
              "      <td>2.01</td>\n",
              "      <td>10557.21</td>\n",
              "      <td>8.60</td>\n",
              "      <td>6.37</td>\n",
              "      <td>65.0</td>\n",
              "      <td>4.14050</td>\n",
              "    </tr>\n",
              "    <tr>\n",
              "      <th>235781</th>\n",
              "      <td>NaN</td>\n",
              "      <td>EX</td>\n",
              "      <td>jamesallen</td>\n",
              "      <td>RD</td>\n",
              "      <td>E</td>\n",
              "      <td>VS2</td>\n",
              "      <td>EX</td>\n",
              "      <td>EX</td>\n",
              "      <td>14438434</td>\n",
              "      <td>202207</td>\n",
              "      <td>8660.0</td>\n",
              "      <td>1.00</td>\n",
              "      <td>8660.00</td>\n",
              "      <td>6.39</td>\n",
              "      <td>6.44</td>\n",
              "      <td>61.4</td>\n",
              "      <td>3.95416</td>\n",
              "    </tr>\n",
              "    <tr>\n",
              "      <th>277744</th>\n",
              "      <td>NaN</td>\n",
              "      <td>VG</td>\n",
              "      <td>jamesallen</td>\n",
              "      <td>RD</td>\n",
              "      <td>F</td>\n",
              "      <td>VS1</td>\n",
              "      <td>VG</td>\n",
              "      <td>EX</td>\n",
              "      <td>14615276</td>\n",
              "      <td>202206</td>\n",
              "      <td>8480.0</td>\n",
              "      <td>1.00</td>\n",
              "      <td>8480.00</td>\n",
              "      <td>6.28</td>\n",
              "      <td>6.36</td>\n",
              "      <td>62.3</td>\n",
              "      <td>3.96228</td>\n",
              "    </tr>\n",
              "  </tbody>\n",
              "</table>\n",
              "</div>\n",
              "      <button class=\"colab-df-convert\" onclick=\"convertToInteractive('df-689ba998-42cc-454d-bb76-d672ae88f4f1')\"\n",
              "              title=\"Convert this dataframe to an interactive table.\"\n",
              "              style=\"display:none;\">\n",
              "        \n",
              "  <svg xmlns=\"http://www.w3.org/2000/svg\" height=\"24px\"viewBox=\"0 0 24 24\"\n",
              "       width=\"24px\">\n",
              "    <path d=\"M0 0h24v24H0V0z\" fill=\"none\"/>\n",
              "    <path d=\"M18.56 5.44l.94 2.06.94-2.06 2.06-.94-2.06-.94-.94-2.06-.94 2.06-2.06.94zm-11 1L8.5 8.5l.94-2.06 2.06-.94-2.06-.94L8.5 2.5l-.94 2.06-2.06.94zm10 10l.94 2.06.94-2.06 2.06-.94-2.06-.94-.94-2.06-.94 2.06-2.06.94z\"/><path d=\"M17.41 7.96l-1.37-1.37c-.4-.4-.92-.59-1.43-.59-.52 0-1.04.2-1.43.59L10.3 9.45l-7.72 7.72c-.78.78-.78 2.05 0 2.83L4 21.41c.39.39.9.59 1.41.59.51 0 1.02-.2 1.41-.59l7.78-7.78 2.81-2.81c.8-.78.8-2.07 0-2.86zM5.41 20L4 18.59l7.72-7.72 1.47 1.35L5.41 20z\"/>\n",
              "  </svg>\n",
              "      </button>\n",
              "      \n",
              "  <style>\n",
              "    .colab-df-container {\n",
              "      display:flex;\n",
              "      flex-wrap:wrap;\n",
              "      gap: 12px;\n",
              "    }\n",
              "\n",
              "    .colab-df-convert {\n",
              "      background-color: #E8F0FE;\n",
              "      border: none;\n",
              "      border-radius: 50%;\n",
              "      cursor: pointer;\n",
              "      display: none;\n",
              "      fill: #1967D2;\n",
              "      height: 32px;\n",
              "      padding: 0 0 0 0;\n",
              "      width: 32px;\n",
              "    }\n",
              "\n",
              "    .colab-df-convert:hover {\n",
              "      background-color: #E2EBFA;\n",
              "      box-shadow: 0px 1px 2px rgba(60, 64, 67, 0.3), 0px 1px 3px 1px rgba(60, 64, 67, 0.15);\n",
              "      fill: #174EA6;\n",
              "    }\n",
              "\n",
              "    [theme=dark] .colab-df-convert {\n",
              "      background-color: #3B4455;\n",
              "      fill: #D2E3FC;\n",
              "    }\n",
              "\n",
              "    [theme=dark] .colab-df-convert:hover {\n",
              "      background-color: #434B5C;\n",
              "      box-shadow: 0px 1px 3px 1px rgba(0, 0, 0, 0.15);\n",
              "      filter: drop-shadow(0px 1px 2px rgba(0, 0, 0, 0.3));\n",
              "      fill: #FFFFFF;\n",
              "    }\n",
              "  </style>\n",
              "\n",
              "      <script>\n",
              "        const buttonEl =\n",
              "          document.querySelector('#df-689ba998-42cc-454d-bb76-d672ae88f4f1 button.colab-df-convert');\n",
              "        buttonEl.style.display =\n",
              "          google.colab.kernel.accessAllowed ? 'block' : 'none';\n",
              "\n",
              "        async function convertToInteractive(key) {\n",
              "          const element = document.querySelector('#df-689ba998-42cc-454d-bb76-d672ae88f4f1');\n",
              "          const dataTable =\n",
              "            await google.colab.kernel.invokeFunction('convertToInteractive',\n",
              "                                                     [key], {});\n",
              "          if (!dataTable) return;\n",
              "\n",
              "          const docLinkHtml = 'Like what you see? Visit the ' +\n",
              "            '<a target=\"_blank\" href=https://colab.research.google.com/notebooks/data_table.ipynb>data table notebook</a>'\n",
              "            + ' to learn more about interactive tables.';\n",
              "          element.innerHTML = '';\n",
              "          dataTable['output_type'] = 'display_data';\n",
              "          await google.colab.output.renderOutput(dataTable, element);\n",
              "          const docLink = document.createElement('div');\n",
              "          docLink.innerHTML = docLinkHtml;\n",
              "          element.appendChild(docLink);\n",
              "        }\n",
              "      </script>\n",
              "    </div>\n",
              "  </div>\n",
              "  "
            ]
          },
          "metadata": {},
          "execution_count": 81
        }
      ]
    },
    {
      "cell_type": "code",
      "source": [
        "#print('number of duplicates:',df.duplicated(keep=False).sum() - df.shape[0])\n",
        "df1=df.copy()\n",
        "df1=df1.drop(df1[df1.id == 0].index)\n",
        "df1=df1.drop('platform', axis = 1)\n",
        "df1['fluor'] = df1['fluor'].replace('NONE', np.nan)"
      ],
      "metadata": {
        "id": "XC1pKqANUcJe",
        "outputId": "39d1e2e1-605e-4ae2-b797-fbb158cfc134",
        "colab": {
          "base_uri": "https://localhost:8080/"
        }
      },
      "execution_count": 91,
      "outputs": [
        {
          "output_type": "execute_result",
          "data": {
            "text/plain": [
              "fluor              category\n",
              "symmetry           category\n",
              "shape              category\n",
              "color              category\n",
              "clarity            category\n",
              "cut                category\n",
              "polish             category\n",
              "id                    int64\n",
              "date                  int64\n",
              "price               float64\n",
              "carat               float64\n",
              "price_per_carat     float64\n",
              "z                   float64\n",
              "x                   float64\n",
              "depth_perc          float64\n",
              "y                   float64\n",
              "dtype: object"
            ]
          },
          "metadata": {},
          "execution_count": 91
        }
      ]
    },
    {
      "cell_type": "code",
      "source": [
        "for col in ['fluor', 'symmetry','shape', 'clarity', 'color', 'cut','polish']:\n",
        "  df1[col] = df1[col].astype('category')\n",
        "for col in ['id','date']:\n",
        "  df1[col] = df1[col].astype('int32')\n",
        "for col in ['price', 'carat','price_per_carat', 'z', 'x', 'y', 'depth_perc']:\n",
        "  df1[col] = df1[col].astype('float32')"
      ],
      "metadata": {
        "id": "lBWfjSJUfFK8"
      },
      "execution_count": 102,
      "outputs": []
    },
    {
      "cell_type": "code",
      "source": [
        "df1.describe().apply(lambda x: round(x,2))"
      ],
      "metadata": {
        "id": "PCBaUN9Mel2R",
        "outputId": "d26532de-0081-4870-9c4b-c8f7c57cbc12",
        "colab": {
          "base_uri": "https://localhost:8080/",
          "height": 300
        }
      },
      "execution_count": 101,
      "outputs": [
        {
          "output_type": "execute_result",
          "data": {
            "text/plain": [
              "                id       date       price      carat  price_per_carat  \\\n",
              "count    222218.00  222218.00   222218.00  222218.00        222218.00   \n",
              "mean   13588555.40  202206.04    11715.41       1.34          7035.03   \n",
              "std     2547881.60       0.82    25403.57       0.72          5216.41   \n",
              "min       19423.00  202205.00      920.00       0.81          1029.70   \n",
              "25%    13598651.50  202205.00     4210.00       1.00          4148.51   \n",
              "50%    14400461.00  202206.00     6560.00       1.01          5851.49   \n",
              "75%    14837629.75  202207.00    11600.00       1.50          8609.27   \n",
              "max    15418506.00  202207.00  2380380.00      21.17        955000.00   \n",
              "\n",
              "               z          x  depth_perc          y  \n",
              "count  222218.00  222218.00   222218.00  222218.00  \n",
              "mean        7.08       6.42       64.09       4.10  \n",
              "std         1.38       1.05        4.19       0.60  \n",
              "min         4.52       3.87       46.00       2.47  \n",
              "25%         6.26       5.69       61.80       3.81  \n",
              "50%         6.53       6.38       63.00       4.00  \n",
              "75%         7.66       6.82       66.00       4.32  \n",
              "max        21.88      18.05       78.00      10.74  "
            ],
            "text/html": [
              "\n",
              "  <div id=\"df-139253c1-5229-41f7-9b5b-2c00cf70d989\">\n",
              "    <div class=\"colab-df-container\">\n",
              "      <div>\n",
              "<style scoped>\n",
              "    .dataframe tbody tr th:only-of-type {\n",
              "        vertical-align: middle;\n",
              "    }\n",
              "\n",
              "    .dataframe tbody tr th {\n",
              "        vertical-align: top;\n",
              "    }\n",
              "\n",
              "    .dataframe thead th {\n",
              "        text-align: right;\n",
              "    }\n",
              "</style>\n",
              "<table border=\"1\" class=\"dataframe\">\n",
              "  <thead>\n",
              "    <tr style=\"text-align: right;\">\n",
              "      <th></th>\n",
              "      <th>id</th>\n",
              "      <th>date</th>\n",
              "      <th>price</th>\n",
              "      <th>carat</th>\n",
              "      <th>price_per_carat</th>\n",
              "      <th>z</th>\n",
              "      <th>x</th>\n",
              "      <th>depth_perc</th>\n",
              "      <th>y</th>\n",
              "    </tr>\n",
              "  </thead>\n",
              "  <tbody>\n",
              "    <tr>\n",
              "      <th>count</th>\n",
              "      <td>222218.00</td>\n",
              "      <td>222218.00</td>\n",
              "      <td>222218.00</td>\n",
              "      <td>222218.00</td>\n",
              "      <td>222218.00</td>\n",
              "      <td>222218.00</td>\n",
              "      <td>222218.00</td>\n",
              "      <td>222218.00</td>\n",
              "      <td>222218.00</td>\n",
              "    </tr>\n",
              "    <tr>\n",
              "      <th>mean</th>\n",
              "      <td>13588555.40</td>\n",
              "      <td>202206.04</td>\n",
              "      <td>11715.41</td>\n",
              "      <td>1.34</td>\n",
              "      <td>7035.03</td>\n",
              "      <td>7.08</td>\n",
              "      <td>6.42</td>\n",
              "      <td>64.09</td>\n",
              "      <td>4.10</td>\n",
              "    </tr>\n",
              "    <tr>\n",
              "      <th>std</th>\n",
              "      <td>2547881.60</td>\n",
              "      <td>0.82</td>\n",
              "      <td>25403.57</td>\n",
              "      <td>0.72</td>\n",
              "      <td>5216.41</td>\n",
              "      <td>1.38</td>\n",
              "      <td>1.05</td>\n",
              "      <td>4.19</td>\n",
              "      <td>0.60</td>\n",
              "    </tr>\n",
              "    <tr>\n",
              "      <th>min</th>\n",
              "      <td>19423.00</td>\n",
              "      <td>202205.00</td>\n",
              "      <td>920.00</td>\n",
              "      <td>0.81</td>\n",
              "      <td>1029.70</td>\n",
              "      <td>4.52</td>\n",
              "      <td>3.87</td>\n",
              "      <td>46.00</td>\n",
              "      <td>2.47</td>\n",
              "    </tr>\n",
              "    <tr>\n",
              "      <th>25%</th>\n",
              "      <td>13598651.50</td>\n",
              "      <td>202205.00</td>\n",
              "      <td>4210.00</td>\n",
              "      <td>1.00</td>\n",
              "      <td>4148.51</td>\n",
              "      <td>6.26</td>\n",
              "      <td>5.69</td>\n",
              "      <td>61.80</td>\n",
              "      <td>3.81</td>\n",
              "    </tr>\n",
              "    <tr>\n",
              "      <th>50%</th>\n",
              "      <td>14400461.00</td>\n",
              "      <td>202206.00</td>\n",
              "      <td>6560.00</td>\n",
              "      <td>1.01</td>\n",
              "      <td>5851.49</td>\n",
              "      <td>6.53</td>\n",
              "      <td>6.38</td>\n",
              "      <td>63.00</td>\n",
              "      <td>4.00</td>\n",
              "    </tr>\n",
              "    <tr>\n",
              "      <th>75%</th>\n",
              "      <td>14837629.75</td>\n",
              "      <td>202207.00</td>\n",
              "      <td>11600.00</td>\n",
              "      <td>1.50</td>\n",
              "      <td>8609.27</td>\n",
              "      <td>7.66</td>\n",
              "      <td>6.82</td>\n",
              "      <td>66.00</td>\n",
              "      <td>4.32</td>\n",
              "    </tr>\n",
              "    <tr>\n",
              "      <th>max</th>\n",
              "      <td>15418506.00</td>\n",
              "      <td>202207.00</td>\n",
              "      <td>2380380.00</td>\n",
              "      <td>21.17</td>\n",
              "      <td>955000.00</td>\n",
              "      <td>21.88</td>\n",
              "      <td>18.05</td>\n",
              "      <td>78.00</td>\n",
              "      <td>10.74</td>\n",
              "    </tr>\n",
              "  </tbody>\n",
              "</table>\n",
              "</div>\n",
              "      <button class=\"colab-df-convert\" onclick=\"convertToInteractive('df-139253c1-5229-41f7-9b5b-2c00cf70d989')\"\n",
              "              title=\"Convert this dataframe to an interactive table.\"\n",
              "              style=\"display:none;\">\n",
              "        \n",
              "  <svg xmlns=\"http://www.w3.org/2000/svg\" height=\"24px\"viewBox=\"0 0 24 24\"\n",
              "       width=\"24px\">\n",
              "    <path d=\"M0 0h24v24H0V0z\" fill=\"none\"/>\n",
              "    <path d=\"M18.56 5.44l.94 2.06.94-2.06 2.06-.94-2.06-.94-.94-2.06-.94 2.06-2.06.94zm-11 1L8.5 8.5l.94-2.06 2.06-.94-2.06-.94L8.5 2.5l-.94 2.06-2.06.94zm10 10l.94 2.06.94-2.06 2.06-.94-2.06-.94-.94-2.06-.94 2.06-2.06.94z\"/><path d=\"M17.41 7.96l-1.37-1.37c-.4-.4-.92-.59-1.43-.59-.52 0-1.04.2-1.43.59L10.3 9.45l-7.72 7.72c-.78.78-.78 2.05 0 2.83L4 21.41c.39.39.9.59 1.41.59.51 0 1.02-.2 1.41-.59l7.78-7.78 2.81-2.81c.8-.78.8-2.07 0-2.86zM5.41 20L4 18.59l7.72-7.72 1.47 1.35L5.41 20z\"/>\n",
              "  </svg>\n",
              "      </button>\n",
              "      \n",
              "  <style>\n",
              "    .colab-df-container {\n",
              "      display:flex;\n",
              "      flex-wrap:wrap;\n",
              "      gap: 12px;\n",
              "    }\n",
              "\n",
              "    .colab-df-convert {\n",
              "      background-color: #E8F0FE;\n",
              "      border: none;\n",
              "      border-radius: 50%;\n",
              "      cursor: pointer;\n",
              "      display: none;\n",
              "      fill: #1967D2;\n",
              "      height: 32px;\n",
              "      padding: 0 0 0 0;\n",
              "      width: 32px;\n",
              "    }\n",
              "\n",
              "    .colab-df-convert:hover {\n",
              "      background-color: #E2EBFA;\n",
              "      box-shadow: 0px 1px 2px rgba(60, 64, 67, 0.3), 0px 1px 3px 1px rgba(60, 64, 67, 0.15);\n",
              "      fill: #174EA6;\n",
              "    }\n",
              "\n",
              "    [theme=dark] .colab-df-convert {\n",
              "      background-color: #3B4455;\n",
              "      fill: #D2E3FC;\n",
              "    }\n",
              "\n",
              "    [theme=dark] .colab-df-convert:hover {\n",
              "      background-color: #434B5C;\n",
              "      box-shadow: 0px 1px 3px 1px rgba(0, 0, 0, 0.15);\n",
              "      filter: drop-shadow(0px 1px 2px rgba(0, 0, 0, 0.3));\n",
              "      fill: #FFFFFF;\n",
              "    }\n",
              "  </style>\n",
              "\n",
              "      <script>\n",
              "        const buttonEl =\n",
              "          document.querySelector('#df-139253c1-5229-41f7-9b5b-2c00cf70d989 button.colab-df-convert');\n",
              "        buttonEl.style.display =\n",
              "          google.colab.kernel.accessAllowed ? 'block' : 'none';\n",
              "\n",
              "        async function convertToInteractive(key) {\n",
              "          const element = document.querySelector('#df-139253c1-5229-41f7-9b5b-2c00cf70d989');\n",
              "          const dataTable =\n",
              "            await google.colab.kernel.invokeFunction('convertToInteractive',\n",
              "                                                     [key], {});\n",
              "          if (!dataTable) return;\n",
              "\n",
              "          const docLinkHtml = 'Like what you see? Visit the ' +\n",
              "            '<a target=\"_blank\" href=https://colab.research.google.com/notebooks/data_table.ipynb>data table notebook</a>'\n",
              "            + ' to learn more about interactive tables.';\n",
              "          element.innerHTML = '';\n",
              "          dataTable['output_type'] = 'display_data';\n",
              "          await google.colab.output.renderOutput(dataTable, element);\n",
              "          const docLink = document.createElement('div');\n",
              "          docLink.innerHTML = docLinkHtml;\n",
              "          element.appendChild(docLink);\n",
              "        }\n",
              "      </script>\n",
              "    </div>\n",
              "  </div>\n",
              "  "
            ]
          },
          "metadata": {},
          "execution_count": 101
        }
      ]
    },
    {
      "cell_type": "code",
      "source": [
        "df.columns\n",
        "for c in df.columns:\n",
        "  print(f'column:{c}')\n",
        "  print(df[c].nunique())\n",
        "  print()"
      ],
      "metadata": {
        "id": "W6mk8XtGQ1Vn",
        "outputId": "b22c2e60-685b-42ac-8517-eb1d87238a8d",
        "colab": {
          "base_uri": "https://localhost:8080/"
        }
      },
      "execution_count": 35,
      "outputs": [
        {
          "output_type": "stream",
          "name": "stdout",
          "text": [
            "column:fluor\n",
            "4\n",
            "\n",
            "column:symmetry\n",
            "4\n",
            "\n",
            "column:platform\n",
            "1\n",
            "\n",
            "column:shape\n",
            "10\n",
            "\n",
            "column:color\n",
            "10\n",
            "\n",
            "column:clarity\n",
            "9\n",
            "\n",
            "column:cut\n",
            "3\n",
            "\n",
            "column:polish\n",
            "3\n",
            "\n",
            "column:id\n",
            "162278\n",
            "\n",
            "column:date\n",
            "4\n",
            "\n",
            "column:price\n",
            "8437\n",
            "\n",
            "column:carat\n",
            "632\n",
            "\n",
            "column:price_per_carat\n",
            "52605\n",
            "\n",
            "column:z\n",
            "1116\n",
            "\n",
            "column:x\n",
            "904\n",
            "\n",
            "column:depth_perc\n",
            "318\n",
            "\n",
            "column:y\n",
            "37650\n",
            "\n"
          ]
        }
      ]
    },
    {
      "cell_type": "code",
      "source": [
        "df.dtypes\n",
        "d = {'fluor':'category', 'symmetry':'category', 'platform'::'category',\n",
        "     ''"
      ],
      "metadata": {
        "id": "pH1c8K6QSRrm",
        "outputId": "e3cec7d1-6a07-493f-cfb0-ab3a57d7825d",
        "colab": {
          "base_uri": "https://localhost:8080/"
        }
      },
      "execution_count": 44,
      "outputs": [
        {
          "output_type": "execute_result",
          "data": {
            "text/plain": [
              "fluor               object\n",
              "symmetry            object\n",
              "platform            object\n",
              "shape               object\n",
              "color               object\n",
              "clarity             object\n",
              "cut                 object\n",
              "polish              object\n",
              "id                   int64\n",
              "date                 int64\n",
              "price              float64\n",
              "carat              float64\n",
              "price_per_carat    float64\n",
              "z                  float64\n",
              "x                  float64\n",
              "depth_perc         float64\n",
              "y                  float64\n",
              "dtype: object"
            ]
          },
          "metadata": {},
          "execution_count": 44
        }
      ]
    },
    {
      "cell_type": "markdown",
      "source": [
        "Необходимо предсказать `price_per_carat`"
      ],
      "metadata": {
        "id": "PD8Sv2_ktIqx"
      }
    },
    {
      "cell_type": "markdown",
      "source": [
        "### Задание 1: Очистка\n",
        "\n",
        "Не все камни успевают продаться за один месяц, поэтому в таблице есть повторы. Объедините данные по одному камню: подумайте, как лучше это сделать, какую цену брать.\n",
        "\n",
        "**Попробуйте найти аномалии:** вдруг цена на некоторые камни сильно меняется (то есть продавец сам не знает, по какой цене их продавать). Также убедитесь, что остальные параметры камня не меняются."
      ],
      "metadata": {
        "id": "HEBGHQkD7DWw"
      }
    },
    {
      "cell_type": "code",
      "source": [
        "id_stat = df.groupby(by='...')['carat'].count().to_frame() #Посчитайте статистику по кол-ву камней\n",
        "\n",
        "# разделите выборку на две части\n",
        "\n",
        "df_one = df.query('...')  # те камни, которые встречались один раз\n",
        "df_three = df.query('...') # те камни, которые встречались 2 или 3 раза\n",
        "\n",
        "\n",
        "stat = df_three.groupby('id')['...'].agg(np.std) # Посчитайте дстандартное отклонение по нескольким полям,\n",
        "#  подумайте где оно должно равняться 0, а где меняться в каких-то разумных пределах\n",
        "\n",
        "# Удалите аномальные наблюдения\n",
        "df_three = df_three.query('...').sort_values(by=['id','date'])\n",
        "\n",
        "df_three = df_three.groupby('...').agg('l...').reset_index() #тепреь в качестве цены возьмем последнее значение по времени\n",
        "\n",
        "df = pd.concat([df_one, df_three]).reset_index(drop=True) # соединяем результаты"
      ],
      "metadata": {
        "id": "uL1lalBa7AVS"
      },
      "execution_count": null,
      "outputs": []
    },
    {
      "cell_type": "markdown",
      "source": [
        "Цены на бриллианты достаточно сильно меняются, попробуйте вычислить коэффициент инфляции и привести цены к последнему месяцу. Стоит учесть, что цены на все бриллианты не изменяются синхронно, то есть изменение в определенных группах может быть разным.\n",
        "\n",
        "*Определите эти группы и рассчитайте коэффициенты инфляции для каждой из них. Подправьте цены на эти коэффициенты и создайте новую переменную.*"
      ],
      "metadata": {
        "id": "NnsNVat_CIPB"
      }
    },
    {
      "cell_type": "code",
      "source": [
        "categories = ['...'] #определите по каким группам отпределять инфляцию (к примеру можно добавить каратную группу)\n",
        "\n",
        "df_index = df.groupby(['date'] + categories)[['price_per_carat']]\\\n",
        "             .mean()\\\n",
        "             .reset_index() # индекс цен\n",
        "\n",
        "date_max = df_index.date.max()\n",
        "\n",
        "\n",
        "df_index = df_index.merge(df_index.query('date == @date_max')[categories + ['price_per_carat']]\\\n",
        "                          .rename(columns={'price_per_carat': 'price_per_carat_max'}), \n",
        "                          on=categories, how='outer') # сопоставляем группы с максимальной датой\n",
        "\n",
        "df_index['inflation'] = df_index.['...'] / df_index.price_per_carat # вычисляем инфляцию\n",
        "\n",
        "df_with_inf = df.merge(df_index[['date'] + categories + ['inflation']], \n",
        "                        on=['date'] + categories, how='left') # соединяем все в одной таблице"
      ],
      "metadata": {
        "id": "nDKdDba4pA7M"
      },
      "execution_count": null,
      "outputs": []
    },
    {
      "cell_type": "markdown",
      "source": [
        "### Задание 2: Модель"
      ],
      "metadata": {
        "id": "xuPhXT9aESGs"
      }
    },
    {
      "cell_type": "markdown",
      "source": [
        "Определите функцию потерь (MSE или MAE) и аргументируйте выбор.\n",
        "Попробуйте сделать baseline.\n",
        "Используйте LableEncoder для категориальных фичей и **постройте линейную модель**."
      ],
      "metadata": {
        "id": "v3OgAHMiExrW"
      }
    },
    {
      "cell_type": "code",
      "source": [
        "from sklearn.model_selection import train_test_split\n",
        "from sklearn.preprocessing import LableEncoder\n",
        "from sklearn.metrics import ...\n",
        "\n",
        "\n",
        "X = df.drop(columns=[\"...\"])\n",
        "y = df[\"...\"]\n",
        "\n",
        "X_train, X_valid, y_train, y_valid = train_test_split(X, y, test_size=0.2, random_state=13)"
      ],
      "metadata": {
        "id": "BEvWYr1uEKJU"
      },
      "execution_count": null,
      "outputs": []
    },
    {
      "cell_type": "markdown",
      "source": [
        "Теперь попробуйте OHE или TargetEncoder (сравните их).\n",
        "\n",
        "Нормализуйте данные.\n",
        "\n",
        "Поработайте с пропусками (обратите внимание на то, что у fluor возможен пропуск значения, а возможно отсутствие флуоресценции)\n",
        "\n",
        "Покажите, насколько получилось улучшить результат."
      ],
      "metadata": {
        "id": "Z9kiKhHuFDUD"
      }
    },
    {
      "cell_type": "code",
      "source": [
        "! pip install category_encoders"
      ],
      "metadata": {
        "id": "LeLrnXuepjjb"
      },
      "execution_count": null,
      "outputs": []
    },
    {
      "cell_type": "code",
      "source": [
        "from sklearn.preprocessing import OneHotEncoder\n",
        "from category_encoders import TargetEncoder\n",
        "from sklearn.preprocessing import StandardScaler\n",
        "\n",
        "from typing import Tuple, List\n",
        "\n",
        "\n",
        "def OHE(df: pd.DataFrame, columns: List[str]) -> Tuple[pd.DataFrame, List[str]]:\n",
        "    \"\"\"\n",
        "    Вместо это функции можно использовать и функционал pandas\n",
        "    \"\"\"\n",
        "    index = df.index\n",
        "    one = OneHotEncoder(sparse=False, categories='auto')\n",
        "    ohe = one.fit_transform(df[columns])\n",
        "    col_names = one.get_feature_names(input_features = columns)\n",
        "    df = df.drop(columns, axis=1)\n",
        "    df = df.reset_index(drop=True)\n",
        "    df = pd.concat([df, pd.DataFrame(ohe, columns=col_names)], axis = 1)\n",
        "    df = df.set_index(index)\n",
        "    return (df, col_names)\n",
        "\n",
        "scaler = StandardScaler() # Помните, что на тесте делаем только transform"
      ],
      "metadata": {
        "id": "becHgg71Iria"
      },
      "execution_count": null,
      "outputs": []
    },
    {
      "cell_type": "markdown",
      "source": [
        "Сравните работу выбранной вами линейной модели с KNN"
      ],
      "metadata": {
        "id": "tnJUqYqWoqgk"
      }
    },
    {
      "cell_type": "code",
      "source": [
        "from sklearn.neighbors import KNeighborsRegressor\n",
        "\n",
        "..."
      ],
      "metadata": {
        "id": "bhKgkdw5ou4A"
      },
      "execution_count": null,
      "outputs": []
    },
    {
      "cell_type": "markdown",
      "source": [
        "## Классификация"
      ],
      "metadata": {
        "id": "fLAsZpEeIsyk"
      }
    },
    {
      "cell_type": "markdown",
      "source": [
        "Загрузите датасет bodyPerformance\n",
        "\n",
        "Описание:\n",
        "\n",
        "https://www.kaggle.com/datasets/kukuroo3/body-performance-data"
      ],
      "metadata": {
        "id": "exzgWs8TGVwz"
      }
    },
    {
      "cell_type": "code",
      "source": [
        "from google.colab import drive\n",
        "drive.mount('/content/drive')\n",
        "\n",
        "path = 'drive/MyDrive/'"
      ],
      "metadata": {
        "id": "HiRlpeObIw30"
      },
      "execution_count": null,
      "outputs": []
    },
    {
      "cell_type": "code",
      "source": [
        "df = pd.read_csv(path + '/Classroom/DS 11 VI/ДЗ-регрессия_классификация/bodyPerformance.csv') #укажите свой путь"
      ],
      "metadata": {
        "id": "8icMo8BR8eJL"
      },
      "execution_count": null,
      "outputs": []
    },
    {
      "cell_type": "code",
      "source": [
        "df"
      ],
      "metadata": {
        "id": "yKvrcXtB3AQf"
      },
      "execution_count": null,
      "outputs": []
    },
    {
      "cell_type": "markdown",
      "source": [
        "### Задание 1: Определение гендера"
      ],
      "metadata": {
        "id": "mIT8KyvrGFI7"
      }
    },
    {
      "cell_type": "markdown",
      "source": [
        "Постройте модель, которая будет определять гендер."
      ],
      "metadata": {
        "id": "P7hR4HE2GOjH"
      }
    },
    {
      "cell_type": "markdown",
      "source": [
        "Для этого определите две метрики качества, на которые вы будете смотреть. Аргументируйте свой выбор.\n",
        "\n",
        "После чего преобразуйте категориальные переменные и постройте модель бинарной классификации на основе линейного классификатора и сравните с KNN.\n",
        "\n",
        "P.S.: не забудте про нормализацию."
      ],
      "metadata": {
        "id": "aAQJ1WhfGhQf"
      }
    },
    {
      "cell_type": "code",
      "source": [
        "from sklearn.neighbors import KNeighborsClassifier\n",
        "from sklearn.linear_model import LogisticRegression\n",
        "from sklearn import metrics\n",
        "X = df.drop(columns=[\"...\"])\n",
        "y = df[\"...\"]\n",
        "\n",
        "X_train, X_valid, y_train, y_valid = train_test_split(X, y, test_size=0.2, random_state=13)\n",
        "\n",
        "scaler = StandardScaler()"
      ],
      "metadata": {
        "id": "Mhj3I_MuBbFy"
      },
      "execution_count": null,
      "outputs": []
    },
    {
      "cell_type": "markdown",
      "source": [
        "### Задание 2: Определение класса"
      ],
      "metadata": {
        "id": "9m0SK6JzKHof"
      }
    },
    {
      "cell_type": "markdown",
      "source": [
        "Теперь опробуем построить модель, которая будет предсказывать class физической формы.\n",
        "\n",
        "Для этого определите метрики качества для задачи мультиклассификации (аргументируйте выбор).\n",
        "\n",
        "Постройте модель мультиклассовой классификации на основе линейного классификатора и сравните с KNN."
      ],
      "metadata": {
        "id": "s5Hge2C2JSxG"
      }
    },
    {
      "cell_type": "code",
      "source": [
        "X = df.drop(columns=[\"...\"]) # укажите новый таргет\n",
        "y = df[\"...\"]\n",
        "\n",
        "X_train, X_valid, y_train, y_valid = train_test_split(X, y, test_size=0.2, random_state=13)"
      ],
      "metadata": {
        "id": "dgvhCM7HKDWu"
      },
      "execution_count": null,
      "outputs": []
    },
    {
      "cell_type": "code",
      "source": [
        "..."
      ],
      "metadata": {
        "id": "mb2_B3ijrMJR"
      },
      "execution_count": null,
      "outputs": []
    }
  ]
}