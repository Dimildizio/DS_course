{
  "nbformat": 4,
  "nbformat_minor": 0,
  "metadata": {
    "colab": {
      "provenance": [],
      "include_colab_link": true
    },
    "kernelspec": {
      "name": "python3",
      "display_name": "Python 3"
    },
    "language_info": {
      "name": "python"
    }
  },
  "cells": [
    {
      "cell_type": "markdown",
      "metadata": {
        "id": "view-in-github",
        "colab_type": "text"
      },
      "source": [
        "<a href=\"https://colab.research.google.com/github/Dimildizio/DS_course/blob/main/shine-on-you/HomeWork2_Regression%26Classification.ipynb\" target=\"_parent\"><img src=\"https://colab.research.google.com/assets/colab-badge.svg\" alt=\"Open In Colab\"/></a>"
      ]
    },
    {
      "cell_type": "markdown",
      "source": [
        "# Домашняя работа 2"
      ],
      "metadata": {
        "id": "jyJswrIfpbmA"
      }
    },
    {
      "cell_type": "markdown",
      "source": [
        "## Регрессия"
      ],
      "metadata": {
        "id": "r_lVVaJl2Ncb"
      }
    },
    {
      "cell_type": "markdown",
      "source": [
        "С 1-ого октября отменяется НДС на бриллианты, теперь они становятся новым инвестиционным инструментом. Давайте сделаем модель ценообразования для них.\n",
        "\n",
        "Скачайте датасет diamonds.csv\n",
        "\n",
        "В нем представлены характеристики бриллиантов и их цены с сайта jamesallen (B2C площадка) с 2022-07-01\n",
        "\n",
        "**Описание полей**\n",
        "\n",
        "\n",
        "* fluor - флуорисценция (свойство камня светиться в ультрафиолетовых лучах)\n",
        "* symmetry - показатель симметричности\n",
        "* platform - название платформы, где был размещен камень\n",
        "* quality_group - составной показатель из cut polish symmetry\n",
        "* size_group - каратно весовая группа\n",
        "* big_size_group - каратно-весовая группа\n",
        "* shape - форма\n",
        "* color - цвет\n",
        "* clarity - чистота\n",
        "* cut - качество огранки (может быть только у круглых камней)\n",
        "* polish - полировка\n",
        "* id - номер камня\n",
        "* date - дата\n",
        "* price - цена\n",
        "* carat - кол-во карат\n",
        "* tablepercent - размер площадки по отношению ширине\n",
        "* price_per_carat - цена за карат\n",
        "* z - длина (diameter)\n",
        "* x - ширина\n",
        "* depth_perc - отношение высоты к ширине\n",
        "* y - высота\n",
        "\n"
      ],
      "metadata": {
        "id": "3pECYqXD2VjG"
      }
    },
    {
      "cell_type": "code",
      "source": [
        "!pip install category_encoders"
      ],
      "metadata": {
        "id": "hnFuRqn_htFw",
        "outputId": "497e1ed6-8d9f-4d4e-84d6-054c49bebc54",
        "colab": {
          "base_uri": "https://localhost:8080/"
        }
      },
      "execution_count": 2,
      "outputs": [
        {
          "output_type": "stream",
          "name": "stdout",
          "text": [
            "Looking in indexes: https://pypi.org/simple, https://us-python.pkg.dev/colab-wheels/public/simple/\n",
            "Collecting category_encoders\n",
            "  Downloading category_encoders-2.6.0-py2.py3-none-any.whl (81 kB)\n",
            "\u001b[2K     \u001b[90m━━━━━━━━━━━━━━━━━━━━━━━━━━━━━━━━━━━━━━━━\u001b[0m \u001b[32m81.2/81.2 KB\u001b[0m \u001b[31m3.0 MB/s\u001b[0m eta \u001b[36m0:00:00\u001b[0m\n",
            "\u001b[?25hRequirement already satisfied: scipy>=1.0.0 in /usr/local/lib/python3.9/dist-packages (from category_encoders) (1.10.1)\n",
            "Requirement already satisfied: statsmodels>=0.9.0 in /usr/local/lib/python3.9/dist-packages (from category_encoders) (0.13.5)\n",
            "Requirement already satisfied: patsy>=0.5.1 in /usr/local/lib/python3.9/dist-packages (from category_encoders) (0.5.3)\n",
            "Requirement already satisfied: scikit-learn>=0.20.0 in /usr/local/lib/python3.9/dist-packages (from category_encoders) (1.2.2)\n",
            "Requirement already satisfied: pandas>=1.0.5 in /usr/local/lib/python3.9/dist-packages (from category_encoders) (1.4.4)\n",
            "Requirement already satisfied: numpy>=1.14.0 in /usr/local/lib/python3.9/dist-packages (from category_encoders) (1.22.4)\n",
            "Requirement already satisfied: python-dateutil>=2.8.1 in /usr/local/lib/python3.9/dist-packages (from pandas>=1.0.5->category_encoders) (2.8.2)\n",
            "Requirement already satisfied: pytz>=2020.1 in /usr/local/lib/python3.9/dist-packages (from pandas>=1.0.5->category_encoders) (2022.7.1)\n",
            "Requirement already satisfied: six in /usr/local/lib/python3.9/dist-packages (from patsy>=0.5.1->category_encoders) (1.16.0)\n",
            "Requirement already satisfied: threadpoolctl>=2.0.0 in /usr/local/lib/python3.9/dist-packages (from scikit-learn>=0.20.0->category_encoders) (3.1.0)\n",
            "Requirement already satisfied: joblib>=1.1.1 in /usr/local/lib/python3.9/dist-packages (from scikit-learn>=0.20.0->category_encoders) (1.1.1)\n",
            "Requirement already satisfied: packaging>=21.3 in /usr/local/lib/python3.9/dist-packages (from statsmodels>=0.9.0->category_encoders) (23.0)\n",
            "Installing collected packages: category_encoders\n",
            "Successfully installed category_encoders-2.6.0\n"
          ]
        }
      ]
    },
    {
      "cell_type": "code",
      "source": [
        "import itertools\n",
        "import pandas as pd\n",
        "import numpy as np\n",
        "import matplotlib.pyplot as plt\n",
        "import seaborn as sns\n",
        "\n",
        "from category_encoders import TargetEncoder\n",
        "#from sklearn.compose import make_column_transformer\n",
        "from sklearn.ensemble import BaggingRegressor, StackingClassifier\n",
        "from sklearn.linear_model import LinearRegression, LogisticRegression\n",
        "from sklearn.metrics import mean_squared_error, mean_absolute_error, r2_score,\\\n",
        "mean_absolute_percentage_error, accuracy_score, precision_score, recall_score, \\\n",
        "f1_score, roc_auc_score\n",
        "from sklearn.model_selection import train_test_split\n",
        "from sklearn.neighbors import KNeighborsRegressor, KNeighborsClassifier\n",
        "from sklearn.pipeline import make_pipeline\n",
        "from sklearn.preprocessing import OneHotEncoder, StandardScaler, LabelEncoder,\\\n",
        "Normalizer\n",
        "from sklearn.svm import SVC\n"
      ],
      "metadata": {
        "id": "iOnp-6t565z8"
      },
      "execution_count": 267,
      "outputs": []
    },
    {
      "cell_type": "code",
      "source": [
        "#from google.colab import drive\n",
        "#drive.mount('/content/drive')\n",
        "#path = 'drive/MyDrive/'"
      ],
      "metadata": {
        "id": "C4f2-y_7bfv8"
      },
      "execution_count": 3,
      "outputs": []
    },
    {
      "cell_type": "code",
      "source": [
        "df = pd.read_csv('https://raw.githubusercontent.com/Dimildizio/DS_course/main/shine-on-you/diamonds.csv', index_col=0)\n",
        "df.shape"
      ],
      "metadata": {
        "id": "iG7MP6VZ2UZN",
        "outputId": "a41b0544-2968-4c30-8622-01294a4c6af8",
        "colab": {
          "base_uri": "https://localhost:8080/"
        }
      },
      "execution_count": 4,
      "outputs": [
        {
          "output_type": "execute_result",
          "data": {
            "text/plain": [
              "(222222, 17)"
            ]
          },
          "metadata": {},
          "execution_count": 4
        }
      ]
    },
    {
      "cell_type": "markdown",
      "source": [
        "## EDA"
      ],
      "metadata": {
        "id": "wrqej3AkQxLg"
      }
    },
    {
      "cell_type": "code",
      "source": [
        "df[df['date']==0]"
      ],
      "metadata": {
        "id": "X-0nb5pUcv9m"
      },
      "execution_count": 5,
      "outputs": []
    },
    {
      "cell_type": "code",
      "source": [
        "#print('number of duplicates:',df.duplicated(keep=False).sum() - df.shape[0])\n",
        "#Удалим пусте значения (у них айди 0)\n",
        "df1=df.copy()\n",
        "df1=df1.drop(df1[df1.id == 0].index)\n",
        "#поскольку у нас только одна платформа, нам этот параметр не нужен\n",
        "df1=df1.drop('platform', axis = 1)\n",
        "#заменим пустые значения в fluor для one-hot encoding. симметрия No\n",
        "df1['fluor'].fillna('NONE', inplace=True)\n",
        "#Удалим камни без огранки\n",
        "df1.dropna(subset = ['cut'], inplace=True)\n",
        "#Удалим полные дубли\n",
        "df1 = df1.drop_duplicates()"
      ],
      "metadata": {
        "id": "XC1pKqANUcJe"
      },
      "execution_count": 6,
      "outputs": []
    },
    {
      "cell_type": "code",
      "source": [
        "#Для ускорения манипуляций с датасетом переведем все в более \"легкие\" типы данных\n",
        "for col in ['fluor', 'symmetry','shape', 'clarity', 'color', 'cut','polish']:\n",
        "  df1[col] = df1[col].astype('category')\n",
        "for col in ['id','date']:\n",
        "  df1[col] = df1[col].astype('int32')\n",
        "for col in ['price', 'carat','price_per_carat', 'z', 'x', 'y', 'depth_perc']:\n",
        "  df1[col] = df1[col].astype('float32')"
      ],
      "metadata": {
        "id": "lBWfjSJUfFK8"
      },
      "execution_count": 7,
      "outputs": []
    },
    {
      "cell_type": "code",
      "source": [
        "df1.describe().apply(lambda x: round(x,2))"
      ],
      "metadata": {
        "colab": {
          "base_uri": "https://localhost:8080/",
          "height": 300
        },
        "id": "_aeCOtR2CgpX",
        "outputId": "9ee64efd-796f-463d-92d7-44548567ba2c"
      },
      "execution_count": 8,
      "outputs": [
        {
          "output_type": "execute_result",
          "data": {
            "text/plain": [
              "                id       date       price      carat  price_per_carat  \\\n",
              "count    147594.00  147594.00   147594.00  147594.00        147594.00   \n",
              "mean   13649272.44  202206.03    11771.74       1.31          7492.82   \n",
              "std     2499814.34       0.82    24978.34       0.66          5388.50   \n",
              "min       19423.00  202205.00      920.00       0.81          1135.80   \n",
              "25%    13660021.00  202205.00     4690.00       1.00          4577.78   \n",
              "50%    14412989.00  202206.00     7180.00       1.01          6430.00   \n",
              "75%    14838204.75  202207.00    11720.00       1.50          9150.00   \n",
              "max    15418506.00  202207.00  2380380.00      21.17        955000.00   \n",
              "\n",
              "               z          x  depth_perc          y  \n",
              "count  147594.00  147594.00   147594.00  147594.00  \n",
              "mean        6.68       6.65       63.98       4.24  \n",
              "std         0.91       0.93        4.03       0.53  \n",
              "min         4.84       4.52       56.00       2.84  \n",
              "25%         6.21       6.25       61.90       3.93  \n",
              "50%         6.40       6.43       62.70       4.02  \n",
              "75%         7.05       6.96       64.40       4.50  \n",
              "max        17.96      18.05       78.00      10.74  "
            ],
            "text/html": [
              "\n",
              "  <div id=\"df-4efda549-bee4-4f33-97c3-16424398e3f3\">\n",
              "    <div class=\"colab-df-container\">\n",
              "      <div>\n",
              "<style scoped>\n",
              "    .dataframe tbody tr th:only-of-type {\n",
              "        vertical-align: middle;\n",
              "    }\n",
              "\n",
              "    .dataframe tbody tr th {\n",
              "        vertical-align: top;\n",
              "    }\n",
              "\n",
              "    .dataframe thead th {\n",
              "        text-align: right;\n",
              "    }\n",
              "</style>\n",
              "<table border=\"1\" class=\"dataframe\">\n",
              "  <thead>\n",
              "    <tr style=\"text-align: right;\">\n",
              "      <th></th>\n",
              "      <th>id</th>\n",
              "      <th>date</th>\n",
              "      <th>price</th>\n",
              "      <th>carat</th>\n",
              "      <th>price_per_carat</th>\n",
              "      <th>z</th>\n",
              "      <th>x</th>\n",
              "      <th>depth_perc</th>\n",
              "      <th>y</th>\n",
              "    </tr>\n",
              "  </thead>\n",
              "  <tbody>\n",
              "    <tr>\n",
              "      <th>count</th>\n",
              "      <td>147594.00</td>\n",
              "      <td>147594.00</td>\n",
              "      <td>147594.00</td>\n",
              "      <td>147594.00</td>\n",
              "      <td>147594.00</td>\n",
              "      <td>147594.00</td>\n",
              "      <td>147594.00</td>\n",
              "      <td>147594.00</td>\n",
              "      <td>147594.00</td>\n",
              "    </tr>\n",
              "    <tr>\n",
              "      <th>mean</th>\n",
              "      <td>13649272.44</td>\n",
              "      <td>202206.03</td>\n",
              "      <td>11771.74</td>\n",
              "      <td>1.31</td>\n",
              "      <td>7492.82</td>\n",
              "      <td>6.68</td>\n",
              "      <td>6.65</td>\n",
              "      <td>63.98</td>\n",
              "      <td>4.24</td>\n",
              "    </tr>\n",
              "    <tr>\n",
              "      <th>std</th>\n",
              "      <td>2499814.34</td>\n",
              "      <td>0.82</td>\n",
              "      <td>24978.34</td>\n",
              "      <td>0.66</td>\n",
              "      <td>5388.50</td>\n",
              "      <td>0.91</td>\n",
              "      <td>0.93</td>\n",
              "      <td>4.03</td>\n",
              "      <td>0.53</td>\n",
              "    </tr>\n",
              "    <tr>\n",
              "      <th>min</th>\n",
              "      <td>19423.00</td>\n",
              "      <td>202205.00</td>\n",
              "      <td>920.00</td>\n",
              "      <td>0.81</td>\n",
              "      <td>1135.80</td>\n",
              "      <td>4.84</td>\n",
              "      <td>4.52</td>\n",
              "      <td>56.00</td>\n",
              "      <td>2.84</td>\n",
              "    </tr>\n",
              "    <tr>\n",
              "      <th>25%</th>\n",
              "      <td>13660021.00</td>\n",
              "      <td>202205.00</td>\n",
              "      <td>4690.00</td>\n",
              "      <td>1.00</td>\n",
              "      <td>4577.78</td>\n",
              "      <td>6.21</td>\n",
              "      <td>6.25</td>\n",
              "      <td>61.90</td>\n",
              "      <td>3.93</td>\n",
              "    </tr>\n",
              "    <tr>\n",
              "      <th>50%</th>\n",
              "      <td>14412989.00</td>\n",
              "      <td>202206.00</td>\n",
              "      <td>7180.00</td>\n",
              "      <td>1.01</td>\n",
              "      <td>6430.00</td>\n",
              "      <td>6.40</td>\n",
              "      <td>6.43</td>\n",
              "      <td>62.70</td>\n",
              "      <td>4.02</td>\n",
              "    </tr>\n",
              "    <tr>\n",
              "      <th>75%</th>\n",
              "      <td>14838204.75</td>\n",
              "      <td>202207.00</td>\n",
              "      <td>11720.00</td>\n",
              "      <td>1.50</td>\n",
              "      <td>9150.00</td>\n",
              "      <td>7.05</td>\n",
              "      <td>6.96</td>\n",
              "      <td>64.40</td>\n",
              "      <td>4.50</td>\n",
              "    </tr>\n",
              "    <tr>\n",
              "      <th>max</th>\n",
              "      <td>15418506.00</td>\n",
              "      <td>202207.00</td>\n",
              "      <td>2380380.00</td>\n",
              "      <td>21.17</td>\n",
              "      <td>955000.00</td>\n",
              "      <td>17.96</td>\n",
              "      <td>18.05</td>\n",
              "      <td>78.00</td>\n",
              "      <td>10.74</td>\n",
              "    </tr>\n",
              "  </tbody>\n",
              "</table>\n",
              "</div>\n",
              "      <button class=\"colab-df-convert\" onclick=\"convertToInteractive('df-4efda549-bee4-4f33-97c3-16424398e3f3')\"\n",
              "              title=\"Convert this dataframe to an interactive table.\"\n",
              "              style=\"display:none;\">\n",
              "        \n",
              "  <svg xmlns=\"http://www.w3.org/2000/svg\" height=\"24px\"viewBox=\"0 0 24 24\"\n",
              "       width=\"24px\">\n",
              "    <path d=\"M0 0h24v24H0V0z\" fill=\"none\"/>\n",
              "    <path d=\"M18.56 5.44l.94 2.06.94-2.06 2.06-.94-2.06-.94-.94-2.06-.94 2.06-2.06.94zm-11 1L8.5 8.5l.94-2.06 2.06-.94-2.06-.94L8.5 2.5l-.94 2.06-2.06.94zm10 10l.94 2.06.94-2.06 2.06-.94-2.06-.94-.94-2.06-.94 2.06-2.06.94z\"/><path d=\"M17.41 7.96l-1.37-1.37c-.4-.4-.92-.59-1.43-.59-.52 0-1.04.2-1.43.59L10.3 9.45l-7.72 7.72c-.78.78-.78 2.05 0 2.83L4 21.41c.39.39.9.59 1.41.59.51 0 1.02-.2 1.41-.59l7.78-7.78 2.81-2.81c.8-.78.8-2.07 0-2.86zM5.41 20L4 18.59l7.72-7.72 1.47 1.35L5.41 20z\"/>\n",
              "  </svg>\n",
              "      </button>\n",
              "      \n",
              "  <style>\n",
              "    .colab-df-container {\n",
              "      display:flex;\n",
              "      flex-wrap:wrap;\n",
              "      gap: 12px;\n",
              "    }\n",
              "\n",
              "    .colab-df-convert {\n",
              "      background-color: #E8F0FE;\n",
              "      border: none;\n",
              "      border-radius: 50%;\n",
              "      cursor: pointer;\n",
              "      display: none;\n",
              "      fill: #1967D2;\n",
              "      height: 32px;\n",
              "      padding: 0 0 0 0;\n",
              "      width: 32px;\n",
              "    }\n",
              "\n",
              "    .colab-df-convert:hover {\n",
              "      background-color: #E2EBFA;\n",
              "      box-shadow: 0px 1px 2px rgba(60, 64, 67, 0.3), 0px 1px 3px 1px rgba(60, 64, 67, 0.15);\n",
              "      fill: #174EA6;\n",
              "    }\n",
              "\n",
              "    [theme=dark] .colab-df-convert {\n",
              "      background-color: #3B4455;\n",
              "      fill: #D2E3FC;\n",
              "    }\n",
              "\n",
              "    [theme=dark] .colab-df-convert:hover {\n",
              "      background-color: #434B5C;\n",
              "      box-shadow: 0px 1px 3px 1px rgba(0, 0, 0, 0.15);\n",
              "      filter: drop-shadow(0px 1px 2px rgba(0, 0, 0, 0.3));\n",
              "      fill: #FFFFFF;\n",
              "    }\n",
              "  </style>\n",
              "\n",
              "      <script>\n",
              "        const buttonEl =\n",
              "          document.querySelector('#df-4efda549-bee4-4f33-97c3-16424398e3f3 button.colab-df-convert');\n",
              "        buttonEl.style.display =\n",
              "          google.colab.kernel.accessAllowed ? 'block' : 'none';\n",
              "\n",
              "        async function convertToInteractive(key) {\n",
              "          const element = document.querySelector('#df-4efda549-bee4-4f33-97c3-16424398e3f3');\n",
              "          const dataTable =\n",
              "            await google.colab.kernel.invokeFunction('convertToInteractive',\n",
              "                                                     [key], {});\n",
              "          if (!dataTable) return;\n",
              "\n",
              "          const docLinkHtml = 'Like what you see? Visit the ' +\n",
              "            '<a target=\"_blank\" href=https://colab.research.google.com/notebooks/data_table.ipynb>data table notebook</a>'\n",
              "            + ' to learn more about interactive tables.';\n",
              "          element.innerHTML = '';\n",
              "          dataTable['output_type'] = 'display_data';\n",
              "          await google.colab.output.renderOutput(dataTable, element);\n",
              "          const docLink = document.createElement('div');\n",
              "          docLink.innerHTML = docLinkHtml;\n",
              "          element.appendChild(docLink);\n",
              "        }\n",
              "      </script>\n",
              "    </div>\n",
              "  </div>\n",
              "  "
            ]
          },
          "metadata": {},
          "execution_count": 8
        }
      ]
    },
    {
      "cell_type": "code",
      "source": [
        "#Сколько уникальных значений в столбцах\n",
        "for c in df1.columns:\n",
        "  print(f'{c}: {df1[c].nunique()}')"
      ],
      "metadata": {
        "id": "QgtZpEgGetIo"
      },
      "execution_count": 8,
      "outputs": []
    },
    {
      "cell_type": "markdown",
      "source": [
        "Необходимо предсказать `price_per_carat`"
      ],
      "metadata": {
        "id": "PD8Sv2_ktIqx"
      }
    },
    {
      "cell_type": "markdown",
      "source": [
        "### Задание 1: Очистка\n",
        "\n",
        "Не все камни успевают продаться за один месяц, поэтому в таблице есть повторы. Объедините данные по одному камню: подумайте, как лучше это сделать, какую цену брать.\n",
        "\n",
        "**Попробуйте найти аномалии:** вдруг цена на некоторые камни сильно меняется (то есть продавец сам не знает, по какой цене их продавать). Также убедитесь, что остальные параметры камня не меняются."
      ],
      "metadata": {
        "id": "HEBGHQkD7DWw"
      }
    },
    {
      "cell_type": "code",
      "source": [
        "# разделите выборку на две части\n",
        "id_stat = df1.groupby(by='id')['id'].count().to_frame().rename({'id':'occurrence'},axis=1) #Посчитайте статистику по кол-ву камней\n",
        "\n",
        "one = id_stat[id_stat['occurrence'].isin([1])].index       # те камни, которые встречались один раз\n",
        "three = id_stat[id_stat['occurrence'].isin([2,3])].index   # те камни, которые встречались 2 или 3 раза"
      ],
      "metadata": {
        "id": "eAGtqjO_6cAV"
      },
      "execution_count": 9,
      "outputs": []
    },
    {
      "cell_type": "code",
      "source": [
        "num_more_than_three = df1.shape[0] - (df1[df1['id'].isin(one)].shape[0] + df1[df1['id'].isin(three)].shape[0])"
      ],
      "metadata": {
        "id": "XbnOUWXdIFHv"
      },
      "execution_count": 11,
      "outputs": []
    },
    {
      "cell_type": "code",
      "source": [
        "df_one = df1[df1['id'].isin(one)]\n",
        "df_three = df1[df1['id'].isin(three)]\n",
        "\n",
        "df_three"
      ],
      "metadata": {
        "colab": {
          "base_uri": "https://localhost:8080/",
          "height": 423
        },
        "id": "1JUIsm1kC-kz",
        "outputId": "03b01fe5-bb29-4fe3-fb69-d7db2d292c9d"
      },
      "execution_count": 10,
      "outputs": [
        {
          "output_type": "execute_result",
          "data": {
            "text/plain": [
              "       fluor symmetry shape color clarity cut polish        id    date  \\\n",
              "48477    MED       EX    RD     H    VVS2  EX     EX  11725253  202207   \n",
              "235781  NONE       EX    RD     E     VS2  EX     EX  14438434  202207   \n",
              "277744  NONE       VG    RD     F     VS1  VG     EX  14615276  202206   \n",
              "143407   FNT       EX    RD     J    VVS1  EX     EX  13945129  202205   \n",
              "10333   NONE       VG    RD     D     VS2  EX     VG   4666424  202207   \n",
              "...      ...      ...   ...   ...     ...  ..    ...       ...     ...   \n",
              "229133  NONE       EX    RD     I     SI2  EX     EX  14409793  202205   \n",
              "268649   FNT       VG    RD     K     VS1  VG     EX  14581367  202205   \n",
              "20595   NONE       EX    RD     D     VS2  EX     EX   7535786  202207   \n",
              "282754  NONE       EX    RD     D     VS2  EX     EX  14631732  202206   \n",
              "71237    STG       EX    RD     G     VS1  EX     EX  12699310  202207   \n",
              "\n",
              "          price  carat  price_per_carat     z     x  depth_perc        y  \n",
              "48477    7510.0   1.02      7362.750000  6.41  6.45   62.500000  4.03125  \n",
              "235781   8660.0   1.00      8660.000000  6.39  6.44   61.400002  3.95416  \n",
              "277744   8480.0   1.00      8480.000000  6.28  6.36   62.299999  3.96228  \n",
              "143407  12120.0   1.50      8080.000000  7.38  7.41   60.000000  4.44600  \n",
              "10333   19150.0   1.51     12682.120117  7.31  7.27   62.400002  4.53648  \n",
              "...         ...    ...              ...   ...   ...         ...      ...  \n",
              "229133   3330.0   0.90      3700.000000  6.13  6.18   62.000000  3.83160  \n",
              "268649   3840.0   1.01      3801.979980  6.27  6.33   63.000000  3.98790  \n",
              "20595    8700.0   0.97      8969.070312  6.36  6.32   62.200001  3.93104  \n",
              "282754   6650.0   0.90      7388.890137  6.13  6.18   61.700001  3.81306  \n",
              "71237    8220.0   1.09      7541.279785  6.55  6.60   62.000000  4.09200  \n",
              "\n",
              "[70832 rows x 16 columns]"
            ],
            "text/html": [
              "\n",
              "  <div id=\"df-91421d5c-2d6b-41d9-8a33-a0c7590400dc\">\n",
              "    <div class=\"colab-df-container\">\n",
              "      <div>\n",
              "<style scoped>\n",
              "    .dataframe tbody tr th:only-of-type {\n",
              "        vertical-align: middle;\n",
              "    }\n",
              "\n",
              "    .dataframe tbody tr th {\n",
              "        vertical-align: top;\n",
              "    }\n",
              "\n",
              "    .dataframe thead th {\n",
              "        text-align: right;\n",
              "    }\n",
              "</style>\n",
              "<table border=\"1\" class=\"dataframe\">\n",
              "  <thead>\n",
              "    <tr style=\"text-align: right;\">\n",
              "      <th></th>\n",
              "      <th>fluor</th>\n",
              "      <th>symmetry</th>\n",
              "      <th>shape</th>\n",
              "      <th>color</th>\n",
              "      <th>clarity</th>\n",
              "      <th>cut</th>\n",
              "      <th>polish</th>\n",
              "      <th>id</th>\n",
              "      <th>date</th>\n",
              "      <th>price</th>\n",
              "      <th>carat</th>\n",
              "      <th>price_per_carat</th>\n",
              "      <th>z</th>\n",
              "      <th>x</th>\n",
              "      <th>depth_perc</th>\n",
              "      <th>y</th>\n",
              "    </tr>\n",
              "  </thead>\n",
              "  <tbody>\n",
              "    <tr>\n",
              "      <th>48477</th>\n",
              "      <td>MED</td>\n",
              "      <td>EX</td>\n",
              "      <td>RD</td>\n",
              "      <td>H</td>\n",
              "      <td>VVS2</td>\n",
              "      <td>EX</td>\n",
              "      <td>EX</td>\n",
              "      <td>11725253</td>\n",
              "      <td>202207</td>\n",
              "      <td>7510.0</td>\n",
              "      <td>1.02</td>\n",
              "      <td>7362.750000</td>\n",
              "      <td>6.41</td>\n",
              "      <td>6.45</td>\n",
              "      <td>62.500000</td>\n",
              "      <td>4.03125</td>\n",
              "    </tr>\n",
              "    <tr>\n",
              "      <th>235781</th>\n",
              "      <td>NONE</td>\n",
              "      <td>EX</td>\n",
              "      <td>RD</td>\n",
              "      <td>E</td>\n",
              "      <td>VS2</td>\n",
              "      <td>EX</td>\n",
              "      <td>EX</td>\n",
              "      <td>14438434</td>\n",
              "      <td>202207</td>\n",
              "      <td>8660.0</td>\n",
              "      <td>1.00</td>\n",
              "      <td>8660.000000</td>\n",
              "      <td>6.39</td>\n",
              "      <td>6.44</td>\n",
              "      <td>61.400002</td>\n",
              "      <td>3.95416</td>\n",
              "    </tr>\n",
              "    <tr>\n",
              "      <th>277744</th>\n",
              "      <td>NONE</td>\n",
              "      <td>VG</td>\n",
              "      <td>RD</td>\n",
              "      <td>F</td>\n",
              "      <td>VS1</td>\n",
              "      <td>VG</td>\n",
              "      <td>EX</td>\n",
              "      <td>14615276</td>\n",
              "      <td>202206</td>\n",
              "      <td>8480.0</td>\n",
              "      <td>1.00</td>\n",
              "      <td>8480.000000</td>\n",
              "      <td>6.28</td>\n",
              "      <td>6.36</td>\n",
              "      <td>62.299999</td>\n",
              "      <td>3.96228</td>\n",
              "    </tr>\n",
              "    <tr>\n",
              "      <th>143407</th>\n",
              "      <td>FNT</td>\n",
              "      <td>EX</td>\n",
              "      <td>RD</td>\n",
              "      <td>J</td>\n",
              "      <td>VVS1</td>\n",
              "      <td>EX</td>\n",
              "      <td>EX</td>\n",
              "      <td>13945129</td>\n",
              "      <td>202205</td>\n",
              "      <td>12120.0</td>\n",
              "      <td>1.50</td>\n",
              "      <td>8080.000000</td>\n",
              "      <td>7.38</td>\n",
              "      <td>7.41</td>\n",
              "      <td>60.000000</td>\n",
              "      <td>4.44600</td>\n",
              "    </tr>\n",
              "    <tr>\n",
              "      <th>10333</th>\n",
              "      <td>NONE</td>\n",
              "      <td>VG</td>\n",
              "      <td>RD</td>\n",
              "      <td>D</td>\n",
              "      <td>VS2</td>\n",
              "      <td>EX</td>\n",
              "      <td>VG</td>\n",
              "      <td>4666424</td>\n",
              "      <td>202207</td>\n",
              "      <td>19150.0</td>\n",
              "      <td>1.51</td>\n",
              "      <td>12682.120117</td>\n",
              "      <td>7.31</td>\n",
              "      <td>7.27</td>\n",
              "      <td>62.400002</td>\n",
              "      <td>4.53648</td>\n",
              "    </tr>\n",
              "    <tr>\n",
              "      <th>...</th>\n",
              "      <td>...</td>\n",
              "      <td>...</td>\n",
              "      <td>...</td>\n",
              "      <td>...</td>\n",
              "      <td>...</td>\n",
              "      <td>...</td>\n",
              "      <td>...</td>\n",
              "      <td>...</td>\n",
              "      <td>...</td>\n",
              "      <td>...</td>\n",
              "      <td>...</td>\n",
              "      <td>...</td>\n",
              "      <td>...</td>\n",
              "      <td>...</td>\n",
              "      <td>...</td>\n",
              "      <td>...</td>\n",
              "    </tr>\n",
              "    <tr>\n",
              "      <th>229133</th>\n",
              "      <td>NONE</td>\n",
              "      <td>EX</td>\n",
              "      <td>RD</td>\n",
              "      <td>I</td>\n",
              "      <td>SI2</td>\n",
              "      <td>EX</td>\n",
              "      <td>EX</td>\n",
              "      <td>14409793</td>\n",
              "      <td>202205</td>\n",
              "      <td>3330.0</td>\n",
              "      <td>0.90</td>\n",
              "      <td>3700.000000</td>\n",
              "      <td>6.13</td>\n",
              "      <td>6.18</td>\n",
              "      <td>62.000000</td>\n",
              "      <td>3.83160</td>\n",
              "    </tr>\n",
              "    <tr>\n",
              "      <th>268649</th>\n",
              "      <td>FNT</td>\n",
              "      <td>VG</td>\n",
              "      <td>RD</td>\n",
              "      <td>K</td>\n",
              "      <td>VS1</td>\n",
              "      <td>VG</td>\n",
              "      <td>EX</td>\n",
              "      <td>14581367</td>\n",
              "      <td>202205</td>\n",
              "      <td>3840.0</td>\n",
              "      <td>1.01</td>\n",
              "      <td>3801.979980</td>\n",
              "      <td>6.27</td>\n",
              "      <td>6.33</td>\n",
              "      <td>63.000000</td>\n",
              "      <td>3.98790</td>\n",
              "    </tr>\n",
              "    <tr>\n",
              "      <th>20595</th>\n",
              "      <td>NONE</td>\n",
              "      <td>EX</td>\n",
              "      <td>RD</td>\n",
              "      <td>D</td>\n",
              "      <td>VS2</td>\n",
              "      <td>EX</td>\n",
              "      <td>EX</td>\n",
              "      <td>7535786</td>\n",
              "      <td>202207</td>\n",
              "      <td>8700.0</td>\n",
              "      <td>0.97</td>\n",
              "      <td>8969.070312</td>\n",
              "      <td>6.36</td>\n",
              "      <td>6.32</td>\n",
              "      <td>62.200001</td>\n",
              "      <td>3.93104</td>\n",
              "    </tr>\n",
              "    <tr>\n",
              "      <th>282754</th>\n",
              "      <td>NONE</td>\n",
              "      <td>EX</td>\n",
              "      <td>RD</td>\n",
              "      <td>D</td>\n",
              "      <td>VS2</td>\n",
              "      <td>EX</td>\n",
              "      <td>EX</td>\n",
              "      <td>14631732</td>\n",
              "      <td>202206</td>\n",
              "      <td>6650.0</td>\n",
              "      <td>0.90</td>\n",
              "      <td>7388.890137</td>\n",
              "      <td>6.13</td>\n",
              "      <td>6.18</td>\n",
              "      <td>61.700001</td>\n",
              "      <td>3.81306</td>\n",
              "    </tr>\n",
              "    <tr>\n",
              "      <th>71237</th>\n",
              "      <td>STG</td>\n",
              "      <td>EX</td>\n",
              "      <td>RD</td>\n",
              "      <td>G</td>\n",
              "      <td>VS1</td>\n",
              "      <td>EX</td>\n",
              "      <td>EX</td>\n",
              "      <td>12699310</td>\n",
              "      <td>202207</td>\n",
              "      <td>8220.0</td>\n",
              "      <td>1.09</td>\n",
              "      <td>7541.279785</td>\n",
              "      <td>6.55</td>\n",
              "      <td>6.60</td>\n",
              "      <td>62.000000</td>\n",
              "      <td>4.09200</td>\n",
              "    </tr>\n",
              "  </tbody>\n",
              "</table>\n",
              "<p>70832 rows × 16 columns</p>\n",
              "</div>\n",
              "      <button class=\"colab-df-convert\" onclick=\"convertToInteractive('df-91421d5c-2d6b-41d9-8a33-a0c7590400dc')\"\n",
              "              title=\"Convert this dataframe to an interactive table.\"\n",
              "              style=\"display:none;\">\n",
              "        \n",
              "  <svg xmlns=\"http://www.w3.org/2000/svg\" height=\"24px\"viewBox=\"0 0 24 24\"\n",
              "       width=\"24px\">\n",
              "    <path d=\"M0 0h24v24H0V0z\" fill=\"none\"/>\n",
              "    <path d=\"M18.56 5.44l.94 2.06.94-2.06 2.06-.94-2.06-.94-.94-2.06-.94 2.06-2.06.94zm-11 1L8.5 8.5l.94-2.06 2.06-.94-2.06-.94L8.5 2.5l-.94 2.06-2.06.94zm10 10l.94 2.06.94-2.06 2.06-.94-2.06-.94-.94-2.06-.94 2.06-2.06.94z\"/><path d=\"M17.41 7.96l-1.37-1.37c-.4-.4-.92-.59-1.43-.59-.52 0-1.04.2-1.43.59L10.3 9.45l-7.72 7.72c-.78.78-.78 2.05 0 2.83L4 21.41c.39.39.9.59 1.41.59.51 0 1.02-.2 1.41-.59l7.78-7.78 2.81-2.81c.8-.78.8-2.07 0-2.86zM5.41 20L4 18.59l7.72-7.72 1.47 1.35L5.41 20z\"/>\n",
              "  </svg>\n",
              "      </button>\n",
              "      \n",
              "  <style>\n",
              "    .colab-df-container {\n",
              "      display:flex;\n",
              "      flex-wrap:wrap;\n",
              "      gap: 12px;\n",
              "    }\n",
              "\n",
              "    .colab-df-convert {\n",
              "      background-color: #E8F0FE;\n",
              "      border: none;\n",
              "      border-radius: 50%;\n",
              "      cursor: pointer;\n",
              "      display: none;\n",
              "      fill: #1967D2;\n",
              "      height: 32px;\n",
              "      padding: 0 0 0 0;\n",
              "      width: 32px;\n",
              "    }\n",
              "\n",
              "    .colab-df-convert:hover {\n",
              "      background-color: #E2EBFA;\n",
              "      box-shadow: 0px 1px 2px rgba(60, 64, 67, 0.3), 0px 1px 3px 1px rgba(60, 64, 67, 0.15);\n",
              "      fill: #174EA6;\n",
              "    }\n",
              "\n",
              "    [theme=dark] .colab-df-convert {\n",
              "      background-color: #3B4455;\n",
              "      fill: #D2E3FC;\n",
              "    }\n",
              "\n",
              "    [theme=dark] .colab-df-convert:hover {\n",
              "      background-color: #434B5C;\n",
              "      box-shadow: 0px 1px 3px 1px rgba(0, 0, 0, 0.15);\n",
              "      filter: drop-shadow(0px 1px 2px rgba(0, 0, 0, 0.3));\n",
              "      fill: #FFFFFF;\n",
              "    }\n",
              "  </style>\n",
              "\n",
              "      <script>\n",
              "        const buttonEl =\n",
              "          document.querySelector('#df-91421d5c-2d6b-41d9-8a33-a0c7590400dc button.colab-df-convert');\n",
              "        buttonEl.style.display =\n",
              "          google.colab.kernel.accessAllowed ? 'block' : 'none';\n",
              "\n",
              "        async function convertToInteractive(key) {\n",
              "          const element = document.querySelector('#df-91421d5c-2d6b-41d9-8a33-a0c7590400dc');\n",
              "          const dataTable =\n",
              "            await google.colab.kernel.invokeFunction('convertToInteractive',\n",
              "                                                     [key], {});\n",
              "          if (!dataTable) return;\n",
              "\n",
              "          const docLinkHtml = 'Like what you see? Visit the ' +\n",
              "            '<a target=\"_blank\" href=https://colab.research.google.com/notebooks/data_table.ipynb>data table notebook</a>'\n",
              "            + ' to learn more about interactive tables.';\n",
              "          element.innerHTML = '';\n",
              "          dataTable['output_type'] = 'display_data';\n",
              "          await google.colab.output.renderOutput(dataTable, element);\n",
              "          const docLink = document.createElement('div');\n",
              "          docLink.innerHTML = docLinkHtml;\n",
              "          element.appendChild(docLink);\n",
              "        }\n",
              "      </script>\n",
              "    </div>\n",
              "  </div>\n",
              "  "
            ]
          },
          "metadata": {},
          "execution_count": 10
        }
      ]
    },
    {
      "cell_type": "code",
      "source": [],
      "metadata": {
        "id": "emmymr3ezdxP"
      },
      "execution_count": 12,
      "outputs": []
    },
    {
      "cell_type": "code",
      "source": [
        "stat = df_three.groupby('id')['price', 'carat', 'price_per_carat','depth_perc', 'x','y','z'].agg(np.std)\n",
        "stat.sort_values(by='depth_perc', ascending = False)\n",
        "#stat[stat['depth_perc'] < 0.5]"
      ],
      "metadata": {
        "colab": {
          "base_uri": "https://localhost:8080/",
          "height": 489
        },
        "id": "eKXm9tXFD9QV",
        "outputId": "219556ce-d673-43fe-e3f4-ce8ffba5f264"
      },
      "execution_count": 11,
      "outputs": [
        {
          "output_type": "stream",
          "name": "stderr",
          "text": [
            "<ipython-input-11-3915861bee5a>:1: FutureWarning: Indexing with multiple keys (implicitly converted to a tuple of keys) will be deprecated, use a list instead.\n",
            "  stat = df_three.groupby('id')['price', 'carat', 'price_per_carat','depth_perc', 'x','y','z'].agg(np.std)\n"
          ]
        },
        {
          "output_type": "execute_result",
          "data": {
            "text/plain": [
              "                price     carat  price_per_carat  depth_perc         x  \\\n",
              "id                                                                       \n",
              "14408689   106.066017  0.070711       582.182281    1.909189  0.056568   \n",
              "14020956   236.713610  0.034641       525.141101    1.039230  0.005774   \n",
              "14104780   777.817459  0.021213       487.599844    0.848529  0.028284   \n",
              "14579436     0.000000  0.000000         0.000000    0.707107  0.035355   \n",
              "14057291     0.000000  0.000000         0.000000    0.636397  0.000000   \n",
              "...               ...       ...              ...         ...       ...   \n",
              "14580918   339.411255  0.000000       168.864212    0.000000  0.000000   \n",
              "13260650    56.568542  0.000000        62.161695    0.000000  0.000000   \n",
              "14580936   134.350288  0.000000       134.350288    0.000000  0.000000   \n",
              "14580938    98.994949  0.000000        98.994949    0.000000  0.000000   \n",
              "15161059  1598.061325  0.000000       887.813996    0.000000  0.000000   \n",
              "\n",
              "                 y         z  \n",
              "id                            \n",
              "14408689  0.154128  0.035355  \n",
              "14020956  0.069213  0.005774  \n",
              "14104780  0.057502  0.028284  \n",
              "14579436  0.072973  0.056568  \n",
              "14057291  0.034620  0.000000  \n",
              "...            ...       ...  \n",
              "14580918  0.000000  0.000000  \n",
              "13260650  0.000000  0.000000  \n",
              "14580936  0.000000  0.000000  \n",
              "14580938  0.000000  0.000000  \n",
              "15161059  0.000000  0.000000  \n",
              "\n",
              "[32825 rows x 7 columns]"
            ],
            "text/html": [
              "\n",
              "  <div id=\"df-7fbe4fe7-9f36-4a68-9602-9bcaa2df4610\">\n",
              "    <div class=\"colab-df-container\">\n",
              "      <div>\n",
              "<style scoped>\n",
              "    .dataframe tbody tr th:only-of-type {\n",
              "        vertical-align: middle;\n",
              "    }\n",
              "\n",
              "    .dataframe tbody tr th {\n",
              "        vertical-align: top;\n",
              "    }\n",
              "\n",
              "    .dataframe thead th {\n",
              "        text-align: right;\n",
              "    }\n",
              "</style>\n",
              "<table border=\"1\" class=\"dataframe\">\n",
              "  <thead>\n",
              "    <tr style=\"text-align: right;\">\n",
              "      <th></th>\n",
              "      <th>price</th>\n",
              "      <th>carat</th>\n",
              "      <th>price_per_carat</th>\n",
              "      <th>depth_perc</th>\n",
              "      <th>x</th>\n",
              "      <th>y</th>\n",
              "      <th>z</th>\n",
              "    </tr>\n",
              "    <tr>\n",
              "      <th>id</th>\n",
              "      <th></th>\n",
              "      <th></th>\n",
              "      <th></th>\n",
              "      <th></th>\n",
              "      <th></th>\n",
              "      <th></th>\n",
              "      <th></th>\n",
              "    </tr>\n",
              "  </thead>\n",
              "  <tbody>\n",
              "    <tr>\n",
              "      <th>14408689</th>\n",
              "      <td>106.066017</td>\n",
              "      <td>0.070711</td>\n",
              "      <td>582.182281</td>\n",
              "      <td>1.909189</td>\n",
              "      <td>0.056568</td>\n",
              "      <td>0.154128</td>\n",
              "      <td>0.035355</td>\n",
              "    </tr>\n",
              "    <tr>\n",
              "      <th>14020956</th>\n",
              "      <td>236.713610</td>\n",
              "      <td>0.034641</td>\n",
              "      <td>525.141101</td>\n",
              "      <td>1.039230</td>\n",
              "      <td>0.005774</td>\n",
              "      <td>0.069213</td>\n",
              "      <td>0.005774</td>\n",
              "    </tr>\n",
              "    <tr>\n",
              "      <th>14104780</th>\n",
              "      <td>777.817459</td>\n",
              "      <td>0.021213</td>\n",
              "      <td>487.599844</td>\n",
              "      <td>0.848529</td>\n",
              "      <td>0.028284</td>\n",
              "      <td>0.057502</td>\n",
              "      <td>0.028284</td>\n",
              "    </tr>\n",
              "    <tr>\n",
              "      <th>14579436</th>\n",
              "      <td>0.000000</td>\n",
              "      <td>0.000000</td>\n",
              "      <td>0.000000</td>\n",
              "      <td>0.707107</td>\n",
              "      <td>0.035355</td>\n",
              "      <td>0.072973</td>\n",
              "      <td>0.056568</td>\n",
              "    </tr>\n",
              "    <tr>\n",
              "      <th>14057291</th>\n",
              "      <td>0.000000</td>\n",
              "      <td>0.000000</td>\n",
              "      <td>0.000000</td>\n",
              "      <td>0.636397</td>\n",
              "      <td>0.000000</td>\n",
              "      <td>0.034620</td>\n",
              "      <td>0.000000</td>\n",
              "    </tr>\n",
              "    <tr>\n",
              "      <th>...</th>\n",
              "      <td>...</td>\n",
              "      <td>...</td>\n",
              "      <td>...</td>\n",
              "      <td>...</td>\n",
              "      <td>...</td>\n",
              "      <td>...</td>\n",
              "      <td>...</td>\n",
              "    </tr>\n",
              "    <tr>\n",
              "      <th>14580918</th>\n",
              "      <td>339.411255</td>\n",
              "      <td>0.000000</td>\n",
              "      <td>168.864212</td>\n",
              "      <td>0.000000</td>\n",
              "      <td>0.000000</td>\n",
              "      <td>0.000000</td>\n",
              "      <td>0.000000</td>\n",
              "    </tr>\n",
              "    <tr>\n",
              "      <th>13260650</th>\n",
              "      <td>56.568542</td>\n",
              "      <td>0.000000</td>\n",
              "      <td>62.161695</td>\n",
              "      <td>0.000000</td>\n",
              "      <td>0.000000</td>\n",
              "      <td>0.000000</td>\n",
              "      <td>0.000000</td>\n",
              "    </tr>\n",
              "    <tr>\n",
              "      <th>14580936</th>\n",
              "      <td>134.350288</td>\n",
              "      <td>0.000000</td>\n",
              "      <td>134.350288</td>\n",
              "      <td>0.000000</td>\n",
              "      <td>0.000000</td>\n",
              "      <td>0.000000</td>\n",
              "      <td>0.000000</td>\n",
              "    </tr>\n",
              "    <tr>\n",
              "      <th>14580938</th>\n",
              "      <td>98.994949</td>\n",
              "      <td>0.000000</td>\n",
              "      <td>98.994949</td>\n",
              "      <td>0.000000</td>\n",
              "      <td>0.000000</td>\n",
              "      <td>0.000000</td>\n",
              "      <td>0.000000</td>\n",
              "    </tr>\n",
              "    <tr>\n",
              "      <th>15161059</th>\n",
              "      <td>1598.061325</td>\n",
              "      <td>0.000000</td>\n",
              "      <td>887.813996</td>\n",
              "      <td>0.000000</td>\n",
              "      <td>0.000000</td>\n",
              "      <td>0.000000</td>\n",
              "      <td>0.000000</td>\n",
              "    </tr>\n",
              "  </tbody>\n",
              "</table>\n",
              "<p>32825 rows × 7 columns</p>\n",
              "</div>\n",
              "      <button class=\"colab-df-convert\" onclick=\"convertToInteractive('df-7fbe4fe7-9f36-4a68-9602-9bcaa2df4610')\"\n",
              "              title=\"Convert this dataframe to an interactive table.\"\n",
              "              style=\"display:none;\">\n",
              "        \n",
              "  <svg xmlns=\"http://www.w3.org/2000/svg\" height=\"24px\"viewBox=\"0 0 24 24\"\n",
              "       width=\"24px\">\n",
              "    <path d=\"M0 0h24v24H0V0z\" fill=\"none\"/>\n",
              "    <path d=\"M18.56 5.44l.94 2.06.94-2.06 2.06-.94-2.06-.94-.94-2.06-.94 2.06-2.06.94zm-11 1L8.5 8.5l.94-2.06 2.06-.94-2.06-.94L8.5 2.5l-.94 2.06-2.06.94zm10 10l.94 2.06.94-2.06 2.06-.94-2.06-.94-.94-2.06-.94 2.06-2.06.94z\"/><path d=\"M17.41 7.96l-1.37-1.37c-.4-.4-.92-.59-1.43-.59-.52 0-1.04.2-1.43.59L10.3 9.45l-7.72 7.72c-.78.78-.78 2.05 0 2.83L4 21.41c.39.39.9.59 1.41.59.51 0 1.02-.2 1.41-.59l7.78-7.78 2.81-2.81c.8-.78.8-2.07 0-2.86zM5.41 20L4 18.59l7.72-7.72 1.47 1.35L5.41 20z\"/>\n",
              "  </svg>\n",
              "      </button>\n",
              "      \n",
              "  <style>\n",
              "    .colab-df-container {\n",
              "      display:flex;\n",
              "      flex-wrap:wrap;\n",
              "      gap: 12px;\n",
              "    }\n",
              "\n",
              "    .colab-df-convert {\n",
              "      background-color: #E8F0FE;\n",
              "      border: none;\n",
              "      border-radius: 50%;\n",
              "      cursor: pointer;\n",
              "      display: none;\n",
              "      fill: #1967D2;\n",
              "      height: 32px;\n",
              "      padding: 0 0 0 0;\n",
              "      width: 32px;\n",
              "    }\n",
              "\n",
              "    .colab-df-convert:hover {\n",
              "      background-color: #E2EBFA;\n",
              "      box-shadow: 0px 1px 2px rgba(60, 64, 67, 0.3), 0px 1px 3px 1px rgba(60, 64, 67, 0.15);\n",
              "      fill: #174EA6;\n",
              "    }\n",
              "\n",
              "    [theme=dark] .colab-df-convert {\n",
              "      background-color: #3B4455;\n",
              "      fill: #D2E3FC;\n",
              "    }\n",
              "\n",
              "    [theme=dark] .colab-df-convert:hover {\n",
              "      background-color: #434B5C;\n",
              "      box-shadow: 0px 1px 3px 1px rgba(0, 0, 0, 0.15);\n",
              "      filter: drop-shadow(0px 1px 2px rgba(0, 0, 0, 0.3));\n",
              "      fill: #FFFFFF;\n",
              "    }\n",
              "  </style>\n",
              "\n",
              "      <script>\n",
              "        const buttonEl =\n",
              "          document.querySelector('#df-7fbe4fe7-9f36-4a68-9602-9bcaa2df4610 button.colab-df-convert');\n",
              "        buttonEl.style.display =\n",
              "          google.colab.kernel.accessAllowed ? 'block' : 'none';\n",
              "\n",
              "        async function convertToInteractive(key) {\n",
              "          const element = document.querySelector('#df-7fbe4fe7-9f36-4a68-9602-9bcaa2df4610');\n",
              "          const dataTable =\n",
              "            await google.colab.kernel.invokeFunction('convertToInteractive',\n",
              "                                                     [key], {});\n",
              "          if (!dataTable) return;\n",
              "\n",
              "          const docLinkHtml = 'Like what you see? Visit the ' +\n",
              "            '<a target=\"_blank\" href=https://colab.research.google.com/notebooks/data_table.ipynb>data table notebook</a>'\n",
              "            + ' to learn more about interactive tables.';\n",
              "          element.innerHTML = '';\n",
              "          dataTable['output_type'] = 'display_data';\n",
              "          await google.colab.output.renderOutput(dataTable, element);\n",
              "          const docLink = document.createElement('div');\n",
              "          docLink.innerHTML = docLinkHtml;\n",
              "          element.appendChild(docLink);\n",
              "        }\n",
              "      </script>\n",
              "    </div>\n",
              "  </div>\n",
              "  "
            ]
          },
          "metadata": {},
          "execution_count": 11
        }
      ]
    },
    {
      "cell_type": "code",
      "source": [
        "for x in ['price', 'carat', 'price_per_carat', 'depth_perc', 'x','y','z']:\n",
        "  print(f'std not null in {x}: {stat[stat[x] > 0].shape[0]}')"
      ],
      "metadata": {
        "colab": {
          "base_uri": "https://localhost:8080/"
        },
        "id": "LVUUhd7sKtqM",
        "outputId": "2f1bff60-0c30-4ed1-eda2-cf097986f9bf"
      },
      "execution_count": 14,
      "outputs": [
        {
          "output_type": "stream",
          "name": "stdout",
          "text": [
            "std not null in price: 28635\n",
            "std not null in carat: 10\n",
            "std not null in price_per_carat: 28638\n",
            "std not null in depth_perc: 20391\n",
            "std not null in x: 80\n",
            "std not null in y: 20404\n",
            "std not null in z: 82\n"
          ]
        }
      ]
    },
    {
      "cell_type": "code",
      "source": [
        "df_three_2 = df_three.copy()\n",
        "#странно что размер каменя изменился. Возможно другие измерения.поскольку x,y,z тоже изменяются\n",
        "carat_to_drop = stat[stat['carat'] > 0]\n",
        "df_three_2 = df_three_2[~df_three_2['id'].isin(carat_to_drop.index)]\n",
        "#изменение в %_глубине тоже странное, сочтем выбросом все что выше 0.6 стд\n",
        "depth_to_drop = stat[stat['depth_perc'] > 0.6]\n",
        "df_three_2 = df_three_2[~df_three_2['id'].isin(depth_to_drop.index)]\n",
        "#сколько % датасета мы убрали\n",
        "print(f\"removed: {round(1-df_three_2.sort_values(by='id').shape[0] / df_three.shape[0],3)*100}% of dataset\")\n",
        "#check how many dups \n",
        "print(f\"No dups values: {df_three_2.shape[0] - df_three_2.sort_values(by = 'date').drop_duplicates(subset = ['id'], keep='last').shape[0]}\")\n",
        "#filter values\n",
        "latest_idx = df_three_2.groupby('id')['date'].idxmax()\n",
        "#check if equal to dups\n",
        "print(f\"Cut values: {df_three_2.shape[0] - df_three_2.loc[latest_idx].shape[0]}\")\n",
        "#take the latest date\n",
        "df_three_2 = df_three_2.loc[latest_idx]"
      ],
      "metadata": {
        "id": "8CBLXN5ZOgJh",
        "outputId": "dd297bc4-d352-4ad2-daea-7bf6c8e7ce80",
        "colab": {
          "base_uri": "https://localhost:8080/"
        }
      },
      "execution_count": 12,
      "outputs": [
        {
          "output_type": "stream",
          "name": "stdout",
          "text": [
            "removed: 5.0% of dataset\n",
            "No dups values: 36243\n",
            "Cut values: 36243\n"
          ]
        }
      ]
    },
    {
      "cell_type": "code",
      "source": [],
      "metadata": {
        "id": "kl0Er4o9BbnL"
      },
      "execution_count": 15,
      "outputs": []
    },
    {
      "cell_type": "code",
      "source": [
        "#Соберем датасет, с обрезанием выбросов по iqr*1.5\n",
        "def iqr_cut(mydf, cols):\n",
        "  df_to_cut = mydf.copy()\n",
        "  for col in cols:\n",
        "    desc = df_to_cut[col].describe()\n",
        "    irq = desc['mean'] + (desc['75%']-desc['25%']) *1.5\n",
        "    df_to_cut = df_to_cut[df_to_cut[col] <= irq]\n",
        "  return df_to_cut\n",
        "\n",
        "\n",
        "df2 = pd.concat([df_one, df_three_2]).reset_index(drop=True)\n",
        "df3 = iqr_cut(df2, ['price','carat','price_per_carat'])"
      ],
      "metadata": {
        "id": "7B7H1XQLbqJN"
      },
      "execution_count": 64,
      "outputs": []
    },
    {
      "cell_type": "code",
      "source": [
        "#Отрисуем визуализацию\n",
        "'''check_df = df2.copy()\n",
        "for x in ['price', 'carat', 'price_per_carat', 'depth_perc', 'x','y','z']:\n",
        "  print('Current column:', x)\n",
        "  print(check_df[x].describe().apply(lambda x: round(x,2)))\n",
        "  plt.boxplot(check_df[x])\n",
        "  plt.show()\n",
        "'''"
      ],
      "metadata": {
        "id": "W3kOu4OFad0R",
        "outputId": "a9dc0104-ed5a-47f6-ee0b-6a5209e800ca",
        "colab": {
          "base_uri": "https://localhost:8080/",
          "height": 53
        }
      },
      "execution_count": 1,
      "outputs": [
        {
          "output_type": "execute_result",
          "data": {
            "text/plain": [
              "\"check_df = df2.copy()\\nfor x in ['price', 'carat', 'price_per_carat', 'depth_perc', 'x','y','z']:\\n  print('Current column:', x)\\n  print(check_df[x].describe().apply(lambda x: round(x,2)))\\n  plt.boxplot(check_df[x])\\n  plt.show()\\n\""
            ],
            "application/vnd.google.colaboratory.intrinsic+json": {
              "type": "string"
            }
          },
          "metadata": {},
          "execution_count": 1
        }
      ]
    },
    {
      "cell_type": "code",
      "source": [
        "#df2.hist(bins=50,figsize=(20,10))\n",
        "#plt.show()"
      ],
      "metadata": {
        "id": "2Ci6heOEo1UK"
      },
      "execution_count": 19,
      "outputs": []
    },
    {
      "cell_type": "code",
      "source": [
        "#sns.pairplot(df2, diag_kind = 'kde')"
      ],
      "metadata": {
        "id": "TgwDpL3GYL3i"
      },
      "execution_count": 20,
      "outputs": []
    },
    {
      "cell_type": "code",
      "source": [
        "#plt.figure(figsize = (30,20))\n",
        "#sns.heatmap(df3.corr(),annot = True , cmap = 'coolwarm' )"
      ],
      "metadata": {
        "id": "bykkRohwgVxl"
      },
      "execution_count": 21,
      "outputs": []
    },
    {
      "cell_type": "markdown",
      "source": [
        "Видим корреляцию цены с размером камня и (ествественно) ценой за карат. чуть слабее крреляцию по размерам x,y,z.\n",
        "С ОНЕ появляется много новых столбцов и парочка из них (естественно) колинеарны, поскольку это классы одного столбца. \n",
        "Но обрезать пока мы их не будем. "
      ],
      "metadata": {
        "id": "lVV83cWbsP1o"
      }
    },
    {
      "cell_type": "markdown",
      "source": [
        "Цены на бриллианты достаточно сильно меняются, попробуйте вычислить коэффициент инфляции и привести цены к последнему месяцу. Стоит учесть, что цены на все бриллианты не изменяются синхронно, то есть изменение в определенных группах может быть разным.\n",
        "\n",
        "*Определите эти группы и рассчитайте коэффициенты инфляции для каждой из них. Подправьте цены на эти коэффициенты и создайте новую переменную.*"
      ],
      "metadata": {
        "id": "NnsNVat_CIPB"
      }
    },
    {
      "cell_type": "markdown",
      "source": [
        "### Задание 2: Модель"
      ],
      "metadata": {
        "id": "xuPhXT9aESGs"
      }
    },
    {
      "cell_type": "markdown",
      "source": [
        "Определите функцию потерь (MSE или MAE) и аргументируйте выбор.\n",
        "Попробуйте сделать baseline.\n",
        "Используйте LableEncoder для категориальных фичей и **постройте линейную модель**."
      ],
      "metadata": {
        "id": "v3OgAHMiExrW"
      }
    },
    {
      "cell_type": "code",
      "source": [
        "to_encode = ['fluor','symmetry',\t'shape',\t'color',\t'clarity',\t'polish', 'cut']\n",
        "\n",
        "def label_encode_me(df2, to_encode):\n",
        "  df3=df2.copy()\n",
        "  le = LabelEncoder()\n",
        "  df3[to_encode] = df3[to_encode].apply(le.fit_transform)\n",
        "  return df3\n",
        "\n",
        "def target_encode_me(df2, to_encode):\n",
        "  df3=df2.copy()\n",
        "  te = TargetEncoder(cols = to_encode)\n",
        "  te.fit(df3[to_encode], df3['price_per_carat'])\n",
        "  df3[to_encode] = te.transform(df[to_encode])\n",
        "  df3 = df3.fillna(0)#dropna(subset = to_encode)\n",
        "  print(df3.shape)\n",
        "  return df3\n",
        "\n",
        "def encode_me(df2, to_encode):\n",
        "  df3 = df2.copy()\n",
        "  df3 = pd.get_dummies(data=df3, columns=to_encode)\n",
        "  return df3"
      ],
      "metadata": {
        "id": "osdpwSM4iWAB"
      },
      "execution_count": 105,
      "outputs": []
    },
    {
      "cell_type": "markdown",
      "source": [
        "На удивление, в target_encode_me заполнение НаНов нулями дает примерно такой же результат линрегрессии что и дроп рядов с НаНами"
      ],
      "metadata": {
        "id": "zIzpErAmDHhq"
      }
    },
    {
      "cell_type": "code",
      "source": [],
      "metadata": {
        "id": "d_6D4OR4yVjx"
      },
      "execution_count": 58,
      "outputs": []
    },
    {
      "cell_type": "code",
      "source": [
        "def get_inf(df3):\n",
        "  categories = ['carat'] #определите по каким группам отпределять инфляцию (к примеру можно добавить каратную группу)\n",
        "\n",
        "  df_index = df3.groupby(['date'] + categories)[['price_per_carat']]\\\n",
        "              .mean()\\\n",
        "              .reset_index() # индекс цен\n",
        "\n",
        "  date_max = df_index.date.max()\n",
        "\n",
        "  df_index = df_index.merge(df_index.query('date == @date_max')[categories + ['price_per_carat']]\\\n",
        "                            .rename(columns={'price_per_carat': 'price_per_carat_max'}), \n",
        "                            on=categories, how='outer') # сопоставляем группы с максимальной датой\n",
        "  df_index\n",
        "  df_index['inflation'] = df_index['price_per_carat_max'] / df_index.price_per_carat # вычисляем инфляцию\n",
        "\n",
        "  df_with_inf = df3.merge(df_index[['date'] + categories + ['inflation']], \n",
        "                          on=['date'] + categories, how='left') # соединяем все в одной таблице\n",
        "\n",
        "  df_with_inf = df_with_inf.dropna(subset=['inflation']).sort_values(by='inflation')#[df_with_inf['inflation']>=0]\n",
        "\n",
        "  return df_with_inf\n",
        "  #df_with_inf#[df_with_inf['id']==14652500]['inflation']"
      ],
      "metadata": {
        "id": "nDKdDba4pA7M"
      },
      "execution_count": 15,
      "outputs": []
    },
    {
      "cell_type": "code",
      "source": [
        "def get_all_combs(ilist):\n",
        "  combinations = list((itertools.product(ilist, repeat=len(ilist))))\n",
        "  no_dups = set([tuple(set(x)) for x in combinations])\n",
        "  return no_dups"
      ],
      "metadata": {
        "id": "LeLrnXuepjjb"
      },
      "execution_count": 16,
      "outputs": []
    },
    {
      "cell_type": "code",
      "source": [
        "\n",
        "\n",
        "my_list = ['carat', 'price', 'depth_perc', 'x','y','z']\n",
        "\n",
        "\n",
        "def my_linear(dataset, comb_cols = my_list):\n",
        "# Generate all possible combinations\n",
        "  min_val = 1000\n",
        "  min_comb = ['price', 'price_per_carat']\n",
        "  r2 = .5\n",
        "\n",
        "  combinations = get_all_combs(comb_cols)\n",
        "  for comb in combinations:\n",
        "    #dataset = get_inf(my_dataset)\n",
        "    cols_to_drop=list(comb)+['price_per_carat']\n",
        "\n",
        "    y_valid, y_pred = my_model(dataset, cols_to_drop)\n",
        "\n",
        "    r2_val = r2_score(y_valid, y_pred)  \n",
        "    m = mean_absolute_error(y_valid, y_pred)\n",
        "\n",
        "    if m <= min_val and r2_val >= r2:\n",
        "      min_val = m\n",
        "      min_comb = comb\n",
        "      r2 = r2_val\n",
        "      print(\"Mean squared error:\", mean_squared_error(y_valid, y_pred))\n",
        "      print(\"Mean absolute error:\", mean_absolute_error(y_valid, y_pred))\n",
        "      print(\"R-squared score:\", r2_score(y_valid, y_pred))\n",
        "      print()\n",
        "  return(min_val, r2, min_comb, y_pred)\n",
        "    \n",
        "\n",
        "def my_model(dataset, cols_to_drop):\n",
        "  X = dataset.drop(columns=cols_to_drop)\n",
        "  y = dataset[\"price_per_carat\"]\n",
        "\n",
        "  X_train, X_test, y_train, y_test = train_test_split(X, y, test_size=0.2, random_state=13)\n",
        "\n",
        "  scaler = StandardScaler() # Помните, что на тесте делаем только transform\n",
        "  X_train = scaler.fit_transform(X_train)\n",
        "  X_test = scaler.transform(X_test)\n",
        "\n",
        "  #model_LR = LinearRegression()\n",
        "  model_LR = BaggingRegressor(estimator=LinearRegression(), n_estimators=5, random_state=42)\n",
        "\n",
        "  model_LR.fit(X_train, y_train)\n",
        "\n",
        "  y_pred = model_LR.predict(X_test)\n",
        "  return y_test, y_pred\n",
        "\n"
      ],
      "metadata": {
        "id": "BEvWYr1uEKJU"
      },
      "execution_count": 112,
      "outputs": []
    },
    {
      "cell_type": "markdown",
      "source": [
        "Проверим разные комбинации чисельных признаков. Стоит отметить, что если бы мы не сделали обрезку выбросов по IQR*1.5 то качество модели было бы хуже"
      ],
      "metadata": {
        "id": "FTqHrJpR_SC3"
      }
    },
    {
      "cell_type": "code",
      "source": [
        "\n",
        "df4 = encode_me(df3, to_encode)\n",
        "my_inf = get_inf(df4)\n",
        "min_mae, min_r, min_col, y_pred = my_linear(my_inf)             \n",
        "print(f'mae: {min_mae}\\nr2: {min_r}\\ncolumns to drop: {min_col}')\n"
      ],
      "metadata": {
        "colab": {
          "base_uri": "https://localhost:8080/"
        },
        "id": "9W6xc8A4v_pN",
        "outputId": "3440f4dd-c328-4972-a8ba-d752182c927d"
      },
      "execution_count": 111,
      "outputs": [
        {
          "output_type": "stream",
          "name": "stdout",
          "text": [
            "Mean squared error: 832836.5591405329\n",
            "Mean absolute error: 711.0229942121255\n",
            "R-squared score: 0.8464268938192672\n",
            "\n",
            "Mean squared error: 250068.54680551778\n",
            "Mean absolute error: 390.3638214745777\n",
            "R-squared score: 0.9538879470773267\n",
            "\n",
            "Mean squared error: 144293.92891887148\n",
            "Mean absolute error: 282.84015382644225\n",
            "R-squared score: 0.9733925382791058\n",
            "\n",
            "Mean squared error: 114238.1108669846\n",
            "Mean absolute error: 243.4287252182153\n",
            "R-squared score: 0.978934760563145\n",
            "\n",
            "mae: 243.4287252182153\n",
            "r2: 0.978934760563145\n",
            "columns to drop: ('z',)\n"
          ]
        }
      ]
    },
    {
      "cell_type": "markdown",
      "source": [
        "Итак мы узнали, что на нашем датасете, наиболее точные предсказания дает регрессия, которая отбрасывает лишь столбец \"z\"."
      ],
      "metadata": {
        "id": "1S5sAn-uD5vG"
      }
    },
    {
      "cell_type": "code",
      "source": [
        "def encode_and_run(my_df, encoder, name):\n",
        "  print('Encoded using', name)\n",
        "  df4 = encoder(my_df, to_encode)\n",
        "  my_inf = get_inf(df4)\n",
        "  y_test, y_pred = my_model(my_inf, ['z','price_per_carat'])\n",
        "\n",
        "  print(\"Mean squared error:\", round(mean_squared_error(y_test, y_pred), 2))\n",
        "  print(\"Mean absolute error:\", round(mean_absolute_error(y_test, y_pred), 2))\n",
        "  print(\"R-squared score:\", round(r2_score(y_test, y_pred), 2))\n",
        "  print(\"MAPE: \", round(mean_absolute_percentage_error(y_test,y_pred), 2))\n",
        "  print()\n"
      ],
      "metadata": {
        "id": "QVLIytBNFSCY"
      },
      "execution_count": 119,
      "outputs": []
    },
    {
      "cell_type": "markdown",
      "source": [
        "Теперь попробуйте OHE или TargetEncoder (сравните их).\n",
        "\n",
        "Нормализуйте данные.\n",
        "\n",
        "Поработайте с пропусками (обратите внимание на то, что у fluor возможен пропуск значения, а возможно отсутствие флуоресценции)\n",
        "\n",
        "Покажите, насколько получилось улучшить результат."
      ],
      "metadata": {
        "id": "Z9kiKhHuFDUD"
      }
    },
    {
      "cell_type": "code",
      "source": [
        "text = ['LabelEncoder', 'OneHotEncoder', 'TargetEncoder']\n",
        "encoders = [label_encode_me, encode_me, target_encode_me]\n",
        "for j in range(len(text)):\n",
        "  encode_and_run(df3, encoders[j], text[j])\n",
        "  print()"
      ],
      "metadata": {
        "colab": {
          "base_uri": "https://localhost:8080/"
        },
        "id": "GMWianuj_sda",
        "outputId": "05ee00f1-1093-44b5-e69f-0f296a2115fb"
      },
      "execution_count": 113,
      "outputs": [
        {
          "output_type": "stream",
          "name": "stdout",
          "text": [
            "Encoded using LabelEncoder\n",
            "Mean squared error: 123766.70012625564\n",
            "Mean absolute error: 251.01029139923043\n",
            "R-squared score: 0.9771777110748556\n",
            "MAPE:  0.04790642673713431\n",
            "\n",
            "\n",
            "Encoded using OneHotEncoder\n",
            "Mean squared error: 114238.1108669846\n",
            "Mean absolute error: 243.4287252182153\n",
            "R-squared score: 0.978934760563145\n",
            "MAPE:  0.04631978339400159\n",
            "\n",
            "\n",
            "Encoded using TargetEncoder\n",
            "(83744, 16)\n",
            "Mean squared error: 132850.91643040866\n",
            "Mean absolute error: 258.68072259472933\n",
            "R-squared score: 0.9755026029161958\n",
            "MAPE:  0.04993891306774594\n",
            "\n",
            "\n"
          ]
        }
      ]
    },
    {
      "cell_type": "markdown",
      "source": [
        "Как видим из кодировщиков лучше всего справился встроенный в pandas OHE - get_dummies. А TargetEncoder не сильно меняет стастику, даже если обрезать датасет еще в два раза, дропая НаНы."
      ],
      "metadata": {
        "id": "8G5EA2Rh8kn4"
      }
    },
    {
      "cell_type": "code",
      "source": [
        "dfs = [df.drop('platform',axis=1),df1,df2,df3]\n",
        "dfs_desc = ['no preprocessing', 'drop duplicates and uncut gems', 'drop dups, uncut, old dates', 'drop dups, uncut, old and outliers']\n",
        "\n",
        "for i in range(len(dfs)):\n",
        "  print(\"Preprocessing:\", dfs_desc[i])\n",
        "  print('n_cols: ', dfs[i].shape[0])\n",
        "  encode_and_run(dfs[i], encode_me, 'OHE')\n"
      ],
      "metadata": {
        "colab": {
          "base_uri": "https://localhost:8080/"
        },
        "id": "hKjL5R1vI23j",
        "outputId": "fcf0cca0-4501-4d81-908d-4ac50e4972ad"
      },
      "execution_count": 120,
      "outputs": [
        {
          "output_type": "stream",
          "name": "stdout",
          "text": [
            "Preprocessing: no preprocessing\n",
            "n_cols:  222222\n",
            "Encoded using OHE\n",
            "Mean squared error: 4917236.37\n",
            "Mean absolute error: 952.53\n",
            "R-squared score: 0.81\n",
            "MAPE:  0.16\n",
            "\n",
            "Preprocessing: drop duplicates and uncut gems\n",
            "n_cols:  147594\n",
            "Encoded using OHE\n",
            "Mean squared error: 10971473.17\n",
            "Mean absolute error: 895.79\n",
            "R-squared score: 0.5\n",
            "MAPE:  0.14\n",
            "\n",
            "Preprocessing: drop dups, uncut, old dates\n",
            "n_cols:  107825\n",
            "Encoded using OHE\n",
            "Mean squared error: 2062875.95\n",
            "Mean absolute error: 952.63\n",
            "R-squared score: 0.91\n",
            "MAPE:  0.16\n",
            "\n",
            "Preprocessing: drop dups, uncut, old and outliers\n",
            "n_cols:  83744\n",
            "Encoded using OHE\n",
            "Mean squared error: 114238.11\n",
            "Mean absolute error: 243.43\n",
            "R-squared score: 0.98\n",
            "MAPE:  0.05\n",
            "\n"
          ]
        }
      ]
    },
    {
      "cell_type": "markdown",
      "source": [
        "Стоит отметить, что регрессия работала на обрезанном датасете - около 80к из 222222 значений при обрезке IQR*1.5. Такая обрезка весьма сильно прорежает датасет и может изменить статистику, Линейная регрессия чувствительна к выбросам и на датасете с выбросами (удалены полные дубликаты и взяты лишь последние даты) показывает результат хуже по всем метрикам.\n",
        "\n",
        "К тому же не проводился полный отсев по столбцам полученным через категориальное кодирование, поскольку колаб крашится от перегруза в цикле с подбором лучшего результата. "
      ],
      "metadata": {
        "id": "Mnu6Q29_ET-y"
      }
    },
    {
      "cell_type": "code",
      "source": [
        "#Так выглядят после обрезания датасеты\n",
        "print(df.shape[0], df1.shape[0], df2.shape[0], df3.shape[0])"
      ],
      "metadata": {
        "colab": {
          "base_uri": "https://localhost:8080/"
        },
        "id": "Yi5rWRXRHj3d",
        "outputId": "a5f290a7-d2d3-424c-e2dc-4c6ac3418942"
      },
      "execution_count": 84,
      "outputs": [
        {
          "output_type": "stream",
          "name": "stdout",
          "text": [
            "222222 147594 107825 83744\n"
          ]
        }
      ]
    },
    {
      "cell_type": "code",
      "source": [
        "from typing import Tuple, List\n",
        "\n",
        "\n",
        "def OHE(df: pd.DataFrame, columns: List[str]) -> Tuple[pd.DataFrame, List[str]]:\n",
        "    \"\"\"\n",
        "    Вместо это функции можно использовать и функционал pandas\n",
        "    \"\"\"\n",
        "    index = df.index\n",
        "    one = OneHotEncoder(sparse=False, categories='auto')\n",
        "    ohe = one.fit_transform(df[columns])\n",
        "    col_names = one.get_feature_names(input_features = columns)\n",
        "    df = df.drop(columns, axis=1)\n",
        "    df = df.reset_index(drop=True)\n",
        "    df = pd.concat([df, pd.DataFrame(ohe, columns=col_names)], axis = 1)\n",
        "    df = df.set_index(index)\n",
        "    return (df, col_names)\n"
      ],
      "metadata": {
        "id": "becHgg71Iria"
      },
      "execution_count": 215,
      "outputs": []
    },
    {
      "cell_type": "markdown",
      "source": [
        "Сравните работу выбранной вами линейной модели с KNN"
      ],
      "metadata": {
        "id": "tnJUqYqWoqgk"
      }
    },
    {
      "cell_type": "code",
      "source": [
        "from sklearn.neighbors import KNeighborsRegressor\n",
        "\n",
        "def KNNR(dataset, neighbours = 3, cols_to_drop = ['z','price_per_carat']):\n",
        "  model = KNeighborsRegressor(n_neighbors=neighbours)\n",
        "\n",
        "  X = dataset.drop(columns=cols_to_drop)\n",
        "  y = dataset[\"price_per_carat\"]\n",
        "  X_train, X_test, y_train, y_test = train_test_split(X, y, test_size=0.2, random_state=13)\n",
        "\n",
        "  scaler = StandardScaler()\n",
        "  X_train = scaler.fit_transform(X_train)\n",
        "  X_test = scaler.transform(X_test)\n",
        "\n",
        "  model.fit(X_train, y_train)\n",
        "  y_pred = model.predict(X_test)\n",
        "  \n",
        "  print(\"Mean squared error:\", mean_squared_error(y_test, y_pred))\n",
        "  print(\"Mean absolute error:\", mean_absolute_error(y_test, y_pred))\n",
        "  print(\"R-squared score:\", r2_score(y_test, y_pred))\n",
        "  print(\"MAPE: \", mean_absolute_percentage_error(y_test,y_pred))\n",
        "\n",
        "  "
      ],
      "metadata": {
        "id": "bhKgkdw5ou4A"
      },
      "execution_count": 97,
      "outputs": []
    },
    {
      "cell_type": "code",
      "source": [
        "  df4 = encode_me(df3, to_encode)\n",
        "  my_inf = get_inf(df4)\n",
        "  my_neighbours = (3,4)\n",
        "  for x in range(*my_neighbours):\n",
        "    print('neighbours:',x)\n",
        "    KNNR(my_inf, x)"
      ],
      "metadata": {
        "colab": {
          "base_uri": "https://localhost:8080/"
        },
        "id": "ObEwIcLlRIIY",
        "outputId": "e3130cf1-6cb8-4e8d-cb93-fa5cfc118bea"
      },
      "execution_count": 104,
      "outputs": [
        {
          "output_type": "stream",
          "name": "stdout",
          "text": [
            "neighbours: 3\n",
            "Mean squared error: 308951.03\n",
            "Mean absolute error: 383.69785\n",
            "R-squared score: 0.9430301511449246\n",
            "MAPE:  0.07555793\n"
          ]
        }
      ]
    },
    {
      "cell_type": "markdown",
      "source": [
        "Эмпирическим методом проверяем что 3 соседа наиболее лучший вариант.\n",
        "Как видим, КНН на том же датасете справляется немого хуже чем линейная регрессия и работат значительно медленнее."
      ],
      "metadata": {
        "id": "VdV9QqzAEmkQ"
      }
    },
    {
      "cell_type": "markdown",
      "source": [
        "## Классификация"
      ],
      "metadata": {
        "id": "fLAsZpEeIsyk"
      }
    },
    {
      "cell_type": "markdown",
      "source": [
        "Загрузите датасет bodyPerformance\n",
        "\n",
        "Описание:\n",
        "\n",
        "https://www.kaggle.com/datasets/kukuroo3/body-performance-data"
      ],
      "metadata": {
        "id": "exzgWs8TGVwz"
      }
    },
    {
      "cell_type": "code",
      "source": [
        "#from google.colab import drive\n",
        "#drive.mount('/content/drive')\n",
        "\n",
        "#path = 'drive/MyDrive/'\n"
      ],
      "metadata": {
        "id": "HiRlpeObIw30",
        "colab": {
          "base_uri": "https://localhost:8080/"
        },
        "outputId": "1157963b-c4bf-4b30-866c-9f6daebbb89e"
      },
      "execution_count": 224,
      "outputs": [
        {
          "output_type": "execute_result",
          "data": {
            "text/plain": [
              "Index(['gender', 'height_cm', 'weight_kg', 'body fat_%', 'diastolic',\n",
              "       'systolic', 'gripForce', 'sit and bend forward_cm', 'sit-ups counts',\n",
              "       'broad jump_cm', 'class'],\n",
              "      dtype='object')"
            ]
          },
          "metadata": {},
          "execution_count": 224
        }
      ]
    },
    {
      "cell_type": "code",
      "source": [
        "\n",
        "dfc = pd.read_csv('https://raw.githubusercontent.com/Dimildizio/DS_course/main/shine-on-you/bodyPerformance.csv', index_col=0) #укажите свой путь\n",
        "dfc = dfc[~dfc.duplicated()]\n",
        "\n",
        "cat_cols =['gender', 'class'] \n",
        "for col in cat_cols:\n",
        "  dfc[col] = dfc[col].astype('category')\n",
        "for col in [x for x in dfc.columns if x not in cat_cols]:\n",
        "  dfc[col] = dfc[col].astype('float16')"
      ],
      "metadata": {
        "id": "8icMo8BR8eJL"
      },
      "execution_count": 225,
      "outputs": []
    },
    {
      "cell_type": "code",
      "source": [
        "for col in [x for x in df.columns if x not in cat_cols]:\n",
        "  print(col)"
      ],
      "metadata": {
        "id": "aSJ3wZqRh9Jb",
        "outputId": "909c4ed3-a3ae-4084-c43b-60a6cc725632",
        "colab": {
          "base_uri": "https://localhost:8080/"
        }
      },
      "execution_count": 211,
      "outputs": [
        {
          "output_type": "stream",
          "name": "stdout",
          "text": [
            "height_cm\n",
            "weight_kg\n",
            "body fat_%\n",
            "diastolic\n",
            "systolic\n",
            "gripForce\n",
            "sit and bend forward_cm\n",
            "sit-ups counts\n",
            "broad jump_cm\n"
          ]
        }
      ]
    },
    {
      "cell_type": "code",
      "source": [
        "df['gender'].shape[0] - df[df['gender']=='M'].shape[0]"
      ],
      "metadata": {
        "id": "yKvrcXtB3AQf",
        "colab": {
          "base_uri": "https://localhost:8080/"
        },
        "outputId": "1e4b2bbd-b883-43f1-d4bf-1eb7552d93d3"
      },
      "execution_count": 266,
      "outputs": [
        {
          "output_type": "execute_result",
          "data": {
            "text/plain": [
              "13392"
            ]
          },
          "metadata": {},
          "execution_count": 266
        }
      ]
    },
    {
      "cell_type": "code",
      "source": [],
      "metadata": {
        "id": "mDs_V1xk8NNb"
      },
      "execution_count": 181,
      "outputs": []
    },
    {
      "cell_type": "code",
      "source": [],
      "metadata": {
        "id": "BiT0eyhCUe_I"
      },
      "execution_count": 182,
      "outputs": []
    },
    {
      "cell_type": "markdown",
      "source": [
        "### Задание 1: Определение гендера"
      ],
      "metadata": {
        "id": "mIT8KyvrGFI7"
      }
    },
    {
      "cell_type": "markdown",
      "source": [
        "Постройте модель, которая будет определять гендер."
      ],
      "metadata": {
        "id": "P7hR4HE2GOjH"
      }
    },
    {
      "cell_type": "markdown",
      "source": [
        "Для этого определите две метрики качества, на которые вы будете смотреть. Аргументируйте свой выбор.\n",
        "\n",
        "После чего преобразуйте категориальные переменные и постройте модель бинарной классификации на основе линейного классификатора и сравните с KNN.\n",
        "\n",
        "P.S.: не забудте про нормализацию."
      ],
      "metadata": {
        "id": "aAQJ1WhfGhQf"
      }
    },
    {
      "cell_type": "code",
      "source": [],
      "metadata": {
        "id": "Mhj3I_MuBbFy"
      },
      "execution_count": 260,
      "outputs": []
    },
    {
      "cell_type": "markdown",
      "source": [
        "Поскольку сказано выбрать две, в качестве метрик были выбраны accuracy и f1. Первая по причине того, что классы мужчин и женщин для нас имеют одинаковое значение. А F1 была выбрана поскольку это среднее гармонично между precision и recall, таким образом мы и сумму всех правильно определенных положительных деленную на все положительно определенные (TP/(TP+FP)) учитываем и сумму всех правильно определенных положительных деленную на все истинные положительные значения (TP/ (TP+FN))"
      ],
      "metadata": {
        "id": "PhDpUf5Cn6c9"
      }
    },
    {
      "cell_type": "code",
      "source": [
        "def class_model(dfc, model, target='gender', encode = ['class']):\n",
        "  print(model)\n",
        "  df=dfc.copy()\n",
        "  df = df.reset_index()\n",
        "  df = pd.get_dummies(dfc, columns=encode)\n",
        "\n",
        "  X = df.drop(target, axis=1)\n",
        "  y = df[target]\n",
        "  X_train, X_test, y_train, y_test = train_test_split(X, y, test_size=0.2, stratify=y, random_state=42)\n",
        "\n",
        "  pipe = make_pipeline(StandardScaler(), Normalizer(), model)\n",
        "  pipe.fit(X_train, y_train)\n",
        "\n",
        "  # Make predictions on the test set\n",
        "  y_pred = pipe.predict(X_test)\n",
        "\n",
        "  accuracy = accuracy_score(y_test, y_pred)\n",
        "  #precision = precision_score(y_test, y_pred, pos_label='M')\n",
        "  #recall = recall_score(y_test, y_pred, pos_label='M')\n",
        "  f1 = f1_score(y_test, y_pred, pos_label='M')\n",
        "  \n",
        "  print('Accuracy:', round(accuracy,4))\n",
        "  #print('Precision:', round(precision,4))\n",
        "  #print('Recall:', round(recall,4))\n",
        "  #print('F1:', round(f1,4))\n",
        "  print()\n"
      ],
      "metadata": {
        "id": "YK1QbWs8hhXr"
      },
      "execution_count": 290,
      "outputs": []
    },
    {
      "cell_type": "code",
      "source": [
        "class_model(dfc,LogisticRegression())\n",
        "class_model(dfc,KNeighborsClassifier())"
      ],
      "metadata": {
        "id": "K5tQlKQNldle",
        "outputId": "63c019d2-0ff0-40da-b77e-96fa7d9007f8",
        "colab": {
          "base_uri": "https://localhost:8080/"
        }
      },
      "execution_count": 269,
      "outputs": [
        {
          "output_type": "stream",
          "name": "stdout",
          "text": [
            "LogisticRegression()\n",
            "Accuracy: 0.9813\n",
            "F1: 0.9852\n",
            "\n",
            "KNeighborsClassifier()\n",
            "Accuracy: 0.9832\n",
            "F1: 0.9867\n",
            "\n"
          ]
        }
      ]
    },
    {
      "cell_type": "code",
      "source": [
        "estimators = [\n",
        "     ('LogReg', LogisticRegression(max_iter=5000)),\n",
        "     ('SVM', SVC(max_iter=5000)),\n",
        "     (\"KNN\", KNeighborsClassifier(n_neighbors=3))]\n",
        "stacking_model = StackingClassifier(estimators=estimators, final_estimator=LogisticRegression(max_iter=5000))\n",
        "class_model(dfc, stacking_model, 'class', ['gender'])"
      ],
      "metadata": {
        "id": "plm8SNvUWfpf",
        "outputId": "ef422ac5-117b-4558-f47f-82cd472c3d67",
        "colab": {
          "base_uri": "https://localhost:8080/"
        }
      },
      "execution_count": 275,
      "outputs": [
        {
          "output_type": "stream",
          "name": "stdout",
          "text": [
            "StackingClassifier(estimators=[('LogReg', LogisticRegression(max_iter=5000)),\n",
            "                               ('SVM', SVC(max_iter=5000)),\n",
            "                               ('KNN', KNeighborsClassifier(n_neighbors=3))],\n",
            "                   final_estimator=LogisticRegression(max_iter=5000))\n",
            "Accuracy: 0.632\n",
            "\n"
          ]
        }
      ]
    },
    {
      "cell_type": "markdown",
      "source": [
        "### Задание 2: Определение класса"
      ],
      "metadata": {
        "id": "9m0SK6JzKHof"
      }
    },
    {
      "cell_type": "markdown",
      "source": [
        "Теперь опробуем построить модель, которая будет предсказывать class физической формы.\n",
        "\n",
        "Для этого определите метрики качества для задачи мультиклассификации (аргументируйте выбор).\n",
        "\n",
        "Постройте модель мультиклассовой классификации на основе линейного классификатора и сравните с KNN."
      ],
      "metadata": {
        "id": "s5Hge2C2JSxG"
      }
    },
    {
      "cell_type": "code",
      "source": [
        "#Didn't manage to make it work properly\n",
        "def rocauc(y_test, y_pred):\n",
        "  le = LabelEncoder()\n",
        "  y1=le.fit_transform(y_test.copy())\n",
        "  y2=le.fit_transform(y_pred.copy())\n",
        "  return roc_auc_score(y1,y2) "
      ],
      "metadata": {
        "id": "0zJr-zBquRoO"
      },
      "execution_count": 288,
      "outputs": []
    },
    {
      "cell_type": "code",
      "source": [
        "\n",
        "def class_model(dfc, model, target='gender', encode = ['class'], drop = []):\n",
        "  print(model)\n",
        "  df=dfc.copy()\n",
        "  df = df.reset_index()\n",
        "  #df = pd.get_dummies(dfc, columns=encode)\n",
        "\n",
        "  X = df.drop([target]+['gender'], axis=1)\n",
        "  y = df[target]\n",
        "  X_train, X_test, y_train, y_test = train_test_split(X, y, test_size=0.2, stratify=y, random_state=42)\n",
        "\n",
        "  pipe = make_pipeline(StandardScaler(), Normalizer(), model)\n",
        "  pipe.fit(X_train, y_train)\n",
        "\n",
        "  # Make predictions on the test set\n",
        "  y_pred = pipe.predict(X_test)\n",
        "\n",
        "  accuracy = accuracy_score(y_test, y_pred)\n",
        "  precision = precision_score(y_test, y_pred, average='micro')\n",
        "  recall = recall_score(y_test, y_pred, average = 'micro')\n",
        "  f1 = f1_score(y_test, y_pred, average = 'micro')\n",
        "  #roc_auc = rocauc(y_test, y_pred)\n",
        "  \n",
        "  print('Accuracy:', round(accuracy,4))\n",
        "  print('Precision:', round(precision,4))\n",
        "  print('Recall:', round(recall,4))\n",
        "  print('F1:', round(f1,4))\n",
        "  print()#'ROC_AUC:', roc_auc)\n",
        "\n",
        "class_model(dfc, LogisticRegression(), 'class', ['gender'])"
      ],
      "metadata": {
        "id": "dgvhCM7HKDWu",
        "colab": {
          "base_uri": "https://localhost:8080/"
        },
        "outputId": "d812e4dc-e955-4346-ef97-905f84edf9ec"
      },
      "execution_count": 292,
      "outputs": [
        {
          "output_type": "stream",
          "name": "stdout",
          "text": [
            "LogisticRegression()\n",
            "Accuracy: 0.5961\n",
            "Precision: 0.5961\n",
            "Recall: 0.5961\n",
            "F1: 0.5961\n"
          ]
        }
      ]
    },
    {
      "cell_type": "code",
      "source": [
        "dropme = get_all_combs([x for x in df.columns if x not in cat_cols])\n",
        "for drop in dropme:\n",
        "  class_model(dfc, LogisticRegression(), 'class', ['gender'], drop)"
      ],
      "metadata": {
        "id": "mb2_B3ijrMJR"
      },
      "execution_count": null,
      "outputs": []
    }
  ]
}