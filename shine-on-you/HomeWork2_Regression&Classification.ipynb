{
  "nbformat": 4,
  "nbformat_minor": 0,
  "metadata": {
    "colab": {
      "provenance": [],
      "include_colab_link": true
    },
    "kernelspec": {
      "name": "python3",
      "display_name": "Python 3"
    },
    "language_info": {
      "name": "python"
    }
  },
  "cells": [
    {
      "cell_type": "markdown",
      "metadata": {
        "id": "view-in-github",
        "colab_type": "text"
      },
      "source": [
        "<a href=\"https://colab.research.google.com/github/Dimildizio/DS_course/blob/main/shine-on-you/HomeWork2_Regression%26Classification.ipynb\" target=\"_parent\"><img src=\"https://colab.research.google.com/assets/colab-badge.svg\" alt=\"Open In Colab\"/></a>"
      ]
    },
    {
      "cell_type": "markdown",
      "source": [
        "# Домашняя работа 2"
      ],
      "metadata": {
        "id": "jyJswrIfpbmA"
      }
    },
    {
      "cell_type": "markdown",
      "source": [
        "## Регрессия"
      ],
      "metadata": {
        "id": "r_lVVaJl2Ncb"
      }
    },
    {
      "cell_type": "markdown",
      "source": [
        "С 1-ого октября отменяется НДС на бриллианты, теперь они становятся новым инвестиционным инструментом. Давайте сделаем модель ценообразования для них.\n",
        "\n",
        "Скачайте датасет diamonds.csv\n",
        "\n",
        "В нем представлены характеристики бриллиантов и их цены с сайта jamesallen (B2C площадка) с 2022-07-01\n",
        "\n",
        "**Описание полей**\n",
        "\n",
        "\n",
        "* fluor - флуорисценция (свойство камня светиться в ультрафиолетовых лучах)\n",
        "* symmetry - показатель симметричности\n",
        "* platform - название платформы, где был размещен камень\n",
        "* quality_group - составной показатель из cut polish symmetry\n",
        "* size_group - каратно весовая группа\n",
        "* big_size_group - каратно-весовая группа\n",
        "* shape - форма\n",
        "* color - цвет\n",
        "* clarity - чистота\n",
        "* cut - качество огранки (может быть только у круглых камней)\n",
        "* polish - полировка\n",
        "* id - номер камня\n",
        "* date - дата\n",
        "* price - цена\n",
        "* carat - кол-во карат\n",
        "* tablepercent - размер площадки по отношению ширине\n",
        "* price_per_carat - цена за карат\n",
        "* z - длина (diameter)\n",
        "* x - ширина\n",
        "* depth_perc - отношение высоты к ширине\n",
        "* y - высота\n",
        "\n"
      ],
      "metadata": {
        "id": "3pECYqXD2VjG"
      }
    },
    {
      "cell_type": "code",
      "source": [
        "!pip install category_encoders"
      ],
      "metadata": {
        "id": "hnFuRqn_htFw",
        "outputId": "f0a79e6a-9d7b-4eaa-d5c0-b300592fd7ed",
        "colab": {
          "base_uri": "https://localhost:8080/"
        }
      },
      "execution_count": 1,
      "outputs": [
        {
          "output_type": "stream",
          "name": "stdout",
          "text": [
            "Looking in indexes: https://pypi.org/simple, https://us-python.pkg.dev/colab-wheels/public/simple/\n",
            "Requirement already satisfied: category_encoders in /usr/local/lib/python3.9/dist-packages (2.6.0)\n",
            "Requirement already satisfied: pandas>=1.0.5 in /usr/local/lib/python3.9/dist-packages (from category_encoders) (1.4.4)\n",
            "Requirement already satisfied: patsy>=0.5.1 in /usr/local/lib/python3.9/dist-packages (from category_encoders) (0.5.3)\n",
            "Requirement already satisfied: statsmodels>=0.9.0 in /usr/local/lib/python3.9/dist-packages (from category_encoders) (0.13.5)\n",
            "Requirement already satisfied: scikit-learn>=0.20.0 in /usr/local/lib/python3.9/dist-packages (from category_encoders) (1.2.2)\n",
            "Requirement already satisfied: numpy>=1.14.0 in /usr/local/lib/python3.9/dist-packages (from category_encoders) (1.22.4)\n",
            "Requirement already satisfied: scipy>=1.0.0 in /usr/local/lib/python3.9/dist-packages (from category_encoders) (1.10.1)\n",
            "Requirement already satisfied: pytz>=2020.1 in /usr/local/lib/python3.9/dist-packages (from pandas>=1.0.5->category_encoders) (2022.7.1)\n",
            "Requirement already satisfied: python-dateutil>=2.8.1 in /usr/local/lib/python3.9/dist-packages (from pandas>=1.0.5->category_encoders) (2.8.2)\n",
            "Requirement already satisfied: six in /usr/local/lib/python3.9/dist-packages (from patsy>=0.5.1->category_encoders) (1.16.0)\n",
            "Requirement already satisfied: joblib>=1.1.1 in /usr/local/lib/python3.9/dist-packages (from scikit-learn>=0.20.0->category_encoders) (1.1.1)\n",
            "Requirement already satisfied: threadpoolctl>=2.0.0 in /usr/local/lib/python3.9/dist-packages (from scikit-learn>=0.20.0->category_encoders) (3.1.0)\n",
            "Requirement already satisfied: packaging>=21.3 in /usr/local/lib/python3.9/dist-packages (from statsmodels>=0.9.0->category_encoders) (23.0)\n"
          ]
        }
      ]
    },
    {
      "cell_type": "code",
      "source": [
        "import pandas as pd\n",
        "import numpy as np\n",
        "import matplotlib.pyplot as plt\n",
        "import seaborn as sns\n",
        "\n",
        "from category_encoders import TargetEncoder\n",
        "#from sklearn.compose import make_column_transformer\n",
        "from sklearn.linear_model import LinearRegression\n",
        "from sklearn.metrics import mean_squared_error, mean_absolute_error, r2_score\n",
        "from sklearn.model_selection import train_test_split\n",
        "from sklearn.neighbors import KNeighborsRegressor\n",
        "from sklearn.preprocessing import OneHotEncoder\n",
        "from sklearn.preprocessing import StandardScaler\n",
        "from sklearn.preprocessing import LabelEncoder"
      ],
      "metadata": {
        "id": "iOnp-6t565z8"
      },
      "execution_count": 2,
      "outputs": []
    },
    {
      "cell_type": "code",
      "source": [
        "#from google.colab import drive\n",
        "#drive.mount('/content/drive')\n",
        "#path = 'drive/MyDrive/'"
      ],
      "metadata": {
        "id": "C4f2-y_7bfv8"
      },
      "execution_count": 3,
      "outputs": []
    },
    {
      "cell_type": "code",
      "source": [
        "df = pd.read_csv('https://raw.githubusercontent.com/Dimildizio/DS_course/main/shine-on-you/diamonds.csv', index_col=0)\n",
        "df.shape"
      ],
      "metadata": {
        "id": "iG7MP6VZ2UZN",
        "outputId": "f19128d8-bdab-44b6-ae37-aeb781d79cb3",
        "colab": {
          "base_uri": "https://localhost:8080/"
        }
      },
      "execution_count": 4,
      "outputs": [
        {
          "output_type": "execute_result",
          "data": {
            "text/plain": [
              "(222222, 17)"
            ]
          },
          "metadata": {},
          "execution_count": 4
        }
      ]
    },
    {
      "cell_type": "markdown",
      "source": [
        "## EDA"
      ],
      "metadata": {
        "id": "wrqej3AkQxLg"
      }
    },
    {
      "cell_type": "code",
      "source": [
        "df[df['date']==0]"
      ],
      "metadata": {
        "id": "X-0nb5pUcv9m",
        "outputId": "9cdbfc04-c056-49fe-c87a-99495465cf76",
        "colab": {
          "base_uri": "https://localhost:8080/",
          "height": 175
        }
      },
      "execution_count": 5,
      "outputs": [
        {
          "output_type": "execute_result",
          "data": {
            "text/plain": [
              "       fluor symmetry platform shape color clarity  cut polish  id  date  \\\n",
              "202754   NaN      NaN      NaN   NaN   NaN     NaN  NaN    NaN   0     0   \n",
              "244620   NaN      NaN      NaN   NaN   NaN     NaN  NaN    NaN   0     0   \n",
              "53946    NaN      NaN      NaN   NaN   NaN     NaN  NaN    NaN   0     0   \n",
              "53948    NaN      NaN      NaN   NaN   NaN     NaN  NaN    NaN   0     0   \n",
              "\n",
              "        price  carat  price_per_carat    z    x  depth_perc    y  \n",
              "202754    0.0    0.0              0.0  0.0  0.0         0.0  0.0  \n",
              "244620    0.0    0.0              0.0  0.0  0.0         0.0  0.0  \n",
              "53946     0.0    0.0              0.0  0.0  0.0         0.0  0.0  \n",
              "53948     0.0    0.0              0.0  0.0  0.0         0.0  0.0  "
            ],
            "text/html": [
              "\n",
              "  <div id=\"df-94dc8005-08bd-43dd-b7a7-7cf4c3f9dcd3\">\n",
              "    <div class=\"colab-df-container\">\n",
              "      <div>\n",
              "<style scoped>\n",
              "    .dataframe tbody tr th:only-of-type {\n",
              "        vertical-align: middle;\n",
              "    }\n",
              "\n",
              "    .dataframe tbody tr th {\n",
              "        vertical-align: top;\n",
              "    }\n",
              "\n",
              "    .dataframe thead th {\n",
              "        text-align: right;\n",
              "    }\n",
              "</style>\n",
              "<table border=\"1\" class=\"dataframe\">\n",
              "  <thead>\n",
              "    <tr style=\"text-align: right;\">\n",
              "      <th></th>\n",
              "      <th>fluor</th>\n",
              "      <th>symmetry</th>\n",
              "      <th>platform</th>\n",
              "      <th>shape</th>\n",
              "      <th>color</th>\n",
              "      <th>clarity</th>\n",
              "      <th>cut</th>\n",
              "      <th>polish</th>\n",
              "      <th>id</th>\n",
              "      <th>date</th>\n",
              "      <th>price</th>\n",
              "      <th>carat</th>\n",
              "      <th>price_per_carat</th>\n",
              "      <th>z</th>\n",
              "      <th>x</th>\n",
              "      <th>depth_perc</th>\n",
              "      <th>y</th>\n",
              "    </tr>\n",
              "  </thead>\n",
              "  <tbody>\n",
              "    <tr>\n",
              "      <th>202754</th>\n",
              "      <td>NaN</td>\n",
              "      <td>NaN</td>\n",
              "      <td>NaN</td>\n",
              "      <td>NaN</td>\n",
              "      <td>NaN</td>\n",
              "      <td>NaN</td>\n",
              "      <td>NaN</td>\n",
              "      <td>NaN</td>\n",
              "      <td>0</td>\n",
              "      <td>0</td>\n",
              "      <td>0.0</td>\n",
              "      <td>0.0</td>\n",
              "      <td>0.0</td>\n",
              "      <td>0.0</td>\n",
              "      <td>0.0</td>\n",
              "      <td>0.0</td>\n",
              "      <td>0.0</td>\n",
              "    </tr>\n",
              "    <tr>\n",
              "      <th>244620</th>\n",
              "      <td>NaN</td>\n",
              "      <td>NaN</td>\n",
              "      <td>NaN</td>\n",
              "      <td>NaN</td>\n",
              "      <td>NaN</td>\n",
              "      <td>NaN</td>\n",
              "      <td>NaN</td>\n",
              "      <td>NaN</td>\n",
              "      <td>0</td>\n",
              "      <td>0</td>\n",
              "      <td>0.0</td>\n",
              "      <td>0.0</td>\n",
              "      <td>0.0</td>\n",
              "      <td>0.0</td>\n",
              "      <td>0.0</td>\n",
              "      <td>0.0</td>\n",
              "      <td>0.0</td>\n",
              "    </tr>\n",
              "    <tr>\n",
              "      <th>53946</th>\n",
              "      <td>NaN</td>\n",
              "      <td>NaN</td>\n",
              "      <td>NaN</td>\n",
              "      <td>NaN</td>\n",
              "      <td>NaN</td>\n",
              "      <td>NaN</td>\n",
              "      <td>NaN</td>\n",
              "      <td>NaN</td>\n",
              "      <td>0</td>\n",
              "      <td>0</td>\n",
              "      <td>0.0</td>\n",
              "      <td>0.0</td>\n",
              "      <td>0.0</td>\n",
              "      <td>0.0</td>\n",
              "      <td>0.0</td>\n",
              "      <td>0.0</td>\n",
              "      <td>0.0</td>\n",
              "    </tr>\n",
              "    <tr>\n",
              "      <th>53948</th>\n",
              "      <td>NaN</td>\n",
              "      <td>NaN</td>\n",
              "      <td>NaN</td>\n",
              "      <td>NaN</td>\n",
              "      <td>NaN</td>\n",
              "      <td>NaN</td>\n",
              "      <td>NaN</td>\n",
              "      <td>NaN</td>\n",
              "      <td>0</td>\n",
              "      <td>0</td>\n",
              "      <td>0.0</td>\n",
              "      <td>0.0</td>\n",
              "      <td>0.0</td>\n",
              "      <td>0.0</td>\n",
              "      <td>0.0</td>\n",
              "      <td>0.0</td>\n",
              "      <td>0.0</td>\n",
              "    </tr>\n",
              "  </tbody>\n",
              "</table>\n",
              "</div>\n",
              "      <button class=\"colab-df-convert\" onclick=\"convertToInteractive('df-94dc8005-08bd-43dd-b7a7-7cf4c3f9dcd3')\"\n",
              "              title=\"Convert this dataframe to an interactive table.\"\n",
              "              style=\"display:none;\">\n",
              "        \n",
              "  <svg xmlns=\"http://www.w3.org/2000/svg\" height=\"24px\"viewBox=\"0 0 24 24\"\n",
              "       width=\"24px\">\n",
              "    <path d=\"M0 0h24v24H0V0z\" fill=\"none\"/>\n",
              "    <path d=\"M18.56 5.44l.94 2.06.94-2.06 2.06-.94-2.06-.94-.94-2.06-.94 2.06-2.06.94zm-11 1L8.5 8.5l.94-2.06 2.06-.94-2.06-.94L8.5 2.5l-.94 2.06-2.06.94zm10 10l.94 2.06.94-2.06 2.06-.94-2.06-.94-.94-2.06-.94 2.06-2.06.94z\"/><path d=\"M17.41 7.96l-1.37-1.37c-.4-.4-.92-.59-1.43-.59-.52 0-1.04.2-1.43.59L10.3 9.45l-7.72 7.72c-.78.78-.78 2.05 0 2.83L4 21.41c.39.39.9.59 1.41.59.51 0 1.02-.2 1.41-.59l7.78-7.78 2.81-2.81c.8-.78.8-2.07 0-2.86zM5.41 20L4 18.59l7.72-7.72 1.47 1.35L5.41 20z\"/>\n",
              "  </svg>\n",
              "      </button>\n",
              "      \n",
              "  <style>\n",
              "    .colab-df-container {\n",
              "      display:flex;\n",
              "      flex-wrap:wrap;\n",
              "      gap: 12px;\n",
              "    }\n",
              "\n",
              "    .colab-df-convert {\n",
              "      background-color: #E8F0FE;\n",
              "      border: none;\n",
              "      border-radius: 50%;\n",
              "      cursor: pointer;\n",
              "      display: none;\n",
              "      fill: #1967D2;\n",
              "      height: 32px;\n",
              "      padding: 0 0 0 0;\n",
              "      width: 32px;\n",
              "    }\n",
              "\n",
              "    .colab-df-convert:hover {\n",
              "      background-color: #E2EBFA;\n",
              "      box-shadow: 0px 1px 2px rgba(60, 64, 67, 0.3), 0px 1px 3px 1px rgba(60, 64, 67, 0.15);\n",
              "      fill: #174EA6;\n",
              "    }\n",
              "\n",
              "    [theme=dark] .colab-df-convert {\n",
              "      background-color: #3B4455;\n",
              "      fill: #D2E3FC;\n",
              "    }\n",
              "\n",
              "    [theme=dark] .colab-df-convert:hover {\n",
              "      background-color: #434B5C;\n",
              "      box-shadow: 0px 1px 3px 1px rgba(0, 0, 0, 0.15);\n",
              "      filter: drop-shadow(0px 1px 2px rgba(0, 0, 0, 0.3));\n",
              "      fill: #FFFFFF;\n",
              "    }\n",
              "  </style>\n",
              "\n",
              "      <script>\n",
              "        const buttonEl =\n",
              "          document.querySelector('#df-94dc8005-08bd-43dd-b7a7-7cf4c3f9dcd3 button.colab-df-convert');\n",
              "        buttonEl.style.display =\n",
              "          google.colab.kernel.accessAllowed ? 'block' : 'none';\n",
              "\n",
              "        async function convertToInteractive(key) {\n",
              "          const element = document.querySelector('#df-94dc8005-08bd-43dd-b7a7-7cf4c3f9dcd3');\n",
              "          const dataTable =\n",
              "            await google.colab.kernel.invokeFunction('convertToInteractive',\n",
              "                                                     [key], {});\n",
              "          if (!dataTable) return;\n",
              "\n",
              "          const docLinkHtml = 'Like what you see? Visit the ' +\n",
              "            '<a target=\"_blank\" href=https://colab.research.google.com/notebooks/data_table.ipynb>data table notebook</a>'\n",
              "            + ' to learn more about interactive tables.';\n",
              "          element.innerHTML = '';\n",
              "          dataTable['output_type'] = 'display_data';\n",
              "          await google.colab.output.renderOutput(dataTable, element);\n",
              "          const docLink = document.createElement('div');\n",
              "          docLink.innerHTML = docLinkHtml;\n",
              "          element.appendChild(docLink);\n",
              "        }\n",
              "      </script>\n",
              "    </div>\n",
              "  </div>\n",
              "  "
            ]
          },
          "metadata": {},
          "execution_count": 5
        }
      ]
    },
    {
      "cell_type": "code",
      "source": [
        "#print('number of duplicates:',df.duplicated(keep=False).sum() - df.shape[0])\n",
        "#Удалим пусте значения (у них айди 0)\n",
        "df1=df.copy()\n",
        "df1=df1.drop(df1[df1.id == 0].index)\n",
        "#поскольку у нас только одна платформа, нам этот параметр не нужен\n",
        "df1=df1.drop('platform', axis = 1)\n",
        "#заменим пустые значения в fluor для one-hot encoding. симметрия No\n",
        "df1['fluor'].fillna('NONE', inplace=True)\n",
        "#Удалим камни без огранки\n",
        "df1.dropna(subset = ['cut'], inplace=True)\n",
        "#Удалим полные дубли\n",
        "df1 = df1.drop_duplicates()"
      ],
      "metadata": {
        "id": "XC1pKqANUcJe"
      },
      "execution_count": 6,
      "outputs": []
    },
    {
      "cell_type": "code",
      "source": [
        "#Для ускорения манипуляций с датасетом переведем все в более \"легкие\" типы данных\n",
        "for col in ['fluor', 'symmetry','shape', 'clarity', 'color', 'cut','polish']:\n",
        "  df1[col] = df1[col].astype('category')\n",
        "for col in ['id','date']:\n",
        "  df1[col] = df1[col].astype('int32')\n",
        "for col in ['price', 'carat','price_per_carat', 'z', 'x', 'y', 'depth_perc']:\n",
        "  df1[col] = df1[col].astype('float32')"
      ],
      "metadata": {
        "id": "lBWfjSJUfFK8",
        "outputId": "e9801fbe-5d92-4d57-fc38-bd62cd50f954",
        "colab": {
          "base_uri": "https://localhost:8080/"
        }
      },
      "execution_count": 7,
      "outputs": [
        {
          "output_type": "stream",
          "name": "stderr",
          "text": [
            "<ipython-input-7-4d3919848ed3>:3: SettingWithCopyWarning: \n",
            "A value is trying to be set on a copy of a slice from a DataFrame.\n",
            "Try using .loc[row_indexer,col_indexer] = value instead\n",
            "\n",
            "See the caveats in the documentation: https://pandas.pydata.org/pandas-docs/stable/user_guide/indexing.html#returning-a-view-versus-a-copy\n",
            "  df1[col] = df1[col].astype('category')\n",
            "<ipython-input-7-4d3919848ed3>:3: SettingWithCopyWarning: \n",
            "A value is trying to be set on a copy of a slice from a DataFrame.\n",
            "Try using .loc[row_indexer,col_indexer] = value instead\n",
            "\n",
            "See the caveats in the documentation: https://pandas.pydata.org/pandas-docs/stable/user_guide/indexing.html#returning-a-view-versus-a-copy\n",
            "  df1[col] = df1[col].astype('category')\n",
            "<ipython-input-7-4d3919848ed3>:3: SettingWithCopyWarning: \n",
            "A value is trying to be set on a copy of a slice from a DataFrame.\n",
            "Try using .loc[row_indexer,col_indexer] = value instead\n",
            "\n",
            "See the caveats in the documentation: https://pandas.pydata.org/pandas-docs/stable/user_guide/indexing.html#returning-a-view-versus-a-copy\n",
            "  df1[col] = df1[col].astype('category')\n",
            "<ipython-input-7-4d3919848ed3>:3: SettingWithCopyWarning: \n",
            "A value is trying to be set on a copy of a slice from a DataFrame.\n",
            "Try using .loc[row_indexer,col_indexer] = value instead\n",
            "\n",
            "See the caveats in the documentation: https://pandas.pydata.org/pandas-docs/stable/user_guide/indexing.html#returning-a-view-versus-a-copy\n",
            "  df1[col] = df1[col].astype('category')\n",
            "<ipython-input-7-4d3919848ed3>:3: SettingWithCopyWarning: \n",
            "A value is trying to be set on a copy of a slice from a DataFrame.\n",
            "Try using .loc[row_indexer,col_indexer] = value instead\n",
            "\n",
            "See the caveats in the documentation: https://pandas.pydata.org/pandas-docs/stable/user_guide/indexing.html#returning-a-view-versus-a-copy\n",
            "  df1[col] = df1[col].astype('category')\n",
            "<ipython-input-7-4d3919848ed3>:3: SettingWithCopyWarning: \n",
            "A value is trying to be set on a copy of a slice from a DataFrame.\n",
            "Try using .loc[row_indexer,col_indexer] = value instead\n",
            "\n",
            "See the caveats in the documentation: https://pandas.pydata.org/pandas-docs/stable/user_guide/indexing.html#returning-a-view-versus-a-copy\n",
            "  df1[col] = df1[col].astype('category')\n",
            "<ipython-input-7-4d3919848ed3>:3: SettingWithCopyWarning: \n",
            "A value is trying to be set on a copy of a slice from a DataFrame.\n",
            "Try using .loc[row_indexer,col_indexer] = value instead\n",
            "\n",
            "See the caveats in the documentation: https://pandas.pydata.org/pandas-docs/stable/user_guide/indexing.html#returning-a-view-versus-a-copy\n",
            "  df1[col] = df1[col].astype('category')\n",
            "<ipython-input-7-4d3919848ed3>:5: SettingWithCopyWarning: \n",
            "A value is trying to be set on a copy of a slice from a DataFrame.\n",
            "Try using .loc[row_indexer,col_indexer] = value instead\n",
            "\n",
            "See the caveats in the documentation: https://pandas.pydata.org/pandas-docs/stable/user_guide/indexing.html#returning-a-view-versus-a-copy\n",
            "  df1[col] = df1[col].astype('int32')\n",
            "<ipython-input-7-4d3919848ed3>:7: SettingWithCopyWarning: \n",
            "A value is trying to be set on a copy of a slice from a DataFrame.\n",
            "Try using .loc[row_indexer,col_indexer] = value instead\n",
            "\n",
            "See the caveats in the documentation: https://pandas.pydata.org/pandas-docs/stable/user_guide/indexing.html#returning-a-view-versus-a-copy\n",
            "  df1[col] = df1[col].astype('float32')\n"
          ]
        }
      ]
    },
    {
      "cell_type": "code",
      "source": [
        "df1.describe().apply(lambda x: round(x,2))"
      ],
      "metadata": {
        "colab": {
          "base_uri": "https://localhost:8080/",
          "height": 300
        },
        "id": "_aeCOtR2CgpX",
        "outputId": "9ee64efd-796f-463d-92d7-44548567ba2c"
      },
      "execution_count": 8,
      "outputs": [
        {
          "output_type": "execute_result",
          "data": {
            "text/plain": [
              "                id       date       price      carat  price_per_carat  \\\n",
              "count    147594.00  147594.00   147594.00  147594.00        147594.00   \n",
              "mean   13649272.44  202206.03    11771.74       1.31          7492.82   \n",
              "std     2499814.34       0.82    24978.34       0.66          5388.50   \n",
              "min       19423.00  202205.00      920.00       0.81          1135.80   \n",
              "25%    13660021.00  202205.00     4690.00       1.00          4577.78   \n",
              "50%    14412989.00  202206.00     7180.00       1.01          6430.00   \n",
              "75%    14838204.75  202207.00    11720.00       1.50          9150.00   \n",
              "max    15418506.00  202207.00  2380380.00      21.17        955000.00   \n",
              "\n",
              "               z          x  depth_perc          y  \n",
              "count  147594.00  147594.00   147594.00  147594.00  \n",
              "mean        6.68       6.65       63.98       4.24  \n",
              "std         0.91       0.93        4.03       0.53  \n",
              "min         4.84       4.52       56.00       2.84  \n",
              "25%         6.21       6.25       61.90       3.93  \n",
              "50%         6.40       6.43       62.70       4.02  \n",
              "75%         7.05       6.96       64.40       4.50  \n",
              "max        17.96      18.05       78.00      10.74  "
            ],
            "text/html": [
              "\n",
              "  <div id=\"df-4efda549-bee4-4f33-97c3-16424398e3f3\">\n",
              "    <div class=\"colab-df-container\">\n",
              "      <div>\n",
              "<style scoped>\n",
              "    .dataframe tbody tr th:only-of-type {\n",
              "        vertical-align: middle;\n",
              "    }\n",
              "\n",
              "    .dataframe tbody tr th {\n",
              "        vertical-align: top;\n",
              "    }\n",
              "\n",
              "    .dataframe thead th {\n",
              "        text-align: right;\n",
              "    }\n",
              "</style>\n",
              "<table border=\"1\" class=\"dataframe\">\n",
              "  <thead>\n",
              "    <tr style=\"text-align: right;\">\n",
              "      <th></th>\n",
              "      <th>id</th>\n",
              "      <th>date</th>\n",
              "      <th>price</th>\n",
              "      <th>carat</th>\n",
              "      <th>price_per_carat</th>\n",
              "      <th>z</th>\n",
              "      <th>x</th>\n",
              "      <th>depth_perc</th>\n",
              "      <th>y</th>\n",
              "    </tr>\n",
              "  </thead>\n",
              "  <tbody>\n",
              "    <tr>\n",
              "      <th>count</th>\n",
              "      <td>147594.00</td>\n",
              "      <td>147594.00</td>\n",
              "      <td>147594.00</td>\n",
              "      <td>147594.00</td>\n",
              "      <td>147594.00</td>\n",
              "      <td>147594.00</td>\n",
              "      <td>147594.00</td>\n",
              "      <td>147594.00</td>\n",
              "      <td>147594.00</td>\n",
              "    </tr>\n",
              "    <tr>\n",
              "      <th>mean</th>\n",
              "      <td>13649272.44</td>\n",
              "      <td>202206.03</td>\n",
              "      <td>11771.74</td>\n",
              "      <td>1.31</td>\n",
              "      <td>7492.82</td>\n",
              "      <td>6.68</td>\n",
              "      <td>6.65</td>\n",
              "      <td>63.98</td>\n",
              "      <td>4.24</td>\n",
              "    </tr>\n",
              "    <tr>\n",
              "      <th>std</th>\n",
              "      <td>2499814.34</td>\n",
              "      <td>0.82</td>\n",
              "      <td>24978.34</td>\n",
              "      <td>0.66</td>\n",
              "      <td>5388.50</td>\n",
              "      <td>0.91</td>\n",
              "      <td>0.93</td>\n",
              "      <td>4.03</td>\n",
              "      <td>0.53</td>\n",
              "    </tr>\n",
              "    <tr>\n",
              "      <th>min</th>\n",
              "      <td>19423.00</td>\n",
              "      <td>202205.00</td>\n",
              "      <td>920.00</td>\n",
              "      <td>0.81</td>\n",
              "      <td>1135.80</td>\n",
              "      <td>4.84</td>\n",
              "      <td>4.52</td>\n",
              "      <td>56.00</td>\n",
              "      <td>2.84</td>\n",
              "    </tr>\n",
              "    <tr>\n",
              "      <th>25%</th>\n",
              "      <td>13660021.00</td>\n",
              "      <td>202205.00</td>\n",
              "      <td>4690.00</td>\n",
              "      <td>1.00</td>\n",
              "      <td>4577.78</td>\n",
              "      <td>6.21</td>\n",
              "      <td>6.25</td>\n",
              "      <td>61.90</td>\n",
              "      <td>3.93</td>\n",
              "    </tr>\n",
              "    <tr>\n",
              "      <th>50%</th>\n",
              "      <td>14412989.00</td>\n",
              "      <td>202206.00</td>\n",
              "      <td>7180.00</td>\n",
              "      <td>1.01</td>\n",
              "      <td>6430.00</td>\n",
              "      <td>6.40</td>\n",
              "      <td>6.43</td>\n",
              "      <td>62.70</td>\n",
              "      <td>4.02</td>\n",
              "    </tr>\n",
              "    <tr>\n",
              "      <th>75%</th>\n",
              "      <td>14838204.75</td>\n",
              "      <td>202207.00</td>\n",
              "      <td>11720.00</td>\n",
              "      <td>1.50</td>\n",
              "      <td>9150.00</td>\n",
              "      <td>7.05</td>\n",
              "      <td>6.96</td>\n",
              "      <td>64.40</td>\n",
              "      <td>4.50</td>\n",
              "    </tr>\n",
              "    <tr>\n",
              "      <th>max</th>\n",
              "      <td>15418506.00</td>\n",
              "      <td>202207.00</td>\n",
              "      <td>2380380.00</td>\n",
              "      <td>21.17</td>\n",
              "      <td>955000.00</td>\n",
              "      <td>17.96</td>\n",
              "      <td>18.05</td>\n",
              "      <td>78.00</td>\n",
              "      <td>10.74</td>\n",
              "    </tr>\n",
              "  </tbody>\n",
              "</table>\n",
              "</div>\n",
              "      <button class=\"colab-df-convert\" onclick=\"convertToInteractive('df-4efda549-bee4-4f33-97c3-16424398e3f3')\"\n",
              "              title=\"Convert this dataframe to an interactive table.\"\n",
              "              style=\"display:none;\">\n",
              "        \n",
              "  <svg xmlns=\"http://www.w3.org/2000/svg\" height=\"24px\"viewBox=\"0 0 24 24\"\n",
              "       width=\"24px\">\n",
              "    <path d=\"M0 0h24v24H0V0z\" fill=\"none\"/>\n",
              "    <path d=\"M18.56 5.44l.94 2.06.94-2.06 2.06-.94-2.06-.94-.94-2.06-.94 2.06-2.06.94zm-11 1L8.5 8.5l.94-2.06 2.06-.94-2.06-.94L8.5 2.5l-.94 2.06-2.06.94zm10 10l.94 2.06.94-2.06 2.06-.94-2.06-.94-.94-2.06-.94 2.06-2.06.94z\"/><path d=\"M17.41 7.96l-1.37-1.37c-.4-.4-.92-.59-1.43-.59-.52 0-1.04.2-1.43.59L10.3 9.45l-7.72 7.72c-.78.78-.78 2.05 0 2.83L4 21.41c.39.39.9.59 1.41.59.51 0 1.02-.2 1.41-.59l7.78-7.78 2.81-2.81c.8-.78.8-2.07 0-2.86zM5.41 20L4 18.59l7.72-7.72 1.47 1.35L5.41 20z\"/>\n",
              "  </svg>\n",
              "      </button>\n",
              "      \n",
              "  <style>\n",
              "    .colab-df-container {\n",
              "      display:flex;\n",
              "      flex-wrap:wrap;\n",
              "      gap: 12px;\n",
              "    }\n",
              "\n",
              "    .colab-df-convert {\n",
              "      background-color: #E8F0FE;\n",
              "      border: none;\n",
              "      border-radius: 50%;\n",
              "      cursor: pointer;\n",
              "      display: none;\n",
              "      fill: #1967D2;\n",
              "      height: 32px;\n",
              "      padding: 0 0 0 0;\n",
              "      width: 32px;\n",
              "    }\n",
              "\n",
              "    .colab-df-convert:hover {\n",
              "      background-color: #E2EBFA;\n",
              "      box-shadow: 0px 1px 2px rgba(60, 64, 67, 0.3), 0px 1px 3px 1px rgba(60, 64, 67, 0.15);\n",
              "      fill: #174EA6;\n",
              "    }\n",
              "\n",
              "    [theme=dark] .colab-df-convert {\n",
              "      background-color: #3B4455;\n",
              "      fill: #D2E3FC;\n",
              "    }\n",
              "\n",
              "    [theme=dark] .colab-df-convert:hover {\n",
              "      background-color: #434B5C;\n",
              "      box-shadow: 0px 1px 3px 1px rgba(0, 0, 0, 0.15);\n",
              "      filter: drop-shadow(0px 1px 2px rgba(0, 0, 0, 0.3));\n",
              "      fill: #FFFFFF;\n",
              "    }\n",
              "  </style>\n",
              "\n",
              "      <script>\n",
              "        const buttonEl =\n",
              "          document.querySelector('#df-4efda549-bee4-4f33-97c3-16424398e3f3 button.colab-df-convert');\n",
              "        buttonEl.style.display =\n",
              "          google.colab.kernel.accessAllowed ? 'block' : 'none';\n",
              "\n",
              "        async function convertToInteractive(key) {\n",
              "          const element = document.querySelector('#df-4efda549-bee4-4f33-97c3-16424398e3f3');\n",
              "          const dataTable =\n",
              "            await google.colab.kernel.invokeFunction('convertToInteractive',\n",
              "                                                     [key], {});\n",
              "          if (!dataTable) return;\n",
              "\n",
              "          const docLinkHtml = 'Like what you see? Visit the ' +\n",
              "            '<a target=\"_blank\" href=https://colab.research.google.com/notebooks/data_table.ipynb>data table notebook</a>'\n",
              "            + ' to learn more about interactive tables.';\n",
              "          element.innerHTML = '';\n",
              "          dataTable['output_type'] = 'display_data';\n",
              "          await google.colab.output.renderOutput(dataTable, element);\n",
              "          const docLink = document.createElement('div');\n",
              "          docLink.innerHTML = docLinkHtml;\n",
              "          element.appendChild(docLink);\n",
              "        }\n",
              "      </script>\n",
              "    </div>\n",
              "  </div>\n",
              "  "
            ]
          },
          "metadata": {},
          "execution_count": 8
        }
      ]
    },
    {
      "cell_type": "code",
      "source": [
        "#Сколько уникальных значений в столбцах\n",
        "for c in df1.columns:\n",
        "  print(f'{c}: {df1[c].nunique()}')"
      ],
      "metadata": {
        "id": "QgtZpEgGetIo",
        "outputId": "3a65c395-72d7-46b2-f686-b149bb0577af",
        "colab": {
          "base_uri": "https://localhost:8080/"
        }
      },
      "execution_count": 9,
      "outputs": [
        {
          "output_type": "stream",
          "name": "stdout",
          "text": [
            "fluor: 4\n",
            "symmetry: 4\n",
            "shape: 3\n",
            "color: 10\n",
            "clarity: 9\n",
            "cut: 3\n",
            "polish: 3\n",
            "id: 109587\n",
            "date: 3\n",
            "price: 7124\n",
            "carat: 561\n",
            "price_per_carat: 41705\n",
            "z: 799\n",
            "x: 806\n",
            "depth_perc: 218\n",
            "y: 22254\n"
          ]
        }
      ]
    },
    {
      "cell_type": "markdown",
      "source": [
        "Необходимо предсказать `price_per_carat`"
      ],
      "metadata": {
        "id": "PD8Sv2_ktIqx"
      }
    },
    {
      "cell_type": "markdown",
      "source": [
        "### Задание 1: Очистка\n",
        "\n",
        "Не все камни успевают продаться за один месяц, поэтому в таблице есть повторы. Объедините данные по одному камню: подумайте, как лучше это сделать, какую цену брать.\n",
        "\n",
        "**Попробуйте найти аномалии:** вдруг цена на некоторые камни сильно меняется (то есть продавец сам не знает, по какой цене их продавать). Также убедитесь, что остальные параметры камня не меняются."
      ],
      "metadata": {
        "id": "HEBGHQkD7DWw"
      }
    },
    {
      "cell_type": "code",
      "source": [
        "# разделите выборку на две части\n",
        "id_stat = df1.groupby(by='id')['id'].count().to_frame().rename({'id':'occurrence'},axis=1) #Посчитайте статистику по кол-ву камней\n",
        "\n",
        "one = id_stat[id_stat['occurrence'].isin([1])].index       # те камни, которые встречались один раз\n",
        "three = id_stat[id_stat['occurrence'].isin([2,3])].index   # те камни, которые встречались 2 или 3 раза"
      ],
      "metadata": {
        "id": "eAGtqjO_6cAV"
      },
      "execution_count": 10,
      "outputs": []
    },
    {
      "cell_type": "code",
      "source": [
        "num_more_than_three = df1.shape[0] - (df1[df1['id'].isin(one)].shape[0] + df1[df1['id'].isin(three)].shape[0])"
      ],
      "metadata": {
        "id": "XbnOUWXdIFHv"
      },
      "execution_count": 11,
      "outputs": []
    },
    {
      "cell_type": "code",
      "source": [
        "df_one = df1[df1['id'].isin(one)]\n",
        "df_three = df1[df1['id'].isin(three)]\n",
        "\n",
        "df_three"
      ],
      "metadata": {
        "colab": {
          "base_uri": "https://localhost:8080/",
          "height": 423
        },
        "id": "1JUIsm1kC-kz",
        "outputId": "1c2d2b0f-3aa9-41c3-eda7-3bb17f0ad385"
      },
      "execution_count": 12,
      "outputs": [
        {
          "output_type": "execute_result",
          "data": {
            "text/plain": [
              "       fluor symmetry shape color clarity cut polish        id    date  \\\n",
              "48477    MED       EX    RD     H    VVS2  EX     EX  11725253  202207   \n",
              "235781  NONE       EX    RD     E     VS2  EX     EX  14438434  202207   \n",
              "277744  NONE       VG    RD     F     VS1  VG     EX  14615276  202206   \n",
              "143407   FNT       EX    RD     J    VVS1  EX     EX  13945129  202205   \n",
              "10333   NONE       VG    RD     D     VS2  EX     VG   4666424  202207   \n",
              "...      ...      ...   ...   ...     ...  ..    ...       ...     ...   \n",
              "229133  NONE       EX    RD     I     SI2  EX     EX  14409793  202205   \n",
              "268649   FNT       VG    RD     K     VS1  VG     EX  14581367  202205   \n",
              "20595   NONE       EX    RD     D     VS2  EX     EX   7535786  202207   \n",
              "282754  NONE       EX    RD     D     VS2  EX     EX  14631732  202206   \n",
              "71237    STG       EX    RD     G     VS1  EX     EX  12699310  202207   \n",
              "\n",
              "          price  carat  price_per_carat     z     x  depth_perc        y  \n",
              "48477    7510.0   1.02      7362.750000  6.41  6.45   62.500000  4.03125  \n",
              "235781   8660.0   1.00      8660.000000  6.39  6.44   61.400002  3.95416  \n",
              "277744   8480.0   1.00      8480.000000  6.28  6.36   62.299999  3.96228  \n",
              "143407  12120.0   1.50      8080.000000  7.38  7.41   60.000000  4.44600  \n",
              "10333   19150.0   1.51     12682.120117  7.31  7.27   62.400002  4.53648  \n",
              "...         ...    ...              ...   ...   ...         ...      ...  \n",
              "229133   3330.0   0.90      3700.000000  6.13  6.18   62.000000  3.83160  \n",
              "268649   3840.0   1.01      3801.979980  6.27  6.33   63.000000  3.98790  \n",
              "20595    8700.0   0.97      8969.070312  6.36  6.32   62.200001  3.93104  \n",
              "282754   6650.0   0.90      7388.890137  6.13  6.18   61.700001  3.81306  \n",
              "71237    8220.0   1.09      7541.279785  6.55  6.60   62.000000  4.09200  \n",
              "\n",
              "[70832 rows x 16 columns]"
            ],
            "text/html": [
              "\n",
              "  <div id=\"df-586bf165-214e-45da-8f9e-7d88a273151c\">\n",
              "    <div class=\"colab-df-container\">\n",
              "      <div>\n",
              "<style scoped>\n",
              "    .dataframe tbody tr th:only-of-type {\n",
              "        vertical-align: middle;\n",
              "    }\n",
              "\n",
              "    .dataframe tbody tr th {\n",
              "        vertical-align: top;\n",
              "    }\n",
              "\n",
              "    .dataframe thead th {\n",
              "        text-align: right;\n",
              "    }\n",
              "</style>\n",
              "<table border=\"1\" class=\"dataframe\">\n",
              "  <thead>\n",
              "    <tr style=\"text-align: right;\">\n",
              "      <th></th>\n",
              "      <th>fluor</th>\n",
              "      <th>symmetry</th>\n",
              "      <th>shape</th>\n",
              "      <th>color</th>\n",
              "      <th>clarity</th>\n",
              "      <th>cut</th>\n",
              "      <th>polish</th>\n",
              "      <th>id</th>\n",
              "      <th>date</th>\n",
              "      <th>price</th>\n",
              "      <th>carat</th>\n",
              "      <th>price_per_carat</th>\n",
              "      <th>z</th>\n",
              "      <th>x</th>\n",
              "      <th>depth_perc</th>\n",
              "      <th>y</th>\n",
              "    </tr>\n",
              "  </thead>\n",
              "  <tbody>\n",
              "    <tr>\n",
              "      <th>48477</th>\n",
              "      <td>MED</td>\n",
              "      <td>EX</td>\n",
              "      <td>RD</td>\n",
              "      <td>H</td>\n",
              "      <td>VVS2</td>\n",
              "      <td>EX</td>\n",
              "      <td>EX</td>\n",
              "      <td>11725253</td>\n",
              "      <td>202207</td>\n",
              "      <td>7510.0</td>\n",
              "      <td>1.02</td>\n",
              "      <td>7362.750000</td>\n",
              "      <td>6.41</td>\n",
              "      <td>6.45</td>\n",
              "      <td>62.500000</td>\n",
              "      <td>4.03125</td>\n",
              "    </tr>\n",
              "    <tr>\n",
              "      <th>235781</th>\n",
              "      <td>NONE</td>\n",
              "      <td>EX</td>\n",
              "      <td>RD</td>\n",
              "      <td>E</td>\n",
              "      <td>VS2</td>\n",
              "      <td>EX</td>\n",
              "      <td>EX</td>\n",
              "      <td>14438434</td>\n",
              "      <td>202207</td>\n",
              "      <td>8660.0</td>\n",
              "      <td>1.00</td>\n",
              "      <td>8660.000000</td>\n",
              "      <td>6.39</td>\n",
              "      <td>6.44</td>\n",
              "      <td>61.400002</td>\n",
              "      <td>3.95416</td>\n",
              "    </tr>\n",
              "    <tr>\n",
              "      <th>277744</th>\n",
              "      <td>NONE</td>\n",
              "      <td>VG</td>\n",
              "      <td>RD</td>\n",
              "      <td>F</td>\n",
              "      <td>VS1</td>\n",
              "      <td>VG</td>\n",
              "      <td>EX</td>\n",
              "      <td>14615276</td>\n",
              "      <td>202206</td>\n",
              "      <td>8480.0</td>\n",
              "      <td>1.00</td>\n",
              "      <td>8480.000000</td>\n",
              "      <td>6.28</td>\n",
              "      <td>6.36</td>\n",
              "      <td>62.299999</td>\n",
              "      <td>3.96228</td>\n",
              "    </tr>\n",
              "    <tr>\n",
              "      <th>143407</th>\n",
              "      <td>FNT</td>\n",
              "      <td>EX</td>\n",
              "      <td>RD</td>\n",
              "      <td>J</td>\n",
              "      <td>VVS1</td>\n",
              "      <td>EX</td>\n",
              "      <td>EX</td>\n",
              "      <td>13945129</td>\n",
              "      <td>202205</td>\n",
              "      <td>12120.0</td>\n",
              "      <td>1.50</td>\n",
              "      <td>8080.000000</td>\n",
              "      <td>7.38</td>\n",
              "      <td>7.41</td>\n",
              "      <td>60.000000</td>\n",
              "      <td>4.44600</td>\n",
              "    </tr>\n",
              "    <tr>\n",
              "      <th>10333</th>\n",
              "      <td>NONE</td>\n",
              "      <td>VG</td>\n",
              "      <td>RD</td>\n",
              "      <td>D</td>\n",
              "      <td>VS2</td>\n",
              "      <td>EX</td>\n",
              "      <td>VG</td>\n",
              "      <td>4666424</td>\n",
              "      <td>202207</td>\n",
              "      <td>19150.0</td>\n",
              "      <td>1.51</td>\n",
              "      <td>12682.120117</td>\n",
              "      <td>7.31</td>\n",
              "      <td>7.27</td>\n",
              "      <td>62.400002</td>\n",
              "      <td>4.53648</td>\n",
              "    </tr>\n",
              "    <tr>\n",
              "      <th>...</th>\n",
              "      <td>...</td>\n",
              "      <td>...</td>\n",
              "      <td>...</td>\n",
              "      <td>...</td>\n",
              "      <td>...</td>\n",
              "      <td>...</td>\n",
              "      <td>...</td>\n",
              "      <td>...</td>\n",
              "      <td>...</td>\n",
              "      <td>...</td>\n",
              "      <td>...</td>\n",
              "      <td>...</td>\n",
              "      <td>...</td>\n",
              "      <td>...</td>\n",
              "      <td>...</td>\n",
              "      <td>...</td>\n",
              "    </tr>\n",
              "    <tr>\n",
              "      <th>229133</th>\n",
              "      <td>NONE</td>\n",
              "      <td>EX</td>\n",
              "      <td>RD</td>\n",
              "      <td>I</td>\n",
              "      <td>SI2</td>\n",
              "      <td>EX</td>\n",
              "      <td>EX</td>\n",
              "      <td>14409793</td>\n",
              "      <td>202205</td>\n",
              "      <td>3330.0</td>\n",
              "      <td>0.90</td>\n",
              "      <td>3700.000000</td>\n",
              "      <td>6.13</td>\n",
              "      <td>6.18</td>\n",
              "      <td>62.000000</td>\n",
              "      <td>3.83160</td>\n",
              "    </tr>\n",
              "    <tr>\n",
              "      <th>268649</th>\n",
              "      <td>FNT</td>\n",
              "      <td>VG</td>\n",
              "      <td>RD</td>\n",
              "      <td>K</td>\n",
              "      <td>VS1</td>\n",
              "      <td>VG</td>\n",
              "      <td>EX</td>\n",
              "      <td>14581367</td>\n",
              "      <td>202205</td>\n",
              "      <td>3840.0</td>\n",
              "      <td>1.01</td>\n",
              "      <td>3801.979980</td>\n",
              "      <td>6.27</td>\n",
              "      <td>6.33</td>\n",
              "      <td>63.000000</td>\n",
              "      <td>3.98790</td>\n",
              "    </tr>\n",
              "    <tr>\n",
              "      <th>20595</th>\n",
              "      <td>NONE</td>\n",
              "      <td>EX</td>\n",
              "      <td>RD</td>\n",
              "      <td>D</td>\n",
              "      <td>VS2</td>\n",
              "      <td>EX</td>\n",
              "      <td>EX</td>\n",
              "      <td>7535786</td>\n",
              "      <td>202207</td>\n",
              "      <td>8700.0</td>\n",
              "      <td>0.97</td>\n",
              "      <td>8969.070312</td>\n",
              "      <td>6.36</td>\n",
              "      <td>6.32</td>\n",
              "      <td>62.200001</td>\n",
              "      <td>3.93104</td>\n",
              "    </tr>\n",
              "    <tr>\n",
              "      <th>282754</th>\n",
              "      <td>NONE</td>\n",
              "      <td>EX</td>\n",
              "      <td>RD</td>\n",
              "      <td>D</td>\n",
              "      <td>VS2</td>\n",
              "      <td>EX</td>\n",
              "      <td>EX</td>\n",
              "      <td>14631732</td>\n",
              "      <td>202206</td>\n",
              "      <td>6650.0</td>\n",
              "      <td>0.90</td>\n",
              "      <td>7388.890137</td>\n",
              "      <td>6.13</td>\n",
              "      <td>6.18</td>\n",
              "      <td>61.700001</td>\n",
              "      <td>3.81306</td>\n",
              "    </tr>\n",
              "    <tr>\n",
              "      <th>71237</th>\n",
              "      <td>STG</td>\n",
              "      <td>EX</td>\n",
              "      <td>RD</td>\n",
              "      <td>G</td>\n",
              "      <td>VS1</td>\n",
              "      <td>EX</td>\n",
              "      <td>EX</td>\n",
              "      <td>12699310</td>\n",
              "      <td>202207</td>\n",
              "      <td>8220.0</td>\n",
              "      <td>1.09</td>\n",
              "      <td>7541.279785</td>\n",
              "      <td>6.55</td>\n",
              "      <td>6.60</td>\n",
              "      <td>62.000000</td>\n",
              "      <td>4.09200</td>\n",
              "    </tr>\n",
              "  </tbody>\n",
              "</table>\n",
              "<p>70832 rows × 16 columns</p>\n",
              "</div>\n",
              "      <button class=\"colab-df-convert\" onclick=\"convertToInteractive('df-586bf165-214e-45da-8f9e-7d88a273151c')\"\n",
              "              title=\"Convert this dataframe to an interactive table.\"\n",
              "              style=\"display:none;\">\n",
              "        \n",
              "  <svg xmlns=\"http://www.w3.org/2000/svg\" height=\"24px\"viewBox=\"0 0 24 24\"\n",
              "       width=\"24px\">\n",
              "    <path d=\"M0 0h24v24H0V0z\" fill=\"none\"/>\n",
              "    <path d=\"M18.56 5.44l.94 2.06.94-2.06 2.06-.94-2.06-.94-.94-2.06-.94 2.06-2.06.94zm-11 1L8.5 8.5l.94-2.06 2.06-.94-2.06-.94L8.5 2.5l-.94 2.06-2.06.94zm10 10l.94 2.06.94-2.06 2.06-.94-2.06-.94-.94-2.06-.94 2.06-2.06.94z\"/><path d=\"M17.41 7.96l-1.37-1.37c-.4-.4-.92-.59-1.43-.59-.52 0-1.04.2-1.43.59L10.3 9.45l-7.72 7.72c-.78.78-.78 2.05 0 2.83L4 21.41c.39.39.9.59 1.41.59.51 0 1.02-.2 1.41-.59l7.78-7.78 2.81-2.81c.8-.78.8-2.07 0-2.86zM5.41 20L4 18.59l7.72-7.72 1.47 1.35L5.41 20z\"/>\n",
              "  </svg>\n",
              "      </button>\n",
              "      \n",
              "  <style>\n",
              "    .colab-df-container {\n",
              "      display:flex;\n",
              "      flex-wrap:wrap;\n",
              "      gap: 12px;\n",
              "    }\n",
              "\n",
              "    .colab-df-convert {\n",
              "      background-color: #E8F0FE;\n",
              "      border: none;\n",
              "      border-radius: 50%;\n",
              "      cursor: pointer;\n",
              "      display: none;\n",
              "      fill: #1967D2;\n",
              "      height: 32px;\n",
              "      padding: 0 0 0 0;\n",
              "      width: 32px;\n",
              "    }\n",
              "\n",
              "    .colab-df-convert:hover {\n",
              "      background-color: #E2EBFA;\n",
              "      box-shadow: 0px 1px 2px rgba(60, 64, 67, 0.3), 0px 1px 3px 1px rgba(60, 64, 67, 0.15);\n",
              "      fill: #174EA6;\n",
              "    }\n",
              "\n",
              "    [theme=dark] .colab-df-convert {\n",
              "      background-color: #3B4455;\n",
              "      fill: #D2E3FC;\n",
              "    }\n",
              "\n",
              "    [theme=dark] .colab-df-convert:hover {\n",
              "      background-color: #434B5C;\n",
              "      box-shadow: 0px 1px 3px 1px rgba(0, 0, 0, 0.15);\n",
              "      filter: drop-shadow(0px 1px 2px rgba(0, 0, 0, 0.3));\n",
              "      fill: #FFFFFF;\n",
              "    }\n",
              "  </style>\n",
              "\n",
              "      <script>\n",
              "        const buttonEl =\n",
              "          document.querySelector('#df-586bf165-214e-45da-8f9e-7d88a273151c button.colab-df-convert');\n",
              "        buttonEl.style.display =\n",
              "          google.colab.kernel.accessAllowed ? 'block' : 'none';\n",
              "\n",
              "        async function convertToInteractive(key) {\n",
              "          const element = document.querySelector('#df-586bf165-214e-45da-8f9e-7d88a273151c');\n",
              "          const dataTable =\n",
              "            await google.colab.kernel.invokeFunction('convertToInteractive',\n",
              "                                                     [key], {});\n",
              "          if (!dataTable) return;\n",
              "\n",
              "          const docLinkHtml = 'Like what you see? Visit the ' +\n",
              "            '<a target=\"_blank\" href=https://colab.research.google.com/notebooks/data_table.ipynb>data table notebook</a>'\n",
              "            + ' to learn more about interactive tables.';\n",
              "          element.innerHTML = '';\n",
              "          dataTable['output_type'] = 'display_data';\n",
              "          await google.colab.output.renderOutput(dataTable, element);\n",
              "          const docLink = document.createElement('div');\n",
              "          docLink.innerHTML = docLinkHtml;\n",
              "          element.appendChild(docLink);\n",
              "        }\n",
              "      </script>\n",
              "    </div>\n",
              "  </div>\n",
              "  "
            ]
          },
          "metadata": {},
          "execution_count": 12
        }
      ]
    },
    {
      "cell_type": "code",
      "source": [],
      "metadata": {
        "id": "emmymr3ezdxP"
      },
      "execution_count": 12,
      "outputs": []
    },
    {
      "cell_type": "code",
      "source": [
        "stat = df_three.groupby('id')['price', 'carat', 'price_per_carat','depth_perc', 'x','y','z'].agg(np.std)\n",
        "stat.sort_values(by='depth_perc', ascending = False)\n",
        "#stat[stat['depth_perc'] < 0.5]"
      ],
      "metadata": {
        "colab": {
          "base_uri": "https://localhost:8080/",
          "height": 489
        },
        "id": "eKXm9tXFD9QV",
        "outputId": "ed6c69b1-3a05-4754-aac6-c5ce205b7aa9"
      },
      "execution_count": 13,
      "outputs": [
        {
          "output_type": "stream",
          "name": "stderr",
          "text": [
            "<ipython-input-13-3915861bee5a>:1: FutureWarning: Indexing with multiple keys (implicitly converted to a tuple of keys) will be deprecated, use a list instead.\n",
            "  stat = df_three.groupby('id')['price', 'carat', 'price_per_carat','depth_perc', 'x','y','z'].agg(np.std)\n"
          ]
        },
        {
          "output_type": "execute_result",
          "data": {
            "text/plain": [
              "                price     carat  price_per_carat  depth_perc         x  \\\n",
              "id                                                                       \n",
              "14408689   106.066017  0.070711       582.182281    1.909189  0.056568   \n",
              "14020956   236.713610  0.034641       525.141101    1.039230  0.005774   \n",
              "14104780   777.817459  0.021213       487.599844    0.848529  0.028284   \n",
              "14579436     0.000000  0.000000         0.000000    0.707107  0.035355   \n",
              "14057291     0.000000  0.000000         0.000000    0.636397  0.000000   \n",
              "...               ...       ...              ...         ...       ...   \n",
              "14580918   339.411255  0.000000       168.864212    0.000000  0.000000   \n",
              "13260650    56.568542  0.000000        62.161695    0.000000  0.000000   \n",
              "14580936   134.350288  0.000000       134.350288    0.000000  0.000000   \n",
              "14580938    98.994949  0.000000        98.994949    0.000000  0.000000   \n",
              "15161059  1598.061325  0.000000       887.813996    0.000000  0.000000   \n",
              "\n",
              "                 y         z  \n",
              "id                            \n",
              "14408689  0.154128  0.035355  \n",
              "14020956  0.069213  0.005774  \n",
              "14104780  0.057502  0.028284  \n",
              "14579436  0.072973  0.056568  \n",
              "14057291  0.034620  0.000000  \n",
              "...            ...       ...  \n",
              "14580918  0.000000  0.000000  \n",
              "13260650  0.000000  0.000000  \n",
              "14580936  0.000000  0.000000  \n",
              "14580938  0.000000  0.000000  \n",
              "15161059  0.000000  0.000000  \n",
              "\n",
              "[32825 rows x 7 columns]"
            ],
            "text/html": [
              "\n",
              "  <div id=\"df-5504c3a3-74f0-4051-81f3-2281c9ac36f2\">\n",
              "    <div class=\"colab-df-container\">\n",
              "      <div>\n",
              "<style scoped>\n",
              "    .dataframe tbody tr th:only-of-type {\n",
              "        vertical-align: middle;\n",
              "    }\n",
              "\n",
              "    .dataframe tbody tr th {\n",
              "        vertical-align: top;\n",
              "    }\n",
              "\n",
              "    .dataframe thead th {\n",
              "        text-align: right;\n",
              "    }\n",
              "</style>\n",
              "<table border=\"1\" class=\"dataframe\">\n",
              "  <thead>\n",
              "    <tr style=\"text-align: right;\">\n",
              "      <th></th>\n",
              "      <th>price</th>\n",
              "      <th>carat</th>\n",
              "      <th>price_per_carat</th>\n",
              "      <th>depth_perc</th>\n",
              "      <th>x</th>\n",
              "      <th>y</th>\n",
              "      <th>z</th>\n",
              "    </tr>\n",
              "    <tr>\n",
              "      <th>id</th>\n",
              "      <th></th>\n",
              "      <th></th>\n",
              "      <th></th>\n",
              "      <th></th>\n",
              "      <th></th>\n",
              "      <th></th>\n",
              "      <th></th>\n",
              "    </tr>\n",
              "  </thead>\n",
              "  <tbody>\n",
              "    <tr>\n",
              "      <th>14408689</th>\n",
              "      <td>106.066017</td>\n",
              "      <td>0.070711</td>\n",
              "      <td>582.182281</td>\n",
              "      <td>1.909189</td>\n",
              "      <td>0.056568</td>\n",
              "      <td>0.154128</td>\n",
              "      <td>0.035355</td>\n",
              "    </tr>\n",
              "    <tr>\n",
              "      <th>14020956</th>\n",
              "      <td>236.713610</td>\n",
              "      <td>0.034641</td>\n",
              "      <td>525.141101</td>\n",
              "      <td>1.039230</td>\n",
              "      <td>0.005774</td>\n",
              "      <td>0.069213</td>\n",
              "      <td>0.005774</td>\n",
              "    </tr>\n",
              "    <tr>\n",
              "      <th>14104780</th>\n",
              "      <td>777.817459</td>\n",
              "      <td>0.021213</td>\n",
              "      <td>487.599844</td>\n",
              "      <td>0.848529</td>\n",
              "      <td>0.028284</td>\n",
              "      <td>0.057502</td>\n",
              "      <td>0.028284</td>\n",
              "    </tr>\n",
              "    <tr>\n",
              "      <th>14579436</th>\n",
              "      <td>0.000000</td>\n",
              "      <td>0.000000</td>\n",
              "      <td>0.000000</td>\n",
              "      <td>0.707107</td>\n",
              "      <td>0.035355</td>\n",
              "      <td>0.072973</td>\n",
              "      <td>0.056568</td>\n",
              "    </tr>\n",
              "    <tr>\n",
              "      <th>14057291</th>\n",
              "      <td>0.000000</td>\n",
              "      <td>0.000000</td>\n",
              "      <td>0.000000</td>\n",
              "      <td>0.636397</td>\n",
              "      <td>0.000000</td>\n",
              "      <td>0.034620</td>\n",
              "      <td>0.000000</td>\n",
              "    </tr>\n",
              "    <tr>\n",
              "      <th>...</th>\n",
              "      <td>...</td>\n",
              "      <td>...</td>\n",
              "      <td>...</td>\n",
              "      <td>...</td>\n",
              "      <td>...</td>\n",
              "      <td>...</td>\n",
              "      <td>...</td>\n",
              "    </tr>\n",
              "    <tr>\n",
              "      <th>14580918</th>\n",
              "      <td>339.411255</td>\n",
              "      <td>0.000000</td>\n",
              "      <td>168.864212</td>\n",
              "      <td>0.000000</td>\n",
              "      <td>0.000000</td>\n",
              "      <td>0.000000</td>\n",
              "      <td>0.000000</td>\n",
              "    </tr>\n",
              "    <tr>\n",
              "      <th>13260650</th>\n",
              "      <td>56.568542</td>\n",
              "      <td>0.000000</td>\n",
              "      <td>62.161695</td>\n",
              "      <td>0.000000</td>\n",
              "      <td>0.000000</td>\n",
              "      <td>0.000000</td>\n",
              "      <td>0.000000</td>\n",
              "    </tr>\n",
              "    <tr>\n",
              "      <th>14580936</th>\n",
              "      <td>134.350288</td>\n",
              "      <td>0.000000</td>\n",
              "      <td>134.350288</td>\n",
              "      <td>0.000000</td>\n",
              "      <td>0.000000</td>\n",
              "      <td>0.000000</td>\n",
              "      <td>0.000000</td>\n",
              "    </tr>\n",
              "    <tr>\n",
              "      <th>14580938</th>\n",
              "      <td>98.994949</td>\n",
              "      <td>0.000000</td>\n",
              "      <td>98.994949</td>\n",
              "      <td>0.000000</td>\n",
              "      <td>0.000000</td>\n",
              "      <td>0.000000</td>\n",
              "      <td>0.000000</td>\n",
              "    </tr>\n",
              "    <tr>\n",
              "      <th>15161059</th>\n",
              "      <td>1598.061325</td>\n",
              "      <td>0.000000</td>\n",
              "      <td>887.813996</td>\n",
              "      <td>0.000000</td>\n",
              "      <td>0.000000</td>\n",
              "      <td>0.000000</td>\n",
              "      <td>0.000000</td>\n",
              "    </tr>\n",
              "  </tbody>\n",
              "</table>\n",
              "<p>32825 rows × 7 columns</p>\n",
              "</div>\n",
              "      <button class=\"colab-df-convert\" onclick=\"convertToInteractive('df-5504c3a3-74f0-4051-81f3-2281c9ac36f2')\"\n",
              "              title=\"Convert this dataframe to an interactive table.\"\n",
              "              style=\"display:none;\">\n",
              "        \n",
              "  <svg xmlns=\"http://www.w3.org/2000/svg\" height=\"24px\"viewBox=\"0 0 24 24\"\n",
              "       width=\"24px\">\n",
              "    <path d=\"M0 0h24v24H0V0z\" fill=\"none\"/>\n",
              "    <path d=\"M18.56 5.44l.94 2.06.94-2.06 2.06-.94-2.06-.94-.94-2.06-.94 2.06-2.06.94zm-11 1L8.5 8.5l.94-2.06 2.06-.94-2.06-.94L8.5 2.5l-.94 2.06-2.06.94zm10 10l.94 2.06.94-2.06 2.06-.94-2.06-.94-.94-2.06-.94 2.06-2.06.94z\"/><path d=\"M17.41 7.96l-1.37-1.37c-.4-.4-.92-.59-1.43-.59-.52 0-1.04.2-1.43.59L10.3 9.45l-7.72 7.72c-.78.78-.78 2.05 0 2.83L4 21.41c.39.39.9.59 1.41.59.51 0 1.02-.2 1.41-.59l7.78-7.78 2.81-2.81c.8-.78.8-2.07 0-2.86zM5.41 20L4 18.59l7.72-7.72 1.47 1.35L5.41 20z\"/>\n",
              "  </svg>\n",
              "      </button>\n",
              "      \n",
              "  <style>\n",
              "    .colab-df-container {\n",
              "      display:flex;\n",
              "      flex-wrap:wrap;\n",
              "      gap: 12px;\n",
              "    }\n",
              "\n",
              "    .colab-df-convert {\n",
              "      background-color: #E8F0FE;\n",
              "      border: none;\n",
              "      border-radius: 50%;\n",
              "      cursor: pointer;\n",
              "      display: none;\n",
              "      fill: #1967D2;\n",
              "      height: 32px;\n",
              "      padding: 0 0 0 0;\n",
              "      width: 32px;\n",
              "    }\n",
              "\n",
              "    .colab-df-convert:hover {\n",
              "      background-color: #E2EBFA;\n",
              "      box-shadow: 0px 1px 2px rgba(60, 64, 67, 0.3), 0px 1px 3px 1px rgba(60, 64, 67, 0.15);\n",
              "      fill: #174EA6;\n",
              "    }\n",
              "\n",
              "    [theme=dark] .colab-df-convert {\n",
              "      background-color: #3B4455;\n",
              "      fill: #D2E3FC;\n",
              "    }\n",
              "\n",
              "    [theme=dark] .colab-df-convert:hover {\n",
              "      background-color: #434B5C;\n",
              "      box-shadow: 0px 1px 3px 1px rgba(0, 0, 0, 0.15);\n",
              "      filter: drop-shadow(0px 1px 2px rgba(0, 0, 0, 0.3));\n",
              "      fill: #FFFFFF;\n",
              "    }\n",
              "  </style>\n",
              "\n",
              "      <script>\n",
              "        const buttonEl =\n",
              "          document.querySelector('#df-5504c3a3-74f0-4051-81f3-2281c9ac36f2 button.colab-df-convert');\n",
              "        buttonEl.style.display =\n",
              "          google.colab.kernel.accessAllowed ? 'block' : 'none';\n",
              "\n",
              "        async function convertToInteractive(key) {\n",
              "          const element = document.querySelector('#df-5504c3a3-74f0-4051-81f3-2281c9ac36f2');\n",
              "          const dataTable =\n",
              "            await google.colab.kernel.invokeFunction('convertToInteractive',\n",
              "                                                     [key], {});\n",
              "          if (!dataTable) return;\n",
              "\n",
              "          const docLinkHtml = 'Like what you see? Visit the ' +\n",
              "            '<a target=\"_blank\" href=https://colab.research.google.com/notebooks/data_table.ipynb>data table notebook</a>'\n",
              "            + ' to learn more about interactive tables.';\n",
              "          element.innerHTML = '';\n",
              "          dataTable['output_type'] = 'display_data';\n",
              "          await google.colab.output.renderOutput(dataTable, element);\n",
              "          const docLink = document.createElement('div');\n",
              "          docLink.innerHTML = docLinkHtml;\n",
              "          element.appendChild(docLink);\n",
              "        }\n",
              "      </script>\n",
              "    </div>\n",
              "  </div>\n",
              "  "
            ]
          },
          "metadata": {},
          "execution_count": 13
        }
      ]
    },
    {
      "cell_type": "code",
      "source": [
        "for x in ['price', 'carat', 'price_per_carat', 'depth_perc', 'x','y','z']:\n",
        "  print(f'std not null in {x}: {stat[stat[x] > 0].shape[0]}')"
      ],
      "metadata": {
        "colab": {
          "base_uri": "https://localhost:8080/"
        },
        "id": "LVUUhd7sKtqM",
        "outputId": "2f1bff60-0c30-4ed1-eda2-cf097986f9bf"
      },
      "execution_count": 14,
      "outputs": [
        {
          "output_type": "stream",
          "name": "stdout",
          "text": [
            "std not null in price: 28635\n",
            "std not null in carat: 10\n",
            "std not null in price_per_carat: 28638\n",
            "std not null in depth_perc: 20391\n",
            "std not null in x: 80\n",
            "std not null in y: 20404\n",
            "std not null in z: 82\n"
          ]
        }
      ]
    },
    {
      "cell_type": "code",
      "source": [
        "df_three_2 = df_three.copy()\n",
        "#странно что размер каменя изменился. Возможно другие измерения.поскольку x,y,z тоже изменяются\n",
        "carat_to_drop = stat[stat['carat'] > 0]\n",
        "df_three_2 = df_three_2[~df_three_2['id'].isin(carat_to_drop.index)]\n",
        "#изменение в %_глубине тоже странное, сочтем выбросом все что выше 0.6 стд\n",
        "depth_to_drop = stat[stat['depth_perc'] > 0.6]\n",
        "df_three_2 = df_three_2[~df_three_2['id'].isin(depth_to_drop.index)]\n",
        "#сколько % датасета мы убрали\n",
        "print(f\"removed: {round(1-df_three_2.sort_values(by='id').shape[0] / df_three.shape[0],3)*100}% of dataset\")\n",
        "#check how many dups \n",
        "print(f\"No dups values: {df_three_2.shape[0] - df_three_2.sort_values(by = 'date').drop_duplicates(subset = ['id'], keep='last').shape[0]}\")\n",
        "#filter values\n",
        "latest_idx = df_three_2.groupby('id')['date'].idxmax()\n",
        "#check if equal to dups\n",
        "print(f\"Cut values: {df_three_2.shape[0] - df_three_2.loc[latest_idx].shape[0]}\")\n",
        "#take the latest date\n",
        "df_three_2 = df_three_2.loc[latest_idx]"
      ],
      "metadata": {
        "id": "8CBLXN5ZOgJh",
        "outputId": "97b66bb2-a8af-4a5b-e38c-ea4792b62f3e",
        "colab": {
          "base_uri": "https://localhost:8080/"
        }
      },
      "execution_count": 15,
      "outputs": [
        {
          "output_type": "stream",
          "name": "stdout",
          "text": [
            "removed: 5.0% of dataset\n",
            "No dups values: 36243\n",
            "Cut values: 36243\n"
          ]
        }
      ]
    },
    {
      "cell_type": "code",
      "source": [],
      "metadata": {
        "id": "kl0Er4o9BbnL"
      },
      "execution_count": 15,
      "outputs": []
    },
    {
      "cell_type": "code",
      "source": [
        "#Соберем датасет, с обрезанием выбросов по iqr*1.5\n",
        "def iqr_cut(mydf, cols):\n",
        "  df_to_cut = mydf.copy()\n",
        "  for col in cols:\n",
        "    desc = df_to_cut[col].describe()\n",
        "    irq = desc['mean'] + (desc['75%']-desc['25%']) *1.5\n",
        "    df_to_cut = df_to_cut[df_to_cut[col] <= irq]\n",
        "  return df_to_cut\n",
        "\n",
        "\n",
        "df2 = pd.concat([df_one, df_three_2]).reset_index(drop=True)\n",
        "df3 = iqr_cut(df2, ['price','carat','price_per_carat'])"
      ],
      "metadata": {
        "id": "7B7H1XQLbqJN"
      },
      "execution_count": 46,
      "outputs": []
    },
    {
      "cell_type": "code",
      "source": [
        "#Отрисуем визуализацию\n",
        "check_df = df2.copy()\n",
        "for x in ['price', 'carat', 'price_per_carat', 'depth_perc', 'x','y','z']:\n",
        "  print('Current column:', x)\n",
        "  print(check_df[x].describe().apply(lambda x: round(x,2)))\n",
        "  plt.boxplot(check_df[x])\n",
        "  plt.show()\n"
      ],
      "metadata": {
        "id": "W3kOu4OFad0R",
        "outputId": "c4ccbe26-8498-46ab-9862-6b321525ef8e",
        "colab": {
          "base_uri": "https://localhost:8080/",
          "height": 1000
        }
      },
      "execution_count": 17,
      "outputs": [
        {
          "output_type": "stream",
          "name": "stdout",
          "text": [
            "Current column: price\n",
            "count    83744.00\n",
            "mean      6602.72\n",
            "std       3104.66\n",
            "min        920.00\n",
            "25%       4240.00\n",
            "50%       5900.00\n",
            "75%       8500.00\n",
            "max      18260.00\n",
            "Name: price, dtype: float64\n"
          ]
        },
        {
          "output_type": "display_data",
          "data": {
            "text/plain": [
              "<Figure size 432x288 with 1 Axes>"
            ],
            "image/png": "[encoded data removed]"
          },
          "metadata": {
            "needs_background": "light"
          }
        },
        {
          "output_type": "stream",
          "name": "stdout",
          "text": [
            "Current column: carat\n",
            "count    83744.00\n",
            "mean         1.07\n",
            "std          0.18\n",
            "min          0.81\n",
            "25%          1.00\n",
            "50%          1.01\n",
            "75%          1.08\n",
            "max          1.55\n",
            "Name: carat, dtype: float64\n"
          ]
        },
        {
          "output_type": "display_data",
          "data": {
            "text/plain": [
              "<Figure size 432x288 with 1 Axes>"
            ],
            "image/png": "[encoded data removed]"
          },
          "metadata": {
            "needs_background": "light"
          }
        },
        {
          "output_type": "stream",
          "name": "stdout",
          "text": [
            "Current column: price_per_carat\n",
            "count    83744.00\n",
            "mean      6034.48\n",
            "std       2330.19\n",
            "min       1135.80\n",
            "25%       4200.00\n",
            "50%       5653.47\n",
            "75%       7630.00\n",
            "max      11866.67\n",
            "Name: price_per_carat, dtype: float64\n"
          ]
        },
        {
          "output_type": "display_data",
          "data": {
            "text/plain": [
              "<Figure size 432x288 with 1 Axes>"
            ],
            "image/png": "[encoded data removed]"
          },
          "metadata": {
            "needs_background": "light"
          }
        },
        {
          "output_type": "stream",
          "name": "stdout",
          "text": [
            "Current column: depth_perc\n",
            "count    83744.00\n",
            "mean        64.07\n",
            "std          4.04\n",
            "min         56.00\n",
            "25%         62.00\n",
            "50%         62.80\n",
            "75%         64.50\n",
            "max         78.00\n",
            "Name: depth_perc, dtype: float64\n"
          ]
        },
        {
          "output_type": "display_data",
          "data": {
            "text/plain": [
              "<Figure size 432x288 with 1 Axes>"
            ],
            "image/png": "[encoded data removed]"
          },
          "metadata": {
            "needs_background": "light"
          }
        },
        {
          "output_type": "stream",
          "name": "stdout",
          "text": [
            "Current column: x\n",
            "count    83744.00\n",
            "mean         6.31\n",
            "std          0.52\n",
            "min          4.52\n",
            "25%          6.15\n",
            "50%          6.38\n",
            "75%          6.51\n",
            "max          7.62\n",
            "Name: x, dtype: float64\n"
          ]
        },
        {
          "output_type": "display_data",
          "data": {
            "text/plain": [
              "<Figure size 432x288 with 1 Axes>"
            ],
            "image/png": "[encoded data removed]"
          },
          "metadata": {
            "needs_background": "light"
          }
        },
        {
          "output_type": "stream",
          "name": "stdout",
          "text": [
            "Current column: y\n",
            "count    83744.00\n",
            "mean         4.03\n",
            "std          0.23\n",
            "min          2.84\n",
            "25%          3.90\n",
            "50%          4.00\n",
            "75%          4.07\n",
            "max          4.80\n",
            "Name: y, dtype: float64\n"
          ]
        },
        {
          "output_type": "display_data",
          "data": {
            "text/plain": [
              "<Figure size 432x288 with 1 Axes>"
            ],
            "image/png": "[encoded data removed]"
          },
          "metadata": {
            "needs_background": "light"
          }
        },
        {
          "output_type": "stream",
          "name": "stdout",
          "text": [
            "Current column: z\n",
            "count    83744.00\n",
            "mean         6.34\n",
            "std          0.46\n",
            "min          4.84\n",
            "25%          6.15\n",
            "50%          6.35\n",
            "75%          6.50\n",
            "max          8.46\n",
            "Name: z, dtype: float64\n"
          ]
        },
        {
          "output_type": "display_data",
          "data": {
            "text/plain": [
              "<Figure size 432x288 with 1 Axes>"
            ],
            "image/png": "[encoded data removed]"
          },
          "metadata": {
            "needs_background": "light"
          }
        }
      ]
    },
    {
      "cell_type": "code",
      "source": [
        "#df_one = df.query('...') \n",
        "#df_three = df.query('...') \n",
        "# Посчитайте дстандартное отклонение по нескольким полям,\n",
        "#  подумайте где оно должно равняться 0, а где меняться в каких-то разумных пределах\n",
        "\n",
        "# Удалите аномальные наблюдения\n",
        "#df_three = df_three.query('...').sort_values(by=['id','date'])\n",
        "\n",
        "#df_three = df_three.groupby('...').agg('l...').reset_index() #тепреь в качестве цены возьмем последнее значение по времени\n",
        "\n",
        "#df = pd.concat([df_one, df_three]).reset_index(drop=True) # соединяем результаты"
      ],
      "metadata": {
        "id": "uL1lalBa7AVS"
      },
      "execution_count": 18,
      "outputs": []
    },
    {
      "cell_type": "code",
      "source": [],
      "metadata": {
        "id": "SejAzgiezwwC"
      },
      "execution_count": 18,
      "outputs": []
    },
    {
      "cell_type": "code",
      "source": [
        "#df2.hist(bins=50,figsize=(20,10))\n",
        "#plt.show()"
      ],
      "metadata": {
        "id": "2Ci6heOEo1UK"
      },
      "execution_count": 19,
      "outputs": []
    },
    {
      "cell_type": "code",
      "source": [
        "#sns.pairplot(df2, diag_kind = 'kde')"
      ],
      "metadata": {
        "id": "TgwDpL3GYL3i"
      },
      "execution_count": 20,
      "outputs": []
    },
    {
      "cell_type": "code",
      "source": [
        "#plt.figure(figsize = (30,20))\n",
        "#sns.heatmap(df3.corr(),annot = True , cmap = 'coolwarm' )"
      ],
      "metadata": {
        "id": "bykkRohwgVxl"
      },
      "execution_count": 21,
      "outputs": []
    },
    {
      "cell_type": "markdown",
      "source": [
        "Видим корреляцию цены с размером камня и (ествественно) ценой за карат. чуть слабее крреляцию по размерам x,y,z."
      ],
      "metadata": {
        "id": "lVV83cWbsP1o"
      }
    },
    {
      "cell_type": "markdown",
      "source": [
        "Цены на бриллианты достаточно сильно меняются, попробуйте вычислить коэффициент инфляции и привести цены к последнему месяцу. Стоит учесть, что цены на все бриллианты не изменяются синхронно, то есть изменение в определенных группах может быть разным.\n",
        "\n",
        "*Определите эти группы и рассчитайте коэффициенты инфляции для каждой из них. Подправьте цены на эти коэффициенты и создайте новую переменную.*"
      ],
      "metadata": {
        "id": "NnsNVat_CIPB"
      }
    },
    {
      "cell_type": "code",
      "source": [],
      "metadata": {
        "id": "gju0N7hssDmE"
      },
      "execution_count": 21,
      "outputs": []
    },
    {
      "cell_type": "markdown",
      "source": [
        "### Задание 2: Модель"
      ],
      "metadata": {
        "id": "xuPhXT9aESGs"
      }
    },
    {
      "cell_type": "markdown",
      "source": [
        "Определите функцию потерь (MSE или MAE) и аргументируйте выбор.\n",
        "Попробуйте сделать baseline.\n",
        "Используйте LableEncoder для категориальных фичей и **постройте линейную модель**."
      ],
      "metadata": {
        "id": "v3OgAHMiExrW"
      }
    },
    {
      "cell_type": "code",
      "source": [],
      "metadata": {
        "id": "VbTQyunRpEvp"
      },
      "execution_count": 21,
      "outputs": []
    },
    {
      "cell_type": "code",
      "source": [
        "to_encode = ['fluor','symmetry',\t'shape',\t'color',\t'clarity',\t'polish', 'cut']\n",
        "\n",
        "def encode_me(df2, to_encode):\n",
        "  df3 = df2.copy()\n",
        "  df3 = pd.get_dummies(data=df3, columns=to_encode)\n",
        "  return df3"
      ],
      "metadata": {
        "id": "osdpwSM4iWAB"
      },
      "execution_count": 22,
      "outputs": []
    },
    {
      "cell_type": "code",
      "source": [],
      "metadata": {
        "id": "d_6D4OR4yVjx"
      },
      "execution_count": 22,
      "outputs": []
    },
    {
      "cell_type": "code",
      "source": [
        "def get_inf(df3):\n",
        "  categories = ['carat'] #определите по каким группам отпределять инфляцию (к примеру можно добавить каратную группу)\n",
        "\n",
        "  df_index = df3.groupby(['date'] + categories)[['price_per_carat']]\\\n",
        "              .mean()\\\n",
        "              .reset_index() # индекс цен\n",
        "\n",
        "  date_max = df_index.date.max()\n",
        "\n",
        "  df_index = df_index.merge(df_index.query('date == @date_max')[categories + ['price_per_carat']]\\\n",
        "                            .rename(columns={'price_per_carat': 'price_per_carat_max'}), \n",
        "                            on=categories, how='outer') # сопоставляем группы с максимальной датой\n",
        "  df_index\n",
        "  df_index['inflation'] = df_index['price_per_carat_max'] / df_index.price_per_carat # вычисляем инфляцию\n",
        "\n",
        "  df_with_inf = df3.merge(df_index[['date'] + categories + ['inflation']], \n",
        "                          on=['date'] + categories, how='left') # соединяем все в одной таблице\n",
        "\n",
        "  df_with_inf = df_with_inf.dropna(subset=['inflation']).sort_values(by='inflation')#[df_with_inf['inflation']>=0]\n",
        "\n",
        "  return df_with_inf\n",
        "  #df_with_inf#[df_with_inf['id']==14652500]['inflation']"
      ],
      "metadata": {
        "id": "nDKdDba4pA7M"
      },
      "execution_count": 54,
      "outputs": []
    },
    {
      "cell_type": "markdown",
      "source": [
        "Теперь попробуйте OHE или TargetEncoder (сравните их).\n",
        "\n",
        "Нормализуйте данные.\n",
        "\n",
        "Поработайте с пропусками (обратите внимание на то, что у fluor возможен пропуск значения, а возможно отсутствие флуоресценции)\n",
        "\n",
        "Покажите, насколько получилось улучшить результат."
      ],
      "metadata": {
        "id": "Z9kiKhHuFDUD"
      }
    },
    {
      "cell_type": "code",
      "source": [
        "def get_all_combs(ilist):\n",
        "  combinations = list((itertools.product(ilist, repeat=len(ilist))))\n",
        "  no_dups = set([tuple(set(x)) for x in combinations])\n",
        "  return no_dups"
      ],
      "metadata": {
        "id": "LeLrnXuepjjb"
      },
      "execution_count": 24,
      "outputs": []
    },
    {
      "cell_type": "code",
      "source": [
        "import itertools\n",
        "\n",
        "my_list = ['carat', 'price_per_carat', 'depth_perc', 'x','y','z']\n",
        "\n",
        "\n",
        "def my_linear(dataset, comb_cols = my_list):\n",
        "# Generate all possible combinations\n",
        "  min_val = 1000\n",
        "  min_comb = ['price', 'price_per_carat']\n",
        "  r2 = .5\n",
        "\n",
        "  combinations = get_all_combs(comb_cols)\n",
        "  for comb in combinations:\n",
        "    #dataset = get_inf(my_dataset)\n",
        "    cols_to_drop=list(comb)+['price']\n",
        "\n",
        "    y_valid, y_pred = my_model(dataset, cols_to_drop)\n",
        "\n",
        "    r2_val = r2_score(y_valid, y_pred)  \n",
        "    m = mean_absolute_error(y_valid, y_pred)\n",
        "\n",
        "    if m < min_val and r2_val > r2:\n",
        "      min_val = m\n",
        "      min_comb = comb\n",
        "      r2 = r2_val\n",
        "      print(\"Mean squared error:\", mean_squared_error(y_valid, y_pred))\n",
        "      print(\"Mean absolute error:\", mean_absolute_error(y_valid, y_pred))\n",
        "      print(\"R-squared score:\", r2_score(y_valid, y_pred))\n",
        "      print()\n",
        "  return(min_val, r2, min_comb, y_pred)\n",
        "    \n",
        "def my_model(dataset, cols_to_drop):\n",
        "  X = dataset.drop(columns=cols_to_drop)\n",
        "  y = dataset[\"price\"]\n",
        "\n",
        "  X_train, X_valid, y_train, y_valid = train_test_split(X, y, test_size=0.2, random_state=13)\n",
        "\n",
        "  scaler = StandardScaler() # Помните, что на тесте делаем только transform\n",
        "  X_train = scaler.fit_transform(X_train)\n",
        "  X_valid = scaler.transform(X_valid)\n",
        "\n",
        "  model_LR = LinearRegression()\n",
        "  model_LR.fit(X_train, y_train)\n",
        "\n",
        "  y_pred = model_LR.predict(X_valid)\n",
        "  return y_valid, y_pred\n",
        "\n"
      ],
      "metadata": {
        "id": "BEvWYr1uEKJU"
      },
      "execution_count": 63,
      "outputs": []
    },
    {
      "cell_type": "markdown",
      "source": [
        "Проверим разные комбинации чисельных признаков. Стоит отметить, что если бы мы не сделали обрезку выбросов по IQR*1.5 то модель была бы абсолютно бесполезна и предсказывала бы хуже чем r2=0.5"
      ],
      "metadata": {
        "id": "FTqHrJpR_SC3"
      }
    },
    {
      "cell_type": "code",
      "source": [
        "df4 = encode_me(df3, to_encode)\n",
        "my_inf = get_inf(df4)\n",
        "min_mae, min_r, min_col, y_pred = my_linear(my_inf)             \n",
        "print(f'mae: {min_mae}\\nr2: {min_r}\\ncolumns to drop: {min_col}')\n"
      ],
      "metadata": {
        "id": "9W6xc8A4v_pN",
        "outputId": "6cd98a28-2323-4d34-c9c9-f695aca2e997",
        "colab": {
          "base_uri": "https://localhost:8080/"
        }
      },
      "execution_count": 73,
      "outputs": [
        {
          "output_type": "stream",
          "name": "stdout",
          "text": [
            "Mean squared error: 153829.2290886689\n",
            "Mean absolute error: 261.83298194755184\n",
            "R-squared score: 0.9839440936384485\n"
          ]
        }
      ]
    },
    {
      "cell_type": "markdown",
      "source": [
        "Итак мы узнали, что на нашем датасете, наиболее точные предсказания дает регрессия, которая отбрасывает лишь столбец \"z\"."
      ],
      "metadata": {
        "id": "1S5sAn-uD5vG"
      }
    },
    {
      "cell_type": "code",
      "source": [
        "df4 = encode_me(df3, to_encode)\n",
        "my_inf = get_inf(df4)\n",
        "y_valid, y_pred = my_model(my_inf, ['z','price'])\n",
        "print(\"Mean squared error:\", mean_squared_error(y_valid, y_pred))\n",
        "print(\"Mean absolute error:\", mean_absolute_error(y_valid, y_pred))\n",
        "print(\"R-squared score:\", r2_score(y_valid, y_pred))\n"
      ],
      "metadata": {
        "id": "GMWianuj_sda"
      },
      "execution_count": null,
      "outputs": []
    },
    {
      "cell_type": "markdown",
      "source": [
        "Стоит отметить, что регрессия работала на обрезанном датасете - около 80к из 222222 значений\n",
        "К тому же не проводился полный отсев по столбцам полученным через OHE, поскольку колаб крашится от перегруза в цикле с подбором лучше результата. "
      ],
      "metadata": {
        "id": "Mnu6Q29_ET-y"
      }
    },
    {
      "cell_type": "markdown",
      "source": [],
      "metadata": {
        "id": "VdV9QqzAEmkQ"
      }
    },
    {
      "cell_type": "code",
      "source": [
        "from typing import Tuple, List\n",
        "\n",
        "\n",
        "def OHE(df: pd.DataFrame, columns: List[str]) -> Tuple[pd.DataFrame, List[str]]:\n",
        "    \"\"\"\n",
        "    Вместо это функции можно использовать и функционал pandas\n",
        "    \"\"\"\n",
        "    index = df.index\n",
        "    one = OneHotEncoder(sparse=False, categories='auto')\n",
        "    ohe = one.fit_transform(df[columns])\n",
        "    col_names = one.get_feature_names(input_features = columns)\n",
        "    df = df.drop(columns, axis=1)\n",
        "    df = df.reset_index(drop=True)\n",
        "    df = pd.concat([df, pd.DataFrame(ohe, columns=col_names)], axis = 1)\n",
        "    df = df.set_index(index)\n",
        "    return (df, col_names)\n"
      ],
      "metadata": {
        "id": "becHgg71Iria"
      },
      "execution_count": 215,
      "outputs": []
    },
    {
      "cell_type": "code",
      "source": [
        "min_com"
      ],
      "metadata": {
        "id": "Yi5rWRXRHj3d",
        "outputId": "a1fef2e0-1501-4e57-d8dc-b12fb070c05e",
        "colab": {
          "base_uri": "https://localhost:8080/"
        }
      },
      "execution_count": 228,
      "outputs": [
        {
          "output_type": "execute_result",
          "data": {
            "text/plain": [
              "('carat', 'carat', 'carat', 'carat', 'carat', 'y')"
            ]
          },
          "metadata": {},
          "execution_count": 228
        }
      ]
    },
    {
      "cell_type": "markdown",
      "source": [
        "Сравните работу выбранной вами линейной модели с KNN"
      ],
      "metadata": {
        "id": "tnJUqYqWoqgk"
      }
    },
    {
      "cell_type": "code",
      "source": [
        "from sklearn.neighbors import KNeighborsRegressor\n",
        "\n",
        "..."
      ],
      "metadata": {
        "id": "bhKgkdw5ou4A"
      },
      "execution_count": null,
      "outputs": []
    },
    {
      "cell_type": "markdown",
      "source": [
        "## Классификация"
      ],
      "metadata": {
        "id": "fLAsZpEeIsyk"
      }
    },
    {
      "cell_type": "markdown",
      "source": [
        "Загрузите датасет bodyPerformance\n",
        "\n",
        "Описание:\n",
        "\n",
        "https://www.kaggle.com/datasets/kukuroo3/body-performance-data"
      ],
      "metadata": {
        "id": "exzgWs8TGVwz"
      }
    },
    {
      "cell_type": "code",
      "source": [
        "#from google.colab import drive\n",
        "#drive.mount('/content/drive')\n",
        "\n",
        "#path = 'drive/MyDrive/'"
      ],
      "metadata": {
        "id": "HiRlpeObIw30"
      },
      "execution_count": null,
      "outputs": []
    },
    {
      "cell_type": "code",
      "source": [
        "df = pd.read_csv('https://raw.githubusercontent.com/Dimildizio/DS_course/main/shine-on-you/bodyPerformance.csv', index_col=0) #укажите свой путь"
      ],
      "metadata": {
        "id": "8icMo8BR8eJL"
      },
      "execution_count": null,
      "outputs": []
    },
    {
      "cell_type": "code",
      "source": [
        "df.head(20)"
      ],
      "metadata": {
        "id": "yKvrcXtB3AQf",
        "colab": {
          "base_uri": "https://localhost:8080/",
          "height": 708
        },
        "outputId": "333f938b-d3c0-4516-cd9a-6f9198555a1a"
      },
      "execution_count": null,
      "outputs": [
        {
          "output_type": "execute_result",
          "data": {
            "text/plain": [
              "     gender  height_cm  weight_kg  body fat_%  diastolic  systolic  gripForce  \\\n",
              "age                                                                             \n",
              "27.0      M      172.3      75.24        21.3       80.0     130.0       54.9   \n",
              "25.0      M      165.0      55.80        15.7       77.0     126.0       36.4   \n",
              "31.0      M      179.6      78.00        20.1       92.0     152.0       44.8   \n",
              "32.0      M      174.5      71.10        18.4       76.0     147.0       41.4   \n",
              "28.0      M      173.8      67.70        17.1       70.0     127.0       43.5   \n",
              "36.0      F      165.4      55.40        22.0       64.0     119.0       23.8   \n",
              "42.0      F      164.5      63.70        32.2       72.0     135.0       22.7   \n",
              "33.0      M      174.9      77.20        36.9       84.0     137.0       45.9   \n",
              "54.0      M      166.8      67.50        27.6       85.0     165.0       40.4   \n",
              "28.0      M      185.0      84.60        14.4       81.0     156.0       57.9   \n",
              "42.0      M      169.2      65.40        19.3       63.0     110.0       43.5   \n",
              "57.0      F      153.0      49.00        20.9       69.0     106.0       21.5   \n",
              "27.0      F      156.0      53.90        35.5       69.0     116.0       23.1   \n",
              "22.0      M      175.7      67.90        11.3       71.0     103.0       52.5   \n",
              "24.0      M      181.0      84.40        20.4       80.0     120.0       48.9   \n",
              "45.0      F      159.0      63.10        30.9       93.0     144.0       34.1   \n",
              "25.0      F      164.2      66.60        30.2       82.0     120.0       25.7   \n",
              "26.0      M      179.9      71.50         9.7       64.0     135.0       59.6   \n",
              "26.0      M      169.2      70.60        21.0       63.0     129.0       41.3   \n",
              "21.0      F      162.7      47.20        18.9       78.0     133.0       25.4   \n",
              "\n",
              "      sit and bend forward_cm  sit-ups counts  broad jump_cm class  \n",
              "age                                                                 \n",
              "27.0                     18.4            60.0          217.0     C  \n",
              "25.0                     16.3            53.0          229.0     A  \n",
              "31.0                     12.0            49.0          181.0     C  \n",
              "32.0                     15.2            53.0          219.0     B  \n",
              "28.0                     27.1            45.0          217.0     B  \n",
              "36.0                     21.0            27.0          153.0     B  \n",
              "42.0                      0.8            18.0          146.0     D  \n",
              "33.0                     12.3            42.0          234.0     B  \n",
              "54.0                     18.6            34.0          148.0     C  \n",
              "28.0                     12.1            55.0          213.0     B  \n",
              "42.0                     16.0            68.0          211.0     A  \n",
              "57.0                     30.0             0.0           90.0     D  \n",
              "27.0                     13.1            28.0          144.0     C  \n",
              "22.0                     19.2            55.0          232.0     C  \n",
              "24.0                      7.2            54.0          213.0     C  \n",
              "45.0                     19.0            30.0          155.0     A  \n",
              "25.0                     22.9            39.0          178.0     C  \n",
              "26.0                     17.8            61.0          239.0     A  \n",
              "26.0                     15.1            53.0          225.0     B  \n",
              "21.0                     20.5            36.0          137.0     B  "
            ],
            "text/html": [
              "\n",
              "  <div id=\"df-c363bde4-069a-47d4-afc7-20c8d774a8d1\">\n",
              "    <div class=\"colab-df-container\">\n",
              "      <div>\n",
              "<style scoped>\n",
              "    .dataframe tbody tr th:only-of-type {\n",
              "        vertical-align: middle;\n",
              "    }\n",
              "\n",
              "    .dataframe tbody tr th {\n",
              "        vertical-align: top;\n",
              "    }\n",
              "\n",
              "    .dataframe thead th {\n",
              "        text-align: right;\n",
              "    }\n",
              "</style>\n",
              "<table border=\"1\" class=\"dataframe\">\n",
              "  <thead>\n",
              "    <tr style=\"text-align: right;\">\n",
              "      <th></th>\n",
              "      <th>gender</th>\n",
              "      <th>height_cm</th>\n",
              "      <th>weight_kg</th>\n",
              "      <th>body fat_%</th>\n",
              "      <th>diastolic</th>\n",
              "      <th>systolic</th>\n",
              "      <th>gripForce</th>\n",
              "      <th>sit and bend forward_cm</th>\n",
              "      <th>sit-ups counts</th>\n",
              "      <th>broad jump_cm</th>\n",
              "      <th>class</th>\n",
              "    </tr>\n",
              "    <tr>\n",
              "      <th>age</th>\n",
              "      <th></th>\n",
              "      <th></th>\n",
              "      <th></th>\n",
              "      <th></th>\n",
              "      <th></th>\n",
              "      <th></th>\n",
              "      <th></th>\n",
              "      <th></th>\n",
              "      <th></th>\n",
              "      <th></th>\n",
              "      <th></th>\n",
              "    </tr>\n",
              "  </thead>\n",
              "  <tbody>\n",
              "    <tr>\n",
              "      <th>27.0</th>\n",
              "      <td>M</td>\n",
              "      <td>172.3</td>\n",
              "      <td>75.24</td>\n",
              "      <td>21.3</td>\n",
              "      <td>80.0</td>\n",
              "      <td>130.0</td>\n",
              "      <td>54.9</td>\n",
              "      <td>18.4</td>\n",
              "      <td>60.0</td>\n",
              "      <td>217.0</td>\n",
              "      <td>C</td>\n",
              "    </tr>\n",
              "    <tr>\n",
              "      <th>25.0</th>\n",
              "      <td>M</td>\n",
              "      <td>165.0</td>\n",
              "      <td>55.80</td>\n",
              "      <td>15.7</td>\n",
              "      <td>77.0</td>\n",
              "      <td>126.0</td>\n",
              "      <td>36.4</td>\n",
              "      <td>16.3</td>\n",
              "      <td>53.0</td>\n",
              "      <td>229.0</td>\n",
              "      <td>A</td>\n",
              "    </tr>\n",
              "    <tr>\n",
              "      <th>31.0</th>\n",
              "      <td>M</td>\n",
              "      <td>179.6</td>\n",
              "      <td>78.00</td>\n",
              "      <td>20.1</td>\n",
              "      <td>92.0</td>\n",
              "      <td>152.0</td>\n",
              "      <td>44.8</td>\n",
              "      <td>12.0</td>\n",
              "      <td>49.0</td>\n",
              "      <td>181.0</td>\n",
              "      <td>C</td>\n",
              "    </tr>\n",
              "    <tr>\n",
              "      <th>32.0</th>\n",
              "      <td>M</td>\n",
              "      <td>174.5</td>\n",
              "      <td>71.10</td>\n",
              "      <td>18.4</td>\n",
              "      <td>76.0</td>\n",
              "      <td>147.0</td>\n",
              "      <td>41.4</td>\n",
              "      <td>15.2</td>\n",
              "      <td>53.0</td>\n",
              "      <td>219.0</td>\n",
              "      <td>B</td>\n",
              "    </tr>\n",
              "    <tr>\n",
              "      <th>28.0</th>\n",
              "      <td>M</td>\n",
              "      <td>173.8</td>\n",
              "      <td>67.70</td>\n",
              "      <td>17.1</td>\n",
              "      <td>70.0</td>\n",
              "      <td>127.0</td>\n",
              "      <td>43.5</td>\n",
              "      <td>27.1</td>\n",
              "      <td>45.0</td>\n",
              "      <td>217.0</td>\n",
              "      <td>B</td>\n",
              "    </tr>\n",
              "    <tr>\n",
              "      <th>36.0</th>\n",
              "      <td>F</td>\n",
              "      <td>165.4</td>\n",
              "      <td>55.40</td>\n",
              "      <td>22.0</td>\n",
              "      <td>64.0</td>\n",
              "      <td>119.0</td>\n",
              "      <td>23.8</td>\n",
              "      <td>21.0</td>\n",
              "      <td>27.0</td>\n",
              "      <td>153.0</td>\n",
              "      <td>B</td>\n",
              "    </tr>\n",
              "    <tr>\n",
              "      <th>42.0</th>\n",
              "      <td>F</td>\n",
              "      <td>164.5</td>\n",
              "      <td>63.70</td>\n",
              "      <td>32.2</td>\n",
              "      <td>72.0</td>\n",
              "      <td>135.0</td>\n",
              "      <td>22.7</td>\n",
              "      <td>0.8</td>\n",
              "      <td>18.0</td>\n",
              "      <td>146.0</td>\n",
              "      <td>D</td>\n",
              "    </tr>\n",
              "    <tr>\n",
              "      <th>33.0</th>\n",
              "      <td>M</td>\n",
              "      <td>174.9</td>\n",
              "      <td>77.20</td>\n",
              "      <td>36.9</td>\n",
              "      <td>84.0</td>\n",
              "      <td>137.0</td>\n",
              "      <td>45.9</td>\n",
              "      <td>12.3</td>\n",
              "      <td>42.0</td>\n",
              "      <td>234.0</td>\n",
              "      <td>B</td>\n",
              "    </tr>\n",
              "    <tr>\n",
              "      <th>54.0</th>\n",
              "      <td>M</td>\n",
              "      <td>166.8</td>\n",
              "      <td>67.50</td>\n",
              "      <td>27.6</td>\n",
              "      <td>85.0</td>\n",
              "      <td>165.0</td>\n",
              "      <td>40.4</td>\n",
              "      <td>18.6</td>\n",
              "      <td>34.0</td>\n",
              "      <td>148.0</td>\n",
              "      <td>C</td>\n",
              "    </tr>\n",
              "    <tr>\n",
              "      <th>28.0</th>\n",
              "      <td>M</td>\n",
              "      <td>185.0</td>\n",
              "      <td>84.60</td>\n",
              "      <td>14.4</td>\n",
              "      <td>81.0</td>\n",
              "      <td>156.0</td>\n",
              "      <td>57.9</td>\n",
              "      <td>12.1</td>\n",
              "      <td>55.0</td>\n",
              "      <td>213.0</td>\n",
              "      <td>B</td>\n",
              "    </tr>\n",
              "    <tr>\n",
              "      <th>42.0</th>\n",
              "      <td>M</td>\n",
              "      <td>169.2</td>\n",
              "      <td>65.40</td>\n",
              "      <td>19.3</td>\n",
              "      <td>63.0</td>\n",
              "      <td>110.0</td>\n",
              "      <td>43.5</td>\n",
              "      <td>16.0</td>\n",
              "      <td>68.0</td>\n",
              "      <td>211.0</td>\n",
              "      <td>A</td>\n",
              "    </tr>\n",
              "    <tr>\n",
              "      <th>57.0</th>\n",
              "      <td>F</td>\n",
              "      <td>153.0</td>\n",
              "      <td>49.00</td>\n",
              "      <td>20.9</td>\n",
              "      <td>69.0</td>\n",
              "      <td>106.0</td>\n",
              "      <td>21.5</td>\n",
              "      <td>30.0</td>\n",
              "      <td>0.0</td>\n",
              "      <td>90.0</td>\n",
              "      <td>D</td>\n",
              "    </tr>\n",
              "    <tr>\n",
              "      <th>27.0</th>\n",
              "      <td>F</td>\n",
              "      <td>156.0</td>\n",
              "      <td>53.90</td>\n",
              "      <td>35.5</td>\n",
              "      <td>69.0</td>\n",
              "      <td>116.0</td>\n",
              "      <td>23.1</td>\n",
              "      <td>13.1</td>\n",
              "      <td>28.0</td>\n",
              "      <td>144.0</td>\n",
              "      <td>C</td>\n",
              "    </tr>\n",
              "    <tr>\n",
              "      <th>22.0</th>\n",
              "      <td>M</td>\n",
              "      <td>175.7</td>\n",
              "      <td>67.90</td>\n",
              "      <td>11.3</td>\n",
              "      <td>71.0</td>\n",
              "      <td>103.0</td>\n",
              "      <td>52.5</td>\n",
              "      <td>19.2</td>\n",
              "      <td>55.0</td>\n",
              "      <td>232.0</td>\n",
              "      <td>C</td>\n",
              "    </tr>\n",
              "    <tr>\n",
              "      <th>24.0</th>\n",
              "      <td>M</td>\n",
              "      <td>181.0</td>\n",
              "      <td>84.40</td>\n",
              "      <td>20.4</td>\n",
              "      <td>80.0</td>\n",
              "      <td>120.0</td>\n",
              "      <td>48.9</td>\n",
              "      <td>7.2</td>\n",
              "      <td>54.0</td>\n",
              "      <td>213.0</td>\n",
              "      <td>C</td>\n",
              "    </tr>\n",
              "    <tr>\n",
              "      <th>45.0</th>\n",
              "      <td>F</td>\n",
              "      <td>159.0</td>\n",
              "      <td>63.10</td>\n",
              "      <td>30.9</td>\n",
              "      <td>93.0</td>\n",
              "      <td>144.0</td>\n",
              "      <td>34.1</td>\n",
              "      <td>19.0</td>\n",
              "      <td>30.0</td>\n",
              "      <td>155.0</td>\n",
              "      <td>A</td>\n",
              "    </tr>\n",
              "    <tr>\n",
              "      <th>25.0</th>\n",
              "      <td>F</td>\n",
              "      <td>164.2</td>\n",
              "      <td>66.60</td>\n",
              "      <td>30.2</td>\n",
              "      <td>82.0</td>\n",
              "      <td>120.0</td>\n",
              "      <td>25.7</td>\n",
              "      <td>22.9</td>\n",
              "      <td>39.0</td>\n",
              "      <td>178.0</td>\n",
              "      <td>C</td>\n",
              "    </tr>\n",
              "    <tr>\n",
              "      <th>26.0</th>\n",
              "      <td>M</td>\n",
              "      <td>179.9</td>\n",
              "      <td>71.50</td>\n",
              "      <td>9.7</td>\n",
              "      <td>64.0</td>\n",
              "      <td>135.0</td>\n",
              "      <td>59.6</td>\n",
              "      <td>17.8</td>\n",
              "      <td>61.0</td>\n",
              "      <td>239.0</td>\n",
              "      <td>A</td>\n",
              "    </tr>\n",
              "    <tr>\n",
              "      <th>26.0</th>\n",
              "      <td>M</td>\n",
              "      <td>169.2</td>\n",
              "      <td>70.60</td>\n",
              "      <td>21.0</td>\n",
              "      <td>63.0</td>\n",
              "      <td>129.0</td>\n",
              "      <td>41.3</td>\n",
              "      <td>15.1</td>\n",
              "      <td>53.0</td>\n",
              "      <td>225.0</td>\n",
              "      <td>B</td>\n",
              "    </tr>\n",
              "    <tr>\n",
              "      <th>21.0</th>\n",
              "      <td>F</td>\n",
              "      <td>162.7</td>\n",
              "      <td>47.20</td>\n",
              "      <td>18.9</td>\n",
              "      <td>78.0</td>\n",
              "      <td>133.0</td>\n",
              "      <td>25.4</td>\n",
              "      <td>20.5</td>\n",
              "      <td>36.0</td>\n",
              "      <td>137.0</td>\n",
              "      <td>B</td>\n",
              "    </tr>\n",
              "  </tbody>\n",
              "</table>\n",
              "</div>\n",
              "      <button class=\"colab-df-convert\" onclick=\"convertToInteractive('df-c363bde4-069a-47d4-afc7-20c8d774a8d1')\"\n",
              "              title=\"Convert this dataframe to an interactive table.\"\n",
              "              style=\"display:none;\">\n",
              "        \n",
              "  <svg xmlns=\"http://www.w3.org/2000/svg\" height=\"24px\"viewBox=\"0 0 24 24\"\n",
              "       width=\"24px\">\n",
              "    <path d=\"M0 0h24v24H0V0z\" fill=\"none\"/>\n",
              "    <path d=\"M18.56 5.44l.94 2.06.94-2.06 2.06-.94-2.06-.94-.94-2.06-.94 2.06-2.06.94zm-11 1L8.5 8.5l.94-2.06 2.06-.94-2.06-.94L8.5 2.5l-.94 2.06-2.06.94zm10 10l.94 2.06.94-2.06 2.06-.94-2.06-.94-.94-2.06-.94 2.06-2.06.94z\"/><path d=\"M17.41 7.96l-1.37-1.37c-.4-.4-.92-.59-1.43-.59-.52 0-1.04.2-1.43.59L10.3 9.45l-7.72 7.72c-.78.78-.78 2.05 0 2.83L4 21.41c.39.39.9.59 1.41.59.51 0 1.02-.2 1.41-.59l7.78-7.78 2.81-2.81c.8-.78.8-2.07 0-2.86zM5.41 20L4 18.59l7.72-7.72 1.47 1.35L5.41 20z\"/>\n",
              "  </svg>\n",
              "      </button>\n",
              "      \n",
              "  <style>\n",
              "    .colab-df-container {\n",
              "      display:flex;\n",
              "      flex-wrap:wrap;\n",
              "      gap: 12px;\n",
              "    }\n",
              "\n",
              "    .colab-df-convert {\n",
              "      background-color: #E8F0FE;\n",
              "      border: none;\n",
              "      border-radius: 50%;\n",
              "      cursor: pointer;\n",
              "      display: none;\n",
              "      fill: #1967D2;\n",
              "      height: 32px;\n",
              "      padding: 0 0 0 0;\n",
              "      width: 32px;\n",
              "    }\n",
              "\n",
              "    .colab-df-convert:hover {\n",
              "      background-color: #E2EBFA;\n",
              "      box-shadow: 0px 1px 2px rgba(60, 64, 67, 0.3), 0px 1px 3px 1px rgba(60, 64, 67, 0.15);\n",
              "      fill: #174EA6;\n",
              "    }\n",
              "\n",
              "    [theme=dark] .colab-df-convert {\n",
              "      background-color: #3B4455;\n",
              "      fill: #D2E3FC;\n",
              "    }\n",
              "\n",
              "    [theme=dark] .colab-df-convert:hover {\n",
              "      background-color: #434B5C;\n",
              "      box-shadow: 0px 1px 3px 1px rgba(0, 0, 0, 0.15);\n",
              "      filter: drop-shadow(0px 1px 2px rgba(0, 0, 0, 0.3));\n",
              "      fill: #FFFFFF;\n",
              "    }\n",
              "  </style>\n",
              "\n",
              "      <script>\n",
              "        const buttonEl =\n",
              "          document.querySelector('#df-c363bde4-069a-47d4-afc7-20c8d774a8d1 button.colab-df-convert');\n",
              "        buttonEl.style.display =\n",
              "          google.colab.kernel.accessAllowed ? 'block' : 'none';\n",
              "\n",
              "        async function convertToInteractive(key) {\n",
              "          const element = document.querySelector('#df-c363bde4-069a-47d4-afc7-20c8d774a8d1');\n",
              "          const dataTable =\n",
              "            await google.colab.kernel.invokeFunction('convertToInteractive',\n",
              "                                                     [key], {});\n",
              "          if (!dataTable) return;\n",
              "\n",
              "          const docLinkHtml = 'Like what you see? Visit the ' +\n",
              "            '<a target=\"_blank\" href=https://colab.research.google.com/notebooks/data_table.ipynb>data table notebook</a>'\n",
              "            + ' to learn more about interactive tables.';\n",
              "          element.innerHTML = '';\n",
              "          dataTable['output_type'] = 'display_data';\n",
              "          await google.colab.output.renderOutput(dataTable, element);\n",
              "          const docLink = document.createElement('div');\n",
              "          docLink.innerHTML = docLinkHtml;\n",
              "          element.appendChild(docLink);\n",
              "        }\n",
              "      </script>\n",
              "    </div>\n",
              "  </div>\n",
              "  "
            ]
          },
          "metadata": {},
          "execution_count": 166
        }
      ]
    },
    {
      "cell_type": "code",
      "source": [
        "df[df.duplicated()]"
      ],
      "metadata": {
        "colab": {
          "base_uri": "https://localhost:8080/",
          "height": 112
        },
        "id": "mDs_V1xk8NNb",
        "outputId": "8a96a411-9c39-48fc-9163-68e57efdfbe0"
      },
      "execution_count": null,
      "outputs": [
        {
          "output_type": "execute_result",
          "data": {
            "text/plain": [
              "     gender  height_cm  weight_kg  body fat_%  diastolic  systolic  gripForce  \\\n",
              "age                                                                             \n",
              "27.0      F      157.0       49.1        30.7       70.0      86.0       27.7   \n",
              "\n",
              "      sit and bend forward_cm  sit-ups counts  broad jump_cm class  \n",
              "age                                                                 \n",
              "27.0                     19.7            51.0          167.0     A  "
            ],
            "text/html": [
              "\n",
              "  <div id=\"df-b9c4dd1a-c965-4a4d-8050-fdcbc2075caa\">\n",
              "    <div class=\"colab-df-container\">\n",
              "      <div>\n",
              "<style scoped>\n",
              "    .dataframe tbody tr th:only-of-type {\n",
              "        vertical-align: middle;\n",
              "    }\n",
              "\n",
              "    .dataframe tbody tr th {\n",
              "        vertical-align: top;\n",
              "    }\n",
              "\n",
              "    .dataframe thead th {\n",
              "        text-align: right;\n",
              "    }\n",
              "</style>\n",
              "<table border=\"1\" class=\"dataframe\">\n",
              "  <thead>\n",
              "    <tr style=\"text-align: right;\">\n",
              "      <th></th>\n",
              "      <th>gender</th>\n",
              "      <th>height_cm</th>\n",
              "      <th>weight_kg</th>\n",
              "      <th>body fat_%</th>\n",
              "      <th>diastolic</th>\n",
              "      <th>systolic</th>\n",
              "      <th>gripForce</th>\n",
              "      <th>sit and bend forward_cm</th>\n",
              "      <th>sit-ups counts</th>\n",
              "      <th>broad jump_cm</th>\n",
              "      <th>class</th>\n",
              "    </tr>\n",
              "    <tr>\n",
              "      <th>age</th>\n",
              "      <th></th>\n",
              "      <th></th>\n",
              "      <th></th>\n",
              "      <th></th>\n",
              "      <th></th>\n",
              "      <th></th>\n",
              "      <th></th>\n",
              "      <th></th>\n",
              "      <th></th>\n",
              "      <th></th>\n",
              "      <th></th>\n",
              "    </tr>\n",
              "  </thead>\n",
              "  <tbody>\n",
              "    <tr>\n",
              "      <th>27.0</th>\n",
              "      <td>F</td>\n",
              "      <td>157.0</td>\n",
              "      <td>49.1</td>\n",
              "      <td>30.7</td>\n",
              "      <td>70.0</td>\n",
              "      <td>86.0</td>\n",
              "      <td>27.7</td>\n",
              "      <td>19.7</td>\n",
              "      <td>51.0</td>\n",
              "      <td>167.0</td>\n",
              "      <td>A</td>\n",
              "    </tr>\n",
              "  </tbody>\n",
              "</table>\n",
              "</div>\n",
              "      <button class=\"colab-df-convert\" onclick=\"convertToInteractive('df-b9c4dd1a-c965-4a4d-8050-fdcbc2075caa')\"\n",
              "              title=\"Convert this dataframe to an interactive table.\"\n",
              "              style=\"display:none;\">\n",
              "        \n",
              "  <svg xmlns=\"http://www.w3.org/2000/svg\" height=\"24px\"viewBox=\"0 0 24 24\"\n",
              "       width=\"24px\">\n",
              "    <path d=\"M0 0h24v24H0V0z\" fill=\"none\"/>\n",
              "    <path d=\"M18.56 5.44l.94 2.06.94-2.06 2.06-.94-2.06-.94-.94-2.06-.94 2.06-2.06.94zm-11 1L8.5 8.5l.94-2.06 2.06-.94-2.06-.94L8.5 2.5l-.94 2.06-2.06.94zm10 10l.94 2.06.94-2.06 2.06-.94-2.06-.94-.94-2.06-.94 2.06-2.06.94z\"/><path d=\"M17.41 7.96l-1.37-1.37c-.4-.4-.92-.59-1.43-.59-.52 0-1.04.2-1.43.59L10.3 9.45l-7.72 7.72c-.78.78-.78 2.05 0 2.83L4 21.41c.39.39.9.59 1.41.59.51 0 1.02-.2 1.41-.59l7.78-7.78 2.81-2.81c.8-.78.8-2.07 0-2.86zM5.41 20L4 18.59l7.72-7.72 1.47 1.35L5.41 20z\"/>\n",
              "  </svg>\n",
              "      </button>\n",
              "      \n",
              "  <style>\n",
              "    .colab-df-container {\n",
              "      display:flex;\n",
              "      flex-wrap:wrap;\n",
              "      gap: 12px;\n",
              "    }\n",
              "\n",
              "    .colab-df-convert {\n",
              "      background-color: #E8F0FE;\n",
              "      border: none;\n",
              "      border-radius: 50%;\n",
              "      cursor: pointer;\n",
              "      display: none;\n",
              "      fill: #1967D2;\n",
              "      height: 32px;\n",
              "      padding: 0 0 0 0;\n",
              "      width: 32px;\n",
              "    }\n",
              "\n",
              "    .colab-df-convert:hover {\n",
              "      background-color: #E2EBFA;\n",
              "      box-shadow: 0px 1px 2px rgba(60, 64, 67, 0.3), 0px 1px 3px 1px rgba(60, 64, 67, 0.15);\n",
              "      fill: #174EA6;\n",
              "    }\n",
              "\n",
              "    [theme=dark] .colab-df-convert {\n",
              "      background-color: #3B4455;\n",
              "      fill: #D2E3FC;\n",
              "    }\n",
              "\n",
              "    [theme=dark] .colab-df-convert:hover {\n",
              "      background-color: #434B5C;\n",
              "      box-shadow: 0px 1px 3px 1px rgba(0, 0, 0, 0.15);\n",
              "      filter: drop-shadow(0px 1px 2px rgba(0, 0, 0, 0.3));\n",
              "      fill: #FFFFFF;\n",
              "    }\n",
              "  </style>\n",
              "\n",
              "      <script>\n",
              "        const buttonEl =\n",
              "          document.querySelector('#df-b9c4dd1a-c965-4a4d-8050-fdcbc2075caa button.colab-df-convert');\n",
              "        buttonEl.style.display =\n",
              "          google.colab.kernel.accessAllowed ? 'block' : 'none';\n",
              "\n",
              "        async function convertToInteractive(key) {\n",
              "          const element = document.querySelector('#df-b9c4dd1a-c965-4a4d-8050-fdcbc2075caa');\n",
              "          const dataTable =\n",
              "            await google.colab.kernel.invokeFunction('convertToInteractive',\n",
              "                                                     [key], {});\n",
              "          if (!dataTable) return;\n",
              "\n",
              "          const docLinkHtml = 'Like what you see? Visit the ' +\n",
              "            '<a target=\"_blank\" href=https://colab.research.google.com/notebooks/data_table.ipynb>data table notebook</a>'\n",
              "            + ' to learn more about interactive tables.';\n",
              "          element.innerHTML = '';\n",
              "          dataTable['output_type'] = 'display_data';\n",
              "          await google.colab.output.renderOutput(dataTable, element);\n",
              "          const docLink = document.createElement('div');\n",
              "          docLink.innerHTML = docLinkHtml;\n",
              "          element.appendChild(docLink);\n",
              "        }\n",
              "      </script>\n",
              "    </div>\n",
              "  </div>\n",
              "  "
            ]
          },
          "metadata": {},
          "execution_count": 171
        }
      ]
    },
    {
      "cell_type": "markdown",
      "source": [
        "### Задание 1: Определение гендера"
      ],
      "metadata": {
        "id": "mIT8KyvrGFI7"
      }
    },
    {
      "cell_type": "markdown",
      "source": [
        "Постройте модель, которая будет определять гендер."
      ],
      "metadata": {
        "id": "P7hR4HE2GOjH"
      }
    },
    {
      "cell_type": "markdown",
      "source": [
        "Для этого определите две метрики качества, на которые вы будете смотреть. Аргументируйте свой выбор.\n",
        "\n",
        "После чего преобразуйте категориальные переменные и постройте модель бинарной классификации на основе линейного классификатора и сравните с KNN.\n",
        "\n",
        "P.S.: не забудте про нормализацию."
      ],
      "metadata": {
        "id": "aAQJ1WhfGhQf"
      }
    },
    {
      "cell_type": "code",
      "source": [
        "from sklearn.neighbors import KNeighborsClassifier\n",
        "from sklearn.linear_model import LogisticRegression\n",
        "from sklearn import metrics\n",
        "X = df.drop(columns=[\"...\"])\n",
        "y = df[\"...\"]\n",
        "\n",
        "X_train, X_valid, y_train, y_valid = train_test_split(X, y, test_size=0.2, random_state=13)\n",
        "\n",
        "scaler = StandardScaler()"
      ],
      "metadata": {
        "id": "Mhj3I_MuBbFy"
      },
      "execution_count": null,
      "outputs": []
    },
    {
      "cell_type": "markdown",
      "source": [
        "### Задание 2: Определение класса"
      ],
      "metadata": {
        "id": "9m0SK6JzKHof"
      }
    },
    {
      "cell_type": "markdown",
      "source": [
        "Теперь опробуем построить модель, которая будет предсказывать class физической формы.\n",
        "\n",
        "Для этого определите метрики качества для задачи мультиклассификации (аргументируйте выбор).\n",
        "\n",
        "Постройте модель мультиклассовой классификации на основе линейного классификатора и сравните с KNN."
      ],
      "metadata": {
        "id": "s5Hge2C2JSxG"
      }
    },
    {
      "cell_type": "code",
      "source": [
        "X = df.drop(columns=[\"...\"]) # укажите новый таргет\n",
        "y = df[\"...\"]\n",
        "\n",
        "X_train, X_valid, y_train, y_valid = train_test_split(X, y, test_size=0.2, random_state=13)"
      ],
      "metadata": {
        "id": "dgvhCM7HKDWu"
      },
      "execution_count": null,
      "outputs": []
    },
    {
      "cell_type": "code",
      "source": [
        "..."
      ],
      "metadata": {
        "id": "mb2_B3ijrMJR"
      },
      "execution_count": null,
      "outputs": []
    }
  ]
}