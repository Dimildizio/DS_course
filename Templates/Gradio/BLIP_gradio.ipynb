{
  "cells": [
    {
      "cell_type": "markdown",
      "metadata": {
        "id": "view-in-github",
        "colab_type": "text"
      },
      "source": [
        "<a href=\"https://colab.research.google.com/github/Dimildizio/DS_course/blob/main/Templates/Gradio/BLIP_gradio.ipynb\" target=\"_parent\"><img src=\"https://colab.research.google.com/assets/colab-badge.svg\" alt=\"Open In Colab\"/></a>"
      ]
    },
    {
      "cell_type": "markdown",
      "id": "adf933f7",
      "metadata": {
        "id": "adf933f7"
      },
      "source": [
        "# L2: Image captioning app 🖼️📝"
      ]
    },
    {
      "cell_type": "markdown",
      "id": "2541e21e",
      "metadata": {
        "id": "2541e21e"
      },
      "source": [
        "## Building an image captioning app"
      ]
    },
    {
      "cell_type": "markdown",
      "id": "f1ca462d",
      "metadata": {
        "id": "f1ca462d"
      },
      "source": [
        "Here we'll be using an [Inference Endpoint](https://huggingface.co/inference-endpoints) for `Salesforce/blip-image-captioning-base` a 14M parameter captioning model."
      ]
    },
    {
      "cell_type": "markdown",
      "id": "b98cf3f7",
      "metadata": {
        "id": "b98cf3f7"
      },
      "source": [
        "The free images are available on: https://free-images.com/"
      ]
    },
    {
      "cell_type": "code",
      "execution_count": null,
      "id": "3471d1ed-41a0-473c-b3c7-99a9e14dffaf",
      "metadata": {
        "height": 166,
        "id": "3471d1ed-41a0-473c-b3c7-99a9e14dffaf"
      },
      "outputs": [],
      "source": [
        "!pip install torch torchvision transformers gradio\n",
        "\n",
        "import os\n",
        "import io\n",
        "import IPython.display\n",
        "from PIL import Image\n",
        "import base64\n",
        "#from dotenv import load_dotenv, find_dotenv\n",
        "from google.colab import userdata\n",
        "import torch\n",
        "from transformers import BlipProcessor, BlipForConditionalGeneration\n",
        "from PIL import Image\n",
        "import gradio as gr\n",
        "\n",
        "hf_api_key = userdata.get('hugging_face')"
      ]
    },
    {
      "cell_type": "code",
      "source": [
        "processor = BlipProcessor.from_pretrained(\"Salesforce/blip-image-captioning-base\")\n",
        "model = BlipForConditionalGeneration.from_pretrained(\"Salesforce/blip-image-captioning-base\")"
      ],
      "metadata": {
        "id": "sPd-vsC4Etxq"
      },
      "id": "sPd-vsC4Etxq",
      "execution_count": null,
      "outputs": []
    },
    {
      "cell_type": "code",
      "source": [],
      "metadata": {
        "id": "exjOsXAkFKkw"
      },
      "id": "exjOsXAkFKkw",
      "execution_count": 6,
      "outputs": []
    },
    {
      "cell_type": "code",
      "source": [
        "\n",
        "def image_to_base64_str(pil_image):\n",
        "    byte_arr = io.BytesIO()\n",
        "    pil_image.save(byte_arr, format='PNG')\n",
        "    byte_arr = byte_arr.getvalue()\n",
        "    return str(base64.b64encode(byte_arr).decode('utf-8'))\n",
        "\n",
        "def captioner(image):\n",
        "    # Process the image using the BLIP model\n",
        "    inputs = processor(image, return_tensors=\"pt\")\n",
        "    with torch.no_grad():\n",
        "        output_ids = model.generate(**inputs)\n",
        "    caption = processor.decode(output_ids[0], skip_special_tokens=True)\n",
        "    return caption"
      ],
      "metadata": {
        "id": "reiCzh4EFM4u"
      },
      "id": "reiCzh4EFM4u",
      "execution_count": 7,
      "outputs": []
    },
    {
      "cell_type": "code",
      "execution_count": 9,
      "id": "05896028-3b43-408e-a899-109bde9625e5",
      "metadata": {
        "height": 319,
        "colab": {
          "base_uri": "https://localhost:8080/",
          "height": 608
        },
        "id": "05896028-3b43-408e-a899-109bde9625e5",
        "outputId": "91716142-a591-47ae-f836-d7a5528078af"
      },
      "outputs": [
        {
          "output_type": "stream",
          "name": "stdout",
          "text": [
            "Closing server running on port: 7860\n",
            "Colab notebook detected. To show errors in colab notebook, set debug=True in launch()\n",
            "Running on public URL: https://3c64e871bb318b67a1.gradio.live\n",
            "\n",
            "This share link expires in 72 hours. For free permanent hosting and GPU upgrades, run `gradio deploy` from Terminal to deploy to Spaces (https://huggingface.co/spaces)\n"
          ]
        },
        {
          "output_type": "display_data",
          "data": {
            "text/plain": [
              "<IPython.core.display.HTML object>"
            ],
            "text/html": [
              "<div><iframe src=\"https://3c64e871bb318b67a1.gradio.live\" width=\"100%\" height=\"500\" allow=\"autoplay; camera; microphone; clipboard-read; clipboard-write;\" frameborder=\"0\" allowfullscreen></iframe></div>"
            ]
          },
          "metadata": {}
        },
        {
          "output_type": "execute_result",
          "data": {
            "text/plain": []
          },
          "metadata": {},
          "execution_count": 9
        }
      ],
      "source": [
        "gr.close_all()\n",
        "demo = gr.Interface(\n",
        "    fn=captioner,\n",
        "    inputs=[gr.Image(label=\"Upload image\", type=\"pil\")],\n",
        "    outputs=[gr.Textbox(label=\"Caption\")],\n",
        "    title=\"BLIP me, BLIP me my friend\",\n",
        "    description=\"Blip blop \",\n",
        "    allow_flagging=\"never\",\n",
        "    examples=[\"christ.jpg\", \"mast.png\"]\n",
        ")\n",
        "\n",
        "demo.launch(share=True, server_port=int(os.environ.get('PORT1', 7860)))"
      ]
    },
    {
      "cell_type": "code",
      "execution_count": null,
      "id": "505950a7-c516-4dcc-bb50-a0628e7b57b3",
      "metadata": {
        "height": 30,
        "id": "505950a7-c516-4dcc-bb50-a0628e7b57b3",
        "outputId": "6bf70d40-a115-43d9-bd28-31f52348c8bc"
      },
      "outputs": [
        {
          "name": "stdout",
          "output_type": "stream",
          "text": [
            "Closing server running on port: 7860\n"
          ]
        }
      ],
      "source": [
        "gr.close_all()"
      ]
    },
    {
      "cell_type": "code",
      "execution_count": null,
      "id": "43cf5022",
      "metadata": {
        "height": 30,
        "id": "43cf5022"
      },
      "outputs": [],
      "source": []
    }
  ],
  "metadata": {
    "kernelspec": {
      "display_name": "Python 3 (ipykernel)",
      "language": "python",
      "name": "python3"
    },
    "language_info": {
      "codemirror_mode": {
        "name": "ipython",
        "version": 3
      },
      "file_extension": ".py",
      "mimetype": "text/x-python",
      "name": "python",
      "nbconvert_exporter": "python",
      "pygments_lexer": "ipython3",
      "version": "3.9.19"
    },
    "colab": {
      "provenance": [],
      "include_colab_link": true
    }
  },
  "nbformat": 4,
  "nbformat_minor": 5
}