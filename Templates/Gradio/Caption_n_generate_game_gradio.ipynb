{
  "cells": [
    {
      "cell_type": "markdown",
      "metadata": {
        "id": "view-in-github",
        "colab_type": "text"
      },
      "source": [
        "<a href=\"https://colab.research.google.com/github/Dimildizio/DS_course/blob/main/Templates/Gradio/Caption_n_generate_game_gradio.ipynb\" target=\"_parent\"><img src=\"https://colab.research.google.com/assets/colab-badge.svg\" alt=\"Open In Colab\"/></a>"
      ]
    },
    {
      "cell_type": "markdown",
      "id": "6652a472",
      "metadata": {
        "id": "6652a472"
      },
      "source": [
        "# L4: Describe-and-Generate game 🖍️"
      ]
    },
    {
      "cell_type": "markdown",
      "id": "6b21aa74",
      "metadata": {
        "id": "6b21aa74"
      },
      "source": [
        "Load your HF API key and relevant Python libraries"
      ]
    },
    {
      "cell_type": "code",
      "execution_count": null,
      "id": "92f16527-fcab-41e0-bce8-634fae58b1b8",
      "metadata": {
        "height": 166,
        "id": "92f16527-fcab-41e0-bce8-634fae58b1b8"
      },
      "outputs": [],
      "source": [
        "import os\n",
        "import io\n",
        "from IPython.display import Image, display, HTML\n",
        "from PIL import Image\n",
        "import base64\n",
        "\n",
        "from dotenv import load_dotenv, find_dotenv\n",
        "_ = load_dotenv(find_dotenv()) # read local .env file\n",
        "hf_api_key = os.environ['HF_API_KEY']"
      ]
    },
    {
      "cell_type": "code",
      "execution_count": null,
      "id": "ac9eab7f-4013-42ec-b34e-b413b0f8adb6",
      "metadata": {
        "height": 302,
        "id": "ac9eab7f-4013-42ec-b34e-b413b0f8adb6"
      },
      "outputs": [],
      "source": [
        "#### Helper function\n",
        "import requests, json\n",
        "\n",
        "#Here we are going to call multiple endpoints!\n",
        "def get_completion(inputs, parameters=None, ENDPOINT_URL=\"\"):\n",
        "    headers = {\n",
        "      \"Authorization\": f\"Bearer {hf_api_key}\",\n",
        "      \"Content-Type\": \"application/json\"\n",
        "    }\n",
        "    data = { \"inputs\": inputs }\n",
        "    if parameters is not None:\n",
        "        data.update({\"parameters\": parameters})\n",
        "    response = requests.request(\"POST\",\n",
        "                                ENDPOINT_URL,\n",
        "                                headers=headers,\n",
        "                                data=json.dumps(data))\n",
        "    return json.loads(response.content.decode(\"utf-8\"))"
      ]
    },
    {
      "cell_type": "code",
      "execution_count": null,
      "id": "52cb1837",
      "metadata": {
        "height": 81,
        "id": "52cb1837"
      },
      "outputs": [],
      "source": [
        "#text-to-image\n",
        "TTI_ENDPOINT = os.environ['HF_API_TTI_BASE']\n",
        "#image-to-text\n",
        "ITT_ENDPOINT = os.environ['HF_API_ITT_BASE']"
      ]
    },
    {
      "cell_type": "markdown",
      "id": "b3f9c4d4",
      "metadata": {
        "id": "b3f9c4d4"
      },
      "source": [
        "## Building your game with `gr.Blocks()`"
      ]
    },
    {
      "cell_type": "code",
      "execution_count": null,
      "id": "76170d93-0de0-4359-8f13-3d1bcc41f86a",
      "metadata": {
        "height": 387,
        "id": "76170d93-0de0-4359-8f13-3d1bcc41f86a"
      },
      "outputs": [],
      "source": [
        "#Bringing the functions from lessons 3 and 4!\n",
        "def image_to_base64_str(pil_image):\n",
        "    byte_arr = io.BytesIO()\n",
        "    pil_image.save(byte_arr, format='PNG')\n",
        "    byte_arr = byte_arr.getvalue()\n",
        "    return str(base64.b64encode(byte_arr).decode('utf-8'))\n",
        "\n",
        "def base64_to_pil(img_base64):\n",
        "    base64_decoded = base64.b64decode(img_base64)\n",
        "    byte_stream = io.BytesIO(base64_decoded)\n",
        "    pil_image = Image.open(byte_stream)\n",
        "    return pil_image\n",
        "\n",
        "def captioner(image):\n",
        "    base64_image = image_to_base64_str(image)\n",
        "    result = get_completion(base64_image, None, ITT_ENDPOINT)\n",
        "    return result[0]['generated_text']\n",
        "\n",
        "def generate(prompt):\n",
        "    output = get_completion(prompt, None, TTI_ENDPOINT)\n",
        "    result_image = base64_to_pil(output)\n",
        "    return result_image"
      ]
    },
    {
      "cell_type": "markdown",
      "id": "bd1f3485",
      "metadata": {
        "id": "bd1f3485"
      },
      "source": [
        "### First attempt, just captioning"
      ]
    },
    {
      "cell_type": "code",
      "execution_count": null,
      "id": "64e403a9-bfcb-47e8-b741-743d5f4980fd",
      "metadata": {
        "height": 217,
        "id": "64e403a9-bfcb-47e8-b741-743d5f4980fd",
        "outputId": "8ecc738f-1d10-4534-9f9a-da149d641902"
      },
      "outputs": [
        {
          "name": "stderr",
          "output_type": "stream",
          "text": [
            "/usr/local/lib/python3.9/site-packages/gradio_client/documentation.py:105: UserWarning: Could not get documentation group for <class 'gradio.mix.Parallel'>: No known documentation group for module 'gradio.mix'\n",
            "  warnings.warn(f\"Could not get documentation group for {cls}: {exc}\")\n",
            "/usr/local/lib/python3.9/site-packages/gradio_client/documentation.py:105: UserWarning: Could not get documentation group for <class 'gradio.mix.Series'>: No known documentation group for module 'gradio.mix'\n",
            "  warnings.warn(f\"Could not get documentation group for {cls}: {exc}\")\n"
          ]
        },
        {
          "name": "stdout",
          "output_type": "stream",
          "text": [
            "Running on local URL:  https://0.0.0.0:7860\n",
            "IMPORTANT: You are using gradio version 3.37.0, however version 4.29.0 is available, please upgrade.\n",
            "--------\n",
            "\n",
            "Could not create share link. Missing file: /usr/local/lib/python3.9/site-packages/gradio/frpc_linux_amd64_v0.2. \n",
            "\n",
            "Please check your internet connection. This can happen if your antivirus software blocks the download of this file. You can install manually by following these steps: \n",
            "\n",
            "1. Download this file: https://cdn-media.huggingface.co/frpc-gradio-0.2/frpc_linux_amd64\n",
            "2. Rename the downloaded file to: frpc_linux_amd64_v0.2\n",
            "3. Move the file to this location: /usr/local/lib/python3.9/site-packages/gradio\n"
          ]
        },
        {
          "data": {
            "text/html": [
              "<div><iframe src=\"https://s172-30-128-24p7860.lab-aws-production.deeplearning.ai/\" width=\"100%\" height=\"500\" allow=\"autoplay; camera; microphone; clipboard-read; clipboard-write;\" frameborder=\"0\" allowfullscreen></iframe></div>"
            ],
            "text/plain": [
              "<IPython.core.display.HTML object>"
            ]
          },
          "metadata": {},
          "output_type": "display_data"
        },
        {
          "data": {
            "text/plain": []
          },
          "execution_count": 5,
          "metadata": {},
          "output_type": "execute_result"
        }
      ],
      "source": [
        "import gradio as gr\n",
        "with gr.Blocks() as demo:\n",
        "    gr.Markdown(\"# Describe-and-Generate game 🖍️\")\n",
        "    image_upload = gr.Image(label=\"Your first image\",type=\"pil\")\n",
        "    btn_caption = gr.Button(\"Generate caption\")\n",
        "    caption = gr.Textbox(label=\"Generated caption\")\n",
        "\n",
        "    btn_caption.click(fn=captioner, inputs=[image_upload], outputs=[caption])\n",
        "\n",
        "gr.close_all()\n",
        "demo.launch(share=True, server_port=int(os.environ['PORT1']))"
      ]
    },
    {
      "cell_type": "markdown",
      "id": "966cd4e8",
      "metadata": {
        "id": "966cd4e8"
      },
      "source": [
        "### Let's add generation"
      ]
    },
    {
      "cell_type": "code",
      "execution_count": null,
      "id": "c5ea9a93-9f97-43f8-86ca-2e8e4ea9dda8",
      "metadata": {
        "height": 234,
        "id": "c5ea9a93-9f97-43f8-86ca-2e8e4ea9dda8",
        "outputId": "86b9e896-bdc6-4579-8a69-2957363df369"
      },
      "outputs": [
        {
          "name": "stdout",
          "output_type": "stream",
          "text": [
            "Running on local URL:  https://0.0.0.0:7861\n",
            "IMPORTANT: You are using gradio version 3.37.0, however version 4.29.0 is available, please upgrade.\n",
            "--------\n",
            "\n",
            "Could not create share link. Missing file: /usr/local/lib/python3.9/site-packages/gradio/frpc_linux_amd64_v0.2. \n",
            "\n",
            "Please check your internet connection. This can happen if your antivirus software blocks the download of this file. You can install manually by following these steps: \n",
            "\n",
            "1. Download this file: https://cdn-media.huggingface.co/frpc-gradio-0.2/frpc_linux_amd64\n",
            "2. Rename the downloaded file to: frpc_linux_amd64_v0.2\n",
            "3. Move the file to this location: /usr/local/lib/python3.9/site-packages/gradio\n"
          ]
        },
        {
          "data": {
            "text/html": [
              "<div><iframe src=\"https://s172-30-128-24p7861.lab-aws-production.deeplearning.ai/\" width=\"100%\" height=\"500\" allow=\"autoplay; camera; microphone; clipboard-read; clipboard-write;\" frameborder=\"0\" allowfullscreen></iframe></div>"
            ],
            "text/plain": [
              "<IPython.core.display.HTML object>"
            ]
          },
          "metadata": {},
          "output_type": "display_data"
        },
        {
          "data": {
            "text/plain": []
          },
          "execution_count": 6,
          "metadata": {},
          "output_type": "execute_result"
        },
        {
          "name": "stderr",
          "output_type": "stream",
          "text": [
            "Traceback (most recent call last):\n",
            "  File \"/usr/local/lib/python3.9/site-packages/gradio/routes.py\", line 442, in run_predict\n",
            "    output = await app.get_blocks().process_api(\n",
            "  File \"/usr/local/lib/python3.9/site-packages/gradio/blocks.py\", line 1389, in process_api\n",
            "    result = await self.call_function(\n",
            "  File \"/usr/local/lib/python3.9/site-packages/gradio/blocks.py\", line 1094, in call_function\n",
            "    prediction = await anyio.to_thread.run_sync(\n",
            "  File \"/usr/local/lib/python3.9/site-packages/anyio/to_thread.py\", line 56, in run_sync\n",
            "    return await get_async_backend().run_sync_in_worker_thread(\n",
            "  File \"/usr/local/lib/python3.9/site-packages/anyio/_backends/_asyncio.py\", line 2144, in run_sync_in_worker_thread\n",
            "    return await future\n",
            "  File \"/usr/local/lib/python3.9/site-packages/anyio/_backends/_asyncio.py\", line 851, in run\n",
            "    result = context.run(func, *args)\n",
            "  File \"/usr/local/lib/python3.9/site-packages/gradio/utils.py\", line 704, in wrapper\n",
            "    response = f(*args, **kwargs)\n",
            "  File \"/tmp/ipykernel_21/410303824.py\", line 20, in generate\n",
            "    output = get_completion(prompt, None, TTI_ENDPOINT)\n",
            "  File \"/tmp/ipykernel_21/1544113.py\", line 17, in get_completion\n",
            "    return json.loads(response.content.decode(\"utf-8\"))\n",
            "  File \"/usr/local/lib/python3.9/json/__init__.py\", line 346, in loads\n",
            "    return _default_decoder.decode(s)\n",
            "  File \"/usr/local/lib/python3.9/json/decoder.py\", line 340, in decode\n",
            "    raise JSONDecodeError(\"Extra data\", s, end)\n",
            "json.decoder.JSONDecodeError: Extra data: line 1 column 5 (char 4)\n",
            "Traceback (most recent call last):\n",
            "  File \"/usr/local/lib/python3.9/site-packages/gradio/routes.py\", line 442, in run_predict\n",
            "    output = await app.get_blocks().process_api(\n",
            "  File \"/usr/local/lib/python3.9/site-packages/gradio/blocks.py\", line 1389, in process_api\n",
            "    result = await self.call_function(\n",
            "  File \"/usr/local/lib/python3.9/site-packages/gradio/blocks.py\", line 1094, in call_function\n",
            "    prediction = await anyio.to_thread.run_sync(\n",
            "  File \"/usr/local/lib/python3.9/site-packages/anyio/to_thread.py\", line 56, in run_sync\n",
            "    return await get_async_backend().run_sync_in_worker_thread(\n",
            "  File \"/usr/local/lib/python3.9/site-packages/anyio/_backends/_asyncio.py\", line 2144, in run_sync_in_worker_thread\n",
            "    return await future\n",
            "  File \"/usr/local/lib/python3.9/site-packages/anyio/_backends/_asyncio.py\", line 851, in run\n",
            "    result = context.run(func, *args)\n",
            "  File \"/usr/local/lib/python3.9/site-packages/gradio/utils.py\", line 704, in wrapper\n",
            "    response = f(*args, **kwargs)\n",
            "  File \"/tmp/ipykernel_21/410303824.py\", line 16, in captioner\n",
            "    result = get_completion(base64_image, None, ITT_ENDPOINT)\n",
            "  File \"/tmp/ipykernel_21/1544113.py\", line 17, in get_completion\n",
            "    return json.loads(response.content.decode(\"utf-8\"))\n",
            "  File \"/usr/local/lib/python3.9/json/__init__.py\", line 346, in loads\n",
            "    return _default_decoder.decode(s)\n",
            "  File \"/usr/local/lib/python3.9/json/decoder.py\", line 340, in decode\n",
            "    raise JSONDecodeError(\"Extra data\", s, end)\n",
            "json.decoder.JSONDecodeError: Extra data: line 1 column 5 (char 4)\n"
          ]
        }
      ],
      "source": [
        "with gr.Blocks() as demo:\n",
        "    gr.Markdown(\"# Describe-and-Generate game 🖍️\")\n",
        "    image_upload = gr.Image(label=\"Your first image\",type=\"pil\")\n",
        "    btn_caption = gr.Button(\"Generate caption\")\n",
        "    caption = gr.Textbox(label=\"Generated caption\")\n",
        "    btn_image = gr.Button(\"Generate image\")\n",
        "    image_output = gr.Image(label=\"Generated Image\")\n",
        "    btn_caption.click(fn=captioner, inputs=[image_upload], outputs=[caption])\n",
        "    btn_image.click(fn=generate, inputs=[caption], outputs=[image_output])\n",
        "\n",
        "gr.close_all()\n",
        "demo.launch(share=True, server_port=int(os.environ['PORT2']))"
      ]
    },
    {
      "cell_type": "markdown",
      "id": "22da53d1",
      "metadata": {
        "id": "22da53d1"
      },
      "source": [
        "### Doing it all at once"
      ]
    },
    {
      "cell_type": "code",
      "execution_count": null,
      "id": "024a4529-7f38-41fb-aab3-c38525b61abe",
      "metadata": {
        "height": 302,
        "id": "024a4529-7f38-41fb-aab3-c38525b61abe",
        "outputId": "b456cc9a-bde5-4524-f5c4-76b3e5878e0f"
      },
      "outputs": [
        {
          "name": "stdout",
          "output_type": "stream",
          "text": [
            "Running on local URL:  https://0.0.0.0:7862\n",
            "IMPORTANT: You are using gradio version 3.37.0, however version 4.29.0 is available, please upgrade.\n",
            "--------\n",
            "\n",
            "Could not create share link. Missing file: /usr/local/lib/python3.9/site-packages/gradio/frpc_linux_amd64_v0.2. \n",
            "\n",
            "Please check your internet connection. This can happen if your antivirus software blocks the download of this file. You can install manually by following these steps: \n",
            "\n",
            "1. Download this file: https://cdn-media.huggingface.co/frpc-gradio-0.2/frpc_linux_amd64\n",
            "2. Rename the downloaded file to: frpc_linux_amd64_v0.2\n",
            "3. Move the file to this location: /usr/local/lib/python3.9/site-packages/gradio\n"
          ]
        },
        {
          "data": {
            "text/html": [
              "<div><iframe src=\"https://s172-30-128-24p7862.lab-aws-production.deeplearning.ai/\" width=\"100%\" height=\"500\" allow=\"autoplay; camera; microphone; clipboard-read; clipboard-write;\" frameborder=\"0\" allowfullscreen></iframe></div>"
            ],
            "text/plain": [
              "<IPython.core.display.HTML object>"
            ]
          },
          "metadata": {},
          "output_type": "display_data"
        },
        {
          "data": {
            "text/plain": []
          },
          "execution_count": 7,
          "metadata": {},
          "output_type": "execute_result"
        },
        {
          "name": "stderr",
          "output_type": "stream",
          "text": [
            "Traceback (most recent call last):\n",
            "  File \"/usr/local/lib/python3.9/site-packages/gradio/routes.py\", line 442, in run_predict\n",
            "    output = await app.get_blocks().process_api(\n",
            "  File \"/usr/local/lib/python3.9/site-packages/gradio/blocks.py\", line 1389, in process_api\n",
            "    result = await self.call_function(\n",
            "  File \"/usr/local/lib/python3.9/site-packages/gradio/blocks.py\", line 1094, in call_function\n",
            "    prediction = await anyio.to_thread.run_sync(\n",
            "  File \"/usr/local/lib/python3.9/site-packages/anyio/to_thread.py\", line 56, in run_sync\n",
            "    return await get_async_backend().run_sync_in_worker_thread(\n",
            "  File \"/usr/local/lib/python3.9/site-packages/anyio/_backends/_asyncio.py\", line 2144, in run_sync_in_worker_thread\n",
            "    return await future\n",
            "  File \"/usr/local/lib/python3.9/site-packages/anyio/_backends/_asyncio.py\", line 851, in run\n",
            "    result = context.run(func, *args)\n",
            "  File \"/usr/local/lib/python3.9/site-packages/gradio/utils.py\", line 704, in wrapper\n",
            "    response = f(*args, **kwargs)\n",
            "  File \"/tmp/ipykernel_21/2185696710.py\", line 3, in caption_and_generate\n",
            "    image = generate(caption)\n",
            "  File \"/tmp/ipykernel_21/410303824.py\", line 20, in generate\n",
            "    output = get_completion(prompt, None, TTI_ENDPOINT)\n",
            "  File \"/tmp/ipykernel_21/1544113.py\", line 17, in get_completion\n",
            "    return json.loads(response.content.decode(\"utf-8\"))\n",
            "  File \"/usr/local/lib/python3.9/json/__init__.py\", line 346, in loads\n",
            "    return _default_decoder.decode(s)\n",
            "  File \"/usr/local/lib/python3.9/json/decoder.py\", line 340, in decode\n",
            "    raise JSONDecodeError(\"Extra data\", s, end)\n",
            "json.decoder.JSONDecodeError: Extra data: line 1 column 5 (char 4)\n"
          ]
        }
      ],
      "source": [
        "def caption_and_generate(image):\n",
        "    caption = captioner(image)\n",
        "    image = generate(caption)\n",
        "    return [caption, image]\n",
        "\n",
        "with gr.Blocks() as demo:\n",
        "    gr.Markdown(\"# Describe-and-Generate game 🖍️\")\n",
        "    image_upload = gr.Image(label=\"Your first image\",type=\"pil\")\n",
        "    btn_all = gr.Button(\"Caption and generate\")\n",
        "    caption = gr.Textbox(label=\"Generated caption\")\n",
        "    image_output = gr.Image(label=\"Generated Image\")\n",
        "\n",
        "    btn_all.click(fn=caption_and_generate, inputs=[image_upload], outputs=[caption, image_output])\n",
        "\n",
        "gr.close_all()\n",
        "demo.launch(share=True, server_port=int(os.environ['PORT3']))"
      ]
    },
    {
      "cell_type": "code",
      "execution_count": null,
      "id": "ba8bd128-fea1-4c92-8363-cdfba40aed8e",
      "metadata": {
        "height": 30,
        "id": "ba8bd128-fea1-4c92-8363-cdfba40aed8e"
      },
      "outputs": [],
      "source": [
        "gr.close_all()"
      ]
    },
    {
      "cell_type": "code",
      "execution_count": null,
      "id": "3dafaaa3-e48a-4625-a324-934fc37eaa58",
      "metadata": {
        "height": 30,
        "id": "3dafaaa3-e48a-4625-a324-934fc37eaa58"
      },
      "outputs": [],
      "source": []
    }
  ],
  "metadata": {
    "kernelspec": {
      "display_name": "Python 3 (ipykernel)",
      "language": "python",
      "name": "python3"
    },
    "language_info": {
      "codemirror_mode": {
        "name": "ipython",
        "version": 3
      },
      "file_extension": ".py",
      "mimetype": "text/x-python",
      "name": "python",
      "nbconvert_exporter": "python",
      "pygments_lexer": "ipython3",
      "version": "3.9.19"
    },
    "colab": {
      "provenance": [],
      "include_colab_link": true
    }
  },
  "nbformat": 4,
  "nbformat_minor": 5
}