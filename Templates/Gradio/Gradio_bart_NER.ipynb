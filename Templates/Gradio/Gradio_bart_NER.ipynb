{
  "cells": [
    {
      "cell_type": "markdown",
      "metadata": {
        "id": "view-in-github",
        "colab_type": "text"
      },
      "source": [
        "<a href=\"https://colab.research.google.com/github/Dimildizio/DS_course/blob/main/Templates/Gradio/Gradio_bart_NER.ipynb\" target=\"_parent\"><img src=\"https://colab.research.google.com/assets/colab-badge.svg\" alt=\"Open In Colab\"/></a>"
      ]
    },
    {
      "cell_type": "markdown",
      "id": "4b300d17",
      "metadata": {
        "id": "4b300d17"
      },
      "source": [
        "## Building a Named Entity Recognition app"
      ]
    },
    {
      "cell_type": "markdown",
      "id": "c0d1043f",
      "metadata": {
        "id": "c0d1043f"
      },
      "source": [
        "We are using this [Inference Endpoint](https://huggingface.co/inference-endpoints) for `dslim/bert-base-NER`, a 108M parameter fine-tuned BART model on the NER task."
      ]
    },
    {
      "cell_type": "markdown",
      "id": "f663dcbb",
      "metadata": {
        "id": "f663dcbb"
      },
      "source": [
        "### How about running it locally?\n",
        "\n",
        "```py\n",
        "from transformers import pipeline\n",
        "\n",
        "get_completion = pipeline(\"ner\", model=\"dslim/bert-base-NER\")\n",
        "\n",
        "def ner(input):\n",
        "    output = get_completion(input)\n",
        "    return {\"text\": input, \"entities\": output}\n",
        "    \n",
        "```"
      ]
    },
    {
      "cell_type": "code",
      "execution_count": null,
      "id": "0db4a922-b300-4dbc-8768-955b6a18dce4",
      "metadata": {
        "height": 81,
        "id": "0db4a922-b300-4dbc-8768-955b6a18dce4",
        "outputId": "20fab481-20e8-4b9a-c804-754f994276da"
      },
      "outputs": [
        {
          "data": {
            "text/plain": [
              "[{'entity': 'B-PER',\n",
              "  'score': 0.9990625,\n",
              "  'index': 4,\n",
              "  'word': 'Andrew',\n",
              "  'start': 11,\n",
              "  'end': 17},\n",
              " {'entity': 'B-ORG',\n",
              "  'score': 0.9927856,\n",
              "  'index': 10,\n",
              "  'word': 'Deep',\n",
              "  'start': 32,\n",
              "  'end': 36},\n",
              " {'entity': 'I-ORG',\n",
              "  'score': 0.99677867,\n",
              "  'index': 11,\n",
              "  'word': '##L',\n",
              "  'start': 36,\n",
              "  'end': 37},\n",
              " {'entity': 'I-ORG',\n",
              "  'score': 0.9954496,\n",
              "  'index': 12,\n",
              "  'word': '##ear',\n",
              "  'start': 37,\n",
              "  'end': 40},\n",
              " {'entity': 'I-ORG',\n",
              "  'score': 0.9959293,\n",
              "  'index': 13,\n",
              "  'word': '##ning',\n",
              "  'start': 40,\n",
              "  'end': 44},\n",
              " {'entity': 'I-ORG',\n",
              "  'score': 0.8917463,\n",
              "  'index': 14,\n",
              "  'word': '##A',\n",
              "  'start': 44,\n",
              "  'end': 45},\n",
              " {'entity': 'I-ORG',\n",
              "  'score': 0.5036118,\n",
              "  'index': 15,\n",
              "  'word': '##I',\n",
              "  'start': 45,\n",
              "  'end': 46},\n",
              " {'entity': 'B-LOC',\n",
              "  'score': 0.99969244,\n",
              "  'index': 20,\n",
              "  'word': 'California',\n",
              "  'start': 61,\n",
              "  'end': 71}]"
            ]
          },
          "execution_count": 7,
          "metadata": {},
          "output_type": "execute_result"
        }
      ],
      "source": [
        "API_URL = os.environ['HF_API_NER_BASE'] #NER endpoint\n",
        "text = \"My name is Andrew, I'm building DeepLearningAI and I live in California\"\n",
        "get_completion(text, parameters=None, ENDPOINT_URL= API_URL)"
      ]
    },
    {
      "cell_type": "markdown",
      "id": "bd5f60b3-bdf0-4b96-a387-7a48b9017ca7",
      "metadata": {
        "id": "bd5f60b3-bdf0-4b96-a387-7a48b9017ca7"
      },
      "source": [
        "#### gr.interface()\n",
        "- Notice below that we pass in a list `[]` to `inputs` and to `outputs` because the function `fn` (in this case, `ner()`, can take in more than one input and return more than one output.\n",
        "- The number of objects passed to `inputs` list should match the number of parameters that the `fn` function takes in, and the number of objects passed to the `outputs` list should match the number of objects returned by the `fn` function."
      ]
    },
    {
      "cell_type": "code",
      "execution_count": null,
      "id": "e5c21254-128d-446c-b6dd-e30af26d436d",
      "metadata": {
        "height": 268,
        "id": "e5c21254-128d-446c-b6dd-e30af26d436d",
        "outputId": "8d7ac90b-d6b8-4f52-c4ce-3a8ece73b26e"
      },
      "outputs": [
        {
          "name": "stdout",
          "output_type": "stream",
          "text": [
            "Closing server running on port: 7860\n",
            "Closing server running on port: 7861\n",
            "Closing server running on port: 7861\n",
            "Running on local URL:  https://0.0.0.0:7862\n",
            "IMPORTANT: You are using gradio version 3.37.0, however version 4.29.0 is available, please upgrade.\n",
            "--------\n",
            "\n",
            "Could not create share link. Missing file: /usr/local/lib/python3.9/site-packages/gradio/frpc_linux_amd64_v0.2. \n",
            "\n",
            "Please check your internet connection. This can happen if your antivirus software blocks the download of this file. You can install manually by following these steps: \n",
            "\n",
            "1. Download this file: https://cdn-media.huggingface.co/frpc-gradio-0.2/frpc_linux_amd64\n",
            "2. Rename the downloaded file to: frpc_linux_amd64_v0.2\n",
            "3. Move the file to this location: /usr/local/lib/python3.9/site-packages/gradio\n"
          ]
        },
        {
          "data": {
            "text/html": [
              "<div><iframe src=\"https://s172-30-117-5p7862.lab-aws-production.deeplearning.ai/\" width=\"100%\" height=\"500\" allow=\"autoplay; camera; microphone; clipboard-read; clipboard-write;\" frameborder=\"0\" allowfullscreen></iframe></div>"
            ],
            "text/plain": [
              "<IPython.core.display.HTML object>"
            ]
          },
          "metadata": {},
          "output_type": "display_data"
        },
        {
          "data": {
            "text/plain": []
          },
          "execution_count": 8,
          "metadata": {},
          "output_type": "execute_result"
        }
      ],
      "source": [
        "def ner(input):\n",
        "    output = get_completion(input, parameters=None, ENDPOINT_URL=API_URL)\n",
        "    return {\"text\": input, \"entities\": output}\n",
        "\n",
        "gr.close_all()\n",
        "demo = gr.Interface(fn=ner,\n",
        "                    inputs=[gr.Textbox(label=\"Text to find entities\", lines=2)],\n",
        "                    outputs=[gr.HighlightedText(label=\"Text with entities\")],\n",
        "                    title=\"NER with dslim/bert-base-NER\",\n",
        "                    description=\"Find entities using the `dslim/bert-base-NER` model under the hood!\",\n",
        "                    allow_flagging=\"never\",\n",
        "                    #Here we introduce a new tag, examples, easy to use examples for your application\n",
        "                    examples=[\"My name is Andrew and I live in California\", \"My name is Poli and work at HuggingFace\"])\n",
        "demo.launch(share=True, server_port=int(os.environ['PORT3']))"
      ]
    },
    {
      "cell_type": "markdown",
      "id": "60f16ad4",
      "metadata": {
        "id": "60f16ad4"
      },
      "source": [
        "### Adding a helper function to merge tokens"
      ]
    },
    {
      "cell_type": "code",
      "execution_count": null,
      "id": "4dc278e9-87b4-420b-89e9-7120dc4be754",
      "metadata": {
        "height": 540,
        "id": "4dc278e9-87b4-420b-89e9-7120dc4be754",
        "outputId": "cc8a8275-ae3d-4514-84ef-2503958162a8"
      },
      "outputs": [
        {
          "name": "stdout",
          "output_type": "stream",
          "text": [
            "Closing server running on port: 7860\n",
            "Closing server running on port: 7861\n",
            "Closing server running on port: 7861\n",
            "Closing server running on port: 7862\n",
            "Running on local URL:  https://0.0.0.0:7863\n",
            "IMPORTANT: You are using gradio version 3.37.0, however version 4.29.0 is available, please upgrade.\n",
            "--------\n",
            "\n",
            "Could not create share link. Missing file: /usr/local/lib/python3.9/site-packages/gradio/frpc_linux_amd64_v0.2. \n",
            "\n",
            "Please check your internet connection. This can happen if your antivirus software blocks the download of this file. You can install manually by following these steps: \n",
            "\n",
            "1. Download this file: https://cdn-media.huggingface.co/frpc-gradio-0.2/frpc_linux_amd64\n",
            "2. Rename the downloaded file to: frpc_linux_amd64_v0.2\n",
            "3. Move the file to this location: /usr/local/lib/python3.9/site-packages/gradio\n"
          ]
        },
        {
          "data": {
            "text/html": [
              "<div><iframe src=\"https://s172-30-117-5p7863.lab-aws-production.deeplearning.ai/\" width=\"100%\" height=\"500\" allow=\"autoplay; camera; microphone; clipboard-read; clipboard-write;\" frameborder=\"0\" allowfullscreen></iframe></div>"
            ],
            "text/plain": [
              "<IPython.core.display.HTML object>"
            ]
          },
          "metadata": {},
          "output_type": "display_data"
        },
        {
          "data": {
            "text/plain": []
          },
          "execution_count": 9,
          "metadata": {},
          "output_type": "execute_result"
        }
      ],
      "source": [
        "def merge_tokens(tokens):\n",
        "    merged_tokens = []\n",
        "    for token in tokens:\n",
        "        if merged_tokens and token['entity'].startswith('I-') and merged_tokens[-1]['entity'].endswith(token['entity'][2:]):\n",
        "            # If current token continues the entity of the last one, merge them\n",
        "            last_token = merged_tokens[-1]\n",
        "            last_token['word'] += token['word'].replace('##', '')\n",
        "            last_token['end'] = token['end']\n",
        "            last_token['score'] = (last_token['score'] + token['score']) / 2\n",
        "        else:\n",
        "            # Otherwise, add the token to the list\n",
        "            merged_tokens.append(token)\n",
        "\n",
        "    return merged_tokens\n",
        "\n",
        "def ner(input):\n",
        "    output = get_completion(input, parameters=None, ENDPOINT_URL=API_URL)\n",
        "    merged_tokens = merge_tokens(output)\n",
        "    return {\"text\": input, \"entities\": merged_tokens}\n",
        "\n",
        "gr.close_all()\n",
        "demo = gr.Interface(fn=ner,\n",
        "                    inputs=[gr.Textbox(label=\"Text to find entities\", lines=2)],\n",
        "                    outputs=[gr.HighlightedText(label=\"Text with entities\")],\n",
        "                    title=\"NER with dslim/bert-base-NER\",\n",
        "                    description=\"Find entities using the `dslim/bert-base-NER` model under the hood!\",\n",
        "                    allow_flagging=\"never\",\n",
        "                    examples=[\"My name is Andrew, I'm building DeeplearningAI and I live in California\", \"My name is Poli, I live in Vienna and work at HuggingFace\"])\n",
        "\n",
        "demo.launch(share=True, server_port=int(os.environ['PORT4']))"
      ]
    },
    {
      "cell_type": "code",
      "execution_count": null,
      "id": "3cccdb9b-0c3a-406e-95bc-106705aeb010",
      "metadata": {
        "height": 30,
        "id": "3cccdb9b-0c3a-406e-95bc-106705aeb010",
        "outputId": "0c68cde2-43ea-42cd-f81e-622c0c07eedd"
      },
      "outputs": [
        {
          "name": "stdout",
          "output_type": "stream",
          "text": [
            "Closing server running on port: 7863\n",
            "Closing server running on port: 7862\n",
            "Closing server running on port: 7861\n",
            "Closing server running on port: 7860\n",
            "Closing server running on port: 7861\n"
          ]
        }
      ],
      "source": [
        "gr.close_all()"
      ]
    },
    {
      "cell_type": "markdown",
      "id": "cac5cd66-b6c2-4a01-a06a-44ba0c4c7394",
      "metadata": {
        "id": "cac5cd66-b6c2-4a01-a06a-44ba0c4c7394"
      },
      "source": [
        "## How to get your own Hugging Face API key (token)\n",
        "\n",
        "Hugging Face \"API keys\" are called \"User Access tokens\".  \n",
        "\n",
        "You can create your own User Access Tokens here: [Access Tokens](https://huggingface.co/settings/tokens).\n",
        "\n",
        "#### Save your user access tokens to environment variables\n",
        "To save your access token securely on your own machine:\n",
        "- Create a `.env` file in the root directory of your project.\n",
        "- Edit the file to contain the following:  \n",
        "`HF_API_KEY=\"abc123\"` replace that string with your user access token.\n",
        "- Save the .env file.\n",
        "- Install Python-dotenv, which allows you to run that first code cell at the top of this jupyter notebook:  \n",
        "`pip install python-dotenv`\n",
        "\n",
        "\n",
        "For more information on how to get your own access tokens, please see [User access tokens](https://huggingface.co/docs/hub/security-tokens#:~:text=To%20create%20an%20access%20token,you're%20ready%20to%20go!)"
      ]
    },
    {
      "cell_type": "code",
      "execution_count": null,
      "id": "f7a5a409",
      "metadata": {
        "height": 30,
        "id": "f7a5a409"
      },
      "outputs": [],
      "source": []
    }
  ],
  "metadata": {
    "kernelspec": {
      "display_name": "Python 3 (ipykernel)",
      "language": "python",
      "name": "python3"
    },
    "language_info": {
      "codemirror_mode": {
        "name": "ipython",
        "version": 3
      },
      "file_extension": ".py",
      "mimetype": "text/x-python",
      "name": "python",
      "nbconvert_exporter": "python",
      "pygments_lexer": "ipython3",
      "version": "3.9.19"
    },
    "colab": {
      "provenance": [],
      "include_colab_link": true
    }
  },
  "nbformat": 4,
  "nbformat_minor": 5
}