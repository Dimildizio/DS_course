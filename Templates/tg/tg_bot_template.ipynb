{
  "nbformat": 4,
  "nbformat_minor": 0,
  "metadata": {
    "colab": {
      "provenance": [],
      "authorship_tag": "ABX9TyM0bOMy6zMKLiNlFS4hCDqi",
      "include_colab_link": true
    },
    "kernelspec": {
      "name": "python3",
      "display_name": "Python 3"
    },
    "language_info": {
      "name": "python"
    }
  },
  "cells": [
    {
      "cell_type": "markdown",
      "metadata": {
        "id": "view-in-github",
        "colab_type": "text"
      },
      "source": [
        "<a href=\"https://colab.research.google.com/github/Dimildizio/DS_course/blob/main/Templates/tg/tg_bot_template.ipynb\" target=\"_parent\"><img src=\"https://colab.research.google.com/assets/colab-badge.svg\" alt=\"Open In Colab\"/></a>"
      ]
    },
    {
      "cell_type": "markdown",
      "source": [
        "# TG bot template"
      ],
      "metadata": {
        "id": "UbRdPcohXsIG"
      }
    },
    {
      "cell_type": "markdown",
      "source": [
        "## Install libs"
      ],
      "metadata": {
        "id": "h-WdxLdDXp4d"
      }
    },
    {
      "cell_type": "code",
      "execution_count": 1,
      "metadata": {
        "id": "4B3h_dML2ZQN"
      },
      "outputs": [],
      "source": [
        "%%capture\n",
        "!pip install python-telegram-bot telebot aiogram"
      ]
    },
    {
      "cell_type": "markdown",
      "source": [
        "#### Install opencv"
      ],
      "metadata": {
        "id": "ggQhFSJKXj3d"
      }
    },
    {
      "cell_type": "code",
      "source": [
        "#for opencv\n",
        "%%capture\n",
        "!pip install opencv-python-headless"
      ],
      "metadata": {
        "id": "KdNSuviwXDt3"
      },
      "execution_count": 2,
      "outputs": []
    },
    {
      "cell_type": "code",
      "source": [
        "import cv2"
      ],
      "metadata": {
        "id": "upw19spVXJOf"
      },
      "execution_count": 3,
      "outputs": []
    },
    {
      "cell_type": "markdown",
      "source": [
        "## Imports"
      ],
      "metadata": {
        "id": "Kwm9orJAXn-9"
      }
    },
    {
      "cell_type": "code",
      "source": [
        "import asyncio\n",
        "import logging\n",
        "import io\n",
        "import numpy as np\n",
        "import os\n",
        "import telebot\n",
        "\n",
        "\n",
        "from aiogram import Bot, Dispatcher, types\n",
        "from aiogram.filters.command import Command\n",
        "from google.colab import userdata\n",
        "from PIL import Image"
      ],
      "metadata": {
        "id": "zCPwkrdZ6XgO"
      },
      "execution_count": 4,
      "outputs": []
    },
    {
      "cell_type": "markdown",
      "source": [
        "## Logging"
      ],
      "metadata": {
        "id": "9Lo0PhW7XWSt"
      }
    },
    {
      "cell_type": "code",
      "source": [
        "# Set up logging\n",
        "logging.basicConfig(format='%(asctime)s - %(name)s - %(levelname)s - %(message)s', level=logging.INFO)\n",
        "logger = logging.getLogger(__name__)"
      ],
      "metadata": {
        "id": "g8pHuot36ZZK"
      },
      "execution_count": 5,
      "outputs": []
    },
    {
      "cell_type": "code",
      "source": [
        "user_history = {}"
      ],
      "metadata": {
        "id": "2j4JwuORG37P"
      },
      "execution_count": 6,
      "outputs": []
    },
    {
      "cell_type": "code",
      "source": [
        "def log_user(message, photopath, result):\n",
        "  user_id = message.from_user.id\n",
        "  if user_id not in user_history:\n",
        "      user_history[user_id] = []\n",
        "\n",
        "  user_history[user_id].append({\n",
        "        'message_id': message.message_id,\n",
        "        'text': message.text,\n",
        "        'photo_path': photopath,\n",
        "        'result': result})"
      ],
      "metadata": {
        "id": "4UtQI0mrHj5w"
      },
      "execution_count": 7,
      "outputs": []
    },
    {
      "cell_type": "markdown",
      "source": [
        "## NN logic"
      ],
      "metadata": {
        "id": "6NjPa1rmXyM2"
      }
    },
    {
      "cell_type": "code",
      "source": [
        "def nn_logic(img): #substitute for real nn logic\n",
        "    img_cv = np.array(img)\n",
        "    img_cv = cv2.cvtColor(img_cv, cv2.COLOR_RGB2BGR)\n",
        "\n",
        "    gray = cv2.cvtColor(img_cv, cv2.COLOR_BGR2GRAY)\n",
        "\n",
        "    face_cascade = cv2.CascadeClassifier(cv2.data.haarcascades + 'haarcascade_frontalface_default.xml')\n",
        "    faces = face_cascade.detectMultiScale(gray, scaleFactor=1.3, minNeighbors=5, minSize=(30, 30))\n",
        "\n",
        "    for (x, y, w, h) in faces:\n",
        "        cv2.rectangle(img_cv, (x, y), (x + w, y + h), (0, 255, 0), 2)\n",
        "        font = cv2.FONT_HERSHEY_SIMPLEX\n",
        "        cv2.putText(img_cv, 'face', (x, y - 10), font, 0.9, (0, 255, 0), 2, cv2.LINE_AA)\n",
        "    img_pil = Image.fromarray(cv2.cvtColor(img_cv, cv2.COLOR_BGR2RGB))\n",
        "\n",
        "    return img_pil\n"
      ],
      "metadata": {
        "id": "9ZHPjL-qNqcX"
      },
      "execution_count": 8,
      "outputs": []
    },
    {
      "cell_type": "markdown",
      "source": [
        "## Bot logics"
      ],
      "metadata": {
        "id": "BfZ8jxpjX2Rm"
      }
    },
    {
      "cell_type": "markdown",
      "source": [
        "### Create bot"
      ],
      "metadata": {
        "id": "YtI-R_vDX-F0"
      }
    },
    {
      "cell_type": "code",
      "source": [
        "TOKEN = userdata.get('trybot')\n",
        "bot = telebot.TeleBot(TOKEN)"
      ],
      "metadata": {
        "id": "4F7mxqE29OsB"
      },
      "execution_count": 10,
      "outputs": []
    },
    {
      "cell_type": "markdown",
      "source": [
        "### Bot message handlers for photos"
      ],
      "metadata": {
        "id": "IYfcYARwX_XI"
      }
    },
    {
      "cell_type": "code",
      "source": [
        "@bot.message_handler(commands=['start'])\n",
        "def handle_start(message):\n",
        "    bot.send_message(message.chat.id, \"Welcome! Send me a photo, and I'll process it.\")\n",
        "\n",
        "@bot.message_handler(commands=['help'])\n",
        "def handle_help(message):\n",
        "    # Provide help information\n",
        "    help_message = (\n",
        "        \"This bot can only process photos. Here are the available commands:\\n\"\n",
        "        \"/start - Start the bot\\n\"\n",
        "        \"/help - Display this help message\\n\"\n",
        "        \"Send me a photo, and I'll process it!\"\n",
        "    )\n",
        "    bot.send_message(message.chat.id, help_message)\n",
        "\n",
        "@bot.message_handler(func=lambda message: True, content_types=['text'])\n",
        "def handle_text(message):\n",
        "    # Respond to other text messages\n",
        "    bot.send_message(message.chat.id, \"I can only process photos. Send me a photo to get started.\")\n"
      ],
      "metadata": {
        "id": "wt1iOsVAUsCC"
      },
      "execution_count": 12,
      "outputs": []
    },
    {
      "cell_type": "markdown",
      "source": [
        "### Bot photos handler"
      ],
      "metadata": {
        "id": "0ITOuS-wYM0L"
      }
    },
    {
      "cell_type": "code",
      "source": [
        "@bot.message_handler(content_types=['photo'])\n",
        "def handle_photo(message):\n",
        "  try:\n",
        "    photo_file = bot.get_file(message.photo[-1].file_id)\n",
        "    photo_path = bot.download_file(photo_file.file_path)\n",
        "    orig_photo, processed_photo_path = process_photo(photo_path)\n",
        "    log_user(message, orig_photo, processed_photo_path)\n",
        "    send_photo(message.chat.id, processed_photo_path)\n",
        "    logger.info(f\"Photo processed for user {message.from_user.id}\")\n",
        "  except Exception as e:\n",
        "    logger.error(f\"Error processing photo: {str(e)}\")\n",
        "\n",
        "def process_photo(photo_path):\n",
        "  orig_photo = 'input_photo.jpg'\n",
        "  processed_photo_path = 'temp.jpg'\n",
        "  photo = Image.open(io.BytesIO(photo_path))\n",
        "  photo.save(orig_photo)\n",
        "\n",
        "  processed_photo = nn_logic(photo)\n",
        "  processed_photo.save(processed_photo_path)\n",
        "\n",
        "  return orig_photo, processed_photo_path\n",
        "\n",
        "def send_photo(chat_id, photo):\n",
        "  bot.send_photo(chat_id, open(photo, 'rb'))\n",
        "  os.remove(photo)"
      ],
      "metadata": {
        "id": "qn7ixag1_jVX"
      },
      "execution_count": 13,
      "outputs": []
    },
    {
      "cell_type": "markdown",
      "source": [
        "## Run bot"
      ],
      "metadata": {
        "id": "kT1DVXAFeN_Z"
      }
    },
    {
      "cell_type": "code",
      "source": [
        "if __name__ == '__main__':\n",
        "  bot.polling()"
      ],
      "metadata": {
        "id": "ZibeM0sOJ4fU"
      },
      "execution_count": 15,
      "outputs": []
    },
    {
      "cell_type": "code",
      "source": [
        "user_history"
      ],
      "metadata": {
        "id": "LFlKthivPJE0",
        "outputId": "58a9f9f0-5b53-4047-8c0f-98eb5b74db94",
        "colab": {
          "base_uri": "https://localhost:8080/"
        }
      },
      "execution_count": 14,
      "outputs": [
        {
          "output_type": "execute_result",
          "data": {
            "text/plain": [
              "{}"
            ]
          },
          "metadata": {},
          "execution_count": 14
        }
      ]
    },
    {
      "cell_type": "markdown",
      "source": [
        "#Async approach"
      ],
      "metadata": {
        "id": "ji4HDZXNeRsQ"
      }
    }
  ]
}