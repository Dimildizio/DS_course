{
  "nbformat": 4,
  "nbformat_minor": 0,
  "metadata": {
    "colab": {
      "provenance": [],
      "authorship_tag": "ABX9TyPEJG3xxDTiFN7pluxjEyZk",
      "include_colab_link": true
    },
    "kernelspec": {
      "name": "python3",
      "display_name": "Python 3"
    },
    "language_info": {
      "name": "python"
    }
  },
  "cells": [
    {
      "cell_type": "markdown",
      "metadata": {
        "id": "view-in-github",
        "colab_type": "text"
      },
      "source": [
        "<a href=\"https://colab.research.google.com/github/Dimildizio/DS_course/blob/main/Templates/tg/tg_bot_template_async.ipynb\" target=\"_parent\"><img src=\"https://colab.research.google.com/assets/colab-badge.svg\" alt=\"Open In Colab\"/></a>"
      ]
    },
    {
      "cell_type": "code",
      "execution_count": 1,
      "metadata": {
        "id": "x3Q9Sj0WVDwJ"
      },
      "outputs": [],
      "source": [
        "%%capture\n",
        "!pip install aiogram"
      ]
    },
    {
      "cell_type": "markdown",
      "source": [
        "#Async approach"
      ],
      "metadata": {
        "id": "ji4HDZXNeRsQ"
      }
    },
    {
      "cell_type": "markdown",
      "source": [
        "## Imports"
      ],
      "metadata": {
        "id": "PpfNK55g-0XS"
      }
    },
    {
      "cell_type": "code",
      "source": [
        "import cv2\n",
        "import asyncio\n",
        "import logging\n",
        "import numpy as np\n",
        "\n",
        "from aiogram import F\n",
        "from aiogram import Bot, Dispatcher, types\n",
        "from aiogram.filters.command import Command\n",
        "from aiogram.types import FSInputFile, BufferedInputFile, Message\n",
        "from google.colab import userdata\n",
        "from PIL import Image, ImageDraw"
      ],
      "metadata": {
        "id": "e-52TBZH-1SW"
      },
      "execution_count": 10,
      "outputs": []
    },
    {
      "cell_type": "markdown",
      "source": [
        "## init bot and async"
      ],
      "metadata": {
        "id": "T-H-LL7-edMT"
      }
    },
    {
      "cell_type": "code",
      "source": [
        "TOKEN = userdata.get('trybot')"
      ],
      "metadata": {
        "id": "wKYEoCRsVcLn"
      },
      "execution_count": 3,
      "outputs": []
    },
    {
      "cell_type": "code",
      "source": [
        "iobot = Bot(token=TOKEN)\n",
        "dp = Dispatcher()\n",
        "user_history = {}"
      ],
      "metadata": {
        "id": "kfKM2QzlcAhX"
      },
      "execution_count": 4,
      "outputs": []
    },
    {
      "cell_type": "markdown",
      "source": [
        "### Set up logging"
      ],
      "metadata": {
        "id": "JltyudKxVkM2"
      }
    },
    {
      "cell_type": "code",
      "source": [
        "# Set up logging\n",
        "logging.basicConfig(format='%(asctime)s - %(name)s - %(levelname)s - %(message)s', level=logging.INFO)\n",
        "logger = logging.getLogger(__name__)"
      ],
      "metadata": {
        "id": "gCDXggAyVlVE"
      },
      "execution_count": 5,
      "outputs": []
    },
    {
      "cell_type": "code",
      "source": [
        "def log_user(message, photopath, result):\n",
        "  user_id = message.from_user.id\n",
        "  if user_id not in user_history:\n",
        "      user_history[user_id] = []\n",
        "\n",
        "  user_history[user_id].append({\n",
        "        'message_id': message.message_id,\n",
        "        'text': message.text,\n",
        "        'photo_path': photopath,\n",
        "        'result': result})"
      ],
      "metadata": {
        "id": "QfyrOM-FVl_P"
      },
      "execution_count": 6,
      "outputs": []
    },
    {
      "cell_type": "markdown",
      "source": [
        "## Handle messages"
      ],
      "metadata": {
        "id": "5s9-hklzegab"
      }
    },
    {
      "cell_type": "code",
      "source": [
        "@dp.message(Command('start'))\n",
        "async def handle_start(message):\n",
        "    await message.answer(\"Welcome! Send me a photo, and I'll process it.\")\n",
        "\n",
        "@dp.message(Command('help'))\n",
        "async def handle_help(message):\n",
        "    # Provide help information\n",
        "    help_message = (\n",
        "        \"This bot can only process photos. Here are the available commands:\\n\"\n",
        "        \"/start - Start the bot\\n\"\n",
        "        \"/help - Display this help message\\n\"\n",
        "        \"Send me a photo, and I'll process it!\"\n",
        "    )\n",
        "    await message.answer(help_message)"
      ],
      "metadata": {
        "id": "szlGoQP6dRAm"
      },
      "execution_count": 7,
      "outputs": []
    },
    {
      "cell_type": "code",
      "source": [
        "\n",
        "@dp.message(F.photo)\n",
        "async def handle_image(message: Message, bot: Bot):\n",
        "  try:\n",
        "    logger.info(f\"Processing image for user {message.from_user.id}\")\n",
        "\n",
        "    temp_file = f\"/tmp/{message.photo[-1].file_id}.jpg\"\n",
        "    new_file = f\"/tmp/{message.photo[-1].file_id}_modified.jpg\"\n",
        "\n",
        "    await bot.download(message.photo[-1], destination=temp_file)\n",
        "    await get_image(temp_file,new_file)\n",
        "\n",
        "    await message.answer_photo(\n",
        "        FSInputFile(new_file),\n",
        "        caption=\"Here is your processed image\")\n",
        "\n",
        "    log_user(message, temp_file, new_file)\n",
        "    logger.info(f\"Image processed successfully for user {message.from_user.id}\")\n",
        "  except Exception as e:\n",
        "    logger.error(f\"Error handling image for user {message.from_user.id}: {str(e)}\")"
      ],
      "metadata": {
        "id": "mXDYNQ-v3TKy"
      },
      "execution_count": 11,
      "outputs": []
    },
    {
      "cell_type": "code",
      "source": [
        "async def get_image(temp_file, new_file):\n",
        "    image = Image.open(temp_file)\n",
        "    img_cv = np.array(image)\n",
        "    img_cv = cv2.cvtColor(img_cv, cv2.COLOR_RGB2BGR)\n",
        "\n",
        "    gray = cv2.cvtColor(img_cv, cv2.COLOR_BGR2GRAY)\n",
        "\n",
        "    face_cascade = cv2.CascadeClassifier(cv2.data.haarcascades + 'haarcascade_frontalface_default.xml')\n",
        "    faces = face_cascade.detectMultiScale(gray, scaleFactor=1.3, minNeighbors=5, minSize=(30, 30))\n",
        "    for (x, y, w, h) in faces:\n",
        "        cv2.rectangle(img_cv, (x, y), (x + w, y + h), (0, 255, 0), 2)\n",
        "        font = cv2.FONT_HERSHEY_SIMPLEX\n",
        "        cv2.putText(img_cv, 'face', (x, y - 10), font, 0.9, (0, 255, 0), 2, cv2.LINE_AA)\n",
        "    image = Image.fromarray(cv2.cvtColor(img_cv, cv2.COLOR_BGR2RGB))\n",
        "    image.save(new_file)\n",
        "    return image"
      ],
      "metadata": {
        "id": "kOx9mGcAHGsW"
      },
      "execution_count": 12,
      "outputs": []
    },
    {
      "cell_type": "markdown",
      "source": [
        "## Run bot loop"
      ],
      "metadata": {
        "id": "mfmaBI9eejeB"
      }
    },
    {
      "cell_type": "code",
      "source": [
        "await dp.start_polling(iobot)"
      ],
      "metadata": {
        "colab": {
          "base_uri": "https://localhost:8080/"
        },
        "id": "7zVxDyWI43MB",
        "outputId": "fd595ed9-6918-4467-b000-58485514a401"
      },
      "execution_count": 13,
      "outputs": [
        {
          "output_type": "stream",
          "name": "stderr",
          "text": [
            "WARNING:aiogram.dispatcher:Received SIGINT signal\n"
          ]
        }
      ]
    }
  ]
}